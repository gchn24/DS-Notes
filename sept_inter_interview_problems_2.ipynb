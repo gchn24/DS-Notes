{
  "nbformat": 4,
  "nbformat_minor": 0,
  "metadata": {
    "colab": {
      "provenance": [],
      "include_colab_link": true
    },
    "kernelspec": {
      "name": "python3",
      "display_name": "Python 3"
    },
    "language_info": {
      "name": "python"
    }
  },
  "cells": [
    {
      "cell_type": "markdown",
      "metadata": {
        "id": "view-in-github",
        "colab_type": "text"
      },
      "source": [
        "<a href=\"https://colab.research.google.com/github/gchn24/DS-Notes/blob/main/sept_inter_interview_problems_2.ipynb\" target=\"_parent\"><img src=\"https://colab.research.google.com/assets/colab-badge.svg\" alt=\"Open In Colab\"/></a>"
      ]
    },
    {
      "cell_type": "code",
      "execution_count": null,
      "metadata": {
        "id": "8jGUVUFNzoVS"
      },
      "outputs": [],
      "source": [
        "#Man of the Match"
      ]
    },
    {
      "cell_type": "code",
      "source": [
        "'''\n",
        "A cricket coach records the performance of his players in every match. \n",
        "He stores their names, runs made by them, wickets taken, and balls played by them in the match.\n",
        "He then needs to calculate their strike rate and then decide which player is to be awarded man of the match.\n",
        "The strike rate is calculated by dividing the number of runs by the bowls played by the player.\n",
        "\n",
        "Criteria for the man of the match are as follows:\n",
        "\n",
        "Criteria1: If strike rate >(greater than) 4 and wickets >(greater than)2: Man of the match. --> 2 conditions\n",
        "\n",
        "Criteria2: If strike rate < 4 but >2 and wickets >4: Man of the match --> 3 conditoins: sr < 4 and sr > 2 and wickets > 4\n",
        "\n",
        "Return the final records and man of the match.\n",
        "\n",
        "Note: The performance which came later in the match and satisfies any one of \n",
        "the conditions for the man of the match will be given the award. \n",
        "The inputs are given in order of the time in the matches. i.e. Arun's performance came before Sanjay in the sample.\n",
        "\n",
        "\n",
        "t1: Arun 25 3 7\n",
        "t2: Nihal 50 5 12\n",
        "t3: Sanjay 10 4 3\n",
        "\n",
        "\n",
        "Expected Output\n",
        "\n",
        "({'Arun': [25, 3, 7], 'Nihal': [50, 5, 12], 'Sanjay': [10, 4, 3]}, 'Nihal')\n",
        "(records, manOfTheMatch)\n",
        "(dict, string)\n",
        "\n",
        "\n",
        "Steps1:\n",
        "Calc strike rate for every player - using runs and bowls palyed\n",
        "\n",
        "'''"
      ],
      "metadata": {
        "id": "B7vYnKvM1_UH"
      },
      "execution_count": null,
      "outputs": []
    },
    {
      "cell_type": "code",
      "source": [
        "def man_of_match(names, runs, wickets, bowls):\n",
        "    \n",
        "    records = {}\n",
        "    manOfTheMatch = \"NO one\"\n",
        "    strike_rate = []\n",
        "        \n",
        "    #no. of players\n",
        "    n = len(names)\n",
        "\n",
        "    for i in range(n): # --> TC: O(n)\n",
        "      strike_rate.append(round(runs[i]/bowls[i],2))\n",
        "    \n",
        "    #AJ1 - always check intermediate values before using them ahead\n",
        "\n",
        "    #find man of the match\n",
        "    for i in range(n): # --> O(n)\n",
        "      # Criteria1: If strike rate >(greater than) 4 and wickets >(greater than)2: Man of the match. --> 2 conditions\n",
        "      # Criteria2: If strike rate < 4 but >2 and wickets >4: Man of the match --> 3 conditoins: sr < 4 and sr > 2 and wickets > 4\n",
        "\n",
        "      '''\n",
        "      Unnecessary computations\n",
        "      if strike_rate[i] > 4 and wickets[i] > 2:\n",
        "        manOfTheMatch = names[i]\n",
        "      if strike_rate[i] < 4 and strike_rate[i] > 2 and wickets[i] > 4:\n",
        "        manOfTheMatch = names[i]\n",
        "\n",
        "      '''\n",
        "\n",
        "      if strike_rate[i] > 4 and wickets[i] > 2:\n",
        "        manOfTheMatch = names[i]\n",
        "      elif strike_rate[i] < 4 and strike_rate[i] > 2 and wickets[i] > 4:\n",
        "        manOfTheMatch = names[i]\n",
        "\n",
        "\n",
        "      #create a dictionary:\n",
        "    for i in range(n): # --> O(n)\n",
        "      key = names[i]\n",
        "      value = [runs[i], wickets[i], bowls[i]]\n",
        "      records[key] = value\n",
        "      #shift + tab - reverse indenet\n",
        "\n",
        "\n",
        "    return (records, manOfTheMatch)"
      ],
      "metadata": {
        "id": "ZtdGMa4G6K3u"
      },
      "execution_count": null,
      "outputs": []
    },
    {
      "cell_type": "code",
      "source": [
        "names = ['Arun', 'Nihal', 'Sanjay']\n",
        "runs = [25, 50 , 10]\n",
        "wickets = [3, 5, 4]\n",
        "bowls = [7, 12, 3]\n",
        "\n",
        "ans = man_of_match(names, runs, wickets, bowls)\n",
        "\n",
        "#TC --> O(n) + O(n) + O(n) --> O(n)\n",
        "\n",
        "print(ans)\n",
        "#tuple - (records, name)\n"
      ],
      "metadata": {
        "colab": {
          "base_uri": "https://localhost:8080/"
        },
        "id": "iuY6mfIU5CPt",
        "outputId": "9a4d8cfe-cf04-4f75-d54d-96110eaf9555"
      },
      "execution_count": null,
      "outputs": [
        {
          "output_type": "stream",
          "name": "stdout",
          "text": [
            "({'Arun': [25, 3, 7], 'Nihal': [50, 5, 12], 'Sanjay': [10, 4, 3]}, 'Nihal')\n"
          ]
        }
      ]
    },
    {
      "cell_type": "code",
      "source": [
        "({'Arun': [25, 3, 7], 'Nihal': [50, 5, 12], 'Sanjay': [10, 4, 3]}, 'Nihal')"
      ],
      "metadata": {
        "id": "gZF8FMkY72m8"
      },
      "execution_count": null,
      "outputs": []
    },
    {
      "cell_type": "code",
      "source": [
        "def man_of_match(names, runs, wickets, bowls):\n",
        "    \n",
        "    records = {}\n",
        "    manOfTheMatch = \"NO one\"\n",
        "        \n",
        "    #no. of players\n",
        "    n = len(names)\n",
        "\n",
        "    for i in range(n):\n",
        "      #calculate the strike rate of the ith player and check if the ith player is fitting into the MOM\n",
        "      strike_rate = round(runs[i]/bowls[i],2)\n",
        "\n",
        "      if strike_rate > 4 and wickets[i] > 2:\n",
        "        manOfTheMatch = names[i]\n",
        "      elif strike_rate < 4 and strike_rate > 2 and wickets[i] > 4:\n",
        "        manOfTheMatch = names[i]\n",
        "\n",
        "    \n",
        "    #AJ1 - always check intermediate values before using them ahead\n",
        "\n",
        "    #find man of the match\n",
        "    for i in range(n):\n",
        "      # Criteria1: If strike rate >(greater than) 4 and wickets >(greater than)2: Man of the match. --> 2 conditions\n",
        "      # Criteria2: If strike rate < 4 but >2 and wickets >4: Man of the match --> 3 conditoins: sr < 4 and sr > 2 and wickets > 4\n",
        "\n",
        "      '''\n",
        "      Unnecessary computations\n",
        "      if strike_rate[i] > 4 and wickets[i] > 2:\n",
        "        manOfTheMatch = names[i]\n",
        "      if strike_rate[i] < 4 and strike_rate[i] > 2 and wickets[i] > 4:\n",
        "        manOfTheMatch = names[i]\n",
        "\n",
        "      '''\n",
        "      \n",
        "      #create a dictionary:\n",
        "      for i in range(n):\n",
        "        key = names[i]\n",
        "        value = [runs[i], wickets[i], bowls[i]]\n",
        "        records[key] = value\n",
        "\n",
        "\n",
        "    return (records, manOfTheMatch)"
      ],
      "metadata": {
        "id": "QS_6AQG2AhtD"
      },
      "execution_count": null,
      "outputs": []
    },
    {
      "cell_type": "code",
      "source": [
        "'''\n",
        "AJ'S DOUBT - Can you further reduce down the comparisons (un-necessary) in any way? Code - 1\n",
        "'''"
      ],
      "metadata": {
        "colab": {
          "base_uri": "https://localhost:8080/",
          "height": 36
        },
        "id": "n6ExChtYCHrU",
        "outputId": "6e0e3967-a886-4423-ae20-b8ac8dda3d66"
      },
      "execution_count": null,
      "outputs": [
        {
          "output_type": "execute_result",
          "data": {
            "text/plain": [
              "\"\\nAJ'S DOUBT - Can you further reduce down the comparisons (un-necessary) in any way? Code - 1\\n\""
            ],
            "application/vnd.google.colaboratory.intrinsic+json": {
              "type": "string"
            }
          },
          "metadata": {},
          "execution_count": 13
        }
      ]
    },
    {
      "cell_type": "code",
      "source": [
        "# 8: 20"
      ],
      "metadata": {
        "id": "-Ixr_b99Cec1"
      },
      "execution_count": null,
      "outputs": []
    },
    {
      "cell_type": "code",
      "source": [
        "#final clean code\n",
        "def man_of_match(names, runs, wickets, bowls):\n",
        "    \n",
        "    records = {}\n",
        "    manOfTheMatch = \"NO one\"\n",
        "    strike_rate = []      \n",
        "    n = len(names)\n",
        "\n",
        "    for i in range(n): # --> TC: O(n)\n",
        "      strike_rate.append(round(runs[i]/bowls[i],2))\n",
        "    \n",
        "    \n",
        "    for i in range(n): # --> O(n)\n",
        "      if strike_rate[i] > 4 and wickets[i] > 2:\n",
        "        manOfTheMatch = names[i]\n",
        "      elif strike_rate[i] < 4 and strike_rate[i] > 2 and wickets[i] > 4:\n",
        "        manOfTheMatch = names[i]\n",
        "\n",
        "    for i in range(n): # --> O(n)\n",
        "      key = names[i]\n",
        "      value = [runs[i], wickets[i], bowls[i]]\n",
        "      records[key] = value\n",
        "\n",
        "    return (records, manOfTheMatch)"
      ],
      "metadata": {
        "id": "vgrV0NfRD7Sw"
      },
      "execution_count": null,
      "outputs": []
    },
    {
      "cell_type": "code",
      "source": [
        "'''\n",
        "Q2:\n",
        "Given a list (a) of size n, construct another list of size n --> prod\n",
        "such that\n",
        "prod[i] = product of all the elements of the list 'a' execept a[i]\n",
        "\n",
        "Constraints:\n",
        "0 <= a[i] <= 1000\n",
        "\n",
        "\n",
        "Example1: \n",
        "a = [1,3,2,4]\n",
        "output: prod = []\n",
        "'''"
      ],
      "metadata": {
        "colab": {
          "base_uri": "https://localhost:8080/",
          "height": 71
        },
        "id": "7XJEqjRyFgb5",
        "outputId": "ac057c58-bc44-4af6-a649-69789e85effc"
      },
      "execution_count": null,
      "outputs": [
        {
          "output_type": "execute_result",
          "data": {
            "text/plain": [
              "\"\\nQ2:\\nGiven a list (a) of size n, construct another list of size n --> prod\\nsuch that\\nprod[i] = product of all the elements of the list 'a' execept a[i]\\n\\nConstraints:\\n0 <= a[i] <= 1000\\n\\n\\nExample1: \\na = [1,3,2,4]\\noutput: prod = []\\n\""
            ],
            "application/vnd.google.colaboratory.intrinsic+json": {
              "type": "string"
            }
          },
          "metadata": {},
          "execution_count": 14
        }
      ]
    },
    {
      "cell_type": "code",
      "source": [
        "def first_logic(a):\n",
        "  "
      ],
      "metadata": {
        "id": "-GyF5frRNLAV"
      },
      "execution_count": null,
      "outputs": []
    },
    {
      "cell_type": "code",
      "source": [
        "def second_logic(a):\n",
        "  "
      ],
      "metadata": {
        "id": "I527qaGKNFpo"
      },
      "execution_count": null,
      "outputs": []
    },
    {
      "cell_type": "code",
      "source": [
        "def solve(a):\n",
        "  count_0 = 0 #initialization\n",
        "  n = len(a)\n",
        "  ans = [] \n",
        "\n",
        "  #count the number of 0s in the list a\n",
        "  for elem in a:\n",
        "    if elem == 0:\n",
        "      count_0 += 1\n",
        "\n",
        "  if count_0 == 0:\n",
        "    #first logic\n",
        "    ans = first_logic(a)\n",
        "  elif count_0 == 1:\n",
        "    #second logic\n",
        "    ans = second_logic(a)\n",
        "  else:\n",
        "    #third logic\n",
        "    ans = [0]*n\n",
        "\n",
        "  return ans"
      ],
      "metadata": {
        "id": "DZaAcgZGMFl7"
      },
      "execution_count": null,
      "outputs": []
    },
    {
      "cell_type": "code",
      "source": [
        "a = [1,3,2,4]\n",
        "\n",
        "ans = solve(a)\n",
        "print(ans)"
      ],
      "metadata": {
        "id": "ZF5VeWZ8L06G"
      },
      "execution_count": null,
      "outputs": []
    },
    {
      "cell_type": "code",
      "source": [
        "# next class - question1 - comparison\n",
        "# question 2 -> final code discussion - 5\n",
        "# doubts \n",
        "# Time management - AJ's perspective"
      ],
      "metadata": {
        "id": "gRn8__CqOU6B"
      },
      "execution_count": null,
      "outputs": []
    }
  ]
}