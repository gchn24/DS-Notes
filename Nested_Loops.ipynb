{
  "nbformat": 4,
  "nbformat_minor": 0,
  "metadata": {
    "colab": {
      "provenance": [],
      "include_colab_link": true
    },
    "kernelspec": {
      "name": "python3",
      "display_name": "Python 3"
    },
    "language_info": {
      "name": "python"
    }
  },
  "cells": [
    {
      "cell_type": "markdown",
      "metadata": {
        "id": "view-in-github",
        "colab_type": "text"
      },
      "source": [
        "<a href=\"https://colab.research.google.com/github/gchn24/DS-Notes/blob/main/Nested_Loops.ipynb\" target=\"_parent\"><img src=\"https://colab.research.google.com/assets/colab-badge.svg\" alt=\"Open In Colab\"/></a>"
      ]
    },
    {
      "cell_type": "code",
      "execution_count": null,
      "metadata": {
        "id": "XrXeCswW_NSF"
      },
      "outputs": [],
      "source": []
    },
    {
      "cell_type": "markdown",
      "source": [
        "Question1:\n",
        "\n",
        "Write a loop to print the following numbers: 1, 4, 7, 10, 13, 16"
      ],
      "metadata": {
        "id": "O0Vpj_DNAWp_"
      }
    },
    {
      "cell_type": "code",
      "source": [
        "#for loop:\n",
        "\n",
        "for i in range(1,17, 3):\n",
        "    print(i, end = \", \")"
      ],
      "metadata": {
        "colab": {
          "base_uri": "https://localhost:8080/"
        },
        "id": "_hC5JdQnAcGM",
        "outputId": "8f8d24c1-fd08-44ed-819c-6f7503c7b1a3"
      },
      "execution_count": null,
      "outputs": [
        {
          "output_type": "stream",
          "name": "stdout",
          "text": [
            "1, 4, 7, 10, 13, 16, "
          ]
        }
      ]
    },
    {
      "cell_type": "code",
      "source": [
        "#for loop:\n",
        "\n",
        "for i in range(1,17, 3):\n",
        "  if i==16:\n",
        "    print(i, end=\"\")\n",
        "  else:\n",
        "    print(i, end = \", \")"
      ],
      "metadata": {
        "colab": {
          "base_uri": "https://localhost:8080/"
        },
        "id": "Qr8w4En6BJ4A",
        "outputId": "89c46c02-d9e6-4a48-b3c7-09c0f3e95db8"
      },
      "execution_count": null,
      "outputs": [
        {
          "output_type": "stream",
          "name": "stdout",
          "text": [
            "1, 4, 7, 10, 13, 16"
          ]
        }
      ]
    },
    {
      "cell_type": "code",
      "source": [
        "i=1\n",
        "\n",
        " # while i<17\n",
        "\n",
        "while i<=16:\n",
        "  if i==16:\n",
        "    print(i, end =\"\")\n",
        "  else:\n",
        "    print(i, end =\", \")\n",
        "  i = i + 3\n",
        "  "
      ],
      "metadata": {
        "colab": {
          "base_uri": "https://localhost:8080/"
        },
        "id": "-PuZbqyaB94H",
        "outputId": "7e661511-fc45-45d5-88ba-6cf3bbe85ce9"
      },
      "execution_count": null,
      "outputs": [
        {
          "output_type": "stream",
          "name": "stdout",
          "text": [
            "1, 4, 7, 10, 13, 16"
          ]
        }
      ]
    },
    {
      "cell_type": "markdown",
      "source": [],
      "metadata": {
        "id": "LRRYGDEhCJHD"
      }
    },
    {
      "cell_type": "markdown",
      "source": [
        "Question2:\n",
        "\n",
        "Write a loop to print the following numbers: \n",
        "1, 3, 7, 13, 21, 31, 43"
      ],
      "metadata": {
        "id": "-Sq2HnChCK1P"
      }
    },
    {
      "cell_type": "code",
      "source": [
        "# Difference: 2, 4, 6, 8 "
      ],
      "metadata": {
        "id": "ES6fvjeMDtVh"
      },
      "execution_count": null,
      "outputs": []
    },
    {
      "cell_type": "code",
      "source": [
        "number = 1\n",
        "i = 1\n",
        "\n",
        "while number < 44:\n",
        "  \n",
        "  if number == 43:\n",
        "    print(number, end= \"\")\n",
        "  else:\n",
        "    print(number, end= \", \")\n",
        "  number = number + 2*i\n",
        "  i = i+1\n",
        "\n",
        "\n",
        "#todo -try writing the for loop version --> later when you are comfortalbe with for"
      ],
      "metadata": {
        "colab": {
          "base_uri": "https://localhost:8080/"
        },
        "id": "V9zK71WDCYgC",
        "outputId": "c1de92b0-9a8c-4286-f556-b0004e1f7cf1"
      },
      "execution_count": null,
      "outputs": [
        {
          "output_type": "stream",
          "name": "stdout",
          "text": [
            "1, 3, 7, 13, 21, 31, 43"
          ]
        }
      ]
    },
    {
      "cell_type": "markdown",
      "source": [
        "**Intro to Jump Statements:**"
      ],
      "metadata": {
        "id": "8Bg4pmu7Ctue"
      }
    },
    {
      "cell_type": "code",
      "source": [
        "#pass\n",
        "\n",
        "if True:\n",
        "  "
      ],
      "metadata": {
        "colab": {
          "base_uri": "https://localhost:8080/",
          "height": 134
        },
        "id": "rEOmn2D7Fkeg",
        "outputId": "fd0e7800-b375-4f24-e4a2-5c7d3ba80d17"
      },
      "execution_count": null,
      "outputs": [
        {
          "output_type": "error",
          "ename": "SyntaxError",
          "evalue": "ignored",
          "traceback": [
            "\u001b[0;36m  File \u001b[0;32m\"<ipython-input-11-a3883111b53c>\"\u001b[0;36m, line \u001b[0;32m3\u001b[0m\n\u001b[0;31m    if True:\u001b[0m\n\u001b[0m            ^\u001b[0m\n\u001b[0;31mSyntaxError\u001b[0m\u001b[0;31m:\u001b[0m unexpected EOF while parsing\n"
          ]
        }
      ]
    },
    {
      "cell_type": "code",
      "source": [
        "#pass\n",
        "\n",
        "if True:\n",
        "  print(1)"
      ],
      "metadata": {
        "colab": {
          "base_uri": "https://localhost:8080/"
        },
        "id": "GbwYQvhfGRon",
        "outputId": "59ca25e0-bc30-471b-b185-3fcd4046374c"
      },
      "execution_count": null,
      "outputs": [
        {
          "output_type": "stream",
          "name": "stdout",
          "text": [
            "1\n"
          ]
        }
      ]
    },
    {
      "cell_type": "code",
      "source": [
        "if True:\n",
        "  pass #represents an empty block/statement in python\n",
        "\n",
        "print(1)"
      ],
      "metadata": {
        "colab": {
          "base_uri": "https://localhost:8080/"
        },
        "id": "5plxPsGhGZ0J",
        "outputId": "f36988dd-d642-49d5-d8da-86a175db3daa"
      },
      "execution_count": null,
      "outputs": [
        {
          "output_type": "stream",
          "name": "stdout",
          "text": [
            "1\n"
          ]
        }
      ]
    },
    {
      "cell_type": "code",
      "source": [
        "list(range(5))"
      ],
      "metadata": {
        "colab": {
          "base_uri": "https://localhost:8080/"
        },
        "id": "ngYsxYNTHsRM",
        "outputId": "a4c54601-e76c-498b-c868-db646e60f832"
      },
      "execution_count": null,
      "outputs": [
        {
          "output_type": "execute_result",
          "data": {
            "text/plain": [
              "[0, 1, 2, 3, 4]"
            ]
          },
          "metadata": {},
          "execution_count": 17
        }
      ]
    },
    {
      "cell_type": "code",
      "source": [
        "for i in range(5):\n",
        "  print(i)"
      ],
      "metadata": {
        "colab": {
          "base_uri": "https://localhost:8080/"
        },
        "id": "XLq1L9FAGqK8",
        "outputId": "d663957e-304d-4763-c330-c5d94e6fa4e1"
      },
      "execution_count": null,
      "outputs": [
        {
          "output_type": "stream",
          "name": "stdout",
          "text": [
            "0\n",
            "1\n",
            "2\n",
            "3\n",
            "4\n"
          ]
        }
      ]
    },
    {
      "cell_type": "code",
      "source": [
        "for i in range(5):\n",
        "\n",
        "  if i==3:\n",
        "    pass\n",
        "\n",
        "  print(i)"
      ],
      "metadata": {
        "colab": {
          "base_uri": "https://localhost:8080/"
        },
        "id": "68b5jfItIFMg",
        "outputId": "9919b794-2b19-403f-8d68-178ea3584577"
      },
      "execution_count": null,
      "outputs": [
        {
          "output_type": "stream",
          "name": "stdout",
          "text": [
            "0\n",
            "1\n",
            "2\n",
            "3\n",
            "4\n"
          ]
        }
      ]
    },
    {
      "cell_type": "code",
      "source": [
        "#continue\n",
        "\n",
        "for i in range(5):\n",
        "\n",
        "  if i == 3:\n",
        "    continue\n",
        "\n",
        "  print(i)"
      ],
      "metadata": {
        "colab": {
          "base_uri": "https://localhost:8080/"
        },
        "id": "MfQM6PFUITlL",
        "outputId": "97b43b01-cad4-467a-ef74-2fe46557ea3a"
      },
      "execution_count": null,
      "outputs": [
        {
          "output_type": "stream",
          "name": "stdout",
          "text": [
            "0\n",
            "1\n",
            "2\n",
            "4\n"
          ]
        }
      ]
    },
    {
      "cell_type": "code",
      "source": [
        "#break\n",
        "\n",
        "for i in range(5):\n",
        "  if i==3:\n",
        "    break\n",
        "  \n",
        "  print(i)"
      ],
      "metadata": {
        "colab": {
          "base_uri": "https://localhost:8080/"
        },
        "id": "OO6-HbRRJJAj",
        "outputId": "d555bac6-a2e5-47de-b099-578f2ee9d695"
      },
      "execution_count": null,
      "outputs": [
        {
          "output_type": "stream",
          "name": "stdout",
          "text": [
            "0\n",
            "1\n",
            "2\n"
          ]
        }
      ]
    },
    {
      "cell_type": "code",
      "source": [
        "for i in range(2,5):\n",
        "\n",
        "  if i==3:\n",
        "    pass\n",
        "\n",
        "  print(i)"
      ],
      "metadata": {
        "colab": {
          "base_uri": "https://localhost:8080/"
        },
        "id": "ueD6G--NKioh",
        "outputId": "c7bf2096-2934-4edd-9e8f-e2fc264dda03"
      },
      "execution_count": null,
      "outputs": [
        {
          "output_type": "stream",
          "name": "stdout",
          "text": [
            "2\n",
            "3\n",
            "4\n"
          ]
        }
      ]
    },
    {
      "cell_type": "code",
      "source": [
        "for i in range(2,5):\n",
        "\n",
        "  if i==3:\n",
        "    continue\n",
        "\n",
        "  print(i)"
      ],
      "metadata": {
        "colab": {
          "base_uri": "https://localhost:8080/"
        },
        "id": "CA5oa_B4LNDn",
        "outputId": "20f67ce9-1345-4e8f-f232-905f6d3ea7b3"
      },
      "execution_count": null,
      "outputs": [
        {
          "output_type": "stream",
          "name": "stdout",
          "text": [
            "2\n",
            "4\n"
          ]
        }
      ]
    },
    {
      "cell_type": "code",
      "source": [
        "for i in range(2,5):\n",
        "\n",
        "  if i==3:\n",
        "    break\n",
        "\n",
        "  print(i)"
      ],
      "metadata": {
        "colab": {
          "base_uri": "https://localhost:8080/"
        },
        "id": "hR-W7LHKLTw5",
        "outputId": "3d236443-5b11-4582-ca21-a5c2c0808b1b"
      },
      "execution_count": null,
      "outputs": [
        {
          "output_type": "stream",
          "name": "stdout",
          "text": [
            "2\n"
          ]
        }
      ]
    },
    {
      "cell_type": "code",
      "source": [],
      "metadata": {
        "id": "cAOfFnD6LfHo"
      },
      "execution_count": null,
      "outputs": []
    },
    {
      "cell_type": "markdown",
      "source": [
        "Question1:\n",
        "\n",
        "Write a program that continuously takes the input from the user.\n",
        "\n",
        "The program should stop when the user provides 5 as input\n",
        "\n",
        "Assume that the user always inputs a number"
      ],
      "metadata": {
        "id": "3WeYbWoSLpve"
      }
    },
    {
      "cell_type": "code",
      "source": [
        "while True:\n",
        "\n",
        "  n = int(input())\n",
        "\n",
        "  if n==5:\n",
        "    break\n",
        "  \n",
        "  # print(n)"
      ],
      "metadata": {
        "colab": {
          "base_uri": "https://localhost:8080/"
        },
        "id": "kfRnSVQfL9RR",
        "outputId": "87d14f13-7d39-462a-8d78-0b8a70ec88c2"
      },
      "execution_count": null,
      "outputs": [
        {
          "name": "stdout",
          "output_type": "stream",
          "text": [
            "1\n",
            "2\n",
            "7\n",
            "9\n",
            "5\n"
          ]
        }
      ]
    },
    {
      "cell_type": "code",
      "source": [
        "for i in range(3):\n",
        "  for j in range(3):\n",
        "    print(i,j)"
      ],
      "metadata": {
        "colab": {
          "base_uri": "https://localhost:8080/"
        },
        "id": "TXgWxLjxM3xx",
        "outputId": "32dbcff3-43cc-4b29-ff89-63e82ff6fe01"
      },
      "execution_count": null,
      "outputs": [
        {
          "output_type": "stream",
          "name": "stdout",
          "text": [
            "0 0\n",
            "0 1\n",
            "0 2\n",
            "1 0\n",
            "1 1\n",
            "1 2\n",
            "2 0\n",
            "2 1\n",
            "2 2\n"
          ]
        }
      ]
    },
    {
      "cell_type": "code",
      "source": [
        "Write a program that takes n as input and to print a nxn matrix of *\n",
        "\n",
        "n=3\n",
        "* * *\n",
        "* * *\n",
        "* * *"
      ],
      "metadata": {
        "id": "gMNOtNl7PRQo"
      },
      "execution_count": null,
      "outputs": []
    },
    {
      "cell_type": "code",
      "source": [
        "n = int(input())\n",
        "\n",
        "for i in range(n):\n",
        "  \n",
        "  for j in range(n):\n",
        "    print('*', end=\" \")\n",
        "  \n",
        "  print()"
      ],
      "metadata": {
        "colab": {
          "base_uri": "https://localhost:8080/"
        },
        "id": "DxfB58erQ78b",
        "outputId": "f1186cdd-7733-42d3-8b18-64c03ef0326b"
      },
      "execution_count": null,
      "outputs": [
        {
          "output_type": "stream",
          "name": "stdout",
          "text": [
            "5\n",
            "* * * * * \n",
            "* * * * * \n",
            "* * * * * \n",
            "* * * * * \n",
            "* * * * * \n"
          ]
        }
      ]
    },
    {
      "cell_type": "code",
      "source": [
        "#hw - check out past lec notes - and now confirm we did use a nested loop to print the multiplication table of number given by user"
      ],
      "metadata": {
        "id": "7eNRwnTTRQPg"
      },
      "execution_count": null,
      "outputs": []
    },
    {
      "cell_type": "code",
      "source": [],
      "metadata": {
        "id": "9TQg4L7vR8C7"
      },
      "execution_count": null,
      "outputs": []
    },
    {
      "cell_type": "markdown",
      "source": [
        "Question: Given two integers as inputs, write a program to calculate the GCD of these two numbers.\n",
        "\n"
      ],
      "metadata": {
        "id": "OF-zdaVsTyiQ"
      }
    },
    {
      "cell_type": "code",
      "source": [
        "#4-5 concepts in this code\n",
        "\n",
        "a = int(input())\n",
        "b = int(input())\n",
        "\n",
        "x = min(a,b)\n",
        "\n",
        "for i in range(x, 0, -1):\n",
        "\n",
        "  if a%i == 0 and b%i == 0:\n",
        "    print(i)\n",
        "    break\n"
      ],
      "metadata": {
        "colab": {
          "base_uri": "https://localhost:8080/"
        },
        "id": "7fiR-xeiTy6L",
        "outputId": "9bf61b74-5d3c-4797-9529-271d01437fc8"
      },
      "execution_count": null,
      "outputs": [
        {
          "output_type": "stream",
          "name": "stdout",
          "text": [
            "2\n",
            "4\n",
            "2\n"
          ]
        }
      ]
    },
    {
      "cell_type": "code",
      "source": [
        "Question: "
      ],
      "metadata": {
        "id": "VKu2JpexVVpC"
      },
      "execution_count": null,
      "outputs": []
    },
    {
      "cell_type": "markdown",
      "source": [
        "Question: Given two integers as inputs, write a program to calculate the LCM of these two numbers.\n"
      ],
      "metadata": {
        "id": "k2Ar9D6BWlMI"
      }
    },
    {
      "cell_type": "code",
      "source": [
        "#4-5 concepts in this code\n",
        "\n",
        "a = int(input())\n",
        "b = int(input())\n",
        "\n",
        "x = max(a,b)\n",
        "\n",
        "#infinite loop\n",
        "\n",
        "while True:\n",
        "\n",
        "  if x%a == 0 and x%b == 0:\n",
        "    print(x)\n",
        "    break\n",
        "\n",
        "  x = x+1"
      ],
      "metadata": {
        "colab": {
          "base_uri": "https://localhost:8080/"
        },
        "id": "dqPFOWNbWnvm",
        "outputId": "146677cf-8d76-4212-8418-90ad64906c4e"
      },
      "execution_count": null,
      "outputs": [
        {
          "output_type": "stream",
          "name": "stdout",
          "text": [
            "2\n",
            "4\n",
            "4\n"
          ]
        }
      ]
    },
    {
      "cell_type": "code",
      "source": [],
      "metadata": {
        "id": "gZyG5CNPXf06"
      },
      "execution_count": null,
      "outputs": []
    }
  ]
}