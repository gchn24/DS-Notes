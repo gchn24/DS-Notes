{
  "nbformat": 4,
  "nbformat_minor": 0,
  "metadata": {
    "colab": {
      "provenance": [],
      "include_colab_link": true
    },
    "kernelspec": {
      "name": "python3",
      "display_name": "Python 3"
    },
    "language_info": {
      "name": "python"
    }
  },
  "cells": [
    {
      "cell_type": "markdown",
      "metadata": {
        "id": "view-in-github",
        "colab_type": "text"
      },
      "source": [
        "<a href=\"https://colab.research.google.com/github/gchn24/DS-Notes/blob/main/Numpy3_RevisionNotes_Fitbit.ipynb\" target=\"_parent\"><img src=\"https://colab.research.google.com/assets/colab-badge.svg\" alt=\"Open In Colab\"/></a>"
      ]
    },
    {
      "cell_type": "markdown",
      "source": [
        "## Content\n",
        "\n",
        "- **Universal Functions (ufunc) on 2D**\n",
        "    - Aggregate Function/ Reduction functions - `sum()`, `mean()`, `min()`, `max()`\n",
        "    \n",
        "    - Axis argument\n",
        "\n",
        "    - Logical Operations\n",
        "    \n",
        "    - Sorting function - `sort()`, `argsort()`\n",
        "\n",
        "    \n",
        "       \n",
        "       \n",
        "- **Use Case: Fitness Data analysis**\n",
        "    - Loading data set and EDA using numpy\n",
        "    - `np.argmax()`\n",
        "\n",
        "- **Reshape with -ve index**\n",
        "\n",
        "\n",
        "\n",
        "- **Matrix Multiplication**\n",
        "    - `matmul()`, `@`, `dot()`\n",
        "\n",
        "    \n",
        "\n",
        "\n"
      ],
      "metadata": {
        "id": "KhKUZPsS26zE"
      }
    },
    {
      "cell_type": "markdown",
      "metadata": {
        "id": "10f4f980"
      },
      "source": [
        "## Universal Functions (`ufunc`) on 2D & Axis "
      ]
    },
    {
      "cell_type": "markdown",
      "metadata": {
        "id": "TLEfnDyRj-U-"
      },
      "source": [
        "### Aggregate Functions/ Reduction functions"
      ]
    },
    {
      "cell_type": "markdown",
      "metadata": {
        "id": "36d2c4c6"
      },
      "source": [
        "We saw how aggregate functions work on 1D array in last class\n",
        "\n"
      ]
    },
    {
      "cell_type": "code",
      "source": [
        "import numpy as np"
      ],
      "metadata": {
        "id": "LTAHdmFi3G8d"
      },
      "execution_count": null,
      "outputs": []
    },
    {
      "cell_type": "code",
      "source": [
        "arr = np.arange(3)\n",
        "arr"
      ],
      "metadata": {
        "colab": {
          "base_uri": "https://localhost:8080/"
        },
        "id": "OkvDrdo_KUJ0",
        "outputId": "56bbb6e0-192c-4f5c-babe-02d60918b636"
      },
      "execution_count": null,
      "outputs": [
        {
          "output_type": "execute_result",
          "data": {
            "text/plain": [
              "array([0, 1, 2])"
            ]
          },
          "metadata": {},
          "execution_count": 2
        }
      ]
    },
    {
      "cell_type": "code",
      "source": [
        "arr.sum()"
      ],
      "metadata": {
        "colab": {
          "base_uri": "https://localhost:8080/"
        },
        "id": "LLG8bWzjKWtX",
        "outputId": "bbaddfcb-28fa-4868-ee11-6674479612fb"
      },
      "execution_count": null,
      "outputs": [
        {
          "output_type": "execute_result",
          "data": {
            "text/plain": [
              "3"
            ]
          },
          "metadata": {},
          "execution_count": 3
        }
      ]
    },
    {
      "cell_type": "markdown",
      "source": [
        "#### Let's apply Aggregate functions on 2D array\n",
        "\n",
        "### `np.sum()`"
      ],
      "metadata": {
        "id": "R1mXgmx8KTYb"
      }
    },
    {
      "cell_type": "code",
      "execution_count": null,
      "metadata": {
        "colab": {
          "base_uri": "https://localhost:8080/"
        },
        "id": "cabc7e1f",
        "outputId": "b1160d56-cbaf-4bf5-a495-abad0e967374"
      },
      "outputs": [
        {
          "output_type": "execute_result",
          "data": {
            "text/plain": [
              "array([[ 0,  1,  2,  3],\n",
              "       [ 4,  5,  6,  7],\n",
              "       [ 8,  9, 10, 11]])"
            ]
          },
          "metadata": {},
          "execution_count": 4
        }
      ],
      "source": [
        "a = np.arange(12).reshape(3, 4)\n",
        "a"
      ]
    },
    {
      "cell_type": "code",
      "execution_count": null,
      "metadata": {
        "id": "26ff89b9",
        "outputId": "1f90e80f-6164-4834-fa23-bfadd01bbdd8",
        "colab": {
          "base_uri": "https://localhost:8080/"
        }
      },
      "outputs": [
        {
          "output_type": "execute_result",
          "data": {
            "text/plain": [
              "66"
            ]
          },
          "metadata": {},
          "execution_count": 5
        }
      ],
      "source": [
        "np.sum(a)  # sums all the values present in array"
      ]
    },
    {
      "cell_type": "markdown",
      "metadata": {
        "id": "1955d7d4"
      },
      "source": [
        "#### What if we want to do the elements row-wise or column-wise?\n",
        "\n",
        "- By **setting `axis` parameter**\n",
        "\n",
        "#### What will `np.sum(a, axis=0)` do?\n",
        "\n",
        "- **`np.sum(a, axis=0)` adds together values in DIFFERENT rows**\n",
        "- **`axis = 0` ---> Changes will happen along the vertical axis**\n",
        "- Summing of values happen **in the vertical direction**\n",
        "- Rows collapse/merge when we do `axis=0`\n"
      ]
    },
    {
      "cell_type": "code",
      "execution_count": null,
      "metadata": {
        "id": "a87cc8db",
        "outputId": "6aa949fb-f1b8-43ce-fc3b-2187a200c0aa",
        "colab": {
          "base_uri": "https://localhost:8080/"
        }
      },
      "outputs": [
        {
          "output_type": "execute_result",
          "data": {
            "text/plain": [
              "array([12, 15, 18, 21])"
            ]
          },
          "metadata": {},
          "execution_count": 6
        }
      ],
      "source": [
        "np.sum(a, axis=0)"
      ]
    },
    {
      "cell_type": "markdown",
      "metadata": {
        "id": "e518c042"
      },
      "source": [
        "#### Now, What if we specify `axis=1`?\n",
        "\n",
        "- **`np.sum(a, axis=1)` adds together values in DIFFERENT columns** \n",
        "- **`axis = 1` ---> Changes will happen along the horizontal axis**\n",
        "- Summing of values happen **in the horizontal direction**\n",
        "- Columns collapse/merge when we do `axis=1`"
      ]
    },
    {
      "cell_type": "code",
      "execution_count": null,
      "metadata": {
        "id": "8d7587cb",
        "outputId": "71e35351-d2b1-43dc-966d-0a6641e8bd40",
        "colab": {
          "base_uri": "https://localhost:8080/"
        }
      },
      "outputs": [
        {
          "output_type": "execute_result",
          "data": {
            "text/plain": [
              "array([ 6, 22, 38])"
            ]
          },
          "metadata": {},
          "execution_count": 7
        }
      ],
      "source": [
        "np.sum(a, axis=1)"
      ]
    },
    {
      "cell_type": "markdown",
      "metadata": {
        "id": "d4638723"
      },
      "source": [
        "***"
      ]
    },
    {
      "cell_type": "markdown",
      "metadata": {
        "id": "80fcf497"
      },
      "source": [
        "#### Now, What if we want to find the average value or median value of all the elements in an array?"
      ]
    },
    {
      "cell_type": "code",
      "execution_count": null,
      "metadata": {
        "id": "225a1264",
        "outputId": "36843e6f-458e-4efe-8a96-b5b34ab8f9e4",
        "colab": {
          "base_uri": "https://localhost:8080/"
        }
      },
      "outputs": [
        {
          "output_type": "execute_result",
          "data": {
            "text/plain": [
              "5.5"
            ]
          },
          "metadata": {},
          "execution_count": 8
        }
      ],
      "source": [
        "np.mean(a) # no need to give any axis"
      ]
    },
    {
      "cell_type": "markdown",
      "metadata": {
        "id": "827e7509"
      },
      "source": [
        "#### What if we want to find the mean of elements in each row or in each column?\n",
        "\n",
        "- We can do **same thing with `axis` parameter** like we did for `np.sum()` function\n",
        "\n",
        "\n",
        "#### Question: Now you tell What will `np.mean(a, axis=0)` give?\n",
        "\n",
        "- It will give **mean of values in DIFFERENT rows**\n",
        "- **`axis = 0` ---> Changes will happen along the vertical axis**\n",
        "- Mean of values will be calculated **in the vertical direction**\n",
        "- Rows collapse/merge when we do `axis=0`"
      ]
    },
    {
      "cell_type": "code",
      "execution_count": null,
      "metadata": {
        "id": "0acf241c",
        "outputId": "c6f0108b-6c54-4178-b614-ec6f7909302b",
        "colab": {
          "base_uri": "https://localhost:8080/"
        }
      },
      "outputs": [
        {
          "output_type": "execute_result",
          "data": {
            "text/plain": [
              "array([4., 5., 6., 7.])"
            ]
          },
          "metadata": {},
          "execution_count": 9
        }
      ],
      "source": [
        "np.mean(a, axis=0)"
      ]
    },
    {
      "cell_type": "markdown",
      "metadata": {
        "id": "17bbc4ee"
      },
      "source": [
        "#### How can we get mean of elements in each column?\n",
        "\n",
        "- **`np.mean(a, axis=1)` will give mean of values in DIFFERENT columns** \n",
        "- **`axis = 1` ---> Changes will happen along the horizontal axis**\n",
        "- Mean of values will be calculated **in the horizontal direction**\n",
        "- Columns collapse/merge when we do `axis=1`"
      ]
    },
    {
      "cell_type": "code",
      "execution_count": null,
      "metadata": {
        "id": "ff4a128a",
        "outputId": "78705576-d0f7-4fdc-d966-d6fedd8c9f56",
        "colab": {
          "base_uri": "https://localhost:8080/"
        }
      },
      "outputs": [
        {
          "output_type": "execute_result",
          "data": {
            "text/plain": [
              "array([1.5, 5.5, 9.5])"
            ]
          },
          "metadata": {},
          "execution_count": 10
        }
      ],
      "source": [
        "np.mean(a, axis=1)"
      ]
    },
    {
      "cell_type": "markdown",
      "metadata": {
        "id": "8iQNMU2JoLk4"
      },
      "source": [
        "#### Now, we want to find the minimum value in the array\n",
        "\n",
        "**`np.min()` function can help us with this**"
      ]
    },
    {
      "cell_type": "code",
      "execution_count": null,
      "metadata": {
        "colab": {
          "base_uri": "https://localhost:8080/"
        },
        "id": "avQYEZ80oz_B",
        "outputId": "ab84369c-181b-42a0-c67a-602290d96c22"
      },
      "outputs": [
        {
          "output_type": "execute_result",
          "data": {
            "text/plain": [
              "array([[ 0,  1,  2,  3],\n",
              "       [ 4,  5,  6,  7],\n",
              "       [ 8,  9, 10, 11]])"
            ]
          },
          "metadata": {},
          "execution_count": 11
        }
      ],
      "source": [
        "a"
      ]
    },
    {
      "cell_type": "code",
      "execution_count": null,
      "metadata": {
        "colab": {
          "base_uri": "https://localhost:8080/"
        },
        "id": "4ZiYTSAHox4e",
        "outputId": "95460da1-bd58-48de-fe22-a382e2b30d5f"
      },
      "outputs": [
        {
          "output_type": "execute_result",
          "data": {
            "text/plain": [
              "0"
            ]
          },
          "metadata": {},
          "execution_count": 12
        }
      ],
      "source": [
        "np.min(a)"
      ]
    },
    {
      "cell_type": "markdown",
      "metadata": {
        "id": "j_hB6SxOo1W6"
      },
      "source": [
        "#### What if we want to find row wise minimum value?\n",
        "\n",
        "### Use `axis` argument!!"
      ]
    },
    {
      "cell_type": "code",
      "execution_count": null,
      "metadata": {
        "colab": {
          "base_uri": "https://localhost:8080/"
        },
        "id": "xH_pwMfrpBxm",
        "outputId": "ea1c35e9-20e3-41e8-b22d-84a8537f3549"
      },
      "outputs": [
        {
          "output_type": "execute_result",
          "data": {
            "text/plain": [
              "array([0, 4, 8])"
            ]
          },
          "metadata": {},
          "execution_count": 13
        }
      ],
      "source": [
        "np.min(a, axis = 1 )"
      ]
    },
    {
      "cell_type": "markdown",
      "metadata": {
        "id": "9gkV6NvQpF0M"
      },
      "source": [
        "#### We can also find max elements in an array.\n",
        "\n",
        "**`np.max()`** function will give us *maximum value in the array*\n",
        "\n",
        "We can also use `axis` argument to find row wise/ column wise max."
      ]
    },
    {
      "cell_type": "code",
      "execution_count": null,
      "metadata": {
        "colab": {
          "base_uri": "https://localhost:8080/"
        },
        "id": "ftQ26kYVpeQd",
        "outputId": "0969766f-2a67-4b29-f11c-29e9c9d4c60c"
      },
      "outputs": [
        {
          "output_type": "execute_result",
          "data": {
            "text/plain": [
              "array([[ 0,  1,  2,  3],\n",
              "       [ 4,  5,  6,  7],\n",
              "       [ 8,  9, 10, 11]])"
            ]
          },
          "metadata": {},
          "execution_count": 14
        }
      ],
      "source": [
        "a"
      ]
    },
    {
      "cell_type": "code",
      "execution_count": null,
      "metadata": {
        "colab": {
          "base_uri": "https://localhost:8080/"
        },
        "id": "rX-Cnu_qpeuC",
        "outputId": "c017dc30-27d4-44c9-a31c-982113ee935e"
      },
      "outputs": [
        {
          "output_type": "execute_result",
          "data": {
            "text/plain": [
              "11"
            ]
          },
          "metadata": {},
          "execution_count": 15
        }
      ],
      "source": [
        "np.max(a) # maximum value"
      ]
    },
    {
      "cell_type": "code",
      "execution_count": null,
      "metadata": {
        "colab": {
          "base_uri": "https://localhost:8080/"
        },
        "id": "OxB4VfOlpm4e",
        "outputId": "f128a412-2e2d-427d-de68-16aaad989e04"
      },
      "outputs": [
        {
          "output_type": "execute_result",
          "data": {
            "text/plain": [
              "array([ 8,  9, 10, 11])"
            ]
          },
          "metadata": {},
          "execution_count": 16
        }
      ],
      "source": [
        "np.max(a, axis = 0) # column wise max"
      ]
    },
    {
      "cell_type": "markdown",
      "source": [
        "### Logical Operations"
      ],
      "metadata": {
        "id": "wZ3OI0_Y8rkj"
      }
    },
    {
      "cell_type": "markdown",
      "metadata": {
        "id": "2757e76c"
      },
      "source": [
        "#### Now, What if we want to check whether \"any\" element of array follows a specific condition?\n",
        "\n",
        "#### Let's say we have 2 arrays:"
      ]
    },
    {
      "cell_type": "code",
      "execution_count": null,
      "metadata": {
        "id": "1fd5eac1",
        "outputId": "7ea3c3c7-1ebc-4088-ae5a-c443137435df",
        "colab": {
          "base_uri": "https://localhost:8080/"
        }
      },
      "outputs": [
        {
          "output_type": "execute_result",
          "data": {
            "text/plain": [
              "(array([1, 2, 3, 4]), array([4, 3, 2, 1]))"
            ]
          },
          "metadata": {},
          "execution_count": 17
        }
      ],
      "source": [
        "a = np.array([1,2,3,4])\n",
        "b = np.array([4,3,2,1])\n",
        "a, b"
      ]
    },
    {
      "cell_type": "markdown",
      "metadata": {
        "id": "0cd10348"
      },
      "source": [
        "#### Let's say we want to find out if any of the elements in array `a` is smaller than any of the corresponding elements in array `b`\n"
      ]
    },
    {
      "cell_type": "markdown",
      "metadata": {
        "id": "80aa049a"
      },
      "source": [
        "#### `np.any()` can become handy here as well\n",
        "\n",
        "\n",
        "- `any()` returns `True` if **any of the corresponding elements** in the argument arrays follow the **provided condition**.\n"
      ]
    },
    {
      "cell_type": "code",
      "execution_count": null,
      "metadata": {
        "id": "32ab4266",
        "outputId": "8cd16f3c-15ef-4b84-ba62-5fb13cb50dbc",
        "colab": {
          "base_uri": "https://localhost:8080/"
        }
      },
      "outputs": [
        {
          "output_type": "execute_result",
          "data": {
            "text/plain": [
              "True"
            ]
          },
          "metadata": {},
          "execution_count": 18
        }
      ],
      "source": [
        "a = np.array([1,2,3,4])\n",
        "b = np.array([4,3,2,1])\n",
        "np.any(a<b) # Atleast 1 element in a < corresponding element in b"
      ]
    },
    {
      "cell_type": "markdown",
      "metadata": {
        "id": "b5fb61f3"
      },
      "source": [
        "#### Let's try the same condition with different arrays:"
      ]
    },
    {
      "cell_type": "code",
      "execution_count": null,
      "metadata": {
        "id": "1792edec",
        "outputId": "3fe4bac8-7bd5-4245-8bb9-c29e7c6dbf93",
        "colab": {
          "base_uri": "https://localhost:8080/"
        }
      },
      "outputs": [
        {
          "output_type": "execute_result",
          "data": {
            "text/plain": [
              "False"
            ]
          },
          "metadata": {},
          "execution_count": 19
        }
      ],
      "source": [
        "a = np.array([4,5,6,7])\n",
        "b = np.array([4,3,2,1])\n",
        "np.any(a<b) # All elements in a >= corresponding elements in b"
      ]
    },
    {
      "cell_type": "markdown",
      "metadata": {
        "id": "2d2fe3ce"
      },
      "source": [
        "- In this case, **NONE of the elements in `a` were smaller than their corresponding elements in `b`**\n",
        "\n",
        "- So, `np.any(a<b)` returned `False`\n",
        "\n",
        "***"
      ]
    },
    {
      "cell_type": "markdown",
      "metadata": {
        "id": "01347030"
      },
      "source": [
        "#### What if we want to check whether \"all\" the elements in our array are non-zero or follow the specified condition?\n",
        "\n",
        "`np.all()`\n"
      ]
    },
    {
      "cell_type": "markdown",
      "metadata": {
        "id": "89a1af56"
      },
      "source": [
        "#### Now, What if we want to check whether \"all\" the elements in our array follow a specific condition?\n",
        "\n",
        "\n"
      ]
    },
    {
      "cell_type": "markdown",
      "metadata": {
        "id": "6acc61cf"
      },
      "source": [
        "#### Let's say we want to find out if all the elements in array `a` are smaller than all the corresponding elements in array `b`\n",
        "\n",
        "Again, Let's say we have 2 arrays:\n"
      ]
    },
    {
      "cell_type": "code",
      "execution_count": null,
      "metadata": {
        "id": "934c89a0",
        "outputId": "4c0f9bf7-4092-4ca7-8d18-a2d35906407c",
        "colab": {
          "base_uri": "https://localhost:8080/"
        }
      },
      "outputs": [
        {
          "output_type": "execute_result",
          "data": {
            "text/plain": [
              "(array([1, 2, 3, 4]), array([4, 3, 2, 1]))"
            ]
          },
          "metadata": {},
          "execution_count": 20
        }
      ],
      "source": [
        "a = np.array([1,2,3,4])\n",
        "b = np.array([4,3,2,1])\n",
        "a, b"
      ]
    },
    {
      "cell_type": "code",
      "execution_count": null,
      "metadata": {
        "id": "7cc81923",
        "outputId": "79d99de2-520b-401e-dd82-314caf5065ee",
        "colab": {
          "base_uri": "https://localhost:8080/"
        }
      },
      "outputs": [
        {
          "output_type": "execute_result",
          "data": {
            "text/plain": [
              "False"
            ]
          },
          "metadata": {},
          "execution_count": 21
        }
      ],
      "source": [
        "np.all(a<b) # Not all elements in a < corresponding elements in b"
      ]
    },
    {
      "cell_type": "markdown",
      "metadata": {
        "id": "3ee5741c"
      },
      "source": [
        "#### Let's try it with different arrays"
      ]
    },
    {
      "cell_type": "code",
      "execution_count": null,
      "metadata": {
        "id": "a592be8f",
        "outputId": "d4178970-2e85-4868-9d1b-dd8923b7aeaf",
        "colab": {
          "base_uri": "https://localhost:8080/"
        }
      },
      "outputs": [
        {
          "output_type": "execute_result",
          "data": {
            "text/plain": [
              "True"
            ]
          },
          "metadata": {},
          "execution_count": 22
        }
      ],
      "source": [
        "a = np.array([1,0,0,0])\n",
        "b = np.array([4,3,2,1])\n",
        "np.all(a<b) # All elements in a < corresponding elements in b"
      ]
    },
    {
      "cell_type": "markdown",
      "metadata": {
        "id": "f3d70331"
      },
      "source": [
        "- In this case, **ALL the elements in `a` were smaller than their corresponding elements in `b`**\n",
        "\n",
        "- So, `np.all(a<b)` returned `True`"
      ]
    },
    {
      "cell_type": "markdown",
      "metadata": {
        "id": "gXZBJXniLzyn"
      },
      "source": [
        "#### Multiple conditions for `.all()` function"
      ]
    },
    {
      "cell_type": "code",
      "execution_count": null,
      "metadata": {
        "colab": {
          "base_uri": "https://localhost:8080/"
        },
        "id": "cCr6R-jTLyAV",
        "outputId": "4116350c-5cb7-4f76-a1be-1aacc2420a12"
      },
      "outputs": [
        {
          "output_type": "execute_result",
          "data": {
            "text/plain": [
              "True"
            ]
          },
          "metadata": {},
          "execution_count": 23
        }
      ],
      "source": [
        "a = np.array([1, 2, 3, 2])\n",
        "b = np.array([2, 2, 3, 2])\n",
        "c = np.array([6, 4, 4, 5])\n",
        "((a <= b) & (b <= c)).all()"
      ]
    },
    {
      "cell_type": "markdown",
      "source": [
        "#### What if we want to update an array based on condition ? \n",
        "\n",
        "Suppose you are given an array of integers and you want to update it based on following condition:\n",
        "- if element is > 0, change it to +1\n",
        "- if element < 0, change it to -1.\n",
        "\n",
        "#### How will you do it ? \n"
      ],
      "metadata": {
        "id": "Yp3VVDUcp5wc"
      }
    },
    {
      "cell_type": "code",
      "source": [
        "arr = np.array([-3,4,27,34,-2, 0, -45,-11,4, 0 ])\n",
        "arr"
      ],
      "metadata": {
        "id": "wjPEhHulqaMy",
        "colab": {
          "base_uri": "https://localhost:8080/"
        },
        "outputId": "6db6129d-4ebe-409c-de98-1858400ac6ca"
      },
      "execution_count": null,
      "outputs": [
        {
          "output_type": "execute_result",
          "data": {
            "text/plain": [
              "array([ -3,   4,  27,  34,  -2,   0, -45, -11,   4,   0])"
            ]
          },
          "metadata": {},
          "execution_count": 24
        }
      ]
    },
    {
      "cell_type": "markdown",
      "source": [
        "You can use masking to update the array (as discussed in last class)"
      ],
      "metadata": {
        "id": "OvMRrVEPq-bA"
      }
    },
    {
      "cell_type": "code",
      "source": [
        "arr[arr > 0]  = 1\n",
        "arr [arr < 0] = -1"
      ],
      "metadata": {
        "id": "Zb7w1TS4q0O6"
      },
      "execution_count": null,
      "outputs": []
    },
    {
      "cell_type": "code",
      "source": [
        "arr"
      ],
      "metadata": {
        "colab": {
          "base_uri": "https://localhost:8080/"
        },
        "id": "0jvnfAWQq8Sz",
        "outputId": "dfcda5c5-950a-4ac0-e5c9-7392abecc98d"
      },
      "execution_count": null,
      "outputs": [
        {
          "output_type": "execute_result",
          "data": {
            "text/plain": [
              "array([-1,  1,  1,  1, -1,  0, -1, -1,  1,  0])"
            ]
          },
          "metadata": {},
          "execution_count": 26
        }
      ]
    },
    {
      "cell_type": "markdown",
      "source": [
        "There is a numpy function which can help us with it.\n",
        "\n",
        "#### np.where()"
      ],
      "metadata": {
        "id": "6B_AGtmdrElA"
      }
    },
    {
      "cell_type": "markdown",
      "metadata": {
        "id": "839pyDiHUS8-"
      },
      "source": [
        "Function signature: \n",
        "`np.where(condition, [x, y])`\n",
        "\n",
        "This functions returns an ndarray whose elements are chosen from x or y depending on condition.\n",
        "\n"
      ]
    },
    {
      "cell_type": "code",
      "source": [
        "arr = np.array([-3,4,27,34,-2, 0, -45,-11,4, 0 ])\n"
      ],
      "metadata": {
        "id": "rT3l7__4ruP5"
      },
      "execution_count": null,
      "outputs": []
    },
    {
      "cell_type": "code",
      "execution_count": null,
      "metadata": {
        "id": "n4inlYDVUS8_",
        "outputId": "ac33193a-6375-4548-ac6d-939b929a78f8",
        "colab": {
          "base_uri": "https://localhost:8080/"
        }
      },
      "outputs": [
        {
          "output_type": "execute_result",
          "data": {
            "text/plain": [
              "array([-1,  1,  1,  1, -1, -1, -1, -1,  1, -1])"
            ]
          },
          "metadata": {},
          "execution_count": 28
        }
      ],
      "source": [
        "np.where(arr > 0, +1, -1)"
      ]
    },
    {
      "cell_type": "code",
      "source": [
        "arr"
      ],
      "metadata": {
        "colab": {
          "base_uri": "https://localhost:8080/"
        },
        "id": "waLIQNRhrovW",
        "outputId": "e1a8b1c4-a9e8-4aed-9216-48f4df2f0731"
      },
      "execution_count": null,
      "outputs": [
        {
          "output_type": "execute_result",
          "data": {
            "text/plain": [
              "array([ -3,   4,  27,  34,  -2,   0, -45, -11,   4,   0])"
            ]
          },
          "metadata": {},
          "execution_count": 29
        }
      ]
    },
    {
      "cell_type": "markdown",
      "source": [
        "Notice that it didn't change the original array."
      ],
      "metadata": {
        "id": "AwoTcM7XrwOo"
      }
    },
    {
      "cell_type": "markdown",
      "metadata": {
        "id": "-MF-4wwN1t2M"
      },
      "source": [
        "### Sorting Arrays\n",
        "\n",
        "- We can also sort the elements of an array along a given specified axis \n",
        "\n",
        "\n",
        "- Default axis is the last axis of the array.\n",
        "\n"
      ]
    },
    {
      "cell_type": "markdown",
      "metadata": {
        "id": "YSF_gtljld6Y"
      },
      "source": [
        "#### `np.sort()`\n",
        "\n"
      ]
    },
    {
      "cell_type": "code",
      "execution_count": null,
      "metadata": {
        "colab": {
          "base_uri": "https://localhost:8080/"
        },
        "outputId": "16e55177-3fae-4859-87f2-f0c3a02d2fd7",
        "id": "EvUSr0pN93Hd"
      },
      "outputs": [
        {
          "output_type": "execute_result",
          "data": {
            "text/plain": [
              "array([ 2, 30, 41,  7, 17, 52])"
            ]
          },
          "metadata": {},
          "execution_count": 30
        }
      ],
      "source": [
        "a = np.array([2,30,41,7,17,52])\n",
        "a"
      ]
    },
    {
      "cell_type": "code",
      "execution_count": null,
      "metadata": {
        "colab": {
          "base_uri": "https://localhost:8080/"
        },
        "id": "PGNbnZJo1t2N",
        "outputId": "9f401de6-f282-4cd8-c7e8-27481eb01e6e"
      },
      "outputs": [
        {
          "output_type": "execute_result",
          "data": {
            "text/plain": [
              "array([ 2,  7, 17, 30, 41, 52])"
            ]
          },
          "metadata": {},
          "execution_count": 31
        }
      ],
      "source": [
        "np.sort(a)"
      ]
    },
    {
      "cell_type": "code",
      "execution_count": null,
      "metadata": {
        "colab": {
          "base_uri": "https://localhost:8080/"
        },
        "outputId": "72813c4f-2356-4eec-fe32-dff97005cea8",
        "id": "G3gVexiT93He"
      },
      "outputs": [
        {
          "output_type": "execute_result",
          "data": {
            "text/plain": [
              "array([ 2, 30, 41,  7, 17, 52])"
            ]
          },
          "metadata": {},
          "execution_count": 32
        }
      ],
      "source": [
        "a"
      ]
    },
    {
      "cell_type": "markdown",
      "source": [
        "Let's work with 2D array"
      ],
      "metadata": {
        "id": "rRx6Wn5996j3"
      }
    },
    {
      "cell_type": "code",
      "execution_count": null,
      "metadata": {
        "colab": {
          "base_uri": "https://localhost:8080/"
        },
        "id": "GuKoxj3l1t2N",
        "outputId": "ab7f566c-8b5e-4225-cfea-798cf5f4e302"
      },
      "outputs": [
        {
          "output_type": "execute_result",
          "data": {
            "text/plain": [
              "array([[9, 8, 7],\n",
              "       [6, 5, 4],\n",
              "       [3, 2, 1]])"
            ]
          },
          "metadata": {},
          "execution_count": 33
        }
      ],
      "source": [
        "a = np.arange(9,0,-1).reshape(3,3)\n",
        "a"
      ]
    },
    {
      "cell_type": "markdown",
      "source": [
        "#### Question: What will be the result when we sort using axis = 0 ?"
      ],
      "metadata": {
        "id": "7GA7bUXUofHz"
      }
    },
    {
      "cell_type": "code",
      "source": [
        "np.sort(a, axis = 0)"
      ],
      "metadata": {
        "colab": {
          "base_uri": "https://localhost:8080/"
        },
        "id": "LvsneXGFoc54",
        "outputId": "a90f27f8-bbbd-445e-9a15-fe8d598d27a8"
      },
      "execution_count": null,
      "outputs": [
        {
          "output_type": "execute_result",
          "data": {
            "text/plain": [
              "array([[3, 2, 1],\n",
              "       [6, 5, 4],\n",
              "       [9, 8, 7]])"
            ]
          },
          "metadata": {},
          "execution_count": 34
        }
      ]
    },
    {
      "cell_type": "markdown",
      "source": [
        "Recall that when axis =0\n",
        "- change will happen along vertical axis.\n",
        "\n",
        "Hence, it will sort out row wise."
      ],
      "metadata": {
        "id": "1P3phff-pNf3"
      }
    },
    {
      "cell_type": "code",
      "execution_count": null,
      "metadata": {
        "colab": {
          "base_uri": "https://localhost:8080/"
        },
        "id": "XH1882q31t2N",
        "outputId": "c532e21a-9828-4974-98cd-b130ec9746a8"
      },
      "outputs": [
        {
          "output_type": "execute_result",
          "data": {
            "text/plain": [
              "array([[9, 8, 7],\n",
              "       [6, 5, 4],\n",
              "       [3, 2, 1]])"
            ]
          },
          "metadata": {},
          "execution_count": 35
        }
      ],
      "source": [
        "a"
      ]
    },
    {
      "cell_type": "markdown",
      "metadata": {
        "id": "vSKyZw531t2O"
      },
      "source": [
        "- Original array is still the same. It hasn't changed"
      ]
    },
    {
      "cell_type": "markdown",
      "metadata": {
        "id": "kEXv8eys1t2P"
      },
      "source": [
        "#### `np.argsort()`\n",
        "\n",
        "- Returns the **indices** that would sort an array.\n",
        "\n",
        "- Performs an indirect sort along the given axis. \n",
        "\n",
        "- It returns **an array of indices of the same shape as a that index data along the given axis in sorted order**."
      ]
    },
    {
      "cell_type": "code",
      "execution_count": null,
      "metadata": {
        "colab": {
          "base_uri": "https://localhost:8080/"
        },
        "id": "C0ug7PZr1t2Q",
        "outputId": "10cf0c1d-98db-46b4-c52c-5c077c756f6d"
      },
      "outputs": [
        {
          "output_type": "execute_result",
          "data": {
            "text/plain": [
              "array([ 2, 30, 41,  7, 17, 52])"
            ]
          },
          "metadata": {},
          "execution_count": 36
        }
      ],
      "source": [
        "a = np.array([2,30,41,7,17,52])\n",
        "a"
      ]
    },
    {
      "cell_type": "code",
      "execution_count": null,
      "metadata": {
        "colab": {
          "base_uri": "https://localhost:8080/"
        },
        "id": "fGTmT54X1t2Q",
        "outputId": "8c9393c6-186e-4c22-8890-5fa2315a6e48"
      },
      "outputs": [
        {
          "output_type": "execute_result",
          "data": {
            "text/plain": [
              "array([0, 3, 4, 1, 2, 5])"
            ]
          },
          "metadata": {},
          "execution_count": 37
        }
      ],
      "source": [
        "np.argsort(a)"
      ]
    },
    {
      "cell_type": "markdown",
      "metadata": {
        "id": "-epWX252HUB8"
      },
      "source": [
        "#### As you can see:\n",
        "\n",
        "- The orginal indices of elements are in same order as the orginal elements would be in sorted order"
      ]
    },
    {
      "cell_type": "markdown",
      "metadata": {
        "id": "-r0-f3d_wClo"
      },
      "source": [
        "## Use Case: Fitness data analysis\n",
        "\n"
      ]
    },
    {
      "cell_type": "code",
      "execution_count": null,
      "metadata": {
        "outputId": "babab151-fba7-440c-80ce-623db50d6439",
        "colab": {
          "base_uri": "https://localhost:8080/"
        },
        "id": "QoaYtx3gmXQO"
      },
      "outputs": [
        {
          "output_type": "stream",
          "name": "stdout",
          "text": [
            "--2023-04-25 07:36:39--  https://drive.google.com/uc?id=1vk1Pu0djiYcrdc85yUXZ_Rqq2oZNcohd\n",
            "Resolving drive.google.com (drive.google.com)... 172.253.115.102, 172.253.115.101, 172.253.115.113, ...\n",
            "Connecting to drive.google.com (drive.google.com)|172.253.115.102|:443... connected.\n",
            "HTTP request sent, awaiting response... 303 See Other\n",
            "Location: https://doc-04-b0-docs.googleusercontent.com/docs/securesc/ha0ro937gcuc7l7deffksulhg5h7mbp1/2q8vivf91thbav9ptfsmnpu10eo6ff6j/1682408175000/12269612567072229014/*/1vk1Pu0djiYcrdc85yUXZ_Rqq2oZNcohd?uuid=642622f2-d33c-4e36-bdcc-48cd43617816 [following]\n",
            "Warning: wildcards not supported in HTTP.\n",
            "--2023-04-25 07:36:40--  https://doc-04-b0-docs.googleusercontent.com/docs/securesc/ha0ro937gcuc7l7deffksulhg5h7mbp1/2q8vivf91thbav9ptfsmnpu10eo6ff6j/1682408175000/12269612567072229014/*/1vk1Pu0djiYcrdc85yUXZ_Rqq2oZNcohd?uuid=642622f2-d33c-4e36-bdcc-48cd43617816\n",
            "Resolving doc-04-b0-docs.googleusercontent.com (doc-04-b0-docs.googleusercontent.com)... 172.253.62.132, 2607:f8b0:4004:c07::84\n",
            "Connecting to doc-04-b0-docs.googleusercontent.com (doc-04-b0-docs.googleusercontent.com)|172.253.62.132|:443... connected.\n",
            "HTTP request sent, awaiting response... 200 OK\n",
            "Length: 3429 (3.3K) [text/plain]\n",
            "Saving to: ‘fitbit.txt’\n",
            "\n",
            "fitbit.txt          100%[===================>]   3.35K  --.-KB/s    in 0s      \n",
            "\n",
            "2023-04-25 07:36:40 (141 MB/s) - ‘fitbit.txt’ saved [3429/3429]\n",
            "\n"
          ]
        }
      ],
      "source": [
        "!wget https://drive.google.com/uc?id=1vk1Pu0djiYcrdc85yUXZ_Rqq2oZNcohd -O fitbit.txt"
      ]
    },
    {
      "cell_type": "markdown",
      "metadata": {
        "id": "nODLTNmQmXQQ"
      },
      "source": [
        "### Let's load the data we saw earlier. For this we will use `.loadtxt() function`"
      ]
    },
    {
      "cell_type": "code",
      "execution_count": null,
      "metadata": {
        "id": "aAZUzoxO0ntS"
      },
      "outputs": [],
      "source": [
        "data = np.loadtxt('fitbit.txt', dtype='str')"
      ]
    },
    {
      "cell_type": "markdown",
      "metadata": {
        "id": "3NGFZiiCHaHm"
      },
      "source": [
        "We provide file name along with the dtype of data we want to load in "
      ]
    },
    {
      "cell_type": "code",
      "execution_count": null,
      "metadata": {
        "colab": {
          "base_uri": "https://localhost:8080/"
        },
        "id": "hF1ShzXvY6JS",
        "outputId": "a836655b-8d98-451a-cb54-0ef4faea0b26"
      },
      "outputs": [
        {
          "output_type": "execute_result",
          "data": {
            "text/plain": [
              "array([['06-10-2017', '5464', 'Neutral', '181', '5', 'Inactive'],\n",
              "       ['07-10-2017', '6041', 'Sad', '197', '8', 'Inactive'],\n",
              "       ['08-10-2017', '25', 'Sad', '0', '5', 'Inactive'],\n",
              "       ['09-10-2017', '5461', 'Sad', '174', '4', 'Inactive'],\n",
              "       ['10-10-2017', '6915', 'Neutral', '223', '5', 'Active']],\n",
              "      dtype='<U10')"
            ]
          },
          "metadata": {},
          "execution_count": 121
        }
      ],
      "source": [
        "data[:5]"
      ]
    },
    {
      "cell_type": "markdown",
      "metadata": {
        "id": "RqpNn_Tm0yh0"
      },
      "source": [
        "What's the shape of the data? "
      ]
    },
    {
      "cell_type": "code",
      "execution_count": null,
      "metadata": {
        "id": "vL442Nce00yL",
        "colab": {
          "base_uri": "https://localhost:8080/"
        },
        "outputId": "5ee3ef44-6db2-4a8b-e427-23e4208d5c9c"
      },
      "outputs": [
        {
          "output_type": "execute_result",
          "data": {
            "text/plain": [
              "(96, 6)"
            ]
          },
          "metadata": {},
          "execution_count": 118
        }
      ],
      "source": [
        "data.shape"
      ]
    },
    {
      "cell_type": "markdown",
      "metadata": {
        "id": "hJDLDeAX02by"
      },
      "source": [
        "There are 96 records and each record has 6 features.\n",
        "These features are:\n",
        "- Date\n",
        "- Step count\n",
        "- Mood\n",
        "- Calories Burned\n",
        "- Hours of sleep\n",
        "- activity status"
      ]
    },
    {
      "cell_type": "markdown",
      "metadata": {
        "id": "lsJ7tl9aYnw0"
      },
      "source": [
        "#### Notice that above array is a homogenous containing all the data as strings\n",
        "\n",
        "In order to work with strings, categorical data and numerical data, we will have save every feature seperately\n",
        "\n",
        "#### How will we extract features in seperate variables?\n",
        "\n",
        "We can get some idea on how data is saved.\n",
        "\n",
        "Lets see whats the first element of `data`"
      ]
    },
    {
      "cell_type": "code",
      "execution_count": null,
      "metadata": {
        "id": "73b8152d",
        "colab": {
          "base_uri": "https://localhost:8080/"
        },
        "outputId": "49497d8a-fb13-4bd1-8bb4-f095283ea516"
      },
      "outputs": [
        {
          "output_type": "execute_result",
          "data": {
            "text/plain": [
              "array(['06-10-2017', '5464', 'Neutral', '181', '5', 'Inactive'],\n",
              "      dtype='<U10')"
            ]
          },
          "metadata": {},
          "execution_count": 46
        }
      ],
      "source": [
        "data[0]"
      ]
    },
    {
      "cell_type": "markdown",
      "metadata": {
        "id": "944d9f42"
      },
      "source": [
        "Hm, this extracts a row not a column\n",
        "\n",
        "Think about it.\n",
        "\n",
        "#### Whats the way to change columns to rows and rows to columns?\n",
        "\n",
        "Transpose"
      ]
    },
    {
      "cell_type": "code",
      "execution_count": null,
      "metadata": {
        "id": "a2691778",
        "colab": {
          "base_uri": "https://localhost:8080/"
        },
        "outputId": "fceec86b-fd9e-46da-ef45-f3a9b397a3ac"
      },
      "outputs": [
        {
          "output_type": "execute_result",
          "data": {
            "text/plain": [
              "array(['06-10-2017', '07-10-2017', '08-10-2017', '09-10-2017',\n",
              "       '10-10-2017', '11-10-2017', '12-10-2017', '13-10-2017',\n",
              "       '14-10-2017', '15-10-2017', '16-10-2017', '17-10-2017',\n",
              "       '18-10-2017', '19-10-2017', '20-10-2017', '21-10-2017',\n",
              "       '22-10-2017', '23-10-2017', '24-10-2017', '25-10-2017',\n",
              "       '26-10-2017', '27-10-2017', '28-10-2017', '29-10-2017',\n",
              "       '30-10-2017', '31-10-2017', '01-11-2017', '02-11-2017',\n",
              "       '03-11-2017', '04-11-2017', '05-11-2017', '06-11-2017',\n",
              "       '07-11-2017', '08-11-2017', '09-11-2017', '10-11-2017',\n",
              "       '11-11-2017', '12-11-2017', '13-11-2017', '14-11-2017',\n",
              "       '15-11-2017', '16-11-2017', '17-11-2017', '18-11-2017',\n",
              "       '19-11-2017', '20-11-2017', '21-11-2017', '22-11-2017',\n",
              "       '23-11-2017', '24-11-2017', '25-11-2017', '26-11-2017',\n",
              "       '27-11-2017', '28-11-2017', '29-11-2017', '30-11-2017',\n",
              "       '01-12-2017', '02-12-2017', '03-12-2017', '04-12-2017',\n",
              "       '05-12-2017', '06-12-2017', '07-12-2017', '08-12-2017',\n",
              "       '09-12-2017', '10-12-2017', '11-12-2017', '12-12-2017',\n",
              "       '13-12-2017', '14-12-2017', '15-12-2017', '16-12-2017',\n",
              "       '17-12-2017', '18-12-2017', '19-12-2017', '20-12-2017',\n",
              "       '21-12-2017', '22-12-2017', '23-12-2017', '24-12-2017',\n",
              "       '25-12-2017', '26-12-2017', '27-12-2017', '28-12-2017',\n",
              "       '29-12-2017', '30-12-2017', '31-12-2017', '01-01-2018',\n",
              "       '02-01-2018', '03-01-2018', '04-01-2018', '05-01-2018',\n",
              "       '06-01-2018', '07-01-2018', '08-01-2018', '09-01-2018'],\n",
              "      dtype='<U10')"
            ]
          },
          "metadata": {},
          "execution_count": 47
        }
      ],
      "source": [
        "data.T[0]"
      ]
    },
    {
      "cell_type": "markdown",
      "metadata": {
        "id": "7c0b8ebd"
      },
      "source": [
        "Great, we could extract first column\n",
        "\n",
        "#### Lets extract all the columns and save them in seperate variables"
      ]
    },
    {
      "cell_type": "code",
      "execution_count": null,
      "metadata": {
        "id": "Wk5qAYCJZGhG"
      },
      "outputs": [],
      "source": [
        "date, step_count, mood, calories_burned, hours_of_sleep, activity_status = data.T"
      ]
    },
    {
      "cell_type": "code",
      "execution_count": null,
      "metadata": {
        "id": "0w6WABJ0ZLnk",
        "colab": {
          "base_uri": "https://localhost:8080/"
        },
        "outputId": "6be1cc39-cec7-4370-ea15-789757afd6d8"
      },
      "outputs": [
        {
          "output_type": "execute_result",
          "data": {
            "text/plain": [
              "array(['5464', '6041', '25', '5461', '6915', '4545', '4340', '1230', '61',\n",
              "       '1258', '3148', '4687', '4732', '3519', '1580', '2822', '181',\n",
              "       '3158', '4383', '3881', '4037', '202', '292', '330', '2209',\n",
              "       '4550', '4435', '4779', '1831', '2255', '539', '5464', '6041',\n",
              "       '4068', '4683', '4033', '6314', '614', '3149', '4005', '4880',\n",
              "       '4136', '705', '570', '269', '4275', '5999', '4421', '6930',\n",
              "       '5195', '546', '493', '995', '1163', '6676', '3608', '774', '1421',\n",
              "       '4064', '2725', '5934', '1867', '3721', '2374', '2909', '1648',\n",
              "       '799', '7102', '3941', '7422', '437', '1231', '1696', '4921',\n",
              "       '221', '6500', '3575', '4061', '651', '753', '518', '5537', '4108',\n",
              "       '5376', '3066', '177', '36', '299', '1447', '2599', '702', '133',\n",
              "       '153', '500', '2127', '2203'], dtype='<U10')"
            ]
          },
          "metadata": {},
          "execution_count": 49
        }
      ],
      "source": [
        "step_count"
      ]
    },
    {
      "cell_type": "code",
      "execution_count": null,
      "metadata": {
        "id": "vRdFpj1SZXH2",
        "colab": {
          "base_uri": "https://localhost:8080/"
        },
        "outputId": "fa781fa9-7c24-4b02-feed-827f7265435a"
      },
      "outputs": [
        {
          "output_type": "execute_result",
          "data": {
            "text/plain": [
              "dtype('<U10')"
            ]
          },
          "metadata": {},
          "execution_count": 50
        }
      ],
      "source": [
        "step_count.dtype"
      ]
    },
    {
      "cell_type": "markdown",
      "metadata": {
        "id": "Rx8mBaFhZRRR"
      },
      "source": [
        "Notice the data type of step_count and other variables. It's a string type where **U** means Unicode String. and 10 means 10 bytes. \n",
        "\n",
        "#### Why? Because Numpy type-casted all the data to strings."
      ]
    },
    {
      "cell_type": "markdown",
      "metadata": {
        "id": "S88ioILjYqfl"
      },
      "source": [
        "#### Let's convert the data types of these variables"
      ]
    },
    {
      "cell_type": "markdown",
      "metadata": {
        "id": "3VHi8OGJaOJj"
      },
      "source": [
        "**Step Count**"
      ]
    },
    {
      "cell_type": "code",
      "execution_count": null,
      "metadata": {
        "id": "H46f-TVZZ8mB",
        "colab": {
          "base_uri": "https://localhost:8080/"
        },
        "outputId": "99e20f9c-a757-4a68-9c4a-3f44126fe445"
      },
      "outputs": [
        {
          "output_type": "execute_result",
          "data": {
            "text/plain": [
              "dtype('int64')"
            ]
          },
          "metadata": {},
          "execution_count": 51
        }
      ],
      "source": [
        "step_count = np.array(step_count, dtype = 'int')\n",
        "step_count.dtype"
      ]
    },
    {
      "cell_type": "code",
      "execution_count": null,
      "metadata": {
        "id": "SKlM7Cf5aAPo",
        "colab": {
          "base_uri": "https://localhost:8080/"
        },
        "outputId": "5894e139-41a9-4839-eb9e-c076f639e89e"
      },
      "outputs": [
        {
          "output_type": "execute_result",
          "data": {
            "text/plain": [
              "array([5464, 6041,   25, 5461, 6915, 4545, 4340, 1230,   61, 1258, 3148,\n",
              "       4687, 4732, 3519, 1580, 2822,  181, 3158, 4383, 3881, 4037,  202,\n",
              "        292,  330, 2209, 4550, 4435, 4779, 1831, 2255,  539, 5464, 6041,\n",
              "       4068, 4683, 4033, 6314,  614, 3149, 4005, 4880, 4136,  705,  570,\n",
              "        269, 4275, 5999, 4421, 6930, 5195,  546,  493,  995, 1163, 6676,\n",
              "       3608,  774, 1421, 4064, 2725, 5934, 1867, 3721, 2374, 2909, 1648,\n",
              "        799, 7102, 3941, 7422,  437, 1231, 1696, 4921,  221, 6500, 3575,\n",
              "       4061,  651,  753,  518, 5537, 4108, 5376, 3066,  177,   36,  299,\n",
              "       1447, 2599,  702,  133,  153,  500, 2127, 2203])"
            ]
          },
          "metadata": {},
          "execution_count": 52
        }
      ],
      "source": [
        "step_count"
      ]
    },
    {
      "cell_type": "markdown",
      "metadata": {
        "id": "EiicKEnqaQef"
      },
      "source": [
        "**Calories Burned**"
      ]
    },
    {
      "cell_type": "code",
      "execution_count": null,
      "metadata": {
        "id": "58wybBA8aSfJ",
        "colab": {
          "base_uri": "https://localhost:8080/"
        },
        "outputId": "97f57197-8e8f-4569-81e5-8e54216e1859"
      },
      "outputs": [
        {
          "output_type": "execute_result",
          "data": {
            "text/plain": [
              "dtype('int64')"
            ]
          },
          "metadata": {},
          "execution_count": 53
        }
      ],
      "source": [
        "calories_burned = np.array(calories_burned, dtype = 'int')\n",
        "calories_burned.dtype"
      ]
    },
    {
      "cell_type": "markdown",
      "metadata": {
        "id": "Xy2ooExhaXg6"
      },
      "source": [
        "**Hours of Sleep**"
      ]
    },
    {
      "cell_type": "code",
      "execution_count": null,
      "metadata": {
        "id": "D-w8VvuEaTjn",
        "colab": {
          "base_uri": "https://localhost:8080/"
        },
        "outputId": "4c0e3129-9807-49f9-dfa3-b5922840d6ed"
      },
      "outputs": [
        {
          "output_type": "execute_result",
          "data": {
            "text/plain": [
              "dtype('int64')"
            ]
          },
          "metadata": {},
          "execution_count": 54
        }
      ],
      "source": [
        "hours_of_sleep = np.array(hours_of_sleep, dtype = 'int')\n",
        "hours_of_sleep.dtype"
      ]
    },
    {
      "cell_type": "markdown",
      "metadata": {
        "id": "tf9hP1fUanDd"
      },
      "source": [
        "**Mood**\n",
        "\n",
        "`Mood` is a categorical data type. As a name says, categorical data type has two or more categories in it.\n",
        "\n",
        "Let's check the values of `mood` variable"
      ]
    },
    {
      "cell_type": "code",
      "execution_count": null,
      "metadata": {
        "id": "26d6fe5e",
        "colab": {
          "base_uri": "https://localhost:8080/"
        },
        "outputId": "f32c7433-3c6e-44b4-c0a0-41bd4b43e08a"
      },
      "outputs": [
        {
          "output_type": "execute_result",
          "data": {
            "text/plain": [
              "array(['Neutral', 'Sad', 'Sad', 'Sad', 'Neutral', 'Sad', 'Sad', 'Sad',\n",
              "       'Sad', 'Sad', 'Sad', 'Sad', 'Happy', 'Sad', 'Sad', 'Sad', 'Sad',\n",
              "       'Neutral', 'Neutral', 'Neutral', 'Neutral', 'Neutral', 'Neutral',\n",
              "       'Happy', 'Neutral', 'Happy', 'Happy', 'Happy', 'Happy', 'Happy',\n",
              "       'Happy', 'Happy', 'Neutral', 'Happy', 'Happy', 'Happy', 'Happy',\n",
              "       'Happy', 'Happy', 'Happy', 'Happy', 'Happy', 'Happy', 'Neutral',\n",
              "       'Happy', 'Happy', 'Happy', 'Happy', 'Happy', 'Happy', 'Happy',\n",
              "       'Happy', 'Happy', 'Neutral', 'Sad', 'Happy', 'Happy', 'Happy',\n",
              "       'Happy', 'Happy', 'Happy', 'Happy', 'Sad', 'Neutral', 'Neutral',\n",
              "       'Sad', 'Sad', 'Neutral', 'Neutral', 'Happy', 'Neutral', 'Neutral',\n",
              "       'Sad', 'Neutral', 'Sad', 'Neutral', 'Neutral', 'Sad', 'Sad', 'Sad',\n",
              "       'Sad', 'Happy', 'Neutral', 'Happy', 'Neutral', 'Sad', 'Sad', 'Sad',\n",
              "       'Neutral', 'Neutral', 'Sad', 'Sad', 'Happy', 'Neutral', 'Neutral',\n",
              "       'Happy'], dtype='<U10')"
            ]
          },
          "metadata": {},
          "execution_count": 55
        }
      ],
      "source": [
        "mood"
      ]
    },
    {
      "cell_type": "code",
      "execution_count": null,
      "metadata": {
        "id": "5Oh9BXe8bDIA",
        "colab": {
          "base_uri": "https://localhost:8080/"
        },
        "outputId": "23a4e0fa-fae5-49b4-b045-ebf527ca3617"
      },
      "outputs": [
        {
          "output_type": "execute_result",
          "data": {
            "text/plain": [
              "array(['Happy', 'Neutral', 'Sad'], dtype='<U10')"
            ]
          },
          "metadata": {},
          "execution_count": 56
        }
      ],
      "source": [
        "np.unique(mood)"
      ]
    },
    {
      "cell_type": "markdown",
      "metadata": {
        "id": "eM70740Pb6g7"
      },
      "source": [
        "**Activity Status**"
      ]
    },
    {
      "cell_type": "code",
      "execution_count": null,
      "metadata": {
        "id": "64Nl1AVOb9-q",
        "colab": {
          "base_uri": "https://localhost:8080/"
        },
        "outputId": "75c2c4aa-9a7a-45c6-e4db-92aaeeb70c6f"
      },
      "outputs": [
        {
          "output_type": "execute_result",
          "data": {
            "text/plain": [
              "array(['Inactive', 'Inactive', 'Inactive', 'Inactive', 'Active',\n",
              "       'Inactive', 'Inactive', 'Inactive', 'Inactive', 'Inactive',\n",
              "       'Inactive', 'Inactive', 'Active', 'Inactive', 'Inactive',\n",
              "       'Inactive', 'Inactive', 'Inactive', 'Inactive', 'Inactive',\n",
              "       'Inactive', 'Inactive', 'Inactive', 'Inactive', 'Inactive',\n",
              "       'Active', 'Inactive', 'Inactive', 'Inactive', 'Inactive', 'Active',\n",
              "       'Inactive', 'Inactive', 'Inactive', 'Inactive', 'Inactive',\n",
              "       'Active', 'Active', 'Active', 'Active', 'Active', 'Active',\n",
              "       'Active', 'Active', 'Active', 'Inactive', 'Inactive', 'Inactive',\n",
              "       'Inactive', 'Inactive', 'Inactive', 'Active', 'Active', 'Active',\n",
              "       'Active', 'Active', 'Active', 'Active', 'Active', 'Active',\n",
              "       'Active', 'Active', 'Active', 'Inactive', 'Active', 'Active',\n",
              "       'Inactive', 'Active', 'Active', 'Active', 'Active', 'Active',\n",
              "       'Inactive', 'Active', 'Active', 'Active', 'Active', 'Inactive',\n",
              "       'Inactive', 'Inactive', 'Inactive', 'Active', 'Active', 'Active',\n",
              "       'Active', 'Inactive', 'Inactive', 'Inactive', 'Inactive',\n",
              "       'Inactive', 'Inactive', 'Inactive', 'Inactive', 'Active',\n",
              "       'Inactive', 'Active'], dtype='<U10')"
            ]
          },
          "metadata": {},
          "execution_count": 57
        }
      ],
      "source": [
        "activity_status"
      ]
    },
    {
      "cell_type": "markdown",
      "metadata": {
        "id": "Wa-zCHGRck0P"
      },
      "source": [
        "### Let's try to get some insights from the data."
      ]
    },
    {
      "cell_type": "markdown",
      "metadata": {
        "id": "yfMJxctDcnyc"
      },
      "source": [
        "#### What's the average step count? \n",
        "\n",
        "How can we calculate average? => `.mean()`"
      ]
    },
    {
      "cell_type": "code",
      "execution_count": null,
      "metadata": {
        "id": "cQDghZafcskd",
        "colab": {
          "base_uri": "https://localhost:8080/"
        },
        "outputId": "0da55cab-7e01-45b9-aca7-71a305fc0833"
      },
      "outputs": [
        {
          "output_type": "execute_result",
          "data": {
            "text/plain": [
              "2935.9375"
            ]
          },
          "metadata": {},
          "execution_count": 58
        }
      ],
      "source": [
        "step_count.mean()"
      ]
    },
    {
      "cell_type": "markdown",
      "metadata": {
        "id": "A_oVUdX0c-vQ"
      },
      "source": [
        "User moves an average of 2900 steps a day."
      ]
    },
    {
      "cell_type": "markdown",
      "metadata": {
        "id": "aKFXHuW9dFQi"
      },
      "source": [
        "#### On which day the step count was highest?\n",
        "\n",
        "How will be find it? \n",
        "\n",
        "First we find the index of maximum step count and use that index to get the date.\n",
        "\n",
        "How'll we find the index? =>  \n",
        "\n",
        "Numpy provides a function `np.argmax()` which returns the index of maximum value element.\n",
        "\n",
        "Similarly, we have a function `np.argmin()` which returns the index of minimum element."
      ]
    },
    {
      "cell_type": "code",
      "execution_count": null,
      "metadata": {
        "id": "vdkVWLbXdJ_M",
        "colab": {
          "base_uri": "https://localhost:8080/"
        },
        "outputId": "e80c52d3-538f-4932-b863-31fc54a82e3b"
      },
      "outputs": [
        {
          "output_type": "execute_result",
          "data": {
            "text/plain": [
              "69"
            ]
          },
          "metadata": {},
          "execution_count": 59
        }
      ],
      "source": [
        "step_count.argmax()\n"
      ]
    },
    {
      "cell_type": "markdown",
      "metadata": {
        "id": "0LNLiDRQS0oF"
      },
      "source": [
        "Here 69 is the index of maximum step count element."
      ]
    },
    {
      "cell_type": "code",
      "execution_count": null,
      "metadata": {
        "id": "KofFmC7jdb0f",
        "colab": {
          "base_uri": "https://localhost:8080/",
          "height": 36
        },
        "outputId": "5c0c4049-f5f3-4c5d-b7ca-dc86239e4b7a"
      },
      "outputs": [
        {
          "output_type": "execute_result",
          "data": {
            "text/plain": [
              "'14-12-2017'"
            ],
            "application/vnd.google.colaboratory.intrinsic+json": {
              "type": "string"
            }
          },
          "metadata": {},
          "execution_count": 60
        }
      ],
      "source": [
        "date[step_count.argmax()]"
      ]
    },
    {
      "cell_type": "markdown",
      "metadata": {
        "id": "TQxByM7udeIQ"
      },
      "source": [
        "Let's check the calorie burnt on the day"
      ]
    },
    {
      "cell_type": "code",
      "execution_count": null,
      "metadata": {
        "id": "A1Q9Zi6sdis7",
        "colab": {
          "base_uri": "https://localhost:8080/"
        },
        "outputId": "e09f236e-3109-4a11-d045-c28f86892ab0"
      },
      "outputs": [
        {
          "output_type": "execute_result",
          "data": {
            "text/plain": [
              "243"
            ]
          },
          "metadata": {},
          "execution_count": 61
        }
      ],
      "source": [
        "calories_burned[step_count.argmax()]"
      ]
    },
    {
      "cell_type": "markdown",
      "metadata": {
        "id": "AX1brq0Tdm14"
      },
      "source": [
        "Not bad! 243 calories. Let's try to get the number of steps on that day as well"
      ]
    },
    {
      "cell_type": "code",
      "execution_count": null,
      "metadata": {
        "id": "pI9v45zCdrXV",
        "colab": {
          "base_uri": "https://localhost:8080/"
        },
        "outputId": "393733b3-cd83-41fd-d50e-1b18931eb237"
      },
      "outputs": [
        {
          "output_type": "execute_result",
          "data": {
            "text/plain": [
              "7422"
            ]
          },
          "metadata": {},
          "execution_count": 62
        }
      ],
      "source": [
        "step_count.max()"
      ]
    },
    {
      "cell_type": "markdown",
      "metadata": {
        "id": "hjEjPnRFdyoH"
      },
      "source": [
        "7k steps!! Sports mode on!"
      ]
    },
    {
      "cell_type": "markdown",
      "metadata": {
        "id": "6ILytZ8fkCvp"
      },
      "source": [
        "#### Let's try to compare step counts on bad mood days and good mood days"
      ]
    },
    {
      "cell_type": "markdown",
      "metadata": {
        "id": "ivbRXnQzkeu0"
      },
      "source": [
        "Average step count on Sad mood days"
      ]
    },
    {
      "cell_type": "code",
      "execution_count": null,
      "metadata": {
        "id": "Mi_JuVdNkcx-",
        "colab": {
          "base_uri": "https://localhost:8080/"
        },
        "outputId": "1a87e10f-0f9e-4662-a623-be1efef3ea9c"
      },
      "outputs": [
        {
          "output_type": "execute_result",
          "data": {
            "text/plain": [
              "2103.0689655172414"
            ]
          },
          "metadata": {},
          "execution_count": 63
        }
      ],
      "source": [
        "np.mean(step_count[mood == 'Sad'])"
      ]
    },
    {
      "cell_type": "code",
      "execution_count": null,
      "metadata": {
        "id": "KwYN9vPykxWL",
        "colab": {
          "base_uri": "https://localhost:8080/"
        },
        "outputId": "67679874-7a81-4c45-f285-060a32a0ee92"
      },
      "outputs": [
        {
          "output_type": "execute_result",
          "data": {
            "text/plain": [
              "array([  25,   36,   61,  133,  177,  181,  221,  299,  518,  651,  702,\n",
              "        753,  799, 1230, 1258, 1580, 1648, 1696, 2822, 3148, 3519, 3721,\n",
              "       4061, 4340, 4545, 4687, 5461, 6041, 6676])"
            ]
          },
          "metadata": {},
          "execution_count": 64
        }
      ],
      "source": [
        "np.sort(step_count[mood == 'Sad'])"
      ]
    },
    {
      "cell_type": "code",
      "execution_count": null,
      "metadata": {
        "id": "c48b33fa",
        "colab": {
          "base_uri": "https://localhost:8080/"
        },
        "outputId": "366cf4eb-6124-4aec-f1c2-5cf846afcfc5"
      },
      "outputs": [
        {
          "output_type": "execute_result",
          "data": {
            "text/plain": [
              "2021.2355035376254"
            ]
          },
          "metadata": {},
          "execution_count": 65
        }
      ],
      "source": [
        "np.std(step_count[mood == 'Sad'])"
      ]
    },
    {
      "cell_type": "markdown",
      "metadata": {
        "id": "ZFUxe5K2kjon"
      },
      "source": [
        "Average step count on happy days"
      ]
    },
    {
      "cell_type": "code",
      "execution_count": null,
      "metadata": {
        "id": "tqc73GG_khss",
        "colab": {
          "base_uri": "https://localhost:8080/"
        },
        "outputId": "c00a9099-e6cf-47f1-b417-f89c0f141d5f"
      },
      "outputs": [
        {
          "output_type": "execute_result",
          "data": {
            "text/plain": [
              "3392.725"
            ]
          },
          "metadata": {},
          "execution_count": 66
        }
      ],
      "source": [
        "np.mean(step_count[mood == 'Happy'])"
      ]
    },
    {
      "cell_type": "code",
      "execution_count": null,
      "metadata": {
        "id": "beflT_6bk5OU",
        "colab": {
          "base_uri": "https://localhost:8080/"
        },
        "outputId": "3a853d1e-e5dd-46a8-f7de-e45501fbc94b"
      },
      "outputs": [
        {
          "output_type": "execute_result",
          "data": {
            "text/plain": [
              "array([ 153,  269,  330,  493,  539,  546,  614,  705,  774,  995, 1421,\n",
              "       1831, 1867, 2203, 2255, 2725, 3149, 3608, 4005, 4033, 4064, 4068,\n",
              "       4136, 4275, 4421, 4435, 4550, 4683, 4732, 4779, 4880, 5195, 5376,\n",
              "       5464, 5537, 5934, 5999, 6314, 6930, 7422])"
            ]
          },
          "metadata": {},
          "execution_count": 67
        }
      ],
      "source": [
        "np.sort(step_count[mood == 'Happy'])"
      ]
    },
    {
      "cell_type": "markdown",
      "metadata": {
        "id": "CyCEi3qIk-jc"
      },
      "source": [
        "Average step count on sad days - 2103.\n",
        "\n",
        "Average step count on happy days - 3392\n",
        "\n",
        "There may be relation between mood and step count"
      ]
    },
    {
      "cell_type": "markdown",
      "metadata": {
        "id": "LQNvtZ1rlU9y"
      },
      "source": [
        "#### Let's try to check inverse. Mood when step count was greater/lesser"
      ]
    },
    {
      "cell_type": "markdown",
      "metadata": {
        "id": "y2wehAWclgfL"
      },
      "source": [
        "Mood when step count > 4000"
      ]
    },
    {
      "cell_type": "code",
      "execution_count": null,
      "metadata": {
        "id": "TyQDns17lek8",
        "colab": {
          "base_uri": "https://localhost:8080/"
        },
        "outputId": "43a1459b-1a7f-49d0-ebdd-df0f69b7f088"
      },
      "outputs": [
        {
          "output_type": "execute_result",
          "data": {
            "text/plain": [
              "(array(['Happy', 'Neutral', 'Sad'], dtype='<U10'), array([22,  9,  7]))"
            ]
          },
          "metadata": {},
          "execution_count": 68
        }
      ],
      "source": [
        "np.unique(mood[step_count > 4000], return_counts = True)"
      ]
    },
    {
      "cell_type": "markdown",
      "metadata": {
        "id": "FEmry7IUlkZn"
      },
      "source": [
        "Out of 38 days when step count was more than 4000, user was feeling happy on 22 days."
      ]
    },
    {
      "cell_type": "markdown",
      "metadata": {
        "id": "TcScIqvQlsf5"
      },
      "source": [
        "Mood when step count <= 2000"
      ]
    },
    {
      "cell_type": "markdown",
      "metadata": {
        "id": "suk18w4VmEJx"
      },
      "source": [
        "Out of 39 days, when step count was less than 2000, user was feeling sad on 18 days."
      ]
    },
    {
      "cell_type": "markdown",
      "metadata": {
        "id": "rQmdcuhBmNaS"
      },
      "source": [
        "#### **There may be a correlation between Mood and step count**"
      ]
    },
    {
      "cell_type": "markdown",
      "source": [
        "## Reshape in 2D array"
      ],
      "metadata": {
        "id": "0oXgEUU75DEe"
      }
    },
    {
      "cell_type": "markdown",
      "metadata": {
        "id": "A9OulPTH1t1x"
      },
      "source": [
        "#### We saw reshape and flatten. What if i want to convert a matrix to 1D array using `reshape()`\n",
        "#### Question: What should I pass in `A.reshape()` if I want to use it to convert `A` to 1D vector?\n",
        "\n",
        "- **(1, 1)?** - **NO** \n",
        "\n",
        "\n",
        "- It means we only have a single element\n",
        "\n",
        "\n",
        "- But **we don't have a single element**"
      ]
    },
    {
      "cell_type": "code",
      "source": [
        "A = np.arange(12).reshape(3,4)"
      ],
      "metadata": {
        "id": "FijYx9NZjZaG"
      },
      "execution_count": null,
      "outputs": []
    },
    {
      "cell_type": "code",
      "execution_count": null,
      "metadata": {
        "id": "RzDUkALz1t1y",
        "colab": {
          "base_uri": "https://localhost:8080/",
          "height": 165
        },
        "outputId": "15d469d2-2297-4f07-a52b-cf304f9ed3df"
      },
      "outputs": [
        {
          "output_type": "error",
          "ename": "ValueError",
          "evalue": "ignored",
          "traceback": [
            "\u001b[0;31m---------------------------------------------------------------------------\u001b[0m",
            "\u001b[0;31mValueError\u001b[0m                                Traceback (most recent call last)",
            "\u001b[0;32m<ipython-input-93-902e5c35e0d3>\u001b[0m in \u001b[0;36m<cell line: 1>\u001b[0;34m()\u001b[0m\n\u001b[0;32m----> 1\u001b[0;31m \u001b[0mA\u001b[0m\u001b[0;34m.\u001b[0m\u001b[0mreshape\u001b[0m\u001b[0;34m(\u001b[0m\u001b[0;36m1\u001b[0m\u001b[0;34m,\u001b[0m \u001b[0;36m1\u001b[0m\u001b[0;34m)\u001b[0m\u001b[0;34m\u001b[0m\u001b[0;34m\u001b[0m\u001b[0m\n\u001b[0m",
            "\u001b[0;31mValueError\u001b[0m: cannot reshape array of size 12 into shape (1,1)"
          ]
        }
      ],
      "source": [
        "A.reshape(1, 1)"
      ]
    },
    {
      "cell_type": "markdown",
      "metadata": {
        "id": "rX2QWIp_1t1z"
      },
      "source": [
        "- So, **(1, 12)?** - **NO** \n",
        "\n",
        "\n",
        "- It will **still remain a 2D Matrix with dimensions $1\\times12$**"
      ]
    },
    {
      "cell_type": "code",
      "execution_count": null,
      "metadata": {
        "id": "pPqWV_GO1t10",
        "colab": {
          "base_uri": "https://localhost:8080/"
        },
        "outputId": "bc82bf99-1a8e-4f69-d300-bdd16b3d5fa9"
      },
      "outputs": [
        {
          "output_type": "execute_result",
          "data": {
            "text/plain": [
              "array([[ 0,  1,  2,  3,  4,  5,  6,  7,  8,  9, 10, 11]])"
            ]
          },
          "metadata": {},
          "execution_count": 94
        }
      ],
      "source": [
        "A.reshape(1, 12)"
      ]
    },
    {
      "cell_type": "markdown",
      "metadata": {
        "id": "O4A_m2Rn1t11"
      },
      "source": [
        "- **Correct answer is (12)**\n",
        "\n",
        "\n",
        "- We need a vector of dimension (12,)\n",
        "\n",
        "\n",
        "- So we need to pass only 1 dimension in `reshape()`"
      ]
    },
    {
      "cell_type": "code",
      "execution_count": null,
      "metadata": {
        "id": "F-5twnGo1t12",
        "colab": {
          "base_uri": "https://localhost:8080/"
        },
        "outputId": "b4f0b580-46dd-4eae-ca59-0608a3cd6817"
      },
      "outputs": [
        {
          "output_type": "execute_result",
          "data": {
            "text/plain": [
              "array([ 0,  1,  2,  3,  4,  5,  6,  7,  8,  9, 10, 11])"
            ]
          },
          "metadata": {},
          "execution_count": 95
        }
      ],
      "source": [
        "A.reshape(12)"
      ]
    },
    {
      "cell_type": "markdown",
      "metadata": {
        "id": "P0NnpWgO1t13"
      },
      "source": [
        "#### So, Be careful while using `reshape()` to convert a Matrix into a 1D vector"
      ]
    },
    {
      "cell_type": "markdown",
      "metadata": {
        "id": "dlIoWTy01t13"
      },
      "source": [
        "#### What will happen if we pass a negative integer in `reshape()`?"
      ]
    },
    {
      "cell_type": "code",
      "execution_count": null,
      "metadata": {
        "id": "Y0t3bcsB1t13",
        "scrolled": true,
        "colab": {
          "base_uri": "https://localhost:8080/"
        },
        "outputId": "4943ecc9-d57e-402b-8a1e-d69a8accfb59"
      },
      "outputs": [
        {
          "output_type": "execute_result",
          "data": {
            "text/plain": [
              "array([[ 0,  1],\n",
              "       [ 2,  3],\n",
              "       [ 4,  5],\n",
              "       [ 6,  7],\n",
              "       [ 8,  9],\n",
              "       [10, 11]])"
            ]
          },
          "metadata": {},
          "execution_count": 96
        }
      ],
      "source": [
        "A.reshape(6, -1)"
      ]
    },
    {
      "cell_type": "markdown",
      "metadata": {
        "id": "9A538_eX1t14"
      },
      "source": [
        "#### Surprisingly, it did not give an error\n",
        "\n",
        "- It is able to **figure out on its own** what should be the **value in-place of negative integer**\n",
        "\n",
        "\n",
        "- Since **no. of elements in our matrix is 12**\n",
        "\n",
        "\n",
        "- And **we passed 6 as no. of rows**\n",
        "\n",
        "\n",
        "- It is **able to figure out** that **no. of columns should be 2**\n",
        "\n",
        "\n",
        "**Same thing happens with this:**"
      ]
    },
    {
      "cell_type": "code",
      "execution_count": null,
      "metadata": {
        "id": "R2diZQ1K1t14",
        "colab": {
          "base_uri": "https://localhost:8080/"
        },
        "outputId": "d79b0cc1-34fd-4359-d2c5-1edf38ee4b6f"
      },
      "outputs": [
        {
          "output_type": "execute_result",
          "data": {
            "text/plain": [
              "array([[ 0,  1,  2,  3,  4,  5],\n",
              "       [ 6,  7,  8,  9, 10, 11]])"
            ]
          },
          "metadata": {},
          "execution_count": 97
        }
      ],
      "source": [
        "A.reshape(-1, 6)"
      ]
    },
    {
      "cell_type": "markdown",
      "source": [
        "## Matrix multiplication"
      ],
      "metadata": {
        "id": "CdnIOCQcXLZU"
      }
    },
    {
      "cell_type": "markdown",
      "source": [
        "#### Question: What will be output of following? "
      ],
      "metadata": {
        "id": "UCgk6NgpXW2i"
      }
    },
    {
      "cell_type": "code",
      "source": [
        "a = np.arange(5)\n",
        "b = np.ones(5) * 2"
      ],
      "metadata": {
        "id": "YebHuQUHXeAv"
      },
      "execution_count": null,
      "outputs": []
    },
    {
      "cell_type": "code",
      "source": [
        "a * b "
      ],
      "metadata": {
        "id": "kF7XX_1XXlBJ",
        "colab": {
          "base_uri": "https://localhost:8080/"
        },
        "outputId": "efec038d-31bf-4d13-fa44-a8b2e7417826"
      },
      "execution_count": null,
      "outputs": [
        {
          "output_type": "execute_result",
          "data": {
            "text/plain": [
              "array([0., 2., 4., 6., 8.])"
            ]
          },
          "metadata": {},
          "execution_count": 99
        }
      ]
    },
    {
      "cell_type": "markdown",
      "source": [
        "Recall that, if a and b are 1D, * operation will perform elementwise multiplication\n",
        "\n",
        "\n",
        "#### Lets try * with 2D arrays"
      ],
      "metadata": {
        "id": "TdimObCPXWRJ"
      }
    },
    {
      "cell_type": "code",
      "execution_count": null,
      "metadata": {
        "id": "aV3rJPbpUrQa",
        "colab": {
          "base_uri": "https://localhost:8080/"
        },
        "outputId": "74e992f3-66d1-4e9d-d5e0-26ceb9577a6d"
      },
      "outputs": [
        {
          "output_type": "execute_result",
          "data": {
            "text/plain": [
              "array([[ 0,  1,  2,  3],\n",
              "       [ 4,  5,  6,  7],\n",
              "       [ 8,  9, 10, 11]])"
            ]
          },
          "metadata": {},
          "execution_count": 100
        }
      ],
      "source": [
        "A = np.arange(12).reshape(3, 4)\n",
        "A"
      ]
    },
    {
      "cell_type": "code",
      "execution_count": null,
      "metadata": {
        "id": "xec5N0W1UrQb",
        "colab": {
          "base_uri": "https://localhost:8080/"
        },
        "outputId": "a54e39a9-735e-45f7-c44b-3aab936465eb"
      },
      "outputs": [
        {
          "output_type": "execute_result",
          "data": {
            "text/plain": [
              "array([[ 0,  1,  2,  3],\n",
              "       [ 4,  5,  6,  7],\n",
              "       [ 8,  9, 10, 11]])"
            ]
          },
          "metadata": {},
          "execution_count": 101
        }
      ],
      "source": [
        "B = np.arange(12).reshape(3, 4)\n",
        "B"
      ]
    },
    {
      "cell_type": "code",
      "execution_count": null,
      "metadata": {
        "id": "JI5-SporUrQb",
        "colab": {
          "base_uri": "https://localhost:8080/"
        },
        "outputId": "9afc4413-9fa8-4ff5-e8d9-0adc26addd52"
      },
      "outputs": [
        {
          "output_type": "execute_result",
          "data": {
            "text/plain": [
              "array([[  0,   1,   4,   9],\n",
              "       [ 16,  25,  36,  49],\n",
              "       [ 64,  81, 100, 121]])"
            ]
          },
          "metadata": {},
          "execution_count": 102
        }
      ],
      "source": [
        "A * B"
      ]
    },
    {
      "cell_type": "markdown",
      "metadata": {
        "id": "4SnQnKV3UrQb"
      },
      "source": [
        "**Again did element-wise multiplication**\n",
        "\n",
        "#### For actual Matrix Multiplication, We have a different method/operator\n",
        "\n",
        "`np.matmul()`\n",
        "\n"
      ]
    },
    {
      "cell_type": "markdown",
      "source": [
        "\n",
        "#### What is the requirement of dimensions of 2 matrices for Matrix Multiplication?\n",
        "\n",
        "- **Columns of A = Rows of B** (A **Must condition** for Matric Multiplication)\n",
        "\n",
        "\n",
        "- **If A is $3\\times4$, B can be $4\\times3$**... or $4\\times(Something Else)$\n",
        "\n",
        "#### So, lets reshape B to $4\\times3$ instead"
      ],
      "metadata": {
        "id": "5BDC8d_-w3Jp"
      }
    },
    {
      "cell_type": "code",
      "execution_count": null,
      "metadata": {
        "id": "CgYJY5b9UrQc",
        "colab": {
          "base_uri": "https://localhost:8080/"
        },
        "outputId": "18169d75-04dd-459b-91b6-9d5ab2c3c72f"
      },
      "outputs": [
        {
          "output_type": "execute_result",
          "data": {
            "text/plain": [
              "array([[ 0,  1,  2],\n",
              "       [ 3,  4,  5],\n",
              "       [ 6,  7,  8],\n",
              "       [ 9, 10, 11]])"
            ]
          },
          "metadata": {},
          "execution_count": 103
        }
      ],
      "source": [
        "B = B.reshape(4, 3)\n",
        "B"
      ]
    },
    {
      "cell_type": "code",
      "execution_count": null,
      "metadata": {
        "id": "-gr53F0PUrQd",
        "colab": {
          "base_uri": "https://localhost:8080/"
        },
        "outputId": "b1ec718a-8f83-458c-99cb-563ddba2b7f6"
      },
      "outputs": [
        {
          "output_type": "execute_result",
          "data": {
            "text/plain": [
              "array([[ 42,  48,  54],\n",
              "       [114, 136, 158],\n",
              "       [186, 224, 262]])"
            ]
          },
          "metadata": {},
          "execution_count": 104
        }
      ],
      "source": [
        "np.matmul(A, B)"
      ]
    },
    {
      "cell_type": "markdown",
      "metadata": {
        "id": "91JXXYGSUrQd"
      },
      "source": [
        "- **We are getting a $3\\times3$ matrix as output**\n",
        "\n",
        "- So, this is doing Matrix Multiplication\n",
        "\n",
        "#### There's a direct operator as well for Matrix Multiplication\n",
        "`@`"
      ]
    },
    {
      "cell_type": "code",
      "execution_count": null,
      "metadata": {
        "id": "Yd6LfXFmUrQd",
        "colab": {
          "base_uri": "https://localhost:8080/"
        },
        "outputId": "57ad4665-f75f-4af9-870d-ba63eae37558"
      },
      "outputs": [
        {
          "output_type": "execute_result",
          "data": {
            "text/plain": [
              "array([[ 42,  48,  54],\n",
              "       [114, 136, 158],\n",
              "       [186, 224, 262]])"
            ]
          },
          "metadata": {},
          "execution_count": 105
        }
      ],
      "source": [
        "A @ B"
      ]
    },
    {
      "cell_type": "markdown",
      "metadata": {
        "id": "q7ZKcNV8UrQe"
      },
      "source": [
        "#### Question: What will be the dimensions of Matrix Multiplication `B @ A`?\n",
        "\n",
        "- $4\\times4$"
      ]
    },
    {
      "cell_type": "code",
      "execution_count": null,
      "metadata": {
        "id": "PWEH23fGUrQe",
        "colab": {
          "base_uri": "https://localhost:8080/"
        },
        "outputId": "1fb1e900-d53b-4ee7-ac42-83e8282fbadd"
      },
      "outputs": [
        {
          "output_type": "execute_result",
          "data": {
            "text/plain": [
              "array([[ 20,  23,  26,  29],\n",
              "       [ 56,  68,  80,  92],\n",
              "       [ 92, 113, 134, 155],\n",
              "       [128, 158, 188, 218]])"
            ]
          },
          "metadata": {},
          "execution_count": 106
        }
      ],
      "source": [
        "B @ A"
      ]
    },
    {
      "cell_type": "markdown",
      "metadata": {
        "id": "Dr1J9jo5UrQe"
      },
      "source": [
        "#### There is another method in np for doing Matrix Multiplication\n"
      ]
    },
    {
      "cell_type": "code",
      "execution_count": null,
      "metadata": {
        "id": "UDM9hAR2UrQe",
        "colab": {
          "base_uri": "https://localhost:8080/"
        },
        "outputId": "bc63d857-0fc1-4237-f25a-81aebd90dc88"
      },
      "outputs": [
        {
          "output_type": "execute_result",
          "data": {
            "text/plain": [
              "array([[ 42,  48,  54],\n",
              "       [114, 136, 158],\n",
              "       [186, 224, 262]])"
            ]
          },
          "metadata": {},
          "execution_count": 107
        }
      ],
      "source": [
        "np.dot(A, B)"
      ]
    },
    {
      "cell_type": "markdown",
      "metadata": {
        "id": "9TsySgOUUrQe"
      },
      "source": [
        "**Other cases of `np.dot()`**\n",
        "- It performs dot product when both inputs are 1D array\n",
        "- It performs multiplication when both input are scalers.\n"
      ]
    },
    {
      "cell_type": "code",
      "execution_count": null,
      "metadata": {
        "id": "H-urOvgCUrQe"
      },
      "outputs": [],
      "source": [
        "a= np.array([1,2,3])\n",
        "b = np.array([1,1,1])\n"
      ]
    },
    {
      "cell_type": "code",
      "execution_count": null,
      "metadata": {
        "id": "oCO1QzwjUrQf",
        "colab": {
          "base_uri": "https://localhost:8080/"
        },
        "outputId": "35189c81-1983-4583-d460-600aef1d55e2"
      },
      "outputs": [
        {
          "output_type": "execute_result",
          "data": {
            "text/plain": [
              "6"
            ]
          },
          "metadata": {},
          "execution_count": 109
        }
      ],
      "source": [
        "np.dot(a,b) # 1*1 + 2*1 + 3*1 = 6"
      ]
    },
    {
      "cell_type": "code",
      "execution_count": null,
      "metadata": {
        "id": "OW5Kj5zsUrQf",
        "colab": {
          "base_uri": "https://localhost:8080/"
        },
        "outputId": "7aeca53a-88f8-42e5-e0ac-0d7afed60353"
      },
      "outputs": [
        {
          "output_type": "execute_result",
          "data": {
            "text/plain": [
              "20"
            ]
          },
          "metadata": {},
          "execution_count": 110
        }
      ],
      "source": [
        "np.dot(4,5)"
      ]
    },
    {
      "cell_type": "markdown",
      "metadata": {
        "id": "_YIkvBhzUrQf"
      },
      "source": [
        "#### Now, Let's try multiplication of a mix of matrices and vectors\n",
        "\n"
      ]
    },
    {
      "cell_type": "code",
      "execution_count": null,
      "metadata": {
        "id": "O2XUGlZQUrQf",
        "colab": {
          "base_uri": "https://localhost:8080/"
        },
        "outputId": "cdf17378-ee24-4592-cd15-20fe1def0726"
      },
      "outputs": [
        {
          "output_type": "execute_result",
          "data": {
            "text/plain": [
              "array([[ 0,  1,  2,  3],\n",
              "       [ 4,  5,  6,  7],\n",
              "       [ 8,  9, 10, 11]])"
            ]
          },
          "metadata": {},
          "execution_count": 111
        }
      ],
      "source": [
        "A = np.arange(12).reshape(3, 4)  # A is a 3x4 Matrix \n",
        "A"
      ]
    },
    {
      "cell_type": "code",
      "execution_count": null,
      "metadata": {
        "id": "t8S_XfmwUrQf",
        "colab": {
          "base_uri": "https://localhost:8080/"
        },
        "outputId": "c4a8a0ea-6d94-4803-e590-f89c4a74b506"
      },
      "outputs": [
        {
          "output_type": "stream",
          "name": "stdout",
          "text": [
            "(3,)\n"
          ]
        }
      ],
      "source": [
        "a = np.array([1, 2, 3])  # a although a (3,) can be thought of as row vector\n",
        "print(a.shape)"
      ]
    },
    {
      "cell_type": "code",
      "execution_count": null,
      "metadata": {
        "id": "Qio0fP63UrQh",
        "colab": {
          "base_uri": "https://localhost:8080/",
          "height": 182
        },
        "outputId": "d94d390b-45b9-45a0-f43a-448446e5c6fe"
      },
      "outputs": [
        {
          "output_type": "error",
          "ename": "ValueError",
          "evalue": "ignored",
          "traceback": [
            "\u001b[0;31m---------------------------------------------------------------------------\u001b[0m",
            "\u001b[0;31mValueError\u001b[0m                                Traceback (most recent call last)",
            "\u001b[0;32m<ipython-input-113-76efef6bd8e9>\u001b[0m in \u001b[0;36m<cell line: 1>\u001b[0;34m()\u001b[0m\n\u001b[0;32m----> 1\u001b[0;31m \u001b[0mnp\u001b[0m\u001b[0;34m.\u001b[0m\u001b[0mmatmul\u001b[0m\u001b[0;34m(\u001b[0m\u001b[0mA\u001b[0m\u001b[0;34m,\u001b[0m \u001b[0ma\u001b[0m\u001b[0;34m)\u001b[0m\u001b[0;34m\u001b[0m\u001b[0;34m\u001b[0m\u001b[0m\n\u001b[0m",
            "\u001b[0;31mValueError\u001b[0m: matmul: Input operand 1 has a mismatch in its core dimension 0, with gufunc signature (n?,k),(k,m?)->(n?,m?) (size 3 is different from 4)"
          ]
        }
      ],
      "source": [
        "np.matmul(A, a)"
      ]
    },
    {
      "cell_type": "markdown",
      "metadata": {
        "id": "H68txXygUrQh"
      },
      "source": [
        "**Columns of `A` $\\neq$ Rows of `a`**\n",
        "\n",
        "Lets try revervse"
      ]
    },
    {
      "cell_type": "code",
      "execution_count": null,
      "metadata": {
        "id": "t0j5P-cGUrQh",
        "colab": {
          "base_uri": "https://localhost:8080/"
        },
        "outputId": "4537be5c-abed-4541-9dec-4863a681b2a0"
      },
      "outputs": [
        {
          "output_type": "execute_result",
          "data": {
            "text/plain": [
              "array([32, 38, 44, 50])"
            ]
          },
          "metadata": {},
          "execution_count": 114
        }
      ],
      "source": [
        "np.matmul(a, A)"
      ]
    },
    {
      "cell_type": "markdown",
      "metadata": {
        "id": "YAShrxj1UrQh"
      },
      "source": [
        "YES, **Columns of `a` (3) = Rows of `A` (3)**"
      ]
    }
  ]
}