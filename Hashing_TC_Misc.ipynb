{
  "nbformat": 4,
  "nbformat_minor": 0,
  "metadata": {
    "colab": {
      "provenance": [],
      "include_colab_link": true
    },
    "kernelspec": {
      "name": "python3",
      "display_name": "Python 3"
    },
    "language_info": {
      "name": "python"
    }
  },
  "cells": [
    {
      "cell_type": "markdown",
      "metadata": {
        "id": "view-in-github",
        "colab_type": "text"
      },
      "source": [
        "<a href=\"https://colab.research.google.com/github/gchn24/DS-Notes/blob/main/Hashing_TC_Misc.ipynb\" target=\"_parent\"><img src=\"https://colab.research.google.com/assets/colab-badge.svg\" alt=\"Open In Colab\"/></a>"
      ]
    },
    {
      "cell_type": "code",
      "execution_count": null,
      "metadata": {
        "id": "LPfP48gWuWmi"
      },
      "outputs": [],
      "source": [
        "#given a list- it returns the sum of all the elements of the list\n",
        "def solve(a):\n",
        "\n",
        "  n = len(a)\n",
        "  sum = 0\n",
        "  for i in range(n):\n",
        "    sum = sum + a[i]\n",
        "\n",
        "  return sum"
      ]
    },
    {
      "cell_type": "code",
      "source": [
        "a = [3,5,6]\n",
        "ans = solve(a)\n",
        "print(ans)"
      ],
      "metadata": {
        "colab": {
          "base_uri": "https://localhost:8080/"
        },
        "id": "7Geh6OQb2Waj",
        "outputId": "7a917a27-8a95-4870-9b15-9f17675c5795"
      },
      "execution_count": null,
      "outputs": [
        {
          "output_type": "stream",
          "name": "stdout",
          "text": [
            "14\n"
          ]
        }
      ]
    },
    {
      "cell_type": "code",
      "source": [
        "#given a list- it returns the sum of all the elements of the list\n",
        "def solve(a):\n",
        "\n",
        "  n = len(a)\n",
        "  sum = 0\n",
        "  for i in range(0,n,2):\n",
        "    sum = sum + a[i]\n",
        "\n",
        "  return sum"
      ],
      "metadata": {
        "id": "PufIWsa_2nje"
      },
      "execution_count": null,
      "outputs": []
    },
    {
      "cell_type": "code",
      "source": [
        "#given a list- it returns the sum of all the elements of the list\n",
        "def solve(a):\n",
        "\n",
        "  n = len(a)\n",
        "  sum = 0\n",
        "  for i in range(0,n,5):\n",
        "    sum = sum + a[i]\n",
        "\n",
        "  return sum"
      ],
      "metadata": {
        "id": "R4M3cd5T3zx6"
      },
      "execution_count": null,
      "outputs": []
    },
    {
      "cell_type": "code",
      "source": [
        "\n",
        "for i in range(n):\n",
        "  print(i)\n",
        "\n",
        "for j in range(m):\n",
        "  print(j)\n"
      ],
      "metadata": {
        "id": "5LJPRb5y4ZkR"
      },
      "execution_count": null,
      "outputs": []
    },
    {
      "cell_type": "code",
      "source": [
        "def solve(n):\n",
        "\n",
        "  for i in range(1000):\n",
        "    print(n)\n",
        "\n",
        "#O(1) -- constant -- independent of n"
      ],
      "metadata": {
        "id": "Evfnrh0y9tl8"
      },
      "execution_count": null,
      "outputs": []
    },
    {
      "cell_type": "code",
      "source": [
        "\n",
        "def solve():\n",
        "\n",
        "  for i in range(n):\n",
        "    print(i)\n",
        "\n",
        "  for j in range(100):\n",
        "    print(\"hi\")\n",
        "\n",
        "\n",
        "  for a in range(n):\n",
        "    for b in range(m):\n",
        "      for c in range(n):\n",
        "        print(\"YO\")\n",
        "\n",
        "\n"
      ],
      "metadata": {
        "id": "sp3p1lla9m48"
      },
      "execution_count": null,
      "outputs": []
    },
    {
      "cell_type": "code",
      "source": [
        "What will be the time complexity of the following code snippet? \n",
        "\n",
        "for i in range(n):\n",
        "  for j in range(i,0,-1):\n",
        "    if(j>i):\n",
        "      for k in range(n):\n",
        "        print(i,j,k)"
      ],
      "metadata": {
        "id": "Ts4mxhEr3_fj"
      },
      "execution_count": null,
      "outputs": []
    },
    {
      "cell_type": "code",
      "source": [
        "i,j,k,p,q = 0\n",
        "for i in range(n):\n",
        "  p = 0\n",
        "  j = n\n",
        "  while(j>1):\n",
        "    p+=1\n",
        "    k = 1\n",
        "    while(k<p):\n",
        "      q+=1\n",
        "      k *=2\n",
        "    j = j/2"
      ],
      "metadata": {
        "id": "VO20OiJl4ZCJ"
      },
      "execution_count": null,
      "outputs": []
    },
    {
      "cell_type": "code",
      "source": [
        "def recur_search(key, values, lower, upper):\n",
        "  \n",
        "  if (upper < lower):\n",
        "    return False \n",
        "  mid = (lower + upper) // 2 \n",
        "  if (key == values[mid]):\n",
        "    return True; \n",
        "  elif (key < values[mid]):\n",
        "    return recur_search(key, values, lower, mid - 1) \n",
        "  else:\n",
        "    return recur_search(key, values, mid + 1, upper) \n",
        "  \n",
        "  return False"
      ],
      "metadata": {
        "id": "8JjBUlCdLtbU"
      },
      "execution_count": null,
      "outputs": []
    },
    {
      "cell_type": "code",
      "source": [
        "recur_search(1, [1, 2, 3, 4, 5], 0, 4) "
      ],
      "metadata": {
        "colab": {
          "base_uri": "https://localhost:8080/"
        },
        "id": "4JVFBu8OMnZX",
        "outputId": "d851ff47-3561-467c-f9ed-1022556265e2"
      },
      "execution_count": null,
      "outputs": [
        {
          "output_type": "execute_result",
          "data": {
            "text/plain": [
              "True"
            ]
          },
          "metadata": {},
          "execution_count": 10
        }
      ]
    },
    {
      "cell_type": "code",
      "source": [],
      "metadata": {
        "id": "5O1Mo0kkMoA7"
      },
      "execution_count": null,
      "outputs": []
    }
  ]
}