{
  "nbformat": 4,
  "nbformat_minor": 0,
  "metadata": {
    "colab": {
      "provenance": [],
      "include_colab_link": true
    },
    "kernelspec": {
      "name": "python3",
      "display_name": "Python 3"
    },
    "language_info": {
      "name": "python"
    }
  },
  "cells": [
    {
      "cell_type": "markdown",
      "metadata": {
        "id": "view-in-github",
        "colab_type": "text"
      },
      "source": [
        "<a href=\"https://colab.research.google.com/github/gchn24/DS-Notes/blob/main/strings1.ipynb\" target=\"_parent\"><img src=\"https://colab.research.google.com/assets/colab-badge.svg\" alt=\"Open In Colab\"/></a>"
      ]
    },
    {
      "cell_type": "code",
      "execution_count": null,
      "metadata": {
        "colab": {
          "base_uri": "https://localhost:8080/"
        },
        "id": "K-4JQNVubGIS",
        "outputId": "162924b4-3891-410b-d5da-739d2c5cb8fc"
      },
      "outputs": [
        {
          "output_type": "stream",
          "name": "stdout",
          "text": [
            "Hello everyone!\n"
          ]
        }
      ],
      "source": [
        "print(\"Hello everyone!\")"
      ]
    },
    {
      "cell_type": "code",
      "source": [
        "x = \"alkjflkdjlkfjlkLKKFJGLKJGLKSJGFLK #$%   134354434\""
      ],
      "metadata": {
        "id": "XP1gtoVLbT6O"
      },
      "execution_count": null,
      "outputs": []
    },
    {
      "cell_type": "code",
      "source": [
        "print(x)"
      ],
      "metadata": {
        "colab": {
          "base_uri": "https://localhost:8080/"
        },
        "id": "ivXIaynsciXo",
        "outputId": "bf44dc32-0eaf-44ed-d60c-38c16e42cd6e"
      },
      "execution_count": null,
      "outputs": [
        {
          "output_type": "stream",
          "name": "stdout",
          "text": [
            "alkjflkdjlkfjlkLKKFJGLKJGLKSJGFLK#$%   134354434\n"
          ]
        }
      ]
    },
    {
      "cell_type": "code",
      "source": [
        "type(x)"
      ],
      "metadata": {
        "colab": {
          "base_uri": "https://localhost:8080/"
        },
        "id": "ATpWWcPJcjKe",
        "outputId": "dd63eec0-d929-4f1d-ae26-ca2a2b9677fa"
      },
      "execution_count": null,
      "outputs": [
        {
          "output_type": "execute_result",
          "data": {
            "text/plain": [
              "str"
            ]
          },
          "metadata": {},
          "execution_count": 4
        }
      ]
    },
    {
      "cell_type": "code",
      "source": [
        "'valid string'"
      ],
      "metadata": {
        "colab": {
          "base_uri": "https://localhost:8080/",
          "height": 35
        },
        "id": "Uc9ZSECFckpM",
        "outputId": "0a631978-b2ed-40e3-a11c-ad7fd3ea108c"
      },
      "execution_count": null,
      "outputs": [
        {
          "output_type": "execute_result",
          "data": {
            "text/plain": [
              "'valid string'"
            ],
            "application/vnd.google.colaboratory.intrinsic+json": {
              "type": "string"
            }
          },
          "metadata": {},
          "execution_count": 5
        }
      ]
    },
    {
      "cell_type": "code",
      "source": [
        "\"aj\""
      ],
      "metadata": {
        "colab": {
          "base_uri": "https://localhost:8080/",
          "height": 35
        },
        "id": "WqwgM4tcfMuf",
        "outputId": "075e199b-f2c5-4010-9ccf-c0241b26d0ae"
      },
      "execution_count": null,
      "outputs": [
        {
          "output_type": "execute_result",
          "data": {
            "text/plain": [
              "'aj'"
            ],
            "application/vnd.google.colaboratory.intrinsic+json": {
              "type": "string"
            }
          },
          "metadata": {},
          "execution_count": 6
        }
      ]
    },
    {
      "cell_type": "code",
      "source": [
        "\"a'\n",
        "\n"
      ],
      "metadata": {
        "colab": {
          "base_uri": "https://localhost:8080/",
          "height": 134
        },
        "id": "VkJ-FrJ2fNr6",
        "outputId": "4ba02921-cc6b-437b-feba-9b64f67bd60e"
      },
      "execution_count": null,
      "outputs": [
        {
          "output_type": "error",
          "ename": "SyntaxError",
          "evalue": "ignored",
          "traceback": [
            "\u001b[0;36m  File \u001b[0;32m\"<ipython-input-7-5acf6bf09b79>\"\u001b[0;36m, line \u001b[0;32m1\u001b[0m\n\u001b[0;31m    \"a'\u001b[0m\n\u001b[0m       ^\u001b[0m\n\u001b[0;31mSyntaxError\u001b[0m\u001b[0;31m:\u001b[0m EOL while scanning string literal\n"
          ]
        }
      ]
    },
    {
      "cell_type": "code",
      "source": [
        "#opening and closing quotes should be same"
      ],
      "metadata": {
        "id": "lVOhSrxyfP4G"
      },
      "execution_count": null,
      "outputs": []
    },
    {
      "cell_type": "code",
      "source": [
        "\"ab\" + \"cd\"\n",
        "#+ -- concatenation"
      ],
      "metadata": {
        "colab": {
          "base_uri": "https://localhost:8080/",
          "height": 35
        },
        "id": "4qujvVY3fW_D",
        "outputId": "53c467c5-dc64-495a-d278-c3c1f7c19520"
      },
      "execution_count": null,
      "outputs": [
        {
          "output_type": "execute_result",
          "data": {
            "text/plain": [
              "'abcd'"
            ],
            "application/vnd.google.colaboratory.intrinsic+json": {
              "type": "string"
            }
          },
          "metadata": {},
          "execution_count": 9
        }
      ]
    },
    {
      "cell_type": "code",
      "source": [
        "\"a\"*5"
      ],
      "metadata": {
        "colab": {
          "base_uri": "https://localhost:8080/",
          "height": 35
        },
        "id": "BeQWecRafp8g",
        "outputId": "24c58e93-496a-4e21-ddcd-d4967e902086"
      },
      "execution_count": null,
      "outputs": [
        {
          "output_type": "execute_result",
          "data": {
            "text/plain": [
              "'aaaaa'"
            ],
            "application/vnd.google.colaboratory.intrinsic+json": {
              "type": "string"
            }
          },
          "metadata": {},
          "execution_count": 10
        }
      ]
    },
    {
      "cell_type": "code",
      "source": [
        "\"aj\"*5"
      ],
      "metadata": {
        "colab": {
          "base_uri": "https://localhost:8080/",
          "height": 35
        },
        "id": "MZR9Qs2XfwNn",
        "outputId": "254533b7-ce3b-4693-aad2-5c36edc7f417"
      },
      "execution_count": null,
      "outputs": [
        {
          "output_type": "execute_result",
          "data": {
            "text/plain": [
              "'ajajajajaj'"
            ],
            "application/vnd.google.colaboratory.intrinsic+json": {
              "type": "string"
            }
          },
          "metadata": {},
          "execution_count": 11
        }
      ]
    },
    {
      "cell_type": "code",
      "source": [
        "\"aj\"*7"
      ],
      "metadata": {
        "colab": {
          "base_uri": "https://localhost:8080/",
          "height": 35
        },
        "id": "vkBAATv1f021",
        "outputId": "f1d582c5-16cb-49c0-9a46-590e2def4761"
      },
      "execution_count": null,
      "outputs": [
        {
          "output_type": "execute_result",
          "data": {
            "text/plain": [
              "'ajajajajajajaj'"
            ],
            "application/vnd.google.colaboratory.intrinsic+json": {
              "type": "string"
            }
          },
          "metadata": {},
          "execution_count": 12
        }
      ]
    },
    {
      "cell_type": "code",
      "source": [
        "\"a\" < \"b\""
      ],
      "metadata": {
        "colab": {
          "base_uri": "https://localhost:8080/"
        },
        "id": "qVxhzjBbf4wc",
        "outputId": "cdb78c08-0c25-4519-d3b1-f3551eb8f223"
      },
      "execution_count": null,
      "outputs": [
        {
          "output_type": "execute_result",
          "data": {
            "text/plain": [
              "True"
            ]
          },
          "metadata": {},
          "execution_count": 13
        }
      ]
    },
    {
      "cell_type": "code",
      "source": [
        "#Lexicographical order --> order of words in dictionary"
      ],
      "metadata": {
        "id": "hyKcSasUgDY2"
      },
      "execution_count": null,
      "outputs": []
    },
    {
      "cell_type": "code",
      "source": [
        "\"adb\" > \"acb\""
      ],
      "metadata": {
        "colab": {
          "base_uri": "https://localhost:8080/"
        },
        "id": "-rnhfE4Mgfms",
        "outputId": "fe78f7b8-5967-4c40-ac29-427a2b597f4b"
      },
      "execution_count": null,
      "outputs": [
        {
          "output_type": "execute_result",
          "data": {
            "text/plain": [
              "True"
            ]
          },
          "metadata": {},
          "execution_count": 14
        }
      ]
    },
    {
      "cell_type": "code",
      "source": [
        "\"zebra\" < \"abcfifahgijalkgnlkfdngkjhahritkangmdanf\""
      ],
      "metadata": {
        "colab": {
          "base_uri": "https://localhost:8080/"
        },
        "id": "37w281IHgr3z",
        "outputId": "6e738710-8f43-4655-8a8c-2f534ecbe571"
      },
      "execution_count": null,
      "outputs": [
        {
          "output_type": "execute_result",
          "data": {
            "text/plain": [
              "False"
            ]
          },
          "metadata": {},
          "execution_count": 15
        }
      ]
    },
    {
      "cell_type": "code",
      "source": [
        "\"bddsfjlk\" < \"dfjadlkjflk\""
      ],
      "metadata": {
        "colab": {
          "base_uri": "https://localhost:8080/"
        },
        "id": "ph6YeTWpg1yZ",
        "outputId": "4f2c3797-5e60-4a54-9763-9336f50457fd"
      },
      "execution_count": null,
      "outputs": [
        {
          "output_type": "execute_result",
          "data": {
            "text/plain": [
              "True"
            ]
          },
          "metadata": {},
          "execution_count": 16
        }
      ]
    },
    {
      "cell_type": "code",
      "source": [
        "\"A\" < \"a\""
      ],
      "metadata": {
        "colab": {
          "base_uri": "https://localhost:8080/"
        },
        "id": "mNh90dW1hIJb",
        "outputId": "7320ffe3-4d5b-49e5-c110-a2c50c6ab085"
      },
      "execution_count": null,
      "outputs": [
        {
          "output_type": "execute_result",
          "data": {
            "text/plain": [
              "True"
            ]
          },
          "metadata": {},
          "execution_count": 17
        }
      ]
    },
    {
      "cell_type": "code",
      "source": [
        "\"aAa\" < \"aaa\""
      ],
      "metadata": {
        "colab": {
          "base_uri": "https://localhost:8080/"
        },
        "id": "boxZbLvahUql",
        "outputId": "1f515de2-2a06-4e74-8ccd-e9217c744792"
      },
      "execution_count": null,
      "outputs": [
        {
          "output_type": "execute_result",
          "data": {
            "text/plain": [
              "True"
            ]
          },
          "metadata": {},
          "execution_count": 18
        }
      ]
    },
    {
      "cell_type": "code",
      "source": [
        "#how to find the ascii value of char"
      ],
      "metadata": {
        "id": "xYwLbOSZhlbx"
      },
      "execution_count": null,
      "outputs": []
    },
    {
      "cell_type": "code",
      "source": [
        "# ord(character) --> returns the ascii value of that char"
      ],
      "metadata": {
        "id": "vQDXJ0Bkht98"
      },
      "execution_count": null,
      "outputs": []
    },
    {
      "cell_type": "code",
      "source": [
        "ord(\"A\")"
      ],
      "metadata": {
        "colab": {
          "base_uri": "https://localhost:8080/"
        },
        "id": "9MGlsLHKh0Ee",
        "outputId": "eb273fad-357d-4027-efed-9068d53ff9e0"
      },
      "execution_count": null,
      "outputs": [
        {
          "output_type": "execute_result",
          "data": {
            "text/plain": [
              "65"
            ]
          },
          "metadata": {},
          "execution_count": 20
        }
      ]
    },
    {
      "cell_type": "code",
      "source": [
        "ord(\"B\")"
      ],
      "metadata": {
        "colab": {
          "base_uri": "https://localhost:8080/"
        },
        "id": "tEeYGUZzh2HL",
        "outputId": "20b1c7a1-1e1f-4bde-d366-469b50bb4c71"
      },
      "execution_count": null,
      "outputs": [
        {
          "output_type": "execute_result",
          "data": {
            "text/plain": [
              "66"
            ]
          },
          "metadata": {},
          "execution_count": 21
        }
      ]
    },
    {
      "cell_type": "code",
      "source": [
        "ord(\"a\")"
      ],
      "metadata": {
        "colab": {
          "base_uri": "https://localhost:8080/"
        },
        "id": "oX1wivc2h56j",
        "outputId": "9e07e76e-fd7a-4caf-b58c-7736811b1609"
      },
      "execution_count": null,
      "outputs": [
        {
          "output_type": "execute_result",
          "data": {
            "text/plain": [
              "97"
            ]
          },
          "metadata": {},
          "execution_count": 22
        }
      ]
    },
    {
      "cell_type": "code",
      "source": [
        "ord(\"#\")"
      ],
      "metadata": {
        "colab": {
          "base_uri": "https://localhost:8080/"
        },
        "id": "5kV7v_a3h7wV",
        "outputId": "90325794-c9ab-4527-d556-3afc5dacc1db"
      },
      "execution_count": null,
      "outputs": [
        {
          "output_type": "execute_result",
          "data": {
            "text/plain": [
              "35"
            ]
          },
          "metadata": {},
          "execution_count": 23
        }
      ]
    },
    {
      "cell_type": "code",
      "source": [
        "ord('1')"
      ],
      "metadata": {
        "colab": {
          "base_uri": "https://localhost:8080/"
        },
        "id": "b_fB0Rlzh-nc",
        "outputId": "9372df4e-9fe8-4145-adc6-3b7580ff0eaa"
      },
      "execution_count": null,
      "outputs": [
        {
          "output_type": "execute_result",
          "data": {
            "text/plain": [
              "49"
            ]
          },
          "metadata": {},
          "execution_count": 24
        }
      ]
    },
    {
      "cell_type": "code",
      "source": [
        "#how to find character from a ascii value"
      ],
      "metadata": {
        "id": "aKU6QtK9iBb3"
      },
      "execution_count": null,
      "outputs": []
    },
    {
      "cell_type": "code",
      "source": [
        "# chr(value) --> returns the char having value as its ascii code"
      ],
      "metadata": {
        "id": "KtFf-KsOiN_4"
      },
      "execution_count": null,
      "outputs": []
    },
    {
      "cell_type": "code",
      "source": [
        "chr(65)"
      ],
      "metadata": {
        "colab": {
          "base_uri": "https://localhost:8080/",
          "height": 35
        },
        "id": "xBnlQURZiWOe",
        "outputId": "e3d32e49-f42c-4e2f-d81d-a6ffd08036cf"
      },
      "execution_count": null,
      "outputs": [
        {
          "output_type": "execute_result",
          "data": {
            "text/plain": [
              "'A'"
            ],
            "application/vnd.google.colaboratory.intrinsic+json": {
              "type": "string"
            }
          },
          "metadata": {},
          "execution_count": 26
        }
      ]
    },
    {
      "cell_type": "code",
      "source": [
        "chr(49)"
      ],
      "metadata": {
        "colab": {
          "base_uri": "https://localhost:8080/",
          "height": 35
        },
        "id": "V4MYOMOIiYIN",
        "outputId": "e56de070-fff2-41bd-b9b1-04635d22bbd4"
      },
      "execution_count": null,
      "outputs": [
        {
          "output_type": "execute_result",
          "data": {
            "text/plain": [
              "'1'"
            ],
            "application/vnd.google.colaboratory.intrinsic+json": {
              "type": "string"
            }
          },
          "metadata": {},
          "execution_count": 27
        }
      ]
    },
    {
      "cell_type": "code",
      "source": [
        "chr(128516)"
      ],
      "metadata": {
        "colab": {
          "base_uri": "https://localhost:8080/",
          "height": 35
        },
        "id": "KeP0giIsidyQ",
        "outputId": "9d6f8be3-32e5-4c73-b60c-6c8a79cbedb8"
      },
      "execution_count": null,
      "outputs": [
        {
          "output_type": "execute_result",
          "data": {
            "text/plain": [
              "'😄'"
            ],
            "application/vnd.google.colaboratory.intrinsic+json": {
              "type": "string"
            }
          },
          "metadata": {},
          "execution_count": 28
        }
      ]
    },
    {
      "cell_type": "code",
      "source": [
        "ord('😄')"
      ],
      "metadata": {
        "colab": {
          "base_uri": "https://localhost:8080/"
        },
        "id": "SLzKUSzei9Uk",
        "outputId": "dba8db40-85fd-4020-bcd0-7d081d4618cb"
      },
      "execution_count": null,
      "outputs": [
        {
          "output_type": "execute_result",
          "data": {
            "text/plain": [
              "128516"
            ]
          },
          "metadata": {},
          "execution_count": 30
        }
      ]
    },
    {
      "cell_type": "code",
      "source": [
        "'''\n",
        "Q1 -\n",
        "1. Take a string as input fro the user\n",
        "2. Print that string character by character with each char on new line\n",
        "\n",
        "ip: \"INDIA\"\n",
        "output:\n",
        "I\n",
        "N\n",
        "D\n",
        "I\n",
        "A\n",
        "'''"
      ],
      "metadata": {
        "id": "LNils3PNihoX"
      },
      "execution_count": null,
      "outputs": []
    },
    {
      "cell_type": "code",
      "source": [
        "s = input()\n",
        "\n",
        "for i in s:\n",
        "  print(i)\n",
        "\n",
        "#strings are also iterable"
      ],
      "metadata": {
        "colab": {
          "base_uri": "https://localhost:8080/"
        },
        "id": "v93R2-sTjYaS",
        "outputId": "479aac46-2846-4df3-8cc5-483d7943eccf"
      },
      "execution_count": null,
      "outputs": [
        {
          "output_type": "stream",
          "name": "stdout",
          "text": [
            "INDIA\n",
            "I\n",
            "N\n",
            "D\n",
            "I\n",
            "A\n"
          ]
        }
      ]
    },
    {
      "cell_type": "code",
      "source": [
        "'''\n",
        "Q2-\n",
        "Take string as input\n",
        "Print the followin:\n",
        "\n",
        "\"First character - <actual first char>, Last character - <last char of string>\"\n",
        "\n",
        "ip: \"INDIA\"\n",
        "op: First character - I, Last character - A\n",
        "'''"
      ],
      "metadata": {
        "colab": {
          "base_uri": "https://localhost:8080/",
          "height": 53
        },
        "id": "0YMwofzzjjWe",
        "outputId": "44447c58-03a0-4f4e-9868-ff31ad931e3d"
      },
      "execution_count": null,
      "outputs": [
        {
          "output_type": "execute_result",
          "data": {
            "text/plain": [
              "'\\nQ2-\\nTake string as input\\nPrint the followin:\\n\\n\"First character - <actual first char>, Last character - <last char of string>\"\\n\\nip: \"INDIA\"\\nop: First character - I, Last character - A\\n'"
            ],
            "application/vnd.google.colaboratory.intrinsic+json": {
              "type": "string"
            }
          },
          "metadata": {},
          "execution_count": 32
        }
      ]
    },
    {
      "cell_type": "code",
      "source": [
        "# lst[0]\n",
        "\n",
        "# lst[len(a)-1]\n",
        "# lst[-1]"
      ],
      "metadata": {
        "id": "KaYsM3PlkS9l"
      },
      "execution_count": null,
      "outputs": []
    },
    {
      "cell_type": "code",
      "source": [
        "s = input()\n",
        "\n",
        "print(\"First character - \", s[0], \", Last character - \",s[-1])"
      ],
      "metadata": {
        "colab": {
          "base_uri": "https://localhost:8080/"
        },
        "id": "Th1A4LQjkbkz",
        "outputId": "cae30cdb-fc89-43c2-c5f7-d9554c457cdc"
      },
      "execution_count": null,
      "outputs": [
        {
          "output_type": "stream",
          "name": "stdout",
          "text": [
            "INDIA\n",
            "First character -  I , Last character -  A\n"
          ]
        }
      ]
    },
    {
      "cell_type": "code",
      "source": [
        "\n",
        "\n",
        "a = 5\n",
        "b = 10\n",
        "\n",
        "print(\"a = \", a , \" b = \", b)"
      ],
      "metadata": {
        "colab": {
          "base_uri": "https://localhost:8080/"
        },
        "id": "0YIGgWUTkoQ-",
        "outputId": "bd5077fc-349a-4805-fcdd-2ba39e3de2bc"
      },
      "execution_count": null,
      "outputs": [
        {
          "output_type": "stream",
          "name": "stdout",
          "text": [
            "a =  5  b =  10\n"
          ]
        }
      ]
    },
    {
      "cell_type": "code",
      "source": [
        "print(\"a = {} b = {}\".format(a,b))"
      ],
      "metadata": {
        "colab": {
          "base_uri": "https://localhost:8080/"
        },
        "id": "Kd_0ZafClCJL",
        "outputId": "5ecd6036-def4-4e31-f47a-460076ae8b89"
      },
      "execution_count": null,
      "outputs": [
        {
          "output_type": "stream",
          "name": "stdout",
          "text": [
            "a = 5 b = 10\n"
          ]
        }
      ]
    },
    {
      "cell_type": "code",
      "source": [
        "name = input()\n",
        "\n",
        "print(\"Hello {}\".format(name))"
      ],
      "metadata": {
        "colab": {
          "base_uri": "https://localhost:8080/"
        },
        "id": "rp3MmAlClUbv",
        "outputId": "59f96877-3b51-418b-ced4-cc385fd66df3"
      },
      "execution_count": null,
      "outputs": [
        {
          "output_type": "stream",
          "name": "stdout",
          "text": [
            "yoyo\n",
            "Hello yoyo\n"
          ]
        }
      ]
    },
    {
      "cell_type": "code",
      "source": [
        "#string formatting\n",
        "\n",
        "print(f\"a = {b} b = {a}\")"
      ],
      "metadata": {
        "colab": {
          "base_uri": "https://localhost:8080/"
        },
        "id": "KG6_RmPylhqL",
        "outputId": "0e538aca-e5eb-43bc-c619-fc25a9593af3"
      },
      "execution_count": null,
      "outputs": [
        {
          "output_type": "stream",
          "name": "stdout",
          "text": [
            "a = 10 b = 5\n"
          ]
        }
      ]
    },
    {
      "cell_type": "code",
      "source": [
        "name = input()\n",
        "\n",
        "print(f\"Hello {name}\")"
      ],
      "metadata": {
        "colab": {
          "base_uri": "https://localhost:8080/"
        },
        "id": "F8tLTyddmARE",
        "outputId": "fc010252-3c62-48a6-a11d-788a78c090ea"
      },
      "execution_count": null,
      "outputs": [
        {
          "output_type": "stream",
          "name": "stdout",
          "text": [
            "yoyo\n",
            "Hello yoyo\n"
          ]
        }
      ]
    },
    {
      "cell_type": "code",
      "source": [
        "s = input()\n",
        "\n",
        "print(\"First character - \", s[0], \", Last character - \",s[-1])"
      ],
      "metadata": {
        "id": "aZ73YkmumQo-"
      },
      "execution_count": null,
      "outputs": []
    },
    {
      "cell_type": "code",
      "source": [
        "s = input()\n",
        "\n",
        "print(f\"First character - {s[0]}, Last character - {s[-1]}\")"
      ],
      "metadata": {
        "colab": {
          "base_uri": "https://localhost:8080/"
        },
        "id": "dMGcgxJAm426",
        "outputId": "56987aec-a5e3-4848-e06e-3904b38d95a1"
      },
      "execution_count": null,
      "outputs": [
        {
          "output_type": "stream",
          "name": "stdout",
          "text": [
            "INDIA\n",
            "First character - I, Last character - A\n"
          ]
        }
      ]
    },
    {
      "cell_type": "code",
      "source": [
        "s = \"india_is_my_country\"\n",
        "\n",
        "s[:5]"
      ],
      "metadata": {
        "colab": {
          "base_uri": "https://localhost:8080/",
          "height": 35
        },
        "id": "KmI3p2Eam_bl",
        "outputId": "1af0da62-d173-451f-e22c-4495f3a7802e"
      },
      "execution_count": null,
      "outputs": [
        {
          "output_type": "execute_result",
          "data": {
            "text/plain": [
              "'india'"
            ],
            "application/vnd.google.colaboratory.intrinsic+json": {
              "type": "string"
            }
          },
          "metadata": {},
          "execution_count": 45
        }
      ]
    },
    {
      "cell_type": "code",
      "source": [
        "s = \"india_is_my_country\"\n",
        "\n",
        "print(s[3:6])"
      ],
      "metadata": {
        "colab": {
          "base_uri": "https://localhost:8080/"
        },
        "id": "TYsVpiIQna30",
        "outputId": "4f98582b-2ceb-4100-d9ae-48230b8f5e4f"
      },
      "execution_count": null,
      "outputs": [
        {
          "output_type": "stream",
          "name": "stdout",
          "text": [
            "ia_\n"
          ]
        }
      ]
    },
    {
      "cell_type": "code",
      "source": [
        "lst = [0,3,5,6]\n",
        "lst[1] = 9\n",
        "print(lst)\n",
        "\n",
        "#mutability"
      ],
      "metadata": {
        "colab": {
          "base_uri": "https://localhost:8080/"
        },
        "id": "u9X40LnvnmXr",
        "outputId": "24d49a0f-35f0-49db-b1c4-72df94de8828"
      },
      "execution_count": null,
      "outputs": [
        {
          "output_type": "stream",
          "name": "stdout",
          "text": [
            "[0, 9, 5, 6]\n"
          ]
        }
      ]
    },
    {
      "cell_type": "code",
      "source": [
        "s = \"INDIA\"\n",
        "s[1] = \"R\"\n",
        "\n",
        "print(s)\n",
        "#strings are immutable - you cannot modify the same string"
      ],
      "metadata": {
        "colab": {
          "base_uri": "https://localhost:8080/",
          "height": 223
        },
        "id": "T3tWCqbQoD-m",
        "outputId": "4ef4cc19-e2c0-4316-cb51-886f619c6152"
      },
      "execution_count": null,
      "outputs": [
        {
          "output_type": "error",
          "ename": "TypeError",
          "evalue": "ignored",
          "traceback": [
            "\u001b[0;31m---------------------------------------------------------------------------\u001b[0m",
            "\u001b[0;31mTypeError\u001b[0m                                 Traceback (most recent call last)",
            "\u001b[0;32m<ipython-input-49-24196d8fabd9>\u001b[0m in \u001b[0;36m<module>\u001b[0;34m\u001b[0m\n\u001b[1;32m      1\u001b[0m \u001b[0ms\u001b[0m \u001b[0;34m=\u001b[0m \u001b[0;34m\"INDIA\"\u001b[0m\u001b[0;34m\u001b[0m\u001b[0;34m\u001b[0m\u001b[0m\n\u001b[0;32m----> 2\u001b[0;31m \u001b[0ms\u001b[0m\u001b[0;34m[\u001b[0m\u001b[0;36m1\u001b[0m\u001b[0;34m]\u001b[0m \u001b[0;34m=\u001b[0m \u001b[0;34m\"R\"\u001b[0m\u001b[0;34m\u001b[0m\u001b[0;34m\u001b[0m\u001b[0m\n\u001b[0m\u001b[1;32m      3\u001b[0m \u001b[0;34m\u001b[0m\u001b[0m\n\u001b[1;32m      4\u001b[0m \u001b[0mprint\u001b[0m\u001b[0;34m(\u001b[0m\u001b[0ms\u001b[0m\u001b[0;34m)\u001b[0m\u001b[0;34m\u001b[0m\u001b[0;34m\u001b[0m\u001b[0m\n",
            "\u001b[0;31mTypeError\u001b[0m: 'str' object does not support item assignment"
          ]
        }
      ]
    },
    {
      "cell_type": "code",
      "source": [
        "s = \"INDIA\"\n",
        "\n",
        "s2 = s[:3]\n",
        "\n",
        "print(s2)"
      ],
      "metadata": {
        "colab": {
          "base_uri": "https://localhost:8080/"
        },
        "id": "pZpDQqc5oRFt",
        "outputId": "3b223be1-c64e-4c2a-e4e7-a8049b82de40"
      },
      "execution_count": null,
      "outputs": [
        {
          "output_type": "stream",
          "name": "stdout",
          "text": [
            "IND\n"
          ]
        }
      ]
    },
    {
      "cell_type": "code",
      "source": [
        "print(s)"
      ],
      "metadata": {
        "colab": {
          "base_uri": "https://localhost:8080/"
        },
        "id": "Bp3vj6QFop_-",
        "outputId": "0df1a84a-ddba-4578-b7c5-53f91e16fa53"
      },
      "execution_count": null,
      "outputs": [
        {
          "output_type": "stream",
          "name": "stdout",
          "text": [
            "INDIA\n"
          ]
        }
      ]
    },
    {
      "cell_type": "code",
      "source": [
        "'''\n",
        "Q3:\n",
        "Take a string as input\n",
        "print the reverse of that string\n",
        "'''\n",
        "\n",
        "s = input()\n",
        "\n",
        "print(s[::-1])"
      ],
      "metadata": {
        "colab": {
          "base_uri": "https://localhost:8080/"
        },
        "id": "lUxDpXS2ou4U",
        "outputId": "718b90f4-2229-421e-c4a3-94b2a53e1d38"
      },
      "execution_count": null,
      "outputs": [
        {
          "output_type": "stream",
          "name": "stdout",
          "text": [
            "ADITYA\n",
            "AYTIDA\n"
          ]
        }
      ]
    },
    {
      "cell_type": "code",
      "source": [
        "8:08 --> 8:18"
      ],
      "metadata": {
        "id": "LbeEPrlFpKSU"
      },
      "execution_count": null,
      "outputs": []
    },
    {
      "cell_type": "code",
      "source": [
        "'''\n",
        "Q4-\n",
        "Take a string \n",
        "Print \"Palindrome\" if the string is Palindrome, otherwise print \"Not a Palindrome\".\n",
        "'''"
      ],
      "metadata": {
        "colab": {
          "base_uri": "https://localhost:8080/",
          "height": 35
        },
        "id": "BX1psspIsMgw",
        "outputId": "9f7e0560-3edd-41e8-c2f6-b0cc5fa68162"
      },
      "execution_count": null,
      "outputs": [
        {
          "output_type": "execute_result",
          "data": {
            "text/plain": [
              "'\\nQ4-\\nTake a string \\nPrint \"Palindrome\" if the string is Palindrome, otherwise print \"Not a Palindrome\".\\n'"
            ],
            "application/vnd.google.colaboratory.intrinsic+json": {
              "type": "string"
            }
          },
          "metadata": {},
          "execution_count": 53
        }
      ]
    },
    {
      "cell_type": "code",
      "source": [
        "Examples:\n",
        "\n",
        "\"AMA\" - yes\n",
        "\n",
        "\"MADAM\"  - yes\n",
        "\n",
        "\"ADITYA\" - no\n",
        "\n"
      ],
      "metadata": {
        "id": "fXmUNZAssaS8"
      },
      "execution_count": null,
      "outputs": []
    },
    {
      "cell_type": "code",
      "source": [
        "s = input()\n",
        "\n",
        "reverse_s = s[::-1]\n",
        "\n",
        "if s == reverse_s:\n",
        "  print(\"Palindrome\")\n",
        "else:\n",
        "  print(\"Not a Palindrome\")"
      ],
      "metadata": {
        "colab": {
          "base_uri": "https://localhost:8080/"
        },
        "id": "msWwteJXsu_-",
        "outputId": "868b38c0-b764-4ced-edf4-24c89cc8654b"
      },
      "execution_count": null,
      "outputs": [
        {
          "output_type": "stream",
          "name": "stdout",
          "text": [
            "aditya\n",
            "Not a Palindrome\n"
          ]
        }
      ]
    },
    {
      "cell_type": "code",
      "source": [
        "s = input()\n",
        "\n",
        "if s == s[::-1]:\n",
        "  print(\"Palindrome\")\n",
        "else:\n",
        "  print(\"Not a Palindrome\")"
      ],
      "metadata": {
        "colab": {
          "base_uri": "https://localhost:8080/"
        },
        "id": "A1gzidAitIHY",
        "outputId": "c41a264b-0e17-4319-965f-3a558a8341c5"
      },
      "execution_count": null,
      "outputs": [
        {
          "output_type": "stream",
          "name": "stdout",
          "text": [
            "aditya\n",
            "Not a Palindrome\n"
          ]
        }
      ]
    },
    {
      "cell_type": "code",
      "source": [
        "'''\n",
        "Q5:\n",
        "Take a string\n",
        "Print the count of upper case char in that string\n",
        "\n",
        "eg: \n",
        "ip: \"this is a RANDOM string 78888 **\"\n",
        "output: 6\n",
        "'''\n",
        "\n"
      ],
      "metadata": {
        "id": "2Vw4rrystaR0"
      },
      "execution_count": null,
      "outputs": []
    },
    {
      "cell_type": "code",
      "source": [
        "#version1:\n",
        "\n",
        "s = input()\n",
        "count = 0\n",
        "\n",
        "for c in s:\n",
        "  if  ord(c) >= 65 and ord(c) <= 90:\n",
        "    count = count+1\n",
        "\n",
        "print(f\"The number of upper case char = {count}\")"
      ],
      "metadata": {
        "colab": {
          "base_uri": "https://localhost:8080/"
        },
        "id": "XMOo3vFpuH5c",
        "outputId": "4202fbfc-54e5-4b3f-bbba-f42ed5a9d80f"
      },
      "execution_count": null,
      "outputs": [
        {
          "output_type": "stream",
          "name": "stdout",
          "text": [
            "this is a RANDOM string\n",
            "The number of upper case char = 6\n"
          ]
        }
      ]
    },
    {
      "cell_type": "code",
      "source": [
        "#version2:\n",
        "\n",
        "\"A\".isupper()"
      ],
      "metadata": {
        "colab": {
          "base_uri": "https://localhost:8080/"
        },
        "id": "lOP1C3Kiuie1",
        "outputId": "7ed9e595-4cbe-42d8-d47a-b8fffa71a441"
      },
      "execution_count": null,
      "outputs": [
        {
          "output_type": "execute_result",
          "data": {
            "text/plain": [
              "True"
            ]
          },
          "metadata": {},
          "execution_count": 59
        }
      ]
    },
    {
      "cell_type": "code",
      "source": [
        "\"a\".isupper()"
      ],
      "metadata": {
        "colab": {
          "base_uri": "https://localhost:8080/"
        },
        "id": "ChGd4vkRu1at",
        "outputId": "54344a8f-588b-4525-ce4a-6d7a984f4a4f"
      },
      "execution_count": null,
      "outputs": [
        {
          "output_type": "execute_result",
          "data": {
            "text/plain": [
              "False"
            ]
          },
          "metadata": {},
          "execution_count": 60
        }
      ]
    },
    {
      "cell_type": "code",
      "source": [
        "\"a\".islower()"
      ],
      "metadata": {
        "colab": {
          "base_uri": "https://localhost:8080/"
        },
        "id": "zg0lA7wPu7B5",
        "outputId": "368c06e9-d299-420c-9dd3-9c7544d5c9b2"
      },
      "execution_count": null,
      "outputs": [
        {
          "output_type": "execute_result",
          "data": {
            "text/plain": [
              "True"
            ]
          },
          "metadata": {},
          "execution_count": 61
        }
      ]
    },
    {
      "cell_type": "code",
      "source": [
        "\"A\".islower()"
      ],
      "metadata": {
        "colab": {
          "base_uri": "https://localhost:8080/"
        },
        "id": "lSLcAuaCvFFh",
        "outputId": "f8684ac4-6b24-4304-d04d-1e77ef5bddeb"
      },
      "execution_count": null,
      "outputs": [
        {
          "output_type": "execute_result",
          "data": {
            "text/plain": [
              "False"
            ]
          },
          "metadata": {},
          "execution_count": 62
        }
      ]
    },
    {
      "cell_type": "code",
      "source": [
        "#version2: using isupper()\n",
        "\n",
        "s = input()\n",
        "count = 0\n",
        "\n",
        "for c in s:\n",
        "  if  c.isupper():\n",
        "    count = count+1\n",
        "\n",
        "print(f\"The number of upper case char = {count}\")"
      ],
      "metadata": {
        "colab": {
          "base_uri": "https://localhost:8080/"
        },
        "id": "QrN12B8hvHDG",
        "outputId": "feb09195-859a-4304-85af-3f91a5b7b9b2"
      },
      "execution_count": null,
      "outputs": [
        {
          "output_type": "stream",
          "name": "stdout",
          "text": [
            "INDIA is my country HI\n",
            "The number of upper case char = 7\n"
          ]
        }
      ]
    },
    {
      "cell_type": "code",
      "source": [
        "'''\n",
        "Q6:\n",
        "you are given a list of numbers between 1 and 256\n",
        "\n",
        "generate a string from the chr values of these numbers\n",
        "\n",
        "example:\n",
        "\n",
        "ip - [65, 97, 68]\n",
        "ouput: \"AaD\"\n",
        "\n",
        "'''"
      ],
      "metadata": {
        "colab": {
          "base_uri": "https://localhost:8080/",
          "height": 53
        },
        "id": "BfujtccAvRJq",
        "outputId": "2b4ff30f-602a-4989-d3b6-9013e031032c"
      },
      "execution_count": null,
      "outputs": [
        {
          "output_type": "execute_result",
          "data": {
            "text/plain": [
              "'\\nQ6:\\nyou are given a list of numbers between 1 and 256\\n\\ngenerate a string from the chr values of these numbers\\n\\nexample:\\n\\nip - [65, 97, 68]\\nouput: \"AaD\"\\n\\n'"
            ],
            "application/vnd.google.colaboratory.intrinsic+json": {
              "type": "string"
            }
          },
          "metadata": {},
          "execution_count": 65
        }
      ]
    },
    {
      "cell_type": "code",
      "source": [
        "lst = [65, 97, 68]\n",
        "\n",
        "s = \"\"\n",
        "\n",
        "for elem in lst:\n",
        "  c = chr(elem)\n",
        "  s = s+c\n",
        "\n",
        "print(s)"
      ],
      "metadata": {
        "colab": {
          "base_uri": "https://localhost:8080/"
        },
        "id": "E8q_UJ34wX1w",
        "outputId": "1de257cc-5f8a-4ec2-d9a1-f8b719f568f3"
      },
      "execution_count": null,
      "outputs": [
        {
          "output_type": "stream",
          "name": "stdout",
          "text": [
            "AaD\n"
          ]
        }
      ]
    },
    {
      "cell_type": "code",
      "source": [
        "'''\n",
        "Q7\n",
        "Given a string of comma separated values.\n",
        "Convert it into a list of individual integer values\n",
        "\n",
        "example:\n",
        "ip: \"56,76,98,20\"\n",
        "ouput: [56, 76, 98, 20]\n",
        "'''"
      ],
      "metadata": {
        "id": "tDNWdrdbwv2y"
      },
      "execution_count": null,
      "outputs": []
    },
    {
      "cell_type": "code",
      "source": [
        "s = \"56,76,98,20\"\n",
        "\n",
        "lst = s.split(\",\")\n",
        "print(lst)"
      ],
      "metadata": {
        "colab": {
          "base_uri": "https://localhost:8080/"
        },
        "id": "0P2obdWPyNQw",
        "outputId": "3febee5b-44d0-4376-c1af-fe0170b61c9d"
      },
      "execution_count": null,
      "outputs": [
        {
          "output_type": "stream",
          "name": "stdout",
          "text": [
            "['56', '76', '98', '20']\n"
          ]
        }
      ]
    },
    {
      "cell_type": "code",
      "source": [
        "s = \"56,76,98,20\"\n",
        "result = []\n",
        "\n",
        "lst = s.split(\",\")\n",
        "for elem in lst:\n",
        "  result.append(int(elem))\n",
        "\n",
        "print(result)"
      ],
      "metadata": {
        "colab": {
          "base_uri": "https://localhost:8080/"
        },
        "id": "Bw9Cg_NTyjvc",
        "outputId": "1b74ddc9-b657-4296-aabb-0d22f9b81e11"
      },
      "execution_count": null,
      "outputs": [
        {
          "output_type": "stream",
          "name": "stdout",
          "text": [
            "[56, 76, 98, 20]\n"
          ]
        }
      ]
    },
    {
      "cell_type": "code",
      "source": [
        "s = \"my_name_is_aj\"\n",
        "\n",
        "lst = s.split('_')\n",
        "print(lst)"
      ],
      "metadata": {
        "colab": {
          "base_uri": "https://localhost:8080/"
        },
        "id": "yCH9KjsSy0-1",
        "outputId": "f3c82cc9-a5cd-43a8-f752-d9b423ba8460"
      },
      "execution_count": null,
      "outputs": [
        {
          "output_type": "stream",
          "name": "stdout",
          "text": [
            "['my', 'name', 'is', 'aj']\n"
          ]
        }
      ]
    },
    {
      "cell_type": "code",
      "source": [
        "s = \"my_name_is_aj\"\n",
        "\n",
        "lst = s.split('y')\n",
        "print(lst)"
      ],
      "metadata": {
        "colab": {
          "base_uri": "https://localhost:8080/"
        },
        "id": "Sv7RTqB5zUyK",
        "outputId": "0ae2fb82-f529-41dc-98ee-d9ad5b15792f"
      },
      "execution_count": null,
      "outputs": [
        {
          "output_type": "stream",
          "name": "stdout",
          "text": [
            "['m', '_name_is_aj']\n"
          ]
        }
      ]
    },
    {
      "cell_type": "code",
      "source": [
        "s = \"my#$name#$is#$aj\"\n",
        "\n",
        "lst = s.split('#$')\n",
        "print(lst)"
      ],
      "metadata": {
        "colab": {
          "base_uri": "https://localhost:8080/"
        },
        "id": "rPiKEtwbzl27",
        "outputId": "2acf6c6f-9a67-4c69-91e8-38e04014aad0"
      },
      "execution_count": null,
      "outputs": [
        {
          "output_type": "stream",
          "name": "stdout",
          "text": [
            "['my', 'name', 'is', 'aj']\n"
          ]
        }
      ]
    },
    {
      "cell_type": "code",
      "source": [
        "\"my name is aj\""
      ],
      "metadata": {
        "id": "xyJIfwVjzzLT"
      },
      "execution_count": null,
      "outputs": []
    },
    {
      "cell_type": "code",
      "source": [
        "' '.join(lst)"
      ],
      "metadata": {
        "colab": {
          "base_uri": "https://localhost:8080/",
          "height": 35
        },
        "id": "98vXVqCU0Ckr",
        "outputId": "dfd08ab7-5ec6-4fc7-8c41-32ea516f7b8b"
      },
      "execution_count": null,
      "outputs": [
        {
          "output_type": "execute_result",
          "data": {
            "text/plain": [
              "'my name is aj'"
            ],
            "application/vnd.google.colaboratory.intrinsic+json": {
              "type": "string"
            }
          },
          "metadata": {},
          "execution_count": 77
        }
      ]
    },
    {
      "cell_type": "code",
      "source": [
        "# \" \".join(a) --> a would be a list of strings --> this method will return a string of these elements separatted by a space "
      ],
      "metadata": {
        "id": "TxWseEnX0MsQ"
      },
      "execution_count": null,
      "outputs": []
    },
    {
      "cell_type": "code",
      "source": [
        "\"my_name_is_aj\""
      ],
      "metadata": {
        "colab": {
          "base_uri": "https://localhost:8080/",
          "height": 35
        },
        "id": "7rPNYogo0emb",
        "outputId": "4b80ea2a-4b96-4573-838c-300538d08739"
      },
      "execution_count": null,
      "outputs": [
        {
          "output_type": "execute_result",
          "data": {
            "text/plain": [
              "'my_name_is_aj'"
            ],
            "application/vnd.google.colaboratory.intrinsic+json": {
              "type": "string"
            }
          },
          "metadata": {},
          "execution_count": 78
        }
      ]
    },
    {
      "cell_type": "code",
      "source": [
        "'_'.join(lst)"
      ],
      "metadata": {
        "colab": {
          "base_uri": "https://localhost:8080/",
          "height": 35
        },
        "id": "7v-fDNUo0iFQ",
        "outputId": "33cc4d38-b3aa-45d0-a6a3-971fa051e164"
      },
      "execution_count": null,
      "outputs": [
        {
          "output_type": "execute_result",
          "data": {
            "text/plain": [
              "'my_name_is_aj'"
            ],
            "application/vnd.google.colaboratory.intrinsic+json": {
              "type": "string"
            }
          },
          "metadata": {},
          "execution_count": 79
        }
      ]
    },
    {
      "cell_type": "code",
      "source": [
        "# doubts\n",
        "# # "
      ],
      "metadata": {
        "colab": {
          "base_uri": "https://localhost:8080/",
          "height": 170
        },
        "id": "VkIjv8IY0kRp",
        "outputId": "85b1f0b1-2690-4542-e3c3-b5895bc06b6a"
      },
      "execution_count": null,
      "outputs": [
        {
          "output_type": "error",
          "ename": "NameError",
          "evalue": "ignored",
          "traceback": [
            "\u001b[0;31m---------------------------------------------------------------------------\u001b[0m",
            "\u001b[0;31mNameError\u001b[0m                                 Traceback (most recent call last)",
            "\u001b[0;32m<ipython-input-80-33114e0749b7>\u001b[0m in \u001b[0;36m<module>\u001b[0;34m\u001b[0m\n\u001b[0;32m----> 1\u001b[0;31m \u001b[0mdoubts\u001b[0m\u001b[0;34m\u001b[0m\u001b[0;34m\u001b[0m\u001b[0m\n\u001b[0m",
            "\u001b[0;31mNameError\u001b[0m: name 'doubts' is not defined"
          ]
        }
      ]
    },
    {
      "cell_type": "code",
      "source": [
        "a = [\"hi\",\"aj\"]"
      ],
      "metadata": {
        "id": "M4MOS34-1hno"
      },
      "execution_count": null,
      "outputs": []
    },
    {
      "cell_type": "code",
      "source": [
        "\" \".join(a)"
      ],
      "metadata": {
        "id": "4iGuRg931nBT",
        "outputId": "45a65719-5881-41e4-c78f-17d29c14e811",
        "colab": {
          "base_uri": "https://localhost:8080/",
          "height": 35
        }
      },
      "execution_count": null,
      "outputs": [
        {
          "output_type": "execute_result",
          "data": {
            "text/plain": [
              "'hi aj'"
            ],
            "application/vnd.google.colaboratory.intrinsic+json": {
              "type": "string"
            }
          },
          "metadata": {},
          "execution_count": 82
        }
      ]
    },
    {
      "cell_type": "code",
      "source": [],
      "metadata": {
        "id": "xDhSfp4-1pdX"
      },
      "execution_count": null,
      "outputs": []
    }
  ]
}