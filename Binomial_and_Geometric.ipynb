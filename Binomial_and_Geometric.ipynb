{
  "cells": [
    {
      "cell_type": "markdown",
      "metadata": {
        "id": "view-in-github",
        "colab_type": "text"
      },
      "source": [
        "<a href=\"https://colab.research.google.com/github/gchn24/DS-Notes/blob/main/Binomial_and_Geometric.ipynb\" target=\"_parent\"><img src=\"https://colab.research.google.com/assets/colab-badge.svg\" alt=\"Open In Colab\"/></a>"
      ]
    },
    {
      "cell_type": "code",
      "execution_count": null,
      "id": "981df852",
      "metadata": {
        "id": "981df852",
        "outputId": "e7ef32bc-c218-4a06-dfb8-1efcaee0861f"
      },
      "outputs": [
        {
          "data": {
            "text/html": [
              "<style>.container { width:100% !important; }</style>"
            ],
            "text/plain": [
              "<IPython.core.display.HTML object>"
            ]
          },
          "metadata": {},
          "output_type": "display_data"
        }
      ],
      "source": [
        "from IPython.display import display, HTML\n",
        "display(HTML(\"<style>.container { width:100% !important; }</style>\"))\n",
        "import matplotlib.pyplot as plt\n",
        "import matplotlib_inline\n",
        "matplotlib_inline.backend_inline.set_matplotlib_formats('svg')"
      ]
    },
    {
      "cell_type": "code",
      "execution_count": null,
      "id": "c7f3480c",
      "metadata": {
        "id": "c7f3480c"
      },
      "outputs": [],
      "source": [
        "from scipy.stats import binom"
      ]
    },
    {
      "cell_type": "code",
      "execution_count": null,
      "id": "67dd7555",
      "metadata": {
        "id": "67dd7555"
      },
      "outputs": [],
      "source": [
        "p = 0.1\n",
        "n = 3"
      ]
    },
    {
      "cell_type": "code",
      "execution_count": null,
      "id": "6cbd06a9",
      "metadata": {
        "id": "6cbd06a9"
      },
      "outputs": [],
      "source": [
        "# P[X = k] k = 0,1,2,3"
      ]
    },
    {
      "cell_type": "code",
      "execution_count": null,
      "id": "b2b2213d",
      "metadata": {
        "id": "b2b2213d",
        "outputId": "b7663413-90b5-4daa-b84c-481881e21f80"
      },
      "outputs": [
        {
          "name": "stdout",
          "output_type": "stream",
          "text": [
            "0.7290000000000001\n",
            "\n",
            "\n"
          ]
        },
        {
          "data": {
            "text/plain": [
              "0.7290000000000001"
            ]
          },
          "execution_count": 7,
          "metadata": {},
          "output_type": "execute_result"
        }
      ],
      "source": [
        "# P[X = 0]\n",
        "print((1-p)**3)\n",
        "print(\"\\n\")\n",
        "\n",
        "binom.pmf(n = n, p = p, k = 0)"
      ]
    },
    {
      "cell_type": "code",
      "execution_count": null,
      "id": "5599b4e2",
      "metadata": {
        "id": "5599b4e2"
      },
      "outputs": [],
      "source": [
        "import math"
      ]
    },
    {
      "cell_type": "code",
      "execution_count": null,
      "id": "d20878ad",
      "metadata": {
        "id": "d20878ad",
        "outputId": "d2fedb7c-c3bc-49f7-82df-8c0a0df82838"
      },
      "outputs": [
        {
          "data": {
            "text/plain": [
              "3"
            ]
          },
          "execution_count": 10,
          "metadata": {},
          "output_type": "execute_result"
        }
      ],
      "source": [
        "math.comb(3,1)"
      ]
    },
    {
      "cell_type": "code",
      "execution_count": null,
      "id": "f7ccaa83",
      "metadata": {
        "id": "f7ccaa83",
        "outputId": "940a3e63-a5c6-4944-e4f2-ee950b519639"
      },
      "outputs": [
        {
          "name": "stdout",
          "output_type": "stream",
          "text": [
            "0.24300000000000005\n",
            "\n",
            "\n"
          ]
        },
        {
          "data": {
            "text/plain": [
              "0.243"
            ]
          },
          "execution_count": 11,
          "metadata": {},
          "output_type": "execute_result"
        }
      ],
      "source": [
        "# P[X = 1] : SFF, FSF, FFS\n",
        "\n",
        "\n",
        "print(math.comb(3,1)*p*(1-p)**2) #3C1 p*(1-p)**2\n",
        "print(\"\\n\")\n",
        "\n",
        "binom.pmf(n = n, p = p, k = 1)"
      ]
    },
    {
      "cell_type": "code",
      "execution_count": null,
      "id": "06ebdc64",
      "metadata": {
        "id": "06ebdc64"
      },
      "outputs": [],
      "source": []
    },
    {
      "cell_type": "markdown",
      "id": "c1ca77ea",
      "metadata": {
        "id": "c1ca77ea"
      },
      "source": [
        "### Messi and penalty:\n",
        "### Success rate is 80%"
      ]
    },
    {
      "cell_type": "markdown",
      "id": "eda5a01c",
      "metadata": {
        "id": "eda5a01c"
      },
      "source": [
        "He kicks 10 times. What is the probability of having 7 or less successes?"
      ]
    },
    {
      "cell_type": "code",
      "execution_count": null,
      "id": "ec6fe9e0",
      "metadata": {
        "id": "ec6fe9e0"
      },
      "outputs": [],
      "source": [
        "# P[X <=7] ## cdf"
      ]
    },
    {
      "cell_type": "code",
      "execution_count": null,
      "id": "2368ed07",
      "metadata": {
        "id": "2368ed07"
      },
      "outputs": [],
      "source": [
        "# P[X =0] + P[X =1] + P[X =2] + P[X =3]+ P[X =4]+ P[X =5]+ P[X =6]+ P[X =7]"
      ]
    },
    {
      "cell_type": "code",
      "execution_count": null,
      "id": "011edbd7",
      "metadata": {
        "id": "011edbd7",
        "outputId": "a78d5d7a-6693-425e-dd94-f6ded41e564a"
      },
      "outputs": [
        {
          "data": {
            "text/plain": [
              "0.32220047359999987"
            ]
          },
          "execution_count": 15,
          "metadata": {},
          "output_type": "execute_result"
        }
      ],
      "source": [
        "binom.cdf(n = 10, p = 0.8, k = 7)"
      ]
    },
    {
      "cell_type": "code",
      "execution_count": null,
      "id": "554ba482",
      "metadata": {
        "id": "554ba482"
      },
      "outputs": [],
      "source": [
        "# P[X>7]  = P[X=8] + P[X=9] + P[X=10]"
      ]
    },
    {
      "cell_type": "code",
      "execution_count": null,
      "id": "ab5824fc",
      "metadata": {
        "id": "ab5824fc",
        "outputId": "a60702f6-baa6-4531-e119-ee14e651815a"
      },
      "outputs": [
        {
          "data": {
            "text/plain": [
              "0.6777995264000001"
            ]
          },
          "execution_count": 17,
          "metadata": {},
          "output_type": "execute_result"
        }
      ],
      "source": [
        "1 - binom.cdf(n = 10, p = 0.8, k = 7)"
      ]
    },
    {
      "cell_type": "code",
      "execution_count": null,
      "id": "14fbeff5",
      "metadata": {
        "id": "14fbeff5",
        "outputId": "ce7483e1-5009-49ee-c592-d510a1a65202"
      },
      "outputs": [
        {
          "data": {
            "text/plain": [
              "0.20132659199999978"
            ]
          },
          "execution_count": 18,
          "metadata": {},
          "output_type": "execute_result"
        }
      ],
      "source": [
        "# P[X=7] # PMF\n",
        "binom.pmf(n = 10, p = 0.8, k = 7)"
      ]
    },
    {
      "cell_type": "code",
      "execution_count": null,
      "id": "afe3f0d6",
      "metadata": {
        "id": "afe3f0d6"
      },
      "outputs": [],
      "source": [
        "# P[X<=7] # PMF\n",
        "binom.cdf(n = 10, p = 0.8, k = 7)"
      ]
    },
    {
      "cell_type": "code",
      "execution_count": null,
      "id": "06eb2681",
      "metadata": {
        "id": "06eb2681"
      },
      "outputs": [],
      "source": []
    },
    {
      "cell_type": "code",
      "execution_count": null,
      "id": "00c5a94e",
      "metadata": {
        "id": "00c5a94e"
      },
      "outputs": [],
      "source": []
    },
    {
      "cell_type": "code",
      "execution_count": null,
      "id": "e75e3452",
      "metadata": {
        "id": "e75e3452"
      },
      "outputs": [],
      "source": []
    },
    {
      "cell_type": "code",
      "execution_count": null,
      "id": "020d4b73",
      "metadata": {
        "id": "020d4b73"
      },
      "outputs": [],
      "source": []
    },
    {
      "cell_type": "code",
      "execution_count": null,
      "id": "c6f4e058",
      "metadata": {
        "id": "c6f4e058"
      },
      "outputs": [],
      "source": []
    },
    {
      "cell_type": "code",
      "execution_count": null,
      "id": "e0a2ea82",
      "metadata": {
        "id": "e0a2ea82"
      },
      "outputs": [],
      "source": []
    },
    {
      "cell_type": "code",
      "execution_count": null,
      "id": "7c5df040",
      "metadata": {
        "id": "7c5df040"
      },
      "outputs": [],
      "source": []
    },
    {
      "cell_type": "code",
      "execution_count": null,
      "id": "3f88b49a",
      "metadata": {
        "id": "3f88b49a"
      },
      "outputs": [],
      "source": []
    }
  ],
  "metadata": {
    "kernelspec": {
      "display_name": "Python 3 (ipykernel)",
      "language": "python",
      "name": "python3"
    },
    "language_info": {
      "codemirror_mode": {
        "name": "ipython",
        "version": 3
      },
      "file_extension": ".py",
      "mimetype": "text/x-python",
      "name": "python",
      "nbconvert_exporter": "python",
      "pygments_lexer": "ipython3",
      "version": "3.9.12"
    },
    "colab": {
      "provenance": [],
      "include_colab_link": true
    }
  },
  "nbformat": 4,
  "nbformat_minor": 5
}