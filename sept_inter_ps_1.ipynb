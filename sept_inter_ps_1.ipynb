{
  "nbformat": 4,
  "nbformat_minor": 0,
  "metadata": {
    "colab": {
      "provenance": [],
      "include_colab_link": true
    },
    "kernelspec": {
      "name": "python3",
      "display_name": "Python 3"
    },
    "language_info": {
      "name": "python"
    }
  },
  "cells": [
    {
      "cell_type": "markdown",
      "metadata": {
        "id": "view-in-github",
        "colab_type": "text"
      },
      "source": [
        "<a href=\"https://colab.research.google.com/github/gchn24/DS-Notes/blob/main/sept_inter_ps_1.ipynb\" target=\"_parent\"><img src=\"https://colab.research.google.com/assets/colab-badge.svg\" alt=\"Open In Colab\"/></a>"
      ]
    },
    {
      "cell_type": "code",
      "source": [
        "sentence = \"The world has changed and none of us can go back all we can do is our best and sometimes the best that we can do is to start over\"\n",
        "l =5"
      ],
      "metadata": {
        "id": "CC9PCSNLIUt2"
      },
      "execution_count": null,
      "outputs": []
    },
    {
      "cell_type": "code",
      "execution_count": null,
      "metadata": {
        "id": "VqA-rZNmISpF"
      },
      "outputs": [],
      "source": [
        "result = [string for string in sentence.split(\" \") if len(string) == l]"
      ]
    },
    {
      "cell_type": "code",
      "source": [
        "result"
      ],
      "metadata": {
        "colab": {
          "base_uri": "https://localhost:8080/"
        },
        "id": "n8dmqh5PIXbK",
        "outputId": "8dea56b3-d6ae-4e21-b106-4acf6fe7a3fd"
      },
      "execution_count": null,
      "outputs": [
        {
          "output_type": "execute_result",
          "data": {
            "text/plain": [
              "['world', 'start']"
            ]
          },
          "metadata": {},
          "execution_count": 3
        }
      ]
    },
    {
      "cell_type": "code",
      "source": [],
      "metadata": {
        "id": "7-1_3L1jIkwH"
      },
      "execution_count": null,
      "outputs": []
    },
    {
      "cell_type": "code",
      "source": [
        "result = []\n",
        "list_of_words = sentence.split(\" \")\n",
        "for word in list_of_words:\n",
        "  if int(len(word)) == int(l):\n",
        "    result.append(word)"
      ],
      "metadata": {
        "id": "X_Yjhr6IIadU"
      },
      "execution_count": null,
      "outputs": []
    },
    {
      "cell_type": "code",
      "source": [
        "result"
      ],
      "metadata": {
        "colab": {
          "base_uri": "https://localhost:8080/"
        },
        "id": "vkVyyLCbIpOI",
        "outputId": "94d9fdcc-23b5-48b1-8a0e-ee7559eddac2"
      },
      "execution_count": null,
      "outputs": [
        {
          "output_type": "execute_result",
          "data": {
            "text/plain": [
              "['world', 'start']"
            ]
          },
          "metadata": {},
          "execution_count": 7
        }
      ]
    },
    {
      "cell_type": "code",
      "source": [
        "#version3"
      ],
      "metadata": {
        "id": "1qw8w3dBIp4W"
      },
      "execution_count": null,
      "outputs": []
    },
    {
      "cell_type": "code",
      "source": [
        "list_of_words"
      ],
      "metadata": {
        "colab": {
          "base_uri": "https://localhost:8080/"
        },
        "id": "TzAqlGcsJCGd",
        "outputId": "e58bcaec-885a-478a-8a48-ad3728b83499"
      },
      "execution_count": null,
      "outputs": [
        {
          "output_type": "execute_result",
          "data": {
            "text/plain": [
              "['The',\n",
              " 'world',\n",
              " 'has',\n",
              " 'changed',\n",
              " 'and',\n",
              " 'none',\n",
              " 'of',\n",
              " 'us',\n",
              " 'can',\n",
              " 'go',\n",
              " 'back',\n",
              " 'all',\n",
              " 'we',\n",
              " 'can',\n",
              " 'do',\n",
              " 'is',\n",
              " 'our',\n",
              " 'best',\n",
              " 'and',\n",
              " 'sometimes',\n",
              " 'the',\n",
              " 'best',\n",
              " 'that',\n",
              " 'we',\n",
              " 'can',\n",
              " 'do',\n",
              " 'is',\n",
              " 'to',\n",
              " 'start',\n",
              " 'over']"
            ]
          },
          "metadata": {},
          "execution_count": 9
        }
      ]
    },
    {
      "cell_type": "code",
      "source": [
        "result = list(filter(lambda x: len(x) == l,list_of_words))"
      ],
      "metadata": {
        "id": "l6Ncsy1fJPEU"
      },
      "execution_count": null,
      "outputs": []
    },
    {
      "cell_type": "code",
      "source": [
        "result"
      ],
      "metadata": {
        "colab": {
          "base_uri": "https://localhost:8080/"
        },
        "id": "1MzQcqDoJbMW",
        "outputId": "cde2e76b-2e00-4804-8145-a0812b7c768f"
      },
      "execution_count": null,
      "outputs": [
        {
          "output_type": "execute_result",
          "data": {
            "text/plain": [
              "['world', 'start']"
            ]
          },
          "metadata": {},
          "execution_count": 12
        }
      ]
    },
    {
      "cell_type": "code",
      "source": [
        "#sorted"
      ],
      "metadata": {
        "id": "WP13FL0ZJez3"
      },
      "execution_count": null,
      "outputs": []
    },
    {
      "cell_type": "code",
      "source": [
        "'''\n",
        "Q1:\n",
        "\n",
        "'''\n",
        "\n",
        "\n",
        "num = [1,4,3,9,7]\n",
        "\n",
        "sorted_nums = sorted(num)\n",
        "\n",
        "print(sorted_nums, num)"
      ],
      "metadata": {
        "colab": {
          "base_uri": "https://localhost:8080/"
        },
        "id": "ziiXw84RJ5ZL",
        "outputId": "4eb26a77-93ef-4dfa-e91c-7640f67989ad"
      },
      "execution_count": null,
      "outputs": [
        {
          "output_type": "stream",
          "name": "stdout",
          "text": [
            "[1, 3, 4, 7, 9] [1, 4, 3, 9, 7]\n"
          ]
        }
      ]
    },
    {
      "cell_type": "code",
      "source": [
        "# Syntax:\n",
        "\n",
        "# sorted(iteratable, key = None, reverse = False) #ascending order"
      ],
      "metadata": {
        "id": "q3XEBeV7KO-T"
      },
      "execution_count": null,
      "outputs": []
    },
    {
      "cell_type": "code",
      "source": [
        "\n",
        "num = [1,4,3,9,7]\n",
        "\n",
        "sorted_nums = sorted(num, reverse = True)\n",
        "\n",
        "print(sorted_nums, num)"
      ],
      "metadata": {
        "colab": {
          "base_uri": "https://localhost:8080/"
        },
        "id": "WJAb8nYVKhFd",
        "outputId": "21d80039-ea62-42a2-f774-8461880eea29"
      },
      "execution_count": null,
      "outputs": [
        {
          "output_type": "stream",
          "name": "stdout",
          "text": [
            "[9, 7, 4, 3, 1] [1, 4, 3, 9, 7]\n"
          ]
        }
      ]
    },
    {
      "cell_type": "code",
      "source": [
        "#sorted works with tuples, strings and lists as well"
      ],
      "metadata": {
        "id": "CN2kkqv3Kjiz"
      },
      "execution_count": null,
      "outputs": []
    },
    {
      "cell_type": "code",
      "source": [
        "my_tuple = (1,4,3,9,7)\n",
        "my_string = \"aditya\"\n",
        "my_list = [1,4,3,9,7]"
      ],
      "metadata": {
        "id": "KRZT-PCvKwA4"
      },
      "execution_count": null,
      "outputs": []
    },
    {
      "cell_type": "code",
      "source": [
        "type(my_list), type(my_tuple), type(my_string)"
      ],
      "metadata": {
        "colab": {
          "base_uri": "https://localhost:8080/"
        },
        "id": "EE14i2fEK66B",
        "outputId": "d4f3c531-92b0-4781-a290-9f5ba115dcb4"
      },
      "execution_count": null,
      "outputs": [
        {
          "output_type": "execute_result",
          "data": {
            "text/plain": [
              "(list, tuple, str)"
            ]
          },
          "metadata": {},
          "execution_count": 18
        }
      ]
    },
    {
      "cell_type": "code",
      "source": [
        "print(sorted(my_tuple))"
      ],
      "metadata": {
        "colab": {
          "base_uri": "https://localhost:8080/"
        },
        "id": "sSsI04p4K_5k",
        "outputId": "3bc2271f-7319-4001-d311-0a79ac0ee71e"
      },
      "execution_count": null,
      "outputs": [
        {
          "output_type": "stream",
          "name": "stdout",
          "text": [
            "[1, 3, 4, 7, 9]\n"
          ]
        }
      ]
    },
    {
      "cell_type": "code",
      "source": [
        "print(sorted(my_string))"
      ],
      "metadata": {
        "colab": {
          "base_uri": "https://localhost:8080/"
        },
        "id": "-m-9tkmhLFSF",
        "outputId": "92bb3839-1f5f-4e79-f02d-a11603c99c85"
      },
      "execution_count": null,
      "outputs": [
        {
          "output_type": "stream",
          "name": "stdout",
          "text": [
            "['a', 'a', 'd', 'i', 't', 'y']\n"
          ]
        }
      ]
    },
    {
      "cell_type": "code",
      "source": [
        "print(sorted(my_list))"
      ],
      "metadata": {
        "colab": {
          "base_uri": "https://localhost:8080/"
        },
        "id": "iVkq2ahQLQME",
        "outputId": "ab1c4225-f7c2-475a-b552-fd377f4f9dd9"
      },
      "execution_count": null,
      "outputs": [
        {
          "output_type": "stream",
          "name": "stdout",
          "text": [
            "[1, 3, 4, 7, 9]\n"
          ]
        }
      ]
    },
    {
      "cell_type": "code",
      "source": [
        "print(sorted(my_tuple, reverse = True)) #descending order\n",
        "print(sorted(my_string, reverse = True))\n",
        "print(sorted(my_list, reverse = True))"
      ],
      "metadata": {
        "colab": {
          "base_uri": "https://localhost:8080/"
        },
        "id": "ie4OSBdjLWMy",
        "outputId": "475f0d11-40b0-4414-c5f5-22fb38f6853f"
      },
      "execution_count": null,
      "outputs": [
        {
          "output_type": "stream",
          "name": "stdout",
          "text": [
            "[9, 7, 4, 3, 1]\n",
            "['y', 't', 'i', 'd', 'a', 'a']\n",
            "[9, 7, 4, 3, 1]\n"
          ]
        }
      ]
    },
    {
      "cell_type": "code",
      "source": [
        "#key parameter"
      ],
      "metadata": {
        "id": "qWa37gJVLlGn"
      },
      "execution_count": null,
      "outputs": []
    },
    {
      "cell_type": "code",
      "source": [
        "# sorted(iterable, key = len)\n",
        "\n",
        "# len() is python's inbuilt function to count the length of the object"
      ],
      "metadata": {
        "id": "oSYV_nTrLwb_"
      },
      "execution_count": null,
      "outputs": []
    },
    {
      "cell_type": "code",
      "source": [
        "'''\n",
        "Sort the list of tuples on the basis of their second term:\n",
        "(a,b)\n",
        "How-> second values in increasing/ascending order\n",
        "\n",
        "a = [(2,2), (3,5), (4,1), (1,3)]\n",
        "result = [(4,1) , (2,2), (1,3), (3,5)]\n",
        "\n",
        "'''"
      ],
      "metadata": {
        "colab": {
          "base_uri": "https://localhost:8080/",
          "height": 53
        },
        "id": "5pRmWUjzL2op",
        "outputId": "7711f0b7-a664-4b24-fad0-32fd87e45663"
      },
      "execution_count": null,
      "outputs": [
        {
          "output_type": "execute_result",
          "data": {
            "text/plain": [
              "'\\nSort the list of tuples on the basis of their second term:\\n(a,b)\\nHow-> second values in increasing/ascending order\\n\\na = [(2,2), (3,5), (4,1), (1,3)]\\nresult = [(4,1) , (2,2), (1,3), (3,5)]\\n\\n'"
            ],
            "application/vnd.google.colaboratory.intrinsic+json": {
              "type": "string"
            }
          },
          "metadata": {},
          "execution_count": 25
        }
      ]
    },
    {
      "cell_type": "code",
      "source": [
        "a = [(2,2), (3,5), (4,1), (1,3)]"
      ],
      "metadata": {
        "id": "SwubybkWNYe4"
      },
      "execution_count": null,
      "outputs": []
    },
    {
      "cell_type": "code",
      "source": [
        "def second_term(my_tuple):\n",
        "  return my_tuple[1]\n",
        "\n",
        "result = sorted(a, key = second_term)"
      ],
      "metadata": {
        "id": "6ZiWNZf_Njj_"
      },
      "execution_count": null,
      "outputs": []
    },
    {
      "cell_type": "code",
      "source": [
        "result"
      ],
      "metadata": {
        "colab": {
          "base_uri": "https://localhost:8080/"
        },
        "id": "eWQB8a2GOBIM",
        "outputId": "148ad33a-d7ca-442e-8453-09446e5b56b0"
      },
      "execution_count": null,
      "outputs": [
        {
          "output_type": "execute_result",
          "data": {
            "text/plain": [
              "[(4, 1), (2, 2), (1, 3), (3, 5)]"
            ]
          },
          "metadata": {},
          "execution_count": 29
        }
      ]
    },
    {
      "cell_type": "code",
      "source": [
        "words = ['cccc', 'b', 'dd' , 'aaa']\n",
        "# op: [b, dd, aaa, cccc]"
      ],
      "metadata": {
        "id": "SHeXwkIDODcq"
      },
      "execution_count": null,
      "outputs": []
    },
    {
      "cell_type": "code",
      "source": [
        "words = ['cccc', 'b', 'dd' , 'aaa', 'aab']\n",
        "# op: [b, dd, aaa, aab, cccc]"
      ],
      "metadata": {
        "id": "Iyz73TPGRGLf"
      },
      "execution_count": null,
      "outputs": []
    },
    {
      "cell_type": "code",
      "source": [
        "words.sort()\n",
        "words"
      ],
      "metadata": {
        "colab": {
          "base_uri": "https://localhost:8080/"
        },
        "id": "S6tBD8p_RTyF",
        "outputId": "44aeaac0-79d1-42be-c8d5-533e96d12c60"
      },
      "execution_count": null,
      "outputs": [
        {
          "output_type": "execute_result",
          "data": {
            "text/plain": [
              "['aaa', 'b', 'cccc', 'dd']"
            ]
          },
          "metadata": {},
          "execution_count": 33
        }
      ]
    },
    {
      "cell_type": "code",
      "source": [
        "words = ['cccc', 'b', 'dd' , 'aaa', 'aab']"
      ],
      "metadata": {
        "id": "q9xR9r7hRhVF"
      },
      "execution_count": null,
      "outputs": []
    },
    {
      "cell_type": "code",
      "source": [
        "words.sort()\n",
        "words"
      ],
      "metadata": {
        "colab": {
          "base_uri": "https://localhost:8080/"
        },
        "id": "vIL7hJDdSKaF",
        "outputId": "76f8f87e-d04f-4bd0-9e9b-6d04a732cb52"
      },
      "execution_count": null,
      "outputs": [
        {
          "output_type": "execute_result",
          "data": {
            "text/plain": [
              "['aaa', 'aab', 'b', 'cccc', 'dd']"
            ]
          },
          "metadata": {},
          "execution_count": 36
        }
      ]
    },
    {
      "cell_type": "code",
      "source": [
        "final_sorted_list = sorted(words, key = len)"
      ],
      "metadata": {
        "id": "rl5e67A4SLUV"
      },
      "execution_count": null,
      "outputs": []
    },
    {
      "cell_type": "code",
      "source": [
        "final_sorted_list"
      ],
      "metadata": {
        "colab": {
          "base_uri": "https://localhost:8080/"
        },
        "id": "F74ru9d1SXjn",
        "outputId": "2c4d451c-44c0-4b29-9655-58c9b7122695"
      },
      "execution_count": null,
      "outputs": [
        {
          "output_type": "execute_result",
          "data": {
            "text/plain": [
              "['b', 'dd', 'aaa', 'aab', 'cccc']"
            ]
          },
          "metadata": {},
          "execution_count": 38
        }
      ]
    },
    {
      "cell_type": "code",
      "source": [
        "#nested sort - Q5: Functional Programming -1"
      ],
      "metadata": {
        "id": "7isW3kHpSZFh"
      },
      "execution_count": null,
      "outputs": []
    },
    {
      "cell_type": "code",
      "source": [
        "def freq_a(word):\n",
        "  return word.count(\"a\")\n",
        "\n",
        "def sort_strings(str_list):\n",
        "\t\n",
        "  res = []\n",
        "\n",
        "  for words in str_list:\n",
        "\n",
        "    sorted_words = sorted(words, key  = freq_a, reverse = True)\n",
        "\n",
        "    res.append(sorted_words)\n",
        "    \n",
        "  return res\n"
      ],
      "metadata": {
        "id": "sl6rSUj_UVm-"
      },
      "execution_count": null,
      "outputs": []
    },
    {
      "cell_type": "code",
      "source": [
        "str_list = [ ['mango' , 'banana', 'guava'] , ['rose' , 'sandalwood'] , ['bccc' ,'aaa', 'baac' ,'c']]\n",
        "ans = sort_strings(str_list)\n",
        "print(ans)"
      ],
      "metadata": {
        "colab": {
          "base_uri": "https://localhost:8080/"
        },
        "id": "A6yxv4nlVf8l",
        "outputId": "6e6a26d5-1474-4844-fa8c-16ba379bf5a9"
      },
      "execution_count": null,
      "outputs": [
        {
          "output_type": "stream",
          "name": "stdout",
          "text": [
            "[['banana', 'guava', 'mango'], ['sandalwood', 'rose'], ['aaa', 'baac', 'bccc', 'c']]\n"
          ]
        }
      ]
    },
    {
      "cell_type": "code",
      "source": [
        "[['banana', 'guava', 'mango'], ['sandalwood', 'rose'], ['aaa', 'baac', 'bccc', 'c']]"
      ],
      "metadata": {
        "id": "yOKYZdzmV2h7"
      },
      "execution_count": null,
      "outputs": []
    },
    {
      "cell_type": "code",
      "source": [
        "#check for valid email address- functional programming -2 q: 8"
      ],
      "metadata": {
        "id": "2z7RhJdgYjpu"
      },
      "execution_count": null,
      "outputs": []
    },
    {
      "cell_type": "code",
      "source": [
        "def verify_email(email):\n",
        "\n",
        "  freq_of_atTheRate = 0\n",
        "  freq_of_dots = 0\n",
        "\n",
        "  #count the number of times @ exists in the email\n",
        "  for i in range(len(email)):\n",
        "    if email[i] == '@':\n",
        "      freq_of_atTheRate += 1\n",
        "    if email[i] == '.':\n",
        "      freq_of_dots +=1\n",
        "\n",
        "    \n",
        "  if freq_of_atTheRate != 1:\n",
        "    return False\n",
        "\n",
        "  if freq_of_dots !=1:\n",
        "    return False\n",
        "    \n",
        "    #username@domain\n",
        "  email_addr = email.split('@')\n",
        "\n",
        "  user_name = email_addr[0]\n",
        "  domain = email_addr[1]\n",
        "\n",
        "\n",
        "  if len(user_name) > 20 or len(user_name) <=0:\n",
        "    return False\n",
        "\n",
        "  if len(domain) <=0:\n",
        "    return False\n",
        "\n",
        "  #if email is not invalid --> it is valid\n",
        "  return True\n",
        "\n",
        "def check(emails):\n",
        "    \n",
        "    result = []\n",
        "\n",
        "    result = list(filter(verify_email, emails))\n",
        "\n",
        "    result.sort()\n",
        "\n",
        "    return result"
      ],
      "metadata": {
        "id": "fV0ptbqEYodu"
      },
      "execution_count": null,
      "outputs": []
    },
    {
      "cell_type": "code",
      "source": [
        "emails = ['sara@scaler.com' ,  'brian-23@scaler.com' , 'aj@scalercom' ,'brute_54@scaler.com', 'aj@24@scaler.com']"
      ],
      "metadata": {
        "id": "3-CGOvZHYxUg"
      },
      "execution_count": null,
      "outputs": []
    },
    {
      "cell_type": "code",
      "source": [
        "aj@1 = \"aj\""
      ],
      "metadata": {
        "colab": {
          "base_uri": "https://localhost:8080/",
          "height": 132
        },
        "id": "924P9YcHZKax",
        "outputId": "ce228f04-79a7-45f3-d42e-0b231b8bcad3"
      },
      "execution_count": null,
      "outputs": [
        {
          "output_type": "error",
          "ename": "SyntaxError",
          "evalue": "ignored",
          "traceback": [
            "\u001b[0;36m  File \u001b[0;32m\"<ipython-input-48-a29a59d86e8a>\"\u001b[0;36m, line \u001b[0;32m1\u001b[0m\n\u001b[0;31m    aj@1 = \"aj\"\u001b[0m\n\u001b[0m    ^\u001b[0m\n\u001b[0;31mSyntaxError\u001b[0m\u001b[0;31m:\u001b[0m cannot assign to operator\n"
          ]
        }
      ]
    },
    {
      "cell_type": "code",
      "source": [
        "emails = ['sara.scaler.com' ,  'brian-23@scaler.com' , 'aj@scalercom' ,'brute_54@scaler.com', 'aj@24@scaler.com']"
      ],
      "metadata": {
        "id": "-BACCcAIddoB"
      },
      "execution_count": null,
      "outputs": []
    },
    {
      "cell_type": "code",
      "source": [
        "ans = check(emails)\n",
        "print(ans)"
      ],
      "metadata": {
        "colab": {
          "base_uri": "https://localhost:8080/"
        },
        "id": "7LhWoW3_Zdja",
        "outputId": "d293436b-ce4d-477e-dc03-efd58a6141d2"
      },
      "execution_count": null,
      "outputs": [
        {
          "output_type": "stream",
          "name": "stdout",
          "text": [
            "['brian-23@scaler.com', 'brute_54@scaler.com']\n"
          ]
        }
      ]
    },
    {
      "cell_type": "code",
      "source": [
        "# what's the error in this code? I am getting error..\n",
        "a = [(2,2), (3,5), (4,1), (1,3)]\n",
        "print(sorted(a,key=lambda x,y:y))"
      ],
      "metadata": {
        "colab": {
          "base_uri": "https://localhost:8080/",
          "height": 203
        },
        "id": "Dqn317tYdY7d",
        "outputId": "603b07be-ff6c-46d3-a483-d89307200976"
      },
      "execution_count": null,
      "outputs": [
        {
          "output_type": "error",
          "ename": "TypeError",
          "evalue": "ignored",
          "traceback": [
            "\u001b[0;31m---------------------------------------------------------------------------\u001b[0m",
            "\u001b[0;31mTypeError\u001b[0m                                 Traceback (most recent call last)",
            "\u001b[0;32m<ipython-input-54-367b10f8c8ce>\u001b[0m in \u001b[0;36m<module>\u001b[0;34m\u001b[0m\n\u001b[1;32m      1\u001b[0m \u001b[0;31m# what's the error in this code? I am getting error..\u001b[0m\u001b[0;34m\u001b[0m\u001b[0;34m\u001b[0m\u001b[0;34m\u001b[0m\u001b[0m\n\u001b[1;32m      2\u001b[0m \u001b[0ma\u001b[0m \u001b[0;34m=\u001b[0m \u001b[0;34m[\u001b[0m\u001b[0;34m(\u001b[0m\u001b[0;36m2\u001b[0m\u001b[0;34m,\u001b[0m\u001b[0;36m2\u001b[0m\u001b[0;34m)\u001b[0m\u001b[0;34m,\u001b[0m \u001b[0;34m(\u001b[0m\u001b[0;36m3\u001b[0m\u001b[0;34m,\u001b[0m\u001b[0;36m5\u001b[0m\u001b[0;34m)\u001b[0m\u001b[0;34m,\u001b[0m \u001b[0;34m(\u001b[0m\u001b[0;36m4\u001b[0m\u001b[0;34m,\u001b[0m\u001b[0;36m1\u001b[0m\u001b[0;34m)\u001b[0m\u001b[0;34m,\u001b[0m \u001b[0;34m(\u001b[0m\u001b[0;36m1\u001b[0m\u001b[0;34m,\u001b[0m\u001b[0;36m3\u001b[0m\u001b[0;34m)\u001b[0m\u001b[0;34m]\u001b[0m\u001b[0;34m\u001b[0m\u001b[0;34m\u001b[0m\u001b[0m\n\u001b[0;32m----> 3\u001b[0;31m \u001b[0mprint\u001b[0m\u001b[0;34m(\u001b[0m\u001b[0msorted\u001b[0m\u001b[0;34m(\u001b[0m\u001b[0ma\u001b[0m\u001b[0;34m,\u001b[0m\u001b[0mkey\u001b[0m\u001b[0;34m=\u001b[0m\u001b[0;32mlambda\u001b[0m \u001b[0mx\u001b[0m\u001b[0;34m,\u001b[0m\u001b[0my\u001b[0m\u001b[0;34m:\u001b[0m\u001b[0my\u001b[0m\u001b[0;34m)\u001b[0m\u001b[0;34m)\u001b[0m\u001b[0;34m\u001b[0m\u001b[0;34m\u001b[0m\u001b[0m\n\u001b[0m",
            "\u001b[0;31mTypeError\u001b[0m: <lambda>() missing 1 required positional argument: 'y'"
          ]
        }
      ]
    },
    {
      "cell_type": "code",
      "source": [],
      "metadata": {
        "id": "HkIjlJu1fg6A"
      },
      "execution_count": null,
      "outputs": []
    }
  ]
}