{
  "nbformat": 4,
  "nbformat_minor": 0,
  "metadata": {
    "colab": {
      "provenance": [],
      "include_colab_link": true
    },
    "kernelspec": {
      "name": "python3",
      "display_name": "Python 3"
    },
    "language_info": {
      "name": "python"
    }
  },
  "cells": [
    {
      "cell_type": "markdown",
      "metadata": {
        "id": "view-in-github",
        "colab_type": "text"
      },
      "source": [
        "<a href=\"https://colab.research.google.com/github/gchn24/DS-Notes/blob/main/Numpy5_PostRead_MiscTopics.ipynb\" target=\"_parent\"><img src=\"https://colab.research.google.com/assets/colab-badge.svg\" alt=\"Open In Colab\"/></a>"
      ]
    },
    {
      "cell_type": "markdown",
      "metadata": {
        "id": "eLZbcL_eVIsf"
      },
      "source": [
        "## Content\n",
        "\n",
        "- **Expanding Dimension**\n",
        "    - `None`\n",
        "\n",
        "- **Ravel**\n",
        "    - `ravel()`\n"
      ]
    },
    {
      "cell_type": "code",
      "execution_count": null,
      "metadata": {
        "id": "fJ9-yprWVIsg"
      },
      "outputs": [],
      "source": [
        "import numpy as np"
      ]
    },
    {
      "cell_type": "markdown",
      "source": [
        "## Expanding Dimensions"
      ],
      "metadata": {
        "id": "xfpW1DyEODc1"
      }
    },
    {
      "cell_type": "markdown",
      "source": [
        "We can also use None instead of `np.newaxis` to expand dimension"
      ],
      "metadata": {
        "id": "L6fU7qImUhiy"
      }
    },
    {
      "cell_type": "code",
      "source": [
        "arr=np.arange(0,6)"
      ],
      "metadata": {
        "id": "MpKoRvX_51dA"
      },
      "execution_count": null,
      "outputs": []
    },
    {
      "cell_type": "code",
      "source": [
        "arr[:, None] # eqvivalent to arr[:, np.newaxis] or np.expand_dims(arr, axis =1)"
      ],
      "metadata": {
        "colab": {
          "base_uri": "https://localhost:8080/"
        },
        "id": "gR1QXu0ZUlcH",
        "outputId": "cab1dab6-0199-47e8-bc3a-8c7b05a9d551"
      },
      "execution_count": null,
      "outputs": [
        {
          "output_type": "execute_result",
          "data": {
            "text/plain": [
              "array([[0],\n",
              "       [1],\n",
              "       [2],\n",
              "       [3],\n",
              "       [4],\n",
              "       [5]])"
            ]
          },
          "metadata": {},
          "execution_count": 4
        }
      ]
    },
    {
      "cell_type": "code",
      "source": [
        "arr[None, :] # eqvivalent to arr[np.newaxis, : ] or np.expand_dims(arr, axis =0)"
      ],
      "metadata": {
        "colab": {
          "base_uri": "https://localhost:8080/"
        },
        "id": "GI_41rG8UvzJ",
        "outputId": "92da6321-77a7-43f7-c2c5-7275e27481d0"
      },
      "execution_count": null,
      "outputs": [
        {
          "output_type": "execute_result",
          "data": {
            "text/plain": [
              "array([[0, 1, 2, 3, 4, 5]])"
            ]
          },
          "metadata": {},
          "execution_count": 5
        }
      ]
    },
    {
      "cell_type": "markdown",
      "metadata": {
        "id": "KeIioOPXVIsh"
      },
      "source": [
        "### Ravel\n",
        "\n",
        "Do you remember flatten function? It is used to convert nD array to 1D array.\n",
        "\n",
        "\n",
        "\n",
        "#### Let's take our $3\\times4$ matrix `A` "
      ]
    },
    {
      "cell_type": "code",
      "execution_count": null,
      "metadata": {
        "scrolled": true,
        "id": "bdYg9NByVIsh",
        "outputId": "0b741141-2abc-468d-8053-e98939b37e89",
        "colab": {
          "base_uri": "https://localhost:8080/"
        }
      },
      "outputs": [
        {
          "output_type": "execute_result",
          "data": {
            "text/plain": [
              "array([[ 0,  1,  2,  3],\n",
              "       [ 4,  5,  6,  7],\n",
              "       [ 8,  9, 10, 11]])"
            ]
          },
          "metadata": {},
          "execution_count": 6
        }
      ],
      "source": [
        "A = np.arange(12).reshape(3, 4)\n",
        "A"
      ]
    },
    {
      "cell_type": "code",
      "execution_count": null,
      "metadata": {
        "id": "Vppy6KJkVIsi",
        "outputId": "9e7a45e9-1b87-4594-8e51-dfde0b38d593",
        "colab": {
          "base_uri": "https://localhost:8080/"
        }
      },
      "outputs": [
        {
          "output_type": "execute_result",
          "data": {
            "text/plain": [
              "array([ 0,  1,  2,  3,  4,  5,  6,  7,  8,  9, 10, 11])"
            ]
          },
          "metadata": {},
          "execution_count": 7
        }
      ],
      "source": [
        "A.flatten() \n",
        "\n",
        "# Gives 1D vector"
      ]
    },
    {
      "cell_type": "markdown",
      "metadata": {
        "id": "EwELSLm_VIsj"
      },
      "source": [
        "#### There's another function which does the same job: `ravel()`"
      ]
    },
    {
      "cell_type": "code",
      "execution_count": null,
      "metadata": {
        "id": "mU-qOCJJVIsk",
        "outputId": "d88208e7-334a-48b7-c9fa-bac38828e366",
        "colab": {
          "base_uri": "https://localhost:8080/"
        }
      },
      "outputs": [
        {
          "output_type": "execute_result",
          "data": {
            "text/plain": [
              "array([ 0,  1,  2,  3,  4,  5,  6,  7,  8,  9, 10, 11])"
            ]
          },
          "metadata": {},
          "execution_count": 8
        }
      ],
      "source": [
        "A.ravel()"
      ]
    },
    {
      "cell_type": "markdown",
      "metadata": {
        "id": "2EzkjZyhVIsk"
      },
      "source": [
        "#### Why there are two functions for doing same thing ? \n",
        "\n",
        "**Flatten returns copy of the array whereas ravel returns view of the array** \n",
        "**It means if i ravel an array and modify the raveled array, it'll change the original array as well**"
      ]
    },
    {
      "cell_type": "code",
      "execution_count": null,
      "metadata": {
        "id": "tbpU5YAeVIsl",
        "outputId": "323dc83e-c89f-4fdb-f532-7c139bf11177",
        "colab": {
          "base_uri": "https://localhost:8080/"
        }
      },
      "outputs": [
        {
          "output_type": "execute_result",
          "data": {
            "text/plain": [
              "array([[ 0,  1,  2,  3],\n",
              "       [ 4,  5,  6,  7],\n",
              "       [ 8,  9, 10, 11]])"
            ]
          },
          "metadata": {},
          "execution_count": 9
        }
      ],
      "source": [
        "A = np.arange(12).reshape(3,4)\n",
        "A"
      ]
    },
    {
      "cell_type": "code",
      "execution_count": null,
      "metadata": {
        "id": "i8ls1SMDVIsl",
        "outputId": "cfd20469-65ef-486b-cffa-ab79bd6dc723",
        "colab": {
          "base_uri": "https://localhost:8080/"
        }
      },
      "outputs": [
        {
          "output_type": "execute_result",
          "data": {
            "text/plain": [
              "array([ 0,  1,  2,  3,  4,  5,  6,  7,  8,  9, 10, 11])"
            ]
          },
          "metadata": {},
          "execution_count": 10
        }
      ],
      "source": [
        "B = A.flatten()\n",
        "B"
      ]
    },
    {
      "cell_type": "code",
      "execution_count": null,
      "metadata": {
        "id": "gopsKkX9VIsm",
        "outputId": "629a6d85-8833-49e1-c560-9fd1d9f6646d",
        "colab": {
          "base_uri": "https://localhost:8080/"
        }
      },
      "outputs": [
        {
          "output_type": "execute_result",
          "data": {
            "text/plain": [
              "array([55,  1,  2,  3,  4,  5,  6,  7,  8,  9, 10, 11])"
            ]
          },
          "metadata": {},
          "execution_count": 11
        }
      ],
      "source": [
        "B[0] = 55\n",
        "B"
      ]
    },
    {
      "cell_type": "code",
      "execution_count": null,
      "metadata": {
        "id": "RDMrdn7EVIsm",
        "outputId": "3e289233-af08-4c16-f207-75255c4eee10",
        "colab": {
          "base_uri": "https://localhost:8080/"
        }
      },
      "outputs": [
        {
          "output_type": "execute_result",
          "data": {
            "text/plain": [
              "array([[ 0,  1,  2,  3],\n",
              "       [ 4,  5,  6,  7],\n",
              "       [ 8,  9, 10, 11]])"
            ]
          },
          "metadata": {},
          "execution_count": 12
        }
      ],
      "source": [
        "A"
      ]
    },
    {
      "cell_type": "code",
      "execution_count": null,
      "metadata": {
        "id": "K90hHHafVIsn",
        "outputId": "a027c430-e743-4cd3-d1ac-6a64d52d5c2d",
        "colab": {
          "base_uri": "https://localhost:8080/"
        }
      },
      "outputs": [
        {
          "output_type": "execute_result",
          "data": {
            "text/plain": [
              "array([ 0,  1,  2,  3,  4,  5,  6,  7,  8,  9, 10, 11])"
            ]
          },
          "metadata": {},
          "execution_count": 13
        }
      ],
      "source": [
        "C = A.ravel()\n",
        "C"
      ]
    },
    {
      "cell_type": "code",
      "execution_count": null,
      "metadata": {
        "id": "iZVKo55XVIsn",
        "outputId": "1fa78256-ebd8-4578-e966-b4e0740e0a96",
        "colab": {
          "base_uri": "https://localhost:8080/"
        }
      },
      "outputs": [
        {
          "output_type": "execute_result",
          "data": {
            "text/plain": [
              "array([55,  1,  2,  3,  4,  5,  6,  7,  8,  9, 10, 11])"
            ]
          },
          "metadata": {},
          "execution_count": 14
        }
      ],
      "source": [
        "C[0] = 55\n",
        "C"
      ]
    },
    {
      "cell_type": "code",
      "execution_count": null,
      "metadata": {
        "id": "3GgK8PqKVIsn",
        "outputId": "22a09014-474c-444e-c2d8-88ee2a76a6d5",
        "colab": {
          "base_uri": "https://localhost:8080/"
        }
      },
      "outputs": [
        {
          "output_type": "execute_result",
          "data": {
            "text/plain": [
              "array([[55,  1,  2,  3],\n",
              "       [ 4,  5,  6,  7],\n",
              "       [ 8,  9, 10, 11]])"
            ]
          },
          "metadata": {},
          "execution_count": 15
        }
      ],
      "source": [
        "A"
      ]
    },
    {
      "cell_type": "markdown",
      "metadata": {
        "id": "Ph3zqSiGVIso"
      },
      "source": [
        "Notice how values of A changed when we changed C array."
      ]
    },
    {
      "cell_type": "code",
      "source": [],
      "metadata": {
        "id": "qzqJ8W125NTS"
      },
      "execution_count": null,
      "outputs": []
    }
  ]
}