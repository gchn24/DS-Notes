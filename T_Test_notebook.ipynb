{
  "cells": [
    {
      "cell_type": "markdown",
      "metadata": {
        "id": "view-in-github",
        "colab_type": "text"
      },
      "source": [
        "<a href=\"https://colab.research.google.com/github/gchn24/DS-Notes/blob/main/T_Test_notebook.ipynb\" target=\"_parent\"><img src=\"https://colab.research.google.com/assets/colab-badge.svg\" alt=\"Open In Colab\"/></a>"
      ]
    },
    {
      "cell_type": "code",
      "execution_count": 1,
      "id": "6b733561",
      "metadata": {
        "id": "6b733561"
      },
      "outputs": [],
      "source": [
        "import numpy as np\n",
        "import pandas as pd\n",
        "import seaborn as sns\n",
        "import matplotlib.pyplot as plt"
      ]
    },
    {
      "cell_type": "code",
      "source": [
        "!gdown 1ZK7MFfWJcVCYzBNbymvbv6-dxgnngDw6 -O \"drug_1_recovery.csv\""
      ],
      "metadata": {
        "colab": {
          "base_uri": "https://localhost:8080/"
        },
        "id": "vgl5jD-6PrZ_",
        "outputId": "9e7b802f-273b-413d-cf4f-840d5e7d4542"
      },
      "id": "vgl5jD-6PrZ_",
      "execution_count": 2,
      "outputs": [
        {
          "output_type": "stream",
          "name": "stdout",
          "text": [
            "Downloading...\n",
            "From: https://drive.google.com/uc?id=1ZK7MFfWJcVCYzBNbymvbv6-dxgnngDw6\n",
            "To: /content/drug_1_recovery.csv\n",
            "\r  0% 0.00/1.10k [00:00<?, ?B/s]\r100% 1.10k/1.10k [00:00<00:00, 7.24MB/s]\n"
          ]
        }
      ]
    },
    {
      "cell_type": "markdown",
      "id": "c442efeb",
      "metadata": {
        "id": "c442efeb"
      },
      "source": [
        "# Improve IQ with a pill"
      ]
    },
    {
      "cell_type": "markdown",
      "id": "fde35442",
      "metadata": {
        "id": "fde35442"
      },
      "source": [
        "Population IQ average = 100"
      ]
    },
    {
      "cell_type": "markdown",
      "id": "b0e71b69",
      "metadata": {
        "id": "b0e71b69"
      },
      "source": [
        "One researcher claims that his pill will improve IQ"
      ]
    },
    {
      "cell_type": "code",
      "execution_count": 3,
      "id": "e940677e",
      "metadata": {
        "id": "e940677e"
      },
      "outputs": [],
      "source": [
        "# The pill is given to a few people and their IQ is tested with following results:\n",
        "\n",
        "iq_scores = [110, 105, 98, 102, 99, 104, 115, 95]"
      ]
    },
    {
      "cell_type": "markdown",
      "id": "4dd8d06c",
      "metadata": {
        "id": "4dd8d06c"
      },
      "source": [
        "Establish result at 99% confidence (0.01 significance \"alpha\")"
      ]
    },
    {
      "cell_type": "code",
      "execution_count": 4,
      "id": "23e09d90",
      "metadata": {
        "id": "23e09d90"
      },
      "outputs": [],
      "source": [
        "# > pop mu - known\n",
        "# > pop std - unknown -- t-test\n"
      ]
    },
    {
      "cell_type": "code",
      "execution_count": 5,
      "id": "f146f807",
      "metadata": {
        "colab": {
          "base_uri": "https://localhost:8080/"
        },
        "id": "f146f807",
        "outputId": "9bb91744-e7d4-4744-98a6-6eb97a51ad23"
      },
      "outputs": [
        {
          "output_type": "execute_result",
          "data": {
            "text/plain": [
              "103.5"
            ]
          },
          "metadata": {},
          "execution_count": 5
        }
      ],
      "source": [
        "mu = 100\n",
        "m = np.mean(iq_scores) # sample mean\n",
        "m"
      ]
    },
    {
      "cell_type": "markdown",
      "id": "4a08777f",
      "metadata": {
        "id": "4a08777f"
      },
      "source": [
        "#### H0 : mu = 100 (pill has no effect) <br> HA : mu > 100 (pill has good effect)"
      ]
    },
    {
      "cell_type": "code",
      "execution_count": 6,
      "id": "7fb36bb7",
      "metadata": {
        "colab": {
          "base_uri": "https://localhost:8080/"
        },
        "id": "7fb36bb7",
        "outputId": "54f0f037-5650-4120-ac0d-cd56a6bb7f7f"
      },
      "outputs": [
        {
          "output_type": "stream",
          "name": "stdout",
          "text": [
            "[110, 105, 98, 102, 99, 104, 115, 95]\n"
          ]
        }
      ],
      "source": [
        "print(iq_scores)"
      ]
    },
    {
      "cell_type": "code",
      "execution_count": 7,
      "id": "a9b3b52b",
      "metadata": {
        "id": "a9b3b52b"
      },
      "outputs": [],
      "source": [
        "# test_stat : t_stat = (m - mu)/(s/sqrt(n))"
      ]
    },
    {
      "cell_type": "code",
      "execution_count": 8,
      "id": "09a1b8ad",
      "metadata": {
        "colab": {
          "base_uri": "https://localhost:8080/"
        },
        "id": "09a1b8ad",
        "outputId": "bc8be626-67f9-49d9-b302-a13728d64932"
      },
      "outputs": [
        {
          "output_type": "execute_result",
          "data": {
            "text/plain": [
              "6.144102863722254"
            ]
          },
          "metadata": {},
          "execution_count": 8
        }
      ],
      "source": [
        "# s : sample std dev\n",
        "s = np.std(iq_scores)\n",
        "s"
      ]
    },
    {
      "cell_type": "code",
      "execution_count": 9,
      "id": "8c8a7db0",
      "metadata": {
        "colab": {
          "base_uri": "https://localhost:8080/"
        },
        "id": "8c8a7db0",
        "outputId": "d602bd48-f4ab-4bbe-8f90-d4f62a285d6a"
      },
      "outputs": [
        {
          "output_type": "execute_result",
          "data": {
            "text/plain": [
              "8"
            ]
          },
          "metadata": {},
          "execution_count": 9
        }
      ],
      "source": [
        "n = len(iq_scores)\n",
        "n"
      ]
    },
    {
      "cell_type": "code",
      "execution_count": 10,
      "id": "3544464e",
      "metadata": {
        "colab": {
          "base_uri": "https://localhost:8080/"
        },
        "id": "3544464e",
        "outputId": "dbfd301c-426e-4d45-84c2-0688fefc4998"
      },
      "outputs": [
        {
          "output_type": "execute_result",
          "data": {
            "text/plain": [
              "1.611218945415621"
            ]
          },
          "metadata": {},
          "execution_count": 10
        }
      ],
      "source": [
        "t_stat = (m - 100)/(s/np.sqrt(n))\n",
        "t_stat"
      ]
    },
    {
      "cell_type": "code",
      "execution_count": 11,
      "id": "ed0f5d08",
      "metadata": {
        "id": "ed0f5d08"
      },
      "outputs": [],
      "source": [
        "from scipy.stats import t, norm, ttest_1samp"
      ]
    },
    {
      "cell_type": "code",
      "execution_count": 12,
      "id": "33896a03",
      "metadata": {
        "colab": {
          "base_uri": "https://localhost:8080/"
        },
        "id": "33896a03",
        "outputId": "12ff084d-1120-49b2-8359-4a9859214a8b"
      },
      "outputs": [
        {
          "output_type": "execute_result",
          "data": {
            "text/plain": [
              "0.07558359360350508"
            ]
          },
          "metadata": {},
          "execution_count": 12
        }
      ],
      "source": [
        "p_value = 1 - t.cdf(x = t_stat, df = n -1)\n",
        "p_value"
      ]
    },
    {
      "cell_type": "code",
      "execution_count": 13,
      "id": "41197686",
      "metadata": {
        "colab": {
          "base_uri": "https://localhost:8080/"
        },
        "id": "41197686",
        "outputId": "58fb7f29-f37d-49e0-e21e-02f32be3a819"
      },
      "outputs": [
        {
          "output_type": "stream",
          "name": "stdout",
          "text": [
            "Fail to reject H0\n",
            "Pill has no effect\n"
          ]
        }
      ],
      "source": [
        "alpha = 0.01 # 99% confidence\n",
        "\n",
        "if p_value < alpha:\n",
        "    print(\"Reject H0\")\n",
        "else:\n",
        "    print(\"Fail to reject H0\")\n",
        "    print(\"Pill has no effect\")"
      ]
    },
    {
      "cell_type": "code",
      "execution_count": 13,
      "id": "35624500",
      "metadata": {
        "id": "35624500"
      },
      "outputs": [],
      "source": []
    },
    {
      "cell_type": "code",
      "execution_count": 13,
      "id": "87166564",
      "metadata": {
        "id": "87166564"
      },
      "outputs": [],
      "source": []
    },
    {
      "cell_type": "markdown",
      "id": "21077d7a",
      "metadata": {
        "id": "21077d7a"
      },
      "source": [
        "### # Drug recovery"
      ]
    },
    {
      "cell_type": "markdown",
      "id": "bce1831b",
      "metadata": {
        "id": "bce1831b"
      },
      "source": [
        "##### A well known drug => mean recovery days for fatal XYZ disease = 8 days : population avg (monopoly)"
      ]
    },
    {
      "cell_type": "code",
      "execution_count": 14,
      "id": "de6a203e",
      "metadata": {
        "id": "de6a203e"
      },
      "outputs": [],
      "source": [
        "# Company is claiming to be better - mean rec. days of their drug is less"
      ]
    },
    {
      "cell_type": "code",
      "execution_count": 15,
      "id": "a10c0f99",
      "metadata": {
        "colab": {
          "base_uri": "https://localhost:8080/",
          "height": 424
        },
        "id": "a10c0f99",
        "outputId": "226a94f8-02e2-4fca-b9f1-ee36e6eb22c0"
      },
      "outputs": [
        {
          "output_type": "execute_result",
          "data": {
            "text/plain": [
              "      drug_1\n",
              "0   8.824208\n",
              "1   7.477745\n",
              "2   7.557121\n",
              "3   7.981314\n",
              "4   6.827716\n",
              "..       ...\n",
              "95  6.890506\n",
              "96  7.725759\n",
              "97  6.848016\n",
              "98  7.969997\n",
              "99  7.104209\n",
              "\n",
              "[100 rows x 1 columns]"
            ],
            "text/html": [
              "\n",
              "  <div id=\"df-17678657-9b9f-4f24-9433-613293ecbf7c\">\n",
              "    <div class=\"colab-df-container\">\n",
              "      <div>\n",
              "<style scoped>\n",
              "    .dataframe tbody tr th:only-of-type {\n",
              "        vertical-align: middle;\n",
              "    }\n",
              "\n",
              "    .dataframe tbody tr th {\n",
              "        vertical-align: top;\n",
              "    }\n",
              "\n",
              "    .dataframe thead th {\n",
              "        text-align: right;\n",
              "    }\n",
              "</style>\n",
              "<table border=\"1\" class=\"dataframe\">\n",
              "  <thead>\n",
              "    <tr style=\"text-align: right;\">\n",
              "      <th></th>\n",
              "      <th>drug_1</th>\n",
              "    </tr>\n",
              "  </thead>\n",
              "  <tbody>\n",
              "    <tr>\n",
              "      <th>0</th>\n",
              "      <td>8.824208</td>\n",
              "    </tr>\n",
              "    <tr>\n",
              "      <th>1</th>\n",
              "      <td>7.477745</td>\n",
              "    </tr>\n",
              "    <tr>\n",
              "      <th>2</th>\n",
              "      <td>7.557121</td>\n",
              "    </tr>\n",
              "    <tr>\n",
              "      <th>3</th>\n",
              "      <td>7.981314</td>\n",
              "    </tr>\n",
              "    <tr>\n",
              "      <th>4</th>\n",
              "      <td>6.827716</td>\n",
              "    </tr>\n",
              "    <tr>\n",
              "      <th>...</th>\n",
              "      <td>...</td>\n",
              "    </tr>\n",
              "    <tr>\n",
              "      <th>95</th>\n",
              "      <td>6.890506</td>\n",
              "    </tr>\n",
              "    <tr>\n",
              "      <th>96</th>\n",
              "      <td>7.725759</td>\n",
              "    </tr>\n",
              "    <tr>\n",
              "      <th>97</th>\n",
              "      <td>6.848016</td>\n",
              "    </tr>\n",
              "    <tr>\n",
              "      <th>98</th>\n",
              "      <td>7.969997</td>\n",
              "    </tr>\n",
              "    <tr>\n",
              "      <th>99</th>\n",
              "      <td>7.104209</td>\n",
              "    </tr>\n",
              "  </tbody>\n",
              "</table>\n",
              "<p>100 rows × 1 columns</p>\n",
              "</div>\n",
              "      <button class=\"colab-df-convert\" onclick=\"convertToInteractive('df-17678657-9b9f-4f24-9433-613293ecbf7c')\"\n",
              "              title=\"Convert this dataframe to an interactive table.\"\n",
              "              style=\"display:none;\">\n",
              "        \n",
              "  <svg xmlns=\"http://www.w3.org/2000/svg\" height=\"24px\"viewBox=\"0 0 24 24\"\n",
              "       width=\"24px\">\n",
              "    <path d=\"M0 0h24v24H0V0z\" fill=\"none\"/>\n",
              "    <path d=\"M18.56 5.44l.94 2.06.94-2.06 2.06-.94-2.06-.94-.94-2.06-.94 2.06-2.06.94zm-11 1L8.5 8.5l.94-2.06 2.06-.94-2.06-.94L8.5 2.5l-.94 2.06-2.06.94zm10 10l.94 2.06.94-2.06 2.06-.94-2.06-.94-.94-2.06-.94 2.06-2.06.94z\"/><path d=\"M17.41 7.96l-1.37-1.37c-.4-.4-.92-.59-1.43-.59-.52 0-1.04.2-1.43.59L10.3 9.45l-7.72 7.72c-.78.78-.78 2.05 0 2.83L4 21.41c.39.39.9.59 1.41.59.51 0 1.02-.2 1.41-.59l7.78-7.78 2.81-2.81c.8-.78.8-2.07 0-2.86zM5.41 20L4 18.59l7.72-7.72 1.47 1.35L5.41 20z\"/>\n",
              "  </svg>\n",
              "      </button>\n",
              "      \n",
              "  <style>\n",
              "    .colab-df-container {\n",
              "      display:flex;\n",
              "      flex-wrap:wrap;\n",
              "      gap: 12px;\n",
              "    }\n",
              "\n",
              "    .colab-df-convert {\n",
              "      background-color: #E8F0FE;\n",
              "      border: none;\n",
              "      border-radius: 50%;\n",
              "      cursor: pointer;\n",
              "      display: none;\n",
              "      fill: #1967D2;\n",
              "      height: 32px;\n",
              "      padding: 0 0 0 0;\n",
              "      width: 32px;\n",
              "    }\n",
              "\n",
              "    .colab-df-convert:hover {\n",
              "      background-color: #E2EBFA;\n",
              "      box-shadow: 0px 1px 2px rgba(60, 64, 67, 0.3), 0px 1px 3px 1px rgba(60, 64, 67, 0.15);\n",
              "      fill: #174EA6;\n",
              "    }\n",
              "\n",
              "    [theme=dark] .colab-df-convert {\n",
              "      background-color: #3B4455;\n",
              "      fill: #D2E3FC;\n",
              "    }\n",
              "\n",
              "    [theme=dark] .colab-df-convert:hover {\n",
              "      background-color: #434B5C;\n",
              "      box-shadow: 0px 1px 3px 1px rgba(0, 0, 0, 0.15);\n",
              "      filter: drop-shadow(0px 1px 2px rgba(0, 0, 0, 0.3));\n",
              "      fill: #FFFFFF;\n",
              "    }\n",
              "  </style>\n",
              "\n",
              "      <script>\n",
              "        const buttonEl =\n",
              "          document.querySelector('#df-17678657-9b9f-4f24-9433-613293ecbf7c button.colab-df-convert');\n",
              "        buttonEl.style.display =\n",
              "          google.colab.kernel.accessAllowed ? 'block' : 'none';\n",
              "\n",
              "        async function convertToInteractive(key) {\n",
              "          const element = document.querySelector('#df-17678657-9b9f-4f24-9433-613293ecbf7c');\n",
              "          const dataTable =\n",
              "            await google.colab.kernel.invokeFunction('convertToInteractive',\n",
              "                                                     [key], {});\n",
              "          if (!dataTable) return;\n",
              "\n",
              "          const docLinkHtml = 'Like what you see? Visit the ' +\n",
              "            '<a target=\"_blank\" href=https://colab.research.google.com/notebooks/data_table.ipynb>data table notebook</a>'\n",
              "            + ' to learn more about interactive tables.';\n",
              "          element.innerHTML = '';\n",
              "          dataTable['output_type'] = 'display_data';\n",
              "          await google.colab.output.renderOutput(dataTable, element);\n",
              "          const docLink = document.createElement('div');\n",
              "          docLink.innerHTML = docLinkHtml;\n",
              "          element.appendChild(docLink);\n",
              "        }\n",
              "      </script>\n",
              "    </div>\n",
              "  </div>\n",
              "  "
            ]
          },
          "metadata": {},
          "execution_count": 15
        }
      ],
      "source": [
        "df = pd.read_csv(\"drug_1_recovery.csv\")\n",
        "df ## drug is tested on 100 people"
      ]
    },
    {
      "cell_type": "code",
      "execution_count": 16,
      "id": "c1ca9a97",
      "metadata": {
        "id": "c1ca9a97"
      },
      "outputs": [],
      "source": [
        "# 95 % confidence, 5 % significance\n",
        "# alpha = 0.05"
      ]
    },
    {
      "cell_type": "code",
      "execution_count": 17,
      "id": "bab48c5c",
      "metadata": {
        "id": "bab48c5c"
      },
      "outputs": [],
      "source": [
        "# m : sample mean\n",
        "# mu : pop. mean\n",
        "# s : sample std dev.\n",
        "# n : sample size"
      ]
    },
    {
      "cell_type": "code",
      "execution_count": 18,
      "id": "88756c65",
      "metadata": {
        "colab": {
          "base_uri": "https://localhost:8080/"
        },
        "id": "88756c65",
        "outputId": "459c8265-bf76-421c-9813-8afe61cc3f5a"
      },
      "outputs": [
        {
          "output_type": "execute_result",
          "data": {
            "text/plain": [
              "7.1049166262"
            ]
          },
          "metadata": {},
          "execution_count": 18
        }
      ],
      "source": [
        "m = np.mean(df.drug_1)\n",
        "m"
      ]
    },
    {
      "cell_type": "code",
      "execution_count": 19,
      "id": "52da41d4",
      "metadata": {
        "id": "52da41d4"
      },
      "outputs": [],
      "source": [
        "mu = 8"
      ]
    },
    {
      "cell_type": "code",
      "execution_count": 20,
      "id": "44dceaf6",
      "metadata": {
        "colab": {
          "base_uri": "https://localhost:8080/"
        },
        "id": "44dceaf6",
        "outputId": "d517faa5-1c0a-4122-ede7-89c89fa18e25"
      },
      "outputs": [
        {
          "output_type": "execute_result",
          "data": {
            "text/plain": [
              "1.0334899643634339"
            ]
          },
          "metadata": {},
          "execution_count": 20
        }
      ],
      "source": [
        "s = np.std(df.drug_1)\n",
        "s"
      ]
    },
    {
      "cell_type": "code",
      "execution_count": 21,
      "id": "15b5c1a3",
      "metadata": {
        "colab": {
          "base_uri": "https://localhost:8080/"
        },
        "id": "15b5c1a3",
        "outputId": "14f1fcb0-e60b-4b7d-9d61-8b38bc2234b5"
      },
      "outputs": [
        {
          "output_type": "execute_result",
          "data": {
            "text/plain": [
              "100"
            ]
          },
          "metadata": {},
          "execution_count": 21
        }
      ],
      "source": [
        "n = len(df)\n",
        "n"
      ]
    },
    {
      "cell_type": "code",
      "execution_count": 22,
      "id": "75312a25",
      "metadata": {
        "colab": {
          "base_uri": "https://localhost:8080/"
        },
        "id": "75312a25",
        "outputId": "2652a9d7-197e-44a7-9491-d809632e05ba"
      },
      "outputs": [
        {
          "output_type": "execute_result",
          "data": {
            "text/plain": [
              "-8.660784377827186"
            ]
          },
          "metadata": {},
          "execution_count": 22
        }
      ],
      "source": [
        "z_stat = (m - mu)/(s/np.sqrt(n))\n",
        "z_stat"
      ]
    },
    {
      "cell_type": "code",
      "execution_count": 23,
      "id": "17bd9649",
      "metadata": {
        "colab": {
          "base_uri": "https://localhost:8080/"
        },
        "id": "17bd9649",
        "outputId": "cdee3090-14fa-48a5-a788-7303ba51ead0"
      },
      "outputs": [
        {
          "output_type": "execute_result",
          "data": {
            "text/plain": [
              "-8.660784377827186"
            ]
          },
          "metadata": {},
          "execution_count": 23
        }
      ],
      "source": [
        "t_stat = (m - mu)/(s/np.sqrt(n))\n",
        "t_stat"
      ]
    },
    {
      "cell_type": "code",
      "execution_count": 24,
      "id": "70e98f31",
      "metadata": {
        "id": "70e98f31"
      },
      "outputs": [],
      "source": [
        "# H0 :  mu = 8\n",
        "# Ha : mu < 8 # left tail test"
      ]
    },
    {
      "cell_type": "markdown",
      "id": "af7a5d17",
      "metadata": {
        "id": "af7a5d17"
      },
      "source": [
        "## Z test"
      ]
    },
    {
      "cell_type": "code",
      "execution_count": 25,
      "id": "258cfbfa",
      "metadata": {
        "colab": {
          "base_uri": "https://localhost:8080/"
        },
        "id": "258cfbfa",
        "outputId": "aeba2fa9-6dd7-4129-a5b7-37172e70e325"
      },
      "outputs": [
        {
          "output_type": "execute_result",
          "data": {
            "text/plain": [
              "2.3426452208758517e-18"
            ]
          },
          "metadata": {},
          "execution_count": 25
        }
      ],
      "source": [
        "p_value = norm.cdf(z_stat)\n",
        "p_value"
      ]
    },
    {
      "cell_type": "markdown",
      "id": "cd3cb954",
      "metadata": {
        "id": "cd3cb954"
      },
      "source": [
        "## T- test"
      ]
    },
    {
      "cell_type": "code",
      "execution_count": 26,
      "id": "e728c3df",
      "metadata": {
        "colab": {
          "base_uri": "https://localhost:8080/"
        },
        "id": "e728c3df",
        "outputId": "c989400b-84c4-4015-bb6c-a67f9c68eba4"
      },
      "outputs": [
        {
          "output_type": "execute_result",
          "data": {
            "text/plain": [
              "4.5168913601959144e-14"
            ]
          },
          "metadata": {},
          "execution_count": 26
        }
      ],
      "source": [
        "p_value = t.cdf(t_stat, n -1)\n",
        "p_value"
      ]
    },
    {
      "cell_type": "code",
      "execution_count": 27,
      "id": "b55ffc9e",
      "metadata": {
        "colab": {
          "base_uri": "https://localhost:8080/"
        },
        "id": "b55ffc9e",
        "outputId": "1d9d9603-4d60-450f-9311-0a150f41617d"
      },
      "outputs": [
        {
          "output_type": "stream",
          "name": "stdout",
          "text": [
            "Reject H0\n"
          ]
        }
      ],
      "source": [
        "alpha = 0.01 # 99% confidence\n",
        "\n",
        "if p_value < alpha:\n",
        "    print(\"Reject H0\")\n",
        "else:\n",
        "    print(\"Fail to reject H0\")"
      ]
    },
    {
      "cell_type": "code",
      "execution_count": 28,
      "id": "0d783437",
      "metadata": {
        "id": "0d783437"
      },
      "outputs": [],
      "source": [
        "from scipy.stats import ttest_1samp"
      ]
    },
    {
      "cell_type": "code",
      "execution_count": 29,
      "id": "0801f2c3",
      "metadata": {
        "colab": {
          "base_uri": "https://localhost:8080/"
        },
        "id": "0801f2c3",
        "outputId": "7a72a6e5-e0de-4c09-899d-f410a0a7acb0"
      },
      "outputs": [
        {
          "output_type": "execute_result",
          "data": {
            "text/plain": [
              "TtestResult(statistic=-8.617371651427325, pvalue=5.609171987848786e-14, df=99)"
            ]
          },
          "metadata": {},
          "execution_count": 29
        }
      ],
      "source": [
        "ttest_1samp(df.drug_1,\n",
        "            popmean = 8,\n",
        "            alternative = \"less\")"
      ]
    },
    {
      "cell_type": "code",
      "execution_count": 29,
      "id": "77707bb1",
      "metadata": {
        "id": "77707bb1"
      },
      "outputs": [],
      "source": []
    },
    {
      "cell_type": "code",
      "execution_count": 30,
      "id": "bfbdfd25",
      "metadata": {
        "id": "bfbdfd25"
      },
      "outputs": [],
      "source": [
        "# ttest_2samp"
      ]
    },
    {
      "cell_type": "code",
      "execution_count": 30,
      "id": "006d886a",
      "metadata": {
        "id": "006d886a"
      },
      "outputs": [],
      "source": []
    },
    {
      "cell_type": "code",
      "execution_count": 30,
      "id": "b10cfd7c",
      "metadata": {
        "id": "b10cfd7c"
      },
      "outputs": [],
      "source": []
    },
    {
      "cell_type": "code",
      "execution_count": 30,
      "id": "68e62db4",
      "metadata": {
        "id": "68e62db4"
      },
      "outputs": [],
      "source": []
    },
    {
      "cell_type": "code",
      "execution_count": 30,
      "id": "cc8b90aa",
      "metadata": {
        "id": "cc8b90aa"
      },
      "outputs": [],
      "source": []
    },
    {
      "cell_type": "code",
      "execution_count": 30,
      "id": "46f544b5",
      "metadata": {
        "id": "46f544b5"
      },
      "outputs": [],
      "source": []
    },
    {
      "cell_type": "code",
      "execution_count": 30,
      "id": "eda05372",
      "metadata": {
        "id": "eda05372"
      },
      "outputs": [],
      "source": []
    },
    {
      "cell_type": "code",
      "execution_count": 30,
      "id": "6c39be98",
      "metadata": {
        "id": "6c39be98"
      },
      "outputs": [],
      "source": []
    },
    {
      "cell_type": "code",
      "execution_count": 30,
      "id": "9375a054",
      "metadata": {
        "id": "9375a054"
      },
      "outputs": [],
      "source": []
    },
    {
      "cell_type": "code",
      "execution_count": 30,
      "id": "848bd21b",
      "metadata": {
        "id": "848bd21b"
      },
      "outputs": [],
      "source": []
    },
    {
      "cell_type": "code",
      "execution_count": 30,
      "id": "d3ede7c6",
      "metadata": {
        "id": "d3ede7c6"
      },
      "outputs": [],
      "source": []
    }
  ],
  "metadata": {
    "kernelspec": {
      "display_name": "Python 3 (ipykernel)",
      "language": "python",
      "name": "python3"
    },
    "language_info": {
      "codemirror_mode": {
        "name": "ipython",
        "version": 3
      },
      "file_extension": ".py",
      "mimetype": "text/x-python",
      "name": "python",
      "nbconvert_exporter": "python",
      "pygments_lexer": "ipython3",
      "version": "3.9.12"
    },
    "colab": {
      "provenance": [],
      "include_colab_link": true
    }
  },
  "nbformat": 4,
  "nbformat_minor": 5
}