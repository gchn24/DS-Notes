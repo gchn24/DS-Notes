{
  "cells": [
    {
      "cell_type": "markdown",
      "metadata": {
        "id": "view-in-github",
        "colab_type": "text"
      },
      "source": [
        "<a href=\"https://colab.research.google.com/github/gchn24/DS-Notes/blob/main/T_Test_notebook.ipynb\" target=\"_parent\"><img src=\"https://colab.research.google.com/assets/colab-badge.svg\" alt=\"Open In Colab\"/></a>"
      ]
    },
    {
      "cell_type": "code",
      "execution_count": 98,
      "id": "6b733561",
      "metadata": {
        "id": "6b733561"
      },
      "outputs": [],
      "source": [
        "import numpy as np\n",
        "import pandas as pd\n",
        "import seaborn as sns\n",
        "import matplotlib.pyplot as plt\n",
        "from scipy.stats import ttest_1samp"
      ]
    },
    {
      "cell_type": "code",
      "source": [
        "!gdown 1ZK7MFfWJcVCYzBNbymvbv6-dxgnngDw6 -O \"drug_1_recovery.csv\""
      ],
      "metadata": {
        "colab": {
          "base_uri": "https://localhost:8080/"
        },
        "id": "vgl5jD-6PrZ_",
        "outputId": "4269b724-b837-4931-824e-cee643366bb2"
      },
      "id": "vgl5jD-6PrZ_",
      "execution_count": 99,
      "outputs": [
        {
          "output_type": "stream",
          "name": "stdout",
          "text": [
            "Downloading...\n",
            "From: https://drive.google.com/uc?id=1ZK7MFfWJcVCYzBNbymvbv6-dxgnngDw6\n",
            "To: /content/drug_1_recovery.csv\n",
            "\r  0% 0.00/1.10k [00:00<?, ?B/s]\r100% 1.10k/1.10k [00:00<00:00, 4.65MB/s]\n"
          ]
        }
      ]
    },
    {
      "cell_type": "markdown",
      "id": "c442efeb",
      "metadata": {
        "id": "c442efeb"
      },
      "source": [
        "# Improve IQ with a pill"
      ]
    },
    {
      "cell_type": "markdown",
      "id": "fde35442",
      "metadata": {
        "id": "fde35442"
      },
      "source": [
        "Population IQ average = 100"
      ]
    },
    {
      "cell_type": "markdown",
      "id": "b0e71b69",
      "metadata": {
        "id": "b0e71b69"
      },
      "source": [
        "One researcher claims that his pill will improve IQ"
      ]
    },
    {
      "cell_type": "code",
      "execution_count": 100,
      "id": "e940677e",
      "metadata": {
        "id": "e940677e"
      },
      "outputs": [],
      "source": [
        "# The pill is given to a few people and their IQ is tested with following results:\n",
        "\n",
        "iq_scores = [110, 105, 98, 102, 99, 104, 115, 95]"
      ]
    },
    {
      "cell_type": "markdown",
      "id": "4dd8d06c",
      "metadata": {
        "id": "4dd8d06c"
      },
      "source": [
        "Establish result at 99% confidence (0.01 significance \"alpha\")"
      ]
    },
    {
      "cell_type": "code",
      "execution_count": 101,
      "id": "23e09d90",
      "metadata": {
        "id": "23e09d90"
      },
      "outputs": [],
      "source": [
        "# > pop mu - known\n",
        "# > pop std - unknown -- t-test\n"
      ]
    },
    {
      "cell_type": "code",
      "execution_count": 102,
      "id": "f146f807",
      "metadata": {
        "colab": {
          "base_uri": "https://localhost:8080/"
        },
        "id": "f146f807",
        "outputId": "de5af90b-d595-472b-d9cf-7915031775bb"
      },
      "outputs": [
        {
          "output_type": "execute_result",
          "data": {
            "text/plain": [
              "103.5"
            ]
          },
          "metadata": {},
          "execution_count": 102
        }
      ],
      "source": [
        "mu = 100\n",
        "m = np.mean(iq_scores) # sample mean\n",
        "m"
      ]
    },
    {
      "cell_type": "markdown",
      "id": "4a08777f",
      "metadata": {
        "id": "4a08777f"
      },
      "source": [
        "#### H0 : mu = 100 (pill has no effect) <br> HA : mu > 100 (pill has good effect)"
      ]
    },
    {
      "cell_type": "code",
      "execution_count": 103,
      "id": "7fb36bb7",
      "metadata": {
        "colab": {
          "base_uri": "https://localhost:8080/"
        },
        "id": "7fb36bb7",
        "outputId": "b69fdb72-dfc2-4891-ddf1-62f6de9c8f91"
      },
      "outputs": [
        {
          "output_type": "stream",
          "name": "stdout",
          "text": [
            "[110, 105, 98, 102, 99, 104, 115, 95]\n"
          ]
        }
      ],
      "source": [
        "print(iq_scores)"
      ]
    },
    {
      "cell_type": "code",
      "execution_count": 104,
      "id": "a9b3b52b",
      "metadata": {
        "id": "a9b3b52b"
      },
      "outputs": [],
      "source": [
        "# test_stat : t_stat = (m - mu)/(s/sqrt(n))"
      ]
    },
    {
      "cell_type": "code",
      "execution_count": 105,
      "id": "09a1b8ad",
      "metadata": {
        "colab": {
          "base_uri": "https://localhost:8080/"
        },
        "id": "09a1b8ad",
        "outputId": "d71efaa1-cfbc-4d1c-dcfe-d3abe3c6c8c5"
      },
      "outputs": [
        {
          "output_type": "execute_result",
          "data": {
            "text/plain": [
              "6.144102863722254"
            ]
          },
          "metadata": {},
          "execution_count": 105
        }
      ],
      "source": [
        "# s : sample std dev\n",
        "s = np.std(iq_scores)\n",
        "s"
      ]
    },
    {
      "cell_type": "code",
      "execution_count": 106,
      "id": "8c8a7db0",
      "metadata": {
        "colab": {
          "base_uri": "https://localhost:8080/"
        },
        "id": "8c8a7db0",
        "outputId": "12372f13-6bd4-406a-f8da-c528ee8f496e"
      },
      "outputs": [
        {
          "output_type": "execute_result",
          "data": {
            "text/plain": [
              "8"
            ]
          },
          "metadata": {},
          "execution_count": 106
        }
      ],
      "source": [
        "n = len(iq_scores)\n",
        "n"
      ]
    },
    {
      "cell_type": "code",
      "execution_count": 107,
      "id": "3544464e",
      "metadata": {
        "colab": {
          "base_uri": "https://localhost:8080/"
        },
        "id": "3544464e",
        "outputId": "6e848963-a994-44ab-e09f-4d963f3f57c9"
      },
      "outputs": [
        {
          "output_type": "execute_result",
          "data": {
            "text/plain": [
              "1.611218945415621"
            ]
          },
          "metadata": {},
          "execution_count": 107
        }
      ],
      "source": [
        "t_stat = (m - 100)/(s/np.sqrt(n))\n",
        "t_stat"
      ]
    },
    {
      "cell_type": "code",
      "execution_count": 108,
      "id": "ed0f5d08",
      "metadata": {
        "id": "ed0f5d08"
      },
      "outputs": [],
      "source": [
        "from scipy.stats import t, norm, ttest_1samp"
      ]
    },
    {
      "cell_type": "code",
      "execution_count": 109,
      "id": "33896a03",
      "metadata": {
        "colab": {
          "base_uri": "https://localhost:8080/"
        },
        "id": "33896a03",
        "outputId": "9d79b15c-cf0f-45b9-a688-0a2662232b95"
      },
      "outputs": [
        {
          "output_type": "execute_result",
          "data": {
            "text/plain": [
              "0.07558359360350508"
            ]
          },
          "metadata": {},
          "execution_count": 109
        }
      ],
      "source": [
        "p_value = 1 - t.cdf(x = t_stat, df = n -1)\n",
        "p_value"
      ]
    },
    {
      "cell_type": "code",
      "execution_count": 110,
      "id": "41197686",
      "metadata": {
        "colab": {
          "base_uri": "https://localhost:8080/"
        },
        "id": "41197686",
        "outputId": "5e91c84c-6435-473d-dc77-9f27d939faa1"
      },
      "outputs": [
        {
          "output_type": "stream",
          "name": "stdout",
          "text": [
            "Fail to reject H0\n",
            "Pill has no effect\n"
          ]
        }
      ],
      "source": [
        "alpha = 0.01 # 99% confidence\n",
        "\n",
        "if p_value < alpha:\n",
        "    print(\"Reject H0\")\n",
        "else:\n",
        "    print(\"Fail to reject H0\")\n",
        "    print(\"Pill has no effect\")"
      ]
    },
    {
      "cell_type": "code",
      "execution_count": 110,
      "id": "35624500",
      "metadata": {
        "id": "35624500"
      },
      "outputs": [],
      "source": []
    },
    {
      "cell_type": "code",
      "execution_count": 110,
      "id": "87166564",
      "metadata": {
        "id": "87166564"
      },
      "outputs": [],
      "source": []
    },
    {
      "cell_type": "markdown",
      "id": "21077d7a",
      "metadata": {
        "id": "21077d7a"
      },
      "source": [
        "### # Drug recovery"
      ]
    },
    {
      "cell_type": "markdown",
      "id": "bce1831b",
      "metadata": {
        "id": "bce1831b"
      },
      "source": [
        "##### A well known drug => mean recovery days for fatal XYZ disease = 8 days : population avg (monopoly)"
      ]
    },
    {
      "cell_type": "code",
      "execution_count": 111,
      "id": "de6a203e",
      "metadata": {
        "id": "de6a203e"
      },
      "outputs": [],
      "source": [
        "# Company is claiming to be better - mean rec. days of their drug is less"
      ]
    },
    {
      "cell_type": "code",
      "execution_count": 112,
      "id": "a10c0f99",
      "metadata": {
        "colab": {
          "base_uri": "https://localhost:8080/",
          "height": 424
        },
        "id": "a10c0f99",
        "outputId": "e2c45d2c-7847-487e-a10c-a2aef10f8b46"
      },
      "outputs": [
        {
          "output_type": "execute_result",
          "data": {
            "text/plain": [
              "      drug_1\n",
              "0   8.824208\n",
              "1   7.477745\n",
              "2   7.557121\n",
              "3   7.981314\n",
              "4   6.827716\n",
              "..       ...\n",
              "95  6.890506\n",
              "96  7.725759\n",
              "97  6.848016\n",
              "98  7.969997\n",
              "99  7.104209\n",
              "\n",
              "[100 rows x 1 columns]"
            ],
            "text/html": [
              "\n",
              "  <div id=\"df-022e793b-95cb-45b9-9bbe-07025cb77391\">\n",
              "    <div class=\"colab-df-container\">\n",
              "      <div>\n",
              "<style scoped>\n",
              "    .dataframe tbody tr th:only-of-type {\n",
              "        vertical-align: middle;\n",
              "    }\n",
              "\n",
              "    .dataframe tbody tr th {\n",
              "        vertical-align: top;\n",
              "    }\n",
              "\n",
              "    .dataframe thead th {\n",
              "        text-align: right;\n",
              "    }\n",
              "</style>\n",
              "<table border=\"1\" class=\"dataframe\">\n",
              "  <thead>\n",
              "    <tr style=\"text-align: right;\">\n",
              "      <th></th>\n",
              "      <th>drug_1</th>\n",
              "    </tr>\n",
              "  </thead>\n",
              "  <tbody>\n",
              "    <tr>\n",
              "      <th>0</th>\n",
              "      <td>8.824208</td>\n",
              "    </tr>\n",
              "    <tr>\n",
              "      <th>1</th>\n",
              "      <td>7.477745</td>\n",
              "    </tr>\n",
              "    <tr>\n",
              "      <th>2</th>\n",
              "      <td>7.557121</td>\n",
              "    </tr>\n",
              "    <tr>\n",
              "      <th>3</th>\n",
              "      <td>7.981314</td>\n",
              "    </tr>\n",
              "    <tr>\n",
              "      <th>4</th>\n",
              "      <td>6.827716</td>\n",
              "    </tr>\n",
              "    <tr>\n",
              "      <th>...</th>\n",
              "      <td>...</td>\n",
              "    </tr>\n",
              "    <tr>\n",
              "      <th>95</th>\n",
              "      <td>6.890506</td>\n",
              "    </tr>\n",
              "    <tr>\n",
              "      <th>96</th>\n",
              "      <td>7.725759</td>\n",
              "    </tr>\n",
              "    <tr>\n",
              "      <th>97</th>\n",
              "      <td>6.848016</td>\n",
              "    </tr>\n",
              "    <tr>\n",
              "      <th>98</th>\n",
              "      <td>7.969997</td>\n",
              "    </tr>\n",
              "    <tr>\n",
              "      <th>99</th>\n",
              "      <td>7.104209</td>\n",
              "    </tr>\n",
              "  </tbody>\n",
              "</table>\n",
              "<p>100 rows × 1 columns</p>\n",
              "</div>\n",
              "      <button class=\"colab-df-convert\" onclick=\"convertToInteractive('df-022e793b-95cb-45b9-9bbe-07025cb77391')\"\n",
              "              title=\"Convert this dataframe to an interactive table.\"\n",
              "              style=\"display:none;\">\n",
              "        \n",
              "  <svg xmlns=\"http://www.w3.org/2000/svg\" height=\"24px\"viewBox=\"0 0 24 24\"\n",
              "       width=\"24px\">\n",
              "    <path d=\"M0 0h24v24H0V0z\" fill=\"none\"/>\n",
              "    <path d=\"M18.56 5.44l.94 2.06.94-2.06 2.06-.94-2.06-.94-.94-2.06-.94 2.06-2.06.94zm-11 1L8.5 8.5l.94-2.06 2.06-.94-2.06-.94L8.5 2.5l-.94 2.06-2.06.94zm10 10l.94 2.06.94-2.06 2.06-.94-2.06-.94-.94-2.06-.94 2.06-2.06.94z\"/><path d=\"M17.41 7.96l-1.37-1.37c-.4-.4-.92-.59-1.43-.59-.52 0-1.04.2-1.43.59L10.3 9.45l-7.72 7.72c-.78.78-.78 2.05 0 2.83L4 21.41c.39.39.9.59 1.41.59.51 0 1.02-.2 1.41-.59l7.78-7.78 2.81-2.81c.8-.78.8-2.07 0-2.86zM5.41 20L4 18.59l7.72-7.72 1.47 1.35L5.41 20z\"/>\n",
              "  </svg>\n",
              "      </button>\n",
              "      \n",
              "  <style>\n",
              "    .colab-df-container {\n",
              "      display:flex;\n",
              "      flex-wrap:wrap;\n",
              "      gap: 12px;\n",
              "    }\n",
              "\n",
              "    .colab-df-convert {\n",
              "      background-color: #E8F0FE;\n",
              "      border: none;\n",
              "      border-radius: 50%;\n",
              "      cursor: pointer;\n",
              "      display: none;\n",
              "      fill: #1967D2;\n",
              "      height: 32px;\n",
              "      padding: 0 0 0 0;\n",
              "      width: 32px;\n",
              "    }\n",
              "\n",
              "    .colab-df-convert:hover {\n",
              "      background-color: #E2EBFA;\n",
              "      box-shadow: 0px 1px 2px rgba(60, 64, 67, 0.3), 0px 1px 3px 1px rgba(60, 64, 67, 0.15);\n",
              "      fill: #174EA6;\n",
              "    }\n",
              "\n",
              "    [theme=dark] .colab-df-convert {\n",
              "      background-color: #3B4455;\n",
              "      fill: #D2E3FC;\n",
              "    }\n",
              "\n",
              "    [theme=dark] .colab-df-convert:hover {\n",
              "      background-color: #434B5C;\n",
              "      box-shadow: 0px 1px 3px 1px rgba(0, 0, 0, 0.15);\n",
              "      filter: drop-shadow(0px 1px 2px rgba(0, 0, 0, 0.3));\n",
              "      fill: #FFFFFF;\n",
              "    }\n",
              "  </style>\n",
              "\n",
              "      <script>\n",
              "        const buttonEl =\n",
              "          document.querySelector('#df-022e793b-95cb-45b9-9bbe-07025cb77391 button.colab-df-convert');\n",
              "        buttonEl.style.display =\n",
              "          google.colab.kernel.accessAllowed ? 'block' : 'none';\n",
              "\n",
              "        async function convertToInteractive(key) {\n",
              "          const element = document.querySelector('#df-022e793b-95cb-45b9-9bbe-07025cb77391');\n",
              "          const dataTable =\n",
              "            await google.colab.kernel.invokeFunction('convertToInteractive',\n",
              "                                                     [key], {});\n",
              "          if (!dataTable) return;\n",
              "\n",
              "          const docLinkHtml = 'Like what you see? Visit the ' +\n",
              "            '<a target=\"_blank\" href=https://colab.research.google.com/notebooks/data_table.ipynb>data table notebook</a>'\n",
              "            + ' to learn more about interactive tables.';\n",
              "          element.innerHTML = '';\n",
              "          dataTable['output_type'] = 'display_data';\n",
              "          await google.colab.output.renderOutput(dataTable, element);\n",
              "          const docLink = document.createElement('div');\n",
              "          docLink.innerHTML = docLinkHtml;\n",
              "          element.appendChild(docLink);\n",
              "        }\n",
              "      </script>\n",
              "    </div>\n",
              "  </div>\n",
              "  "
            ]
          },
          "metadata": {},
          "execution_count": 112
        }
      ],
      "source": [
        "df = pd.read_csv(\"drug_1_recovery.csv\")\n",
        "df ## drug is tested on 100 people"
      ]
    },
    {
      "cell_type": "code",
      "execution_count": 113,
      "id": "c1ca9a97",
      "metadata": {
        "id": "c1ca9a97"
      },
      "outputs": [],
      "source": [
        "# 95 % confidence, 5 % significance\n",
        "# alpha = 0.05"
      ]
    },
    {
      "cell_type": "code",
      "execution_count": 114,
      "id": "bab48c5c",
      "metadata": {
        "id": "bab48c5c"
      },
      "outputs": [],
      "source": [
        "# m : sample mean\n",
        "# mu : pop. mean\n",
        "# s : sample std dev.\n",
        "# n : sample size"
      ]
    },
    {
      "cell_type": "code",
      "execution_count": 115,
      "id": "88756c65",
      "metadata": {
        "colab": {
          "base_uri": "https://localhost:8080/"
        },
        "id": "88756c65",
        "outputId": "6d40d854-e880-444e-e53e-65c369b677a1"
      },
      "outputs": [
        {
          "output_type": "execute_result",
          "data": {
            "text/plain": [
              "7.1049166262"
            ]
          },
          "metadata": {},
          "execution_count": 115
        }
      ],
      "source": [
        "m = np.mean(df.drug_1)\n",
        "m"
      ]
    },
    {
      "cell_type": "code",
      "execution_count": 116,
      "id": "52da41d4",
      "metadata": {
        "id": "52da41d4"
      },
      "outputs": [],
      "source": [
        "mu = 8"
      ]
    },
    {
      "cell_type": "code",
      "execution_count": 117,
      "id": "44dceaf6",
      "metadata": {
        "colab": {
          "base_uri": "https://localhost:8080/"
        },
        "id": "44dceaf6",
        "outputId": "2077a8a8-06d0-4424-9d5f-c03b8f07bc1c"
      },
      "outputs": [
        {
          "output_type": "execute_result",
          "data": {
            "text/plain": [
              "1.0334899643634339"
            ]
          },
          "metadata": {},
          "execution_count": 117
        }
      ],
      "source": [
        "s = np.std(df.drug_1)\n",
        "s"
      ]
    },
    {
      "cell_type": "code",
      "execution_count": 118,
      "id": "15b5c1a3",
      "metadata": {
        "colab": {
          "base_uri": "https://localhost:8080/"
        },
        "id": "15b5c1a3",
        "outputId": "56e6385a-50db-41a7-dedc-23fec15f61ef"
      },
      "outputs": [
        {
          "output_type": "execute_result",
          "data": {
            "text/plain": [
              "100"
            ]
          },
          "metadata": {},
          "execution_count": 118
        }
      ],
      "source": [
        "n = len(df)\n",
        "n"
      ]
    },
    {
      "cell_type": "code",
      "execution_count": 119,
      "id": "75312a25",
      "metadata": {
        "colab": {
          "base_uri": "https://localhost:8080/"
        },
        "id": "75312a25",
        "outputId": "73c7af32-d14e-4669-dda1-3f885ff270f2"
      },
      "outputs": [
        {
          "output_type": "execute_result",
          "data": {
            "text/plain": [
              "-8.660784377827186"
            ]
          },
          "metadata": {},
          "execution_count": 119
        }
      ],
      "source": [
        "z_stat = (m - mu)/(s/np.sqrt(n))\n",
        "z_stat"
      ]
    },
    {
      "cell_type": "code",
      "execution_count": 120,
      "id": "17bd9649",
      "metadata": {
        "colab": {
          "base_uri": "https://localhost:8080/"
        },
        "id": "17bd9649",
        "outputId": "2c0eb3f4-a4a1-4f9c-d9b6-4bd7b9a32f68"
      },
      "outputs": [
        {
          "output_type": "execute_result",
          "data": {
            "text/plain": [
              "-8.660784377827186"
            ]
          },
          "metadata": {},
          "execution_count": 120
        }
      ],
      "source": [
        "t_stat = (m - mu)/(s/np.sqrt(n))\n",
        "t_stat"
      ]
    },
    {
      "cell_type": "code",
      "execution_count": 121,
      "id": "70e98f31",
      "metadata": {
        "id": "70e98f31"
      },
      "outputs": [],
      "source": [
        "# H0 :  mu = 8\n",
        "# Ha : mu < 8 # left tail test"
      ]
    },
    {
      "cell_type": "markdown",
      "id": "af7a5d17",
      "metadata": {
        "id": "af7a5d17"
      },
      "source": [
        "## Z test"
      ]
    },
    {
      "cell_type": "code",
      "execution_count": 122,
      "id": "258cfbfa",
      "metadata": {
        "colab": {
          "base_uri": "https://localhost:8080/"
        },
        "id": "258cfbfa",
        "outputId": "59fe3e67-b678-4dc4-def5-5fa4f513d7a9"
      },
      "outputs": [
        {
          "output_type": "execute_result",
          "data": {
            "text/plain": [
              "2.3426452208758517e-18"
            ]
          },
          "metadata": {},
          "execution_count": 122
        }
      ],
      "source": [
        "p_value = norm.cdf(z_stat)\n",
        "p_value"
      ]
    },
    {
      "cell_type": "markdown",
      "id": "cd3cb954",
      "metadata": {
        "id": "cd3cb954"
      },
      "source": [
        "## T- test"
      ]
    },
    {
      "cell_type": "code",
      "execution_count": 123,
      "id": "e728c3df",
      "metadata": {
        "colab": {
          "base_uri": "https://localhost:8080/"
        },
        "id": "e728c3df",
        "outputId": "bf66de94-a5db-4c11-c9f5-5e6e4cc746bb"
      },
      "outputs": [
        {
          "output_type": "execute_result",
          "data": {
            "text/plain": [
              "4.5168913601959144e-14"
            ]
          },
          "metadata": {},
          "execution_count": 123
        }
      ],
      "source": [
        "p_value = t.cdf(t_stat, n -1)\n",
        "p_value"
      ]
    },
    {
      "cell_type": "code",
      "execution_count": 124,
      "id": "b55ffc9e",
      "metadata": {
        "colab": {
          "base_uri": "https://localhost:8080/"
        },
        "id": "b55ffc9e",
        "outputId": "31770f00-96ff-4f2c-ef8b-c7ab91cf8a10"
      },
      "outputs": [
        {
          "output_type": "stream",
          "name": "stdout",
          "text": [
            "Reject H0\n"
          ]
        }
      ],
      "source": [
        "alpha = 0.01 # 99% confidence\n",
        "\n",
        "if p_value < alpha:\n",
        "    print(\"Reject H0\")\n",
        "else:\n",
        "    print(\"Fail to reject H0\")"
      ]
    },
    {
      "cell_type": "code",
      "execution_count": 125,
      "id": "0d783437",
      "metadata": {
        "id": "0d783437"
      },
      "outputs": [],
      "source": [
        "from scipy.stats import ttest_1samp"
      ]
    },
    {
      "cell_type": "code",
      "execution_count": 126,
      "id": "0801f2c3",
      "metadata": {
        "colab": {
          "base_uri": "https://localhost:8080/"
        },
        "id": "0801f2c3",
        "outputId": "c988b9bd-edba-4261-9ef3-f7c51ca80cb1"
      },
      "outputs": [
        {
          "output_type": "execute_result",
          "data": {
            "text/plain": [
              "TtestResult(statistic=-8.617371651427325, pvalue=5.609171987848786e-14, df=99)"
            ]
          },
          "metadata": {},
          "execution_count": 126
        }
      ],
      "source": [
        "ttest_1samp(df.drug_1,\n",
        "            popmean = 8,\n",
        "            alternative = \"less\")"
      ]
    },
    {
      "cell_type": "code",
      "execution_count": 126,
      "id": "77707bb1",
      "metadata": {
        "id": "77707bb1"
      },
      "outputs": [],
      "source": []
    },
    {
      "cell_type": "code",
      "execution_count": 127,
      "id": "bfbdfd25",
      "metadata": {
        "id": "bfbdfd25"
      },
      "outputs": [],
      "source": [
        "# ttest_2samp"
      ]
    },
    {
      "cell_type": "code",
      "execution_count": 128,
      "id": "006d886a",
      "metadata": {
        "colab": {
          "base_uri": "https://localhost:8080/"
        },
        "id": "006d886a",
        "outputId": "25a249a3-d4ec-4e54-fda8-a01dc15fc06e"
      },
      "outputs": [
        {
          "output_type": "stream",
          "name": "stdout",
          "text": [
            "12.629999999999999 1.0296115772464876 1.9349383495025891\n",
            "Reject H0\n"
          ]
        }
      ],
      "source": [
        "#Q1\n",
        "\n",
        "#NOTE : Approach is correct however ttest_1samp p-value doesnot match completely.\n",
        "# So decide based on the answer options.\n",
        "\n",
        "# Ho : yield = 12\n",
        "# Ha : yield > 12\n",
        "\n",
        "m = np.mean([14.3,12.6,13.7,10.9,13.7,12.0,11.4,12.0,12.6,13.1])\n",
        "mu = 12\n",
        "s = np.std([14.3,12.6,13.7,10.9,13.7,12.0,11.4,12.0,12.6,13.1])\n",
        "n = 10\n",
        "t_stat = (m - mu)/(s/np.sqrt(n))\n",
        "print(m,s,t_stat)\n",
        "\n",
        "# Right Tailed\n",
        "p_value = 1 - t.cdf(t_stat, n -1)\n",
        "p_value\n",
        "\n",
        "alpha = 0.05 # 5% Significance\n",
        "\n",
        "if p_value < alpha:\n",
        "    print(\"Reject H0\")\n",
        "else:\n",
        "    print(\"Fail to reject H0\")\n"
      ]
    },
    {
      "cell_type": "code",
      "execution_count": 129,
      "id": "b10cfd7c",
      "metadata": {
        "colab": {
          "base_uri": "https://localhost:8080/"
        },
        "id": "b10cfd7c",
        "outputId": "a4b80f9a-77c6-4ecd-a4fd-8d3a200afbbc"
      },
      "outputs": [
        {
          "output_type": "execute_result",
          "data": {
            "text/plain": [
              "0.04249836280442487"
            ]
          },
          "metadata": {},
          "execution_count": 129
        }
      ],
      "source": [
        "p_value"
      ]
    },
    {
      "cell_type": "code",
      "execution_count": 130,
      "id": "68e62db4",
      "metadata": {
        "colab": {
          "base_uri": "https://localhost:8080/"
        },
        "id": "68e62db4",
        "outputId": "f571720e-d24f-4856-9451-6bd0d86cf8f8"
      },
      "outputs": [
        {
          "output_type": "stream",
          "name": "stdout",
          "text": [
            "Reject H0\n"
          ]
        }
      ],
      "source": [
        "#Q2\n",
        "\n",
        "#NOTE : Approach is correct however ttest_1samp p-value doesnot match completely.\n",
        "# So decide based on the answer options.\n",
        "\n",
        "\n",
        "# Ho : height(Pop Mean) = 175.3\n",
        "# Ha : Average height != Pop Mean(175.3)\n",
        "\n",
        "m = np.mean([177.3, 182.7, 169.6, 176.3, 180.3, 179.4, 178.5, 177.2, 181.8, 176.5])\n",
        "mu = 175.3\n",
        "s = np.std([177.3, 182.7, 169.6, 176.3, 180.3, 179.4, 178.5, 177.2, 181.8, 176.5])\n",
        "n = 10\n",
        "\n",
        "diff = m-mu # m is greater than mu\n",
        "x1 = mu-diff\n",
        "x2 = mu+diff\n",
        "t_stat1 = (x1- mu)/(s/np.sqrt(n))\n",
        "t_stat2 = (x2-mu)/(s/np.sqrt(n))\n",
        "\n",
        "\n",
        "# Two Sided\n",
        "pvalue = t.cdf(t_stat1,n-1) + (1-t.cdf(t_stat2,n-1))\n",
        "\n",
        "alpha = 0.05 # 5% significance\n",
        "\n",
        "if p_value < alpha:\n",
        "    print(\"Reject H0\")\n",
        "else:\n",
        "    print(\"Fail to reject H0\")\n"
      ]
    },
    {
      "cell_type": "code",
      "execution_count": 131,
      "id": "cc8b90aa",
      "metadata": {
        "colab": {
          "base_uri": "https://localhost:8080/"
        },
        "id": "cc8b90aa",
        "outputId": "a6256c4e-b019-4a30-cd7a-9a7450205db5"
      },
      "outputs": [
        {
          "output_type": "execute_result",
          "data": {
            "text/plain": [
              "0.04249836280442487"
            ]
          },
          "metadata": {},
          "execution_count": 131
        }
      ],
      "source": [
        "p_value"
      ]
    },
    {
      "cell_type": "code",
      "execution_count": 132,
      "id": "46f544b5",
      "metadata": {
        "id": "46f544b5"
      },
      "outputs": [],
      "source": [
        "x=ttest_1samp([177.3, 182.7, 169.6, 176.3, 180.3, 179.4, 178.5, 177.2, 181.8, 176.5], popmean = 175.3, alternative=\"two-sided\")"
      ]
    },
    {
      "cell_type": "code",
      "execution_count": 133,
      "id": "eda05372",
      "metadata": {
        "colab": {
          "base_uri": "https://localhost:8080/"
        },
        "id": "eda05372",
        "outputId": "c135607e-0206-4e19-cf9e-84be8414d93c"
      },
      "outputs": [
        {
          "output_type": "execute_result",
          "data": {
            "text/plain": [
              "TtestResult(statistic=2.295568968083183, pvalue=0.04734137339747034, df=9)"
            ]
          },
          "metadata": {},
          "execution_count": 133
        }
      ],
      "source": [
        "x"
      ]
    },
    {
      "cell_type": "code",
      "source": [
        "#Q3\n",
        "\n",
        "ttest_1samp([21.5,24.5,18.5,17.2,14.5,23.2,22.1,20.5,19.4,18.1,24.1,18.5],popmean =20,alternative=\"greater\")"
      ],
      "metadata": {
        "colab": {
          "base_uri": "https://localhost:8080/"
        },
        "id": "svFkJUR9c5lC",
        "outputId": "d12e08e9-a25f-49c6-abe6-3ab858186c35"
      },
      "id": "svFkJUR9c5lC",
      "execution_count": 134,
      "outputs": [
        {
          "output_type": "execute_result",
          "data": {
            "text/plain": [
              "TtestResult(statistic=0.2006562773994862, pvalue=0.4223145946526807, df=11)"
            ]
          },
          "metadata": {},
          "execution_count": 134
        }
      ]
    },
    {
      "cell_type": "code",
      "execution_count": 135,
      "id": "6c39be98",
      "metadata": {
        "colab": {
          "base_uri": "https://localhost:8080/"
        },
        "id": "6c39be98",
        "outputId": "7c505ba9-5bd3-415c-85c4-5fd70265b1bc"
      },
      "outputs": [
        {
          "output_type": "stream",
          "name": "stdout",
          "text": [
            "20.175 2.892555098870201 0.20957864653499295\n",
            "Fail to reject H0\n"
          ]
        }
      ],
      "source": [
        "#Q3\n",
        "\n",
        "#NOTE : Approach is correct however ttest_1samp p-value doesnot match completely.\n",
        "# So decide based on the answer options.\n",
        "\n",
        "# Ho : yield = 20\n",
        "# Ha : yield > 20\n",
        "\n",
        "l = [21.5,24.5,18.5,17.2,14.5,23.2,22.1,20.5,19.4,18.1,24.1,18.5]\n",
        "m = np.mean(l)\n",
        "mu = 20\n",
        "s = np.std(l)\n",
        "n = 12\n",
        "t_stat = (m - mu)/(s/np.sqrt(n))\n",
        "print(m,s,t_stat)\n",
        "\n",
        "# Right Tailed\n",
        "p_value = 1 - t.cdf(t_stat, n -1)\n",
        "p_value\n",
        "\n",
        "alpha = 0.05 # 5% Significance\n",
        "\n",
        "if p_value < alpha:\n",
        "    print(\"Reject H0\")\n",
        "else:\n",
        "    print(\"Fail to reject H0\")\n"
      ]
    },
    {
      "cell_type": "code",
      "execution_count": 136,
      "id": "9375a054",
      "metadata": {
        "colab": {
          "base_uri": "https://localhost:8080/"
        },
        "id": "9375a054",
        "outputId": "56dd7b47-bae5-4010-b3e7-c7efb9aebb05"
      },
      "outputs": [
        {
          "output_type": "execute_result",
          "data": {
            "text/plain": [
              "0.4189137695966034"
            ]
          },
          "metadata": {},
          "execution_count": 136
        }
      ],
      "source": [
        "p_value"
      ]
    },
    {
      "cell_type": "code",
      "execution_count": 137,
      "id": "848bd21b",
      "metadata": {
        "id": "848bd21b"
      },
      "outputs": [],
      "source": [
        "#Q4\n",
        "\n"
      ]
    },
    {
      "cell_type": "code",
      "execution_count": 137,
      "id": "d3ede7c6",
      "metadata": {
        "id": "d3ede7c6"
      },
      "outputs": [],
      "source": []
    }
  ],
  "metadata": {
    "kernelspec": {
      "display_name": "Python 3 (ipykernel)",
      "language": "python",
      "name": "python3"
    },
    "language_info": {
      "codemirror_mode": {
        "name": "ipython",
        "version": 3
      },
      "file_extension": ".py",
      "mimetype": "text/x-python",
      "name": "python",
      "nbconvert_exporter": "python",
      "pygments_lexer": "ipython3",
      "version": "3.9.12"
    },
    "colab": {
      "provenance": [],
      "include_colab_link": true
    }
  },
  "nbformat": 4,
  "nbformat_minor": 5
}