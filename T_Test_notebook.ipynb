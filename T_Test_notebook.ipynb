{
  "cells": [
    {
      "cell_type": "markdown",
      "metadata": {
        "id": "view-in-github",
        "colab_type": "text"
      },
      "source": [
        "<a href=\"https://colab.research.google.com/github/gchn24/DS-Notes/blob/main/T_Test_notebook.ipynb\" target=\"_parent\"><img src=\"https://colab.research.google.com/assets/colab-badge.svg\" alt=\"Open In Colab\"/></a>"
      ]
    },
    {
      "cell_type": "code",
      "execution_count": 16,
      "id": "6b733561",
      "metadata": {
        "id": "6b733561"
      },
      "outputs": [],
      "source": [
        "import numpy as np\n",
        "import pandas as pd\n",
        "import seaborn as sns\n",
        "import matplotlib.pyplot as plt"
      ]
    },
    {
      "cell_type": "code",
      "source": [
        "!gdown 1_2kBsNqufqogMjez4eItqnNgckSVHGF2 -O 'aerofit.csv'\n",
        "!gdown 1ZK7MFfWJcVCYzBNbymvbv6-dxgnngDw6 -O 'drug_1_recovery.csv'\n",
        "!gdown 1_C6ddSVLBmBsNEDzJ8AAesafGuBGpHQx -O 'drug_2_recovery.csv'"
      ],
      "metadata": {
        "colab": {
          "base_uri": "https://localhost:8080/"
        },
        "id": "Hdv3GGSFEEVF",
        "outputId": "fb7c4d6c-05c9-4415-b462-64105da5676c"
      },
      "id": "Hdv3GGSFEEVF",
      "execution_count": 17,
      "outputs": [
        {
          "output_type": "stream",
          "name": "stdout",
          "text": [
            "Downloading...\n",
            "From: https://drive.google.com/uc?id=1_2kBsNqufqogMjez4eItqnNgckSVHGF2\n",
            "To: /content/aerofit.csv\n",
            "100% 7.46k/7.46k [00:00<00:00, 26.2MB/s]\n",
            "Downloading...\n",
            "From: https://drive.google.com/uc?id=1ZK7MFfWJcVCYzBNbymvbv6-dxgnngDw6\n",
            "To: /content/drug_1_recovery.csv\n",
            "100% 1.10k/1.10k [00:00<00:00, 4.13MB/s]\n",
            "Downloading...\n",
            "From: https://drive.google.com/uc?id=1_C6ddSVLBmBsNEDzJ8AAesafGuBGpHQx\n",
            "To: /content/drug_2_recovery.csv\n",
            "100% 1.33k/1.33k [00:00<00:00, 7.96MB/s]\n"
          ]
        }
      ]
    },
    {
      "cell_type": "markdown",
      "id": "c442efeb",
      "metadata": {
        "id": "c442efeb"
      },
      "source": [
        "# Improve IQ with a pill"
      ]
    },
    {
      "cell_type": "markdown",
      "id": "fde35442",
      "metadata": {
        "id": "fde35442"
      },
      "source": [
        "Population IQ average = 100"
      ]
    },
    {
      "cell_type": "markdown",
      "id": "b0e71b69",
      "metadata": {
        "id": "b0e71b69"
      },
      "source": [
        "One researcher claims that his pill will improve IQ"
      ]
    },
    {
      "cell_type": "code",
      "execution_count": 18,
      "id": "e940677e",
      "metadata": {
        "id": "e940677e"
      },
      "outputs": [],
      "source": [
        "# The pill is given to a few people and their IQ is tested with following results:\n",
        "\n",
        "iq_scores = [110, 105, 98, 102, 99, 104, 115, 95]"
      ]
    },
    {
      "cell_type": "markdown",
      "id": "4dd8d06c",
      "metadata": {
        "id": "4dd8d06c"
      },
      "source": [
        "Establish result at 99% confidence (0.01 significance \"alpha\")"
      ]
    },
    {
      "cell_type": "code",
      "execution_count": 19,
      "id": "23e09d90",
      "metadata": {
        "id": "23e09d90"
      },
      "outputs": [],
      "source": [
        "# > pop mu - known\n",
        "# > pop std - unknown -- t-test\n"
      ]
    },
    {
      "cell_type": "code",
      "execution_count": 20,
      "id": "f146f807",
      "metadata": {
        "colab": {
          "base_uri": "https://localhost:8080/"
        },
        "id": "f146f807",
        "outputId": "4816f470-88b2-4ae3-906c-c88263faeacf"
      },
      "outputs": [
        {
          "output_type": "execute_result",
          "data": {
            "text/plain": [
              "103.5"
            ]
          },
          "metadata": {},
          "execution_count": 20
        }
      ],
      "source": [
        "mu = 100\n",
        "m = np.mean(iq_scores) # sample mean\n",
        "m"
      ]
    },
    {
      "cell_type": "markdown",
      "id": "4a08777f",
      "metadata": {
        "id": "4a08777f"
      },
      "source": [
        "#### H0 : mu = 100 (pill has no effect) <br> HA : mu > 100 (pill has good effect)"
      ]
    },
    {
      "cell_type": "code",
      "execution_count": 21,
      "id": "7fb36bb7",
      "metadata": {
        "colab": {
          "base_uri": "https://localhost:8080/"
        },
        "id": "7fb36bb7",
        "outputId": "fbdb4170-5a2d-47c6-b55c-8cfde61eef9d"
      },
      "outputs": [
        {
          "output_type": "stream",
          "name": "stdout",
          "text": [
            "[110, 105, 98, 102, 99, 104, 115, 95]\n"
          ]
        }
      ],
      "source": [
        "print(iq_scores)"
      ]
    },
    {
      "cell_type": "code",
      "execution_count": 22,
      "id": "a9b3b52b",
      "metadata": {
        "id": "a9b3b52b"
      },
      "outputs": [],
      "source": [
        "# test_stat : t_stat = (m - mu)/(s/sqrt(n))"
      ]
    },
    {
      "cell_type": "code",
      "execution_count": 23,
      "id": "09a1b8ad",
      "metadata": {
        "colab": {
          "base_uri": "https://localhost:8080/"
        },
        "id": "09a1b8ad",
        "outputId": "9483464c-3ed3-454b-834d-9f9455e67548"
      },
      "outputs": [
        {
          "output_type": "execute_result",
          "data": {
            "text/plain": [
              "6.144102863722254"
            ]
          },
          "metadata": {},
          "execution_count": 23
        }
      ],
      "source": [
        "# s : sample std dev\n",
        "s = np.std(iq_scores)\n",
        "s"
      ]
    },
    {
      "cell_type": "code",
      "execution_count": 24,
      "id": "8c8a7db0",
      "metadata": {
        "colab": {
          "base_uri": "https://localhost:8080/"
        },
        "id": "8c8a7db0",
        "outputId": "4eec9e6c-5584-4866-b344-3558b10af0c8"
      },
      "outputs": [
        {
          "output_type": "execute_result",
          "data": {
            "text/plain": [
              "8"
            ]
          },
          "metadata": {},
          "execution_count": 24
        }
      ],
      "source": [
        "n = len(iq_scores)\n",
        "n"
      ]
    },
    {
      "cell_type": "code",
      "execution_count": 25,
      "id": "3544464e",
      "metadata": {
        "colab": {
          "base_uri": "https://localhost:8080/"
        },
        "id": "3544464e",
        "outputId": "a59a8653-4d68-48e1-a0fc-38cb19cdfaac"
      },
      "outputs": [
        {
          "output_type": "execute_result",
          "data": {
            "text/plain": [
              "1.611218945415621"
            ]
          },
          "metadata": {},
          "execution_count": 25
        }
      ],
      "source": [
        "t_stat = (m - 100)/(s/np.sqrt(n))\n",
        "t_stat"
      ]
    },
    {
      "cell_type": "code",
      "execution_count": 26,
      "id": "ed0f5d08",
      "metadata": {
        "id": "ed0f5d08"
      },
      "outputs": [],
      "source": [
        "from scipy.stats import t, norm, ttest_1samp"
      ]
    },
    {
      "cell_type": "code",
      "execution_count": 27,
      "id": "33896a03",
      "metadata": {
        "colab": {
          "base_uri": "https://localhost:8080/"
        },
        "id": "33896a03",
        "outputId": "5b5db173-aa6f-4167-b40c-fec8fb0ab9eb"
      },
      "outputs": [
        {
          "output_type": "execute_result",
          "data": {
            "text/plain": [
              "0.07558359360350508"
            ]
          },
          "metadata": {},
          "execution_count": 27
        }
      ],
      "source": [
        "p_value = 1 - t.cdf(x = t_stat, df = n -1)\n",
        "p_value"
      ]
    },
    {
      "cell_type": "code",
      "execution_count": 28,
      "id": "41197686",
      "metadata": {
        "colab": {
          "base_uri": "https://localhost:8080/"
        },
        "id": "41197686",
        "outputId": "21f85efa-36f4-4ea0-b262-06a8f4914314"
      },
      "outputs": [
        {
          "output_type": "stream",
          "name": "stdout",
          "text": [
            "Fail to reject H0\n",
            "Pill has no effect\n"
          ]
        }
      ],
      "source": [
        "alpha = 0.01 # 99% confidence\n",
        "\n",
        "if p_value < alpha:\n",
        "    print(\"Reject H0\")\n",
        "else:\n",
        "    print(\"Fail to reject H0\")\n",
        "    print(\"Pill has no effect\")"
      ]
    },
    {
      "cell_type": "code",
      "execution_count": 28,
      "id": "35624500",
      "metadata": {
        "id": "35624500"
      },
      "outputs": [],
      "source": []
    },
    {
      "cell_type": "code",
      "execution_count": 28,
      "id": "87166564",
      "metadata": {
        "id": "87166564"
      },
      "outputs": [],
      "source": []
    },
    {
      "cell_type": "markdown",
      "id": "21077d7a",
      "metadata": {
        "id": "21077d7a"
      },
      "source": [
        "### # Drug recovery"
      ]
    },
    {
      "cell_type": "markdown",
      "id": "bce1831b",
      "metadata": {
        "id": "bce1831b"
      },
      "source": [
        "##### A well known drug => mean recovery days for fatal XYZ disease = 8 days : population avg (monopoly)"
      ]
    },
    {
      "cell_type": "code",
      "execution_count": 29,
      "id": "de6a203e",
      "metadata": {
        "id": "de6a203e"
      },
      "outputs": [],
      "source": [
        "# Company is claiming to be better - mean rec. days of their drug is less"
      ]
    },
    {
      "cell_type": "code",
      "execution_count": 30,
      "id": "a10c0f99",
      "metadata": {
        "colab": {
          "base_uri": "https://localhost:8080/",
          "height": 424
        },
        "id": "a10c0f99",
        "outputId": "25a132b0-c17f-4d8d-c3cb-1fc0a3940a04"
      },
      "outputs": [
        {
          "output_type": "execute_result",
          "data": {
            "text/plain": [
              "      drug_1\n",
              "0   8.824208\n",
              "1   7.477745\n",
              "2   7.557121\n",
              "3   7.981314\n",
              "4   6.827716\n",
              "..       ...\n",
              "95  6.890506\n",
              "96  7.725759\n",
              "97  6.848016\n",
              "98  7.969997\n",
              "99  7.104209\n",
              "\n",
              "[100 rows x 1 columns]"
            ],
            "text/html": [
              "\n",
              "  <div id=\"df-f8eb0ac7-2a75-4099-8bda-958f7bcb4aa2\">\n",
              "    <div class=\"colab-df-container\">\n",
              "      <div>\n",
              "<style scoped>\n",
              "    .dataframe tbody tr th:only-of-type {\n",
              "        vertical-align: middle;\n",
              "    }\n",
              "\n",
              "    .dataframe tbody tr th {\n",
              "        vertical-align: top;\n",
              "    }\n",
              "\n",
              "    .dataframe thead th {\n",
              "        text-align: right;\n",
              "    }\n",
              "</style>\n",
              "<table border=\"1\" class=\"dataframe\">\n",
              "  <thead>\n",
              "    <tr style=\"text-align: right;\">\n",
              "      <th></th>\n",
              "      <th>drug_1</th>\n",
              "    </tr>\n",
              "  </thead>\n",
              "  <tbody>\n",
              "    <tr>\n",
              "      <th>0</th>\n",
              "      <td>8.824208</td>\n",
              "    </tr>\n",
              "    <tr>\n",
              "      <th>1</th>\n",
              "      <td>7.477745</td>\n",
              "    </tr>\n",
              "    <tr>\n",
              "      <th>2</th>\n",
              "      <td>7.557121</td>\n",
              "    </tr>\n",
              "    <tr>\n",
              "      <th>3</th>\n",
              "      <td>7.981314</td>\n",
              "    </tr>\n",
              "    <tr>\n",
              "      <th>4</th>\n",
              "      <td>6.827716</td>\n",
              "    </tr>\n",
              "    <tr>\n",
              "      <th>...</th>\n",
              "      <td>...</td>\n",
              "    </tr>\n",
              "    <tr>\n",
              "      <th>95</th>\n",
              "      <td>6.890506</td>\n",
              "    </tr>\n",
              "    <tr>\n",
              "      <th>96</th>\n",
              "      <td>7.725759</td>\n",
              "    </tr>\n",
              "    <tr>\n",
              "      <th>97</th>\n",
              "      <td>6.848016</td>\n",
              "    </tr>\n",
              "    <tr>\n",
              "      <th>98</th>\n",
              "      <td>7.969997</td>\n",
              "    </tr>\n",
              "    <tr>\n",
              "      <th>99</th>\n",
              "      <td>7.104209</td>\n",
              "    </tr>\n",
              "  </tbody>\n",
              "</table>\n",
              "<p>100 rows × 1 columns</p>\n",
              "</div>\n",
              "      <button class=\"colab-df-convert\" onclick=\"convertToInteractive('df-f8eb0ac7-2a75-4099-8bda-958f7bcb4aa2')\"\n",
              "              title=\"Convert this dataframe to an interactive table.\"\n",
              "              style=\"display:none;\">\n",
              "        \n",
              "  <svg xmlns=\"http://www.w3.org/2000/svg\" height=\"24px\"viewBox=\"0 0 24 24\"\n",
              "       width=\"24px\">\n",
              "    <path d=\"M0 0h24v24H0V0z\" fill=\"none\"/>\n",
              "    <path d=\"M18.56 5.44l.94 2.06.94-2.06 2.06-.94-2.06-.94-.94-2.06-.94 2.06-2.06.94zm-11 1L8.5 8.5l.94-2.06 2.06-.94-2.06-.94L8.5 2.5l-.94 2.06-2.06.94zm10 10l.94 2.06.94-2.06 2.06-.94-2.06-.94-.94-2.06-.94 2.06-2.06.94z\"/><path d=\"M17.41 7.96l-1.37-1.37c-.4-.4-.92-.59-1.43-.59-.52 0-1.04.2-1.43.59L10.3 9.45l-7.72 7.72c-.78.78-.78 2.05 0 2.83L4 21.41c.39.39.9.59 1.41.59.51 0 1.02-.2 1.41-.59l7.78-7.78 2.81-2.81c.8-.78.8-2.07 0-2.86zM5.41 20L4 18.59l7.72-7.72 1.47 1.35L5.41 20z\"/>\n",
              "  </svg>\n",
              "      </button>\n",
              "      \n",
              "  <style>\n",
              "    .colab-df-container {\n",
              "      display:flex;\n",
              "      flex-wrap:wrap;\n",
              "      gap: 12px;\n",
              "    }\n",
              "\n",
              "    .colab-df-convert {\n",
              "      background-color: #E8F0FE;\n",
              "      border: none;\n",
              "      border-radius: 50%;\n",
              "      cursor: pointer;\n",
              "      display: none;\n",
              "      fill: #1967D2;\n",
              "      height: 32px;\n",
              "      padding: 0 0 0 0;\n",
              "      width: 32px;\n",
              "    }\n",
              "\n",
              "    .colab-df-convert:hover {\n",
              "      background-color: #E2EBFA;\n",
              "      box-shadow: 0px 1px 2px rgba(60, 64, 67, 0.3), 0px 1px 3px 1px rgba(60, 64, 67, 0.15);\n",
              "      fill: #174EA6;\n",
              "    }\n",
              "\n",
              "    [theme=dark] .colab-df-convert {\n",
              "      background-color: #3B4455;\n",
              "      fill: #D2E3FC;\n",
              "    }\n",
              "\n",
              "    [theme=dark] .colab-df-convert:hover {\n",
              "      background-color: #434B5C;\n",
              "      box-shadow: 0px 1px 3px 1px rgba(0, 0, 0, 0.15);\n",
              "      filter: drop-shadow(0px 1px 2px rgba(0, 0, 0, 0.3));\n",
              "      fill: #FFFFFF;\n",
              "    }\n",
              "  </style>\n",
              "\n",
              "      <script>\n",
              "        const buttonEl =\n",
              "          document.querySelector('#df-f8eb0ac7-2a75-4099-8bda-958f7bcb4aa2 button.colab-df-convert');\n",
              "        buttonEl.style.display =\n",
              "          google.colab.kernel.accessAllowed ? 'block' : 'none';\n",
              "\n",
              "        async function convertToInteractive(key) {\n",
              "          const element = document.querySelector('#df-f8eb0ac7-2a75-4099-8bda-958f7bcb4aa2');\n",
              "          const dataTable =\n",
              "            await google.colab.kernel.invokeFunction('convertToInteractive',\n",
              "                                                     [key], {});\n",
              "          if (!dataTable) return;\n",
              "\n",
              "          const docLinkHtml = 'Like what you see? Visit the ' +\n",
              "            '<a target=\"_blank\" href=https://colab.research.google.com/notebooks/data_table.ipynb>data table notebook</a>'\n",
              "            + ' to learn more about interactive tables.';\n",
              "          element.innerHTML = '';\n",
              "          dataTable['output_type'] = 'display_data';\n",
              "          await google.colab.output.renderOutput(dataTable, element);\n",
              "          const docLink = document.createElement('div');\n",
              "          docLink.innerHTML = docLinkHtml;\n",
              "          element.appendChild(docLink);\n",
              "        }\n",
              "      </script>\n",
              "    </div>\n",
              "  </div>\n",
              "  "
            ]
          },
          "metadata": {},
          "execution_count": 30
        }
      ],
      "source": [
        "df = pd.read_csv(\"drug_1_recovery.csv\")\n",
        "df ## drug is tested on 100 people"
      ]
    },
    {
      "cell_type": "code",
      "execution_count": 31,
      "id": "c1ca9a97",
      "metadata": {
        "id": "c1ca9a97"
      },
      "outputs": [],
      "source": [
        "# 95 % confidence, 5 % significance\n",
        "# alpha = 0.05"
      ]
    },
    {
      "cell_type": "code",
      "execution_count": 32,
      "id": "bab48c5c",
      "metadata": {
        "id": "bab48c5c"
      },
      "outputs": [],
      "source": [
        "# m : sample mean\n",
        "# mu : pop. mean\n",
        "# s : sample std dev.\n",
        "# n : sample size"
      ]
    },
    {
      "cell_type": "code",
      "execution_count": 33,
      "id": "88756c65",
      "metadata": {
        "colab": {
          "base_uri": "https://localhost:8080/"
        },
        "id": "88756c65",
        "outputId": "581e18b0-f0dd-4ecb-c0dd-111b736150d4"
      },
      "outputs": [
        {
          "output_type": "execute_result",
          "data": {
            "text/plain": [
              "7.1049166262"
            ]
          },
          "metadata": {},
          "execution_count": 33
        }
      ],
      "source": [
        "m = np.mean(df.drug_1)\n",
        "m"
      ]
    },
    {
      "cell_type": "code",
      "execution_count": 34,
      "id": "52da41d4",
      "metadata": {
        "id": "52da41d4"
      },
      "outputs": [],
      "source": [
        "mu = 8"
      ]
    },
    {
      "cell_type": "code",
      "execution_count": 35,
      "id": "44dceaf6",
      "metadata": {
        "colab": {
          "base_uri": "https://localhost:8080/"
        },
        "id": "44dceaf6",
        "outputId": "770624e3-2734-44c3-c597-bc4770191fb5"
      },
      "outputs": [
        {
          "output_type": "execute_result",
          "data": {
            "text/plain": [
              "1.0334899643634339"
            ]
          },
          "metadata": {},
          "execution_count": 35
        }
      ],
      "source": [
        "s = np.std(df.drug_1)\n",
        "s"
      ]
    },
    {
      "cell_type": "code",
      "execution_count": 36,
      "id": "15b5c1a3",
      "metadata": {
        "colab": {
          "base_uri": "https://localhost:8080/"
        },
        "id": "15b5c1a3",
        "outputId": "c853a2ec-6c9d-4426-ad25-77bfa5eef416"
      },
      "outputs": [
        {
          "output_type": "execute_result",
          "data": {
            "text/plain": [
              "100"
            ]
          },
          "metadata": {},
          "execution_count": 36
        }
      ],
      "source": [
        "n = len(df)\n",
        "n"
      ]
    },
    {
      "cell_type": "code",
      "execution_count": 37,
      "id": "75312a25",
      "metadata": {
        "colab": {
          "base_uri": "https://localhost:8080/"
        },
        "id": "75312a25",
        "outputId": "4063cba4-8329-4fef-8fcd-9b84443f897f"
      },
      "outputs": [
        {
          "output_type": "execute_result",
          "data": {
            "text/plain": [
              "-8.660784377827186"
            ]
          },
          "metadata": {},
          "execution_count": 37
        }
      ],
      "source": [
        "z_stat = (m - mu)/(s/np.sqrt(n))\n",
        "z_stat"
      ]
    },
    {
      "cell_type": "code",
      "execution_count": 38,
      "id": "17bd9649",
      "metadata": {
        "colab": {
          "base_uri": "https://localhost:8080/"
        },
        "id": "17bd9649",
        "outputId": "8c466d42-7379-4773-ef5a-36a309152b71"
      },
      "outputs": [
        {
          "output_type": "execute_result",
          "data": {
            "text/plain": [
              "-8.660784377827186"
            ]
          },
          "metadata": {},
          "execution_count": 38
        }
      ],
      "source": [
        "t_stat = (m - mu)/(s/np.sqrt(n))\n",
        "t_stat"
      ]
    },
    {
      "cell_type": "code",
      "execution_count": 39,
      "id": "70e98f31",
      "metadata": {
        "id": "70e98f31"
      },
      "outputs": [],
      "source": [
        "# H0 :  mu = 8\n",
        "# Ha : mu < 8 # left tail test"
      ]
    },
    {
      "cell_type": "markdown",
      "id": "af7a5d17",
      "metadata": {
        "id": "af7a5d17"
      },
      "source": [
        "## Z test"
      ]
    },
    {
      "cell_type": "code",
      "execution_count": 40,
      "id": "258cfbfa",
      "metadata": {
        "colab": {
          "base_uri": "https://localhost:8080/"
        },
        "id": "258cfbfa",
        "outputId": "48cc88c0-6711-4145-85b8-c14e2556d1a8"
      },
      "outputs": [
        {
          "output_type": "execute_result",
          "data": {
            "text/plain": [
              "2.3426452208758517e-18"
            ]
          },
          "metadata": {},
          "execution_count": 40
        }
      ],
      "source": [
        "p_value = norm.cdf(z_stat)\n",
        "p_value"
      ]
    },
    {
      "cell_type": "markdown",
      "id": "cd3cb954",
      "metadata": {
        "id": "cd3cb954"
      },
      "source": [
        "## T- test"
      ]
    },
    {
      "cell_type": "code",
      "execution_count": 41,
      "id": "e728c3df",
      "metadata": {
        "colab": {
          "base_uri": "https://localhost:8080/"
        },
        "id": "e728c3df",
        "outputId": "4933e08f-6f97-4677-e0e7-7f73101df671"
      },
      "outputs": [
        {
          "output_type": "execute_result",
          "data": {
            "text/plain": [
              "4.5168913601959144e-14"
            ]
          },
          "metadata": {},
          "execution_count": 41
        }
      ],
      "source": [
        "p_value = t.cdf(t_stat, n -1)\n",
        "p_value"
      ]
    },
    {
      "cell_type": "code",
      "execution_count": 42,
      "id": "b55ffc9e",
      "metadata": {
        "colab": {
          "base_uri": "https://localhost:8080/"
        },
        "id": "b55ffc9e",
        "outputId": "809b783e-7f0b-4f0a-8a08-2718e42c84d6"
      },
      "outputs": [
        {
          "output_type": "stream",
          "name": "stdout",
          "text": [
            "Reject H0\n"
          ]
        }
      ],
      "source": [
        "alpha = 0.01 # 99% confidence\n",
        "\n",
        "if p_value < alpha:\n",
        "    print(\"Reject H0\")\n",
        "else:\n",
        "    print(\"Fail to reject H0\")"
      ]
    },
    {
      "cell_type": "code",
      "execution_count": 43,
      "id": "0d783437",
      "metadata": {
        "id": "0d783437"
      },
      "outputs": [],
      "source": [
        "from scipy.stats import ttest_1samp"
      ]
    },
    {
      "cell_type": "code",
      "execution_count": 44,
      "id": "0801f2c3",
      "metadata": {
        "colab": {
          "base_uri": "https://localhost:8080/"
        },
        "id": "0801f2c3",
        "outputId": "b9672164-9157-42e6-cc36-2ddbd4296182"
      },
      "outputs": [
        {
          "output_type": "execute_result",
          "data": {
            "text/plain": [
              "TtestResult(statistic=-8.617371651427325, pvalue=5.609171987848786e-14, df=99)"
            ]
          },
          "metadata": {},
          "execution_count": 44
        }
      ],
      "source": [
        "ttest_1samp(df.drug_1,\n",
        "            popmean = 8,\n",
        "            alternative = \"less\")"
      ]
    },
    {
      "cell_type": "code",
      "execution_count": 44,
      "id": "77707bb1",
      "metadata": {
        "id": "77707bb1"
      },
      "outputs": [],
      "source": []
    },
    {
      "cell_type": "code",
      "execution_count": 45,
      "id": "bfbdfd25",
      "metadata": {
        "id": "bfbdfd25"
      },
      "outputs": [],
      "source": [
        "# ttest_2samp"
      ]
    },
    {
      "cell_type": "code",
      "execution_count": 46,
      "id": "006d886a",
      "metadata": {
        "colab": {
          "base_uri": "https://localhost:8080/",
          "height": 424
        },
        "id": "006d886a",
        "outputId": "45837658-8e89-4609-f933-d61882f4b326"
      },
      "outputs": [
        {
          "output_type": "execute_result",
          "data": {
            "text/plain": [
              "      drug_1\n",
              "0   8.824208\n",
              "1   7.477745\n",
              "2   7.557121\n",
              "3   7.981314\n",
              "4   6.827716\n",
              "..       ...\n",
              "95  6.890506\n",
              "96  7.725759\n",
              "97  6.848016\n",
              "98  7.969997\n",
              "99  7.104209\n",
              "\n",
              "[100 rows x 1 columns]"
            ],
            "text/html": [
              "\n",
              "  <div id=\"df-40b417d8-082b-440c-856e-d732e7ceed23\">\n",
              "    <div class=\"colab-df-container\">\n",
              "      <div>\n",
              "<style scoped>\n",
              "    .dataframe tbody tr th:only-of-type {\n",
              "        vertical-align: middle;\n",
              "    }\n",
              "\n",
              "    .dataframe tbody tr th {\n",
              "        vertical-align: top;\n",
              "    }\n",
              "\n",
              "    .dataframe thead th {\n",
              "        text-align: right;\n",
              "    }\n",
              "</style>\n",
              "<table border=\"1\" class=\"dataframe\">\n",
              "  <thead>\n",
              "    <tr style=\"text-align: right;\">\n",
              "      <th></th>\n",
              "      <th>drug_1</th>\n",
              "    </tr>\n",
              "  </thead>\n",
              "  <tbody>\n",
              "    <tr>\n",
              "      <th>0</th>\n",
              "      <td>8.824208</td>\n",
              "    </tr>\n",
              "    <tr>\n",
              "      <th>1</th>\n",
              "      <td>7.477745</td>\n",
              "    </tr>\n",
              "    <tr>\n",
              "      <th>2</th>\n",
              "      <td>7.557121</td>\n",
              "    </tr>\n",
              "    <tr>\n",
              "      <th>3</th>\n",
              "      <td>7.981314</td>\n",
              "    </tr>\n",
              "    <tr>\n",
              "      <th>4</th>\n",
              "      <td>6.827716</td>\n",
              "    </tr>\n",
              "    <tr>\n",
              "      <th>...</th>\n",
              "      <td>...</td>\n",
              "    </tr>\n",
              "    <tr>\n",
              "      <th>95</th>\n",
              "      <td>6.890506</td>\n",
              "    </tr>\n",
              "    <tr>\n",
              "      <th>96</th>\n",
              "      <td>7.725759</td>\n",
              "    </tr>\n",
              "    <tr>\n",
              "      <th>97</th>\n",
              "      <td>6.848016</td>\n",
              "    </tr>\n",
              "    <tr>\n",
              "      <th>98</th>\n",
              "      <td>7.969997</td>\n",
              "    </tr>\n",
              "    <tr>\n",
              "      <th>99</th>\n",
              "      <td>7.104209</td>\n",
              "    </tr>\n",
              "  </tbody>\n",
              "</table>\n",
              "<p>100 rows × 1 columns</p>\n",
              "</div>\n",
              "      <button class=\"colab-df-convert\" onclick=\"convertToInteractive('df-40b417d8-082b-440c-856e-d732e7ceed23')\"\n",
              "              title=\"Convert this dataframe to an interactive table.\"\n",
              "              style=\"display:none;\">\n",
              "        \n",
              "  <svg xmlns=\"http://www.w3.org/2000/svg\" height=\"24px\"viewBox=\"0 0 24 24\"\n",
              "       width=\"24px\">\n",
              "    <path d=\"M0 0h24v24H0V0z\" fill=\"none\"/>\n",
              "    <path d=\"M18.56 5.44l.94 2.06.94-2.06 2.06-.94-2.06-.94-.94-2.06-.94 2.06-2.06.94zm-11 1L8.5 8.5l.94-2.06 2.06-.94-2.06-.94L8.5 2.5l-.94 2.06-2.06.94zm10 10l.94 2.06.94-2.06 2.06-.94-2.06-.94-.94-2.06-.94 2.06-2.06.94z\"/><path d=\"M17.41 7.96l-1.37-1.37c-.4-.4-.92-.59-1.43-.59-.52 0-1.04.2-1.43.59L10.3 9.45l-7.72 7.72c-.78.78-.78 2.05 0 2.83L4 21.41c.39.39.9.59 1.41.59.51 0 1.02-.2 1.41-.59l7.78-7.78 2.81-2.81c.8-.78.8-2.07 0-2.86zM5.41 20L4 18.59l7.72-7.72 1.47 1.35L5.41 20z\"/>\n",
              "  </svg>\n",
              "      </button>\n",
              "      \n",
              "  <style>\n",
              "    .colab-df-container {\n",
              "      display:flex;\n",
              "      flex-wrap:wrap;\n",
              "      gap: 12px;\n",
              "    }\n",
              "\n",
              "    .colab-df-convert {\n",
              "      background-color: #E8F0FE;\n",
              "      border: none;\n",
              "      border-radius: 50%;\n",
              "      cursor: pointer;\n",
              "      display: none;\n",
              "      fill: #1967D2;\n",
              "      height: 32px;\n",
              "      padding: 0 0 0 0;\n",
              "      width: 32px;\n",
              "    }\n",
              "\n",
              "    .colab-df-convert:hover {\n",
              "      background-color: #E2EBFA;\n",
              "      box-shadow: 0px 1px 2px rgba(60, 64, 67, 0.3), 0px 1px 3px 1px rgba(60, 64, 67, 0.15);\n",
              "      fill: #174EA6;\n",
              "    }\n",
              "\n",
              "    [theme=dark] .colab-df-convert {\n",
              "      background-color: #3B4455;\n",
              "      fill: #D2E3FC;\n",
              "    }\n",
              "\n",
              "    [theme=dark] .colab-df-convert:hover {\n",
              "      background-color: #434B5C;\n",
              "      box-shadow: 0px 1px 3px 1px rgba(0, 0, 0, 0.15);\n",
              "      filter: drop-shadow(0px 1px 2px rgba(0, 0, 0, 0.3));\n",
              "      fill: #FFFFFF;\n",
              "    }\n",
              "  </style>\n",
              "\n",
              "      <script>\n",
              "        const buttonEl =\n",
              "          document.querySelector('#df-40b417d8-082b-440c-856e-d732e7ceed23 button.colab-df-convert');\n",
              "        buttonEl.style.display =\n",
              "          google.colab.kernel.accessAllowed ? 'block' : 'none';\n",
              "\n",
              "        async function convertToInteractive(key) {\n",
              "          const element = document.querySelector('#df-40b417d8-082b-440c-856e-d732e7ceed23');\n",
              "          const dataTable =\n",
              "            await google.colab.kernel.invokeFunction('convertToInteractive',\n",
              "                                                     [key], {});\n",
              "          if (!dataTable) return;\n",
              "\n",
              "          const docLinkHtml = 'Like what you see? Visit the ' +\n",
              "            '<a target=\"_blank\" href=https://colab.research.google.com/notebooks/data_table.ipynb>data table notebook</a>'\n",
              "            + ' to learn more about interactive tables.';\n",
              "          element.innerHTML = '';\n",
              "          dataTable['output_type'] = 'display_data';\n",
              "          await google.colab.output.renderOutput(dataTable, element);\n",
              "          const docLink = document.createElement('div');\n",
              "          docLink.innerHTML = docLinkHtml;\n",
              "          element.appendChild(docLink);\n",
              "        }\n",
              "      </script>\n",
              "    </div>\n",
              "  </div>\n",
              "  "
            ]
          },
          "metadata": {},
          "execution_count": 46
        }
      ],
      "source": [
        "df"
      ]
    },
    {
      "cell_type": "code",
      "execution_count": 46,
      "id": "b10cfd7c",
      "metadata": {
        "id": "b10cfd7c"
      },
      "outputs": [],
      "source": []
    },
    {
      "cell_type": "code",
      "execution_count": 46,
      "id": "68e62db4",
      "metadata": {
        "id": "68e62db4"
      },
      "outputs": [],
      "source": []
    },
    {
      "cell_type": "code",
      "execution_count": 47,
      "id": "a38abadb",
      "metadata": {
        "colab": {
          "base_uri": "https://localhost:8080/",
          "height": 424
        },
        "id": "a38abadb",
        "outputId": "51ca6191-2654-4e80-a55b-5c2808cb238a"
      },
      "outputs": [
        {
          "output_type": "execute_result",
          "data": {
            "text/plain": [
              "      drug_1\n",
              "0   8.824208\n",
              "1   7.477745\n",
              "2   7.557121\n",
              "3   7.981314\n",
              "4   6.827716\n",
              "..       ...\n",
              "95  6.890506\n",
              "96  7.725759\n",
              "97  6.848016\n",
              "98  7.969997\n",
              "99  7.104209\n",
              "\n",
              "[100 rows x 1 columns]"
            ],
            "text/html": [
              "\n",
              "  <div id=\"df-00c1df10-0457-4ade-88d5-3623fdc5f568\">\n",
              "    <div class=\"colab-df-container\">\n",
              "      <div>\n",
              "<style scoped>\n",
              "    .dataframe tbody tr th:only-of-type {\n",
              "        vertical-align: middle;\n",
              "    }\n",
              "\n",
              "    .dataframe tbody tr th {\n",
              "        vertical-align: top;\n",
              "    }\n",
              "\n",
              "    .dataframe thead th {\n",
              "        text-align: right;\n",
              "    }\n",
              "</style>\n",
              "<table border=\"1\" class=\"dataframe\">\n",
              "  <thead>\n",
              "    <tr style=\"text-align: right;\">\n",
              "      <th></th>\n",
              "      <th>drug_1</th>\n",
              "    </tr>\n",
              "  </thead>\n",
              "  <tbody>\n",
              "    <tr>\n",
              "      <th>0</th>\n",
              "      <td>8.824208</td>\n",
              "    </tr>\n",
              "    <tr>\n",
              "      <th>1</th>\n",
              "      <td>7.477745</td>\n",
              "    </tr>\n",
              "    <tr>\n",
              "      <th>2</th>\n",
              "      <td>7.557121</td>\n",
              "    </tr>\n",
              "    <tr>\n",
              "      <th>3</th>\n",
              "      <td>7.981314</td>\n",
              "    </tr>\n",
              "    <tr>\n",
              "      <th>4</th>\n",
              "      <td>6.827716</td>\n",
              "    </tr>\n",
              "    <tr>\n",
              "      <th>...</th>\n",
              "      <td>...</td>\n",
              "    </tr>\n",
              "    <tr>\n",
              "      <th>95</th>\n",
              "      <td>6.890506</td>\n",
              "    </tr>\n",
              "    <tr>\n",
              "      <th>96</th>\n",
              "      <td>7.725759</td>\n",
              "    </tr>\n",
              "    <tr>\n",
              "      <th>97</th>\n",
              "      <td>6.848016</td>\n",
              "    </tr>\n",
              "    <tr>\n",
              "      <th>98</th>\n",
              "      <td>7.969997</td>\n",
              "    </tr>\n",
              "    <tr>\n",
              "      <th>99</th>\n",
              "      <td>7.104209</td>\n",
              "    </tr>\n",
              "  </tbody>\n",
              "</table>\n",
              "<p>100 rows × 1 columns</p>\n",
              "</div>\n",
              "      <button class=\"colab-df-convert\" onclick=\"convertToInteractive('df-00c1df10-0457-4ade-88d5-3623fdc5f568')\"\n",
              "              title=\"Convert this dataframe to an interactive table.\"\n",
              "              style=\"display:none;\">\n",
              "        \n",
              "  <svg xmlns=\"http://www.w3.org/2000/svg\" height=\"24px\"viewBox=\"0 0 24 24\"\n",
              "       width=\"24px\">\n",
              "    <path d=\"M0 0h24v24H0V0z\" fill=\"none\"/>\n",
              "    <path d=\"M18.56 5.44l.94 2.06.94-2.06 2.06-.94-2.06-.94-.94-2.06-.94 2.06-2.06.94zm-11 1L8.5 8.5l.94-2.06 2.06-.94-2.06-.94L8.5 2.5l-.94 2.06-2.06.94zm10 10l.94 2.06.94-2.06 2.06-.94-2.06-.94-.94-2.06-.94 2.06-2.06.94z\"/><path d=\"M17.41 7.96l-1.37-1.37c-.4-.4-.92-.59-1.43-.59-.52 0-1.04.2-1.43.59L10.3 9.45l-7.72 7.72c-.78.78-.78 2.05 0 2.83L4 21.41c.39.39.9.59 1.41.59.51 0 1.02-.2 1.41-.59l7.78-7.78 2.81-2.81c.8-.78.8-2.07 0-2.86zM5.41 20L4 18.59l7.72-7.72 1.47 1.35L5.41 20z\"/>\n",
              "  </svg>\n",
              "      </button>\n",
              "      \n",
              "  <style>\n",
              "    .colab-df-container {\n",
              "      display:flex;\n",
              "      flex-wrap:wrap;\n",
              "      gap: 12px;\n",
              "    }\n",
              "\n",
              "    .colab-df-convert {\n",
              "      background-color: #E8F0FE;\n",
              "      border: none;\n",
              "      border-radius: 50%;\n",
              "      cursor: pointer;\n",
              "      display: none;\n",
              "      fill: #1967D2;\n",
              "      height: 32px;\n",
              "      padding: 0 0 0 0;\n",
              "      width: 32px;\n",
              "    }\n",
              "\n",
              "    .colab-df-convert:hover {\n",
              "      background-color: #E2EBFA;\n",
              "      box-shadow: 0px 1px 2px rgba(60, 64, 67, 0.3), 0px 1px 3px 1px rgba(60, 64, 67, 0.15);\n",
              "      fill: #174EA6;\n",
              "    }\n",
              "\n",
              "    [theme=dark] .colab-df-convert {\n",
              "      background-color: #3B4455;\n",
              "      fill: #D2E3FC;\n",
              "    }\n",
              "\n",
              "    [theme=dark] .colab-df-convert:hover {\n",
              "      background-color: #434B5C;\n",
              "      box-shadow: 0px 1px 3px 1px rgba(0, 0, 0, 0.15);\n",
              "      filter: drop-shadow(0px 1px 2px rgba(0, 0, 0, 0.3));\n",
              "      fill: #FFFFFF;\n",
              "    }\n",
              "  </style>\n",
              "\n",
              "      <script>\n",
              "        const buttonEl =\n",
              "          document.querySelector('#df-00c1df10-0457-4ade-88d5-3623fdc5f568 button.colab-df-convert');\n",
              "        buttonEl.style.display =\n",
              "          google.colab.kernel.accessAllowed ? 'block' : 'none';\n",
              "\n",
              "        async function convertToInteractive(key) {\n",
              "          const element = document.querySelector('#df-00c1df10-0457-4ade-88d5-3623fdc5f568');\n",
              "          const dataTable =\n",
              "            await google.colab.kernel.invokeFunction('convertToInteractive',\n",
              "                                                     [key], {});\n",
              "          if (!dataTable) return;\n",
              "\n",
              "          const docLinkHtml = 'Like what you see? Visit the ' +\n",
              "            '<a target=\"_blank\" href=https://colab.research.google.com/notebooks/data_table.ipynb>data table notebook</a>'\n",
              "            + ' to learn more about interactive tables.';\n",
              "          element.innerHTML = '';\n",
              "          dataTable['output_type'] = 'display_data';\n",
              "          await google.colab.output.renderOutput(dataTable, element);\n",
              "          const docLink = document.createElement('div');\n",
              "          docLink.innerHTML = docLinkHtml;\n",
              "          element.appendChild(docLink);\n",
              "        }\n",
              "      </script>\n",
              "    </div>\n",
              "  </div>\n",
              "  "
            ]
          },
          "metadata": {},
          "execution_count": 47
        }
      ],
      "source": [
        "d1 = pd.read_csv(\"drug_1_recovery.csv\")\n",
        "d1"
      ]
    },
    {
      "cell_type": "code",
      "execution_count": 48,
      "id": "cbade9cd",
      "metadata": {
        "colab": {
          "base_uri": "https://localhost:8080/"
        },
        "id": "cbade9cd",
        "outputId": "7671905c-b25c-47d4-9c80-99a22efe0519"
      },
      "outputs": [
        {
          "output_type": "execute_result",
          "data": {
            "text/plain": [
              "7.1049166262"
            ]
          },
          "metadata": {},
          "execution_count": 48
        }
      ],
      "source": [
        "m1 = d1.mean()[0] # mean recovery days\n",
        "m1"
      ]
    },
    {
      "cell_type": "code",
      "execution_count": 49,
      "id": "b0961a20",
      "metadata": {
        "colab": {
          "base_uri": "https://localhost:8080/"
        },
        "id": "b0961a20",
        "outputId": "5a32a0b4-fd6e-4366-bf80-8441e33a4516"
      },
      "outputs": [
        {
          "output_type": "execute_result",
          "data": {
            "text/plain": [
              "1.0386964958761464"
            ]
          },
          "metadata": {},
          "execution_count": 49
        }
      ],
      "source": [
        "s1 = d1.std()[0]\n",
        "s1"
      ]
    },
    {
      "cell_type": "code",
      "execution_count": 50,
      "id": "d3fb00a5",
      "metadata": {
        "colab": {
          "base_uri": "https://localhost:8080/"
        },
        "id": "d3fb00a5",
        "outputId": "d7363ad9-b017-4940-d948-6c09fadef611"
      },
      "outputs": [
        {
          "output_type": "execute_result",
          "data": {
            "text/plain": [
              "100"
            ]
          },
          "metadata": {},
          "execution_count": 50
        }
      ],
      "source": [
        "n1 = len(d1)\n",
        "n1"
      ]
    },
    {
      "cell_type": "code",
      "execution_count": 51,
      "id": "f9835bc1",
      "metadata": {
        "colab": {
          "base_uri": "https://localhost:8080/",
          "height": 424
        },
        "id": "f9835bc1",
        "outputId": "0ff3884a-b822-4c1d-ddcf-56a549dde1d6"
      },
      "outputs": [
        {
          "output_type": "execute_result",
          "data": {
            "text/plain": [
              "       drug_2\n",
              "0    9.565974\n",
              "1    7.492915\n",
              "2    8.738418\n",
              "3    7.635235\n",
              "4    4.125593\n",
              "..        ...\n",
              "115  7.861993\n",
              "116  8.233510\n",
              "117  5.876257\n",
              "118  7.789454\n",
              "119  8.836125\n",
              "\n",
              "[120 rows x 1 columns]"
            ],
            "text/html": [
              "\n",
              "  <div id=\"df-08f51863-9442-4eef-9b85-630810487b13\">\n",
              "    <div class=\"colab-df-container\">\n",
              "      <div>\n",
              "<style scoped>\n",
              "    .dataframe tbody tr th:only-of-type {\n",
              "        vertical-align: middle;\n",
              "    }\n",
              "\n",
              "    .dataframe tbody tr th {\n",
              "        vertical-align: top;\n",
              "    }\n",
              "\n",
              "    .dataframe thead th {\n",
              "        text-align: right;\n",
              "    }\n",
              "</style>\n",
              "<table border=\"1\" class=\"dataframe\">\n",
              "  <thead>\n",
              "    <tr style=\"text-align: right;\">\n",
              "      <th></th>\n",
              "      <th>drug_2</th>\n",
              "    </tr>\n",
              "  </thead>\n",
              "  <tbody>\n",
              "    <tr>\n",
              "      <th>0</th>\n",
              "      <td>9.565974</td>\n",
              "    </tr>\n",
              "    <tr>\n",
              "      <th>1</th>\n",
              "      <td>7.492915</td>\n",
              "    </tr>\n",
              "    <tr>\n",
              "      <th>2</th>\n",
              "      <td>8.738418</td>\n",
              "    </tr>\n",
              "    <tr>\n",
              "      <th>3</th>\n",
              "      <td>7.635235</td>\n",
              "    </tr>\n",
              "    <tr>\n",
              "      <th>4</th>\n",
              "      <td>4.125593</td>\n",
              "    </tr>\n",
              "    <tr>\n",
              "      <th>...</th>\n",
              "      <td>...</td>\n",
              "    </tr>\n",
              "    <tr>\n",
              "      <th>115</th>\n",
              "      <td>7.861993</td>\n",
              "    </tr>\n",
              "    <tr>\n",
              "      <th>116</th>\n",
              "      <td>8.233510</td>\n",
              "    </tr>\n",
              "    <tr>\n",
              "      <th>117</th>\n",
              "      <td>5.876257</td>\n",
              "    </tr>\n",
              "    <tr>\n",
              "      <th>118</th>\n",
              "      <td>7.789454</td>\n",
              "    </tr>\n",
              "    <tr>\n",
              "      <th>119</th>\n",
              "      <td>8.836125</td>\n",
              "    </tr>\n",
              "  </tbody>\n",
              "</table>\n",
              "<p>120 rows × 1 columns</p>\n",
              "</div>\n",
              "      <button class=\"colab-df-convert\" onclick=\"convertToInteractive('df-08f51863-9442-4eef-9b85-630810487b13')\"\n",
              "              title=\"Convert this dataframe to an interactive table.\"\n",
              "              style=\"display:none;\">\n",
              "        \n",
              "  <svg xmlns=\"http://www.w3.org/2000/svg\" height=\"24px\"viewBox=\"0 0 24 24\"\n",
              "       width=\"24px\">\n",
              "    <path d=\"M0 0h24v24H0V0z\" fill=\"none\"/>\n",
              "    <path d=\"M18.56 5.44l.94 2.06.94-2.06 2.06-.94-2.06-.94-.94-2.06-.94 2.06-2.06.94zm-11 1L8.5 8.5l.94-2.06 2.06-.94-2.06-.94L8.5 2.5l-.94 2.06-2.06.94zm10 10l.94 2.06.94-2.06 2.06-.94-2.06-.94-.94-2.06-.94 2.06-2.06.94z\"/><path d=\"M17.41 7.96l-1.37-1.37c-.4-.4-.92-.59-1.43-.59-.52 0-1.04.2-1.43.59L10.3 9.45l-7.72 7.72c-.78.78-.78 2.05 0 2.83L4 21.41c.39.39.9.59 1.41.59.51 0 1.02-.2 1.41-.59l7.78-7.78 2.81-2.81c.8-.78.8-2.07 0-2.86zM5.41 20L4 18.59l7.72-7.72 1.47 1.35L5.41 20z\"/>\n",
              "  </svg>\n",
              "      </button>\n",
              "      \n",
              "  <style>\n",
              "    .colab-df-container {\n",
              "      display:flex;\n",
              "      flex-wrap:wrap;\n",
              "      gap: 12px;\n",
              "    }\n",
              "\n",
              "    .colab-df-convert {\n",
              "      background-color: #E8F0FE;\n",
              "      border: none;\n",
              "      border-radius: 50%;\n",
              "      cursor: pointer;\n",
              "      display: none;\n",
              "      fill: #1967D2;\n",
              "      height: 32px;\n",
              "      padding: 0 0 0 0;\n",
              "      width: 32px;\n",
              "    }\n",
              "\n",
              "    .colab-df-convert:hover {\n",
              "      background-color: #E2EBFA;\n",
              "      box-shadow: 0px 1px 2px rgba(60, 64, 67, 0.3), 0px 1px 3px 1px rgba(60, 64, 67, 0.15);\n",
              "      fill: #174EA6;\n",
              "    }\n",
              "\n",
              "    [theme=dark] .colab-df-convert {\n",
              "      background-color: #3B4455;\n",
              "      fill: #D2E3FC;\n",
              "    }\n",
              "\n",
              "    [theme=dark] .colab-df-convert:hover {\n",
              "      background-color: #434B5C;\n",
              "      box-shadow: 0px 1px 3px 1px rgba(0, 0, 0, 0.15);\n",
              "      filter: drop-shadow(0px 1px 2px rgba(0, 0, 0, 0.3));\n",
              "      fill: #FFFFFF;\n",
              "    }\n",
              "  </style>\n",
              "\n",
              "      <script>\n",
              "        const buttonEl =\n",
              "          document.querySelector('#df-08f51863-9442-4eef-9b85-630810487b13 button.colab-df-convert');\n",
              "        buttonEl.style.display =\n",
              "          google.colab.kernel.accessAllowed ? 'block' : 'none';\n",
              "\n",
              "        async function convertToInteractive(key) {\n",
              "          const element = document.querySelector('#df-08f51863-9442-4eef-9b85-630810487b13');\n",
              "          const dataTable =\n",
              "            await google.colab.kernel.invokeFunction('convertToInteractive',\n",
              "                                                     [key], {});\n",
              "          if (!dataTable) return;\n",
              "\n",
              "          const docLinkHtml = 'Like what you see? Visit the ' +\n",
              "            '<a target=\"_blank\" href=https://colab.research.google.com/notebooks/data_table.ipynb>data table notebook</a>'\n",
              "            + ' to learn more about interactive tables.';\n",
              "          element.innerHTML = '';\n",
              "          dataTable['output_type'] = 'display_data';\n",
              "          await google.colab.output.renderOutput(dataTable, element);\n",
              "          const docLink = document.createElement('div');\n",
              "          docLink.innerHTML = docLinkHtml;\n",
              "          element.appendChild(docLink);\n",
              "        }\n",
              "      </script>\n",
              "    </div>\n",
              "  </div>\n",
              "  "
            ]
          },
          "metadata": {},
          "execution_count": 51
        }
      ],
      "source": [
        "d2 = pd.read_csv(\"drug_2_recovery.csv\")\n",
        "d2"
      ]
    },
    {
      "cell_type": "code",
      "execution_count": 52,
      "id": "6fc386d1",
      "metadata": {
        "id": "6fc386d1"
      },
      "outputs": [],
      "source": [
        "m2 = d2.mean()[0]"
      ]
    },
    {
      "cell_type": "code",
      "execution_count": 53,
      "id": "817f901c",
      "metadata": {
        "colab": {
          "base_uri": "https://localhost:8080/"
        },
        "id": "817f901c",
        "outputId": "a1619763-2650-4615-8d71-7e47fc631901"
      },
      "outputs": [
        {
          "output_type": "execute_result",
          "data": {
            "text/plain": [
              "120"
            ]
          },
          "metadata": {},
          "execution_count": 53
        }
      ],
      "source": [
        "n2 = len(d2)\n",
        "n2"
      ]
    },
    {
      "cell_type": "code",
      "execution_count": 54,
      "id": "d7398d21",
      "metadata": {
        "colab": {
          "base_uri": "https://localhost:8080/"
        },
        "id": "d7398d21",
        "outputId": "e1811a90-5895-4b8c-a184-7ddb596b4165"
      },
      "outputs": [
        {
          "output_type": "execute_result",
          "data": {
            "text/plain": [
              "1.5532963278547152"
            ]
          },
          "metadata": {},
          "execution_count": 54
        }
      ],
      "source": [
        "s2 = d2.std()[0]\n",
        "s2"
      ]
    },
    {
      "cell_type": "code",
      "execution_count": 54,
      "id": "e27cf880",
      "metadata": {
        "id": "e27cf880"
      },
      "outputs": [],
      "source": []
    },
    {
      "cell_type": "code",
      "execution_count": 55,
      "id": "66a1594f",
      "metadata": {
        "colab": {
          "base_uri": "https://localhost:8080/"
        },
        "id": "66a1594f",
        "outputId": "5dfe71c6-dfcd-427c-b7a1-0a91faa6995f"
      },
      "outputs": [
        {
          "output_type": "stream",
          "name": "stdout",
          "text": [
            "Drug 1 :  100 7.1049166262 1.0386964958761464\n"
          ]
        }
      ],
      "source": [
        "print(\"Drug 1 : \", n1, m1, s1)"
      ]
    },
    {
      "cell_type": "code",
      "execution_count": 56,
      "id": "e2d781c1",
      "metadata": {
        "colab": {
          "base_uri": "https://localhost:8080/"
        },
        "id": "e2d781c1",
        "outputId": "45adc9e5-60b2-4b0f-c52c-93f749ef13a4"
      },
      "outputs": [
        {
          "output_type": "stream",
          "name": "stdout",
          "text": [
            "Drug 2 :  120 8.073423327583333 1.5532963278547152\n"
          ]
        }
      ],
      "source": [
        "print(\"Drug 2 : \", n2, m2, s2)"
      ]
    },
    {
      "cell_type": "code",
      "execution_count": 57,
      "id": "10d1e921",
      "metadata": {
        "colab": {
          "base_uri": "https://localhost:8080/"
        },
        "id": "10d1e921",
        "outputId": "3e5a1f1c-3ede-46db-e3df-c54bd71b0ba1"
      },
      "outputs": [
        {
          "output_type": "execute_result",
          "data": {
            "text/plain": [
              "-5.510089446679421"
            ]
          },
          "metadata": {},
          "execution_count": 57
        }
      ],
      "source": [
        "tstat = (m1 - m2)/np.sqrt((s1**2/n1) + (s2**2/n2))\n",
        "tstat"
      ]
    },
    {
      "cell_type": "code",
      "execution_count": 58,
      "id": "7f134442",
      "metadata": {
        "colab": {
          "base_uri": "https://localhost:8080/"
        },
        "id": "7f134442",
        "outputId": "8c649f3a-65ab-4ff0-8fe0-e9d22c2dcfcc"
      },
      "outputs": [
        {
          "output_type": "execute_result",
          "data": {
            "text/plain": [
              "7.1049166262"
            ]
          },
          "metadata": {},
          "execution_count": 58
        }
      ],
      "source": [
        "m1"
      ]
    },
    {
      "cell_type": "code",
      "execution_count": 59,
      "id": "ab58d684",
      "metadata": {
        "colab": {
          "base_uri": "https://localhost:8080/"
        },
        "id": "ab58d684",
        "outputId": "4afd02ad-0318-4939-9918-634a23d41126"
      },
      "outputs": [
        {
          "output_type": "execute_result",
          "data": {
            "text/plain": [
              "8.073423327583333"
            ]
          },
          "metadata": {},
          "execution_count": 59
        }
      ],
      "source": [
        "m2"
      ]
    },
    {
      "cell_type": "code",
      "execution_count": 60,
      "id": "8a37f3c1",
      "metadata": {
        "colab": {
          "base_uri": "https://localhost:8080/",
          "height": 424
        },
        "id": "8a37f3c1",
        "outputId": "b6cdea5c-200a-43d9-c16b-b95ef73ced65"
      },
      "outputs": [
        {
          "output_type": "execute_result",
          "data": {
            "text/plain": [
              "      drug_1\n",
              "0   8.824208\n",
              "1   7.477745\n",
              "2   7.557121\n",
              "3   7.981314\n",
              "4   6.827716\n",
              "..       ...\n",
              "95  6.890506\n",
              "96  7.725759\n",
              "97  6.848016\n",
              "98  7.969997\n",
              "99  7.104209\n",
              "\n",
              "[100 rows x 1 columns]"
            ],
            "text/html": [
              "\n",
              "  <div id=\"df-e4559355-f94a-452d-8a6d-6012abe243a6\">\n",
              "    <div class=\"colab-df-container\">\n",
              "      <div>\n",
              "<style scoped>\n",
              "    .dataframe tbody tr th:only-of-type {\n",
              "        vertical-align: middle;\n",
              "    }\n",
              "\n",
              "    .dataframe tbody tr th {\n",
              "        vertical-align: top;\n",
              "    }\n",
              "\n",
              "    .dataframe thead th {\n",
              "        text-align: right;\n",
              "    }\n",
              "</style>\n",
              "<table border=\"1\" class=\"dataframe\">\n",
              "  <thead>\n",
              "    <tr style=\"text-align: right;\">\n",
              "      <th></th>\n",
              "      <th>drug_1</th>\n",
              "    </tr>\n",
              "  </thead>\n",
              "  <tbody>\n",
              "    <tr>\n",
              "      <th>0</th>\n",
              "      <td>8.824208</td>\n",
              "    </tr>\n",
              "    <tr>\n",
              "      <th>1</th>\n",
              "      <td>7.477745</td>\n",
              "    </tr>\n",
              "    <tr>\n",
              "      <th>2</th>\n",
              "      <td>7.557121</td>\n",
              "    </tr>\n",
              "    <tr>\n",
              "      <th>3</th>\n",
              "      <td>7.981314</td>\n",
              "    </tr>\n",
              "    <tr>\n",
              "      <th>4</th>\n",
              "      <td>6.827716</td>\n",
              "    </tr>\n",
              "    <tr>\n",
              "      <th>...</th>\n",
              "      <td>...</td>\n",
              "    </tr>\n",
              "    <tr>\n",
              "      <th>95</th>\n",
              "      <td>6.890506</td>\n",
              "    </tr>\n",
              "    <tr>\n",
              "      <th>96</th>\n",
              "      <td>7.725759</td>\n",
              "    </tr>\n",
              "    <tr>\n",
              "      <th>97</th>\n",
              "      <td>6.848016</td>\n",
              "    </tr>\n",
              "    <tr>\n",
              "      <th>98</th>\n",
              "      <td>7.969997</td>\n",
              "    </tr>\n",
              "    <tr>\n",
              "      <th>99</th>\n",
              "      <td>7.104209</td>\n",
              "    </tr>\n",
              "  </tbody>\n",
              "</table>\n",
              "<p>100 rows × 1 columns</p>\n",
              "</div>\n",
              "      <button class=\"colab-df-convert\" onclick=\"convertToInteractive('df-e4559355-f94a-452d-8a6d-6012abe243a6')\"\n",
              "              title=\"Convert this dataframe to an interactive table.\"\n",
              "              style=\"display:none;\">\n",
              "        \n",
              "  <svg xmlns=\"http://www.w3.org/2000/svg\" height=\"24px\"viewBox=\"0 0 24 24\"\n",
              "       width=\"24px\">\n",
              "    <path d=\"M0 0h24v24H0V0z\" fill=\"none\"/>\n",
              "    <path d=\"M18.56 5.44l.94 2.06.94-2.06 2.06-.94-2.06-.94-.94-2.06-.94 2.06-2.06.94zm-11 1L8.5 8.5l.94-2.06 2.06-.94-2.06-.94L8.5 2.5l-.94 2.06-2.06.94zm10 10l.94 2.06.94-2.06 2.06-.94-2.06-.94-.94-2.06-.94 2.06-2.06.94z\"/><path d=\"M17.41 7.96l-1.37-1.37c-.4-.4-.92-.59-1.43-.59-.52 0-1.04.2-1.43.59L10.3 9.45l-7.72 7.72c-.78.78-.78 2.05 0 2.83L4 21.41c.39.39.9.59 1.41.59.51 0 1.02-.2 1.41-.59l7.78-7.78 2.81-2.81c.8-.78.8-2.07 0-2.86zM5.41 20L4 18.59l7.72-7.72 1.47 1.35L5.41 20z\"/>\n",
              "  </svg>\n",
              "      </button>\n",
              "      \n",
              "  <style>\n",
              "    .colab-df-container {\n",
              "      display:flex;\n",
              "      flex-wrap:wrap;\n",
              "      gap: 12px;\n",
              "    }\n",
              "\n",
              "    .colab-df-convert {\n",
              "      background-color: #E8F0FE;\n",
              "      border: none;\n",
              "      border-radius: 50%;\n",
              "      cursor: pointer;\n",
              "      display: none;\n",
              "      fill: #1967D2;\n",
              "      height: 32px;\n",
              "      padding: 0 0 0 0;\n",
              "      width: 32px;\n",
              "    }\n",
              "\n",
              "    .colab-df-convert:hover {\n",
              "      background-color: #E2EBFA;\n",
              "      box-shadow: 0px 1px 2px rgba(60, 64, 67, 0.3), 0px 1px 3px 1px rgba(60, 64, 67, 0.15);\n",
              "      fill: #174EA6;\n",
              "    }\n",
              "\n",
              "    [theme=dark] .colab-df-convert {\n",
              "      background-color: #3B4455;\n",
              "      fill: #D2E3FC;\n",
              "    }\n",
              "\n",
              "    [theme=dark] .colab-df-convert:hover {\n",
              "      background-color: #434B5C;\n",
              "      box-shadow: 0px 1px 3px 1px rgba(0, 0, 0, 0.15);\n",
              "      filter: drop-shadow(0px 1px 2px rgba(0, 0, 0, 0.3));\n",
              "      fill: #FFFFFF;\n",
              "    }\n",
              "  </style>\n",
              "\n",
              "      <script>\n",
              "        const buttonEl =\n",
              "          document.querySelector('#df-e4559355-f94a-452d-8a6d-6012abe243a6 button.colab-df-convert');\n",
              "        buttonEl.style.display =\n",
              "          google.colab.kernel.accessAllowed ? 'block' : 'none';\n",
              "\n",
              "        async function convertToInteractive(key) {\n",
              "          const element = document.querySelector('#df-e4559355-f94a-452d-8a6d-6012abe243a6');\n",
              "          const dataTable =\n",
              "            await google.colab.kernel.invokeFunction('convertToInteractive',\n",
              "                                                     [key], {});\n",
              "          if (!dataTable) return;\n",
              "\n",
              "          const docLinkHtml = 'Like what you see? Visit the ' +\n",
              "            '<a target=\"_blank\" href=https://colab.research.google.com/notebooks/data_table.ipynb>data table notebook</a>'\n",
              "            + ' to learn more about interactive tables.';\n",
              "          element.innerHTML = '';\n",
              "          dataTable['output_type'] = 'display_data';\n",
              "          await google.colab.output.renderOutput(dataTable, element);\n",
              "          const docLink = document.createElement('div');\n",
              "          docLink.innerHTML = docLinkHtml;\n",
              "          element.appendChild(docLink);\n",
              "        }\n",
              "      </script>\n",
              "    </div>\n",
              "  </div>\n",
              "  "
            ]
          },
          "metadata": {},
          "execution_count": 60
        }
      ],
      "source": [
        "d1"
      ]
    },
    {
      "cell_type": "code",
      "execution_count": 61,
      "id": "487249ff",
      "metadata": {
        "colab": {
          "base_uri": "https://localhost:8080/",
          "height": 424
        },
        "id": "487249ff",
        "outputId": "1f62fb1a-e6f5-4536-d543-21d3180ab3fe"
      },
      "outputs": [
        {
          "output_type": "execute_result",
          "data": {
            "text/plain": [
              "       drug_2\n",
              "0    9.565974\n",
              "1    7.492915\n",
              "2    8.738418\n",
              "3    7.635235\n",
              "4    4.125593\n",
              "..        ...\n",
              "115  7.861993\n",
              "116  8.233510\n",
              "117  5.876257\n",
              "118  7.789454\n",
              "119  8.836125\n",
              "\n",
              "[120 rows x 1 columns]"
            ],
            "text/html": [
              "\n",
              "  <div id=\"df-86e77c29-45d0-4ac1-bc73-7b6d6c4eebcd\">\n",
              "    <div class=\"colab-df-container\">\n",
              "      <div>\n",
              "<style scoped>\n",
              "    .dataframe tbody tr th:only-of-type {\n",
              "        vertical-align: middle;\n",
              "    }\n",
              "\n",
              "    .dataframe tbody tr th {\n",
              "        vertical-align: top;\n",
              "    }\n",
              "\n",
              "    .dataframe thead th {\n",
              "        text-align: right;\n",
              "    }\n",
              "</style>\n",
              "<table border=\"1\" class=\"dataframe\">\n",
              "  <thead>\n",
              "    <tr style=\"text-align: right;\">\n",
              "      <th></th>\n",
              "      <th>drug_2</th>\n",
              "    </tr>\n",
              "  </thead>\n",
              "  <tbody>\n",
              "    <tr>\n",
              "      <th>0</th>\n",
              "      <td>9.565974</td>\n",
              "    </tr>\n",
              "    <tr>\n",
              "      <th>1</th>\n",
              "      <td>7.492915</td>\n",
              "    </tr>\n",
              "    <tr>\n",
              "      <th>2</th>\n",
              "      <td>8.738418</td>\n",
              "    </tr>\n",
              "    <tr>\n",
              "      <th>3</th>\n",
              "      <td>7.635235</td>\n",
              "    </tr>\n",
              "    <tr>\n",
              "      <th>4</th>\n",
              "      <td>4.125593</td>\n",
              "    </tr>\n",
              "    <tr>\n",
              "      <th>...</th>\n",
              "      <td>...</td>\n",
              "    </tr>\n",
              "    <tr>\n",
              "      <th>115</th>\n",
              "      <td>7.861993</td>\n",
              "    </tr>\n",
              "    <tr>\n",
              "      <th>116</th>\n",
              "      <td>8.233510</td>\n",
              "    </tr>\n",
              "    <tr>\n",
              "      <th>117</th>\n",
              "      <td>5.876257</td>\n",
              "    </tr>\n",
              "    <tr>\n",
              "      <th>118</th>\n",
              "      <td>7.789454</td>\n",
              "    </tr>\n",
              "    <tr>\n",
              "      <th>119</th>\n",
              "      <td>8.836125</td>\n",
              "    </tr>\n",
              "  </tbody>\n",
              "</table>\n",
              "<p>120 rows × 1 columns</p>\n",
              "</div>\n",
              "      <button class=\"colab-df-convert\" onclick=\"convertToInteractive('df-86e77c29-45d0-4ac1-bc73-7b6d6c4eebcd')\"\n",
              "              title=\"Convert this dataframe to an interactive table.\"\n",
              "              style=\"display:none;\">\n",
              "        \n",
              "  <svg xmlns=\"http://www.w3.org/2000/svg\" height=\"24px\"viewBox=\"0 0 24 24\"\n",
              "       width=\"24px\">\n",
              "    <path d=\"M0 0h24v24H0V0z\" fill=\"none\"/>\n",
              "    <path d=\"M18.56 5.44l.94 2.06.94-2.06 2.06-.94-2.06-.94-.94-2.06-.94 2.06-2.06.94zm-11 1L8.5 8.5l.94-2.06 2.06-.94-2.06-.94L8.5 2.5l-.94 2.06-2.06.94zm10 10l.94 2.06.94-2.06 2.06-.94-2.06-.94-.94-2.06-.94 2.06-2.06.94z\"/><path d=\"M17.41 7.96l-1.37-1.37c-.4-.4-.92-.59-1.43-.59-.52 0-1.04.2-1.43.59L10.3 9.45l-7.72 7.72c-.78.78-.78 2.05 0 2.83L4 21.41c.39.39.9.59 1.41.59.51 0 1.02-.2 1.41-.59l7.78-7.78 2.81-2.81c.8-.78.8-2.07 0-2.86zM5.41 20L4 18.59l7.72-7.72 1.47 1.35L5.41 20z\"/>\n",
              "  </svg>\n",
              "      </button>\n",
              "      \n",
              "  <style>\n",
              "    .colab-df-container {\n",
              "      display:flex;\n",
              "      flex-wrap:wrap;\n",
              "      gap: 12px;\n",
              "    }\n",
              "\n",
              "    .colab-df-convert {\n",
              "      background-color: #E8F0FE;\n",
              "      border: none;\n",
              "      border-radius: 50%;\n",
              "      cursor: pointer;\n",
              "      display: none;\n",
              "      fill: #1967D2;\n",
              "      height: 32px;\n",
              "      padding: 0 0 0 0;\n",
              "      width: 32px;\n",
              "    }\n",
              "\n",
              "    .colab-df-convert:hover {\n",
              "      background-color: #E2EBFA;\n",
              "      box-shadow: 0px 1px 2px rgba(60, 64, 67, 0.3), 0px 1px 3px 1px rgba(60, 64, 67, 0.15);\n",
              "      fill: #174EA6;\n",
              "    }\n",
              "\n",
              "    [theme=dark] .colab-df-convert {\n",
              "      background-color: #3B4455;\n",
              "      fill: #D2E3FC;\n",
              "    }\n",
              "\n",
              "    [theme=dark] .colab-df-convert:hover {\n",
              "      background-color: #434B5C;\n",
              "      box-shadow: 0px 1px 3px 1px rgba(0, 0, 0, 0.15);\n",
              "      filter: drop-shadow(0px 1px 2px rgba(0, 0, 0, 0.3));\n",
              "      fill: #FFFFFF;\n",
              "    }\n",
              "  </style>\n",
              "\n",
              "      <script>\n",
              "        const buttonEl =\n",
              "          document.querySelector('#df-86e77c29-45d0-4ac1-bc73-7b6d6c4eebcd button.colab-df-convert');\n",
              "        buttonEl.style.display =\n",
              "          google.colab.kernel.accessAllowed ? 'block' : 'none';\n",
              "\n",
              "        async function convertToInteractive(key) {\n",
              "          const element = document.querySelector('#df-86e77c29-45d0-4ac1-bc73-7b6d6c4eebcd');\n",
              "          const dataTable =\n",
              "            await google.colab.kernel.invokeFunction('convertToInteractive',\n",
              "                                                     [key], {});\n",
              "          if (!dataTable) return;\n",
              "\n",
              "          const docLinkHtml = 'Like what you see? Visit the ' +\n",
              "            '<a target=\"_blank\" href=https://colab.research.google.com/notebooks/data_table.ipynb>data table notebook</a>'\n",
              "            + ' to learn more about interactive tables.';\n",
              "          element.innerHTML = '';\n",
              "          dataTable['output_type'] = 'display_data';\n",
              "          await google.colab.output.renderOutput(dataTable, element);\n",
              "          const docLink = document.createElement('div');\n",
              "          docLink.innerHTML = docLinkHtml;\n",
              "          element.appendChild(docLink);\n",
              "        }\n",
              "      </script>\n",
              "    </div>\n",
              "  </div>\n",
              "  "
            ]
          },
          "metadata": {},
          "execution_count": 61
        }
      ],
      "source": [
        "d2"
      ]
    },
    {
      "cell_type": "code",
      "execution_count": 62,
      "id": "1be18bb3",
      "metadata": {
        "id": "1be18bb3"
      },
      "outputs": [],
      "source": [
        "from scipy.stats import ttest_ind ## ttest for independennt samples"
      ]
    },
    {
      "cell_type": "code",
      "execution_count": 63,
      "id": "3776c8c8",
      "metadata": {
        "id": "3776c8c8"
      },
      "outputs": [],
      "source": [
        "## H0 : mu1 = mu2\n",
        "## HA : mu1 < mu2 # left tailed\n",
        "# alpha = 0.01 # 99% confidence"
      ]
    },
    {
      "cell_type": "code",
      "execution_count": 64,
      "id": "cc8b90aa",
      "metadata": {
        "colab": {
          "base_uri": "https://localhost:8080/"
        },
        "id": "cc8b90aa",
        "outputId": "48ec0e74-5f57-4ddf-96d2-c195d7983c07"
      },
      "outputs": [
        {
          "output_type": "execute_result",
          "data": {
            "text/plain": [
              "Ttest_indResult(statistic=array([-5.32112438]), pvalue=array([1.27713574e-07]))"
            ]
          },
          "metadata": {},
          "execution_count": 64
        }
      ],
      "source": [
        "ttest_ind(d1, d2, alternative = \"less\")"
      ]
    },
    {
      "cell_type": "code",
      "execution_count": 65,
      "id": "46f544b5",
      "metadata": {
        "id": "46f544b5"
      },
      "outputs": [],
      "source": [
        "## p-value <<<< alpha, Reject H0, mean recovery days of drug 1 is lower than drug 2,\n",
        "# with 99 % confidence or 1 % significance level"
      ]
    },
    {
      "cell_type": "code",
      "execution_count": 66,
      "id": "eda05372",
      "metadata": {
        "id": "eda05372"
      },
      "outputs": [],
      "source": [
        "# def temp():\n",
        "#     return 1, 2\n",
        "\n",
        "# a,b = temp()\n",
        "\n",
        "# a\n",
        "\n",
        "# b\n",
        "\n",
        "# t_stat, p_value = ttest_ind(d1, d2, alternative = \"less\")\n",
        "\n",
        "\n",
        "# t_stat\n",
        "\n",
        "# p_value"
      ]
    },
    {
      "cell_type": "code",
      "execution_count": 66,
      "id": "a7ef12bd",
      "metadata": {
        "id": "a7ef12bd"
      },
      "outputs": [],
      "source": []
    },
    {
      "cell_type": "code",
      "execution_count": 67,
      "id": "d1b558ca",
      "metadata": {
        "colab": {
          "base_uri": "https://localhost:8080/",
          "height": 206
        },
        "id": "d1b558ca",
        "outputId": "06f2190e-fefc-4d07-ebbb-18922074b904"
      },
      "outputs": [
        {
          "output_type": "execute_result",
          "data": {
            "text/plain": [
              "     drug_1\n",
              "0  8.824208\n",
              "1  7.477745\n",
              "2  7.557121\n",
              "3  7.981314\n",
              "4  6.827716"
            ],
            "text/html": [
              "\n",
              "  <div id=\"df-4c4714bd-e808-4895-a04b-0a5862dd648c\">\n",
              "    <div class=\"colab-df-container\">\n",
              "      <div>\n",
              "<style scoped>\n",
              "    .dataframe tbody tr th:only-of-type {\n",
              "        vertical-align: middle;\n",
              "    }\n",
              "\n",
              "    .dataframe tbody tr th {\n",
              "        vertical-align: top;\n",
              "    }\n",
              "\n",
              "    .dataframe thead th {\n",
              "        text-align: right;\n",
              "    }\n",
              "</style>\n",
              "<table border=\"1\" class=\"dataframe\">\n",
              "  <thead>\n",
              "    <tr style=\"text-align: right;\">\n",
              "      <th></th>\n",
              "      <th>drug_1</th>\n",
              "    </tr>\n",
              "  </thead>\n",
              "  <tbody>\n",
              "    <tr>\n",
              "      <th>0</th>\n",
              "      <td>8.824208</td>\n",
              "    </tr>\n",
              "    <tr>\n",
              "      <th>1</th>\n",
              "      <td>7.477745</td>\n",
              "    </tr>\n",
              "    <tr>\n",
              "      <th>2</th>\n",
              "      <td>7.557121</td>\n",
              "    </tr>\n",
              "    <tr>\n",
              "      <th>3</th>\n",
              "      <td>7.981314</td>\n",
              "    </tr>\n",
              "    <tr>\n",
              "      <th>4</th>\n",
              "      <td>6.827716</td>\n",
              "    </tr>\n",
              "  </tbody>\n",
              "</table>\n",
              "</div>\n",
              "      <button class=\"colab-df-convert\" onclick=\"convertToInteractive('df-4c4714bd-e808-4895-a04b-0a5862dd648c')\"\n",
              "              title=\"Convert this dataframe to an interactive table.\"\n",
              "              style=\"display:none;\">\n",
              "        \n",
              "  <svg xmlns=\"http://www.w3.org/2000/svg\" height=\"24px\"viewBox=\"0 0 24 24\"\n",
              "       width=\"24px\">\n",
              "    <path d=\"M0 0h24v24H0V0z\" fill=\"none\"/>\n",
              "    <path d=\"M18.56 5.44l.94 2.06.94-2.06 2.06-.94-2.06-.94-.94-2.06-.94 2.06-2.06.94zm-11 1L8.5 8.5l.94-2.06 2.06-.94-2.06-.94L8.5 2.5l-.94 2.06-2.06.94zm10 10l.94 2.06.94-2.06 2.06-.94-2.06-.94-.94-2.06-.94 2.06-2.06.94z\"/><path d=\"M17.41 7.96l-1.37-1.37c-.4-.4-.92-.59-1.43-.59-.52 0-1.04.2-1.43.59L10.3 9.45l-7.72 7.72c-.78.78-.78 2.05 0 2.83L4 21.41c.39.39.9.59 1.41.59.51 0 1.02-.2 1.41-.59l7.78-7.78 2.81-2.81c.8-.78.8-2.07 0-2.86zM5.41 20L4 18.59l7.72-7.72 1.47 1.35L5.41 20z\"/>\n",
              "  </svg>\n",
              "      </button>\n",
              "      \n",
              "  <style>\n",
              "    .colab-df-container {\n",
              "      display:flex;\n",
              "      flex-wrap:wrap;\n",
              "      gap: 12px;\n",
              "    }\n",
              "\n",
              "    .colab-df-convert {\n",
              "      background-color: #E8F0FE;\n",
              "      border: none;\n",
              "      border-radius: 50%;\n",
              "      cursor: pointer;\n",
              "      display: none;\n",
              "      fill: #1967D2;\n",
              "      height: 32px;\n",
              "      padding: 0 0 0 0;\n",
              "      width: 32px;\n",
              "    }\n",
              "\n",
              "    .colab-df-convert:hover {\n",
              "      background-color: #E2EBFA;\n",
              "      box-shadow: 0px 1px 2px rgba(60, 64, 67, 0.3), 0px 1px 3px 1px rgba(60, 64, 67, 0.15);\n",
              "      fill: #174EA6;\n",
              "    }\n",
              "\n",
              "    [theme=dark] .colab-df-convert {\n",
              "      background-color: #3B4455;\n",
              "      fill: #D2E3FC;\n",
              "    }\n",
              "\n",
              "    [theme=dark] .colab-df-convert:hover {\n",
              "      background-color: #434B5C;\n",
              "      box-shadow: 0px 1px 3px 1px rgba(0, 0, 0, 0.15);\n",
              "      filter: drop-shadow(0px 1px 2px rgba(0, 0, 0, 0.3));\n",
              "      fill: #FFFFFF;\n",
              "    }\n",
              "  </style>\n",
              "\n",
              "      <script>\n",
              "        const buttonEl =\n",
              "          document.querySelector('#df-4c4714bd-e808-4895-a04b-0a5862dd648c button.colab-df-convert');\n",
              "        buttonEl.style.display =\n",
              "          google.colab.kernel.accessAllowed ? 'block' : 'none';\n",
              "\n",
              "        async function convertToInteractive(key) {\n",
              "          const element = document.querySelector('#df-4c4714bd-e808-4895-a04b-0a5862dd648c');\n",
              "          const dataTable =\n",
              "            await google.colab.kernel.invokeFunction('convertToInteractive',\n",
              "                                                     [key], {});\n",
              "          if (!dataTable) return;\n",
              "\n",
              "          const docLinkHtml = 'Like what you see? Visit the ' +\n",
              "            '<a target=\"_blank\" href=https://colab.research.google.com/notebooks/data_table.ipynb>data table notebook</a>'\n",
              "            + ' to learn more about interactive tables.';\n",
              "          element.innerHTML = '';\n",
              "          dataTable['output_type'] = 'display_data';\n",
              "          await google.colab.output.renderOutput(dataTable, element);\n",
              "          const docLink = document.createElement('div');\n",
              "          docLink.innerHTML = docLinkHtml;\n",
              "          element.appendChild(docLink);\n",
              "        }\n",
              "      </script>\n",
              "    </div>\n",
              "  </div>\n",
              "  "
            ]
          },
          "metadata": {},
          "execution_count": 67
        }
      ],
      "source": [
        "d1.head()"
      ]
    },
    {
      "cell_type": "code",
      "execution_count": 68,
      "id": "87629bc0",
      "metadata": {
        "colab": {
          "base_uri": "https://localhost:8080/",
          "height": 206
        },
        "id": "87629bc0",
        "outputId": "0c8cd7c2-44f9-4e94-8f61-dc02e316aef1"
      },
      "outputs": [
        {
          "output_type": "execute_result",
          "data": {
            "text/plain": [
              "     drug_2\n",
              "0  9.565974\n",
              "1  7.492915\n",
              "2  8.738418\n",
              "3  7.635235\n",
              "4  4.125593"
            ],
            "text/html": [
              "\n",
              "  <div id=\"df-59b81030-3ff6-4c3e-aa14-586370f9e554\">\n",
              "    <div class=\"colab-df-container\">\n",
              "      <div>\n",
              "<style scoped>\n",
              "    .dataframe tbody tr th:only-of-type {\n",
              "        vertical-align: middle;\n",
              "    }\n",
              "\n",
              "    .dataframe tbody tr th {\n",
              "        vertical-align: top;\n",
              "    }\n",
              "\n",
              "    .dataframe thead th {\n",
              "        text-align: right;\n",
              "    }\n",
              "</style>\n",
              "<table border=\"1\" class=\"dataframe\">\n",
              "  <thead>\n",
              "    <tr style=\"text-align: right;\">\n",
              "      <th></th>\n",
              "      <th>drug_2</th>\n",
              "    </tr>\n",
              "  </thead>\n",
              "  <tbody>\n",
              "    <tr>\n",
              "      <th>0</th>\n",
              "      <td>9.565974</td>\n",
              "    </tr>\n",
              "    <tr>\n",
              "      <th>1</th>\n",
              "      <td>7.492915</td>\n",
              "    </tr>\n",
              "    <tr>\n",
              "      <th>2</th>\n",
              "      <td>8.738418</td>\n",
              "    </tr>\n",
              "    <tr>\n",
              "      <th>3</th>\n",
              "      <td>7.635235</td>\n",
              "    </tr>\n",
              "    <tr>\n",
              "      <th>4</th>\n",
              "      <td>4.125593</td>\n",
              "    </tr>\n",
              "  </tbody>\n",
              "</table>\n",
              "</div>\n",
              "      <button class=\"colab-df-convert\" onclick=\"convertToInteractive('df-59b81030-3ff6-4c3e-aa14-586370f9e554')\"\n",
              "              title=\"Convert this dataframe to an interactive table.\"\n",
              "              style=\"display:none;\">\n",
              "        \n",
              "  <svg xmlns=\"http://www.w3.org/2000/svg\" height=\"24px\"viewBox=\"0 0 24 24\"\n",
              "       width=\"24px\">\n",
              "    <path d=\"M0 0h24v24H0V0z\" fill=\"none\"/>\n",
              "    <path d=\"M18.56 5.44l.94 2.06.94-2.06 2.06-.94-2.06-.94-.94-2.06-.94 2.06-2.06.94zm-11 1L8.5 8.5l.94-2.06 2.06-.94-2.06-.94L8.5 2.5l-.94 2.06-2.06.94zm10 10l.94 2.06.94-2.06 2.06-.94-2.06-.94-.94-2.06-.94 2.06-2.06.94z\"/><path d=\"M17.41 7.96l-1.37-1.37c-.4-.4-.92-.59-1.43-.59-.52 0-1.04.2-1.43.59L10.3 9.45l-7.72 7.72c-.78.78-.78 2.05 0 2.83L4 21.41c.39.39.9.59 1.41.59.51 0 1.02-.2 1.41-.59l7.78-7.78 2.81-2.81c.8-.78.8-2.07 0-2.86zM5.41 20L4 18.59l7.72-7.72 1.47 1.35L5.41 20z\"/>\n",
              "  </svg>\n",
              "      </button>\n",
              "      \n",
              "  <style>\n",
              "    .colab-df-container {\n",
              "      display:flex;\n",
              "      flex-wrap:wrap;\n",
              "      gap: 12px;\n",
              "    }\n",
              "\n",
              "    .colab-df-convert {\n",
              "      background-color: #E8F0FE;\n",
              "      border: none;\n",
              "      border-radius: 50%;\n",
              "      cursor: pointer;\n",
              "      display: none;\n",
              "      fill: #1967D2;\n",
              "      height: 32px;\n",
              "      padding: 0 0 0 0;\n",
              "      width: 32px;\n",
              "    }\n",
              "\n",
              "    .colab-df-convert:hover {\n",
              "      background-color: #E2EBFA;\n",
              "      box-shadow: 0px 1px 2px rgba(60, 64, 67, 0.3), 0px 1px 3px 1px rgba(60, 64, 67, 0.15);\n",
              "      fill: #174EA6;\n",
              "    }\n",
              "\n",
              "    [theme=dark] .colab-df-convert {\n",
              "      background-color: #3B4455;\n",
              "      fill: #D2E3FC;\n",
              "    }\n",
              "\n",
              "    [theme=dark] .colab-df-convert:hover {\n",
              "      background-color: #434B5C;\n",
              "      box-shadow: 0px 1px 3px 1px rgba(0, 0, 0, 0.15);\n",
              "      filter: drop-shadow(0px 1px 2px rgba(0, 0, 0, 0.3));\n",
              "      fill: #FFFFFF;\n",
              "    }\n",
              "  </style>\n",
              "\n",
              "      <script>\n",
              "        const buttonEl =\n",
              "          document.querySelector('#df-59b81030-3ff6-4c3e-aa14-586370f9e554 button.colab-df-convert');\n",
              "        buttonEl.style.display =\n",
              "          google.colab.kernel.accessAllowed ? 'block' : 'none';\n",
              "\n",
              "        async function convertToInteractive(key) {\n",
              "          const element = document.querySelector('#df-59b81030-3ff6-4c3e-aa14-586370f9e554');\n",
              "          const dataTable =\n",
              "            await google.colab.kernel.invokeFunction('convertToInteractive',\n",
              "                                                     [key], {});\n",
              "          if (!dataTable) return;\n",
              "\n",
              "          const docLinkHtml = 'Like what you see? Visit the ' +\n",
              "            '<a target=\"_blank\" href=https://colab.research.google.com/notebooks/data_table.ipynb>data table notebook</a>'\n",
              "            + ' to learn more about interactive tables.';\n",
              "          element.innerHTML = '';\n",
              "          dataTable['output_type'] = 'display_data';\n",
              "          await google.colab.output.renderOutput(dataTable, element);\n",
              "          const docLink = document.createElement('div');\n",
              "          docLink.innerHTML = docLinkHtml;\n",
              "          element.appendChild(docLink);\n",
              "        }\n",
              "      </script>\n",
              "    </div>\n",
              "  </div>\n",
              "  "
            ]
          },
          "metadata": {},
          "execution_count": 68
        }
      ],
      "source": [
        "d2.head()"
      ]
    },
    {
      "cell_type": "code",
      "execution_count": 69,
      "id": "994479bb",
      "metadata": {
        "colab": {
          "base_uri": "https://localhost:8080/"
        },
        "id": "994479bb",
        "outputId": "065d4940-606a-4d9f-c25c-fdfdd69394bc"
      },
      "outputs": [
        {
          "output_type": "execute_result",
          "data": {
            "text/plain": [
              "drug_1    7.104917\n",
              "dtype: float64"
            ]
          },
          "metadata": {},
          "execution_count": 69
        }
      ],
      "source": [
        "d1.mean()"
      ]
    },
    {
      "cell_type": "code",
      "execution_count": 70,
      "id": "f3b3264a",
      "metadata": {
        "colab": {
          "base_uri": "https://localhost:8080/"
        },
        "id": "f3b3264a",
        "outputId": "67d0ac8e-dc4c-4e8c-a863-274884b741ae"
      },
      "outputs": [
        {
          "output_type": "execute_result",
          "data": {
            "text/plain": [
              "drug_2    8.073423\n",
              "dtype: float64"
            ]
          },
          "metadata": {},
          "execution_count": 70
        }
      ],
      "source": [
        "d2.mean()"
      ]
    },
    {
      "cell_type": "markdown",
      "id": "7332579a",
      "metadata": {
        "id": "7332579a"
      },
      "source": [
        "## 1st test"
      ]
    },
    {
      "cell_type": "code",
      "execution_count": 71,
      "id": "3c59521a",
      "metadata": {
        "id": "3c59521a"
      },
      "outputs": [],
      "source": [
        "## H0 : mu1 = mu2\n",
        "## HA : mu1 != mu2 # two tailed test\n",
        "# alpha = 0.01 # 99% confidence\n"
      ]
    },
    {
      "cell_type": "code",
      "execution_count": 72,
      "id": "c7c13da4",
      "metadata": {
        "colab": {
          "base_uri": "https://localhost:8080/"
        },
        "id": "c7c13da4",
        "outputId": "5230d5aa-d5b0-43c0-ee59-6eeeac4600ee"
      },
      "outputs": [
        {
          "output_type": "execute_result",
          "data": {
            "text/plain": [
              "Ttest_indResult(statistic=array([-5.32112438]), pvalue=array([2.55427147e-07]))"
            ]
          },
          "metadata": {},
          "execution_count": 72
        }
      ],
      "source": [
        "ttest_ind(d1, d2, alternative=\"two-sided\")"
      ]
    },
    {
      "cell_type": "code",
      "execution_count": 73,
      "id": "c2876d14",
      "metadata": {
        "id": "c2876d14"
      },
      "outputs": [],
      "source": [
        "## p-value <<<< alpha, Reject H0, mean recovery days of drug 1 is statistically diff. than drug 2,\n",
        "# with 99 % confidence or 1 % significance level"
      ]
    },
    {
      "cell_type": "code",
      "execution_count": 73,
      "id": "737c1fee",
      "metadata": {
        "id": "737c1fee"
      },
      "outputs": [],
      "source": []
    },
    {
      "cell_type": "markdown",
      "id": "36fcc7cb",
      "metadata": {
        "id": "36fcc7cb"
      },
      "source": [
        "## 2nd Test"
      ]
    },
    {
      "cell_type": "code",
      "execution_count": 74,
      "id": "0e932500",
      "metadata": {
        "id": "0e932500"
      },
      "outputs": [],
      "source": [
        "## H0 : mu1 = mu2\n",
        "## HA : mu1 < mu2 # test tailed test\n",
        "# alpha = 0.01 # 99% confidence\n"
      ]
    },
    {
      "cell_type": "code",
      "execution_count": 75,
      "id": "004566b1",
      "metadata": {
        "colab": {
          "base_uri": "https://localhost:8080/"
        },
        "id": "004566b1",
        "outputId": "6b5d5a43-9bbc-4054-b1c8-ae8cbe15abfb"
      },
      "outputs": [
        {
          "output_type": "execute_result",
          "data": {
            "text/plain": [
              "Ttest_indResult(statistic=array([-5.32112438]), pvalue=array([1.27713574e-07]))"
            ]
          },
          "metadata": {},
          "execution_count": 75
        }
      ],
      "source": [
        "ttest_ind(d1, d2, alternative=\"less\")"
      ]
    },
    {
      "cell_type": "code",
      "execution_count": 76,
      "id": "d043923b",
      "metadata": {
        "id": "d043923b"
      },
      "outputs": [],
      "source": [
        "## p-value <<<< alpha, Reject H0, mean recovery days of drug 1 is statistically lower than drug 2,\n",
        "# with 99 % confidence or 1 % significance level"
      ]
    },
    {
      "cell_type": "code",
      "execution_count": 76,
      "id": "71c6e4b2",
      "metadata": {
        "id": "71c6e4b2"
      },
      "outputs": [],
      "source": []
    },
    {
      "cell_type": "code",
      "execution_count": 76,
      "id": "94cd6b51",
      "metadata": {
        "id": "94cd6b51"
      },
      "outputs": [],
      "source": []
    },
    {
      "cell_type": "markdown",
      "id": "55ec7eda",
      "metadata": {
        "id": "55ec7eda"
      },
      "source": [
        "## 3rd Test"
      ]
    },
    {
      "cell_type": "code",
      "execution_count": 77,
      "id": "d255b09b",
      "metadata": {
        "id": "d255b09b"
      },
      "outputs": [],
      "source": [
        "## H0 : mu1 = mu2\n",
        "## HA : mu1 > mu2 # right tailed test\n",
        "# alpha = 0.01 # 99% confidence\n"
      ]
    },
    {
      "cell_type": "code",
      "execution_count": 78,
      "id": "38133c21",
      "metadata": {
        "colab": {
          "base_uri": "https://localhost:8080/"
        },
        "id": "38133c21",
        "outputId": "2c33be87-d6ca-4d83-b182-9c57b915a8ea"
      },
      "outputs": [
        {
          "output_type": "execute_result",
          "data": {
            "text/plain": [
              "Ttest_indResult(statistic=array([-5.32112438]), pvalue=array([0.99999987]))"
            ]
          },
          "metadata": {},
          "execution_count": 78
        }
      ],
      "source": [
        "ttest_ind(d1, d2, alternative=\"greater\")"
      ]
    },
    {
      "cell_type": "code",
      "execution_count": 79,
      "id": "96ab96eb",
      "metadata": {
        "id": "96ab96eb"
      },
      "outputs": [],
      "source": [
        "## p-value >>> alpha, Failed to Reject H0\n",
        "# with 99 % confidence or 1 % significance level"
      ]
    },
    {
      "cell_type": "code",
      "execution_count": 79,
      "id": "e004fadc",
      "metadata": {
        "id": "e004fadc"
      },
      "outputs": [],
      "source": []
    },
    {
      "cell_type": "markdown",
      "id": "d66ff1a5",
      "metadata": {
        "id": "d66ff1a5"
      },
      "source": [
        "# Aerofit"
      ]
    },
    {
      "cell_type": "code",
      "execution_count": 80,
      "id": "69b986b8",
      "metadata": {
        "id": "69b986b8"
      },
      "outputs": [],
      "source": [
        "df_aerofit = pd.read_csv(\"aerofit.csv\")"
      ]
    },
    {
      "cell_type": "code",
      "execution_count": 81,
      "id": "c0fbee79",
      "metadata": {
        "colab": {
          "base_uri": "https://localhost:8080/",
          "height": 270
        },
        "id": "c0fbee79",
        "outputId": "90a2a50b-1bb7-4a62-c340-e30c59539d08"
      },
      "outputs": [
        {
          "output_type": "execute_result",
          "data": {
            "text/plain": [
              "  Product  Age  Gender  Education MaritalStatus  Usage  Fitness  Income  Miles\n",
              "0   KP281   18    Male         14        Single      3        4   29562    112\n",
              "1   KP281   19    Male         15        Single      2        3   31836     75\n",
              "2   KP281   19  Female         14     Partnered      4        3   30699     66\n",
              "3   KP281   19    Male         12        Single      3        3   32973     85\n",
              "4   KP281   20    Male         13     Partnered      4        2   35247     47"
            ],
            "text/html": [
              "\n",
              "  <div id=\"df-7dcbf22e-a7aa-4d08-8dad-c475b23b87d3\">\n",
              "    <div class=\"colab-df-container\">\n",
              "      <div>\n",
              "<style scoped>\n",
              "    .dataframe tbody tr th:only-of-type {\n",
              "        vertical-align: middle;\n",
              "    }\n",
              "\n",
              "    .dataframe tbody tr th {\n",
              "        vertical-align: top;\n",
              "    }\n",
              "\n",
              "    .dataframe thead th {\n",
              "        text-align: right;\n",
              "    }\n",
              "</style>\n",
              "<table border=\"1\" class=\"dataframe\">\n",
              "  <thead>\n",
              "    <tr style=\"text-align: right;\">\n",
              "      <th></th>\n",
              "      <th>Product</th>\n",
              "      <th>Age</th>\n",
              "      <th>Gender</th>\n",
              "      <th>Education</th>\n",
              "      <th>MaritalStatus</th>\n",
              "      <th>Usage</th>\n",
              "      <th>Fitness</th>\n",
              "      <th>Income</th>\n",
              "      <th>Miles</th>\n",
              "    </tr>\n",
              "  </thead>\n",
              "  <tbody>\n",
              "    <tr>\n",
              "      <th>0</th>\n",
              "      <td>KP281</td>\n",
              "      <td>18</td>\n",
              "      <td>Male</td>\n",
              "      <td>14</td>\n",
              "      <td>Single</td>\n",
              "      <td>3</td>\n",
              "      <td>4</td>\n",
              "      <td>29562</td>\n",
              "      <td>112</td>\n",
              "    </tr>\n",
              "    <tr>\n",
              "      <th>1</th>\n",
              "      <td>KP281</td>\n",
              "      <td>19</td>\n",
              "      <td>Male</td>\n",
              "      <td>15</td>\n",
              "      <td>Single</td>\n",
              "      <td>2</td>\n",
              "      <td>3</td>\n",
              "      <td>31836</td>\n",
              "      <td>75</td>\n",
              "    </tr>\n",
              "    <tr>\n",
              "      <th>2</th>\n",
              "      <td>KP281</td>\n",
              "      <td>19</td>\n",
              "      <td>Female</td>\n",
              "      <td>14</td>\n",
              "      <td>Partnered</td>\n",
              "      <td>4</td>\n",
              "      <td>3</td>\n",
              "      <td>30699</td>\n",
              "      <td>66</td>\n",
              "    </tr>\n",
              "    <tr>\n",
              "      <th>3</th>\n",
              "      <td>KP281</td>\n",
              "      <td>19</td>\n",
              "      <td>Male</td>\n",
              "      <td>12</td>\n",
              "      <td>Single</td>\n",
              "      <td>3</td>\n",
              "      <td>3</td>\n",
              "      <td>32973</td>\n",
              "      <td>85</td>\n",
              "    </tr>\n",
              "    <tr>\n",
              "      <th>4</th>\n",
              "      <td>KP281</td>\n",
              "      <td>20</td>\n",
              "      <td>Male</td>\n",
              "      <td>13</td>\n",
              "      <td>Partnered</td>\n",
              "      <td>4</td>\n",
              "      <td>2</td>\n",
              "      <td>35247</td>\n",
              "      <td>47</td>\n",
              "    </tr>\n",
              "  </tbody>\n",
              "</table>\n",
              "</div>\n",
              "      <button class=\"colab-df-convert\" onclick=\"convertToInteractive('df-7dcbf22e-a7aa-4d08-8dad-c475b23b87d3')\"\n",
              "              title=\"Convert this dataframe to an interactive table.\"\n",
              "              style=\"display:none;\">\n",
              "        \n",
              "  <svg xmlns=\"http://www.w3.org/2000/svg\" height=\"24px\"viewBox=\"0 0 24 24\"\n",
              "       width=\"24px\">\n",
              "    <path d=\"M0 0h24v24H0V0z\" fill=\"none\"/>\n",
              "    <path d=\"M18.56 5.44l.94 2.06.94-2.06 2.06-.94-2.06-.94-.94-2.06-.94 2.06-2.06.94zm-11 1L8.5 8.5l.94-2.06 2.06-.94-2.06-.94L8.5 2.5l-.94 2.06-2.06.94zm10 10l.94 2.06.94-2.06 2.06-.94-2.06-.94-.94-2.06-.94 2.06-2.06.94z\"/><path d=\"M17.41 7.96l-1.37-1.37c-.4-.4-.92-.59-1.43-.59-.52 0-1.04.2-1.43.59L10.3 9.45l-7.72 7.72c-.78.78-.78 2.05 0 2.83L4 21.41c.39.39.9.59 1.41.59.51 0 1.02-.2 1.41-.59l7.78-7.78 2.81-2.81c.8-.78.8-2.07 0-2.86zM5.41 20L4 18.59l7.72-7.72 1.47 1.35L5.41 20z\"/>\n",
              "  </svg>\n",
              "      </button>\n",
              "      \n",
              "  <style>\n",
              "    .colab-df-container {\n",
              "      display:flex;\n",
              "      flex-wrap:wrap;\n",
              "      gap: 12px;\n",
              "    }\n",
              "\n",
              "    .colab-df-convert {\n",
              "      background-color: #E8F0FE;\n",
              "      border: none;\n",
              "      border-radius: 50%;\n",
              "      cursor: pointer;\n",
              "      display: none;\n",
              "      fill: #1967D2;\n",
              "      height: 32px;\n",
              "      padding: 0 0 0 0;\n",
              "      width: 32px;\n",
              "    }\n",
              "\n",
              "    .colab-df-convert:hover {\n",
              "      background-color: #E2EBFA;\n",
              "      box-shadow: 0px 1px 2px rgba(60, 64, 67, 0.3), 0px 1px 3px 1px rgba(60, 64, 67, 0.15);\n",
              "      fill: #174EA6;\n",
              "    }\n",
              "\n",
              "    [theme=dark] .colab-df-convert {\n",
              "      background-color: #3B4455;\n",
              "      fill: #D2E3FC;\n",
              "    }\n",
              "\n",
              "    [theme=dark] .colab-df-convert:hover {\n",
              "      background-color: #434B5C;\n",
              "      box-shadow: 0px 1px 3px 1px rgba(0, 0, 0, 0.15);\n",
              "      filter: drop-shadow(0px 1px 2px rgba(0, 0, 0, 0.3));\n",
              "      fill: #FFFFFF;\n",
              "    }\n",
              "  </style>\n",
              "\n",
              "      <script>\n",
              "        const buttonEl =\n",
              "          document.querySelector('#df-7dcbf22e-a7aa-4d08-8dad-c475b23b87d3 button.colab-df-convert');\n",
              "        buttonEl.style.display =\n",
              "          google.colab.kernel.accessAllowed ? 'block' : 'none';\n",
              "\n",
              "        async function convertToInteractive(key) {\n",
              "          const element = document.querySelector('#df-7dcbf22e-a7aa-4d08-8dad-c475b23b87d3');\n",
              "          const dataTable =\n",
              "            await google.colab.kernel.invokeFunction('convertToInteractive',\n",
              "                                                     [key], {});\n",
              "          if (!dataTable) return;\n",
              "\n",
              "          const docLinkHtml = 'Like what you see? Visit the ' +\n",
              "            '<a target=\"_blank\" href=https://colab.research.google.com/notebooks/data_table.ipynb>data table notebook</a>'\n",
              "            + ' to learn more about interactive tables.';\n",
              "          element.innerHTML = '';\n",
              "          dataTable['output_type'] = 'display_data';\n",
              "          await google.colab.output.renderOutput(dataTable, element);\n",
              "          const docLink = document.createElement('div');\n",
              "          docLink.innerHTML = docLinkHtml;\n",
              "          element.appendChild(docLink);\n",
              "        }\n",
              "      </script>\n",
              "    </div>\n",
              "  </div>\n",
              "  "
            ]
          },
          "metadata": {},
          "execution_count": 81
        }
      ],
      "source": [
        "df_aerofit.head()"
      ]
    },
    {
      "cell_type": "code",
      "execution_count": 82,
      "id": "ffa07948",
      "metadata": {
        "colab": {
          "base_uri": "https://localhost:8080/",
          "height": 466
        },
        "id": "ffa07948",
        "outputId": "d11407b9-0352-4d7e-a6d0-0b6f2b8b1f12"
      },
      "outputs": [
        {
          "output_type": "execute_result",
          "data": {
            "text/plain": [
              "<Axes: xlabel='Gender', ylabel='Income'>"
            ]
          },
          "metadata": {},
          "execution_count": 82
        },
        {
          "output_type": "display_data",
          "data": {
            "text/plain": [
              "<Figure size 640x480 with 1 Axes>"
            ],
            "image/png": "[encoded data removed]"
          },
          "metadata": {}
        }
      ],
      "source": [
        "sns.boxplot(x='Gender', y='Income', data=df_aerofit)"
      ]
    },
    {
      "cell_type": "code",
      "execution_count": 83,
      "id": "63b200de",
      "metadata": {
        "colab": {
          "base_uri": "https://localhost:8080/"
        },
        "id": "63b200de",
        "outputId": "535b906f-0941-45f6-dd9f-23fdfe9b661f"
      },
      "outputs": [
        {
          "output_type": "execute_result",
          "data": {
            "text/plain": [
              "Gender\n",
              "Female    49828.907895\n",
              "Male      56562.759615\n",
              "Name: Income, dtype: float64"
            ]
          },
          "metadata": {},
          "execution_count": 83
        }
      ],
      "source": [
        "df_aerofit.groupby([\"Gender\"])[\"Income\"].mean()"
      ]
    },
    {
      "cell_type": "code",
      "execution_count": 84,
      "id": "5762a591",
      "metadata": {
        "id": "5762a591"
      },
      "outputs": [],
      "source": [
        "income_male = df_aerofit[df_aerofit[\"Gender\"]==\"Male\"][\"Income\"]\n",
        "\n",
        "\n",
        "income_female = df_aerofit[df_aerofit[\"Gender\"]==\"Female\"][\"Income\"]"
      ]
    },
    {
      "cell_type": "code",
      "execution_count": 85,
      "id": "61a54301",
      "metadata": {
        "id": "61a54301"
      },
      "outputs": [],
      "source": [
        "# H0 : same income\n",
        "# HA : mean of male income is higher  # you want to test the suspicion from the observed data\n",
        "alpha = 0.05"
      ]
    },
    {
      "cell_type": "code",
      "execution_count": 86,
      "id": "3ad5007d",
      "metadata": {
        "id": "3ad5007d"
      },
      "outputs": [],
      "source": [
        "t_stat, p_value = ttest_ind(income_male, income_female, alternative = \"greater\")\n"
      ]
    },
    {
      "cell_type": "code",
      "execution_count": 87,
      "id": "00a1e1d0",
      "metadata": {
        "colab": {
          "base_uri": "https://localhost:8080/"
        },
        "id": "00a1e1d0",
        "outputId": "36fab7a2-cf2b-40e7-9cc9-f4d01c6d97e2"
      },
      "outputs": [
        {
          "output_type": "stream",
          "name": "stdout",
          "text": [
            "0.003263631548607129\n",
            "Reject H0\n"
          ]
        }
      ],
      "source": [
        "print(p_value)\n",
        "\n",
        "if p_value < 0.05:\n",
        "    print(\"Reject H0\")"
      ]
    },
    {
      "cell_type": "code",
      "execution_count": 87,
      "id": "fc1fc032",
      "metadata": {
        "id": "fc1fc032"
      },
      "outputs": [],
      "source": []
    },
    {
      "cell_type": "code",
      "execution_count": 88,
      "id": "aaf40c54",
      "metadata": {
        "id": "aaf40c54"
      },
      "outputs": [],
      "source": [
        "a = [14.3,12.6,13.7,10.9,13.7,12.0,11.4,12.0,12.6,13.1]"
      ]
    },
    {
      "cell_type": "code",
      "execution_count": 89,
      "id": "946f57ef",
      "metadata": {
        "colab": {
          "base_uri": "https://localhost:8080/"
        },
        "id": "946f57ef",
        "outputId": "a334dae3-706b-4645-adb0-0d12d49c4d40"
      },
      "outputs": [
        {
          "output_type": "execute_result",
          "data": {
            "text/plain": [
              "TtestResult(statistic=1.8356436949305335, pvalue=0.04979938002326665, df=9)"
            ]
          },
          "metadata": {},
          "execution_count": 89
        }
      ],
      "source": [
        "from scipy.stats import ttest_1samp\n",
        "\n",
        "''' H0 : yield = 12\n",
        "    Ha : yield > 12\n",
        "'''\n",
        "\n",
        "yield_data = [14.3,12.6,13.7,10.9,13.7,12.0,11.4,12.0,12.6,13.1]\n",
        "\n",
        "ttest_1samp(yield_data, popmean = 12.0, alternative = \"greater\")\n",
        "\n",
        "### p_value = 0.0497\n",
        "\n",
        "### p_value < alpha (0.05)\n",
        "### i.e. Reject H0, Yield is more than average"
      ]
    },
    {
      "cell_type": "code",
      "execution_count": 89,
      "id": "2dc0b2f6",
      "metadata": {
        "id": "2dc0b2f6"
      },
      "outputs": [],
      "source": []
    },
    {
      "cell_type": "code",
      "execution_count": 90,
      "id": "ded958c3",
      "metadata": {
        "id": "ded958c3"
      },
      "outputs": [],
      "source": [
        "# The 1-sample t-test is used when we want to compare a sample mean to a population mean. The average British man is 175.3 cm tall.\n",
        "\n",
        "# A survey recorded the heights of 10 UK men and we want to know whether the mean of the sample is different from the population mean.\n",
        "\n",
        "# survey_height = [177.3, 182.7, 169.6, 176.3, 180.3, 179.4, 178.5, 177.2, 181.8, 176.5]\n",
        "\n",
        "\n",
        "# With 5% significance level can we conclude that average height is more different than the population mean?\n",
        "\n",
        "# Perform t-test and choose the correct option below :\n",
        "\n",
        "# a) p_value = 0.058, Average sample height is same as population ave\n",
        "# b) p_value = 0.073, Average sample height is same as expected\n",
        "# c) p_value = 0.047, Average sample height is greater than expected\n",
        "# d) p_value = 0.031, Average sample height is greater than expected\n"
      ]
    },
    {
      "cell_type": "code",
      "execution_count": 91,
      "id": "58c77658",
      "metadata": {
        "colab": {
          "base_uri": "https://localhost:8080/"
        },
        "id": "58c77658",
        "outputId": "8dab4997-dd26-4c3c-d6e2-47052b8368ae"
      },
      "outputs": [
        {
          "output_type": "execute_result",
          "data": {
            "text/plain": [
              "TtestResult(statistic=2.295568968083183, pvalue=0.04734137339747034, df=9)"
            ]
          },
          "metadata": {},
          "execution_count": 91
        }
      ],
      "source": [
        "from scipy.stats import ttest_1samp\n",
        "\n",
        "''' H0 : height = 175.3\n",
        "    Ha : height != 175.3\n",
        "'''\n",
        "\n",
        "survey_height = [177.3, 182.7, 169.6, 176.3, 180.3, 179.4, 178.5, 177.2, 181.8, 176.5]\n",
        "\n",
        "ttest_1samp(survey_height, popmean = 175.3, alternative = \"two-sided\")"
      ]
    },
    {
      "cell_type": "code",
      "execution_count": 92,
      "id": "13175dd4",
      "metadata": {
        "colab": {
          "base_uri": "https://localhost:8080/"
        },
        "id": "13175dd4",
        "outputId": "6292a2d2-afe7-49f3-eb44-f22814bdea4c"
      },
      "outputs": [
        {
          "output_type": "execute_result",
          "data": {
            "text/plain": [
              "9"
            ]
          },
          "metadata": {},
          "execution_count": 92
        }
      ],
      "source": [
        "len(survey_height) - 1"
      ]
    },
    {
      "cell_type": "code",
      "execution_count": 93,
      "id": "09a95682",
      "metadata": {
        "colab": {
          "base_uri": "https://localhost:8080/"
        },
        "id": "09a95682",
        "outputId": "ffb01d6e-76bd-4c91-e85d-95c7ed5d5018"
      },
      "outputs": [
        {
          "output_type": "execute_result",
          "data": {
            "text/plain": [
              "0.047341378670844696"
            ]
          },
          "metadata": {},
          "execution_count": 93
        }
      ],
      "source": [
        "2*(t.cdf(-2.2955689, df = len(survey_height) - 1))"
      ]
    },
    {
      "cell_type": "code",
      "execution_count": 93,
      "id": "5956dc00",
      "metadata": {
        "id": "5956dc00"
      },
      "outputs": [],
      "source": []
    },
    {
      "cell_type": "code",
      "execution_count": 94,
      "id": "779eface",
      "metadata": {
        "colab": {
          "base_uri": "https://localhost:8080/"
        },
        "id": "779eface",
        "outputId": "90aa31ae-af0c-43d1-ab2c-6457d0961243"
      },
      "outputs": [
        {
          "output_type": "execute_result",
          "data": {
            "text/plain": [
              "2.295568968083183"
            ]
          },
          "metadata": {},
          "execution_count": 94
        }
      ],
      "source": [
        "t_stat = (np.mean(survey_height) - 175.3)/(np.std(survey_height, ddof=1)/np.sqrt(len(survey_height)))\n",
        "t_stat"
      ]
    },
    {
      "cell_type": "code",
      "execution_count": 95,
      "id": "19d1cfd1",
      "metadata": {
        "colab": {
          "base_uri": "https://localhost:8080/"
        },
        "id": "19d1cfd1",
        "outputId": "ee655664-a397-4388-f05f-9721acfff453"
      },
      "outputs": [
        {
          "output_type": "execute_result",
          "data": {
            "text/plain": [
              "0.047341373397470354"
            ]
          },
          "metadata": {},
          "execution_count": 95
        }
      ],
      "source": [
        "2*(1 - t.cdf(t_stat, df = len(survey_height) - 1))"
      ]
    },
    {
      "cell_type": "code",
      "execution_count": 96,
      "id": "e05803cd",
      "metadata": {
        "colab": {
          "base_uri": "https://localhost:8080/"
        },
        "id": "e05803cd",
        "outputId": "c14b405e-f8e2-4f6b-9639-870579ddb983"
      },
      "outputs": [
        {
          "output_type": "execute_result",
          "data": {
            "text/plain": [
              "Ttest_indResult(statistic=-0.36928503344341035, pvalue=0.7154458095186707)"
            ]
          },
          "metadata": {},
          "execution_count": 96
        }
      ],
      "source": [
        "#Day 118 Q5\n",
        "d1= [115, 111, 112, 101, 95, 98, 100, 90, 89, 108]\n",
        "d2= [107, 103, 91, 99, 104, 98, 117, 113, 92, 96, 108, 115, 116, 88]\n",
        "ttest_ind(d1, d2, alternative=\"two-sided\")\n"
      ]
    },
    {
      "cell_type": "code",
      "execution_count": 97,
      "id": "223c6c1d",
      "metadata": {
        "colab": {
          "base_uri": "https://localhost:8080/"
        },
        "id": "223c6c1d",
        "outputId": "79ccb9cd-cdc1-484b-eb47-2e30c2769ad9"
      },
      "outputs": [
        {
          "output_type": "execute_result",
          "data": {
            "text/plain": [
              "Ttest_indResult(statistic=-2.799960442832919, pvalue=0.010730607904197957)"
            ]
          },
          "metadata": {},
          "execution_count": 97
        }
      ],
      "source": [
        "#Day 118 Q4\n",
        "d1= [13.3, 6.0, 20.0, 8.0, 14.0, 19.0, 18.0, 25.0, 16.0, 24.0, 15.0, 1.0, 15.0]\n",
        "d2= [22.0, 16.0, 21.7, 21.0, 30.0, 26.0, 12.0, 23.2, 28.0, 23.0]\n",
        "ttest_ind(d1, d2, alternative=\"two-sided\")\n"
      ]
    },
    {
      "cell_type": "code",
      "execution_count": 95,
      "id": "dec45e71",
      "metadata": {
        "id": "dec45e71"
      },
      "outputs": [],
      "source": []
    },
    {
      "cell_type": "code",
      "execution_count": 95,
      "id": "40049ac6",
      "metadata": {
        "id": "40049ac6"
      },
      "outputs": [],
      "source": []
    },
    {
      "cell_type": "code",
      "execution_count": 95,
      "id": "d82605da",
      "metadata": {
        "id": "d82605da"
      },
      "outputs": [],
      "source": []
    },
    {
      "cell_type": "code",
      "execution_count": 95,
      "id": "fbaa5773",
      "metadata": {
        "id": "fbaa5773"
      },
      "outputs": [],
      "source": []
    },
    {
      "cell_type": "code",
      "execution_count": 95,
      "id": "abbcf9b1",
      "metadata": {
        "id": "abbcf9b1"
      },
      "outputs": [],
      "source": []
    },
    {
      "cell_type": "code",
      "execution_count": 95,
      "id": "4b9c3057",
      "metadata": {
        "id": "4b9c3057"
      },
      "outputs": [],
      "source": []
    },
    {
      "cell_type": "code",
      "execution_count": 95,
      "id": "86576123",
      "metadata": {
        "id": "86576123"
      },
      "outputs": [],
      "source": []
    },
    {
      "cell_type": "code",
      "execution_count": 95,
      "id": "1a1bbdeb",
      "metadata": {
        "id": "1a1bbdeb"
      },
      "outputs": [],
      "source": []
    }
  ],
  "metadata": {
    "kernelspec": {
      "display_name": "Python 3 (ipykernel)",
      "language": "python",
      "name": "python3"
    },
    "language_info": {
      "codemirror_mode": {
        "name": "ipython",
        "version": 3
      },
      "file_extension": ".py",
      "mimetype": "text/x-python",
      "name": "python",
      "nbconvert_exporter": "python",
      "pygments_lexer": "ipython3",
      "version": "3.9.12"
    },
    "colab": {
      "provenance": [],
      "include_colab_link": true
    }
  },
  "nbformat": 4,
  "nbformat_minor": 5
}