{
  "nbformat": 4,
  "nbformat_minor": 0,
  "metadata": {
    "colab": {
      "provenance": [],
      "include_colab_link": true
    },
    "kernelspec": {
      "name": "python3",
      "display_name": "Python 3"
    },
    "language_info": {
      "name": "python"
    }
  },
  "cells": [
    {
      "cell_type": "markdown",
      "metadata": {
        "id": "view-in-github",
        "colab_type": "text"
      },
      "source": [
        "<a href=\"https://colab.research.google.com/github/gchn24/DS-Notes/blob/main/sept_recursion_ps.ipynb\" target=\"_parent\"><img src=\"https://colab.research.google.com/assets/colab-badge.svg\" alt=\"Open In Colab\"/></a>"
      ]
    },
    {
      "cell_type": "code",
      "execution_count": null,
      "metadata": {
        "id": "FkNopI0HG0P2"
      },
      "outputs": [],
      "source": [
        "def fact(num):\n",
        "    if num == 0: \n",
        "        return 1\n",
        "    else:\n",
        "        return num*fact(num-1) "
      ]
    },
    {
      "cell_type": "code",
      "source": [
        "fact(5)"
      ],
      "metadata": {
        "colab": {
          "base_uri": "https://localhost:8080/"
        },
        "id": "04tUQSxGIeGJ",
        "outputId": "77aed967-8790-4230-fbbc-a31714f41b6f"
      },
      "execution_count": null,
      "outputs": [
        {
          "output_type": "execute_result",
          "data": {
            "text/plain": [
              "120"
            ]
          },
          "metadata": {},
          "execution_count": 4
        }
      ]
    },
    {
      "cell_type": "code",
      "source": [
        "def solve(s, count = 0):\n",
        "\n",
        "  if len(s) < 2:\n",
        "    return count\n",
        "  \n",
        "  if s[0] == \"h\" and s[1] == \"i\":\n",
        "    count += 1\n",
        "  \n",
        "  return solve(s[1:], count)\n"
      ],
      "metadata": {
        "id": "dttzz9SKIfBD"
      },
      "execution_count": null,
      "outputs": []
    },
    {
      "cell_type": "code",
      "source": [
        "ans = solve(\"hishishi\")\n",
        "print(ans)"
      ],
      "metadata": {
        "colab": {
          "base_uri": "https://localhost:8080/"
        },
        "id": "OTVK54wuJZof",
        "outputId": "74d75975-db58-453b-bed6-41f48f60a713"
      },
      "execution_count": null,
      "outputs": [
        {
          "output_type": "stream",
          "name": "stdout",
          "text": [
            "3\n"
          ]
        }
      ]
    },
    {
      "cell_type": "code",
      "source": [
        "ans = solve(\"ahihishi\")\n",
        "print(ans)"
      ],
      "metadata": {
        "colab": {
          "base_uri": "https://localhost:8080/"
        },
        "id": "I_K39aZfKFxU",
        "outputId": "96624a0a-881b-4467-ca2e-e71113c0dafe"
      },
      "execution_count": null,
      "outputs": [
        {
          "output_type": "stream",
          "name": "stdout",
          "text": [
            "3\n"
          ]
        }
      ]
    },
    {
      "cell_type": "code",
      "source": [],
      "metadata": {
        "id": "Q4_DC1TxK2Os"
      },
      "execution_count": null,
      "outputs": []
    }
  ]
}