{
  "nbformat": 4,
  "nbformat_minor": 0,
  "metadata": {
    "colab": {
      "provenance": [],
      "include_colab_link": true
    },
    "kernelspec": {
      "name": "python3",
      "display_name": "Python 3"
    },
    "language_info": {
      "name": "python"
    }
  },
  "cells": [
    {
      "cell_type": "markdown",
      "metadata": {
        "id": "view-in-github",
        "colab_type": "text"
      },
      "source": [
        "<a href=\"https://colab.research.google.com/github/gchn24/DS-Notes/blob/main/sept_recursion_1.ipynb\" target=\"_parent\"><img src=\"https://colab.research.google.com/assets/colab-badge.svg\" alt=\"Open In Colab\"/></a>"
      ]
    },
    {
      "cell_type": "code",
      "execution_count": null,
      "metadata": {
        "colab": {
          "base_uri": "https://localhost:8080/"
        },
        "id": "E2YBI7O3XY58",
        "outputId": "dd0eb183-4dc3-447f-a805-6ef825574155"
      },
      "outputs": [
        {
          "output_type": "stream",
          "name": "stdout",
          "text": [
            "Yo guys!!\n"
          ]
        }
      ],
      "source": [
        "print(\"Yo guys!!\")"
      ]
    },
    {
      "cell_type": "code",
      "source": [
        "#sum in tuple\n",
        "\n",
        "lis = [(0,2), (1,3), (2,4)]\n",
        "\n",
        "result = sum(n for n,m in lis)\n",
        "\n",
        "print(result)"
      ],
      "metadata": {
        "colab": {
          "base_uri": "https://localhost:8080/"
        },
        "id": "T_tt_wwGYB0M",
        "outputId": "60b123bb-83b4-4d1a-f200-08d7d7f1b36a"
      },
      "execution_count": null,
      "outputs": [
        {
          "output_type": "stream",
          "name": "stdout",
          "text": [
            "3\n"
          ]
        }
      ]
    },
    {
      "cell_type": "code",
      "source": [
        "lis = [(0,2), (1,3), (2,4)]\n",
        "\n",
        "for _,n in lis:\n",
        "  print(_,n)"
      ],
      "metadata": {
        "colab": {
          "base_uri": "https://localhost:8080/"
        },
        "id": "NuoXUstEYx-6",
        "outputId": "d4d1cc86-8195-46dc-815e-1e5a55f9ef2e"
      },
      "execution_count": null,
      "outputs": [
        {
          "output_type": "stream",
          "name": "stdout",
          "text": [
            "0 2\n",
            "1 3\n",
            "2 4\n"
          ]
        }
      ]
    },
    {
      "cell_type": "code",
      "source": [
        "#eval"
      ],
      "metadata": {
        "id": "8zrDPEnJZD14"
      },
      "execution_count": null,
      "outputs": []
    },
    {
      "cell_type": "code",
      "source": [
        "s = \"1+2\"\n",
        "\n",
        "print(s)\n",
        "\n",
        "n = eval(s)\n",
        "type(n)"
      ],
      "metadata": {
        "colab": {
          "base_uri": "https://localhost:8080/"
        },
        "id": "v-Jg0883ZiB8",
        "outputId": "3391ca0c-eda7-4add-8f3f-1ff6288b3001"
      },
      "execution_count": null,
      "outputs": [
        {
          "output_type": "stream",
          "name": "stdout",
          "text": [
            "1+2\n"
          ]
        },
        {
          "output_type": "execute_result",
          "data": {
            "text/plain": [
              "int"
            ]
          },
          "metadata": {},
          "execution_count": 9
        }
      ]
    },
    {
      "cell_type": "code",
      "source": [
        "print(eval(s))"
      ],
      "metadata": {
        "colab": {
          "base_uri": "https://localhost:8080/"
        },
        "id": "AJukw7rhZoWS",
        "outputId": "ecb6a05c-9310-42ef-a6bc-d01be8c08536"
      },
      "execution_count": null,
      "outputs": [
        {
          "output_type": "stream",
          "name": "stdout",
          "text": [
            "3\n"
          ]
        }
      ]
    },
    {
      "cell_type": "code",
      "source": [
        "s = \"1>3\"\n",
        "print(s)\n",
        "\n",
        "print(eval(s))"
      ],
      "metadata": {
        "colab": {
          "base_uri": "https://localhost:8080/"
        },
        "id": "cSpWGNWpZq0r",
        "outputId": "71130acf-28d7-4552-8aac-764a413cdb76"
      },
      "execution_count": null,
      "outputs": [
        {
          "output_type": "stream",
          "name": "stdout",
          "text": [
            "1>3\n",
            "False\n"
          ]
        }
      ]
    },
    {
      "cell_type": "code",
      "source": [
        "n = input()"
      ],
      "metadata": {
        "colab": {
          "base_uri": "https://localhost:8080/"
        },
        "id": "8gIbTXjxZ4ja",
        "outputId": "6adfe9b7-dcd8-472d-c92b-3d827c4f060a"
      },
      "execution_count": null,
      "outputs": [
        {
          "name": "stdout",
          "output_type": "stream",
          "text": [
            "1>3\n"
          ]
        }
      ]
    },
    {
      "cell_type": "code",
      "source": [
        "print(eval(n))"
      ],
      "metadata": {
        "colab": {
          "base_uri": "https://localhost:8080/"
        },
        "id": "zBjxXpaJaCeA",
        "outputId": "e86a5bf5-2e41-4ec2-a518-cfe692f6b2ac"
      },
      "execution_count": null,
      "outputs": [
        {
          "output_type": "stream",
          "name": "stdout",
          "text": [
            "False\n"
          ]
        }
      ]
    },
    {
      "cell_type": "code",
      "source": [
        "def solve(n):\n",
        "  print(n)\n",
        "\n"
      ],
      "metadata": {
        "id": "6LXTub4XaFYf"
      },
      "execution_count": null,
      "outputs": []
    },
    {
      "cell_type": "code",
      "source": [
        "solve(3)"
      ],
      "metadata": {
        "colab": {
          "base_uri": "https://localhost:8080/"
        },
        "id": "CYq8X7Qhaxmr",
        "outputId": "a3495ebb-7522-403c-ccfa-f45853aff3db"
      },
      "execution_count": null,
      "outputs": [
        {
          "output_type": "stream",
          "name": "stdout",
          "text": [
            "3\n"
          ]
        }
      ]
    },
    {
      "cell_type": "code",
      "source": [
        "def fact(n):\n",
        "\n",
        "  #check for negative numbers\n",
        "  if n<0:\n",
        "    return \"Factorial is only defined on positive integers!\"\n",
        "\n",
        "  #base condition\n",
        "  if n==1 or n==0:\n",
        "    return 1\n",
        "\n",
        "  #recursive formula\n",
        "  return n*fact(n-1)\n"
      ],
      "metadata": {
        "id": "ZhuSOnPcazGS"
      },
      "execution_count": null,
      "outputs": []
    },
    {
      "cell_type": "code",
      "source": [
        "def solve():\n",
        "\n",
        "  return 2<3"
      ],
      "metadata": {
        "id": "PbNXQWhT4NRZ"
      },
      "execution_count": null,
      "outputs": []
    },
    {
      "cell_type": "code",
      "source": [
        "solve()"
      ],
      "metadata": {
        "id": "Iq3Sl6z94QbK",
        "outputId": "2fbe64a9-945a-444a-a9fb-6d55a80e9d3f",
        "colab": {
          "base_uri": "https://localhost:8080/"
        }
      },
      "execution_count": null,
      "outputs": [
        {
          "output_type": "execute_result",
          "data": {
            "text/plain": [
              "True"
            ]
          },
          "metadata": {},
          "execution_count": 31
        }
      ]
    },
    {
      "cell_type": "code",
      "source": [
        "fact(-3)"
      ],
      "metadata": {
        "colab": {
          "base_uri": "https://localhost:8080/",
          "height": 35
        },
        "id": "h6ph90ehdFzR",
        "outputId": "065a3a9b-f0d3-46fa-db61-932753820522"
      },
      "execution_count": null,
      "outputs": [
        {
          "output_type": "execute_result",
          "data": {
            "text/plain": [
              "'Factorial is only defined on positive integers!'"
            ],
            "application/vnd.google.colaboratory.intrinsic+json": {
              "type": "string"
            }
          },
          "metadata": {},
          "execution_count": 18
        }
      ]
    },
    {
      "cell_type": "code",
      "source": [
        "def merge_sort(a):\n",
        "\n",
        "  if len(a) <= 1:\n",
        "    return a\n",
        "\n",
        "  n = len(a)\n",
        "\n",
        "  #splitting logic\n",
        "  left_a = a[:n//2]\n",
        "  right_a = a[n//2:]\n",
        "\n",
        "  #HW\n",
        "  left = merge_sort(left_a)\n",
        "  right = merge_sort(right_a)\n",
        "\n",
        "  print(f\"left --> {left}\")\n",
        "  print(f\"right --> {right}\")\n",
        "\n",
        "\n",
        "  #merging logic\n",
        "  i = 0 \n",
        "  j = 0\n",
        "  result = []\n",
        "\n",
        "  while i< len(left) and j < len(right):\n",
        "\n",
        "    if left[i] < right[j]:\n",
        "      result.append(left[i])\n",
        "      i += 1\n",
        "    else:\n",
        "      result.append(right[j])\n",
        "      j += 1\n",
        "\n",
        "    \n",
        "  if j < len(right):\n",
        "    result.extend(right[j:])\n",
        "  elif i < len(left):\n",
        "    result.extend(left[i:])\n",
        "\n",
        "\n",
        "  return result"
      ],
      "metadata": {
        "id": "2rU-2-Mad13I"
      },
      "execution_count": null,
      "outputs": []
    },
    {
      "cell_type": "code",
      "source": [
        "a = [4,1,5,3,2]\n",
        "ans = merge_sort(a)\n",
        "\n",
        "print(ans)"
      ],
      "metadata": {
        "colab": {
          "base_uri": "https://localhost:8080/"
        },
        "id": "J3JRfzUJxmUQ",
        "outputId": "1d0a48a4-cd40-42a0-a223-ed4017c83548"
      },
      "execution_count": null,
      "outputs": [
        {
          "output_type": "stream",
          "name": "stdout",
          "text": [
            "left --> [4]\n",
            "right --> [1]\n",
            "left --> [3]\n",
            "right --> [2]\n",
            "left --> [5]\n",
            "right --> [2, 3]\n",
            "left --> [1, 4]\n",
            "right --> [2, 3, 5]\n",
            "[1, 2, 3, 4, 5]\n"
          ]
        }
      ]
    },
    {
      "cell_type": "code",
      "source": [
        "aj()\n",
        "\n",
        "def aj():\n",
        "  print(\"aj\")"
      ],
      "metadata": {
        "colab": {
          "base_uri": "https://localhost:8080/",
          "height": 223
        },
        "id": "HeoEH6rMxw-7",
        "outputId": "199d22d2-3eec-4464-c504-c034269b7205"
      },
      "execution_count": null,
      "outputs": [
        {
          "output_type": "error",
          "ename": "NameError",
          "evalue": "ignored",
          "traceback": [
            "\u001b[0;31m---------------------------------------------------------------------------\u001b[0m",
            "\u001b[0;31mNameError\u001b[0m                                 Traceback (most recent call last)",
            "\u001b[0;32m<ipython-input-26-3c8a02a7e7ca>\u001b[0m in \u001b[0;36m<module>\u001b[0;34m\u001b[0m\n\u001b[0;32m----> 1\u001b[0;31m \u001b[0maj\u001b[0m\u001b[0;34m(\u001b[0m\u001b[0;34m)\u001b[0m\u001b[0;34m\u001b[0m\u001b[0;34m\u001b[0m\u001b[0m\n\u001b[0m\u001b[1;32m      2\u001b[0m \u001b[0;34m\u001b[0m\u001b[0m\n\u001b[1;32m      3\u001b[0m \u001b[0;32mdef\u001b[0m \u001b[0maj\u001b[0m\u001b[0;34m(\u001b[0m\u001b[0;34m)\u001b[0m\u001b[0;34m:\u001b[0m\u001b[0;34m\u001b[0m\u001b[0;34m\u001b[0m\u001b[0m\n\u001b[1;32m      4\u001b[0m   \u001b[0mprint\u001b[0m\u001b[0;34m(\u001b[0m\u001b[0;34m\"aj\"\u001b[0m\u001b[0;34m)\u001b[0m\u001b[0;34m\u001b[0m\u001b[0;34m\u001b[0m\u001b[0m\n",
            "\u001b[0;31mNameError\u001b[0m: name 'aj' is not defined"
          ]
        }
      ]
    },
    {
      "cell_type": "code",
      "source": [
        "a = [1,2,3]\n",
        "\n",
        "ans = sum(a)"
      ],
      "metadata": {
        "id": "t6Kr-8X12kla"
      },
      "execution_count": null,
      "outputs": []
    },
    {
      "cell_type": "code",
      "source": [
        "print(ans)"
      ],
      "metadata": {
        "colab": {
          "base_uri": "https://localhost:8080/"
        },
        "id": "opMjaVpm3yJV",
        "outputId": "f1ffbc6b-40c3-43b4-81db-6f9ca02def68"
      },
      "execution_count": null,
      "outputs": [
        {
          "output_type": "stream",
          "name": "stdout",
          "text": [
            "6\n"
          ]
        }
      ]
    },
    {
      "cell_type": "code",
      "source": [],
      "metadata": {
        "id": "-ZLSzcfY3zV2"
      },
      "execution_count": null,
      "outputs": []
    }
  ]
}