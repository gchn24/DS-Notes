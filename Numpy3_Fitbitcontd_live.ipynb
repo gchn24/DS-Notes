{
  "nbformat": 4,
  "nbformat_minor": 0,
  "metadata": {
    "colab": {
      "provenance": [],
      "include_colab_link": true
    },
    "kernelspec": {
      "name": "python3",
      "display_name": "Python 3"
    },
    "language_info": {
      "name": "python"
    }
  },
  "cells": [
    {
      "cell_type": "markdown",
      "metadata": {
        "id": "view-in-github",
        "colab_type": "text"
      },
      "source": [
        "<a href=\"https://colab.research.google.com/github/gchn24/DS-Notes/blob/main/Numpy3_Fitbitcontd_live.ipynb\" target=\"_parent\"><img src=\"https://colab.research.google.com/assets/colab-badge.svg\" alt=\"Open In Colab\"/></a>"
      ]
    },
    {
      "cell_type": "markdown",
      "source": [
        "Colab: https://colab.research.google.com/drive/16HX8qvhCwi8Jfi_EnZeBqBHKUMkzmiOj?usp=sharing"
      ],
      "metadata": {
        "id": "Df97eSkseusL"
      }
    },
    {
      "cell_type": "code",
      "execution_count": null,
      "metadata": {
        "id": "mhEw3GOjGkoc"
      },
      "outputs": [],
      "source": [
        "import numpy as np"
      ]
    },
    {
      "cell_type": "code",
      "source": [
        "a=np.array([[1,2,3],[4,4],[5,5]])\n",
        "a, a.ndim, a.shape"
      ],
      "metadata": {
        "colab": {
          "base_uri": "https://localhost:8080/"
        },
        "id": "R8UEv6ttGmNn",
        "outputId": "9225bef8-f6e1-4662-da93-34540df287a3"
      },
      "execution_count": null,
      "outputs": [
        {
          "output_type": "stream",
          "name": "stderr",
          "text": [
            "<ipython-input-5-c045daa102e9>:1: VisibleDeprecationWarning: Creating an ndarray from ragged nested sequences (which is a list-or-tuple of lists-or-tuples-or ndarrays with different lengths or shapes) is deprecated. If you meant to do this, you must specify 'dtype=object' when creating the ndarray.\n",
            "  a=np.array([[1,2,3],[4,4],[5,5]])\n"
          ]
        },
        {
          "output_type": "execute_result",
          "data": {
            "text/plain": [
              "(array([list([1, 2, 3]), list([4, 4]), list([5, 5])], dtype=object), 1, (3,))"
            ]
          },
          "metadata": {},
          "execution_count": 5
        }
      ]
    },
    {
      "cell_type": "code",
      "source": [
        "a = np.arange(12).reshape(3, 4)\n",
        "a"
      ],
      "metadata": {
        "colab": {
          "base_uri": "https://localhost:8080/"
        },
        "id": "_O7QS65AHnXF",
        "outputId": "927c3dca-3400-4416-fca2-b9b266fccd6d"
      },
      "execution_count": null,
      "outputs": [
        {
          "output_type": "execute_result",
          "data": {
            "text/plain": [
              "array([[ 0,  1,  2,  3],\n",
              "       [ 4,  5,  6,  7],\n",
              "       [ 8,  9, 10, 11]])"
            ]
          },
          "metadata": {},
          "execution_count": 6
        }
      ]
    },
    {
      "cell_type": "code",
      "source": [
        "np.sum(a)"
      ],
      "metadata": {
        "colab": {
          "base_uri": "https://localhost:8080/"
        },
        "id": "ELVFbxFrIAM1",
        "outputId": "19d9a2f8-1419-4a6d-9a9d-eeeb80e84124"
      },
      "execution_count": null,
      "outputs": [
        {
          "output_type": "execute_result",
          "data": {
            "text/plain": [
              "66"
            ]
          },
          "metadata": {},
          "execution_count": 7
        }
      ]
    },
    {
      "cell_type": "code",
      "source": [
        "np.min(a)"
      ],
      "metadata": {
        "colab": {
          "base_uri": "https://localhost:8080/"
        },
        "id": "WfZ36BO6IDsL",
        "outputId": "7eff06c0-41e0-4144-d2bf-1fd0b3302722"
      },
      "execution_count": null,
      "outputs": [
        {
          "output_type": "execute_result",
          "data": {
            "text/plain": [
              "0"
            ]
          },
          "metadata": {},
          "execution_count": 8
        }
      ]
    },
    {
      "cell_type": "code",
      "source": [
        "np.max(a)"
      ],
      "metadata": {
        "colab": {
          "base_uri": "https://localhost:8080/"
        },
        "id": "CJI7sdxLIHTH",
        "outputId": "34d87f38-2dd8-457c-e0a9-c095d3eeb5a6"
      },
      "execution_count": null,
      "outputs": [
        {
          "output_type": "execute_result",
          "data": {
            "text/plain": [
              "11"
            ]
          },
          "metadata": {},
          "execution_count": 9
        }
      ]
    },
    {
      "cell_type": "code",
      "source": [
        "np.mean(a)"
      ],
      "metadata": {
        "colab": {
          "base_uri": "https://localhost:8080/"
        },
        "id": "eK97wzLdII7_",
        "outputId": "8d243cf5-f78a-4df6-e6e7-a7a3aa780130"
      },
      "execution_count": null,
      "outputs": [
        {
          "output_type": "execute_result",
          "data": {
            "text/plain": [
              "5.5"
            ]
          },
          "metadata": {},
          "execution_count": 10
        }
      ]
    },
    {
      "cell_type": "code",
      "source": [
        "a"
      ],
      "metadata": {
        "colab": {
          "base_uri": "https://localhost:8080/"
        },
        "id": "FO3sd6KqIKs6",
        "outputId": "d505d3f9-60d2-464f-83a5-1ff7f4e99805"
      },
      "execution_count": null,
      "outputs": [
        {
          "output_type": "execute_result",
          "data": {
            "text/plain": [
              "array([[ 0,  1,  2,  3],\n",
              "       [ 4,  5,  6,  7],\n",
              "       [ 8,  9, 10, 11]])"
            ]
          },
          "metadata": {},
          "execution_count": 11
        }
      ]
    },
    {
      "cell_type": "code",
      "source": [
        "np.sum(a, axis=0)"
      ],
      "metadata": {
        "colab": {
          "base_uri": "https://localhost:8080/"
        },
        "id": "MuF2Jqh2IQDE",
        "outputId": "0ec925e2-a206-4c4d-f90e-9d9c9ec8bb2a"
      },
      "execution_count": null,
      "outputs": [
        {
          "output_type": "execute_result",
          "data": {
            "text/plain": [
              "array([12, 15, 18, 21])"
            ]
          },
          "metadata": {},
          "execution_count": 13
        }
      ]
    },
    {
      "cell_type": "code",
      "source": [
        "np.sum(a, axis=1)"
      ],
      "metadata": {
        "colab": {
          "base_uri": "https://localhost:8080/"
        },
        "id": "Y2IbSq5oJ4aG",
        "outputId": "7fb36398-8b2d-4bdf-fcc6-e9157d88923f"
      },
      "execution_count": null,
      "outputs": [
        {
          "output_type": "execute_result",
          "data": {
            "text/plain": [
              "array([ 6, 22, 38])"
            ]
          },
          "metadata": {},
          "execution_count": 15
        }
      ]
    },
    {
      "cell_type": "code",
      "source": [
        "a"
      ],
      "metadata": {
        "colab": {
          "base_uri": "https://localhost:8080/"
        },
        "id": "7_W5lu3hJ7k0",
        "outputId": "3a6085ac-13d8-41ed-cc30-19233db01b2c"
      },
      "execution_count": null,
      "outputs": [
        {
          "output_type": "execute_result",
          "data": {
            "text/plain": [
              "array([[ 0,  1,  2,  3],\n",
              "       [ 4,  5,  6,  7],\n",
              "       [ 8,  9, 10, 11]])"
            ]
          },
          "metadata": {},
          "execution_count": 16
        }
      ]
    },
    {
      "cell_type": "code",
      "source": [
        "np.mean(a, axis=0) # value of the first element in the answer"
      ],
      "metadata": {
        "colab": {
          "base_uri": "https://localhost:8080/"
        },
        "id": "Kkvdgj5oKvuR",
        "outputId": "d872bad9-0ed1-4b50-d17f-2d26db2dddd4"
      },
      "execution_count": null,
      "outputs": [
        {
          "output_type": "execute_result",
          "data": {
            "text/plain": [
              "array([4., 5., 6., 7.])"
            ]
          },
          "metadata": {},
          "execution_count": 17
        }
      ]
    },
    {
      "cell_type": "code",
      "source": [
        "np.mean(a, axis=1)"
      ],
      "metadata": {
        "colab": {
          "base_uri": "https://localhost:8080/"
        },
        "id": "DIANL05wLLzl",
        "outputId": "2fc07307-0917-480b-fc3b-27cc1df53603"
      },
      "execution_count": null,
      "outputs": [
        {
          "output_type": "execute_result",
          "data": {
            "text/plain": [
              "array([1.5, 5.5, 9.5])"
            ]
          },
          "metadata": {},
          "execution_count": 18
        }
      ]
    },
    {
      "cell_type": "code",
      "source": [
        "a"
      ],
      "metadata": {
        "colab": {
          "base_uri": "https://localhost:8080/"
        },
        "id": "tSl7tUlZLPd0",
        "outputId": "715f4452-59fe-4ebf-a542-bf2f381d82e7"
      },
      "execution_count": null,
      "outputs": [
        {
          "output_type": "execute_result",
          "data": {
            "text/plain": [
              "array([[ 0,  1,  2,  3],\n",
              "       [ 4,  5,  6,  7],\n",
              "       [ 8,  9, 10, 11]])"
            ]
          },
          "metadata": {},
          "execution_count": 19
        }
      ]
    },
    {
      "cell_type": "code",
      "source": [
        "# answer - [8, 9, 10, 11]\n",
        "np.max(a, axis=0)"
      ],
      "metadata": {
        "colab": {
          "base_uri": "https://localhost:8080/"
        },
        "id": "xNn60fWmLY3q",
        "outputId": "5900aaeb-239f-468e-f08e-0176968fab9b"
      },
      "execution_count": null,
      "outputs": [
        {
          "output_type": "execute_result",
          "data": {
            "text/plain": [
              "array([ 8,  9, 10, 11])"
            ]
          },
          "metadata": {},
          "execution_count": 20
        }
      ]
    },
    {
      "cell_type": "code",
      "source": [
        "a = np.array([1,2,3,4])\n",
        "b = np.array([4,3,2,1])\n",
        "a, b"
      ],
      "metadata": {
        "colab": {
          "base_uri": "https://localhost:8080/"
        },
        "id": "HBApC3xKLogk",
        "outputId": "9e606288-2b73-4db4-d834-ec85c6b609e5"
      },
      "execution_count": null,
      "outputs": [
        {
          "output_type": "execute_result",
          "data": {
            "text/plain": [
              "(array([1, 2, 3, 4]), array([4, 3, 2, 1]))"
            ]
          },
          "metadata": {},
          "execution_count": 21
        }
      ]
    },
    {
      "cell_type": "code",
      "source": [
        "a > b"
      ],
      "metadata": {
        "colab": {
          "base_uri": "https://localhost:8080/"
        },
        "id": "NIQvs0blLv9-",
        "outputId": "f6a4957a-c6e5-477a-ea61-63ac63e18627"
      },
      "execution_count": null,
      "outputs": [
        {
          "output_type": "execute_result",
          "data": {
            "text/plain": [
              "array([False, False,  True,  True])"
            ]
          },
          "metadata": {},
          "execution_count": 22
        }
      ]
    },
    {
      "cell_type": "code",
      "source": [
        "# Ques1 - Is the condition applicable for all the elements in the array? ---> np.all()\n",
        "# Ques2 - Is the condition applicable for any of the element in the array? ---> np.any()"
      ],
      "metadata": {
        "id": "merYbcgQL2nw"
      },
      "execution_count": null,
      "outputs": []
    },
    {
      "cell_type": "code",
      "source": [
        "np.any(a > b)"
      ],
      "metadata": {
        "colab": {
          "base_uri": "https://localhost:8080/"
        },
        "id": "mNYBR-_oMd6V",
        "outputId": "4c43bfbd-cec6-40a2-e0d1-0aa36def3d57"
      },
      "execution_count": null,
      "outputs": [
        {
          "output_type": "execute_result",
          "data": {
            "text/plain": [
              "True"
            ]
          },
          "metadata": {},
          "execution_count": 24
        }
      ]
    },
    {
      "cell_type": "code",
      "source": [
        "np.all(a > b)"
      ],
      "metadata": {
        "colab": {
          "base_uri": "https://localhost:8080/"
        },
        "id": "0CYZKX3UMjHz",
        "outputId": "8b5a3c80-869d-4575-8948-6ee8b4af4268"
      },
      "execution_count": null,
      "outputs": [
        {
          "output_type": "execute_result",
          "data": {
            "text/plain": [
              "False"
            ]
          },
          "metadata": {},
          "execution_count": 25
        }
      ]
    },
    {
      "cell_type": "code",
      "source": [
        "# doubt, comvery to int, a = np.array(a, dtype=\"int\")"
      ],
      "metadata": {
        "id": "7iI1kWdiMlpl"
      },
      "execution_count": null,
      "outputs": []
    },
    {
      "cell_type": "code",
      "source": [
        "a = np.array([4,5,6,7])\n",
        "b = np.array([4,3,2,1])\n",
        "np.any(a<b)"
      ],
      "metadata": {
        "colab": {
          "base_uri": "https://localhost:8080/"
        },
        "id": "demYjpAyM6Ha",
        "outputId": "881f0c3c-ef41-4bf5-a61f-304c09c4b0cf"
      },
      "execution_count": null,
      "outputs": [
        {
          "output_type": "execute_result",
          "data": {
            "text/plain": [
              "False"
            ]
          },
          "metadata": {},
          "execution_count": 26
        }
      ]
    },
    {
      "cell_type": "code",
      "source": [
        "a = np.array([1, 2, 3, 2])\n",
        "b = np.array([2, 2, 3, 2])\n",
        "c = np.array([6, 4, 4, 5])\n",
        "# ((a <= b) & (b <= c)).all()\n",
        "np.all((a <= b) & (b <= c)) # prefer this style of writing"
      ],
      "metadata": {
        "colab": {
          "base_uri": "https://localhost:8080/"
        },
        "id": "6a-wQ_PsNDTr",
        "outputId": "5ecc4b75-9cd0-4c35-9aa8-801e03999341"
      },
      "execution_count": null,
      "outputs": [
        {
          "output_type": "execute_result",
          "data": {
            "text/plain": [
              "True"
            ]
          },
          "metadata": {},
          "execution_count": 28
        }
      ]
    },
    {
      "cell_type": "code",
      "source": [
        "# Update our array based on a condition\n",
        "arr = np.array([-3,4,27,34,-2,0,-45,-11,4,0])\n",
        "arr"
      ],
      "metadata": {
        "colab": {
          "base_uri": "https://localhost:8080/"
        },
        "id": "BLn5FQQ2Njn2",
        "outputId": "59874572-426e-42ae-aa75-973e56a38018"
      },
      "execution_count": null,
      "outputs": [
        {
          "output_type": "execute_result",
          "data": {
            "text/plain": [
              "array([ -3,   4,  27,  34,  -2,   0, -45, -11,   4,   0])"
            ]
          },
          "metadata": {},
          "execution_count": 29
        }
      ]
    },
    {
      "cell_type": "code",
      "source": [
        "# for all the days the where market was low or flat --> -1\n",
        "# for all the days where market was high --> 1"
      ],
      "metadata": {
        "id": "Nq8hXwx2OcVZ"
      },
      "execution_count": null,
      "outputs": []
    },
    {
      "cell_type": "code",
      "source": [
        "arr[arr >= 0] = 1\n",
        "arr[arr < 0] = -1"
      ],
      "metadata": {
        "id": "hvZ1GRR0Ol9d"
      },
      "execution_count": null,
      "outputs": []
    },
    {
      "cell_type": "code",
      "source": [
        "arr"
      ],
      "metadata": {
        "colab": {
          "base_uri": "https://localhost:8080/"
        },
        "id": "dC5Om7I9OvhP",
        "outputId": "7020c1fd-6ada-4dfe-fea1-684e343ace0a"
      },
      "execution_count": null,
      "outputs": [
        {
          "output_type": "execute_result",
          "data": {
            "text/plain": [
              "array([-1,  1,  1,  1, -1,  1, -1, -1,  1,  1])"
            ]
          },
          "metadata": {},
          "execution_count": 37
        }
      ]
    },
    {
      "cell_type": "code",
      "source": [
        "np.where(arr > 0, 1, -1)"
      ],
      "metadata": {
        "colab": {
          "base_uri": "https://localhost:8080/"
        },
        "id": "-0VxKHoyO6xT",
        "outputId": "1fa85db4-b7de-484e-805f-7dc957b0c455"
      },
      "execution_count": null,
      "outputs": [
        {
          "output_type": "execute_result",
          "data": {
            "text/plain": [
              "array([-1,  1,  1,  1, -1,  1, -1, -1,  1,  1])"
            ]
          },
          "metadata": {},
          "execution_count": 38
        }
      ]
    },
    {
      "cell_type": "code",
      "source": [
        "a = np.array([2,30,41,7,17,52])\n",
        "a"
      ],
      "metadata": {
        "colab": {
          "base_uri": "https://localhost:8080/"
        },
        "id": "LyyW4fdUPPf6",
        "outputId": "7b75a3a7-22be-49e8-82da-a02c3ebef61d"
      },
      "execution_count": null,
      "outputs": [
        {
          "output_type": "execute_result",
          "data": {
            "text/plain": [
              "array([ 2, 30, 41,  7, 17, 52])"
            ]
          },
          "metadata": {},
          "execution_count": 39
        }
      ]
    },
    {
      "cell_type": "code",
      "source": [
        "np.sort(a)"
      ],
      "metadata": {
        "colab": {
          "base_uri": "https://localhost:8080/"
        },
        "id": "AhL-rWZuPi08",
        "outputId": "022baa00-4d13-4857-97be-80c91f52e717"
      },
      "execution_count": null,
      "outputs": [
        {
          "output_type": "execute_result",
          "data": {
            "text/plain": [
              "array([ 2,  7, 17, 30, 41, 52])"
            ]
          },
          "metadata": {},
          "execution_count": 40
        }
      ]
    },
    {
      "cell_type": "code",
      "source": [
        "a = np.arange(9,0,-1).reshape(3,3)\n",
        "a"
      ],
      "metadata": {
        "colab": {
          "base_uri": "https://localhost:8080/"
        },
        "id": "1BG8gIVcPnU8",
        "outputId": "891a23ad-2686-40e1-ce8a-d1bd4c2406b0"
      },
      "execution_count": null,
      "outputs": [
        {
          "output_type": "execute_result",
          "data": {
            "text/plain": [
              "array([[9, 8, 7],\n",
              "       [6, 5, 4],\n",
              "       [3, 2, 1]])"
            ]
          },
          "metadata": {},
          "execution_count": 41
        }
      ]
    },
    {
      "cell_type": "code",
      "source": [
        "np.sort(a) # axis=1"
      ],
      "metadata": {
        "colab": {
          "base_uri": "https://localhost:8080/"
        },
        "id": "kO9yXEzSPsf0",
        "outputId": "60f36c27-c8af-49fe-ebb1-0aab8086f2fe"
      },
      "execution_count": null,
      "outputs": [
        {
          "output_type": "execute_result",
          "data": {
            "text/plain": [
              "array([[7, 8, 9],\n",
              "       [4, 5, 6],\n",
              "       [1, 2, 3]])"
            ]
          },
          "metadata": {},
          "execution_count": 42
        }
      ]
    },
    {
      "cell_type": "code",
      "source": [
        "# Generally, if axis is not mentioned, by default it is axis=0 for 80% of functions\n",
        "# But for sorting, if axis is not mentioned, then it performs sorting \"along last axis\""
      ],
      "metadata": {
        "id": "Y7T0ziniP91G"
      },
      "execution_count": null,
      "outputs": []
    },
    {
      "cell_type": "code",
      "source": [
        "# HW: How to perform reverse sorting in numpy\n",
        "# Hint: something something ::-1"
      ],
      "metadata": {
        "id": "V5HN9v7tQP8U"
      },
      "execution_count": null,
      "outputs": []
    },
    {
      "cell_type": "code",
      "source": [
        "# argmin --> index at which minimum value is present"
      ],
      "metadata": {
        "id": "86804ZekRESC"
      },
      "execution_count": null,
      "outputs": []
    },
    {
      "cell_type": "code",
      "source": [
        "a = np.array([2,30,41,7,17,52])\n",
        "a"
      ],
      "metadata": {
        "colab": {
          "base_uri": "https://localhost:8080/"
        },
        "id": "fA-7TudiRMwj",
        "outputId": "7914b6e0-b540-4eef-e1d0-ae1d4b973b3f"
      },
      "execution_count": null,
      "outputs": [
        {
          "output_type": "execute_result",
          "data": {
            "text/plain": [
              "array([ 2, 30, 41,  7, 17, 52])"
            ]
          },
          "metadata": {},
          "execution_count": 46
        }
      ]
    },
    {
      "cell_type": "code",
      "source": [
        "np.argsort(a) # indexes of sorted array"
      ],
      "metadata": {
        "colab": {
          "base_uri": "https://localhost:8080/"
        },
        "id": "YXZArYZxRP0q",
        "outputId": "3d7609ff-c13e-4028-cd5f-bea168bc00b9"
      },
      "execution_count": null,
      "outputs": [
        {
          "output_type": "execute_result",
          "data": {
            "text/plain": [
              "array([0, 3, 4, 1, 2, 5])"
            ]
          },
          "metadata": {},
          "execution_count": 47
        }
      ]
    },
    {
      "cell_type": "code",
      "source": [
        "!gdown 1vk1Pu0djiYcrdc85yUXZ_Rqq2oZNcohd"
      ],
      "metadata": {
        "colab": {
          "base_uri": "https://localhost:8080/"
        },
        "id": "EusrNMz_RXkx",
        "outputId": "d4cb44af-fc64-470e-900e-22cc47e1e13a"
      },
      "execution_count": null,
      "outputs": [
        {
          "output_type": "stream",
          "name": "stdout",
          "text": [
            "Downloading...\n",
            "From: https://drive.google.com/uc?id=1vk1Pu0djiYcrdc85yUXZ_Rqq2oZNcohd\n",
            "To: /content/fit.txt\n",
            "\r  0% 0.00/3.43k [00:00<?, ?B/s]\r100% 3.43k/3.43k [00:00<00:00, 4.45MB/s]\n"
          ]
        }
      ]
    },
    {
      "cell_type": "code",
      "source": [
        "data = np.loadtxt(\"fit.txt\", dtype=\"str\")"
      ],
      "metadata": {
        "id": "GqMosBNxUNhJ"
      },
      "execution_count": null,
      "outputs": []
    },
    {
      "cell_type": "code",
      "source": [
        "data[:5]"
      ],
      "metadata": {
        "colab": {
          "base_uri": "https://localhost:8080/"
        },
        "id": "XF2bN7CjUme9",
        "outputId": "ed7140ec-e66b-41e7-d615-477e2c1594b3"
      },
      "execution_count": null,
      "outputs": [
        {
          "output_type": "execute_result",
          "data": {
            "text/plain": [
              "array([['06-10-2017', '5464', 'Neutral', '181', '5', 'Inactive'],\n",
              "       ['07-10-2017', '6041', 'Sad', '197', '8', 'Inactive'],\n",
              "       ['08-10-2017', '25', 'Sad', '0', '5', 'Inactive'],\n",
              "       ['09-10-2017', '5461', 'Sad', '174', '4', 'Inactive'],\n",
              "       ['10-10-2017', '6915', 'Neutral', '223', '5', 'Active']],\n",
              "      dtype='<U10')"
            ]
          },
          "metadata": {},
          "execution_count": 51
        }
      ]
    },
    {
      "cell_type": "code",
      "source": [
        "data.shape"
      ],
      "metadata": {
        "colab": {
          "base_uri": "https://localhost:8080/"
        },
        "id": "LSn6oewBUsS_",
        "outputId": "6acb2317-d22e-4960-d182-1272fb48313f"
      },
      "execution_count": null,
      "outputs": [
        {
          "output_type": "execute_result",
          "data": {
            "text/plain": [
              "(96, 6)"
            ]
          },
          "metadata": {},
          "execution_count": 52
        }
      ]
    },
    {
      "cell_type": "code",
      "source": [
        "data[0, :]"
      ],
      "metadata": {
        "colab": {
          "base_uri": "https://localhost:8080/"
        },
        "id": "OESaJvfZUwbi",
        "outputId": "eca26cfa-d707-44a2-f6c8-a287deb3ca71"
      },
      "execution_count": null,
      "outputs": [
        {
          "output_type": "execute_result",
          "data": {
            "text/plain": [
              "array(['06-10-2017', '5464', 'Neutral', '181', '5', 'Inactive'],\n",
              "      dtype='<U10')"
            ]
          },
          "metadata": {},
          "execution_count": 53
        }
      ]
    },
    {
      "cell_type": "code",
      "source": [
        "data[0]"
      ],
      "metadata": {
        "colab": {
          "base_uri": "https://localhost:8080/"
        },
        "id": "rdSMSyZtU_29",
        "outputId": "983ec07b-c428-429e-be00-8e7436da81ab"
      },
      "execution_count": null,
      "outputs": [
        {
          "output_type": "execute_result",
          "data": {
            "text/plain": [
              "array(['06-10-2017', '5464', 'Neutral', '181', '5', 'Inactive'],\n",
              "      dtype='<U10')"
            ]
          },
          "metadata": {},
          "execution_count": 54
        }
      ]
    },
    {
      "cell_type": "code",
      "source": [
        "data.T[0] # transpose followed by extracting first row from the transposed matrix --> 1st col"
      ],
      "metadata": {
        "colab": {
          "base_uri": "https://localhost:8080/"
        },
        "id": "eWFQXEjhVBNC",
        "outputId": "35108f99-7256-4269-8671-0595327d9e2b"
      },
      "execution_count": null,
      "outputs": [
        {
          "output_type": "execute_result",
          "data": {
            "text/plain": [
              "array(['06-10-2017', '07-10-2017', '08-10-2017', '09-10-2017',\n",
              "       '10-10-2017', '11-10-2017', '12-10-2017', '13-10-2017',\n",
              "       '14-10-2017', '15-10-2017', '16-10-2017', '17-10-2017',\n",
              "       '18-10-2017', '19-10-2017', '20-10-2017', '21-10-2017',\n",
              "       '22-10-2017', '23-10-2017', '24-10-2017', '25-10-2017',\n",
              "       '26-10-2017', '27-10-2017', '28-10-2017', '29-10-2017',\n",
              "       '30-10-2017', '31-10-2017', '01-11-2017', '02-11-2017',\n",
              "       '03-11-2017', '04-11-2017', '05-11-2017', '06-11-2017',\n",
              "       '07-11-2017', '08-11-2017', '09-11-2017', '10-11-2017',\n",
              "       '11-11-2017', '12-11-2017', '13-11-2017', '14-11-2017',\n",
              "       '15-11-2017', '16-11-2017', '17-11-2017', '18-11-2017',\n",
              "       '19-11-2017', '20-11-2017', '21-11-2017', '22-11-2017',\n",
              "       '23-11-2017', '24-11-2017', '25-11-2017', '26-11-2017',\n",
              "       '27-11-2017', '28-11-2017', '29-11-2017', '30-11-2017',\n",
              "       '01-12-2017', '02-12-2017', '03-12-2017', '04-12-2017',\n",
              "       '05-12-2017', '06-12-2017', '07-12-2017', '08-12-2017',\n",
              "       '09-12-2017', '10-12-2017', '11-12-2017', '12-12-2017',\n",
              "       '13-12-2017', '14-12-2017', '15-12-2017', '16-12-2017',\n",
              "       '17-12-2017', '18-12-2017', '19-12-2017', '20-12-2017',\n",
              "       '21-12-2017', '22-12-2017', '23-12-2017', '24-12-2017',\n",
              "       '25-12-2017', '26-12-2017', '27-12-2017', '28-12-2017',\n",
              "       '29-12-2017', '30-12-2017', '31-12-2017', '01-01-2018',\n",
              "       '02-01-2018', '03-01-2018', '04-01-2018', '05-01-2018',\n",
              "       '06-01-2018', '07-01-2018', '08-01-2018', '09-01-2018'],\n",
              "      dtype='<U10')"
            ]
          },
          "metadata": {},
          "execution_count": 55
        }
      ]
    },
    {
      "cell_type": "code",
      "source": [
        "data.T[[0, 1]]"
      ],
      "metadata": {
        "colab": {
          "base_uri": "https://localhost:8080/"
        },
        "id": "La4JtJGWVVtp",
        "outputId": "492ed827-30ef-4175-de27-a3f7d7e41ad3"
      },
      "execution_count": null,
      "outputs": [
        {
          "output_type": "execute_result",
          "data": {
            "text/plain": [
              "array([['06-10-2017', '07-10-2017', '08-10-2017', '09-10-2017',\n",
              "        '10-10-2017', '11-10-2017', '12-10-2017', '13-10-2017',\n",
              "        '14-10-2017', '15-10-2017', '16-10-2017', '17-10-2017',\n",
              "        '18-10-2017', '19-10-2017', '20-10-2017', '21-10-2017',\n",
              "        '22-10-2017', '23-10-2017', '24-10-2017', '25-10-2017',\n",
              "        '26-10-2017', '27-10-2017', '28-10-2017', '29-10-2017',\n",
              "        '30-10-2017', '31-10-2017', '01-11-2017', '02-11-2017',\n",
              "        '03-11-2017', '04-11-2017', '05-11-2017', '06-11-2017',\n",
              "        '07-11-2017', '08-11-2017', '09-11-2017', '10-11-2017',\n",
              "        '11-11-2017', '12-11-2017', '13-11-2017', '14-11-2017',\n",
              "        '15-11-2017', '16-11-2017', '17-11-2017', '18-11-2017',\n",
              "        '19-11-2017', '20-11-2017', '21-11-2017', '22-11-2017',\n",
              "        '23-11-2017', '24-11-2017', '25-11-2017', '26-11-2017',\n",
              "        '27-11-2017', '28-11-2017', '29-11-2017', '30-11-2017',\n",
              "        '01-12-2017', '02-12-2017', '03-12-2017', '04-12-2017',\n",
              "        '05-12-2017', '06-12-2017', '07-12-2017', '08-12-2017',\n",
              "        '09-12-2017', '10-12-2017', '11-12-2017', '12-12-2017',\n",
              "        '13-12-2017', '14-12-2017', '15-12-2017', '16-12-2017',\n",
              "        '17-12-2017', '18-12-2017', '19-12-2017', '20-12-2017',\n",
              "        '21-12-2017', '22-12-2017', '23-12-2017', '24-12-2017',\n",
              "        '25-12-2017', '26-12-2017', '27-12-2017', '28-12-2017',\n",
              "        '29-12-2017', '30-12-2017', '31-12-2017', '01-01-2018',\n",
              "        '02-01-2018', '03-01-2018', '04-01-2018', '05-01-2018',\n",
              "        '06-01-2018', '07-01-2018', '08-01-2018', '09-01-2018'],\n",
              "       ['5464', '6041', '25', '5461', '6915', '4545', '4340', '1230',\n",
              "        '61', '1258', '3148', '4687', '4732', '3519', '1580', '2822',\n",
              "        '181', '3158', '4383', '3881', '4037', '202', '292', '330',\n",
              "        '2209', '4550', '4435', '4779', '1831', '2255', '539', '5464',\n",
              "        '6041', '4068', '4683', '4033', '6314', '614', '3149', '4005',\n",
              "        '4880', '4136', '705', '570', '269', '4275', '5999', '4421',\n",
              "        '6930', '5195', '546', '493', '995', '1163', '6676', '3608',\n",
              "        '774', '1421', '4064', '2725', '5934', '1867', '3721', '2374',\n",
              "        '2909', '1648', '799', '7102', '3941', '7422', '437', '1231',\n",
              "        '1696', '4921', '221', '6500', '3575', '4061', '651', '753',\n",
              "        '518', '5537', '4108', '5376', '3066', '177', '36', '299',\n",
              "        '1447', '2599', '702', '133', '153', '500', '2127', '2203']],\n",
              "      dtype='<U10')"
            ]
          },
          "metadata": {},
          "execution_count": 56
        }
      ]
    },
    {
      "cell_type": "code",
      "source": [
        "a, b = data.T[[0, 1]]"
      ],
      "metadata": {
        "id": "BVtKC6ESVgjV"
      },
      "execution_count": null,
      "outputs": []
    },
    {
      "cell_type": "code",
      "source": [
        "a"
      ],
      "metadata": {
        "colab": {
          "base_uri": "https://localhost:8080/"
        },
        "id": "yEIoDyrLVa85",
        "outputId": "33982f43-489f-471d-d441-972dd4868e99"
      },
      "execution_count": null,
      "outputs": [
        {
          "output_type": "execute_result",
          "data": {
            "text/plain": [
              "array(['06-10-2017', '07-10-2017', '08-10-2017', '09-10-2017',\n",
              "       '10-10-2017', '11-10-2017', '12-10-2017', '13-10-2017',\n",
              "       '14-10-2017', '15-10-2017', '16-10-2017', '17-10-2017',\n",
              "       '18-10-2017', '19-10-2017', '20-10-2017', '21-10-2017',\n",
              "       '22-10-2017', '23-10-2017', '24-10-2017', '25-10-2017',\n",
              "       '26-10-2017', '27-10-2017', '28-10-2017', '29-10-2017',\n",
              "       '30-10-2017', '31-10-2017', '01-11-2017', '02-11-2017',\n",
              "       '03-11-2017', '04-11-2017', '05-11-2017', '06-11-2017',\n",
              "       '07-11-2017', '08-11-2017', '09-11-2017', '10-11-2017',\n",
              "       '11-11-2017', '12-11-2017', '13-11-2017', '14-11-2017',\n",
              "       '15-11-2017', '16-11-2017', '17-11-2017', '18-11-2017',\n",
              "       '19-11-2017', '20-11-2017', '21-11-2017', '22-11-2017',\n",
              "       '23-11-2017', '24-11-2017', '25-11-2017', '26-11-2017',\n",
              "       '27-11-2017', '28-11-2017', '29-11-2017', '30-11-2017',\n",
              "       '01-12-2017', '02-12-2017', '03-12-2017', '04-12-2017',\n",
              "       '05-12-2017', '06-12-2017', '07-12-2017', '08-12-2017',\n",
              "       '09-12-2017', '10-12-2017', '11-12-2017', '12-12-2017',\n",
              "       '13-12-2017', '14-12-2017', '15-12-2017', '16-12-2017',\n",
              "       '17-12-2017', '18-12-2017', '19-12-2017', '20-12-2017',\n",
              "       '21-12-2017', '22-12-2017', '23-12-2017', '24-12-2017',\n",
              "       '25-12-2017', '26-12-2017', '27-12-2017', '28-12-2017',\n",
              "       '29-12-2017', '30-12-2017', '31-12-2017', '01-01-2018',\n",
              "       '02-01-2018', '03-01-2018', '04-01-2018', '05-01-2018',\n",
              "       '06-01-2018', '07-01-2018', '08-01-2018', '09-01-2018'],\n",
              "      dtype='<U10')"
            ]
          },
          "metadata": {},
          "execution_count": 58
        }
      ]
    },
    {
      "cell_type": "code",
      "source": [
        "b"
      ],
      "metadata": {
        "colab": {
          "base_uri": "https://localhost:8080/"
        },
        "id": "Rekb7tdxVixn",
        "outputId": "a7449523-88ab-40d7-adef-22efc541e630"
      },
      "execution_count": null,
      "outputs": [
        {
          "output_type": "execute_result",
          "data": {
            "text/plain": [
              "array(['5464', '6041', '25', '5461', '6915', '4545', '4340', '1230', '61',\n",
              "       '1258', '3148', '4687', '4732', '3519', '1580', '2822', '181',\n",
              "       '3158', '4383', '3881', '4037', '202', '292', '330', '2209',\n",
              "       '4550', '4435', '4779', '1831', '2255', '539', '5464', '6041',\n",
              "       '4068', '4683', '4033', '6314', '614', '3149', '4005', '4880',\n",
              "       '4136', '705', '570', '269', '4275', '5999', '4421', '6930',\n",
              "       '5195', '546', '493', '995', '1163', '6676', '3608', '774', '1421',\n",
              "       '4064', '2725', '5934', '1867', '3721', '2374', '2909', '1648',\n",
              "       '799', '7102', '3941', '7422', '437', '1231', '1696', '4921',\n",
              "       '221', '6500', '3575', '4061', '651', '753', '518', '5537', '4108',\n",
              "       '5376', '3066', '177', '36', '299', '1447', '2599', '702', '133',\n",
              "       '153', '500', '2127', '2203'], dtype='<U10')"
            ]
          },
          "metadata": {},
          "execution_count": 59
        }
      ]
    },
    {
      "cell_type": "code",
      "source": [
        "date, step_count, mood, calories_burned, hours_of_sleep, activity_status = data.T"
      ],
      "metadata": {
        "id": "xfr8cbNTVklh"
      },
      "execution_count": null,
      "outputs": []
    },
    {
      "cell_type": "code",
      "source": [
        "mood"
      ],
      "metadata": {
        "colab": {
          "base_uri": "https://localhost:8080/"
        },
        "id": "KejI-7jSV0tc",
        "outputId": "6c5f4ac3-b31e-426a-83bc-14c7c37a48ce"
      },
      "execution_count": null,
      "outputs": [
        {
          "output_type": "execute_result",
          "data": {
            "text/plain": [
              "array(['Neutral', 'Sad', 'Sad', 'Sad', 'Neutral', 'Sad', 'Sad', 'Sad',\n",
              "       'Sad', 'Sad', 'Sad', 'Sad', 'Happy', 'Sad', 'Sad', 'Sad', 'Sad',\n",
              "       'Neutral', 'Neutral', 'Neutral', 'Neutral', 'Neutral', 'Neutral',\n",
              "       'Happy', 'Neutral', 'Happy', 'Happy', 'Happy', 'Happy', 'Happy',\n",
              "       'Happy', 'Happy', 'Neutral', 'Happy', 'Happy', 'Happy', 'Happy',\n",
              "       'Happy', 'Happy', 'Happy', 'Happy', 'Happy', 'Happy', 'Neutral',\n",
              "       'Happy', 'Happy', 'Happy', 'Happy', 'Happy', 'Happy', 'Happy',\n",
              "       'Happy', 'Happy', 'Neutral', 'Sad', 'Happy', 'Happy', 'Happy',\n",
              "       'Happy', 'Happy', 'Happy', 'Happy', 'Sad', 'Neutral', 'Neutral',\n",
              "       'Sad', 'Sad', 'Neutral', 'Neutral', 'Happy', 'Neutral', 'Neutral',\n",
              "       'Sad', 'Neutral', 'Sad', 'Neutral', 'Neutral', 'Sad', 'Sad', 'Sad',\n",
              "       'Sad', 'Happy', 'Neutral', 'Happy', 'Neutral', 'Sad', 'Sad', 'Sad',\n",
              "       'Neutral', 'Neutral', 'Sad', 'Sad', 'Happy', 'Neutral', 'Neutral',\n",
              "       'Happy'], dtype='<U10')"
            ]
          },
          "metadata": {},
          "execution_count": 61
        }
      ]
    },
    {
      "cell_type": "code",
      "source": [
        "step_count = np.array(step_count, dtype=\"int\")\n",
        "step_count"
      ],
      "metadata": {
        "colab": {
          "base_uri": "https://localhost:8080/"
        },
        "id": "3OsKkQJ_V1tz",
        "outputId": "8434e7c1-8a22-4adc-8cc1-ce4e40e65b19"
      },
      "execution_count": null,
      "outputs": [
        {
          "output_type": "execute_result",
          "data": {
            "text/plain": [
              "array([5464, 6041,   25, 5461, 6915, 4545, 4340, 1230,   61, 1258, 3148,\n",
              "       4687, 4732, 3519, 1580, 2822,  181, 3158, 4383, 3881, 4037,  202,\n",
              "        292,  330, 2209, 4550, 4435, 4779, 1831, 2255,  539, 5464, 6041,\n",
              "       4068, 4683, 4033, 6314,  614, 3149, 4005, 4880, 4136,  705,  570,\n",
              "        269, 4275, 5999, 4421, 6930, 5195,  546,  493,  995, 1163, 6676,\n",
              "       3608,  774, 1421, 4064, 2725, 5934, 1867, 3721, 2374, 2909, 1648,\n",
              "        799, 7102, 3941, 7422,  437, 1231, 1696, 4921,  221, 6500, 3575,\n",
              "       4061,  651,  753,  518, 5537, 4108, 5376, 3066,  177,   36,  299,\n",
              "       1447, 2599,  702,  133,  153,  500, 2127, 2203])"
            ]
          },
          "metadata": {},
          "execution_count": 64
        }
      ]
    },
    {
      "cell_type": "code",
      "source": [
        "calories_burned = np.array(calories_burned, dtype = 'int')\n",
        "calories_burned.dtype"
      ],
      "metadata": {
        "colab": {
          "base_uri": "https://localhost:8080/"
        },
        "id": "rXPPOaTuV9Bt",
        "outputId": "e015b3e3-76d5-45a9-a4ce-bd5f3548a83f"
      },
      "execution_count": null,
      "outputs": [
        {
          "output_type": "execute_result",
          "data": {
            "text/plain": [
              "dtype('int64')"
            ]
          },
          "metadata": {},
          "execution_count": 65
        }
      ]
    },
    {
      "cell_type": "code",
      "source": [
        "hours_of_sleep = np.array(hours_of_sleep, dtype = 'int')\n",
        "hours_of_sleep.dtype"
      ],
      "metadata": {
        "colab": {
          "base_uri": "https://localhost:8080/"
        },
        "id": "-PulfR2pWUP8",
        "outputId": "45eba005-ad29-4a6c-b462-0907c9f1cca0"
      },
      "execution_count": null,
      "outputs": [
        {
          "output_type": "execute_result",
          "data": {
            "text/plain": [
              "dtype('int64')"
            ]
          },
          "metadata": {},
          "execution_count": 66
        }
      ]
    },
    {
      "cell_type": "code",
      "source": [
        "mood"
      ],
      "metadata": {
        "colab": {
          "base_uri": "https://localhost:8080/"
        },
        "id": "QBt_bxFPWWHc",
        "outputId": "aaafe348-5db5-41e0-fdbb-87db4f9de107"
      },
      "execution_count": null,
      "outputs": [
        {
          "output_type": "execute_result",
          "data": {
            "text/plain": [
              "array(['Neutral', 'Sad', 'Sad', 'Sad', 'Neutral', 'Sad', 'Sad', 'Sad',\n",
              "       'Sad', 'Sad', 'Sad', 'Sad', 'Happy', 'Sad', 'Sad', 'Sad', 'Sad',\n",
              "       'Neutral', 'Neutral', 'Neutral', 'Neutral', 'Neutral', 'Neutral',\n",
              "       'Happy', 'Neutral', 'Happy', 'Happy', 'Happy', 'Happy', 'Happy',\n",
              "       'Happy', 'Happy', 'Neutral', 'Happy', 'Happy', 'Happy', 'Happy',\n",
              "       'Happy', 'Happy', 'Happy', 'Happy', 'Happy', 'Happy', 'Neutral',\n",
              "       'Happy', 'Happy', 'Happy', 'Happy', 'Happy', 'Happy', 'Happy',\n",
              "       'Happy', 'Happy', 'Neutral', 'Sad', 'Happy', 'Happy', 'Happy',\n",
              "       'Happy', 'Happy', 'Happy', 'Happy', 'Sad', 'Neutral', 'Neutral',\n",
              "       'Sad', 'Sad', 'Neutral', 'Neutral', 'Happy', 'Neutral', 'Neutral',\n",
              "       'Sad', 'Neutral', 'Sad', 'Neutral', 'Neutral', 'Sad', 'Sad', 'Sad',\n",
              "       'Sad', 'Happy', 'Neutral', 'Happy', 'Neutral', 'Sad', 'Sad', 'Sad',\n",
              "       'Neutral', 'Neutral', 'Sad', 'Sad', 'Happy', 'Neutral', 'Neutral',\n",
              "       'Happy'], dtype='<U10')"
            ]
          },
          "metadata": {},
          "execution_count": 67
        }
      ]
    },
    {
      "cell_type": "code",
      "source": [
        "np.unique(mood, return_counts=True)"
      ],
      "metadata": {
        "colab": {
          "base_uri": "https://localhost:8080/"
        },
        "id": "-AeW4VoAWY64",
        "outputId": "0e2886ab-a991-4437-f2ed-612e52b6d5ca"
      },
      "execution_count": null,
      "outputs": [
        {
          "output_type": "execute_result",
          "data": {
            "text/plain": [
              "(array(['Happy', 'Neutral', 'Sad'], dtype='<U10'), array([40, 27, 29]))"
            ]
          },
          "metadata": {},
          "execution_count": 69
        }
      ]
    },
    {
      "cell_type": "code",
      "source": [
        "# Whats the average step_count?\n",
        "np.mean(step_count)"
      ],
      "metadata": {
        "colab": {
          "base_uri": "https://localhost:8080/"
        },
        "id": "6D2zbP63Wly5",
        "outputId": "540570a4-0ec5-4e1d-cfeb-275c0e44a026"
      },
      "execution_count": null,
      "outputs": [
        {
          "output_type": "execute_result",
          "data": {
            "text/plain": [
              "2935.9375"
            ]
          },
          "metadata": {},
          "execution_count": 70
        }
      ]
    },
    {
      "cell_type": "code",
      "source": [
        "# On which date the step count was highest?\n",
        "# date, step_count, mood, calories_burned, hours_of_sleep, activity_status"
      ],
      "metadata": {
        "id": "MyHhbM5NXLiS"
      },
      "execution_count": null,
      "outputs": []
    },
    {
      "cell_type": "code",
      "source": [
        "date[np.argmax(step_count)]"
      ],
      "metadata": {
        "colab": {
          "base_uri": "https://localhost:8080/",
          "height": 35
        },
        "id": "NJNDEHeAXXHD",
        "outputId": "01de1b40-d638-4aed-cbfc-e1dc0557479b"
      },
      "execution_count": null,
      "outputs": [
        {
          "output_type": "execute_result",
          "data": {
            "text/plain": [
              "'14-12-2017'"
            ],
            "application/vnd.google.colaboratory.intrinsic+json": {
              "type": "string"
            }
          },
          "metadata": {},
          "execution_count": 73
        }
      ]
    },
    {
      "cell_type": "code",
      "source": [
        "calories_burned[np.argmax(step_count)]"
      ],
      "metadata": {
        "colab": {
          "base_uri": "https://localhost:8080/"
        },
        "id": "epWKFVetXrao",
        "outputId": "b3cebcb7-c1c3-4ed4-865e-695ef93a5bba"
      },
      "execution_count": null,
      "outputs": [
        {
          "output_type": "execute_result",
          "data": {
            "text/plain": [
              "243"
            ]
          },
          "metadata": {},
          "execution_count": 74
        }
      ]
    },
    {
      "cell_type": "code",
      "source": [
        "np.max(step_count)"
      ],
      "metadata": {
        "colab": {
          "base_uri": "https://localhost:8080/"
        },
        "id": "E5wTLbZmX47q",
        "outputId": "4bf0b3ca-56c3-45fd-eed7-be880a31284b"
      },
      "execution_count": null,
      "outputs": [
        {
          "output_type": "execute_result",
          "data": {
            "text/plain": [
              "7422"
            ]
          },
          "metadata": {},
          "execution_count": 75
        }
      ]
    },
    {
      "cell_type": "code",
      "source": [
        " # Mood <---> Step Counts"
      ],
      "metadata": {
        "id": "Ke0I9ucIX9kX"
      },
      "execution_count": null,
      "outputs": []
    },
    {
      "cell_type": "code",
      "source": [
        "# Avg step count for sad days, neutral, and happy days"
      ],
      "metadata": {
        "id": "nbTnqQYhYHC6"
      },
      "execution_count": null,
      "outputs": []
    },
    {
      "cell_type": "code",
      "source": [
        "# Average step count for the days\n",
        "# step counts for the sad days\n",
        "np.mean(step_count[mood == \"Sad\"])"
      ],
      "metadata": {
        "colab": {
          "base_uri": "https://localhost:8080/"
        },
        "id": "jNwQl_f4YNEk",
        "outputId": "c1ac040c-5bb9-40e1-ecb0-164e41c0fa5d"
      },
      "execution_count": null,
      "outputs": [
        {
          "output_type": "execute_result",
          "data": {
            "text/plain": [
              "2103.0689655172414"
            ]
          },
          "metadata": {},
          "execution_count": 80
        }
      ]
    },
    {
      "cell_type": "code",
      "source": [
        "np.sort(step_count[mood == \"Sad\"])"
      ],
      "metadata": {
        "colab": {
          "base_uri": "https://localhost:8080/"
        },
        "id": "uZtWAuTmYu3j",
        "outputId": "4deaad5b-ba52-4a2f-e873-dee42bad185d"
      },
      "execution_count": null,
      "outputs": [
        {
          "output_type": "execute_result",
          "data": {
            "text/plain": [
              "array([  25,   36,   61,  133,  177,  181,  221,  299,  518,  651,  702,\n",
              "        753,  799, 1230, 1258, 1580, 1648, 1696, 2822, 3148, 3519, 3721,\n",
              "       4061, 4340, 4545, 4687, 5461, 6041, 6676])"
            ]
          },
          "metadata": {},
          "execution_count": 81
        }
      ]
    },
    {
      "cell_type": "code",
      "source": [
        "np.mean(step_count[mood == \"Sad\"])"
      ],
      "metadata": {
        "colab": {
          "base_uri": "https://localhost:8080/"
        },
        "id": "h0rAwGZVY52A",
        "outputId": "0290c55e-4853-403b-ed87-1d7667b47366"
      },
      "execution_count": null,
      "outputs": [
        {
          "output_type": "execute_result",
          "data": {
            "text/plain": [
              "2103.0689655172414"
            ]
          },
          "metadata": {},
          "execution_count": 85
        }
      ]
    },
    {
      "cell_type": "code",
      "source": [
        "np.mean(step_count[mood == \"Happy\"])"
      ],
      "metadata": {
        "colab": {
          "base_uri": "https://localhost:8080/"
        },
        "id": "EcDvJVIhY9iw",
        "outputId": "20037f8c-1b18-4abe-ec0b-69bbe5ba5132"
      },
      "execution_count": null,
      "outputs": [
        {
          "output_type": "execute_result",
          "data": {
            "text/plain": [
              "3392.725"
            ]
          },
          "metadata": {},
          "execution_count": 83
        }
      ]
    },
    {
      "cell_type": "code",
      "source": [
        "np.mean(step_count[mood == \"Neutral\"])"
      ],
      "metadata": {
        "colab": {
          "base_uri": "https://localhost:8080/"
        },
        "id": "oDJsFsV0ZCWl",
        "outputId": "778d0055-3101-4a89-f534-1a1eece95929"
      },
      "execution_count": null,
      "outputs": [
        {
          "output_type": "execute_result",
          "data": {
            "text/plain": [
              "3153.777777777778"
            ]
          },
          "metadata": {},
          "execution_count": 84
        }
      ]
    },
    {
      "cell_type": "code",
      "source": [
        "np.unique(mood[step_count > np.mean(step_count)], return_counts=True)"
      ],
      "metadata": {
        "colab": {
          "base_uri": "https://localhost:8080/"
        },
        "id": "VWH8zLqyZGdG",
        "outputId": "0b23ab52-a31c-4164-86b5-ffcdeec5a318"
      },
      "execution_count": null,
      "outputs": [
        {
          "output_type": "execute_result",
          "data": {
            "text/plain": [
              "(array(['Happy', 'Neutral', 'Sad'], dtype='<U10'), array([24, 14, 10]))"
            ]
          },
          "metadata": {},
          "execution_count": 90
        }
      ]
    },
    {
      "cell_type": "code",
      "source": [
        "np.unique(mood[step_count < np.mean(step_count)], return_counts = True)"
      ],
      "metadata": {
        "colab": {
          "base_uri": "https://localhost:8080/"
        },
        "id": "V2SXb1c2Zgov",
        "outputId": "d3b250b6-1c31-4afe-b8e8-64a95b4c15b3"
      },
      "execution_count": null,
      "outputs": [
        {
          "output_type": "execute_result",
          "data": {
            "text/plain": [
              "(array(['Happy', 'Neutral', 'Sad'], dtype='<U10'), array([16, 13, 19]))"
            ]
          },
          "metadata": {},
          "execution_count": 91
        }
      ]
    },
    {
      "cell_type": "code",
      "source": [
        "# Reshape"
      ],
      "metadata": {
        "id": "t5JfqWtfavzf"
      },
      "execution_count": null,
      "outputs": []
    },
    {
      "cell_type": "code",
      "source": [
        "A = np.arange(12).reshape(3,4)\n",
        "A"
      ],
      "metadata": {
        "colab": {
          "base_uri": "https://localhost:8080/"
        },
        "id": "zFJjOaPKaw5B",
        "outputId": "18973916-6995-4dff-e5c2-a1677bacd15c"
      },
      "execution_count": null,
      "outputs": [
        {
          "output_type": "execute_result",
          "data": {
            "text/plain": [
              "array([[ 0,  1,  2,  3],\n",
              "       [ 4,  5,  6,  7],\n",
              "       [ 8,  9, 10, 11]])"
            ]
          },
          "metadata": {},
          "execution_count": 93
        }
      ]
    },
    {
      "cell_type": "code",
      "source": [
        "A.reshape(6, 2)"
      ],
      "metadata": {
        "colab": {
          "base_uri": "https://localhost:8080/"
        },
        "id": "1cFqUtouazeb",
        "outputId": "12906edf-5744-4807-b535-869815b13a3d"
      },
      "execution_count": null,
      "outputs": [
        {
          "output_type": "execute_result",
          "data": {
            "text/plain": [
              "array([[ 0,  1],\n",
              "       [ 2,  3],\n",
              "       [ 4,  5],\n",
              "       [ 6,  7],\n",
              "       [ 8,  9],\n",
              "       [10, 11]])"
            ]
          },
          "metadata": {},
          "execution_count": 94
        }
      ]
    },
    {
      "cell_type": "code",
      "source": [
        "A.reshape(6, -1) # just like a placeholder"
      ],
      "metadata": {
        "colab": {
          "base_uri": "https://localhost:8080/"
        },
        "id": "o-7tQJrpa47T",
        "outputId": "ca883053-e4d9-4126-c5d0-37b768e41181"
      },
      "execution_count": null,
      "outputs": [
        {
          "output_type": "execute_result",
          "data": {
            "text/plain": [
              "array([[ 0,  1],\n",
              "       [ 2,  3],\n",
              "       [ 4,  5],\n",
              "       [ 6,  7],\n",
              "       [ 8,  9],\n",
              "       [10, 11]])"
            ]
          },
          "metadata": {},
          "execution_count": 95
        }
      ]
    },
    {
      "cell_type": "code",
      "source": [
        "A.reshape(-100, 4) # any neg index is a placeholder"
      ],
      "metadata": {
        "colab": {
          "base_uri": "https://localhost:8080/"
        },
        "id": "N1U4Wb81bQLC",
        "outputId": "e07b7266-cf0c-4d70-df97-f585f7646c13"
      },
      "execution_count": null,
      "outputs": [
        {
          "output_type": "execute_result",
          "data": {
            "text/plain": [
              "array([[ 0,  1,  2,  3],\n",
              "       [ 4,  5,  6,  7],\n",
              "       [ 8,  9, 10, 11]])"
            ]
          },
          "metadata": {},
          "execution_count": 98
        }
      ]
    },
    {
      "cell_type": "code",
      "source": [
        "# How many neg indexes you can provide - maximum 1\n",
        "\n",
        "# 12 elements\n",
        "# (3, 2, 2) --> (-1, 2, 2), (3, -1, 2), (3, 2, -1), (3, -1, -1)"
      ],
      "metadata": {
        "id": "tlWCyKvObR6J"
      },
      "execution_count": null,
      "outputs": []
    },
    {
      "cell_type": "code",
      "source": [
        "a = np.arange(5)\n",
        "b = np.ones(5) * 2"
      ],
      "metadata": {
        "id": "gFPdUnuucMJS"
      },
      "execution_count": null,
      "outputs": []
    },
    {
      "cell_type": "code",
      "source": [
        "a, b"
      ],
      "metadata": {
        "colab": {
          "base_uri": "https://localhost:8080/"
        },
        "id": "G1Kv6VIfcctm",
        "outputId": "7e7b7f58-de37-4ec1-f7bb-5dc266703f5f"
      },
      "execution_count": null,
      "outputs": [
        {
          "output_type": "execute_result",
          "data": {
            "text/plain": [
              "(array([0, 1, 2, 3, 4]), array([2., 2., 2., 2., 2.]))"
            ]
          },
          "metadata": {},
          "execution_count": 100
        }
      ]
    },
    {
      "cell_type": "code",
      "source": [
        "a * b"
      ],
      "metadata": {
        "colab": {
          "base_uri": "https://localhost:8080/"
        },
        "id": "diLNoj_ycdT8",
        "outputId": "21e6580e-bec8-4b7f-861c-da2eb2fe29c4"
      },
      "execution_count": null,
      "outputs": [
        {
          "output_type": "execute_result",
          "data": {
            "text/plain": [
              "array([0., 2., 4., 6., 8.])"
            ]
          },
          "metadata": {},
          "execution_count": 101
        }
      ]
    },
    {
      "cell_type": "code",
      "source": [
        "A = np.arange(12).reshape(3, 4)\n",
        "B = np.arange(12).reshape(3, 4)"
      ],
      "metadata": {
        "id": "bMx_PumWcjaB"
      },
      "execution_count": null,
      "outputs": []
    },
    {
      "cell_type": "code",
      "source": [
        "A * B # elementwise multiplication"
      ],
      "metadata": {
        "colab": {
          "base_uri": "https://localhost:8080/"
        },
        "id": "y8pZFdincr6N",
        "outputId": "e9c20563-37be-4875-f50c-0059f3fc6816"
      },
      "execution_count": null,
      "outputs": [
        {
          "output_type": "execute_result",
          "data": {
            "text/plain": [
              "array([[  0,   1,   4,   9],\n",
              "       [ 16,  25,  36,  49],\n",
              "       [ 64,  81, 100, 121]])"
            ]
          },
          "metadata": {},
          "execution_count": 103
        }
      ]
    },
    {
      "cell_type": "code",
      "source": [
        "A"
      ],
      "metadata": {
        "colab": {
          "base_uri": "https://localhost:8080/"
        },
        "id": "favNRVy7c6E2",
        "outputId": "1e980a44-941c-4f04-8736-43f83faac440"
      },
      "execution_count": null,
      "outputs": [
        {
          "output_type": "execute_result",
          "data": {
            "text/plain": [
              "array([[ 0,  1,  2,  3],\n",
              "       [ 4,  5,  6,  7],\n",
              "       [ 8,  9, 10, 11]])"
            ]
          },
          "metadata": {},
          "execution_count": 104
        }
      ]
    },
    {
      "cell_type": "code",
      "source": [
        "B = B.reshape(4, 3)\n",
        "B"
      ],
      "metadata": {
        "colab": {
          "base_uri": "https://localhost:8080/"
        },
        "id": "9k2cTOmKdoUR",
        "outputId": "64709c96-0e7e-4b2d-a4e2-e2c129f33a55"
      },
      "execution_count": null,
      "outputs": [
        {
          "output_type": "execute_result",
          "data": {
            "text/plain": [
              "array([[ 0,  1,  2],\n",
              "       [ 3,  4,  5],\n",
              "       [ 6,  7,  8],\n",
              "       [ 9, 10, 11]])"
            ]
          },
          "metadata": {},
          "execution_count": 105
        }
      ]
    },
    {
      "cell_type": "code",
      "source": [
        "A @ B"
      ],
      "metadata": {
        "colab": {
          "base_uri": "https://localhost:8080/"
        },
        "id": "xS9x5Y6LdqHf",
        "outputId": "45013ad0-2c84-4121-8b9d-7912bd381e3e"
      },
      "execution_count": null,
      "outputs": [
        {
          "output_type": "execute_result",
          "data": {
            "text/plain": [
              "array([[ 42,  48,  54],\n",
              "       [114, 136, 158],\n",
              "       [186, 224, 262]])"
            ]
          },
          "metadata": {},
          "execution_count": 106
        }
      ]
    },
    {
      "cell_type": "code",
      "source": [
        "np.matmul(A, B)"
      ],
      "metadata": {
        "colab": {
          "base_uri": "https://localhost:8080/"
        },
        "id": "AvHZFeICd29v",
        "outputId": "35b1d03b-ca01-4737-9b3e-3b4a990ebd39"
      },
      "execution_count": null,
      "outputs": [
        {
          "output_type": "execute_result",
          "data": {
            "text/plain": [
              "array([[ 42,  48,  54],\n",
              "       [114, 136, 158],\n",
              "       [186, 224, 262]])"
            ]
          },
          "metadata": {},
          "execution_count": 107
        }
      ]
    },
    {
      "cell_type": "code",
      "source": [
        "np.dot(A, B)"
      ],
      "metadata": {
        "colab": {
          "base_uri": "https://localhost:8080/"
        },
        "id": "OzCzEyB-d8DM",
        "outputId": "c60e8a3a-f743-458f-ed9a-8159a6620e9e"
      },
      "execution_count": null,
      "outputs": [
        {
          "output_type": "execute_result",
          "data": {
            "text/plain": [
              "array([[ 42,  48,  54],\n",
              "       [114, 136, 158],\n",
              "       [186, 224, 262]])"
            ]
          },
          "metadata": {},
          "execution_count": 108
        }
      ]
    },
    {
      "cell_type": "code",
      "source": [
        "a = np.array([1,2,3])\n",
        "b = np.array([1,1,1])\n",
        "np.dot(a, b) # dot product"
      ],
      "metadata": {
        "colab": {
          "base_uri": "https://localhost:8080/"
        },
        "id": "3OhOv2GMeAAc",
        "outputId": "fa868c69-b131-44af-a81f-d2224f3d75e4"
      },
      "execution_count": null,
      "outputs": [
        {
          "output_type": "execute_result",
          "data": {
            "text/plain": [
              "6"
            ]
          },
          "metadata": {},
          "execution_count": 110
        }
      ]
    }
  ]
}