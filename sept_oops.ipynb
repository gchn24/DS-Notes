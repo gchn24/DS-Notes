{
  "nbformat": 4,
  "nbformat_minor": 0,
  "metadata": {
    "colab": {
      "provenance": [],
      "include_colab_link": true
    },
    "kernelspec": {
      "name": "python3",
      "display_name": "Python 3"
    },
    "language_info": {
      "name": "python"
    }
  },
  "cells": [
    {
      "cell_type": "markdown",
      "metadata": {
        "id": "view-in-github",
        "colab_type": "text"
      },
      "source": [
        "<a href=\"https://colab.research.google.com/github/gchn24/DS-Notes/blob/main/sept_oops.ipynb\" target=\"_parent\"><img src=\"https://colab.research.google.com/assets/colab-badge.svg\" alt=\"Open In Colab\"/></a>"
      ]
    },
    {
      "cell_type": "code",
      "execution_count": null,
      "metadata": {
        "colab": {
          "base_uri": "https://localhost:8080/"
        },
        "id": "OYCeA_nZQdo7",
        "outputId": "108656d8-54bd-4899-f10c-089c84bdc928"
      },
      "outputs": [
        {
          "output_type": "stream",
          "name": "stdout",
          "text": [
            "SDR\n"
          ]
        }
      ],
      "source": [
        "print(\"SDR\")"
      ]
    },
    {
      "cell_type": "code",
      "source": [
        "class Car:\n",
        "\n",
        "  #properties\n",
        "\n",
        "  #actions/functions\n",
        "\n",
        "  pass"
      ],
      "metadata": {
        "id": "r4-xwrGUZxg7"
      },
      "execution_count": null,
      "outputs": []
    },
    {
      "cell_type": "code",
      "source": [
        "isinstance(2,int)"
      ],
      "metadata": {
        "colab": {
          "base_uri": "https://localhost:8080/"
        },
        "id": "fPVPXHpraWuV",
        "outputId": "6368b5b7-c70f-4c12-b783-ed516980346e"
      },
      "execution_count": null,
      "outputs": [
        {
          "output_type": "execute_result",
          "data": {
            "text/plain": [
              "True"
            ]
          },
          "metadata": {},
          "execution_count": 3
        }
      ]
    },
    {
      "cell_type": "code",
      "source": [
        "isinstance(3, bool)"
      ],
      "metadata": {
        "colab": {
          "base_uri": "https://localhost:8080/"
        },
        "id": "aa_zJUBVag0R",
        "outputId": "9ff514d1-32f2-4f8d-9127-e5f423a6fd3f"
      },
      "execution_count": null,
      "outputs": [
        {
          "output_type": "execute_result",
          "data": {
            "text/plain": [
              "False"
            ]
          },
          "metadata": {},
          "execution_count": 4
        }
      ]
    },
    {
      "cell_type": "code",
      "source": [
        "isinstance(2, object)"
      ],
      "metadata": {
        "colab": {
          "base_uri": "https://localhost:8080/"
        },
        "id": "1zObUmaBalbE",
        "outputId": "a9f40395-f01a-423b-edbf-4e1c76fd356e"
      },
      "execution_count": null,
      "outputs": [
        {
          "output_type": "execute_result",
          "data": {
            "text/plain": [
              "True"
            ]
          },
          "metadata": {},
          "execution_count": 5
        }
      ]
    },
    {
      "cell_type": "code",
      "source": [
        "isinstance(Car, object)"
      ],
      "metadata": {
        "colab": {
          "base_uri": "https://localhost:8080/"
        },
        "id": "7uv3FTgYaqK1",
        "outputId": "982a0ff1-d5b6-48eb-bc32-d2db49f129bb"
      },
      "execution_count": null,
      "outputs": [
        {
          "output_type": "execute_result",
          "data": {
            "text/plain": [
              "True"
            ]
          },
          "metadata": {},
          "execution_count": 6
        }
      ]
    },
    {
      "cell_type": "code",
      "source": [
        "#how to instantiate an object\n",
        "#car1 is an object or instance of the class Car\n",
        "car1 = Car()"
      ],
      "metadata": {
        "id": "0UeeqCLmazel"
      },
      "execution_count": null,
      "outputs": []
    },
    {
      "cell_type": "code",
      "source": [
        "isinstance(car1, Car)"
      ],
      "metadata": {
        "colab": {
          "base_uri": "https://localhost:8080/"
        },
        "id": "1oHn6qfbbBDY",
        "outputId": "78532782-3f4b-4eda-fb5e-3a5fa8edc64f"
      },
      "execution_count": null,
      "outputs": [
        {
          "output_type": "execute_result",
          "data": {
            "text/plain": [
              "True"
            ]
          },
          "metadata": {},
          "execution_count": 10
        }
      ]
    },
    {
      "cell_type": "code",
      "source": [
        "isinstance(car1,object)"
      ],
      "metadata": {
        "colab": {
          "base_uri": "https://localhost:8080/"
        },
        "id": "adyG1TZlbkdJ",
        "outputId": "a4871244-d467-455a-dd4b-42eb69a657d6"
      },
      "execution_count": null,
      "outputs": [
        {
          "output_type": "execute_result",
          "data": {
            "text/plain": [
              "True"
            ]
          },
          "metadata": {},
          "execution_count": 11
        }
      ]
    },
    {
      "cell_type": "code",
      "source": [
        "#polymorphism examples:\n",
        "\n",
        "\n",
        "print(2+2)"
      ],
      "metadata": {
        "colab": {
          "base_uri": "https://localhost:8080/"
        },
        "id": "vPjdqbQgbqMz",
        "outputId": "58ca6942-8192-4cd8-efab-3e95e49c9f96"
      },
      "execution_count": null,
      "outputs": [
        {
          "output_type": "stream",
          "name": "stdout",
          "text": [
            "4\n"
          ]
        }
      ]
    },
    {
      "cell_type": "code",
      "source": [
        "print(\"a\"+\"b\")"
      ],
      "metadata": {
        "colab": {
          "base_uri": "https://localhost:8080/"
        },
        "id": "wOi-LQFvb9vg",
        "outputId": "f63b93a1-84da-4a8e-c0f7-783e0d6482ff"
      },
      "execution_count": null,
      "outputs": [
        {
          "output_type": "stream",
          "name": "stdout",
          "text": [
            "ab\n"
          ]
        }
      ]
    },
    {
      "cell_type": "code",
      "source": [
        "#creating properties of an object\n",
        "\n",
        "car1.name = \"Nano\""
      ],
      "metadata": {
        "id": "EuGwEQStcLYV"
      },
      "execution_count": null,
      "outputs": []
    },
    {
      "cell_type": "code",
      "source": [
        "#the propeties and methods of an object of a class can be accessed using the . (dot) operator\n",
        "\n",
        "print(car1.name)"
      ],
      "metadata": {
        "colab": {
          "base_uri": "https://localhost:8080/"
        },
        "id": "E_s_z5R5cYMI",
        "outputId": "be4faf04-ba96-49bb-876c-e2a3204ee6bf"
      },
      "execution_count": null,
      "outputs": [
        {
          "output_type": "stream",
          "name": "stdout",
          "text": [
            "Nano\n"
          ]
        }
      ]
    },
    {
      "cell_type": "code",
      "source": [
        "8:10"
      ],
      "metadata": {
        "id": "YhnN0xd7ceQs"
      },
      "execution_count": null,
      "outputs": []
    },
    {
      "cell_type": "code",
      "source": [
        "class Student:\n",
        "\n",
        "  def hello():\n",
        "    print(\"Hello!\")"
      ],
      "metadata": {
        "id": "qut2f_-SiQWb"
      },
      "execution_count": null,
      "outputs": []
    },
    {
      "cell_type": "code",
      "source": [
        "s1 = Student()"
      ],
      "metadata": {
        "id": "SDMx75xGitMa"
      },
      "execution_count": null,
      "outputs": []
    },
    {
      "cell_type": "code",
      "source": [
        "s1.hello()\n",
        "\n",
        "#by default, python passes an argument known as self"
      ],
      "metadata": {
        "colab": {
          "base_uri": "https://localhost:8080/",
          "height": 166
        },
        "id": "loUtVI9Ei0ty",
        "outputId": "039fa194-cd6c-44a5-bce1-9c13f83433da"
      },
      "execution_count": null,
      "outputs": [
        {
          "output_type": "error",
          "ename": "TypeError",
          "evalue": "ignored",
          "traceback": [
            "\u001b[0;31m---------------------------------------------------------------------------\u001b[0m",
            "\u001b[0;31mTypeError\u001b[0m                                 Traceback (most recent call last)",
            "\u001b[0;32m<ipython-input-18-de77b6420e40>\u001b[0m in \u001b[0;36m<module>\u001b[0;34m\u001b[0m\n\u001b[0;32m----> 1\u001b[0;31m \u001b[0ms1\u001b[0m\u001b[0;34m.\u001b[0m\u001b[0mhello\u001b[0m\u001b[0;34m(\u001b[0m\u001b[0;34m)\u001b[0m\u001b[0;34m\u001b[0m\u001b[0;34m\u001b[0m\u001b[0m\n\u001b[0m",
            "\u001b[0;31mTypeError\u001b[0m: hello() takes 0 positional arguments but 1 was given"
          ]
        }
      ]
    },
    {
      "cell_type": "code",
      "source": [
        "class Student:\n",
        "\n",
        "#note: self argument is the reference of the object itself\n",
        "  def hello(self):\n",
        "    print(\"Hello!\")\n",
        "    print(id(self))"
      ],
      "metadata": {
        "id": "IARc6NPWi9jM"
      },
      "execution_count": null,
      "outputs": []
    },
    {
      "cell_type": "code",
      "source": [
        "s1 = Student() #s1 is an object or instance of the class Student\n",
        "s1.hello()"
      ],
      "metadata": {
        "colab": {
          "base_uri": "https://localhost:8080/"
        },
        "id": "6WxeWNtxje_I",
        "outputId": "7e986575-e3da-4aa8-eb5d-3c50dd0a2e9f"
      },
      "execution_count": null,
      "outputs": [
        {
          "output_type": "stream",
          "name": "stdout",
          "text": [
            "Hello!\n",
            "139914103363472\n"
          ]
        }
      ]
    },
    {
      "cell_type": "code",
      "source": [
        "print(id(s1))"
      ],
      "metadata": {
        "colab": {
          "base_uri": "https://localhost:8080/"
        },
        "id": "A7As07NUjgVM",
        "outputId": "9e4a426c-49bd-469b-f61f-fb224547d011"
      },
      "execution_count": null,
      "outputs": [
        {
          "output_type": "stream",
          "name": "stdout",
          "text": [
            "139914103363472\n"
          ]
        }
      ]
    },
    {
      "cell_type": "code",
      "source": [
        "class Student:\n",
        "\n",
        "  def __init__(self, name, city):\n",
        "    self.name = name\n",
        "    self.city = city"
      ],
      "metadata": {
        "id": "bmaCF1wnkQMZ"
      },
      "execution_count": null,
      "outputs": []
    },
    {
      "cell_type": "code",
      "source": [
        "s1 = Student(\"Bhushan\",\"Nashik\")"
      ],
      "metadata": {
        "id": "i7YOxB7OlkYU"
      },
      "execution_count": null,
      "outputs": []
    },
    {
      "cell_type": "code",
      "source": [
        "print(s1.name)"
      ],
      "metadata": {
        "colab": {
          "base_uri": "https://localhost:8080/"
        },
        "id": "Ux5ert2kl1Pz",
        "outputId": "bd3d65dc-25a7-45ba-d8c7-e952d2c54877"
      },
      "execution_count": null,
      "outputs": [
        {
          "output_type": "stream",
          "name": "stdout",
          "text": [
            "Bhushan\n"
          ]
        }
      ]
    },
    {
      "cell_type": "code",
      "source": [
        "print(s1.city)"
      ],
      "metadata": {
        "colab": {
          "base_uri": "https://localhost:8080/"
        },
        "id": "Q-jBp1sPl5Vk",
        "outputId": "cab4bd2d-3ea9-4ee3-81a7-ec5c7ce88ba3"
      },
      "execution_count": null,
      "outputs": [
        {
          "output_type": "stream",
          "name": "stdout",
          "text": [
            "Nashik\n"
          ]
        }
      ]
    },
    {
      "cell_type": "code",
      "source": [
        "print(s1)"
      ],
      "metadata": {
        "colab": {
          "base_uri": "https://localhost:8080/"
        },
        "id": "2HUI3xR_l7pn",
        "outputId": "51172638-a05a-40b4-cbaf-f376c0270092"
      },
      "execution_count": null,
      "outputs": [
        {
          "output_type": "stream",
          "name": "stdout",
          "text": [
            "<__main__.Student object at 0x7f4052df4e20>\n"
          ]
        }
      ]
    },
    {
      "cell_type": "code",
      "source": [
        "s2 = Student(\"Sagar\",\"Puri\")"
      ],
      "metadata": {
        "id": "IEmtOMcCmE2P"
      },
      "execution_count": null,
      "outputs": []
    },
    {
      "cell_type": "code",
      "source": [
        "s3 = Student(\"AJ\",\"Mumbai\")"
      ],
      "metadata": {
        "id": "V5ikc9fgmOUR"
      },
      "execution_count": null,
      "outputs": []
    },
    {
      "cell_type": "code",
      "source": [
        "print(s2.name,s2.city, s3.name, s3.city)"
      ],
      "metadata": {
        "colab": {
          "base_uri": "https://localhost:8080/"
        },
        "id": "yz_IDHupmYE8",
        "outputId": "382d04af-22a0-4fc7-f94e-489093e41ec9"
      },
      "execution_count": null,
      "outputs": [
        {
          "output_type": "stream",
          "name": "stdout",
          "text": [
            "Sagar Puri AJ Mumbai\n"
          ]
        }
      ]
    },
    {
      "cell_type": "code",
      "source": [
        "class Dog:\n",
        "\n",
        "  def __init__(self, n1):\n",
        "    self.name = n1"
      ],
      "metadata": {
        "id": "ZCCaoeMymcIu"
      },
      "execution_count": null,
      "outputs": []
    },
    {
      "cell_type": "code",
      "source": [
        "d1 = Dog(\"Puppy\")"
      ],
      "metadata": {
        "id": "I6U1PJNqnOm0"
      },
      "execution_count": null,
      "outputs": []
    },
    {
      "cell_type": "code",
      "source": [
        "print(d1.name)"
      ],
      "metadata": {
        "colab": {
          "base_uri": "https://localhost:8080/"
        },
        "id": "uqM_GrnanTCW",
        "outputId": "0ce40626-4f4b-4cb7-e426-7ff3fb3f43fa"
      },
      "execution_count": null,
      "outputs": [
        {
          "output_type": "stream",
          "name": "stdout",
          "text": [
            "Puppy\n"
          ]
        }
      ]
    },
    {
      "cell_type": "code",
      "source": [
        "d2 = Dog(\"Scooby\")"
      ],
      "metadata": {
        "id": "ZGRRu-oOnbsK"
      },
      "execution_count": null,
      "outputs": []
    },
    {
      "cell_type": "code",
      "source": [
        "print(d2.name)"
      ],
      "metadata": {
        "colab": {
          "base_uri": "https://localhost:8080/"
        },
        "id": "l3Lgx3QQnpZm",
        "outputId": "fbb2a491-3892-4927-9018-50bfc133b35c"
      },
      "execution_count": null,
      "outputs": [
        {
          "output_type": "stream",
          "name": "stdout",
          "text": [
            "Scooby\n"
          ]
        }
      ]
    },
    {
      "cell_type": "code",
      "source": [
        "d2.age = 2"
      ],
      "metadata": {
        "id": "3mZtXsi8nq8D"
      },
      "execution_count": null,
      "outputs": []
    },
    {
      "cell_type": "code",
      "source": [
        "print(d2.age)"
      ],
      "metadata": {
        "colab": {
          "base_uri": "https://localhost:8080/"
        },
        "id": "KIHM37K3nwM5",
        "outputId": "ec658632-7c2e-49b9-e61d-57d28324a846"
      },
      "execution_count": null,
      "outputs": [
        {
          "output_type": "stream",
          "name": "stdout",
          "text": [
            "2\n"
          ]
        }
      ]
    },
    {
      "cell_type": "code",
      "source": [
        "print(d1.age)"
      ],
      "metadata": {
        "colab": {
          "base_uri": "https://localhost:8080/",
          "height": 166
        },
        "id": "X8HK-7Kwnxc-",
        "outputId": "e1ca2d18-7c1b-4fde-93c7-8f48de32a42b"
      },
      "execution_count": null,
      "outputs": [
        {
          "output_type": "error",
          "ename": "AttributeError",
          "evalue": "ignored",
          "traceback": [
            "\u001b[0;31m---------------------------------------------------------------------------\u001b[0m",
            "\u001b[0;31mAttributeError\u001b[0m                            Traceback (most recent call last)",
            "\u001b[0;32m<ipython-input-51-9be8f1b881df>\u001b[0m in \u001b[0;36m<module>\u001b[0;34m\u001b[0m\n\u001b[0;32m----> 1\u001b[0;31m \u001b[0mprint\u001b[0m\u001b[0;34m(\u001b[0m\u001b[0md1\u001b[0m\u001b[0;34m.\u001b[0m\u001b[0mage\u001b[0m\u001b[0;34m)\u001b[0m\u001b[0;34m\u001b[0m\u001b[0;34m\u001b[0m\u001b[0m\n\u001b[0m",
            "\u001b[0;31mAttributeError\u001b[0m: 'Dog' object has no attribute 'age'"
          ]
        }
      ]
    },
    {
      "cell_type": "code",
      "source": [
        "class Dog:\n",
        "\n",
        "  kind = \"Canine\" #class variables\n",
        "\n",
        "  def __init__(self, n1):\n",
        "    self.name = n1 #object variable/instance variable"
      ],
      "metadata": {
        "id": "M3Lod76Pn1B2"
      },
      "execution_count": null,
      "outputs": []
    },
    {
      "cell_type": "code",
      "source": [
        "d1 = Dog(\"Puppy\")\n",
        "d2 = Dog(\"Scooby\")"
      ],
      "metadata": {
        "id": "J_DNn_Pmosxf"
      },
      "execution_count": null,
      "outputs": []
    },
    {
      "cell_type": "code",
      "source": [
        "print(d1.name, d1.kind)"
      ],
      "metadata": {
        "colab": {
          "base_uri": "https://localhost:8080/"
        },
        "id": "A6EprtVsowX2",
        "outputId": "1f0da220-1ebc-4253-b17e-dc62404e553e"
      },
      "execution_count": null,
      "outputs": [
        {
          "output_type": "stream",
          "name": "stdout",
          "text": [
            "Puppy Canine\n"
          ]
        }
      ]
    },
    {
      "cell_type": "code",
      "source": [
        "print(d2.name, d2.kind)"
      ],
      "metadata": {
        "colab": {
          "base_uri": "https://localhost:8080/"
        },
        "id": "Y9fzoVBPoyfO",
        "outputId": "8659a24b-5516-47f7-8f50-cedf43d4908e"
      },
      "execution_count": null,
      "outputs": [
        {
          "output_type": "stream",
          "name": "stdout",
          "text": [
            "Scooby Canine\n"
          ]
        }
      ]
    },
    {
      "cell_type": "code",
      "source": [
        "Dog.kind"
      ],
      "metadata": {
        "colab": {
          "base_uri": "https://localhost:8080/",
          "height": 35
        },
        "id": "Xfr6-Keeo_IN",
        "outputId": "4208521d-59c2-4963-c065-122ac9c0a2c9"
      },
      "execution_count": null,
      "outputs": [
        {
          "output_type": "execute_result",
          "data": {
            "text/plain": [
              "'Canine'"
            ],
            "application/vnd.google.colaboratory.intrinsic+json": {
              "type": "string"
            }
          },
          "metadata": {},
          "execution_count": 58
        }
      ]
    },
    {
      "cell_type": "code",
      "source": [
        "d1.kind = \"Doberman\""
      ],
      "metadata": {
        "id": "bMKt2aLjpWMB"
      },
      "execution_count": null,
      "outputs": []
    },
    {
      "cell_type": "code",
      "source": [
        "print(d1.kind)"
      ],
      "metadata": {
        "colab": {
          "base_uri": "https://localhost:8080/"
        },
        "id": "vcoBtljVpstg",
        "outputId": "cb3a1906-af03-476b-9fa1-fcdb8673faa3"
      },
      "execution_count": null,
      "outputs": [
        {
          "output_type": "stream",
          "name": "stdout",
          "text": [
            "Doberman\n"
          ]
        }
      ]
    },
    {
      "cell_type": "code",
      "source": [
        "print(d2.kind)"
      ],
      "metadata": {
        "colab": {
          "base_uri": "https://localhost:8080/"
        },
        "id": "XU4YA9mXpw5a",
        "outputId": "0355c2b3-7c20-48d1-f8c3-ce8abeaf41a8"
      },
      "execution_count": null,
      "outputs": [
        {
          "output_type": "stream",
          "name": "stdout",
          "text": [
            "Canine\n"
          ]
        }
      ]
    },
    {
      "cell_type": "code",
      "source": [
        "Dog.kind = \"random_kind\""
      ],
      "metadata": {
        "id": "_AuOw-SSp0Ov"
      },
      "execution_count": null,
      "outputs": []
    },
    {
      "cell_type": "code",
      "source": [
        "print(d1.kind, d2.kind)"
      ],
      "metadata": {
        "colab": {
          "base_uri": "https://localhost:8080/"
        },
        "id": "IWAapWwFqJY0",
        "outputId": "787156b8-e9d7-418c-a507-9fa021d93c9d"
      },
      "execution_count": null,
      "outputs": [
        {
          "output_type": "stream",
          "name": "stdout",
          "text": [
            "Doberman random_kind\n"
          ]
        }
      ]
    },
    {
      "cell_type": "code",
      "source": [
        "class Dog:\n",
        "\n",
        "  tricks = []\n",
        "\n",
        "  '''\n",
        "  When updatting a class variable using an object\n",
        "  - In case of immutable - New instance variable got created\n",
        "  - In case of mutable - original class variable got updated\n",
        "  '''\n",
        "\n",
        "  def __init__(self, name):\n",
        "    self.name = name\n",
        "\n",
        "  def teach_trick(self, trick):\n",
        "    self.tricks.append(trick)"
      ],
      "metadata": {
        "id": "tLrx0P01qLP4"
      },
      "execution_count": null,
      "outputs": []
    },
    {
      "cell_type": "code",
      "source": [
        "d1 = Dog(\"Puppy\")\n",
        "d2 = Dog(\"Dollar\")\n",
        "\n",
        "print(d1.tricks)\n",
        "print(d2.tricks)"
      ],
      "metadata": {
        "colab": {
          "base_uri": "https://localhost:8080/"
        },
        "id": "XiaeEr3aq4X6",
        "outputId": "34ce81a8-5396-4a44-e954-321e567f9769"
      },
      "execution_count": null,
      "outputs": [
        {
          "output_type": "stream",
          "name": "stdout",
          "text": [
            "[]\n",
            "[]\n"
          ]
        }
      ]
    },
    {
      "cell_type": "code",
      "source": [
        "print(d1.name)\n",
        "print(d2.name)"
      ],
      "metadata": {
        "colab": {
          "base_uri": "https://localhost:8080/"
        },
        "id": "CFLtlQYUrKCQ",
        "outputId": "a18be523-5f0e-48de-8884-889e49b012e2"
      },
      "execution_count": null,
      "outputs": [
        {
          "output_type": "stream",
          "name": "stdout",
          "text": [
            "Puppy\n",
            "Dollar\n"
          ]
        }
      ]
    },
    {
      "cell_type": "code",
      "source": [
        "d1.teach_trick(\"jump\")\n",
        "print(d1.tricks)"
      ],
      "metadata": {
        "colab": {
          "base_uri": "https://localhost:8080/"
        },
        "id": "InxEbPV_rQGs",
        "outputId": "51118911-c1a5-4fd7-ef71-2a7ff4ef4bb8"
      },
      "execution_count": null,
      "outputs": [
        {
          "output_type": "stream",
          "name": "stdout",
          "text": [
            "['jump']\n"
          ]
        }
      ]
    },
    {
      "cell_type": "code",
      "source": [
        "print(d2.tricks)"
      ],
      "metadata": {
        "colab": {
          "base_uri": "https://localhost:8080/"
        },
        "id": "NCsyPv7BrXfr",
        "outputId": "4fbdbf50-9782-48c5-c146-81d7f12565c3"
      },
      "execution_count": null,
      "outputs": [
        {
          "output_type": "stream",
          "name": "stdout",
          "text": [
            "['jump']\n"
          ]
        }
      ]
    },
    {
      "cell_type": "code",
      "source": [],
      "metadata": {
        "id": "rWij47pqrfnr"
      },
      "execution_count": null,
      "outputs": []
    }
  ]
}