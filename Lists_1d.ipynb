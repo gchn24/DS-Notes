{
  "nbformat": 4,
  "nbformat_minor": 0,
  "metadata": {
    "colab": {
      "provenance": [],
      "include_colab_link": true
    },
    "kernelspec": {
      "name": "python3",
      "display_name": "Python 3"
    },
    "language_info": {
      "name": "python"
    }
  },
  "cells": [
    {
      "cell_type": "markdown",
      "metadata": {
        "id": "view-in-github",
        "colab_type": "text"
      },
      "source": [
        "<a href=\"https://colab.research.google.com/github/gchn24/DS-Notes/blob/main/Lists_1d.ipynb\" target=\"_parent\"><img src=\"https://colab.research.google.com/assets/colab-badge.svg\" alt=\"Open In Colab\"/></a>"
      ]
    },
    {
      "cell_type": "code",
      "source": [
        "'''\n",
        "1. store\n",
        "2. access\n",
        "3. modify\n",
        "'''"
      ],
      "metadata": {
        "id": "tMx9iNfVNBtK"
      },
      "execution_count": null,
      "outputs": []
    },
    {
      "cell_type": "code",
      "execution_count": null,
      "metadata": {
        "id": "IaJQ3dqGEbl1"
      },
      "outputs": [],
      "source": [
        "#runs1, runs2, runs3,.... runs400"
      ]
    },
    {
      "cell_type": "code",
      "source": [
        "#create a list: []\n",
        "\n",
        "runs_virat = [67,54,12,34,77,89,101]"
      ],
      "metadata": {
        "id": "aOppPWlHLrOe"
      },
      "execution_count": null,
      "outputs": []
    },
    {
      "cell_type": "code",
      "source": [
        "print(runs_virat)"
      ],
      "metadata": {
        "colab": {
          "base_uri": "https://localhost:8080/"
        },
        "id": "-KTpLCe4L-Mz",
        "outputId": "b22a8397-66b9-4ece-8e05-4b1efba346a2"
      },
      "execution_count": null,
      "outputs": [
        {
          "output_type": "stream",
          "name": "stdout",
          "text": [
            "[67, 54, 12, 34, 77, 89, 101]\n"
          ]
        }
      ]
    },
    {
      "cell_type": "code",
      "source": [
        "a = 1"
      ],
      "metadata": {
        "id": "qyu9jOVdMAOK"
      },
      "execution_count": null,
      "outputs": []
    },
    {
      "cell_type": "code",
      "source": [
        "print(a)"
      ],
      "metadata": {
        "colab": {
          "base_uri": "https://localhost:8080/"
        },
        "id": "lcWGm6cuMDsH",
        "outputId": "5f6d1f10-cfc8-45aa-d8a5-afeb6f7aa7d6"
      },
      "execution_count": null,
      "outputs": [
        {
          "output_type": "stream",
          "name": "stdout",
          "text": [
            "1\n"
          ]
        }
      ]
    },
    {
      "cell_type": "code",
      "source": [
        "type(runs_virat)"
      ],
      "metadata": {
        "colab": {
          "base_uri": "https://localhost:8080/"
        },
        "id": "7ac0kty2MEe5",
        "outputId": "ab7bdc0c-7914-4d08-e93d-0e29316ddbdb"
      },
      "execution_count": null,
      "outputs": [
        {
          "output_type": "execute_result",
          "data": {
            "text/plain": [
              "list"
            ]
          },
          "metadata": {},
          "execution_count": 8
        }
      ]
    },
    {
      "cell_type": "code",
      "source": [
        "#how to access a value?\n",
        "\n",
        "#lists are accessible using indexes - lists are indexable\n",
        "#index of the 3rd elem = 2\n",
        "\n",
        "runs_virat[2]"
      ],
      "metadata": {
        "colab": {
          "base_uri": "https://localhost:8080/"
        },
        "id": "zWl_81_KMVZJ",
        "outputId": "05f9c8b4-cee4-4662-a815-85bbeaf9a46d"
      },
      "execution_count": null,
      "outputs": [
        {
          "output_type": "execute_result",
          "data": {
            "text/plain": [
              "12"
            ]
          },
          "metadata": {},
          "execution_count": 9
        }
      ]
    },
    {
      "cell_type": "code",
      "source": [
        "runs_virat[0]"
      ],
      "metadata": {
        "colab": {
          "base_uri": "https://localhost:8080/"
        },
        "id": "aFm7rNdOMs5G",
        "outputId": "6ba25ad6-e058-409e-ca07-326bba880547"
      },
      "execution_count": null,
      "outputs": [
        {
          "output_type": "execute_result",
          "data": {
            "text/plain": [
              "67"
            ]
          },
          "metadata": {},
          "execution_count": 10
        }
      ]
    },
    {
      "cell_type": "code",
      "source": [
        "runs_virat[0] = 82"
      ],
      "metadata": {
        "id": "rVFg4AaMM9eM"
      },
      "execution_count": null,
      "outputs": []
    },
    {
      "cell_type": "code",
      "source": [
        "a = 2\n",
        "a = 3\n",
        "print(a)"
      ],
      "metadata": {
        "colab": {
          "base_uri": "https://localhost:8080/"
        },
        "id": "vXVmT62wNPel",
        "outputId": "76049301-b786-4b1e-b005-39dfd3529f5c"
      },
      "execution_count": null,
      "outputs": [
        {
          "output_type": "stream",
          "name": "stdout",
          "text": [
            "3\n"
          ]
        }
      ]
    },
    {
      "cell_type": "code",
      "source": [
        "runs_virat[0]"
      ],
      "metadata": {
        "colab": {
          "base_uri": "https://localhost:8080/"
        },
        "id": "Fm3DMNlSNaEY",
        "outputId": "8ad2e83a-1597-45fa-bf56-4bd9ca538997"
      },
      "execution_count": null,
      "outputs": [
        {
          "output_type": "execute_result",
          "data": {
            "text/plain": [
              "82"
            ]
          },
          "metadata": {},
          "execution_count": 13
        }
      ]
    },
    {
      "cell_type": "code",
      "source": [
        "print(runs_virat)"
      ],
      "metadata": {
        "colab": {
          "base_uri": "https://localhost:8080/"
        },
        "id": "8S2OwrW0Nfg1",
        "outputId": "3480289c-7699-4c37-8984-404d815ce30a"
      },
      "execution_count": null,
      "outputs": [
        {
          "output_type": "stream",
          "name": "stdout",
          "text": [
            "[82, 54, 12, 34, 77, 89, 101]\n"
          ]
        }
      ]
    },
    {
      "cell_type": "code",
      "source": [
        "no_of_elements = len(runs_virat)"
      ],
      "metadata": {
        "id": "V4NuqRCmNheb"
      },
      "execution_count": null,
      "outputs": []
    },
    {
      "cell_type": "code",
      "source": [
        "print(no_of_elements)"
      ],
      "metadata": {
        "colab": {
          "base_uri": "https://localhost:8080/"
        },
        "id": "AtV5nniMNqXU",
        "outputId": "0b852dc2-540c-4692-a6bd-d77819472fb0"
      },
      "execution_count": null,
      "outputs": [
        {
          "output_type": "stream",
          "name": "stdout",
          "text": [
            "7\n"
          ]
        }
      ]
    },
    {
      "cell_type": "code",
      "source": [
        "#runs scored by VK in last match\n",
        "\n",
        "print(runs_virat[no_of_elements - 1])"
      ],
      "metadata": {
        "colab": {
          "base_uri": "https://localhost:8080/"
        },
        "id": "iQbc87hMNrai",
        "outputId": "446719cf-966a-40ee-c43d-c1d1f3a7ac2d"
      },
      "execution_count": null,
      "outputs": [
        {
          "output_type": "stream",
          "name": "stdout",
          "text": [
            "101\n"
          ]
        }
      ]
    },
    {
      "cell_type": "code",
      "source": [
        "#negative indexing\n",
        "#runs scored by VK in last match\n",
        "\n",
        "\n",
        "print(runs_virat[-1])\n",
        "#why neg index? --> slicing "
      ],
      "metadata": {
        "colab": {
          "base_uri": "https://localhost:8080/"
        },
        "id": "pHK0zG7SN815",
        "outputId": "37c49e74-ab6f-4f75-fb11-060de8c25244"
      },
      "execution_count": null,
      "outputs": [
        {
          "output_type": "stream",
          "name": "stdout",
          "text": [
            "101\n"
          ]
        }
      ]
    },
    {
      "cell_type": "code",
      "source": [
        "print(runs_virat[-2])"
      ],
      "metadata": {
        "colab": {
          "base_uri": "https://localhost:8080/"
        },
        "id": "gXPwP7eaOkdr",
        "outputId": "9af56b2b-496c-4f9d-974f-2c1a976d2153"
      },
      "execution_count": null,
      "outputs": [
        {
          "output_type": "stream",
          "name": "stdout",
          "text": [
            "89\n"
          ]
        }
      ]
    },
    {
      "cell_type": "code",
      "source": [
        "#first match\n",
        "print(runs_virat[-no_of_elements]) #runs_virat[0]"
      ],
      "metadata": {
        "colab": {
          "base_uri": "https://localhost:8080/"
        },
        "id": "7bZhBbw9O4C9",
        "outputId": "1e0982bb-25e5-4de2-d37c-02f0940d7e37"
      },
      "execution_count": null,
      "outputs": [
        {
          "output_type": "stream",
          "name": "stdout",
          "text": [
            "82\n"
          ]
        }
      ]
    },
    {
      "cell_type": "code",
      "source": [
        "a = [4, 2, 1, 5, 6]\n",
        "\n",
        "'''\n",
        "Question 1:\n",
        "\n",
        "Print sum of the elements on odd positions in the list\n",
        "'''\n",
        "\n",
        "#odd positions: 1, 3, 5....\n",
        "#indexes: 0, 2, 4....\n",
        "print(a[0] + a[2] + a[4])"
      ],
      "metadata": {
        "colab": {
          "base_uri": "https://localhost:8080/"
        },
        "id": "yohWceuSPJBK",
        "outputId": "f6c4a8a7-87dd-44d1-c30c-1d527b622afa"
      },
      "execution_count": null,
      "outputs": [
        {
          "output_type": "stream",
          "name": "stdout",
          "text": [
            "11\n"
          ]
        }
      ]
    },
    {
      "cell_type": "code",
      "source": [
        "#can we add more lements to list?\n",
        "# 3 predefined methods: append(), insert(), extend()"
      ],
      "metadata": {
        "id": "MZotnQl9QEa0"
      },
      "execution_count": null,
      "outputs": []
    },
    {
      "cell_type": "code",
      "source": [
        "vk = [45,67,90,101,55,100]"
      ],
      "metadata": {
        "id": "BWWJ9VN7Qo0X"
      },
      "execution_count": null,
      "outputs": []
    },
    {
      "cell_type": "markdown",
      "source": [],
      "metadata": {
        "id": "KRzVausJRlYf"
      }
    },
    {
      "cell_type": "code",
      "source": [
        "vk.append(82)"
      ],
      "metadata": {
        "id": "cLre7a6RRJ79"
      },
      "execution_count": null,
      "outputs": []
    },
    {
      "cell_type": "code",
      "source": [
        "vk"
      ],
      "metadata": {
        "colab": {
          "base_uri": "https://localhost:8080/"
        },
        "id": "O6L3etj7RT_F",
        "outputId": "f3c78e58-ac27-4c64-b998-e1980aaa5f18"
      },
      "execution_count": null,
      "outputs": [
        {
          "output_type": "execute_result",
          "data": {
            "text/plain": [
              "[45, 67, 90, 101, 55, 100, 82]"
            ]
          },
          "metadata": {},
          "execution_count": 25
        }
      ]
    },
    {
      "cell_type": "code",
      "source": [
        "# to add an element at end of list: list_name.append(value_to_be_appended)"
      ],
      "metadata": {
        "id": "n7ysuubNRU75"
      },
      "execution_count": null,
      "outputs": []
    },
    {
      "cell_type": "code",
      "source": [
        "#insert method can be used to insert at any index\n",
        "\n",
        "vk.insert(0,56)"
      ],
      "metadata": {
        "id": "XhlZLEsmRmhc"
      },
      "execution_count": null,
      "outputs": []
    },
    {
      "cell_type": "code",
      "source": [
        "vk"
      ],
      "metadata": {
        "colab": {
          "base_uri": "https://localhost:8080/"
        },
        "id": "HtpdH9bXR92M",
        "outputId": "e4f54744-2742-42c6-cb61-7c0e358e3086"
      },
      "execution_count": null,
      "outputs": [
        {
          "output_type": "execute_result",
          "data": {
            "text/plain": [
              "[56, 45, 67, 90, 101, 55, 100, 82]"
            ]
          },
          "metadata": {},
          "execution_count": 27
        }
      ]
    },
    {
      "cell_type": "code",
      "source": [
        "vk.insert(2,200)"
      ],
      "metadata": {
        "id": "mQkXY1osR-nB"
      },
      "execution_count": null,
      "outputs": []
    },
    {
      "cell_type": "code",
      "source": [
        "vk"
      ],
      "metadata": {
        "colab": {
          "base_uri": "https://localhost:8080/"
        },
        "id": "O_Xv9mH2SIQB",
        "outputId": "44a3ea52-6676-4860-fdc1-77660920cd47"
      },
      "execution_count": null,
      "outputs": [
        {
          "output_type": "execute_result",
          "data": {
            "text/plain": [
              "[56, 45, 200, 67, 90, 101, 55, 100, 82]"
            ]
          },
          "metadata": {},
          "execution_count": 29
        }
      ]
    },
    {
      "cell_type": "code",
      "source": [
        "new_runs = [34,79,105]"
      ],
      "metadata": {
        "id": "8WtikXelSIwv"
      },
      "execution_count": null,
      "outputs": []
    },
    {
      "cell_type": "code",
      "source": [
        "vk.extend(new_runs)"
      ],
      "metadata": {
        "id": "Shf33_TDSaDi"
      },
      "execution_count": null,
      "outputs": []
    },
    {
      "cell_type": "code",
      "source": [
        "print(vk)"
      ],
      "metadata": {
        "id": "iGy7-l4GSd9V",
        "outputId": "d1449cc6-78ac-4f82-b921-d02d092f96f1",
        "colab": {
          "base_uri": "https://localhost:8080/"
        }
      },
      "execution_count": null,
      "outputs": [
        {
          "output_type": "stream",
          "name": "stdout",
          "text": [
            "[56, 45, 200, 67, 90, 101, 55, 100, 82, 34, 79, 105]\n"
          ]
        }
      ]
    },
    {
      "cell_type": "code",
      "source": [
        "a = [1,2,4,3,5]"
      ],
      "metadata": {
        "id": "hbmHcBpzSexX"
      },
      "execution_count": null,
      "outputs": []
    },
    {
      "cell_type": "code",
      "source": [
        "a"
      ],
      "metadata": {
        "colab": {
          "base_uri": "https://localhost:8080/"
        },
        "id": "9yvQZ9LbPfuc",
        "outputId": "c77619cd-9064-4cad-f54f-dce5976621f5"
      },
      "execution_count": null,
      "outputs": [
        {
          "output_type": "execute_result",
          "data": {
            "text/plain": [
              "[1, 2, 4, 3, 5]"
            ]
          },
          "metadata": {},
          "execution_count": 11
        }
      ]
    },
    {
      "cell_type": "code",
      "source": [
        "#append()\n",
        "\n",
        "e = a.append(7)"
      ],
      "metadata": {
        "id": "Pf9omdPmPmSY"
      },
      "execution_count": null,
      "outputs": []
    },
    {
      "cell_type": "code",
      "source": [
        "a,e"
      ],
      "metadata": {
        "colab": {
          "base_uri": "https://localhost:8080/"
        },
        "id": "yIb2xHh9PtCP",
        "outputId": "9ef491f0-01e8-4a44-88a0-08b84bb127fd"
      },
      "execution_count": null,
      "outputs": [
        {
          "output_type": "execute_result",
          "data": {
            "text/plain": [
              "([1, 2, 8, 8, 4, 3, 5, 7, 10, 11, 12, 10, 11, 12, 7], None)"
            ]
          },
          "metadata": {},
          "execution_count": 26
        }
      ]
    },
    {
      "cell_type": "code",
      "source": [
        "d = a.insert(2,8) #inplace - it doesnt return a new list but makes modifications to the original list"
      ],
      "metadata": {
        "id": "IG9j71MVPtr_"
      },
      "execution_count": null,
      "outputs": []
    },
    {
      "cell_type": "code",
      "source": [
        "a,d "
      ],
      "metadata": {
        "colab": {
          "base_uri": "https://localhost:8080/"
        },
        "id": "QENExnpkP8X6",
        "outputId": "6654afa9-5193-483b-8b92-dd87323b27ca"
      },
      "execution_count": null,
      "outputs": [
        {
          "output_type": "execute_result",
          "data": {
            "text/plain": [
              "([1, 2, 8, 8, 4, 3, 5, 7, 10, 11, 12, 10, 11, 12], None)"
            ]
          },
          "metadata": {},
          "execution_count": 24
        }
      ]
    },
    {
      "cell_type": "code",
      "source": [
        "b = [10,11,12]\n",
        "a.extend(b) #inplace - it doesnt return a new list but makes modifications to the original list"
      ],
      "metadata": {
        "id": "A-8pfFNgP9LP"
      },
      "execution_count": null,
      "outputs": []
    },
    {
      "cell_type": "code",
      "source": [
        "a"
      ],
      "metadata": {
        "colab": {
          "base_uri": "https://localhost:8080/"
        },
        "id": "g41wV9yNQHaL",
        "outputId": "a3998ea4-8121-4535-cd4f-d707fcfd2347"
      },
      "execution_count": null,
      "outputs": [
        {
          "output_type": "execute_result",
          "data": {
            "text/plain": [
              "[1, 2, 8, 4, 3, 5, 7, 10, 11, 12]"
            ]
          },
          "metadata": {},
          "execution_count": 17
        }
      ]
    },
    {
      "cell_type": "code",
      "source": [
        "b"
      ],
      "metadata": {
        "colab": {
          "base_uri": "https://localhost:8080/"
        },
        "id": "all-5cYnQH_o",
        "outputId": "9f944a0f-01de-496a-c4dd-cf4b443510bd"
      },
      "execution_count": null,
      "outputs": [
        {
          "output_type": "execute_result",
          "data": {
            "text/plain": [
              "[10, 11, 12]"
            ]
          },
          "metadata": {},
          "execution_count": 18
        }
      ]
    },
    {
      "cell_type": "code",
      "source": [
        "c = a.extend(b) #inplace - it doesnt return a new list but makes modifications to the original list"
      ],
      "metadata": {
        "id": "4K9Ok2v9QP11"
      },
      "execution_count": null,
      "outputs": []
    },
    {
      "cell_type": "code",
      "source": [
        "print(a,b,c)"
      ],
      "metadata": {
        "colab": {
          "base_uri": "https://localhost:8080/"
        },
        "id": "sHWzzOZWQ7gH",
        "outputId": "8d4ea767-8353-4ccc-e11e-e169db255b8a"
      },
      "execution_count": null,
      "outputs": [
        {
          "output_type": "stream",
          "name": "stdout",
          "text": [
            "[1, 2, 8, 4, 3, 5, 7, 10, 11, 12, 10, 11, 12] [10, 11, 12] None\n"
          ]
        }
      ]
    },
    {
      "cell_type": "code",
      "source": [
        "def solve(a):\n",
        "  print(a)\n",
        "\n",
        "\n",
        "b = solve(2)"
      ],
      "metadata": {
        "colab": {
          "base_uri": "https://localhost:8080/"
        },
        "id": "NfTf3OUUQ8od",
        "outputId": "9d4fd69d-d435-40dc-f490-6a210a3985e6"
      },
      "execution_count": null,
      "outputs": [
        {
          "output_type": "stream",
          "name": "stdout",
          "text": [
            "2\n"
          ]
        }
      ]
    },
    {
      "cell_type": "code",
      "source": [
        "print(b)"
      ],
      "metadata": {
        "colab": {
          "base_uri": "https://localhost:8080/"
        },
        "id": "NjfhTlwqRpw0",
        "outputId": "5ba9140d-5762-456c-f58a-9be2519b287a"
      },
      "execution_count": null,
      "outputs": [
        {
          "output_type": "stream",
          "name": "stdout",
          "text": [
            "None\n"
          ]
        }
      ]
    },
    {
      "cell_type": "code",
      "source": [
        "a = [1,3,4]\n",
        "a = a + [6]"
      ],
      "metadata": {
        "id": "ykCLMNHgRstC"
      },
      "execution_count": null,
      "outputs": []
    },
    {
      "cell_type": "code",
      "source": [
        "print(a)"
      ],
      "metadata": {
        "colab": {
          "base_uri": "https://localhost:8080/"
        },
        "id": "S13yPicYSKBY",
        "outputId": "4b1eacbd-a4f7-4875-9d06-a5f7df86477e"
      },
      "execution_count": null,
      "outputs": [
        {
          "output_type": "stream",
          "name": "stdout",
          "text": [
            "[1, 3, 4, 6]\n"
          ]
        }
      ]
    },
    {
      "cell_type": "code",
      "source": [
        "a = a + [4,5,7]"
      ],
      "metadata": {
        "id": "TR8HH_7XSLC8"
      },
      "execution_count": null,
      "outputs": []
    },
    {
      "cell_type": "code",
      "source": [
        "print(a)"
      ],
      "metadata": {
        "colab": {
          "base_uri": "https://localhost:8080/"
        },
        "id": "N-Kv9GD9SWz8",
        "outputId": "81b1c0ba-9ea2-4cc6-d660-19cb23730745"
      },
      "execution_count": null,
      "outputs": [
        {
          "output_type": "stream",
          "name": "stdout",
          "text": [
            "[1, 3, 4, 6, 4, 5, 7]\n"
          ]
        }
      ]
    },
    {
      "cell_type": "code",
      "source": [
        "b = [88,99]\n",
        "\n",
        "a = a+b"
      ],
      "metadata": {
        "id": "zvijgSKBSXdf"
      },
      "execution_count": null,
      "outputs": []
    },
    {
      "cell_type": "code",
      "source": [
        "a"
      ],
      "metadata": {
        "colab": {
          "base_uri": "https://localhost:8080/"
        },
        "id": "0IxNvte0SdMg",
        "outputId": "847d4f00-b4bf-4717-f404-30fa926f7e97"
      },
      "execution_count": null,
      "outputs": [
        {
          "output_type": "execute_result",
          "data": {
            "text/plain": [
              "[1, 3, 4, 6, 4, 5, 7, 88, 99]"
            ]
          },
          "metadata": {},
          "execution_count": 34
        }
      ]
    },
    {
      "cell_type": "code",
      "source": [
        "a = [1,2,3]\n",
        "b = [4,5,6]\n",
        "\n",
        "c = a+b\n",
        "\n",
        "print(a,b,c)"
      ],
      "metadata": {
        "colab": {
          "base_uri": "https://localhost:8080/"
        },
        "id": "rWIvoaLYSdgy",
        "outputId": "807f689f-5d84-4ea9-b72c-5c598952fe58"
      },
      "execution_count": null,
      "outputs": [
        {
          "output_type": "stream",
          "name": "stdout",
          "text": [
            "[1, 2, 3] [4, 5, 6] [1, 2, 3, 4, 5, 6]\n"
          ]
        }
      ]
    },
    {
      "cell_type": "code",
      "source": [
        "a = [1,2,3]\n",
        "b = [4,5,6]\n",
        "\n",
        "a = a+b\n",
        "\n",
        "print(a,b)"
      ],
      "metadata": {
        "colab": {
          "base_uri": "https://localhost:8080/"
        },
        "id": "ZfUGDsBSSqr7",
        "outputId": "c6f9e942-a6df-44df-cab0-f4641cc5820d"
      },
      "execution_count": null,
      "outputs": [
        {
          "output_type": "stream",
          "name": "stdout",
          "text": [
            "[1, 2, 3, 4, 5, 6] [4, 5, 6]\n"
          ]
        }
      ]
    },
    {
      "cell_type": "code",
      "source": [
        "#i --> iterator --> variable used to iterate\n",
        "#range(5) -> iterable --> the collection of values on which we iterate\n",
        "#print(i) --> iteratiion block --> body of the for loop\n",
        "\n",
        "for i in range(5):\n",
        "  print(i)"
      ],
      "metadata": {
        "id": "s7nYxMoeTGOC"
      },
      "execution_count": null,
      "outputs": []
    },
    {
      "cell_type": "code",
      "source": [
        "print(list(range(5)))"
      ],
      "metadata": {
        "colab": {
          "base_uri": "https://localhost:8080/"
        },
        "id": "t6srF3EKTtxm",
        "outputId": "f6eee0b0-feb1-4c9d-ebdd-063380705b3f"
      },
      "execution_count": null,
      "outputs": [
        {
          "output_type": "stream",
          "name": "stdout",
          "text": [
            "[0, 1, 2, 3, 4]\n"
          ]
        }
      ]
    },
    {
      "cell_type": "code",
      "source": [
        "a = [3,4,5,6,7]"
      ],
      "metadata": {
        "id": "kHzbJQ8vTzZe"
      },
      "execution_count": null,
      "outputs": []
    },
    {
      "cell_type": "code",
      "source": [
        "for i in a:\n",
        "  print(i)"
      ],
      "metadata": {
        "colab": {
          "base_uri": "https://localhost:8080/"
        },
        "id": "aSkOW1SdUB1E",
        "outputId": "ad40e4b3-043c-4dc8-9db6-ff181278fec9"
      },
      "execution_count": null,
      "outputs": [
        {
          "output_type": "stream",
          "name": "stdout",
          "text": [
            "3\n",
            "4\n",
            "5\n",
            "6\n",
            "7\n"
          ]
        }
      ]
    },
    {
      "cell_type": "code",
      "source": [
        "# runs = [45,67,101,90,82]\n",
        "\n",
        "runs = [1,4,6,9,7,8]\n",
        "'''\n",
        "Question 1 :\n",
        "In runs, calculate the sum, avg, max and min of all the runs.\n",
        "'''"
      ],
      "metadata": {
        "colab": {
          "base_uri": "https://localhost:8080/",
          "height": 35
        },
        "id": "uLGlavKQULa_",
        "outputId": "6dbfaa0a-b5b5-497f-cc40-4f0ea194e95f"
      },
      "execution_count": null,
      "outputs": [
        {
          "output_type": "execute_result",
          "data": {
            "text/plain": [
              "'\\nQuestion 1 :\\nIn runs, calculate the sum, avg, max and min of all the runs.\\n'"
            ],
            "application/vnd.google.colaboratory.intrinsic+json": {
              "type": "string"
            }
          },
          "metadata": {},
          "execution_count": 50
        }
      ]
    },
    {
      "cell_type": "code",
      "source": [
        "sum = 0\n",
        "#initilization should not impact the initial operation\n",
        "\n",
        "for i in runs:\n",
        "  # sum = sum + runs[i] -- incorrect as i is iterating over runs and not range\n",
        "  sum = sum + i\n",
        "\n",
        "print(sum)"
      ],
      "metadata": {
        "colab": {
          "base_uri": "https://localhost:8080/"
        },
        "id": "ZPNMGtcRVyMt",
        "outputId": "a7fd04df-3b7d-48dd-a2b8-a7e74726ee0b"
      },
      "execution_count": null,
      "outputs": [
        {
          "output_type": "stream",
          "name": "stdout",
          "text": [
            "35\n"
          ]
        }
      ]
    },
    {
      "cell_type": "code",
      "source": [
        "avg = 0\n",
        "#initilization should not impact the initial operation\n",
        "n = len(runs)\n",
        "avg = sum/n\n",
        "print(avg)"
      ],
      "metadata": {
        "colab": {
          "base_uri": "https://localhost:8080/"
        },
        "id": "T-H0pBxUW4Hz",
        "outputId": "94ab4cba-0cc6-42a1-9ee0-98fb764f66b0"
      },
      "execution_count": null,
      "outputs": [
        {
          "output_type": "stream",
          "name": "stdout",
          "text": [
            "5.833333333333333\n"
          ]
        }
      ]
    },
    {
      "cell_type": "code",
      "source": [
        "max_runs = 0\n",
        "\n",
        "for i in runs:\n",
        "  if i > max_runs:\n",
        "    max_runs = i\n",
        "\n",
        "print(max_runs)"
      ],
      "metadata": {
        "colab": {
          "base_uri": "https://localhost:8080/"
        },
        "id": "_--W6s2fXa4X",
        "outputId": "a7d6e774-1e67-495d-ed49-e74eecd377de"
      },
      "execution_count": null,
      "outputs": [
        {
          "output_type": "stream",
          "name": "stdout",
          "text": [
            "9\n"
          ]
        }
      ]
    },
    {
      "cell_type": "code",
      "source": [
        "min_runs = max_runs\n",
        "\n",
        "for i in runs:\n",
        "  if i < min_runs:\n",
        "    min_runs = i\n",
        "\n",
        "print(min_runs)"
      ],
      "metadata": {
        "colab": {
          "base_uri": "https://localhost:8080/"
        },
        "id": "N6gmaYQEYg9n",
        "outputId": "0c3799ee-1afc-41f9-e176-0755276f04df"
      },
      "execution_count": null,
      "outputs": [
        {
          "output_type": "stream",
          "name": "stdout",
          "text": [
            "1\n"
          ]
        }
      ]
    },
    {
      "cell_type": "code",
      "source": [
        "a = [1,2,4,5,3]\n",
        "\n",
        "#hw - try to learn about sum\n",
        "max_i = max(a)\n",
        "min_i = min(a)\n",
        "\n",
        "print(max_i, min_i)"
      ],
      "metadata": {
        "colab": {
          "base_uri": "https://localhost:8080/"
        },
        "id": "Tq9ojFkGYzc_",
        "outputId": "10d214d3-4568-4c87-b444-e220aac01ff7"
      },
      "execution_count": null,
      "outputs": [
        {
          "output_type": "stream",
          "name": "stdout",
          "text": [
            "5 1\n"
          ]
        }
      ]
    },
    {
      "cell_type": "code",
      "source": [
        "'''\n",
        "Question2: Find length of the list without using len()\n",
        "'''\n",
        "\n",
        "a = [5,3,2,6,1,9,8]\n",
        "\n",
        "count = 0\n",
        "\n",
        "for i in a:\n",
        "  count = count + 1"
      ],
      "metadata": {
        "id": "FQxQaV1MaAZc"
      },
      "execution_count": null,
      "outputs": []
    },
    {
      "cell_type": "code",
      "source": [
        "print(count)"
      ],
      "metadata": {
        "colab": {
          "base_uri": "https://localhost:8080/"
        },
        "id": "vOMrxAsEbDyl",
        "outputId": "6037a80d-88ec-4ecc-fd61-1d0e303fd6d5"
      },
      "execution_count": null,
      "outputs": [
        {
          "output_type": "stream",
          "name": "stdout",
          "text": [
            "7\n"
          ]
        }
      ]
    },
    {
      "cell_type": "code",
      "source": [
        "a = [1,4,2,8,6,3]\n",
        "\n",
        "'''\n",
        "Question3:\n",
        "Find the sum of elements in a, present at odd indices\n",
        "'''\n",
        "\n",
        "# AJ doubt\n",
        "\n",
        "# index from elem? - NO\n",
        "# elem from index - Yes"
      ],
      "metadata": {
        "colab": {
          "base_uri": "https://localhost:8080/",
          "height": 35
        },
        "id": "f8nbnSsjbEmO",
        "outputId": "a7c40efe-cfba-4a55-e4a2-f377ba724db4"
      },
      "execution_count": null,
      "outputs": [
        {
          "output_type": "execute_result",
          "data": {
            "text/plain": [
              "'\\nQuestion3:\\nFind the sum of elements in a, present at odd indices\\n'"
            ],
            "application/vnd.google.colaboratory.intrinsic+json": {
              "type": "string"
            }
          },
          "metadata": {},
          "execution_count": 66
        }
      ]
    },
    {
      "cell_type": "code",
      "source": [
        "sum_odd = 0\n",
        "\n",
        "n = len(a)\n",
        "for i in range(n): #index is always from 0 to n-1\n",
        "  if i%2 != 0:\n",
        "    sum_odd = sum_odd + a[i]\n"
      ],
      "metadata": {
        "id": "BlcqApKOcE3O"
      },
      "execution_count": null,
      "outputs": []
    },
    {
      "cell_type": "code",
      "source": [
        "print(sum_odd)"
      ],
      "metadata": {
        "colab": {
          "base_uri": "https://localhost:8080/"
        },
        "id": "KLtRdnzzdBTE",
        "outputId": "0e13fdd1-4a39-4431-e3eb-c2df847ad943"
      },
      "execution_count": null,
      "outputs": [
        {
          "output_type": "stream",
          "name": "stdout",
          "text": [
            "15\n"
          ]
        }
      ]
    },
    {
      "cell_type": "code",
      "source": [],
      "metadata": {
        "id": "LYpmgPV6dDFu"
      },
      "execution_count": null,
      "outputs": []
    }
  ]
}