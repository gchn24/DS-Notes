{
  "cells": [
    {
      "cell_type": "markdown",
      "metadata": {
        "id": "view-in-github",
        "colab_type": "text"
      },
      "source": [
        "<a href=\"https://colab.research.google.com/github/gchn24/DS-Notes/blob/main/Test.ipynb\" target=\"_parent\"><img src=\"https://colab.research.google.com/assets/colab-badge.svg\" alt=\"Open In Colab\"/></a>"
      ]
    },
    {
      "cell_type": "code",
      "execution_count": null,
      "metadata": {
        "id": "UItQMlQto1KC"
      },
      "outputs": [],
      "source": [
        "#Control Statements 2\n"
      ]
    },
    {
      "cell_type": "code",
      "execution_count": null,
      "metadata": {
        "colab": {
          "base_uri": "https://localhost:8080/"
        },
        "id": "CtuHdS125OgN",
        "outputId": "9ba9e3ba-e1a5-42f3-8f98-2191624e18ac"
      },
      "outputs": [
        {
          "name": "stdout",
          "output_type": "stream",
          "text": [
            "9\n",
            "Positive\n"
          ]
        }
      ],
      "source": [
        "y = int(input())\n",
        "if y>0:\n",
        "  print('Positive')\n",
        "else:\n",
        "  print('Negative')  "
      ]
    },
    {
      "cell_type": "code",
      "execution_count": null,
      "metadata": {
        "colab": {
          "base_uri": "https://localhost:8080/"
        },
        "id": "CbNrJY-_6RXF",
        "outputId": "2fd6cabc-1a2d-4e1b-c141-f1bb1fb5598b"
      },
      "outputs": [
        {
          "name": "stdout",
          "output_type": "stream",
          "text": [
            "1\n",
            "Positive\n"
          ]
        }
      ],
      "source": [
        "y = int(input())\n",
        "if y>0:\n",
        "  print('Positive')\n",
        "elif y == 0:\n",
        "  print(0)  \n",
        "else:\n",
        "  print('Negative')  "
      ]
    },
    {
      "cell_type": "code",
      "execution_count": null,
      "metadata": {
        "id": "-OVkwhLy-sam"
      },
      "outputs": [],
      "source": [
        "#Q1\n",
        "\n",
        "# Build a meter system for an auto. Take into two inputs. Kilometers Travelled and Stall Time (in minutes). Rate List -\n",
        "\n",
        "# First 10 kms - Rs 10 per Km\n",
        "# Next 40 kms - Rs 9 per Km\n",
        "# Next 100 kms - Rs 8 per Km\n",
        "# Any leftover km count - Rs. 6 per Km\n",
        "# Rs 5 extra for every minute of Stall Time\n",
        "# print the final fare"
      ]
    },
    {
      "cell_type": "code",
      "execution_count": null,
      "metadata": {
        "colab": {
          "base_uri": "https://localhost:8080/"
        },
        "id": "L5cR1rZwTixi",
        "outputId": "3c33da4b-e9c9-4cf1-f2e8-32d3495abdc4"
      },
      "outputs": [
        {
          "output_type": "stream",
          "name": "stdout",
          "text": [
            "Enter KM travelled60\n",
            "Enter Stall Time0\n",
            "540\n"
          ]
        }
      ],
      "source": [
        "KM = int(input('Enter KM travelled'))\n",
        "ST = int(input('Enter Stall Time'))\n",
        "\n",
        "fare = 0\n",
        "fare+= 5*ST\n",
        "\n",
        "if 0<KM<=10:\n",
        "  fare+=KM*10\n",
        "elif 10<KM<=50:\n",
        "  fare+=10*10 + (KM-10)*9\n",
        "elif 50<KM<=150:\n",
        "  fare+=10*10+40*9+(KM-50)*8\n",
        "elif KM>150:\n",
        "  fare+= 10*10 + 40*9 + 100*8 + (KM-150)*6\n",
        "print(fare)       \n",
        "\n",
        "\n",
        "\n",
        "\n"
      ]
    },
    {
      "cell_type": "code",
      "execution_count": null,
      "metadata": {
        "id": "yIboRzunlm7v"
      },
      "outputs": [],
      "source": [
        "# Q2\n",
        "\n",
        "# Generate electricity bill using the following rate card. Take units consumed as input -\n",
        "\n",
        "# If < 100 units -> Free\n",
        "# If >= 100 units and < 200 units -> Rs 2 per unit\n",
        "# If >= 200 units -> Rs 5 per unit\n",
        "# print the final amount\n"
      ]
    },
    {
      "cell_type": "code",
      "execution_count": null,
      "metadata": {
        "colab": {
          "base_uri": "https://localhost:8080/"
        },
        "id": "EkkjBGqunvdK",
        "outputId": "eb763221-066b-42bc-f298-fc4827631cbc"
      },
      "outputs": [
        {
          "name": "stdout",
          "output_type": "stream",
          "text": [
            "201\n",
            "408\n"
          ]
        }
      ],
      "source": [
        "# Approach 1 : 99 Only Free when Units <=99\n",
        "\n",
        "Units = int(input())\n",
        "Amount = 0\n",
        "if (100 <= Units < 200):\n",
        "  Amount = Units*2\n",
        "elif Units >=200:\n",
        "  Amount = 199*2 + (Units-199)*5\n",
        "print(Amount)    "
      ]
    },
    {
      "cell_type": "code",
      "execution_count": null,
      "metadata": {
        "colab": {
          "base_uri": "https://localhost:8080/"
        },
        "id": "QVzBBNKTn3lI",
        "outputId": "4db81e4f-e973-4a42-8a9f-41edf71aff85"
      },
      "outputs": [
        {
          "name": "stdout",
          "output_type": "stream",
          "text": [
            "200\n",
            "205\n"
          ]
        }
      ],
      "source": [
        "# Approach 2 : 99 Units Always free\n",
        "\n",
        "Units = int(input())\n",
        "Amount = 0\n",
        "if (100 <= Units < 200):\n",
        "  Amount = (Units-99)*2\n",
        "elif Units >=200:\n",
        "  Amount = 100*2 + (Units-199)*5\n",
        "print(Amount)  "
      ]
    },
    {
      "cell_type": "code",
      "execution_count": null,
      "metadata": {
        "colab": {
          "base_uri": "https://localhost:8080/",
          "height": 35
        },
        "id": "2icTTHIEpJ4q",
        "outputId": "9750ef50-0d42-487b-8283-fe01978423b1"
      },
      "outputs": [
        {
          "output_type": "execute_result",
          "data": {
            "text/plain": [
              "'0b1010'"
            ],
            "application/vnd.google.colaboratory.intrinsic+json": {
              "type": "string"
            }
          },
          "metadata": {},
          "execution_count": 1
        }
      ],
      "source": [
        "# Maths Session\n",
        "\n",
        "bin(10)"
      ]
    },
    {
      "cell_type": "code",
      "source": [
        "bin(1010)"
      ],
      "metadata": {
        "colab": {
          "base_uri": "https://localhost:8080/",
          "height": 35
        },
        "id": "sZCQtIr5MYSR",
        "outputId": "1c2f8db4-78a4-46ea-b988-289b7b14345c"
      },
      "execution_count": null,
      "outputs": [
        {
          "output_type": "execute_result",
          "data": {
            "text/plain": [
              "'0b1111110010'"
            ],
            "application/vnd.google.colaboratory.intrinsic+json": {
              "type": "string"
            }
          },
          "metadata": {},
          "execution_count": 2
        }
      ]
    },
    {
      "cell_type": "code",
      "source": [
        "list(range(5,5))\n"
      ],
      "metadata": {
        "colab": {
          "base_uri": "https://localhost:8080/"
        },
        "id": "idGk6mMZMdzz",
        "outputId": "d5cdcab0-7be8-4d20-e15a-8d559600059e"
      },
      "execution_count": null,
      "outputs": [
        {
          "output_type": "execute_result",
          "data": {
            "text/plain": [
              "[]"
            ]
          },
          "metadata": {},
          "execution_count": 3
        }
      ]
    },
    {
      "cell_type": "code",
      "source": [
        "# Pattern Printing\n",
        "\n",
        "name = input()\n",
        "for i in range(len(name)):\n",
        "  for j in range(len(name)):\n",
        "    if i==j:\n",
        "      print(name[i],end= '')\n",
        "    else:\n",
        "      print('*',end='')\n",
        "  print() \n"
      ],
      "metadata": {
        "colab": {
          "base_uri": "https://localhost:8080/"
        },
        "id": "CvHt9WQjwHqL",
        "outputId": "7e36a988-f2d2-4858-9fb2-76667e6ef477"
      },
      "execution_count": 7,
      "outputs": [
        {
          "output_type": "stream",
          "name": "stdout",
          "text": [
            "Gaurav\n",
            "G*****\n",
            "*a****\n",
            "**u***\n",
            "***r**\n",
            "****a*\n",
            "*****v\n"
          ]
        }
      ]
    },
    {
      "cell_type": "code",
      "source": [
        "# Pattern Printing\n",
        "N = int(input())\n",
        "for i in range((N)):\n",
        "  for j in range((N)):\n",
        "    right = N-1-j\n",
        "    below = N-1-i\n",
        "    above = i\n",
        "    left = j\n",
        "    m = max(right,below,above,left)\n",
        "    print(m+1,end='')\n",
        "  print()"
      ],
      "metadata": {
        "colab": {
          "base_uri": "https://localhost:8080/"
        },
        "id": "IlG2RwHhzcvX",
        "outputId": "1eed6f83-1bb0-49c7-9ef5-022a7d98e095"
      },
      "execution_count": 13,
      "outputs": [
        {
          "output_type": "stream",
          "name": "stdout",
          "text": [
            "5\n",
            "55555\n",
            "54445\n",
            "54345\n",
            "54445\n",
            "55555\n"
          ]
        }
      ]
    }
  ],
  "metadata": {
    "colab": {
      "provenance": [],
      "authorship_tag": "ABX9TyOihMYG5z3AFoXlHS7rqjZY",
      "include_colab_link": true
    },
    "kernelspec": {
      "display_name": "Python 3",
      "name": "python3"
    },
    "language_info": {
      "name": "python"
    }
  },
  "nbformat": 4,
  "nbformat_minor": 0
}