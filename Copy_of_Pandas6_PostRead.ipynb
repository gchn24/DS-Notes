{
  "nbformat": 4,
  "nbformat_minor": 0,
  "metadata": {
    "colab": {
      "provenance": [],
      "include_colab_link": true
    },
    "kernelspec": {
      "name": "python3",
      "display_name": "Python 3"
    },
    "language_info": {
      "name": "python"
    }
  },
  "cells": [
    {
      "cell_type": "markdown",
      "metadata": {
        "id": "view-in-github",
        "colab_type": "text"
      },
      "source": [
        "<a href=\"https://colab.research.google.com/github/gchn24/DS-Notes/blob/main/Copy_of_Pandas6_PostRead.ipynb\" target=\"_parent\"><img src=\"https://colab.research.google.com/assets/colab-badge.svg\" alt=\"Open In Colab\"/></a>"
      ]
    },
    {
      "cell_type": "code",
      "source": [
        "!gdown 173A59xh2mnpmljCCB9bhC4C5eP2IS6qZ -O Pfizer_1.csv "
      ],
      "metadata": {
        "colab": {
          "base_uri": "https://localhost:8080/"
        },
        "id": "nTEXWk1-O5X5",
        "outputId": "8368c1b1-0b0e-41d0-fbfa-8e706ee5dfc8"
      },
      "execution_count": null,
      "outputs": [
        {
          "output_type": "stream",
          "name": "stdout",
          "text": [
            "Downloading...\n",
            "From: https://drive.google.com/uc?id=173A59xh2mnpmljCCB9bhC4C5eP2IS6qZ\n",
            "To: /content/Pfizer_1.csv\n",
            "\r  0% 0.00/1.51k [00:00<?, ?B/s]\r100% 1.51k/1.51k [00:00<00:00, 5.55MB/s]\n"
          ]
        }
      ]
    },
    {
      "cell_type": "code",
      "source": [
        "import pandas as pd\n",
        "import numpy as np"
      ],
      "metadata": {
        "id": "HfzOKVYnPDal"
      },
      "execution_count": null,
      "outputs": []
    },
    {
      "cell_type": "code",
      "source": [
        "data = pd.read_csv('Pfizer_1.csv')"
      ],
      "metadata": {
        "id": "tDy_17YLPHqW"
      },
      "execution_count": null,
      "outputs": []
    },
    {
      "cell_type": "markdown",
      "source": [
        "## More on missing values\n",
        "\n",
        "We have learnt how to fill values of one column using an estimator\n",
        "\n",
        "#### Let's play around a bit more\n",
        "\n",
        "We will look at two new methods, ```ffill``` and ```bfill```"
      ],
      "metadata": {
        "id": "YPqB4sEgzK-x"
      }
    },
    {
      "cell_type": "code",
      "source": [
        "sample_df = data.head(10)\n",
        "sample_df"
      ],
      "metadata": {
        "colab": {
          "base_uri": "https://localhost:8080/",
          "height": 363
        },
        "id": "0L_cUkJR_KUO",
        "outputId": "27a4dbe3-8536-46d4-d9f9-61988baaa017"
      },
      "execution_count": null,
      "outputs": [
        {
          "output_type": "execute_result",
          "data": {
            "text/plain": [
              "         Date                Drug_Name    Parameter  1:30:00  2:30:00  \\\n",
              "0  15-10-2020  diltiazem hydrochloride  Temperature     23.0     22.0   \n",
              "1  15-10-2020  diltiazem hydrochloride     Pressure     12.0     13.0   \n",
              "2  15-10-2020      docetaxel injection  Temperature      NaN     17.0   \n",
              "3  15-10-2020      docetaxel injection     Pressure      NaN     22.0   \n",
              "4  15-10-2020   ketamine hydrochloride  Temperature     24.0      NaN   \n",
              "5  15-10-2020   ketamine hydrochloride     Pressure      8.0      NaN   \n",
              "6  16-10-2020  diltiazem hydrochloride  Temperature     34.0     35.0   \n",
              "7  16-10-2020  diltiazem hydrochloride     Pressure     18.0     19.0   \n",
              "8  16-10-2020      docetaxel injection  Temperature     46.0     47.0   \n",
              "9  16-10-2020      docetaxel injection     Pressure     23.0     24.0   \n",
              "\n",
              "   3:30:00  4:30:00  5:30:00  6:30:00  7:30:00  8:30:00  9:30:00  10:30:00  \\\n",
              "0      NaN     21.0     21.0       22     23.0     21.0     22.0        20   \n",
              "1      NaN     11.0     13.0       14     16.0     16.0     24.0        18   \n",
              "2     18.0      NaN     17.0       18      NaN      NaN     23.0        23   \n",
              "3     22.0      NaN     22.0       23      NaN      NaN     27.0        26   \n",
              "4      NaN     27.0      NaN       26     25.0     24.0     23.0        22   \n",
              "5      NaN      7.0      NaN        9     10.0     11.0     10.0         9   \n",
              "6     36.0     36.0     37.0       38     37.0     38.0     39.0        40   \n",
              "7     20.0     21.0     22.0       23     24.0     25.0     25.0        24   \n",
              "8      NaN     48.0     48.0       49     50.0     52.0     55.0        56   \n",
              "9      NaN     25.0     26.0       27     28.0     29.0     28.0        28   \n",
              "\n",
              "   11:30:00  12:30:00  \n",
              "0      20.0        21  \n",
              "1      19.0        20  \n",
              "2      25.0        25  \n",
              "3      29.0        28  \n",
              "4      21.0        20  \n",
              "5       9.0        11  \n",
              "6       NaN        42  \n",
              "7       NaN        27  \n",
              "8      57.0        58  \n",
              "9      29.0        30  "
            ],
            "text/html": [
              "\n",
              "  <div id=\"df-faa82af5-ae93-441c-9175-611c207b6403\">\n",
              "    <div class=\"colab-df-container\">\n",
              "      <div>\n",
              "<style scoped>\n",
              "    .dataframe tbody tr th:only-of-type {\n",
              "        vertical-align: middle;\n",
              "    }\n",
              "\n",
              "    .dataframe tbody tr th {\n",
              "        vertical-align: top;\n",
              "    }\n",
              "\n",
              "    .dataframe thead th {\n",
              "        text-align: right;\n",
              "    }\n",
              "</style>\n",
              "<table border=\"1\" class=\"dataframe\">\n",
              "  <thead>\n",
              "    <tr style=\"text-align: right;\">\n",
              "      <th></th>\n",
              "      <th>Date</th>\n",
              "      <th>Drug_Name</th>\n",
              "      <th>Parameter</th>\n",
              "      <th>1:30:00</th>\n",
              "      <th>2:30:00</th>\n",
              "      <th>3:30:00</th>\n",
              "      <th>4:30:00</th>\n",
              "      <th>5:30:00</th>\n",
              "      <th>6:30:00</th>\n",
              "      <th>7:30:00</th>\n",
              "      <th>8:30:00</th>\n",
              "      <th>9:30:00</th>\n",
              "      <th>10:30:00</th>\n",
              "      <th>11:30:00</th>\n",
              "      <th>12:30:00</th>\n",
              "    </tr>\n",
              "  </thead>\n",
              "  <tbody>\n",
              "    <tr>\n",
              "      <th>0</th>\n",
              "      <td>15-10-2020</td>\n",
              "      <td>diltiazem hydrochloride</td>\n",
              "      <td>Temperature</td>\n",
              "      <td>23.0</td>\n",
              "      <td>22.0</td>\n",
              "      <td>NaN</td>\n",
              "      <td>21.0</td>\n",
              "      <td>21.0</td>\n",
              "      <td>22</td>\n",
              "      <td>23.0</td>\n",
              "      <td>21.0</td>\n",
              "      <td>22.0</td>\n",
              "      <td>20</td>\n",
              "      <td>20.0</td>\n",
              "      <td>21</td>\n",
              "    </tr>\n",
              "    <tr>\n",
              "      <th>1</th>\n",
              "      <td>15-10-2020</td>\n",
              "      <td>diltiazem hydrochloride</td>\n",
              "      <td>Pressure</td>\n",
              "      <td>12.0</td>\n",
              "      <td>13.0</td>\n",
              "      <td>NaN</td>\n",
              "      <td>11.0</td>\n",
              "      <td>13.0</td>\n",
              "      <td>14</td>\n",
              "      <td>16.0</td>\n",
              "      <td>16.0</td>\n",
              "      <td>24.0</td>\n",
              "      <td>18</td>\n",
              "      <td>19.0</td>\n",
              "      <td>20</td>\n",
              "    </tr>\n",
              "    <tr>\n",
              "      <th>2</th>\n",
              "      <td>15-10-2020</td>\n",
              "      <td>docetaxel injection</td>\n",
              "      <td>Temperature</td>\n",
              "      <td>NaN</td>\n",
              "      <td>17.0</td>\n",
              "      <td>18.0</td>\n",
              "      <td>NaN</td>\n",
              "      <td>17.0</td>\n",
              "      <td>18</td>\n",
              "      <td>NaN</td>\n",
              "      <td>NaN</td>\n",
              "      <td>23.0</td>\n",
              "      <td>23</td>\n",
              "      <td>25.0</td>\n",
              "      <td>25</td>\n",
              "    </tr>\n",
              "    <tr>\n",
              "      <th>3</th>\n",
              "      <td>15-10-2020</td>\n",
              "      <td>docetaxel injection</td>\n",
              "      <td>Pressure</td>\n",
              "      <td>NaN</td>\n",
              "      <td>22.0</td>\n",
              "      <td>22.0</td>\n",
              "      <td>NaN</td>\n",
              "      <td>22.0</td>\n",
              "      <td>23</td>\n",
              "      <td>NaN</td>\n",
              "      <td>NaN</td>\n",
              "      <td>27.0</td>\n",
              "      <td>26</td>\n",
              "      <td>29.0</td>\n",
              "      <td>28</td>\n",
              "    </tr>\n",
              "    <tr>\n",
              "      <th>4</th>\n",
              "      <td>15-10-2020</td>\n",
              "      <td>ketamine hydrochloride</td>\n",
              "      <td>Temperature</td>\n",
              "      <td>24.0</td>\n",
              "      <td>NaN</td>\n",
              "      <td>NaN</td>\n",
              "      <td>27.0</td>\n",
              "      <td>NaN</td>\n",
              "      <td>26</td>\n",
              "      <td>25.0</td>\n",
              "      <td>24.0</td>\n",
              "      <td>23.0</td>\n",
              "      <td>22</td>\n",
              "      <td>21.0</td>\n",
              "      <td>20</td>\n",
              "    </tr>\n",
              "    <tr>\n",
              "      <th>5</th>\n",
              "      <td>15-10-2020</td>\n",
              "      <td>ketamine hydrochloride</td>\n",
              "      <td>Pressure</td>\n",
              "      <td>8.0</td>\n",
              "      <td>NaN</td>\n",
              "      <td>NaN</td>\n",
              "      <td>7.0</td>\n",
              "      <td>NaN</td>\n",
              "      <td>9</td>\n",
              "      <td>10.0</td>\n",
              "      <td>11.0</td>\n",
              "      <td>10.0</td>\n",
              "      <td>9</td>\n",
              "      <td>9.0</td>\n",
              "      <td>11</td>\n",
              "    </tr>\n",
              "    <tr>\n",
              "      <th>6</th>\n",
              "      <td>16-10-2020</td>\n",
              "      <td>diltiazem hydrochloride</td>\n",
              "      <td>Temperature</td>\n",
              "      <td>34.0</td>\n",
              "      <td>35.0</td>\n",
              "      <td>36.0</td>\n",
              "      <td>36.0</td>\n",
              "      <td>37.0</td>\n",
              "      <td>38</td>\n",
              "      <td>37.0</td>\n",
              "      <td>38.0</td>\n",
              "      <td>39.0</td>\n",
              "      <td>40</td>\n",
              "      <td>NaN</td>\n",
              "      <td>42</td>\n",
              "    </tr>\n",
              "    <tr>\n",
              "      <th>7</th>\n",
              "      <td>16-10-2020</td>\n",
              "      <td>diltiazem hydrochloride</td>\n",
              "      <td>Pressure</td>\n",
              "      <td>18.0</td>\n",
              "      <td>19.0</td>\n",
              "      <td>20.0</td>\n",
              "      <td>21.0</td>\n",
              "      <td>22.0</td>\n",
              "      <td>23</td>\n",
              "      <td>24.0</td>\n",
              "      <td>25.0</td>\n",
              "      <td>25.0</td>\n",
              "      <td>24</td>\n",
              "      <td>NaN</td>\n",
              "      <td>27</td>\n",
              "    </tr>\n",
              "    <tr>\n",
              "      <th>8</th>\n",
              "      <td>16-10-2020</td>\n",
              "      <td>docetaxel injection</td>\n",
              "      <td>Temperature</td>\n",
              "      <td>46.0</td>\n",
              "      <td>47.0</td>\n",
              "      <td>NaN</td>\n",
              "      <td>48.0</td>\n",
              "      <td>48.0</td>\n",
              "      <td>49</td>\n",
              "      <td>50.0</td>\n",
              "      <td>52.0</td>\n",
              "      <td>55.0</td>\n",
              "      <td>56</td>\n",
              "      <td>57.0</td>\n",
              "      <td>58</td>\n",
              "    </tr>\n",
              "    <tr>\n",
              "      <th>9</th>\n",
              "      <td>16-10-2020</td>\n",
              "      <td>docetaxel injection</td>\n",
              "      <td>Pressure</td>\n",
              "      <td>23.0</td>\n",
              "      <td>24.0</td>\n",
              "      <td>NaN</td>\n",
              "      <td>25.0</td>\n",
              "      <td>26.0</td>\n",
              "      <td>27</td>\n",
              "      <td>28.0</td>\n",
              "      <td>29.0</td>\n",
              "      <td>28.0</td>\n",
              "      <td>28</td>\n",
              "      <td>29.0</td>\n",
              "      <td>30</td>\n",
              "    </tr>\n",
              "  </tbody>\n",
              "</table>\n",
              "</div>\n",
              "      <button class=\"colab-df-convert\" onclick=\"convertToInteractive('df-faa82af5-ae93-441c-9175-611c207b6403')\"\n",
              "              title=\"Convert this dataframe to an interactive table.\"\n",
              "              style=\"display:none;\">\n",
              "        \n",
              "  <svg xmlns=\"http://www.w3.org/2000/svg\" height=\"24px\"viewBox=\"0 0 24 24\"\n",
              "       width=\"24px\">\n",
              "    <path d=\"M0 0h24v24H0V0z\" fill=\"none\"/>\n",
              "    <path d=\"M18.56 5.44l.94 2.06.94-2.06 2.06-.94-2.06-.94-.94-2.06-.94 2.06-2.06.94zm-11 1L8.5 8.5l.94-2.06 2.06-.94-2.06-.94L8.5 2.5l-.94 2.06-2.06.94zm10 10l.94 2.06.94-2.06 2.06-.94-2.06-.94-.94-2.06-.94 2.06-2.06.94z\"/><path d=\"M17.41 7.96l-1.37-1.37c-.4-.4-.92-.59-1.43-.59-.52 0-1.04.2-1.43.59L10.3 9.45l-7.72 7.72c-.78.78-.78 2.05 0 2.83L4 21.41c.39.39.9.59 1.41.59.51 0 1.02-.2 1.41-.59l7.78-7.78 2.81-2.81c.8-.78.8-2.07 0-2.86zM5.41 20L4 18.59l7.72-7.72 1.47 1.35L5.41 20z\"/>\n",
              "  </svg>\n",
              "      </button>\n",
              "      \n",
              "  <style>\n",
              "    .colab-df-container {\n",
              "      display:flex;\n",
              "      flex-wrap:wrap;\n",
              "      gap: 12px;\n",
              "    }\n",
              "\n",
              "    .colab-df-convert {\n",
              "      background-color: #E8F0FE;\n",
              "      border: none;\n",
              "      border-radius: 50%;\n",
              "      cursor: pointer;\n",
              "      display: none;\n",
              "      fill: #1967D2;\n",
              "      height: 32px;\n",
              "      padding: 0 0 0 0;\n",
              "      width: 32px;\n",
              "    }\n",
              "\n",
              "    .colab-df-convert:hover {\n",
              "      background-color: #E2EBFA;\n",
              "      box-shadow: 0px 1px 2px rgba(60, 64, 67, 0.3), 0px 1px 3px 1px rgba(60, 64, 67, 0.15);\n",
              "      fill: #174EA6;\n",
              "    }\n",
              "\n",
              "    [theme=dark] .colab-df-convert {\n",
              "      background-color: #3B4455;\n",
              "      fill: #D2E3FC;\n",
              "    }\n",
              "\n",
              "    [theme=dark] .colab-df-convert:hover {\n",
              "      background-color: #434B5C;\n",
              "      box-shadow: 0px 1px 3px 1px rgba(0, 0, 0, 0.15);\n",
              "      filter: drop-shadow(0px 1px 2px rgba(0, 0, 0, 0.3));\n",
              "      fill: #FFFFFF;\n",
              "    }\n",
              "  </style>\n",
              "\n",
              "      <script>\n",
              "        const buttonEl =\n",
              "          document.querySelector('#df-faa82af5-ae93-441c-9175-611c207b6403 button.colab-df-convert');\n",
              "        buttonEl.style.display =\n",
              "          google.colab.kernel.accessAllowed ? 'block' : 'none';\n",
              "\n",
              "        async function convertToInteractive(key) {\n",
              "          const element = document.querySelector('#df-faa82af5-ae93-441c-9175-611c207b6403');\n",
              "          const dataTable =\n",
              "            await google.colab.kernel.invokeFunction('convertToInteractive',\n",
              "                                                     [key], {});\n",
              "          if (!dataTable) return;\n",
              "\n",
              "          const docLinkHtml = 'Like what you see? Visit the ' +\n",
              "            '<a target=\"_blank\" href=https://colab.research.google.com/notebooks/data_table.ipynb>data table notebook</a>'\n",
              "            + ' to learn more about interactive tables.';\n",
              "          element.innerHTML = '';\n",
              "          dataTable['output_type'] = 'display_data';\n",
              "          await google.colab.output.renderOutput(dataTable, element);\n",
              "          const docLink = document.createElement('div');\n",
              "          docLink.innerHTML = docLinkHtml;\n",
              "          element.appendChild(docLink);\n",
              "        }\n",
              "      </script>\n",
              "    </div>\n",
              "  </div>\n",
              "  "
            ]
          },
          "metadata": {},
          "execution_count": 63
        }
      ]
    },
    {
      "cell_type": "code",
      "source": [
        "sample_df.fillna(method='ffill')"
      ],
      "metadata": {
        "id": "XQrTgnmnzNMx",
        "colab": {
          "base_uri": "https://localhost:8080/",
          "height": 363
        },
        "outputId": "58820aa8-7d68-4718-ae7a-4aba0fa79406"
      },
      "execution_count": null,
      "outputs": [
        {
          "output_type": "execute_result",
          "data": {
            "text/plain": [
              "         Date                Drug_Name    Parameter  1:30:00  2:30:00  \\\n",
              "0  15-10-2020  diltiazem hydrochloride  Temperature     23.0     22.0   \n",
              "1  15-10-2020  diltiazem hydrochloride     Pressure     12.0     13.0   \n",
              "2  15-10-2020      docetaxel injection  Temperature     12.0     17.0   \n",
              "3  15-10-2020      docetaxel injection     Pressure     12.0     22.0   \n",
              "4  15-10-2020   ketamine hydrochloride  Temperature     24.0     22.0   \n",
              "5  15-10-2020   ketamine hydrochloride     Pressure      8.0     22.0   \n",
              "6  16-10-2020  diltiazem hydrochloride  Temperature     34.0     35.0   \n",
              "7  16-10-2020  diltiazem hydrochloride     Pressure     18.0     19.0   \n",
              "8  16-10-2020      docetaxel injection  Temperature     46.0     47.0   \n",
              "9  16-10-2020      docetaxel injection     Pressure     23.0     24.0   \n",
              "\n",
              "   3:30:00  4:30:00  5:30:00  6:30:00  7:30:00  8:30:00  9:30:00  10:30:00  \\\n",
              "0      NaN     21.0     21.0       22     23.0     21.0     22.0        20   \n",
              "1      NaN     11.0     13.0       14     16.0     16.0     24.0        18   \n",
              "2     18.0     11.0     17.0       18     16.0     16.0     23.0        23   \n",
              "3     22.0     11.0     22.0       23     16.0     16.0     27.0        26   \n",
              "4     22.0     27.0     22.0       26     25.0     24.0     23.0        22   \n",
              "5     22.0      7.0     22.0        9     10.0     11.0     10.0         9   \n",
              "6     36.0     36.0     37.0       38     37.0     38.0     39.0        40   \n",
              "7     20.0     21.0     22.0       23     24.0     25.0     25.0        24   \n",
              "8     20.0     48.0     48.0       49     50.0     52.0     55.0        56   \n",
              "9     20.0     25.0     26.0       27     28.0     29.0     28.0        28   \n",
              "\n",
              "   11:30:00  12:30:00  \n",
              "0      20.0        21  \n",
              "1      19.0        20  \n",
              "2      25.0        25  \n",
              "3      29.0        28  \n",
              "4      21.0        20  \n",
              "5       9.0        11  \n",
              "6       9.0        42  \n",
              "7       9.0        27  \n",
              "8      57.0        58  \n",
              "9      29.0        30  "
            ],
            "text/html": [
              "\n",
              "  <div id=\"df-bb9e5969-48d6-4e7b-90bb-681426ca2e8a\">\n",
              "    <div class=\"colab-df-container\">\n",
              "      <div>\n",
              "<style scoped>\n",
              "    .dataframe tbody tr th:only-of-type {\n",
              "        vertical-align: middle;\n",
              "    }\n",
              "\n",
              "    .dataframe tbody tr th {\n",
              "        vertical-align: top;\n",
              "    }\n",
              "\n",
              "    .dataframe thead th {\n",
              "        text-align: right;\n",
              "    }\n",
              "</style>\n",
              "<table border=\"1\" class=\"dataframe\">\n",
              "  <thead>\n",
              "    <tr style=\"text-align: right;\">\n",
              "      <th></th>\n",
              "      <th>Date</th>\n",
              "      <th>Drug_Name</th>\n",
              "      <th>Parameter</th>\n",
              "      <th>1:30:00</th>\n",
              "      <th>2:30:00</th>\n",
              "      <th>3:30:00</th>\n",
              "      <th>4:30:00</th>\n",
              "      <th>5:30:00</th>\n",
              "      <th>6:30:00</th>\n",
              "      <th>7:30:00</th>\n",
              "      <th>8:30:00</th>\n",
              "      <th>9:30:00</th>\n",
              "      <th>10:30:00</th>\n",
              "      <th>11:30:00</th>\n",
              "      <th>12:30:00</th>\n",
              "    </tr>\n",
              "  </thead>\n",
              "  <tbody>\n",
              "    <tr>\n",
              "      <th>0</th>\n",
              "      <td>15-10-2020</td>\n",
              "      <td>diltiazem hydrochloride</td>\n",
              "      <td>Temperature</td>\n",
              "      <td>23.0</td>\n",
              "      <td>22.0</td>\n",
              "      <td>NaN</td>\n",
              "      <td>21.0</td>\n",
              "      <td>21.0</td>\n",
              "      <td>22</td>\n",
              "      <td>23.0</td>\n",
              "      <td>21.0</td>\n",
              "      <td>22.0</td>\n",
              "      <td>20</td>\n",
              "      <td>20.0</td>\n",
              "      <td>21</td>\n",
              "    </tr>\n",
              "    <tr>\n",
              "      <th>1</th>\n",
              "      <td>15-10-2020</td>\n",
              "      <td>diltiazem hydrochloride</td>\n",
              "      <td>Pressure</td>\n",
              "      <td>12.0</td>\n",
              "      <td>13.0</td>\n",
              "      <td>NaN</td>\n",
              "      <td>11.0</td>\n",
              "      <td>13.0</td>\n",
              "      <td>14</td>\n",
              "      <td>16.0</td>\n",
              "      <td>16.0</td>\n",
              "      <td>24.0</td>\n",
              "      <td>18</td>\n",
              "      <td>19.0</td>\n",
              "      <td>20</td>\n",
              "    </tr>\n",
              "    <tr>\n",
              "      <th>2</th>\n",
              "      <td>15-10-2020</td>\n",
              "      <td>docetaxel injection</td>\n",
              "      <td>Temperature</td>\n",
              "      <td>12.0</td>\n",
              "      <td>17.0</td>\n",
              "      <td>18.0</td>\n",
              "      <td>11.0</td>\n",
              "      <td>17.0</td>\n",
              "      <td>18</td>\n",
              "      <td>16.0</td>\n",
              "      <td>16.0</td>\n",
              "      <td>23.0</td>\n",
              "      <td>23</td>\n",
              "      <td>25.0</td>\n",
              "      <td>25</td>\n",
              "    </tr>\n",
              "    <tr>\n",
              "      <th>3</th>\n",
              "      <td>15-10-2020</td>\n",
              "      <td>docetaxel injection</td>\n",
              "      <td>Pressure</td>\n",
              "      <td>12.0</td>\n",
              "      <td>22.0</td>\n",
              "      <td>22.0</td>\n",
              "      <td>11.0</td>\n",
              "      <td>22.0</td>\n",
              "      <td>23</td>\n",
              "      <td>16.0</td>\n",
              "      <td>16.0</td>\n",
              "      <td>27.0</td>\n",
              "      <td>26</td>\n",
              "      <td>29.0</td>\n",
              "      <td>28</td>\n",
              "    </tr>\n",
              "    <tr>\n",
              "      <th>4</th>\n",
              "      <td>15-10-2020</td>\n",
              "      <td>ketamine hydrochloride</td>\n",
              "      <td>Temperature</td>\n",
              "      <td>24.0</td>\n",
              "      <td>22.0</td>\n",
              "      <td>22.0</td>\n",
              "      <td>27.0</td>\n",
              "      <td>22.0</td>\n",
              "      <td>26</td>\n",
              "      <td>25.0</td>\n",
              "      <td>24.0</td>\n",
              "      <td>23.0</td>\n",
              "      <td>22</td>\n",
              "      <td>21.0</td>\n",
              "      <td>20</td>\n",
              "    </tr>\n",
              "    <tr>\n",
              "      <th>5</th>\n",
              "      <td>15-10-2020</td>\n",
              "      <td>ketamine hydrochloride</td>\n",
              "      <td>Pressure</td>\n",
              "      <td>8.0</td>\n",
              "      <td>22.0</td>\n",
              "      <td>22.0</td>\n",
              "      <td>7.0</td>\n",
              "      <td>22.0</td>\n",
              "      <td>9</td>\n",
              "      <td>10.0</td>\n",
              "      <td>11.0</td>\n",
              "      <td>10.0</td>\n",
              "      <td>9</td>\n",
              "      <td>9.0</td>\n",
              "      <td>11</td>\n",
              "    </tr>\n",
              "    <tr>\n",
              "      <th>6</th>\n",
              "      <td>16-10-2020</td>\n",
              "      <td>diltiazem hydrochloride</td>\n",
              "      <td>Temperature</td>\n",
              "      <td>34.0</td>\n",
              "      <td>35.0</td>\n",
              "      <td>36.0</td>\n",
              "      <td>36.0</td>\n",
              "      <td>37.0</td>\n",
              "      <td>38</td>\n",
              "      <td>37.0</td>\n",
              "      <td>38.0</td>\n",
              "      <td>39.0</td>\n",
              "      <td>40</td>\n",
              "      <td>9.0</td>\n",
              "      <td>42</td>\n",
              "    </tr>\n",
              "    <tr>\n",
              "      <th>7</th>\n",
              "      <td>16-10-2020</td>\n",
              "      <td>diltiazem hydrochloride</td>\n",
              "      <td>Pressure</td>\n",
              "      <td>18.0</td>\n",
              "      <td>19.0</td>\n",
              "      <td>20.0</td>\n",
              "      <td>21.0</td>\n",
              "      <td>22.0</td>\n",
              "      <td>23</td>\n",
              "      <td>24.0</td>\n",
              "      <td>25.0</td>\n",
              "      <td>25.0</td>\n",
              "      <td>24</td>\n",
              "      <td>9.0</td>\n",
              "      <td>27</td>\n",
              "    </tr>\n",
              "    <tr>\n",
              "      <th>8</th>\n",
              "      <td>16-10-2020</td>\n",
              "      <td>docetaxel injection</td>\n",
              "      <td>Temperature</td>\n",
              "      <td>46.0</td>\n",
              "      <td>47.0</td>\n",
              "      <td>20.0</td>\n",
              "      <td>48.0</td>\n",
              "      <td>48.0</td>\n",
              "      <td>49</td>\n",
              "      <td>50.0</td>\n",
              "      <td>52.0</td>\n",
              "      <td>55.0</td>\n",
              "      <td>56</td>\n",
              "      <td>57.0</td>\n",
              "      <td>58</td>\n",
              "    </tr>\n",
              "    <tr>\n",
              "      <th>9</th>\n",
              "      <td>16-10-2020</td>\n",
              "      <td>docetaxel injection</td>\n",
              "      <td>Pressure</td>\n",
              "      <td>23.0</td>\n",
              "      <td>24.0</td>\n",
              "      <td>20.0</td>\n",
              "      <td>25.0</td>\n",
              "      <td>26.0</td>\n",
              "      <td>27</td>\n",
              "      <td>28.0</td>\n",
              "      <td>29.0</td>\n",
              "      <td>28.0</td>\n",
              "      <td>28</td>\n",
              "      <td>29.0</td>\n",
              "      <td>30</td>\n",
              "    </tr>\n",
              "  </tbody>\n",
              "</table>\n",
              "</div>\n",
              "      <button class=\"colab-df-convert\" onclick=\"convertToInteractive('df-bb9e5969-48d6-4e7b-90bb-681426ca2e8a')\"\n",
              "              title=\"Convert this dataframe to an interactive table.\"\n",
              "              style=\"display:none;\">\n",
              "        \n",
              "  <svg xmlns=\"http://www.w3.org/2000/svg\" height=\"24px\"viewBox=\"0 0 24 24\"\n",
              "       width=\"24px\">\n",
              "    <path d=\"M0 0h24v24H0V0z\" fill=\"none\"/>\n",
              "    <path d=\"M18.56 5.44l.94 2.06.94-2.06 2.06-.94-2.06-.94-.94-2.06-.94 2.06-2.06.94zm-11 1L8.5 8.5l.94-2.06 2.06-.94-2.06-.94L8.5 2.5l-.94 2.06-2.06.94zm10 10l.94 2.06.94-2.06 2.06-.94-2.06-.94-.94-2.06-.94 2.06-2.06.94z\"/><path d=\"M17.41 7.96l-1.37-1.37c-.4-.4-.92-.59-1.43-.59-.52 0-1.04.2-1.43.59L10.3 9.45l-7.72 7.72c-.78.78-.78 2.05 0 2.83L4 21.41c.39.39.9.59 1.41.59.51 0 1.02-.2 1.41-.59l7.78-7.78 2.81-2.81c.8-.78.8-2.07 0-2.86zM5.41 20L4 18.59l7.72-7.72 1.47 1.35L5.41 20z\"/>\n",
              "  </svg>\n",
              "      </button>\n",
              "      \n",
              "  <style>\n",
              "    .colab-df-container {\n",
              "      display:flex;\n",
              "      flex-wrap:wrap;\n",
              "      gap: 12px;\n",
              "    }\n",
              "\n",
              "    .colab-df-convert {\n",
              "      background-color: #E8F0FE;\n",
              "      border: none;\n",
              "      border-radius: 50%;\n",
              "      cursor: pointer;\n",
              "      display: none;\n",
              "      fill: #1967D2;\n",
              "      height: 32px;\n",
              "      padding: 0 0 0 0;\n",
              "      width: 32px;\n",
              "    }\n",
              "\n",
              "    .colab-df-convert:hover {\n",
              "      background-color: #E2EBFA;\n",
              "      box-shadow: 0px 1px 2px rgba(60, 64, 67, 0.3), 0px 1px 3px 1px rgba(60, 64, 67, 0.15);\n",
              "      fill: #174EA6;\n",
              "    }\n",
              "\n",
              "    [theme=dark] .colab-df-convert {\n",
              "      background-color: #3B4455;\n",
              "      fill: #D2E3FC;\n",
              "    }\n",
              "\n",
              "    [theme=dark] .colab-df-convert:hover {\n",
              "      background-color: #434B5C;\n",
              "      box-shadow: 0px 1px 3px 1px rgba(0, 0, 0, 0.15);\n",
              "      filter: drop-shadow(0px 1px 2px rgba(0, 0, 0, 0.3));\n",
              "      fill: #FFFFFF;\n",
              "    }\n",
              "  </style>\n",
              "\n",
              "      <script>\n",
              "        const buttonEl =\n",
              "          document.querySelector('#df-bb9e5969-48d6-4e7b-90bb-681426ca2e8a button.colab-df-convert');\n",
              "        buttonEl.style.display =\n",
              "          google.colab.kernel.accessAllowed ? 'block' : 'none';\n",
              "\n",
              "        async function convertToInteractive(key) {\n",
              "          const element = document.querySelector('#df-bb9e5969-48d6-4e7b-90bb-681426ca2e8a');\n",
              "          const dataTable =\n",
              "            await google.colab.kernel.invokeFunction('convertToInteractive',\n",
              "                                                     [key], {});\n",
              "          if (!dataTable) return;\n",
              "\n",
              "          const docLinkHtml = 'Like what you see? Visit the ' +\n",
              "            '<a target=\"_blank\" href=https://colab.research.google.com/notebooks/data_table.ipynb>data table notebook</a>'\n",
              "            + ' to learn more about interactive tables.';\n",
              "          element.innerHTML = '';\n",
              "          dataTable['output_type'] = 'display_data';\n",
              "          await google.colab.output.renderOutput(dataTable, element);\n",
              "          const docLink = document.createElement('div');\n",
              "          docLink.innerHTML = docLinkHtml;\n",
              "          element.appendChild(docLink);\n",
              "        }\n",
              "      </script>\n",
              "    </div>\n",
              "  </div>\n",
              "  "
            ]
          },
          "metadata": {},
          "execution_count": 64
        }
      ]
    },
    {
      "cell_type": "markdown",
      "source": [
        "#### What do we notice here?\n",
        "\n",
        "Forward fill basically replaces the null value with the value just before it.\n",
        "\n",
        "Thus, at row 2, the NaN value of `1:30:00` column gets replaced by 12 value of row 1"
      ],
      "metadata": {
        "id": "B2FZnzZS_VeZ"
      }
    },
    {
      "cell_type": "code",
      "source": [
        "sample_df.fillna(method='bfill')"
      ],
      "metadata": {
        "colab": {
          "base_uri": "https://localhost:8080/",
          "height": 363
        },
        "id": "OjBHNWkU_iSX",
        "outputId": "c7b5fd9f-d550-4d2a-ba62-97d4d4da37ff"
      },
      "execution_count": null,
      "outputs": [
        {
          "output_type": "execute_result",
          "data": {
            "text/plain": [
              "         Date                Drug_Name    Parameter  1:30:00  2:30:00  \\\n",
              "0  15-10-2020  diltiazem hydrochloride  Temperature     23.0     22.0   \n",
              "1  15-10-2020  diltiazem hydrochloride     Pressure     12.0     13.0   \n",
              "2  15-10-2020      docetaxel injection  Temperature     24.0     17.0   \n",
              "3  15-10-2020      docetaxel injection     Pressure     24.0     22.0   \n",
              "4  15-10-2020   ketamine hydrochloride  Temperature     24.0     35.0   \n",
              "5  15-10-2020   ketamine hydrochloride     Pressure      8.0     35.0   \n",
              "6  16-10-2020  diltiazem hydrochloride  Temperature     34.0     35.0   \n",
              "7  16-10-2020  diltiazem hydrochloride     Pressure     18.0     19.0   \n",
              "8  16-10-2020      docetaxel injection  Temperature     46.0     47.0   \n",
              "9  16-10-2020      docetaxel injection     Pressure     23.0     24.0   \n",
              "\n",
              "   3:30:00  4:30:00  5:30:00  6:30:00  7:30:00  8:30:00  9:30:00  10:30:00  \\\n",
              "0     18.0     21.0     21.0       22     23.0     21.0     22.0        20   \n",
              "1     18.0     11.0     13.0       14     16.0     16.0     24.0        18   \n",
              "2     18.0     27.0     17.0       18     25.0     24.0     23.0        23   \n",
              "3     22.0     27.0     22.0       23     25.0     24.0     27.0        26   \n",
              "4     36.0     27.0     37.0       26     25.0     24.0     23.0        22   \n",
              "5     36.0      7.0     37.0        9     10.0     11.0     10.0         9   \n",
              "6     36.0     36.0     37.0       38     37.0     38.0     39.0        40   \n",
              "7     20.0     21.0     22.0       23     24.0     25.0     25.0        24   \n",
              "8      NaN     48.0     48.0       49     50.0     52.0     55.0        56   \n",
              "9      NaN     25.0     26.0       27     28.0     29.0     28.0        28   \n",
              "\n",
              "   11:30:00  12:30:00  \n",
              "0      20.0        21  \n",
              "1      19.0        20  \n",
              "2      25.0        25  \n",
              "3      29.0        28  \n",
              "4      21.0        20  \n",
              "5       9.0        11  \n",
              "6      57.0        42  \n",
              "7      57.0        27  \n",
              "8      57.0        58  \n",
              "9      29.0        30  "
            ],
            "text/html": [
              "\n",
              "  <div id=\"df-f48bdd68-6502-4b94-9d8f-31d27787fdfb\">\n",
              "    <div class=\"colab-df-container\">\n",
              "      <div>\n",
              "<style scoped>\n",
              "    .dataframe tbody tr th:only-of-type {\n",
              "        vertical-align: middle;\n",
              "    }\n",
              "\n",
              "    .dataframe tbody tr th {\n",
              "        vertical-align: top;\n",
              "    }\n",
              "\n",
              "    .dataframe thead th {\n",
              "        text-align: right;\n",
              "    }\n",
              "</style>\n",
              "<table border=\"1\" class=\"dataframe\">\n",
              "  <thead>\n",
              "    <tr style=\"text-align: right;\">\n",
              "      <th></th>\n",
              "      <th>Date</th>\n",
              "      <th>Drug_Name</th>\n",
              "      <th>Parameter</th>\n",
              "      <th>1:30:00</th>\n",
              "      <th>2:30:00</th>\n",
              "      <th>3:30:00</th>\n",
              "      <th>4:30:00</th>\n",
              "      <th>5:30:00</th>\n",
              "      <th>6:30:00</th>\n",
              "      <th>7:30:00</th>\n",
              "      <th>8:30:00</th>\n",
              "      <th>9:30:00</th>\n",
              "      <th>10:30:00</th>\n",
              "      <th>11:30:00</th>\n",
              "      <th>12:30:00</th>\n",
              "    </tr>\n",
              "  </thead>\n",
              "  <tbody>\n",
              "    <tr>\n",
              "      <th>0</th>\n",
              "      <td>15-10-2020</td>\n",
              "      <td>diltiazem hydrochloride</td>\n",
              "      <td>Temperature</td>\n",
              "      <td>23.0</td>\n",
              "      <td>22.0</td>\n",
              "      <td>18.0</td>\n",
              "      <td>21.0</td>\n",
              "      <td>21.0</td>\n",
              "      <td>22</td>\n",
              "      <td>23.0</td>\n",
              "      <td>21.0</td>\n",
              "      <td>22.0</td>\n",
              "      <td>20</td>\n",
              "      <td>20.0</td>\n",
              "      <td>21</td>\n",
              "    </tr>\n",
              "    <tr>\n",
              "      <th>1</th>\n",
              "      <td>15-10-2020</td>\n",
              "      <td>diltiazem hydrochloride</td>\n",
              "      <td>Pressure</td>\n",
              "      <td>12.0</td>\n",
              "      <td>13.0</td>\n",
              "      <td>18.0</td>\n",
              "      <td>11.0</td>\n",
              "      <td>13.0</td>\n",
              "      <td>14</td>\n",
              "      <td>16.0</td>\n",
              "      <td>16.0</td>\n",
              "      <td>24.0</td>\n",
              "      <td>18</td>\n",
              "      <td>19.0</td>\n",
              "      <td>20</td>\n",
              "    </tr>\n",
              "    <tr>\n",
              "      <th>2</th>\n",
              "      <td>15-10-2020</td>\n",
              "      <td>docetaxel injection</td>\n",
              "      <td>Temperature</td>\n",
              "      <td>24.0</td>\n",
              "      <td>17.0</td>\n",
              "      <td>18.0</td>\n",
              "      <td>27.0</td>\n",
              "      <td>17.0</td>\n",
              "      <td>18</td>\n",
              "      <td>25.0</td>\n",
              "      <td>24.0</td>\n",
              "      <td>23.0</td>\n",
              "      <td>23</td>\n",
              "      <td>25.0</td>\n",
              "      <td>25</td>\n",
              "    </tr>\n",
              "    <tr>\n",
              "      <th>3</th>\n",
              "      <td>15-10-2020</td>\n",
              "      <td>docetaxel injection</td>\n",
              "      <td>Pressure</td>\n",
              "      <td>24.0</td>\n",
              "      <td>22.0</td>\n",
              "      <td>22.0</td>\n",
              "      <td>27.0</td>\n",
              "      <td>22.0</td>\n",
              "      <td>23</td>\n",
              "      <td>25.0</td>\n",
              "      <td>24.0</td>\n",
              "      <td>27.0</td>\n",
              "      <td>26</td>\n",
              "      <td>29.0</td>\n",
              "      <td>28</td>\n",
              "    </tr>\n",
              "    <tr>\n",
              "      <th>4</th>\n",
              "      <td>15-10-2020</td>\n",
              "      <td>ketamine hydrochloride</td>\n",
              "      <td>Temperature</td>\n",
              "      <td>24.0</td>\n",
              "      <td>35.0</td>\n",
              "      <td>36.0</td>\n",
              "      <td>27.0</td>\n",
              "      <td>37.0</td>\n",
              "      <td>26</td>\n",
              "      <td>25.0</td>\n",
              "      <td>24.0</td>\n",
              "      <td>23.0</td>\n",
              "      <td>22</td>\n",
              "      <td>21.0</td>\n",
              "      <td>20</td>\n",
              "    </tr>\n",
              "    <tr>\n",
              "      <th>5</th>\n",
              "      <td>15-10-2020</td>\n",
              "      <td>ketamine hydrochloride</td>\n",
              "      <td>Pressure</td>\n",
              "      <td>8.0</td>\n",
              "      <td>35.0</td>\n",
              "      <td>36.0</td>\n",
              "      <td>7.0</td>\n",
              "      <td>37.0</td>\n",
              "      <td>9</td>\n",
              "      <td>10.0</td>\n",
              "      <td>11.0</td>\n",
              "      <td>10.0</td>\n",
              "      <td>9</td>\n",
              "      <td>9.0</td>\n",
              "      <td>11</td>\n",
              "    </tr>\n",
              "    <tr>\n",
              "      <th>6</th>\n",
              "      <td>16-10-2020</td>\n",
              "      <td>diltiazem hydrochloride</td>\n",
              "      <td>Temperature</td>\n",
              "      <td>34.0</td>\n",
              "      <td>35.0</td>\n",
              "      <td>36.0</td>\n",
              "      <td>36.0</td>\n",
              "      <td>37.0</td>\n",
              "      <td>38</td>\n",
              "      <td>37.0</td>\n",
              "      <td>38.0</td>\n",
              "      <td>39.0</td>\n",
              "      <td>40</td>\n",
              "      <td>57.0</td>\n",
              "      <td>42</td>\n",
              "    </tr>\n",
              "    <tr>\n",
              "      <th>7</th>\n",
              "      <td>16-10-2020</td>\n",
              "      <td>diltiazem hydrochloride</td>\n",
              "      <td>Pressure</td>\n",
              "      <td>18.0</td>\n",
              "      <td>19.0</td>\n",
              "      <td>20.0</td>\n",
              "      <td>21.0</td>\n",
              "      <td>22.0</td>\n",
              "      <td>23</td>\n",
              "      <td>24.0</td>\n",
              "      <td>25.0</td>\n",
              "      <td>25.0</td>\n",
              "      <td>24</td>\n",
              "      <td>57.0</td>\n",
              "      <td>27</td>\n",
              "    </tr>\n",
              "    <tr>\n",
              "      <th>8</th>\n",
              "      <td>16-10-2020</td>\n",
              "      <td>docetaxel injection</td>\n",
              "      <td>Temperature</td>\n",
              "      <td>46.0</td>\n",
              "      <td>47.0</td>\n",
              "      <td>NaN</td>\n",
              "      <td>48.0</td>\n",
              "      <td>48.0</td>\n",
              "      <td>49</td>\n",
              "      <td>50.0</td>\n",
              "      <td>52.0</td>\n",
              "      <td>55.0</td>\n",
              "      <td>56</td>\n",
              "      <td>57.0</td>\n",
              "      <td>58</td>\n",
              "    </tr>\n",
              "    <tr>\n",
              "      <th>9</th>\n",
              "      <td>16-10-2020</td>\n",
              "      <td>docetaxel injection</td>\n",
              "      <td>Pressure</td>\n",
              "      <td>23.0</td>\n",
              "      <td>24.0</td>\n",
              "      <td>NaN</td>\n",
              "      <td>25.0</td>\n",
              "      <td>26.0</td>\n",
              "      <td>27</td>\n",
              "      <td>28.0</td>\n",
              "      <td>29.0</td>\n",
              "      <td>28.0</td>\n",
              "      <td>28</td>\n",
              "      <td>29.0</td>\n",
              "      <td>30</td>\n",
              "    </tr>\n",
              "  </tbody>\n",
              "</table>\n",
              "</div>\n",
              "      <button class=\"colab-df-convert\" onclick=\"convertToInteractive('df-f48bdd68-6502-4b94-9d8f-31d27787fdfb')\"\n",
              "              title=\"Convert this dataframe to an interactive table.\"\n",
              "              style=\"display:none;\">\n",
              "        \n",
              "  <svg xmlns=\"http://www.w3.org/2000/svg\" height=\"24px\"viewBox=\"0 0 24 24\"\n",
              "       width=\"24px\">\n",
              "    <path d=\"M0 0h24v24H0V0z\" fill=\"none\"/>\n",
              "    <path d=\"M18.56 5.44l.94 2.06.94-2.06 2.06-.94-2.06-.94-.94-2.06-.94 2.06-2.06.94zm-11 1L8.5 8.5l.94-2.06 2.06-.94-2.06-.94L8.5 2.5l-.94 2.06-2.06.94zm10 10l.94 2.06.94-2.06 2.06-.94-2.06-.94-.94-2.06-.94 2.06-2.06.94z\"/><path d=\"M17.41 7.96l-1.37-1.37c-.4-.4-.92-.59-1.43-.59-.52 0-1.04.2-1.43.59L10.3 9.45l-7.72 7.72c-.78.78-.78 2.05 0 2.83L4 21.41c.39.39.9.59 1.41.59.51 0 1.02-.2 1.41-.59l7.78-7.78 2.81-2.81c.8-.78.8-2.07 0-2.86zM5.41 20L4 18.59l7.72-7.72 1.47 1.35L5.41 20z\"/>\n",
              "  </svg>\n",
              "      </button>\n",
              "      \n",
              "  <style>\n",
              "    .colab-df-container {\n",
              "      display:flex;\n",
              "      flex-wrap:wrap;\n",
              "      gap: 12px;\n",
              "    }\n",
              "\n",
              "    .colab-df-convert {\n",
              "      background-color: #E8F0FE;\n",
              "      border: none;\n",
              "      border-radius: 50%;\n",
              "      cursor: pointer;\n",
              "      display: none;\n",
              "      fill: #1967D2;\n",
              "      height: 32px;\n",
              "      padding: 0 0 0 0;\n",
              "      width: 32px;\n",
              "    }\n",
              "\n",
              "    .colab-df-convert:hover {\n",
              "      background-color: #E2EBFA;\n",
              "      box-shadow: 0px 1px 2px rgba(60, 64, 67, 0.3), 0px 1px 3px 1px rgba(60, 64, 67, 0.15);\n",
              "      fill: #174EA6;\n",
              "    }\n",
              "\n",
              "    [theme=dark] .colab-df-convert {\n",
              "      background-color: #3B4455;\n",
              "      fill: #D2E3FC;\n",
              "    }\n",
              "\n",
              "    [theme=dark] .colab-df-convert:hover {\n",
              "      background-color: #434B5C;\n",
              "      box-shadow: 0px 1px 3px 1px rgba(0, 0, 0, 0.15);\n",
              "      filter: drop-shadow(0px 1px 2px rgba(0, 0, 0, 0.3));\n",
              "      fill: #FFFFFF;\n",
              "    }\n",
              "  </style>\n",
              "\n",
              "      <script>\n",
              "        const buttonEl =\n",
              "          document.querySelector('#df-f48bdd68-6502-4b94-9d8f-31d27787fdfb button.colab-df-convert');\n",
              "        buttonEl.style.display =\n",
              "          google.colab.kernel.accessAllowed ? 'block' : 'none';\n",
              "\n",
              "        async function convertToInteractive(key) {\n",
              "          const element = document.querySelector('#df-f48bdd68-6502-4b94-9d8f-31d27787fdfb');\n",
              "          const dataTable =\n",
              "            await google.colab.kernel.invokeFunction('convertToInteractive',\n",
              "                                                     [key], {});\n",
              "          if (!dataTable) return;\n",
              "\n",
              "          const docLinkHtml = 'Like what you see? Visit the ' +\n",
              "            '<a target=\"_blank\" href=https://colab.research.google.com/notebooks/data_table.ipynb>data table notebook</a>'\n",
              "            + ' to learn more about interactive tables.';\n",
              "          element.innerHTML = '';\n",
              "          dataTable['output_type'] = 'display_data';\n",
              "          await google.colab.output.renderOutput(dataTable, element);\n",
              "          const docLink = document.createElement('div');\n",
              "          docLink.innerHTML = docLinkHtml;\n",
              "          element.appendChild(docLink);\n",
              "        }\n",
              "      </script>\n",
              "    </div>\n",
              "  </div>\n",
              "  "
            ]
          },
          "metadata": {},
          "execution_count": 65
        }
      ]
    },
    {
      "cell_type": "markdown",
      "source": [
        "#### Now what did bfill do exactly?\n",
        "\n",
        "Opposite to forward fill, it replaced the NaN values with the values after them.\n",
        "\n",
        "This replacement works upwards, while forward fill works downward."
      ],
      "metadata": {
        "id": "ayJuqLwJ_nVR"
      }
    },
    {
      "cell_type": "markdown",
      "source": [
        "#### Now let's look at another interesting concept, the change of dtype by fillna"
      ],
      "metadata": {
        "id": "eRQGJC00_7Ur"
      }
    },
    {
      "cell_type": "code",
      "source": [
        "sample_df.info()"
      ],
      "metadata": {
        "colab": {
          "base_uri": "https://localhost:8080/"
        },
        "id": "rm7xNIZx_6t-",
        "outputId": "12a2bb17-409f-4304-a60c-6c23ea9867b6"
      },
      "execution_count": null,
      "outputs": [
        {
          "output_type": "stream",
          "name": "stdout",
          "text": [
            "<class 'pandas.core.frame.DataFrame'>\n",
            "RangeIndex: 10 entries, 0 to 9\n",
            "Data columns (total 15 columns):\n",
            " #   Column     Non-Null Count  Dtype  \n",
            "---  ------     --------------  -----  \n",
            " 0   Date       10 non-null     object \n",
            " 1   Drug_Name  10 non-null     object \n",
            " 2   Parameter  10 non-null     object \n",
            " 3   1:30:00    8 non-null      float64\n",
            " 4   2:30:00    8 non-null      float64\n",
            " 5   3:30:00    4 non-null      float64\n",
            " 6   4:30:00    8 non-null      float64\n",
            " 7   5:30:00    8 non-null      float64\n",
            " 8   6:30:00    10 non-null     int64  \n",
            " 9   7:30:00    8 non-null      float64\n",
            " 10  8:30:00    8 non-null      float64\n",
            " 11  9:30:00    10 non-null     float64\n",
            " 12  10:30:00   10 non-null     int64  \n",
            " 13  11:30:00   8 non-null      float64\n",
            " 14  12:30:00   10 non-null     int64  \n",
            "dtypes: float64(9), int64(3), object(3)\n",
            "memory usage: 1.3+ KB\n"
          ]
        }
      ]
    },
    {
      "cell_type": "markdown",
      "source": [
        "As we can see, the dtype of `1:30:00` column is float64\n",
        "\n",
        "Now what happens if we use fillna on this?"
      ],
      "metadata": {
        "id": "Zl-6pLG8ANiQ"
      }
    },
    {
      "cell_type": "code",
      "source": [
        "sample_df.fillna(0).info()"
      ],
      "metadata": {
        "colab": {
          "base_uri": "https://localhost:8080/"
        },
        "id": "nh4apUohAT8s",
        "outputId": "d3fa7039-eff0-4471-db79-d100733fded8"
      },
      "execution_count": null,
      "outputs": [
        {
          "output_type": "stream",
          "name": "stdout",
          "text": [
            "<class 'pandas.core.frame.DataFrame'>\n",
            "RangeIndex: 10 entries, 0 to 9\n",
            "Data columns (total 15 columns):\n",
            " #   Column     Non-Null Count  Dtype  \n",
            "---  ------     --------------  -----  \n",
            " 0   Date       10 non-null     object \n",
            " 1   Drug_Name  10 non-null     object \n",
            " 2   Parameter  10 non-null     object \n",
            " 3   1:30:00    10 non-null     float64\n",
            " 4   2:30:00    10 non-null     float64\n",
            " 5   3:30:00    10 non-null     float64\n",
            " 6   4:30:00    10 non-null     float64\n",
            " 7   5:30:00    10 non-null     float64\n",
            " 8   6:30:00    10 non-null     int64  \n",
            " 9   7:30:00    10 non-null     float64\n",
            " 10  8:30:00    10 non-null     float64\n",
            " 11  9:30:00    10 non-null     float64\n",
            " 12  10:30:00   10 non-null     int64  \n",
            " 13  11:30:00   10 non-null     float64\n",
            " 14  12:30:00   10 non-null     int64  \n",
            "dtypes: float64(9), int64(3), object(3)\n",
            "memory usage: 1.3+ KB\n"
          ]
        }
      ]
    },
    {
      "cell_type": "markdown",
      "source": [
        "It's the same, but now, what if we use a string in fillna?"
      ],
      "metadata": {
        "id": "KsBlj_nfAaLZ"
      }
    },
    {
      "cell_type": "code",
      "source": [
        "sample_df.fillna(\"Couldn't Take Reading\").info()"
      ],
      "metadata": {
        "colab": {
          "base_uri": "https://localhost:8080/"
        },
        "id": "TlM9CBjyAeNI",
        "outputId": "efa8beb0-5929-42d5-af80-d960c3c26fe2"
      },
      "execution_count": null,
      "outputs": [
        {
          "output_type": "stream",
          "name": "stdout",
          "text": [
            "<class 'pandas.core.frame.DataFrame'>\n",
            "RangeIndex: 10 entries, 0 to 9\n",
            "Data columns (total 15 columns):\n",
            " #   Column     Non-Null Count  Dtype  \n",
            "---  ------     --------------  -----  \n",
            " 0   Date       10 non-null     object \n",
            " 1   Drug_Name  10 non-null     object \n",
            " 2   Parameter  10 non-null     object \n",
            " 3   1:30:00    10 non-null     object \n",
            " 4   2:30:00    10 non-null     object \n",
            " 5   3:30:00    10 non-null     object \n",
            " 6   4:30:00    10 non-null     object \n",
            " 7   5:30:00    10 non-null     object \n",
            " 8   6:30:00    10 non-null     int64  \n",
            " 9   7:30:00    10 non-null     object \n",
            " 10  8:30:00    10 non-null     object \n",
            " 11  9:30:00    10 non-null     float64\n",
            " 12  10:30:00   10 non-null     int64  \n",
            " 13  11:30:00   10 non-null     object \n",
            " 14  12:30:00   10 non-null     int64  \n",
            "dtypes: float64(1), int64(3), object(11)\n",
            "memory usage: 1.3+ KB\n"
          ]
        }
      ]
    },
    {
      "cell_type": "markdown",
      "source": [
        "#### When we replace the value with string, it changes the dtype of object.\n",
        "\n",
        "Remember from our earlier discussions, a string based column is considered an object dtype\n",
        "\n",
        "This is what exactly happened here."
      ],
      "metadata": {
        "id": "wQVHCx4UAq1a"
      }
    },
    {
      "cell_type": "code",
      "source": [
        "data_melt = pd.melt(data,id_vars = ['Date', 'Drug_Name', 'Parameter'], \n",
        "            var_name = \"time\",      \n",
        "            value_name = 'reading')  \n",
        "\n",
        "data_melt"
      ],
      "metadata": {
        "colab": {
          "base_uri": "https://localhost:8080/",
          "height": 423
        },
        "id": "mhMt306uPSzR",
        "outputId": "55e37ef5-71f7-4b93-a6a3-6021c864ddf6"
      },
      "execution_count": null,
      "outputs": [
        {
          "output_type": "execute_result",
          "data": {
            "text/plain": [
              "           Date                Drug_Name    Parameter      time  reading\n",
              "0    15-10-2020  diltiazem hydrochloride  Temperature   1:30:00     23.0\n",
              "1    15-10-2020  diltiazem hydrochloride     Pressure   1:30:00     12.0\n",
              "2    15-10-2020      docetaxel injection  Temperature   1:30:00      NaN\n",
              "3    15-10-2020      docetaxel injection     Pressure   1:30:00      NaN\n",
              "4    15-10-2020   ketamine hydrochloride  Temperature   1:30:00     24.0\n",
              "..          ...                      ...          ...       ...      ...\n",
              "211  17-10-2020  diltiazem hydrochloride     Pressure  12:30:00     14.0\n",
              "212  17-10-2020      docetaxel injection  Temperature  12:30:00     23.0\n",
              "213  17-10-2020      docetaxel injection     Pressure  12:30:00     28.0\n",
              "214  17-10-2020   ketamine hydrochloride  Temperature  12:30:00     24.0\n",
              "215  17-10-2020   ketamine hydrochloride     Pressure  12:30:00     15.0\n",
              "\n",
              "[216 rows x 5 columns]"
            ],
            "text/html": [
              "\n",
              "  <div id=\"df-580fc92b-dc75-4b9b-8691-a0c2086fe9fb\">\n",
              "    <div class=\"colab-df-container\">\n",
              "      <div>\n",
              "<style scoped>\n",
              "    .dataframe tbody tr th:only-of-type {\n",
              "        vertical-align: middle;\n",
              "    }\n",
              "\n",
              "    .dataframe tbody tr th {\n",
              "        vertical-align: top;\n",
              "    }\n",
              "\n",
              "    .dataframe thead th {\n",
              "        text-align: right;\n",
              "    }\n",
              "</style>\n",
              "<table border=\"1\" class=\"dataframe\">\n",
              "  <thead>\n",
              "    <tr style=\"text-align: right;\">\n",
              "      <th></th>\n",
              "      <th>Date</th>\n",
              "      <th>Drug_Name</th>\n",
              "      <th>Parameter</th>\n",
              "      <th>time</th>\n",
              "      <th>reading</th>\n",
              "    </tr>\n",
              "  </thead>\n",
              "  <tbody>\n",
              "    <tr>\n",
              "      <th>0</th>\n",
              "      <td>15-10-2020</td>\n",
              "      <td>diltiazem hydrochloride</td>\n",
              "      <td>Temperature</td>\n",
              "      <td>1:30:00</td>\n",
              "      <td>23.0</td>\n",
              "    </tr>\n",
              "    <tr>\n",
              "      <th>1</th>\n",
              "      <td>15-10-2020</td>\n",
              "      <td>diltiazem hydrochloride</td>\n",
              "      <td>Pressure</td>\n",
              "      <td>1:30:00</td>\n",
              "      <td>12.0</td>\n",
              "    </tr>\n",
              "    <tr>\n",
              "      <th>2</th>\n",
              "      <td>15-10-2020</td>\n",
              "      <td>docetaxel injection</td>\n",
              "      <td>Temperature</td>\n",
              "      <td>1:30:00</td>\n",
              "      <td>NaN</td>\n",
              "    </tr>\n",
              "    <tr>\n",
              "      <th>3</th>\n",
              "      <td>15-10-2020</td>\n",
              "      <td>docetaxel injection</td>\n",
              "      <td>Pressure</td>\n",
              "      <td>1:30:00</td>\n",
              "      <td>NaN</td>\n",
              "    </tr>\n",
              "    <tr>\n",
              "      <th>4</th>\n",
              "      <td>15-10-2020</td>\n",
              "      <td>ketamine hydrochloride</td>\n",
              "      <td>Temperature</td>\n",
              "      <td>1:30:00</td>\n",
              "      <td>24.0</td>\n",
              "    </tr>\n",
              "    <tr>\n",
              "      <th>...</th>\n",
              "      <td>...</td>\n",
              "      <td>...</td>\n",
              "      <td>...</td>\n",
              "      <td>...</td>\n",
              "      <td>...</td>\n",
              "    </tr>\n",
              "    <tr>\n",
              "      <th>211</th>\n",
              "      <td>17-10-2020</td>\n",
              "      <td>diltiazem hydrochloride</td>\n",
              "      <td>Pressure</td>\n",
              "      <td>12:30:00</td>\n",
              "      <td>14.0</td>\n",
              "    </tr>\n",
              "    <tr>\n",
              "      <th>212</th>\n",
              "      <td>17-10-2020</td>\n",
              "      <td>docetaxel injection</td>\n",
              "      <td>Temperature</td>\n",
              "      <td>12:30:00</td>\n",
              "      <td>23.0</td>\n",
              "    </tr>\n",
              "    <tr>\n",
              "      <th>213</th>\n",
              "      <td>17-10-2020</td>\n",
              "      <td>docetaxel injection</td>\n",
              "      <td>Pressure</td>\n",
              "      <td>12:30:00</td>\n",
              "      <td>28.0</td>\n",
              "    </tr>\n",
              "    <tr>\n",
              "      <th>214</th>\n",
              "      <td>17-10-2020</td>\n",
              "      <td>ketamine hydrochloride</td>\n",
              "      <td>Temperature</td>\n",
              "      <td>12:30:00</td>\n",
              "      <td>24.0</td>\n",
              "    </tr>\n",
              "    <tr>\n",
              "      <th>215</th>\n",
              "      <td>17-10-2020</td>\n",
              "      <td>ketamine hydrochloride</td>\n",
              "      <td>Pressure</td>\n",
              "      <td>12:30:00</td>\n",
              "      <td>15.0</td>\n",
              "    </tr>\n",
              "  </tbody>\n",
              "</table>\n",
              "<p>216 rows × 5 columns</p>\n",
              "</div>\n",
              "      <button class=\"colab-df-convert\" onclick=\"convertToInteractive('df-580fc92b-dc75-4b9b-8691-a0c2086fe9fb')\"\n",
              "              title=\"Convert this dataframe to an interactive table.\"\n",
              "              style=\"display:none;\">\n",
              "        \n",
              "  <svg xmlns=\"http://www.w3.org/2000/svg\" height=\"24px\"viewBox=\"0 0 24 24\"\n",
              "       width=\"24px\">\n",
              "    <path d=\"M0 0h24v24H0V0z\" fill=\"none\"/>\n",
              "    <path d=\"M18.56 5.44l.94 2.06.94-2.06 2.06-.94-2.06-.94-.94-2.06-.94 2.06-2.06.94zm-11 1L8.5 8.5l.94-2.06 2.06-.94-2.06-.94L8.5 2.5l-.94 2.06-2.06.94zm10 10l.94 2.06.94-2.06 2.06-.94-2.06-.94-.94-2.06-.94 2.06-2.06.94z\"/><path d=\"M17.41 7.96l-1.37-1.37c-.4-.4-.92-.59-1.43-.59-.52 0-1.04.2-1.43.59L10.3 9.45l-7.72 7.72c-.78.78-.78 2.05 0 2.83L4 21.41c.39.39.9.59 1.41.59.51 0 1.02-.2 1.41-.59l7.78-7.78 2.81-2.81c.8-.78.8-2.07 0-2.86zM5.41 20L4 18.59l7.72-7.72 1.47 1.35L5.41 20z\"/>\n",
              "  </svg>\n",
              "      </button>\n",
              "      \n",
              "  <style>\n",
              "    .colab-df-container {\n",
              "      display:flex;\n",
              "      flex-wrap:wrap;\n",
              "      gap: 12px;\n",
              "    }\n",
              "\n",
              "    .colab-df-convert {\n",
              "      background-color: #E8F0FE;\n",
              "      border: none;\n",
              "      border-radius: 50%;\n",
              "      cursor: pointer;\n",
              "      display: none;\n",
              "      fill: #1967D2;\n",
              "      height: 32px;\n",
              "      padding: 0 0 0 0;\n",
              "      width: 32px;\n",
              "    }\n",
              "\n",
              "    .colab-df-convert:hover {\n",
              "      background-color: #E2EBFA;\n",
              "      box-shadow: 0px 1px 2px rgba(60, 64, 67, 0.3), 0px 1px 3px 1px rgba(60, 64, 67, 0.15);\n",
              "      fill: #174EA6;\n",
              "    }\n",
              "\n",
              "    [theme=dark] .colab-df-convert {\n",
              "      background-color: #3B4455;\n",
              "      fill: #D2E3FC;\n",
              "    }\n",
              "\n",
              "    [theme=dark] .colab-df-convert:hover {\n",
              "      background-color: #434B5C;\n",
              "      box-shadow: 0px 1px 3px 1px rgba(0, 0, 0, 0.15);\n",
              "      filter: drop-shadow(0px 1px 2px rgba(0, 0, 0, 0.3));\n",
              "      fill: #FFFFFF;\n",
              "    }\n",
              "  </style>\n",
              "\n",
              "      <script>\n",
              "        const buttonEl =\n",
              "          document.querySelector('#df-580fc92b-dc75-4b9b-8691-a0c2086fe9fb button.colab-df-convert');\n",
              "        buttonEl.style.display =\n",
              "          google.colab.kernel.accessAllowed ? 'block' : 'none';\n",
              "\n",
              "        async function convertToInteractive(key) {\n",
              "          const element = document.querySelector('#df-580fc92b-dc75-4b9b-8691-a0c2086fe9fb');\n",
              "          const dataTable =\n",
              "            await google.colab.kernel.invokeFunction('convertToInteractive',\n",
              "                                                     [key], {});\n",
              "          if (!dataTable) return;\n",
              "\n",
              "          const docLinkHtml = 'Like what you see? Visit the ' +\n",
              "            '<a target=\"_blank\" href=https://colab.research.google.com/notebooks/data_table.ipynb>data table notebook</a>'\n",
              "            + ' to learn more about interactive tables.';\n",
              "          element.innerHTML = '';\n",
              "          dataTable['output_type'] = 'display_data';\n",
              "          await google.colab.output.renderOutput(dataTable, element);\n",
              "          const docLink = document.createElement('div');\n",
              "          docLink.innerHTML = docLinkHtml;\n",
              "          element.appendChild(docLink);\n",
              "        }\n",
              "      </script>\n",
              "    </div>\n",
              "  </div>\n",
              "  "
            ]
          },
          "metadata": {},
          "execution_count": 69
        }
      ]
    },
    {
      "cell_type": "code",
      "source": [
        "data_tidy = data_melt.pivot(index=['Date','time', 'Drug_Name'], \n",
        "                                        columns = 'Parameter',  \n",
        "                                        values='reading') \n",
        "\n",
        "data_tidy"
      ],
      "metadata": {
        "colab": {
          "base_uri": "https://localhost:8080/",
          "height": 455
        },
        "id": "DJxr2qquPNz1",
        "outputId": "969d7f7b-3b05-4b30-82e8-f7425cb621ce"
      },
      "execution_count": null,
      "outputs": [
        {
          "output_type": "execute_result",
          "data": {
            "text/plain": [
              "Parameter                                    Pressure  Temperature\n",
              "Date       time     Drug_Name                                     \n",
              "15-10-2020 10:30:00 diltiazem hydrochloride      18.0         20.0\n",
              "                    docetaxel injection          26.0         23.0\n",
              "                    ketamine hydrochloride        9.0         22.0\n",
              "           11:30:00 diltiazem hydrochloride      19.0         20.0\n",
              "                    docetaxel injection          29.0         25.0\n",
              "...                                               ...          ...\n",
              "17-10-2020 8:30:00  docetaxel injection          26.0         19.0\n",
              "                    ketamine hydrochloride       11.0         20.0\n",
              "           9:30:00  diltiazem hydrochloride       9.0         13.0\n",
              "                    docetaxel injection          27.0         20.0\n",
              "                    ketamine hydrochloride       12.0         21.0\n",
              "\n",
              "[108 rows x 2 columns]"
            ],
            "text/html": [
              "\n",
              "  <div id=\"df-f7836640-6dc8-4cff-96eb-104c3d0a8661\">\n",
              "    <div class=\"colab-df-container\">\n",
              "      <div>\n",
              "<style scoped>\n",
              "    .dataframe tbody tr th:only-of-type {\n",
              "        vertical-align: middle;\n",
              "    }\n",
              "\n",
              "    .dataframe tbody tr th {\n",
              "        vertical-align: top;\n",
              "    }\n",
              "\n",
              "    .dataframe thead th {\n",
              "        text-align: right;\n",
              "    }\n",
              "</style>\n",
              "<table border=\"1\" class=\"dataframe\">\n",
              "  <thead>\n",
              "    <tr style=\"text-align: right;\">\n",
              "      <th></th>\n",
              "      <th></th>\n",
              "      <th>Parameter</th>\n",
              "      <th>Pressure</th>\n",
              "      <th>Temperature</th>\n",
              "    </tr>\n",
              "    <tr>\n",
              "      <th>Date</th>\n",
              "      <th>time</th>\n",
              "      <th>Drug_Name</th>\n",
              "      <th></th>\n",
              "      <th></th>\n",
              "    </tr>\n",
              "  </thead>\n",
              "  <tbody>\n",
              "    <tr>\n",
              "      <th rowspan=\"5\" valign=\"top\">15-10-2020</th>\n",
              "      <th rowspan=\"3\" valign=\"top\">10:30:00</th>\n",
              "      <th>diltiazem hydrochloride</th>\n",
              "      <td>18.0</td>\n",
              "      <td>20.0</td>\n",
              "    </tr>\n",
              "    <tr>\n",
              "      <th>docetaxel injection</th>\n",
              "      <td>26.0</td>\n",
              "      <td>23.0</td>\n",
              "    </tr>\n",
              "    <tr>\n",
              "      <th>ketamine hydrochloride</th>\n",
              "      <td>9.0</td>\n",
              "      <td>22.0</td>\n",
              "    </tr>\n",
              "    <tr>\n",
              "      <th rowspan=\"2\" valign=\"top\">11:30:00</th>\n",
              "      <th>diltiazem hydrochloride</th>\n",
              "      <td>19.0</td>\n",
              "      <td>20.0</td>\n",
              "    </tr>\n",
              "    <tr>\n",
              "      <th>docetaxel injection</th>\n",
              "      <td>29.0</td>\n",
              "      <td>25.0</td>\n",
              "    </tr>\n",
              "    <tr>\n",
              "      <th>...</th>\n",
              "      <th>...</th>\n",
              "      <th>...</th>\n",
              "      <td>...</td>\n",
              "      <td>...</td>\n",
              "    </tr>\n",
              "    <tr>\n",
              "      <th rowspan=\"5\" valign=\"top\">17-10-2020</th>\n",
              "      <th rowspan=\"2\" valign=\"top\">8:30:00</th>\n",
              "      <th>docetaxel injection</th>\n",
              "      <td>26.0</td>\n",
              "      <td>19.0</td>\n",
              "    </tr>\n",
              "    <tr>\n",
              "      <th>ketamine hydrochloride</th>\n",
              "      <td>11.0</td>\n",
              "      <td>20.0</td>\n",
              "    </tr>\n",
              "    <tr>\n",
              "      <th rowspan=\"3\" valign=\"top\">9:30:00</th>\n",
              "      <th>diltiazem hydrochloride</th>\n",
              "      <td>9.0</td>\n",
              "      <td>13.0</td>\n",
              "    </tr>\n",
              "    <tr>\n",
              "      <th>docetaxel injection</th>\n",
              "      <td>27.0</td>\n",
              "      <td>20.0</td>\n",
              "    </tr>\n",
              "    <tr>\n",
              "      <th>ketamine hydrochloride</th>\n",
              "      <td>12.0</td>\n",
              "      <td>21.0</td>\n",
              "    </tr>\n",
              "  </tbody>\n",
              "</table>\n",
              "<p>108 rows × 2 columns</p>\n",
              "</div>\n",
              "      <button class=\"colab-df-convert\" onclick=\"convertToInteractive('df-f7836640-6dc8-4cff-96eb-104c3d0a8661')\"\n",
              "              title=\"Convert this dataframe to an interactive table.\"\n",
              "              style=\"display:none;\">\n",
              "        \n",
              "  <svg xmlns=\"http://www.w3.org/2000/svg\" height=\"24px\"viewBox=\"0 0 24 24\"\n",
              "       width=\"24px\">\n",
              "    <path d=\"M0 0h24v24H0V0z\" fill=\"none\"/>\n",
              "    <path d=\"M18.56 5.44l.94 2.06.94-2.06 2.06-.94-2.06-.94-.94-2.06-.94 2.06-2.06.94zm-11 1L8.5 8.5l.94-2.06 2.06-.94-2.06-.94L8.5 2.5l-.94 2.06-2.06.94zm10 10l.94 2.06.94-2.06 2.06-.94-2.06-.94-.94-2.06-.94 2.06-2.06.94z\"/><path d=\"M17.41 7.96l-1.37-1.37c-.4-.4-.92-.59-1.43-.59-.52 0-1.04.2-1.43.59L10.3 9.45l-7.72 7.72c-.78.78-.78 2.05 0 2.83L4 21.41c.39.39.9.59 1.41.59.51 0 1.02-.2 1.41-.59l7.78-7.78 2.81-2.81c.8-.78.8-2.07 0-2.86zM5.41 20L4 18.59l7.72-7.72 1.47 1.35L5.41 20z\"/>\n",
              "  </svg>\n",
              "      </button>\n",
              "      \n",
              "  <style>\n",
              "    .colab-df-container {\n",
              "      display:flex;\n",
              "      flex-wrap:wrap;\n",
              "      gap: 12px;\n",
              "    }\n",
              "\n",
              "    .colab-df-convert {\n",
              "      background-color: #E8F0FE;\n",
              "      border: none;\n",
              "      border-radius: 50%;\n",
              "      cursor: pointer;\n",
              "      display: none;\n",
              "      fill: #1967D2;\n",
              "      height: 32px;\n",
              "      padding: 0 0 0 0;\n",
              "      width: 32px;\n",
              "    }\n",
              "\n",
              "    .colab-df-convert:hover {\n",
              "      background-color: #E2EBFA;\n",
              "      box-shadow: 0px 1px 2px rgba(60, 64, 67, 0.3), 0px 1px 3px 1px rgba(60, 64, 67, 0.15);\n",
              "      fill: #174EA6;\n",
              "    }\n",
              "\n",
              "    [theme=dark] .colab-df-convert {\n",
              "      background-color: #3B4455;\n",
              "      fill: #D2E3FC;\n",
              "    }\n",
              "\n",
              "    [theme=dark] .colab-df-convert:hover {\n",
              "      background-color: #434B5C;\n",
              "      box-shadow: 0px 1px 3px 1px rgba(0, 0, 0, 0.15);\n",
              "      filter: drop-shadow(0px 1px 2px rgba(0, 0, 0, 0.3));\n",
              "      fill: #FFFFFF;\n",
              "    }\n",
              "  </style>\n",
              "\n",
              "      <script>\n",
              "        const buttonEl =\n",
              "          document.querySelector('#df-f7836640-6dc8-4cff-96eb-104c3d0a8661 button.colab-df-convert');\n",
              "        buttonEl.style.display =\n",
              "          google.colab.kernel.accessAllowed ? 'block' : 'none';\n",
              "\n",
              "        async function convertToInteractive(key) {\n",
              "          const element = document.querySelector('#df-f7836640-6dc8-4cff-96eb-104c3d0a8661');\n",
              "          const dataTable =\n",
              "            await google.colab.kernel.invokeFunction('convertToInteractive',\n",
              "                                                     [key], {});\n",
              "          if (!dataTable) return;\n",
              "\n",
              "          const docLinkHtml = 'Like what you see? Visit the ' +\n",
              "            '<a target=\"_blank\" href=https://colab.research.google.com/notebooks/data_table.ipynb>data table notebook</a>'\n",
              "            + ' to learn more about interactive tables.';\n",
              "          element.innerHTML = '';\n",
              "          dataTable['output_type'] = 'display_data';\n",
              "          await google.colab.output.renderOutput(dataTable, element);\n",
              "          const docLink = document.createElement('div');\n",
              "          docLink.innerHTML = docLinkHtml;\n",
              "          element.appendChild(docLink);\n",
              "        }\n",
              "      </script>\n",
              "    </div>\n",
              "  </div>\n",
              "  "
            ]
          },
          "metadata": {},
          "execution_count": 70
        }
      ]
    },
    {
      "cell_type": "markdown",
      "source": [
        "\n",
        "\n",
        "Sometimes, we would want our data to be in **categorical format instead of continous data**. \n",
        "\n",
        "#### What do we mean by converting continous into categorical data?\n",
        "\n",
        "Lets say, instead of knowing specific test values of a month, I want to know its type\n",
        "\n",
        "#### What could be the types?\n",
        "\n",
        "Depends on level of granularity we want to have - Low, Medium, High, V High\n",
        "\n",
        "We could have defined more (or less) categories\n",
        "\n",
        "#### But how can bucketisation of continous data help?\n",
        "\n",
        "- Since, we can get the count of different categories\n",
        "- We can get a idea of the bin which category (range of values) most of the temperature values lie.\n",
        "\n",
        "#### What function can we use to convert cont. to cat. data?\n",
        "\n",
        " - Will use pd.cut()\n",
        " - We need to provide:\n",
        "  - the continous data\n",
        "  - bins edges (array of numbers) to \"cut\" the entire range\n",
        "  - labels corresponding to every bin\n",
        "\n",
        "\n",
        "Let's try to us this on our max (temp) column to categorise the data into bins\n",
        "\n",
        "But, to define categories, lets first check min and max temp values "
      ],
      "metadata": {
        "id": "qS8NbFTWFIEc"
      }
    },
    {
      "cell_type": "code",
      "source": [
        "data_tidy"
      ],
      "metadata": {
        "id": "EV3DmmrHSbAd",
        "colab": {
          "base_uri": "https://localhost:8080/",
          "height": 455
        },
        "outputId": "a232000b-10e7-4393-b243-1e5da438c2a1"
      },
      "execution_count": null,
      "outputs": [
        {
          "output_type": "execute_result",
          "data": {
            "text/plain": [
              "Parameter                                    Pressure  Temperature\n",
              "Date       time     Drug_Name                                     \n",
              "15-10-2020 10:30:00 diltiazem hydrochloride      18.0         20.0\n",
              "                    docetaxel injection          26.0         23.0\n",
              "                    ketamine hydrochloride        9.0         22.0\n",
              "           11:30:00 diltiazem hydrochloride      19.0         20.0\n",
              "                    docetaxel injection          29.0         25.0\n",
              "...                                               ...          ...\n",
              "17-10-2020 8:30:00  docetaxel injection          26.0         19.0\n",
              "                    ketamine hydrochloride       11.0         20.0\n",
              "           9:30:00  diltiazem hydrochloride       9.0         13.0\n",
              "                    docetaxel injection          27.0         20.0\n",
              "                    ketamine hydrochloride       12.0         21.0\n",
              "\n",
              "[108 rows x 2 columns]"
            ],
            "text/html": [
              "\n",
              "  <div id=\"df-28519cf9-d189-4173-a731-69868a8d190e\">\n",
              "    <div class=\"colab-df-container\">\n",
              "      <div>\n",
              "<style scoped>\n",
              "    .dataframe tbody tr th:only-of-type {\n",
              "        vertical-align: middle;\n",
              "    }\n",
              "\n",
              "    .dataframe tbody tr th {\n",
              "        vertical-align: top;\n",
              "    }\n",
              "\n",
              "    .dataframe thead th {\n",
              "        text-align: right;\n",
              "    }\n",
              "</style>\n",
              "<table border=\"1\" class=\"dataframe\">\n",
              "  <thead>\n",
              "    <tr style=\"text-align: right;\">\n",
              "      <th></th>\n",
              "      <th></th>\n",
              "      <th>Parameter</th>\n",
              "      <th>Pressure</th>\n",
              "      <th>Temperature</th>\n",
              "    </tr>\n",
              "    <tr>\n",
              "      <th>Date</th>\n",
              "      <th>time</th>\n",
              "      <th>Drug_Name</th>\n",
              "      <th></th>\n",
              "      <th></th>\n",
              "    </tr>\n",
              "  </thead>\n",
              "  <tbody>\n",
              "    <tr>\n",
              "      <th rowspan=\"5\" valign=\"top\">15-10-2020</th>\n",
              "      <th rowspan=\"3\" valign=\"top\">10:30:00</th>\n",
              "      <th>diltiazem hydrochloride</th>\n",
              "      <td>18.0</td>\n",
              "      <td>20.0</td>\n",
              "    </tr>\n",
              "    <tr>\n",
              "      <th>docetaxel injection</th>\n",
              "      <td>26.0</td>\n",
              "      <td>23.0</td>\n",
              "    </tr>\n",
              "    <tr>\n",
              "      <th>ketamine hydrochloride</th>\n",
              "      <td>9.0</td>\n",
              "      <td>22.0</td>\n",
              "    </tr>\n",
              "    <tr>\n",
              "      <th rowspan=\"2\" valign=\"top\">11:30:00</th>\n",
              "      <th>diltiazem hydrochloride</th>\n",
              "      <td>19.0</td>\n",
              "      <td>20.0</td>\n",
              "    </tr>\n",
              "    <tr>\n",
              "      <th>docetaxel injection</th>\n",
              "      <td>29.0</td>\n",
              "      <td>25.0</td>\n",
              "    </tr>\n",
              "    <tr>\n",
              "      <th>...</th>\n",
              "      <th>...</th>\n",
              "      <th>...</th>\n",
              "      <td>...</td>\n",
              "      <td>...</td>\n",
              "    </tr>\n",
              "    <tr>\n",
              "      <th rowspan=\"5\" valign=\"top\">17-10-2020</th>\n",
              "      <th rowspan=\"2\" valign=\"top\">8:30:00</th>\n",
              "      <th>docetaxel injection</th>\n",
              "      <td>26.0</td>\n",
              "      <td>19.0</td>\n",
              "    </tr>\n",
              "    <tr>\n",
              "      <th>ketamine hydrochloride</th>\n",
              "      <td>11.0</td>\n",
              "      <td>20.0</td>\n",
              "    </tr>\n",
              "    <tr>\n",
              "      <th rowspan=\"3\" valign=\"top\">9:30:00</th>\n",
              "      <th>diltiazem hydrochloride</th>\n",
              "      <td>9.0</td>\n",
              "      <td>13.0</td>\n",
              "    </tr>\n",
              "    <tr>\n",
              "      <th>docetaxel injection</th>\n",
              "      <td>27.0</td>\n",
              "      <td>20.0</td>\n",
              "    </tr>\n",
              "    <tr>\n",
              "      <th>ketamine hydrochloride</th>\n",
              "      <td>12.0</td>\n",
              "      <td>21.0</td>\n",
              "    </tr>\n",
              "  </tbody>\n",
              "</table>\n",
              "<p>108 rows × 2 columns</p>\n",
              "</div>\n",
              "      <button class=\"colab-df-convert\" onclick=\"convertToInteractive('df-28519cf9-d189-4173-a731-69868a8d190e')\"\n",
              "              title=\"Convert this dataframe to an interactive table.\"\n",
              "              style=\"display:none;\">\n",
              "        \n",
              "  <svg xmlns=\"http://www.w3.org/2000/svg\" height=\"24px\"viewBox=\"0 0 24 24\"\n",
              "       width=\"24px\">\n",
              "    <path d=\"M0 0h24v24H0V0z\" fill=\"none\"/>\n",
              "    <path d=\"M18.56 5.44l.94 2.06.94-2.06 2.06-.94-2.06-.94-.94-2.06-.94 2.06-2.06.94zm-11 1L8.5 8.5l.94-2.06 2.06-.94-2.06-.94L8.5 2.5l-.94 2.06-2.06.94zm10 10l.94 2.06.94-2.06 2.06-.94-2.06-.94-.94-2.06-.94 2.06-2.06.94z\"/><path d=\"M17.41 7.96l-1.37-1.37c-.4-.4-.92-.59-1.43-.59-.52 0-1.04.2-1.43.59L10.3 9.45l-7.72 7.72c-.78.78-.78 2.05 0 2.83L4 21.41c.39.39.9.59 1.41.59.51 0 1.02-.2 1.41-.59l7.78-7.78 2.81-2.81c.8-.78.8-2.07 0-2.86zM5.41 20L4 18.59l7.72-7.72 1.47 1.35L5.41 20z\"/>\n",
              "  </svg>\n",
              "      </button>\n",
              "      \n",
              "  <style>\n",
              "    .colab-df-container {\n",
              "      display:flex;\n",
              "      flex-wrap:wrap;\n",
              "      gap: 12px;\n",
              "    }\n",
              "\n",
              "    .colab-df-convert {\n",
              "      background-color: #E8F0FE;\n",
              "      border: none;\n",
              "      border-radius: 50%;\n",
              "      cursor: pointer;\n",
              "      display: none;\n",
              "      fill: #1967D2;\n",
              "      height: 32px;\n",
              "      padding: 0 0 0 0;\n",
              "      width: 32px;\n",
              "    }\n",
              "\n",
              "    .colab-df-convert:hover {\n",
              "      background-color: #E2EBFA;\n",
              "      box-shadow: 0px 1px 2px rgba(60, 64, 67, 0.3), 0px 1px 3px 1px rgba(60, 64, 67, 0.15);\n",
              "      fill: #174EA6;\n",
              "    }\n",
              "\n",
              "    [theme=dark] .colab-df-convert {\n",
              "      background-color: #3B4455;\n",
              "      fill: #D2E3FC;\n",
              "    }\n",
              "\n",
              "    [theme=dark] .colab-df-convert:hover {\n",
              "      background-color: #434B5C;\n",
              "      box-shadow: 0px 1px 3px 1px rgba(0, 0, 0, 0.15);\n",
              "      filter: drop-shadow(0px 1px 2px rgba(0, 0, 0, 0.3));\n",
              "      fill: #FFFFFF;\n",
              "    }\n",
              "  </style>\n",
              "\n",
              "      <script>\n",
              "        const buttonEl =\n",
              "          document.querySelector('#df-28519cf9-d189-4173-a731-69868a8d190e button.colab-df-convert');\n",
              "        buttonEl.style.display =\n",
              "          google.colab.kernel.accessAllowed ? 'block' : 'none';\n",
              "\n",
              "        async function convertToInteractive(key) {\n",
              "          const element = document.querySelector('#df-28519cf9-d189-4173-a731-69868a8d190e');\n",
              "          const dataTable =\n",
              "            await google.colab.kernel.invokeFunction('convertToInteractive',\n",
              "                                                     [key], {});\n",
              "          if (!dataTable) return;\n",
              "\n",
              "          const docLinkHtml = 'Like what you see? Visit the ' +\n",
              "            '<a target=\"_blank\" href=https://colab.research.google.com/notebooks/data_table.ipynb>data table notebook</a>'\n",
              "            + ' to learn more about interactive tables.';\n",
              "          element.innerHTML = '';\n",
              "          dataTable['output_type'] = 'display_data';\n",
              "          await google.colab.output.renderOutput(dataTable, element);\n",
              "          const docLink = document.createElement('div');\n",
              "          docLink.innerHTML = docLinkHtml;\n",
              "          element.appendChild(docLink);\n",
              "        }\n",
              "      </script>\n",
              "    </div>\n",
              "  </div>\n",
              "  "
            ]
          },
          "metadata": {},
          "execution_count": 71
        }
      ]
    },
    {
      "cell_type": "code",
      "source": [
        "print(data_tidy['Temperature'].min(), data_tidy['Temperature'].max())"
      ],
      "metadata": {
        "id": "uh58lSaQFrQk",
        "colab": {
          "base_uri": "https://localhost:8080/"
        },
        "outputId": "09b2453c-f94e-45f8-a680-496e36daf0fa"
      },
      "execution_count": null,
      "outputs": [
        {
          "output_type": "stream",
          "name": "stdout",
          "text": [
            "8.0 58.0\n"
          ]
        }
      ]
    },
    {
      "cell_type": "markdown",
      "source": [
        "Min value = 8, Max value is 58.\n",
        "\n",
        "- Lets's keep some buffer for future values and take the range from 5-60(instead of 8-58)\n",
        "- Lets divide this data into 4 bins of 10-15 values each"
      ],
      "metadata": {
        "id": "2vAUwk48F5X9"
      }
    },
    {
      "cell_type": "code",
      "source": [
        "temp_points = [5, 20, 35, 50, 60]\n",
        "temp_labels = ['low','medium','high','very_high'] # Here labels define the severity of the resultant output of the test\n",
        "data_tidy['temp_cat'] = pd.cut(data_tidy['Temperature'], bins=temp_points, labels=temp_labels)\n",
        "data_tidy.head()"
      ],
      "metadata": {
        "id": "RGUSc6_gWDcW",
        "colab": {
          "base_uri": "https://localhost:8080/",
          "height": 237
        },
        "outputId": "0a1bc5e7-7ad0-461b-9968-9217c1b5242d"
      },
      "execution_count": null,
      "outputs": [
        {
          "output_type": "execute_result",
          "data": {
            "text/plain": [
              "Parameter                                    Pressure  Temperature temp_cat\n",
              "Date       time     Drug_Name                                              \n",
              "15-10-2020 10:30:00 diltiazem hydrochloride      18.0         20.0      low\n",
              "                    docetaxel injection          26.0         23.0   medium\n",
              "                    ketamine hydrochloride        9.0         22.0   medium\n",
              "           11:30:00 diltiazem hydrochloride      19.0         20.0      low\n",
              "                    docetaxel injection          29.0         25.0   medium"
            ],
            "text/html": [
              "\n",
              "  <div id=\"df-d3752d4b-94a8-421d-95c9-2091d72e21a8\">\n",
              "    <div class=\"colab-df-container\">\n",
              "      <div>\n",
              "<style scoped>\n",
              "    .dataframe tbody tr th:only-of-type {\n",
              "        vertical-align: middle;\n",
              "    }\n",
              "\n",
              "    .dataframe tbody tr th {\n",
              "        vertical-align: top;\n",
              "    }\n",
              "\n",
              "    .dataframe thead th {\n",
              "        text-align: right;\n",
              "    }\n",
              "</style>\n",
              "<table border=\"1\" class=\"dataframe\">\n",
              "  <thead>\n",
              "    <tr style=\"text-align: right;\">\n",
              "      <th></th>\n",
              "      <th></th>\n",
              "      <th>Parameter</th>\n",
              "      <th>Pressure</th>\n",
              "      <th>Temperature</th>\n",
              "      <th>temp_cat</th>\n",
              "    </tr>\n",
              "    <tr>\n",
              "      <th>Date</th>\n",
              "      <th>time</th>\n",
              "      <th>Drug_Name</th>\n",
              "      <th></th>\n",
              "      <th></th>\n",
              "      <th></th>\n",
              "    </tr>\n",
              "  </thead>\n",
              "  <tbody>\n",
              "    <tr>\n",
              "      <th rowspan=\"5\" valign=\"top\">15-10-2020</th>\n",
              "      <th rowspan=\"3\" valign=\"top\">10:30:00</th>\n",
              "      <th>diltiazem hydrochloride</th>\n",
              "      <td>18.0</td>\n",
              "      <td>20.0</td>\n",
              "      <td>low</td>\n",
              "    </tr>\n",
              "    <tr>\n",
              "      <th>docetaxel injection</th>\n",
              "      <td>26.0</td>\n",
              "      <td>23.0</td>\n",
              "      <td>medium</td>\n",
              "    </tr>\n",
              "    <tr>\n",
              "      <th>ketamine hydrochloride</th>\n",
              "      <td>9.0</td>\n",
              "      <td>22.0</td>\n",
              "      <td>medium</td>\n",
              "    </tr>\n",
              "    <tr>\n",
              "      <th rowspan=\"2\" valign=\"top\">11:30:00</th>\n",
              "      <th>diltiazem hydrochloride</th>\n",
              "      <td>19.0</td>\n",
              "      <td>20.0</td>\n",
              "      <td>low</td>\n",
              "    </tr>\n",
              "    <tr>\n",
              "      <th>docetaxel injection</th>\n",
              "      <td>29.0</td>\n",
              "      <td>25.0</td>\n",
              "      <td>medium</td>\n",
              "    </tr>\n",
              "  </tbody>\n",
              "</table>\n",
              "</div>\n",
              "      <button class=\"colab-df-convert\" onclick=\"convertToInteractive('df-d3752d4b-94a8-421d-95c9-2091d72e21a8')\"\n",
              "              title=\"Convert this dataframe to an interactive table.\"\n",
              "              style=\"display:none;\">\n",
              "        \n",
              "  <svg xmlns=\"http://www.w3.org/2000/svg\" height=\"24px\"viewBox=\"0 0 24 24\"\n",
              "       width=\"24px\">\n",
              "    <path d=\"M0 0h24v24H0V0z\" fill=\"none\"/>\n",
              "    <path d=\"M18.56 5.44l.94 2.06.94-2.06 2.06-.94-2.06-.94-.94-2.06-.94 2.06-2.06.94zm-11 1L8.5 8.5l.94-2.06 2.06-.94-2.06-.94L8.5 2.5l-.94 2.06-2.06.94zm10 10l.94 2.06.94-2.06 2.06-.94-2.06-.94-.94-2.06-.94 2.06-2.06.94z\"/><path d=\"M17.41 7.96l-1.37-1.37c-.4-.4-.92-.59-1.43-.59-.52 0-1.04.2-1.43.59L10.3 9.45l-7.72 7.72c-.78.78-.78 2.05 0 2.83L4 21.41c.39.39.9.59 1.41.59.51 0 1.02-.2 1.41-.59l7.78-7.78 2.81-2.81c.8-.78.8-2.07 0-2.86zM5.41 20L4 18.59l7.72-7.72 1.47 1.35L5.41 20z\"/>\n",
              "  </svg>\n",
              "      </button>\n",
              "      \n",
              "  <style>\n",
              "    .colab-df-container {\n",
              "      display:flex;\n",
              "      flex-wrap:wrap;\n",
              "      gap: 12px;\n",
              "    }\n",
              "\n",
              "    .colab-df-convert {\n",
              "      background-color: #E8F0FE;\n",
              "      border: none;\n",
              "      border-radius: 50%;\n",
              "      cursor: pointer;\n",
              "      display: none;\n",
              "      fill: #1967D2;\n",
              "      height: 32px;\n",
              "      padding: 0 0 0 0;\n",
              "      width: 32px;\n",
              "    }\n",
              "\n",
              "    .colab-df-convert:hover {\n",
              "      background-color: #E2EBFA;\n",
              "      box-shadow: 0px 1px 2px rgba(60, 64, 67, 0.3), 0px 1px 3px 1px rgba(60, 64, 67, 0.15);\n",
              "      fill: #174EA6;\n",
              "    }\n",
              "\n",
              "    [theme=dark] .colab-df-convert {\n",
              "      background-color: #3B4455;\n",
              "      fill: #D2E3FC;\n",
              "    }\n",
              "\n",
              "    [theme=dark] .colab-df-convert:hover {\n",
              "      background-color: #434B5C;\n",
              "      box-shadow: 0px 1px 3px 1px rgba(0, 0, 0, 0.15);\n",
              "      filter: drop-shadow(0px 1px 2px rgba(0, 0, 0, 0.3));\n",
              "      fill: #FFFFFF;\n",
              "    }\n",
              "  </style>\n",
              "\n",
              "      <script>\n",
              "        const buttonEl =\n",
              "          document.querySelector('#df-d3752d4b-94a8-421d-95c9-2091d72e21a8 button.colab-df-convert');\n",
              "        buttonEl.style.display =\n",
              "          google.colab.kernel.accessAllowed ? 'block' : 'none';\n",
              "\n",
              "        async function convertToInteractive(key) {\n",
              "          const element = document.querySelector('#df-d3752d4b-94a8-421d-95c9-2091d72e21a8');\n",
              "          const dataTable =\n",
              "            await google.colab.kernel.invokeFunction('convertToInteractive',\n",
              "                                                     [key], {});\n",
              "          if (!dataTable) return;\n",
              "\n",
              "          const docLinkHtml = 'Like what you see? Visit the ' +\n",
              "            '<a target=\"_blank\" href=https://colab.research.google.com/notebooks/data_table.ipynb>data table notebook</a>'\n",
              "            + ' to learn more about interactive tables.';\n",
              "          element.innerHTML = '';\n",
              "          dataTable['output_type'] = 'display_data';\n",
              "          await google.colab.output.renderOutput(dataTable, element);\n",
              "          const docLink = document.createElement('div');\n",
              "          docLink.innerHTML = docLinkHtml;\n",
              "          element.appendChild(docLink);\n",
              "        }\n",
              "      </script>\n",
              "    </div>\n",
              "  </div>\n",
              "  "
            ]
          },
          "metadata": {},
          "execution_count": 73
        }
      ]
    },
    {
      "cell_type": "code",
      "source": [
        "data_tidy['temp_cat'].value_counts()"
      ],
      "metadata": {
        "id": "kSgrWKcmFjJU",
        "colab": {
          "base_uri": "https://localhost:8080/"
        },
        "outputId": "98fb5515-7a5e-4ac9-efe5-9c5e26dad01a"
      },
      "execution_count": null,
      "outputs": [
        {
          "output_type": "execute_result",
          "data": {
            "text/plain": [
              "low          45\n",
              "medium       30\n",
              "high         15\n",
              "very_high     5\n",
              "Name: temp_cat, dtype: int64"
            ]
          },
          "metadata": {},
          "execution_count": 74
        }
      ]
    },
    {
      "cell_type": "code",
      "source": [
        "data_tidy = data_tidy.reset_index()\n",
        "data_tidy"
      ],
      "metadata": {
        "colab": {
          "base_uri": "https://localhost:8080/",
          "height": 423
        },
        "id": "osGTpMynPlNz",
        "outputId": "0e8968f1-682d-4f10-b190-aecb52e32005"
      },
      "execution_count": null,
      "outputs": [
        {
          "output_type": "execute_result",
          "data": {
            "text/plain": [
              "Parameter        Date      time                Drug_Name  Pressure  \\\n",
              "0          15-10-2020  10:30:00  diltiazem hydrochloride      18.0   \n",
              "1          15-10-2020  10:30:00      docetaxel injection      26.0   \n",
              "2          15-10-2020  10:30:00   ketamine hydrochloride       9.0   \n",
              "3          15-10-2020  11:30:00  diltiazem hydrochloride      19.0   \n",
              "4          15-10-2020  11:30:00      docetaxel injection      29.0   \n",
              "..                ...       ...                      ...       ...   \n",
              "103        17-10-2020   8:30:00      docetaxel injection      26.0   \n",
              "104        17-10-2020   8:30:00   ketamine hydrochloride      11.0   \n",
              "105        17-10-2020   9:30:00  diltiazem hydrochloride       9.0   \n",
              "106        17-10-2020   9:30:00      docetaxel injection      27.0   \n",
              "107        17-10-2020   9:30:00   ketamine hydrochloride      12.0   \n",
              "\n",
              "Parameter  Temperature temp_cat  \n",
              "0                 20.0      low  \n",
              "1                 23.0   medium  \n",
              "2                 22.0   medium  \n",
              "3                 20.0      low  \n",
              "4                 25.0   medium  \n",
              "..                 ...      ...  \n",
              "103               19.0      low  \n",
              "104               20.0      low  \n",
              "105               13.0      low  \n",
              "106               20.0      low  \n",
              "107               21.0   medium  \n",
              "\n",
              "[108 rows x 6 columns]"
            ],
            "text/html": [
              "\n",
              "  <div id=\"df-29403b4c-344c-406f-91d5-116eddae00ab\">\n",
              "    <div class=\"colab-df-container\">\n",
              "      <div>\n",
              "<style scoped>\n",
              "    .dataframe tbody tr th:only-of-type {\n",
              "        vertical-align: middle;\n",
              "    }\n",
              "\n",
              "    .dataframe tbody tr th {\n",
              "        vertical-align: top;\n",
              "    }\n",
              "\n",
              "    .dataframe thead th {\n",
              "        text-align: right;\n",
              "    }\n",
              "</style>\n",
              "<table border=\"1\" class=\"dataframe\">\n",
              "  <thead>\n",
              "    <tr style=\"text-align: right;\">\n",
              "      <th>Parameter</th>\n",
              "      <th>Date</th>\n",
              "      <th>time</th>\n",
              "      <th>Drug_Name</th>\n",
              "      <th>Pressure</th>\n",
              "      <th>Temperature</th>\n",
              "      <th>temp_cat</th>\n",
              "    </tr>\n",
              "  </thead>\n",
              "  <tbody>\n",
              "    <tr>\n",
              "      <th>0</th>\n",
              "      <td>15-10-2020</td>\n",
              "      <td>10:30:00</td>\n",
              "      <td>diltiazem hydrochloride</td>\n",
              "      <td>18.0</td>\n",
              "      <td>20.0</td>\n",
              "      <td>low</td>\n",
              "    </tr>\n",
              "    <tr>\n",
              "      <th>1</th>\n",
              "      <td>15-10-2020</td>\n",
              "      <td>10:30:00</td>\n",
              "      <td>docetaxel injection</td>\n",
              "      <td>26.0</td>\n",
              "      <td>23.0</td>\n",
              "      <td>medium</td>\n",
              "    </tr>\n",
              "    <tr>\n",
              "      <th>2</th>\n",
              "      <td>15-10-2020</td>\n",
              "      <td>10:30:00</td>\n",
              "      <td>ketamine hydrochloride</td>\n",
              "      <td>9.0</td>\n",
              "      <td>22.0</td>\n",
              "      <td>medium</td>\n",
              "    </tr>\n",
              "    <tr>\n",
              "      <th>3</th>\n",
              "      <td>15-10-2020</td>\n",
              "      <td>11:30:00</td>\n",
              "      <td>diltiazem hydrochloride</td>\n",
              "      <td>19.0</td>\n",
              "      <td>20.0</td>\n",
              "      <td>low</td>\n",
              "    </tr>\n",
              "    <tr>\n",
              "      <th>4</th>\n",
              "      <td>15-10-2020</td>\n",
              "      <td>11:30:00</td>\n",
              "      <td>docetaxel injection</td>\n",
              "      <td>29.0</td>\n",
              "      <td>25.0</td>\n",
              "      <td>medium</td>\n",
              "    </tr>\n",
              "    <tr>\n",
              "      <th>...</th>\n",
              "      <td>...</td>\n",
              "      <td>...</td>\n",
              "      <td>...</td>\n",
              "      <td>...</td>\n",
              "      <td>...</td>\n",
              "      <td>...</td>\n",
              "    </tr>\n",
              "    <tr>\n",
              "      <th>103</th>\n",
              "      <td>17-10-2020</td>\n",
              "      <td>8:30:00</td>\n",
              "      <td>docetaxel injection</td>\n",
              "      <td>26.0</td>\n",
              "      <td>19.0</td>\n",
              "      <td>low</td>\n",
              "    </tr>\n",
              "    <tr>\n",
              "      <th>104</th>\n",
              "      <td>17-10-2020</td>\n",
              "      <td>8:30:00</td>\n",
              "      <td>ketamine hydrochloride</td>\n",
              "      <td>11.0</td>\n",
              "      <td>20.0</td>\n",
              "      <td>low</td>\n",
              "    </tr>\n",
              "    <tr>\n",
              "      <th>105</th>\n",
              "      <td>17-10-2020</td>\n",
              "      <td>9:30:00</td>\n",
              "      <td>diltiazem hydrochloride</td>\n",
              "      <td>9.0</td>\n",
              "      <td>13.0</td>\n",
              "      <td>low</td>\n",
              "    </tr>\n",
              "    <tr>\n",
              "      <th>106</th>\n",
              "      <td>17-10-2020</td>\n",
              "      <td>9:30:00</td>\n",
              "      <td>docetaxel injection</td>\n",
              "      <td>27.0</td>\n",
              "      <td>20.0</td>\n",
              "      <td>low</td>\n",
              "    </tr>\n",
              "    <tr>\n",
              "      <th>107</th>\n",
              "      <td>17-10-2020</td>\n",
              "      <td>9:30:00</td>\n",
              "      <td>ketamine hydrochloride</td>\n",
              "      <td>12.0</td>\n",
              "      <td>21.0</td>\n",
              "      <td>medium</td>\n",
              "    </tr>\n",
              "  </tbody>\n",
              "</table>\n",
              "<p>108 rows × 6 columns</p>\n",
              "</div>\n",
              "      <button class=\"colab-df-convert\" onclick=\"convertToInteractive('df-29403b4c-344c-406f-91d5-116eddae00ab')\"\n",
              "              title=\"Convert this dataframe to an interactive table.\"\n",
              "              style=\"display:none;\">\n",
              "        \n",
              "  <svg xmlns=\"http://www.w3.org/2000/svg\" height=\"24px\"viewBox=\"0 0 24 24\"\n",
              "       width=\"24px\">\n",
              "    <path d=\"M0 0h24v24H0V0z\" fill=\"none\"/>\n",
              "    <path d=\"M18.56 5.44l.94 2.06.94-2.06 2.06-.94-2.06-.94-.94-2.06-.94 2.06-2.06.94zm-11 1L8.5 8.5l.94-2.06 2.06-.94-2.06-.94L8.5 2.5l-.94 2.06-2.06.94zm10 10l.94 2.06.94-2.06 2.06-.94-2.06-.94-.94-2.06-.94 2.06-2.06.94z\"/><path d=\"M17.41 7.96l-1.37-1.37c-.4-.4-.92-.59-1.43-.59-.52 0-1.04.2-1.43.59L10.3 9.45l-7.72 7.72c-.78.78-.78 2.05 0 2.83L4 21.41c.39.39.9.59 1.41.59.51 0 1.02-.2 1.41-.59l7.78-7.78 2.81-2.81c.8-.78.8-2.07 0-2.86zM5.41 20L4 18.59l7.72-7.72 1.47 1.35L5.41 20z\"/>\n",
              "  </svg>\n",
              "      </button>\n",
              "      \n",
              "  <style>\n",
              "    .colab-df-container {\n",
              "      display:flex;\n",
              "      flex-wrap:wrap;\n",
              "      gap: 12px;\n",
              "    }\n",
              "\n",
              "    .colab-df-convert {\n",
              "      background-color: #E8F0FE;\n",
              "      border: none;\n",
              "      border-radius: 50%;\n",
              "      cursor: pointer;\n",
              "      display: none;\n",
              "      fill: #1967D2;\n",
              "      height: 32px;\n",
              "      padding: 0 0 0 0;\n",
              "      width: 32px;\n",
              "    }\n",
              "\n",
              "    .colab-df-convert:hover {\n",
              "      background-color: #E2EBFA;\n",
              "      box-shadow: 0px 1px 2px rgba(60, 64, 67, 0.3), 0px 1px 3px 1px rgba(60, 64, 67, 0.15);\n",
              "      fill: #174EA6;\n",
              "    }\n",
              "\n",
              "    [theme=dark] .colab-df-convert {\n",
              "      background-color: #3B4455;\n",
              "      fill: #D2E3FC;\n",
              "    }\n",
              "\n",
              "    [theme=dark] .colab-df-convert:hover {\n",
              "      background-color: #434B5C;\n",
              "      box-shadow: 0px 1px 3px 1px rgba(0, 0, 0, 0.15);\n",
              "      filter: drop-shadow(0px 1px 2px rgba(0, 0, 0, 0.3));\n",
              "      fill: #FFFFFF;\n",
              "    }\n",
              "  </style>\n",
              "\n",
              "      <script>\n",
              "        const buttonEl =\n",
              "          document.querySelector('#df-29403b4c-344c-406f-91d5-116eddae00ab button.colab-df-convert');\n",
              "        buttonEl.style.display =\n",
              "          google.colab.kernel.accessAllowed ? 'block' : 'none';\n",
              "\n",
              "        async function convertToInteractive(key) {\n",
              "          const element = document.querySelector('#df-29403b4c-344c-406f-91d5-116eddae00ab');\n",
              "          const dataTable =\n",
              "            await google.colab.kernel.invokeFunction('convertToInteractive',\n",
              "                                                     [key], {});\n",
              "          if (!dataTable) return;\n",
              "\n",
              "          const docLinkHtml = 'Like what you see? Visit the ' +\n",
              "            '<a target=\"_blank\" href=https://colab.research.google.com/notebooks/data_table.ipynb>data table notebook</a>'\n",
              "            + ' to learn more about interactive tables.';\n",
              "          element.innerHTML = '';\n",
              "          dataTable['output_type'] = 'display_data';\n",
              "          await google.colab.output.renderOutput(dataTable, element);\n",
              "          const docLink = document.createElement('div');\n",
              "          docLink.innerHTML = docLinkHtml;\n",
              "          element.appendChild(docLink);\n",
              "        }\n",
              "      </script>\n",
              "    </div>\n",
              "  </div>\n",
              "  "
            ]
          },
          "metadata": {},
          "execution_count": 75
        }
      ]
    },
    {
      "cell_type": "markdown",
      "metadata": {
        "id": "CCy-fTZadWa4"
      },
      "source": [
        "### String function and motivation for datetime\n",
        "\n",
        "\n",
        " "
      ]
    },
    {
      "cell_type": "markdown",
      "source": [
        "#### What kind of questions can we use string methods for?\n",
        "\n",
        "Find rows which contains a particular string\n",
        "\n",
        "Say,\n",
        "\n",
        "####How you can you filter rows containing \"hydrochloric\" in their drug name?\n"
      ],
      "metadata": {
        "id": "buAHEmyQVmY4"
      }
    },
    {
      "cell_type": "code",
      "execution_count": null,
      "metadata": {
        "id": "k2aUp417c4Qd",
        "colab": {
          "base_uri": "https://localhost:8080/",
          "height": 206
        },
        "outputId": "680727e4-8e90-4109-d719-2a58d262a069"
      },
      "outputs": [
        {
          "output_type": "execute_result",
          "data": {
            "text/plain": [
              "Parameter        Date      time                Drug_Name  Pressure  \\\n",
              "0          15-10-2020  10:30:00  diltiazem hydrochloride      18.0   \n",
              "2          15-10-2020  10:30:00   ketamine hydrochloride       9.0   \n",
              "3          15-10-2020  11:30:00  diltiazem hydrochloride      19.0   \n",
              "5          15-10-2020  11:30:00   ketamine hydrochloride       9.0   \n",
              "6          15-10-2020  12:30:00  diltiazem hydrochloride      20.0   \n",
              "\n",
              "Parameter  Temperature temp_cat  \n",
              "0                 20.0      low  \n",
              "2                 22.0   medium  \n",
              "3                 20.0      low  \n",
              "5                 21.0   medium  \n",
              "6                 21.0   medium  "
            ],
            "text/html": [
              "\n",
              "  <div id=\"df-b5518492-d5f3-41af-8505-e3ddc0e72144\">\n",
              "    <div class=\"colab-df-container\">\n",
              "      <div>\n",
              "<style scoped>\n",
              "    .dataframe tbody tr th:only-of-type {\n",
              "        vertical-align: middle;\n",
              "    }\n",
              "\n",
              "    .dataframe tbody tr th {\n",
              "        vertical-align: top;\n",
              "    }\n",
              "\n",
              "    .dataframe thead th {\n",
              "        text-align: right;\n",
              "    }\n",
              "</style>\n",
              "<table border=\"1\" class=\"dataframe\">\n",
              "  <thead>\n",
              "    <tr style=\"text-align: right;\">\n",
              "      <th>Parameter</th>\n",
              "      <th>Date</th>\n",
              "      <th>time</th>\n",
              "      <th>Drug_Name</th>\n",
              "      <th>Pressure</th>\n",
              "      <th>Temperature</th>\n",
              "      <th>temp_cat</th>\n",
              "    </tr>\n",
              "  </thead>\n",
              "  <tbody>\n",
              "    <tr>\n",
              "      <th>0</th>\n",
              "      <td>15-10-2020</td>\n",
              "      <td>10:30:00</td>\n",
              "      <td>diltiazem hydrochloride</td>\n",
              "      <td>18.0</td>\n",
              "      <td>20.0</td>\n",
              "      <td>low</td>\n",
              "    </tr>\n",
              "    <tr>\n",
              "      <th>2</th>\n",
              "      <td>15-10-2020</td>\n",
              "      <td>10:30:00</td>\n",
              "      <td>ketamine hydrochloride</td>\n",
              "      <td>9.0</td>\n",
              "      <td>22.0</td>\n",
              "      <td>medium</td>\n",
              "    </tr>\n",
              "    <tr>\n",
              "      <th>3</th>\n",
              "      <td>15-10-2020</td>\n",
              "      <td>11:30:00</td>\n",
              "      <td>diltiazem hydrochloride</td>\n",
              "      <td>19.0</td>\n",
              "      <td>20.0</td>\n",
              "      <td>low</td>\n",
              "    </tr>\n",
              "    <tr>\n",
              "      <th>5</th>\n",
              "      <td>15-10-2020</td>\n",
              "      <td>11:30:00</td>\n",
              "      <td>ketamine hydrochloride</td>\n",
              "      <td>9.0</td>\n",
              "      <td>21.0</td>\n",
              "      <td>medium</td>\n",
              "    </tr>\n",
              "    <tr>\n",
              "      <th>6</th>\n",
              "      <td>15-10-2020</td>\n",
              "      <td>12:30:00</td>\n",
              "      <td>diltiazem hydrochloride</td>\n",
              "      <td>20.0</td>\n",
              "      <td>21.0</td>\n",
              "      <td>medium</td>\n",
              "    </tr>\n",
              "  </tbody>\n",
              "</table>\n",
              "</div>\n",
              "      <button class=\"colab-df-convert\" onclick=\"convertToInteractive('df-b5518492-d5f3-41af-8505-e3ddc0e72144')\"\n",
              "              title=\"Convert this dataframe to an interactive table.\"\n",
              "              style=\"display:none;\">\n",
              "        \n",
              "  <svg xmlns=\"http://www.w3.org/2000/svg\" height=\"24px\"viewBox=\"0 0 24 24\"\n",
              "       width=\"24px\">\n",
              "    <path d=\"M0 0h24v24H0V0z\" fill=\"none\"/>\n",
              "    <path d=\"M18.56 5.44l.94 2.06.94-2.06 2.06-.94-2.06-.94-.94-2.06-.94 2.06-2.06.94zm-11 1L8.5 8.5l.94-2.06 2.06-.94-2.06-.94L8.5 2.5l-.94 2.06-2.06.94zm10 10l.94 2.06.94-2.06 2.06-.94-2.06-.94-.94-2.06-.94 2.06-2.06.94z\"/><path d=\"M17.41 7.96l-1.37-1.37c-.4-.4-.92-.59-1.43-.59-.52 0-1.04.2-1.43.59L10.3 9.45l-7.72 7.72c-.78.78-.78 2.05 0 2.83L4 21.41c.39.39.9.59 1.41.59.51 0 1.02-.2 1.41-.59l7.78-7.78 2.81-2.81c.8-.78.8-2.07 0-2.86zM5.41 20L4 18.59l7.72-7.72 1.47 1.35L5.41 20z\"/>\n",
              "  </svg>\n",
              "      </button>\n",
              "      \n",
              "  <style>\n",
              "    .colab-df-container {\n",
              "      display:flex;\n",
              "      flex-wrap:wrap;\n",
              "      gap: 12px;\n",
              "    }\n",
              "\n",
              "    .colab-df-convert {\n",
              "      background-color: #E8F0FE;\n",
              "      border: none;\n",
              "      border-radius: 50%;\n",
              "      cursor: pointer;\n",
              "      display: none;\n",
              "      fill: #1967D2;\n",
              "      height: 32px;\n",
              "      padding: 0 0 0 0;\n",
              "      width: 32px;\n",
              "    }\n",
              "\n",
              "    .colab-df-convert:hover {\n",
              "      background-color: #E2EBFA;\n",
              "      box-shadow: 0px 1px 2px rgba(60, 64, 67, 0.3), 0px 1px 3px 1px rgba(60, 64, 67, 0.15);\n",
              "      fill: #174EA6;\n",
              "    }\n",
              "\n",
              "    [theme=dark] .colab-df-convert {\n",
              "      background-color: #3B4455;\n",
              "      fill: #D2E3FC;\n",
              "    }\n",
              "\n",
              "    [theme=dark] .colab-df-convert:hover {\n",
              "      background-color: #434B5C;\n",
              "      box-shadow: 0px 1px 3px 1px rgba(0, 0, 0, 0.15);\n",
              "      filter: drop-shadow(0px 1px 2px rgba(0, 0, 0, 0.3));\n",
              "      fill: #FFFFFF;\n",
              "    }\n",
              "  </style>\n",
              "\n",
              "      <script>\n",
              "        const buttonEl =\n",
              "          document.querySelector('#df-b5518492-d5f3-41af-8505-e3ddc0e72144 button.colab-df-convert');\n",
              "        buttonEl.style.display =\n",
              "          google.colab.kernel.accessAllowed ? 'block' : 'none';\n",
              "\n",
              "        async function convertToInteractive(key) {\n",
              "          const element = document.querySelector('#df-b5518492-d5f3-41af-8505-e3ddc0e72144');\n",
              "          const dataTable =\n",
              "            await google.colab.kernel.invokeFunction('convertToInteractive',\n",
              "                                                     [key], {});\n",
              "          if (!dataTable) return;\n",
              "\n",
              "          const docLinkHtml = 'Like what you see? Visit the ' +\n",
              "            '<a target=\"_blank\" href=https://colab.research.google.com/notebooks/data_table.ipynb>data table notebook</a>'\n",
              "            + ' to learn more about interactive tables.';\n",
              "          element.innerHTML = '';\n",
              "          dataTable['output_type'] = 'display_data';\n",
              "          await google.colab.output.renderOutput(dataTable, element);\n",
              "          const docLink = document.createElement('div');\n",
              "          docLink.innerHTML = docLinkHtml;\n",
              "          element.appendChild(docLink);\n",
              "        }\n",
              "      </script>\n",
              "    </div>\n",
              "  </div>\n",
              "  "
            ]
          },
          "metadata": {},
          "execution_count": 76
        }
      ],
      "source": [
        "data_tidy.loc[data_tidy['Drug_Name'].str.contains('hydrochloride')].head()"
      ]
    },
    {
      "cell_type": "markdown",
      "source": [
        "\n",
        "So in general, we will be using the following format:\n",
        "\n",
        "     > Series.str.function()\n",
        "\n",
        "Series.str can be used to **access the values of the series as strings** and apply several methods to it.\n"
      ],
      "metadata": {
        "id": "bLFKY8wxVziA"
      }
    },
    {
      "cell_type": "markdown",
      "metadata": {
        "id": "Nhe3jJ0Jdr0y"
      },
      "source": [
        "Now suppose we want to form a new column based on the year of the experiments?\n",
        "\n",
        "#### What can we do form a column containing the year?\n"
      ]
    },
    {
      "cell_type": "code",
      "execution_count": null,
      "metadata": {
        "colab": {
          "base_uri": "https://localhost:8080/"
        },
        "id": "o85Hl3dKdzOh",
        "outputId": "82318bb3-218b-4c8f-ed54-39a60d48d5ad"
      },
      "outputs": [
        {
          "output_type": "execute_result",
          "data": {
            "text/plain": [
              "0      [15, 10, 2020]\n",
              "1      [15, 10, 2020]\n",
              "2      [15, 10, 2020]\n",
              "3      [15, 10, 2020]\n",
              "4      [15, 10, 2020]\n",
              "            ...      \n",
              "103    [17, 10, 2020]\n",
              "104    [17, 10, 2020]\n",
              "105    [17, 10, 2020]\n",
              "106    [17, 10, 2020]\n",
              "107    [17, 10, 2020]\n",
              "Name: Date, Length: 108, dtype: object"
            ]
          },
          "metadata": {},
          "execution_count": 77
        }
      ],
      "source": [
        "data_tidy['Date'].str.split('-')"
      ]
    },
    {
      "cell_type": "markdown",
      "source": [
        "To extract the year we need to select the last element of each list"
      ],
      "metadata": {
        "id": "IEhCKjoP8sRw"
      }
    },
    {
      "cell_type": "code",
      "source": [
        "data_tidy['Date'].str.split('-').apply(lambda x:x[2])"
      ],
      "metadata": {
        "colab": {
          "base_uri": "https://localhost:8080/"
        },
        "id": "ksOCoLZB8ptU",
        "outputId": "ca8273da-4593-46ab-aabc-ef6bae805414"
      },
      "execution_count": null,
      "outputs": [
        {
          "output_type": "execute_result",
          "data": {
            "text/plain": [
              "0      2020\n",
              "1      2020\n",
              "2      2020\n",
              "3      2020\n",
              "4      2020\n",
              "       ... \n",
              "103    2020\n",
              "104    2020\n",
              "105    2020\n",
              "106    2020\n",
              "107    2020\n",
              "Name: Date, Length: 108, dtype: object"
            ]
          },
          "metadata": {},
          "execution_count": 78
        }
      ]
    },
    {
      "cell_type": "markdown",
      "source": [
        "But there are certain problems with this approach:\n",
        "\n",
        "- The **dtype of the output is still an object**, we would prefer a number type\n",
        "- The date format will always **not be in day-month-year**, it can vary "
      ],
      "metadata": {
        "id": "JMJ-LSQd8xAC"
      }
    },
    {
      "cell_type": "markdown",
      "source": [
        "Thus, to work with such date-time type of data, we can use a special method of pandas"
      ],
      "metadata": {
        "id": "E_8CSEx69Jb_"
      }
    },
    {
      "cell_type": "markdown",
      "source": [
        "### Datetime"
      ],
      "metadata": {
        "id": "wMTuF7KrNDAT"
      }
    },
    {
      "cell_type": "markdown",
      "source": [
        "Lets start with understanding a date-time type of data\n",
        "\n",
        "#### How can we handle handle date-time data-types?\n",
        "\n",
        "  - We can do using the `to_datetime()` function of pandas\n",
        "  - It takes as input:\n",
        "    - Array/Scalars with values having proper date/time format\n",
        "    - `dayfirst`: Indicating if the day comes first in the date format used\n",
        "    - `yearfirst`: Indicates if year comes first in the date format"
      ],
      "metadata": {
        "id": "6xxJoFcfFCzX"
      }
    },
    {
      "cell_type": "markdown",
      "source": [
        "Let's first merge our ```Date``` and ```time``` columns into a new timestamp column\n",
        "\n",
        "\n"
      ],
      "metadata": {
        "id": "2K46DB-_0S7Q"
      }
    },
    {
      "cell_type": "code",
      "source": [
        "data_tidy['timestamp'] = data_tidy['Date']+ \" \"+ data_tidy['time']"
      ],
      "metadata": {
        "id": "zpkmx8Co0ZEA"
      },
      "execution_count": null,
      "outputs": []
    },
    {
      "cell_type": "code",
      "source": [
        "data_tidy.drop(['Date', 'time'], axis=1, inplace=True)"
      ],
      "metadata": {
        "id": "9tQnoK9M1elO"
      },
      "execution_count": null,
      "outputs": []
    },
    {
      "cell_type": "code",
      "source": [
        "data_tidy.head()"
      ],
      "metadata": {
        "colab": {
          "base_uri": "https://localhost:8080/",
          "height": 206
        },
        "id": "GrNya36J0nAy",
        "outputId": "0f012c87-b7ab-4320-e22d-7f4a4a4286de"
      },
      "execution_count": null,
      "outputs": [
        {
          "output_type": "execute_result",
          "data": {
            "text/plain": [
              "Parameter                Drug_Name  Pressure  Temperature temp_cat  \\\n",
              "0          diltiazem hydrochloride      18.0         20.0      low   \n",
              "1              docetaxel injection      26.0         23.0   medium   \n",
              "2           ketamine hydrochloride       9.0         22.0   medium   \n",
              "3          diltiazem hydrochloride      19.0         20.0      low   \n",
              "4              docetaxel injection      29.0         25.0   medium   \n",
              "\n",
              "Parameter            timestamp  \n",
              "0          15-10-2020 10:30:00  \n",
              "1          15-10-2020 10:30:00  \n",
              "2          15-10-2020 10:30:00  \n",
              "3          15-10-2020 11:30:00  \n",
              "4          15-10-2020 11:30:00  "
            ],
            "text/html": [
              "\n",
              "  <div id=\"df-8d873a21-5aa9-46ed-9c69-dbb8aacbce69\">\n",
              "    <div class=\"colab-df-container\">\n",
              "      <div>\n",
              "<style scoped>\n",
              "    .dataframe tbody tr th:only-of-type {\n",
              "        vertical-align: middle;\n",
              "    }\n",
              "\n",
              "    .dataframe tbody tr th {\n",
              "        vertical-align: top;\n",
              "    }\n",
              "\n",
              "    .dataframe thead th {\n",
              "        text-align: right;\n",
              "    }\n",
              "</style>\n",
              "<table border=\"1\" class=\"dataframe\">\n",
              "  <thead>\n",
              "    <tr style=\"text-align: right;\">\n",
              "      <th>Parameter</th>\n",
              "      <th>Drug_Name</th>\n",
              "      <th>Pressure</th>\n",
              "      <th>Temperature</th>\n",
              "      <th>temp_cat</th>\n",
              "      <th>timestamp</th>\n",
              "    </tr>\n",
              "  </thead>\n",
              "  <tbody>\n",
              "    <tr>\n",
              "      <th>0</th>\n",
              "      <td>diltiazem hydrochloride</td>\n",
              "      <td>18.0</td>\n",
              "      <td>20.0</td>\n",
              "      <td>low</td>\n",
              "      <td>15-10-2020 10:30:00</td>\n",
              "    </tr>\n",
              "    <tr>\n",
              "      <th>1</th>\n",
              "      <td>docetaxel injection</td>\n",
              "      <td>26.0</td>\n",
              "      <td>23.0</td>\n",
              "      <td>medium</td>\n",
              "      <td>15-10-2020 10:30:00</td>\n",
              "    </tr>\n",
              "    <tr>\n",
              "      <th>2</th>\n",
              "      <td>ketamine hydrochloride</td>\n",
              "      <td>9.0</td>\n",
              "      <td>22.0</td>\n",
              "      <td>medium</td>\n",
              "      <td>15-10-2020 10:30:00</td>\n",
              "    </tr>\n",
              "    <tr>\n",
              "      <th>3</th>\n",
              "      <td>diltiazem hydrochloride</td>\n",
              "      <td>19.0</td>\n",
              "      <td>20.0</td>\n",
              "      <td>low</td>\n",
              "      <td>15-10-2020 11:30:00</td>\n",
              "    </tr>\n",
              "    <tr>\n",
              "      <th>4</th>\n",
              "      <td>docetaxel injection</td>\n",
              "      <td>29.0</td>\n",
              "      <td>25.0</td>\n",
              "      <td>medium</td>\n",
              "      <td>15-10-2020 11:30:00</td>\n",
              "    </tr>\n",
              "  </tbody>\n",
              "</table>\n",
              "</div>\n",
              "      <button class=\"colab-df-convert\" onclick=\"convertToInteractive('df-8d873a21-5aa9-46ed-9c69-dbb8aacbce69')\"\n",
              "              title=\"Convert this dataframe to an interactive table.\"\n",
              "              style=\"display:none;\">\n",
              "        \n",
              "  <svg xmlns=\"http://www.w3.org/2000/svg\" height=\"24px\"viewBox=\"0 0 24 24\"\n",
              "       width=\"24px\">\n",
              "    <path d=\"M0 0h24v24H0V0z\" fill=\"none\"/>\n",
              "    <path d=\"M18.56 5.44l.94 2.06.94-2.06 2.06-.94-2.06-.94-.94-2.06-.94 2.06-2.06.94zm-11 1L8.5 8.5l.94-2.06 2.06-.94-2.06-.94L8.5 2.5l-.94 2.06-2.06.94zm10 10l.94 2.06.94-2.06 2.06-.94-2.06-.94-.94-2.06-.94 2.06-2.06.94z\"/><path d=\"M17.41 7.96l-1.37-1.37c-.4-.4-.92-.59-1.43-.59-.52 0-1.04.2-1.43.59L10.3 9.45l-7.72 7.72c-.78.78-.78 2.05 0 2.83L4 21.41c.39.39.9.59 1.41.59.51 0 1.02-.2 1.41-.59l7.78-7.78 2.81-2.81c.8-.78.8-2.07 0-2.86zM5.41 20L4 18.59l7.72-7.72 1.47 1.35L5.41 20z\"/>\n",
              "  </svg>\n",
              "      </button>\n",
              "      \n",
              "  <style>\n",
              "    .colab-df-container {\n",
              "      display:flex;\n",
              "      flex-wrap:wrap;\n",
              "      gap: 12px;\n",
              "    }\n",
              "\n",
              "    .colab-df-convert {\n",
              "      background-color: #E8F0FE;\n",
              "      border: none;\n",
              "      border-radius: 50%;\n",
              "      cursor: pointer;\n",
              "      display: none;\n",
              "      fill: #1967D2;\n",
              "      height: 32px;\n",
              "      padding: 0 0 0 0;\n",
              "      width: 32px;\n",
              "    }\n",
              "\n",
              "    .colab-df-convert:hover {\n",
              "      background-color: #E2EBFA;\n",
              "      box-shadow: 0px 1px 2px rgba(60, 64, 67, 0.3), 0px 1px 3px 1px rgba(60, 64, 67, 0.15);\n",
              "      fill: #174EA6;\n",
              "    }\n",
              "\n",
              "    [theme=dark] .colab-df-convert {\n",
              "      background-color: #3B4455;\n",
              "      fill: #D2E3FC;\n",
              "    }\n",
              "\n",
              "    [theme=dark] .colab-df-convert:hover {\n",
              "      background-color: #434B5C;\n",
              "      box-shadow: 0px 1px 3px 1px rgba(0, 0, 0, 0.15);\n",
              "      filter: drop-shadow(0px 1px 2px rgba(0, 0, 0, 0.3));\n",
              "      fill: #FFFFFF;\n",
              "    }\n",
              "  </style>\n",
              "\n",
              "      <script>\n",
              "        const buttonEl =\n",
              "          document.querySelector('#df-8d873a21-5aa9-46ed-9c69-dbb8aacbce69 button.colab-df-convert');\n",
              "        buttonEl.style.display =\n",
              "          google.colab.kernel.accessAllowed ? 'block' : 'none';\n",
              "\n",
              "        async function convertToInteractive(key) {\n",
              "          const element = document.querySelector('#df-8d873a21-5aa9-46ed-9c69-dbb8aacbce69');\n",
              "          const dataTable =\n",
              "            await google.colab.kernel.invokeFunction('convertToInteractive',\n",
              "                                                     [key], {});\n",
              "          if (!dataTable) return;\n",
              "\n",
              "          const docLinkHtml = 'Like what you see? Visit the ' +\n",
              "            '<a target=\"_blank\" href=https://colab.research.google.com/notebooks/data_table.ipynb>data table notebook</a>'\n",
              "            + ' to learn more about interactive tables.';\n",
              "          element.innerHTML = '';\n",
              "          dataTable['output_type'] = 'display_data';\n",
              "          await google.colab.output.renderOutput(dataTable, element);\n",
              "          const docLink = document.createElement('div');\n",
              "          docLink.innerHTML = docLinkHtml;\n",
              "          element.appendChild(docLink);\n",
              "        }\n",
              "      </script>\n",
              "    </div>\n",
              "  </div>\n",
              "  "
            ]
          },
          "metadata": {},
          "execution_count": 81
        }
      ]
    },
    {
      "cell_type": "markdown",
      "source": [
        "Lets convert our `timestamp` col now"
      ],
      "metadata": {
        "id": "IKW2elms0ReB"
      }
    },
    {
      "cell_type": "code",
      "execution_count": null,
      "metadata": {
        "id": "ac0215f0",
        "colab": {
          "base_uri": "https://localhost:8080/",
          "height": 423
        },
        "outputId": "60168b7d-c716-4d6d-e490-8308cc6e0861"
      },
      "outputs": [
        {
          "output_type": "execute_result",
          "data": {
            "text/plain": [
              "Parameter                Drug_Name  Pressure  Temperature temp_cat  \\\n",
              "0          diltiazem hydrochloride      18.0         20.0      low   \n",
              "1              docetaxel injection      26.0         23.0   medium   \n",
              "2           ketamine hydrochloride       9.0         22.0   medium   \n",
              "3          diltiazem hydrochloride      19.0         20.0      low   \n",
              "4              docetaxel injection      29.0         25.0   medium   \n",
              "..                             ...       ...          ...      ...   \n",
              "103            docetaxel injection      26.0         19.0      low   \n",
              "104         ketamine hydrochloride      11.0         20.0      low   \n",
              "105        diltiazem hydrochloride       9.0         13.0      low   \n",
              "106            docetaxel injection      27.0         20.0      low   \n",
              "107         ketamine hydrochloride      12.0         21.0   medium   \n",
              "\n",
              "Parameter           timestamp  \n",
              "0         2020-10-15 10:30:00  \n",
              "1         2020-10-15 10:30:00  \n",
              "2         2020-10-15 10:30:00  \n",
              "3         2020-10-15 11:30:00  \n",
              "4         2020-10-15 11:30:00  \n",
              "..                        ...  \n",
              "103       2020-10-17 08:30:00  \n",
              "104       2020-10-17 08:30:00  \n",
              "105       2020-10-17 09:30:00  \n",
              "106       2020-10-17 09:30:00  \n",
              "107       2020-10-17 09:30:00  \n",
              "\n",
              "[108 rows x 5 columns]"
            ],
            "text/html": [
              "\n",
              "  <div id=\"df-f126c6a6-9797-4632-879d-ff0b0c10f2de\">\n",
              "    <div class=\"colab-df-container\">\n",
              "      <div>\n",
              "<style scoped>\n",
              "    .dataframe tbody tr th:only-of-type {\n",
              "        vertical-align: middle;\n",
              "    }\n",
              "\n",
              "    .dataframe tbody tr th {\n",
              "        vertical-align: top;\n",
              "    }\n",
              "\n",
              "    .dataframe thead th {\n",
              "        text-align: right;\n",
              "    }\n",
              "</style>\n",
              "<table border=\"1\" class=\"dataframe\">\n",
              "  <thead>\n",
              "    <tr style=\"text-align: right;\">\n",
              "      <th>Parameter</th>\n",
              "      <th>Drug_Name</th>\n",
              "      <th>Pressure</th>\n",
              "      <th>Temperature</th>\n",
              "      <th>temp_cat</th>\n",
              "      <th>timestamp</th>\n",
              "    </tr>\n",
              "  </thead>\n",
              "  <tbody>\n",
              "    <tr>\n",
              "      <th>0</th>\n",
              "      <td>diltiazem hydrochloride</td>\n",
              "      <td>18.0</td>\n",
              "      <td>20.0</td>\n",
              "      <td>low</td>\n",
              "      <td>2020-10-15 10:30:00</td>\n",
              "    </tr>\n",
              "    <tr>\n",
              "      <th>1</th>\n",
              "      <td>docetaxel injection</td>\n",
              "      <td>26.0</td>\n",
              "      <td>23.0</td>\n",
              "      <td>medium</td>\n",
              "      <td>2020-10-15 10:30:00</td>\n",
              "    </tr>\n",
              "    <tr>\n",
              "      <th>2</th>\n",
              "      <td>ketamine hydrochloride</td>\n",
              "      <td>9.0</td>\n",
              "      <td>22.0</td>\n",
              "      <td>medium</td>\n",
              "      <td>2020-10-15 10:30:00</td>\n",
              "    </tr>\n",
              "    <tr>\n",
              "      <th>3</th>\n",
              "      <td>diltiazem hydrochloride</td>\n",
              "      <td>19.0</td>\n",
              "      <td>20.0</td>\n",
              "      <td>low</td>\n",
              "      <td>2020-10-15 11:30:00</td>\n",
              "    </tr>\n",
              "    <tr>\n",
              "      <th>4</th>\n",
              "      <td>docetaxel injection</td>\n",
              "      <td>29.0</td>\n",
              "      <td>25.0</td>\n",
              "      <td>medium</td>\n",
              "      <td>2020-10-15 11:30:00</td>\n",
              "    </tr>\n",
              "    <tr>\n",
              "      <th>...</th>\n",
              "      <td>...</td>\n",
              "      <td>...</td>\n",
              "      <td>...</td>\n",
              "      <td>...</td>\n",
              "      <td>...</td>\n",
              "    </tr>\n",
              "    <tr>\n",
              "      <th>103</th>\n",
              "      <td>docetaxel injection</td>\n",
              "      <td>26.0</td>\n",
              "      <td>19.0</td>\n",
              "      <td>low</td>\n",
              "      <td>2020-10-17 08:30:00</td>\n",
              "    </tr>\n",
              "    <tr>\n",
              "      <th>104</th>\n",
              "      <td>ketamine hydrochloride</td>\n",
              "      <td>11.0</td>\n",
              "      <td>20.0</td>\n",
              "      <td>low</td>\n",
              "      <td>2020-10-17 08:30:00</td>\n",
              "    </tr>\n",
              "    <tr>\n",
              "      <th>105</th>\n",
              "      <td>diltiazem hydrochloride</td>\n",
              "      <td>9.0</td>\n",
              "      <td>13.0</td>\n",
              "      <td>low</td>\n",
              "      <td>2020-10-17 09:30:00</td>\n",
              "    </tr>\n",
              "    <tr>\n",
              "      <th>106</th>\n",
              "      <td>docetaxel injection</td>\n",
              "      <td>27.0</td>\n",
              "      <td>20.0</td>\n",
              "      <td>low</td>\n",
              "      <td>2020-10-17 09:30:00</td>\n",
              "    </tr>\n",
              "    <tr>\n",
              "      <th>107</th>\n",
              "      <td>ketamine hydrochloride</td>\n",
              "      <td>12.0</td>\n",
              "      <td>21.0</td>\n",
              "      <td>medium</td>\n",
              "      <td>2020-10-17 09:30:00</td>\n",
              "    </tr>\n",
              "  </tbody>\n",
              "</table>\n",
              "<p>108 rows × 5 columns</p>\n",
              "</div>\n",
              "      <button class=\"colab-df-convert\" onclick=\"convertToInteractive('df-f126c6a6-9797-4632-879d-ff0b0c10f2de')\"\n",
              "              title=\"Convert this dataframe to an interactive table.\"\n",
              "              style=\"display:none;\">\n",
              "        \n",
              "  <svg xmlns=\"http://www.w3.org/2000/svg\" height=\"24px\"viewBox=\"0 0 24 24\"\n",
              "       width=\"24px\">\n",
              "    <path d=\"M0 0h24v24H0V0z\" fill=\"none\"/>\n",
              "    <path d=\"M18.56 5.44l.94 2.06.94-2.06 2.06-.94-2.06-.94-.94-2.06-.94 2.06-2.06.94zm-11 1L8.5 8.5l.94-2.06 2.06-.94-2.06-.94L8.5 2.5l-.94 2.06-2.06.94zm10 10l.94 2.06.94-2.06 2.06-.94-2.06-.94-.94-2.06-.94 2.06-2.06.94z\"/><path d=\"M17.41 7.96l-1.37-1.37c-.4-.4-.92-.59-1.43-.59-.52 0-1.04.2-1.43.59L10.3 9.45l-7.72 7.72c-.78.78-.78 2.05 0 2.83L4 21.41c.39.39.9.59 1.41.59.51 0 1.02-.2 1.41-.59l7.78-7.78 2.81-2.81c.8-.78.8-2.07 0-2.86zM5.41 20L4 18.59l7.72-7.72 1.47 1.35L5.41 20z\"/>\n",
              "  </svg>\n",
              "      </button>\n",
              "      \n",
              "  <style>\n",
              "    .colab-df-container {\n",
              "      display:flex;\n",
              "      flex-wrap:wrap;\n",
              "      gap: 12px;\n",
              "    }\n",
              "\n",
              "    .colab-df-convert {\n",
              "      background-color: #E8F0FE;\n",
              "      border: none;\n",
              "      border-radius: 50%;\n",
              "      cursor: pointer;\n",
              "      display: none;\n",
              "      fill: #1967D2;\n",
              "      height: 32px;\n",
              "      padding: 0 0 0 0;\n",
              "      width: 32px;\n",
              "    }\n",
              "\n",
              "    .colab-df-convert:hover {\n",
              "      background-color: #E2EBFA;\n",
              "      box-shadow: 0px 1px 2px rgba(60, 64, 67, 0.3), 0px 1px 3px 1px rgba(60, 64, 67, 0.15);\n",
              "      fill: #174EA6;\n",
              "    }\n",
              "\n",
              "    [theme=dark] .colab-df-convert {\n",
              "      background-color: #3B4455;\n",
              "      fill: #D2E3FC;\n",
              "    }\n",
              "\n",
              "    [theme=dark] .colab-df-convert:hover {\n",
              "      background-color: #434B5C;\n",
              "      box-shadow: 0px 1px 3px 1px rgba(0, 0, 0, 0.15);\n",
              "      filter: drop-shadow(0px 1px 2px rgba(0, 0, 0, 0.3));\n",
              "      fill: #FFFFFF;\n",
              "    }\n",
              "  </style>\n",
              "\n",
              "      <script>\n",
              "        const buttonEl =\n",
              "          document.querySelector('#df-f126c6a6-9797-4632-879d-ff0b0c10f2de button.colab-df-convert');\n",
              "        buttonEl.style.display =\n",
              "          google.colab.kernel.accessAllowed ? 'block' : 'none';\n",
              "\n",
              "        async function convertToInteractive(key) {\n",
              "          const element = document.querySelector('#df-f126c6a6-9797-4632-879d-ff0b0c10f2de');\n",
              "          const dataTable =\n",
              "            await google.colab.kernel.invokeFunction('convertToInteractive',\n",
              "                                                     [key], {});\n",
              "          if (!dataTable) return;\n",
              "\n",
              "          const docLinkHtml = 'Like what you see? Visit the ' +\n",
              "            '<a target=\"_blank\" href=https://colab.research.google.com/notebooks/data_table.ipynb>data table notebook</a>'\n",
              "            + ' to learn more about interactive tables.';\n",
              "          element.innerHTML = '';\n",
              "          dataTable['output_type'] = 'display_data';\n",
              "          await google.colab.output.renderOutput(dataTable, element);\n",
              "          const docLink = document.createElement('div');\n",
              "          docLink.innerHTML = docLinkHtml;\n",
              "          element.appendChild(docLink);\n",
              "        }\n",
              "      </script>\n",
              "    </div>\n",
              "  </div>\n",
              "  "
            ]
          },
          "metadata": {},
          "execution_count": 82
        }
      ],
      "source": [
        "data_tidy['timestamp'] = pd.to_datetime(data_tidy['timestamp']) # will leave to explore how you can mention datetime format by your own\n",
        "\n",
        "data_tidy"
      ]
    },
    {
      "cell_type": "code",
      "execution_count": null,
      "metadata": {
        "id": "686c3076",
        "colab": {
          "base_uri": "https://localhost:8080/"
        },
        "outputId": "e4ca9b31-b41c-4295-e121-7f6c0498a472"
      },
      "outputs": [
        {
          "output_type": "stream",
          "name": "stdout",
          "text": [
            "<class 'pandas.core.frame.DataFrame'>\n",
            "RangeIndex: 108 entries, 0 to 107\n",
            "Data columns (total 5 columns):\n",
            " #   Column       Non-Null Count  Dtype         \n",
            "---  ------       --------------  -----         \n",
            " 0   Drug_Name    108 non-null    object        \n",
            " 1   Pressure     95 non-null     float64       \n",
            " 2   Temperature  95 non-null     float64       \n",
            " 3   temp_cat     95 non-null     category      \n",
            " 4   timestamp    108 non-null    datetime64[ns]\n",
            "dtypes: category(1), datetime64[ns](1), float64(2), object(1)\n",
            "memory usage: 3.8+ KB\n"
          ]
        }
      ],
      "source": [
        "data_tidy.info()"
      ]
    },
    {
      "cell_type": "markdown",
      "metadata": {
        "id": "9cb9c761"
      },
      "source": [
        "The **type of `timestamp` column** has been **changed to `datetime`** from `object`"
      ]
    },
    {
      "cell_type": "markdown",
      "metadata": {
        "id": "921e30f8"
      },
      "source": [
        "Now, Let's look at a single timestamp using Pandas\n",
        "\n",
        "#### How can we **extract information** from a single **timestamp** using Pandas?"
      ]
    },
    {
      "cell_type": "code",
      "execution_count": null,
      "metadata": {
        "id": "9630ca61",
        "colab": {
          "base_uri": "https://localhost:8080/"
        },
        "outputId": "cc694e15-c6f7-447a-f71d-30fdaf5d9634"
      },
      "outputs": [
        {
          "output_type": "execute_result",
          "data": {
            "text/plain": [
              "Timestamp('2020-10-15 10:30:00')"
            ]
          },
          "metadata": {},
          "execution_count": 84
        }
      ],
      "source": [
        "ts = data_tidy['timestamp'][0]\n",
        "ts"
      ]
    },
    {
      "cell_type": "markdown",
      "source": [
        "#### Now how can we extract the year from this date ?\n"
      ],
      "metadata": {
        "id": "aUWxoBXxXCsC"
      }
    },
    {
      "cell_type": "code",
      "execution_count": null,
      "metadata": {
        "id": "b23147d1",
        "colab": {
          "base_uri": "https://localhost:8080/"
        },
        "outputId": "6a48e43e-d1da-4843-fd85-f48dc8d0aea3"
      },
      "outputs": [
        {
          "output_type": "execute_result",
          "data": {
            "text/plain": [
              "2020"
            ]
          },
          "metadata": {},
          "execution_count": 85
        }
      ],
      "source": [
        "ts.year"
      ]
    },
    {
      "cell_type": "markdown",
      "source": [
        "Similarly we can also access the month and day using the `month` and `day` attributes"
      ],
      "metadata": {
        "id": "BzX76yfCXOpQ"
      }
    },
    {
      "cell_type": "code",
      "execution_count": null,
      "metadata": {
        "id": "1b6f06db",
        "colab": {
          "base_uri": "https://localhost:8080/"
        },
        "outputId": "fe4cd2f9-c657-4cbf-d9de-ba3a45c66d90"
      },
      "outputs": [
        {
          "output_type": "execute_result",
          "data": {
            "text/plain": [
              "10"
            ]
          },
          "metadata": {},
          "execution_count": 86
        }
      ],
      "source": [
        "ts.month"
      ]
    },
    {
      "cell_type": "code",
      "execution_count": null,
      "metadata": {
        "id": "b3614273",
        "colab": {
          "base_uri": "https://localhost:8080/"
        },
        "outputId": "783b4f22-a3e8-4412-f17d-477fc5b93a6e"
      },
      "outputs": [
        {
          "output_type": "execute_result",
          "data": {
            "text/plain": [
              "15"
            ]
          },
          "metadata": {},
          "execution_count": 87
        }
      ],
      "source": [
        "ts.day"
      ]
    },
    {
      "cell_type": "markdown",
      "source": [
        "#### But what if we want to know the name of the month or the day of the week on that date ?\n",
        "  - We can find it using `month_name()` and `day_name()` methods"
      ],
      "metadata": {
        "id": "HXrh96fKXYdZ"
      }
    },
    {
      "cell_type": "code",
      "execution_count": null,
      "metadata": {
        "id": "5549b282",
        "colab": {
          "base_uri": "https://localhost:8080/",
          "height": 36
        },
        "outputId": "6a2a80b5-0413-4b37-d981-bf244526dcbc"
      },
      "outputs": [
        {
          "output_type": "execute_result",
          "data": {
            "text/plain": [
              "'October'"
            ],
            "application/vnd.google.colaboratory.intrinsic+json": {
              "type": "string"
            }
          },
          "metadata": {},
          "execution_count": 88
        }
      ],
      "source": [
        "ts.month_name()"
      ]
    },
    {
      "cell_type": "code",
      "execution_count": null,
      "metadata": {
        "id": "8d604c3d",
        "colab": {
          "base_uri": "https://localhost:8080/",
          "height": 36
        },
        "outputId": "56bd979f-e911-42ee-bb2f-f61e0c914f88"
      },
      "outputs": [
        {
          "output_type": "execute_result",
          "data": {
            "text/plain": [
              "'Thursday'"
            ],
            "application/vnd.google.colaboratory.intrinsic+json": {
              "type": "string"
            }
          },
          "metadata": {},
          "execution_count": 89
        }
      ],
      "source": [
        "ts.day_name()"
      ]
    },
    {
      "cell_type": "code",
      "execution_count": null,
      "metadata": {
        "id": "4c5159fd",
        "colab": {
          "base_uri": "https://localhost:8080/"
        },
        "outputId": "f2efd6c4-87b1-4856-a747-dc650830b8ef"
      },
      "outputs": [
        {
          "output_type": "execute_result",
          "data": {
            "text/plain": [
              "3"
            ]
          },
          "metadata": {},
          "execution_count": 90
        }
      ],
      "source": [
        "ts.dayofweek"
      ]
    },
    {
      "cell_type": "code",
      "execution_count": null,
      "metadata": {
        "id": "cd235ba6",
        "colab": {
          "base_uri": "https://localhost:8080/"
        },
        "outputId": "badfd107-16cf-46ba-bcb6-67f9bf8d88a3"
      },
      "outputs": [
        {
          "output_type": "execute_result",
          "data": {
            "text/plain": [
              "10"
            ]
          },
          "metadata": {},
          "execution_count": 91
        }
      ],
      "source": [
        "ts.hour"
      ]
    },
    {
      "cell_type": "code",
      "source": [
        "ts.minute"
      ],
      "metadata": {
        "colab": {
          "base_uri": "https://localhost:8080/"
        },
        "id": "jfxzjk7QDbr1",
        "outputId": "4325ee62-22de-414e-a7a6-87e94b822a8f"
      },
      "execution_count": null,
      "outputs": [
        {
          "output_type": "execute_result",
          "data": {
            "text/plain": [
              "30"
            ]
          },
          "metadata": {},
          "execution_count": 92
        }
      ]
    },
    {
      "cell_type": "markdown",
      "metadata": {
        "id": "12604d43"
      },
      "source": [
        "... and so on\n",
        "\n",
        "We can similarly extract minutes and seconds\n",
        "\n",
        "\n",
        "#### This data parsing from string to date-time makes it easier to work with data\n",
        "\n",
        "We can use this data from the columns as a whole using ```.dt``` object"
      ]
    },
    {
      "cell_type": "code",
      "execution_count": null,
      "metadata": {
        "id": "397db0cb",
        "colab": {
          "base_uri": "https://localhost:8080/"
        },
        "outputId": "3a89bed5-a261-4e19-a0bb-9a0c8184e192"
      },
      "outputs": [
        {
          "output_type": "execute_result",
          "data": {
            "text/plain": [
              "<pandas.core.indexes.accessors.DatetimeProperties object at 0x7fbc4061ec20>"
            ]
          },
          "metadata": {},
          "execution_count": 93
        }
      ],
      "source": [
        "data_tidy['timestamp'].dt"
      ]
    },
    {
      "cell_type": "markdown",
      "metadata": {
        "id": "53f914b0"
      },
      "source": [
        "- **`dt` gives properties of values in a column**\n",
        "\n",
        "- From this **`DatetimeProperties` of column `'end'`**, we can **extract `year`**"
      ]
    },
    {
      "cell_type": "code",
      "execution_count": null,
      "metadata": {
        "id": "d0ad00fa",
        "colab": {
          "base_uri": "https://localhost:8080/"
        },
        "outputId": "42c92138-bd15-4d1e-fbb8-4f473dc13505"
      },
      "outputs": [
        {
          "output_type": "execute_result",
          "data": {
            "text/plain": [
              "0      2020\n",
              "1      2020\n",
              "2      2020\n",
              "3      2020\n",
              "4      2020\n",
              "       ... \n",
              "103    2020\n",
              "104    2020\n",
              "105    2020\n",
              "106    2020\n",
              "107    2020\n",
              "Name: timestamp, Length: 108, dtype: int64"
            ]
          },
          "metadata": {},
          "execution_count": 94
        }
      ],
      "source": [
        "data_tidy['timestamp'].dt.year"
      ]
    },
    {
      "cell_type": "markdown",
      "metadata": {
        "id": "57b0eb10"
      },
      "source": [
        "Now, Let's **create the new column using these extracted values from the property**"
      ]
    },
    {
      "cell_type": "markdown",
      "source": [
        "We will use strfttime, short for stringformat time, to modify our datetime format\n",
        "\n",
        "Let's learn this with the help of few examples"
      ],
      "metadata": {
        "id": "vEnNAtL4R6Ay"
      }
    },
    {
      "cell_type": "code",
      "source": [
        "data_tidy['timestamp'][0]"
      ],
      "metadata": {
        "colab": {
          "base_uri": "https://localhost:8080/"
        },
        "id": "wxXEm4GoSdxW",
        "outputId": "40826b78-e06b-488b-df8d-78d0b9311c0c"
      },
      "execution_count": null,
      "outputs": [
        {
          "output_type": "execute_result",
          "data": {
            "text/plain": [
              "Timestamp('2020-10-15 10:30:00')"
            ]
          },
          "metadata": {},
          "execution_count": 95
        }
      ]
    },
    {
      "cell_type": "code",
      "source": [
        "print(data_tidy['timestamp'][0].strftime('%Y')) # Formatter for year"
      ],
      "metadata": {
        "colab": {
          "base_uri": "https://localhost:8080/"
        },
        "id": "hrFwWBvFSEUh",
        "outputId": "d7df157e-bacc-4fba-8ba6-8a6b4ddb7e6e"
      },
      "execution_count": null,
      "outputs": [
        {
          "output_type": "stream",
          "name": "stdout",
          "text": [
            "2020\n"
          ]
        }
      ]
    },
    {
      "cell_type": "code",
      "source": [
        "print(data_tidy['timestamp'][0].strftime('%m')) # Formatter for month"
      ],
      "metadata": {
        "colab": {
          "base_uri": "https://localhost:8080/"
        },
        "id": "hlPuWmIGSKxu",
        "outputId": "06174aed-2465-4b53-f283-fe9a443e19a0"
      },
      "execution_count": null,
      "outputs": [
        {
          "output_type": "stream",
          "name": "stdout",
          "text": [
            "10\n"
          ]
        }
      ]
    },
    {
      "cell_type": "code",
      "source": [
        "print(data_tidy['timestamp'][0].strftime('%d')) # Formatter for day"
      ],
      "metadata": {
        "colab": {
          "base_uri": "https://localhost:8080/"
        },
        "id": "hDR6z2TpSM96",
        "outputId": "fc1c96ab-7423-4ed8-c0da-b1562273825e"
      },
      "execution_count": null,
      "outputs": [
        {
          "output_type": "stream",
          "name": "stdout",
          "text": [
            "15\n"
          ]
        }
      ]
    },
    {
      "cell_type": "code",
      "source": [
        "print(data_tidy['timestamp'][0].strftime('%H')) # Formatter for hour"
      ],
      "metadata": {
        "colab": {
          "base_uri": "https://localhost:8080/"
        },
        "id": "d_0odFX5SYxY",
        "outputId": "27727e77-cf52-4099-b2c6-0cab365122c5"
      },
      "execution_count": null,
      "outputs": [
        {
          "output_type": "stream",
          "name": "stdout",
          "text": [
            "10\n"
          ]
        }
      ]
    },
    {
      "cell_type": "code",
      "source": [
        "print(data_tidy['timestamp'][0].strftime('%M')) # Formatter for minutes"
      ],
      "metadata": {
        "colab": {
          "base_uri": "https://localhost:8080/"
        },
        "id": "wcesgeQASiZh",
        "outputId": "a7eb921e-df5d-4f47-e1c1-ad0096a953f0"
      },
      "execution_count": null,
      "outputs": [
        {
          "output_type": "stream",
          "name": "stdout",
          "text": [
            "30\n"
          ]
        }
      ]
    },
    {
      "cell_type": "code",
      "source": [
        "print(data_tidy['timestamp'][0].strftime('%S')) # Formatter for seconds"
      ],
      "metadata": {
        "colab": {
          "base_uri": "https://localhost:8080/"
        },
        "id": "0DkFuKdwSixu",
        "outputId": "91ec6e5e-29e5-43a1-8362-07782a20eaa7"
      },
      "execution_count": null,
      "outputs": [
        {
          "output_type": "stream",
          "name": "stdout",
          "text": [
            "00\n"
          ]
        }
      ]
    },
    {
      "cell_type": "markdown",
      "source": [
        "Similarly we can combine the format types to modify the date-time format as per our convinience"
      ],
      "metadata": {
        "id": "wjIs4gLwSpuz"
      }
    },
    {
      "cell_type": "code",
      "execution_count": null,
      "metadata": {
        "id": "d8e9225e",
        "colab": {
          "base_uri": "https://localhost:8080/",
          "height": 36
        },
        "outputId": "025429db-f817-43fd-8c9b-22c46d638adc"
      },
      "outputs": [
        {
          "output_type": "execute_result",
          "data": {
            "text/plain": [
              "'10-15'"
            ],
            "application/vnd.google.colaboratory.intrinsic+json": {
              "type": "string"
            }
          },
          "metadata": {},
          "execution_count": 102
        }
      ],
      "source": [
        "data_tidy['timestamp'][0].strftime('%m-%d')"
      ]
    },
    {
      "cell_type": "markdown",
      "source": [
        "### Writing to file\n",
        "\n",
        "\n",
        "#### How can we write our dataframe to a csv file?\n",
        "\n",
        "\n",
        "- We have to **provide the path and file_name** in which you want to store the data"
      ],
      "metadata": {
        "id": "gMw1SsFBpLx2"
      }
    },
    {
      "cell_type": "code",
      "execution_count": null,
      "metadata": {
        "id": "24747bf1"
      },
      "outputs": [],
      "source": [
        "data_tidy.to_csv('pfizer_tidy.csv', sep=\",\") "
      ]
    },
    {
      "cell_type": "code",
      "source": [],
      "metadata": {
        "id": "IJPHt9L-PsdH"
      },
      "execution_count": null,
      "outputs": []
    }
  ]
}