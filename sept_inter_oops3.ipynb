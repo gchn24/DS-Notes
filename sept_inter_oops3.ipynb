{
  "nbformat": 4,
  "nbformat_minor": 0,
  "metadata": {
    "colab": {
      "provenance": [],
      "include_colab_link": true
    },
    "kernelspec": {
      "name": "python3",
      "display_name": "Python 3"
    },
    "language_info": {
      "name": "python"
    }
  },
  "cells": [
    {
      "cell_type": "markdown",
      "metadata": {
        "id": "view-in-github",
        "colab_type": "text"
      },
      "source": [
        "<a href=\"https://colab.research.google.com/github/gchn24/DS-Notes/blob/main/sept_inter_oops3.ipynb\" target=\"_parent\"><img src=\"https://colab.research.google.com/assets/colab-badge.svg\" alt=\"Open In Colab\"/></a>"
      ]
    },
    {
      "cell_type": "code",
      "execution_count": null,
      "metadata": {
        "id": "RE4yLkI628-_"
      },
      "outputs": [],
      "source": [
        "class SchoolMember:\n",
        "\n",
        "  def __init__(self, name):\n",
        "    self.name = name\n",
        "\n",
        "class Student(SchoolMember): #inheriting parent class\n",
        "#child - Student, parent- SchoolMember\n",
        "  def __init__(self, name, grade):\n",
        "    super().__init__(name)\n",
        "    self.grade = grade\n",
        "\n",
        "\n",
        "class Staff(SchoolMember):\n",
        "\n",
        "  def __init__(self, name, exp):\n",
        "    super().__init__(name)\n",
        "    self.exp = exp\n",
        "\n",
        "\n",
        "class Teacher(Staff):\n",
        "\n",
        "  def __init__(self, name, exp, subject):\n",
        "    super().__init__(name, exp)\n",
        "    self.subject = subject"
      ]
    },
    {
      "cell_type": "code",
      "source": [
        "#private data members"
      ],
      "metadata": {
        "id": "q3dkPLMC5s8N"
      },
      "execution_count": null,
      "outputs": []
    },
    {
      "cell_type": "code",
      "source": [
        "class BankAccount:\n",
        "\n",
        "  def __init__(self, balance):\n",
        "    self.balance = balance\n",
        "\n",
        "  def withdrawal(self, amount):\n",
        "    self.balance -= amount\n",
        "  \n",
        "  def deposit(self, amount):\n",
        "    self.balance += amount"
      ],
      "metadata": {
        "id": "aa2kh-5l5-fG"
      },
      "execution_count": null,
      "outputs": []
    },
    {
      "cell_type": "code",
      "source": [
        "b1 = BankAccount(10000)"
      ],
      "metadata": {
        "id": "VPeiRY8p7J55"
      },
      "execution_count": null,
      "outputs": []
    },
    {
      "cell_type": "code",
      "source": [
        "b1.deposit(5000)"
      ],
      "metadata": {
        "id": "TNJcfx-p7Rem"
      },
      "execution_count": null,
      "outputs": []
    },
    {
      "cell_type": "code",
      "source": [
        "b1.balance"
      ],
      "metadata": {
        "colab": {
          "base_uri": "https://localhost:8080/"
        },
        "id": "nN95aQI57U2C",
        "outputId": "220bbf10-35c8-40d7-b6f3-75983953d137"
      },
      "execution_count": null,
      "outputs": [
        {
          "output_type": "execute_result",
          "data": {
            "text/plain": [
              "15000"
            ]
          },
          "metadata": {},
          "execution_count": 6
        }
      ]
    },
    {
      "cell_type": "code",
      "source": [
        "b1.withdrawal(3000)\n",
        "b1.balance"
      ],
      "metadata": {
        "colab": {
          "base_uri": "https://localhost:8080/"
        },
        "id": "wjseZZKH7btH",
        "outputId": "84f6bd99-0b38-4b62-8e25-0eb005285848"
      },
      "execution_count": null,
      "outputs": [
        {
          "output_type": "execute_result",
          "data": {
            "text/plain": [
              "12000"
            ]
          },
          "metadata": {},
          "execution_count": 7
        }
      ]
    },
    {
      "cell_type": "code",
      "source": [
        "b1.balance = 54845969356847547984569745878743579458748578787878776767"
      ],
      "metadata": {
        "id": "oulYz_mf7muw"
      },
      "execution_count": null,
      "outputs": []
    },
    {
      "cell_type": "code",
      "source": [
        "b1.balance"
      ],
      "metadata": {
        "colab": {
          "base_uri": "https://localhost:8080/"
        },
        "id": "2EUVIKkb70NY",
        "outputId": "6eee2b03-f27e-4c2a-bdde-3f084d22396b"
      },
      "execution_count": null,
      "outputs": [
        {
          "output_type": "execute_result",
          "data": {
            "text/plain": [
              "54845969356847547984569745878743579458748578787878776767"
            ]
          },
          "metadata": {},
          "execution_count": 10
        }
      ]
    },
    {
      "cell_type": "code",
      "source": [
        "#Private properties: --> __var will make var private\n",
        "# 1- will be accessible within the class only\n",
        "# 2- will not be able to access from outside of the class definition"
      ],
      "metadata": {
        "id": "OYGD76uR78R9"
      },
      "execution_count": null,
      "outputs": []
    },
    {
      "cell_type": "code",
      "source": [
        "class BankAccount:\n",
        "\n",
        "  def __init__(self, balance):\n",
        "    self.__balance = balance\n",
        "\n",
        "  #setter\n",
        "  def withdrawal(self, amount):\n",
        "    self.__balance -= amount\n",
        "    \n",
        "  #setter\n",
        "  def deposit(self, amount):\n",
        "    self.__balance += amount\n",
        "\n",
        "  #getter\n",
        "  def check_balance(self):\n",
        "    return self.__balance"
      ],
      "metadata": {
        "id": "1uCF5Yg78zcq"
      },
      "execution_count": null,
      "outputs": []
    },
    {
      "cell_type": "code",
      "source": [
        "b1 = BankAccount(10000)"
      ],
      "metadata": {
        "id": "7Kwwbnwz9hks"
      },
      "execution_count": null,
      "outputs": []
    },
    {
      "cell_type": "code",
      "source": [
        "b1.__balance"
      ],
      "metadata": {
        "colab": {
          "base_uri": "https://localhost:8080/",
          "height": 170
        },
        "id": "UUE3vdd79xi8",
        "outputId": "f1b4a923-cc41-42e7-be6c-733dc977fb27"
      },
      "execution_count": null,
      "outputs": [
        {
          "output_type": "error",
          "ename": "AttributeError",
          "evalue": "ignored",
          "traceback": [
            "\u001b[0;31m---------------------------------------------------------------------------\u001b[0m",
            "\u001b[0;31mAttributeError\u001b[0m                            Traceback (most recent call last)",
            "\u001b[0;32m<ipython-input-22-08368b8eecc5>\u001b[0m in \u001b[0;36m<module>\u001b[0;34m\u001b[0m\n\u001b[0;32m----> 1\u001b[0;31m \u001b[0mb1\u001b[0m\u001b[0;34m.\u001b[0m\u001b[0m__balance\u001b[0m\u001b[0;34m\u001b[0m\u001b[0;34m\u001b[0m\u001b[0m\n\u001b[0m",
            "\u001b[0;31mAttributeError\u001b[0m: 'BankAccount' object has no attribute '__balance'"
          ]
        }
      ]
    },
    {
      "cell_type": "code",
      "source": [
        "b1.balance"
      ],
      "metadata": {
        "colab": {
          "base_uri": "https://localhost:8080/",
          "height": 170
        },
        "id": "K2EEItoF9ztq",
        "outputId": "62b67540-6c33-4525-f3b9-a17c9c96a4aa"
      },
      "execution_count": null,
      "outputs": [
        {
          "output_type": "error",
          "ename": "AttributeError",
          "evalue": "ignored",
          "traceback": [
            "\u001b[0;31m---------------------------------------------------------------------------\u001b[0m",
            "\u001b[0;31mAttributeError\u001b[0m                            Traceback (most recent call last)",
            "\u001b[0;32m<ipython-input-15-61ed2e75ec51>\u001b[0m in \u001b[0;36m<module>\u001b[0;34m\u001b[0m\n\u001b[0;32m----> 1\u001b[0;31m \u001b[0mb1\u001b[0m\u001b[0;34m.\u001b[0m\u001b[0mbalance\u001b[0m\u001b[0;34m\u001b[0m\u001b[0;34m\u001b[0m\u001b[0m\n\u001b[0m",
            "\u001b[0;31mAttributeError\u001b[0m: 'BankAccount' object has no attribute 'balance'"
          ]
        }
      ]
    },
    {
      "cell_type": "code",
      "source": [
        "b1.check_balance()"
      ],
      "metadata": {
        "colab": {
          "base_uri": "https://localhost:8080/"
        },
        "id": "Ispkg4kB-FR0",
        "outputId": "c37fda78-f743-48da-90aa-d9d6864be2e6"
      },
      "execution_count": null,
      "outputs": [
        {
          "output_type": "execute_result",
          "data": {
            "text/plain": [
              "10000"
            ]
          },
          "metadata": {},
          "execution_count": 23
        }
      ]
    },
    {
      "cell_type": "code",
      "source": [
        "b1.withdrawal(1000)"
      ],
      "metadata": {
        "id": "76S3bqHn-mgF"
      },
      "execution_count": null,
      "outputs": []
    },
    {
      "cell_type": "code",
      "source": [
        "b1.check_balance()"
      ],
      "metadata": {
        "colab": {
          "base_uri": "https://localhost:8080/"
        },
        "id": "5FNgcrsN-5qP",
        "outputId": "8fc86066-8aba-447f-a5c2-cbc1b2f11361"
      },
      "execution_count": null,
      "outputs": [
        {
          "output_type": "execute_result",
          "data": {
            "text/plain": [
              "9000"
            ]
          },
          "metadata": {},
          "execution_count": 25
        }
      ]
    },
    {
      "cell_type": "code",
      "source": [
        "b1.deposit(20000)"
      ],
      "metadata": {
        "id": "GqfclImP--b6"
      },
      "execution_count": null,
      "outputs": []
    },
    {
      "cell_type": "code",
      "source": [
        "b1.check_balance()"
      ],
      "metadata": {
        "colab": {
          "base_uri": "https://localhost:8080/"
        },
        "id": "Ui4nfZwt_Byk",
        "outputId": "4f41936e-3ff4-41e3-ea2d-8ca86baee59e"
      },
      "execution_count": null,
      "outputs": [
        {
          "output_type": "execute_result",
          "data": {
            "text/plain": [
              "29000"
            ]
          },
          "metadata": {},
          "execution_count": 27
        }
      ]
    },
    {
      "cell_type": "code",
      "source": [
        "b1._BankAccount__balance = 765798546984758874568724587724657647658732457674\n",
        "#Name Mangling"
      ],
      "metadata": {
        "id": "JlweyAX-_GnH"
      },
      "execution_count": null,
      "outputs": []
    },
    {
      "cell_type": "code",
      "source": [
        "b1.check_balance()"
      ],
      "metadata": {
        "colab": {
          "base_uri": "https://localhost:8080/"
        },
        "id": "7DwuvMN0_q6i",
        "outputId": "c77d9d6c-bc87-45b3-ee7d-d82f034f47f3"
      },
      "execution_count": null,
      "outputs": [
        {
          "output_type": "execute_result",
          "data": {
            "text/plain": [
              "765798546984758874568724587724657647658732457674"
            ]
          },
          "metadata": {},
          "execution_count": 30
        }
      ]
    },
    {
      "cell_type": "code",
      "source": [
        "dir(b1)"
      ],
      "metadata": {
        "colab": {
          "base_uri": "https://localhost:8080/"
        },
        "id": "DN0Mn5Bq_uXg",
        "outputId": "bd2add34-31a6-43b1-b31a-82431dc01a05"
      },
      "execution_count": null,
      "outputs": [
        {
          "output_type": "execute_result",
          "data": {
            "text/plain": [
              "['_BankAccount__balance',\n",
              " '__class__',\n",
              " '__delattr__',\n",
              " '__dict__',\n",
              " '__dir__',\n",
              " '__doc__',\n",
              " '__eq__',\n",
              " '__format__',\n",
              " '__ge__',\n",
              " '__getattribute__',\n",
              " '__gt__',\n",
              " '__hash__',\n",
              " '__init__',\n",
              " '__init_subclass__',\n",
              " '__le__',\n",
              " '__lt__',\n",
              " '__module__',\n",
              " '__ne__',\n",
              " '__new__',\n",
              " '__reduce__',\n",
              " '__reduce_ex__',\n",
              " '__repr__',\n",
              " '__setattr__',\n",
              " '__sizeof__',\n",
              " '__str__',\n",
              " '__subclasshook__',\n",
              " '__weakref__',\n",
              " 'check_balance',\n",
              " 'deposit',\n",
              " 'withdrawal']"
            ]
          },
          "metadata": {},
          "execution_count": 32
        }
      ]
    },
    {
      "cell_type": "code",
      "source": [
        "# Nothing can be completely private in python"
      ],
      "metadata": {
        "id": "Tp0_KteBAAMp"
      },
      "execution_count": null,
      "outputs": []
    },
    {
      "cell_type": "code",
      "source": [
        "#Multiple Inheritence"
      ],
      "metadata": {
        "id": "Qj-tNNijCagr"
      },
      "execution_count": null,
      "outputs": []
    },
    {
      "cell_type": "code",
      "source": [
        "class A:\n",
        "\n",
        "  def __init__(self, a):\n",
        "    self.a = a\n",
        "\n",
        "\n",
        "class B:\n",
        "\n",
        "  def __init__(self, b):\n",
        "    self.b = b\n",
        "\n",
        "#class C inherits from both A and B - multiple inheritence\n",
        "class C(A, B):\n",
        "  \n",
        "  def __init__(self, a, b, c):\n",
        "\n",
        "    #Assumption 1\n",
        "    super().__init__(a,b)\n",
        "    self.c = c"
      ],
      "metadata": {
        "id": "1bhEmZ43FTqx"
      },
      "execution_count": null,
      "outputs": []
    },
    {
      "cell_type": "code",
      "source": [
        "c1 = C(1,2,3)"
      ],
      "metadata": {
        "colab": {
          "base_uri": "https://localhost:8080/",
          "height": 277
        },
        "id": "Oy3g1_QMGR5E",
        "outputId": "4717008f-27b4-4be3-bf62-9b8366ad5e6e"
      },
      "execution_count": null,
      "outputs": [
        {
          "output_type": "error",
          "ename": "TypeError",
          "evalue": "ignored",
          "traceback": [
            "\u001b[0;31m---------------------------------------------------------------------------\u001b[0m",
            "\u001b[0;31mTypeError\u001b[0m                                 Traceback (most recent call last)",
            "\u001b[0;32m<ipython-input-36-36057f89418e>\u001b[0m in \u001b[0;36m<module>\u001b[0;34m\u001b[0m\n\u001b[0;32m----> 1\u001b[0;31m \u001b[0mc1\u001b[0m \u001b[0;34m=\u001b[0m \u001b[0mC\u001b[0m\u001b[0;34m(\u001b[0m\u001b[0;36m1\u001b[0m\u001b[0;34m,\u001b[0m\u001b[0;36m2\u001b[0m\u001b[0;34m,\u001b[0m\u001b[0;36m3\u001b[0m\u001b[0;34m)\u001b[0m\u001b[0;34m\u001b[0m\u001b[0;34m\u001b[0m\u001b[0m\n\u001b[0m",
            "\u001b[0;32m<ipython-input-35-83efdc12b22b>\u001b[0m in \u001b[0;36m__init__\u001b[0;34m(self, a, b, c)\u001b[0m\n\u001b[1;32m     16\u001b[0m \u001b[0;34m\u001b[0m\u001b[0m\n\u001b[1;32m     17\u001b[0m     \u001b[0;31m#Assumption 1\u001b[0m\u001b[0;34m\u001b[0m\u001b[0;34m\u001b[0m\u001b[0;34m\u001b[0m\u001b[0m\n\u001b[0;32m---> 18\u001b[0;31m     \u001b[0msuper\u001b[0m\u001b[0;34m(\u001b[0m\u001b[0;34m)\u001b[0m\u001b[0;34m.\u001b[0m\u001b[0m__init__\u001b[0m\u001b[0;34m(\u001b[0m\u001b[0ma\u001b[0m\u001b[0;34m,\u001b[0m\u001b[0mb\u001b[0m\u001b[0;34m)\u001b[0m\u001b[0;34m\u001b[0m\u001b[0;34m\u001b[0m\u001b[0m\n\u001b[0m\u001b[1;32m     19\u001b[0m     \u001b[0mself\u001b[0m\u001b[0;34m.\u001b[0m\u001b[0mc\u001b[0m \u001b[0;34m=\u001b[0m \u001b[0mc\u001b[0m\u001b[0;34m\u001b[0m\u001b[0;34m\u001b[0m\u001b[0m\n",
            "\u001b[0;31mTypeError\u001b[0m: __init__() takes 2 positional arguments but 3 were given"
          ]
        }
      ]
    },
    {
      "cell_type": "code",
      "source": [
        "class A:\n",
        "\n",
        "  def __init__(self, a):\n",
        "    self.a = a\n",
        "\n",
        "\n",
        "class B:\n",
        "\n",
        "  def __init__(self, b):\n",
        "    self.b = b\n",
        "\n",
        "#class C inherits from both A and B - multiple inheritence\n",
        "class C(A, B):\n",
        "  \n",
        "  def __init__(self, a, b, c):\n",
        "\n",
        "    #Assumption 1\n",
        "    # super().__init__(a,b)\n",
        "\n",
        "    #Assumption2\n",
        "    super().__init__(a)\n",
        "    super().__init__(b)\n",
        "\n",
        "    self.c = c"
      ],
      "metadata": {
        "id": "WtU9w1d7GXOw"
      },
      "execution_count": null,
      "outputs": []
    },
    {
      "cell_type": "code",
      "source": [
        "c1 = C(1,2,3)"
      ],
      "metadata": {
        "id": "xS_LH4k-G0u0"
      },
      "execution_count": null,
      "outputs": []
    },
    {
      "cell_type": "code",
      "source": [
        "c1.a"
      ],
      "metadata": {
        "colab": {
          "base_uri": "https://localhost:8080/"
        },
        "id": "RvzypB3PG2hn",
        "outputId": "27680ba9-ffd6-438f-f8c1-5eb22c9cfd3e"
      },
      "execution_count": null,
      "outputs": [
        {
          "output_type": "execute_result",
          "data": {
            "text/plain": [
              "2"
            ]
          },
          "metadata": {},
          "execution_count": 39
        }
      ]
    },
    {
      "cell_type": "code",
      "source": [
        "c1.c"
      ],
      "metadata": {
        "colab": {
          "base_uri": "https://localhost:8080/"
        },
        "id": "bnrMtR-VG9BS",
        "outputId": "c13bcbb9-ecfd-4f00-8f84-b333c58ff81d"
      },
      "execution_count": null,
      "outputs": [
        {
          "output_type": "execute_result",
          "data": {
            "text/plain": [
              "3"
            ]
          },
          "metadata": {},
          "execution_count": 40
        }
      ]
    },
    {
      "cell_type": "code",
      "source": [
        "c1.b"
      ],
      "metadata": {
        "colab": {
          "base_uri": "https://localhost:8080/",
          "height": 170
        },
        "id": "Qm9bZ_ExHMcn",
        "outputId": "0673fbe7-a67b-44f3-b1c0-21e30f155866"
      },
      "execution_count": null,
      "outputs": [
        {
          "output_type": "error",
          "ename": "AttributeError",
          "evalue": "ignored",
          "traceback": [
            "\u001b[0;31m---------------------------------------------------------------------------\u001b[0m",
            "\u001b[0;31mAttributeError\u001b[0m                            Traceback (most recent call last)",
            "\u001b[0;32m<ipython-input-41-92825a46129a>\u001b[0m in \u001b[0;36m<module>\u001b[0;34m\u001b[0m\n\u001b[0;32m----> 1\u001b[0;31m \u001b[0mc1\u001b[0m\u001b[0;34m.\u001b[0m\u001b[0mb\u001b[0m\u001b[0;34m\u001b[0m\u001b[0;34m\u001b[0m\u001b[0m\n\u001b[0m",
            "\u001b[0;31mAttributeError\u001b[0m: 'C' object has no attribute 'b'"
          ]
        }
      ]
    },
    {
      "cell_type": "code",
      "source": [
        "class A:\n",
        "\n",
        "  def __init__(self, a):\n",
        "    self.a = a\n",
        "\n",
        "\n",
        "class B:\n",
        "\n",
        "  def __init__(self, b):\n",
        "    self.b = b\n",
        "\n",
        "#class C inherits from both A and B - multiple inheritence\n",
        "class C(A, B):\n",
        "  \n",
        "  def __init__(self, a, b, c):\n",
        "\n",
        "    #Assumption 1\n",
        "    # super().__init__(a,b)\n",
        "\n",
        "    #Assumption2\n",
        "    # super().__init__(a)\n",
        "    # super().__init__(b)\n",
        "\n",
        "    #Assumtion3\n",
        "    A.__init__(self,a)\n",
        "    B.__init__(self,b)\n",
        "    self.c = c"
      ],
      "metadata": {
        "id": "YyRiHKw3HNPY"
      },
      "execution_count": null,
      "outputs": []
    },
    {
      "cell_type": "code",
      "source": [
        "c1 = C(1,2,3)"
      ],
      "metadata": {
        "id": "KzuEldrDH4nh"
      },
      "execution_count": null,
      "outputs": []
    },
    {
      "cell_type": "code",
      "source": [
        "c1.a"
      ],
      "metadata": {
        "colab": {
          "base_uri": "https://localhost:8080/"
        },
        "id": "5gyyIKXeH6F-",
        "outputId": "aae61248-f37d-4dc4-f6b3-c308a857b0ab"
      },
      "execution_count": null,
      "outputs": [
        {
          "output_type": "execute_result",
          "data": {
            "text/plain": [
              "1"
            ]
          },
          "metadata": {},
          "execution_count": 46
        }
      ]
    },
    {
      "cell_type": "code",
      "source": [
        "c1.b"
      ],
      "metadata": {
        "colab": {
          "base_uri": "https://localhost:8080/"
        },
        "id": "EhUqdru1ICJZ",
        "outputId": "d45efe29-3240-4688-dbc0-5384b0ec0a0e"
      },
      "execution_count": null,
      "outputs": [
        {
          "output_type": "execute_result",
          "data": {
            "text/plain": [
              "2"
            ]
          },
          "metadata": {},
          "execution_count": 47
        }
      ]
    },
    {
      "cell_type": "code",
      "source": [
        "c1.c"
      ],
      "metadata": {
        "colab": {
          "base_uri": "https://localhost:8080/"
        },
        "id": "A2uCKRYoIC1u",
        "outputId": "ff972acc-4c80-4fcb-8b67-6a29b5fd84e0"
      },
      "execution_count": null,
      "outputs": [
        {
          "output_type": "execute_result",
          "data": {
            "text/plain": [
              "3"
            ]
          },
          "metadata": {},
          "execution_count": 48
        }
      ]
    },
    {
      "cell_type": "code",
      "source": [
        "#Method Resolution Order"
      ],
      "metadata": {
        "id": "BUkPi0RXIDug"
      },
      "execution_count": null,
      "outputs": []
    },
    {
      "cell_type": "code",
      "source": [
        "class A:\n",
        "  x = 10\n",
        "\n",
        "class B(A):\n",
        "  pass\n",
        "\n",
        "class C(B):\n",
        "  pass\n",
        "\n",
        "class D(A):\n",
        "  x = 5\n",
        "\n",
        "class E(C, D):\n",
        "  pass"
      ],
      "metadata": {
        "id": "mzUVwWxSIYlt"
      },
      "execution_count": null,
      "outputs": []
    },
    {
      "cell_type": "code",
      "source": [
        "e1 = E()"
      ],
      "metadata": {
        "id": "wEcs8wLZIzfZ"
      },
      "execution_count": null,
      "outputs": []
    },
    {
      "cell_type": "code",
      "source": [
        "e1.x"
      ],
      "metadata": {
        "colab": {
          "base_uri": "https://localhost:8080/"
        },
        "id": "nh9YWvHaI1ie",
        "outputId": "ae68aa0c-7195-4f7c-b504-e83db2863ff6"
      },
      "execution_count": null,
      "outputs": [
        {
          "output_type": "execute_result",
          "data": {
            "text/plain": [
              "5"
            ]
          },
          "metadata": {},
          "execution_count": 52
        }
      ]
    },
    {
      "cell_type": "code",
      "source": [
        "class A:\n",
        "  pass\n",
        "\n",
        "class B(A):\n",
        "  pass\n",
        "\n",
        "class C(B):\n",
        "  x = 10\n",
        "\n",
        "class D(A):\n",
        "  x = 5\n",
        "\n",
        "class E(C, D):\n",
        "  pass"
      ],
      "metadata": {
        "id": "W2PkOg1_JDhm"
      },
      "execution_count": null,
      "outputs": []
    },
    {
      "cell_type": "code",
      "source": [
        "e1 = E()\n",
        "e1.x"
      ],
      "metadata": {
        "colab": {
          "base_uri": "https://localhost:8080/"
        },
        "id": "lDg9WrOHJN4-",
        "outputId": "753f93de-2073-4c1c-e549-304641800030"
      },
      "execution_count": null,
      "outputs": [
        {
          "output_type": "execute_result",
          "data": {
            "text/plain": [
              "10"
            ]
          },
          "metadata": {},
          "execution_count": 57
        }
      ]
    },
    {
      "cell_type": "code",
      "source": [
        "class A:\n",
        "  pass\n",
        "\n",
        "class B(A):\n",
        "  x = 10\n",
        "\n",
        "class C(B):\n",
        "  pass\n",
        "\n",
        "class D(A):\n",
        "  x = 5\n",
        "\n",
        "class E(C, D):\n",
        "  pass"
      ],
      "metadata": {
        "id": "QSVTrec2JW71"
      },
      "execution_count": null,
      "outputs": []
    },
    {
      "cell_type": "code",
      "source": [
        "e1 = E()\n",
        "e1.x"
      ],
      "metadata": {
        "colab": {
          "base_uri": "https://localhost:8080/"
        },
        "id": "ZtTVN3baJfcY",
        "outputId": "ccfa3452-b339-4265-c515-88d264a347f8"
      },
      "execution_count": null,
      "outputs": [
        {
          "output_type": "execute_result",
          "data": {
            "text/plain": [
              "10"
            ]
          },
          "metadata": {},
          "execution_count": 59
        }
      ]
    },
    {
      "cell_type": "code",
      "source": [
        "#this will give the method resolution order to you\n",
        "E.__mro__"
      ],
      "metadata": {
        "colab": {
          "base_uri": "https://localhost:8080/"
        },
        "id": "6wNJ-ScKJi3s",
        "outputId": "4c2bc91c-1a8e-4c61-9241-3da75ece150f"
      },
      "execution_count": null,
      "outputs": [
        {
          "output_type": "execute_result",
          "data": {
            "text/plain": [
              "(__main__.E, __main__.C, __main__.B, __main__.D, __main__.A, object)"
            ]
          },
          "metadata": {},
          "execution_count": 60
        }
      ]
    },
    {
      "cell_type": "code",
      "source": [
        "#Example 2\n",
        "class A:\n",
        "  pass\n",
        "\n",
        "class B(A):\n",
        "  pass\n",
        "\n",
        "class C(B):\n",
        "  pass\n",
        "\n",
        "class D(B):\n",
        "  pass\n",
        "\n",
        "class E(D):\n",
        "  pass\n",
        "\n",
        "class F(C,E):\n",
        "  pass\n",
        "\n",
        "class G(A):\n",
        "  pass\n",
        "\n",
        "class H(F,G):\n",
        "  pass"
      ],
      "metadata": {
        "id": "hf9BWJX_L7SB"
      },
      "execution_count": null,
      "outputs": []
    },
    {
      "cell_type": "code",
      "source": [
        "H.__mro__"
      ],
      "metadata": {
        "id": "5jUrX6ocPucM",
        "outputId": "0fa65747-3a31-4850-e1da-9e9035b01af4",
        "colab": {
          "base_uri": "https://localhost:8080/"
        }
      },
      "execution_count": null,
      "outputs": [
        {
          "output_type": "execute_result",
          "data": {
            "text/plain": [
              "(__main__.H,\n",
              " __main__.F,\n",
              " __main__.C,\n",
              " __main__.E,\n",
              " __main__.D,\n",
              " __main__.B,\n",
              " __main__.G,\n",
              " __main__.A,\n",
              " object)"
            ]
          },
          "metadata": {},
          "execution_count": 62
        }
      ]
    },
    {
      "cell_type": "code",
      "source": [],
      "metadata": {
        "id": "QEXvmqd1Pwze"
      },
      "execution_count": null,
      "outputs": []
    }
  ]
}