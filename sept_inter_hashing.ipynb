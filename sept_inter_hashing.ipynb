{
  "nbformat": 4,
  "nbformat_minor": 0,
  "metadata": {
    "colab": {
      "provenance": [],
      "include_colab_link": true
    },
    "kernelspec": {
      "name": "python3",
      "display_name": "Python 3"
    },
    "language_info": {
      "name": "python"
    }
  },
  "cells": [
    {
      "cell_type": "markdown",
      "metadata": {
        "id": "view-in-github",
        "colab_type": "text"
      },
      "source": [
        "<a href=\"https://colab.research.google.com/github/gchn24/DS-Notes/blob/main/sept_inter_hashing.ipynb\" target=\"_parent\"><img src=\"https://colab.research.google.com/assets/colab-badge.svg\" alt=\"Open In Colab\"/></a>"
      ]
    },
    {
      "cell_type": "code",
      "execution_count": null,
      "metadata": {
        "colab": {
          "base_uri": "https://localhost:8080/"
        },
        "id": "SCAzBuLsC3qn",
        "outputId": "2f8badb3-f630-4a52-9984-1a78c075bb57"
      },
      "outputs": [
        {
          "output_type": "stream",
          "name": "stdout",
          "text": [
            "Today we will learn #ing!!\n"
          ]
        }
      ],
      "source": [
        "print(\"Today we will learn #ing!!\")"
      ]
    },
    {
      "cell_type": "code",
      "source": [
        "'''\n",
        "Question:\n",
        "1. You are given few numbers (n) that are in the range 1 to 1000 in a list.\n",
        "2. size of the list will be n.\n",
        "eg: [78, 99, 200, 4, 7]\n",
        "n = 5\n",
        "\n",
        "3. You will be given Q queries, each query will contain a value x.\n",
        "4. For each query, you have to return True if x is present in the list, else return False. (return a list of T/F)\n",
        "\n",
        "example:\n",
        "\n",
        "a = [4,5,10,50,80,90]\n",
        "queries = [10, 80, 500,1000]\n",
        "output: [True, True, False ,False]\n",
        "\n",
        "\n",
        "a = [4,5,10,500,80,990]\n",
        "queries = [100, 800, 500,1000]\n",
        "output: [F, F, T, F]\n",
        "\n",
        "'''"
      ],
      "metadata": {
        "id": "-FXeHLXZDDES"
      },
      "execution_count": null,
      "outputs": []
    }
  ]
}