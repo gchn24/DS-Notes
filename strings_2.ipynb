{
  "nbformat": 4,
  "nbformat_minor": 0,
  "metadata": {
    "colab": {
      "provenance": [],
      "include_colab_link": true
    },
    "kernelspec": {
      "name": "python3",
      "display_name": "Python 3"
    },
    "language_info": {
      "name": "python"
    }
  },
  "cells": [
    {
      "cell_type": "markdown",
      "metadata": {
        "id": "view-in-github",
        "colab_type": "text"
      },
      "source": [
        "<a href=\"https://colab.research.google.com/github/gchn24/DS-Notes/blob/main/strings_2.ipynb\" target=\"_parent\"><img src=\"https://colab.research.google.com/assets/colab-badge.svg\" alt=\"Open In Colab\"/></a>"
      ]
    },
    {
      "cell_type": "code",
      "execution_count": null,
      "metadata": {
        "colab": {
          "base_uri": "https://localhost:8080/"
        },
        "id": "Pf2je_eu36sF",
        "outputId": "04839aec-d91a-43fc-81c4-5dd976e53c01"
      },
      "outputs": [
        {
          "output_type": "stream",
          "name": "stdout",
          "text": [
            "Hows the josh?\n"
          ]
        }
      ],
      "source": [
        "print(\"Hows the josh?\")"
      ]
    },
    {
      "cell_type": "code",
      "source": [
        "\"4 5 6 7 8\".split()"
      ],
      "metadata": {
        "colab": {
          "base_uri": "https://localhost:8080/"
        },
        "id": "Sz5MIKeO45Nx",
        "outputId": "66e0b98b-2e94-4318-d874-d734210f3833"
      },
      "execution_count": null,
      "outputs": [
        {
          "output_type": "execute_result",
          "data": {
            "text/plain": [
              "['4', '5', '6', '7', '8']"
            ]
          },
          "metadata": {},
          "execution_count": 2
        }
      ]
    },
    {
      "cell_type": "code",
      "source": [
        "random = \"This_is_a_underscore_separated_string\".split(\"_\")"
      ],
      "metadata": {
        "id": "fc4DduA55Gwj"
      },
      "execution_count": null,
      "outputs": []
    },
    {
      "cell_type": "code",
      "source": [
        "print(random)"
      ],
      "metadata": {
        "colab": {
          "base_uri": "https://localhost:8080/"
        },
        "id": "_c2Fuvf45VE8",
        "outputId": "a135256a-3c14-4b86-d6c2-821da73e517a"
      },
      "execution_count": null,
      "outputs": [
        {
          "output_type": "stream",
          "name": "stdout",
          "text": [
            "['This', 'is', 'a', 'underscore', 'separated', 'string']\n"
          ]
        }
      ]
    },
    {
      "cell_type": "code",
      "source": [
        "\" \".join(random)"
      ],
      "metadata": {
        "colab": {
          "base_uri": "https://localhost:8080/",
          "height": 35
        },
        "id": "6kLpIwjW5XSI",
        "outputId": "87d18d48-e9c7-492e-c24a-bef193baed94"
      },
      "execution_count": null,
      "outputs": [
        {
          "output_type": "execute_result",
          "data": {
            "text/plain": [
              "'This is a underscore separated string'"
            ],
            "application/vnd.google.colaboratory.intrinsic+json": {
              "type": "string"
            }
          },
          "metadata": {},
          "execution_count": 5
        }
      ]
    },
    {
      "cell_type": "code",
      "source": [
        "\"##\".join(random)"
      ],
      "metadata": {
        "colab": {
          "base_uri": "https://localhost:8080/",
          "height": 35
        },
        "id": "UBvOfOel5lav",
        "outputId": "cd7fd3c6-b109-42d4-d5e5-53e98d45741b"
      },
      "execution_count": null,
      "outputs": [
        {
          "output_type": "execute_result",
          "data": {
            "text/plain": [
              "'This##is##a##underscore##separated##string'"
            ],
            "application/vnd.google.colaboratory.intrinsic+json": {
              "type": "string"
            }
          },
          "metadata": {},
          "execution_count": 6
        }
      ]
    },
    {
      "cell_type": "code",
      "source": [
        "a = [\"random\",40,50,\"string\"]"
      ],
      "metadata": {
        "id": "vRUqib255u-R"
      },
      "execution_count": null,
      "outputs": []
    },
    {
      "cell_type": "code",
      "source": [
        "\" \".join(a)"
      ],
      "metadata": {
        "colab": {
          "base_uri": "https://localhost:8080/",
          "height": 170
        },
        "id": "EsBk-T2851BU",
        "outputId": "30bf4874-094d-45ed-ffc0-1602be86f781"
      },
      "execution_count": null,
      "outputs": [
        {
          "output_type": "error",
          "ename": "TypeError",
          "evalue": "ignored",
          "traceback": [
            "\u001b[0;31m---------------------------------------------------------------------------\u001b[0m",
            "\u001b[0;31mTypeError\u001b[0m                                 Traceback (most recent call last)",
            "\u001b[0;32m<ipython-input-8-6da7eac37f07>\u001b[0m in \u001b[0;36m<module>\u001b[0;34m\u001b[0m\n\u001b[0;32m----> 1\u001b[0;31m \u001b[0;34m\" \"\u001b[0m\u001b[0;34m.\u001b[0m\u001b[0mjoin\u001b[0m\u001b[0;34m(\u001b[0m\u001b[0ma\u001b[0m\u001b[0;34m)\u001b[0m\u001b[0;34m\u001b[0m\u001b[0;34m\u001b[0m\u001b[0m\n\u001b[0m",
            "\u001b[0;31mTypeError\u001b[0m: sequence item 1: expected str instance, int found"
          ]
        }
      ]
    },
    {
      "cell_type": "code",
      "source": [
        "#find"
      ],
      "metadata": {
        "id": "TUgHhMSw54Io"
      },
      "execution_count": null,
      "outputs": []
    },
    {
      "cell_type": "code",
      "source": [
        "s = \"This is a random string\"\n",
        "# lst = [\"this\", \"is\"]"
      ],
      "metadata": {
        "id": "jQpNgWjB6A9G"
      },
      "execution_count": null,
      "outputs": []
    },
    {
      "cell_type": "code",
      "source": [
        "s.find(\"is\")"
      ],
      "metadata": {
        "colab": {
          "base_uri": "https://localhost:8080/"
        },
        "id": "dBaZGN046E3v",
        "outputId": "c73ece4f-7aa3-4d85-f01b-a13fdcfd02f6"
      },
      "execution_count": null,
      "outputs": [
        {
          "output_type": "execute_result",
          "data": {
            "text/plain": [
              "2"
            ]
          },
          "metadata": {},
          "execution_count": 11
        }
      ]
    },
    {
      "cell_type": "code",
      "source": [
        "s.find(\"a\")"
      ],
      "metadata": {
        "colab": {
          "base_uri": "https://localhost:8080/"
        },
        "id": "qrWQvYb36J2X",
        "outputId": "fb8eefa2-4b2c-47f2-fc2a-6f8fdc4856e1"
      },
      "execution_count": null,
      "outputs": [
        {
          "output_type": "execute_result",
          "data": {
            "text/plain": [
              "8"
            ]
          },
          "metadata": {},
          "execution_count": 13
        }
      ]
    },
    {
      "cell_type": "code",
      "source": [
        "s.find(\" a \")"
      ],
      "metadata": {
        "colab": {
          "base_uri": "https://localhost:8080/"
        },
        "id": "vp2O89Bt6jcx",
        "outputId": "0be96d3e-9c16-49a2-e9d3-b1c18f648c61"
      },
      "execution_count": null,
      "outputs": [
        {
          "output_type": "execute_result",
          "data": {
            "text/plain": [
              "7"
            ]
          },
          "metadata": {},
          "execution_count": 14
        }
      ]
    },
    {
      "cell_type": "code",
      "source": [
        "find(substring) --> returns the first index of the starting of the substring -->returns -1 if substring is not present\n",
        "substring --> continuous part of the string"
      ],
      "metadata": {
        "id": "ek9i66kt6tcy"
      },
      "execution_count": null,
      "outputs": []
    },
    {
      "cell_type": "code",
      "source": [
        "s.find(\"is\")"
      ],
      "metadata": {
        "colab": {
          "base_uri": "https://localhost:8080/"
        },
        "id": "l8orBolm68um",
        "outputId": "bbd18caf-20fa-49df-ca5b-0a6d4e580799"
      },
      "execution_count": null,
      "outputs": [
        {
          "output_type": "execute_result",
          "data": {
            "text/plain": [
              "2"
            ]
          },
          "metadata": {},
          "execution_count": 15
        }
      ]
    },
    {
      "cell_type": "code",
      "source": [
        "s = \"This is a random string\"\n",
        "s.find(\"abcbd\")"
      ],
      "metadata": {
        "colab": {
          "base_uri": "https://localhost:8080/"
        },
        "id": "D_ZU-Tcp69AH",
        "outputId": "b445a16e-6865-4c35-ce5e-7c1bd1111c96"
      },
      "execution_count": null,
      "outputs": [
        {
          "output_type": "execute_result",
          "data": {
            "text/plain": [
              "-1"
            ]
          },
          "metadata": {},
          "execution_count": 16
        }
      ]
    },
    {
      "cell_type": "code",
      "source": [
        "\"Hello everyone\".find(\"e\")"
      ],
      "metadata": {
        "colab": {
          "base_uri": "https://localhost:8080/"
        },
        "id": "QqWXNDjv7PNT",
        "outputId": "2a96b467-3a13-4b43-adea-7d2446592c8b"
      },
      "execution_count": null,
      "outputs": [
        {
          "output_type": "execute_result",
          "data": {
            "text/plain": [
              "1"
            ]
          },
          "metadata": {},
          "execution_count": 17
        }
      ]
    },
    {
      "cell_type": "code",
      "source": [
        "\"Hello hi everyone\".find(\"h\")"
      ],
      "metadata": {
        "colab": {
          "base_uri": "https://localhost:8080/"
        },
        "id": "wpze0g3q7jh0",
        "outputId": "a7bc9904-85be-4833-d493-bea54e8128ee"
      },
      "execution_count": null,
      "outputs": [
        {
          "output_type": "execute_result",
          "data": {
            "text/plain": [
              "6"
            ]
          },
          "metadata": {},
          "execution_count": 18
        }
      ]
    },
    {
      "cell_type": "code",
      "source": [
        "#replace"
      ],
      "metadata": {
        "id": "WKJZSKcx7r8v"
      },
      "execution_count": null,
      "outputs": []
    },
    {
      "cell_type": "code",
      "source": [
        "random = \"This is a random string that I have created!\""
      ],
      "metadata": {
        "id": "fHMEEzl27xZD"
      },
      "execution_count": null,
      "outputs": []
    },
    {
      "cell_type": "code",
      "source": [
        "replaced_random = random.replace(\"random\",\"SUPER RANDOM\")"
      ],
      "metadata": {
        "id": "ch50nWKH71yK"
      },
      "execution_count": null,
      "outputs": []
    },
    {
      "cell_type": "code",
      "source": [
        "print(random)"
      ],
      "metadata": {
        "colab": {
          "base_uri": "https://localhost:8080/"
        },
        "id": "O76ui6Qn78ci",
        "outputId": "947bf680-912b-42af-a3b3-876bbadab264"
      },
      "execution_count": null,
      "outputs": [
        {
          "output_type": "stream",
          "name": "stdout",
          "text": [
            "This is a random string that I have created!\n"
          ]
        }
      ]
    },
    {
      "cell_type": "code",
      "source": [
        "print(replaced_random)"
      ],
      "metadata": {
        "colab": {
          "base_uri": "https://localhost:8080/"
        },
        "id": "OktLkpRT8Ef5",
        "outputId": "2d01df3a-0cd8-4b60-a3df-dc472b86b5ed"
      },
      "execution_count": null,
      "outputs": [
        {
          "output_type": "stream",
          "name": "stdout",
          "text": [
            "This is a SUPER RANDOM string that I have created!\n"
          ]
        }
      ]
    },
    {
      "cell_type": "code",
      "source": [
        "st = \"Hello Everyone! How are you??\"\n",
        "\n",
        "st_replace = st.replace(\"?\", \"#\")"
      ],
      "metadata": {
        "id": "i_hjGJWb8Kip"
      },
      "execution_count": null,
      "outputs": []
    },
    {
      "cell_type": "code",
      "source": [
        "print(st, st_replace)"
      ],
      "metadata": {
        "colab": {
          "base_uri": "https://localhost:8080/"
        },
        "id": "PDYKnvdI8rui",
        "outputId": "89a8220e-5e32-455a-83ad-9055897e7d6a"
      },
      "execution_count": null,
      "outputs": [
        {
          "output_type": "stream",
          "name": "stdout",
          "text": [
            "Hello Everyone! How are you?? Hello Everyone! How are you##\n"
          ]
        }
      ]
    },
    {
      "cell_type": "code",
      "source": [
        "#count()"
      ],
      "metadata": {
        "id": "wlDuSFd68uce"
      },
      "execution_count": null,
      "outputs": []
    },
    {
      "cell_type": "code",
      "source": [
        "random = \"This is a random string that I have created!! random random random\""
      ],
      "metadata": {
        "id": "dah-55qR850U"
      },
      "execution_count": null,
      "outputs": []
    },
    {
      "cell_type": "code",
      "source": [
        "random.count(\"random\")"
      ],
      "metadata": {
        "colab": {
          "base_uri": "https://localhost:8080/"
        },
        "id": "0xQipVqt9FcX",
        "outputId": "7d8889ba-5592-43b1-f248-e1d8ae99c91c"
      },
      "execution_count": null,
      "outputs": [
        {
          "output_type": "execute_result",
          "data": {
            "text/plain": [
              "4"
            ]
          },
          "metadata": {},
          "execution_count": 30
        }
      ]
    },
    {
      "cell_type": "code",
      "source": [
        "random = \"This is a random string that I have created!! random random random\"\n",
        "random.count(\"Random\")"
      ],
      "metadata": {
        "colab": {
          "base_uri": "https://localhost:8080/"
        },
        "id": "zCxfgCGp9HpB",
        "outputId": "0de2ebc3-c5b8-4eb5-f80b-0880bba2d7dd"
      },
      "execution_count": null,
      "outputs": [
        {
          "output_type": "execute_result",
          "data": {
            "text/plain": [
              "0"
            ]
          },
          "metadata": {},
          "execution_count": 31
        }
      ]
    },
    {
      "cell_type": "code",
      "source": [
        "'''\n",
        "Q1-\n",
        "1. Take a string as input.\n",
        "2. Convert the string to lower case without using any inbuilt function to do the same.\n",
        "\n",
        "Eg:\n",
        "ip: \"This is A stRIng\"\n",
        "op: this is a string\n",
        "'''"
      ],
      "metadata": {
        "colab": {
          "base_uri": "https://localhost:8080/",
          "height": 53
        },
        "id": "RwBFPmfP9ZAF",
        "outputId": "4134d84c-a9e6-4af8-e43a-77be4aa064fe"
      },
      "execution_count": null,
      "outputs": [
        {
          "output_type": "execute_result",
          "data": {
            "text/plain": [
              "'\\nQ1-\\n1. Take a string as input.\\n2. Convert the string to lower case without using any inbuilt function to do the same.\\n\\nEg:\\nip: \"This is A stRIng\"\\nop: this is a string\\n'"
            ],
            "application/vnd.google.colaboratory.intrinsic+json": {
              "type": "string"
            }
          },
          "metadata": {},
          "execution_count": 32
        }
      ]
    },
    {
      "cell_type": "code",
      "source": [
        "s = \"This is A sTRing\"\n",
        "result = \"\""
      ],
      "metadata": {
        "id": "1hJd8gR9_NP0"
      },
      "execution_count": null,
      "outputs": []
    },
    {
      "cell_type": "code",
      "source": [
        "for i in s:\n",
        "  order = ord(i)\n",
        "  order += 32\n",
        "  c = chr(order)\n",
        "  result += c"
      ],
      "metadata": {
        "id": "WY5s7iik_Tf8"
      },
      "execution_count": null,
      "outputs": []
    },
    {
      "cell_type": "code",
      "source": [
        "print(result)"
      ],
      "metadata": {
        "colab": {
          "base_uri": "https://localhost:8080/"
        },
        "id": "WeRZGBNN_kQN",
        "outputId": "24d32a7c-22e3-4856-e07b-cd0347e13c73"
      },
      "execution_count": null,
      "outputs": [
        {
          "output_type": "stream",
          "name": "stdout",
          "text": [
            "t@@a@tr\n"
          ]
        }
      ]
    },
    {
      "cell_type": "code",
      "source": [
        "for i in s:\n",
        "  if ord(i) >= 65 and ord(i)<=90:\n",
        "    order = ord(i)\n",
        "    order += 32\n",
        "    c = chr(order)\n",
        "    result += c"
      ],
      "metadata": {
        "id": "9XEYWTHV_nLy"
      },
      "execution_count": null,
      "outputs": []
    },
    {
      "cell_type": "code",
      "source": [
        "print(result)"
      ],
      "metadata": {
        "colab": {
          "base_uri": "https://localhost:8080/"
        },
        "id": "ku9qgJ7YAGUe",
        "outputId": "4a1dc57b-c6da-46de-f60f-05276f9b289c"
      },
      "execution_count": null,
      "outputs": [
        {
          "output_type": "stream",
          "name": "stdout",
          "text": [
            "tatr\n"
          ]
        }
      ]
    },
    {
      "cell_type": "code",
      "source": [
        "s = \"Isn'T THIS Noice??\"\n",
        "result = \"\""
      ],
      "metadata": {
        "id": "_vy_N5OhAoau"
      },
      "execution_count": null,
      "outputs": []
    },
    {
      "cell_type": "code",
      "source": [
        "for i in s:\n",
        "  if ord(i) >= 65 and ord(i)<=90:\n",
        "    order = ord(i)\n",
        "    order += 32\n",
        "    c = chr(order)\n",
        "    result += c\n",
        "  else:\n",
        "    result += i"
      ],
      "metadata": {
        "id": "rF3ieLZUAHu4"
      },
      "execution_count": null,
      "outputs": []
    },
    {
      "cell_type": "code",
      "source": [
        "print(result)"
      ],
      "metadata": {
        "colab": {
          "base_uri": "https://localhost:8080/"
        },
        "id": "BffVb9nhAgfh",
        "outputId": "66db93d4-103c-4ff5-8977-e77fb0df3ff1"
      },
      "execution_count": null,
      "outputs": [
        {
          "output_type": "stream",
          "name": "stdout",
          "text": [
            "isn't this noice??\n"
          ]
        }
      ]
    },
    {
      "cell_type": "code",
      "source": [
        "\"Isn'T THIS Noice??\".lower()"
      ],
      "metadata": {
        "colab": {
          "base_uri": "https://localhost:8080/",
          "height": 35
        },
        "id": "9JiD3alyAhzT",
        "outputId": "31b1bea2-c8e7-4d9e-e1e0-6bae33f058ff"
      },
      "execution_count": null,
      "outputs": [
        {
          "output_type": "execute_result",
          "data": {
            "text/plain": [
              "\"isn't this noice??\""
            ],
            "application/vnd.google.colaboratory.intrinsic+json": {
              "type": "string"
            }
          },
          "metadata": {},
          "execution_count": 54
        }
      ]
    },
    {
      "cell_type": "code",
      "source": [
        "\"The product was amazing\" == \"amazing\""
      ],
      "metadata": {
        "colab": {
          "base_uri": "https://localhost:8080/"
        },
        "id": "diTdsX-PA84y",
        "outputId": "2776cc7f-7b5a-4c5b-92f0-1612dd8d4712"
      },
      "execution_count": null,
      "outputs": [
        {
          "output_type": "execute_result",
          "data": {
            "text/plain": [
              "False"
            ]
          },
          "metadata": {},
          "execution_count": 55
        }
      ]
    },
    {
      "cell_type": "code",
      "source": [
        "#membership operator"
      ],
      "metadata": {
        "id": "9kmyYKtrBbxt"
      },
      "execution_count": null,
      "outputs": []
    },
    {
      "cell_type": "code",
      "source": [
        "\"amazing\" in \"The product was amazing\"\n",
        "\n",
        "#checks if the first string is present inside the second string"
      ],
      "metadata": {
        "colab": {
          "base_uri": "https://localhost:8080/"
        },
        "id": "pPjGfU_9BiBV",
        "outputId": "ecdef438-233e-47be-ef84-1b15ce7dc7e0"
      },
      "execution_count": null,
      "outputs": [
        {
          "output_type": "execute_result",
          "data": {
            "text/plain": [
              "True"
            ]
          },
          "metadata": {},
          "execution_count": 57
        }
      ]
    },
    {
      "cell_type": "code",
      "source": [
        "\"Amazing\" in \"The product was amazing\""
      ],
      "metadata": {
        "colab": {
          "base_uri": "https://localhost:8080/"
        },
        "id": "C4fFqL1BBn3h",
        "outputId": "880eb325-cd13-4c86-aa24-4fbafb04fd58"
      },
      "execution_count": null,
      "outputs": [
        {
          "output_type": "execute_result",
          "data": {
            "text/plain": [
              "False"
            ]
          },
          "metadata": {},
          "execution_count": 58
        }
      ]
    },
    {
      "cell_type": "code",
      "source": [],
      "metadata": {
        "colab": {
          "base_uri": "https://localhost:8080/"
        },
        "id": "n8qm_gSTB-83",
        "outputId": "57dd8e80-ddb2-4435-82a4-49039a11cd99"
      },
      "execution_count": null,
      "outputs": [
        {
          "output_type": "execute_result",
          "data": {
            "text/plain": [
              "True"
            ]
          },
          "metadata": {},
          "execution_count": 59
        }
      ]
    },
    {
      "cell_type": "code",
      "source": [
        "\"6\".isdigit()"
      ],
      "metadata": {
        "colab": {
          "base_uri": "https://localhost:8080/"
        },
        "id": "ymF6M83rByvV",
        "outputId": "7c802dbe-28d9-4afd-e731-949996e9e42f"
      },
      "execution_count": null,
      "outputs": [
        {
          "output_type": "execute_result",
          "data": {
            "text/plain": [
              "True"
            ]
          },
          "metadata": {},
          "execution_count": 60
        }
      ]
    },
    {
      "cell_type": "code",
      "source": [
        "\"a\".isalpha()"
      ],
      "metadata": {
        "colab": {
          "base_uri": "https://localhost:8080/"
        },
        "id": "gU_6vLp-CFd1",
        "outputId": "aed3b6e4-3b44-4fbd-b229-c5b96f86b193"
      },
      "execution_count": null,
      "outputs": [
        {
          "output_type": "execute_result",
          "data": {
            "text/plain": [
              "True"
            ]
          },
          "metadata": {},
          "execution_count": 61
        }
      ]
    },
    {
      "cell_type": "code",
      "source": [
        "\"8768768787\".isdigit()"
      ],
      "metadata": {
        "colab": {
          "base_uri": "https://localhost:8080/"
        },
        "id": "UrP31fA4COvt",
        "outputId": "7d2f417e-46c0-4b76-cc4a-5e85fb35f1f4"
      },
      "execution_count": null,
      "outputs": [
        {
          "output_type": "execute_result",
          "data": {
            "text/plain": [
              "True"
            ]
          },
          "metadata": {},
          "execution_count": 62
        }
      ]
    },
    {
      "cell_type": "code",
      "source": [
        "\"988998khfhkjsfjk\".isdigit()"
      ],
      "metadata": {
        "colab": {
          "base_uri": "https://localhost:8080/"
        },
        "id": "qAEEm6AtCZ6S",
        "outputId": "690a1b3c-9cf8-4668-b271-8591973e70ef"
      },
      "execution_count": null,
      "outputs": [
        {
          "output_type": "execute_result",
          "data": {
            "text/plain": [
              "False"
            ]
          },
          "metadata": {},
          "execution_count": 63
        }
      ]
    },
    {
      "cell_type": "code",
      "source": [
        "\"898.77\".isdigit()"
      ],
      "metadata": {
        "colab": {
          "base_uri": "https://localhost:8080/"
        },
        "id": "m0Qra8v5CfwZ",
        "outputId": "a1548160-6118-470e-c484-e43c4a193bdf"
      },
      "execution_count": null,
      "outputs": [
        {
          "output_type": "execute_result",
          "data": {
            "text/plain": [
              "False"
            ]
          },
          "metadata": {},
          "execution_count": 64
        }
      ]
    },
    {
      "cell_type": "code",
      "source": [
        "\"a\".isalpha()"
      ],
      "metadata": {
        "colab": {
          "base_uri": "https://localhost:8080/"
        },
        "id": "PD36iQ8wCpwZ",
        "outputId": "a7a84e9c-bf4c-42c2-a10d-f352d8cfb253"
      },
      "execution_count": null,
      "outputs": [
        {
          "output_type": "execute_result",
          "data": {
            "text/plain": [
              "True"
            ]
          },
          "metadata": {},
          "execution_count": 65
        }
      ]
    },
    {
      "cell_type": "code",
      "source": [
        "\"abc\".isalpha()"
      ],
      "metadata": {
        "colab": {
          "base_uri": "https://localhost:8080/"
        },
        "id": "5MLV5KVTCuXI",
        "outputId": "764626d2-3d3c-4793-9421-ed7beab4ba85"
      },
      "execution_count": null,
      "outputs": [
        {
          "output_type": "execute_result",
          "data": {
            "text/plain": [
              "True"
            ]
          },
          "metadata": {},
          "execution_count": 66
        }
      ]
    },
    {
      "cell_type": "code",
      "source": [
        "\"abc987u98u48\".isalpha()"
      ],
      "metadata": {
        "colab": {
          "base_uri": "https://localhost:8080/"
        },
        "id": "tCherUHZCw-0",
        "outputId": "eb10d39d-3eb6-40f5-ff9c-f56133f896c3"
      },
      "execution_count": null,
      "outputs": [
        {
          "output_type": "execute_result",
          "data": {
            "text/plain": [
              "False"
            ]
          },
          "metadata": {},
          "execution_count": 67
        }
      ]
    },
    {
      "cell_type": "code",
      "source": [
        "\"A\".isupper()"
      ],
      "metadata": {
        "colab": {
          "base_uri": "https://localhost:8080/"
        },
        "id": "cBgHA-zqC1vs",
        "outputId": "df54be70-c062-44e1-cbe7-cc3f70accb26"
      },
      "execution_count": null,
      "outputs": [
        {
          "output_type": "execute_result",
          "data": {
            "text/plain": [
              "True"
            ]
          },
          "metadata": {},
          "execution_count": 68
        }
      ]
    },
    {
      "cell_type": "code",
      "source": [
        "\"a\".islower()"
      ],
      "metadata": {
        "colab": {
          "base_uri": "https://localhost:8080/"
        },
        "id": "aZ-r1DEPC8jQ",
        "outputId": "5704cce4-5bac-475c-a70a-97c268c2bd0e"
      },
      "execution_count": null,
      "outputs": [
        {
          "output_type": "execute_result",
          "data": {
            "text/plain": [
              "True"
            ]
          },
          "metadata": {},
          "execution_count": 69
        }
      ]
    },
    {
      "cell_type": "code",
      "source": [
        "\"B\".islower()"
      ],
      "metadata": {
        "colab": {
          "base_uri": "https://localhost:8080/"
        },
        "id": "zCAprPlGC_Ja",
        "outputId": "d98bdbe8-0824-464a-9b34-88ef9d935dd9"
      },
      "execution_count": null,
      "outputs": [
        {
          "output_type": "execute_result",
          "data": {
            "text/plain": [
              "False"
            ]
          },
          "metadata": {},
          "execution_count": 70
        }
      ]
    },
    {
      "cell_type": "code",
      "source": [
        "\"d\".isupper()"
      ],
      "metadata": {
        "colab": {
          "base_uri": "https://localhost:8080/"
        },
        "id": "uSV65XsIDBnc",
        "outputId": "e583d8a9-a3f7-4d2e-f4b8-71189c6d3420"
      },
      "execution_count": null,
      "outputs": [
        {
          "output_type": "execute_result",
          "data": {
            "text/plain": [
              "False"
            ]
          },
          "metadata": {},
          "execution_count": 74
        }
      ]
    },
    {
      "cell_type": "code",
      "source": [
        "\" \".isspace()"
      ],
      "metadata": {
        "colab": {
          "base_uri": "https://localhost:8080/"
        },
        "id": "35vDM5p4DHs9",
        "outputId": "2b8fb1ab-fc5f-4a18-b1a5-1b25ebd9e4a8"
      },
      "execution_count": null,
      "outputs": [
        {
          "output_type": "execute_result",
          "data": {
            "text/plain": [
              "True"
            ]
          },
          "metadata": {},
          "execution_count": 75
        }
      ]
    },
    {
      "cell_type": "code",
      "source": [
        "\"abc\".isspace()"
      ],
      "metadata": {
        "colab": {
          "base_uri": "https://localhost:8080/"
        },
        "id": "Qpu6MPy_DYZN",
        "outputId": "c06b3da3-2b53-4904-da0d-e7fd69c91ade"
      },
      "execution_count": null,
      "outputs": [
        {
          "output_type": "execute_result",
          "data": {
            "text/plain": [
              "False"
            ]
          },
          "metadata": {},
          "execution_count": 76
        }
      ]
    },
    {
      "cell_type": "code",
      "source": [
        "\"hello everyone\".isspace()"
      ],
      "metadata": {
        "colab": {
          "base_uri": "https://localhost:8080/"
        },
        "id": "QoA40NgbDbMd",
        "outputId": "055fa478-8d26-40d9-cb08-24bcbc2efaed"
      },
      "execution_count": null,
      "outputs": [
        {
          "output_type": "execute_result",
          "data": {
            "text/plain": [
              "False"
            ]
          },
          "metadata": {},
          "execution_count": 77
        }
      ]
    },
    {
      "cell_type": "code",
      "source": [
        "'''\n",
        "Q2-\n",
        "Take a sting as input\n",
        "2. Replace all spacces by underscore\n",
        "\n",
        "eg:\n",
        "ip: \"this is a random string!\"\n",
        "op: this_is_a_random_string!\n",
        "'''"
      ],
      "metadata": {
        "colab": {
          "base_uri": "https://localhost:8080/",
          "height": 53
        },
        "id": "NFOKlWupDeeC",
        "outputId": "2c008697-c651-44d9-bf45-0aa2fec81165"
      },
      "execution_count": null,
      "outputs": [
        {
          "output_type": "execute_result",
          "data": {
            "text/plain": [
              "'\\nQ2-\\nTake a sting as input\\n2. Replace all spacces by underscore\\n\\neg:\\nip: \"this is a random string!\"\\nop: this_is_a_random_string!\\n'"
            ],
            "application/vnd.google.colaboratory.intrinsic+json": {
              "type": "string"
            }
          },
          "metadata": {},
          "execution_count": 78
        }
      ]
    },
    {
      "cell_type": "code",
      "source": [
        "a = \"this is a random string!\"\n",
        "replaced_str = a.replace(\" \", \"_\")\n",
        "print(a)\n",
        "print(replaced_str)"
      ],
      "metadata": {
        "colab": {
          "base_uri": "https://localhost:8080/"
        },
        "id": "RhXTuYQ5D1_6",
        "outputId": "98bf117e-4164-439c-cf38-d6c9bc17fbf1"
      },
      "execution_count": null,
      "outputs": [
        {
          "output_type": "stream",
          "name": "stdout",
          "text": [
            "this is a random string!\n",
            "this_is_a_random_string!\n"
          ]
        }
      ]
    },
    {
      "cell_type": "code",
      "source": [
        "#wihtout using replace()\n",
        "\n",
        "result = \"\"\n",
        "\n",
        "for c in a:\n",
        "  if c.isspace():\n",
        "    result += \"_\"\n",
        "  else:\n",
        "    result += c\n",
        "\n",
        "print(result)"
      ],
      "metadata": {
        "colab": {
          "base_uri": "https://localhost:8080/"
        },
        "id": "nII9f16tEA2P",
        "outputId": "aa2b3543-ab4c-4c11-eafe-eeea95153d7c"
      },
      "execution_count": null,
      "outputs": [
        {
          "output_type": "stream",
          "name": "stdout",
          "text": [
            "this_is_a_random_string!\n"
          ]
        }
      ]
    },
    {
      "cell_type": "code",
      "source": [
        "a = \"this is a  random string!\"\n",
        "replaced_str = a.replace(\" \", \"_\")\n",
        "print(a)\n",
        "print(replaced_str)"
      ],
      "metadata": {
        "colab": {
          "base_uri": "https://localhost:8080/"
        },
        "id": "Jubv6rY5Ev0G",
        "outputId": "d9b14af4-9b6b-456d-e2ca-45ef13363f6c"
      },
      "execution_count": null,
      "outputs": [
        {
          "output_type": "stream",
          "name": "stdout",
          "text": [
            "this is a  random string!\n",
            "this_is_a__random_string!\n"
          ]
        }
      ]
    },
    {
      "cell_type": "code",
      "source": [
        "#wihtout using replace()\n",
        "a = \"this is a  random string!\"\n",
        "result = \"\"\n",
        "\n",
        "for c in a: #loop over string letter by let\n",
        "  if c.isspace():\n",
        "    result += \"_\"\n",
        "  else:\n",
        "    result += c\n",
        "\n",
        "print(result)"
      ],
      "metadata": {
        "colab": {
          "base_uri": "https://localhost:8080/"
        },
        "id": "-51Nm55FE_nK",
        "outputId": "a23581ce-068d-4ed0-ac04-c132a08c6042"
      },
      "execution_count": null,
      "outputs": [
        {
          "output_type": "stream",
          "name": "stdout",
          "text": [
            "this_is_a__random_string!\n"
          ]
        }
      ]
    },
    {
      "cell_type": "code",
      "source": [],
      "metadata": {
        "id": "CWbbh8bnFGMv"
      },
      "execution_count": null,
      "outputs": []
    },
    {
      "cell_type": "markdown",
      "source": [
        "Glossary of string methods:\n",
        "\n",
        "\n",
        "\n",
        "1. split --> \"this is a string\".split()\n",
        "\n"
      ],
      "metadata": {
        "id": "NgGhKx6xFYbu"
      }
    },
    {
      "cell_type": "code",
      "source": [
        "Glossary of string methods:\n",
        "\n",
        "1. split --> \"this is a string\".split() --> \n",
        "string to list\n",
        "\n",
        "\n",
        "\n",
        "2. join --> \" \".join([\"list\" , \"of\", \"strings\"]) --> \n",
        "list of strings to a single string\n",
        "\n",
        "\n",
        "\n",
        "3. replace --> \"this ia a string\".replace(\" \", \"_\") --> \n",
        "replaces all occurences of the first char by the second char \n",
        "IMP--> it creates a new modified string\n",
        "\n",
        "\n",
        "\n",
        "4.find --> \"this is a string\".find(\"a\")\n",
        "finds the  exact sequence of char/substring in teh original string and returns the starting index of that substring\n",
        "\n",
        "\n",
        "\n",
        "5. count --> \"this is a string\".count(\"a\")\n",
        "counts the number of times a char or a substring is present within the given string\n",
        "\n",
        "\n",
        "6. isdigit --> \"958679845768\".isdigit()\n",
        "returns True if all the content inside a string is ONLY digits\n",
        "\n",
        "\n",
        "7. isalpha --> \"fkjafkl\".isalpha()\n",
        "returns True if all the content inside a string is ONLY alphabets\n",
        "\n",
        "\n",
        "8. islower\n",
        "True if content inside the string is ALL lowercase\n",
        "\n",
        "9. isupper --> \n",
        "True if content inside the string is ALL uppercase\n",
        "\n",
        "10. isspace -->\n",
        "True if the content is space\n",
        "\n",
        "11. lower\n",
        "--> converts a string to lowercase\n",
        "\n",
        "12. upper\n",
        "--> converts a string to uppercase\n",
        "\n",
        "\n",
        "\n",
        "Special Mention:\n",
        "\"random\" in \"this is random\" -- > Membership operator\n",
        "\n",
        "Returns True if operand1 is present inside operand2\n",
        "\n",
        "Returns True if left string is present inside right string\n",
        "13. ord() --> gives the ASCII value of the char\n",
        "\n",
        "14. chr() --> gives the char corresponding to the ASCII value"
      ],
      "metadata": {
        "id": "Oz2OgE4FFi0O"
      },
      "execution_count": null,
      "outputs": []
    }
  ]
}