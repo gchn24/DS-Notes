{
  "nbformat": 4,
  "nbformat_minor": 0,
  "metadata": {
    "colab": {
      "provenance": [],
      "include_colab_link": true
    },
    "kernelspec": {
      "name": "python3",
      "display_name": "Python 3"
    },
    "language_info": {
      "name": "python"
    }
  },
  "cells": [
    {
      "cell_type": "markdown",
      "metadata": {
        "id": "view-in-github",
        "colab_type": "text"
      },
      "source": [
        "<a href=\"https://colab.research.google.com/github/gchn24/DS-Notes/blob/main/sept_inter_coordinate_ps_2.ipynb\" target=\"_parent\"><img src=\"https://colab.research.google.com/assets/colab-badge.svg\" alt=\"Open In Colab\"/></a>"
      ]
    },
    {
      "cell_type": "code",
      "execution_count": null,
      "metadata": {
        "id": "TB_WynMIu015"
      },
      "outputs": [],
      "source": [
        "def gradient(A,B):\n",
        "\t#A,B -> Two points in the XY-Plane in the form of tuple (x,y)\n",
        "\t\n",
        "\n",
        "\t# return the gradient of the line joining these 2 points.\n",
        "\t\n",
        "\tx1, y1 = A\n",
        "\tx2, y2 = B\n",
        "\t\n",
        "\tgradient = (y2-y1)/(x2-x1)\n",
        "\t\n",
        "\trounded_gradeint = round(gradient, 2)\n",
        "\treturn rounded_gradeint"
      ]
    },
    {
      "cell_type": "code",
      "source": [
        "#explore the formula of perpendicular distance of a point from a line --> Confidence!! \n",
        "#Relate to the derivation of gradient that AJ has done in class"
      ],
      "metadata": {
        "id": "Wzx6AzLf1_Oy"
      },
      "execution_count": null,
      "outputs": []
    },
    {
      "cell_type": "code",
      "source": [
        "#check if colliner --> Q8 --> Coordinate geometry"
      ],
      "metadata": {
        "id": "KBub1Ci_3_s7"
      },
      "execution_count": null,
      "outputs": []
    },
    {
      "cell_type": "code",
      "source": [
        "def calc_slope(a,b):\n",
        "  x1, y1 = a\n",
        "  x2, y2 = b\n",
        "\n",
        "  m = (y2-y1)/(x2-x1)\n",
        "  return m\n",
        "\n",
        "\n",
        "\n",
        "def check_collinear(A,B,C):\n",
        "\n",
        "  # m1 --> slope of AB\n",
        "  # m2 =--> slope of BC\n",
        "\n",
        "  m1 = calc_slope(A,B)\n",
        "  m2 = calc_slope(B,C)\n",
        "\n",
        "  if m1 == m2:\n",
        "    return True\n",
        "  else: \n",
        "    return False"
      ],
      "metadata": {
        "id": "k2Mob6Mm7wad"
      },
      "execution_count": null,
      "outputs": []
    },
    {
      "cell_type": "code",
      "source": [
        "A = (1, 2)\n",
        "B = (2, 2)\n",
        "C = (5 ,4)\n",
        "\n",
        "ans = check_collinear(A,B,C)\n",
        "print(ans)"
      ],
      "metadata": {
        "colab": {
          "base_uri": "https://localhost:8080/"
        },
        "id": "GjnvzvMp87qH",
        "outputId": "742ea67f-27d2-483d-9609-ef2ed545cb7e"
      },
      "execution_count": null,
      "outputs": [
        {
          "output_type": "stream",
          "name": "stdout",
          "text": [
            "False\n"
          ]
        }
      ]
    },
    {
      "cell_type": "code",
      "source": [
        "#reduce the coding lines\n",
        "\n",
        "def calc_slope(a,b):\n",
        "  x1, y1 = a\n",
        "  x2, y2 = b\n",
        "\n",
        "  m = (y2-y1)/(x2-x1)\n",
        "  return m\n",
        "\n",
        "def check_collinear(A,B,C):\n",
        "  m1 = calc_slope(A,B)\n",
        "  m2 = calc_slope(B,C)\n",
        "\n",
        "  return m1 == m2"
      ],
      "metadata": {
        "id": "5DLaLwcb9HjJ"
      },
      "execution_count": null,
      "outputs": []
    },
    {
      "cell_type": "code",
      "source": [
        "A = (1, 2)\n",
        "B = (2, 2)\n",
        "C = (5 ,4)\n",
        "\n",
        "ans = check_collinear(A,B,C)\n",
        "print(ans)"
      ],
      "metadata": {
        "colab": {
          "base_uri": "https://localhost:8080/"
        },
        "id": "dQAbmGUs9ZAX",
        "outputId": "a24e830f-96bb-4db8-d5e1-c264f4fd6461"
      },
      "execution_count": null,
      "outputs": [
        {
          "output_type": "stream",
          "name": "stdout",
          "text": [
            "False\n"
          ]
        }
      ]
    },
    {
      "cell_type": "code",
      "source": [
        "def manhattan_distance(A, B):\n",
        "  x1, y1 = A\n",
        "  x2, y2 = B\n",
        "  dist = abs(x1-x2) + abs(y1-y2)\n",
        "  return dist"
      ],
      "metadata": {
        "id": "E_K4j1U9DzRZ"
      },
      "execution_count": null,
      "outputs": []
    },
    {
      "cell_type": "code",
      "source": [
        "def nearestStudents(names, loc):\n",
        "\n",
        "  min_dist = float('inf') #initilization\n",
        "\n",
        "  ans = [0,0]\n",
        "\n",
        "  n = len(names)\n",
        "  for i in range(n):#fix ith student\n",
        "    for j in range(n):#pick the jth student\n",
        "\n",
        "      #to avoid pairs: (V,V)\n",
        "      if i!=j:\n",
        "        dist_ij = manhattan_distance(loc[i], loc[j])\n",
        "\n",
        "        if dist_ij < min_dist:\n",
        "          min_dist = dist_ij\n",
        "          #store the names of the 2 students who are the closest till this time\n",
        "          ans[0] = names[i]\n",
        "          ans[1] = names[j]\n",
        "\n",
        "  return ans\n"
      ],
      "metadata": {
        "id": "T8zMw_RMDNQ7"
      },
      "execution_count": null,
      "outputs": []
    },
    {
      "cell_type": "code",
      "source": [
        "names = ['Adam','Millie','Jacob','Michael','Maxine']\n",
        "loc = [(1,2),(5,4),(0,3),(2,3),(0,0)]\n",
        "\n",
        "ans = nearestStudents(names, loc)\n",
        "print(ans)"
      ],
      "metadata": {
        "colab": {
          "base_uri": "https://localhost:8080/"
        },
        "id": "s72RmFF09aPD",
        "outputId": "e5160f1f-c458-461f-b753-6b09463b2f81"
      },
      "execution_count": null,
      "outputs": [
        {
          "output_type": "stream",
          "name": "stdout",
          "text": [
            "['Adam', 'Jacob']\n"
          ]
        }
      ]
    },
    {
      "cell_type": "code",
      "source": [
        "names = ['Adam','Millie','Jacob','Michael','Maxine']\n",
        "loc = [(1,2),(5,4),(0,3),(0,3),(0,0)]\n",
        "\n",
        "ans = nearestStudents(names, loc)\n",
        "print(ans)"
      ],
      "metadata": {
        "colab": {
          "base_uri": "https://localhost:8080/"
        },
        "id": "DsL29p8nDMVl",
        "outputId": "e004c2c7-6d25-417f-dabb-111e5608d393"
      },
      "execution_count": null,
      "outputs": [
        {
          "output_type": "stream",
          "name": "stdout",
          "text": [
            "['Jacob', 'Michael']\n"
          ]
        }
      ]
    },
    {
      "cell_type": "code",
      "source": [
        "#avoid taking any kind of help while solving remaining problems --> to gain confidence"
      ],
      "metadata": {
        "id": "lESnxNoXGXmG"
      },
      "execution_count": null,
      "outputs": []
    },
    {
      "cell_type": "code",
      "source": [],
      "metadata": {
        "id": "wmAIcVGfGxKb"
      },
      "execution_count": null,
      "outputs": []
    }
  ]
}