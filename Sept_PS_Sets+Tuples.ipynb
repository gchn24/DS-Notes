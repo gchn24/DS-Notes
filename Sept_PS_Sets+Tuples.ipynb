{
  "nbformat": 4,
  "nbformat_minor": 0,
  "metadata": {
    "colab": {
      "provenance": [],
      "include_colab_link": true
    },
    "kernelspec": {
      "name": "python3",
      "display_name": "Python 3"
    },
    "language_info": {
      "name": "python"
    }
  },
  "cells": [
    {
      "cell_type": "markdown",
      "metadata": {
        "id": "view-in-github",
        "colab_type": "text"
      },
      "source": [
        "<a href=\"https://colab.research.google.com/github/gchn24/DS-Notes/blob/main/Sept_PS_Sets%2BTuples.ipynb\" target=\"_parent\"><img src=\"https://colab.research.google.com/assets/colab-badge.svg\" alt=\"Open In Colab\"/></a>"
      ]
    },
    {
      "cell_type": "code",
      "execution_count": null,
      "metadata": {
        "colab": {
          "base_uri": "https://localhost:8080/"
        },
        "id": "I9YkUgXvh0kB",
        "outputId": "46f64849-18c1-4f6b-b07c-1b7a35ce3ff4"
      },
      "outputs": [
        {
          "output_type": "stream",
          "name": "stdout",
          "text": [
            "Hello class!\n"
          ]
        }
      ],
      "source": [
        "print(\"Hello class!\")"
      ]
    },
    {
      "cell_type": "code",
      "source": [
        "a = (10, 8, 5, 2, 10, 15, 10, 8, 5, 8, 8, 2)"
      ],
      "metadata": {
        "id": "xDDLePdsj2Wi"
      },
      "execution_count": null,
      "outputs": []
    },
    {
      "cell_type": "code",
      "source": [
        "n = len(a)\n",
        "\n",
        "for i in range(n):\n",
        "  print(f\"element {a[i]} is present at index is {i}\")"
      ],
      "metadata": {
        "colab": {
          "base_uri": "https://localhost:8080/"
        },
        "id": "v0cKtNwbj6rq",
        "outputId": "24ea46a9-5b9d-4036-d34d-5b28663f57ea"
      },
      "execution_count": null,
      "outputs": [
        {
          "output_type": "stream",
          "name": "stdout",
          "text": [
            "element 10 is present at index is 0\n",
            "element 8 is present at index is 1\n",
            "element 5 is present at index is 2\n",
            "element 2 is present at index is 3\n",
            "element 10 is present at index is 4\n",
            "element 15 is present at index is 5\n",
            "element 10 is present at index is 6\n",
            "element 8 is present at index is 7\n",
            "element 5 is present at index is 8\n",
            "element 8 is present at index is 9\n",
            "element 8 is present at index is 10\n",
            "element 2 is present at index is 11\n"
          ]
        }
      ]
    },
    {
      "cell_type": "code",
      "source": [],
      "metadata": {
        "id": "OzjvTQ94kCjd"
      },
      "execution_count": null,
      "outputs": []
    },
    {
      "cell_type": "code",
      "source": [
        "b = ()\n",
        "type(b)"
      ],
      "metadata": {
        "colab": {
          "base_uri": "https://localhost:8080/"
        },
        "id": "z3oDenckkfsw",
        "outputId": "170b614c-1a9e-4cd4-9e8f-183e1724554b"
      },
      "execution_count": null,
      "outputs": [
        {
          "output_type": "execute_result",
          "data": {
            "text/plain": [
              "tuple"
            ]
          },
          "metadata": {},
          "execution_count": 6
        }
      ]
    },
    {
      "cell_type": "code",
      "source": [
        "s = {}\n",
        "type(s)"
      ],
      "metadata": {
        "colab": {
          "base_uri": "https://localhost:8080/"
        },
        "id": "NJ8Y_HXrkgoF",
        "outputId": "4486725f-e718-4b49-d1e6-0ee8f1f487f5"
      },
      "execution_count": null,
      "outputs": [
        {
          "output_type": "execute_result",
          "data": {
            "text/plain": [
              "dict"
            ]
          },
          "metadata": {},
          "execution_count": 7
        }
      ]
    },
    {
      "cell_type": "code",
      "source": [
        "s1 = set()\n",
        "type(s1)"
      ],
      "metadata": {
        "colab": {
          "base_uri": "https://localhost:8080/"
        },
        "id": "pI-Dl8-ckky7",
        "outputId": "cbc69452-d8da-497f-d6d9-8e95d0ed21e1"
      },
      "execution_count": null,
      "outputs": [
        {
          "output_type": "execute_result",
          "data": {
            "text/plain": [
              "set"
            ]
          },
          "metadata": {},
          "execution_count": 8
        }
      ]
    },
    {
      "cell_type": "code",
      "source": [
        "n = len(a)\n",
        "\n",
        "even = []\n",
        "odd = []\n",
        "\n",
        "for i in range(n):\n",
        "  if (i+1)%2 == 0:\n",
        "    even.append(a[i])\n",
        "  else:\n",
        "    odd.append(a[i])\n",
        "\n",
        "print(\"Odd: \", tuple(odd))\n",
        "print(\"even: \", tuple(even))"
      ],
      "metadata": {
        "colab": {
          "base_uri": "https://localhost:8080/"
        },
        "id": "NwGSwbzNknRQ",
        "outputId": "962474ad-963a-4d68-8b49-f98eb18fcd80"
      },
      "execution_count": null,
      "outputs": [
        {
          "output_type": "stream",
          "name": "stdout",
          "text": [
            "Odd:  (10, 5, 10, 10, 5, 8)\n",
            "even:  (8, 2, 15, 8, 8, 2)\n"
          ]
        }
      ]
    },
    {
      "cell_type": "code",
      "source": [
        "#approach2 - using tuple slicing\n",
        "\n",
        "a = (10, 8, 5, 2, 10, 15, 10, 8, 5, 8, 8, 2)\n",
        "\n",
        "odd = a[::2]\n",
        "even = a[1::2]\n",
        "\n",
        "print(\"Odd: \", odd)\n",
        "print(\"Even: \", even)"
      ],
      "metadata": {
        "colab": {
          "base_uri": "https://localhost:8080/"
        },
        "id": "8kS6IS-_kzV1",
        "outputId": "4e6b25af-96d2-4a88-9385-f050c50b51f4"
      },
      "execution_count": null,
      "outputs": [
        {
          "output_type": "stream",
          "name": "stdout",
          "text": [
            "Odd:  (10, 5, 10, 10, 5, 8)\n",
            "Even:  (8, 2, 15, 8, 8, 2)\n"
          ]
        }
      ]
    },
    {
      "cell_type": "code",
      "source": [
        "#appraoch1:\n",
        "\n",
        "a = (10, 8, 5, 2, 10, 15, 10, 8, 5, 8, 8, 2)\n",
        "\n",
        "for elem in a:\n",
        "  print(f\"{elem} : {a.count(elem)}\")"
      ],
      "metadata": {
        "colab": {
          "base_uri": "https://localhost:8080/"
        },
        "id": "fryMQpOGl_ce",
        "outputId": "61a58285-b347-4fb0-bc85-15f70a87545d"
      },
      "execution_count": null,
      "outputs": [
        {
          "output_type": "stream",
          "name": "stdout",
          "text": [
            "10 : 3\n",
            "8 : 4\n",
            "5 : 2\n",
            "2 : 2\n",
            "10 : 3\n",
            "15 : 1\n",
            "10 : 3\n",
            "8 : 4\n",
            "5 : 2\n",
            "8 : 4\n",
            "8 : 4\n",
            "2 : 2\n"
          ]
        }
      ]
    },
    {
      "cell_type": "code",
      "source": [
        "#appraoch1:\n",
        "\n",
        "a = (10, 8, 5, 2, 10, 15, 10, 8, 5, 8, 8, 2)\n",
        "\n",
        "visited = []\n",
        "\n",
        "for elem in a:\n",
        "  if elem not in visited:\n",
        "    visited.append(elem)\n",
        "    print(f\"{elem} : {a.count(elem)}\")"
      ],
      "metadata": {
        "colab": {
          "base_uri": "https://localhost:8080/"
        },
        "id": "qO5tdZd5oVx7",
        "outputId": "bf4b90f6-0855-4619-ef03-8e468e098681"
      },
      "execution_count": null,
      "outputs": [
        {
          "output_type": "stream",
          "name": "stdout",
          "text": [
            "10 : 3\n",
            "8 : 4\n",
            "5 : 2\n",
            "2 : 2\n",
            "15 : 1\n"
          ]
        }
      ]
    },
    {
      "cell_type": "code",
      "source": [
        "tup = a\n",
        "for i in range(len(tup)):\n",
        "  if tup[i] not in tup[:i]:\n",
        "    print(f\"{tup[i]} : {tup.count(tup[i])}\")"
      ],
      "metadata": {
        "colab": {
          "base_uri": "https://localhost:8080/"
        },
        "id": "HCLrOahhorSO",
        "outputId": "aef12f4c-ad71-45c0-82a1-d7c18890e948"
      },
      "execution_count": null,
      "outputs": [
        {
          "output_type": "stream",
          "name": "stdout",
          "text": [
            "10 : 3\n",
            "8 : 4\n",
            "5 : 2\n",
            "2 : 2\n",
            "15 : 1\n"
          ]
        }
      ]
    },
    {
      "cell_type": "code",
      "source": [
        "# for i in range(len(a)):\n",
        "#   print(a[:i])"
      ],
      "metadata": {
        "colab": {
          "base_uri": "https://localhost:8080/"
        },
        "id": "-UMMSF0ppXuS",
        "outputId": "340ae7d3-9ed3-4d51-cef3-16b7d48dc619"
      },
      "execution_count": null,
      "outputs": [
        {
          "output_type": "stream",
          "name": "stdout",
          "text": [
            "()\n",
            "(10,)\n",
            "(10, 8)\n",
            "(10, 8, 5)\n",
            "(10, 8, 5, 2)\n",
            "(10, 8, 5, 2, 10)\n",
            "(10, 8, 5, 2, 10, 15)\n",
            "(10, 8, 5, 2, 10, 15, 10)\n",
            "(10, 8, 5, 2, 10, 15, 10, 8)\n",
            "(10, 8, 5, 2, 10, 15, 10, 8, 5)\n",
            "(10, 8, 5, 2, 10, 15, 10, 8, 5, 8)\n",
            "(10, 8, 5, 2, 10, 15, 10, 8, 5, 8, 8)\n"
          ]
        }
      ]
    },
    {
      "cell_type": "code",
      "source": [
        "name_lst = [\"Vijay\", \"Vickey\"]\n",
        "tup = (\"Item_1\", 0.5, name_lst)\n",
        "# name_lst.append(\"Vishal\")\n",
        "print(tup)"
      ],
      "metadata": {
        "colab": {
          "base_uri": "https://localhost:8080/"
        },
        "id": "PBTe61R0pcwz",
        "outputId": "a97bbc06-c291-403f-e0b1-a1f79ce9348d"
      },
      "execution_count": null,
      "outputs": [
        {
          "output_type": "stream",
          "name": "stdout",
          "text": [
            "('Item_1', 0.5, ['Vijay', 'Vickey'])\n"
          ]
        }
      ]
    },
    {
      "cell_type": "code",
      "source": [
        "name_lst = [\"Vijay\", \"Vickey\"]\n",
        "tup = (\"Item_1\", 0.5, name_lst)\n",
        "name_lst.append(\"Vishal\")\n",
        "print(tup)"
      ],
      "metadata": {
        "colab": {
          "base_uri": "https://localhost:8080/"
        },
        "id": "6V8lusvSq2vV",
        "outputId": "769765b6-7a64-4637-a65f-c46e7361b966"
      },
      "execution_count": null,
      "outputs": [
        {
          "output_type": "stream",
          "name": "stdout",
          "text": [
            "('Item_1', 0.5, ['Vijay', 'Vickey', 'Vishal'])\n"
          ]
        }
      ]
    },
    {
      "cell_type": "code",
      "source": [
        "name_lst = [\"a\", \"b\"]\n",
        "tup = (\"1\", 0.5, name_lst)\n",
        "print(f\"Before change : {tup}\")\n",
        "name_lst.append(\"c\")\n",
        "print(f\"After change : {tup}\")"
      ],
      "metadata": {
        "colab": {
          "base_uri": "https://localhost:8080/"
        },
        "id": "9vSaZE2YrMLC",
        "outputId": "14113a00-c743-4d54-f7e4-d6b91b8a4674"
      },
      "execution_count": null,
      "outputs": [
        {
          "output_type": "stream",
          "name": "stdout",
          "text": [
            "Before change : ('1', 0.5, ['a', 'b'])\n",
            "After change : ('1', 0.5, ['a', 'b', 'c'])\n"
          ]
        }
      ]
    },
    {
      "cell_type": "code",
      "source": [
        "name_lst = [\"a\", \"b\"]\n",
        "name_lst.append(\"c\")\n",
        "tup = (\"1\", 0.5, [\"c\", \"d\"])\n",
        "print(f\"After change : {tup}\")\n",
        "print(name_lst)"
      ],
      "metadata": {
        "colab": {
          "base_uri": "https://localhost:8080/"
        },
        "id": "fHt3PmEhrcqX",
        "outputId": "31558011-326c-46ce-dcc7-5ef8eae188c2"
      },
      "execution_count": null,
      "outputs": [
        {
          "output_type": "stream",
          "name": "stdout",
          "text": [
            "After change : ('1', 0.5, ['c', 'd'])\n",
            "['a', 'b', 'c']\n"
          ]
        }
      ]
    },
    {
      "cell_type": "code",
      "source": [
        "a = (10, 20, 30, 40, 50)\n",
        "k = 30\n",
        "\n",
        "n = len(a)\n",
        "for i in range(n):\n",
        "\n",
        "  if a[i] == k:\n",
        "    print(i)\n",
        "    break\n",
        "  \n",
        "  \n",
        "\n",
        "\n"
      ],
      "metadata": {
        "id": "I1ir2aL4sLPQ"
      },
      "execution_count": null,
      "outputs": []
    },
    {
      "cell_type": "code",
      "source": [
        "#howework problems:\n",
        "\n",
        "s1 = \"Hello everyone hello\"\n",
        "s2 = \"You guys are awesome\"\n",
        "\n",
        "unique1 = 3\n",
        "unique2 = 4\n",
        "ans : 3+4 = 7\n",
        "\n"
      ],
      "metadata": {
        "id": "TYxgNv4NxEzk"
      },
      "execution_count": null,
      "outputs": []
    },
    {
      "cell_type": "code",
      "source": [
        "s1 = \"Hello everyone hello\"\n",
        "s2 = \"You guys are awesome\"\n",
        "\n",
        "len(set(s1+s2))"
      ],
      "metadata": {
        "colab": {
          "base_uri": "https://localhost:8080/"
        },
        "id": "cWXuoVt4yV4J",
        "outputId": "7d40ac6e-9417-4005-f583-dc1b2e9456a9"
      },
      "execution_count": null,
      "outputs": [
        {
          "output_type": "execute_result",
          "data": {
            "text/plain": [
              "17"
            ]
          },
          "metadata": {},
          "execution_count": 27
        }
      ]
    },
    {
      "cell_type": "code",
      "source": [
        "a = [\"adi\", \"aj\", \"adit\", \"aj\",\"adi\",\"adit\"]\n",
        "s = set(a)\n",
        "print(s)"
      ],
      "metadata": {
        "colab": {
          "base_uri": "https://localhost:8080/"
        },
        "id": "LHAR2MFlyh34",
        "outputId": "8280552e-ec90-4b35-98c3-7f61a5a28475"
      },
      "execution_count": null,
      "outputs": [
        {
          "output_type": "stream",
          "name": "stdout",
          "text": [
            "{'adi', 'adit', 'aj'}\n"
          ]
        }
      ]
    },
    {
      "cell_type": "code",
      "source": [
        "st = \"aditya\"\n",
        "s = set(st)\n",
        "print(s)"
      ],
      "metadata": {
        "colab": {
          "base_uri": "https://localhost:8080/"
        },
        "id": "cs9QGUj2yvr4",
        "outputId": "8bbce623-2d4b-435d-d918-d703566e07d6"
      },
      "execution_count": null,
      "outputs": [
        {
          "output_type": "stream",
          "name": "stdout",
          "text": [
            "{'y', 't', 'a', 'd', 'i'}\n"
          ]
        }
      ]
    },
    {
      "cell_type": "code",
      "source": [
        "a = (\"ab\",\"ac\",\"ac\",\"ad\")\n",
        "s = set(a)\n",
        "print(s)"
      ],
      "metadata": {
        "colab": {
          "base_uri": "https://localhost:8080/"
        },
        "id": "fodkWKXay9-p",
        "outputId": "5d6a77ce-fb22-424d-b786-9c2c7ccf992c"
      },
      "execution_count": null,
      "outputs": [
        {
          "output_type": "stream",
          "name": "stdout",
          "text": [
            "{'ab', 'ad', 'ac'}\n"
          ]
        }
      ]
    },
    {
      "cell_type": "code",
      "source": [
        "a = \"abcbaa defaa\"\n",
        "s = set(a)\n",
        "print(s)"
      ],
      "metadata": {
        "colab": {
          "base_uri": "https://localhost:8080/"
        },
        "id": "gZqHQr6fzNje",
        "outputId": "f68781fb-c8cd-441a-caef-5f42b37a2034"
      },
      "execution_count": null,
      "outputs": [
        {
          "output_type": "stream",
          "name": "stdout",
          "text": [
            "{' ', 'f', 'a', 'd', 'c', 'b', 'e'}\n"
          ]
        }
      ]
    },
    {
      "cell_type": "code",
      "source": [
        "s1 = \"random everyone random hi random\"\n",
        "s2 = \"You guys are awesome\"\n",
        "\n",
        "words1 = s1.split()\n",
        "words2 = s2.split()\n",
        "\n",
        "set1 = set(words1)\n",
        "set2 = set(words2)\n",
        "print(\"lists are: \",words1, words2)\n",
        "print(\"sets are:\", set1, set2)\n",
        "\n",
        "print(len(set1) + len(set2))\n"
      ],
      "metadata": {
        "colab": {
          "base_uri": "https://localhost:8080/"
        },
        "id": "GgV8yKKczXzM",
        "outputId": "d0ad7ba5-2220-4f6c-f654-ecf6ffacc0bc"
      },
      "execution_count": null,
      "outputs": [
        {
          "output_type": "stream",
          "name": "stdout",
          "text": [
            "lists are:  ['random', 'everyone', 'random', 'hi', 'random'] ['You', 'guys', 'are', 'awesome']\n",
            "sets are: {'everyone', 'random', 'hi'} {'are', 'You', 'guys', 'awesome'}\n",
            "7\n"
          ]
        }
      ]
    },
    {
      "cell_type": "code",
      "source": [
        "#Dictionary\n",
        "\n",
        "'''\n",
        "Dictionary of dictionaries\n",
        "'''\n",
        "\n",
        "\n",
        "student1 = {\n",
        "    \"name\" : \"AJ\",\n",
        "    \"city\" : \"Mumbai\"\n",
        "}\n",
        "\n",
        "student2 = {\n",
        "    \n",
        "    \"name\" : \"Justin\",\n",
        "    \"city\" : \"Thrissur\"\n",
        "}\n",
        "\n",
        "student2 = {\n",
        "    \"name\" : \"Ankitha\",\n",
        "    \"city\" : \"Bangalore\"\n",
        "}\n",
        "\n",
        "\n",
        "batch = {\n",
        "    \"student1\" : \n",
        "\n",
        "}"
      ],
      "metadata": {
        "id": "8WRuXKsqzroH"
      },
      "execution_count": null,
      "outputs": []
    }
  ]
}