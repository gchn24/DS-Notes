{
  "nbformat": 4,
  "nbformat_minor": 0,
  "metadata": {
    "colab": {
      "provenance": [],
      "include_colab_link": true
    },
    "kernelspec": {
      "name": "python3",
      "display_name": "Python 3"
    },
    "language_info": {
      "name": "python"
    }
  },
  "cells": [
    {
      "cell_type": "markdown",
      "metadata": {
        "id": "view-in-github",
        "colab_type": "text"
      },
      "source": [
        "<a href=\"https://colab.research.google.com/github/gchn24/DS-Notes/blob/main/Calculus_continued.ipynb\" target=\"_parent\"><img src=\"https://colab.research.google.com/assets/colab-badge.svg\" alt=\"Open In Colab\"/></a>"
      ]
    },
    {
      "cell_type": "code",
      "execution_count": null,
      "metadata": {
        "id": "Yh-vvkETHavO"
      },
      "outputs": [],
      "source": [
        "def min_value(a,b,c,ll,ul):\n",
        "\n",
        "  #equation fo graph --> a(x^2) + b*x + c\n",
        "\n",
        "  #initialize to max possible value\n",
        "  min_val = float('inf')\n",
        "  ans = ll\n",
        "\n",
        "  for i in range(ll , ul+1):\n",
        "\n",
        "    #value_i is the value of the functino at x=i\n",
        "    value_i = a*(i**2) + b*i + c\n",
        "\n",
        "    #find the i for which value_i is minimum\n",
        "\n",
        "    if value_i < min_val:\n",
        "      #update the minimum\n",
        "      min_val = value_i\n",
        "      ans = i\n",
        "\n",
        "\n",
        "  return ans\n",
        "\n"
      ]
    }
  ]
}