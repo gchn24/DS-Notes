{
  "nbformat": 4,
  "nbformat_minor": 0,
  "metadata": {
    "colab": {
      "provenance": [],
      "include_colab_link": true
    },
    "kernelspec": {
      "name": "python3",
      "display_name": "Python 3"
    },
    "language_info": {
      "name": "python"
    }
  },
  "cells": [
    {
      "cell_type": "markdown",
      "metadata": {
        "id": "view-in-github",
        "colab_type": "text"
      },
      "source": [
        "<a href=\"https://colab.research.google.com/github/gchn24/DS-Notes/blob/main/sept_sorting_2.ipynb\" target=\"_parent\"><img src=\"https://colab.research.google.com/assets/colab-badge.svg\" alt=\"Open In Colab\"/></a>"
      ]
    },
    {
      "cell_type": "code",
      "execution_count": null,
      "metadata": {
        "id": "7B2Wivu1nzkr"
      },
      "outputs": [],
      "source": [
        "def bubble_sort(a):\n",
        "\n",
        "  n = len(a)\n",
        "  for i in range(n):\n",
        "\n",
        "    for j in range(n-1):\n",
        "      if a[j] > a[j+1]:\n",
        "        # temp = a[j]\n",
        "        # a[j] = a[j+1]\n",
        "        # a[j+1] = temp\n",
        "\n",
        "        a[j] , a[j+1] = a[j+1], a[j]\n",
        "\n",
        "  return a\n",
        "\n"
      ]
    },
    {
      "cell_type": "code",
      "source": [
        "a = [4,3,1,6,5]\n",
        "\n",
        "sorted_a = bubble_sort(a)"
      ],
      "metadata": {
        "id": "-qqRUODrp0vB"
      },
      "execution_count": null,
      "outputs": []
    },
    {
      "cell_type": "code",
      "source": [
        "print(sorted_a)"
      ],
      "metadata": {
        "colab": {
          "base_uri": "https://localhost:8080/"
        },
        "id": "9an28zPup437",
        "outputId": "b3a179de-6f5d-4826-eae0-7606826c7671"
      },
      "execution_count": null,
      "outputs": [
        {
          "output_type": "stream",
          "name": "stdout",
          "text": [
            "[1, 3, 4, 5, 6]\n"
          ]
        }
      ]
    },
    {
      "cell_type": "code",
      "source": [
        "def bubble_sort_2(a):\n",
        "\n",
        "  n = len(a)\n",
        "  for i in range(n):\n",
        "\n",
        "    for j in range(n-i-1):\n",
        "      if a[j] > a[j+1]:\n",
        "        # temp = a[j]\n",
        "        # a[j] = a[j+1]\n",
        "        # a[j+1] = temp\n",
        "\n",
        "        a[j] , a[j+1] = a[j+1], a[j]\n",
        "\n",
        "  return a\n"
      ],
      "metadata": {
        "id": "JaK2M_Ahp5v0"
      },
      "execution_count": null,
      "outputs": []
    },
    {
      "cell_type": "code",
      "source": [
        "a = [4,3,1,6,5]\n",
        "\n",
        "sorted_a = bubble_sort_2(a)\n",
        "\n",
        "print(sorted_a)"
      ],
      "metadata": {
        "colab": {
          "base_uri": "https://localhost:8080/"
        },
        "id": "8J4qVWHQq1_7",
        "outputId": "654736ec-f1ce-493f-efe8-0490f644c344"
      },
      "execution_count": null,
      "outputs": [
        {
          "output_type": "stream",
          "name": "stdout",
          "text": [
            "[1, 3, 4, 5, 6]\n"
          ]
        }
      ]
    },
    {
      "cell_type": "code",
      "source": [
        "x"
      ],
      "metadata": {
        "id": "wY5PYa28q_RO"
      },
      "execution_count": null,
      "outputs": []
    },
    {
      "cell_type": "code",
      "source": [
        "def bubble_sort_2(a):\n",
        "  counter = 0\n",
        "  n = len(a)\n",
        "  for i in range(n-1):\n",
        "\n",
        "    is_sorted = True\n",
        "    for j in range(n-i-1):  \n",
        "\n",
        "      counter += 1\n",
        "      if a[j] > a[j+1]:\n",
        "        a[j] , a[j+1] = a[j+1], a[j]\n",
        "        is_sorted = False\n",
        "\n",
        "    #no more iterations required in the outer loop\n",
        "    if is_sorted == True:\n",
        "      break\n",
        "\n",
        "  return counter\n"
      ],
      "metadata": {
        "id": "PqPHp2BRrpkS"
      },
      "execution_count": null,
      "outputs": []
    },
    {
      "cell_type": "code",
      "source": [
        "a = [4,3,1,6,5]\n",
        "count = bubble_sort_2(a)"
      ],
      "metadata": {
        "id": "B7-yuShvrxxR"
      },
      "execution_count": null,
      "outputs": []
    },
    {
      "cell_type": "code",
      "source": [
        "print(count)"
      ],
      "metadata": {
        "colab": {
          "base_uri": "https://localhost:8080/"
        },
        "id": "iW-bdI-Yr5-N",
        "outputId": "2d3c8da7-a387-4146-856e-336afcda1213"
      },
      "execution_count": null,
      "outputs": [
        {
          "output_type": "stream",
          "name": "stdout",
          "text": [
            "7\n"
          ]
        }
      ]
    },
    {
      "cell_type": "code",
      "source": [
        "# Already sorted list - best case\n",
        "#imp: bestt case complexity - O(n) - Omega"
      ],
      "metadata": {
        "id": "o72pfKvBr61q"
      },
      "execution_count": null,
      "outputs": []
    },
    {
      "cell_type": "code",
      "source": [
        "#selection sort"
      ],
      "metadata": {
        "id": "wegqaeXowXTx"
      },
      "execution_count": null,
      "outputs": []
    },
    {
      "cell_type": "code",
      "source": [
        "def selection_sort(a):\n",
        "\n",
        "  n = len(a)\n",
        "  for i in range(n-1):   \n",
        "    idx = i #maintain the index of the min element\n",
        "\n",
        "    print(a)\n",
        "    print('-'*25)\n",
        "\n",
        "    for j in range(i+1, n):\n",
        "      if a[j] < a[idx]:\n",
        "        idx = j \n",
        "\n",
        "    #swap a[i] with the min in this iteration - to get it at its correct position\n",
        "    a[i] , a[idx] = a[idx] , a[i]\n",
        "\n",
        "  return a"
      ],
      "metadata": {
        "id": "_1UE4I4Lwq3i"
      },
      "execution_count": null,
      "outputs": []
    },
    {
      "cell_type": "code",
      "source": [
        "a = [2, 8, 5, 3, 9, 1]\n",
        "\n",
        "sorted_a = selection_sort(a)\n",
        "\n",
        "print(sorted_a)"
      ],
      "metadata": {
        "colab": {
          "base_uri": "https://localhost:8080/"
        },
        "id": "3nkuwdl00NbU",
        "outputId": "d225119e-f4fd-4086-d36c-b8328730a4b2"
      },
      "execution_count": null,
      "outputs": [
        {
          "output_type": "stream",
          "name": "stdout",
          "text": [
            "[2, 8, 5, 3, 9, 1]\n",
            "-------------------------\n",
            "[1, 8, 5, 3, 9, 2]\n",
            "-------------------------\n",
            "[1, 2, 5, 3, 9, 8]\n",
            "-------------------------\n",
            "[1, 2, 3, 5, 9, 8]\n",
            "-------------------------\n",
            "[1, 2, 3, 5, 9, 8]\n",
            "-------------------------\n",
            "[1, 2, 3, 5, 8, 9]\n"
          ]
        }
      ]
    },
    {
      "cell_type": "code",
      "source": [
        "#insertion sort"
      ],
      "metadata": {
        "id": "VEV7fQH00ZAf"
      },
      "execution_count": null,
      "outputs": []
    },
    {
      "cell_type": "code",
      "source": [
        "def insertion_sort(a):\n",
        "\n",
        "  n = len(a)\n",
        "  for i in range(1,n):\n",
        "    index_to_insert = i\n",
        "    j = i-1\n",
        "    #place \n",
        "\n",
        "    print(a[:index_to_insert], \"|||\", a[index_to_insert:])\n",
        "    print(\"-\"*30)\n",
        "    while j>=0:\n",
        "      if a[j] < a[index_to_insert]:\n",
        "        break\n",
        "      \n",
        "      #swap the elements\n",
        "      a[j] , a[index_to_insert] = a[index_to_insert], a[j]\n",
        "      index_to_insert = j\n",
        "      j -= 1\n",
        "\n",
        "  return a"
      ],
      "metadata": {
        "id": "qzjhRurM9H-1"
      },
      "execution_count": null,
      "outputs": []
    },
    {
      "cell_type": "code",
      "source": [
        "a = [4, 5, 1, 3, 2]\n",
        "\n",
        "sorted_a = insertion_sort(a)\n",
        "\n",
        "print(sorted_a)"
      ],
      "metadata": {
        "colab": {
          "base_uri": "https://localhost:8080/"
        },
        "id": "65ih84JA-XXo",
        "outputId": "054deb0e-f329-4b93-d58e-02afb6c36a62"
      },
      "execution_count": null,
      "outputs": [
        {
          "output_type": "stream",
          "name": "stdout",
          "text": [
            "[4] ||| [5, 1, 3, 2]\n",
            "------------------------------\n",
            "[4, 5] ||| [1, 3, 2]\n",
            "------------------------------\n",
            "[1, 4, 5] ||| [3, 2]\n",
            "------------------------------\n",
            "[1, 3, 4, 5] ||| [2]\n",
            "------------------------------\n",
            "[1, 2, 3, 4, 5]\n"
          ]
        }
      ]
    },
    {
      "cell_type": "code",
      "source": [],
      "metadata": {
        "id": "l077Dsoh-gS9"
      },
      "execution_count": null,
      "outputs": []
    }
  ]
}