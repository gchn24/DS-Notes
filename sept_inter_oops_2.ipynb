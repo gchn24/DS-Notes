{
  "nbformat": 4,
  "nbformat_minor": 0,
  "metadata": {
    "colab": {
      "provenance": [],
      "include_colab_link": true
    },
    "kernelspec": {
      "name": "python3",
      "display_name": "Python 3"
    },
    "language_info": {
      "name": "python"
    }
  },
  "cells": [
    {
      "cell_type": "markdown",
      "metadata": {
        "id": "view-in-github",
        "colab_type": "text"
      },
      "source": [
        "<a href=\"https://colab.research.google.com/github/gchn24/DS-Notes/blob/main/sept_inter_oops_2.ipynb\" target=\"_parent\"><img src=\"https://colab.research.google.com/assets/colab-badge.svg\" alt=\"Open In Colab\"/></a>"
      ]
    },
    {
      "cell_type": "code",
      "execution_count": null,
      "metadata": {
        "colab": {
          "base_uri": "https://localhost:8080/"
        },
        "id": "kOfHdJIWj0mx",
        "outputId": "33580ee2-cdd1-4aec-f821-ee9ed5b096d9"
      },
      "outputs": [
        {
          "output_type": "stream",
          "name": "stdout",
          "text": [
            "You guys are awesome!\n"
          ]
        }
      ],
      "source": [
        "print(\"You guys are awesome!\")"
      ]
    },
    {
      "cell_type": "code",
      "source": [
        "class A:\n",
        "\n",
        "  #class variable\n",
        "  c = 3\n",
        "  #initializing function\n",
        "  def __init__(self, a , b):\n",
        "    self.a = a\n",
        "    self.b = b\n",
        "\n",
        "  "
      ],
      "metadata": {
        "id": "oFPlQyozlNzj"
      },
      "execution_count": null,
      "outputs": []
    },
    {
      "cell_type": "code",
      "source": [
        "a1 = A(1, 2)"
      ],
      "metadata": {
        "id": "zN7E_m9zlc5Z"
      },
      "execution_count": null,
      "outputs": []
    },
    {
      "cell_type": "code",
      "source": [
        "print(a1.a)"
      ],
      "metadata": {
        "colab": {
          "base_uri": "https://localhost:8080/"
        },
        "id": "EJx_K8d-ljzE",
        "outputId": "946a82a9-948e-40f8-bcd6-1a723b419cfd"
      },
      "execution_count": null,
      "outputs": [
        {
          "output_type": "stream",
          "name": "stdout",
          "text": [
            "1\n"
          ]
        }
      ]
    },
    {
      "cell_type": "code",
      "source": [
        "print(a1.b)"
      ],
      "metadata": {
        "colab": {
          "base_uri": "https://localhost:8080/"
        },
        "id": "zR0Gb6kGlo2m",
        "outputId": "ca6ab420-b6f9-4b0e-ef81-71f8323f36f2"
      },
      "execution_count": null,
      "outputs": [
        {
          "output_type": "stream",
          "name": "stdout",
          "text": [
            "2\n"
          ]
        }
      ]
    },
    {
      "cell_type": "code",
      "source": [
        "print(a1.c)"
      ],
      "metadata": {
        "colab": {
          "base_uri": "https://localhost:8080/"
        },
        "id": "VwDgxUAelqCu",
        "outputId": "3bcea065-edd6-4767-fbaa-5a72e33b7e84"
      },
      "execution_count": null,
      "outputs": [
        {
          "output_type": "stream",
          "name": "stdout",
          "text": [
            "3\n"
          ]
        }
      ]
    },
    {
      "cell_type": "code",
      "source": [
        "class Car:\n",
        "\n",
        "  def __init__(self, name, milage):\n",
        "    self.name = name\n",
        "    self.milage = milage"
      ],
      "metadata": {
        "id": "DPR81JV8l1kZ"
      },
      "execution_count": null,
      "outputs": []
    },
    {
      "cell_type": "code",
      "source": [
        "c1 = Car(\"Nexon\", 12)\n",
        "c2 = Car(\"Swift\", 15)"
      ],
      "metadata": {
        "id": "2WQorHWdmbXk"
      },
      "execution_count": null,
      "outputs": []
    },
    {
      "cell_type": "code",
      "source": [
        "print(c1.name)"
      ],
      "metadata": {
        "colab": {
          "base_uri": "https://localhost:8080/"
        },
        "id": "y8zzmrSamhyI",
        "outputId": "25be459e-fbf9-4a4d-f6bc-42021ae36716"
      },
      "execution_count": null,
      "outputs": [
        {
          "output_type": "stream",
          "name": "stdout",
          "text": [
            "Nexon\n"
          ]
        }
      ]
    },
    {
      "cell_type": "code",
      "source": [
        "print(c1.milage)"
      ],
      "metadata": {
        "colab": {
          "base_uri": "https://localhost:8080/"
        },
        "id": "A1yLaWdUmnmk",
        "outputId": "3b5148b3-0744-4ed0-d342-cdf6030a24e6"
      },
      "execution_count": null,
      "outputs": [
        {
          "output_type": "stream",
          "name": "stdout",
          "text": [
            "12\n"
          ]
        }
      ]
    },
    {
      "cell_type": "code",
      "source": [
        "print(c2.name, c2.milage)"
      ],
      "metadata": {
        "colab": {
          "base_uri": "https://localhost:8080/"
        },
        "id": "sMSOxRZ5mx47",
        "outputId": "17216347-2a89-4b31-91fc-10ed8b90ae15"
      },
      "execution_count": null,
      "outputs": [
        {
          "output_type": "stream",
          "name": "stdout",
          "text": [
            "Swift 15\n"
          ]
        }
      ]
    },
    {
      "cell_type": "code",
      "source": [
        "print(c1)"
      ],
      "metadata": {
        "colab": {
          "base_uri": "https://localhost:8080/"
        },
        "id": "POZphGqVm0-P",
        "outputId": "5c9bbb66-9876-453a-d9f5-3c3fbcca7034"
      },
      "execution_count": null,
      "outputs": [
        {
          "output_type": "stream",
          "name": "stdout",
          "text": [
            "<__main__.Car object at 0x7fc7dfcfbc10>\n"
          ]
        }
      ]
    },
    {
      "cell_type": "code",
      "source": [
        "print(c1)\n",
        "# Nmae --> Milage"
      ],
      "metadata": {
        "id": "tuxV0Svhm7hS"
      },
      "execution_count": null,
      "outputs": []
    },
    {
      "cell_type": "code",
      "source": [
        "#modify the behaviour of printing an object"
      ],
      "metadata": {
        "id": "Bf25vpaenVu0"
      },
      "execution_count": null,
      "outputs": []
    },
    {
      "cell_type": "code",
      "source": [
        "class Car:\n",
        "\n",
        "  def __init__(self, name, milage):\n",
        "    self.name = name\n",
        "    self.milage = milage\n",
        "\n",
        "  #whenever an object is printed, __str__() function is called\n",
        "  def __str__(self):\n",
        "    return f\"{self.name} --> {self.milage}\"\n"
      ],
      "metadata": {
        "id": "8pIJitc7nYAJ"
      },
      "execution_count": null,
      "outputs": []
    },
    {
      "cell_type": "code",
      "source": [
        "c1 = Car(\"Nexon\", 12)\n",
        "c2 = Car(\"Swift\", 15)"
      ],
      "metadata": {
        "id": "OFFLWo6Tnxn0"
      },
      "execution_count": null,
      "outputs": []
    },
    {
      "cell_type": "code",
      "source": [
        "print(c1)"
      ],
      "metadata": {
        "colab": {
          "base_uri": "https://localhost:8080/"
        },
        "id": "UZgI-uVxn1MG",
        "outputId": "3846d8dd-fd02-413e-b8ac-3da2f261a254"
      },
      "execution_count": null,
      "outputs": [
        {
          "output_type": "stream",
          "name": "stdout",
          "text": [
            "Nexon --> 12\n"
          ]
        }
      ]
    },
    {
      "cell_type": "code",
      "source": [
        "print(\"AJ\")"
      ],
      "metadata": {
        "colab": {
          "base_uri": "https://localhost:8080/"
        },
        "id": "LPlTZsPIn27N",
        "outputId": "81cee6fd-dcec-4d06-e26f-518d8c777f80"
      },
      "execution_count": null,
      "outputs": [
        {
          "output_type": "stream",
          "name": "stdout",
          "text": [
            "AJ\n"
          ]
        }
      ]
    },
    {
      "cell_type": "code",
      "source": [
        "print(c2)"
      ],
      "metadata": {
        "colab": {
          "base_uri": "https://localhost:8080/"
        },
        "id": "Ihl9HAgcoJxB",
        "outputId": "3ffbf607-6841-4f33-8423-8724a436ecb0"
      },
      "execution_count": null,
      "outputs": [
        {
          "output_type": "stream",
          "name": "stdout",
          "text": [
            "Swift --> 15\n"
          ]
        }
      ]
    },
    {
      "cell_type": "code",
      "source": [
        "c1+c2\n",
        "#behaviour --> both milage should get added"
      ],
      "metadata": {
        "colab": {
          "base_uri": "https://localhost:8080/",
          "height": 183
        },
        "id": "1lUOIdSZoOpO",
        "outputId": "bb41ed7b-cb48-4c28-8199-f75528fafaa7"
      },
      "execution_count": null,
      "outputs": [
        {
          "output_type": "error",
          "ename": "TypeError",
          "evalue": "ignored",
          "traceback": [
            "\u001b[0;31m---------------------------------------------------------------------------\u001b[0m",
            "\u001b[0;31mTypeError\u001b[0m                                 Traceback (most recent call last)",
            "\u001b[0;32m<ipython-input-26-78ed4f680a45>\u001b[0m in \u001b[0;36m<module>\u001b[0;34m\u001b[0m\n\u001b[0;32m----> 1\u001b[0;31m \u001b[0mc1\u001b[0m\u001b[0;34m+\u001b[0m\u001b[0mc2\u001b[0m\u001b[0;34m\u001b[0m\u001b[0;34m\u001b[0m\u001b[0m\n\u001b[0m\u001b[1;32m      2\u001b[0m \u001b[0;31m#behaviour --> both milage should get added\u001b[0m\u001b[0;34m\u001b[0m\u001b[0;34m\u001b[0m\u001b[0;34m\u001b[0m\u001b[0m\n",
            "\u001b[0;31mTypeError\u001b[0m: unsupported operand type(s) for +: 'Car' and 'Car'"
          ]
        }
      ]
    },
    {
      "cell_type": "code",
      "source": [
        "class Car:\n",
        "\n",
        "  def __init__(self, name, milage):\n",
        "    self.name = name\n",
        "    self.milage = milage\n",
        "\n",
        "  #whenever an object is printed, __str__() function is called\n",
        "  def __str__(self):\n",
        "    return f\"{self.name} --> {self.milage}\"\n",
        "\n",
        "  def __add__(self, other):\n",
        "    return self.name + other.name"
      ],
      "metadata": {
        "id": "EAOk3rKpoR-n"
      },
      "execution_count": null,
      "outputs": []
    },
    {
      "cell_type": "code",
      "source": [
        "c1 = Car(\"Nexon\", 12)\n",
        "c2 = Car(\"Swift\", 15)"
      ],
      "metadata": {
        "id": "FBGR9r6wprFe"
      },
      "execution_count": null,
      "outputs": []
    },
    {
      "cell_type": "code",
      "source": [
        "c1+c2\n",
        "# Car.__add__(c1,c2)"
      ],
      "metadata": {
        "colab": {
          "base_uri": "https://localhost:8080/",
          "height": 35
        },
        "id": "0ptB_mhkpch-",
        "outputId": "8f14c54a-8fbb-4651-b275-85956923cb5b"
      },
      "execution_count": null,
      "outputs": [
        {
          "output_type": "execute_result",
          "data": {
            "text/plain": [
              "'NexonSwift'"
            ],
            "application/vnd.google.colaboratory.intrinsic+json": {
              "type": "string"
            }
          },
          "metadata": {},
          "execution_count": 43
        }
      ]
    },
    {
      "cell_type": "code",
      "source": [
        "#Home Work\n",
        "#Use this add method to add 3 cars"
      ],
      "metadata": {
        "id": "9Eygy_okpeL_"
      },
      "execution_count": null,
      "outputs": []
    },
    {
      "cell_type": "code",
      "source": [
        "c1 + c2 + Car(\"BMW\", 10)"
      ],
      "metadata": {
        "colab": {
          "base_uri": "https://localhost:8080/",
          "height": 166
        },
        "id": "gt7d8sODqLos",
        "outputId": "0cf692ec-7440-4d5f-acc1-d6c69add1c0a"
      },
      "execution_count": null,
      "outputs": [
        {
          "output_type": "error",
          "ename": "TypeError",
          "evalue": "ignored",
          "traceback": [
            "\u001b[0;31m---------------------------------------------------------------------------\u001b[0m",
            "\u001b[0;31mTypeError\u001b[0m                                 Traceback (most recent call last)",
            "\u001b[0;32m<ipython-input-34-cf16f0fc6f84>\u001b[0m in \u001b[0;36m<module>\u001b[0;34m\u001b[0m\n\u001b[0;32m----> 1\u001b[0;31m \u001b[0mc1\u001b[0m \u001b[0;34m+\u001b[0m \u001b[0mc2\u001b[0m \u001b[0;34m+\u001b[0m \u001b[0mCar\u001b[0m\u001b[0;34m(\u001b[0m\u001b[0;34m\"BMW\"\u001b[0m\u001b[0;34m,\u001b[0m \u001b[0;36m10\u001b[0m\u001b[0;34m)\u001b[0m\u001b[0;34m\u001b[0m\u001b[0;34m\u001b[0m\u001b[0m\n\u001b[0m",
            "\u001b[0;31mTypeError\u001b[0m: unsupported operand type(s) for +: 'int' and 'Car'"
          ]
        }
      ]
    },
    {
      "cell_type": "code",
      "source": [
        "c1 < c2\n",
        "#modify the behaviour to compare them as per their milage"
      ],
      "metadata": {
        "colab": {
          "base_uri": "https://localhost:8080/",
          "height": 166
        },
        "id": "Dp8ycjXXqPC6",
        "outputId": "cdde7522-9baf-4bee-eb76-58d6054a8d6d"
      },
      "execution_count": null,
      "outputs": [
        {
          "output_type": "error",
          "ename": "TypeError",
          "evalue": "ignored",
          "traceback": [
            "\u001b[0;31m---------------------------------------------------------------------------\u001b[0m",
            "\u001b[0;31mTypeError\u001b[0m                                 Traceback (most recent call last)",
            "\u001b[0;32m<ipython-input-44-373d7aec8960>\u001b[0m in \u001b[0;36m<module>\u001b[0;34m\u001b[0m\n\u001b[0;32m----> 1\u001b[0;31m \u001b[0mc1\u001b[0m \u001b[0;34m<\u001b[0m \u001b[0mc2\u001b[0m\u001b[0;34m\u001b[0m\u001b[0;34m\u001b[0m\u001b[0m\n\u001b[0m",
            "\u001b[0;31mTypeError\u001b[0m: '<' not supported between instances of 'Car' and 'Car'"
          ]
        }
      ]
    },
    {
      "cell_type": "code",
      "source": [
        "class Car:\n",
        "\n",
        "  def __init__(self, name, milage):\n",
        "    self.name = name\n",
        "    self.milage = milage\n",
        "\n",
        "  #whenever an object is printed, __str__() function is called\n",
        "  def __str__(self):\n",
        "    return f\"{self.name} --> {self.milage}\"\n",
        "\n",
        "  def __add__(self, other):\n",
        "    return self.name + other.name\n",
        "\n",
        "  def __lt__(self, other):\n",
        "    return self.milage < other.milage"
      ],
      "metadata": {
        "id": "uJBSNMOQsUv3"
      },
      "execution_count": null,
      "outputs": []
    },
    {
      "cell_type": "code",
      "source": [
        "c1 = Car(\"Nexon\", 12)\n",
        "c2 = Car(\"Swift\", 15)"
      ],
      "metadata": {
        "id": "XyZ1GsYXtkwF"
      },
      "execution_count": null,
      "outputs": []
    },
    {
      "cell_type": "code",
      "source": [
        "c1 < c2"
      ],
      "metadata": {
        "colab": {
          "base_uri": "https://localhost:8080/"
        },
        "id": "quHNR0M9tlni",
        "outputId": "f44e694e-a3d6-410f-9a1e-611db0f0fcf6"
      },
      "execution_count": null,
      "outputs": [
        {
          "output_type": "execute_result",
          "data": {
            "text/plain": [
              "True"
            ]
          },
          "metadata": {},
          "execution_count": 50
        }
      ]
    },
    {
      "cell_type": "code",
      "source": [
        "1+2"
      ],
      "metadata": {
        "colab": {
          "base_uri": "https://localhost:8080/"
        },
        "id": "YKSmy0p2skVf",
        "outputId": "28ec35e5-e22d-4a07-a548-323e8d6becba"
      },
      "execution_count": null,
      "outputs": [
        {
          "output_type": "execute_result",
          "data": {
            "text/plain": [
              "3"
            ]
          },
          "metadata": {},
          "execution_count": 46
        }
      ]
    },
    {
      "cell_type": "code",
      "source": [
        "print(1+2)"
      ],
      "metadata": {
        "colab": {
          "base_uri": "https://localhost:8080/"
        },
        "id": "gMY2wme5szF7",
        "outputId": "252dbe51-0717-4630-97ff-2add8822e388"
      },
      "execution_count": null,
      "outputs": [
        {
          "output_type": "stream",
          "name": "stdout",
          "text": [
            "3\n"
          ]
        }
      ]
    },
    {
      "cell_type": "code",
      "source": [
        "c1()"
      ],
      "metadata": {
        "colab": {
          "base_uri": "https://localhost:8080/",
          "height": 166
        },
        "id": "CdlMuWaPtDsG",
        "outputId": "2c1048a1-48b3-4dd9-8400-6344202c5225"
      },
      "execution_count": null,
      "outputs": [
        {
          "output_type": "error",
          "ename": "TypeError",
          "evalue": "ignored",
          "traceback": [
            "\u001b[0;31m---------------------------------------------------------------------------\u001b[0m",
            "\u001b[0;31mTypeError\u001b[0m                                 Traceback (most recent call last)",
            "\u001b[0;32m<ipython-input-51-028390c191d7>\u001b[0m in \u001b[0;36m<module>\u001b[0;34m\u001b[0m\n\u001b[0;32m----> 1\u001b[0;31m \u001b[0mc1\u001b[0m\u001b[0;34m(\u001b[0m\u001b[0;34m)\u001b[0m\u001b[0;34m\u001b[0m\u001b[0;34m\u001b[0m\u001b[0m\n\u001b[0m",
            "\u001b[0;31mTypeError\u001b[0m: 'Car' object is not callable"
          ]
        }
      ]
    },
    {
      "cell_type": "code",
      "source": [
        "class Car:\n",
        "\n",
        "  def __init__(self, name, milage):\n",
        "    self.name = name\n",
        "    self.milage = milage\n",
        "\n",
        "  #whenever an object is printed, __str__() function is called\n",
        "   #method overriding\n",
        "  def __str__(self):\n",
        "    return f\"{self.name} --> {self.milage}\"\n",
        "\n",
        "   #method overriding\n",
        "  def __add__(self, other):\n",
        "    return self.name + other.name\n",
        "\n",
        "\n",
        "  #method overriding\n",
        "  def __lt__(self, other):\n",
        "    return self.milage < other.milage\n",
        "\n",
        "   #method overriding\n",
        "  def __call__(self):\n",
        "    print(\"Object Called\")"
      ],
      "metadata": {
        "id": "facvjkQYuI9t"
      },
      "execution_count": null,
      "outputs": []
    },
    {
      "cell_type": "code",
      "source": [
        "c1 = Car(\"Nexon\", 12)\n",
        "c2 = Car(\"Swift\", 15)"
      ],
      "metadata": {
        "id": "QEUbr2eRuWKB"
      },
      "execution_count": null,
      "outputs": []
    },
    {
      "cell_type": "code",
      "source": [
        "c1()"
      ],
      "metadata": {
        "colab": {
          "base_uri": "https://localhost:8080/"
        },
        "id": "l1fHpRGLuX3v",
        "outputId": "40736774-2158-4490-a9a4-2303a66758b2"
      },
      "execution_count": null,
      "outputs": [
        {
          "output_type": "stream",
          "name": "stdout",
          "text": [
            "Object Called\n"
          ]
        }
      ]
    },
    {
      "cell_type": "code",
      "source": [
        "c2()"
      ],
      "metadata": {
        "colab": {
          "base_uri": "https://localhost:8080/"
        },
        "id": "3Jt9GMt7ub_i",
        "outputId": "a7f7201d-3292-4af3-b66d-c884a56fbbcb"
      },
      "execution_count": null,
      "outputs": [
        {
          "output_type": "stream",
          "name": "stdout",
          "text": [
            "Object Called\n"
          ]
        }
      ]
    },
    {
      "cell_type": "code",
      "source": [
        "print(2)"
      ],
      "metadata": {
        "colab": {
          "base_uri": "https://localhost:8080/"
        },
        "id": "pm82uffhusSw",
        "outputId": "fe4596ed-bbd0-40dc-e3b7-602670a777f2"
      },
      "execution_count": null,
      "outputs": [
        {
          "output_type": "stream",
          "name": "stdout",
          "text": [
            "2\n"
          ]
        }
      ]
    },
    {
      "cell_type": "code",
      "source": [
        "print(3+4)"
      ],
      "metadata": {
        "colab": {
          "base_uri": "https://localhost:8080/"
        },
        "id": "VzaQMOUru05f",
        "outputId": "efdc7934-0bf1-4f4c-85c5-bd6bac8a5f43"
      },
      "execution_count": null,
      "outputs": [
        {
          "output_type": "stream",
          "name": "stdout",
          "text": [
            "7\n"
          ]
        }
      ]
    },
    {
      "cell_type": "code",
      "source": [
        "print(\"a\"+\"b\")"
      ],
      "metadata": {
        "colab": {
          "base_uri": "https://localhost:8080/"
        },
        "id": "raK14IW6wTDE",
        "outputId": "566a896f-d288-4695-bde0-665b0808e28a"
      },
      "execution_count": null,
      "outputs": [
        {
          "output_type": "stream",
          "name": "stdout",
          "text": [
            "ab\n"
          ]
        }
      ]
    },
    {
      "cell_type": "code",
      "source": [
        "#HW- Method overloading and Method Overriding - 15 mins max - study 1 example each  "
      ],
      "metadata": {
        "id": "2dWnSsF6wUbm"
      },
      "execution_count": null,
      "outputs": []
    },
    {
      "cell_type": "code",
      "source": [
        "#inheritance"
      ],
      "metadata": {
        "id": "UfsHkC690SEK"
      },
      "execution_count": null,
      "outputs": []
    },
    {
      "cell_type": "code",
      "source": [
        "#camelcase with first letter capital\n",
        "class SchoolMember:\n",
        "\n",
        "  def __init__(self, name):\n",
        "    self.name = name\n",
        "\n",
        "class Student(SchoolMember): #inheriting the parent class\n",
        "\n",
        "  def __init__(self,name, grade):\n",
        "\n",
        "    # SchoolMember.__init__(self, name)\n",
        "    super().__init__(name)\n",
        "    #super automatcially corresponds to the direct parent class\n",
        "    self.grade = grade\n",
        "\n",
        "class Staff(SchoolMember):\n",
        "\n",
        "  def __init__(self, name, experience):\n",
        "    super().__init__(name)\n",
        "    self.experience = experience\n",
        "\n",
        "class Teacher(Staff):\n",
        "\n",
        "  def __init__(self, name, experience, subject):\n",
        "    super().__init__(name, experience)\n",
        "    self.subject = subject\n"
      ],
      "metadata": {
        "id": "XQd_Ry7Y2oOR"
      },
      "execution_count": null,
      "outputs": []
    },
    {
      "cell_type": "code",
      "source": [
        "s1 = Student(\"Sagar\", \"A\")"
      ],
      "metadata": {
        "id": "eYjX39co40EO"
      },
      "execution_count": null,
      "outputs": []
    },
    {
      "cell_type": "code",
      "source": [
        "print(s1)"
      ],
      "metadata": {
        "colab": {
          "base_uri": "https://localhost:8080/"
        },
        "id": "pwtQV9-c5CjI",
        "outputId": "0ccbc591-e40c-4745-f77a-b680e2cca5d6"
      },
      "execution_count": null,
      "outputs": [
        {
          "output_type": "stream",
          "name": "stdout",
          "text": [
            "<__main__.Student object at 0x7fc7dfcfb100>\n"
          ]
        }
      ]
    },
    {
      "cell_type": "code",
      "source": [
        "s1.grade"
      ],
      "metadata": {
        "colab": {
          "base_uri": "https://localhost:8080/",
          "height": 35
        },
        "id": "EbfOmE1C5HJr",
        "outputId": "5555bc6b-c3ab-483f-f248-601147437a0d"
      },
      "execution_count": null,
      "outputs": [
        {
          "output_type": "execute_result",
          "data": {
            "text/plain": [
              "'A'"
            ],
            "application/vnd.google.colaboratory.intrinsic+json": {
              "type": "string"
            }
          },
          "metadata": {},
          "execution_count": 81
        }
      ]
    },
    {
      "cell_type": "code",
      "source": [
        "s1.name"
      ],
      "metadata": {
        "colab": {
          "base_uri": "https://localhost:8080/",
          "height": 35
        },
        "id": "c53luClt5TdF",
        "outputId": "917b1678-0eeb-4c91-fe0e-9e91350df4e5"
      },
      "execution_count": null,
      "outputs": [
        {
          "output_type": "execute_result",
          "data": {
            "text/plain": [
              "'Sagar'"
            ],
            "application/vnd.google.colaboratory.intrinsic+json": {
              "type": "string"
            }
          },
          "metadata": {},
          "execution_count": 82
        }
      ]
    },
    {
      "cell_type": "code",
      "source": [
        "print(s1.name)"
      ],
      "metadata": {
        "colab": {
          "base_uri": "https://localhost:8080/"
        },
        "id": "dZczHtm55U2Z",
        "outputId": "f5569947-341f-4626-aa30-d8814c778af7"
      },
      "execution_count": null,
      "outputs": [
        {
          "output_type": "stream",
          "name": "stdout",
          "text": [
            "Sagar\n"
          ]
        }
      ]
    },
    {
      "cell_type": "code",
      "source": [
        "t1 = Teacher(\"YOYO\",1000,\"Python\")"
      ],
      "metadata": {
        "id": "pJPOgkRG7lxj"
      },
      "execution_count": null,
      "outputs": []
    },
    {
      "cell_type": "code",
      "source": [
        "print(t1.name)"
      ],
      "metadata": {
        "colab": {
          "base_uri": "https://localhost:8080/"
        },
        "id": "CT6sIxCF7yf5",
        "outputId": "8dfa1dfa-70e2-4a05-8947-f04a933c9865"
      },
      "execution_count": null,
      "outputs": [
        {
          "output_type": "stream",
          "name": "stdout",
          "text": [
            "YOYO\n"
          ]
        }
      ]
    },
    {
      "cell_type": "code",
      "source": [
        "print(t1.experience)"
      ],
      "metadata": {
        "colab": {
          "base_uri": "https://localhost:8080/"
        },
        "id": "5XwF6T0V7z8h",
        "outputId": "e5a2e745-b357-4d74-d2fc-16c93924230e"
      },
      "execution_count": null,
      "outputs": [
        {
          "output_type": "stream",
          "name": "stdout",
          "text": [
            "1000\n"
          ]
        }
      ]
    },
    {
      "cell_type": "code",
      "source": [
        "print(t1.subject)"
      ],
      "metadata": {
        "id": "LWrlb9sr8Skc",
        "outputId": "8e5cd4ba-922f-49fb-9742-74baee6b9a7e",
        "colab": {
          "base_uri": "https://localhost:8080/"
        }
      },
      "execution_count": null,
      "outputs": [
        {
          "output_type": "stream",
          "name": "stdout",
          "text": [
            "Python\n"
          ]
        }
      ]
    },
    {
      "cell_type": "code",
      "source": [],
      "metadata": {
        "id": "eDKeQOo58VRk"
      },
      "execution_count": null,
      "outputs": []
    }
  ]
}