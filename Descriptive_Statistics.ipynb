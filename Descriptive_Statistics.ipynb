{
  "cells": [
    {
      "cell_type": "markdown",
      "metadata": {
        "id": "view-in-github",
        "colab_type": "text"
      },
      "source": [
        "<a href=\"https://colab.research.google.com/github/gchn24/DS-Notes/blob/main/Descriptive_Statistics.ipynb\" target=\"_parent\"><img src=\"https://colab.research.google.com/assets/colab-badge.svg\" alt=\"Open In Colab\"/></a>"
      ]
    },
    {
      "cell_type": "markdown",
      "id": "28d751da",
      "metadata": {
        "id": "28d751da"
      },
      "source": [
        "# Fun_Intro2Stats"
      ]
    },
    {
      "cell_type": "code",
      "source": [],
      "metadata": {
        "id": "TY0yKlgtEFEL"
      },
      "id": "TY0yKlgtEFEL",
      "execution_count": null,
      "outputs": []
    },
    {
      "cell_type": "code",
      "execution_count": null,
      "id": "b5aba351",
      "metadata": {
        "id": "b5aba351"
      },
      "outputs": [],
      "source": [
        "import numpy as np\n",
        "import pandas as pd\n",
        "import seaborn as sns\n",
        "import matplotlib.pyplot as plt\n",
        "\n",
        "\n",
        "\n",
        "from statsmodels.distributions.empirical_distribution import ECDF # Empirical CDF"
      ]
    },
    {
      "cell_type": "code",
      "source": [
        "!gdown 1V4c2CDq8SlR0exrGvT2O8nM7lhZYin0T -O \"dravid.csv\"\n",
        "!gdown 1V8m3ODI5XEJflp7R19rLv8CU9FKZu1oj -O \"sehwag.csv\"\n",
        "!gdown 1V9ZFTiRKzJ8dbdD1JI5nRM1_TEVTRjGS -O \"weight-height.csv\""
      ],
      "metadata": {
        "colab": {
          "base_uri": "https://localhost:8080/"
        },
        "id": "HjIGd0YZEI8q",
        "outputId": "8d4f4001-babd-4a59-9d01-e77f933fe9be"
      },
      "id": "HjIGd0YZEI8q",
      "execution_count": null,
      "outputs": [
        {
          "output_type": "stream",
          "name": "stdout",
          "text": [
            "Downloading...\n",
            "From: https://drive.google.com/uc?id=1V4c2CDq8SlR0exrGvT2O8nM7lhZYin0T\n",
            "To: /content/dravid.csv\n",
            "100% 24.2k/24.2k [00:00<00:00, 59.1MB/s]\n",
            "Downloading...\n",
            "From: https://drive.google.com/uc?id=1V8m3ODI5XEJflp7R19rLv8CU9FKZu1oj\n",
            "To: /content/sehwag.csv\n",
            "100% 18.6k/18.6k [00:00<00:00, 53.9MB/s]\n",
            "Downloading...\n",
            "From: https://drive.google.com/uc?id=1V9ZFTiRKzJ8dbdD1JI5nRM1_TEVTRjGS\n",
            "To: /content/weight-height.csv\n",
            "100% 428k/428k [00:00<00:00, 85.2MB/s]\n"
          ]
        }
      ]
    },
    {
      "cell_type": "code",
      "execution_count": null,
      "id": "ada07f8c",
      "metadata": {
        "id": "ada07f8c"
      },
      "outputs": [],
      "source": [
        "sehwag = pd.read_csv(\"sehwag.csv\")\n",
        "dravid = pd.read_csv(\"dravid.csv\")\n"
      ]
    },
    {
      "cell_type": "code",
      "execution_count": null,
      "id": "be57b138",
      "metadata": {
        "colab": {
          "base_uri": "https://localhost:8080/",
          "height": 443
        },
        "id": "be57b138",
        "outputId": "ec069b2f-a318-426d-9855-9d36f404f49c"
      },
      "outputs": [
        {
          "output_type": "execute_result",
          "data": {
            "text/plain": [
              "   Runs Mins  BF  4s  6s      SR  Pos Dismissal  Inns  Unnamed: 9  \\\n",
              "0     1    5   2   0   0   50.00    7       lbw     1         NaN   \n",
              "1    19   18  24   0   1   79.16    6    caught     1         NaN   \n",
              "2    58   62  54   8   0  107.40    6    bowled     1         NaN   \n",
              "3     2    7   7   0   0   28.57    6    caught     2         NaN   \n",
              "4    11   19  16   1   0   68.75    6   not out     2         NaN   \n",
              "\n",
              "      Opposition     Ground   Start Date Unnamed: 13  \n",
              "0     v Pakistan     Mohali   1 Apr 1999  ODI # 1427  \n",
              "1     v Zimbabwe     Rajkot  14 Dec 2000  ODI # 1660  \n",
              "2    v Australia  Bengaluru  25 Mar 2001  ODI # 1696  \n",
              "3     v Zimbabwe   Bulawayo  27 Jun 2001  ODI # 1730  \n",
              "4  v West Indies   Bulawayo  30 Jun 2001  ODI # 1731  "
            ],
            "text/html": [
              "\n",
              "  <div id=\"df-acedbc4a-48e8-4f66-ad39-b712d04efbe6\">\n",
              "    <div class=\"colab-df-container\">\n",
              "      <div>\n",
              "<style scoped>\n",
              "    .dataframe tbody tr th:only-of-type {\n",
              "        vertical-align: middle;\n",
              "    }\n",
              "\n",
              "    .dataframe tbody tr th {\n",
              "        vertical-align: top;\n",
              "    }\n",
              "\n",
              "    .dataframe thead th {\n",
              "        text-align: right;\n",
              "    }\n",
              "</style>\n",
              "<table border=\"1\" class=\"dataframe\">\n",
              "  <thead>\n",
              "    <tr style=\"text-align: right;\">\n",
              "      <th></th>\n",
              "      <th>Runs</th>\n",
              "      <th>Mins</th>\n",
              "      <th>BF</th>\n",
              "      <th>4s</th>\n",
              "      <th>6s</th>\n",
              "      <th>SR</th>\n",
              "      <th>Pos</th>\n",
              "      <th>Dismissal</th>\n",
              "      <th>Inns</th>\n",
              "      <th>Unnamed: 9</th>\n",
              "      <th>Opposition</th>\n",
              "      <th>Ground</th>\n",
              "      <th>Start Date</th>\n",
              "      <th>Unnamed: 13</th>\n",
              "    </tr>\n",
              "  </thead>\n",
              "  <tbody>\n",
              "    <tr>\n",
              "      <th>0</th>\n",
              "      <td>1</td>\n",
              "      <td>5</td>\n",
              "      <td>2</td>\n",
              "      <td>0</td>\n",
              "      <td>0</td>\n",
              "      <td>50.00</td>\n",
              "      <td>7</td>\n",
              "      <td>lbw</td>\n",
              "      <td>1</td>\n",
              "      <td>NaN</td>\n",
              "      <td>v Pakistan</td>\n",
              "      <td>Mohali</td>\n",
              "      <td>1 Apr 1999</td>\n",
              "      <td>ODI # 1427</td>\n",
              "    </tr>\n",
              "    <tr>\n",
              "      <th>1</th>\n",
              "      <td>19</td>\n",
              "      <td>18</td>\n",
              "      <td>24</td>\n",
              "      <td>0</td>\n",
              "      <td>1</td>\n",
              "      <td>79.16</td>\n",
              "      <td>6</td>\n",
              "      <td>caught</td>\n",
              "      <td>1</td>\n",
              "      <td>NaN</td>\n",
              "      <td>v Zimbabwe</td>\n",
              "      <td>Rajkot</td>\n",
              "      <td>14 Dec 2000</td>\n",
              "      <td>ODI # 1660</td>\n",
              "    </tr>\n",
              "    <tr>\n",
              "      <th>2</th>\n",
              "      <td>58</td>\n",
              "      <td>62</td>\n",
              "      <td>54</td>\n",
              "      <td>8</td>\n",
              "      <td>0</td>\n",
              "      <td>107.40</td>\n",
              "      <td>6</td>\n",
              "      <td>bowled</td>\n",
              "      <td>1</td>\n",
              "      <td>NaN</td>\n",
              "      <td>v Australia</td>\n",
              "      <td>Bengaluru</td>\n",
              "      <td>25 Mar 2001</td>\n",
              "      <td>ODI # 1696</td>\n",
              "    </tr>\n",
              "    <tr>\n",
              "      <th>3</th>\n",
              "      <td>2</td>\n",
              "      <td>7</td>\n",
              "      <td>7</td>\n",
              "      <td>0</td>\n",
              "      <td>0</td>\n",
              "      <td>28.57</td>\n",
              "      <td>6</td>\n",
              "      <td>caught</td>\n",
              "      <td>2</td>\n",
              "      <td>NaN</td>\n",
              "      <td>v Zimbabwe</td>\n",
              "      <td>Bulawayo</td>\n",
              "      <td>27 Jun 2001</td>\n",
              "      <td>ODI # 1730</td>\n",
              "    </tr>\n",
              "    <tr>\n",
              "      <th>4</th>\n",
              "      <td>11</td>\n",
              "      <td>19</td>\n",
              "      <td>16</td>\n",
              "      <td>1</td>\n",
              "      <td>0</td>\n",
              "      <td>68.75</td>\n",
              "      <td>6</td>\n",
              "      <td>not out</td>\n",
              "      <td>2</td>\n",
              "      <td>NaN</td>\n",
              "      <td>v West Indies</td>\n",
              "      <td>Bulawayo</td>\n",
              "      <td>30 Jun 2001</td>\n",
              "      <td>ODI # 1731</td>\n",
              "    </tr>\n",
              "  </tbody>\n",
              "</table>\n",
              "</div>\n",
              "      <button class=\"colab-df-convert\" onclick=\"convertToInteractive('df-acedbc4a-48e8-4f66-ad39-b712d04efbe6')\"\n",
              "              title=\"Convert this dataframe to an interactive table.\"\n",
              "              style=\"display:none;\">\n",
              "        \n",
              "  <svg xmlns=\"http://www.w3.org/2000/svg\" height=\"24px\"viewBox=\"0 0 24 24\"\n",
              "       width=\"24px\">\n",
              "    <path d=\"M0 0h24v24H0V0z\" fill=\"none\"/>\n",
              "    <path d=\"M18.56 5.44l.94 2.06.94-2.06 2.06-.94-2.06-.94-.94-2.06-.94 2.06-2.06.94zm-11 1L8.5 8.5l.94-2.06 2.06-.94-2.06-.94L8.5 2.5l-.94 2.06-2.06.94zm10 10l.94 2.06.94-2.06 2.06-.94-2.06-.94-.94-2.06-.94 2.06-2.06.94z\"/><path d=\"M17.41 7.96l-1.37-1.37c-.4-.4-.92-.59-1.43-.59-.52 0-1.04.2-1.43.59L10.3 9.45l-7.72 7.72c-.78.78-.78 2.05 0 2.83L4 21.41c.39.39.9.59 1.41.59.51 0 1.02-.2 1.41-.59l7.78-7.78 2.81-2.81c.8-.78.8-2.07 0-2.86zM5.41 20L4 18.59l7.72-7.72 1.47 1.35L5.41 20z\"/>\n",
              "  </svg>\n",
              "      </button>\n",
              "      \n",
              "  <style>\n",
              "    .colab-df-container {\n",
              "      display:flex;\n",
              "      flex-wrap:wrap;\n",
              "      gap: 12px;\n",
              "    }\n",
              "\n",
              "    .colab-df-convert {\n",
              "      background-color: #E8F0FE;\n",
              "      border: none;\n",
              "      border-radius: 50%;\n",
              "      cursor: pointer;\n",
              "      display: none;\n",
              "      fill: #1967D2;\n",
              "      height: 32px;\n",
              "      padding: 0 0 0 0;\n",
              "      width: 32px;\n",
              "    }\n",
              "\n",
              "    .colab-df-convert:hover {\n",
              "      background-color: #E2EBFA;\n",
              "      box-shadow: 0px 1px 2px rgba(60, 64, 67, 0.3), 0px 1px 3px 1px rgba(60, 64, 67, 0.15);\n",
              "      fill: #174EA6;\n",
              "    }\n",
              "\n",
              "    [theme=dark] .colab-df-convert {\n",
              "      background-color: #3B4455;\n",
              "      fill: #D2E3FC;\n",
              "    }\n",
              "\n",
              "    [theme=dark] .colab-df-convert:hover {\n",
              "      background-color: #434B5C;\n",
              "      box-shadow: 0px 1px 3px 1px rgba(0, 0, 0, 0.15);\n",
              "      filter: drop-shadow(0px 1px 2px rgba(0, 0, 0, 0.3));\n",
              "      fill: #FFFFFF;\n",
              "    }\n",
              "  </style>\n",
              "\n",
              "      <script>\n",
              "        const buttonEl =\n",
              "          document.querySelector('#df-acedbc4a-48e8-4f66-ad39-b712d04efbe6 button.colab-df-convert');\n",
              "        buttonEl.style.display =\n",
              "          google.colab.kernel.accessAllowed ? 'block' : 'none';\n",
              "\n",
              "        async function convertToInteractive(key) {\n",
              "          const element = document.querySelector('#df-acedbc4a-48e8-4f66-ad39-b712d04efbe6');\n",
              "          const dataTable =\n",
              "            await google.colab.kernel.invokeFunction('convertToInteractive',\n",
              "                                                     [key], {});\n",
              "          if (!dataTable) return;\n",
              "\n",
              "          const docLinkHtml = 'Like what you see? Visit the ' +\n",
              "            '<a target=\"_blank\" href=https://colab.research.google.com/notebooks/data_table.ipynb>data table notebook</a>'\n",
              "            + ' to learn more about interactive tables.';\n",
              "          element.innerHTML = '';\n",
              "          dataTable['output_type'] = 'display_data';\n",
              "          await google.colab.output.renderOutput(dataTable, element);\n",
              "          const docLink = document.createElement('div');\n",
              "          docLink.innerHTML = docLinkHtml;\n",
              "          element.appendChild(docLink);\n",
              "        }\n",
              "      </script>\n",
              "    </div>\n",
              "  </div>\n",
              "  "
            ]
          },
          "metadata": {},
          "execution_count": 4
        }
      ],
      "source": [
        "sehwag.head()"
      ]
    },
    {
      "cell_type": "code",
      "execution_count": null,
      "id": "7c104a05",
      "metadata": {
        "colab": {
          "base_uri": "https://localhost:8080/"
        },
        "id": "7c104a05",
        "outputId": "d8de6a95-07ec-41bc-bff3-70e3ad6e3e0f"
      },
      "outputs": [
        {
          "output_type": "execute_result",
          "data": {
            "text/plain": [
              "(245, 14)"
            ]
          },
          "metadata": {},
          "execution_count": 5
        }
      ],
      "source": [
        "sehwag.shape"
      ]
    },
    {
      "cell_type": "code",
      "execution_count": null,
      "id": "24efc3ea",
      "metadata": {
        "colab": {
          "base_uri": "https://localhost:8080/"
        },
        "id": "24efc3ea",
        "outputId": "5036e0f8-4d6f-4e70-accb-f2a337833bee"
      },
      "outputs": [
        {
          "output_type": "execute_result",
          "data": {
            "text/plain": [
              "count    245.000000\n",
              "mean      33.767347\n",
              "std       34.809419\n",
              "min        0.000000\n",
              "25%        8.000000\n",
              "50%       23.000000\n",
              "75%       46.000000\n",
              "max      219.000000\n",
              "Name: Runs, dtype: float64"
            ]
          },
          "metadata": {},
          "execution_count": 6
        }
      ],
      "source": [
        "sehwag[\"Runs\"].describe()"
      ]
    },
    {
      "cell_type": "code",
      "execution_count": null,
      "id": "e1514915",
      "metadata": {
        "colab": {
          "base_uri": "https://localhost:8080/"
        },
        "id": "e1514915",
        "outputId": "190fcafa-affa-440c-fb68-313117e7b13a"
      },
      "outputs": [
        {
          "output_type": "execute_result",
          "data": {
            "text/plain": [
              "8.0"
            ]
          },
          "metadata": {},
          "execution_count": 7
        }
      ],
      "source": [
        "p_25 = np.percentile(sehwag[\"Runs\"],25) ## 25th percentile or Q1\n",
        "p_25"
      ]
    },
    {
      "cell_type": "code",
      "execution_count": null,
      "id": "f79bf488",
      "metadata": {
        "colab": {
          "base_uri": "https://localhost:8080/"
        },
        "id": "f79bf488",
        "outputId": "54093d5e-b5f8-4ea2-9be2-fc37beafa56b"
      },
      "outputs": [
        {
          "output_type": "execute_result",
          "data": {
            "text/plain": [
              "23.0"
            ]
          },
          "metadata": {},
          "execution_count": 8
        }
      ],
      "source": [
        "p_50 = np.percentile(sehwag[\"Runs\"],50) ## 50th percentile or Q2\n",
        "p_50"
      ]
    },
    {
      "cell_type": "code",
      "execution_count": null,
      "id": "c21670e6",
      "metadata": {
        "colab": {
          "base_uri": "https://localhost:8080/"
        },
        "id": "c21670e6",
        "outputId": "f4409485-9a9c-4627-e739-3c27e188c3aa"
      },
      "outputs": [
        {
          "output_type": "execute_result",
          "data": {
            "text/plain": [
              "46.0"
            ]
          },
          "metadata": {},
          "execution_count": 9
        }
      ],
      "source": [
        "p_75 = np.percentile(sehwag[\"Runs\"],75) ## 75th percentile or Q3\n",
        "p_75"
      ]
    },
    {
      "cell_type": "code",
      "execution_count": null,
      "id": "390df534",
      "metadata": {
        "colab": {
          "base_uri": "https://localhost:8080/"
        },
        "id": "390df534",
        "outputId": "26996cc3-21a4-4c1e-887b-6ac9618d3d6d"
      },
      "outputs": [
        {
          "output_type": "execute_result",
          "data": {
            "text/plain": [
              "38.0"
            ]
          },
          "metadata": {},
          "execution_count": 10
        }
      ],
      "source": [
        "iqr = p_75 - p_25\n",
        "iqr"
      ]
    },
    {
      "cell_type": "code",
      "execution_count": null,
      "id": "fd154464",
      "metadata": {
        "colab": {
          "base_uri": "https://localhost:8080/",
          "height": 285
        },
        "id": "fd154464",
        "outputId": "1d396274-3284-4b34-8dce-6ede165c44d1"
      },
      "outputs": [
        {
          "output_type": "execute_result",
          "data": {
            "text/plain": [
              "<Axes: >"
            ]
          },
          "metadata": {},
          "execution_count": 11
        },
        {
          "output_type": "display_data",
          "data": {
            "text/plain": [
              "<Figure size 640x480 with 1 Axes>"
            ],
            "image/png": "[encoded data removed]"
          },
          "metadata": {}
        }
      ],
      "source": [
        "sns.boxplot(data= sehwag[\"Runs\"], orient=\"h\")"
      ]
    },
    {
      "cell_type": "code",
      "execution_count": null,
      "id": "0fdd0073",
      "metadata": {
        "colab": {
          "base_uri": "https://localhost:8080/"
        },
        "id": "0fdd0073",
        "outputId": "28608375-3889-432d-fc24-4b2f10098888"
      },
      "outputs": [
        {
          "output_type": "execute_result",
          "data": {
            "text/plain": [
              "0"
            ]
          },
          "metadata": {},
          "execution_count": 12
        }
      ],
      "source": [
        "lower = max(p_25- 1.5*iqr, 0)\n",
        "lower"
      ]
    },
    {
      "cell_type": "code",
      "execution_count": null,
      "id": "5c266a23",
      "metadata": {
        "colab": {
          "base_uri": "https://localhost:8080/"
        },
        "id": "5c266a23",
        "outputId": "0f71e142-fe4f-46d5-d02b-82545c356d95"
      },
      "outputs": [
        {
          "output_type": "execute_result",
          "data": {
            "text/plain": [
              "103.0"
            ]
          },
          "metadata": {},
          "execution_count": 13
        }
      ],
      "source": [
        "upper = p_75 + 1.5*iqr\n",
        "upper"
      ]
    },
    {
      "cell_type": "code",
      "execution_count": null,
      "id": "7674c899",
      "metadata": {
        "id": "7674c899"
      },
      "outputs": [],
      "source": [
        "sehwag_outlier = sehwag[sehwag[\"Runs\"]>upper]"
      ]
    },
    {
      "cell_type": "code",
      "execution_count": null,
      "id": "b2d5a0a8",
      "metadata": {
        "colab": {
          "base_uri": "https://localhost:8080/"
        },
        "id": "b2d5a0a8",
        "outputId": "8c0380ad-a2b3-4a49-8c47-8031dfd01a14"
      },
      "outputs": [
        {
          "output_type": "execute_result",
          "data": {
            "text/plain": [
              "14"
            ]
          },
          "metadata": {},
          "execution_count": 15
        }
      ],
      "source": [
        "len(sehwag_outlier)"
      ]
    },
    {
      "cell_type": "code",
      "execution_count": null,
      "id": "40f5d396",
      "metadata": {
        "colab": {
          "base_uri": "https://localhost:8080/"
        },
        "id": "40f5d396",
        "outputId": "67918593-39ef-4b7c-e0df-76c43302d4d9"
      },
      "outputs": [
        {
          "output_type": "execute_result",
          "data": {
            "text/plain": [
              "5.714285714285714"
            ]
          },
          "metadata": {},
          "execution_count": 16
        }
      ],
      "source": [
        "14/245 *100 # percentage of matches where sehwag scores more than 103 runs"
      ]
    },
    {
      "cell_type": "code",
      "execution_count": null,
      "id": "af71f14b",
      "metadata": {
        "colab": {
          "base_uri": "https://localhost:8080/",
          "height": 730
        },
        "id": "af71f14b",
        "outputId": "0c78754c-5c03-4de8-fb76-2c47bfb8186b"
      },
      "outputs": [
        {
          "output_type": "execute_result",
          "data": {
            "text/plain": [
              "     Runs Mins  BF  4s  6s      SR  Pos Dismissal  Inns  Unnamed: 9  \\\n",
              "0       3    -   4   0   0   75.00    4    caught     1         NaN   \n",
              "1       4    -   7   0   0   57.14    4   run out     1         NaN   \n",
              "2       3    -   5   0   0   60.00    5    caught     2         NaN   \n",
              "3      11   28  21   0   0   52.38    8    caught     2         NaN   \n",
              "4      22   21  15   3   0  146.66    6   not out     1         NaN   \n",
              "..    ...  ...  ..  ..  ..     ...  ...       ...   ...         ...   \n",
              "313     2    8   6   0   0   33.33    3    caught     1         NaN   \n",
              "314    32   50  31   2   0  103.22    3    caught     1         NaN   \n",
              "315     2   19  11   0   0   18.18    3   run out     1         NaN   \n",
              "316    19   54  33   3   0   57.57    3    caught     1         NaN   \n",
              "317    69  107  79   4   0   87.34    3    bowled     1         NaN   \n",
              "\n",
              "         Opposition             Ground   Start Date Unnamed: 13  \n",
              "0       v Sri Lanka          Singapore   3 Apr 1996  ODI # 1089  \n",
              "1        v Pakistan          Singapore   5 Apr 1996  ODI # 1091  \n",
              "2        v Pakistan            Sharjah  12 Apr 1996  ODI # 1094  \n",
              "3    v South Africa            Sharjah  14 Apr 1996  ODI # 1097  \n",
              "4         v England         Manchester  26 May 1996  ODI # 1104  \n",
              "..              ...                ...          ...         ...  \n",
              "313       v England  Chester-le-Street   3 Sep 2011  ODI # 3186  \n",
              "314       v England        Southampton   6 Sep 2011  ODI # 3187  \n",
              "315       v England           The Oval   9 Sep 2011  ODI # 3189  \n",
              "316       v England             Lord's  11 Sep 2011  ODI # 3191  \n",
              "317       v England            Cardiff  16 Sep 2011  ODI # 3195  \n",
              "\n",
              "[318 rows x 14 columns]"
            ],
            "text/html": [
              "\n",
              "  <div id=\"df-0d2a4e36-8b0a-48b4-bcc7-066894f8dee6\">\n",
              "    <div class=\"colab-df-container\">\n",
              "      <div>\n",
              "<style scoped>\n",
              "    .dataframe tbody tr th:only-of-type {\n",
              "        vertical-align: middle;\n",
              "    }\n",
              "\n",
              "    .dataframe tbody tr th {\n",
              "        vertical-align: top;\n",
              "    }\n",
              "\n",
              "    .dataframe thead th {\n",
              "        text-align: right;\n",
              "    }\n",
              "</style>\n",
              "<table border=\"1\" class=\"dataframe\">\n",
              "  <thead>\n",
              "    <tr style=\"text-align: right;\">\n",
              "      <th></th>\n",
              "      <th>Runs</th>\n",
              "      <th>Mins</th>\n",
              "      <th>BF</th>\n",
              "      <th>4s</th>\n",
              "      <th>6s</th>\n",
              "      <th>SR</th>\n",
              "      <th>Pos</th>\n",
              "      <th>Dismissal</th>\n",
              "      <th>Inns</th>\n",
              "      <th>Unnamed: 9</th>\n",
              "      <th>Opposition</th>\n",
              "      <th>Ground</th>\n",
              "      <th>Start Date</th>\n",
              "      <th>Unnamed: 13</th>\n",
              "    </tr>\n",
              "  </thead>\n",
              "  <tbody>\n",
              "    <tr>\n",
              "      <th>0</th>\n",
              "      <td>3</td>\n",
              "      <td>-</td>\n",
              "      <td>4</td>\n",
              "      <td>0</td>\n",
              "      <td>0</td>\n",
              "      <td>75.00</td>\n",
              "      <td>4</td>\n",
              "      <td>caught</td>\n",
              "      <td>1</td>\n",
              "      <td>NaN</td>\n",
              "      <td>v Sri Lanka</td>\n",
              "      <td>Singapore</td>\n",
              "      <td>3 Apr 1996</td>\n",
              "      <td>ODI # 1089</td>\n",
              "    </tr>\n",
              "    <tr>\n",
              "      <th>1</th>\n",
              "      <td>4</td>\n",
              "      <td>-</td>\n",
              "      <td>7</td>\n",
              "      <td>0</td>\n",
              "      <td>0</td>\n",
              "      <td>57.14</td>\n",
              "      <td>4</td>\n",
              "      <td>run out</td>\n",
              "      <td>1</td>\n",
              "      <td>NaN</td>\n",
              "      <td>v Pakistan</td>\n",
              "      <td>Singapore</td>\n",
              "      <td>5 Apr 1996</td>\n",
              "      <td>ODI # 1091</td>\n",
              "    </tr>\n",
              "    <tr>\n",
              "      <th>2</th>\n",
              "      <td>3</td>\n",
              "      <td>-</td>\n",
              "      <td>5</td>\n",
              "      <td>0</td>\n",
              "      <td>0</td>\n",
              "      <td>60.00</td>\n",
              "      <td>5</td>\n",
              "      <td>caught</td>\n",
              "      <td>2</td>\n",
              "      <td>NaN</td>\n",
              "      <td>v Pakistan</td>\n",
              "      <td>Sharjah</td>\n",
              "      <td>12 Apr 1996</td>\n",
              "      <td>ODI # 1094</td>\n",
              "    </tr>\n",
              "    <tr>\n",
              "      <th>3</th>\n",
              "      <td>11</td>\n",
              "      <td>28</td>\n",
              "      <td>21</td>\n",
              "      <td>0</td>\n",
              "      <td>0</td>\n",
              "      <td>52.38</td>\n",
              "      <td>8</td>\n",
              "      <td>caught</td>\n",
              "      <td>2</td>\n",
              "      <td>NaN</td>\n",
              "      <td>v South Africa</td>\n",
              "      <td>Sharjah</td>\n",
              "      <td>14 Apr 1996</td>\n",
              "      <td>ODI # 1097</td>\n",
              "    </tr>\n",
              "    <tr>\n",
              "      <th>4</th>\n",
              "      <td>22</td>\n",
              "      <td>21</td>\n",
              "      <td>15</td>\n",
              "      <td>3</td>\n",
              "      <td>0</td>\n",
              "      <td>146.66</td>\n",
              "      <td>6</td>\n",
              "      <td>not out</td>\n",
              "      <td>1</td>\n",
              "      <td>NaN</td>\n",
              "      <td>v England</td>\n",
              "      <td>Manchester</td>\n",
              "      <td>26 May 1996</td>\n",
              "      <td>ODI # 1104</td>\n",
              "    </tr>\n",
              "    <tr>\n",
              "      <th>...</th>\n",
              "      <td>...</td>\n",
              "      <td>...</td>\n",
              "      <td>...</td>\n",
              "      <td>...</td>\n",
              "      <td>...</td>\n",
              "      <td>...</td>\n",
              "      <td>...</td>\n",
              "      <td>...</td>\n",
              "      <td>...</td>\n",
              "      <td>...</td>\n",
              "      <td>...</td>\n",
              "      <td>...</td>\n",
              "      <td>...</td>\n",
              "      <td>...</td>\n",
              "    </tr>\n",
              "    <tr>\n",
              "      <th>313</th>\n",
              "      <td>2</td>\n",
              "      <td>8</td>\n",
              "      <td>6</td>\n",
              "      <td>0</td>\n",
              "      <td>0</td>\n",
              "      <td>33.33</td>\n",
              "      <td>3</td>\n",
              "      <td>caught</td>\n",
              "      <td>1</td>\n",
              "      <td>NaN</td>\n",
              "      <td>v England</td>\n",
              "      <td>Chester-le-Street</td>\n",
              "      <td>3 Sep 2011</td>\n",
              "      <td>ODI # 3186</td>\n",
              "    </tr>\n",
              "    <tr>\n",
              "      <th>314</th>\n",
              "      <td>32</td>\n",
              "      <td>50</td>\n",
              "      <td>31</td>\n",
              "      <td>2</td>\n",
              "      <td>0</td>\n",
              "      <td>103.22</td>\n",
              "      <td>3</td>\n",
              "      <td>caught</td>\n",
              "      <td>1</td>\n",
              "      <td>NaN</td>\n",
              "      <td>v England</td>\n",
              "      <td>Southampton</td>\n",
              "      <td>6 Sep 2011</td>\n",
              "      <td>ODI # 3187</td>\n",
              "    </tr>\n",
              "    <tr>\n",
              "      <th>315</th>\n",
              "      <td>2</td>\n",
              "      <td>19</td>\n",
              "      <td>11</td>\n",
              "      <td>0</td>\n",
              "      <td>0</td>\n",
              "      <td>18.18</td>\n",
              "      <td>3</td>\n",
              "      <td>run out</td>\n",
              "      <td>1</td>\n",
              "      <td>NaN</td>\n",
              "      <td>v England</td>\n",
              "      <td>The Oval</td>\n",
              "      <td>9 Sep 2011</td>\n",
              "      <td>ODI # 3189</td>\n",
              "    </tr>\n",
              "    <tr>\n",
              "      <th>316</th>\n",
              "      <td>19</td>\n",
              "      <td>54</td>\n",
              "      <td>33</td>\n",
              "      <td>3</td>\n",
              "      <td>0</td>\n",
              "      <td>57.57</td>\n",
              "      <td>3</td>\n",
              "      <td>caught</td>\n",
              "      <td>1</td>\n",
              "      <td>NaN</td>\n",
              "      <td>v England</td>\n",
              "      <td>Lord's</td>\n",
              "      <td>11 Sep 2011</td>\n",
              "      <td>ODI # 3191</td>\n",
              "    </tr>\n",
              "    <tr>\n",
              "      <th>317</th>\n",
              "      <td>69</td>\n",
              "      <td>107</td>\n",
              "      <td>79</td>\n",
              "      <td>4</td>\n",
              "      <td>0</td>\n",
              "      <td>87.34</td>\n",
              "      <td>3</td>\n",
              "      <td>bowled</td>\n",
              "      <td>1</td>\n",
              "      <td>NaN</td>\n",
              "      <td>v England</td>\n",
              "      <td>Cardiff</td>\n",
              "      <td>16 Sep 2011</td>\n",
              "      <td>ODI # 3195</td>\n",
              "    </tr>\n",
              "  </tbody>\n",
              "</table>\n",
              "<p>318 rows × 14 columns</p>\n",
              "</div>\n",
              "      <button class=\"colab-df-convert\" onclick=\"convertToInteractive('df-0d2a4e36-8b0a-48b4-bcc7-066894f8dee6')\"\n",
              "              title=\"Convert this dataframe to an interactive table.\"\n",
              "              style=\"display:none;\">\n",
              "        \n",
              "  <svg xmlns=\"http://www.w3.org/2000/svg\" height=\"24px\"viewBox=\"0 0 24 24\"\n",
              "       width=\"24px\">\n",
              "    <path d=\"M0 0h24v24H0V0z\" fill=\"none\"/>\n",
              "    <path d=\"M18.56 5.44l.94 2.06.94-2.06 2.06-.94-2.06-.94-.94-2.06-.94 2.06-2.06.94zm-11 1L8.5 8.5l.94-2.06 2.06-.94-2.06-.94L8.5 2.5l-.94 2.06-2.06.94zm10 10l.94 2.06.94-2.06 2.06-.94-2.06-.94-.94-2.06-.94 2.06-2.06.94z\"/><path d=\"M17.41 7.96l-1.37-1.37c-.4-.4-.92-.59-1.43-.59-.52 0-1.04.2-1.43.59L10.3 9.45l-7.72 7.72c-.78.78-.78 2.05 0 2.83L4 21.41c.39.39.9.59 1.41.59.51 0 1.02-.2 1.41-.59l7.78-7.78 2.81-2.81c.8-.78.8-2.07 0-2.86zM5.41 20L4 18.59l7.72-7.72 1.47 1.35L5.41 20z\"/>\n",
              "  </svg>\n",
              "      </button>\n",
              "      \n",
              "  <style>\n",
              "    .colab-df-container {\n",
              "      display:flex;\n",
              "      flex-wrap:wrap;\n",
              "      gap: 12px;\n",
              "    }\n",
              "\n",
              "    .colab-df-convert {\n",
              "      background-color: #E8F0FE;\n",
              "      border: none;\n",
              "      border-radius: 50%;\n",
              "      cursor: pointer;\n",
              "      display: none;\n",
              "      fill: #1967D2;\n",
              "      height: 32px;\n",
              "      padding: 0 0 0 0;\n",
              "      width: 32px;\n",
              "    }\n",
              "\n",
              "    .colab-df-convert:hover {\n",
              "      background-color: #E2EBFA;\n",
              "      box-shadow: 0px 1px 2px rgba(60, 64, 67, 0.3), 0px 1px 3px 1px rgba(60, 64, 67, 0.15);\n",
              "      fill: #174EA6;\n",
              "    }\n",
              "\n",
              "    [theme=dark] .colab-df-convert {\n",
              "      background-color: #3B4455;\n",
              "      fill: #D2E3FC;\n",
              "    }\n",
              "\n",
              "    [theme=dark] .colab-df-convert:hover {\n",
              "      background-color: #434B5C;\n",
              "      box-shadow: 0px 1px 3px 1px rgba(0, 0, 0, 0.15);\n",
              "      filter: drop-shadow(0px 1px 2px rgba(0, 0, 0, 0.3));\n",
              "      fill: #FFFFFF;\n",
              "    }\n",
              "  </style>\n",
              "\n",
              "      <script>\n",
              "        const buttonEl =\n",
              "          document.querySelector('#df-0d2a4e36-8b0a-48b4-bcc7-066894f8dee6 button.colab-df-convert');\n",
              "        buttonEl.style.display =\n",
              "          google.colab.kernel.accessAllowed ? 'block' : 'none';\n",
              "\n",
              "        async function convertToInteractive(key) {\n",
              "          const element = document.querySelector('#df-0d2a4e36-8b0a-48b4-bcc7-066894f8dee6');\n",
              "          const dataTable =\n",
              "            await google.colab.kernel.invokeFunction('convertToInteractive',\n",
              "                                                     [key], {});\n",
              "          if (!dataTable) return;\n",
              "\n",
              "          const docLinkHtml = 'Like what you see? Visit the ' +\n",
              "            '<a target=\"_blank\" href=https://colab.research.google.com/notebooks/data_table.ipynb>data table notebook</a>'\n",
              "            + ' to learn more about interactive tables.';\n",
              "          element.innerHTML = '';\n",
              "          dataTable['output_type'] = 'display_data';\n",
              "          await google.colab.output.renderOutput(dataTable, element);\n",
              "          const docLink = document.createElement('div');\n",
              "          docLink.innerHTML = docLinkHtml;\n",
              "          element.appendChild(docLink);\n",
              "        }\n",
              "      </script>\n",
              "    </div>\n",
              "  </div>\n",
              "  "
            ]
          },
          "metadata": {},
          "execution_count": 17
        }
      ],
      "source": [
        "dravid"
      ]
    },
    {
      "cell_type": "code",
      "execution_count": null,
      "id": "c37bf6c3",
      "metadata": {
        "colab": {
          "base_uri": "https://localhost:8080/"
        },
        "id": "c37bf6c3",
        "outputId": "1c376a06-4674-4156-b7ef-5560bf55f2ec"
      },
      "outputs": [
        {
          "output_type": "execute_result",
          "data": {
            "text/plain": [
              "count    318.000000\n",
              "mean      34.242138\n",
              "std       29.681822\n",
              "min        0.000000\n",
              "25%       10.000000\n",
              "50%       26.000000\n",
              "75%       54.000000\n",
              "max      153.000000\n",
              "Name: Runs, dtype: float64"
            ]
          },
          "metadata": {},
          "execution_count": 18
        }
      ],
      "source": [
        "dravid[\"Runs\"].describe()"
      ]
    },
    {
      "cell_type": "code",
      "execution_count": null,
      "id": "a248c5ac",
      "metadata": {
        "colab": {
          "base_uri": "https://localhost:8080/"
        },
        "id": "a248c5ac",
        "outputId": "7893f995-1c6c-4ac2-ba8d-310987dc27c4"
      },
      "outputs": [
        {
          "output_type": "stream",
          "name": "stdout",
          "text": [
            "10.0 26.0 54.0\n"
          ]
        }
      ],
      "source": [
        "p_25 = dravid[\"Runs\"].quantile(0.25) # Q1 or p_25\n",
        "p_50 = dravid[\"Runs\"].quantile(0.5)  # Q2 or p_50 or median\n",
        "p_75 = dravid[\"Runs\"].quantile(0.75) # Q3 or p_75\n",
        "print(p_25, p_50, p_75)"
      ]
    },
    {
      "cell_type": "code",
      "execution_count": null,
      "id": "25af6a78",
      "metadata": {
        "colab": {
          "base_uri": "https://localhost:8080/"
        },
        "id": "25af6a78",
        "outputId": "86c0a8ab-6444-44da-9b5e-2e4109038c4b"
      },
      "outputs": [
        {
          "output_type": "execute_result",
          "data": {
            "text/plain": [
              "0"
            ]
          },
          "metadata": {},
          "execution_count": 20
        }
      ],
      "source": [
        "min(dravid[\"Runs\"])"
      ]
    },
    {
      "cell_type": "code",
      "execution_count": null,
      "id": "565c204e",
      "metadata": {
        "colab": {
          "base_uri": "https://localhost:8080/"
        },
        "id": "565c204e",
        "outputId": "2b8d6dee-39c6-4525-9462-91904f3c34a0"
      },
      "outputs": [
        {
          "output_type": "stream",
          "name": "stdout",
          "text": [
            "0 120.0\n",
            "44.0\n"
          ]
        }
      ],
      "source": [
        "iqr = p_75 - p_25 \n",
        "\n",
        "lower = max(p_25 - 1.5*iqr, 0)\n",
        "\n",
        "upper = p_75 + 1.5*iqr\n",
        "\n",
        "print(lower, upper)\n",
        "print(iqr)"
      ]
    },
    {
      "cell_type": "code",
      "execution_count": null,
      "id": "96219f88",
      "metadata": {
        "colab": {
          "base_uri": "https://localhost:8080/",
          "height": 280
        },
        "id": "96219f88",
        "outputId": "190b54a4-9ae5-4970-d32c-950ec0c875ee"
      },
      "outputs": [
        {
          "output_type": "execute_result",
          "data": {
            "text/plain": [
              "<Axes: >"
            ]
          },
          "metadata": {},
          "execution_count": 22
        },
        {
          "output_type": "display_data",
          "data": {
            "text/plain": [
              "<Figure size 640x480 with 1 Axes>"
            ],
            "image/png": "[encoded data removed]"
          },
          "metadata": {}
        }
      ],
      "source": [
        "sns.boxplot(data=dravid[\"Runs\"], orient=\"h\")"
      ]
    },
    {
      "cell_type": "code",
      "execution_count": null,
      "id": "54660ea0",
      "metadata": {
        "colab": {
          "base_uri": "https://localhost:8080/"
        },
        "id": "54660ea0",
        "outputId": "f165d7d1-8cf7-48e4-c3b4-4fc273e8f192"
      },
      "outputs": [
        {
          "output_type": "execute_result",
          "data": {
            "text/plain": [
              "3"
            ]
          },
          "metadata": {},
          "execution_count": 23
        }
      ],
      "source": [
        "dravid_outlier = dravid[dravid[\"Runs\"] > upper]\n",
        "len(dravid_outlier)"
      ]
    },
    {
      "cell_type": "code",
      "execution_count": null,
      "id": "d900dbf8",
      "metadata": {
        "colab": {
          "base_uri": "https://localhost:8080/"
        },
        "id": "d900dbf8",
        "outputId": "5b7b7bbc-ffbe-4839-e942-2028155ab8da"
      },
      "outputs": [
        {
          "output_type": "execute_result",
          "data": {
            "text/plain": [
              "0.9433962264150944"
            ]
          },
          "metadata": {},
          "execution_count": 24
        }
      ],
      "source": [
        "3/318*100"
      ]
    },
    {
      "cell_type": "code",
      "execution_count": null,
      "id": "29e150eb",
      "metadata": {
        "id": "29e150eb"
      },
      "outputs": [],
      "source": [
        "# 6% sehwag plays as an outlier\n",
        "# ~1% dravid is playing as an outlier"
      ]
    },
    {
      "cell_type": "code",
      "execution_count": null,
      "id": "44a8b91e",
      "metadata": {
        "id": "44a8b91e"
      },
      "outputs": [],
      "source": []
    },
    {
      "cell_type": "code",
      "execution_count": null,
      "id": "f485858d",
      "metadata": {
        "colab": {
          "base_uri": "https://localhost:8080/"
        },
        "id": "f485858d",
        "outputId": "d36bf4cf-5148-443e-beaa-fce176c9534d"
      },
      "outputs": [
        {
          "output_type": "execute_result",
          "data": {
            "text/plain": [
              "61      3\n",
              "30     12\n",
              "39     13\n",
              "90     16\n",
              "102    70\n",
              "Name: Runs, dtype: int64"
            ]
          },
          "metadata": {},
          "execution_count": 26
        }
      ],
      "source": [
        "sehwag[\"Runs\"].sample(5)"
      ]
    },
    {
      "cell_type": "code",
      "execution_count": null,
      "id": "9bd8670d",
      "metadata": {
        "colab": {
          "base_uri": "https://localhost:8080/"
        },
        "id": "9bd8670d",
        "outputId": "33411414-3270-410b-d620-76727aae5132"
      },
      "outputs": [
        {
          "output_type": "execute_result",
          "data": {
            "text/plain": [
              "57      3\n",
              "150    77\n",
              "254    18\n",
              "38     42\n",
              "24     17\n",
              "Name: Runs, dtype: int64"
            ]
          },
          "metadata": {},
          "execution_count": 27
        }
      ],
      "source": [
        "dravid[\"Runs\"].sample(5)"
      ]
    },
    {
      "cell_type": "code",
      "execution_count": null,
      "id": "cb6f6abb",
      "metadata": {
        "id": "cb6f6abb"
      },
      "outputs": [],
      "source": []
    },
    {
      "cell_type": "markdown",
      "id": "d4984c62",
      "metadata": {
        "id": "d4984c62"
      },
      "source": [
        "## Heights"
      ]
    },
    {
      "cell_type": "code",
      "execution_count": null,
      "id": "3bbbc4fb",
      "metadata": {
        "colab": {
          "base_uri": "https://localhost:8080/",
          "height": 423
        },
        "id": "3bbbc4fb",
        "outputId": "1b31ed4f-5418-4dce-cfc0-873cf91ce513"
      },
      "outputs": [
        {
          "output_type": "execute_result",
          "data": {
            "text/plain": [
              "      Gender     Height      Weight\n",
              "0       Male  73.847017  241.893563\n",
              "1       Male  68.781904  162.310473\n",
              "2       Male  74.110105  212.740856\n",
              "3       Male  71.730978  220.042470\n",
              "4       Male  69.881796  206.349801\n",
              "...      ...        ...         ...\n",
              "9995  Female  66.172652  136.777454\n",
              "9996  Female  67.067155  170.867906\n",
              "9997  Female  63.867992  128.475319\n",
              "9998  Female  69.034243  163.852461\n",
              "9999  Female  61.944246  113.649103\n",
              "\n",
              "[10000 rows x 3 columns]"
            ],
            "text/html": [
              "\n",
              "  <div id=\"df-fe553660-24f3-4b85-946f-53dd97665c9e\">\n",
              "    <div class=\"colab-df-container\">\n",
              "      <div>\n",
              "<style scoped>\n",
              "    .dataframe tbody tr th:only-of-type {\n",
              "        vertical-align: middle;\n",
              "    }\n",
              "\n",
              "    .dataframe tbody tr th {\n",
              "        vertical-align: top;\n",
              "    }\n",
              "\n",
              "    .dataframe thead th {\n",
              "        text-align: right;\n",
              "    }\n",
              "</style>\n",
              "<table border=\"1\" class=\"dataframe\">\n",
              "  <thead>\n",
              "    <tr style=\"text-align: right;\">\n",
              "      <th></th>\n",
              "      <th>Gender</th>\n",
              "      <th>Height</th>\n",
              "      <th>Weight</th>\n",
              "    </tr>\n",
              "  </thead>\n",
              "  <tbody>\n",
              "    <tr>\n",
              "      <th>0</th>\n",
              "      <td>Male</td>\n",
              "      <td>73.847017</td>\n",
              "      <td>241.893563</td>\n",
              "    </tr>\n",
              "    <tr>\n",
              "      <th>1</th>\n",
              "      <td>Male</td>\n",
              "      <td>68.781904</td>\n",
              "      <td>162.310473</td>\n",
              "    </tr>\n",
              "    <tr>\n",
              "      <th>2</th>\n",
              "      <td>Male</td>\n",
              "      <td>74.110105</td>\n",
              "      <td>212.740856</td>\n",
              "    </tr>\n",
              "    <tr>\n",
              "      <th>3</th>\n",
              "      <td>Male</td>\n",
              "      <td>71.730978</td>\n",
              "      <td>220.042470</td>\n",
              "    </tr>\n",
              "    <tr>\n",
              "      <th>4</th>\n",
              "      <td>Male</td>\n",
              "      <td>69.881796</td>\n",
              "      <td>206.349801</td>\n",
              "    </tr>\n",
              "    <tr>\n",
              "      <th>...</th>\n",
              "      <td>...</td>\n",
              "      <td>...</td>\n",
              "      <td>...</td>\n",
              "    </tr>\n",
              "    <tr>\n",
              "      <th>9995</th>\n",
              "      <td>Female</td>\n",
              "      <td>66.172652</td>\n",
              "      <td>136.777454</td>\n",
              "    </tr>\n",
              "    <tr>\n",
              "      <th>9996</th>\n",
              "      <td>Female</td>\n",
              "      <td>67.067155</td>\n",
              "      <td>170.867906</td>\n",
              "    </tr>\n",
              "    <tr>\n",
              "      <th>9997</th>\n",
              "      <td>Female</td>\n",
              "      <td>63.867992</td>\n",
              "      <td>128.475319</td>\n",
              "    </tr>\n",
              "    <tr>\n",
              "      <th>9998</th>\n",
              "      <td>Female</td>\n",
              "      <td>69.034243</td>\n",
              "      <td>163.852461</td>\n",
              "    </tr>\n",
              "    <tr>\n",
              "      <th>9999</th>\n",
              "      <td>Female</td>\n",
              "      <td>61.944246</td>\n",
              "      <td>113.649103</td>\n",
              "    </tr>\n",
              "  </tbody>\n",
              "</table>\n",
              "<p>10000 rows × 3 columns</p>\n",
              "</div>\n",
              "      <button class=\"colab-df-convert\" onclick=\"convertToInteractive('df-fe553660-24f3-4b85-946f-53dd97665c9e')\"\n",
              "              title=\"Convert this dataframe to an interactive table.\"\n",
              "              style=\"display:none;\">\n",
              "        \n",
              "  <svg xmlns=\"http://www.w3.org/2000/svg\" height=\"24px\"viewBox=\"0 0 24 24\"\n",
              "       width=\"24px\">\n",
              "    <path d=\"M0 0h24v24H0V0z\" fill=\"none\"/>\n",
              "    <path d=\"M18.56 5.44l.94 2.06.94-2.06 2.06-.94-2.06-.94-.94-2.06-.94 2.06-2.06.94zm-11 1L8.5 8.5l.94-2.06 2.06-.94-2.06-.94L8.5 2.5l-.94 2.06-2.06.94zm10 10l.94 2.06.94-2.06 2.06-.94-2.06-.94-.94-2.06-.94 2.06-2.06.94z\"/><path d=\"M17.41 7.96l-1.37-1.37c-.4-.4-.92-.59-1.43-.59-.52 0-1.04.2-1.43.59L10.3 9.45l-7.72 7.72c-.78.78-.78 2.05 0 2.83L4 21.41c.39.39.9.59 1.41.59.51 0 1.02-.2 1.41-.59l7.78-7.78 2.81-2.81c.8-.78.8-2.07 0-2.86zM5.41 20L4 18.59l7.72-7.72 1.47 1.35L5.41 20z\"/>\n",
              "  </svg>\n",
              "      </button>\n",
              "      \n",
              "  <style>\n",
              "    .colab-df-container {\n",
              "      display:flex;\n",
              "      flex-wrap:wrap;\n",
              "      gap: 12px;\n",
              "    }\n",
              "\n",
              "    .colab-df-convert {\n",
              "      background-color: #E8F0FE;\n",
              "      border: none;\n",
              "      border-radius: 50%;\n",
              "      cursor: pointer;\n",
              "      display: none;\n",
              "      fill: #1967D2;\n",
              "      height: 32px;\n",
              "      padding: 0 0 0 0;\n",
              "      width: 32px;\n",
              "    }\n",
              "\n",
              "    .colab-df-convert:hover {\n",
              "      background-color: #E2EBFA;\n",
              "      box-shadow: 0px 1px 2px rgba(60, 64, 67, 0.3), 0px 1px 3px 1px rgba(60, 64, 67, 0.15);\n",
              "      fill: #174EA6;\n",
              "    }\n",
              "\n",
              "    [theme=dark] .colab-df-convert {\n",
              "      background-color: #3B4455;\n",
              "      fill: #D2E3FC;\n",
              "    }\n",
              "\n",
              "    [theme=dark] .colab-df-convert:hover {\n",
              "      background-color: #434B5C;\n",
              "      box-shadow: 0px 1px 3px 1px rgba(0, 0, 0, 0.15);\n",
              "      filter: drop-shadow(0px 1px 2px rgba(0, 0, 0, 0.3));\n",
              "      fill: #FFFFFF;\n",
              "    }\n",
              "  </style>\n",
              "\n",
              "      <script>\n",
              "        const buttonEl =\n",
              "          document.querySelector('#df-fe553660-24f3-4b85-946f-53dd97665c9e button.colab-df-convert');\n",
              "        buttonEl.style.display =\n",
              "          google.colab.kernel.accessAllowed ? 'block' : 'none';\n",
              "\n",
              "        async function convertToInteractive(key) {\n",
              "          const element = document.querySelector('#df-fe553660-24f3-4b85-946f-53dd97665c9e');\n",
              "          const dataTable =\n",
              "            await google.colab.kernel.invokeFunction('convertToInteractive',\n",
              "                                                     [key], {});\n",
              "          if (!dataTable) return;\n",
              "\n",
              "          const docLinkHtml = 'Like what you see? Visit the ' +\n",
              "            '<a target=\"_blank\" href=https://colab.research.google.com/notebooks/data_table.ipynb>data table notebook</a>'\n",
              "            + ' to learn more about interactive tables.';\n",
              "          element.innerHTML = '';\n",
              "          dataTable['output_type'] = 'display_data';\n",
              "          await google.colab.output.renderOutput(dataTable, element);\n",
              "          const docLink = document.createElement('div');\n",
              "          docLink.innerHTML = docLinkHtml;\n",
              "          element.appendChild(docLink);\n",
              "        }\n",
              "      </script>\n",
              "    </div>\n",
              "  </div>\n",
              "  "
            ]
          },
          "metadata": {},
          "execution_count": 28
        }
      ],
      "source": [
        "df_hw = pd.read_csv(\"weight-height.csv\")\n",
        "df_hw"
      ]
    },
    {
      "cell_type": "code",
      "execution_count": null,
      "id": "3714e720",
      "metadata": {
        "colab": {
          "base_uri": "https://localhost:8080/"
        },
        "id": "3714e720",
        "outputId": "55733f1b-c9b9-42e2-d43c-a5933f301e5b"
      },
      "outputs": [
        {
          "output_type": "execute_result",
          "data": {
            "text/plain": [
              "count    10000.000000\n",
              "mean        66.367560\n",
              "std          3.847528\n",
              "min         54.263133\n",
              "25%         63.505620\n",
              "50%         66.318070\n",
              "75%         69.174262\n",
              "max         78.998742\n",
              "Name: Height, dtype: float64"
            ]
          },
          "metadata": {},
          "execution_count": 29
        }
      ],
      "source": [
        "df_hw[\"Height\"].describe()"
      ]
    },
    {
      "cell_type": "code",
      "execution_count": null,
      "id": "7c920f02",
      "metadata": {
        "id": "7c920f02"
      },
      "outputs": [],
      "source": [
        "df_height = df_hw[\"Height\"]"
      ]
    },
    {
      "cell_type": "code",
      "execution_count": null,
      "id": "6d88b6f3",
      "metadata": {
        "colab": {
          "base_uri": "https://localhost:8080/"
        },
        "id": "6d88b6f3",
        "outputId": "b04d901c-8348-4a36-943b-6165b448bcf0"
      },
      "outputs": [
        {
          "output_type": "execute_result",
          "data": {
            "text/plain": [
              "54.2631333250971"
            ]
          },
          "metadata": {},
          "execution_count": 31
        }
      ],
      "source": [
        "min_height = df_height.min()\n",
        "min_height"
      ]
    },
    {
      "cell_type": "code",
      "execution_count": null,
      "id": "6e49b4a4",
      "metadata": {
        "colab": {
          "base_uri": "https://localhost:8080/"
        },
        "id": "6e49b4a4",
        "outputId": "0df1e862-5c5f-4116-f9df-ae163b13fcc1"
      },
      "outputs": [
        {
          "output_type": "execute_result",
          "data": {
            "text/plain": [
              "78.9987423463896"
            ]
          },
          "metadata": {},
          "execution_count": 32
        }
      ],
      "source": [
        "max_height = df_height.max()\n",
        "max_height"
      ]
    },
    {
      "cell_type": "code",
      "execution_count": null,
      "id": "a280e1c2",
      "metadata": {
        "id": "a280e1c2"
      },
      "outputs": [],
      "source": [
        "total = len(df_height)"
      ]
    },
    {
      "cell_type": "code",
      "execution_count": null,
      "id": "e14d1025",
      "metadata": {
        "colab": {
          "base_uri": "https://localhost:8080/"
        },
        "id": "e14d1025",
        "outputId": "296492d7-03e9-4b59-a720-6b5120daa5f7"
      },
      "outputs": [
        {
          "output_type": "execute_result",
          "data": {
            "text/plain": [
              "10000"
            ]
          },
          "metadata": {},
          "execution_count": 34
        }
      ],
      "source": [
        "total"
      ]
    },
    {
      "cell_type": "code",
      "execution_count": null,
      "id": "7c21b02a",
      "metadata": {
        "colab": {
          "base_uri": "https://localhost:8080/",
          "height": 294
        },
        "id": "7c21b02a",
        "outputId": "a41e750f-7f87-4d2d-9e15-79ac032e6990"
      },
      "outputs": [
        {
          "output_type": "execute_result",
          "data": {
            "text/plain": [
              "[<matplotlib.lines.Line2D at 0x7f01791a9660>]"
            ]
          },
          "metadata": {},
          "execution_count": 35
        },
        {
          "output_type": "display_data",
          "data": {
            "text/plain": [
              "<Figure size 640x480 with 1 Axes>"
            ],
            "image/png": "[encoded data removed]"
          },
          "metadata": {}
        }
      ],
      "source": [
        "x_values = np.linspace(min_height, max_height, 1000)\n",
        "y_values = []\n",
        "\n",
        "for x in x_values:\n",
        "    people_shorter_than_x = df_height[df_height<=x]\n",
        "    \n",
        "    num_people_shorter_than_x = len(people_shorter_than_x)\n",
        "    \n",
        "    frac_people_shorter_than_x = num_people_shorter_than_x/len(df_height)\n",
        "    \n",
        "    y_values.append(frac_people_shorter_than_x)\n",
        "    \n",
        "plt.plot(x_values, y_values)"
      ]
    },
    {
      "cell_type": "code",
      "execution_count": null,
      "id": "c3267133",
      "metadata": {
        "id": "c3267133"
      },
      "outputs": [],
      "source": [
        "e = ECDF(df_height)"
      ]
    },
    {
      "cell_type": "code",
      "execution_count": null,
      "id": "e2e62a19",
      "metadata": {
        "colab": {
          "base_uri": "https://localhost:8080/"
        },
        "id": "e2e62a19",
        "outputId": "9d283821-757d-4780-8f9c-ba36ddd853cb"
      },
      "outputs": [
        {
          "output_type": "execute_result",
          "data": {
            "text/plain": [
              "array([       -inf, 54.26313333, 54.61685783, ..., 78.52821043,\n",
              "       78.62137397, 78.99874235])"
            ]
          },
          "metadata": {},
          "execution_count": 37
        }
      ],
      "source": [
        "e.x"
      ]
    },
    {
      "cell_type": "code",
      "execution_count": null,
      "id": "df61bb69",
      "metadata": {
        "colab": {
          "base_uri": "https://localhost:8080/"
        },
        "id": "df61bb69",
        "outputId": "734c8d20-b80a-4984-ea69-9df04f3680fc"
      },
      "outputs": [
        {
          "output_type": "execute_result",
          "data": {
            "text/plain": [
              "array([0.000e+00, 1.000e-04, 2.000e-04, ..., 9.998e-01, 9.999e-01,\n",
              "       1.000e+00])"
            ]
          },
          "metadata": {},
          "execution_count": 38
        }
      ],
      "source": [
        "e.y"
      ]
    },
    {
      "cell_type": "code",
      "execution_count": null,
      "id": "dd8a7d9b",
      "metadata": {
        "colab": {
          "base_uri": "https://localhost:8080/",
          "height": 294
        },
        "id": "dd8a7d9b",
        "outputId": "f48b9536-f772-4deb-b207-a2bb2bbe791b"
      },
      "outputs": [
        {
          "output_type": "execute_result",
          "data": {
            "text/plain": [
              "[<matplotlib.lines.Line2D at 0x7f0179216500>]"
            ]
          },
          "metadata": {},
          "execution_count": 39
        },
        {
          "output_type": "display_data",
          "data": {
            "text/plain": [
              "<Figure size 640x480 with 1 Axes>"
            ],
            "image/png": "[encoded data removed]"
          },
          "metadata": {}
        }
      ],
      "source": [
        "plt.plot(e.x, e.y)"
      ]
    },
    {
      "cell_type": "code",
      "execution_count": null,
      "id": "c5907338",
      "metadata": {
        "colab": {
          "base_uri": "https://localhost:8080/"
        },
        "id": "c5907338",
        "outputId": "91d7f6bf-07f3-4073-e807-ea30480aa1ac"
      },
      "outputs": [
        {
          "output_type": "execute_result",
          "data": {
            "text/plain": [
              "0       73.847017\n",
              "1       68.781904\n",
              "2       74.110105\n",
              "3       71.730978\n",
              "4       69.881796\n",
              "          ...    \n",
              "9995    66.172652\n",
              "9996    67.067155\n",
              "9997    63.867992\n",
              "9998    69.034243\n",
              "9999    61.944246\n",
              "Name: Height, Length: 10000, dtype: float64"
            ]
          },
          "metadata": {},
          "execution_count": 40
        }
      ],
      "source": [
        "df_height"
      ]
    },
    {
      "cell_type": "code",
      "execution_count": null,
      "id": "924ecf88",
      "metadata": {
        "colab": {
          "base_uri": "https://localhost:8080/",
          "height": 295
        },
        "id": "924ecf88",
        "outputId": "b70b9217-ec76-44a4-93f1-b29ec7475e09"
      },
      "outputs": [
        {
          "output_type": "execute_result",
          "data": {
            "text/plain": [
              "<Axes: xlabel='Height', ylabel='Count'>"
            ]
          },
          "metadata": {},
          "execution_count": 41
        },
        {
          "output_type": "display_data",
          "data": {
            "text/plain": [
              "<Figure size 640x480 with 1 Axes>"
            ],
            "image/png": "[encoded data removed]"
          },
          "metadata": {}
        }
      ],
      "source": [
        "sns.histplot(df_height)"
      ]
    },
    {
      "cell_type": "code",
      "execution_count": null,
      "id": "89af61ba",
      "metadata": {
        "colab": {
          "base_uri": "https://localhost:8080/"
        },
        "id": "89af61ba",
        "outputId": "8d443bb4-9868-4572-f3dd-82684d4436e3"
      },
      "outputs": [
        {
          "output_type": "execute_result",
          "data": {
            "text/plain": [
              "66.36755975482124"
            ]
          },
          "metadata": {},
          "execution_count": 42
        }
      ],
      "source": [
        "df_height.mean()"
      ]
    },
    {
      "cell_type": "code",
      "execution_count": null,
      "id": "753d1099",
      "metadata": {
        "colab": {
          "base_uri": "https://localhost:8080/"
        },
        "id": "753d1099",
        "outputId": "4f453e7b-1d58-4d30-a322-1fb196399b39"
      },
      "outputs": [
        {
          "output_type": "execute_result",
          "data": {
            "text/plain": [
              "count    10000.000000\n",
              "mean        66.367560\n",
              "std          3.847528\n",
              "min         54.263133\n",
              "25%         63.505620\n",
              "50%         66.318070\n",
              "75%         69.174262\n",
              "max         78.998742\n",
              "Name: Height, dtype: float64"
            ]
          },
          "metadata": {},
          "execution_count": 43
        }
      ],
      "source": [
        "df_height.describe()"
      ]
    },
    {
      "cell_type": "code",
      "execution_count": null,
      "id": "8595dc6d",
      "metadata": {
        "id": "8595dc6d",
        "colab": {
          "base_uri": "https://localhost:8080/"
        },
        "outputId": "b07527ff-1f0d-4e51-ac07-fc5456845f0a"
      },
      "outputs": [
        {
          "output_type": "execute_result",
          "data": {
            "text/plain": [
              "55.0"
            ]
          },
          "metadata": {},
          "execution_count": 44
        }
      ],
      "source": [
        "np.percentile([10,20,30,40,50,60,70,80,90,100],50)"
      ]
    },
    {
      "cell_type": "code",
      "execution_count": null,
      "id": "72cd4b8d",
      "metadata": {
        "id": "72cd4b8d"
      },
      "outputs": [],
      "source": []
    },
    {
      "cell_type": "code",
      "execution_count": null,
      "id": "6d3ba5bb",
      "metadata": {
        "id": "6d3ba5bb"
      },
      "outputs": [],
      "source": []
    },
    {
      "cell_type": "code",
      "execution_count": null,
      "id": "aad3789a",
      "metadata": {
        "id": "aad3789a"
      },
      "outputs": [],
      "source": []
    },
    {
      "cell_type": "code",
      "execution_count": null,
      "id": "35a6c8fd",
      "metadata": {
        "id": "35a6c8fd"
      },
      "outputs": [],
      "source": []
    },
    {
      "cell_type": "code",
      "execution_count": null,
      "id": "e5b80c2b",
      "metadata": {
        "id": "e5b80c2b"
      },
      "outputs": [],
      "source": []
    },
    {
      "cell_type": "code",
      "execution_count": null,
      "id": "bd3a0ec3",
      "metadata": {
        "id": "bd3a0ec3"
      },
      "outputs": [],
      "source": []
    }
  ],
  "metadata": {
    "kernelspec": {
      "display_name": "Python 3 (ipykernel)",
      "language": "python",
      "name": "python3"
    },
    "language_info": {
      "codemirror_mode": {
        "name": "ipython",
        "version": 3
      },
      "file_extension": ".py",
      "mimetype": "text/x-python",
      "name": "python",
      "nbconvert_exporter": "python",
      "pygments_lexer": "ipython3",
      "version": "3.9.12"
    },
    "colab": {
      "provenance": [],
      "include_colab_link": true
    }
  },
  "nbformat": 4,
  "nbformat_minor": 5
}