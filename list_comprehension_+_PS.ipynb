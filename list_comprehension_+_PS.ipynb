{
  "nbformat": 4,
  "nbformat_minor": 0,
  "metadata": {
    "colab": {
      "provenance": [],
      "include_colab_link": true
    },
    "kernelspec": {
      "name": "python3",
      "display_name": "Python 3"
    },
    "language_info": {
      "name": "python"
    }
  },
  "cells": [
    {
      "cell_type": "markdown",
      "metadata": {
        "id": "view-in-github",
        "colab_type": "text"
      },
      "source": [
        "<a href=\"https://colab.research.google.com/github/gchn24/DS-Notes/blob/main/list_comprehension_%2B_PS.ipynb\" target=\"_parent\"><img src=\"https://colab.research.google.com/assets/colab-badge.svg\" alt=\"Open In Colab\"/></a>"
      ]
    },
    {
      "cell_type": "code",
      "execution_count": null,
      "metadata": {
        "id": "sXCp7ohTFpiI"
      },
      "outputs": [],
      "source": [
        "'''\n",
        "Given a list, create a new list which contains the cube of the given elements\n",
        "\n",
        "a = [1,2,3]\n",
        "b = [1, 8, 27]\n",
        "'''\n",
        "\n"
      ]
    },
    {
      "cell_type": "code",
      "source": [
        "a = [1,2,3]\n",
        "b = []\n",
        "\n",
        "for elem in a:\n",
        "  b.append(elem**3)"
      ],
      "metadata": {
        "id": "sxlX6OqIGuWB"
      },
      "execution_count": null,
      "outputs": []
    },
    {
      "cell_type": "code",
      "source": [
        "print(b)"
      ],
      "metadata": {
        "colab": {
          "base_uri": "https://localhost:8080/"
        },
        "id": "pDKV17bmG1kh",
        "outputId": "fe6aa8e7-170e-4feb-c126-929285364499"
      },
      "execution_count": null,
      "outputs": [
        {
          "output_type": "stream",
          "name": "stdout",
          "text": [
            "[1, 8, 27]\n"
          ]
        }
      ]
    },
    {
      "cell_type": "code",
      "source": [
        "a = [1,2,3]"
      ],
      "metadata": {
        "id": "_yWZzIThINsg"
      },
      "execution_count": null,
      "outputs": []
    },
    {
      "cell_type": "code",
      "source": [
        "b = [ elem**3 for elem in a]"
      ],
      "metadata": {
        "id": "rHy1Yi04G2Nt"
      },
      "execution_count": null,
      "outputs": []
    },
    {
      "cell_type": "code",
      "source": [
        "print(b)"
      ],
      "metadata": {
        "colab": {
          "base_uri": "https://localhost:8080/"
        },
        "id": "dCHrsjGwIOeo",
        "outputId": "91b33ca0-437a-4ece-82da-fcb83247a710"
      },
      "execution_count": null,
      "outputs": [
        {
          "output_type": "stream",
          "name": "stdout",
          "text": [
            "[1, 8, 27]\n"
          ]
        }
      ]
    },
    {
      "cell_type": "code",
      "source": [
        "'''\n",
        "Given a list, create a new list that contains the twice of each of the number in the list.\n",
        "Use List Comprehension\n",
        "'''"
      ],
      "metadata": {
        "colab": {
          "base_uri": "https://localhost:8080/",
          "height": 53
        },
        "id": "T4uNDXDbIPU8",
        "outputId": "78ba88b4-4695-4784-d33e-aafdc36c2b70"
      },
      "execution_count": null,
      "outputs": [
        {
          "output_type": "execute_result",
          "data": {
            "text/plain": [
              "'\\nGiven a list, create a new list that contains the twice of each of the number in the list.\\nUse List Comprehension\\n'"
            ],
            "application/vnd.google.colaboratory.intrinsic+json": {
              "type": "string"
            }
          },
          "metadata": {},
          "execution_count": 6
        }
      ]
    },
    {
      "cell_type": "code",
      "source": [
        "a = [3,2,1]\n",
        "b = []\n",
        "for elem in a:\n",
        "  b.append(elem*2)\n",
        "\n",
        "print(b)"
      ],
      "metadata": {
        "colab": {
          "base_uri": "https://localhost:8080/"
        },
        "id": "ZOyKou-YIp1U",
        "outputId": "e5961550-eff4-4581-9e96-49aac456dd00"
      },
      "execution_count": null,
      "outputs": [
        {
          "output_type": "stream",
          "name": "stdout",
          "text": [
            "[6, 4, 2]\n"
          ]
        }
      ]
    },
    {
      "cell_type": "code",
      "source": [
        "b = [ elem*2 for elem in a]"
      ],
      "metadata": {
        "id": "EZfSrdMvI39u"
      },
      "execution_count": null,
      "outputs": []
    },
    {
      "cell_type": "code",
      "source": [
        "print(b)"
      ],
      "metadata": {
        "colab": {
          "base_uri": "https://localhost:8080/"
        },
        "id": "HEiEmvBzJB2y",
        "outputId": "520036ad-3ff8-4d0d-96a8-29f35bf63b54"
      },
      "execution_count": null,
      "outputs": [
        {
          "output_type": "stream",
          "name": "stdout",
          "text": [
            "[6, 4, 2]\n"
          ]
        }
      ]
    },
    {
      "cell_type": "code",
      "source": [
        "'''\n",
        "Given a list of numbers, create a new list with all the numbers other than 5 - skip 5\n",
        "\n",
        "Write both codes -\n",
        "1. Simple for loop\n",
        "2. List comprehension\n",
        "'''\n",
        "\n",
        "a = [4,3,5,6,7]\n",
        "b = [4,3,6,7]"
      ],
      "metadata": {
        "id": "KnWdTwRjJCh7"
      },
      "execution_count": null,
      "outputs": []
    },
    {
      "cell_type": "code",
      "source": [
        "#version1\n",
        "a = [4,3,5,6,7]\n",
        "b = []\n",
        "for elem in a:\n",
        "  if elem != 5:\n",
        "    b.append(elem)\n",
        "\n",
        "\n",
        "print(b)"
      ],
      "metadata": {
        "colab": {
          "base_uri": "https://localhost:8080/"
        },
        "id": "199AJJIcJlnx",
        "outputId": "d18a06a6-9626-42c1-f4e2-ffa9c247df6a"
      },
      "execution_count": null,
      "outputs": [
        {
          "output_type": "stream",
          "name": "stdout",
          "text": [
            "[4, 3, 6, 7]\n"
          ]
        }
      ]
    },
    {
      "cell_type": "code",
      "source": [
        "b = [elem for elem in a if elem != 5]"
      ],
      "metadata": {
        "id": "BJK1qxr5KUJC"
      },
      "execution_count": null,
      "outputs": []
    },
    {
      "cell_type": "code",
      "source": [
        "print(b)"
      ],
      "metadata": {
        "colab": {
          "base_uri": "https://localhost:8080/"
        },
        "id": "xoHywNUuKq5O",
        "outputId": "bb1e425d-4439-4c7d-8a8d-51c3d2f8616f"
      },
      "execution_count": null,
      "outputs": [
        {
          "output_type": "stream",
          "name": "stdout",
          "text": [
            "[4, 3, 6, 7]\n"
          ]
        }
      ]
    },
    {
      "cell_type": "code",
      "source": [
        "'''\n",
        "Given a list, create a new list that contains the same number if it is even and contains the twice of the number, if it is odd\n",
        "'''\n",
        "\n",
        "a = [3,5,2,4]\n",
        "b = [6, 10, 2, 4]"
      ],
      "metadata": {
        "id": "BkZSksW9KsPR"
      },
      "execution_count": null,
      "outputs": []
    },
    {
      "cell_type": "code",
      "source": [
        "def check(n):\n",
        "  if n%2 ==0:\n",
        "    return n\n",
        "  else:\n",
        "    return n*2"
      ],
      "metadata": {
        "id": "KyuZb7aIMYXN"
      },
      "execution_count": null,
      "outputs": []
    },
    {
      "cell_type": "code",
      "source": [
        "a = [3,5,2,4]\n",
        "b = []\n",
        "for elem in a:\n",
        "  b.append(check(elem))\n",
        "\n",
        "print(b)"
      ],
      "metadata": {
        "colab": {
          "base_uri": "https://localhost:8080/"
        },
        "id": "ugU5cQ9sMESC",
        "outputId": "d8ac68ec-b147-474e-d2fa-108694754635"
      },
      "execution_count": null,
      "outputs": [
        {
          "output_type": "stream",
          "name": "stdout",
          "text": [
            "[6, 10, 2, 4]\n"
          ]
        }
      ]
    },
    {
      "cell_type": "code",
      "source": [
        "c = [check(elem) for elem in a]"
      ],
      "metadata": {
        "id": "_EomJ-d4Ml19"
      },
      "execution_count": null,
      "outputs": []
    },
    {
      "cell_type": "code",
      "source": [
        "print(c)"
      ],
      "metadata": {
        "colab": {
          "base_uri": "https://localhost:8080/"
        },
        "id": "yVztlgrOM3JW",
        "outputId": "9d58bc26-6f5b-4f5e-acba-959b7f2f2a16"
      },
      "execution_count": null,
      "outputs": [
        {
          "output_type": "stream",
          "name": "stdout",
          "text": [
            "[6, 10, 2, 4]\n"
          ]
        }
      ]
    },
    {
      "cell_type": "code",
      "source": [
        "d = [elem if elem%2 ==0 else elem*2 for elem in a]"
      ],
      "metadata": {
        "id": "hfmbFLlsM35V"
      },
      "execution_count": null,
      "outputs": []
    },
    {
      "cell_type": "code",
      "source": [
        "print(d)"
      ],
      "metadata": {
        "colab": {
          "base_uri": "https://localhost:8080/"
        },
        "id": "YjzFyXjMNSVE",
        "outputId": "539322a4-adc9-421c-b9f4-0ac472c93ec7"
      },
      "execution_count": null,
      "outputs": [
        {
          "output_type": "stream",
          "name": "stdout",
          "text": [
            "[6, 10, 2, 4]\n"
          ]
        }
      ]
    },
    {
      "cell_type": "code",
      "source": [
        "a = [\"a\",\"b\",\"c\"]\n",
        "b = [\"1\", \"2\", \"3\"]\n",
        "\n",
        "for i in a:\n",
        "  for j in b:\n",
        "    print(i+j, end = \" \")\n",
        "    "
      ],
      "metadata": {
        "colab": {
          "base_uri": "https://localhost:8080/"
        },
        "id": "zgR3jyJrNTEh",
        "outputId": "ce748b0e-c5ed-4b67-978b-580263700e0e"
      },
      "execution_count": null,
      "outputs": [
        {
          "output_type": "stream",
          "name": "stdout",
          "text": [
            "<class 'str'>\n",
            "<class 'str'>\n",
            "<class 'str'>\n",
            "<class 'str'>\n",
            "<class 'str'>\n",
            "<class 'str'>\n",
            "<class 'str'>\n",
            "<class 'str'>\n",
            "<class 'str'>\n"
          ]
        }
      ]
    },
    {
      "cell_type": "code",
      "source": [
        "e = [i+j for i in a for j in b]"
      ],
      "metadata": {
        "id": "607hMpD0OTbk"
      },
      "execution_count": null,
      "outputs": []
    },
    {
      "cell_type": "code",
      "source": [
        "print(e)"
      ],
      "metadata": {
        "colab": {
          "base_uri": "https://localhost:8080/"
        },
        "id": "EHelfhr2OpUE",
        "outputId": "1529515c-3421-4560-ac94-1e6c58cb2434"
      },
      "execution_count": null,
      "outputs": [
        {
          "output_type": "stream",
          "name": "stdout",
          "text": [
            "['a1', 'a2', 'a3', 'b1', 'b2', 'b3', 'c1', 'c2', 'c3']\n"
          ]
        }
      ]
    },
    {
      "cell_type": "code",
      "source": [],
      "metadata": {
        "id": "-j0csioqOtCY"
      },
      "execution_count": null,
      "outputs": []
    },
    {
      "cell_type": "code",
      "source": [
        "print(f)"
      ],
      "metadata": {
        "colab": {
          "base_uri": "https://localhost:8080/"
        },
        "id": "45s-1UqHPAgv",
        "outputId": "3541f2e1-8985-45f9-f2b6-e6edcae06fe2"
      },
      "execution_count": null,
      "outputs": [
        {
          "output_type": "stream",
          "name": "stdout",
          "text": [
            "[['a1', 'b1', 'c1'], ['a2', 'b2', 'c2'], ['a3', 'b3', 'c3']]\n"
          ]
        }
      ]
    },
    {
      "cell_type": "code",
      "source": [
        "aa = [i for i in a]"
      ],
      "metadata": {
        "id": "fRgwNSh1PBiK"
      },
      "execution_count": null,
      "outputs": []
    },
    {
      "cell_type": "code",
      "source": [
        "print(aa)"
      ],
      "metadata": {
        "colab": {
          "base_uri": "https://localhost:8080/"
        },
        "id": "K1C9doZ0QoI4",
        "outputId": "c6b2c9da-14cb-473d-a27e-eb9d99582633"
      },
      "execution_count": null,
      "outputs": [
        {
          "output_type": "stream",
          "name": "stdout",
          "text": [
            "['a', 'b', 'c']\n"
          ]
        }
      ]
    },
    {
      "cell_type": "code",
      "source": [
        "a = [\"a\",\"b\",\"c\"]\n",
        "b = [\"1\", \"2\", \"3\"]\n",
        "\n",
        "f = [[i + j for i in a] for j in b]"
      ],
      "metadata": {
        "id": "hAndAdPwRM1H"
      },
      "execution_count": null,
      "outputs": []
    },
    {
      "cell_type": "code",
      "source": [
        "ans = []\n",
        "for j in b:\n",
        "  row = []\n",
        "  for i in a:\n",
        "    row.append(i+j)\n",
        "  ans.append(row)\n",
        "\n",
        "print(ans)\n"
      ],
      "metadata": {
        "colab": {
          "base_uri": "https://localhost:8080/"
        },
        "id": "Qp6F-miJQpex",
        "outputId": "d42434c5-dac0-4226-b04d-2741bf197b8a"
      },
      "execution_count": null,
      "outputs": [
        {
          "output_type": "stream",
          "name": "stdout",
          "text": [
            "[['a1', 'b1', 'c1'], ['a2', 'b2', 'c2'], ['a3', 'b3', 'c3']]\n"
          ]
        }
      ]
    },
    {
      "cell_type": "code",
      "source": [
        "8:01 --> 8:10"
      ],
      "metadata": {
        "id": "GOpKj0IdRBQ2"
      },
      "execution_count": null,
      "outputs": []
    },
    {
      "cell_type": "code",
      "source": [
        "my_string = \"adityadjain\"\n",
        "k = [i for i in my_string if i not in \"aeiou\"]"
      ],
      "metadata": {
        "id": "rz4kY9tIULHQ"
      },
      "execution_count": null,
      "outputs": []
    },
    {
      "cell_type": "code",
      "source": [
        "k"
      ],
      "metadata": {
        "colab": {
          "base_uri": "https://localhost:8080/"
        },
        "id": "hE_SnS5dUW04",
        "outputId": "f9bff709-305c-4ae2-d67a-bc3fbc83a0c5"
      },
      "execution_count": null,
      "outputs": [
        {
          "output_type": "execute_result",
          "data": {
            "text/plain": [
              "['d', 't', 'y', 'd', 'j', 'n']"
            ]
          },
          "metadata": {},
          "execution_count": 40
        }
      ]
    },
    {
      "cell_type": "code",
      "source": [
        "'''\n",
        "HW:\n",
        "In the above code, print the char in lower case if it is vowel else print it in upper case\n",
        "'''\n",
        "my_string = \"adityadjain\"\n",
        "# op: [a, D, i, T, Y, a, D, J, a , i , N]\n"
      ],
      "metadata": {
        "id": "YORpngc1UX4P"
      },
      "execution_count": null,
      "outputs": []
    },
    {
      "cell_type": "code",
      "source": [
        "'''\n",
        "Q:\n",
        "'M2004Sam'\n",
        "Find the age of the person using list comprehension\n",
        "'''"
      ],
      "metadata": {
        "id": "I8zXDmurVG8k"
      },
      "execution_count": null,
      "outputs": []
    },
    {
      "cell_type": "code",
      "source": [
        "s = 'M2004Sam'"
      ],
      "metadata": {
        "id": "SB3fOP08YglT"
      },
      "execution_count": null,
      "outputs": []
    },
    {
      "cell_type": "code",
      "source": [
        "dob = s[1:5]"
      ],
      "metadata": {
        "id": "Z7RtBetpYsY6"
      },
      "execution_count": null,
      "outputs": []
    },
    {
      "cell_type": "code",
      "source": [
        "print(dob)"
      ],
      "metadata": {
        "colab": {
          "base_uri": "https://localhost:8080/"
        },
        "id": "A5yrShxqYwh_",
        "outputId": "6ab1cb3c-bbf5-4f36-ee32-57f9642af2b0"
      },
      "execution_count": null,
      "outputs": [
        {
          "output_type": "stream",
          "name": "stdout",
          "text": [
            "2004\n"
          ]
        }
      ]
    },
    {
      "cell_type": "code",
      "source": [
        "type(dob)"
      ],
      "metadata": {
        "colab": {
          "base_uri": "https://localhost:8080/"
        },
        "id": "0uj6lj-4Yxfl",
        "outputId": "5d5152c3-adb4-40bf-dbe6-84af501490a3"
      },
      "execution_count": null,
      "outputs": [
        {
          "output_type": "execute_result",
          "data": {
            "text/plain": [
              "str"
            ]
          },
          "metadata": {},
          "execution_count": 44
        }
      ]
    },
    {
      "cell_type": "code",
      "source": [
        "dob_int = int(dob)"
      ],
      "metadata": {
        "id": "aL6usP0TY1XI"
      },
      "execution_count": null,
      "outputs": []
    },
    {
      "cell_type": "code",
      "source": [
        "age = 2022 - dob_int\n",
        "print(age)"
      ],
      "metadata": {
        "colab": {
          "base_uri": "https://localhost:8080/"
        },
        "id": "wHWWjPk4Y3gr",
        "outputId": "8052adaa-e9b0-4ff0-e7d8-91306d91cec0"
      },
      "execution_count": null,
      "outputs": [
        {
          "output_type": "stream",
          "name": "stdout",
          "text": [
            "18\n"
          ]
        }
      ]
    },
    {
      "cell_type": "code",
      "source": [
        "ip = ['M2004Sam', 'F2001Riya', 'M1998Ani', 'F2005Diya']"
      ],
      "metadata": {
        "id": "mnHzE3GYY6zv"
      },
      "execution_count": null,
      "outputs": []
    },
    {
      "cell_type": "code",
      "source": [
        "age = [2022- int(s[1:5]) for s in ip]"
      ],
      "metadata": {
        "id": "beA9Ci-9ZWUE"
      },
      "execution_count": null,
      "outputs": []
    },
    {
      "cell_type": "code",
      "source": [
        "print(age)"
      ],
      "metadata": {
        "colab": {
          "base_uri": "https://localhost:8080/"
        },
        "id": "PreINFr5Zlqr",
        "outputId": "e42dfec2-efad-46ea-cafb-33d77ad68c37"
      },
      "execution_count": null,
      "outputs": [
        {
          "output_type": "stream",
          "name": "stdout",
          "text": [
            "[18, 21, 24, 17]\n"
          ]
        }
      ]
    },
    {
      "cell_type": "code",
      "source": [
        "ans = []\n",
        "for a in age:\n",
        "  if a > 18:\n",
        "    ans.append(\"You can enter\")\n",
        "  else:\n",
        "    ans.append(\"You are not allowed\")\n",
        "\n",
        "print(ans)"
      ],
      "metadata": {
        "colab": {
          "base_uri": "https://localhost:8080/"
        },
        "id": "qTqQ6-mCZmjp",
        "outputId": "cd87757c-9b0b-4630-85a5-bf3a6bee3b3a"
      },
      "execution_count": null,
      "outputs": [
        {
          "output_type": "stream",
          "name": "stdout",
          "text": [
            "['You are not allowed', 'You can enter', 'You can enter', 'You are not allowed']\n"
          ]
        }
      ]
    },
    {
      "cell_type": "code",
      "source": [
        "ans = [\"Can enter\" if (2022- int(s[1:5])) > 18 else \"No entry!\" for s in ip]"
      ],
      "metadata": {
        "id": "oqdHzAN7aEux"
      },
      "execution_count": null,
      "outputs": []
    },
    {
      "cell_type": "code",
      "source": [
        "print(ans)"
      ],
      "metadata": {
        "colab": {
          "base_uri": "https://localhost:8080/"
        },
        "id": "N1RhSqgjahEa",
        "outputId": "7d4b45d2-80d3-432a-ae01-83a072c2ef8c"
      },
      "execution_count": null,
      "outputs": [
        {
          "output_type": "stream",
          "name": "stdout",
          "text": [
            "['No entry!', 'Can enter', 'Can enter', 'No entry!']\n"
          ]
        }
      ]
    },
    {
      "cell_type": "code",
      "source": [
        "# lis = [(0, 2), (1, 3), (2, 4)]\n",
        "# result = sum (n for _, n in lis)\n",
        "# print(result)"
      ],
      "metadata": {
        "id": "Y1DA8oo2aidz"
      },
      "execution_count": null,
      "outputs": []
    }
  ]
}