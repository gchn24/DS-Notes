{
  "nbformat": 4,
  "nbformat_minor": 0,
  "metadata": {
    "colab": {
      "provenance": [],
      "include_colab_link": true
    },
    "kernelspec": {
      "name": "python3",
      "display_name": "Python 3"
    },
    "language_info": {
      "name": "python"
    }
  },
  "cells": [
    {
      "cell_type": "markdown",
      "metadata": {
        "id": "view-in-github",
        "colab_type": "text"
      },
      "source": [
        "<a href=\"https://colab.research.google.com/github/gchn24/DS-Notes/blob/main/Functions_2.ipynb\" target=\"_parent\"><img src=\"https://colab.research.google.com/assets/colab-badge.svg\" alt=\"Open In Colab\"/></a>"
      ]
    },
    {
      "cell_type": "code",
      "execution_count": null,
      "metadata": {
        "colab": {
          "base_uri": "https://localhost:8080/",
          "height": 131
        },
        "id": "blWzCtviUHR8",
        "outputId": "08293747-7766-43de-ccde-fc2c4e18a49b"
      },
      "outputs": [
        {
          "output_type": "error",
          "ename": "SyntaxError",
          "evalue": "ignored",
          "traceback": [
            "\u001b[0;36m  File \u001b[0;32m\"<ipython-input-1-1f3287fa665a>\"\u001b[0;36m, line \u001b[0;32m1\u001b[0m\n\u001b[0;31m    function random():\u001b[0m\n\u001b[0m                  ^\u001b[0m\n\u001b[0;31mSyntaxError\u001b[0m\u001b[0;31m:\u001b[0m invalid syntax\n"
          ]
        }
      ],
      "source": [
        "function random():\n",
        "  return True"
      ]
    },
    {
      "cell_type": "code",
      "source": [
        "random()"
      ],
      "metadata": {
        "id": "_h_TAZ6rUjQc"
      },
      "execution_count": null,
      "outputs": []
    },
    {
      "cell_type": "code",
      "source": [
        "def random():\n",
        "  return True\n",
        "\n",
        "random()"
      ],
      "metadata": {
        "colab": {
          "base_uri": "https://localhost:8080/"
        },
        "id": "Oxal9rEiUud2",
        "outputId": "30699b7b-4c21-45f0-93a3-ff3cb9761cd5"
      },
      "execution_count": null,
      "outputs": [
        {
          "output_type": "execute_result",
          "data": {
            "text/plain": [
              "True"
            ]
          },
          "metadata": {},
          "execution_count": 2
        }
      ]
    },
    {
      "cell_type": "code",
      "source": [
        "def abc:\n",
        "  print(\"Hello\")\n",
        "\n",
        "\n",
        "abc()"
      ],
      "metadata": {
        "colab": {
          "base_uri": "https://localhost:8080/",
          "height": 131
        },
        "id": "kCvC5rmqUwWu",
        "outputId": "0465cb79-d90b-42ce-e120-6ad312375483"
      },
      "execution_count": null,
      "outputs": [
        {
          "output_type": "error",
          "ename": "SyntaxError",
          "evalue": "ignored",
          "traceback": [
            "\u001b[0;36m  File \u001b[0;32m\"<ipython-input-3-f86d0b21c3ea>\"\u001b[0;36m, line \u001b[0;32m1\u001b[0m\n\u001b[0;31m    def abc:\u001b[0m\n\u001b[0m           ^\u001b[0m\n\u001b[0;31mSyntaxError\u001b[0m\u001b[0;31m:\u001b[0m invalid syntax\n"
          ]
        }
      ]
    },
    {
      "cell_type": "code",
      "source": [
        "def abc():\n",
        "  print(\"Hello\")\n",
        "\n",
        "\n",
        "abc()\n",
        "\n",
        "#whenever in class - you get something WRONG- there can be nothing better than this : )"
      ],
      "metadata": {
        "colab": {
          "base_uri": "https://localhost:8080/"
        },
        "id": "-IY5PU29U9Xl",
        "outputId": "19e2510c-4160-4f02-9640-ee028363e059"
      },
      "execution_count": null,
      "outputs": [
        {
          "output_type": "stream",
          "name": "stdout",
          "text": [
            "Hello\n"
          ]
        }
      ]
    },
    {
      "cell_type": "code",
      "source": [
        "def car_specifications(brand, color, price):\n",
        "  print(\"Brand is \", brand)\n",
        "  print(\"color is \", color)\n",
        "  print(\"price is \", price)\n",
        "\n",
        "\n",
        "car_specifications(\"Suzuki\", 2000, \"Red\")\n",
        "#sequential parameter assignment"
      ],
      "metadata": {
        "colab": {
          "base_uri": "https://localhost:8080/"
        },
        "id": "5sO8xyL6VFBS",
        "outputId": "655624e2-1b64-4d11-97ea-d91ed5ddd0c5"
      },
      "execution_count": null,
      "outputs": [
        {
          "output_type": "stream",
          "name": "stdout",
          "text": [
            "Brand is  Suzuki\n",
            "color is  2000\n",
            "price is  Red\n"
          ]
        }
      ]
    },
    {
      "cell_type": "code",
      "source": [
        "def car_specifications(brand, color, price):\n",
        "  print(\"Brand is \", brand)\n",
        "  print(\"color is \", color)\n",
        "  print(\"price is \", price)\n",
        "\n",
        "\n",
        "car_specifications(brand = \"Suzuki\", price = 2000, color=\"Red\")\n",
        "#sequential parameter assignment"
      ],
      "metadata": {
        "colab": {
          "base_uri": "https://localhost:8080/"
        },
        "id": "E91wI4oeXaPs",
        "outputId": "a37e0381-c148-4cb6-dd1e-47a7d0a5818b"
      },
      "execution_count": null,
      "outputs": [
        {
          "output_type": "stream",
          "name": "stdout",
          "text": [
            "Brand is  Suzuki\n",
            "color is  Red\n",
            "price is  2000\n"
          ]
        }
      ]
    },
    {
      "cell_type": "code",
      "source": [
        "def random(a,b,c,d):\n",
        "  print(a,b,c,d)\n",
        "\n"
      ],
      "metadata": {
        "colab": {
          "base_uri": "https://localhost:8080/"
        },
        "id": "H8ZDawBDYwuF",
        "outputId": "101e1e1f-0ee0-4bab-f2b4-11914e1f6c34"
      },
      "execution_count": null,
      "outputs": [
        {
          "output_type": "stream",
          "name": "stdout",
          "text": [
            "1 2 3 4\n"
          ]
        }
      ]
    },
    {
      "cell_type": "code",
      "source": [
        "#positional example\n",
        "random(1,2,3,4)"
      ],
      "metadata": {
        "id": "RnvVBYszaJsg"
      },
      "execution_count": null,
      "outputs": []
    },
    {
      "cell_type": "code",
      "source": [
        "#keyworded arguments\n",
        "random(c=3,b=2,d=4,a=1)"
      ],
      "metadata": {
        "colab": {
          "base_uri": "https://localhost:8080/"
        },
        "id": "xqF3bD8daY0h",
        "outputId": "da23dbfe-7145-4749-a868-593b45df6e7c"
      },
      "execution_count": null,
      "outputs": [
        {
          "output_type": "stream",
          "name": "stdout",
          "text": [
            "1 2 3 4\n"
          ]
        }
      ]
    },
    {
      "cell_type": "code",
      "source": [
        "#mixture of positional and keyworded arguments\n",
        "random(1, d = 4, b=2, c=3)"
      ],
      "metadata": {
        "colab": {
          "base_uri": "https://localhost:8080/"
        },
        "id": "HwJJ03XKagvD",
        "outputId": "49f56c17-a2e0-4cdc-f48e-d1bc83eb721a"
      },
      "execution_count": null,
      "outputs": [
        {
          "output_type": "stream",
          "name": "stdout",
          "text": [
            "1 2 3 4\n"
          ]
        }
      ]
    },
    {
      "cell_type": "code",
      "source": [
        "#mixture of positional and keyworded arguments\n",
        "random(d = 4, 1, b=2, c=3)"
      ],
      "metadata": {
        "colab": {
          "base_uri": "https://localhost:8080/",
          "height": 131
        },
        "id": "RteXzbiqa6um",
        "outputId": "10ba53d8-4aa5-4962-98b1-d78a68ffcda2"
      },
      "execution_count": null,
      "outputs": [
        {
          "output_type": "error",
          "ename": "SyntaxError",
          "evalue": "ignored",
          "traceback": [
            "\u001b[0;36m  File \u001b[0;32m\"<ipython-input-12-b1f2d6f3a8fe>\"\u001b[0;36m, line \u001b[0;32m2\u001b[0m\n\u001b[0;31m    random(d = 4, 1, b=2, c=3)\u001b[0m\n\u001b[0m                 ^\u001b[0m\n\u001b[0;31mSyntaxError\u001b[0m\u001b[0;31m:\u001b[0m positional argument follows keyword argument\n"
          ]
        }
      ]
    },
    {
      "cell_type": "code",
      "source": [
        "random(d=4,c=5,1,2)"
      ],
      "metadata": {
        "colab": {
          "base_uri": "https://localhost:8080/",
          "height": 131
        },
        "id": "PMYGE2s3bdYY",
        "outputId": "63d3cd18-affd-4510-94de-c5dacbff67b4"
      },
      "execution_count": null,
      "outputs": [
        {
          "output_type": "error",
          "ename": "SyntaxError",
          "evalue": "ignored",
          "traceback": [
            "\u001b[0;36m  File \u001b[0;32m\"<ipython-input-13-e359fbc0e04b>\"\u001b[0;36m, line \u001b[0;32m1\u001b[0m\n\u001b[0;31m    random(d=4,c=5,1,2)\u001b[0m\n\u001b[0m                  ^\u001b[0m\n\u001b[0;31mSyntaxError\u001b[0m\u001b[0;31m:\u001b[0m positional argument follows keyword argument\n"
          ]
        }
      ]
    },
    {
      "cell_type": "code",
      "source": [
        "random(a=1,b=2,3,4)"
      ],
      "metadata": {
        "colab": {
          "base_uri": "https://localhost:8080/",
          "height": 131
        },
        "id": "OQNWZ4-ib2Wp",
        "outputId": "518c29a1-9bfd-4ae3-be26-c22e0d89c8e0"
      },
      "execution_count": null,
      "outputs": [
        {
          "output_type": "error",
          "ename": "SyntaxError",
          "evalue": "ignored",
          "traceback": [
            "\u001b[0;36m  File \u001b[0;32m\"<ipython-input-14-15a98b1f23c2>\"\u001b[0;36m, line \u001b[0;32m1\u001b[0m\n\u001b[0;31m    random(a=1,b=2,3,4)\u001b[0m\n\u001b[0m                  ^\u001b[0m\n\u001b[0;31mSyntaxError\u001b[0m\u001b[0;31m:\u001b[0m positional argument follows keyword argument\n"
          ]
        }
      ]
    },
    {
      "cell_type": "code",
      "source": [
        "random(1,2,3,d=4)"
      ],
      "metadata": {
        "colab": {
          "base_uri": "https://localhost:8080/"
        },
        "id": "4LjzhXE8b8q7",
        "outputId": "c3cff4ac-420c-42f3-9bd5-44d94eab52d5"
      },
      "execution_count": null,
      "outputs": [
        {
          "output_type": "stream",
          "name": "stdout",
          "text": [
            "1 2 3 4\n"
          ]
        }
      ]
    },
    {
      "cell_type": "code",
      "source": [
        "random(1,2, a=3,b=4)"
      ],
      "metadata": {
        "colab": {
          "base_uri": "https://localhost:8080/",
          "height": 166
        },
        "id": "6SmzapPRcHKg",
        "outputId": "0ab5b937-c3dd-4996-8bb3-942101e3c5eb"
      },
      "execution_count": null,
      "outputs": [
        {
          "output_type": "error",
          "ename": "TypeError",
          "evalue": "ignored",
          "traceback": [
            "\u001b[0;31m---------------------------------------------------------------------------\u001b[0m",
            "\u001b[0;31mTypeError\u001b[0m                                 Traceback (most recent call last)",
            "\u001b[0;32m<ipython-input-17-0e837d43969c>\u001b[0m in \u001b[0;36m<module>\u001b[0;34m\u001b[0m\n\u001b[0;32m----> 1\u001b[0;31m \u001b[0mrandom\u001b[0m\u001b[0;34m(\u001b[0m\u001b[0;36m1\u001b[0m\u001b[0;34m,\u001b[0m\u001b[0;36m2\u001b[0m\u001b[0;34m,\u001b[0m \u001b[0ma\u001b[0m\u001b[0;34m=\u001b[0m\u001b[0;36m3\u001b[0m\u001b[0;34m,\u001b[0m\u001b[0mb\u001b[0m\u001b[0;34m=\u001b[0m\u001b[0;36m4\u001b[0m\u001b[0;34m)\u001b[0m\u001b[0;34m\u001b[0m\u001b[0;34m\u001b[0m\u001b[0m\n\u001b[0m",
            "\u001b[0;31mTypeError\u001b[0m: random() got multiple values for argument 'a'"
          ]
        }
      ]
    },
    {
      "cell_type": "code",
      "source": [
        "random(1,2, d=3,c=4)"
      ],
      "metadata": {
        "colab": {
          "base_uri": "https://localhost:8080/"
        },
        "id": "BijRoCNhcS_K",
        "outputId": "56dedbb0-cbed-4c97-bb2e-492f1f799492"
      },
      "execution_count": null,
      "outputs": [
        {
          "output_type": "stream",
          "name": "stdout",
          "text": [
            "1 2 4 3\n"
          ]
        }
      ]
    },
    {
      "cell_type": "code",
      "source": [
        "#simple interest \n",
        "# p*r*t/100\n",
        "#AJ bank - r = 5%"
      ],
      "metadata": {
        "id": "TiJevINAcsMJ"
      },
      "execution_count": null,
      "outputs": []
    },
    {
      "cell_type": "code",
      "source": [
        "def simple_interest(p,r,t):\n",
        "  interest = p*r*t/100\n",
        "  return interest"
      ],
      "metadata": {
        "id": "iarSRs9yemCF"
      },
      "execution_count": null,
      "outputs": []
    },
    {
      "cell_type": "code",
      "source": [
        "print(simple_interest(200,300,5))"
      ],
      "metadata": {
        "colab": {
          "base_uri": "https://localhost:8080/"
        },
        "id": "jA7kiGFHez6o",
        "outputId": "b63fb5ce-eb2d-41fe-b944-b56706ca6fcc"
      },
      "execution_count": null,
      "outputs": [
        {
          "output_type": "stream",
          "name": "stdout",
          "text": [
            "3000.0\n"
          ]
        }
      ]
    },
    {
      "cell_type": "code",
      "source": [
        "simple_interest(2000,3)"
      ],
      "metadata": {
        "colab": {
          "base_uri": "https://localhost:8080/",
          "height": 166
        },
        "id": "r-XAUTiwe4FK",
        "outputId": "ae7a2ce0-8251-4bb8-8c23-d3585461d430"
      },
      "execution_count": null,
      "outputs": [
        {
          "output_type": "error",
          "ename": "TypeError",
          "evalue": "ignored",
          "traceback": [
            "\u001b[0;31m---------------------------------------------------------------------------\u001b[0m",
            "\u001b[0;31mTypeError\u001b[0m                                 Traceback (most recent call last)",
            "\u001b[0;32m<ipython-input-23-9a44e42bdf7e>\u001b[0m in \u001b[0;36m<module>\u001b[0;34m\u001b[0m\n\u001b[0;32m----> 1\u001b[0;31m \u001b[0msimple_interest\u001b[0m\u001b[0;34m(\u001b[0m\u001b[0;36m2000\u001b[0m\u001b[0;34m,\u001b[0m\u001b[0;36m3\u001b[0m\u001b[0;34m)\u001b[0m\u001b[0;34m\u001b[0m\u001b[0;34m\u001b[0m\u001b[0m\n\u001b[0m",
            "\u001b[0;31mTypeError\u001b[0m: simple_interest() missing 1 required positional argument: 't'"
          ]
        }
      ]
    },
    {
      "cell_type": "code",
      "source": [
        "#neeed for default argument\n",
        "\n",
        "def simple_interest(p, t, r = 5):\n",
        "  print(p,r,t)\n"
      ],
      "metadata": {
        "id": "n_vOjhXCfO5P"
      },
      "execution_count": null,
      "outputs": []
    },
    {
      "cell_type": "code",
      "source": [
        "simple_interest(200,3)"
      ],
      "metadata": {
        "colab": {
          "base_uri": "https://localhost:8080/"
        },
        "id": "K0gdeXlQfeEX",
        "outputId": "6492d181-6929-4d8b-af55-00063bdb261d"
      },
      "execution_count": null,
      "outputs": [
        {
          "output_type": "stream",
          "name": "stdout",
          "text": [
            "200 5 3\n"
          ]
        }
      ]
    },
    {
      "cell_type": "code",
      "source": [
        "#neeed for default argument\n",
        "\n",
        "def simple_interest(p, r=5, t):\n",
        "  print(p,r,t)\n"
      ],
      "metadata": {
        "colab": {
          "base_uri": "https://localhost:8080/",
          "height": 131
        },
        "id": "o_DZn4hzfnGm",
        "outputId": "23ea8187-bd97-463f-8457-39457237ab95"
      },
      "execution_count": null,
      "outputs": [
        {
          "output_type": "error",
          "ename": "SyntaxError",
          "evalue": "ignored",
          "traceback": [
            "\u001b[0;36m  File \u001b[0;32m\"<ipython-input-27-78388596f448>\"\u001b[0;36m, line \u001b[0;32m3\u001b[0m\n\u001b[0;31m    def simple_interest(p, r=5, t):\u001b[0m\n\u001b[0m                       ^\u001b[0m\n\u001b[0;31mSyntaxError\u001b[0m\u001b[0;31m:\u001b[0m non-default argument follows default argument\n"
          ]
        }
      ]
    },
    {
      "cell_type": "code",
      "source": [
        "simple_interest(2,3,4)"
      ],
      "metadata": {
        "id": "ms1APorYfxxE"
      },
      "execution_count": null,
      "outputs": []
    },
    {
      "cell_type": "code",
      "source": [
        "#neeed for default argument\n",
        "\n",
        "def simple_interest(p,t, r=5):\n",
        "  print(p,r,t)\n"
      ],
      "metadata": {
        "id": "EIo0MJ8zgMPZ"
      },
      "execution_count": null,
      "outputs": []
    },
    {
      "cell_type": "code",
      "source": [
        "simple_interest(2,3)"
      ],
      "metadata": {
        "colab": {
          "base_uri": "https://localhost:8080/"
        },
        "id": "YJthnbgEgOc-",
        "outputId": "a59f4aeb-36ed-4179-af41-538cf87104de"
      },
      "execution_count": null,
      "outputs": [
        {
          "output_type": "stream",
          "name": "stdout",
          "text": [
            "2 5 3\n"
          ]
        }
      ]
    },
    {
      "cell_type": "code",
      "source": [
        "simple_interest(2,3,4)"
      ],
      "metadata": {
        "colab": {
          "base_uri": "https://localhost:8080/"
        },
        "id": "WlN_JZY5gW5d",
        "outputId": "d49e59a6-cbb1-4b38-ed7a-1d93fab04eb9"
      },
      "execution_count": null,
      "outputs": [
        {
          "output_type": "stream",
          "name": "stdout",
          "text": [
            "2 4 3\n"
          ]
        }
      ]
    },
    {
      "cell_type": "code",
      "source": [
        "def simple_interest2(p,r=5,t=3):\n",
        "  print(p,r,t)"
      ],
      "metadata": {
        "id": "XDJNzGdyge8f"
      },
      "execution_count": null,
      "outputs": []
    },
    {
      "cell_type": "code",
      "source": [
        "simple_interest2(2,4)"
      ],
      "metadata": {
        "colab": {
          "base_uri": "https://localhost:8080/"
        },
        "id": "-c-ieOlLg01e",
        "outputId": "6761727b-9a5d-4110-fcac-f963b558fd04"
      },
      "execution_count": null,
      "outputs": [
        {
          "output_type": "stream",
          "name": "stdout",
          "text": [
            "2 4 3\n"
          ]
        }
      ]
    },
    {
      "cell_type": "code",
      "source": [
        "simple_interest2(2)"
      ],
      "metadata": {
        "colab": {
          "base_uri": "https://localhost:8080/"
        },
        "id": "2eqvR5nChC-c",
        "outputId": "df36debf-3045-4492-9eb9-8f6742bc8144"
      },
      "execution_count": null,
      "outputs": [
        {
          "output_type": "stream",
          "name": "stdout",
          "text": [
            "2 5 3\n"
          ]
        }
      ]
    },
    {
      "cell_type": "code",
      "source": [
        "simple_interest2(2,4,6)"
      ],
      "metadata": {
        "colab": {
          "base_uri": "https://localhost:8080/"
        },
        "id": "XckFlf_ghNjZ",
        "outputId": "1b77d04f-10a0-451f-fdd0-df178d4eb4a4"
      },
      "execution_count": null,
      "outputs": [
        {
          "output_type": "stream",
          "name": "stdout",
          "text": [
            "2 4 6\n"
          ]
        }
      ]
    },
    {
      "cell_type": "code",
      "source": [
        "'''\n",
        "Question 1-\n",
        "Create a date printing function\n",
        "Should take in 4 arguments\n",
        "day, month, year, style\n",
        "\n",
        "Styling logic:\n",
        "style - 0: d / m / y\n",
        "stype - 1: m / d / y\n",
        "style - anything else - invalid style\n",
        "\n",
        "default style is 0\n",
        "'''"
      ],
      "metadata": {
        "colab": {
          "base_uri": "https://localhost:8080/",
          "height": 70
        },
        "id": "xt9UZMBYhW1Z",
        "outputId": "320e7d63-f177-4604-f70d-ba50a151e21d"
      },
      "execution_count": null,
      "outputs": [
        {
          "output_type": "execute_result",
          "data": {
            "text/plain": [
              "'\\nQuestion 1-\\nCreate a date printing function\\nShould take in 4 arguments\\nday, month, year, style\\n\\nStyling logic:\\nstyle - 0: d/m/y\\nstype - 1: m/d/y\\nstyle - anything else - invalid style\\n\\ndefault style is 0\\n'"
            ],
            "application/vnd.google.colaboratory.intrinsic+json": {
              "type": "string"
            }
          },
          "metadata": {},
          "execution_count": 38
        }
      ]
    },
    {
      "cell_type": "code",
      "source": [
        "def print_date(day, month, year, style = 0):\n",
        "  if style == 0:\n",
        "    print(day, '/',month,'/',year)\n",
        "  elif style == 1:\n",
        "    print(month,'/',day,'/',year)\n",
        "  else:\n",
        "    print(\"Invalid Style\")"
      ],
      "metadata": {
        "id": "paJAQMfmkLO-"
      },
      "execution_count": null,
      "outputs": []
    },
    {
      "cell_type": "code",
      "source": [
        "print_date(21,10,2022,0)"
      ],
      "metadata": {
        "colab": {
          "base_uri": "https://localhost:8080/"
        },
        "id": "a2gVM6KNk0I9",
        "outputId": "38aa2eae-9763-4b7e-9f59-df19b2f6018c"
      },
      "execution_count": null,
      "outputs": [
        {
          "output_type": "stream",
          "name": "stdout",
          "text": [
            "21 / 10 / 2022\n"
          ]
        }
      ]
    },
    {
      "cell_type": "code",
      "source": [
        "print_date(21,10,2022,1)"
      ],
      "metadata": {
        "colab": {
          "base_uri": "https://localhost:8080/"
        },
        "id": "Y1hdiA2Pk-L7",
        "outputId": "beb142a8-e5fb-4d3b-cfc1-2c8e0dec9872"
      },
      "execution_count": null,
      "outputs": [
        {
          "output_type": "stream",
          "name": "stdout",
          "text": [
            "10 / 21 / 2022\n"
          ]
        }
      ]
    },
    {
      "cell_type": "code",
      "source": [
        "print_date(21,10,2022)"
      ],
      "metadata": {
        "colab": {
          "base_uri": "https://localhost:8080/"
        },
        "id": "OMt_dsfKlHKK",
        "outputId": "cd4cab77-6f42-4918-d6d0-c57fb23b7539"
      },
      "execution_count": null,
      "outputs": [
        {
          "output_type": "stream",
          "name": "stdout",
          "text": [
            "21 / 10 / 2022\n"
          ]
        }
      ]
    },
    {
      "cell_type": "code",
      "source": [
        "print_date(21,10,2022,2)"
      ],
      "metadata": {
        "colab": {
          "base_uri": "https://localhost:8080/"
        },
        "id": "Alr9xB0VlQNQ",
        "outputId": "c6dc49e6-f236-47a3-c8cf-5ff2594d412c"
      },
      "execution_count": null,
      "outputs": [
        {
          "output_type": "stream",
          "name": "stdout",
          "text": [
            "Invalid Style\n"
          ]
        }
      ]
    },
    {
      "cell_type": "code",
      "source": [
        "#amazing doubts\n",
        "\n",
        "def date(d, m, y, s):\n",
        "  if s == 0:\n",
        "    print(d,\"/\", m,\"/\", y)\n",
        "  elif s == 1:\n",
        "    print(m,\"/\", d,\"/\", y)\n",
        "  elif s >1:\n",
        "    print(\"invalid syntax\")"
      ],
      "metadata": {
        "id": "8txPUpuFiD0c"
      },
      "execution_count": null,
      "outputs": []
    },
    {
      "cell_type": "code",
      "source": [
        "date(2,3,4,1)"
      ],
      "metadata": {
        "colab": {
          "base_uri": "https://localhost:8080/"
        },
        "id": "a4n9bHhtjvta",
        "outputId": "2ae8e46c-f3e9-4fda-a2d3-8489f4207928"
      },
      "execution_count": null,
      "outputs": [
        {
          "output_type": "stream",
          "name": "stdout",
          "text": [
            "3 / 2 / 4\n"
          ]
        }
      ]
    },
    {
      "cell_type": "code",
      "source": [
        "date(2,3,4,-5)"
      ],
      "metadata": {
        "id": "pTry2969jyNm"
      },
      "execution_count": null,
      "outputs": []
    },
    {
      "cell_type": "code",
      "source": [
        "#global vs local variable\n",
        "a = 10\n",
        "\n",
        "def calculator(number):\n",
        "  print(number*10)\n",
        "\n",
        "calculator(a)\n"
      ],
      "metadata": {
        "colab": {
          "base_uri": "https://localhost:8080/"
        },
        "id": "lvRWL5Akj11N",
        "outputId": "cde12392-ce6d-49c6-cbe1-1c5e63138a9d"
      },
      "execution_count": null,
      "outputs": [
        {
          "output_type": "stream",
          "name": "stdout",
          "text": [
            "10\n",
            "100\n"
          ]
        }
      ]
    },
    {
      "cell_type": "code",
      "source": [
        "print(a)"
      ],
      "metadata": {
        "colab": {
          "base_uri": "https://localhost:8080/"
        },
        "id": "heLOqGU1mXL6",
        "outputId": "5e78d2d0-6718-4eb2-bf81-25fe4ed5f2d3"
      },
      "execution_count": null,
      "outputs": [
        {
          "output_type": "stream",
          "name": "stdout",
          "text": [
            "10\n"
          ]
        }
      ]
    },
    {
      "cell_type": "code",
      "source": [
        "#global vs local variable\n",
        "a = 10\n",
        "\n",
        "def calculator(number):\n",
        "  a = 5\n",
        "  print(a)\n",
        "  print(number*10)\n",
        "\n",
        "calculator(a)"
      ],
      "metadata": {
        "colab": {
          "base_uri": "https://localhost:8080/"
        },
        "id": "d8ecq-nNmdNz",
        "outputId": "aaa6fcd9-0b98-4831-cc1c-7f5c3d95c02f"
      },
      "execution_count": null,
      "outputs": [
        {
          "output_type": "stream",
          "name": "stdout",
          "text": [
            "5\n",
            "100\n"
          ]
        }
      ]
    },
    {
      "cell_type": "code",
      "source": [
        "print(a)"
      ],
      "metadata": {
        "colab": {
          "base_uri": "https://localhost:8080/"
        },
        "id": "4WQkCUVHmqL5",
        "outputId": "3ddd1cfb-ce18-47b2-d767-17bc26ac8b0d"
      },
      "execution_count": null,
      "outputs": [
        {
          "output_type": "stream",
          "name": "stdout",
          "text": [
            "10\n"
          ]
        }
      ]
    },
    {
      "cell_type": "code",
      "source": [
        "#global vs local variable\n",
        "a = 10\n",
        "\n",
        "def calculator(number):\n",
        "  global a #access the global a\n",
        "  a = 5\n",
        "  print(a)\n",
        "  print(number*10)\n",
        "\n",
        "calculator(a)"
      ],
      "metadata": {
        "colab": {
          "base_uri": "https://localhost:8080/"
        },
        "id": "UdRMj_F6nf43",
        "outputId": "f07da0be-1fb5-4511-bec2-4a43db200879"
      },
      "execution_count": null,
      "outputs": [
        {
          "output_type": "stream",
          "name": "stdout",
          "text": [
            "5\n",
            "100\n"
          ]
        }
      ]
    },
    {
      "cell_type": "code",
      "source": [
        "print(a)"
      ],
      "metadata": {
        "colab": {
          "base_uri": "https://localhost:8080/"
        },
        "id": "AAs1hycJo74g",
        "outputId": "9cd96637-5842-4474-96f4-223479dbd2c9"
      },
      "execution_count": null,
      "outputs": [
        {
          "output_type": "stream",
          "name": "stdout",
          "text": [
            "5\n"
          ]
        }
      ]
    },
    {
      "cell_type": "code",
      "source": [
        "#global vs local variable\n",
        "a = 10\n",
        "\n",
        "def calculator(number):\n",
        "  global a #access the global a\n",
        "  a = 5\n",
        "  print(a)\n",
        "  print(number*10)\n",
        "\n",
        "calculator(a)\n",
        "print(number)"
      ],
      "metadata": {
        "colab": {
          "base_uri": "https://localhost:8080/",
          "height": 235
        },
        "id": "Fi5pNVilpDTb",
        "outputId": "fd1b22b3-bf53-4981-c5f1-748f22497e2e"
      },
      "execution_count": null,
      "outputs": [
        {
          "output_type": "stream",
          "name": "stdout",
          "text": [
            "5\n",
            "100\n"
          ]
        },
        {
          "output_type": "error",
          "ename": "NameError",
          "evalue": "ignored",
          "traceback": [
            "\u001b[0;31m---------------------------------------------------------------------------\u001b[0m",
            "\u001b[0;31mNameError\u001b[0m                                 Traceback (most recent call last)",
            "\u001b[0;32m<ipython-input-61-5d6d761c19aa>\u001b[0m in \u001b[0;36m<module>\u001b[0;34m\u001b[0m\n\u001b[1;32m      9\u001b[0m \u001b[0;34m\u001b[0m\u001b[0m\n\u001b[1;32m     10\u001b[0m \u001b[0mcalculator\u001b[0m\u001b[0;34m(\u001b[0m\u001b[0ma\u001b[0m\u001b[0;34m)\u001b[0m\u001b[0;34m\u001b[0m\u001b[0;34m\u001b[0m\u001b[0m\n\u001b[0;32m---> 11\u001b[0;31m \u001b[0mprint\u001b[0m\u001b[0;34m(\u001b[0m\u001b[0mnumber\u001b[0m\u001b[0;34m)\u001b[0m\u001b[0;34m\u001b[0m\u001b[0;34m\u001b[0m\u001b[0m\n\u001b[0m",
            "\u001b[0;31mNameError\u001b[0m: name 'number' is not defined"
          ]
        }
      ]
    },
    {
      "cell_type": "code",
      "source": [],
      "metadata": {
        "id": "MCOWZHbOpig7"
      },
      "execution_count": null,
      "outputs": []
    }
  ]
}