{
  "cells": [
    {
      "cell_type": "markdown",
      "metadata": {
        "id": "view-in-github",
        "colab_type": "text"
      },
      "source": [
        "<a href=\"https://colab.research.google.com/github/gchn24/DS-Notes/blob/main/ChiSquare_Code_Notebook.ipynb\" target=\"_parent\"><img src=\"https://colab.research.google.com/assets/colab-badge.svg\" alt=\"Open In Colab\"/></a>"
      ]
    },
    {
      "cell_type": "code",
      "execution_count": null,
      "id": "e576d252",
      "metadata": {
        "id": "e576d252"
      },
      "outputs": [],
      "source": [
        "import numpy as np\n",
        "import pandas as pd\n",
        "import seaborn as sns\n",
        "import matplotlib.pyplot as plt\n",
        "\n",
        "from scipy.stats import chisquare, chi2, chi2_contingency"
      ]
    },
    {
      "cell_type": "code",
      "source": [
        "!gdown 1hR_60jiBA_-NYy4RA9vKjYelxkwXcfLF -O 'aerofit.csv'"
      ],
      "metadata": {
        "colab": {
          "base_uri": "https://localhost:8080/"
        },
        "id": "VEBYtvWTAgej",
        "outputId": "6569e80f-51eb-43c1-f744-41b8f487efab"
      },
      "id": "VEBYtvWTAgej",
      "execution_count": null,
      "outputs": [
        {
          "output_type": "stream",
          "name": "stdout",
          "text": [
            "Downloading...\n",
            "From: https://drive.google.com/uc?id=1hR_60jiBA_-NYy4RA9vKjYelxkwXcfLF\n",
            "To: /content/aerofit.csv\n",
            "\r  0% 0.00/7.28k [00:00<?, ?B/s]\r100% 7.28k/7.28k [00:00<00:00, 32.0MB/s]\n"
          ]
        }
      ]
    },
    {
      "cell_type": "markdown",
      "id": "43e04505",
      "metadata": {
        "id": "43e04505"
      },
      "source": [
        "# Coin toss"
      ]
    },
    {
      "cell_type": "code",
      "execution_count": null,
      "id": "2f165116",
      "metadata": {
        "colab": {
          "base_uri": "https://localhost:8080/"
        },
        "id": "2f165116",
        "outputId": "6a787501-779b-4d35-965a-fbb524d7b034"
      },
      "outputs": [
        {
          "output_type": "stream",
          "name": "stdout",
          "text": [
            "0.3961439091520741\n",
            "0.72\n",
            "Fail to reject H0\n",
            "Coin is fair\n"
          ]
        }
      ],
      "source": [
        "# H0: Coin is fair\n",
        "# Ha: Coin is biased\n",
        "\n",
        "alpha = 0.05\n",
        "\n",
        "obs = [28, 22]\n",
        "exp = [25, 25]\n",
        "\n",
        "chisquare(obs, exp)\n",
        "\n",
        "\n",
        "chi_stat, p_value = chisquare(obs, exp)\n",
        "\n",
        "print(p_value)\n",
        "print(chi_stat)\n",
        "if p_value < alpha:\n",
        "    print(\"Reject H0\")\n",
        "else:\n",
        "    print(\"Fail to reject H0\")\n",
        "    print(\"Coin is fair\")"
      ]
    },
    {
      "cell_type": "code",
      "execution_count": null,
      "id": "23b69614",
      "metadata": {
        "colab": {
          "base_uri": "https://localhost:8080/"
        },
        "id": "23b69614",
        "outputId": "8ca6654b-6b6d-4bd3-ec7a-f3d5ca0186c1"
      },
      "outputs": [
        {
          "output_type": "execute_result",
          "data": {
            "text/plain": [
              "0.72"
            ]
          },
          "metadata": {},
          "execution_count": 22
        }
      ],
      "source": [
        "chi_stat = (28 - 25)**2/25 + (22 - 25)**2 /25 # chi2stat\n",
        "chi_stat"
      ]
    },
    {
      "cell_type": "code",
      "execution_count": null,
      "id": "c0af19fe",
      "metadata": {
        "colab": {
          "base_uri": "https://localhost:8080/"
        },
        "id": "c0af19fe",
        "outputId": "67971311-3b21-4609-fd39-cc538785256d"
      },
      "outputs": [
        {
          "output_type": "execute_result",
          "data": {
            "text/plain": [
              "0.3961439091520741"
            ]
          },
          "metadata": {},
          "execution_count": 23
        }
      ],
      "source": [
        "p_value = 1 - chi2.cdf(chi_stat, df = 1)\n",
        "p_value"
      ]
    },
    {
      "cell_type": "code",
      "execution_count": null,
      "id": "71b37304",
      "metadata": {
        "id": "71b37304"
      },
      "outputs": [],
      "source": []
    },
    {
      "cell_type": "code",
      "execution_count": null,
      "id": "5d7f546c",
      "metadata": {
        "id": "5d7f546c"
      },
      "outputs": [],
      "source": []
    },
    {
      "cell_type": "code",
      "execution_count": null,
      "id": "33b6f3ed",
      "metadata": {
        "id": "33b6f3ed"
      },
      "outputs": [],
      "source": []
    },
    {
      "cell_type": "code",
      "execution_count": null,
      "id": "9bb4ec35",
      "metadata": {
        "id": "9bb4ec35"
      },
      "outputs": [],
      "source": []
    },
    {
      "cell_type": "code",
      "execution_count": null,
      "id": "7b4485da",
      "metadata": {
        "colab": {
          "base_uri": "https://localhost:8080/"
        },
        "id": "7b4485da",
        "outputId": "98afef7e-e105-4b96-fefa-76ffe2c006e1"
      },
      "outputs": [
        {
          "output_type": "stream",
          "name": "stdout",
          "text": [
            "1.5417257900280013e-08\n",
            "32.0\n",
            "Reject H0, coin is biased\n"
          ]
        }
      ],
      "source": [
        "# H0: Coin is fair\n",
        "# Ha: Coin is biased\n",
        "\n",
        "alpha = 0.05\n",
        "\n",
        "obs = [45, 5]\n",
        "exp = [25, 25]\n",
        "\n",
        "chisquare(obs, exp)\n",
        "\n",
        "\n",
        "chi_stat, p_value = chisquare(obs, exp)\n",
        "\n",
        "print(p_value)\n",
        "print(chi_stat)\n",
        "if p_value < alpha:\n",
        "    print(\"Reject H0, coin is biased\")\n",
        "else:\n",
        "    print(\"Fail to reject H0\")\n",
        "    print(\"Coin is fair\")"
      ]
    },
    {
      "cell_type": "code",
      "execution_count": null,
      "id": "055d0660",
      "metadata": {
        "id": "055d0660"
      },
      "outputs": [],
      "source": []
    },
    {
      "cell_type": "markdown",
      "id": "e0d894ac",
      "metadata": {
        "id": "e0d894ac"
      },
      "source": [
        "# Gender Vs Offline and Online"
      ]
    },
    {
      "cell_type": "code",
      "execution_count": null,
      "id": "fd0076f5",
      "metadata": {
        "colab": {
          "base_uri": "https://localhost:8080/"
        },
        "id": "fd0076f5",
        "outputId": "987deb18-a3ff-47cd-aab6-c0c7079dd419"
      },
      "outputs": [
        {
          "output_type": "execute_result",
          "data": {
            "text/plain": [
              "4.363176486776865e-14"
            ]
          },
          "metadata": {},
          "execution_count": 25
        }
      ],
      "source": [
        "chi_stat = 57\n",
        "dof = 1\n",
        "\n",
        "alpha = 0.05\n",
        "\n",
        "# H0 : Gender and preference are independent\n",
        "# HA : Gender and preference are dependent\n",
        "\n",
        "p_value  = 1 - chi2.cdf(chi_stat, dof)\n",
        "p_value"
      ]
    },
    {
      "cell_type": "code",
      "execution_count": null,
      "id": "330e377a",
      "metadata": {
        "id": "330e377a"
      },
      "outputs": [],
      "source": []
    },
    {
      "cell_type": "code",
      "execution_count": null,
      "id": "3790d55a",
      "metadata": {
        "id": "3790d55a"
      },
      "outputs": [],
      "source": []
    },
    {
      "cell_type": "code",
      "execution_count": null,
      "id": "24384b3b",
      "metadata": {
        "colab": {
          "base_uri": "https://localhost:8080/"
        },
        "id": "24384b3b",
        "outputId": "54e42380-96f9-4734-b92e-4c87590d343c"
      },
      "outputs": [
        {
          "output_type": "stream",
          "name": "stdout",
          "text": [
            "57.04098674049609\n",
            "4.268230756875865e-14\n",
            "1\n",
            "[[484.08710033 114.91289967]\n",
            " [248.91289967  59.08710033]]\n",
            "Reject H0\n"
          ]
        }
      ],
      "source": [
        "# H0: Gender and preference are independent\n",
        "# HA: Preference depends on gender\n",
        "\n",
        "observed = [\n",
        "    [527, 72],\n",
        "    [206, 102],\n",
        "]\n",
        "\n",
        "chi_stat, p_value, df, exp_freq = chi2_contingency(observed) # chi_stat, p_value, df, expected values\n",
        "\n",
        "print(chi_stat)\n",
        "print(p_value)\n",
        "print(df)\n",
        "print(exp_freq)\n",
        "\n",
        "if p_value < 0.05:\n",
        "    print(\"Reject H0\")"
      ]
    },
    {
      "cell_type": "markdown",
      "id": "03e356a1",
      "metadata": {
        "id": "03e356a1"
      },
      "source": [
        "# Aerofit"
      ]
    },
    {
      "cell_type": "code",
      "execution_count": null,
      "id": "edf788e3",
      "metadata": {
        "id": "edf788e3"
      },
      "outputs": [],
      "source": [
        "df_aerofit = pd.read_csv(\"aerofit.csv\")"
      ]
    },
    {
      "cell_type": "code",
      "execution_count": null,
      "id": "9b2cf5c8",
      "metadata": {
        "colab": {
          "base_uri": "https://localhost:8080/",
          "height": 424
        },
        "id": "9b2cf5c8",
        "outputId": "14fd98bd-1efc-4aa3-87f3-cca2a41fbfa2"
      },
      "outputs": [
        {
          "output_type": "execute_result",
          "data": {
            "text/plain": [
              "    Product  Age  Gender  Education MaritalStatus  Usage  Fitness  Income  \\\n",
              "0     KP281   18    Male         14        Single      3        4   29562   \n",
              "1     KP281   19    Male         15        Single      2        3   31836   \n",
              "2     KP281   19  Female         14     Partnered      4        3   30699   \n",
              "3     KP281   19    Male         12        Single      3        3   32973   \n",
              "4     KP281   20    Male         13     Partnered      4        2   35247   \n",
              "..      ...  ...     ...        ...           ...    ...      ...     ...   \n",
              "175   KP781   40    Male         21        Single      6        5   83416   \n",
              "176   KP781   42    Male         18        Single      5        4   89641   \n",
              "177   KP781   45    Male         16        Single      5        5   90886   \n",
              "178   KP781   47    Male         18     Partnered      4        5  104581   \n",
              "179   KP781   48    Male         18     Partnered      4        5   95508   \n",
              "\n",
              "     Miles  \n",
              "0      112  \n",
              "1       75  \n",
              "2       66  \n",
              "3       85  \n",
              "4       47  \n",
              "..     ...  \n",
              "175    200  \n",
              "176    200  \n",
              "177    160  \n",
              "178    120  \n",
              "179    180  \n",
              "\n",
              "[180 rows x 9 columns]"
            ],
            "text/html": [
              "\n",
              "  <div id=\"df-42a1419a-03dd-4df7-bcc2-b4fee204403e\">\n",
              "    <div class=\"colab-df-container\">\n",
              "      <div>\n",
              "<style scoped>\n",
              "    .dataframe tbody tr th:only-of-type {\n",
              "        vertical-align: middle;\n",
              "    }\n",
              "\n",
              "    .dataframe tbody tr th {\n",
              "        vertical-align: top;\n",
              "    }\n",
              "\n",
              "    .dataframe thead th {\n",
              "        text-align: right;\n",
              "    }\n",
              "</style>\n",
              "<table border=\"1\" class=\"dataframe\">\n",
              "  <thead>\n",
              "    <tr style=\"text-align: right;\">\n",
              "      <th></th>\n",
              "      <th>Product</th>\n",
              "      <th>Age</th>\n",
              "      <th>Gender</th>\n",
              "      <th>Education</th>\n",
              "      <th>MaritalStatus</th>\n",
              "      <th>Usage</th>\n",
              "      <th>Fitness</th>\n",
              "      <th>Income</th>\n",
              "      <th>Miles</th>\n",
              "    </tr>\n",
              "  </thead>\n",
              "  <tbody>\n",
              "    <tr>\n",
              "      <th>0</th>\n",
              "      <td>KP281</td>\n",
              "      <td>18</td>\n",
              "      <td>Male</td>\n",
              "      <td>14</td>\n",
              "      <td>Single</td>\n",
              "      <td>3</td>\n",
              "      <td>4</td>\n",
              "      <td>29562</td>\n",
              "      <td>112</td>\n",
              "    </tr>\n",
              "    <tr>\n",
              "      <th>1</th>\n",
              "      <td>KP281</td>\n",
              "      <td>19</td>\n",
              "      <td>Male</td>\n",
              "      <td>15</td>\n",
              "      <td>Single</td>\n",
              "      <td>2</td>\n",
              "      <td>3</td>\n",
              "      <td>31836</td>\n",
              "      <td>75</td>\n",
              "    </tr>\n",
              "    <tr>\n",
              "      <th>2</th>\n",
              "      <td>KP281</td>\n",
              "      <td>19</td>\n",
              "      <td>Female</td>\n",
              "      <td>14</td>\n",
              "      <td>Partnered</td>\n",
              "      <td>4</td>\n",
              "      <td>3</td>\n",
              "      <td>30699</td>\n",
              "      <td>66</td>\n",
              "    </tr>\n",
              "    <tr>\n",
              "      <th>3</th>\n",
              "      <td>KP281</td>\n",
              "      <td>19</td>\n",
              "      <td>Male</td>\n",
              "      <td>12</td>\n",
              "      <td>Single</td>\n",
              "      <td>3</td>\n",
              "      <td>3</td>\n",
              "      <td>32973</td>\n",
              "      <td>85</td>\n",
              "    </tr>\n",
              "    <tr>\n",
              "      <th>4</th>\n",
              "      <td>KP281</td>\n",
              "      <td>20</td>\n",
              "      <td>Male</td>\n",
              "      <td>13</td>\n",
              "      <td>Partnered</td>\n",
              "      <td>4</td>\n",
              "      <td>2</td>\n",
              "      <td>35247</td>\n",
              "      <td>47</td>\n",
              "    </tr>\n",
              "    <tr>\n",
              "      <th>...</th>\n",
              "      <td>...</td>\n",
              "      <td>...</td>\n",
              "      <td>...</td>\n",
              "      <td>...</td>\n",
              "      <td>...</td>\n",
              "      <td>...</td>\n",
              "      <td>...</td>\n",
              "      <td>...</td>\n",
              "      <td>...</td>\n",
              "    </tr>\n",
              "    <tr>\n",
              "      <th>175</th>\n",
              "      <td>KP781</td>\n",
              "      <td>40</td>\n",
              "      <td>Male</td>\n",
              "      <td>21</td>\n",
              "      <td>Single</td>\n",
              "      <td>6</td>\n",
              "      <td>5</td>\n",
              "      <td>83416</td>\n",
              "      <td>200</td>\n",
              "    </tr>\n",
              "    <tr>\n",
              "      <th>176</th>\n",
              "      <td>KP781</td>\n",
              "      <td>42</td>\n",
              "      <td>Male</td>\n",
              "      <td>18</td>\n",
              "      <td>Single</td>\n",
              "      <td>5</td>\n",
              "      <td>4</td>\n",
              "      <td>89641</td>\n",
              "      <td>200</td>\n",
              "    </tr>\n",
              "    <tr>\n",
              "      <th>177</th>\n",
              "      <td>KP781</td>\n",
              "      <td>45</td>\n",
              "      <td>Male</td>\n",
              "      <td>16</td>\n",
              "      <td>Single</td>\n",
              "      <td>5</td>\n",
              "      <td>5</td>\n",
              "      <td>90886</td>\n",
              "      <td>160</td>\n",
              "    </tr>\n",
              "    <tr>\n",
              "      <th>178</th>\n",
              "      <td>KP781</td>\n",
              "      <td>47</td>\n",
              "      <td>Male</td>\n",
              "      <td>18</td>\n",
              "      <td>Partnered</td>\n",
              "      <td>4</td>\n",
              "      <td>5</td>\n",
              "      <td>104581</td>\n",
              "      <td>120</td>\n",
              "    </tr>\n",
              "    <tr>\n",
              "      <th>179</th>\n",
              "      <td>KP781</td>\n",
              "      <td>48</td>\n",
              "      <td>Male</td>\n",
              "      <td>18</td>\n",
              "      <td>Partnered</td>\n",
              "      <td>4</td>\n",
              "      <td>5</td>\n",
              "      <td>95508</td>\n",
              "      <td>180</td>\n",
              "    </tr>\n",
              "  </tbody>\n",
              "</table>\n",
              "<p>180 rows × 9 columns</p>\n",
              "</div>\n",
              "      <button class=\"colab-df-convert\" onclick=\"convertToInteractive('df-42a1419a-03dd-4df7-bcc2-b4fee204403e')\"\n",
              "              title=\"Convert this dataframe to an interactive table.\"\n",
              "              style=\"display:none;\">\n",
              "        \n",
              "  <svg xmlns=\"http://www.w3.org/2000/svg\" height=\"24px\"viewBox=\"0 0 24 24\"\n",
              "       width=\"24px\">\n",
              "    <path d=\"M0 0h24v24H0V0z\" fill=\"none\"/>\n",
              "    <path d=\"M18.56 5.44l.94 2.06.94-2.06 2.06-.94-2.06-.94-.94-2.06-.94 2.06-2.06.94zm-11 1L8.5 8.5l.94-2.06 2.06-.94-2.06-.94L8.5 2.5l-.94 2.06-2.06.94zm10 10l.94 2.06.94-2.06 2.06-.94-2.06-.94-.94-2.06-.94 2.06-2.06.94z\"/><path d=\"M17.41 7.96l-1.37-1.37c-.4-.4-.92-.59-1.43-.59-.52 0-1.04.2-1.43.59L10.3 9.45l-7.72 7.72c-.78.78-.78 2.05 0 2.83L4 21.41c.39.39.9.59 1.41.59.51 0 1.02-.2 1.41-.59l7.78-7.78 2.81-2.81c.8-.78.8-2.07 0-2.86zM5.41 20L4 18.59l7.72-7.72 1.47 1.35L5.41 20z\"/>\n",
              "  </svg>\n",
              "      </button>\n",
              "      \n",
              "  <style>\n",
              "    .colab-df-container {\n",
              "      display:flex;\n",
              "      flex-wrap:wrap;\n",
              "      gap: 12px;\n",
              "    }\n",
              "\n",
              "    .colab-df-convert {\n",
              "      background-color: #E8F0FE;\n",
              "      border: none;\n",
              "      border-radius: 50%;\n",
              "      cursor: pointer;\n",
              "      display: none;\n",
              "      fill: #1967D2;\n",
              "      height: 32px;\n",
              "      padding: 0 0 0 0;\n",
              "      width: 32px;\n",
              "    }\n",
              "\n",
              "    .colab-df-convert:hover {\n",
              "      background-color: #E2EBFA;\n",
              "      box-shadow: 0px 1px 2px rgba(60, 64, 67, 0.3), 0px 1px 3px 1px rgba(60, 64, 67, 0.15);\n",
              "      fill: #174EA6;\n",
              "    }\n",
              "\n",
              "    [theme=dark] .colab-df-convert {\n",
              "      background-color: #3B4455;\n",
              "      fill: #D2E3FC;\n",
              "    }\n",
              "\n",
              "    [theme=dark] .colab-df-convert:hover {\n",
              "      background-color: #434B5C;\n",
              "      box-shadow: 0px 1px 3px 1px rgba(0, 0, 0, 0.15);\n",
              "      filter: drop-shadow(0px 1px 2px rgba(0, 0, 0, 0.3));\n",
              "      fill: #FFFFFF;\n",
              "    }\n",
              "  </style>\n",
              "\n",
              "      <script>\n",
              "        const buttonEl =\n",
              "          document.querySelector('#df-42a1419a-03dd-4df7-bcc2-b4fee204403e button.colab-df-convert');\n",
              "        buttonEl.style.display =\n",
              "          google.colab.kernel.accessAllowed ? 'block' : 'none';\n",
              "\n",
              "        async function convertToInteractive(key) {\n",
              "          const element = document.querySelector('#df-42a1419a-03dd-4df7-bcc2-b4fee204403e');\n",
              "          const dataTable =\n",
              "            await google.colab.kernel.invokeFunction('convertToInteractive',\n",
              "                                                     [key], {});\n",
              "          if (!dataTable) return;\n",
              "\n",
              "          const docLinkHtml = 'Like what you see? Visit the ' +\n",
              "            '<a target=\"_blank\" href=https://colab.research.google.com/notebooks/data_table.ipynb>data table notebook</a>'\n",
              "            + ' to learn more about interactive tables.';\n",
              "          element.innerHTML = '';\n",
              "          dataTable['output_type'] = 'display_data';\n",
              "          await google.colab.output.renderOutput(dataTable, element);\n",
              "          const docLink = document.createElement('div');\n",
              "          docLink.innerHTML = docLinkHtml;\n",
              "          element.appendChild(docLink);\n",
              "        }\n",
              "      </script>\n",
              "    </div>\n",
              "  </div>\n",
              "  "
            ]
          },
          "metadata": {},
          "execution_count": 28
        }
      ],
      "source": [
        "df_aerofit"
      ]
    },
    {
      "cell_type": "code",
      "execution_count": null,
      "id": "0beea90f",
      "metadata": {
        "colab": {
          "base_uri": "https://localhost:8080/",
          "height": 143
        },
        "id": "0beea90f",
        "outputId": "74a90b78-1e74-4a0a-862c-3607e9cd854b"
      },
      "outputs": [
        {
          "output_type": "execute_result",
          "data": {
            "text/plain": [
              "Product  KP281  KP481  KP781\n",
              "Gender                      \n",
              "Female      40     29      7\n",
              "Male        40     31     33"
            ],
            "text/html": [
              "\n",
              "  <div id=\"df-1ba23b94-a9ee-4ac5-8742-73046ac040b2\">\n",
              "    <div class=\"colab-df-container\">\n",
              "      <div>\n",
              "<style scoped>\n",
              "    .dataframe tbody tr th:only-of-type {\n",
              "        vertical-align: middle;\n",
              "    }\n",
              "\n",
              "    .dataframe tbody tr th {\n",
              "        vertical-align: top;\n",
              "    }\n",
              "\n",
              "    .dataframe thead th {\n",
              "        text-align: right;\n",
              "    }\n",
              "</style>\n",
              "<table border=\"1\" class=\"dataframe\">\n",
              "  <thead>\n",
              "    <tr style=\"text-align: right;\">\n",
              "      <th>Product</th>\n",
              "      <th>KP281</th>\n",
              "      <th>KP481</th>\n",
              "      <th>KP781</th>\n",
              "    </tr>\n",
              "    <tr>\n",
              "      <th>Gender</th>\n",
              "      <th></th>\n",
              "      <th></th>\n",
              "      <th></th>\n",
              "    </tr>\n",
              "  </thead>\n",
              "  <tbody>\n",
              "    <tr>\n",
              "      <th>Female</th>\n",
              "      <td>40</td>\n",
              "      <td>29</td>\n",
              "      <td>7</td>\n",
              "    </tr>\n",
              "    <tr>\n",
              "      <th>Male</th>\n",
              "      <td>40</td>\n",
              "      <td>31</td>\n",
              "      <td>33</td>\n",
              "    </tr>\n",
              "  </tbody>\n",
              "</table>\n",
              "</div>\n",
              "      <button class=\"colab-df-convert\" onclick=\"convertToInteractive('df-1ba23b94-a9ee-4ac5-8742-73046ac040b2')\"\n",
              "              title=\"Convert this dataframe to an interactive table.\"\n",
              "              style=\"display:none;\">\n",
              "        \n",
              "  <svg xmlns=\"http://www.w3.org/2000/svg\" height=\"24px\"viewBox=\"0 0 24 24\"\n",
              "       width=\"24px\">\n",
              "    <path d=\"M0 0h24v24H0V0z\" fill=\"none\"/>\n",
              "    <path d=\"M18.56 5.44l.94 2.06.94-2.06 2.06-.94-2.06-.94-.94-2.06-.94 2.06-2.06.94zm-11 1L8.5 8.5l.94-2.06 2.06-.94-2.06-.94L8.5 2.5l-.94 2.06-2.06.94zm10 10l.94 2.06.94-2.06 2.06-.94-2.06-.94-.94-2.06-.94 2.06-2.06.94z\"/><path d=\"M17.41 7.96l-1.37-1.37c-.4-.4-.92-.59-1.43-.59-.52 0-1.04.2-1.43.59L10.3 9.45l-7.72 7.72c-.78.78-.78 2.05 0 2.83L4 21.41c.39.39.9.59 1.41.59.51 0 1.02-.2 1.41-.59l7.78-7.78 2.81-2.81c.8-.78.8-2.07 0-2.86zM5.41 20L4 18.59l7.72-7.72 1.47 1.35L5.41 20z\"/>\n",
              "  </svg>\n",
              "      </button>\n",
              "      \n",
              "  <style>\n",
              "    .colab-df-container {\n",
              "      display:flex;\n",
              "      flex-wrap:wrap;\n",
              "      gap: 12px;\n",
              "    }\n",
              "\n",
              "    .colab-df-convert {\n",
              "      background-color: #E8F0FE;\n",
              "      border: none;\n",
              "      border-radius: 50%;\n",
              "      cursor: pointer;\n",
              "      display: none;\n",
              "      fill: #1967D2;\n",
              "      height: 32px;\n",
              "      padding: 0 0 0 0;\n",
              "      width: 32px;\n",
              "    }\n",
              "\n",
              "    .colab-df-convert:hover {\n",
              "      background-color: #E2EBFA;\n",
              "      box-shadow: 0px 1px 2px rgba(60, 64, 67, 0.3), 0px 1px 3px 1px rgba(60, 64, 67, 0.15);\n",
              "      fill: #174EA6;\n",
              "    }\n",
              "\n",
              "    [theme=dark] .colab-df-convert {\n",
              "      background-color: #3B4455;\n",
              "      fill: #D2E3FC;\n",
              "    }\n",
              "\n",
              "    [theme=dark] .colab-df-convert:hover {\n",
              "      background-color: #434B5C;\n",
              "      box-shadow: 0px 1px 3px 1px rgba(0, 0, 0, 0.15);\n",
              "      filter: drop-shadow(0px 1px 2px rgba(0, 0, 0, 0.3));\n",
              "      fill: #FFFFFF;\n",
              "    }\n",
              "  </style>\n",
              "\n",
              "      <script>\n",
              "        const buttonEl =\n",
              "          document.querySelector('#df-1ba23b94-a9ee-4ac5-8742-73046ac040b2 button.colab-df-convert');\n",
              "        buttonEl.style.display =\n",
              "          google.colab.kernel.accessAllowed ? 'block' : 'none';\n",
              "\n",
              "        async function convertToInteractive(key) {\n",
              "          const element = document.querySelector('#df-1ba23b94-a9ee-4ac5-8742-73046ac040b2');\n",
              "          const dataTable =\n",
              "            await google.colab.kernel.invokeFunction('convertToInteractive',\n",
              "                                                     [key], {});\n",
              "          if (!dataTable) return;\n",
              "\n",
              "          const docLinkHtml = 'Like what you see? Visit the ' +\n",
              "            '<a target=\"_blank\" href=https://colab.research.google.com/notebooks/data_table.ipynb>data table notebook</a>'\n",
              "            + ' to learn more about interactive tables.';\n",
              "          element.innerHTML = '';\n",
              "          dataTable['output_type'] = 'display_data';\n",
              "          await google.colab.output.renderOutput(dataTable, element);\n",
              "          const docLink = document.createElement('div');\n",
              "          docLink.innerHTML = docLinkHtml;\n",
              "          element.appendChild(docLink);\n",
              "        }\n",
              "      </script>\n",
              "    </div>\n",
              "  </div>\n",
              "  "
            ]
          },
          "metadata": {},
          "execution_count": 29
        }
      ],
      "source": [
        "gender_product = pd.crosstab(index=df_aerofit['Gender'],\n",
        "            columns=df_aerofit['Product'])\n",
        "gender_product"
      ]
    },
    {
      "cell_type": "code",
      "execution_count": null,
      "id": "afda5c4d",
      "metadata": {
        "colab": {
          "base_uri": "https://localhost:8080/"
        },
        "id": "afda5c4d",
        "outputId": "70cfe519-4d3c-484c-c269-cf31d73b9700"
      },
      "outputs": [
        {
          "output_type": "stream",
          "name": "stdout",
          "text": [
            "12.923836032388664\n",
            "0.0015617972833158714\n",
            "2\n",
            "[[33.77777778 25.33333333 16.88888889]\n",
            " [46.22222222 34.66666667 23.11111111]]\n",
            "Reject H0\n",
            "Gender impacts product\n"
          ]
        }
      ],
      "source": [
        "# H0 : Gender does not impact buying of product\n",
        "# HA : Gender impacts buying of product\n",
        "\n",
        "alpha = 0.05\n",
        "\n",
        "chi_stat, p_value, df, exp_value  = chi2_contingency(gender_product)\n",
        "\n",
        "print(chi_stat)\n",
        "print(p_value)\n",
        "print(df)\n",
        "print(exp_value)\n",
        "\n",
        "if p_value < 0.05:\n",
        "    print(\"Reject H0\")\n",
        "    print(\"Gender impacts product\")\n",
        "\n",
        "else :\n",
        "    print(\"Gender does not impact buying of product\")\n"
      ]
    },
    {
      "cell_type": "code",
      "source": [
        "Q1 = pd.DataFrame([['Single','Abstain']]*67 + [['Single','1-60']]*213 + [['Single','Over60']]*74 + [['Married','Abstain']]*411 + [['Married','1-60']]*633 + [['Married','Over60']]*129 + [['Widowed','Abstain']]*85 + [['Widowed','1-60']]*51 + [['Widowed','Over60']]*7 + [['Divorced','Abstain']]*27 + [['Divorced','1-60']]*60 + [['Divorced','Over60']]*15 ,columns=['MaritalStatus','DrinksPerMonth'])"
      ],
      "metadata": {
        "id": "xwxyMSNpW-sH"
      },
      "id": "xwxyMSNpW-sH",
      "execution_count": null,
      "outputs": []
    },
    {
      "cell_type": "code",
      "execution_count": null,
      "id": "a2cadae2",
      "metadata": {
        "id": "a2cadae2"
      },
      "outputs": [],
      "source": [
        "Q1CrossTab = pd.crosstab(index = Q1['MaritalStatus'], columns = Q1['DrinksPerMonth'])"
      ]
    },
    {
      "cell_type": "code",
      "execution_count": null,
      "id": "2b204e4c",
      "metadata": {
        "id": "2b204e4c",
        "colab": {
          "base_uri": "https://localhost:8080/"
        },
        "outputId": "ebe2dbfe-039f-41cd-efc7-909d59b7cea8"
      },
      "outputs": [
        {
          "output_type": "stream",
          "name": "stdout",
          "text": [
            "94.26880078578765\n",
            "3.925170647869838e-18\n",
            "6\n",
            "[[ 55.08690745  33.96162528  12.95146727]\n",
            " [633.49943567 390.55869074 148.94187359]\n",
            " [191.18397291 117.86681716  44.94920993]\n",
            " [ 77.22968397  47.61286682  18.15744921]]\n",
            "Reject H0\n"
          ]
        }
      ],
      "source": [
        "# H0 : Marital Status doesnot impact Alcohol Consumption\n",
        "# HA : It does impact\n",
        "\n",
        "alpha = 0.05\n",
        "\n",
        "chi_stat, p_value, df, exp_value  = chi2_contingency(Q1CrossTab)\n",
        "\n",
        "print(chi_stat)\n",
        "print(p_value)\n",
        "print(df)\n",
        "print(exp_value)\n",
        "\n",
        "if p_value < 0.05:\n",
        "    print(\"Reject H0\")\n",
        "\n",
        "else :\n",
        "    print(\"Unable to reject H0\")\n"
      ]
    },
    {
      "cell_type": "code",
      "execution_count": null,
      "id": "0ee9c63b",
      "metadata": {
        "id": "0ee9c63b"
      },
      "outputs": [],
      "source": [
        "#Q2\n",
        "\n",
        "Q2 = pd.DataFrame([['LessHS','Diabetes']]*33 + [['LessHS','NoDiabetes']]*218 + [['HSGrad','Diabetes']]*25 + [['HSGrad','NoDiabetes']]*389 + [['SomeCollege','Diabetes']]*20 + [['SomeCollege','NoDiabetes']]*393 + [['CollegeGrad','Diabetes']]*17 + [['CollegeGrad','NoDiabetes']]*178,columns=['Education','DiabeticState'])"
      ]
    },
    {
      "cell_type": "code",
      "execution_count": null,
      "id": "beaedb53",
      "metadata": {
        "id": "beaedb53"
      },
      "outputs": [],
      "source": [
        "Q2CrossTab = pd.crosstab(index = Q2['Education'], columns = Q2['DiabeticState'])"
      ]
    },
    {
      "cell_type": "code",
      "execution_count": null,
      "id": "78aea3e9",
      "metadata": {
        "id": "78aea3e9",
        "colab": {
          "base_uri": "https://localhost:8080/"
        },
        "outputId": "ff8fc7c4-67fb-4759-9cf2-e133a0c231d6"
      },
      "outputs": [
        {
          "output_type": "stream",
          "name": "stdout",
          "text": [
            "17.51186847271713\n",
            "0.000554511571355531\n",
            "3\n",
            "[[ 14.55223881 180.44776119]\n",
            " [ 30.89552239 383.10447761]\n",
            " [ 18.73134328 232.26865672]\n",
            " [ 30.82089552 382.17910448]]\n",
            "Reject H0\n"
          ]
        }
      ],
      "source": [
        "# H0 : Education does not impact diabetic state\n",
        "# HA : It does impact\n",
        "\n",
        "alpha = 0.01\n",
        "\n",
        "chi_stat, p_value, df, exp_value  = chi2_contingency(Q2CrossTab)\n",
        "\n",
        "print(chi_stat)\n",
        "print(p_value)\n",
        "print(df)\n",
        "print(exp_value)\n",
        "\n",
        "if p_value < alpha:\n",
        "    print(\"Reject H0\")\n",
        "\n",
        "else :\n",
        "    print(\"Unable to reject H0\")\n"
      ]
    },
    {
      "cell_type": "code",
      "execution_count": null,
      "id": "f0ccece5",
      "metadata": {
        "id": "f0ccece5"
      },
      "outputs": [],
      "source": [
        "#Q3\n",
        "\n",
        "Q3 = pd.DataFrame([['R','B']]*77 + [['R','S']]*149 + [['R','A']]*78 + [['NR','B']]*23 + [['NR','S']]*56 + [['NR','A']]*36 + [['A','B']]*8 + [['A','S']]*24 + [['A','A']]*29 + [['DK','B']]*6 + [['DK','S']]*15 + [['DK','A']]*8,columns=['Religiosity','Education'])"
      ]
    },
    {
      "cell_type": "code",
      "execution_count": null,
      "id": "fd08992e",
      "metadata": {
        "id": "fd08992e"
      },
      "outputs": [],
      "source": [
        "Q3CrossTab = pd.crosstab(index = Q3['Religiosity'], columns = Q3['Education'])"
      ]
    },
    {
      "cell_type": "code",
      "source": [],
      "metadata": {
        "id": "1QbpKsRnDCys"
      },
      "id": "1QbpKsRnDCys",
      "execution_count": null,
      "outputs": []
    },
    {
      "cell_type": "code",
      "execution_count": null,
      "id": "0366873f",
      "metadata": {
        "id": "0366873f",
        "colab": {
          "base_uri": "https://localhost:8080/"
        },
        "outputId": "20be54a1-a8dd-44f9-f79b-38d93ae8a15e"
      },
      "outputs": [
        {
          "output_type": "stream",
          "name": "stdout",
          "text": [
            "13.322313008960624\n",
            "0.038193742691133854\n",
            "6\n",
            "[[ 18.09626719  13.66208251  29.24165029]\n",
            " [  8.60314342   6.49508841  13.90176817]\n",
            " [ 34.11591356  25.75638507  55.12770138]\n",
            " [ 90.18467583  68.08644401 145.72888016]]\n",
            "Reject H0\n"
          ]
        }
      ],
      "source": [
        "# H0 : Religiosity does not impact education\n",
        "# HA : It does impact\n",
        "\n",
        "alpha = 0.05\n",
        "\n",
        "chi_stat, p_value, df, exp_value  = chi2_contingency(Q3CrossTab)\n",
        "\n",
        "print(chi_stat)\n",
        "print(p_value)\n",
        "print(df)\n",
        "print(exp_value)\n",
        "\n",
        "if p_value < alpha:\n",
        "    print(\"Reject H0\")\n",
        "\n",
        "else :\n",
        "    print(\"Unable to reject H0\")\n"
      ]
    },
    {
      "cell_type": "code",
      "source": [
        "#Q4\n",
        "\n",
        "observed = [[335, 348, 318],\n",
        "[35, 23, 50]]\n",
        "\n",
        "# H0 : No Association between Response and Region\n",
        "# HA : There is association\n",
        "\n",
        "alpha = 0.01\n",
        "\n",
        "chi_stat, p_value, df, exp_value  = chi2_contingency(observed)\n",
        "\n",
        "print(chi_stat)\n",
        "print(p_value)\n",
        "print(df)\n",
        "print(exp_value)\n",
        "\n",
        "if p_value < alpha:\n",
        "    print(\"Reject H0\")\n",
        "\n",
        "else :\n",
        "    print(\"Unable to reject H0\")\n",
        "\n"
      ],
      "metadata": {
        "colab": {
          "base_uri": "https://localhost:8080/"
        },
        "id": "w5ktPO1UDEHX",
        "outputId": "4ed054b8-2fff-42bb-d82f-cc7f9c808dfa"
      },
      "id": "w5ktPO1UDEHX",
      "execution_count": null,
      "outputs": [
        {
          "output_type": "stream",
          "name": "stdout",
          "text": [
            "11.519544916042339\n",
            "0.003151828690194211\n",
            "2\n",
            "[[333.96753832 334.87015329 332.16230839]\n",
            " [ 36.03246168  36.12984671  35.83769161]]\n",
            "Reject H0\n"
          ]
        }
      ]
    },
    {
      "cell_type": "code",
      "source": [
        "#Q5\n",
        "\n",
        "observed = [[6, 38, 31],\n",
        "[14, 31, 4],\n",
        "[50, 50, 5]]\n",
        "\n",
        "# H0 : No Association between Usage and Age\n",
        "# HA : There is association\n",
        "\n",
        "alpha = 0.01\n",
        "\n",
        "chi_stat, p_value, df, exp_value  = chi2_contingency(observed)\n",
        "\n",
        "print(chi_stat)\n",
        "print(p_value)\n",
        "print(df)\n",
        "print(exp_value)\n",
        "\n",
        "if p_value < alpha:\n",
        "    print(\"Reject H0\")\n",
        "\n",
        "else :\n",
        "    print(\"Unable to reject H0\")\n",
        "\n"
      ],
      "metadata": {
        "colab": {
          "base_uri": "https://localhost:8080/"
        },
        "id": "bZXCxRhyDFPH",
        "outputId": "ec2d45ec-2ffd-4b50-e4f9-daf55675f9d2"
      },
      "id": "bZXCxRhyDFPH",
      "execution_count": null,
      "outputs": [
        {
          "output_type": "stream",
          "name": "stdout",
          "text": [
            "60.74604310295546\n",
            "0.0\n",
            "4\n",
            "[[22.92576419 38.97379913 13.10043668]\n",
            " [14.97816594 25.4628821   8.55895197]\n",
            " [32.09606987 54.56331878 18.34061135]]\n",
            "Reject H0\n"
          ]
        }
      ]
    },
    {
      "cell_type": "code",
      "source": [
        "#Q6\n",
        "\n",
        "observed = [[75, 106, 46],\n",
        "[106, 161, 61],\n",
        "[98, 183, 52],\n",
        "[48, 102, 14]]\n",
        "\n",
        "# H0 : No Association between Income and Residence\n",
        "# HA : There is association\n",
        "\n",
        "alpha = 0.05\n",
        "\n",
        "chi_stat, p_value, df, exp_value  = chi2_contingency(observed)\n",
        "\n",
        "print(chi_stat)\n",
        "print(p_value)\n",
        "print(df)\n",
        "print(exp_value)\n",
        "\n",
        "if p_value < alpha:\n",
        "    print(\"Reject H0\")\n",
        "\n",
        "else :\n",
        "    print(\"Unable to reject H0\")\n",
        "\n"
      ],
      "metadata": {
        "colab": {
          "base_uri": "https://localhost:8080/"
        },
        "id": "eGHORjn3F-HS",
        "outputId": "9db45d27-25ee-4733-d052-f82af9c67198"
      },
      "id": "eGHORjn3F-HS",
      "execution_count": null,
      "outputs": [
        {
          "output_type": "stream",
          "name": "stdout",
          "text": [
            "15.727554171801787\n",
            "0.015293451318673136\n",
            "6\n",
            "[[ 70.55988593 119.11026616  37.32984791]\n",
            " [101.95437262 172.10646388  53.9391635 ]\n",
            " [103.50855513 174.73003802  54.76140684]\n",
            " [ 50.97718631  86.05323194  26.96958175]]\n",
            "Reject H0\n"
          ]
        }
      ]
    }
  ],
  "metadata": {
    "kernelspec": {
      "display_name": "Python 3 (ipykernel)",
      "language": "python",
      "name": "python3"
    },
    "language_info": {
      "codemirror_mode": {
        "name": "ipython",
        "version": 3
      },
      "file_extension": ".py",
      "mimetype": "text/x-python",
      "name": "python",
      "nbconvert_exporter": "python",
      "pygments_lexer": "ipython3",
      "version": "3.9.12"
    },
    "colab": {
      "provenance": [],
      "include_colab_link": true
    }
  },
  "nbformat": 4,
  "nbformat_minor": 5
}