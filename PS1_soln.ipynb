{
  "nbformat": 4,
  "nbformat_minor": 0,
  "metadata": {
    "colab": {
      "provenance": [],
      "include_colab_link": true
    },
    "kernelspec": {
      "name": "python3",
      "display_name": "Python 3"
    },
    "language_info": {
      "name": "python"
    }
  },
  "cells": [
    {
      "cell_type": "markdown",
      "metadata": {
        "id": "view-in-github",
        "colab_type": "text"
      },
      "source": [
        "<a href=\"https://colab.research.google.com/github/gchn24/DS-Notes/blob/main/PS1_soln.ipynb\" target=\"_parent\"><img src=\"https://colab.research.google.com/assets/colab-badge.svg\" alt=\"Open In Colab\"/></a>"
      ]
    },
    {
      "cell_type": "code",
      "execution_count": null,
      "metadata": {
        "colab": {
          "base_uri": "https://localhost:8080/"
        },
        "id": "6msnvxnYgpWh",
        "outputId": "499d60e2-3e10-4131-fd73-b286c1131207"
      },
      "outputs": [
        {
          "output_type": "stream",
          "name": "stdout",
          "text": [
            "Hello friends!!\n"
          ]
        }
      ],
      "source": [
        "print(\"Hello friends!!\")"
      ]
    },
    {
      "cell_type": "code",
      "source": [
        "def main():\n",
        "    # YOUR CODE GOES HERE\n",
        "    # Please take input and print output to standard input/output (stdin/stdout)\n",
        "    # E.g. 'input()/raw_input()' for input & 'print' for output\n",
        "    \n",
        "    t = int(input())\n",
        "    \n",
        "    while t>0:\n",
        "    \n",
        "        #task - take a number as input from user and count the digits for it\n",
        "        \n",
        "        n = int(input())\n",
        "        \n",
        "        count = 0\n",
        "        \n",
        "        #edge case : n=0\n",
        "        if n==0:\n",
        "            count = 1\n",
        "            \n",
        "        \n",
        "        while n>0:\n",
        "            n = n//10\n",
        "            count += 1\n",
        "        \n",
        "        print(count, end ='\\n')\n",
        "        \n",
        "        t = t-1\n",
        "    \n",
        "    \n",
        "    return 0\n",
        "\n",
        "if __name__ == '__main__':\n",
        "    main()"
      ],
      "metadata": {
        "id": "P355Gql_gtub"
      },
      "execution_count": null,
      "outputs": []
    },
    {
      "cell_type": "code",
      "source": [
        "t = 3\n",
        "\n",
        "while t>0:\n",
        "  print(t)\n",
        "  #task\n",
        "  \n",
        "  t = t-1"
      ],
      "metadata": {
        "colab": {
          "base_uri": "https://localhost:8080/"
        },
        "id": "HASX2_uzuABp",
        "outputId": "2991163f-b615-4204-9df9-66447814bddb"
      },
      "execution_count": null,
      "outputs": [
        {
          "output_type": "stream",
          "name": "stdout",
          "text": [
            "3\n",
            "2\n",
            "1\n"
          ]
        }
      ]
    },
    {
      "cell_type": "code",
      "source": [
        "#soln to = find the sum of all the digits of the number\n",
        "\n",
        "def main():\n",
        "    # YOUR CODE GOES HERE\n",
        "    # Please take input and print output to standard input/output (stdin/stdout)\n",
        "    # E.g. 'input()/raw_input()' for input & 'print' for output\n",
        "    \n",
        "    t = int(input())\n",
        "    \n",
        "    while t>0:\n",
        "    \n",
        "        #task - take a number as input from user and count the digits for it\n",
        "        \n",
        "        n = int(input())\n",
        "        \n",
        "        count = 0\n",
        "        \n",
        "        #edge case : n=0\n",
        "        # if n==0:\n",
        "        #     count = 1\n",
        "            \n",
        "        \n",
        "        digit = 0\n",
        "        sum = 0\n",
        "        \n",
        "        while n>0:\n",
        "            digit = n%10 #find the last digit of the number n and add it to the sum\n",
        "            n = n//10 # to update n with the remaining digits\n",
        "            count += 1\n",
        "            sum = sum + digit\n",
        "            \n",
        "        print(sum, end ='\\n')\n",
        "        \n",
        "        t = t-1\n",
        "    \n",
        "    \n",
        "    return 0\n",
        "\n",
        "if __name__ == '__main__':\n",
        "    main()"
      ],
      "metadata": {
        "id": "1eahIq6ouRXV"
      },
      "execution_count": null,
      "outputs": []
    },
    {
      "cell_type": "code",
      "source": [
        "   while n>0:\n",
        "            digit = n%10 #find the last digit of the number n and add it to the sum\n",
        "            n = n//10 # to update n with the remaining digits\n",
        "            count += 1\n",
        "            sum = sum + digit"
      ],
      "metadata": {
        "id": "VgXnDo6qun08"
      },
      "execution_count": null,
      "outputs": []
    },
    {
      "cell_type": "code",
      "source": [
        "while(N>0):\n",
        "  count += N%10\n",
        "  count = count + n%10\n",
        "  N=N//10"
      ],
      "metadata": {
        "id": "8dCoro8CxXpk"
      },
      "execution_count": null,
      "outputs": []
    },
    {
      "cell_type": "code",
      "source": [
        "#truthy and falsy\n",
        "\n",
        "n = 10\n",
        "\n",
        "# print(n%2)\n",
        "bool(n%2)"
      ],
      "metadata": {
        "colab": {
          "base_uri": "https://localhost:8080/"
        },
        "id": "nVdMl-1qyjYu",
        "outputId": "6d03474b-eba0-4a9e-b063-ddee0dbec0be"
      },
      "execution_count": null,
      "outputs": [
        {
          "output_type": "execute_result",
          "data": {
            "text/plain": [
              "False"
            ]
          },
          "metadata": {},
          "execution_count": 4
        }
      ]
    },
    {
      "cell_type": "code",
      "source": [
        "if condition:\n",
        "  print('even')\n",
        "\n",
        "\n",
        "condition --> n%2 == 0"
      ],
      "metadata": {
        "id": "le-Npa-ly3Zu"
      },
      "execution_count": null,
      "outputs": []
    },
    {
      "cell_type": "code",
      "source": [
        "even"
      ],
      "metadata": {
        "id": "g6vRD0a3zCEB"
      },
      "execution_count": null,
      "outputs": []
    },
    {
      "cell_type": "code",
      "source": [
        "if n%2==0:\n",
        "  print('even')\n",
        "\n",
        "\n",
        "# condition --> n%2 == 0"
      ],
      "metadata": {
        "colab": {
          "base_uri": "https://localhost:8080/"
        },
        "id": "EzBHJBZLzMpH",
        "outputId": "d5dc4b3a-1dee-423d-9cf1-c33203c42dbb"
      },
      "execution_count": null,
      "outputs": [
        {
          "output_type": "stream",
          "name": "stdout",
          "text": [
            "even\n"
          ]
        }
      ]
    },
    {
      "cell_type": "code",
      "source": [
        "if 1:\n",
        "\n",
        "if 0:\n",
        "  "
      ],
      "metadata": {
        "colab": {
          "base_uri": "https://localhost:8080/"
        },
        "id": "_ZSXgvE5zRYi",
        "outputId": "9341e50c-1cfd-442a-fa2e-affd63afd011"
      },
      "execution_count": null,
      "outputs": [
        {
          "output_type": "stream",
          "name": "stdout",
          "text": [
            "odd\n"
          ]
        }
      ]
    },
    {
      "cell_type": "code",
      "source": [
        "n = 10\n",
        "\n",
        "# n%2 --> {0,1}\n",
        "\n",
        "\n",
        "if n%2:\n",
        "  print(\"odd\")\n",
        "else:\n",
        "  print(\"even\")"
      ],
      "metadata": {
        "colab": {
          "base_uri": "https://localhost:8080/"
        },
        "id": "Pw4bAQ0BzkDX",
        "outputId": "eaaf30c5-133f-40c8-997b-27ccfa68711b"
      },
      "execution_count": null,
      "outputs": [
        {
          "output_type": "stream",
          "name": "stdout",
          "text": [
            "even\n"
          ]
        }
      ]
    },
    {
      "cell_type": "code",
      "source": [
        "if n%2:\n",
        "\n",
        "  n%2 = condition"
      ],
      "metadata": {
        "id": "gTwLhoLp0XVt"
      },
      "execution_count": null,
      "outputs": []
    },
    {
      "cell_type": "code",
      "source": [
        "n = 10\n",
        "\n",
        "# n%2 --> {0,1}\n",
        "\n",
        "\n",
        "if n%2==0:\n",
        "  print(\"even\")\n",
        "else:\n",
        "  print(\"odd\")"
      ],
      "metadata": {
        "colab": {
          "base_uri": "https://localhost:8080/"
        },
        "id": "MxcXGDUO0mVL",
        "outputId": "629b4f7c-62f1-4cad-87f2-f1e126b7de5c"
      },
      "execution_count": null,
      "outputs": [
        {
          "output_type": "stream",
          "name": "stdout",
          "text": [
            "even\n"
          ]
        }
      ]
    },
    {
      "cell_type": "code",
      "source": [
        "if 0: --> False\n",
        "\n",
        "if 0==0: --> True"
      ],
      "metadata": {
        "id": "VGIZ5zZc0reM"
      },
      "execution_count": null,
      "outputs": []
    },
    {
      "cell_type": "code",
      "source": [
        "def main():\n",
        "    # YOUR CODE GOES HERE\n",
        "    # Please take input and print output to standard input/output (stdin/stdout)\n",
        "    # E.g. 'input()/raw_input()' for input & 'print' for output\n",
        "    \n",
        "    power_pallet_active = int(input())\n",
        "    \n",
        "    touching_ghost = int(input())\n",
        "    \n",
        "    \n",
        "    if (touching_ghost == 1 and (power_pallet_active == 0)):\n",
        "        print(1)\n",
        "    else:\n",
        "        print(0)\n",
        "        \n",
        "   \n",
        "    #not required - will come with practice     \n",
        "    # if (touching_ghost and (not power_pallet_active)):\n",
        "    #     print(1)\n",
        "    # else:\n",
        "    #     print(0)\n",
        "    \n",
        "    return 0\n",
        "\n",
        "if __name__ == '__main__':\n",
        "    main()"
      ],
      "metadata": {
        "id": "Rr2pgFWx3mbj"
      },
      "execution_count": null,
      "outputs": []
    },
    {
      "cell_type": "code",
      "source": [
        "Prog = str(input(\"\")) \n",
        "if Prog == \"Python\" or \"Java\":\n",
        "  print(\"Nice choice!\")\n",
        "elif Prog ==\"Golang\":\n",
        "  print(\"You're a cool person I see...\")\n",
        "elif Prog ==\"JavaScript\":\n",
        "  print(\"Okay so you are our web developer!\")\n",
        "elif Prog ==\"C++\":\n",
        "  print(\"Too old school...\")\n",
        "else:\n",
        "  print(\"I don't know the language.\")"
      ],
      "metadata": {
        "colab": {
          "base_uri": "https://localhost:8080/",
          "height": 134
        },
        "id": "RR4Ij6m25tH-",
        "outputId": "3d7eae30-e4fe-42bc-ceb2-b1b573dc7016"
      },
      "execution_count": null,
      "outputs": [
        {
          "output_type": "error",
          "ename": "IndentationError",
          "evalue": "ignored",
          "traceback": [
            "\u001b[0;36m  File \u001b[0;32m\"<ipython-input-9-a3ef82ba0389>\"\u001b[0;36m, line \u001b[0;32m2\u001b[0m\n\u001b[0;31m    if Prog == \"Python\" or \"Java\":\u001b[0m\n\u001b[0m    ^\u001b[0m\n\u001b[0;31mIndentationError\u001b[0m\u001b[0;31m:\u001b[0m unexpected indent\n"
          ]
        }
      ]
    },
    {
      "cell_type": "code",
      "source": [
        "bool(\"Python\" or \"Java\")"
      ],
      "metadata": {
        "colab": {
          "base_uri": "https://localhost:8080/"
        },
        "id": "JPxEp-qk53bL",
        "outputId": "95139ffa-4e0e-493b-fa3f-f35f37f73e63"
      },
      "execution_count": null,
      "outputs": [
        {
          "output_type": "execute_result",
          "data": {
            "text/plain": [
              "True"
            ]
          },
          "metadata": {},
          "execution_count": 11
        }
      ]
    },
    {
      "cell_type": "code",
      "source": [
        "prog == (true)"
      ],
      "metadata": {
        "id": "cCC0I-1l696J"
      },
      "execution_count": null,
      "outputs": []
    }
  ]
}