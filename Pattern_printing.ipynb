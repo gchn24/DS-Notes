{
  "nbformat": 4,
  "nbformat_minor": 0,
  "metadata": {
    "colab": {
      "provenance": [],
      "include_colab_link": true
    },
    "kernelspec": {
      "name": "python3",
      "display_name": "Python 3"
    },
    "language_info": {
      "name": "python"
    }
  },
  "cells": [
    {
      "cell_type": "markdown",
      "metadata": {
        "id": "view-in-github",
        "colab_type": "text"
      },
      "source": [
        "<a href=\"https://colab.research.google.com/github/gchn24/DS-Notes/blob/main/Pattern_printing.ipynb\" target=\"_parent\"><img src=\"https://colab.research.google.com/assets/colab-badge.svg\" alt=\"Open In Colab\"/></a>"
      ]
    },
    {
      "cell_type": "code",
      "execution_count": null,
      "metadata": {
        "id": "Pbt8jJlfP3tH"
      },
      "outputs": [],
      "source": [
        "Question 1: Print the following pattern:\n",
        "\n",
        "n=5\n",
        "*\n",
        "**\n",
        "***\n",
        "****\n",
        "*****\n",
        "\n",
        "Input the number of rows from the user\n",
        "n"
      ]
    },
    {
      "cell_type": "code",
      "source": [
        "n = int(input())\n",
        "\n",
        "for i  in range(n):\n",
        "  for j in range(i+1):\n",
        "    print('*', end=\"\")\n",
        "\n",
        "  print()\n",
        "\n",
        "\n",
        "#3-4 ways to write such problems - plz focus on understanding the concept"
      ],
      "metadata": {
        "colab": {
          "base_uri": "https://localhost:8080/"
        },
        "id": "weSZ0sZ7TOrt",
        "outputId": "efe3d6b8-f2bd-4e7e-d299-cffdc982416f"
      },
      "execution_count": null,
      "outputs": [
        {
          "output_type": "stream",
          "name": "stdout",
          "text": [
            "5\n",
            "*\n",
            "**\n",
            "***\n",
            "****\n",
            "*****\n"
          ]
        }
      ]
    },
    {
      "cell_type": "code",
      "source": [
        "Question2:\n",
        "\n",
        "Print the following pattern:\n",
        "n=6\n",
        "*\n",
        "*2\n",
        "*2*\n",
        "*2*4\n",
        "*2*4*\n",
        "*2*4*6\n",
        "\n",
        "Input n from user:\n"
      ],
      "metadata": {
        "id": "-DfBEKEFU6-w"
      },
      "execution_count": null,
      "outputs": []
    },
    {
      "cell_type": "code",
      "source": [
        "n = int(input())\n",
        "\n",
        "for i in range(n):\n",
        "  for j in range(1, i+2):\n",
        "\n",
        "    #j is even: print j\n",
        "    if j%2==0:\n",
        "      print(j, end=\"\")\n",
        "    else:\n",
        "      print('*', end=\"\")\n",
        "\n",
        "  # print('\\n',end=\"\")\n",
        "  print()"
      ],
      "metadata": {
        "colab": {
          "base_uri": "https://localhost:8080/"
        },
        "id": "nxxKImAEXb6H",
        "outputId": "1fd7e7fd-f354-4b89-8c91-0dc8464c592e"
      },
      "execution_count": null,
      "outputs": [
        {
          "output_type": "stream",
          "name": "stdout",
          "text": [
            "6\n",
            "*\n",
            "*2\n",
            "*2*\n",
            "*2*4\n",
            "*2*4*\n",
            "*2*4*6\n"
          ]
        }
      ]
    },
    {
      "cell_type": "code",
      "source": [
        "n = int(input())\n",
        "\n",
        "for i in range(n):\n",
        "  for j in range(1, i+2):\n",
        "\n",
        "    #j is even: print j\n",
        "    if j%2==0:\n",
        "      print(j, end=\"\")\n",
        "    else:\n",
        "      print('*', end=\"\")\n",
        "\n",
        "  # print('\\n',end=\"\")\n",
        "  print()"
      ],
      "metadata": {
        "id": "ymAA824XYAYF"
      },
      "execution_count": null,
      "outputs": []
    },
    {
      "cell_type": "code",
      "source": [
        "Question3:\n",
        "\n",
        "Print the following pattern;\n",
        "\n",
        "n= 5\n",
        "\n",
        "*****\n",
        "****\n",
        "***\n",
        "**\n",
        "*\n",
        "\n",
        "Input n from the user"
      ],
      "metadata": {
        "id": "YUv9cmfCZw5H"
      },
      "execution_count": null,
      "outputs": []
    },
    {
      "cell_type": "code",
      "source": [
        "n = int(input())\n",
        "\n",
        "for i  in range(n):\n",
        "  for j in range(n-i):\n",
        "    print('*', end=\"\")\n",
        "\n",
        "  print()\n",
        "\n",
        "\n",
        "#3-4 ways to write such problems - plz focus on understanding the concept"
      ],
      "metadata": {
        "colab": {
          "base_uri": "https://localhost:8080/"
        },
        "id": "SCI5130GZ_Oh",
        "outputId": "26757071-0985-4d36-d436-ba994ed10d08"
      },
      "execution_count": null,
      "outputs": [
        {
          "output_type": "stream",
          "name": "stdout",
          "text": [
            "5\n",
            "*****\n",
            "****\n",
            "***\n",
            "**\n",
            "*\n"
          ]
        }
      ]
    },
    {
      "cell_type": "code",
      "source": [
        "n = int(input())\n",
        "\n",
        "for i  in range(n, 0 , -1):\n",
        "  for j in range(i):\n",
        "    print('*', end=\"\")\n",
        "\n",
        "  print()\n",
        "\n",
        "\n",
        "#3-4 ways to write such problems - plz focus on understanding the concept"
      ],
      "metadata": {
        "colab": {
          "base_uri": "https://localhost:8080/"
        },
        "id": "5q-lT1FxbdWa",
        "outputId": "79a386c3-0158-4122-997b-d91a003d1729"
      },
      "execution_count": null,
      "outputs": [
        {
          "output_type": "stream",
          "name": "stdout",
          "text": [
            "5\n",
            "*****\n",
            "****\n",
            "***\n",
            "**\n",
            "*\n"
          ]
        }
      ]
    },
    {
      "cell_type": "code",
      "source": [
        "n = int(input())\n",
        "\n",
        "for i in range(n):\n",
        "  \n",
        "  for j in range(1, i+2):\n",
        "\n",
        "    #j is even: print j\n",
        "    if j%2==0:\n",
        "      print(j, end=\"\")\n",
        "    else:\n",
        "      print('*', end=\"\")\n",
        "\n",
        "  # print('\\n',end=\"\")\n",
        "  print()"
      ],
      "metadata": {
        "id": "U8xZxqIrcEIO"
      },
      "execution_count": null,
      "outputs": []
    },
    {
      "cell_type": "code",
      "source": [
        "Doubts:\n",
        "i \n",
        "range(1,i+1)\n",
        "range(1,2)\n",
        "range(1,3)\n",
        "range(1,4)\n",
        "range(1,5)\n",
        "range(1,7)\n",
        "*,2,*,4,*,6"
      ],
      "metadata": {
        "id": "-bM6G5Acdld5"
      },
      "execution_count": null,
      "outputs": []
    },
    {
      "cell_type": "code",
      "source": [
        "Question4:\n",
        "\n",
        "Print the following pattern: \n",
        "\n",
        "n=5\n",
        "    *\n",
        "   **\n",
        "  ***\n",
        " ****\n",
        "*****\n",
        "\n",
        "Take n as input from user:"
      ],
      "metadata": {
        "id": "Ud_1PPKiffVH"
      },
      "execution_count": null,
      "outputs": []
    },
    {
      "cell_type": "code",
      "source": [
        "#outline of our code\n",
        "n = int(input())\n",
        "\n",
        "for i in range(n):\n",
        "\n",
        "  #print spaces\n",
        "\n",
        "\n",
        "  #print *\n",
        "\n",
        "  print()"
      ],
      "metadata": {
        "id": "gANV69FCiemE"
      },
      "execution_count": null,
      "outputs": []
    },
    {
      "cell_type": "code",
      "source": [
        "n = int(input())\n",
        "\n",
        "for i in range(n):\n",
        "\n",
        "  #print spaces\n",
        "  for j in range(n-i-1):\n",
        "    print(' ', end=\"\")\n",
        "\n",
        "  #print *\n",
        "  for k in range(i+1):\n",
        "    print('*', end=\"\")\n",
        "\n",
        "  print()"
      ],
      "metadata": {
        "colab": {
          "base_uri": "https://localhost:8080/"
        },
        "id": "r4d2koFYiuK9",
        "outputId": "b4ad8c10-704b-45aa-8e07-20663d92ceff"
      },
      "execution_count": null,
      "outputs": [
        {
          "output_type": "stream",
          "name": "stdout",
          "text": [
            "7\n",
            "      *\n",
            "     **\n",
            "    ***\n",
            "   ****\n",
            "  *****\n",
            " ******\n",
            "*******\n"
          ]
        }
      ]
    },
    {
      "cell_type": "code",
      "source": [
        "Question5:\n",
        "\n",
        "Print the following pattern given a string as input from the user: (enter name in caps)\n",
        "\n",
        "User enters the name : ADITYA\n",
        "\n",
        "A*****\n",
        "*D****\n",
        "**I***\n",
        "***T**\n",
        "****Y*\n",
        "*****A\n",
        "\n",
        "\n",
        "HW- Two todos for this class - plz feel free to discuss with your friends \n",
        "1- The notes question = max(,,,)+1\n",
        "2- The above one"
      ],
      "metadata": {
        "id": "_5NLfFEejFVE"
      },
      "execution_count": null,
      "outputs": []
    },
    {
      "cell_type": "code",
      "source": [
        "Question6: print the following pattern\n",
        "\n",
        "n=5\n",
        "1\n",
        "12\n",
        "123\n",
        "1234\n",
        "12345\n",
        "\n",
        "\n",
        "Take n as input from the user:"
      ],
      "metadata": {
        "id": "wXcYbQqVoum3"
      },
      "execution_count": null,
      "outputs": []
    },
    {
      "cell_type": "code",
      "source": [
        "n = int(input())\n",
        "\n",
        "for i in range(1,n+1):\n",
        "  for j in range(1,i+1):\n",
        "    print(j,end=\"\")\n",
        "\n",
        "  print()"
      ],
      "metadata": {
        "colab": {
          "base_uri": "https://localhost:8080/"
        },
        "id": "UMAftHMhpUVX",
        "outputId": "d22a0c96-0728-479d-f03a-979f1eadc03e"
      },
      "execution_count": null,
      "outputs": [
        {
          "output_type": "stream",
          "name": "stdout",
          "text": [
            "5\n",
            "1\n",
            "12\n",
            "123\n",
            "1234\n",
            "12345\n"
          ]
        }
      ]
    },
    {
      "cell_type": "code",
      "source": [
        "n = int(input())\n",
        "\n",
        "for i in range(n):\n",
        "  for j in range(1,i+2):\n",
        "    print(j,end=\"\")\n",
        "\n",
        "  print()"
      ],
      "metadata": {
        "colab": {
          "base_uri": "https://localhost:8080/"
        },
        "id": "uJL_9fHhpqq6",
        "outputId": "a3b16144-1bbc-4331-f479-c197b8c0faf4"
      },
      "execution_count": null,
      "outputs": [
        {
          "output_type": "stream",
          "name": "stdout",
          "text": [
            "7\n",
            "1\n",
            "12\n",
            "123\n",
            "1234\n",
            "12345\n",
            "123456\n",
            "1234567\n"
          ]
        }
      ]
    },
    {
      "cell_type": "code",
      "source": [
        "n = int(input())\n",
        "\n",
        "for i in range(n):\n",
        "  for j in range(0,i+1):\n",
        "    print(j+1,end=\"\")\n",
        "\n",
        "  print()"
      ],
      "metadata": {
        "colab": {
          "base_uri": "https://localhost:8080/"
        },
        "id": "vr6BCZzep3oh",
        "outputId": "ff5862a2-a86e-4b6a-c53a-53b98a5b0e09"
      },
      "execution_count": null,
      "outputs": [
        {
          "output_type": "stream",
          "name": "stdout",
          "text": [
            "5\n",
            "1\n",
            "12\n",
            "123\n",
            "1234\n",
            "12345\n"
          ]
        }
      ]
    },
    {
      "cell_type": "code",
      "source": [],
      "metadata": {
        "id": "9NAhBKclqAIg"
      },
      "execution_count": null,
      "outputs": []
    }
  ]
}