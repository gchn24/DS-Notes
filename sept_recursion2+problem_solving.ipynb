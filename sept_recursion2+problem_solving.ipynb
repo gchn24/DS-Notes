{
  "nbformat": 4,
  "nbformat_minor": 0,
  "metadata": {
    "colab": {
      "provenance": [],
      "include_colab_link": true
    },
    "kernelspec": {
      "name": "python3",
      "display_name": "Python 3"
    },
    "language_info": {
      "name": "python"
    }
  },
  "cells": [
    {
      "cell_type": "markdown",
      "metadata": {
        "id": "view-in-github",
        "colab_type": "text"
      },
      "source": [
        "<a href=\"https://colab.research.google.com/github/gchn24/DS-Notes/blob/main/sept_recursion2%2Bproblem_solving.ipynb\" target=\"_parent\"><img src=\"https://colab.research.google.com/assets/colab-badge.svg\" alt=\"Open In Colab\"/></a>"
      ]
    },
    {
      "cell_type": "code",
      "execution_count": null,
      "metadata": {
        "colab": {
          "base_uri": "https://localhost:8080/",
          "height": 52
        },
        "id": "MXBV4zcBqTOz",
        "outputId": "c46b194b-af86-4704-ffef-7b1bf857712c"
      },
      "outputs": [
        {
          "output_type": "execute_result",
          "data": {
            "text/plain": [
              "'\\nWrite a recursive code that takes n as input and computes and returns the sum of all the numbers from 1 to n.\\n\\neg: solve(4)\\nans : 10\\n'"
            ],
            "application/vnd.google.colaboratory.intrinsic+json": {
              "type": "string"
            }
          },
          "metadata": {},
          "execution_count": 1
        }
      ],
      "source": [
        "'''\n",
        "Write a recursive code that takes n as input and computes and returns the sum of all the numbers from 1 to n.\n",
        "\n",
        "eg: solve(4)\n",
        "ans : 10\n",
        "'''"
      ]
    },
    {
      "cell_type": "code",
      "source": [
        "#non-recursive code"
      ],
      "metadata": {
        "id": "CzMg4ZyHsuNE"
      },
      "execution_count": null,
      "outputs": []
    },
    {
      "cell_type": "code",
      "source": [
        "def solve1(n):\n",
        "\n",
        "  sum = 0\n",
        "  for i in range(n+1):\n",
        "    sum += i\n",
        "  \n",
        "  return sum"
      ],
      "metadata": {
        "id": "HURnhKH8sytm"
      },
      "execution_count": null,
      "outputs": []
    },
    {
      "cell_type": "code",
      "source": [
        "ans = solve1(5)\n",
        "print(ans)"
      ],
      "metadata": {
        "colab": {
          "base_uri": "https://localhost:8080/"
        },
        "id": "aBX8Gxn_s84L",
        "outputId": "59189278-5a20-42a6-8718-d47dd4a920e3"
      },
      "execution_count": null,
      "outputs": [
        {
          "output_type": "stream",
          "name": "stdout",
          "text": [
            "15\n"
          ]
        }
      ]
    },
    {
      "cell_type": "code",
      "source": [
        "def solve2(n):\n",
        "\n",
        "  if n==1 or n==0:\n",
        "    return n\n",
        "\n",
        "  return n + solve2(n-1)"
      ],
      "metadata": {
        "id": "cA6T6Kh5s_fj"
      },
      "execution_count": null,
      "outputs": []
    },
    {
      "cell_type": "code",
      "source": [
        "ans = solve2(5)\n",
        "print(ans)"
      ],
      "metadata": {
        "colab": {
          "base_uri": "https://localhost:8080/"
        },
        "id": "C5B1exo4t0_a",
        "outputId": "ccc1b7f3-4ce0-4fd2-a627-36874e83da1f"
      },
      "execution_count": null,
      "outputs": [
        {
          "output_type": "stream",
          "name": "stdout",
          "text": [
            "15\n"
          ]
        }
      ]
    },
    {
      "cell_type": "code",
      "source": [
        "'''\n",
        "You hvae a list of numbered cards.\n",
        "Every time I pop the first element of input list and pupt it to the result - new list to be created \n",
        "and move the next element to the last/end.\n",
        "Kepp doing this untile the input list is empty and pring the result list\n",
        "\n",
        "eg: 1, 2, 3, 4, 5, 6\n",
        "op: \n",
        "'''\n"
      ],
      "metadata": {
        "id": "x7LnAOSot4oz"
      },
      "execution_count": null,
      "outputs": []
    },
    {
      "cell_type": "code",
      "source": [
        "def solve(a):\n",
        "\n",
        "  #base condition\n",
        "  if len(a) == 1:\n",
        "    return a\n",
        "\n",
        "  result = a[::2]\n",
        "\n",
        "  return result + solve(a[1::2])"
      ],
      "metadata": {
        "id": "vOmWpJCJxxD8"
      },
      "execution_count": null,
      "outputs": []
    },
    {
      "cell_type": "code",
      "source": [
        "a = [1,2,3,4,5,6]\n",
        "ans = solve(a)\n",
        "\n",
        "print(ans)"
      ],
      "metadata": {
        "colab": {
          "base_uri": "https://localhost:8080/"
        },
        "id": "AcTXchmayS73",
        "outputId": "0b149f16-1e38-4154-eed4-2bbc1acf6642"
      },
      "execution_count": null,
      "outputs": [
        {
          "output_type": "stream",
          "name": "stdout",
          "text": [
            "[1, 3, 5, 2, 6, 4]\n"
          ]
        }
      ]
    },
    {
      "cell_type": "code",
      "source": [
        "def cards(lis,result=[]):\n",
        "\n",
        "  if len(lis)==0:\n",
        "    return result\n",
        "\n",
        "  k=lis.pop(0)\n",
        "  \n",
        "  if len(lis)>0:\n",
        "    m = lis.pop(0)\n",
        "    lis.append(m)\n",
        "    \n",
        "  result.append(k)\n",
        "  \n",
        "  return cards(lis,result)\n"
      ],
      "metadata": {
        "id": "So7hKzG0yazD"
      },
      "execution_count": null,
      "outputs": []
    },
    {
      "cell_type": "code",
      "source": [
        "a=[1,2,3]\n",
        "print(cards(a))"
      ],
      "metadata": {
        "id": "6gzdByeYyzAN"
      },
      "execution_count": null,
      "outputs": []
    },
    {
      "cell_type": "code",
      "source": [
        "def binary_search(a, key):\n",
        "\n",
        "  n = len(a)\n",
        "  low = 0\n",
        "  high = n-1\n",
        "\n",
        "  while low <= high:\n",
        "\n",
        "    mid = low + (high-low)//2\n",
        "\n",
        "    if a[mid] == key:\n",
        "      return mid\n",
        "    elif a[mid] < key:\n",
        "      low = mid + 1\n",
        "    else:\n",
        "      high = mid - 1\n",
        "\n",
        "  return -1\n",
        "\n",
        "\n"
      ],
      "metadata": {
        "id": "5e90gyz_ztBD"
      },
      "execution_count": null,
      "outputs": []
    },
    {
      "cell_type": "code",
      "source": [
        "a = [4,8,10,14,17,20]\n",
        "key = 12\n",
        "ans = binary_search(a, key)"
      ],
      "metadata": {
        "id": "QzkiXaWY4AVZ"
      },
      "execution_count": null,
      "outputs": []
    },
    {
      "cell_type": "code",
      "source": [
        "print(ans)"
      ],
      "metadata": {
        "colab": {
          "base_uri": "https://localhost:8080/"
        },
        "id": "CFMnMqug4-6E",
        "outputId": "afa3e37a-5c71-4eac-a620-c159a0038072"
      },
      "execution_count": null,
      "outputs": [
        {
          "output_type": "stream",
          "name": "stdout",
          "text": [
            "-1\n"
          ]
        }
      ]
    },
    {
      "cell_type": "code",
      "source": [
        "def binary_search(a, key):\n",
        "\n",
        "  n = len(a)\n",
        "  low = 0\n",
        "  high = n-1\n",
        "\n",
        "  while low <= high:\n",
        "\n",
        "    mid = low + (high-low)//2\n",
        "\n",
        "    if a[mid] == key:\n",
        "      return mid\n",
        "    elif a[mid] < key:\n",
        "      low = mid + 1\n",
        "    else:\n",
        "      high = mid - 1\n",
        "\n",
        "  return low"
      ],
      "metadata": {
        "id": "7UGYxnR75AkI"
      },
      "execution_count": null,
      "outputs": []
    },
    {
      "cell_type": "code",
      "source": [
        "a = [4,8,10,14,17,20]\n",
        "key = 12\n",
        "ans = binary_search(a, key)\n",
        "print(ans)"
      ],
      "metadata": {
        "colab": {
          "base_uri": "https://localhost:8080/"
        },
        "id": "1UA4yMQ357Pn",
        "outputId": "5d9f15e8-d196-4dca-f9f2-7d4f04f01745"
      },
      "execution_count": null,
      "outputs": [
        {
          "output_type": "stream",
          "name": "stdout",
          "text": [
            "3\n"
          ]
        }
      ]
    },
    {
      "cell_type": "code",
      "source": [
        "# 8:15 -- > 8: 23"
      ],
      "metadata": {
        "id": "EBOb6Y2h57zt"
      },
      "execution_count": null,
      "outputs": []
    },
    {
      "cell_type": "code",
      "source": [
        "#sum of first and last elem"
      ],
      "metadata": {
        "id": "S4278L6r9a-J"
      },
      "execution_count": null,
      "outputs": []
    },
    {
      "cell_type": "code",
      "source": [
        "a = [64, 34, 25, 12, 22, 11, 90]\n",
        "k = 4"
      ],
      "metadata": {
        "id": "e413W1q59cZs"
      },
      "execution_count": null,
      "outputs": []
    },
    {
      "cell_type": "code",
      "source": [
        "def bubble_sort(a):\n",
        "  n = len(a)\n",
        "  for i in range(n):\n",
        "    for j in range(0,n-i-1):\n",
        "      if a[j] > a[j+1]:\n",
        "        #swap\n",
        "        a[j], a[j+1] = a[j+1], a[j]\n",
        "\n",
        "  res = a[0] + a[-1]\n",
        "  return res"
      ],
      "metadata": {
        "id": "WpGNee5I-_tL"
      },
      "execution_count": null,
      "outputs": []
    },
    {
      "cell_type": "code",
      "source": [
        "a = [64, 34, 25, 12, 22, 11, 90]\n",
        "# k = 4\n",
        "ans = bubble_sort(a)\n",
        "print(ans)"
      ],
      "metadata": {
        "colab": {
          "base_uri": "https://localhost:8080/"
        },
        "id": "jZRIvsKj_Za3",
        "outputId": "aa01f30d-9770-4d09-e734-7aff27f9353b"
      },
      "execution_count": null,
      "outputs": [
        {
          "output_type": "stream",
          "name": "stdout",
          "text": [
            "101\n"
          ]
        }
      ]
    },
    {
      "cell_type": "code",
      "source": [
        "\n",
        "#after k iteratinos of bubble sort, sum of first and last element\n",
        "def bubble_sort(a,k):\n",
        "  n = len(a)\n",
        "  for i in range(k):\n",
        "    for j in range(0,n-i-1):\n",
        "      if a[j] > a[j+1]:\n",
        "        #swap\n",
        "        a[j], a[j+1] = a[j+1], a[j]\n",
        "\n",
        "  res = a[0] + a[-1]\n",
        "  return res"
      ],
      "metadata": {
        "id": "mZxWGIwj_fiv"
      },
      "execution_count": null,
      "outputs": []
    },
    {
      "cell_type": "code",
      "source": [
        "a = [64, 34, 25, 12, 22, 11, 90]\n",
        "k = 2\n",
        "ans = bubble_sort(a,k)\n",
        "print(ans)"
      ],
      "metadata": {
        "colab": {
          "base_uri": "https://localhost:8080/"
        },
        "id": "J0AipC3u_syy",
        "outputId": "10c572ec-4127-48d5-e0b5-0df58c5d20a4"
      },
      "execution_count": null,
      "outputs": [
        {
          "output_type": "stream",
          "name": "stdout",
          "text": [
            "115\n"
          ]
        }
      ]
    },
    {
      "cell_type": "code",
      "source": [
        "# First k = beginning k elements\n",
        "\n",
        "def bubble_sort(a,k):\n",
        "  n = len(a)\n",
        "  for i in range(k):\n",
        "    for j in range(k-i-1):\n",
        "      if a[j] > a[j+1]:\n",
        "        #swap\n",
        "        a[j], a[j+1] = a[j+1], a[j]\n",
        "\n",
        "  res = a[0] + a[-1]\n",
        "  return res"
      ],
      "metadata": {
        "id": "91EMx_80_ySj"
      },
      "execution_count": null,
      "outputs": []
    },
    {
      "cell_type": "code",
      "source": [
        "a = [64, 34, 25, 12, 22, 11, 90,20]\n",
        "k = 4\n",
        "ans = bubble_sort(a,k)\n",
        "print(ans)"
      ],
      "metadata": {
        "colab": {
          "base_uri": "https://localhost:8080/"
        },
        "id": "ddD2DwfsBMoR",
        "outputId": "0843424b-715a-4462-daf9-6a492e2f8bc8"
      },
      "execution_count": null,
      "outputs": [
        {
          "output_type": "stream",
          "name": "stdout",
          "text": [
            "32\n"
          ]
        }
      ]
    },
    {
      "cell_type": "code",
      "source": [
        "n = 10\n",
        "for i in range(n):\n",
        "  print(i)"
      ],
      "metadata": {
        "colab": {
          "base_uri": "https://localhost:8080/"
        },
        "id": "o76OcEufBOI4",
        "outputId": "d01b3ea5-a6fa-45ec-a005-47757ffd21e3"
      },
      "execution_count": null,
      "outputs": [
        {
          "output_type": "stream",
          "name": "stdout",
          "text": [
            "0\n",
            "1\n",
            "2\n",
            "3\n",
            "4\n",
            "5\n",
            "6\n",
            "7\n",
            "8\n",
            "9\n"
          ]
        }
      ]
    },
    {
      "cell_type": "code",
      "source": [],
      "metadata": {
        "id": "K-PjVRWEEITv"
      },
      "execution_count": null,
      "outputs": []
    }
  ]
}