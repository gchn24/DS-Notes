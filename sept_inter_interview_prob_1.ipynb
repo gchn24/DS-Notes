{
  "nbformat": 4,
  "nbformat_minor": 0,
  "metadata": {
    "colab": {
      "provenance": [],
      "include_colab_link": true
    },
    "kernelspec": {
      "name": "python3",
      "display_name": "Python 3"
    },
    "language_info": {
      "name": "python"
    }
  },
  "cells": [
    {
      "cell_type": "markdown",
      "metadata": {
        "id": "view-in-github",
        "colab_type": "text"
      },
      "source": [
        "<a href=\"https://colab.research.google.com/github/gchn24/DS-Notes/blob/main/sept_inter_interview_prob_1.ipynb\" target=\"_parent\"><img src=\"https://colab.research.google.com/assets/colab-badge.svg\" alt=\"Open In Colab\"/></a>"
      ]
    },
    {
      "cell_type": "markdown",
      "source": [
        "Based on Binary Search:\n",
        "```\n",
        "Given a sorted array of n elements, possibly with duplicates, find the number of occurrences of the target element.\n",
        "\n",
        "Example 1:\n",
        "\n",
        "Input: arr = [4, 4, 8, 8, 8, 15, 16, 23, 23, 42], target = 8\n",
        "Output: 3\n",
        "Example 2:\n",
        "\n",
        "Input: arr = [3, 5, 5, 5, 5, 7, 8, 8], target = 6\n",
        "Output: 0\n",
        "Example 3:\n",
        "\n",
        "Input: arr = [3, 5, 5, 5, 5, 7, 8, 8], target = 5\n",
        "Output: 4\n",
        "\n",
        "Note: Expected O(logn) time solution.\n",
        "```"
      ],
      "metadata": {
        "id": "Wk1f_u_2eUqX"
      }
    },
    {
      "cell_type": "markdown",
      "source": [
        "Note: HW--> Explore and get into the depth of the complexity of len() method in python"
      ],
      "metadata": {
        "id": "BkvKFr5gkjeo"
      }
    },
    {
      "cell_type": "code",
      "source": [
        "#Brute Force Approach:"
      ],
      "metadata": {
        "id": "ZJUekYbSeTJ4"
      },
      "execution_count": null,
      "outputs": []
    },
    {
      "cell_type": "code",
      "source": [
        "# 1. use count function"
      ],
      "metadata": {
        "id": "fAi3umG1e858"
      },
      "execution_count": null,
      "outputs": []
    },
    {
      "cell_type": "code",
      "source": [
        "def count_freq(a, x):\n",
        "  return a.count(x)\n"
      ],
      "metadata": {
        "id": "TkrK3cUcfMmh"
      },
      "execution_count": null,
      "outputs": []
    },
    {
      "cell_type": "code",
      "source": [
        "arr = [4, 4, 8, 8, 8, 15, 16, 23, 23, 42]\n",
        "target = 8\n",
        "\n",
        "ans = count_freq(arr, target)\n",
        "print(ans)"
      ],
      "metadata": {
        "colab": {
          "base_uri": "https://localhost:8080/"
        },
        "id": "eQZXdZktfCnZ",
        "outputId": "7a24a400-9754-448f-a9b0-cecb467a2f76"
      },
      "execution_count": null,
      "outputs": [
        {
          "output_type": "stream",
          "name": "stdout",
          "text": [
            "3\n"
          ]
        }
      ]
    },
    {
      "cell_type": "code",
      "source": [
        "#appraoch2:\n",
        "\n",
        "def count_using_loops1(a, x):\n",
        "\n",
        "  count = 0\n",
        "\n",
        "  for i in range(len(a)):\n",
        "    if a[i] == x:\n",
        "      count += 1\n",
        "\n",
        "  return count"
      ],
      "metadata": {
        "id": "Jmk1qbDkfE1j"
      },
      "execution_count": null,
      "outputs": []
    },
    {
      "cell_type": "code",
      "source": [
        "arr = [4, 4, 8, 8, 8, 15, 16, 23, 23, 42]\n",
        "target = 8\n",
        "\n",
        "ans = count_using_loops1(arr, target)\n",
        "print(ans)"
      ],
      "metadata": {
        "colab": {
          "base_uri": "https://localhost:8080/"
        },
        "id": "TYhtpSuWf-NT",
        "outputId": "f335031f-1aa4-4377-bb3f-6f06d28f46ca"
      },
      "execution_count": null,
      "outputs": [
        {
          "output_type": "stream",
          "name": "stdout",
          "text": [
            "3\n"
          ]
        }
      ]
    },
    {
      "cell_type": "code",
      "source": [
        "#approach3:\n",
        "\n",
        "def count_using_loops2(a, x):\n",
        "\n",
        "  count = 0\n",
        "  for elem in a:\n",
        "    if elem == x:\n",
        "      count += 1\n",
        "\n",
        "  return count"
      ],
      "metadata": {
        "id": "2NWk6wVogCXr"
      },
      "execution_count": null,
      "outputs": []
    },
    {
      "cell_type": "code",
      "source": [
        "arr = [4, 4, 8, 8, 8, 15, 16, 23, 23, 42]\n",
        "target = 8\n",
        "\n",
        "ans = count_using_loops2(arr, target)\n",
        "print(ans)"
      ],
      "metadata": {
        "colab": {
          "base_uri": "https://localhost:8080/"
        },
        "id": "L6X38JKpgV4s",
        "outputId": "20b5df18-d03e-4b85-e407-40f641fb6ec6"
      },
      "execution_count": null,
      "outputs": [
        {
          "output_type": "stream",
          "name": "stdout",
          "text": [
            "3\n"
          ]
        }
      ]
    },
    {
      "cell_type": "code",
      "source": [
        "#approach4:\n",
        "\n",
        "def count_using_list_compreshension1(a , x):\n",
        "\n",
        "  target_elem = [elem for elem in a if elem == x ]\n",
        "\n",
        "  return len(target_elem)"
      ],
      "metadata": {
        "id": "L1yOeqwigX3H"
      },
      "execution_count": null,
      "outputs": []
    },
    {
      "cell_type": "code",
      "source": [
        "arr = [4, 4, 8, 8, 8, 15, 16, 23, 23, 42]\n",
        "target = 8\n",
        "\n",
        "ans = count_using_list_compreshension1(arr, target)\n",
        "print(ans)"
      ],
      "metadata": {
        "colab": {
          "base_uri": "https://localhost:8080/"
        },
        "id": "y8ESCcTEhjzA",
        "outputId": "bb39b407-73d5-4255-c0ea-92eacc62dd08"
      },
      "execution_count": null,
      "outputs": [
        {
          "output_type": "stream",
          "name": "stdout",
          "text": [
            "3\n"
          ]
        }
      ]
    },
    {
      "cell_type": "code",
      "source": [
        "#approach 5:\n",
        "\n",
        "def count_using_list_compreshension2(a , x):\n",
        "\n",
        "  freq_target = [1 for elem in a if elem == x ]\n",
        "  return freq_target"
      ],
      "metadata": {
        "id": "lAvMa5r1hpi0"
      },
      "execution_count": null,
      "outputs": []
    },
    {
      "cell_type": "code",
      "source": [
        "arr = [4, 4, 8, 8, 8, 15, 16, 23, 23, 42]\n",
        "target = 8\n",
        "\n",
        "ans = count_using_list_compreshension2(arr, target)\n",
        "print(ans)"
      ],
      "metadata": {
        "colab": {
          "base_uri": "https://localhost:8080/"
        },
        "id": "8wflef6MiDuf",
        "outputId": "685d5755-b9bb-47c8-c986-faba9b185890"
      },
      "execution_count": null,
      "outputs": [
        {
          "output_type": "stream",
          "name": "stdout",
          "text": [
            "[1, 1, 1]\n"
          ]
        }
      ]
    },
    {
      "cell_type": "code",
      "source": [
        "#approach 5:\n",
        "\n",
        "def count_using_list_compreshension2(a , x):\n",
        "\n",
        "  freq_target = [1 for elem in a if elem == x ]\n",
        "  return sum(freq_target)"
      ],
      "metadata": {
        "id": "mHsQcTNGiEq2"
      },
      "execution_count": null,
      "outputs": []
    },
    {
      "cell_type": "code",
      "source": [
        "arr = [4, 4, 8, 8, 8, 15, 16, 23, 23, 42]\n",
        "target = 8\n",
        "\n",
        "ans = count_using_list_compreshension2(arr, target)\n",
        "print(ans)"
      ],
      "metadata": {
        "colab": {
          "base_uri": "https://localhost:8080/"
        },
        "id": "oX4cqhAsiK0p",
        "outputId": "62fdce77-8364-4e07-8838-8484dc0d777f"
      },
      "execution_count": null,
      "outputs": [
        {
          "output_type": "stream",
          "name": "stdout",
          "text": [
            "3\n"
          ]
        }
      ]
    },
    {
      "cell_type": "code",
      "source": [
        "#approach 6:\n",
        "\n",
        "def count_using_filter(a , x):\n",
        "  count = len(list(filter(lambda x : x==target, a)))\n",
        "  return count\n"
      ],
      "metadata": {
        "id": "D-gmS-CXiNiL"
      },
      "execution_count": null,
      "outputs": []
    },
    {
      "cell_type": "code",
      "source": [
        "arr = [4, 4, 8, 8, 8, 15, 16, 23, 23, 42]\n",
        "target = 8\n",
        "\n",
        "ans = count_using_filter(arr, target)\n",
        "print(ans)"
      ],
      "metadata": {
        "colab": {
          "base_uri": "https://localhost:8080/"
        },
        "id": "xxgcldrYioap",
        "outputId": "2fa61c4b-cb65-4301-aa35-638110ea4f56"
      },
      "execution_count": null,
      "outputs": [
        {
          "output_type": "stream",
          "name": "stdout",
          "text": [
            "3\n"
          ]
        }
      ]
    },
    {
      "cell_type": "code",
      "source": [
        "'''\n",
        "Always, try to first talk about the brute force appraoch and then talk about the optimizations in it\n",
        "\n",
        "Note: in all the above appraoches, we have not utilized the fact that the array/list is already sorted\n",
        "'''"
      ],
      "metadata": {
        "colab": {
          "base_uri": "https://localhost:8080/",
          "height": 36
        },
        "id": "mxyfNbIIirn8",
        "outputId": "c61dad01-1e2c-4259-e91a-03d6e64d6f65"
      },
      "execution_count": null,
      "outputs": [
        {
          "output_type": "execute_result",
          "data": {
            "text/plain": [
              "'\\nAlways, try to first talk about the brute force appraoch and then talk about the optimizations in it\\n'"
            ],
            "application/vnd.google.colaboratory.intrinsic+json": {
              "type": "string"
            }
          },
          "metadata": {},
          "execution_count": 23
        }
      ]
    },
    {
      "cell_type": "code",
      "source": [
        "#binary search appraoch"
      ],
      "metadata": {
        "id": "UMeIvawPjq8S"
      },
      "execution_count": null,
      "outputs": []
    },
    {
      "cell_type": "code",
      "source": [
        "#BS--> takes a sorted list and returns the index of the occurance of the target elem, returns -1 if not present"
      ],
      "metadata": {
        "id": "542_KGHBlior"
      },
      "execution_count": null,
      "outputs": []
    },
    {
      "cell_type": "code",
      "source": [
        "#refer to notes for detailed understanding"
      ],
      "metadata": {
        "id": "JPd8z5hFl0Fu"
      },
      "execution_count": null,
      "outputs": []
    },
    {
      "cell_type": "markdown",
      "source": [
        "```\n",
        "Given an unsorted array of size n. Array elements are in the range of 1 to n. \n",
        "One number from set {1, 2, …n} is missing and one number occurs twice in the array. \n",
        "Find these two numbers.\n",
        "\n",
        "Examples: \n",
        "\n",
        "Input: arr[] = [3, 1, 3]\n",
        "Output: Missing = 2, Repeating = 3\n",
        "Explanation: In the array, 2 is missing and 3 occurs twice \n",
        "\n",
        "Input: arr[] = {4, 3, 6, 2, 1, 1}\n",
        "Output: Missing = 5, Repeating = 1\n",
        "\n",
        "```"
      ],
      "metadata": {
        "id": "ACi4iERyvKoz"
      }
    },
    {
      "cell_type": "code",
      "source": [
        "#Appraoch 1:\n",
        "a = [4,3,6,1,2,1]\n",
        "\n",
        "n = len(a)\n",
        "\n",
        "freq_a = [0]*n"
      ],
      "metadata": {
        "id": "9S-WoipAvFkE"
      },
      "execution_count": null,
      "outputs": []
    },
    {
      "cell_type": "code",
      "source": [
        "freq_a"
      ],
      "metadata": {
        "colab": {
          "base_uri": "https://localhost:8080/"
        },
        "id": "Y70cJOv31OjZ",
        "outputId": "48890082-c029-4e78-c158-8d6f225c2ecf"
      },
      "execution_count": null,
      "outputs": [
        {
          "output_type": "execute_result",
          "data": {
            "text/plain": [
              "[0, 0, 0, 0, 0, 0]"
            ]
          },
          "metadata": {},
          "execution_count": 34
        }
      ]
    },
    {
      "cell_type": "code",
      "source": [
        "for elem in a:\n",
        "  freq_a[elem - 1] += 1\n"
      ],
      "metadata": {
        "id": "ETxICLpK1Pdf"
      },
      "execution_count": null,
      "outputs": []
    },
    {
      "cell_type": "code",
      "source": [
        "freq_a"
      ],
      "metadata": {
        "colab": {
          "base_uri": "https://localhost:8080/"
        },
        "id": "cGw--VJl1wEs",
        "outputId": "8057850d-3558-45d5-da90-73ebed6797c6"
      },
      "execution_count": null,
      "outputs": [
        {
          "output_type": "execute_result",
          "data": {
            "text/plain": [
              "[2, 1, 1, 1, 0, 1]"
            ]
          },
          "metadata": {},
          "execution_count": 36
        }
      ]
    },
    {
      "cell_type": "code",
      "source": [
        "missing_elem = -1\n",
        "duplicate_elem = -1\n",
        "\n",
        "for elem in a:\n",
        "  if freq_a[elem-1] == 0:\n",
        "    missing_elem = elem\n",
        "  elif freq_a[elem-1] == 2:\n",
        "    duplicate_elem = elem"
      ],
      "metadata": {
        "id": "dtVyswIN1xVO"
      },
      "execution_count": null,
      "outputs": []
    },
    {
      "cell_type": "code",
      "source": [
        "ans = (duplicate_elem, missing_elem)"
      ],
      "metadata": {
        "id": "jHxBkHgr2bvb"
      },
      "execution_count": null,
      "outputs": []
    },
    {
      "cell_type": "code",
      "source": [
        "print(ans)"
      ],
      "metadata": {
        "colab": {
          "base_uri": "https://localhost:8080/"
        },
        "id": "7mYrv9Wd2et3",
        "outputId": "c882bbd2-78f6-43b6-c833-5e44d711b279"
      },
      "execution_count": null,
      "outputs": [
        {
          "output_type": "stream",
          "name": "stdout",
          "text": [
            "(1, -1)\n"
          ]
        }
      ]
    },
    {
      "cell_type": "code",
      "source": [
        "missing_elem = -1\n",
        "duplicate_elem = -1\n",
        "\n",
        "for i in range(len(freq_a)):\n",
        "\n",
        "  if freq_a[i] == 0:\n",
        "    missing_elem = i+1\n",
        "  elif freq_a[i] == 2:\n",
        "    duplicate_elem = i+1\n",
        "\n"
      ],
      "metadata": {
        "id": "2-M2kSRO2rLD"
      },
      "execution_count": null,
      "outputs": []
    },
    {
      "cell_type": "code",
      "source": [
        "ans = (duplicate_elem, missing_elem)\n",
        "print(ans)"
      ],
      "metadata": {
        "colab": {
          "base_uri": "https://localhost:8080/"
        },
        "id": "LvLbn6ea3j7P",
        "outputId": "8f98e82f-8d7d-4965-a152-ca6357a8bcae"
      },
      "execution_count": null,
      "outputs": [
        {
          "output_type": "stream",
          "name": "stdout",
          "text": [
            "(1, 5)\n"
          ]
        }
      ]
    },
    {
      "cell_type": "code",
      "source": [
        "#Appraoch 1:\n",
        "a = [3,1,3]\n",
        "\n",
        "n = len(a)\n",
        "\n",
        "freq_a = [0]*n"
      ],
      "metadata": {
        "id": "mO0nXSlD3lxq"
      },
      "execution_count": null,
      "outputs": []
    },
    {
      "cell_type": "code",
      "source": [
        "for elem in a: #--> O(n) \n",
        "  freq_a[elem - 1] += 1\n"
      ],
      "metadata": {
        "id": "5MjhdSyk3_wd"
      },
      "execution_count": null,
      "outputs": []
    },
    {
      "cell_type": "code",
      "source": [
        "missing_elem = -1\n",
        "duplicate_elem = -1\n",
        "\n",
        "for i in range(len(freq_a)): # --> O(n)\n",
        "\n",
        "  if freq_a[i] == 0:\n",
        "    missing_elem = i+1\n",
        "  elif freq_a[i] == 2:\n",
        "    duplicate_elem = i+1\n",
        "\n"
      ],
      "metadata": {
        "id": "9x3YjG_R4DOG"
      },
      "execution_count": null,
      "outputs": []
    },
    {
      "cell_type": "code",
      "source": [
        "ans = (duplicate_elem, missing_elem)\n",
        "print(ans)"
      ],
      "metadata": {
        "colab": {
          "base_uri": "https://localhost:8080/"
        },
        "id": "z62fZ0wB4EXC",
        "outputId": "84a01cb8-978d-44d8-f311-f060c0180e94"
      },
      "execution_count": null,
      "outputs": [
        {
          "output_type": "stream",
          "name": "stdout",
          "text": [
            "(3, 2)\n"
          ]
        }
      ]
    },
    {
      "cell_type": "code",
      "source": [
        "#above soln is o(n)"
      ],
      "metadata": {
        "id": "wyQlf2LN4F42"
      },
      "execution_count": null,
      "outputs": []
    },
    {
      "cell_type": "code",
      "source": [
        "#Appraoch 1:\n",
        "a = [5,3,2,5,4,6]\n",
        "\n",
        "n = len(a)\n",
        "\n",
        "freq_a = [0]*n"
      ],
      "metadata": {
        "id": "MBRa_SIX6nI2"
      },
      "execution_count": null,
      "outputs": []
    },
    {
      "cell_type": "code",
      "source": [
        "for elem in a:\n",
        "  freq_a[elem - 1] += 1\n"
      ],
      "metadata": {
        "id": "8InArn3m67ca"
      },
      "execution_count": null,
      "outputs": []
    },
    {
      "cell_type": "code",
      "source": [
        "freq_a"
      ],
      "metadata": {
        "colab": {
          "base_uri": "https://localhost:8080/"
        },
        "id": "aZLmmmdi695W",
        "outputId": "8a25e24f-2ee3-477f-9f72-c7a39c817eab"
      },
      "execution_count": null,
      "outputs": [
        {
          "output_type": "execute_result",
          "data": {
            "text/plain": [
              "[0, 1, 1, 1, 2, 1]"
            ]
          },
          "metadata": {},
          "execution_count": 49
        }
      ]
    },
    {
      "cell_type": "code",
      "source": [
        "missing_elem = -1\n",
        "duplicate_elem = -1\n",
        "\n",
        "for i in range(len(freq_a)): # --> O(n)\n",
        "\n",
        "  if freq_a[i] == 0:\n",
        "    missing_elem = i+1\n",
        "  elif freq_a[i] == 2:\n",
        "    duplicate_elem = i+1\n",
        "\n"
      ],
      "metadata": {
        "id": "mLqCeBPQ6--m"
      },
      "execution_count": null,
      "outputs": []
    },
    {
      "cell_type": "code",
      "source": [
        "ans = (duplicate_elem, missing_elem)\n",
        "print(ans)"
      ],
      "metadata": {
        "colab": {
          "base_uri": "https://localhost:8080/"
        },
        "id": "Irz8Zlh-7BxH",
        "outputId": "ffd7fc85-2e37-4e8c-a4ad-6690cd557acf"
      },
      "execution_count": null,
      "outputs": [
        {
          "output_type": "stream",
          "name": "stdout",
          "text": [
            "(5, 1)\n"
          ]
        }
      ]
    },
    {
      "cell_type": "code",
      "source": [
        "a"
      ],
      "metadata": {
        "colab": {
          "base_uri": "https://localhost:8080/"
        },
        "id": "FATXasNd7DSd",
        "outputId": "80d083aa-11a9-4b54-95df-b58e06239a1f"
      },
      "execution_count": null,
      "outputs": [
        {
          "output_type": "execute_result",
          "data": {
            "text/plain": [
              "[5, 3, 2, 5, 4, 6]"
            ]
          },
          "metadata": {},
          "execution_count": 52
        }
      ]
    },
    {
      "cell_type": "code",
      "source": [
        "# freq_a[0] --> freq of 1"
      ],
      "metadata": {
        "id": "74ydLESG7Iwn"
      },
      "execution_count": null,
      "outputs": []
    }
  ]
}