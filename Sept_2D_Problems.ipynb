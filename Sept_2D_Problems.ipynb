{
  "nbformat": 4,
  "nbformat_minor": 0,
  "metadata": {
    "colab": {
      "provenance": [],
      "include_colab_link": true
    },
    "kernelspec": {
      "name": "python3",
      "display_name": "Python 3"
    },
    "language_info": {
      "name": "python"
    }
  },
  "cells": [
    {
      "cell_type": "markdown",
      "metadata": {
        "id": "view-in-github",
        "colab_type": "text"
      },
      "source": [
        "<a href=\"https://colab.research.google.com/github/gchn24/DS-Notes/blob/main/Sept_2D_Problems.ipynb\" target=\"_parent\"><img src=\"https://colab.research.google.com/assets/colab-badge.svg\" alt=\"Open In Colab\"/></a>"
      ]
    },
    {
      "cell_type": "code",
      "execution_count": null,
      "metadata": {
        "colab": {
          "base_uri": "https://localhost:8080/"
        },
        "id": "7RGUvO4nV_WQ",
        "outputId": "3622a089-f63e-403d-989a-f2971016212b"
      },
      "outputs": [
        {
          "output_type": "stream",
          "name": "stdout",
          "text": [
            "Hows the josh??\n"
          ]
        }
      ],
      "source": [
        "print(\"Hows the josh??\")"
      ]
    },
    {
      "cell_type": "code",
      "source": [
        "a = [1,2,3]"
      ],
      "metadata": {
        "id": "Xq_AzhlOWEU7"
      },
      "execution_count": null,
      "outputs": []
    },
    {
      "cell_type": "code",
      "source": [
        "print(a[0])"
      ],
      "metadata": {
        "colab": {
          "base_uri": "https://localhost:8080/"
        },
        "id": "crhOCsEuWRB4",
        "outputId": "bf98c4ce-2dad-440c-f19d-c1d57d53178a"
      },
      "execution_count": null,
      "outputs": [
        {
          "output_type": "stream",
          "name": "stdout",
          "text": [
            "1\n"
          ]
        }
      ]
    },
    {
      "cell_type": "code",
      "source": [
        "a = [[1,2,3] , [4,5,6], [7,8,9]]"
      ],
      "metadata": {
        "id": "rpQovPaKWR8Y"
      },
      "execution_count": null,
      "outputs": []
    },
    {
      "cell_type": "code",
      "source": [
        "print(a[0])"
      ],
      "metadata": {
        "colab": {
          "base_uri": "https://localhost:8080/"
        },
        "id": "IhNBpaHHWX-b",
        "outputId": "d3d1881c-4be9-474a-8806-e246d4e3eff5"
      },
      "execution_count": null,
      "outputs": [
        {
          "output_type": "stream",
          "name": "stdout",
          "text": [
            "[1, 2, 3]\n"
          ]
        }
      ]
    },
    {
      "cell_type": "code",
      "source": [
        "print(a[0][0])"
      ],
      "metadata": {
        "colab": {
          "base_uri": "https://localhost:8080/"
        },
        "id": "f0vibV6fWZTv",
        "outputId": "4f46a9ce-20c3-4974-c18c-288946d95377"
      },
      "execution_count": null,
      "outputs": [
        {
          "output_type": "stream",
          "name": "stdout",
          "text": [
            "1\n"
          ]
        }
      ]
    },
    {
      "cell_type": "code",
      "source": [
        "print(a[0][1])"
      ],
      "metadata": {
        "colab": {
          "base_uri": "https://localhost:8080/"
        },
        "id": "YSvNJE7zWdRP",
        "outputId": "bdbaf9f1-676a-405b-dae3-e1ff34a03d91"
      },
      "execution_count": null,
      "outputs": [
        {
          "output_type": "stream",
          "name": "stdout",
          "text": [
            "2\n"
          ]
        }
      ]
    },
    {
      "cell_type": "code",
      "source": [
        "print(a[0][2])"
      ],
      "metadata": {
        "colab": {
          "base_uri": "https://localhost:8080/"
        },
        "id": "iWuuNIu9We5g",
        "outputId": "ded0aac6-0e20-4741-fc18-8be6c327c0a8"
      },
      "execution_count": null,
      "outputs": [
        {
          "output_type": "stream",
          "name": "stdout",
          "text": [
            "3\n"
          ]
        }
      ]
    },
    {
      "cell_type": "code",
      "source": [
        "for elem in a:\n",
        "  for i in elem:\n",
        "    print(i)"
      ],
      "metadata": {
        "colab": {
          "base_uri": "https://localhost:8080/"
        },
        "id": "ud6VBr5tWfyI",
        "outputId": "3ca47923-cbcb-4ff0-b325-b4dcd06e8b5e"
      },
      "execution_count": null,
      "outputs": [
        {
          "output_type": "stream",
          "name": "stdout",
          "text": [
            "1\n",
            "2\n",
            "3\n",
            "4\n",
            "5\n",
            "6\n",
            "7\n",
            "8\n",
            "9\n"
          ]
        }
      ]
    },
    {
      "cell_type": "code",
      "source": [
        "b = [1,2,3]"
      ],
      "metadata": {
        "id": "cd52QVCkWpFO"
      },
      "execution_count": null,
      "outputs": []
    },
    {
      "cell_type": "code",
      "source": [
        "for i in b:\n",
        "  print(i)"
      ],
      "metadata": {
        "colab": {
          "base_uri": "https://localhost:8080/"
        },
        "id": "v8q-q5VeW8A5",
        "outputId": "31768cd8-d3c7-40fe-add3-4d810a911837"
      },
      "execution_count": null,
      "outputs": [
        {
          "output_type": "stream",
          "name": "stdout",
          "text": [
            "1\n",
            "2\n",
            "3\n"
          ]
        }
      ]
    },
    {
      "cell_type": "code",
      "source": [
        "for elem in a:\n",
        "  \n",
        "  for i in elem:\n",
        "    print(i, end = \" \")\n",
        "  \n",
        "  print()"
      ],
      "metadata": {
        "colab": {
          "base_uri": "https://localhost:8080/"
        },
        "id": "oY3QavWOW_Pj",
        "outputId": "bb6eb0fc-ea6e-4621-ea53-cb66d0d8e7b2"
      },
      "execution_count": null,
      "outputs": [
        {
          "output_type": "stream",
          "name": "stdout",
          "text": [
            "1 2 3 \n",
            "4 5 6 \n",
            "7 8 9 \n"
          ]
        }
      ]
    },
    {
      "cell_type": "code",
      "source": [
        "a = [[1,2], [3,4], [5,6], [7,8]]"
      ],
      "metadata": {
        "id": "LzrD-CXPYYv_"
      },
      "execution_count": null,
      "outputs": []
    },
    {
      "cell_type": "code",
      "source": [
        "print(len(a))"
      ],
      "metadata": {
        "colab": {
          "base_uri": "https://localhost:8080/"
        },
        "id": "Q3ZZGUulYeEX",
        "outputId": "da29fedb-b2a8-41ba-b215-3ca291833bc2"
      },
      "execution_count": null,
      "outputs": [
        {
          "output_type": "stream",
          "name": "stdout",
          "text": [
            "4\n"
          ]
        }
      ]
    },
    {
      "cell_type": "code",
      "source": [
        "print(len(a[3]))"
      ],
      "metadata": {
        "colab": {
          "base_uri": "https://localhost:8080/"
        },
        "id": "LpYYvyhgYiCQ",
        "outputId": "49e14355-dc47-447a-ec2b-1ff8a72ab985"
      },
      "execution_count": null,
      "outputs": [
        {
          "output_type": "stream",
          "name": "stdout",
          "text": [
            "2\n"
          ]
        }
      ]
    },
    {
      "cell_type": "code",
      "source": [
        "#practice problem\n"
      ],
      "metadata": {
        "id": "Zjjq0YubXViZ"
      },
      "execution_count": null,
      "outputs": []
    },
    {
      "cell_type": "code",
      "source": [
        "odi = [100,99,20]\n",
        "test = [120,50,30]\n",
        "t20 = [20,33,40]"
      ],
      "metadata": {
        "id": "wiXvXjs2Xf9Z"
      },
      "execution_count": null,
      "outputs": []
    },
    {
      "cell_type": "code",
      "source": [
        "scores = [odi, test, t20]"
      ],
      "metadata": {
        "id": "q7Xuo1lKXoxm"
      },
      "execution_count": null,
      "outputs": []
    },
    {
      "cell_type": "code",
      "source": [
        "print(scores)"
      ],
      "metadata": {
        "colab": {
          "base_uri": "https://localhost:8080/"
        },
        "id": "Il_x8mYiXvm7",
        "outputId": "61a47071-f867-44ae-d664-36b213a3f923"
      },
      "execution_count": null,
      "outputs": [
        {
          "output_type": "stream",
          "name": "stdout",
          "text": [
            "[[100, 99, 20], [120, 50, 30], [20, 33, 40]]\n"
          ]
        }
      ]
    },
    {
      "cell_type": "code",
      "source": [
        "for cric_format in scores:\n",
        "  print(cric_format)"
      ],
      "metadata": {
        "colab": {
          "base_uri": "https://localhost:8080/"
        },
        "id": "zD1SJydUXxBC",
        "outputId": "ada70cc0-9b19-432f-be00-acb6a242672f"
      },
      "execution_count": null,
      "outputs": [
        {
          "output_type": "stream",
          "name": "stdout",
          "text": [
            "[100, 99, 20]\n",
            "[120, 50, 30]\n",
            "[20, 33, 40]\n"
          ]
        }
      ]
    },
    {
      "cell_type": "code",
      "source": [
        "print(\"Printing the index values of each of hte matrix element\")\n",
        "for row in range(len(scores)):\n",
        "  for col in range(len(scores[row])):\n",
        "    print(row, col, end = \"    \")\n",
        "\n",
        "  print()\n"
      ],
      "metadata": {
        "colab": {
          "base_uri": "https://localhost:8080/"
        },
        "id": "aCuTi3VjX8oy",
        "outputId": "1e83f0e2-ecfd-4265-c7f8-1d0cbcc47afb"
      },
      "execution_count": null,
      "outputs": [
        {
          "output_type": "stream",
          "name": "stdout",
          "text": [
            "Printing the index values of each of hte matrix element\n",
            "0 0    0 1    0 2    \n",
            "1 0    1 1    1 2    \n",
            "2 0    2 1    2 2    \n"
          ]
        }
      ]
    },
    {
      "cell_type": "code",
      "source": [
        "a = [[1,2,3], [1,2], [1,2,3,4]]"
      ],
      "metadata": {
        "id": "HHok3HagY0jK"
      },
      "execution_count": null,
      "outputs": []
    },
    {
      "cell_type": "code",
      "source": [
        "rows = len(a)\n",
        "cols = len(a[0])\n",
        "\n",
        "for row in range(rows):\n",
        "  for col in range(cols):\n",
        "    print(a[row][col])\n",
        "\n",
        "\n",
        "#this is wrong because the lists are of diff length"
      ],
      "metadata": {
        "colab": {
          "base_uri": "https://localhost:8080/",
          "height": 287
        },
        "id": "rfrLVK6paVOH",
        "outputId": "319ebdf1-15c9-437f-85a8-ffc890c07704"
      },
      "execution_count": null,
      "outputs": [
        {
          "output_type": "stream",
          "name": "stdout",
          "text": [
            "1\n",
            "2\n",
            "3\n",
            "1\n",
            "2\n"
          ]
        },
        {
          "output_type": "error",
          "ename": "IndexError",
          "evalue": "ignored",
          "traceback": [
            "\u001b[0;31m---------------------------------------------------------------------------\u001b[0m",
            "\u001b[0;31mIndexError\u001b[0m                                Traceback (most recent call last)",
            "\u001b[0;32m<ipython-input-31-552cffc9d858>\u001b[0m in \u001b[0;36m<module>\u001b[0;34m\u001b[0m\n\u001b[1;32m      4\u001b[0m \u001b[0;32mfor\u001b[0m \u001b[0mrow\u001b[0m \u001b[0;32min\u001b[0m \u001b[0mrange\u001b[0m\u001b[0;34m(\u001b[0m\u001b[0mrows\u001b[0m\u001b[0;34m)\u001b[0m\u001b[0;34m:\u001b[0m\u001b[0;34m\u001b[0m\u001b[0;34m\u001b[0m\u001b[0m\n\u001b[1;32m      5\u001b[0m   \u001b[0;32mfor\u001b[0m \u001b[0mcol\u001b[0m \u001b[0;32min\u001b[0m \u001b[0mrange\u001b[0m\u001b[0;34m(\u001b[0m\u001b[0mcols\u001b[0m\u001b[0;34m)\u001b[0m\u001b[0;34m:\u001b[0m\u001b[0;34m\u001b[0m\u001b[0;34m\u001b[0m\u001b[0m\n\u001b[0;32m----> 6\u001b[0;31m     \u001b[0mprint\u001b[0m\u001b[0;34m(\u001b[0m\u001b[0ma\u001b[0m\u001b[0;34m[\u001b[0m\u001b[0mrow\u001b[0m\u001b[0;34m]\u001b[0m\u001b[0;34m[\u001b[0m\u001b[0mcol\u001b[0m\u001b[0;34m]\u001b[0m\u001b[0;34m)\u001b[0m\u001b[0;34m\u001b[0m\u001b[0;34m\u001b[0m\u001b[0m\n\u001b[0m",
            "\u001b[0;31mIndexError\u001b[0m: list index out of range"
          ]
        }
      ]
    },
    {
      "cell_type": "code",
      "source": [
        "for row in range(len(a)):\n",
        "  \n",
        "  for col in range(len(a[row])):\n",
        "    print(a[row][col], end = \" \")\n",
        "  \n",
        "  print()"
      ],
      "metadata": {
        "colab": {
          "base_uri": "https://localhost:8080/"
        },
        "id": "q9RGRdkaaoZF",
        "outputId": "7d7c8454-d787-46d5-de8f-baf7756eae44"
      },
      "execution_count": null,
      "outputs": [
        {
          "output_type": "stream",
          "name": "stdout",
          "text": [
            "1 2 3 \n",
            "1 2 \n",
            "1 2 3 4 \n"
          ]
        }
      ]
    },
    {
      "cell_type": "code",
      "source": [
        "for row in range(len(a)):\n",
        "  print(f\"The number of elements in row {row} is {len(a[row])}\")"
      ],
      "metadata": {
        "colab": {
          "base_uri": "https://localhost:8080/"
        },
        "id": "rgTTJEQwbf2Z",
        "outputId": "ea2c3546-7fac-4c8b-ee0b-d53c266d221a"
      },
      "execution_count": null,
      "outputs": [
        {
          "output_type": "stream",
          "name": "stdout",
          "text": [
            "The number of elements in row 0 is 3\n",
            "The number of elements in row 1 is 2\n",
            "The number of elements in row 2 is 4\n"
          ]
        }
      ]
    },
    {
      "cell_type": "code",
      "source": [
        "for row in range(len(a)):\n",
        "  print(\"The number of elements in row \", row, \" is \", len(a[row]))"
      ],
      "metadata": {
        "colab": {
          "base_uri": "https://localhost:8080/"
        },
        "id": "UaOy0IArcDiS",
        "outputId": "500bb08e-13a3-48d1-f9a2-2f6eaaf0fb13"
      },
      "execution_count": null,
      "outputs": [
        {
          "output_type": "stream",
          "name": "stdout",
          "text": [
            "The number of elements in row  0  is  3\n",
            "The number of elements in row  1  is  2\n",
            "The number of elements in row  2  is  4\n"
          ]
        }
      ]
    },
    {
      "cell_type": "code",
      "source": [
        "for elem in a:\n",
        "  for i in elem:\n",
        "    print(i, end = \" \")\n",
        "  print()"
      ],
      "metadata": {
        "colab": {
          "base_uri": "https://localhost:8080/"
        },
        "id": "3zH_IknlcWHV",
        "outputId": "c3721239-2f1f-4a3c-97eb-536d3ac506e7"
      },
      "execution_count": null,
      "outputs": [
        {
          "output_type": "stream",
          "name": "stdout",
          "text": [
            "1 2 3 \n",
            "1 2 \n",
            "1 2 3 4 \n"
          ]
        }
      ]
    },
    {
      "cell_type": "code",
      "source": [
        "'''\n",
        "You are a data scientist at ICC and you need to find the runs scored by Sachin and Ganguly in partnerships,\n",
        "also store them in a new list\n",
        "\n",
        "Note: both the score lists are of same size\n",
        "'''"
      ],
      "metadata": {
        "colab": {
          "base_uri": "https://localhost:8080/",
          "height": 52
        },
        "id": "LMa1tRu9cqvs",
        "outputId": "6f998f3f-63d9-4ef0-cd98-43205099d883"
      },
      "execution_count": null,
      "outputs": [
        {
          "output_type": "execute_result",
          "data": {
            "text/plain": [
              "'\\nYou are a data scientist at ICC and you need to find the runs scored by Sachin and Ganguly in partnerships,\\nalso print them in a new list\\n\\nNote: both the score lists are of same size\\n'"
            ],
            "application/vnd.google.colaboratory.intrinsic+json": {
              "type": "string"
            }
          },
          "metadata": {},
          "execution_count": 39
        }
      ]
    },
    {
      "cell_type": "code",
      "source": [
        "sachin = [\n",
        "          [1,2,3],\n",
        "          [4,5,6],\n",
        "          [7,8,9]  ]\n",
        "\n",
        "\n",
        "ganguly = [\n",
        "          [11,20,13],\n",
        "          [1,2,5],\n",
        "          [9,18,4]  ]\n",
        "\n",
        "\n",
        "'''\n",
        "Matrix Addition\n",
        "Output:\n",
        "12  22 16\n",
        "5   7  11\n",
        "16 26  13\n",
        "'''"
      ],
      "metadata": {
        "colab": {
          "base_uri": "https://localhost:8080/",
          "height": 35
        },
        "id": "HxGHwx_Tc90L",
        "outputId": "11dfd9bb-294d-4d3a-a5be-694d24ac17fe"
      },
      "execution_count": null,
      "outputs": [
        {
          "output_type": "execute_result",
          "data": {
            "text/plain": [
              "'\\nMatrix Addition\\nOutput:\\n12  22 16\\n5   7  11\\n16 26  13\\n'"
            ],
            "application/vnd.google.colaboratory.intrinsic+json": {
              "type": "string"
            }
          },
          "metadata": {},
          "execution_count": 40
        }
      ]
    },
    {
      "cell_type": "code",
      "source": [
        "\n",
        "#iterating over Sachin Matrix\n",
        "for i in range(len(sachin)):\n",
        "  for j in range(len(sachin[i])):\n",
        "    print(sachin[i][j], end=\" \")\n",
        "  print()"
      ],
      "metadata": {
        "colab": {
          "base_uri": "https://localhost:8080/"
        },
        "id": "qYeT-SQ0drfu",
        "outputId": "0f172add-99a1-40c1-ae31-84fc97d110cd"
      },
      "execution_count": null,
      "outputs": [
        {
          "output_type": "stream",
          "name": "stdout",
          "text": [
            "1 2 3 \n",
            "4 5 6 \n",
            "7 8 9 \n"
          ]
        }
      ]
    },
    {
      "cell_type": "code",
      "source": [
        "\n",
        "#iterating over Ganguly Matrix\n",
        "for i in range(len(ganguly)):\n",
        "  for j in range(len(ganguly[i])):\n",
        "    print(ganguly[i][j], end=\" \")\n",
        "  print()"
      ],
      "metadata": {
        "colab": {
          "base_uri": "https://localhost:8080/"
        },
        "id": "S8Pkewxfezsr",
        "outputId": "8543acdc-445e-4362-b80c-4a38af591e6a"
      },
      "execution_count": null,
      "outputs": [
        {
          "output_type": "stream",
          "name": "stdout",
          "text": [
            "11 20 13 \n",
            "1 2 5 \n",
            "9 18 4 \n"
          ]
        }
      ]
    },
    {
      "cell_type": "code",
      "source": [
        "\n",
        "#Matrix addition is done element by element - always done on same size matrix\n",
        "for i in range(len(sachin)):\n",
        "  for j in range(len(sachin[i])):\n",
        "    print(sachin[i][j] + ganguly[i][j], end=\" \")\n",
        "  print()"
      ],
      "metadata": {
        "colab": {
          "base_uri": "https://localhost:8080/"
        },
        "id": "6Nn4JGESe_JS",
        "outputId": "b15a303c-d519-4ccb-ead3-fb3c9c92e602"
      },
      "execution_count": null,
      "outputs": [
        {
          "output_type": "stream",
          "name": "stdout",
          "text": [
            "12 22 16 \n",
            "5 7 11 \n",
            "16 26 13 \n"
          ]
        }
      ]
    },
    {
      "cell_type": "code",
      "source": [
        "\n",
        "#Matrix addition is done element by element -storing in result matrix\n",
        "partnership = []\n",
        "for i in range(len(sachin)):\n",
        "  row=[]\n",
        "  for j in range(len(sachin[i])):\n",
        "    row.append(sachin[i][j] + ganguly[i][j])\n",
        "\n",
        "  partnership.append(row)"
      ],
      "metadata": {
        "id": "uaoIwh5SfPGv"
      },
      "execution_count": null,
      "outputs": []
    },
    {
      "cell_type": "code",
      "source": [
        "print(partnership)"
      ],
      "metadata": {
        "colab": {
          "base_uri": "https://localhost:8080/"
        },
        "id": "s4ajD6aIg01t",
        "outputId": "b55dab08-3915-4e55-8e71-b1bdacda9226"
      },
      "execution_count": null,
      "outputs": [
        {
          "output_type": "stream",
          "name": "stdout",
          "text": [
            "[[12, 22, 16], [5, 7, 11], [16, 26, 13]]\n"
          ]
        }
      ]
    },
    {
      "cell_type": "code",
      "source": [
        "for row in partnership:\n",
        "  for elem in row:\n",
        "    print(elem, end =\" \")\n",
        "\n",
        "  print()"
      ],
      "metadata": {
        "colab": {
          "base_uri": "https://localhost:8080/"
        },
        "id": "KNKV4Exng4v4",
        "outputId": "bfc747b1-e11d-4ab1-e376-f3049e812703"
      },
      "execution_count": null,
      "outputs": [
        {
          "output_type": "stream",
          "name": "stdout",
          "text": [
            "12 22 16 \n",
            "5 7 11 \n",
            "16 26 13 \n"
          ]
        }
      ]
    },
    {
      "cell_type": "code",
      "source": [
        "# break till 8:10"
      ],
      "metadata": {
        "id": "hX65YzOchCPE"
      },
      "execution_count": null,
      "outputs": []
    },
    {
      "cell_type": "code",
      "source": [
        "#row-wise sum\n",
        "\n",
        "class Solution:\n",
        "    # @param A : list of list of integers\n",
        "    # @return a list of integers\n",
        "    def solve(self, A):\n",
        "        \n",
        "        row_sums = []\n",
        "        \n",
        "        for i in range(len(A)):\n",
        "            \n",
        "            sum = 0\n",
        "            \n",
        "            for j in range(len(A[i])):\n",
        "                sum += A[i][j]\n",
        "                \n",
        "            row_sums.append(sum)\n",
        "                \n",
        "        \n",
        "        return row_sums"
      ],
      "metadata": {
        "id": "qw6OAZdtjvdD"
      },
      "execution_count": null,
      "outputs": []
    },
    {
      "cell_type": "code",
      "source": [
        "#dry run\n",
        "\n",
        "a = [ [1,2,3], [4,5,6], [1,2,3] ]\n",
        "\n",
        "row_sums = []\n",
        "        \n",
        "for i in range(len(a)): \n",
        "    sum = 0\n",
        "\n",
        "    for j in range(len(a[i])):\n",
        "        sum += a[i][j]\n",
        "        \n",
        "    row_sums.append(sum)\n",
        "        \n",
        "        "
      ],
      "metadata": {
        "id": "S1_y4OqtmrGX"
      },
      "execution_count": null,
      "outputs": []
    },
    {
      "cell_type": "code",
      "source": [
        "print(row_sums)"
      ],
      "metadata": {
        "colab": {
          "base_uri": "https://localhost:8080/"
        },
        "id": "xaL8VTCvm1jt",
        "outputId": "ec7e5284-4cfc-40ff-8f6f-168ad30efa6e"
      },
      "execution_count": null,
      "outputs": [
        {
          "output_type": "stream",
          "name": "stdout",
          "text": [
            "[6, 15, 6]\n"
          ]
        }
      ]
    },
    {
      "cell_type": "code",
      "source": [
        "#imp concept"
      ],
      "metadata": {
        "id": "u8r67XGIm3df"
      },
      "execution_count": null,
      "outputs": []
    },
    {
      "cell_type": "code",
      "source": [
        "for i in range(5):\n",
        "  for j in range(3):\n",
        "    print(f\"i={i} and j={j}\", end = \"     \")\n",
        "\n",
        "  print()"
      ],
      "metadata": {
        "colab": {
          "base_uri": "https://localhost:8080/"
        },
        "id": "5vSur2KEoWpK",
        "outputId": "23607d7d-0cce-46a5-a3e7-1b5d992415f0"
      },
      "execution_count": null,
      "outputs": [
        {
          "output_type": "stream",
          "name": "stdout",
          "text": [
            "i=0 and j=0     i=0 and j=1     i=0 and j=2     \n",
            "i=1 and j=0     i=1 and j=1     i=1 and j=2     \n",
            "i=2 and j=0     i=2 and j=1     i=2 and j=2     \n",
            "i=3 and j=0     i=3 and j=1     i=3 and j=2     \n",
            "i=4 and j=0     i=4 and j=1     i=4 and j=2     \n"
          ]
        }
      ]
    },
    {
      "cell_type": "code",
      "source": [
        "for i in range(3):\n",
        "\n",
        "  sum = 0\n",
        "\n",
        "  for j in range(3):\n",
        "    # print(f\"i={i} and j={j}\", end = \"     \")\n",
        "    sum += a[i][j]\n",
        "\n",
        "  print(sum)"
      ],
      "metadata": {
        "colab": {
          "base_uri": "https://localhost:8080/"
        },
        "id": "OJcgz1Ivoj5d",
        "outputId": "28fe87fb-7818-4546-f47c-86638faf952f"
      },
      "execution_count": null,
      "outputs": [
        {
          "output_type": "stream",
          "name": "stdout",
          "text": [
            "6\n",
            "15\n",
            "6\n"
          ]
        }
      ]
    },
    {
      "cell_type": "code",
      "source": [
        "col_sums = []\n",
        "for col in range(len(a[0])):\n",
        "  sum = 0\n",
        "  for row in range(len(a)):\n",
        "\n",
        "    sum += a[row][col]\n",
        "\n",
        "  col_sums.append(sum)\n",
        "\n"
      ],
      "metadata": {
        "id": "o7BGzzR6pCC9"
      },
      "execution_count": null,
      "outputs": []
    },
    {
      "cell_type": "code",
      "source": [
        "print(col_sums)"
      ],
      "metadata": {
        "colab": {
          "base_uri": "https://localhost:8080/"
        },
        "id": "8zHpf3kcp_Gl",
        "outputId": "19498d4b-b79d-443c-fa87-e10dee48be45"
      },
      "execution_count": null,
      "outputs": [
        {
          "output_type": "stream",
          "name": "stdout",
          "text": [
            "[6, 9, 12]\n"
          ]
        }
      ]
    },
    {
      "cell_type": "code",
      "source": [
        "print(chr(10084), \"You all\")"
      ],
      "metadata": {
        "colab": {
          "base_uri": "https://localhost:8080/"
        },
        "id": "09MjMtwMqQtO",
        "outputId": "7580019c-260a-4443-af91-1628bfe8eaa9"
      },
      "execution_count": null,
      "outputs": [
        {
          "output_type": "stream",
          "name": "stdout",
          "text": [
            "❤ You all\n"
          ]
        }
      ]
    },
    {
      "cell_type": "code",
      "source": [
        "col_sums = []\n",
        "for col in range(len(a[0])):\n",
        "  sum = 0\n",
        "  for row in range(len(a)):\n",
        "\n",
        "    sum += a[row][col]\n",
        "\n",
        "  col_sums.append(sum)\n",
        "\n"
      ],
      "metadata": {
        "id": "AGRpx7XlrSwA"
      },
      "execution_count": null,
      "outputs": []
    },
    {
      "cell_type": "code",
      "source": [
        "a=[]\n",
        "for i in a:\n",
        "  i=[]\n",
        "for j in i:\n",
        "  j=int(input())\n",
        "  i=i+[j]\n",
        "\n",
        "a=a+i"
      ],
      "metadata": {
        "id": "OkHvDjGKr9xb"
      },
      "execution_count": null,
      "outputs": []
    },
    {
      "cell_type": "code",
      "source": [
        "a = []\n",
        "for i in range(2):\n",
        "  row = []\n",
        "  for j in range(2):\n",
        "    row.append(int(input()))\n",
        "\n",
        "  a.append(row)"
      ],
      "metadata": {
        "id": "f-rWdzOfsIx4"
      },
      "execution_count": null,
      "outputs": []
    },
    {
      "cell_type": "code",
      "source": [
        "\n",
        "#Matrix addition is done element by element -storing in result matrix\n",
        "partnership = []\n",
        "for i in range(len(sachin)):\n",
        "  row=[]\n",
        "  for j in range(len(sachin[i])):\n",
        "    row.append(sachin[i][j] + ganguly[i][j])\n",
        "\n",
        "  partnership.append(row)"
      ],
      "metadata": {
        "id": "R7Td0ctDsmfN"
      },
      "execution_count": null,
      "outputs": []
    },
    {
      "cell_type": "code",
      "source": [
        "m = [ [1,2,3,4],\n",
        "[5,6,7,8],\n",
        "[9,2,3,4] ]\n",
        "\n",
        "row_sums = [] \n",
        "for i in range(len(m)): \n",
        "  sum = 0 \n",
        "  for j in range(len(m[i])):\n",
        "    sum += m[i][j] \n",
        "\n",
        "  row_sums.append(sum) \n",
        "  \n",
        "print(row_sums)"
      ],
      "metadata": {
        "id": "s99kHF6NtjNb"
      },
      "execution_count": null,
      "outputs": []
    }
  ]
}