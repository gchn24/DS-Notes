{
  "nbformat": 4,
  "nbformat_minor": 0,
  "metadata": {
    "colab": {
      "provenance": [],
      "include_colab_link": true
    },
    "kernelspec": {
      "name": "python3",
      "display_name": "Python 3"
    },
    "language_info": {
      "name": "python"
    }
  },
  "cells": [
    {
      "cell_type": "markdown",
      "metadata": {
        "id": "view-in-github",
        "colab_type": "text"
      },
      "source": [
        "<a href=\"https://colab.research.google.com/github/gchn24/DS-Notes/blob/main/Practice_Basics_of_coordinate_geometry.ipynb\" target=\"_parent\"><img src=\"https://colab.research.google.com/assets/colab-badge.svg\" alt=\"Open In Colab\"/></a>"
      ]
    },
    {
      "cell_type": "code",
      "execution_count": null,
      "metadata": {
        "colab": {
          "base_uri": "https://localhost:8080/"
        },
        "id": "z7Uc6SRCUjMl",
        "outputId": "c13939e3-1215-4fb0-c527-15c1003fbd57"
      },
      "outputs": [
        {
          "output_type": "stream",
          "name": "stdout",
          "text": [
            "Hope you guys are doing well!\n"
          ]
        }
      ],
      "source": [
        "print(\"Hope you guys are doing well!\")"
      ]
    },
    {
      "cell_type": "code",
      "source": [
        "class A:\n",
        "  pass\n",
        "\n",
        "class B(A):\n",
        "  pass\n",
        "\n",
        "class C(A):\n",
        "  pass\n",
        "\n",
        "class D(A):\n",
        "  pass\n",
        "\n",
        "class K(A):\n",
        "  pass\n",
        "\n",
        "class E(D):\n",
        "  pass\n",
        "\n",
        "class F(C,E):\n",
        "  pass\n",
        "\n",
        "class H(F):\n",
        "  pass\n",
        "\n",
        "class G(F):\n",
        "  pass\n",
        "\n",
        "class I(B):\n",
        "  pass\n",
        "\n",
        "class J(I):\n",
        "  pass\n",
        "\n",
        "class L(J,K):\n",
        "  pass\n",
        "\n",
        "class M(L,G,H):\n",
        "  pass"
      ],
      "metadata": {
        "id": "jlepP2grVJJ0"
      },
      "execution_count": null,
      "outputs": []
    },
    {
      "cell_type": "code",
      "source": [
        "M.__mro__"
      ],
      "metadata": {
        "colab": {
          "base_uri": "https://localhost:8080/"
        },
        "id": "kZawVHZAcYP7",
        "outputId": "53b819e9-e259-4acf-e15a-5a73fc9da72b"
      },
      "execution_count": null,
      "outputs": [
        {
          "output_type": "execute_result",
          "data": {
            "text/plain": [
              "(__main__.M,\n",
              " __main__.L,\n",
              " __main__.J,\n",
              " __main__.I,\n",
              " __main__.B,\n",
              " __main__.K,\n",
              " __main__.G,\n",
              " __main__.H,\n",
              " __main__.F,\n",
              " __main__.C,\n",
              " __main__.E,\n",
              " __main__.D,\n",
              " __main__.A,\n",
              " object)"
            ]
          },
          "metadata": {},
          "execution_count": 4
        }
      ]
    },
    {
      "cell_type": "code",
      "source": [
        "#co-ordinate geometry"
      ],
      "metadata": {
        "id": "-bADF_W-cZ-5"
      },
      "execution_count": null,
      "outputs": []
    },
    {
      "cell_type": "code",
      "source": [
        "'''\n",
        "Q1: given 2 points, try to find x-delta and y-delta for them.\n",
        "'''"
      ],
      "metadata": {
        "id": "pWOI7hyYh11H"
      },
      "execution_count": null,
      "outputs": []
    },
    {
      "cell_type": "code",
      "source": [
        "def x_y_deltas(A,B):\n",
        "\n",
        "  #unpacking \n",
        "  x1, y1 = A\n",
        "  x2, y2 = B\n",
        "\n",
        "  print(x1,y1,x2,y2)\n",
        "\n",
        "  x_delta = abs(x2-x1) # |x2-x1|\n",
        "  y_delta = abs(y2-y1)\n",
        "\n",
        "  return x_delta, y_delta\n"
      ],
      "metadata": {
        "id": "2UJG9N29iEqg"
      },
      "execution_count": null,
      "outputs": []
    },
    {
      "cell_type": "code",
      "source": [
        "A = (5,1)\n",
        "B = (2, 6)\n",
        "\n",
        "#unpacking\n",
        "x_delta, y_delta = x_y_deltas(A,B)\n",
        "\n",
        "print(x_delta, y_delta)"
      ],
      "metadata": {
        "colab": {
          "base_uri": "https://localhost:8080/"
        },
        "id": "nXThlOYWiOoo",
        "outputId": "8574a1d9-d7a8-4d8b-ac71-30b59d2fef53"
      },
      "execution_count": null,
      "outputs": [
        {
          "output_type": "stream",
          "name": "stdout",
          "text": [
            "5 1 2 6\n",
            "3 5\n"
          ]
        }
      ]
    },
    {
      "cell_type": "code",
      "source": [
        "'''\n",
        "Q2- calc eucledian dist\n",
        "\n",
        "\n",
        "'''\n"
      ],
      "metadata": {
        "id": "03io9yLjmrqE"
      },
      "execution_count": null,
      "outputs": []
    },
    {
      "cell_type": "code",
      "source": [
        "def eucledian_dist(A,B):\n",
        "\n",
        "  #unpacking \n",
        "  x1, y1 = A\n",
        "  x2, y2 = B\n",
        "\n",
        "  print(x1,y1,x2,y2)\n",
        "\n",
        "  x_delta = abs(x2-x1) # |x2-x1|\n",
        "  y_delta = abs(y2-y1)\n",
        "\n",
        "  dist = ((x_delta**2) + (y_delta**2))**0.5\n",
        "  return dist\n"
      ],
      "metadata": {
        "id": "MREEqAjJmvLY"
      },
      "execution_count": null,
      "outputs": []
    },
    {
      "cell_type": "code",
      "source": [
        "A = (5,1)\n",
        "B = (2, 6)\n",
        "\n",
        "#unpacking\n",
        "dist = eucledian_dist(A,B)\n",
        "\n",
        "print(dist)"
      ],
      "metadata": {
        "colab": {
          "base_uri": "https://localhost:8080/"
        },
        "id": "2spFQzcgm8uh",
        "outputId": "dfa6f8f3-1a73-4dfd-b7ef-009eb1002c3f"
      },
      "execution_count": null,
      "outputs": [
        {
          "output_type": "stream",
          "name": "stdout",
          "text": [
            "5 1 2 6\n",
            "5.830951894845301\n"
          ]
        }
      ]
    },
    {
      "cell_type": "code",
      "source": [
        "'''\n",
        "Q3:\n",
        "Given 3 points, check if they form a right angled triangle or not?\n",
        "A,B,C, side opp to C--> Hypo\n",
        "\n",
        "'''"
      ],
      "metadata": {
        "colab": {
          "base_uri": "https://localhost:8080/",
          "height": 36
        },
        "id": "KcFRPZuwhhRg",
        "outputId": "d16114e4-f7e4-421e-cb72-a231e794b079"
      },
      "execution_count": null,
      "outputs": [
        {
          "output_type": "execute_result",
          "data": {
            "text/plain": [
              "'\\nGiven 3 points, check if they form a right angled triangle or not?\\nA,B,C, c--> Hypo\\n\\n'"
            ],
            "application/vnd.google.colaboratory.intrinsic+json": {
              "type": "string"
            }
          },
          "metadata": {},
          "execution_count": 6
        }
      ]
    },
    {
      "cell_type": "code",
      "source": [
        "def is_right_triangle(A,B,C):\n",
        "\n",
        "  dist_ab = eucledian_dist(A,B)**2\n",
        "  dist_bc = eucledian_dist(B,C)**2\n",
        "  dist_ac = eucledian_dist(A,C)**2\n",
        "\n",
        "  return dist_ab == (dist_ac + dist_bc)"
      ],
      "metadata": {
        "id": "XWHaDCzZhonQ"
      },
      "execution_count": null,
      "outputs": []
    },
    {
      "cell_type": "code",
      "source": [],
      "metadata": {
        "id": "HD-sbWRAoggB"
      },
      "execution_count": null,
      "outputs": []
    }
  ]
}