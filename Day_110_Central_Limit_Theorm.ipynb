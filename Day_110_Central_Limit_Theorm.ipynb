{
  "cells": [
    {
      "cell_type": "markdown",
      "metadata": {
        "id": "view-in-github",
        "colab_type": "text"
      },
      "source": [
        "<a href=\"https://colab.research.google.com/github/gchn24/DS-Notes/blob/main/Day_110_Central_Limit_Theorm.ipynb\" target=\"_parent\"><img src=\"https://colab.research.google.com/assets/colab-badge.svg\" alt=\"Open In Colab\"/></a>"
      ]
    },
    {
      "cell_type": "code",
      "execution_count": 14,
      "id": "9d32dcbd",
      "metadata": {
        "id": "9d32dcbd"
      },
      "outputs": [],
      "source": [
        "import numpy as np\n",
        "import pandas as pd\n",
        "import seaborn as sns\n",
        "import matplotlib.pyplot as plt\n",
        "\n",
        "from scipy.stats import norm"
      ]
    },
    {
      "cell_type": "code",
      "source": [
        "!gdown 1V9ZFTiRKzJ8dbdD1JI5nRM1_TEVTRjGS -O \"weight-height.csv\""
      ],
      "metadata": {
        "colab": {
          "base_uri": "https://localhost:8080/"
        },
        "id": "QLFpMi-JZSXw",
        "outputId": "e06d7736-05e4-48c1-8b96-380e3fa1f0b3"
      },
      "id": "QLFpMi-JZSXw",
      "execution_count": 15,
      "outputs": [
        {
          "output_type": "stream",
          "name": "stdout",
          "text": [
            "Downloading...\n",
            "From: https://drive.google.com/uc?id=1V9ZFTiRKzJ8dbdD1JI5nRM1_TEVTRjGS\n",
            "To: /content/weight-height.csv\n",
            "\r  0% 0.00/428k [00:00<?, ?B/s]\r100% 428k/428k [00:00<00:00, 93.7MB/s]\n"
          ]
        }
      ]
    },
    {
      "cell_type": "markdown",
      "id": "04134068",
      "metadata": {
        "id": "04134068"
      },
      "source": [
        "# CLT"
      ]
    },
    {
      "cell_type": "code",
      "execution_count": 16,
      "id": "32066bc9",
      "metadata": {
        "id": "32066bc9"
      },
      "outputs": [],
      "source": [
        "df_hw = pd.read_csv(\"weight-height.csv\")"
      ]
    },
    {
      "cell_type": "code",
      "execution_count": 17,
      "id": "6baef38e",
      "metadata": {
        "colab": {
          "base_uri": "https://localhost:8080/"
        },
        "id": "6baef38e",
        "outputId": "bf4db708-de0a-4ab2-fe3d-ad8e52ee0965"
      },
      "outputs": [
        {
          "output_type": "execute_result",
          "data": {
            "text/plain": [
              "(10000, 3)"
            ]
          },
          "metadata": {},
          "execution_count": 17
        }
      ],
      "source": [
        "df_hw.shape"
      ]
    },
    {
      "cell_type": "code",
      "execution_count": 18,
      "id": "f4b592da",
      "metadata": {
        "colab": {
          "base_uri": "https://localhost:8080/",
          "height": 206
        },
        "id": "f4b592da",
        "outputId": "83a9532b-3efe-4c26-c80f-21cc5096f0d8"
      },
      "outputs": [
        {
          "output_type": "execute_result",
          "data": {
            "text/plain": [
              "  Gender     Height      Weight\n",
              "0   Male  73.847017  241.893563\n",
              "1   Male  68.781904  162.310473\n",
              "2   Male  74.110105  212.740856\n",
              "3   Male  71.730978  220.042470\n",
              "4   Male  69.881796  206.349801"
            ],
            "text/html": [
              "\n",
              "  <div id=\"df-bca66032-ebac-42d2-ba63-1579908b8acc\">\n",
              "    <div class=\"colab-df-container\">\n",
              "      <div>\n",
              "<style scoped>\n",
              "    .dataframe tbody tr th:only-of-type {\n",
              "        vertical-align: middle;\n",
              "    }\n",
              "\n",
              "    .dataframe tbody tr th {\n",
              "        vertical-align: top;\n",
              "    }\n",
              "\n",
              "    .dataframe thead th {\n",
              "        text-align: right;\n",
              "    }\n",
              "</style>\n",
              "<table border=\"1\" class=\"dataframe\">\n",
              "  <thead>\n",
              "    <tr style=\"text-align: right;\">\n",
              "      <th></th>\n",
              "      <th>Gender</th>\n",
              "      <th>Height</th>\n",
              "      <th>Weight</th>\n",
              "    </tr>\n",
              "  </thead>\n",
              "  <tbody>\n",
              "    <tr>\n",
              "      <th>0</th>\n",
              "      <td>Male</td>\n",
              "      <td>73.847017</td>\n",
              "      <td>241.893563</td>\n",
              "    </tr>\n",
              "    <tr>\n",
              "      <th>1</th>\n",
              "      <td>Male</td>\n",
              "      <td>68.781904</td>\n",
              "      <td>162.310473</td>\n",
              "    </tr>\n",
              "    <tr>\n",
              "      <th>2</th>\n",
              "      <td>Male</td>\n",
              "      <td>74.110105</td>\n",
              "      <td>212.740856</td>\n",
              "    </tr>\n",
              "    <tr>\n",
              "      <th>3</th>\n",
              "      <td>Male</td>\n",
              "      <td>71.730978</td>\n",
              "      <td>220.042470</td>\n",
              "    </tr>\n",
              "    <tr>\n",
              "      <th>4</th>\n",
              "      <td>Male</td>\n",
              "      <td>69.881796</td>\n",
              "      <td>206.349801</td>\n",
              "    </tr>\n",
              "  </tbody>\n",
              "</table>\n",
              "</div>\n",
              "      <button class=\"colab-df-convert\" onclick=\"convertToInteractive('df-bca66032-ebac-42d2-ba63-1579908b8acc')\"\n",
              "              title=\"Convert this dataframe to an interactive table.\"\n",
              "              style=\"display:none;\">\n",
              "        \n",
              "  <svg xmlns=\"http://www.w3.org/2000/svg\" height=\"24px\"viewBox=\"0 0 24 24\"\n",
              "       width=\"24px\">\n",
              "    <path d=\"M0 0h24v24H0V0z\" fill=\"none\"/>\n",
              "    <path d=\"M18.56 5.44l.94 2.06.94-2.06 2.06-.94-2.06-.94-.94-2.06-.94 2.06-2.06.94zm-11 1L8.5 8.5l.94-2.06 2.06-.94-2.06-.94L8.5 2.5l-.94 2.06-2.06.94zm10 10l.94 2.06.94-2.06 2.06-.94-2.06-.94-.94-2.06-.94 2.06-2.06.94z\"/><path d=\"M17.41 7.96l-1.37-1.37c-.4-.4-.92-.59-1.43-.59-.52 0-1.04.2-1.43.59L10.3 9.45l-7.72 7.72c-.78.78-.78 2.05 0 2.83L4 21.41c.39.39.9.59 1.41.59.51 0 1.02-.2 1.41-.59l7.78-7.78 2.81-2.81c.8-.78.8-2.07 0-2.86zM5.41 20L4 18.59l7.72-7.72 1.47 1.35L5.41 20z\"/>\n",
              "  </svg>\n",
              "      </button>\n",
              "      \n",
              "  <style>\n",
              "    .colab-df-container {\n",
              "      display:flex;\n",
              "      flex-wrap:wrap;\n",
              "      gap: 12px;\n",
              "    }\n",
              "\n",
              "    .colab-df-convert {\n",
              "      background-color: #E8F0FE;\n",
              "      border: none;\n",
              "      border-radius: 50%;\n",
              "      cursor: pointer;\n",
              "      display: none;\n",
              "      fill: #1967D2;\n",
              "      height: 32px;\n",
              "      padding: 0 0 0 0;\n",
              "      width: 32px;\n",
              "    }\n",
              "\n",
              "    .colab-df-convert:hover {\n",
              "      background-color: #E2EBFA;\n",
              "      box-shadow: 0px 1px 2px rgba(60, 64, 67, 0.3), 0px 1px 3px 1px rgba(60, 64, 67, 0.15);\n",
              "      fill: #174EA6;\n",
              "    }\n",
              "\n",
              "    [theme=dark] .colab-df-convert {\n",
              "      background-color: #3B4455;\n",
              "      fill: #D2E3FC;\n",
              "    }\n",
              "\n",
              "    [theme=dark] .colab-df-convert:hover {\n",
              "      background-color: #434B5C;\n",
              "      box-shadow: 0px 1px 3px 1px rgba(0, 0, 0, 0.15);\n",
              "      filter: drop-shadow(0px 1px 2px rgba(0, 0, 0, 0.3));\n",
              "      fill: #FFFFFF;\n",
              "    }\n",
              "  </style>\n",
              "\n",
              "      <script>\n",
              "        const buttonEl =\n",
              "          document.querySelector('#df-bca66032-ebac-42d2-ba63-1579908b8acc button.colab-df-convert');\n",
              "        buttonEl.style.display =\n",
              "          google.colab.kernel.accessAllowed ? 'block' : 'none';\n",
              "\n",
              "        async function convertToInteractive(key) {\n",
              "          const element = document.querySelector('#df-bca66032-ebac-42d2-ba63-1579908b8acc');\n",
              "          const dataTable =\n",
              "            await google.colab.kernel.invokeFunction('convertToInteractive',\n",
              "                                                     [key], {});\n",
              "          if (!dataTable) return;\n",
              "\n",
              "          const docLinkHtml = 'Like what you see? Visit the ' +\n",
              "            '<a target=\"_blank\" href=https://colab.research.google.com/notebooks/data_table.ipynb>data table notebook</a>'\n",
              "            + ' to learn more about interactive tables.';\n",
              "          element.innerHTML = '';\n",
              "          dataTable['output_type'] = 'display_data';\n",
              "          await google.colab.output.renderOutput(dataTable, element);\n",
              "          const docLink = document.createElement('div');\n",
              "          docLink.innerHTML = docLinkHtml;\n",
              "          element.appendChild(docLink);\n",
              "        }\n",
              "      </script>\n",
              "    </div>\n",
              "  </div>\n",
              "  "
            ]
          },
          "metadata": {},
          "execution_count": 18
        }
      ],
      "source": [
        "df_hw.head()"
      ]
    },
    {
      "cell_type": "code",
      "execution_count": 19,
      "id": "f576b0f1",
      "metadata": {
        "id": "f576b0f1"
      },
      "outputs": [],
      "source": [
        "df_height = df_hw[\"Height\"]"
      ]
    },
    {
      "cell_type": "code",
      "execution_count": 20,
      "id": "62cbd515",
      "metadata": {
        "colab": {
          "base_uri": "https://localhost:8080/"
        },
        "id": "62cbd515",
        "outputId": "eca3806a-dbc9-4537-d258-4eab7b78f887"
      },
      "outputs": [
        {
          "output_type": "execute_result",
          "data": {
            "text/plain": [
              "66.36755975482124"
            ]
          },
          "metadata": {},
          "execution_count": 20
        }
      ],
      "source": [
        "mu = df_height.mean() # Population mean\n",
        "mu"
      ]
    },
    {
      "cell_type": "code",
      "execution_count": 21,
      "id": "cb79fb0e",
      "metadata": {
        "colab": {
          "base_uri": "https://localhost:8080/"
        },
        "id": "cb79fb0e",
        "outputId": "468182d2-5fa7-4489-a975-ba4092c02775"
      },
      "outputs": [
        {
          "output_type": "execute_result",
          "data": {
            "text/plain": [
              "3.8475281207732293"
            ]
          },
          "metadata": {},
          "execution_count": 21
        }
      ],
      "source": [
        "sigma = df_height.std() # Population std dev\n",
        "sigma"
      ]
    },
    {
      "cell_type": "code",
      "execution_count": 22,
      "id": "0d0f4b3c",
      "metadata": {
        "colab": {
          "base_uri": "https://localhost:8080/",
          "height": 466
        },
        "id": "0d0f4b3c",
        "outputId": "2bd11801-099d-4132-e913-9822eed198fd"
      },
      "outputs": [
        {
          "output_type": "execute_result",
          "data": {
            "text/plain": [
              "<Axes: xlabel='Height', ylabel='Count'>"
            ]
          },
          "metadata": {},
          "execution_count": 22
        },
        {
          "output_type": "display_data",
          "data": {
            "text/plain": [
              "<Figure size 640x480 with 1 Axes>"
            ],
            "image/png": "[encoded data removed]"
          },
          "metadata": {}
        }
      ],
      "source": [
        "sns.histplot(df_height)"
      ]
    },
    {
      "cell_type": "code",
      "execution_count": 23,
      "id": "38a16501",
      "metadata": {
        "colab": {
          "base_uri": "https://localhost:8080/"
        },
        "id": "38a16501",
        "outputId": "3e762c60-9e65-4e5b-9a22-043e7eb65888"
      },
      "outputs": [
        {
          "output_type": "execute_result",
          "data": {
            "text/plain": [
              "7614    65.638369\n",
              "3661    67.810251\n",
              "2304    63.472414\n",
              "1346    68.997440\n",
              "944     70.811262\n",
              "Name: Height, dtype: float64"
            ]
          },
          "metadata": {},
          "execution_count": 23
        }
      ],
      "source": [
        "df_height.sample(5)"
      ]
    },
    {
      "cell_type": "code",
      "execution_count": 24,
      "id": "60dbda17",
      "metadata": {
        "colab": {
          "base_uri": "https://localhost:8080/"
        },
        "id": "60dbda17",
        "outputId": "a54993a1-c4eb-44c1-e89d-6187b710d1f8"
      },
      "outputs": [
        {
          "output_type": "execute_result",
          "data": {
            "text/plain": [
              "64.47412714544686"
            ]
          },
          "metadata": {},
          "execution_count": 24
        }
      ],
      "source": [
        "# Every time, this mean is different\n",
        "# It is close to population mean of 66.3\n",
        "np.mean(df_height.sample(5)) "
      ]
    },
    {
      "cell_type": "code",
      "execution_count": 25,
      "id": "da67b8ea",
      "metadata": {
        "id": "da67b8ea"
      },
      "outputs": [],
      "source": [
        "sample_mean_5 = [np.mean(df_height.sample(5)) for i in range(20000) ]"
      ]
    },
    {
      "cell_type": "code",
      "execution_count": 26,
      "id": "8a0f4caa",
      "metadata": {
        "colab": {
          "base_uri": "https://localhost:8080/"
        },
        "id": "8a0f4caa",
        "outputId": "44d3bf9c-0a57-4b93-bb14-5c122676e82b"
      },
      "outputs": [
        {
          "output_type": "execute_result",
          "data": {
            "text/plain": [
              "20000"
            ]
          },
          "metadata": {},
          "execution_count": 26
        }
      ],
      "source": [
        "len(sample_mean_5)\n",
        "# each of these numbers represents a sample mean of sample size 5"
      ]
    },
    {
      "cell_type": "code",
      "execution_count": 27,
      "id": "872edeeb",
      "metadata": {
        "colab": {
          "base_uri": "https://localhost:8080/",
          "height": 447
        },
        "id": "872edeeb",
        "outputId": "8063af61-7c24-4f12-d2c2-a4fe14dbea6a"
      },
      "outputs": [
        {
          "output_type": "execute_result",
          "data": {
            "text/plain": [
              "<Axes: ylabel='Count'>"
            ]
          },
          "metadata": {},
          "execution_count": 27
        },
        {
          "output_type": "display_data",
          "data": {
            "text/plain": [
              "<Figure size 640x480 with 1 Axes>"
            ],
            "image/png": "[encoded data removed]"
          },
          "metadata": {}
        }
      ],
      "source": [
        "sns.histplot(sample_mean_5)"
      ]
    },
    {
      "cell_type": "code",
      "execution_count": 28,
      "id": "29dc47e6",
      "metadata": {
        "colab": {
          "base_uri": "https://localhost:8080/"
        },
        "id": "29dc47e6",
        "outputId": "34296b05-23de-4174-f9b0-d0dc5a679456"
      },
      "outputs": [
        {
          "output_type": "execute_result",
          "data": {
            "text/plain": [
              "66.37265987678524"
            ]
          },
          "metadata": {},
          "execution_count": 28
        }
      ],
      "source": [
        "np.mean(sample_mean_5)"
      ]
    },
    {
      "cell_type": "code",
      "execution_count": 29,
      "id": "7a5810eb",
      "metadata": {
        "colab": {
          "base_uri": "https://localhost:8080/"
        },
        "id": "7a5810eb",
        "outputId": "c5be1255-73a3-4472-b6ae-3486880a8bf7"
      },
      "outputs": [
        {
          "output_type": "execute_result",
          "data": {
            "text/plain": [
              "1.7235439786143532"
            ]
          },
          "metadata": {},
          "execution_count": 29
        }
      ],
      "source": [
        "np.std(sample_mean_5)"
      ]
    },
    {
      "cell_type": "code",
      "execution_count": 30,
      "id": "e2af3955",
      "metadata": {
        "colab": {
          "base_uri": "https://localhost:8080/"
        },
        "id": "e2af3955",
        "outputId": "d888eece-a7c4-4454-c85e-96855524102e"
      },
      "outputs": [
        {
          "output_type": "execute_result",
          "data": {
            "text/plain": [
              "1.7206668846781923"
            ]
          },
          "metadata": {},
          "execution_count": 30
        }
      ],
      "source": [
        "sigma/np.sqrt(5)"
      ]
    },
    {
      "cell_type": "markdown",
      "id": "e940ec90",
      "metadata": {
        "id": "e940ec90"
      },
      "source": [
        "Changing sample size to 20"
      ]
    },
    {
      "cell_type": "code",
      "execution_count": 31,
      "id": "90417653",
      "metadata": {
        "colab": {
          "base_uri": "https://localhost:8080/"
        },
        "id": "90417653",
        "outputId": "7feaab8c-693d-48fa-f02b-a180d29b1585"
      },
      "outputs": [
        {
          "output_type": "execute_result",
          "data": {
            "text/plain": [
              "67.38623694026748"
            ]
          },
          "metadata": {},
          "execution_count": 31
        }
      ],
      "source": [
        "np.mean(df_height.sample(20))"
      ]
    },
    {
      "cell_type": "code",
      "execution_count": 32,
      "id": "26a70770",
      "metadata": {
        "id": "26a70770"
      },
      "outputs": [],
      "source": [
        "sample_mean_20 = [np.mean(df_height.sample(20)) for i in range(20000)]"
      ]
    },
    {
      "cell_type": "code",
      "execution_count": 33,
      "id": "4fdccbbe",
      "metadata": {
        "colab": {
          "base_uri": "https://localhost:8080/"
        },
        "id": "4fdccbbe",
        "outputId": "ce7a1552-d186-422f-95da-f467126839d9"
      },
      "outputs": [
        {
          "output_type": "execute_result",
          "data": {
            "text/plain": [
              "20000"
            ]
          },
          "metadata": {},
          "execution_count": 33
        }
      ],
      "source": [
        "len(sample_mean_20) \n",
        "# Each number represents a sample mean of sample size 20"
      ]
    },
    {
      "cell_type": "code",
      "execution_count": 34,
      "id": "051bd775",
      "metadata": {
        "colab": {
          "base_uri": "https://localhost:8080/",
          "height": 447
        },
        "id": "051bd775",
        "outputId": "1a5bff85-dae9-431a-c2f4-69ad65f070ec"
      },
      "outputs": [
        {
          "output_type": "execute_result",
          "data": {
            "text/plain": [
              "<Axes: ylabel='Count'>"
            ]
          },
          "metadata": {},
          "execution_count": 34
        },
        {
          "output_type": "display_data",
          "data": {
            "text/plain": [
              "<Figure size 640x480 with 1 Axes>"
            ],
            "image/png": "[encoded data removed]"
          },
          "metadata": {}
        }
      ],
      "source": [
        "sns.histplot(sample_mean_20)"
      ]
    },
    {
      "cell_type": "code",
      "execution_count": 35,
      "id": "22d7b64d",
      "metadata": {
        "colab": {
          "base_uri": "https://localhost:8080/"
        },
        "id": "22d7b64d",
        "outputId": "d9b67eb7-fab8-4fbd-cf73-35ea7825a219"
      },
      "outputs": [
        {
          "output_type": "execute_result",
          "data": {
            "text/plain": [
              "66.37831681398649"
            ]
          },
          "metadata": {},
          "execution_count": 35
        }
      ],
      "source": [
        "np.mean(sample_mean_20)"
      ]
    },
    {
      "cell_type": "code",
      "execution_count": 36,
      "id": "e7a709b7",
      "metadata": {
        "colab": {
          "base_uri": "https://localhost:8080/"
        },
        "id": "e7a709b7",
        "outputId": "e4b6c713-bca4-44e8-aec6-8cc2a4e6bde8"
      },
      "outputs": [
        {
          "output_type": "execute_result",
          "data": {
            "text/plain": [
              "0.862949082592929"
            ]
          },
          "metadata": {},
          "execution_count": 36
        }
      ],
      "source": [
        "np.std(sample_mean_20)"
      ]
    },
    {
      "cell_type": "code",
      "execution_count": 37,
      "id": "d6e4870e",
      "metadata": {
        "colab": {
          "base_uri": "https://localhost:8080/"
        },
        "id": "d6e4870e",
        "outputId": "b673db37-a6a6-4249-b394-6a67598bc992"
      },
      "outputs": [
        {
          "output_type": "execute_result",
          "data": {
            "text/plain": [
              "0.8603334423390961"
            ]
          },
          "metadata": {},
          "execution_count": 37
        }
      ],
      "source": [
        "sigma/np.sqrt(20)"
      ]
    },
    {
      "cell_type": "markdown",
      "id": "330f656e",
      "metadata": {
        "id": "330f656e"
      },
      "source": [
        "Change sample size to 100"
      ]
    },
    {
      "cell_type": "code",
      "execution_count": 38,
      "id": "2c5a6484",
      "metadata": {
        "id": "2c5a6484"
      },
      "outputs": [],
      "source": [
        "sample_mean_100 = [np.mean(df_height.sample(100)) for i in range(20000) ] "
      ]
    },
    {
      "cell_type": "code",
      "execution_count": 39,
      "id": "fda697c6",
      "metadata": {
        "colab": {
          "base_uri": "https://localhost:8080/"
        },
        "id": "fda697c6",
        "outputId": "70fcb7fd-bad8-4fb9-c2f0-67ddeb0ebb24"
      },
      "outputs": [
        {
          "output_type": "execute_result",
          "data": {
            "text/plain": [
              "20000"
            ]
          },
          "metadata": {},
          "execution_count": 39
        }
      ],
      "source": [
        "len(sample_mean_100)"
      ]
    },
    {
      "cell_type": "code",
      "execution_count": 40,
      "id": "f3ed7572",
      "metadata": {
        "colab": {
          "base_uri": "https://localhost:8080/",
          "height": 447
        },
        "id": "f3ed7572",
        "outputId": "3ea7b4be-6036-417a-db0f-4fe5ce3e035d"
      },
      "outputs": [
        {
          "output_type": "execute_result",
          "data": {
            "text/plain": [
              "<Axes: ylabel='Count'>"
            ]
          },
          "metadata": {},
          "execution_count": 40
        },
        {
          "output_type": "display_data",
          "data": {
            "text/plain": [
              "<Figure size 640x480 with 1 Axes>"
            ],
            "image/png": "[encoded data removed]"
          },
          "metadata": {}
        }
      ],
      "source": [
        "sns.histplot(sample_mean_100)"
      ]
    },
    {
      "cell_type": "code",
      "execution_count": 41,
      "id": "c038d3ad",
      "metadata": {
        "colab": {
          "base_uri": "https://localhost:8080/"
        },
        "id": "c038d3ad",
        "outputId": "dbef9b49-86e2-4e7f-d415-cde5df5360a5"
      },
      "outputs": [
        {
          "output_type": "execute_result",
          "data": {
            "text/plain": [
              "66.36891259270186"
            ]
          },
          "metadata": {},
          "execution_count": 41
        }
      ],
      "source": [
        "np.mean(sample_mean_100)"
      ]
    },
    {
      "cell_type": "code",
      "execution_count": 42,
      "id": "b7aa2177",
      "metadata": {
        "colab": {
          "base_uri": "https://localhost:8080/"
        },
        "id": "b7aa2177",
        "outputId": "98b1ff83-ee3d-4da8-a402-2f68e45d771b"
      },
      "outputs": [
        {
          "output_type": "execute_result",
          "data": {
            "text/plain": [
              "0.38232743935851543"
            ]
          },
          "metadata": {},
          "execution_count": 42
        }
      ],
      "source": [
        "np.std(sample_mean_100)"
      ]
    },
    {
      "cell_type": "code",
      "execution_count": 43,
      "id": "5914138f",
      "metadata": {
        "colab": {
          "base_uri": "https://localhost:8080/"
        },
        "id": "5914138f",
        "outputId": "de4967d5-e7ed-4162-a1dc-d51490f119d2"
      },
      "outputs": [
        {
          "output_type": "execute_result",
          "data": {
            "text/plain": [
              "0.3847528120773229"
            ]
          },
          "metadata": {},
          "execution_count": 43
        }
      ],
      "source": [
        "sigma/np.sqrt(100)"
      ]
    },
    {
      "cell_type": "markdown",
      "id": "96afd2ef",
      "metadata": {
        "id": "96afd2ef"
      },
      "source": [
        "# Blood pressure example"
      ]
    },
    {
      "cell_type": "markdown",
      "id": "34dac559",
      "metadata": {
        "id": "34dac559"
      },
      "source": [
        "Systolic blood pressure of a group of people is known to have an average of 122 mmHg and a standard deviation of 10 mmHg\n",
        "\n",
        "Calculate the probability that the average blood pressure of 16 people will be greater than 125 mmHg."
      ]
    },
    {
      "cell_type": "code",
      "execution_count": 44,
      "id": "10e21f87",
      "metadata": {
        "colab": {
          "base_uri": "https://localhost:8080/"
        },
        "id": "10e21f87",
        "outputId": "6482e8bc-4db5-4fe7-8953-158c668b64e8"
      },
      "outputs": [
        {
          "output_type": "execute_result",
          "data": {
            "text/plain": [
              "2.5"
            ]
          },
          "metadata": {},
          "execution_count": 44
        }
      ],
      "source": [
        "std_error = 10/np.sqrt(16)\n",
        "std_error"
      ]
    },
    {
      "cell_type": "code",
      "execution_count": 45,
      "id": "574936e9",
      "metadata": {
        "colab": {
          "base_uri": "https://localhost:8080/"
        },
        "id": "574936e9",
        "outputId": "fa1ee315-e4bb-4812-a7a6-e78b2f095e3a"
      },
      "outputs": [
        {
          "output_type": "execute_result",
          "data": {
            "text/plain": [
              "1.2"
            ]
          },
          "metadata": {},
          "execution_count": 45
        }
      ],
      "source": [
        "z = (125 - 122)/std_error\n",
        "z"
      ]
    },
    {
      "cell_type": "code",
      "execution_count": 46,
      "id": "29eecfa9",
      "metadata": {
        "colab": {
          "base_uri": "https://localhost:8080/"
        },
        "id": "29eecfa9",
        "outputId": "2889b1bc-aa5f-4f04-bb18-0eb4ca3219d9"
      },
      "outputs": [
        {
          "output_type": "execute_result",
          "data": {
            "text/plain": [
              "0.11506967022170822"
            ]
          },
          "metadata": {},
          "execution_count": 46
        }
      ],
      "source": [
        "prob = 1 - norm.cdf(z)\n",
        "prob"
      ]
    },
    {
      "cell_type": "markdown",
      "id": "49c09ba3",
      "metadata": {
        "id": "49c09ba3"
      },
      "source": [
        "What if we had sampled 100 people instead of 16? What is the prob of average being greater than 125?"
      ]
    },
    {
      "cell_type": "code",
      "execution_count": 47,
      "id": "500e8e98",
      "metadata": {
        "colab": {
          "base_uri": "https://localhost:8080/"
        },
        "id": "500e8e98",
        "outputId": "3d0c6c62-7c69-4238-b0e8-3d8524be1dc6"
      },
      "outputs": [
        {
          "output_type": "execute_result",
          "data": {
            "text/plain": [
              "1.0"
            ]
          },
          "metadata": {},
          "execution_count": 47
        }
      ],
      "source": [
        "std_error = 10/np.sqrt(100)\n",
        "std_error"
      ]
    },
    {
      "cell_type": "code",
      "execution_count": 48,
      "id": "ff235027",
      "metadata": {
        "colab": {
          "base_uri": "https://localhost:8080/"
        },
        "id": "ff235027",
        "outputId": "361ca288-531f-49ec-b2fd-9fc3fa03c920"
      },
      "outputs": [
        {
          "output_type": "execute_result",
          "data": {
            "text/plain": [
              "3.0"
            ]
          },
          "metadata": {},
          "execution_count": 48
        }
      ],
      "source": [
        "z = (125 - 122)/std_error\n",
        "z"
      ]
    },
    {
      "cell_type": "code",
      "execution_count": 49,
      "id": "2f41ca2f",
      "metadata": {
        "colab": {
          "base_uri": "https://localhost:8080/"
        },
        "id": "2f41ca2f",
        "outputId": "fc541d49-e0af-4cd8-f3c7-34df1e5a99dc"
      },
      "outputs": [
        {
          "output_type": "execute_result",
          "data": {
            "text/plain": [
              "0.0013498980316301035"
            ]
          },
          "metadata": {},
          "execution_count": 49
        }
      ],
      "source": [
        "prob = 1 - norm.cdf(z)\n",
        "prob"
      ]
    },
    {
      "cell_type": "code",
      "execution_count": 49,
      "id": "7a66af5c",
      "metadata": {
        "id": "7a66af5c"
      },
      "outputs": [],
      "source": []
    },
    {
      "cell_type": "code",
      "execution_count": 49,
      "id": "72a5188a",
      "metadata": {
        "id": "72a5188a"
      },
      "outputs": [],
      "source": []
    }
  ],
  "metadata": {
    "kernelspec": {
      "display_name": "Python 3 (ipykernel)",
      "language": "python",
      "name": "python3"
    },
    "language_info": {
      "codemirror_mode": {
        "name": "ipython",
        "version": 3
      },
      "file_extension": ".py",
      "mimetype": "text/x-python",
      "name": "python",
      "nbconvert_exporter": "python",
      "pygments_lexer": "ipython3",
      "version": "3.9.12"
    },
    "colab": {
      "provenance": [],
      "include_colab_link": true
    }
  },
  "nbformat": 4,
  "nbformat_minor": 5
}