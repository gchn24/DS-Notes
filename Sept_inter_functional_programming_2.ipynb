{
  "nbformat": 4,
  "nbformat_minor": 0,
  "metadata": {
    "colab": {
      "provenance": [],
      "include_colab_link": true
    },
    "kernelspec": {
      "name": "python3",
      "display_name": "Python 3"
    },
    "language_info": {
      "name": "python"
    }
  },
  "cells": [
    {
      "cell_type": "markdown",
      "metadata": {
        "id": "view-in-github",
        "colab_type": "text"
      },
      "source": [
        "<a href=\"https://colab.research.google.com/github/gchn24/DS-Notes/blob/main/Sept_inter_functional_programming_2.ipynb\" target=\"_parent\"><img src=\"https://colab.research.google.com/assets/colab-badge.svg\" alt=\"Open In Colab\"/></a>"
      ]
    },
    {
      "cell_type": "code",
      "execution_count": null,
      "metadata": {
        "colab": {
          "base_uri": "https://localhost:8080/"
        },
        "id": "EebaJKvRmuId",
        "outputId": "866f09e4-72c8-4746-be00-afb973af5f61"
      },
      "outputs": [
        {
          "output_type": "stream",
          "name": "stdout",
          "text": [
            "You guys are doing awesome!! Keep going!!\n"
          ]
        }
      ],
      "source": [
        "print(\"You guys are doing awesome!! Keep going!!\")"
      ]
    },
    {
      "cell_type": "code",
      "source": [
        "x = 5 \n",
        "\n",
        "\n",
        "x = 3*x\n",
        "x = x+1\n"
      ],
      "metadata": {
        "id": "vc5T_Fk_nq-Q"
      },
      "execution_count": null,
      "outputs": []
    },
    {
      "cell_type": "code",
      "source": [
        "print(x)"
      ],
      "metadata": {
        "colab": {
          "base_uri": "https://localhost:8080/"
        },
        "id": "bGqEnM33odWG",
        "outputId": "b3966ea6-d7f6-4536-84ee-f1a31c9f14f1"
      },
      "execution_count": null,
      "outputs": [
        {
          "output_type": "stream",
          "name": "stdout",
          "text": [
            "16\n"
          ]
        }
      ]
    },
    {
      "cell_type": "code",
      "source": [
        "x = 5 #initial value\n",
        "\n",
        "#hidden mutations\n",
        "x = 3*x\n",
        "x = x+1\n",
        "#hidden mutations\n",
        "\n",
        "#Problem is = we can't rollback/undo mutations"
      ],
      "metadata": {
        "id": "fz5zd01soq-7"
      },
      "execution_count": null,
      "outputs": []
    },
    {
      "cell_type": "code",
      "source": [
        "#soln1\n",
        "\n",
        "\n",
        "x = 5\n",
        "x1 = 3*x\n",
        "x2 = x1+1\n",
        "\n",
        "#problem - too much variables leading to too much space/memory"
      ],
      "metadata": {
        "id": "YOWEuNKgpCdT"
      },
      "execution_count": null,
      "outputs": []
    },
    {
      "cell_type": "code",
      "source": [
        "print(x,x1,x2)"
      ],
      "metadata": {
        "colab": {
          "base_uri": "https://localhost:8080/"
        },
        "id": "4Ew2bevvpMk5",
        "outputId": "50e7ecc6-7008-443c-b582-035002ed7fd8"
      },
      "execution_count": null,
      "outputs": [
        {
          "output_type": "stream",
          "name": "stdout",
          "text": [
            "5 15 16\n"
          ]
        }
      ]
    },
    {
      "cell_type": "code",
      "source": [
        "#Principles of Functional Programming"
      ],
      "metadata": {
        "id": "klWDGILgpN9z"
      },
      "execution_count": null,
      "outputs": []
    },
    {
      "cell_type": "code",
      "source": [
        "x = 5\n",
        "\n",
        "def mutations(x):\n",
        "  x = 3*x\n",
        "  x = x+1\n",
        "  return x\n",
        "\n",
        "x1 = mutations(x)"
      ],
      "metadata": {
        "id": "_GZqhWOLprhO"
      },
      "execution_count": null,
      "outputs": []
    },
    {
      "cell_type": "code",
      "source": [
        "print(x,x1)"
      ],
      "metadata": {
        "colab": {
          "base_uri": "https://localhost:8080/"
        },
        "id": "UBburxpnp12E",
        "outputId": "5ad05c3a-0ea4-4e62-8918-d9ffa5104da8"
      },
      "execution_count": null,
      "outputs": [
        {
          "output_type": "stream",
          "name": "stdout",
          "text": [
            "5 16\n"
          ]
        }
      ]
    },
    {
      "cell_type": "code",
      "source": [
        "#Maps"
      ],
      "metadata": {
        "id": "MCn7fANwqA8x"
      },
      "execution_count": null,
      "outputs": []
    },
    {
      "cell_type": "code",
      "source": [
        "map(function_to_perform, *iterables)\n"
      ],
      "metadata": {
        "id": "N6FlCbC0ruFD"
      },
      "execution_count": null,
      "outputs": []
    },
    {
      "cell_type": "code",
      "source": [
        "'''\n",
        "Q1- Given a list of int, create another list which contains the square of the elements in it\n",
        "\n",
        "a = [1,2,3,4,5]\n",
        "b = [1,4,9,16,25]\n",
        "'''"
      ],
      "metadata": {
        "colab": {
          "base_uri": "https://localhost:8080/",
          "height": 53
        },
        "id": "Ftm10mpQr2KT",
        "outputId": "8f5efa5c-34b8-4672-9850-dad62d7a473d"
      },
      "execution_count": null,
      "outputs": [
        {
          "output_type": "execute_result",
          "data": {
            "text/plain": [
              "'\\nQ1- Given a list of int, create another list which contains the square of the elements in it\\n\\na = [1,2,3,4,5]\\nb = [1,4,9,16,25]\\n'"
            ],
            "application/vnd.google.colaboratory.intrinsic+json": {
              "type": "string"
            }
          },
          "metadata": {},
          "execution_count": 12
        }
      ]
    },
    {
      "cell_type": "code",
      "source": [
        "#list comprehension"
      ],
      "metadata": {
        "id": "_75MagC8sFU8"
      },
      "execution_count": null,
      "outputs": []
    },
    {
      "cell_type": "code",
      "source": [
        "a = [1,2,3,4,5]\n",
        "b = [1,4,9,16,25]"
      ],
      "metadata": {
        "id": "EQe7Q0NqsPDT"
      },
      "execution_count": null,
      "outputs": []
    },
    {
      "cell_type": "code",
      "source": [
        "b = [x*x for x in a]"
      ],
      "metadata": {
        "id": "wmsZC3YMsJqP"
      },
      "execution_count": null,
      "outputs": []
    },
    {
      "cell_type": "code",
      "source": [
        "b"
      ],
      "metadata": {
        "colab": {
          "base_uri": "https://localhost:8080/"
        },
        "id": "wy9NXYhKsQdI",
        "outputId": "6de67318-21df-433c-d31b-82cc48cfca2e"
      },
      "execution_count": null,
      "outputs": [
        {
          "output_type": "execute_result",
          "data": {
            "text/plain": [
              "[1, 4, 9, 16, 25]"
            ]
          },
          "metadata": {},
          "execution_count": 16
        }
      ]
    },
    {
      "cell_type": "code",
      "source": [
        "# __iter__\n",
        "# __next__"
      ],
      "metadata": {
        "id": "tg4mTIeWsRQm"
      },
      "execution_count": null,
      "outputs": []
    },
    {
      "cell_type": "code",
      "source": [
        "def square_x(x):\n",
        "  return x**2"
      ],
      "metadata": {
        "id": "S_pEvPt3st7R"
      },
      "execution_count": null,
      "outputs": []
    },
    {
      "cell_type": "code",
      "source": [
        "#maps\n",
        "\n",
        "m = map(square_x, a)"
      ],
      "metadata": {
        "id": "ZO-0OwxHslRa"
      },
      "execution_count": null,
      "outputs": []
    },
    {
      "cell_type": "code",
      "source": [
        "print(m)"
      ],
      "metadata": {
        "colab": {
          "base_uri": "https://localhost:8080/"
        },
        "id": "oKKhQtxZs1_f",
        "outputId": "2ff87be6-51d7-4f01-a678-f1f3fa84409f"
      },
      "execution_count": null,
      "outputs": [
        {
          "output_type": "stream",
          "name": "stdout",
          "text": [
            "<map object at 0x7fdd0e78df40>\n"
          ]
        }
      ]
    },
    {
      "cell_type": "code",
      "source": [
        "#maps\n",
        "\n",
        "m = list(map(square_x, a))\n",
        "m"
      ],
      "metadata": {
        "colab": {
          "base_uri": "https://localhost:8080/"
        },
        "id": "Tn0wEXmDs4gP",
        "outputId": "f26b87be-0101-40d2-8e52-7da6c6e88181"
      },
      "execution_count": null,
      "outputs": [
        {
          "output_type": "execute_result",
          "data": {
            "text/plain": [
              "[1, 4, 9, 16, 25]"
            ]
          },
          "metadata": {},
          "execution_count": 22
        }
      ]
    },
    {
      "cell_type": "code",
      "source": [
        "#lambda function\n",
        "\n",
        "m = list(map(lambda x: x**2, a))\n",
        "m"
      ],
      "metadata": {
        "colab": {
          "base_uri": "https://localhost:8080/"
        },
        "id": "St38qcI9s-NX",
        "outputId": "947f52c4-72e4-442d-bfa6-a0fc48747576"
      },
      "execution_count": null,
      "outputs": [
        {
          "output_type": "execute_result",
          "data": {
            "text/plain": [
              "[1, 4, 9, 16, 25]"
            ]
          },
          "metadata": {},
          "execution_count": 24
        }
      ]
    },
    {
      "cell_type": "code",
      "source": [
        "'''\n",
        "Question:\n",
        "Convert heights to t-shirt sizes\n",
        "\n",
        "Rules:\n",
        "h < 150 ---> S\n",
        "h >=150 and h < 180 --> M\n",
        "h >=180 --> L\n",
        "'''"
      ],
      "metadata": {
        "colab": {
          "base_uri": "https://localhost:8080/",
          "height": 35
        },
        "id": "z-PKu1ZUtLLg",
        "outputId": "8443635c-2a9d-4d5c-918a-6aaf2b8aa76a"
      },
      "execution_count": null,
      "outputs": [
        {
          "output_type": "execute_result",
          "data": {
            "text/plain": [
              "'\\nQuestion:\\nConvert heights to t-shirt sizes\\n\\nh < 150 ---> S\\nh >=150 and h < 180 --> M\\nh >=180 --> L\\n'"
            ],
            "application/vnd.google.colaboratory.intrinsic+json": {
              "type": "string"
            }
          },
          "metadata": {},
          "execution_count": 25
        }
      ]
    },
    {
      "cell_type": "code",
      "source": [
        "heights = [144,167,189,170, 190, 150, 165, 178, 200, 130]\n",
        "\n",
        "ans = [S,M,L,M,L,M,M,M,L,S]"
      ],
      "metadata": {
        "id": "0PUVEK_0uMzC"
      },
      "execution_count": null,
      "outputs": []
    },
    {
      "cell_type": "code",
      "source": [
        "def complex_logic(height):\n",
        "\n",
        "  if height < 150:\n",
        "    return \"S\"\n",
        "  elif height >=150 and height < 180:\n",
        "    return \"M\"\n",
        "  elif height >= 180:\n",
        "    return \"L\""
      ],
      "metadata": {
        "id": "KAfi4gH1vQqQ"
      },
      "execution_count": null,
      "outputs": []
    },
    {
      "cell_type": "code",
      "source": [
        "heights = [144,167,189,170, 190, 150, 165, 178, 200, 130]"
      ],
      "metadata": {
        "id": "g1eV25jFvrs4"
      },
      "execution_count": null,
      "outputs": []
    },
    {
      "cell_type": "code",
      "source": [
        "#version1\n",
        "\n",
        "sizes =  list(map(complex_logic, heights))\n",
        "sizes"
      ],
      "metadata": {
        "colab": {
          "base_uri": "https://localhost:8080/"
        },
        "id": "rDwHpRSsvh_l",
        "outputId": "929748cb-ee5f-480c-e428-ebeebb0cbeff"
      },
      "execution_count": null,
      "outputs": [
        {
          "output_type": "execute_result",
          "data": {
            "text/plain": [
              "['S', 'M', 'L', 'M', 'L', 'M', 'M', 'M', 'L', 'S']"
            ]
          },
          "metadata": {},
          "execution_count": 28
        }
      ]
    },
    {
      "cell_type": "code",
      "source": [
        "#using lambda function"
      ],
      "metadata": {
        "id": "37AXVR5_vusr"
      },
      "execution_count": null,
      "outputs": []
    },
    {
      "cell_type": "code",
      "source": [
        "sizes2 = list(map(lambda x: \"S\" if x < 150 else \"M\" if x >= 150 and x < 180 else \"L\", heights))\n",
        "sizes2"
      ],
      "metadata": {
        "colab": {
          "base_uri": "https://localhost:8080/"
        },
        "id": "I2oDrCS_wH3O",
        "outputId": "79278e19-272b-4636-b343-d58861fd2fa4"
      },
      "execution_count": null,
      "outputs": [
        {
          "output_type": "execute_result",
          "data": {
            "text/plain": [
              "['S', 'M', 'L', 'M', 'L', 'M', 'M', 'M', 'L', 'S']"
            ]
          },
          "metadata": {},
          "execution_count": 31
        }
      ]
    },
    {
      "cell_type": "code",
      "source": [
        "'''\n",
        "Q3:\n",
        "Given two lists A and B having 1 and 0s, find another list with element \n",
        "at index i as True if A[i] == B[i] else False\n",
        "\n",
        "A = [1,0,0,1,1,1,0,0,0,1,0,1]\n",
        "B = [0,0,1,1,0,1,1,1,0,0,0,0]\n",
        "C = [False, True, False....]\n",
        "\n",
        "C = True if both have same element else False\n",
        "'''"
      ],
      "metadata": {
        "id": "_RevNQPXwfso"
      },
      "execution_count": null,
      "outputs": []
    },
    {
      "cell_type": "code",
      "source": [
        "A = [1,0,0,1,1,1,0,0,0,1,0,1]\n",
        "B = [0,0,1,1,0,1,1,1,0,0,0,0]"
      ],
      "metadata": {
        "id": "d7Fdl9SjyTPC"
      },
      "execution_count": null,
      "outputs": []
    },
    {
      "cell_type": "code",
      "source": [
        "C = list(map(lambda x,y: x == y, A, B))\n",
        "C"
      ],
      "metadata": {
        "colab": {
          "base_uri": "https://localhost:8080/"
        },
        "id": "7yU_6HrDx7VQ",
        "outputId": "b2772451-3283-4bdc-e690-a55961d1bacf"
      },
      "execution_count": null,
      "outputs": [
        {
          "output_type": "execute_result",
          "data": {
            "text/plain": [
              "[False, True, False, True, False, True, False, False, True, False, True, False]"
            ]
          },
          "metadata": {},
          "execution_count": 35
        }
      ]
    },
    {
      "cell_type": "code",
      "source": [
        "#elementwise operations - Numpy Classes - later on"
      ],
      "metadata": {
        "id": "uewgpJFwyclw"
      },
      "execution_count": null,
      "outputs": []
    },
    {
      "cell_type": "code",
      "source": [
        "#Quiz\n",
        "random1 = [1,2,3]\n",
        "random2 = [1,2,3]\n",
        "\n",
        "random = list(map(lambda x,y: x+y, random1, random2))\n",
        "random"
      ],
      "metadata": {
        "colab": {
          "base_uri": "https://localhost:8080/"
        },
        "id": "VO46k3gAzAxa",
        "outputId": "382c9191-93ec-4ec0-a617-db4f8a6bccd1"
      },
      "execution_count": null,
      "outputs": [
        {
          "output_type": "execute_result",
          "data": {
            "text/plain": [
              "[2, 4, 6]"
            ]
          },
          "metadata": {},
          "execution_count": 38
        }
      ]
    },
    {
      "cell_type": "code",
      "source": [
        "#Quiz\n",
        "random1 = [1,2,3]\n",
        "random2 = [1,2,3,4,5]\n",
        "\n",
        "random = list(map(lambda x,y: x+y, random1, random2))\n",
        "random"
      ],
      "metadata": {
        "colab": {
          "base_uri": "https://localhost:8080/"
        },
        "id": "1C5EKcAXzM9X",
        "outputId": "b5bb19ae-6253-4e92-a9d9-53caaf39162b"
      },
      "execution_count": null,
      "outputs": [
        {
          "output_type": "execute_result",
          "data": {
            "text/plain": [
              "[2, 4, 6]"
            ]
          },
          "metadata": {},
          "execution_count": 40
        }
      ]
    },
    {
      "cell_type": "code",
      "source": [
        "#Filter"
      ],
      "metadata": {
        "id": "7PrFJNOmzUxW"
      },
      "execution_count": null,
      "outputs": []
    },
    {
      "cell_type": "code",
      "source": [
        "a = list(range(1,11))\n",
        "a"
      ],
      "metadata": {
        "colab": {
          "base_uri": "https://localhost:8080/"
        },
        "id": "1hrP-Uvxzoih",
        "outputId": "92f67eff-ddf8-4cb5-daca-5b1532352a8a"
      },
      "execution_count": null,
      "outputs": [
        {
          "output_type": "execute_result",
          "data": {
            "text/plain": [
              "[1, 2, 3, 4, 5, 6, 7, 8, 9, 10]"
            ]
          },
          "metadata": {},
          "execution_count": 42
        }
      ]
    },
    {
      "cell_type": "code",
      "source": [
        "f = filter(lambda aj: aj%2 == 0, a)\n",
        "f"
      ],
      "metadata": {
        "colab": {
          "base_uri": "https://localhost:8080/"
        },
        "id": "6yBWGamg0ZcW",
        "outputId": "1270df40-e1da-48f5-f652-0fd444950c14"
      },
      "execution_count": null,
      "outputs": [
        {
          "output_type": "execute_result",
          "data": {
            "text/plain": [
              "<filter at 0x7fdd0e78ddc0>"
            ]
          },
          "metadata": {},
          "execution_count": 46
        }
      ]
    },
    {
      "cell_type": "code",
      "source": [
        "f_list = list(f)\n",
        "f_list"
      ],
      "metadata": {
        "colab": {
          "base_uri": "https://localhost:8080/"
        },
        "id": "tbQzeAMu0i-N",
        "outputId": "83a7c6e8-b619-4481-868e-c5d4a325ed16"
      },
      "execution_count": null,
      "outputs": [
        {
          "output_type": "execute_result",
          "data": {
            "text/plain": [
              "[2, 4, 6, 8, 10]"
            ]
          },
          "metadata": {},
          "execution_count": 47
        }
      ]
    },
    {
      "cell_type": "code",
      "source": [
        "#doubt:\n",
        "\n",
        "square = lambda x: x*x if (x>0) else None\n",
        "\n",
        "print(square(-2))"
      ],
      "metadata": {
        "colab": {
          "base_uri": "https://localhost:8080/"
        },
        "id": "URsB8Rsw0lqr",
        "outputId": "bf7b9e27-6ed8-4be2-acd0-a2dcd638d268"
      },
      "execution_count": null,
      "outputs": [
        {
          "output_type": "stream",
          "name": "stdout",
          "text": [
            "None\n"
          ]
        }
      ]
    },
    {
      "cell_type": "code",
      "source": [
        "#zip"
      ],
      "metadata": {
        "id": "ZK9bIyfq3H1p"
      },
      "execution_count": null,
      "outputs": []
    },
    {
      "cell_type": "code",
      "source": [
        "a = [1,2,3]\n",
        "b = [\"a\",\"b\",\"c\"]\n",
        "\n",
        "result = list(zip(a,b))\n",
        "result"
      ],
      "metadata": {
        "colab": {
          "base_uri": "https://localhost:8080/"
        },
        "id": "U8vgTEGC3lU6",
        "outputId": "49eaf41d-fa7f-4d78-9001-269a901c5c05"
      },
      "execution_count": null,
      "outputs": [
        {
          "output_type": "execute_result",
          "data": {
            "text/plain": [
              "[(1, 'a'), (2, 'b'), (3, 'c')]"
            ]
          },
          "metadata": {},
          "execution_count": 53
        }
      ]
    },
    {
      "cell_type": "code",
      "source": [
        "a = [1,2,3]\n",
        "b = [\"a\",\"b\",\"c\",\"d\"]\n",
        "\n",
        "result = list(zip(b,a))\n",
        "result"
      ],
      "metadata": {
        "colab": {
          "base_uri": "https://localhost:8080/"
        },
        "id": "rsKzaylj3uJn",
        "outputId": "7de7b4c9-8365-438e-db81-8a691ba80746"
      },
      "execution_count": null,
      "outputs": [
        {
          "output_type": "execute_result",
          "data": {
            "text/plain": [
              "[('a', 1), ('b', 2), ('c', 3)]"
            ]
          },
          "metadata": {},
          "execution_count": 55
        }
      ]
    },
    {
      "cell_type": "code",
      "source": [
        "a = [1,2,3]\n",
        "b = [\"a\",\"b\",\"c\"]\n",
        "c = [\"x\",\"y\",\"z\"]\n",
        "\n",
        "result = list(zip(a,b,c))\n",
        "result"
      ],
      "metadata": {
        "colab": {
          "base_uri": "https://localhost:8080/"
        },
        "id": "oXJcN4JX33tb",
        "outputId": "cbcf1c44-6ac6-49d3-c2d7-693153099bf6"
      },
      "execution_count": null,
      "outputs": [
        {
          "output_type": "execute_result",
          "data": {
            "text/plain": [
              "[(1, 'a', 'x'), (2, 'b', 'y'), (3, 'c', 'z')]"
            ]
          },
          "metadata": {},
          "execution_count": 56
        }
      ]
    },
    {
      "cell_type": "code",
      "source": [
        "#Reduce "
      ],
      "metadata": {
        "id": "pSmL5YWK3_bZ"
      },
      "execution_count": null,
      "outputs": []
    },
    {
      "cell_type": "code",
      "source": [
        "from functools import reduce\n",
        "\n",
        "#this line brings reduce function into the current code"
      ],
      "metadata": {
        "id": "A5IqevHs4Q2N"
      },
      "execution_count": null,
      "outputs": []
    },
    {
      "cell_type": "code",
      "source": [
        "a = [1,2,3,4,5]"
      ],
      "metadata": {
        "id": "ZzfmzYVp5rhw"
      },
      "execution_count": null,
      "outputs": []
    },
    {
      "cell_type": "code",
      "source": [
        "result = reduce(lambda x,y: x+y, a)\n",
        "result"
      ],
      "metadata": {
        "colab": {
          "base_uri": "https://localhost:8080/"
        },
        "id": "qNkLxXxG5ufU",
        "outputId": "1681c25d-cf86-478f-bbf2-beb499d9ee33"
      },
      "execution_count": null,
      "outputs": [
        {
          "output_type": "execute_result",
          "data": {
            "text/plain": [
              "15"
            ]
          },
          "metadata": {},
          "execution_count": 60
        }
      ]
    },
    {
      "cell_type": "code",
      "source": [
        "result = reduce(lambda x,y: x+y, a,100)\n",
        "result"
      ],
      "metadata": {
        "colab": {
          "base_uri": "https://localhost:8080/"
        },
        "id": "5MdD8g-u54QB",
        "outputId": "76300107-8a74-4b6b-dc34-112c6dd9b629"
      },
      "execution_count": null,
      "outputs": [
        {
          "output_type": "execute_result",
          "data": {
            "text/plain": [
              "115"
            ]
          },
          "metadata": {},
          "execution_count": 61
        }
      ]
    },
    {
      "cell_type": "code",
      "source": [
        "help(reduce)"
      ],
      "metadata": {
        "colab": {
          "base_uri": "https://localhost:8080/"
        },
        "id": "90VuVrW36aUD",
        "outputId": "91ab5c36-55db-4873-9f40-b917fe041b69"
      },
      "execution_count": null,
      "outputs": [
        {
          "output_type": "stream",
          "name": "stdout",
          "text": [
            "Help on built-in function reduce in module _functools:\n",
            "\n",
            "reduce(...)\n",
            "    reduce(function, sequence[, initial]) -> value\n",
            "    \n",
            "    Apply a function of two arguments cumulatively to the items of a sequence,\n",
            "    from left to right, so as to reduce the sequence to a single value.\n",
            "    For example, reduce(lambda x, y: x+y, [1, 2, 3, 4, 5]) calculates\n",
            "    ((((1+2)+3)+4)+5).  If initial is present, it is placed before the items\n",
            "    of the sequence in the calculation, and serves as a default when the\n",
            "    sequence is empty.\n",
            "\n"
          ]
        }
      ]
    },
    {
      "cell_type": "code",
      "source": [
        "result = reduce(lambda x,y: x*y, a)\n",
        "result"
      ],
      "metadata": {
        "colab": {
          "base_uri": "https://localhost:8080/"
        },
        "id": "kKm-vKhA6dNj",
        "outputId": "60a7ed23-592c-4233-c04c-fd0875cb05aa"
      },
      "execution_count": null,
      "outputs": [
        {
          "output_type": "execute_result",
          "data": {
            "text/plain": [
              "120"
            ]
          },
          "metadata": {},
          "execution_count": 64
        }
      ]
    },
    {
      "cell_type": "code",
      "source": [
        "#use reduce to find the max element in a list\n",
        "\n",
        "a = [5,3,7,2,9,1]\n",
        "# op: 9"
      ],
      "metadata": {
        "id": "fKupYM896sEz"
      },
      "execution_count": null,
      "outputs": []
    },
    {
      "cell_type": "code",
      "source": [
        "max_element = reduce(lambda x, y: x if x > y else y, a)\n",
        "max_element\n",
        "\n",
        "#by default- initial - first element of the list/iterable"
      ],
      "metadata": {
        "colab": {
          "base_uri": "https://localhost:8080/"
        },
        "id": "qfPGNI6Y7DHb",
        "outputId": "6175ddce-9f60-4a53-b96c-4ce8b4e02350"
      },
      "execution_count": null,
      "outputs": [
        {
          "output_type": "execute_result",
          "data": {
            "text/plain": [
              "9"
            ]
          },
          "metadata": {},
          "execution_count": 66
        }
      ]
    },
    {
      "cell_type": "code",
      "source": [
        "#Args and Kwargs"
      ],
      "metadata": {
        "id": "wRr829fA7eHx"
      },
      "execution_count": null,
      "outputs": []
    },
    {
      "cell_type": "code",
      "source": [
        "'''\n",
        "Task: create a function that sums the input\n",
        "\n",
        "ideally:\n",
        "a good sum function\n",
        "- should take atleast 2 arguments\n",
        "- should take a infinite/any number number of arguments\n",
        "'''"
      ],
      "metadata": {
        "id": "RBg3z6Bh8t8X"
      },
      "execution_count": null,
      "outputs": []
    },
    {
      "cell_type": "code",
      "source": [
        "def sum_numbers(x,y):\n",
        "  return x+y"
      ],
      "metadata": {
        "id": "rqs_dI_68hlI"
      },
      "execution_count": null,
      "outputs": []
    },
    {
      "cell_type": "code",
      "source": [
        "res = sum_numbers(2,5)\n",
        "res"
      ],
      "metadata": {
        "colab": {
          "base_uri": "https://localhost:8080/"
        },
        "id": "Xtz8gjU69Et0",
        "outputId": "50733e67-a8de-4955-c7f3-2cfae7d46517"
      },
      "execution_count": null,
      "outputs": [
        {
          "output_type": "execute_result",
          "data": {
            "text/plain": [
              "7"
            ]
          },
          "metadata": {},
          "execution_count": 70
        }
      ]
    },
    {
      "cell_type": "code",
      "source": [
        "res2 = sum_numbers(2,5,6,7,8,9,10)\n",
        "res2"
      ],
      "metadata": {
        "colab": {
          "base_uri": "https://localhost:8080/",
          "height": 187
        },
        "id": "aewSfaDx9GmK",
        "outputId": "92425b6c-50b7-4660-85f9-509ff9fe0390"
      },
      "execution_count": null,
      "outputs": [
        {
          "output_type": "error",
          "ename": "TypeError",
          "evalue": "ignored",
          "traceback": [
            "\u001b[0;31m---------------------------------------------------------------------------\u001b[0m",
            "\u001b[0;31mTypeError\u001b[0m                                 Traceback (most recent call last)",
            "\u001b[0;32m<ipython-input-71-a73625752160>\u001b[0m in \u001b[0;36m<module>\u001b[0;34m\u001b[0m\n\u001b[0;32m----> 1\u001b[0;31m \u001b[0mres2\u001b[0m \u001b[0;34m=\u001b[0m \u001b[0msum_numbers\u001b[0m\u001b[0;34m(\u001b[0m\u001b[0;36m2\u001b[0m\u001b[0;34m,\u001b[0m\u001b[0;36m5\u001b[0m\u001b[0;34m,\u001b[0m\u001b[0;36m6\u001b[0m\u001b[0;34m,\u001b[0m\u001b[0;36m7\u001b[0m\u001b[0;34m,\u001b[0m\u001b[0;36m8\u001b[0m\u001b[0;34m,\u001b[0m\u001b[0;36m9\u001b[0m\u001b[0;34m,\u001b[0m\u001b[0;36m10\u001b[0m\u001b[0;34m)\u001b[0m\u001b[0;34m\u001b[0m\u001b[0;34m\u001b[0m\u001b[0m\n\u001b[0m\u001b[1;32m      2\u001b[0m \u001b[0mres2\u001b[0m\u001b[0;34m\u001b[0m\u001b[0;34m\u001b[0m\u001b[0m\n",
            "\u001b[0;31mTypeError\u001b[0m: sum_numbers() takes 2 positional arguments but 7 were given"
          ]
        }
      ]
    },
    {
      "cell_type": "code",
      "source": [
        "def sum_numbers2(x,y, *args):\n",
        "  print(x,y,args)"
      ],
      "metadata": {
        "id": "hHlY_iXV9YwG"
      },
      "execution_count": null,
      "outputs": []
    },
    {
      "cell_type": "code",
      "source": [
        "res2 = sum_numbers2(2,5)\n",
        "# res2"
      ],
      "metadata": {
        "colab": {
          "base_uri": "https://localhost:8080/"
        },
        "id": "yvWiVRSx9oOO",
        "outputId": "a3b3c05b-2bc8-4568-8bd2-659c4b63ddf2"
      },
      "execution_count": null,
      "outputs": [
        {
          "output_type": "stream",
          "name": "stdout",
          "text": [
            "2 5 ()\n"
          ]
        }
      ]
    },
    {
      "cell_type": "code",
      "source": [
        "res2 = sum_numbers2(2,5,6)\n",
        "# res2"
      ],
      "metadata": {
        "colab": {
          "base_uri": "https://localhost:8080/"
        },
        "id": "a2Qaw3vx9zkx",
        "outputId": "9e9a3533-2899-4580-8852-b4c1a31f015e"
      },
      "execution_count": null,
      "outputs": [
        {
          "output_type": "stream",
          "name": "stdout",
          "text": [
            "2 5 (6,)\n"
          ]
        }
      ]
    },
    {
      "cell_type": "code",
      "source": [
        "res2 = sum_numbers2(2,5,6,7,8,9)\n",
        "# res2"
      ],
      "metadata": {
        "colab": {
          "base_uri": "https://localhost:8080/"
        },
        "id": "nSg1RwP1989k",
        "outputId": "fc03d927-9e81-4a65-b2e7-46383cf6e931"
      },
      "execution_count": null,
      "outputs": [
        {
          "output_type": "stream",
          "name": "stdout",
          "text": [
            "2 5 (6, 7, 8, 9)\n"
          ]
        }
      ]
    },
    {
      "cell_type": "code",
      "source": [
        "bool(())"
      ],
      "metadata": {
        "colab": {
          "base_uri": "https://localhost:8080/"
        },
        "id": "z2s5yYpM-Zdr",
        "outputId": "f106a385-4438-4764-879c-fc35949d2365"
      },
      "execution_count": null,
      "outputs": [
        {
          "output_type": "execute_result",
          "data": {
            "text/plain": [
              "False"
            ]
          },
          "metadata": {},
          "execution_count": 79
        }
      ]
    },
    {
      "cell_type": "code",
      "source": [
        "def sum_numbers2(x,y, *args):\n",
        "\n",
        "  result = x+y\n",
        "  if args:\n",
        "    result += sum(args)\n",
        "\n",
        "  return result"
      ],
      "metadata": {
        "id": "uQx58XZj-GXI"
      },
      "execution_count": null,
      "outputs": []
    },
    {
      "cell_type": "code",
      "source": [
        "res2 = sum_numbers2(2,5)\n",
        "res2"
      ],
      "metadata": {
        "colab": {
          "base_uri": "https://localhost:8080/"
        },
        "id": "p_yvK8Or-f5a",
        "outputId": "51fb2f45-26d0-4bab-f8cd-b29e2a70eb78"
      },
      "execution_count": null,
      "outputs": [
        {
          "output_type": "execute_result",
          "data": {
            "text/plain": [
              "7"
            ]
          },
          "metadata": {},
          "execution_count": 81
        }
      ]
    },
    {
      "cell_type": "code",
      "source": [
        "res2 = sum_numbers2(2,5,1)\n",
        "res2"
      ],
      "metadata": {
        "colab": {
          "base_uri": "https://localhost:8080/"
        },
        "id": "kAZ9k-s2-jCM",
        "outputId": "66060bbe-1a44-4ce0-c85e-70c3d933e517"
      },
      "execution_count": null,
      "outputs": [
        {
          "output_type": "execute_result",
          "data": {
            "text/plain": [
              "8"
            ]
          },
          "metadata": {},
          "execution_count": 82
        }
      ]
    },
    {
      "cell_type": "code",
      "source": [
        "def sum_numbers2(x,y, *aj):\n",
        "\n",
        "  result = x+y\n",
        "  if aj:\n",
        "    result += sum(aj)\n",
        "\n",
        "  return result"
      ],
      "metadata": {
        "id": "vA2kpOh--lD2"
      },
      "execution_count": null,
      "outputs": []
    },
    {
      "cell_type": "code",
      "source": [
        "res2 = sum_numbers2(2,5,1)\n",
        "res2"
      ],
      "metadata": {
        "colab": {
          "base_uri": "https://localhost:8080/"
        },
        "id": "pfz6xiQ2-_o_",
        "outputId": "6451eb77-94a9-4e1c-89ae-212e2f2c9c77"
      },
      "execution_count": null,
      "outputs": [
        {
          "output_type": "execute_result",
          "data": {
            "text/plain": [
              "8"
            ]
          },
          "metadata": {},
          "execution_count": 86
        }
      ]
    },
    {
      "cell_type": "code",
      "source": [
        "#kwargs"
      ],
      "metadata": {
        "id": "USozfNNm_ApY"
      },
      "execution_count": null,
      "outputs": []
    },
    {
      "cell_type": "code",
      "source": [
        "def create_profile(name, state, city):\n",
        "  Person = {\n",
        "      \"name\" : name,\n",
        "      \"state\" : state,\n",
        "      \"city\" : city\n",
        "  }\n",
        "\n",
        "  return Person"
      ],
      "metadata": {
        "id": "o3XLj52J_T_T"
      },
      "execution_count": null,
      "outputs": []
    },
    {
      "cell_type": "code",
      "source": [
        "p1 = create_profile(name = \"Abdullah\", state = \"Tamilnadu\", city = \"Coimbatore\")\n",
        "p1"
      ],
      "metadata": {
        "colab": {
          "base_uri": "https://localhost:8080/"
        },
        "id": "GjRnenLy_mp4",
        "outputId": "82d50e0a-77b6-4fce-bf21-21f9f1f0a8fa"
      },
      "execution_count": null,
      "outputs": [
        {
          "output_type": "execute_result",
          "data": {
            "text/plain": [
              "{'name': 'Abdullah', 'state': 'Tamilnadu', 'city': 'Coimbatore'}"
            ]
          },
          "metadata": {},
          "execution_count": 89
        }
      ]
    },
    {
      "cell_type": "code",
      "source": [
        "p2 = create_profile(name = \"Sumit\", state = \"Chhattisgarh\", city = \"Bilaspur\")\n",
        "p2"
      ],
      "metadata": {
        "colab": {
          "base_uri": "https://localhost:8080/"
        },
        "id": "qoJPsaQ5_9Of",
        "outputId": "85b4333f-5ed3-4155-d1f4-4b7ececd9103"
      },
      "execution_count": null,
      "outputs": [
        {
          "output_type": "execute_result",
          "data": {
            "text/plain": [
              "{'name': 'Sumit', 'state': 'Chhattisgarh', 'city': 'Bilaspur'}"
            ]
          },
          "metadata": {},
          "execution_count": 90
        }
      ]
    },
    {
      "cell_type": "code",
      "source": [
        "def create_profile(name, state, city, **kwargs):\n",
        "  # Person = {\n",
        "  #     \"name\" : name,\n",
        "  #     \"state\" : state,\n",
        "  #     \"city\" : city\n",
        "  # }\n",
        "\n",
        "  # if kwargs:\n",
        "  #   Person.update(kwargs)\n",
        "\n",
        "  print(type(kwargs))\n",
        "\n",
        "  # return Person"
      ],
      "metadata": {
        "id": "31__vyVCAH6U"
      },
      "execution_count": null,
      "outputs": []
    },
    {
      "cell_type": "code",
      "source": [
        "p2 = create_profile(name = \"Sumit\", state = \"Chhattisgarh\", city = \"Bilaspur\", color=\"LightBlue\", hobby =\"sleeping\")\n",
        "# p2"
      ],
      "metadata": {
        "colab": {
          "base_uri": "https://localhost:8080/"
        },
        "id": "rp6GNIlyAi6G",
        "outputId": "9eaee8e6-178f-4b10-c01f-e2545eff5847"
      },
      "execution_count": null,
      "outputs": [
        {
          "output_type": "stream",
          "name": "stdout",
          "text": [
            "<class 'dict'>\n"
          ]
        }
      ]
    },
    {
      "cell_type": "code",
      "source": [
        "def create_profile(name, state, city, **kwargs):\n",
        "  Person = {\n",
        "      \"name\" : name,\n",
        "      \"state\" : state,\n",
        "      \"city\" : city\n",
        "  }\n",
        "\n",
        "  if kwargs:\n",
        "    Person.update(kwargs)\n",
        "\n",
        "  # print(type(kwargs))\n",
        "\n",
        "  return Person"
      ],
      "metadata": {
        "id": "IV7hQrcWAqiV"
      },
      "execution_count": null,
      "outputs": []
    },
    {
      "cell_type": "code",
      "source": [
        "p2 = create_profile(name = \"Sumit\", state = \"Chhattisgarh\", city = \"Bilaspur\", color=\"LightBlue\", hobby =\"sleeping\")\n",
        "p2"
      ],
      "metadata": {
        "colab": {
          "base_uri": "https://localhost:8080/"
        },
        "id": "RjY_GUr_Bbsi",
        "outputId": "e7e6b7d0-81fe-4df8-dae1-255c7ac56942"
      },
      "execution_count": null,
      "outputs": [
        {
          "output_type": "execute_result",
          "data": {
            "text/plain": [
              "{'name': 'Sumit',\n",
              " 'state': 'Chhattisgarh',\n",
              " 'city': 'Bilaspur',\n",
              " 'color': 'LightBlue',\n",
              " 'hobby': 'sleeping'}"
            ]
          },
          "metadata": {},
          "execution_count": 103
        }
      ]
    },
    {
      "cell_type": "code",
      "source": [
        "#Quiz\n",
        "\n",
        "def random(x, *args, **kwargs):\n",
        "  print(x)\n",
        "  print(args)\n",
        "  print(kwargs)\n"
      ],
      "metadata": {
        "id": "0yGZ6rC9Bj_T"
      },
      "execution_count": null,
      "outputs": []
    },
    {
      "cell_type": "code",
      "source": [
        "random(1,2,4,5,6, m=1, n=2, z=3)"
      ],
      "metadata": {
        "colab": {
          "base_uri": "https://localhost:8080/"
        },
        "id": "qWKxMo9pB9Qc",
        "outputId": "af134e68-f766-42b2-e18b-089597563512"
      },
      "execution_count": null,
      "outputs": [
        {
          "output_type": "stream",
          "name": "stdout",
          "text": [
            "1\n",
            "(2, 4, 5, 6)\n",
            "{'m': 1, 'n': 2, 'z': 3}\n"
          ]
        }
      ]
    },
    {
      "cell_type": "code",
      "source": [
        "random(1,2,4,5,6, m=1, 7, n=2, z=3)"
      ],
      "metadata": {
        "colab": {
          "base_uri": "https://localhost:8080/",
          "height": 134
        },
        "id": "pE95ggPVCs1s",
        "outputId": "aefe6e6e-af6e-496a-8ba9-0d06fbcd4d45"
      },
      "execution_count": null,
      "outputs": [
        {
          "output_type": "error",
          "ename": "SyntaxError",
          "evalue": "ignored",
          "traceback": [
            "\u001b[0;36m  File \u001b[0;32m\"<ipython-input-106-92887ced69a2>\"\u001b[0;36m, line \u001b[0;32m1\u001b[0m\n\u001b[0;31m    random(1,2,4,5,6, m=1, 7, n=2, z=3)\u001b[0m\n\u001b[0m                           ^\u001b[0m\n\u001b[0;31mSyntaxError\u001b[0m\u001b[0;31m:\u001b[0m positional argument follows keyword argument\n"
          ]
        }
      ]
    },
    {
      "cell_type": "code",
      "source": [
        "# order of passing argumnets: \n",
        "\n",
        "# psitional --> *args --> keyworded --> **kwargs"
      ],
      "metadata": {
        "id": "hBMZHlekCUZU"
      },
      "execution_count": null,
      "outputs": []
    },
    {
      "cell_type": "code",
      "source": [
        "#Quiz2\n",
        "\n",
        "def random(x, *args, **kwargs):\n",
        "  print(x)\n",
        "  print(args)\n",
        "  print(kwargs)\n"
      ],
      "metadata": {
        "id": "g-WlOXpFC45o"
      },
      "execution_count": null,
      "outputs": []
    },
    {
      "cell_type": "code",
      "source": [
        "random(2,z=1)"
      ],
      "metadata": {
        "colab": {
          "base_uri": "https://localhost:8080/"
        },
        "id": "dTK1CAGTCyaL",
        "outputId": "328699cd-4194-4afd-b700-240810f87601"
      },
      "execution_count": null,
      "outputs": [
        {
          "output_type": "stream",
          "name": "stdout",
          "text": [
            "2\n",
            "()\n",
            "{'z': 1}\n"
          ]
        }
      ]
    },
    {
      "cell_type": "code",
      "source": [
        "# aditya\n",
        "# jain\n",
        "# yo\n",
        "# everyone"
      ],
      "metadata": {
        "id": "KwCG4344C9RQ"
      },
      "execution_count": null,
      "outputs": []
    },
    {
      "cell_type": "code",
      "source": [
        "#doubts"
      ],
      "metadata": {
        "id": "-YYWCED2GEjn"
      },
      "execution_count": null,
      "outputs": []
    },
    {
      "cell_type": "code",
      "source": [
        "a = [1,5,2]\n",
        "max_element = reduce(lambda x, y: max(x,y), a)\n",
        "max_element\n",
        "\n",
        "#by default- initial - first element of the list/iterable"
      ],
      "metadata": {
        "colab": {
          "base_uri": "https://localhost:8080/"
        },
        "id": "Ev0UVzumGFI9",
        "outputId": "1ca52397-c92e-402a-9b2a-f06961829fda"
      },
      "execution_count": null,
      "outputs": [
        {
          "output_type": "execute_result",
          "data": {
            "text/plain": [
              "5"
            ]
          },
          "metadata": {},
          "execution_count": 110
        }
      ]
    },
    {
      "cell_type": "code",
      "source": [],
      "metadata": {
        "id": "lFUhHkM2GLFI"
      },
      "execution_count": null,
      "outputs": []
    }
  ]
}