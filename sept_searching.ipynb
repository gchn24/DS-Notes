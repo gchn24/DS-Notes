{
  "nbformat": 4,
  "nbformat_minor": 0,
  "metadata": {
    "colab": {
      "provenance": [],
      "include_colab_link": true
    },
    "kernelspec": {
      "name": "python3",
      "display_name": "Python 3"
    },
    "language_info": {
      "name": "python"
    }
  },
  "cells": [
    {
      "cell_type": "markdown",
      "metadata": {
        "id": "view-in-github",
        "colab_type": "text"
      },
      "source": [
        "<a href=\"https://colab.research.google.com/github/gchn24/DS-Notes/blob/main/sept_searching.ipynb\" target=\"_parent\"><img src=\"https://colab.research.google.com/assets/colab-badge.svg\" alt=\"Open In Colab\"/></a>"
      ]
    },
    {
      "cell_type": "code",
      "execution_count": null,
      "metadata": {
        "colab": {
          "base_uri": "https://localhost:8080/"
        },
        "id": "e-XIQJnhB4CD",
        "outputId": "2913b747-2ea3-4e42-b3eb-029925c77849"
      },
      "outputs": [
        {
          "output_type": "stream",
          "name": "stdout",
          "text": [
            "Hows the josh?\n"
          ]
        }
      ],
      "source": [
        "\n",
        "print(\"Hows the josh?\")"
      ]
    },
    {
      "cell_type": "code",
      "source": [
        "#packing\n",
        "tup1 = 1,2,3\n",
        "\n",
        "print(tup1)"
      ],
      "metadata": {
        "colab": {
          "base_uri": "https://localhost:8080/"
        },
        "id": "3NMPef4jCKN4",
        "outputId": "750e5317-0d3c-45b0-b33d-d5185826c5e8"
      },
      "execution_count": null,
      "outputs": [
        {
          "output_type": "stream",
          "name": "stdout",
          "text": [
            "(1, 2, 3)\n"
          ]
        }
      ]
    },
    {
      "cell_type": "code",
      "source": [
        "a,b = 1,2,3"
      ],
      "metadata": {
        "colab": {
          "base_uri": "https://localhost:8080/",
          "height": 166
        },
        "id": "I-NKO1_SCS1r",
        "outputId": "033f1bc0-d586-4aa5-d5d3-f862b657508f"
      },
      "execution_count": null,
      "outputs": [
        {
          "output_type": "error",
          "ename": "ValueError",
          "evalue": "ignored",
          "traceback": [
            "\u001b[0;31m---------------------------------------------------------------------------\u001b[0m",
            "\u001b[0;31mValueError\u001b[0m                                Traceback (most recent call last)",
            "\u001b[0;32m<ipython-input-3-402193b14bdc>\u001b[0m in \u001b[0;36m<module>\u001b[0;34m\u001b[0m\n\u001b[0;32m----> 1\u001b[0;31m \u001b[0ma\u001b[0m\u001b[0;34m,\u001b[0m\u001b[0mb\u001b[0m \u001b[0;34m=\u001b[0m \u001b[0;36m1\u001b[0m\u001b[0;34m,\u001b[0m\u001b[0;36m2\u001b[0m\u001b[0;34m,\u001b[0m\u001b[0;36m3\u001b[0m\u001b[0;34m\u001b[0m\u001b[0;34m\u001b[0m\u001b[0m\n\u001b[0m",
            "\u001b[0;31mValueError\u001b[0m: too many values to unpack (expected 2)"
          ]
        }
      ]
    },
    {
      "cell_type": "code",
      "source": [
        "a,b,c = 1,2,3"
      ],
      "metadata": {
        "id": "8082GZWmCYeO"
      },
      "execution_count": null,
      "outputs": []
    },
    {
      "cell_type": "code",
      "source": [
        "print(a,b,c)"
      ],
      "metadata": {
        "colab": {
          "base_uri": "https://localhost:8080/"
        },
        "id": "8OqIsl-pCcau",
        "outputId": "89940b88-b903-4922-f824-c9531958b6f1"
      },
      "execution_count": null,
      "outputs": [
        {
          "output_type": "stream",
          "name": "stdout",
          "text": [
            "1 2 3\n"
          ]
        }
      ]
    },
    {
      "cell_type": "code",
      "source": [
        "avengers = [\n",
        "    'bruce',\n",
        "    {\n",
        "        'foo': 1,\n",
        "        'bar':\n",
        "        {\n",
        "            'z' : 30\n",
        "        },\n",
        "        'baz': 3\n",
        "    }\n",
        "]"
      ],
      "metadata": {
        "id": "uqgH7_PHCdhQ"
      },
      "execution_count": null,
      "outputs": []
    },
    {
      "cell_type": "code",
      "source": [
        "A. avengers[1][\"bar\"][\"z\"]\n",
        "B. avengers[1].get(\"bar\").get(\"z\")\n",
        "C. avengers.pop(1)[\"bar\"].get(\"z\")\n",
        "D. All of the above ✅\n",
        "E. Only A and B"
      ],
      "metadata": {
        "id": "tKIenC4_C7Jg"
      },
      "execution_count": null,
      "outputs": []
    },
    {
      "cell_type": "code",
      "source": [
        "avengers[1][\"bar\"][\"z\"]"
      ],
      "metadata": {
        "colab": {
          "base_uri": "https://localhost:8080/"
        },
        "id": "3uSftul1DDVp",
        "outputId": "6419abb8-c1af-4193-9c32-e0944dd6c1b0"
      },
      "execution_count": null,
      "outputs": [
        {
          "output_type": "execute_result",
          "data": {
            "text/plain": [
              "30"
            ]
          },
          "metadata": {},
          "execution_count": 7
        }
      ]
    },
    {
      "cell_type": "code",
      "source": [
        "avengers[1].get(\"bar\").get(\"z\")"
      ],
      "metadata": {
        "colab": {
          "base_uri": "https://localhost:8080/"
        },
        "id": "59_rh9qwDe9C",
        "outputId": "869992ac-51c9-4ce8-d87b-2ace52a1e67f"
      },
      "execution_count": null,
      "outputs": [
        {
          "output_type": "execute_result",
          "data": {
            "text/plain": [
              "30"
            ]
          },
          "metadata": {},
          "execution_count": 8
        }
      ]
    },
    {
      "cell_type": "code",
      "source": [
        "a = avengers.pop(1)[\"bar\"].get(\"z\")"
      ],
      "metadata": {
        "id": "pAKuE8rgDgfq"
      },
      "execution_count": null,
      "outputs": []
    },
    {
      "cell_type": "code",
      "source": [
        "print(a)"
      ],
      "metadata": {
        "colab": {
          "base_uri": "https://localhost:8080/"
        },
        "id": "SQV2o_dEDqUm",
        "outputId": "ecbbbafa-1468-404e-ac2d-b2be95cdd201"
      },
      "execution_count": null,
      "outputs": [
        {
          "output_type": "stream",
          "name": "stdout",
          "text": [
            "30\n"
          ]
        }
      ]
    },
    {
      "cell_type": "code",
      "source": [
        "print(avengers)"
      ],
      "metadata": {
        "colab": {
          "base_uri": "https://localhost:8080/"
        },
        "id": "brOHYx8nDrac",
        "outputId": "266f685c-d223-4c18-9c5c-109075372689"
      },
      "execution_count": null,
      "outputs": [
        {
          "output_type": "stream",
          "name": "stdout",
          "text": [
            "['bruce']\n"
          ]
        }
      ]
    },
    {
      "cell_type": "code",
      "source": [
        "a = set(range(10))\n",
        "b = set(range(0, 10, 2))\n",
        "print(a.intersection(b))\n",
        "print(a.union(b) == a)"
      ],
      "metadata": {
        "id": "BoUMYByID1-B"
      },
      "execution_count": null,
      "outputs": []
    },
    {
      "cell_type": "code",
      "source": [
        "a = set(range(10))"
      ],
      "metadata": {
        "id": "qnEGXk-LEfIU"
      },
      "execution_count": null,
      "outputs": []
    },
    {
      "cell_type": "code",
      "source": [
        "print(a)"
      ],
      "metadata": {
        "colab": {
          "base_uri": "https://localhost:8080/"
        },
        "id": "-OrgRdW2Ekua",
        "outputId": "1526463a-34ed-4300-d228-84f42dead878"
      },
      "execution_count": null,
      "outputs": [
        {
          "output_type": "stream",
          "name": "stdout",
          "text": [
            "{0, 1, 2, 3, 4, 5, 6, 7, 8, 9}\n"
          ]
        }
      ]
    },
    {
      "cell_type": "code",
      "source": [
        "b = set(range(0, 10, 2))"
      ],
      "metadata": {
        "id": "ziw8e8_-EldK"
      },
      "execution_count": null,
      "outputs": []
    },
    {
      "cell_type": "code",
      "source": [
        "print(b)"
      ],
      "metadata": {
        "colab": {
          "base_uri": "https://localhost:8080/"
        },
        "id": "YUVe5bgjEnp_",
        "outputId": "2236c88c-3784-4232-b7cf-9812fd57f2e8"
      },
      "execution_count": null,
      "outputs": [
        {
          "output_type": "stream",
          "name": "stdout",
          "text": [
            "{0, 2, 4, 6, 8}\n"
          ]
        }
      ]
    },
    {
      "cell_type": "code",
      "source": [
        "print(a.intersection(b))"
      ],
      "metadata": {
        "colab": {
          "base_uri": "https://localhost:8080/"
        },
        "id": "GpDpd6YNEqKs",
        "outputId": "711cb7d1-995b-46c9-9565-eaedb6e4bf2c"
      },
      "execution_count": null,
      "outputs": [
        {
          "output_type": "stream",
          "name": "stdout",
          "text": [
            "{0, 2, 4, 6, 8}\n"
          ]
        }
      ]
    },
    {
      "cell_type": "code",
      "source": [
        "print(a.union(b))"
      ],
      "metadata": {
        "colab": {
          "base_uri": "https://localhost:8080/"
        },
        "id": "ki7JvdQ9EwLC",
        "outputId": "2671234c-1f0f-4e0a-e01b-a1dfa4042ffd"
      },
      "execution_count": null,
      "outputs": [
        {
          "output_type": "stream",
          "name": "stdout",
          "text": [
            "{0, 1, 2, 3, 4, 5, 6, 7, 8, 9}\n"
          ]
        }
      ]
    },
    {
      "cell_type": "code",
      "source": [
        "print(a.union(b) == a)"
      ],
      "metadata": {
        "colab": {
          "base_uri": "https://localhost:8080/"
        },
        "id": "9pEB1z8DEzA1",
        "outputId": "afaecd97-1f18-47cd-9fd9-a1d09b15a863"
      },
      "execution_count": null,
      "outputs": [
        {
          "output_type": "stream",
          "name": "stdout",
          "text": [
            "True\n"
          ]
        }
      ]
    },
    {
      "cell_type": "code",
      "source": [
        "#searching: given a list of int, check if the given element is present or not. If it is present, return the index of where it is present\n",
        "# else return -1\n"
      ],
      "metadata": {
        "id": "lpThnBrTFQnJ"
      },
      "execution_count": null,
      "outputs": []
    },
    {
      "cell_type": "code",
      "source": [
        "a = [5,3,4,1,2,8]\n",
        "target = 2\n",
        "# ans = 4\n",
        "#dont use any predefined methods to find the index"
      ],
      "metadata": {
        "id": "Nv3Xzh4NGvIu"
      },
      "execution_count": null,
      "outputs": []
    },
    {
      "cell_type": "code",
      "source": [
        "for elem in a:\n",
        "  if elem == target:\n",
        "    return i"
      ],
      "metadata": {
        "id": "X2mcjld9G08u"
      },
      "execution_count": null,
      "outputs": []
    },
    {
      "cell_type": "code",
      "source": [
        "\n",
        "\n"
      ],
      "metadata": {
        "id": "bXV0eWxlHfmz"
      },
      "execution_count": null,
      "outputs": []
    },
    {
      "cell_type": "code",
      "source": [
        "def linear_search(a, target):\n",
        "  n = len(a)\n",
        "\n",
        "  for i in range(n):\n",
        "    if a[i] == target:\n",
        "      return i\n",
        "\n",
        "  return -1"
      ],
      "metadata": {
        "id": "HCc0C-6UHsTY"
      },
      "execution_count": null,
      "outputs": []
    },
    {
      "cell_type": "code",
      "source": [
        "linear_search(a,target)"
      ],
      "metadata": {
        "colab": {
          "base_uri": "https://localhost:8080/"
        },
        "id": "8iXRc6rnIDMH",
        "outputId": "08e19ba9-14e5-413e-e99f-72ee00e430b6"
      },
      "execution_count": null,
      "outputs": [
        {
          "output_type": "execute_result",
          "data": {
            "text/plain": [
              "4"
            ]
          },
          "metadata": {},
          "execution_count": 22
        }
      ]
    },
    {
      "cell_type": "code",
      "source": [
        "#enumeration\n",
        "\n",
        "#creates a list of tuples of the form (a,b): a--> index and b--> element"
      ],
      "metadata": {
        "id": "Q8IOn6szIGAG"
      },
      "execution_count": null,
      "outputs": []
    },
    {
      "cell_type": "code",
      "source": [
        "a = [5,3,4,1,2,8]\n",
        "\n",
        "enumerated_a = list(enumerate(a))\n",
        "\n",
        "print(enumerated_a)\n"
      ],
      "metadata": {
        "colab": {
          "base_uri": "https://localhost:8080/"
        },
        "id": "Qx6K5dcsImPX",
        "outputId": "e8baa469-9f76-4161-bf6d-23fc13079142"
      },
      "execution_count": null,
      "outputs": [
        {
          "output_type": "stream",
          "name": "stdout",
          "text": [
            "[(0, 5), (1, 3), (2, 4), (3, 1), (4, 2), (5, 8)]\n"
          ]
        }
      ]
    },
    {
      "cell_type": "code",
      "source": [
        "type(enumerated_a[0])"
      ],
      "metadata": {
        "colab": {
          "base_uri": "https://localhost:8080/"
        },
        "id": "FZAfyWn6IqVv",
        "outputId": "ea66f383-5ac6-49b3-a177-1f0855dd3edc"
      },
      "execution_count": null,
      "outputs": [
        {
          "output_type": "execute_result",
          "data": {
            "text/plain": [
              "tuple"
            ]
          },
          "metadata": {},
          "execution_count": 26
        }
      ]
    },
    {
      "cell_type": "code",
      "source": [
        "index, val = enumerated_a[0] #unpacking"
      ],
      "metadata": {
        "id": "kr29oWycJFqR"
      },
      "execution_count": null,
      "outputs": []
    },
    {
      "cell_type": "code",
      "source": [
        "print(index, val)"
      ],
      "metadata": {
        "colab": {
          "base_uri": "https://localhost:8080/"
        },
        "id": "NRXv0ErgJPx3",
        "outputId": "89ba457c-654a-4657-a792-68b1cbb93152"
      },
      "execution_count": null,
      "outputs": [
        {
          "output_type": "stream",
          "name": "stdout",
          "text": [
            "0 5\n"
          ]
        }
      ]
    },
    {
      "cell_type": "code",
      "source": [
        "print(a)"
      ],
      "metadata": {
        "colab": {
          "base_uri": "https://localhost:8080/"
        },
        "id": "s9DnK0JhJRRs",
        "outputId": "4ade7594-68c5-409f-c464-54aac89e690e"
      },
      "execution_count": null,
      "outputs": [
        {
          "output_type": "stream",
          "name": "stdout",
          "text": [
            "[5, 3, 4, 1, 2, 8]\n"
          ]
        }
      ]
    },
    {
      "cell_type": "code",
      "source": [
        "for ind, val in enumerated_a:\n",
        "\n",
        "  print(f\"element {val} is present at index {ind}\")"
      ],
      "metadata": {
        "colab": {
          "base_uri": "https://localhost:8080/"
        },
        "id": "5QQTsGQMJTqL",
        "outputId": "98724a8b-9a9b-4f7e-ff1f-59a0983958c5"
      },
      "execution_count": null,
      "outputs": [
        {
          "output_type": "stream",
          "name": "stdout",
          "text": [
            "element 5 is present at index 0\n",
            "element 3 is present at index 1\n",
            "element 4 is present at index 2\n",
            "element 1 is present at index 3\n",
            "element 2 is present at index 4\n",
            "element 8 is present at index 5\n"
          ]
        }
      ]
    },
    {
      "cell_type": "code",
      "source": [
        "def cute_linear_search(a, target):\n",
        "\n",
        "  for ind, val in enumerate(a):\n",
        "    if val == target:\n",
        "      return ind\n",
        "\n",
        "  return -1"
      ],
      "metadata": {
        "id": "WkNTZqoFJrlm"
      },
      "execution_count": null,
      "outputs": []
    },
    {
      "cell_type": "code",
      "source": [
        "a = [\"a\",\"b\",\"c\"]\n",
        "target = \"c\"\n",
        "cute_linear_search(a, target)"
      ],
      "metadata": {
        "colab": {
          "base_uri": "https://localhost:8080/"
        },
        "id": "z9VKqWxUKapa",
        "outputId": "17bd7b1b-f0e6-4d0b-bbe4-d0588b9dbcad"
      },
      "execution_count": null,
      "outputs": [
        {
          "output_type": "execute_result",
          "data": {
            "text/plain": [
              "2"
            ]
          },
          "metadata": {},
          "execution_count": 33
        }
      ]
    },
    {
      "cell_type": "code",
      "source": [
        "list(range(0,5))"
      ],
      "metadata": {
        "colab": {
          "base_uri": "https://localhost:8080/"
        },
        "id": "90x6Zrr7Kma8",
        "outputId": "9bd2a514-bd9c-40d9-f128-87954526c68f"
      },
      "execution_count": null,
      "outputs": [
        {
          "output_type": "execute_result",
          "data": {
            "text/plain": [
              "[0, 1, 2, 3, 4]"
            ]
          },
          "metadata": {},
          "execution_count": 34
        }
      ]
    },
    {
      "cell_type": "code",
      "source": [
        "print(enumerate(a))"
      ],
      "metadata": {
        "colab": {
          "base_uri": "https://localhost:8080/"
        },
        "id": "3c3RJFdQK73g",
        "outputId": "7f4d9351-e6f2-4009-ee34-327e9156c407"
      },
      "execution_count": null,
      "outputs": [
        {
          "output_type": "stream",
          "name": "stdout",
          "text": [
            "<enumerate object at 0x7f02f82f2320>\n"
          ]
        }
      ]
    },
    {
      "cell_type": "code",
      "source": [
        "#binary search:"
      ],
      "metadata": {
        "id": "lQpytNLwLAFu"
      },
      "execution_count": null,
      "outputs": []
    },
    {
      "cell_type": "code",
      "source": [
        "def binary_search(a, target):\n",
        "\n",
        "  start  = 0\n",
        "\n",
        "  end = len(a) - 1\n",
        "\n",
        "  #search space is within start and end\n",
        "  while start <= end:\n",
        "\n",
        "    #floored division to handle even count as well\n",
        "    mid = (start + end)//2\n",
        "\n",
        "    if a[mid] == target:\n",
        "      return mid\n",
        "    \n",
        "    elif a[mid] > target:\n",
        "      end = mid-1\n",
        "    \n",
        "    #a[mid] < target\n",
        "    else:\n",
        "      start = mid+1\n",
        "\n",
        "  return -1"
      ],
      "metadata": {
        "id": "AHBjMvEkTtxo"
      },
      "execution_count": null,
      "outputs": []
    },
    {
      "cell_type": "code",
      "source": [
        "a = [1,4,7,10,20,35]\n",
        "\n",
        "target = 20"
      ],
      "metadata": {
        "id": "zAZfOJQIUa0D"
      },
      "execution_count": null,
      "outputs": []
    },
    {
      "cell_type": "code",
      "source": [
        "binary_search(a,target)"
      ],
      "metadata": {
        "colab": {
          "base_uri": "https://localhost:8080/"
        },
        "id": "0Ixv09uGUmMx",
        "outputId": "418f5208-b0fd-4bb2-f9ff-1474eaaee4d5"
      },
      "execution_count": null,
      "outputs": [
        {
          "output_type": "execute_result",
          "data": {
            "text/plain": [
              "4"
            ]
          },
          "metadata": {},
          "execution_count": 39
        }
      ]
    },
    {
      "cell_type": "code",
      "source": [
        "a = [1,4,7,10,20,35]\n",
        "\n",
        "target = 40"
      ],
      "metadata": {
        "id": "7XJQkUZ_UoxY"
      },
      "execution_count": null,
      "outputs": []
    },
    {
      "cell_type": "code",
      "source": [
        "binary_search(a,target)"
      ],
      "metadata": {
        "colab": {
          "base_uri": "https://localhost:8080/"
        },
        "id": "Q5vIj1JOUxhc",
        "outputId": "30255f2a-1f5e-41fe-f570-ccad416b9d81"
      },
      "execution_count": null,
      "outputs": [
        {
          "output_type": "execute_result",
          "data": {
            "text/plain": [
              "-1"
            ]
          },
          "metadata": {},
          "execution_count": 41
        }
      ]
    },
    {
      "cell_type": "code",
      "source": [
        "binary_search(a,35)"
      ],
      "metadata": {
        "colab": {
          "base_uri": "https://localhost:8080/"
        },
        "id": "odrIquZqUyEt",
        "outputId": "d85c0b14-382b-4252-f6a8-4456c15dbc00"
      },
      "execution_count": null,
      "outputs": [
        {
          "output_type": "execute_result",
          "data": {
            "text/plain": [
              "5"
            ]
          },
          "metadata": {},
          "execution_count": 42
        }
      ]
    },
    {
      "cell_type": "code",
      "source": [
        "'''\n",
        "Given a sorted array with duplicates,\n",
        "HW: How to get the first occurance using BS\n",
        "How to get the last occureance using BS\n",
        "'''\n"
      ],
      "metadata": {
        "id": "KLzUceklU9n2"
      },
      "execution_count": null,
      "outputs": []
    },
    {
      "cell_type": "code",
      "source": [
        "# eg:\n",
        "\n",
        "a = [1,4,5,5,5,5,5,5,5,7,8,8,9]\n",
        "\n",
        "target = 5"
      ],
      "metadata": {
        "id": "VELSSQCsVREe"
      },
      "execution_count": null,
      "outputs": []
    },
    {
      "cell_type": "code",
      "source": [
        "binary_search(a,target)"
      ],
      "metadata": {
        "colab": {
          "base_uri": "https://localhost:8080/"
        },
        "id": "P6SqIY00VgsC",
        "outputId": "8751d120-dd22-41b3-e9bc-1e75e48d9840"
      },
      "execution_count": null,
      "outputs": [
        {
          "output_type": "execute_result",
          "data": {
            "text/plain": [
              "6"
            ]
          },
          "metadata": {},
          "execution_count": 44
        }
      ]
    },
    {
      "cell_type": "code",
      "source": [
        "'''\n",
        "Log\n",
        "'''"
      ],
      "metadata": {
        "id": "yYoG2aAsVi6H"
      },
      "execution_count": null,
      "outputs": []
    }
  ]
}