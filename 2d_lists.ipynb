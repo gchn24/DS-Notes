{
  "nbformat": 4,
  "nbformat_minor": 0,
  "metadata": {
    "colab": {
      "provenance": [],
      "include_colab_link": true
    },
    "kernelspec": {
      "name": "python3",
      "display_name": "Python 3"
    },
    "language_info": {
      "name": "python"
    }
  },
  "cells": [
    {
      "cell_type": "markdown",
      "metadata": {
        "id": "view-in-github",
        "colab_type": "text"
      },
      "source": [
        "<a href=\"https://colab.research.google.com/github/gchn24/DS-Notes/blob/main/2d_lists.ipynb\" target=\"_parent\"><img src=\"https://colab.research.google.com/assets/colab-badge.svg\" alt=\"Open In Colab\"/></a>"
      ]
    },
    {
      "cell_type": "code",
      "execution_count": null,
      "metadata": {
        "colab": {
          "base_uri": "https://localhost:8080/"
        },
        "id": "FZT24Sv1HN3L",
        "outputId": "3fd35e4d-c7d3-4975-c468-404562e9b11e"
      },
      "outputs": [
        {
          "output_type": "stream",
          "name": "stdout",
          "text": [
            "Welcome everyone!\n"
          ]
        }
      ],
      "source": [
        "print(\"Welcome everyone!\")"
      ]
    },
    {
      "cell_type": "code",
      "source": [
        "lst = [4,4.5,True,\"AJ\"]"
      ],
      "metadata": {
        "id": "AtFCW7C6HW__"
      },
      "execution_count": null,
      "outputs": []
    },
    {
      "cell_type": "code",
      "source": [
        "print(lst)"
      ],
      "metadata": {
        "colab": {
          "base_uri": "https://localhost:8080/"
        },
        "id": "8Me_XymiKjhb",
        "outputId": "f0216591-cf72-4f9f-be8a-1749d2cc5c51"
      },
      "execution_count": null,
      "outputs": [
        {
          "output_type": "stream",
          "name": "stdout",
          "text": [
            "[4, 4.5, True, 'AJ']\n"
          ]
        }
      ]
    },
    {
      "cell_type": "code",
      "source": [
        "a = [ [1,2,3], [4,5,6], [7,8,9] ]"
      ],
      "metadata": {
        "id": "2fSmFRlxKksV"
      },
      "execution_count": null,
      "outputs": []
    },
    {
      "cell_type": "code",
      "source": [
        "len(a)"
      ],
      "metadata": {
        "colab": {
          "base_uri": "https://localhost:8080/"
        },
        "id": "MYRxu3bFLZI5",
        "outputId": "f8cf26c3-817c-48f7-d427-9b94ba1c3ee7"
      },
      "execution_count": null,
      "outputs": [
        {
          "output_type": "execute_result",
          "data": {
            "text/plain": [
              "3"
            ]
          },
          "metadata": {},
          "execution_count": 5
        }
      ]
    },
    {
      "cell_type": "code",
      "source": [
        "a[0]"
      ],
      "metadata": {
        "colab": {
          "base_uri": "https://localhost:8080/"
        },
        "id": "srL3DAx_LbLa",
        "outputId": "29cc9274-5357-448c-b927-bd79836d56e0"
      },
      "execution_count": null,
      "outputs": [
        {
          "output_type": "execute_result",
          "data": {
            "text/plain": [
              "[1, 2, 3]"
            ]
          },
          "metadata": {},
          "execution_count": 6
        }
      ]
    },
    {
      "cell_type": "code",
      "source": [
        "a[1]"
      ],
      "metadata": {
        "colab": {
          "base_uri": "https://localhost:8080/"
        },
        "id": "o3jw393dLfmO",
        "outputId": "76ea126a-ebf6-41d0-d8ad-6a542e852aa8"
      },
      "execution_count": null,
      "outputs": [
        {
          "output_type": "execute_result",
          "data": {
            "text/plain": [
              "[4, 5, 6]"
            ]
          },
          "metadata": {},
          "execution_count": 7
        }
      ]
    },
    {
      "cell_type": "code",
      "source": [
        "a[2]"
      ],
      "metadata": {
        "colab": {
          "base_uri": "https://localhost:8080/"
        },
        "id": "-Nlc31LXLgbB",
        "outputId": "93f158bf-7e45-45fb-f1b4-f5b270c178db"
      },
      "execution_count": null,
      "outputs": [
        {
          "output_type": "execute_result",
          "data": {
            "text/plain": [
              "[7, 8, 9]"
            ]
          },
          "metadata": {},
          "execution_count": 8
        }
      ]
    },
    {
      "cell_type": "code",
      "source": [
        "a = [ [1,2,3], [4,5,6], [7,8,9] ]"
      ],
      "metadata": {
        "id": "gk70puEpLg5a"
      },
      "execution_count": null,
      "outputs": []
    },
    {
      "cell_type": "code",
      "source": [
        "for i in a:\n",
        "  print(i)"
      ],
      "metadata": {
        "colab": {
          "base_uri": "https://localhost:8080/"
        },
        "id": "aNjVN-i_PMNg",
        "outputId": "0680d15b-6955-43e4-8246-fd762770b265"
      },
      "execution_count": null,
      "outputs": [
        {
          "output_type": "stream",
          "name": "stdout",
          "text": [
            "[1, 2, 3]\n",
            "[4, 5, 6]\n",
            "[7, 8, 9]\n"
          ]
        }
      ]
    },
    {
      "cell_type": "code",
      "source": [
        "rows = len(a)"
      ],
      "metadata": {
        "id": "UhHg-H3SPWXq"
      },
      "execution_count": null,
      "outputs": []
    },
    {
      "cell_type": "code",
      "source": [
        "cols = len(a[0])"
      ],
      "metadata": {
        "id": "gSFuQKgvPeBV"
      },
      "execution_count": null,
      "outputs": []
    },
    {
      "cell_type": "code",
      "source": [
        "print(rows, cols)"
      ],
      "metadata": {
        "colab": {
          "base_uri": "https://localhost:8080/"
        },
        "id": "mwGqs0kiPfiv",
        "outputId": "c198f7f7-952b-47a7-e2ec-4b1928953174"
      },
      "execution_count": null,
      "outputs": [
        {
          "output_type": "stream",
          "name": "stdout",
          "text": [
            "3 3\n"
          ]
        }
      ]
    },
    {
      "cell_type": "code",
      "source": [
        "b = [[1,2,3,4],\n",
        "     [5,6,7,8]]"
      ],
      "metadata": {
        "id": "uHZzTab1PgwO"
      },
      "execution_count": null,
      "outputs": []
    },
    {
      "cell_type": "code",
      "source": [
        "rows = len(b)"
      ],
      "metadata": {
        "id": "LqRgkYvlPrr6"
      },
      "execution_count": null,
      "outputs": []
    },
    {
      "cell_type": "code",
      "source": [
        "cols = len(b[0])"
      ],
      "metadata": {
        "id": "woJqYov7Pwil"
      },
      "execution_count": null,
      "outputs": []
    },
    {
      "cell_type": "code",
      "source": [
        "print(rows, cols)"
      ],
      "metadata": {
        "colab": {
          "base_uri": "https://localhost:8080/"
        },
        "id": "VlkZDH1YPxoD",
        "outputId": "79de1002-8240-451f-ed78-3464904b93e5"
      },
      "execution_count": null,
      "outputs": [
        {
          "output_type": "stream",
          "name": "stdout",
          "text": [
            "2 4\n"
          ]
        }
      ]
    },
    {
      "cell_type": "code",
      "source": [
        "'''\n",
        "Q1 - \n",
        "Given a matrix, print each number within it separated by a space\n",
        "\n",
        "eg:\n",
        "a= [[1,2,3],[4,5,6]]\n",
        "op: 1 2 3 4 5 6\n",
        "'''\n",
        "a= [[1,2,3],[4,5,6]]\n",
        "a= [[1,2,3],[4,5,6],[7,8,9]]"
      ],
      "metadata": {
        "id": "r3AW08U_PyYZ"
      },
      "execution_count": null,
      "outputs": []
    },
    {
      "cell_type": "code",
      "source": [
        "#v1\n",
        "\n",
        "for i in range(2):\n",
        "  for j in range(3):\n",
        "    print(a[i][j], end = \" \")\n"
      ],
      "metadata": {
        "colab": {
          "base_uri": "https://localhost:8080/"
        },
        "id": "UB3Ff1dpRajl",
        "outputId": "d63d3468-2f55-4a27-f1dd-dcb3d24f1499"
      },
      "execution_count": null,
      "outputs": [
        {
          "output_type": "stream",
          "name": "stdout",
          "text": [
            "1 2 3 4 5 6 "
          ]
        }
      ]
    },
    {
      "cell_type": "code",
      "source": [
        "#v2\n",
        "\n",
        "a= [[1,2,3],[4,5,6],[7,8,9]]\n",
        "rows = len(a)\n",
        "cols = len(a[0])\n",
        "\n",
        "for i in range(rows):\n",
        "  for j in range(cols):\n",
        "    print(a[i][j], end = \" \")\n"
      ],
      "metadata": {
        "colab": {
          "base_uri": "https://localhost:8080/"
        },
        "id": "hiriAn8NRpG0",
        "outputId": "bd16da4e-b17e-433f-b3bd-a0f3b69fa15c"
      },
      "execution_count": null,
      "outputs": [
        {
          "output_type": "stream",
          "name": "stdout",
          "text": [
            "1 2 3 4 5 6 7 8 9 "
          ]
        }
      ]
    },
    {
      "cell_type": "code",
      "source": [
        "#v3\n",
        "\n",
        "a= [[1,2,3],[4,5,6],[7,8,9]]\n",
        "\n",
        "\n",
        "for i in a:\n",
        "  for j in i:\n",
        "    print(j, end=\" \")"
      ],
      "metadata": {
        "colab": {
          "base_uri": "https://localhost:8080/"
        },
        "id": "vIKwZqQpSGoa",
        "outputId": "4ebcab89-46aa-41cb-96b4-009768fc1a80"
      },
      "execution_count": null,
      "outputs": [
        {
          "output_type": "stream",
          "name": "stdout",
          "text": [
            "1 2 3 4 5 6 7 8 9 "
          ]
        }
      ]
    },
    {
      "cell_type": "code",
      "source": [
        "#v4\n",
        "\n",
        "a= [[1,2,3],[4,5,6],[7,8,9]]\n",
        "\n",
        "\n",
        "for rows in a:\n",
        "  for element in rows:\n",
        "    print(element, end=\" \")"
      ],
      "metadata": {
        "colab": {
          "base_uri": "https://localhost:8080/"
        },
        "id": "tbYrLbZfSY8R",
        "outputId": "070f7666-efeb-4445-8415-1f38a1e4b1b3"
      },
      "execution_count": null,
      "outputs": [
        {
          "output_type": "stream",
          "name": "stdout",
          "text": [
            "1 2 3 4 5 6 7 8 9 "
          ]
        }
      ]
    },
    {
      "cell_type": "code",
      "source": [
        "#v5 \n",
        "\n",
        "'''\n",
        "op:\n",
        "1 2 3\n",
        "4 5 6\n",
        "7 8 9\n",
        "'''\n",
        "\n",
        "a= [[1,2,3],[4,5,6],[7,8,9]]\n",
        "\n",
        "\n",
        "for rows in a:\n",
        "  for element in rows:\n",
        "    print(element, end=\" \")\n",
        "  print()"
      ],
      "metadata": {
        "colab": {
          "base_uri": "https://localhost:8080/"
        },
        "id": "AAQ-csQ-TLfv",
        "outputId": "a0127bfc-ec5c-44f5-ded6-a16803fb7794"
      },
      "execution_count": null,
      "outputs": [
        {
          "output_type": "stream",
          "name": "stdout",
          "text": [
            "1 2 3 \n",
            "4 5 6 \n",
            "7 8 9 \n"
          ]
        }
      ]
    },
    {
      "cell_type": "code",
      "source": [
        "'''\n",
        "\n",
        "Question 3 - \n",
        "Take a 3X3 matrix as an input from the user.\n",
        "'''"
      ],
      "metadata": {
        "colab": {
          "base_uri": "https://localhost:8080/",
          "height": 35
        },
        "id": "3MKPcB4rTtTq",
        "outputId": "cfc036f0-bad4-4c35-976b-41c11172eb9c"
      },
      "execution_count": null,
      "outputs": [
        {
          "output_type": "execute_result",
          "data": {
            "text/plain": [
              "'\\n\\nQuestion 3 - \\nTake a 3X3 matrix as an input from the user.\\n'"
            ],
            "application/vnd.google.colaboratory.intrinsic+json": {
              "type": "string"
            }
          },
          "metadata": {},
          "execution_count": 33
        }
      ]
    },
    {
      "cell_type": "code",
      "source": [
        "'''\n",
        "Q4:\n",
        "Given this matrix.\n",
        "1. Calculate the sum of all the elements in the matrix\n",
        "2. Calculate the sum of each row\n",
        "3. Calculate the sum of each column\n",
        "'''"
      ],
      "metadata": {
        "id": "2fCIPvHzT9UW"
      },
      "execution_count": null,
      "outputs": []
    },
    {
      "cell_type": "code",
      "source": [
        "#taking matrix as input - element at a time\n",
        "\n",
        "matrix = []\n",
        "\n",
        "for i in range(3):\n",
        "\n",
        "  row = []\n",
        "\n",
        "  for j in range(3):\n",
        "    elem = int(input())\n",
        "    row.append(elem)\n",
        "\n",
        "  matrix.append(row)"
      ],
      "metadata": {
        "colab": {
          "base_uri": "https://localhost:8080/"
        },
        "id": "fErDKXyYUG4P",
        "outputId": "4484b546-1bc1-454c-b9df-d1d634980c39"
      },
      "execution_count": null,
      "outputs": [
        {
          "name": "stdout",
          "output_type": "stream",
          "text": [
            "1\n",
            "2\n",
            "3\n",
            "4\n",
            "5\n",
            "6\n",
            "7\n",
            "8\n",
            "9\n"
          ]
        }
      ]
    },
    {
      "cell_type": "code",
      "source": [
        "'''\n",
        "Take a 4x5 matrix as input from user\n",
        "'''\n",
        "\n",
        "\n",
        "matrix = []\n",
        "\n",
        "for r in range(4):\n",
        "\n",
        "  row = []\n",
        "\n",
        "  for c in range(5):\n",
        "    elem = int(input())\n",
        "    row.append(elem)\n",
        "  \n",
        "  matrix.append(row)"
      ],
      "metadata": {
        "colab": {
          "base_uri": "https://localhost:8080/",
          "height": 492
        },
        "id": "tYjv27CmUTFe",
        "outputId": "32767765-10d5-4b46-b075-224d07fd6bef"
      },
      "execution_count": null,
      "outputs": [
        {
          "name": "stdout",
          "output_type": "stream",
          "text": [
            "1\n",
            "2\n",
            "3\n",
            "4\n",
            "5\n",
            "1\n",
            "2\n",
            "3\n",
            "4\n",
            "5\n",
            "1\n",
            "2\n",
            "3\n",
            "\n"
          ]
        },
        {
          "output_type": "error",
          "ename": "ValueError",
          "evalue": "ignored",
          "traceback": [
            "\u001b[0;31m---------------------------------------------------------------------------\u001b[0m",
            "\u001b[0;31mValueError\u001b[0m                                Traceback (most recent call last)",
            "\u001b[0;32m<ipython-input-36-49fea3066b7f>\u001b[0m in \u001b[0;36m<module>\u001b[0;34m\u001b[0m\n\u001b[1;32m     11\u001b[0m \u001b[0;34m\u001b[0m\u001b[0m\n\u001b[1;32m     12\u001b[0m   \u001b[0;32mfor\u001b[0m \u001b[0mc\u001b[0m \u001b[0;32min\u001b[0m \u001b[0mrange\u001b[0m\u001b[0;34m(\u001b[0m\u001b[0;36m5\u001b[0m\u001b[0;34m)\u001b[0m\u001b[0;34m:\u001b[0m\u001b[0;34m\u001b[0m\u001b[0;34m\u001b[0m\u001b[0m\n\u001b[0;32m---> 13\u001b[0;31m     \u001b[0melem\u001b[0m \u001b[0;34m=\u001b[0m \u001b[0mint\u001b[0m\u001b[0;34m(\u001b[0m\u001b[0minput\u001b[0m\u001b[0;34m(\u001b[0m\u001b[0;34m)\u001b[0m\u001b[0;34m)\u001b[0m\u001b[0;34m\u001b[0m\u001b[0;34m\u001b[0m\u001b[0m\n\u001b[0m\u001b[1;32m     14\u001b[0m     \u001b[0mrow\u001b[0m\u001b[0;34m.\u001b[0m\u001b[0mappend\u001b[0m\u001b[0;34m(\u001b[0m\u001b[0melem\u001b[0m\u001b[0;34m)\u001b[0m\u001b[0;34m\u001b[0m\u001b[0;34m\u001b[0m\u001b[0m\n\u001b[1;32m     15\u001b[0m \u001b[0;34m\u001b[0m\u001b[0m\n",
            "\u001b[0;31mValueError\u001b[0m: invalid literal for int() with base 10: ''"
          ]
        }
      ]
    },
    {
      "cell_type": "code",
      "source": [
        "'''\n",
        "Take a 2x3 matrix as input from user\n",
        "'''\n",
        "\n",
        "\n",
        "matrix = []\n",
        "\n",
        "for r in range(2):\n",
        "\n",
        "  row = []\n",
        "\n",
        "  for c in range(3):\n",
        "    elem = int(input())\n",
        "    row.append(elem)\n",
        "  \n",
        "  matrix.append(row)"
      ],
      "metadata": {
        "colab": {
          "base_uri": "https://localhost:8080/"
        },
        "id": "8eOUzi4TV-tz",
        "outputId": "a18aa1ff-25e2-4992-c50e-1e738e58af5c"
      },
      "execution_count": null,
      "outputs": [
        {
          "name": "stdout",
          "output_type": "stream",
          "text": [
            "1\n",
            "2\n",
            "3\n",
            "4\n",
            "5\n",
            "6\n"
          ]
        }
      ]
    },
    {
      "cell_type": "code",
      "source": [
        "print(matrix)"
      ],
      "metadata": {
        "colab": {
          "base_uri": "https://localhost:8080/"
        },
        "id": "YrJ4pPUMWN15",
        "outputId": "9db4e5f8-dd59-44fa-b78e-8bbe2af08bf7"
      },
      "execution_count": null,
      "outputs": [
        {
          "output_type": "stream",
          "name": "stdout",
          "text": [
            "[[1, 2, 3], [4, 5, 6]]\n"
          ]
        }
      ]
    },
    {
      "cell_type": "code",
      "source": [
        "dir(list)"
      ],
      "metadata": {
        "colab": {
          "base_uri": "https://localhost:8080/"
        },
        "id": "Wd9h4c1CWQsk",
        "outputId": "288379cc-38a7-46d2-a23c-ca97d1fa6c47"
      },
      "execution_count": null,
      "outputs": [
        {
          "output_type": "execute_result",
          "data": {
            "text/plain": [
              "['__add__',\n",
              " '__class__',\n",
              " '__contains__',\n",
              " '__delattr__',\n",
              " '__delitem__',\n",
              " '__dir__',\n",
              " '__doc__',\n",
              " '__eq__',\n",
              " '__format__',\n",
              " '__ge__',\n",
              " '__getattribute__',\n",
              " '__getitem__',\n",
              " '__gt__',\n",
              " '__hash__',\n",
              " '__iadd__',\n",
              " '__imul__',\n",
              " '__init__',\n",
              " '__init_subclass__',\n",
              " '__iter__',\n",
              " '__le__',\n",
              " '__len__',\n",
              " '__lt__',\n",
              " '__mul__',\n",
              " '__ne__',\n",
              " '__new__',\n",
              " '__reduce__',\n",
              " '__reduce_ex__',\n",
              " '__repr__',\n",
              " '__reversed__',\n",
              " '__rmul__',\n",
              " '__setattr__',\n",
              " '__setitem__',\n",
              " '__sizeof__',\n",
              " '__str__',\n",
              " '__subclasshook__',\n",
              " 'append',\n",
              " 'clear',\n",
              " 'copy',\n",
              " 'count',\n",
              " 'extend',\n",
              " 'index',\n",
              " 'insert',\n",
              " 'pop',\n",
              " 'remove',\n",
              " 'reverse',\n",
              " 'sort']"
            ]
          },
          "metadata": {},
          "execution_count": 39
        }
      ]
    },
    {
      "cell_type": "code",
      "source": [
        "'''\n",
        "Q5:\n",
        "Given a 3x3 matrix, find the sum of each row in it.\n",
        "\n",
        "a= [[1,2,3],[4,5,6],[7,8,9]]\n",
        "\n",
        "op: [6, 15, 24]\n",
        "'''"
      ],
      "metadata": {
        "id": "-w5jddAbZJQE"
      },
      "execution_count": null,
      "outputs": []
    },
    {
      "cell_type": "code",
      "source": [
        "a= [[1,2,3],\n",
        "    [4,5,6],\n",
        "    [7,8,9]]\n",
        "\n",
        "\n",
        "row_sum = []\n",
        "\n",
        "for row in a:\n",
        "  sum = 0\n",
        "  for elem in row:\n",
        "    sum = sum + elem\n",
        "\n",
        "  row_sum.append(sum)"
      ],
      "metadata": {
        "id": "tP0nBmnxaIAp"
      },
      "execution_count": null,
      "outputs": []
    },
    {
      "cell_type": "code",
      "source": [
        "print(row_sum)"
      ],
      "metadata": {
        "colab": {
          "base_uri": "https://localhost:8080/"
        },
        "id": "KNriA8TDaLsu",
        "outputId": "3417ca4e-9dec-4153-cbae-004aaa825aa0"
      },
      "execution_count": null,
      "outputs": [
        {
          "output_type": "stream",
          "name": "stdout",
          "text": [
            "[6, 15, 24]\n"
          ]
        }
      ]
    },
    {
      "cell_type": "code",
      "source": [
        "'''\n",
        "Q5: Homework:\n",
        "Given a 3x3 matrix, find the sum of each column in it.\n",
        "\n",
        "a= \n",
        "[[1,2,3],\n",
        "[4,5,6],\n",
        "[7,8,9]]\n",
        "\n",
        "op: [12, 15, 18]\n",
        "'''"
      ],
      "metadata": {
        "id": "NWWnH5f5aaem"
      },
      "execution_count": null,
      "outputs": []
    },
    {
      "cell_type": "code",
      "source": [
        "'''\n",
        "Q6:\n",
        "Rotate a list by 1 element\n",
        "\n",
        "input: [1,2,3,4,5] --> last element is revmoed and addded to the start\n",
        "output: [5,1,2,3,4]\n",
        "\n",
        "'''"
      ],
      "metadata": {
        "id": "XplcCH6xar_m"
      },
      "execution_count": null,
      "outputs": []
    },
    {
      "cell_type": "code",
      "source": [
        "#v1:\n",
        "a = [1,2,3,4,5]\n",
        "last_element = a[-1]\n",
        "\n",
        "n = len(a)\n",
        "\n",
        "initial_elements = a[:n-1] #list slicing\n",
        "\n",
        "new_list = [last_element] + initial_elements\n"
      ],
      "metadata": {
        "id": "9xVJ2V18cCp1"
      },
      "execution_count": null,
      "outputs": []
    },
    {
      "cell_type": "code",
      "source": [
        "print(new_list)"
      ],
      "metadata": {
        "colab": {
          "base_uri": "https://localhost:8080/"
        },
        "id": "6mEhbFTmcmH7",
        "outputId": "3d9bf97c-f7e9-4469-f968-d1843e43a7f5"
      },
      "execution_count": null,
      "outputs": [
        {
          "output_type": "stream",
          "name": "stdout",
          "text": [
            "[5, 1, 2, 3, 4]\n"
          ]
        }
      ]
    },
    {
      "cell_type": "code",
      "source": [
        "#v2:\n",
        "a = [1,2,3,4,5]\n",
        "\n",
        "# last_element = a[-1]\n",
        "\n",
        "# n = len(a)\n",
        "\n",
        "# initial_elements = a[:n-1] #list slicing\n",
        "\n",
        "# new_list = [last_element] + initial_elements\n",
        "\n",
        "\n",
        "result = [a[-1]] + a[:len(a)-1]\n",
        "print(result)\n"
      ],
      "metadata": {
        "colab": {
          "base_uri": "https://localhost:8080/"
        },
        "id": "jTX9vBbecui5",
        "outputId": "8656bc29-517d-44ef-b5b9-c1222d26f9f7"
      },
      "execution_count": null,
      "outputs": [
        {
          "output_type": "stream",
          "name": "stdout",
          "text": [
            "[5, 1, 2, 3, 4]\n"
          ]
        }
      ]
    },
    {
      "cell_type": "code",
      "source": [
        "#v3 - using pop()\n",
        "\n",
        "a= [1,2,3,4,5]\n",
        "\n",
        "last_elem = a.pop()\n",
        "\n",
        "a.insert(0, last_elem)\n",
        "print(a)"
      ],
      "metadata": {
        "colab": {
          "base_uri": "https://localhost:8080/"
        },
        "id": "m51vE4hNdPqV",
        "outputId": "7eb75588-1b7a-49ff-b8b5-ea9e61e04dd8"
      },
      "execution_count": null,
      "outputs": [
        {
          "output_type": "stream",
          "name": "stdout",
          "text": [
            "[5, 1, 2, 3, 4]\n"
          ]
        }
      ]
    },
    {
      "cell_type": "code",
      "source": [
        "#v4: extra\n",
        "a= [1,2,3,4,5]\n",
        "a.insert(0,  a.pop())\n",
        "print(a)"
      ],
      "metadata": {
        "colab": {
          "base_uri": "https://localhost:8080/"
        },
        "id": "uCyKQOxmdfyR",
        "outputId": "7aca0f46-53f6-4a14-a905-96d38942aa87"
      },
      "execution_count": null,
      "outputs": [
        {
          "output_type": "stream",
          "name": "stdout",
          "text": [
            "[5, 1, 2, 3, 4]\n"
          ]
        }
      ]
    },
    {
      "cell_type": "code",
      "source": [
        "#list methods:\n",
        "1- count(element) --> frequency/count of element present in the list\n",
        "2- index() "
      ],
      "metadata": {
        "id": "iLsf1X7od0Zz"
      },
      "execution_count": null,
      "outputs": []
    },
    {
      "cell_type": "code",
      "source": [
        "a = [1,2,3,4,5,2,3,1,2,5,2]"
      ],
      "metadata": {
        "id": "EJNWESX-eidq"
      },
      "execution_count": null,
      "outputs": []
    },
    {
      "cell_type": "code",
      "source": [
        "print(a.count(1))"
      ],
      "metadata": {
        "colab": {
          "base_uri": "https://localhost:8080/"
        },
        "id": "aDFn1wE6eowQ",
        "outputId": "1b21ff84-ee92-424a-f628-b6cb881e61de"
      },
      "execution_count": null,
      "outputs": [
        {
          "output_type": "stream",
          "name": "stdout",
          "text": [
            "2\n"
          ]
        }
      ]
    },
    {
      "cell_type": "code",
      "source": [
        "print(a.count(2))"
      ],
      "metadata": {
        "colab": {
          "base_uri": "https://localhost:8080/"
        },
        "id": "DC9HkNZYeqw2",
        "outputId": "ea0d9e08-a8ee-4c81-b3e5-6d79587070f2"
      },
      "execution_count": null,
      "outputs": [
        {
          "output_type": "stream",
          "name": "stdout",
          "text": [
            "4\n"
          ]
        }
      ]
    },
    {
      "cell_type": "code",
      "source": [
        "#index(i) --> returns the index of the first occurance of the element i\n",
        "\n",
        "a = [1,2,3,4,5]\n",
        "print(a.index(2))"
      ],
      "metadata": {
        "colab": {
          "base_uri": "https://localhost:8080/"
        },
        "id": "F1UhrmqSe0VV",
        "outputId": "1d197837-5818-4b6d-e18e-2c56ceb46981"
      },
      "execution_count": null,
      "outputs": [
        {
          "output_type": "stream",
          "name": "stdout",
          "text": [
            "1\n"
          ]
        }
      ]
    },
    {
      "cell_type": "code",
      "source": [
        "a = [1,2,3,2,4,4,5]\n",
        "print(a.index(2))"
      ],
      "metadata": {
        "colab": {
          "base_uri": "https://localhost:8080/"
        },
        "id": "b8F04ENPfU5n",
        "outputId": "8cf2ec94-14be-4967-80c3-56cfed131052"
      },
      "execution_count": null,
      "outputs": [
        {
          "output_type": "stream",
          "name": "stdout",
          "text": [
            "1\n"
          ]
        }
      ]
    },
    {
      "cell_type": "code",
      "source": [
        "a = [1,2,3,2,4,4,5]\n",
        "print(a.index(4))"
      ],
      "metadata": {
        "colab": {
          "base_uri": "https://localhost:8080/"
        },
        "id": "mc_OYoVWfdiy",
        "outputId": "7924f839-af56-4ad8-bfec-30877000a6fd"
      },
      "execution_count": null,
      "outputs": [
        {
          "output_type": "stream",
          "name": "stdout",
          "text": [
            "4\n"
          ]
        }
      ]
    },
    {
      "cell_type": "code",
      "source": [
        "'''\n",
        "Q6 - Given a list and an element x, find the index of 2nd occurance of element x\n",
        "\n",
        "eg: a = [1,4,3,2,5,4,7], x = 4\n",
        "op: 5\n",
        "\n",
        "'''"
      ],
      "metadata": {
        "id": "2BgqpSeQfjBQ"
      },
      "execution_count": null,
      "outputs": []
    },
    {
      "cell_type": "code",
      "source": [
        "a = [1,4,3,2,5,4,7]\n",
        "x = 4\n",
        "\n",
        "first_index = a.index(x)"
      ],
      "metadata": {
        "id": "lqBCAHjUgsUT"
      },
      "execution_count": null,
      "outputs": []
    },
    {
      "cell_type": "code",
      "source": [
        "print(first_index)"
      ],
      "metadata": {
        "colab": {
          "base_uri": "https://localhost:8080/"
        },
        "id": "zdcIU8fIg83l",
        "outputId": "acce7778-f703-4d32-dc0c-c6b104fd2964"
      },
      "execution_count": null,
      "outputs": [
        {
          "output_type": "stream",
          "name": "stdout",
          "text": [
            "1\n"
          ]
        }
      ]
    },
    {
      "cell_type": "code",
      "source": [
        "rem_list = a[first_index+1:]"
      ],
      "metadata": {
        "id": "UZnwAB9-hDsO"
      },
      "execution_count": null,
      "outputs": []
    },
    {
      "cell_type": "code",
      "source": [
        "print(rem_list)"
      ],
      "metadata": {
        "colab": {
          "base_uri": "https://localhost:8080/"
        },
        "id": "TQS43UE6hTUV",
        "outputId": "1168a39d-c940-4f61-def9-57238018f5b0"
      },
      "execution_count": null,
      "outputs": [
        {
          "output_type": "stream",
          "name": "stdout",
          "text": [
            "[3, 2, 5, 4, 7]\n"
          ]
        }
      ]
    },
    {
      "cell_type": "code",
      "source": [
        "second_index = rem_list.index(x)"
      ],
      "metadata": {
        "id": "BZAoxvyUhUzy"
      },
      "execution_count": null,
      "outputs": []
    },
    {
      "cell_type": "code",
      "source": [
        "print(second_index)"
      ],
      "metadata": {
        "colab": {
          "base_uri": "https://localhost:8080/"
        },
        "id": "1xU6ivLHhjGh",
        "outputId": "a566bfb5-4a37-45d8-dd9f-8de15529ad3e"
      },
      "execution_count": null,
      "outputs": [
        {
          "output_type": "stream",
          "name": "stdout",
          "text": [
            "3\n"
          ]
        }
      ]
    },
    {
      "cell_type": "code",
      "source": [
        "print(first_index+1+second_index)"
      ],
      "metadata": {
        "colab": {
          "base_uri": "https://localhost:8080/"
        },
        "id": "Ehf37ufwhmJX",
        "outputId": "30dcd0f4-68c7-4075-e848-866f65bb8ade"
      },
      "execution_count": null,
      "outputs": [
        {
          "output_type": "stream",
          "name": "stdout",
          "text": [
            "5\n"
          ]
        }
      ]
    },
    {
      "cell_type": "code",
      "source": [
        "print(first_index)\n",
        "print(second_index)"
      ],
      "metadata": {
        "colab": {
          "base_uri": "https://localhost:8080/"
        },
        "id": "rX0CaYsihs6p",
        "outputId": "5f5b7f66-f34b-4c11-b9c1-6684ffffaa5d"
      },
      "execution_count": null,
      "outputs": [
        {
          "output_type": "stream",
          "name": "stdout",
          "text": [
            "1\n",
            "3\n"
          ]
        }
      ]
    },
    {
      "cell_type": "code",
      "source": [
        "'''\n",
        "Linear search:\n",
        "Given a list of integers, print the index of the first occurance of an element x\n",
        "#will discuss at begining of thu class - till then everyone - just attempt it\n",
        "#will cover another extension of this in next class- print every index of occurance of that element x\n",
        "'''"
      ],
      "metadata": {
        "id": "_cv33D8BihGG"
      },
      "execution_count": null,
      "outputs": []
    },
    {
      "cell_type": "code",
      "source": [],
      "metadata": {
        "id": "i92G3bUIi8i9"
      },
      "execution_count": null,
      "outputs": []
    },
    {
      "cell_type": "code",
      "source": [
        "a = [1,4,3,2,5,4,7]\n",
        "x = 4\n",
        "\n",
        "for i in range(len(a)):\n",
        "  if a[i] == x:\n",
        "    print(i)\n",
        "    break"
      ],
      "metadata": {
        "colab": {
          "base_uri": "https://localhost:8080/"
        },
        "id": "8HBgJXMMjNDz",
        "outputId": "cab171e8-c270-4870-cb63-2a3116859d9d"
      },
      "execution_count": null,
      "outputs": [
        {
          "output_type": "stream",
          "name": "stdout",
          "text": [
            "1\n"
          ]
        }
      ]
    },
    {
      "cell_type": "code",
      "source": [
        "#all the index of occurance\n",
        "a = [1,4,3,2,5,4,7]\n",
        "x = 4\n",
        "\n",
        "for i in range(len(a)):\n",
        "  if a[i] == x:\n",
        "    print(i)\n",
        "    "
      ],
      "metadata": {
        "colab": {
          "base_uri": "https://localhost:8080/"
        },
        "id": "z5E3aAt5jT6j",
        "outputId": "31a6f554-a51d-4b82-ef68-1baf25f84997"
      },
      "execution_count": null,
      "outputs": [
        {
          "output_type": "stream",
          "name": "stdout",
          "text": [
            "1\n",
            "5\n"
          ]
        }
      ]
    },
    {
      "cell_type": "code",
      "source": [
        "#find 2nd index of occurance using this code\n",
        "a = [1,4,3,2,5,4,7]\n",
        "x = 4\n",
        "\n",
        "for i in range(len(a)):\n",
        "  if a[i] == x:\n",
        "    print(i)\n",
        "    "
      ],
      "metadata": {
        "id": "MSLS7QtHjolX"
      },
      "execution_count": null,
      "outputs": []
    }
  ]
}