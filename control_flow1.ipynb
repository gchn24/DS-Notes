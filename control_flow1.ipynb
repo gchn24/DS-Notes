{
  "nbformat": 4,
  "nbformat_minor": 0,
  "metadata": {
    "colab": {
      "provenance": [],
      "include_colab_link": true
    },
    "kernelspec": {
      "name": "python3",
      "display_name": "Python 3"
    },
    "language_info": {
      "name": "python"
    }
  },
  "cells": [
    {
      "cell_type": "markdown",
      "metadata": {
        "id": "view-in-github",
        "colab_type": "text"
      },
      "source": [
        "<a href=\"https://colab.research.google.com/github/gchn24/Scaler/blob/main/control_flow1.ipynb\" target=\"_parent\"><img src=\"https://colab.research.google.com/assets/colab-badge.svg\" alt=\"Open In Colab\"/></a>"
      ]
    },
    {
      "cell_type": "code",
      "execution_count": null,
      "metadata": {
        "colab": {
          "base_uri": "https://localhost:8080/"
        },
        "id": "3aAa2ImtjdEv",
        "outputId": "7c4108a4-dec8-4657-80b8-bb078163492c"
      },
      "outputs": [
        {
          "output_type": "execute_result",
          "data": {
            "text/plain": [
              "True"
            ]
          },
          "metadata": {},
          "execution_count": 1
        }
      ],
      "source": [
        "54 <= 67"
      ]
    },
    {
      "cell_type": "code",
      "source": [
        "a = 10"
      ],
      "metadata": {
        "id": "OEJby7jJq9uV"
      },
      "execution_count": null,
      "outputs": []
    },
    {
      "cell_type": "code",
      "source": [
        "a > 5 or a==20 or a<2"
      ],
      "metadata": {
        "colab": {
          "base_uri": "https://localhost:8080/"
        },
        "id": "AppbFrLurCTf",
        "outputId": "b0465b01-e2e1-411e-a569-ed337c28de43"
      },
      "execution_count": null,
      "outputs": [
        {
          "output_type": "execute_result",
          "data": {
            "text/plain": [
              "True"
            ]
          },
          "metadata": {},
          "execution_count": 3
        }
      ]
    },
    {
      "cell_type": "code",
      "source": [
        "a > 5 and a==20 and a<2"
      ],
      "metadata": {
        "colab": {
          "base_uri": "https://localhost:8080/"
        },
        "id": "cOOEmYfPrK0K",
        "outputId": "5e5e3f83-a86a-4f61-b098-33a10cd66597"
      },
      "execution_count": null,
      "outputs": [
        {
          "output_type": "execute_result",
          "data": {
            "text/plain": [
              "False"
            ]
          },
          "metadata": {},
          "execution_count": 4
        }
      ]
    },
    {
      "cell_type": "code",
      "source": [
        "not True"
      ],
      "metadata": {
        "colab": {
          "base_uri": "https://localhost:8080/"
        },
        "id": "uATQwzl3rRV7",
        "outputId": "edcdf0ea-8659-4207-e250-5c83dff69f7f"
      },
      "execution_count": null,
      "outputs": [
        {
          "output_type": "execute_result",
          "data": {
            "text/plain": [
              "False"
            ]
          },
          "metadata": {},
          "execution_count": 5
        }
      ]
    },
    {
      "cell_type": "code",
      "source": [
        "not False"
      ],
      "metadata": {
        "colab": {
          "base_uri": "https://localhost:8080/"
        },
        "id": "Hv2pj44UrZYk",
        "outputId": "b8e5d4b3-af06-4cc0-a66c-e1674ed21234"
      },
      "execution_count": null,
      "outputs": [
        {
          "output_type": "execute_result",
          "data": {
            "text/plain": [
              "True"
            ]
          },
          "metadata": {},
          "execution_count": 6
        }
      ]
    },
    {
      "cell_type": "code",
      "source": [
        "not 4<5"
      ],
      "metadata": {
        "colab": {
          "base_uri": "https://localhost:8080/"
        },
        "id": "iFWFHS_0rajS",
        "outputId": "45456ea1-2ccf-4c7b-d16c-41016e02532a"
      },
      "execution_count": null,
      "outputs": [
        {
          "output_type": "execute_result",
          "data": {
            "text/plain": [
              "False"
            ]
          },
          "metadata": {},
          "execution_count": 7
        }
      ]
    },
    {
      "cell_type": "code",
      "source": [
        "not 5<=5"
      ],
      "metadata": {
        "colab": {
          "base_uri": "https://localhost:8080/"
        },
        "id": "JRfQhaVurfm7",
        "outputId": "09cd7044-5a9f-449c-c72d-866a3a823b98"
      },
      "execution_count": null,
      "outputs": [
        {
          "output_type": "execute_result",
          "data": {
            "text/plain": [
              "False"
            ]
          },
          "metadata": {},
          "execution_count": 10
        }
      ]
    },
    {
      "cell_type": "code",
      "source": [
        "5<=5"
      ],
      "metadata": {
        "colab": {
          "base_uri": "https://localhost:8080/"
        },
        "id": "QFKdruGXrlX2",
        "outputId": "e77af4e7-8b4b-4bf2-adf9-2853d4c15497"
      },
      "execution_count": null,
      "outputs": [
        {
          "output_type": "execute_result",
          "data": {
            "text/plain": [
              "True"
            ]
          },
          "metadata": {},
          "execution_count": 9
        }
      ]
    },
    {
      "cell_type": "code",
      "source": [
        "n = 4"
      ],
      "metadata": {
        "id": "AErmXygGr8c2"
      },
      "execution_count": null,
      "outputs": []
    },
    {
      "cell_type": "code",
      "source": [
        "if n%2 == 0:\n",
        "  print(\"Even\")\n",
        "else:\n",
        "  print(\"Odd\")"
      ],
      "metadata": {
        "colab": {
          "base_uri": "https://localhost:8080/"
        },
        "id": "TJaUJhlJu3xl",
        "outputId": "7cad67b8-62ce-4180-d0d4-d832f07cb020"
      },
      "execution_count": null,
      "outputs": [
        {
          "output_type": "stream",
          "name": "stdout",
          "text": [
            "Even\n"
          ]
        }
      ]
    },
    {
      "cell_type": "code",
      "source": [
        "print(\"0\")\n",
        "\n",
        "if 56 < 60:\n",
        "  print(\"1\")\n",
        "  print(\"2\")\n",
        "  print(\"3\")\n",
        "else:\n",
        "  print(\"4\")\n",
        "\n",
        "print(\"5\")"
      ],
      "metadata": {
        "colab": {
          "base_uri": "https://localhost:8080/",
          "height": 131
        },
        "id": "__v0LOm6vByi",
        "outputId": "43ce0363-6793-4a62-cc16-73ca55dea09e"
      },
      "execution_count": null,
      "outputs": [
        {
          "output_type": "error",
          "ename": "SyntaxError",
          "evalue": "ignored",
          "traceback": [
            "\u001b[0;36m  File \u001b[0;32m\"<ipython-input-23-4d45ad341cdf>\"\u001b[0;36m, line \u001b[0;32m4\u001b[0m\n\u001b[0;31m    else:\u001b[0m\n\u001b[0m       ^\u001b[0m\n\u001b[0;31mSyntaxError\u001b[0m\u001b[0;31m:\u001b[0m invalid syntax\n"
          ]
        }
      ]
    },
    {
      "cell_type": "code",
      "source": [
        "#else is dependent on if -\n",
        "# if IF condition is true - else gets skipped"
      ],
      "metadata": {
        "id": "22nEATUgv_fn"
      },
      "execution_count": null,
      "outputs": []
    },
    {
      "cell_type": "code",
      "source": [
        "print(\"0\")\n",
        "\n",
        "if 56 < 60:\n",
        "  print(\"inside if\")\n",
        "print(\"1\")\n",
        "print(\"2\")\n",
        "print(\"3\")\n",
        "print(\"5\")"
      ],
      "metadata": {
        "colab": {
          "base_uri": "https://localhost:8080/"
        },
        "id": "wIZV1Znwx1V2",
        "outputId": "615d0707-4472-4750-8d45-4034c3aa5a90"
      },
      "execution_count": null,
      "outputs": [
        {
          "output_type": "stream",
          "name": "stdout",
          "text": [
            "0\n",
            "inside if\n",
            "1\n",
            "2\n",
            "3\n",
            "5\n"
          ]
        }
      ]
    },
    {
      "cell_type": "code",
      "source": [
        "print(\"0\")\n",
        "\n",
        "if 56 > 60:\n",
        "  print(\"1\")\n",
        "  print(\"2\")\n",
        "  print(\"3\")\n",
        "else:\n",
        "  print(\"4\")\n",
        "\n",
        "print(\"5\")"
      ],
      "metadata": {
        "colab": {
          "base_uri": "https://localhost:8080/"
        },
        "id": "4-obRoCGx7uK",
        "outputId": "573661cd-df3f-4760-9901-e60527cbad57"
      },
      "execution_count": null,
      "outputs": [
        {
          "output_type": "stream",
          "name": "stdout",
          "text": [
            "0\n",
            "4\n",
            "5\n"
          ]
        }
      ]
    },
    {
      "cell_type": "markdown",
      "source": [],
      "metadata": {
        "id": "PWKSld2X2ikW"
      }
    },
    {
      "cell_type": "code",
      "source": [
        "#Run these always\n",
        "\n",
        "if condition:\n",
        "  # Run these only when condition is True\n",
        "else:\n",
        "  # Run these only when condition is False\n",
        "\n",
        "#Run these always"
      ],
      "metadata": {
        "id": "RogyijHs2iJn"
      },
      "execution_count": null,
      "outputs": []
    },
    {
      "cell_type": "code",
      "source": [
        "#password checker\n",
        "\n",
        "#print \"Password incorrect\" if incorrect\n",
        "#print \"Password validated\" if correcct"
      ],
      "metadata": {
        "id": "F9SroaPCyM-j"
      },
      "execution_count": null,
      "outputs": []
    },
    {
      "cell_type": "code",
      "source": [
        "original_password = \"password\"\n",
        "password = input()\n",
        "\n",
        "if password == original_password:\n",
        "  print(\"Password validated\")\n",
        "\n",
        "print(\"Password incorrect\")"
      ],
      "metadata": {
        "colab": {
          "base_uri": "https://localhost:8080/"
        },
        "id": "_Rnt3URWynHm",
        "outputId": "b4a5fea4-73d9-4e14-8ae6-f8b6e96f957e"
      },
      "execution_count": null,
      "outputs": [
        {
          "output_type": "stream",
          "name": "stdout",
          "text": [
            "password\n",
            "Password validated\n"
          ]
        }
      ]
    },
    {
      "cell_type": "code",
      "source": [
        "original_password = \"password\"\n",
        "password = input()\n",
        "\n",
        "if password == original_password:\n",
        "  print(\"Password validated\")\n",
        "else:\n",
        "  print(\"Password incorrect\")"
      ],
      "metadata": {
        "colab": {
          "base_uri": "https://localhost:8080/"
        },
        "id": "DoGr7zxbzSyZ",
        "outputId": "5565e663-1d3a-4bbd-ea50-5ba38072dcf5"
      },
      "execution_count": null,
      "outputs": [
        {
          "output_type": "stream",
          "name": "stdout",
          "text": [
            "12345\n",
            "Password incorrect\n"
          ]
        }
      ]
    },
    {
      "cell_type": "code",
      "source": [
        "a = int(input())\n",
        "\n",
        "result = a**2 #take square of a\n",
        "\n",
        "if result > 25:\n",
        "  print(\"It's inside IF block\")\n",
        "else:\n",
        "  print(\"It's inside ELSE block\")\n",
        "\n",
        "print(\"Outside code\")"
      ],
      "metadata": {
        "colab": {
          "base_uri": "https://localhost:8080/"
        },
        "id": "7_NOo_n5z0cj",
        "outputId": "20a8ca8a-ccf0-4451-afc9-1eb02022df3c"
      },
      "execution_count": null,
      "outputs": [
        {
          "output_type": "stream",
          "name": "stdout",
          "text": [
            "7\n",
            "It's inside IF block\n",
            "Outside code\n"
          ]
        }
      ]
    },
    {
      "cell_type": "code",
      "source": [
        "#concept of blocks\n",
        "\n",
        "marks = int(input())\n",
        "\n",
        "if marks > 95:\n",
        "  print(\"A\")\n",
        "else:\n",
        "  if marks >= 86 and marks <= 95:\n",
        "    print(\"B\")\n",
        "  else:\n",
        "    if marks >= 70 and marks <=85:\n",
        "      print(\"C\")\n",
        "    else:\n",
        "      if marks >= 55 and marks <= 69:\n",
        "        print(\"D\")\n",
        "      else:\n",
        "        if marks >= 35 and marks <= 54:\n",
        "          print(\"E\")\n",
        "        else:\n",
        "          print(\"F\")"
      ],
      "metadata": {
        "colab": {
          "base_uri": "https://localhost:8080/"
        },
        "id": "XYvO7wtl3GXI",
        "outputId": "89bc0e98-f0c5-4f8c-c09f-8ec05992b02d"
      },
      "execution_count": null,
      "outputs": [
        {
          "output_type": "stream",
          "name": "stdout",
          "text": [
            "5\n",
            "F\n"
          ]
        }
      ]
    },
    {
      "cell_type": "code",
      "source": [
        "5"
      ],
      "metadata": {
        "colab": {
          "base_uri": "https://localhost:8080/"
        },
        "id": "nF7fEutp8VQL",
        "outputId": "3fe64f94-c94a-4c4c-b6bf-542fe0a06e7a"
      },
      "execution_count": null,
      "outputs": [
        {
          "output_type": "execute_result",
          "data": {
            "text/plain": [
              "5"
            ]
          },
          "metadata": {},
          "execution_count": 39
        }
      ]
    },
    {
      "cell_type": "code",
      "source": [
        "#clean way\n",
        "\n",
        "marks = int(input())\n",
        "\n",
        "if marks > 95:\n",
        "  print(\"A\")\n",
        "elif marks >= 86 and marks <= 95:\n",
        "  print(\"B\")\n",
        "elif marks >= 70 and marks <=85:\n",
        "  print(\"C\")\n",
        "elif marks >= 55 and marks <= 69:\n",
        "  print(\"D\")\n",
        "elif marks >= 35 and marks <= 54:\n",
        "  print(\"E\")\n",
        "else:\n",
        "  print(\"F\")"
      ],
      "metadata": {
        "colab": {
          "base_uri": "https://localhost:8080/"
        },
        "id": "44QQwR688dFj",
        "outputId": "5e3b39f2-005d-4784-a47a-368313b9b312"
      },
      "execution_count": null,
      "outputs": [
        {
          "output_type": "stream",
          "name": "stdout",
          "text": [
            "87\n",
            "B\n"
          ]
        }
      ]
    },
    {
      "cell_type": "code",
      "source": [
        "# elif"
      ],
      "metadata": {
        "id": "xB5rARRB8yZl"
      },
      "execution_count": null,
      "outputs": []
    },
    {
      "cell_type": "code",
      "source": [
        "a = 10\n",
        "\n",
        "if a<15:\n",
        "  print(\"less\")\n",
        "if a== 10:\n",
        "  print(\"10\")"
      ],
      "metadata": {
        "colab": {
          "base_uri": "https://localhost:8080/"
        },
        "id": "19nUztM9-O4r",
        "outputId": "5ef23a78-5779-4e91-a9cc-c0ef37ed83ef"
      },
      "execution_count": null,
      "outputs": [
        {
          "output_type": "stream",
          "name": "stdout",
          "text": [
            "less\n",
            "10\n"
          ]
        }
      ]
    },
    {
      "cell_type": "code",
      "source": [
        "a= 2\n",
        "\n",
        "a = a+2 # a += 2\n",
        "print(a)"
      ],
      "metadata": {
        "colab": {
          "base_uri": "https://localhost:8080/"
        },
        "id": "2fmtnO2Q-W11",
        "outputId": "3133b27b-29e4-4c5c-a690-3ff3ecde8ecb"
      },
      "execution_count": null,
      "outputs": [
        {
          "output_type": "stream",
          "name": "stdout",
          "text": [
            "4\n"
          ]
        }
      ]
    },
    {
      "cell_type": "code",
      "source": [
        "a = 2\n",
        "a += 2\n",
        "\n",
        "print(a)"
      ],
      "metadata": {
        "colab": {
          "base_uri": "https://localhost:8080/"
        },
        "id": "gcRql1rLE38G",
        "outputId": "a6bedfea-edbc-4fe5-efc1-e62227fbb51e"
      },
      "execution_count": null,
      "outputs": [
        {
          "output_type": "stream",
          "name": "stdout",
          "text": [
            "4\n"
          ]
        }
      ]
    },
    {
      "cell_type": "code",
      "source": [],
      "metadata": {
        "id": "iQmjthLVE9o0"
      },
      "execution_count": null,
      "outputs": []
    }
  ]
}