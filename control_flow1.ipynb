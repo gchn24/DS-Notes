{
  "nbformat": 4,
  "nbformat_minor": 0,
  "metadata": {
    "colab": {
      "provenance": [],
      "include_colab_link": true
    },
    "kernelspec": {
      "name": "python3",
      "display_name": "Python 3"
    },
    "language_info": {
      "name": "python"
    }
  },
  "cells": [
    {
      "cell_type": "markdown",
      "metadata": {
        "id": "view-in-github",
        "colab_type": "text"
      },
      "source": [
        "<a href=\"https://colab.research.google.com/github/gchn24/Scaler/blob/main/control_flow1.ipynb\" target=\"_parent\"><img src=\"https://colab.research.google.com/assets/colab-badge.svg\" alt=\"Open In Colab\"/></a>"
      ]
    },
    {
      "cell_type": "code",
      "execution_count": null,
      "metadata": {
        "colab": {
          "base_uri": "https://localhost:8080/"
        },
        "id": "3aAa2ImtjdEv",
        "outputId": "7c4108a4-dec8-4657-80b8-bb078163492c"
      },
      "outputs": [
        {
          "output_type": "execute_result",
          "data": {
            "text/plain": [
              "True"
            ]
          },
          "metadata": {},
          "execution_count": 1
        }
      ],
      "source": [
        "54 <= 67"
      ]
    },
    {
      "cell_type": "code",
      "source": [
        "a = 10"
      ],
      "metadata": {
        "id": "OEJby7jJq9uV"
      },
      "execution_count": null,
      "outputs": []
    },
    {
      "cell_type": "code",
      "source": [
        "a > 5 or a==20 or a<2"
      ],
      "metadata": {
        "colab": {
          "base_uri": "https://localhost:8080/"
        },
        "id": "AppbFrLurCTf",
        "outputId": "b0465b01-e2e1-411e-a569-ed337c28de43"
      },
      "execution_count": null,
      "outputs": [
        {
          "output_type": "execute_result",
          "data": {
            "text/plain": [
              "True"
            ]
          },
          "metadata": {},
          "execution_count": 3
        }
      ]
    },
    {
      "cell_type": "code",
      "source": [
        "a > 5 and a==20 and a<2"
      ],
      "metadata": {
        "colab": {
          "base_uri": "https://localhost:8080/"
        },
        "id": "cOOEmYfPrK0K",
        "outputId": "5e5e3f83-a86a-4f61-b098-33a10cd66597"
      },
      "execution_count": null,
      "outputs": [
        {
          "output_type": "execute_result",
          "data": {
            "text/plain": [
              "False"
            ]
          },
          "metadata": {},
          "execution_count": 4
        }
      ]
    },
    {
      "cell_type": "code",
      "source": [
        "not True"
      ],
      "metadata": {
        "colab": {
          "base_uri": "https://localhost:8080/"
        },
        "id": "uATQwzl3rRV7",
        "outputId": "edcdf0ea-8659-4207-e250-5c83dff69f7f"
      },
      "execution_count": null,
      "outputs": [
        {
          "output_type": "execute_result",
          "data": {
            "text/plain": [
              "False"
            ]
          },
          "metadata": {},
          "execution_count": 5
        }
      ]
    },
    {
      "cell_type": "code",
      "source": [
        "not False"
      ],
      "metadata": {
        "colab": {
          "base_uri": "https://localhost:8080/"
        },
        "id": "Hv2pj44UrZYk",
        "outputId": "b8e5d4b3-af06-4cc0-a66c-e1674ed21234"
      },
      "execution_count": null,
      "outputs": [
        {
          "output_type": "execute_result",
          "data": {
            "text/plain": [
              "True"
            ]
          },
          "metadata": {},
          "execution_count": 6
        }
      ]
    },
    {
      "cell_type": "code",
      "source": [
        "not 4<5"
      ],
      "metadata": {
        "colab": {
          "base_uri": "https://localhost:8080/"
        },
        "id": "iFWFHS_0rajS",
        "outputId": "45456ea1-2ccf-4c7b-d16c-41016e02532a"
      },
      "execution_count": null,
      "outputs": [
        {
          "output_type": "execute_result",
          "data": {
            "text/plain": [
              "False"
            ]
          },
          "metadata": {},
          "execution_count": 7
        }
      ]
    },
    {
      "cell_type": "code",
      "source": [
        "not 5<=5"
      ],
      "metadata": {
        "colab": {
          "base_uri": "https://localhost:8080/"
        },
        "id": "JRfQhaVurfm7",
        "outputId": "09cd7044-5a9f-449c-c72d-866a3a823b98"
      },
      "execution_count": null,
      "outputs": [
        {
          "output_type": "execute_result",
          "data": {
            "text/plain": [
              "False"
            ]
          },
          "metadata": {},
          "execution_count": 10
        }
      ]
    },
    {
      "cell_type": "code",
      "source": [
        "5<=5"
      ],
      "metadata": {
        "colab": {
          "base_uri": "https://localhost:8080/"
        },
        "id": "QFKdruGXrlX2",
        "outputId": "e77af4e7-8b4b-4bf2-adf9-2853d4c15497"
      },
      "execution_count": null,
      "outputs": [
        {
          "output_type": "execute_result",
          "data": {
            "text/plain": [
              "True"
            ]
          },
          "metadata": {},
          "execution_count": 9
        }
      ]
    },
    {
      "cell_type": "code",
      "source": [
        "n = 4"
      ],
      "metadata": {
        "id": "AErmXygGr8c2"
      },
      "execution_count": null,
      "outputs": []
    },
    {
      "cell_type": "code",
      "source": [
        "if n%2 == 0:\n",
        "  print(\"Even\")\n",
        "else:\n",
        "  print(\"Odd\")"
      ],
      "metadata": {
        "colab": {
          "base_uri": "https://localhost:8080/"
        },
        "id": "TJaUJhlJu3xl",
        "outputId": "7cad67b8-62ce-4180-d0d4-d832f07cb020"
      },
      "execution_count": null,
      "outputs": [
        {
          "output_type": "stream",
          "name": "stdout",
          "text": [
            "Even\n"
          ]
        }
      ]
    },
    {
      "cell_type": "code",
      "source": [
        "print(\"0\")\n",
        "\n",
        "if 56 < 60:\n",
        "  print(\"1\")\n",
        "  print(\"2\")\n",
        "  print(\"3\")\n",
        "else:\n",
        "  print(\"4\")\n",
        "\n",
        "print(\"5\")"
      ],
      "metadata": {
        "colab": {
          "base_uri": "https://localhost:8080/",
          "height": 131
        },
        "id": "__v0LOm6vByi",
        "outputId": "43ce0363-6793-4a62-cc16-73ca55dea09e"
      },
      "execution_count": null,
      "outputs": [
        {
          "output_type": "error",
          "ename": "SyntaxError",
          "evalue": "ignored",
          "traceback": [
            "\u001b[0;36m  File \u001b[0;32m\"<ipython-input-23-4d45ad341cdf>\"\u001b[0;36m, line \u001b[0;32m4\u001b[0m\n\u001b[0;31m    else:\u001b[0m\n\u001b[0m       ^\u001b[0m\n\u001b[0;31mSyntaxError\u001b[0m\u001b[0;31m:\u001b[0m invalid syntax\n"
          ]
        }
      ]
    },
    {
      "cell_type": "code",
      "source": [
        "#else is dependent on if -\n",
        "# if IF condition is true - else gets skipped"
      ],
      "metadata": {
        "id": "22nEATUgv_fn"
      },
      "execution_count": null,
      "outputs": []
    },
    {
      "cell_type": "code",
      "source": [
        "print(\"0\")\n",
        "\n",
        "if 56 < 60:\n",
        "  print(\"inside if\")\n",
        "print(\"1\")\n",
        "print(\"2\")\n",
        "print(\"3\")\n",
        "print(\"5\")"
      ],
      "metadata": {
        "colab": {
          "base_uri": "https://localhost:8080/"
        },
        "id": "wIZV1Znwx1V2",
        "outputId": "615d0707-4472-4750-8d45-4034c3aa5a90"
      },
      "execution_count": null,
      "outputs": [
        {
          "output_type": "stream",
          "name": "stdout",
          "text": [
            "0\n",
            "inside if\n",
            "1\n",
            "2\n",
            "3\n",
            "5\n"
          ]
        }
      ]
    },
    {
      "cell_type": "code",
      "source": [
        "print(\"0\")\n",
        "\n",
        "if 56 > 60:\n",
        "  print(\"1\")\n",
        "  print(\"2\")\n",
        "  print(\"3\")\n",
        "else:\n",
        "  print(\"4\")\n",
        "\n",
        "print(\"5\")"
      ],
      "metadata": {
        "colab": {
          "base_uri": "https://localhost:8080/"
        },
        "id": "4-obRoCGx7uK",
        "outputId": "573661cd-df3f-4760-9901-e60527cbad57"
      },
      "execution_count": null,
      "outputs": [
        {
          "output_type": "stream",
          "name": "stdout",
          "text": [
            "0\n",
            "4\n",
            "5\n"
          ]
        }
      ]
    },
    {
      "cell_type": "markdown",
      "source": [],
      "metadata": {
        "id": "PWKSld2X2ikW"
      }
    },
    {
      "cell_type": "code",
      "source": [
        "#Run these always\n",
        "\n",
        "if condition:\n",
        "  # Run these only when condition is True\n",
        "else:\n",
        "  # Run these only when condition is False\n",
        "\n",
        "#Run these always"
      ],
      "metadata": {
        "id": "RogyijHs2iJn"
      },
      "execution_count": null,
      "outputs": []
    },
    {
      "cell_type": "code",
      "source": [
        "#password checker\n",
        "\n",
        "#print \"Password incorrect\" if incorrect\n",
        "#print \"Password validated\" if correcct"
      ],
      "metadata": {
        "id": "F9SroaPCyM-j"
      },
      "execution_count": null,
      "outputs": []
    },
    {
      "cell_type": "code",
      "source": [
        "original_password = \"password\"\n",
        "password = input()\n",
        "\n",
        "if password == original_password:\n",
        "  print(\"Password validated\")\n",
        "\n",
        "print(\"Password incorrect\")"
      ],
      "metadata": {
        "colab": {
          "base_uri": "https://localhost:8080/"
        },
        "id": "_Rnt3URWynHm",
        "outputId": "b4a5fea4-73d9-4e14-8ae6-f8b6e96f957e"
      },
      "execution_count": null,
      "outputs": [
        {
          "output_type": "stream",
          "name": "stdout",
          "text": [
            "password\n",
            "Password validated\n"
          ]
        }
      ]
    },
    {
      "cell_type": "code",
      "source": [
        "original_password = \"password\"\n",
        "password = input()\n",
        "\n",
        "if password == original_password:\n",
        "  print(\"Password validated\")\n",
        "else:\n",
        "  print(\"Password incorrect\")"
      ],
      "metadata": {
        "colab": {
          "base_uri": "https://localhost:8080/"
        },
        "id": "DoGr7zxbzSyZ",
        "outputId": "5565e663-1d3a-4bbd-ea50-5ba38072dcf5"
      },
      "execution_count": null,
      "outputs": [
        {
          "output_type": "stream",
          "name": "stdout",
          "text": [
            "12345\n",
            "Password incorrect\n"
          ]
        }
      ]
    },
    {
      "cell_type": "code",
      "source": [
        "a = int(input())\n",
        "\n",
        "result = a**2 #take square of a\n",
        "\n",
        "if result > 25:\n",
        "  print(\"It's inside IF block\")\n",
        "else:\n",
        "  print(\"It's inside ELSE block\")\n",
        "\n",
        "print(\"Outside code\")"
      ],
      "metadata": {
        "colab": {
          "base_uri": "https://localhost:8080/"
        },
        "id": "7_NOo_n5z0cj",
        "outputId": "20a8ca8a-ccf0-4451-afc9-1eb02022df3c"
      },
      "execution_count": null,
      "outputs": [
        {
          "output_type": "stream",
          "name": "stdout",
          "text": [
            "7\n",
            "It's inside IF block\n",
            "Outside code\n"
          ]
        }
      ]
    },
    {
      "cell_type": "code",
      "source": [
        "#concept of blocks\n",
        "\n",
        "marks = int(input())\n",
        "\n",
        "if marks > 95:\n",
        "  print(\"A\")\n",
        "else:\n",
        "  if marks >= 86 and marks <= 95:\n",
        "    print(\"B\")\n",
        "  else:\n",
        "    if marks >= 70 and marks <=85:\n",
        "      print(\"C\")\n",
        "    else:\n",
        "      if marks >= 55 and marks <= 69:\n",
        "        print(\"D\")\n",
        "      else:\n",
        "        if marks >= 35 and marks <= 54:\n",
        "          print(\"E\")\n",
        "        else:\n",
        "          print(\"F\")"
      ],
      "metadata": {
        "colab": {
          "base_uri": "https://localhost:8080/"
        },
        "id": "XYvO7wtl3GXI",
        "outputId": "89bc0e98-f0c5-4f8c-c09f-8ec05992b02d"
      },
      "execution_count": null,
      "outputs": [
        {
          "output_type": "stream",
          "name": "stdout",
          "text": [
            "5\n",
            "F\n"
          ]
        }
      ]
    },
    {
      "cell_type": "code",
      "source": [
        "5"
      ],
      "metadata": {
        "colab": {
          "base_uri": "https://localhost:8080/"
        },
        "id": "nF7fEutp8VQL",
        "outputId": "3fe64f94-c94a-4c4c-b6bf-542fe0a06e7a"
      },
      "execution_count": null,
      "outputs": [
        {
          "output_type": "execute_result",
          "data": {
            "text/plain": [
              "5"
            ]
          },
          "metadata": {},
          "execution_count": 39
        }
      ]
    },
    {
      "cell_type": "code",
      "source": [
        "#clean way\n",
        "\n",
        "marks = int(input())\n",
        "\n",
        "if marks > 95:\n",
        "  print(\"A\")\n",
        "elif marks >= 86 and marks <= 95:\n",
        "  print(\"B\")\n",
        "elif marks >= 70 and marks <=85:\n",
        "  print(\"C\")\n",
        "elif marks >= 55 and marks <= 69:\n",
        "  print(\"D\")\n",
        "elif marks >= 35 and marks <= 54:\n",
        "  print(\"E\")\n",
        "else:\n",
        "  print(\"F\")"
      ],
      "metadata": {
        "colab": {
          "base_uri": "https://localhost:8080/"
        },
        "id": "44QQwR688dFj",
        "outputId": "5e3b39f2-005d-4784-a47a-368313b9b312"
      },
      "execution_count": null,
      "outputs": [
        {
          "output_type": "stream",
          "name": "stdout",
          "text": [
            "87\n",
            "B\n"
          ]
        }
      ]
    },
    {
      "cell_type": "code",
      "source": [
        "# elif"
      ],
      "metadata": {
        "id": "xB5rARRB8yZl"
      },
      "execution_count": null,
      "outputs": []
    },
    {
      "cell_type": "code",
      "source": [
        "a = 10\n",
        "\n",
        "if a<15:\n",
        "  print(\"less\")\n",
        "if a== 10:\n",
        "  print(\"10\")"
      ],
      "metadata": {
        "colab": {
          "base_uri": "https://localhost:8080/"
        },
        "id": "19nUztM9-O4r",
        "outputId": "5ef23a78-5779-4e91-a9cc-c0ef37ed83ef"
      },
      "execution_count": null,
      "outputs": [
        {
          "output_type": "stream",
          "name": "stdout",
          "text": [
            "less\n",
            "10\n"
          ]
        }
      ]
    },
    {
      "cell_type": "code",
      "source": [
        "a= 2\n",
        "\n",
        "a = a+2 # a += 2\n",
        "print(a)"
      ],
      "metadata": {
        "colab": {
          "base_uri": "https://localhost:8080/"
        },
        "id": "2fmtnO2Q-W11",
        "outputId": "3133b27b-29e4-4c5c-a690-3ff3ecde8ecb"
      },
      "execution_count": null,
      "outputs": [
        {
          "output_type": "stream",
          "name": "stdout",
          "text": [
            "4\n"
          ]
        }
      ]
    },
    {
      "cell_type": "code",
      "source": [
        "a = 2\n",
        "a += 2\n",
        "\n",
        "print(a)"
      ],
      "metadata": {
        "colab": {
          "base_uri": "https://localhost:8080/"
        },
        "id": "gcRql1rLE38G",
        "outputId": "a6bedfea-edbc-4fe5-efc1-e62227fbb51e"
      },
      "execution_count": null,
      "outputs": [
        {
          "output_type": "stream",
          "name": "stdout",
          "text": [
            "4\n"
          ]
        }
      ]
    },
    {
      "cell_type": "code",
      "source": [],
      "metadata": {
        "id": "iQmjthLVE9o0"
      },
      "execution_count": null,
      "outputs": []
    },
    {
      "cell_type": "markdown",
      "source": [
        "**Control flow 2 : Practice Problems!!**"
      ],
      "metadata": {
        "id": "18l-MdoY2v0y"
      }
    },
    {
      "cell_type": "code",
      "source": [
        "# always gets executed\n",
        "\n",
        "# if condition:\n",
        "#   executes only when condition is True\n",
        "# else:\n",
        "#   executes only when condition is False\n",
        "\n",
        "# always gets executed"
      ],
      "metadata": {
        "id": "Nb7SNXJ_2xiU"
      },
      "execution_count": null,
      "outputs": []
    },
    {
      "cell_type": "markdown",
      "source": [
        "1. Take an integer as input from the user and print whether it is positive or negative"
      ],
      "metadata": {
        "id": "bE1GyOl95eg_"
      }
    },
    {
      "cell_type": "code",
      "source": [
        "n = input()"
      ],
      "metadata": {
        "colab": {
          "base_uri": "https://localhost:8080/"
        },
        "id": "K0Dfbglm5dE_",
        "outputId": "78f3ffe6-c848-45c1-f39a-e5042df5a8f9"
      },
      "execution_count": null,
      "outputs": [
        {
          "name": "stdout",
          "output_type": "stream",
          "text": [
            "2\n"
          ]
        }
      ]
    },
    {
      "cell_type": "code",
      "source": [
        "type(n)"
      ],
      "metadata": {
        "colab": {
          "base_uri": "https://localhost:8080/"
        },
        "id": "jYrbHCSw6f7L",
        "outputId": "2fd1bfed-2ff0-489f-af9a-1830575b1b64"
      },
      "execution_count": null,
      "outputs": [
        {
          "output_type": "execute_result",
          "data": {
            "text/plain": [
              "str"
            ]
          },
          "metadata": {},
          "execution_count": 4
        }
      ]
    },
    {
      "cell_type": "code",
      "source": [],
      "metadata": {
        "colab": {
          "base_uri": "https://localhost:8080/"
        },
        "id": "VEyCtNwV6ngZ",
        "outputId": "dab46855-1376-461b-81ce-a8240b3dacb1"
      },
      "execution_count": null,
      "outputs": [
        {
          "name": "stdout",
          "output_type": "stream",
          "text": [
            "2\n"
          ]
        }
      ]
    },
    {
      "cell_type": "code",
      "source": [
        "type(n)"
      ],
      "metadata": {
        "colab": {
          "base_uri": "https://localhost:8080/"
        },
        "id": "zFijBLvf60VV",
        "outputId": "e604952c-d3d7-409b-fe4e-f5df7502fa75"
      },
      "execution_count": null,
      "outputs": [
        {
          "output_type": "execute_result",
          "data": {
            "text/plain": [
              "int"
            ]
          },
          "metadata": {},
          "execution_count": 6
        }
      ]
    },
    {
      "cell_type": "code",
      "source": [
        "n = int(input())\n",
        "if n>= 0:\n",
        "  print(\"Positive\")\n",
        "else:\n",
        "  print(\"Negative\")\n"
      ],
      "metadata": {
        "colab": {
          "base_uri": "https://localhost:8080/"
        },
        "id": "VHiYeR4_62uZ",
        "outputId": "523dadca-e9df-45f5-f365-f6ca594e7cfd"
      },
      "execution_count": null,
      "outputs": [
        {
          "output_type": "stream",
          "name": "stdout",
          "text": [
            "-5\n",
            "Negative\n"
          ]
        }
      ]
    },
    {
      "cell_type": "markdown",
      "source": [
        "2. Take an integer as input from the user and print whether it is positive or negative or zero"
      ],
      "metadata": {
        "id": "agckLuxo7NiJ"
      }
    },
    {
      "cell_type": "code",
      "source": [
        "n = int(input())\n",
        "\n",
        "if n==0:\n",
        "  print(\"zero\")\n",
        "\n",
        "if n>0:\n",
        "  print(\"Positive\")\n",
        "else:\n",
        "  print(\"Negative\")\n",
        "\n",
        "#this wont work as both if are independent"
      ],
      "metadata": {
        "colab": {
          "base_uri": "https://localhost:8080/"
        },
        "id": "ey3ePcAd7BXm",
        "outputId": "7d233d0c-151b-46a2-f9e2-f41351b19018"
      },
      "execution_count": null,
      "outputs": [
        {
          "output_type": "stream",
          "name": "stdout",
          "text": [
            "0\n",
            "zero\n",
            "Negative\n"
          ]
        }
      ]
    },
    {
      "cell_type": "code",
      "source": [
        "n = int(input())\n",
        "if n==0:\n",
        "  print(\"zero\")\n",
        "if n>0:\n",
        "  print(\"Positive\")"
      ],
      "metadata": {
        "colab": {
          "base_uri": "https://localhost:8080/"
        },
        "id": "a32j42ny7Xpg",
        "outputId": "904eb25c-2d2a-49eb-a57e-9652551f9872"
      },
      "execution_count": null,
      "outputs": [
        {
          "output_type": "stream",
          "name": "stdout",
          "text": [
            "4\n",
            "Positive\n"
          ]
        }
      ]
    },
    {
      "cell_type": "code",
      "source": [
        "n = int(input())\n",
        "\n",
        "if n==0:\n",
        "  print(\"zero\")\n",
        "elif n>0:\n",
        "  print(\"Positive\")\n",
        "else:\n",
        "  print(\"Negative\")"
      ],
      "metadata": {
        "colab": {
          "base_uri": "https://localhost:8080/"
        },
        "id": "56luAYfm7uB6",
        "outputId": "2b42af59-beb4-41a9-9293-b0b4de87ce23"
      },
      "execution_count": null,
      "outputs": [
        {
          "output_type": "stream",
          "name": "stdout",
          "text": [
            "3\n",
            "Positive\n"
          ]
        }
      ]
    },
    {
      "cell_type": "markdown",
      "source": [
        "3. Take a non-negative single digit number as input. if (n**5)%40 is > 15, then print \"Black\" else print \"Blue\".\n",
        "\n",
        "Note: If input is not a single digit, print \"Invalid input\""
      ],
      "metadata": {
        "id": "XfaZL9P_8mUO"
      }
    },
    {
      "cell_type": "code",
      "source": [
        "n = int(input())\n",
        "\n",
        "if n>=0 and n<=9:\n",
        "  if (n**5)%40 > 15:\n",
        "    print(\"Black\")\n",
        "  else:\n",
        "    print(\"Blue\")\n",
        "else:\n",
        "  print(\"Invalid input\")"
      ],
      "metadata": {
        "colab": {
          "base_uri": "https://localhost:8080/"
        },
        "id": "XBtb4FWD8cKs",
        "outputId": "769867b6-7447-48b1-8623-6acf40016c21"
      },
      "execution_count": null,
      "outputs": [
        {
          "output_type": "stream",
          "name": "stdout",
          "text": [
            "7\n",
            "Blue\n"
          ]
        }
      ]
    },
    {
      "cell_type": "code",
      "source": [
        "n = int(input())\n",
        "\n",
        "if not(n>=0 and n<=9):\n",
        "  print(\"Invalid input\")\n",
        "elif (n**5)%40 > 15:\n",
        "    print(\"Black\")\n",
        "else:\n",
        "    print(\"Blue\")  "
      ],
      "metadata": {
        "colab": {
          "base_uri": "https://localhost:8080/"
        },
        "id": "Js8GNdru--Xy",
        "outputId": "af1e3aaa-2849-4bb8-e494-72f84b383b3b"
      },
      "execution_count": null,
      "outputs": [
        {
          "output_type": "stream",
          "name": "stdout",
          "text": [
            "7\n",
            "Blue\n"
          ]
        }
      ]
    },
    {
      "cell_type": "code",
      "source": [
        "#take input- if its not single digit - print \"Invalid\" else check if it is positive or negative"
      ],
      "metadata": {
        "id": "fRQj9n0s_kX0"
      },
      "execution_count": null,
      "outputs": []
    },
    {
      "cell_type": "code",
      "source": [
        "n = int(input())\n",
        "\n",
        "if (n>=-9 and n<=9) and n>=0:\n",
        "  print(\"positive\")\n",
        "elif (n>=-9 and n<=9) and n<0:\n",
        "  print(\"negative\")\n",
        "else:\n",
        "  print(\"invalid\")\n"
      ],
      "metadata": {
        "colab": {
          "base_uri": "https://localhost:8080/"
        },
        "id": "KCHGG89k_5ra",
        "outputId": "6b91b2bf-445a-4ba1-803a-487e3b0ef010"
      },
      "execution_count": null,
      "outputs": [
        {
          "output_type": "stream",
          "name": "stdout",
          "text": [
            "11\n",
            "invalid\n"
          ]
        }
      ]
    },
    {
      "cell_type": "code",
      "source": [
        "n = 10\n",
        "\n",
        "not n>5"
      ],
      "metadata": {
        "colab": {
          "base_uri": "https://localhost:8080/"
        },
        "id": "vsDdUN_iAPJQ",
        "outputId": "a7c1af6c-cfda-4f04-86a8-908ec58a26ac"
      },
      "execution_count": null,
      "outputs": [
        {
          "output_type": "execute_result",
          "data": {
            "text/plain": [
              "False"
            ]
          },
          "metadata": {},
          "execution_count": 27
        }
      ]
    },
    {
      "cell_type": "code",
      "source": [
        "not n>5\n",
        "\n",
        "n<=5\n",
        "\n",
        "n<=5"
      ],
      "metadata": {
        "colab": {
          "base_uri": "https://localhost:8080/"
        },
        "id": "TkFlgU9HBDk_",
        "outputId": "b5180206-2c4f-45d7-af12-bf7eee6e113f"
      },
      "execution_count": null,
      "outputs": [
        {
          "output_type": "execute_result",
          "data": {
            "text/plain": [
              "False"
            ]
          },
          "metadata": {},
          "execution_count": 28
        }
      ]
    },
    {
      "cell_type": "code",
      "source": [
        "n = 10\n",
        "\n",
        "4 < n < 12 \n",
        "#(4<n and n<12)"
      ],
      "metadata": {
        "colab": {
          "base_uri": "https://localhost:8080/"
        },
        "id": "15YKh5_iBQQk",
        "outputId": "4bee1921-b6c1-444f-beda-8be284225923"
      },
      "execution_count": null,
      "outputs": [
        {
          "output_type": "execute_result",
          "data": {
            "text/plain": [
              "True"
            ]
          },
          "metadata": {},
          "execution_count": 29
        }
      ]
    },
    {
      "cell_type": "code",
      "source": [
        "n = 10\n",
        "\n",
        "4 < n > 5\n",
        "\n",
        "#(n >4 and n>5)"
      ],
      "metadata": {
        "colab": {
          "base_uri": "https://localhost:8080/"
        },
        "id": "95pjzC0pBrUU",
        "outputId": "2029216b-3d91-4b4b-c18e-47a40d2b7c3d"
      },
      "execution_count": null,
      "outputs": [
        {
          "output_type": "execute_result",
          "data": {
            "text/plain": [
              "True"
            ]
          },
          "metadata": {},
          "execution_count": 30
        }
      ]
    },
    {
      "cell_type": "code",
      "source": [
        "n = int(input())\n",
        "\n",
        "if not( 0 <= n <=9):\n",
        "  print(\"Invalid input\")\n",
        "elif (n**5)%40 > 15:\n",
        "    print(\"Black\")\n",
        "else:\n",
        "    print(\"Blue\")  "
      ],
      "metadata": {
        "colab": {
          "base_uri": "https://localhost:8080/"
        },
        "id": "38EhMsvECFUz",
        "outputId": "cdc1ce5f-2b39-4d81-8ba5-d42e9c814f4e"
      },
      "execution_count": null,
      "outputs": [
        {
          "output_type": "stream",
          "name": "stdout",
          "text": [
            "33\n",
            "Invalid input\n"
          ]
        }
      ]
    },
    {
      "cell_type": "code",
      "source": [
        "n = 9\n",
        "\n",
        "0 <= n <=9"
      ],
      "metadata": {
        "colab": {
          "base_uri": "https://localhost:8080/"
        },
        "id": "RF9-ITRgCobM",
        "outputId": "9c013f6e-9318-4e6b-dc47-faabb511830d"
      },
      "execution_count": null,
      "outputs": [
        {
          "output_type": "execute_result",
          "data": {
            "text/plain": [
              "True"
            ]
          },
          "metadata": {},
          "execution_count": 32
        }
      ]
    },
    {
      "cell_type": "code",
      "source": [
        "if not( 0 <= n <=9):\n",
        "  print(\"Invalid input\")"
      ],
      "metadata": {
        "id": "P2yXFBnnDJCT"
      },
      "execution_count": null,
      "outputs": []
    },
    {
      "cell_type": "code",
      "source": [
        "# not( 0 <= n <=9):\n",
        "\n",
        "\n",
        "0 <= n <=9 # n is greater than or equal to 0 AND n is less than or equal to 9\n",
        "\n",
        "# it is false when\n",
        "# either n is less than 0 OR n is greater than 9"
      ],
      "metadata": {
        "colab": {
          "base_uri": "https://localhost:8080/",
          "height": 135
        },
        "id": "R3cPA7kRDT57",
        "outputId": "e3bdf8df-b586-44ef-fcab-52049cf126d8"
      },
      "execution_count": null,
      "outputs": [
        {
          "output_type": "error",
          "ename": "SyntaxError",
          "evalue": "ignored",
          "traceback": [
            "\u001b[0;36m  File \u001b[0;32m\"<ipython-input-33-de19e5e1bd66>\"\u001b[0;36m, line \u001b[0;32m1\u001b[0m\n\u001b[0;31m    not( 0 <= n <=9):\u001b[0m\n\u001b[0m                     ^\u001b[0m\n\u001b[0;31mSyntaxError\u001b[0m\u001b[0;31m:\u001b[0m invalid syntax\n"
          ]
        }
      ]
    },
    {
      "cell_type": "code",
      "source": [
        "# not( 0 <= n <=9): \n",
        "\n",
        "# is n less than 0 OR is n greater than 9"
      ],
      "metadata": {
        "id": "18BRpqCsDb3K"
      },
      "execution_count": null,
      "outputs": []
    },
    {
      "cell_type": "markdown",
      "source": [
        "4. Feedback System -\n",
        "\n",
        "Take string feedback from a user. If the feedback is missing/empty print(\"Please provide feedback next time\")\n",
        "\n",
        "if feedback is any of \"Super\", 'Great\", \"Fantastic\", \"Awesome\", print(\"Thanks a lot!\")\n"
      ],
      "metadata": {
        "id": "iHtuiJHcGmn-"
      }
    },
    {
      "cell_type": "code",
      "source": [
        "feedback = input()\n",
        "\n",
        "if feedback == \"Super\" or feedback == \"Great\" or feedback ==\"Fantastic\" or feedback == \"Awesome\":\n",
        "  print(\"Thanks a lot!\")\n",
        "else:\n",
        "  print(\"Please provide feedback next time\")"
      ],
      "metadata": {
        "colab": {
          "base_uri": "https://localhost:8080/"
        },
        "id": "3YTUOVCPGfQ-",
        "outputId": "404fc335-a8d9-40ae-f8b1-e156f6d7a6e9"
      },
      "execution_count": null,
      "outputs": [
        {
          "output_type": "stream",
          "name": "stdout",
          "text": [
            "I wont give any feedback- dont waste my time\n",
            "Please provide feedback next time\n"
          ]
        }
      ]
    },
    {
      "cell_type": "code",
      "source": [
        "feedback = input()\n",
        "\n",
        "if feedback == \"Super\" or feedback == \"Great\" or feedback ==\"Fantastic\" or feedback == \"Awesome\":\n",
        "  print(\"Thanks a lot!\")\n",
        "elif feedback == \"\":\n",
        "  print(\"Please provide feedback next time\")"
      ],
      "metadata": {
        "colab": {
          "base_uri": "https://localhost:8080/"
        },
        "id": "mS2okWjFIA51",
        "outputId": "51edbee5-64f5-42bb-db3a-b48c8bb421ce"
      },
      "execution_count": null,
      "outputs": [
        {
          "output_type": "stream",
          "name": "stdout",
          "text": [
            "\n",
            "Please provide feedback next time\n"
          ]
        }
      ]
    },
    {
      "cell_type": "code",
      "source": [
        "feedback = input()\n",
        "\n",
        "if feedback == \"\":\n",
        "  print(\"Please provide feedback next time\")\n",
        "elif feedback == \"Super\" or feedback == \"Great\" or feedback ==\"Fantastic\" or feedback == \"Awesome\":\n",
        "  print(\"Thanks a lot!\")"
      ],
      "metadata": {
        "id": "To1JdlbiIasz"
      },
      "execution_count": null,
      "outputs": []
    },
    {
      "cell_type": "code",
      "source": [
        "bool(\"\")"
      ],
      "metadata": {
        "colab": {
          "base_uri": "https://localhost:8080/"
        },
        "id": "kptTGxseI0Pm",
        "outputId": "8d23ddb2-04d7-4701-db4f-109a58008a08"
      },
      "execution_count": null,
      "outputs": [
        {
          "output_type": "execute_result",
          "data": {
            "text/plain": [
              "False"
            ]
          },
          "metadata": {},
          "execution_count": 42
        }
      ]
    },
    {
      "cell_type": "code",
      "source": [
        "bool(\"random string\")"
      ],
      "metadata": {
        "colab": {
          "base_uri": "https://localhost:8080/"
        },
        "id": "2ncYJlMDI6k8",
        "outputId": "13afd003-5327-434e-ffc3-af2f83c4b354"
      },
      "execution_count": null,
      "outputs": [
        {
          "output_type": "execute_result",
          "data": {
            "text/plain": [
              "True"
            ]
          },
          "metadata": {},
          "execution_count": 40
        }
      ]
    },
    {
      "cell_type": "code",
      "source": [
        "feedback = input()\n",
        "\n",
        "if not(feedback):\n",
        "  print(\"Please provide feedback next time\")\n",
        "elif feedback == \"Super\" or feedback == \"Great\" or feedback ==\"Fantastic\" or feedback == \"Awesome\":\n",
        "  print(\"Thanks a lot!\")"
      ],
      "metadata": {
        "colab": {
          "base_uri": "https://localhost:8080/"
        },
        "id": "qRWWTVxTJGUy",
        "outputId": "521350ef-5c38-4fc5-ae7d-6ce3c823daac"
      },
      "execution_count": null,
      "outputs": [
        {
          "output_type": "stream",
          "name": "stdout",
          "text": [
            "\n",
            "Please provide feedback next time\n"
          ]
        }
      ]
    },
    {
      "cell_type": "code",
      "source": [
        "not(bool(\"\"))"
      ],
      "metadata": {
        "id": "ziZYyzWoJUdE"
      },
      "execution_count": null,
      "outputs": []
    },
    {
      "cell_type": "code",
      "source": [
        "not(True)"
      ],
      "metadata": {
        "colab": {
          "base_uri": "https://localhost:8080/"
        },
        "id": "7vyw5ZaPJ2Dl",
        "outputId": "635cd5d4-42d1-4b1b-d5fc-fe7f5d35721a"
      },
      "execution_count": null,
      "outputs": [
        {
          "output_type": "execute_result",
          "data": {
            "text/plain": [
              "False"
            ]
          },
          "metadata": {},
          "execution_count": 43
        }
      ]
    },
    {
      "cell_type": "code",
      "source": [
        "not(False)"
      ],
      "metadata": {
        "colab": {
          "base_uri": "https://localhost:8080/"
        },
        "id": "u1HClRdHJ3r4",
        "outputId": "56524299-9a12-4827-f789-0072886cd6c6"
      },
      "execution_count": null,
      "outputs": [
        {
          "output_type": "execute_result",
          "data": {
            "text/plain": [
              "True"
            ]
          },
          "metadata": {},
          "execution_count": 44
        }
      ]
    },
    {
      "cell_type": "code",
      "source": [
        "#\"\" --> True"
      ],
      "metadata": {
        "id": "-VNX4nAyJ4uJ"
      },
      "execution_count": null,
      "outputs": []
    },
    {
      "cell_type": "markdown",
      "source": [
        "FIZZBUZZ:\n",
        "\n",
        "Take an input n (positive int).\n",
        "if n is a multiple of 3- print \"FIZZ\"\n",
        "else if n is a multiple of 5 print \"BUZZ\"\n",
        "else if n is a multiple of both 3 and 5 print \"FIZZBUZZ\""
      ],
      "metadata": {
        "id": "OJBinpWfKdG8"
      }
    },
    {
      "cell_type": "code",
      "source": [
        "n = int(input())\n",
        "\n",
        "if n%3 == 0:\n",
        "  print(\"FIZZ\")\n",
        "elif n%5 == 0:\n",
        "  print(\"BUZZ\")\n",
        "elif n%3 == 0 and n%5 == 0:\n",
        "  print(\"FIZZBUZZ\")"
      ],
      "metadata": {
        "colab": {
          "base_uri": "https://localhost:8080/"
        },
        "id": "PYcyK2kAKyUo",
        "outputId": "2bd5b8dc-6d6a-43a6-e304-35a1cb61f483"
      },
      "execution_count": null,
      "outputs": [
        {
          "output_type": "stream",
          "name": "stdout",
          "text": [
            "15\n",
            "FIZZ\n"
          ]
        }
      ]
    },
    {
      "cell_type": "code",
      "source": [
        "n = int(input())\n",
        "\n",
        "if n%3 == 0 and n%5 == 0:\n",
        "  print(\"FIZZBUZZ\")\n",
        "elif n%3 == 0:\n",
        "  print(\"FIZZ\")\n",
        "elif n%5 == 0:\n",
        "  print(\"BUZZ\")"
      ],
      "metadata": {
        "colab": {
          "base_uri": "https://localhost:8080/"
        },
        "id": "aLmFbijTL6qv",
        "outputId": "b89b6c28-ea06-49f6-f458-73e7bb3c49f7"
      },
      "execution_count": null,
      "outputs": [
        {
          "output_type": "stream",
          "name": "stdout",
          "text": [
            "45\n",
            "FIZZBUZZ\n"
          ]
        }
      ]
    },
    {
      "cell_type": "markdown",
      "source": [
        "6. Take in three inputs from a user whic are marks in english, maths and science. Assign the stream according to the following criteria (Bad process):\n",
        "\n",
        "- if science > 90 OR marks in all are greater than or equal to 75 --> science\n",
        "\n",
        "- if marks in all are greater than or equal to 60 and less than 75 --> commerce\n",
        "\n",
        "- if marks in all are less than 60 --> Humanities\n",
        "\n",
        "\n",
        "All means - consider individual subjects\n",
        "\n",
        "Learnings:\n",
        "1- Always ask valid doubts to clarify questions - interviewer will appreciate that\n",
        "\n",
        "2- Understanding the question is 50% of the problem solution\n",
        "\n",
        "\n"
      ],
      "metadata": {
        "id": "aTxxT7l3NLco"
      }
    },
    {
      "cell_type": "code",
      "source": [
        "science = int(input(\"Enter science marks\"))"
      ],
      "metadata": {
        "colab": {
          "base_uri": "https://localhost:8080/"
        },
        "id": "n-UsRFZJPEJ7",
        "outputId": "5872e9eb-6646-4fec-e807-6bfb86bf5a85"
      },
      "execution_count": null,
      "outputs": [
        {
          "name": "stdout",
          "output_type": "stream",
          "text": [
            "Enter science marks3\n"
          ]
        }
      ]
    },
    {
      "cell_type": "code",
      "source": [
        "science = int(input(\"Enter science marks \"))\n",
        "english = int(input(\"Enter english marks \"))\n",
        "maths = int(input(\"Enter maths marks \"))\n",
        "\n",
        "#Always give meaningful names to your variables"
      ],
      "metadata": {
        "colab": {
          "base_uri": "https://localhost:8080/",
          "height": 394
        },
        "id": "lnx1jL82Mm3x",
        "outputId": "95fa176f-fed6-43c6-f265-695a70508d02"
      },
      "execution_count": null,
      "outputs": [
        {
          "output_type": "error",
          "ename": "KeyboardInterrupt",
          "evalue": "ignored",
          "traceback": [
            "\u001b[0;31m---------------------------------------------------------------------------\u001b[0m",
            "\u001b[0;31mKeyboardInterrupt\u001b[0m                         Traceback (most recent call last)",
            "\u001b[0;32m<ipython-input-55-51e1e7bf15a6>\u001b[0m in \u001b[0;36m<module>\u001b[0;34m\u001b[0m\n\u001b[0;32m----> 1\u001b[0;31m \u001b[0mscience\u001b[0m \u001b[0;34m=\u001b[0m \u001b[0mint\u001b[0m\u001b[0;34m(\u001b[0m\u001b[0minput\u001b[0m\u001b[0;34m(\u001b[0m\u001b[0;34m\"Enter science marks \"\u001b[0m\u001b[0;34m)\u001b[0m\u001b[0;34m)\u001b[0m\u001b[0;34m\u001b[0m\u001b[0;34m\u001b[0m\u001b[0m\n\u001b[0m\u001b[1;32m      2\u001b[0m \u001b[0menglish\u001b[0m \u001b[0;34m=\u001b[0m \u001b[0mint\u001b[0m\u001b[0;34m(\u001b[0m\u001b[0minput\u001b[0m\u001b[0;34m(\u001b[0m\u001b[0;34m\"Enter english marks \"\u001b[0m\u001b[0;34m)\u001b[0m\u001b[0;34m)\u001b[0m\u001b[0;34m\u001b[0m\u001b[0;34m\u001b[0m\u001b[0m\n\u001b[1;32m      3\u001b[0m \u001b[0mmaths\u001b[0m \u001b[0;34m=\u001b[0m \u001b[0mint\u001b[0m\u001b[0;34m(\u001b[0m\u001b[0minput\u001b[0m\u001b[0;34m(\u001b[0m\u001b[0;34m\"Enter maths marks \"\u001b[0m\u001b[0;34m)\u001b[0m\u001b[0;34m)\u001b[0m\u001b[0;34m\u001b[0m\u001b[0;34m\u001b[0m\u001b[0m\n\u001b[1;32m      4\u001b[0m \u001b[0;34m\u001b[0m\u001b[0m\n\u001b[1;32m      5\u001b[0m \u001b[0;31m#Always give meaningful names to your variables\u001b[0m\u001b[0;34m\u001b[0m\u001b[0;34m\u001b[0m\u001b[0;34m\u001b[0m\u001b[0m\n",
            "\u001b[0;32m/usr/local/lib/python3.7/dist-packages/ipykernel/kernelbase.py\u001b[0m in \u001b[0;36mraw_input\u001b[0;34m(self, prompt)\u001b[0m\n\u001b[1;32m    861\u001b[0m             \u001b[0mself\u001b[0m\u001b[0;34m.\u001b[0m\u001b[0m_parent_ident\u001b[0m\u001b[0;34m,\u001b[0m\u001b[0;34m\u001b[0m\u001b[0;34m\u001b[0m\u001b[0m\n\u001b[1;32m    862\u001b[0m             \u001b[0mself\u001b[0m\u001b[0;34m.\u001b[0m\u001b[0m_parent_header\u001b[0m\u001b[0;34m,\u001b[0m\u001b[0;34m\u001b[0m\u001b[0;34m\u001b[0m\u001b[0m\n\u001b[0;32m--> 863\u001b[0;31m             \u001b[0mpassword\u001b[0m\u001b[0;34m=\u001b[0m\u001b[0;32mFalse\u001b[0m\u001b[0;34m,\u001b[0m\u001b[0;34m\u001b[0m\u001b[0;34m\u001b[0m\u001b[0m\n\u001b[0m\u001b[1;32m    864\u001b[0m         )\n\u001b[1;32m    865\u001b[0m \u001b[0;34m\u001b[0m\u001b[0m\n",
            "\u001b[0;32m/usr/local/lib/python3.7/dist-packages/ipykernel/kernelbase.py\u001b[0m in \u001b[0;36m_input_request\u001b[0;34m(self, prompt, ident, parent, password)\u001b[0m\n\u001b[1;32m    902\u001b[0m             \u001b[0;32mexcept\u001b[0m \u001b[0mKeyboardInterrupt\u001b[0m\u001b[0;34m:\u001b[0m\u001b[0;34m\u001b[0m\u001b[0;34m\u001b[0m\u001b[0m\n\u001b[1;32m    903\u001b[0m                 \u001b[0;31m# re-raise KeyboardInterrupt, to truncate traceback\u001b[0m\u001b[0;34m\u001b[0m\u001b[0;34m\u001b[0m\u001b[0;34m\u001b[0m\u001b[0m\n\u001b[0;32m--> 904\u001b[0;31m                 \u001b[0;32mraise\u001b[0m \u001b[0mKeyboardInterrupt\u001b[0m\u001b[0;34m(\u001b[0m\u001b[0;34m\"Interrupted by user\"\u001b[0m\u001b[0;34m)\u001b[0m \u001b[0;32mfrom\u001b[0m \u001b[0;32mNone\u001b[0m\u001b[0;34m\u001b[0m\u001b[0;34m\u001b[0m\u001b[0m\n\u001b[0m\u001b[1;32m    905\u001b[0m             \u001b[0;32mexcept\u001b[0m \u001b[0mException\u001b[0m \u001b[0;32mas\u001b[0m \u001b[0me\u001b[0m\u001b[0;34m:\u001b[0m\u001b[0;34m\u001b[0m\u001b[0;34m\u001b[0m\u001b[0m\n\u001b[1;32m    906\u001b[0m                 \u001b[0mself\u001b[0m\u001b[0;34m.\u001b[0m\u001b[0mlog\u001b[0m\u001b[0;34m.\u001b[0m\u001b[0mwarning\u001b[0m\u001b[0;34m(\u001b[0m\u001b[0;34m\"Invalid Message:\"\u001b[0m\u001b[0;34m,\u001b[0m \u001b[0mexc_info\u001b[0m\u001b[0;34m=\u001b[0m\u001b[0;32mTrue\u001b[0m\u001b[0;34m)\u001b[0m\u001b[0;34m\u001b[0m\u001b[0;34m\u001b[0m\u001b[0m\n",
            "\u001b[0;31mKeyboardInterrupt\u001b[0m: Interrupted by user"
          ]
        }
      ]
    },
    {
      "cell_type": "code",
      "source": [
        "science = int(input(\"Enter science marks \"))\n",
        "english = int(input(\"Enter english marks \"))\n",
        "maths = int(input(\"Enter maths marks \"))\n",
        "\n",
        "#Always give meaningful names to your variables\n",
        "\n",
        "\n",
        "if (science > 90) or (science >=75 and maths >=75 and english >=75):\n",
        "  print(\"Science\")\n",
        "elif (science >=60 and maths >=60 and english >=60) and (science <75 and maths <75 and english <75):\n",
        "  print(\"Commerce\")\n",
        "elif(science <60 and maths <60 and english <60):\n",
        "  print(\"Humanities\")\n",
        "else:\n",
        "  print(\"Nothing\")"
      ],
      "metadata": {
        "colab": {
          "base_uri": "https://localhost:8080/"
        },
        "id": "Hl6LFVDNPaqc",
        "outputId": "e6a2a95c-53ac-40f4-d5fe-0209fede6ea7"
      },
      "execution_count": null,
      "outputs": [
        {
          "output_type": "stream",
          "name": "stdout",
          "text": [
            "Enter science marks 65\n",
            "Enter english marks 40\n",
            "Enter maths marks 88\n",
            "Nothing\n"
          ]
        }
      ]
    },
    {
      "cell_type": "code",
      "source": [
        "science = int(input(\"Enter science marks \"))\n",
        "english = int(input(\"Enter english marks \"))\n",
        "maths = int(input(\"Enter maths marks \"))\n",
        "\n",
        "#Always give meaningful names to your variables\n",
        "\n",
        "\n",
        "if (science > 90) or (science >=75 and maths >=75 and english >=75):\n",
        "  print(\"Science\")\n",
        "elif (science >=60 and maths >=60 and english >=60) and (science <75 and maths <75 and english <75):\n",
        "  print(\"Commerce\")\n",
        "elif(science <60 and maths <60 and english <60):\n",
        "  print(\"Humanities\")"
      ],
      "metadata": {
        "colab": {
          "base_uri": "https://localhost:8080/"
        },
        "id": "q1E5RZlGQcP5",
        "outputId": "e6284d12-c0b4-4105-dba1-7e3d2ed28417"
      },
      "execution_count": null,
      "outputs": [
        {
          "output_type": "stream",
          "name": "stdout",
          "text": [
            "Enter science marks 30\n",
            "Enter english marks 40\n",
            "Enter maths marks 50\n",
            "Humanities\n"
          ]
        }
      ]
    },
    {
      "cell_type": "code",
      "source": [
        "science = int(input(\"Enter science marks \"))\n",
        "english = int(input(\"Enter english marks \"))\n",
        "maths = int(input(\"Enter maths marks \"))\n",
        "\n",
        "#Always give meaningful names to your variables\n",
        "\n",
        "\n",
        "if (science > 90) or (science >=75 and maths >=75 and english >=75):\n",
        "  print(\"Science\")\n",
        "# elif (science >=60 and maths >=60 and english >=60) and (science <75 and maths <75 and english <75):\n",
        "#   print(\"Commerce\")\n",
        "\n",
        "elif ( 60 <= science < 75 and 60 <= maths < 75 and 60 <=  english < 75):\n",
        "  print(\"Commerce\")\n",
        "  \n",
        "elif(science <60 and maths <60 and english <60):\n",
        "  print(\"Humanities\")"
      ],
      "metadata": {
        "colab": {
          "base_uri": "https://localhost:8080/"
        },
        "id": "14k0TSrIRTQV",
        "outputId": "0bf44b73-d20a-4fa4-878b-eb7451a6477c"
      },
      "execution_count": null,
      "outputs": [
        {
          "output_type": "stream",
          "name": "stdout",
          "text": [
            "Enter science marks 65\n",
            "Enter english marks 65\n",
            "Enter maths marks 65\n",
            "Commerce\n"
          ]
        }
      ]
    },
    {
      "cell_type": "code",
      "source": [
        "science = int(input(\"Enter science marks \"))\n",
        "english = int(input(\"Enter english marks \"))\n",
        "maths = int(input(\"Enter maths marks \"))\n",
        "\n",
        "#Always give meaningful names to your variables\n",
        "\n",
        "\n",
        "if (science > 90) or (science >=75 and maths >=75 and english >=75):\n",
        "  print(\"Science\")\n",
        "# elif (science >=60 and maths >=60 and english >=60) and (science <75 and maths <75 and english <75):\n",
        "#   print(\"Commerce\")\n",
        "\n",
        "elif ( 60 <= science < 75 and 60 <= maths < 75 and 60 <=  english < 75):\n",
        "  print(\"Commerce\")\n",
        "  \n",
        "elif(science <60 and maths <60 and english <60):\n",
        "  print(\"Humanities\")"
      ],
      "metadata": {
        "id": "0_PSFXckRsg4"
      },
      "execution_count": null,
      "outputs": []
    },
    {
      "cell_type": "markdown",
      "source": [
        "Build a meter system for an auto. Take into two inputs. Kilometers Travelled and Stall Time (in minutes). Rate List -\n",
        "\n",
        "- First 10 kms - Rs 10 per Km\n",
        "- Next 40 kms - Rs 9 per Km\n",
        "- Next 100 kms - Rs 8 per Km\n",
        "- Any leftover km count - Rs. 6 per Km\n",
        "- Rs 5 extra for every minute of Stall Time\n",
        "\n",
        "\n",
        "print the final fare \n"
      ],
      "metadata": {
        "id": "HT56EadYSFji"
      }
    },
    {
      "cell_type": "markdown",
      "source": [
        "Generate electricity bill using the following rate card. Take units consumed as input -\n",
        "- If < 100 units -> Free\n",
        "- If >= 100 units and < 200 units -> Rs 2 per unit\n",
        "- If >= 200 units -> Rs 5 per unit\n",
        "\n",
        "\n",
        "print the final amount"
      ],
      "metadata": {
        "id": "79CHyBpHSLlx"
      }
    },
    {
      "cell_type": "code",
      "source": [
        "\n"
      ],
      "metadata": {
        "id": "bRPJzqZiSJMc"
      },
      "execution_count": null,
      "outputs": []
    }
  ]
}