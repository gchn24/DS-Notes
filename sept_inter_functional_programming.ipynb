{
  "nbformat": 4,
  "nbformat_minor": 0,
  "metadata": {
    "colab": {
      "provenance": [],
      "include_colab_link": true
    },
    "kernelspec": {
      "name": "python3",
      "display_name": "Python 3"
    },
    "language_info": {
      "name": "python"
    }
  },
  "cells": [
    {
      "cell_type": "markdown",
      "metadata": {
        "id": "view-in-github",
        "colab_type": "text"
      },
      "source": [
        "<a href=\"https://colab.research.google.com/github/gchn24/DS-Notes/blob/main/sept_inter_functional_programming.ipynb\" target=\"_parent\"><img src=\"https://colab.research.google.com/assets/colab-badge.svg\" alt=\"Open In Colab\"/></a>"
      ]
    },
    {
      "cell_type": "code",
      "execution_count": null,
      "metadata": {
        "id": "jLDwwC8TT93x"
      },
      "outputs": [],
      "source": [
        "# 1\n",
        "class A:\n",
        "    print(\"Am I a class?\")\n",
        "\n",
        "A()\n",
        "\n",
        "obj1 = A()\n",
        "\n",
        "if A():\n",
        "    print(A())"
      ]
    },
    {
      "cell_type": "code",
      "source": [
        "A()"
      ],
      "metadata": {
        "id": "67VJFUFoVNWY"
      },
      "execution_count": null,
      "outputs": []
    },
    {
      "cell_type": "code",
      "source": [
        "# 2\n",
        "class Student:\n",
        "    def __init__(random, id, age):\n",
        "        random.id = id\n",
        "        random.age = age\n",
        "\n",
        "s1 = Student(1, 5000)"
      ],
      "metadata": {
        "id": "nx0WHGosVr-S"
      },
      "execution_count": null,
      "outputs": []
    },
    {
      "cell_type": "code",
      "source": [
        "A. s1 is an instance of Student\n",
        "B. id and age are parameters\n",
        "C. random is a reference to s1\n",
        "D. It is mandatory to define an __init__ dunder"
      ],
      "metadata": {
        "id": "TvSBbYntWBgX"
      },
      "execution_count": null,
      "outputs": []
    },
    {
      "cell_type": "code",
      "source": [
        "class A():\n",
        "  pass\n",
        "\n",
        "a = A()"
      ],
      "metadata": {
        "id": "d00ptyPxWfno"
      },
      "execution_count": null,
      "outputs": []
    },
    {
      "cell_type": "code",
      "source": [
        "#3. What would be the output of the following code?\n",
        "\n",
        "class A: \n",
        "  def __init__(self, name): \n",
        "    self.name = name \n",
        "\n",
        "a1 = A(\"Bunty\") \n",
        "a2 = A(\"Babli\")\n",
        "\n",
        "print(id(a1) == id(a2)) "
      ],
      "metadata": {
        "colab": {
          "base_uri": "https://localhost:8080/"
        },
        "id": "YzYm1oN5WiIS",
        "outputId": "7dcf1f0a-a128-4bac-eca5-829d7602eb2f"
      },
      "execution_count": null,
      "outputs": [
        {
          "output_type": "stream",
          "name": "stdout",
          "text": [
            "False\n"
          ]
        }
      ]
    },
    {
      "cell_type": "code",
      "source": [
        "# What would be the output of the following?\n",
        "\n",
        "class Counter:\n",
        "    def __init__(self):\n",
        "        self.count=5\n",
        "        self.count= count+1\n",
        "\n",
        "c = Counter()\n",
        "print(c.count)"
      ],
      "metadata": {
        "colab": {
          "base_uri": "https://localhost:8080/",
          "height": 349
        },
        "id": "s31tIuHLXZij",
        "outputId": "741e8af0-601a-4fc0-b187-0c212fbfef4d"
      },
      "execution_count": null,
      "outputs": [
        {
          "output_type": "error",
          "ename": "NameError",
          "evalue": "ignored",
          "traceback": [
            "\u001b[0;31m---------------------------------------------------------------------------\u001b[0m",
            "\u001b[0;31mNameError\u001b[0m                                 Traceback (most recent call last)",
            "\u001b[0;32m<ipython-input-7-3a69bfa53cb1>\u001b[0m in \u001b[0;36m<module>\u001b[0;34m\u001b[0m\n\u001b[1;32m      6\u001b[0m         \u001b[0mself\u001b[0m\u001b[0;34m.\u001b[0m\u001b[0mcount\u001b[0m\u001b[0;34m=\u001b[0m \u001b[0mcount\u001b[0m\u001b[0;34m+\u001b[0m\u001b[0;36m1\u001b[0m\u001b[0;34m\u001b[0m\u001b[0;34m\u001b[0m\u001b[0m\n\u001b[1;32m      7\u001b[0m \u001b[0;34m\u001b[0m\u001b[0m\n\u001b[0;32m----> 8\u001b[0;31m \u001b[0mc\u001b[0m \u001b[0;34m=\u001b[0m \u001b[0mCounter\u001b[0m\u001b[0;34m(\u001b[0m\u001b[0;34m)\u001b[0m\u001b[0;34m\u001b[0m\u001b[0;34m\u001b[0m\u001b[0m\n\u001b[0m\u001b[1;32m      9\u001b[0m \u001b[0mprint\u001b[0m\u001b[0;34m(\u001b[0m\u001b[0mc\u001b[0m\u001b[0;34m.\u001b[0m\u001b[0mcount\u001b[0m\u001b[0;34m)\u001b[0m\u001b[0;34m\u001b[0m\u001b[0;34m\u001b[0m\u001b[0m\n",
            "\u001b[0;32m<ipython-input-7-3a69bfa53cb1>\u001b[0m in \u001b[0;36m__init__\u001b[0;34m(self)\u001b[0m\n\u001b[1;32m      4\u001b[0m     \u001b[0;32mdef\u001b[0m \u001b[0m__init__\u001b[0m\u001b[0;34m(\u001b[0m\u001b[0mself\u001b[0m\u001b[0;34m)\u001b[0m\u001b[0;34m:\u001b[0m\u001b[0;34m\u001b[0m\u001b[0;34m\u001b[0m\u001b[0m\n\u001b[1;32m      5\u001b[0m         \u001b[0mself\u001b[0m\u001b[0;34m.\u001b[0m\u001b[0mcount\u001b[0m\u001b[0;34m=\u001b[0m\u001b[0;36m5\u001b[0m\u001b[0;34m\u001b[0m\u001b[0;34m\u001b[0m\u001b[0m\n\u001b[0;32m----> 6\u001b[0;31m         \u001b[0mself\u001b[0m\u001b[0;34m.\u001b[0m\u001b[0mcount\u001b[0m\u001b[0;34m=\u001b[0m \u001b[0mcount\u001b[0m\u001b[0;34m+\u001b[0m\u001b[0;36m1\u001b[0m\u001b[0;34m\u001b[0m\u001b[0;34m\u001b[0m\u001b[0m\n\u001b[0m\u001b[1;32m      7\u001b[0m \u001b[0;34m\u001b[0m\u001b[0m\n\u001b[1;32m      8\u001b[0m \u001b[0mc\u001b[0m \u001b[0;34m=\u001b[0m \u001b[0mCounter\u001b[0m\u001b[0;34m(\u001b[0m\u001b[0;34m)\u001b[0m\u001b[0;34m\u001b[0m\u001b[0;34m\u001b[0m\u001b[0m\n",
            "\u001b[0;31mNameError\u001b[0m: name 'count' is not defined"
          ]
        }
      ]
    },
    {
      "cell_type": "code",
      "source": [
        "# What would be the output of the following?\n",
        "\n",
        "class Counter:\n",
        "    def __init__(self):\n",
        "        self.count=5\n",
        "        self.count= self.count+1\n",
        "\n",
        "c = Counter()\n",
        "print(c.count)"
      ],
      "metadata": {
        "colab": {
          "base_uri": "https://localhost:8080/"
        },
        "id": "qnr1UPqYXt8a",
        "outputId": "e9553d29-21d1-47f6-f89d-82748976f3e7"
      },
      "execution_count": null,
      "outputs": [
        {
          "output_type": "stream",
          "name": "stdout",
          "text": [
            "6\n"
          ]
        }
      ]
    },
    {
      "cell_type": "code",
      "source": [
        "# What would be the output of the following?\n",
        "\n",
        "class Random:\n",
        "    def __init__(self, a = \"Is it possible?\"):\n",
        "        self.a = a\n",
        " \n",
        "    def display(self):\n",
        "        print(self.a)\n",
        "        \n",
        "r = Random()\n",
        "r.display()"
      ],
      "metadata": {
        "colab": {
          "base_uri": "https://localhost:8080/"
        },
        "id": "v3hRCdlVYPVE",
        "outputId": "5af1e7e7-e747-4479-d149-320709c529cf"
      },
      "execution_count": null,
      "outputs": [
        {
          "output_type": "stream",
          "name": "stdout",
          "text": [
            "Is it possible?\n"
          ]
        }
      ]
    },
    {
      "cell_type": "code",
      "source": [
        "# What would be the output of the following?\n",
        "\n",
        "class Random:\n",
        "    def __init__(self, a = \"Is it possible?\"):\n",
        "        self.a = a\n",
        " \n",
        "    def display(self):\n",
        "        print(self.a)\n",
        "        \n",
        "r = Random(\"AJ\")\n",
        "r.display()"
      ],
      "metadata": {
        "colab": {
          "base_uri": "https://localhost:8080/"
        },
        "id": "9q-_dJNOZRrK",
        "outputId": "f31f8b85-9974-410b-8c69-b8275bcd62e5"
      },
      "execution_count": null,
      "outputs": [
        {
          "output_type": "stream",
          "name": "stdout",
          "text": [
            "AJ\n"
          ]
        }
      ]
    },
    {
      "cell_type": "code",
      "source": [
        "#instantiation"
      ],
      "metadata": {
        "id": "VSnM9X5gZpwA"
      },
      "execution_count": null,
      "outputs": []
    },
    {
      "cell_type": "code",
      "source": [
        "# Which of the following code pieces would create an empty class in python?\n",
        "\n",
        "if True:\n",
        "  pass"
      ],
      "metadata": {
        "id": "qOdO32QjbEem"
      },
      "execution_count": null,
      "outputs": []
    },
    {
      "cell_type": "code",
      "source": [
        "#empty class\n",
        "\n",
        "class A:\n",
        "  pass"
      ],
      "metadata": {
        "id": "8QyFlLE7bVtu"
      },
      "execution_count": null,
      "outputs": []
    },
    {
      "cell_type": "code",
      "source": [
        "# What would be the output of the following?\n",
        "\n",
        "class A:\n",
        "    def do_something(self):\n",
        "        print(\"I do something!\")\n",
        "\n",
        "class B(A): #B is a child of the class A\n",
        "    def do_something(self):\n",
        "        super().do_something()\n",
        "        print(\"I also do something!\")\n",
        "\n",
        "b = B()\n",
        "b.do_something()\n",
        "\n",
        "#MRO - Method Resolution Order"
      ],
      "metadata": {
        "colab": {
          "base_uri": "https://localhost:8080/"
        },
        "id": "IGKpE0Pcbhda",
        "outputId": "9445bd0f-1c97-4a2e-968e-256b27da9748"
      },
      "execution_count": null,
      "outputs": [
        {
          "output_type": "stream",
          "name": "stdout",
          "text": [
            "I do something!\n",
            "I also do something!\n"
          ]
        }
      ]
    },
    {
      "cell_type": "code",
      "source": [
        "#Functional Programming"
      ],
      "metadata": {
        "id": "SjlMALqGcZ-B"
      },
      "execution_count": null,
      "outputs": []
    },
    {
      "cell_type": "code",
      "source": [
        "def square_number(a):\n",
        "  return a**2"
      ],
      "metadata": {
        "id": "WlMDrl1OgQZP"
      },
      "execution_count": null,
      "outputs": []
    },
    {
      "cell_type": "code",
      "source": [
        "print(square_number(3))"
      ],
      "metadata": {
        "colab": {
          "base_uri": "https://localhost:8080/"
        },
        "id": "fv1aK6h3gYgE",
        "outputId": "0b4ed309-e9b2-4650-f059-402f99e929ca"
      },
      "execution_count": null,
      "outputs": [
        {
          "output_type": "stream",
          "name": "stdout",
          "text": [
            "9\n"
          ]
        }
      ]
    },
    {
      "cell_type": "code",
      "source": [
        "square = lambda x: x**2\n",
        "\n",
        "square(4)\n",
        "square(5)"
      ],
      "metadata": {
        "colab": {
          "base_uri": "https://localhost:8080/"
        },
        "id": "eimr4swlge9C",
        "outputId": "b6a30b27-d6e9-4a02-e00e-d973a33b67f5"
      },
      "execution_count": null,
      "outputs": [
        {
          "output_type": "execute_result",
          "data": {
            "text/plain": [
              "25"
            ]
          },
          "metadata": {},
          "execution_count": 18
        }
      ]
    },
    {
      "cell_type": "code",
      "source": [
        "power = lambda a,b: a**b"
      ],
      "metadata": {
        "id": "k45TXu8Shtml"
      },
      "execution_count": null,
      "outputs": []
    },
    {
      "cell_type": "code",
      "source": [
        "power(2,3)"
      ],
      "metadata": {
        "colab": {
          "base_uri": "https://localhost:8080/"
        },
        "id": "E-3O68YOiAhL",
        "outputId": "000ff815-6727-4709-98a7-1cbb5f0895c0"
      },
      "execution_count": null,
      "outputs": [
        {
          "output_type": "execute_result",
          "data": {
            "text/plain": [
              "8"
            ]
          },
          "metadata": {},
          "execution_count": 20
        }
      ]
    },
    {
      "cell_type": "code",
      "source": [
        "sum = lambda a,b,c: a+b+c\n",
        "\n",
        "sum(1,4,2)"
      ],
      "metadata": {
        "colab": {
          "base_uri": "https://localhost:8080/"
        },
        "id": "PujgCStmiDwE",
        "outputId": "eb321d69-6a42-44e2-d803-e771d5f093a5"
      },
      "execution_count": null,
      "outputs": [
        {
          "output_type": "execute_result",
          "data": {
            "text/plain": [
              "7"
            ]
          },
          "metadata": {},
          "execution_count": 21
        }
      ]
    },
    {
      "cell_type": "code",
      "source": [
        "#Lamda functions arae also known as anonymous functions\n",
        "\n",
        "(lambda x: x**2)(5)"
      ],
      "metadata": {
        "colab": {
          "base_uri": "https://localhost:8080/"
        },
        "id": "aesDJubViKkc",
        "outputId": "f32c1dfb-1192-4a19-e55d-65873816d9f9"
      },
      "execution_count": null,
      "outputs": [
        {
          "output_type": "execute_result",
          "data": {
            "text/plain": [
              "25"
            ]
          },
          "metadata": {},
          "execution_count": 22
        }
      ]
    },
    {
      "cell_type": "code",
      "source": [
        "(lambda a,b: a**b)(3,2)"
      ],
      "metadata": {
        "colab": {
          "base_uri": "https://localhost:8080/"
        },
        "id": "jSOgrtSZif31",
        "outputId": "6826e4bf-7064-4947-b0bf-89ffe5dafd77"
      },
      "execution_count": null,
      "outputs": [
        {
          "output_type": "execute_result",
          "data": {
            "text/plain": [
              "9"
            ]
          },
          "metadata": {},
          "execution_count": 23
        }
      ]
    },
    {
      "cell_type": "code",
      "source": [
        "# if condition:\n",
        "#   x\n",
        "# else:\n",
        "#   y"
      ],
      "metadata": {
        "id": "kApHI_6dipgG"
      },
      "execution_count": null,
      "outputs": []
    },
    {
      "cell_type": "code",
      "source": [
        "check = lambda x: x if x>5 else 0"
      ],
      "metadata": {
        "id": "amJIm-vcixYL"
      },
      "execution_count": null,
      "outputs": []
    },
    {
      "cell_type": "code",
      "source": [
        "check(3)"
      ],
      "metadata": {
        "colab": {
          "base_uri": "https://localhost:8080/"
        },
        "id": "sfGC910ajA0S",
        "outputId": "f36d4231-e179-4ea7-a525-f532b858868d"
      },
      "execution_count": null,
      "outputs": [
        {
          "output_type": "execute_result",
          "data": {
            "text/plain": [
              "0"
            ]
          },
          "metadata": {},
          "execution_count": 25
        }
      ]
    },
    {
      "cell_type": "code",
      "source": [
        "check(6)"
      ],
      "metadata": {
        "colab": {
          "base_uri": "https://localhost:8080/"
        },
        "id": "5EICF1u-jB7y",
        "outputId": "42641786-2c03-4c96-d386-7387fe5e28c5"
      },
      "execution_count": null,
      "outputs": [
        {
          "output_type": "execute_result",
          "data": {
            "text/plain": [
              "6"
            ]
          },
          "metadata": {},
          "execution_count": 26
        }
      ]
    },
    {
      "cell_type": "code",
      "source": [
        "# x if condition else y --> Ternary operator"
      ],
      "metadata": {
        "id": "kiMw9n2qjDp_"
      },
      "execution_count": null,
      "outputs": []
    },
    {
      "cell_type": "code",
      "source": [
        "#imp usecase of lambda functions"
      ],
      "metadata": {
        "id": "RsLk5yrIjXCG"
      },
      "execution_count": null,
      "outputs": []
    },
    {
      "cell_type": "code",
      "source": [
        "a = [1,5,7,8,0,2,3,5]\n",
        "sorted_a = sorted(a)"
      ],
      "metadata": {
        "id": "9hV98ouDjZSH"
      },
      "execution_count": null,
      "outputs": []
    },
    {
      "cell_type": "code",
      "source": [
        "print(a)"
      ],
      "metadata": {
        "colab": {
          "base_uri": "https://localhost:8080/"
        },
        "id": "b_ZH3OKpje1X",
        "outputId": "83c20031-1121-47dd-87a6-dbd71d7b6a47"
      },
      "execution_count": null,
      "outputs": [
        {
          "output_type": "stream",
          "name": "stdout",
          "text": [
            "[1, 5, 7, 8, 0, 2, 3, 5]\n"
          ]
        }
      ]
    },
    {
      "cell_type": "code",
      "source": [
        "print(sorted_a)"
      ],
      "metadata": {
        "colab": {
          "base_uri": "https://localhost:8080/"
        },
        "id": "M8fCGwfZjiT2",
        "outputId": "b630f023-6f48-4112-b41e-c133d4f513d9"
      },
      "execution_count": null,
      "outputs": [
        {
          "output_type": "stream",
          "name": "stdout",
          "text": [
            "[0, 1, 2, 3, 5, 5, 7, 8]\n"
          ]
        }
      ]
    },
    {
      "cell_type": "code",
      "source": [
        "#usecase\n",
        "\n",
        "students = [\n",
        "    {\"name\": \"E\" , \"marks\" : 50},\n",
        "    {\"name\": \"B\" , \"marks\" : 100},\n",
        "    {\"name\": \"A\" , \"marks\" : 88},\n",
        "    {\"name\": \"D\" , \"marks\" : 24},\n",
        "    {\"name\": \"C\" , \"marks\" : 5},\n",
        "\n",
        "]"
      ],
      "metadata": {
        "id": "I6tYEErYjjcq"
      },
      "execution_count": null,
      "outputs": []
    },
    {
      "cell_type": "code",
      "source": [
        "type(students)"
      ],
      "metadata": {
        "colab": {
          "base_uri": "https://localhost:8080/"
        },
        "id": "Issh93W-j9rL",
        "outputId": "d7e3fefb-c1fa-4952-f456-3210498f1905"
      },
      "execution_count": null,
      "outputs": [
        {
          "output_type": "execute_result",
          "data": {
            "text/plain": [
              "list"
            ]
          },
          "metadata": {},
          "execution_count": 32
        }
      ]
    },
    {
      "cell_type": "code",
      "source": [
        "type(students[1])"
      ],
      "metadata": {
        "colab": {
          "base_uri": "https://localhost:8080/"
        },
        "id": "tvC5YhjqkBR5",
        "outputId": "1f2a407d-aadd-45c8-bfdb-736ef18083c4"
      },
      "execution_count": null,
      "outputs": [
        {
          "output_type": "execute_result",
          "data": {
            "text/plain": [
              "dict"
            ]
          },
          "metadata": {},
          "execution_count": 33
        }
      ]
    },
    {
      "cell_type": "code",
      "source": [
        "students[0] > students[1]"
      ],
      "metadata": {
        "colab": {
          "base_uri": "https://localhost:8080/",
          "height": 170
        },
        "id": "HhWjL_rykE14",
        "outputId": "6db2ae95-6b50-4096-e637-7ccfbc9d7b86"
      },
      "execution_count": null,
      "outputs": [
        {
          "output_type": "error",
          "ename": "TypeError",
          "evalue": "ignored",
          "traceback": [
            "\u001b[0;31m---------------------------------------------------------------------------\u001b[0m",
            "\u001b[0;31mTypeError\u001b[0m                                 Traceback (most recent call last)",
            "\u001b[0;32m<ipython-input-34-f910ab6ef498>\u001b[0m in \u001b[0;36m<module>\u001b[0;34m\u001b[0m\n\u001b[0;32m----> 1\u001b[0;31m \u001b[0mstudents\u001b[0m\u001b[0;34m[\u001b[0m\u001b[0;36m0\u001b[0m\u001b[0;34m]\u001b[0m \u001b[0;34m>\u001b[0m \u001b[0mstudents\u001b[0m\u001b[0;34m[\u001b[0m\u001b[0;36m1\u001b[0m\u001b[0;34m]\u001b[0m\u001b[0;34m\u001b[0m\u001b[0;34m\u001b[0m\u001b[0m\n\u001b[0m",
            "\u001b[0;31mTypeError\u001b[0m: '>' not supported between instances of 'dict' and 'dict'"
          ]
        }
      ]
    },
    {
      "cell_type": "code",
      "source": [
        "#sort the students data in increasing order of their marks\n",
        "\n",
        "sorted?"
      ],
      "metadata": {
        "id": "uUwCvw1ekM3q"
      },
      "execution_count": null,
      "outputs": []
    },
    {
      "cell_type": "code",
      "source": [
        "students"
      ],
      "metadata": {
        "colab": {
          "base_uri": "https://localhost:8080/"
        },
        "id": "9f4LI9dElIpu",
        "outputId": "febeecb1-ecc4-49cd-c26a-64ff87aaaede"
      },
      "execution_count": null,
      "outputs": [
        {
          "output_type": "execute_result",
          "data": {
            "text/plain": [
              "[{'name': 'A', 'marks': 50},\n",
              " {'name': 'B', 'marks': 100},\n",
              " {'name': 'C', 'marks': 88},\n",
              " {'name': 'D', 'marks': 24},\n",
              " {'name': 'E', 'marks': 5}]"
            ]
          },
          "metadata": {},
          "execution_count": 37
        }
      ]
    },
    {
      "cell_type": "code",
      "source": [
        "get_value = lambda x: x[\"marks\"]"
      ],
      "metadata": {
        "id": "8n2j_uWHlb0Q"
      },
      "execution_count": null,
      "outputs": []
    },
    {
      "cell_type": "code",
      "source": [
        "get_value(students[0])"
      ],
      "metadata": {
        "colab": {
          "base_uri": "https://localhost:8080/"
        },
        "id": "Wcwtx7T-klk5",
        "outputId": "2d761615-3788-4c44-e8c2-b75c93f11936"
      },
      "execution_count": null,
      "outputs": [
        {
          "output_type": "execute_result",
          "data": {
            "text/plain": [
              "50"
            ]
          },
          "metadata": {},
          "execution_count": 38
        }
      ]
    },
    {
      "cell_type": "code",
      "source": [
        "get_value(students[3])"
      ],
      "metadata": {
        "colab": {
          "base_uri": "https://localhost:8080/"
        },
        "id": "rKMppm7SlxME",
        "outputId": "829dafa7-edad-4c99-ea81-986848264e46"
      },
      "execution_count": null,
      "outputs": [
        {
          "output_type": "execute_result",
          "data": {
            "text/plain": [
              "24"
            ]
          },
          "metadata": {},
          "execution_count": 39
        }
      ]
    },
    {
      "cell_type": "code",
      "source": [
        "def get_val(x):\n",
        "  return x[\"marks\"]\n",
        "\n",
        "\n",
        "print(get_val(students[0]))"
      ],
      "metadata": {
        "colab": {
          "base_uri": "https://localhost:8080/"
        },
        "id": "Vmb5XW91l6Z8",
        "outputId": "662a482f-1c6e-4d94-d66e-a957eb2cda23"
      },
      "execution_count": null,
      "outputs": [
        {
          "output_type": "stream",
          "name": "stdout",
          "text": [
            "50\n"
          ]
        }
      ]
    },
    {
      "cell_type": "code",
      "source": [],
      "metadata": {
        "id": "kqu_qnegmIJA"
      },
      "execution_count": null,
      "outputs": []
    },
    {
      "cell_type": "code",
      "source": [
        "print(get_val(students[0]))"
      ],
      "metadata": {
        "colab": {
          "base_uri": "https://localhost:8080/"
        },
        "id": "bfodjtwgmZOi",
        "outputId": "fbbe94c3-5c95-4ef1-dec7-8670c08b527e"
      },
      "execution_count": null,
      "outputs": [
        {
          "output_type": "stream",
          "name": "stdout",
          "text": [
            "50\n"
          ]
        }
      ]
    },
    {
      "cell_type": "code",
      "source": [
        "get_val(students[0]) > get_val(students[1])"
      ],
      "metadata": {
        "colab": {
          "base_uri": "https://localhost:8080/"
        },
        "id": "z5pFw4W0mcfg",
        "outputId": "59cdf5f7-ebcd-4e83-d02c-d1e96079f507"
      },
      "execution_count": null,
      "outputs": [
        {
          "output_type": "execute_result",
          "data": {
            "text/plain": [
              "False"
            ]
          },
          "metadata": {},
          "execution_count": 44
        }
      ]
    },
    {
      "cell_type": "code",
      "source": [
        "get_val = lambda x: x[\"marks\"]"
      ],
      "metadata": {
        "id": "PcCkXyQsnFVR"
      },
      "execution_count": null,
      "outputs": []
    },
    {
      "cell_type": "code",
      "source": [
        "sorted(students, key = get_val)"
      ],
      "metadata": {
        "colab": {
          "base_uri": "https://localhost:8080/"
        },
        "id": "ZS6U2RkrmmYG",
        "outputId": "ced90a66-8e8a-472b-a634-177eef12e9b7"
      },
      "execution_count": null,
      "outputs": [
        {
          "output_type": "execute_result",
          "data": {
            "text/plain": [
              "[{'name': 'C', 'marks': 5},\n",
              " {'name': 'D', 'marks': 24},\n",
              " {'name': 'E', 'marks': 50},\n",
              " {'name': 'A', 'marks': 88},\n",
              " {'name': 'B', 'marks': 100}]"
            ]
          },
          "metadata": {},
          "execution_count": 51
        }
      ]
    },
    {
      "cell_type": "code",
      "source": [
        "get_val2 =  lambda x: x[\"name\"]"
      ],
      "metadata": {
        "id": "jRM8RnRRmwOP"
      },
      "execution_count": null,
      "outputs": []
    },
    {
      "cell_type": "code",
      "source": [
        "sorted(students, key = get_val2)"
      ],
      "metadata": {
        "colab": {
          "base_uri": "https://localhost:8080/"
        },
        "id": "7Bq92Tk-nG07",
        "outputId": "da0a6a33-aa5e-4c68-f459-702188b409bf"
      },
      "execution_count": null,
      "outputs": [
        {
          "output_type": "execute_result",
          "data": {
            "text/plain": [
              "[{'name': 'A', 'marks': 88},\n",
              " {'name': 'B', 'marks': 100},\n",
              " {'name': 'C', 'marks': 5},\n",
              " {'name': 'D', 'marks': 24},\n",
              " {'name': 'E', 'marks': 50}]"
            ]
          },
          "metadata": {},
          "execution_count": 53
        }
      ]
    },
    {
      "cell_type": "code",
      "source": [
        "#HW - 1. to read about how the sorted function is making use of lambda in depth - 30 mins\n",
        "# 2- try to re-write the standard sorting functions- selection, bubble, for this custom data"
      ],
      "metadata": {
        "id": "N4J-cIvFnIbD"
      },
      "execution_count": null,
      "outputs": []
    },
    {
      "cell_type": "code",
      "source": [
        "#Higher order functions"
      ],
      "metadata": {
        "id": "Pz0aJpqfph8O"
      },
      "execution_count": null,
      "outputs": []
    },
    {
      "cell_type": "code",
      "source": [
        "def gen_exp(n):\n",
        "\n",
        "  def exp(x):\n",
        "    return x**n\n",
        "\n",
        "  return exp"
      ],
      "metadata": {
        "id": "qLGvV4KZpjU8"
      },
      "execution_count": null,
      "outputs": []
    },
    {
      "cell_type": "code",
      "source": [
        "gen_5 = gen_exp(5)"
      ],
      "metadata": {
        "id": "fU1ugHecpyNn"
      },
      "execution_count": null,
      "outputs": []
    },
    {
      "cell_type": "code",
      "source": [
        "gen_5(2)"
      ],
      "metadata": {
        "colab": {
          "base_uri": "https://localhost:8080/"
        },
        "id": "HUdmdC4ep22C",
        "outputId": "358e0120-215a-498f-92d5-55fc63238589"
      },
      "execution_count": null,
      "outputs": [
        {
          "output_type": "execute_result",
          "data": {
            "text/plain": [
              "32"
            ]
          },
          "metadata": {},
          "execution_count": 57
        }
      ]
    },
    {
      "cell_type": "code",
      "source": [
        "gen_5"
      ],
      "metadata": {
        "colab": {
          "base_uri": "https://localhost:8080/"
        },
        "id": "2pqcAdIwqApr",
        "outputId": "6a8d63b2-b652-43b6-a24b-6655224da6e1"
      },
      "execution_count": null,
      "outputs": [
        {
          "output_type": "execute_result",
          "data": {
            "text/plain": [
              "<function __main__.gen_exp.<locals>.exp(x)>"
            ]
          },
          "metadata": {},
          "execution_count": 58
        }
      ]
    },
    {
      "cell_type": "code",
      "source": [
        "def gen_exp(n):\n",
        "\n",
        "  def exp(x):\n",
        "    return x**n\n",
        "\n",
        "  return exp"
      ],
      "metadata": {
        "id": "14tldxDuqDd4"
      },
      "execution_count": null,
      "outputs": []
    },
    {
      "cell_type": "code",
      "source": [
        "aj_mtd = gen_exp(3)\n",
        "\n",
        "aj_mtd(4)"
      ],
      "metadata": {
        "colab": {
          "base_uri": "https://localhost:8080/"
        },
        "id": "8zc0UahgqJQw",
        "outputId": "7439f92f-30da-4531-b608-6314d2255df7"
      },
      "execution_count": null,
      "outputs": [
        {
          "output_type": "execute_result",
          "data": {
            "text/plain": [
              "64"
            ]
          },
          "metadata": {},
          "execution_count": 62
        }
      ]
    },
    {
      "cell_type": "code",
      "source": [
        "#Decorators"
      ],
      "metadata": {
        "id": "kCILZRCBqVnx"
      },
      "execution_count": null,
      "outputs": []
    },
    {
      "cell_type": "code",
      "source": [
        "'''\n",
        "Higher order functions that takes another function as input and add the extra behaiour along with the funcitonality of \n",
        "passed function\n",
        "'''"
      ],
      "metadata": {
        "id": "_d3wP2pRqrFr"
      },
      "execution_count": null,
      "outputs": []
    },
    {
      "cell_type": "code",
      "source": [
        "def foo():\n",
        "  print(\"Hello everyone!!\")\n",
        "\n",
        "def bar():\n",
        "  print(\"Random stuff!!\")"
      ],
      "metadata": {
        "id": "gG5NbJwErI1-"
      },
      "execution_count": null,
      "outputs": []
    },
    {
      "cell_type": "code",
      "source": [
        "foo()"
      ],
      "metadata": {
        "colab": {
          "base_uri": "https://localhost:8080/"
        },
        "id": "-wog3rfsrRRK",
        "outputId": "509125ee-4324-4f75-820c-59cdf788ad9a"
      },
      "execution_count": null,
      "outputs": [
        {
          "output_type": "stream",
          "name": "stdout",
          "text": [
            "Hello everyone!!\n"
          ]
        }
      ]
    },
    {
      "cell_type": "code",
      "source": [
        "bar()"
      ],
      "metadata": {
        "colab": {
          "base_uri": "https://localhost:8080/"
        },
        "id": "rPY8pflGrSkh",
        "outputId": "8e71e5d0-8b91-46ff-ce31-494e6b8bf2bc"
      },
      "execution_count": null,
      "outputs": [
        {
          "output_type": "stream",
          "name": "stdout",
          "text": [
            "Random stuff!!\n"
          ]
        }
      ]
    },
    {
      "cell_type": "code",
      "source": [
        "def foo():\n",
        "  print(\"-\"*50)\n",
        "  print(\"Hello everyone!!\")\n",
        "  print(\"-\"*50)"
      ],
      "metadata": {
        "id": "JYrzSVoErThR"
      },
      "execution_count": null,
      "outputs": []
    },
    {
      "cell_type": "code",
      "source": [
        "foo()"
      ],
      "metadata": {
        "colab": {
          "base_uri": "https://localhost:8080/"
        },
        "id": "QaXiCWvzrm8k",
        "outputId": "cafe3d80-95dc-46ec-8316-7d078c101c90"
      },
      "execution_count": null,
      "outputs": [
        {
          "output_type": "stream",
          "name": "stdout",
          "text": [
            "--------------------------------------------------\n",
            "Hello everyone!!\n",
            "--------------------------------------------------\n"
          ]
        }
      ]
    },
    {
      "cell_type": "code",
      "source": [
        "def bar():\n",
        "  print(\"-\"*50)\n",
        "  print(\"Random stuff!!\")\n",
        "  print(\"-\"*50)"
      ],
      "metadata": {
        "id": "3GLOtzMSrnzZ"
      },
      "execution_count": null,
      "outputs": []
    },
    {
      "cell_type": "code",
      "source": [
        "bar()"
      ],
      "metadata": {
        "colab": {
          "base_uri": "https://localhost:8080/"
        },
        "id": "22uUHT1jry49",
        "outputId": "919090f2-df67-4c0d-e986-c01f684bcd88"
      },
      "execution_count": null,
      "outputs": [
        {
          "output_type": "stream",
          "name": "stdout",
          "text": [
            "--------------------------------------------------\n",
            "Random stuff!!\n",
            "--------------------------------------------------\n"
          ]
        }
      ]
    },
    {
      "cell_type": "code",
      "source": [
        "#A decorator accepts a function as an argument and returns a decorated function\n",
        "def pretty(func):\n",
        "\n",
        "  def inner():\n",
        "    print(\"*\"*50)\n",
        "    func()\n",
        "    print(\"-\"*50)\n",
        "\n",
        "  return inner"
      ],
      "metadata": {
        "id": "oiS0IuuPrz6n"
      },
      "execution_count": null,
      "outputs": []
    },
    {
      "cell_type": "code",
      "source": [
        "def foo():\n",
        "  print(\"Hello everyone!!\")\n",
        "\n",
        "def bar():\n",
        "  print(\"Random stuff!!\")"
      ],
      "metadata": {
        "id": "j3DkGW8isQOG"
      },
      "execution_count": null,
      "outputs": []
    },
    {
      "cell_type": "code",
      "source": [
        "decorated_foo = pretty(foo)"
      ],
      "metadata": {
        "id": "88C7JNJpsTx2"
      },
      "execution_count": null,
      "outputs": []
    },
    {
      "cell_type": "code",
      "source": [
        "decorated_foo()"
      ],
      "metadata": {
        "colab": {
          "base_uri": "https://localhost:8080/"
        },
        "id": "UswRaL9QsYdJ",
        "outputId": "6081260b-5d26-4707-d9cf-698275c251bb"
      },
      "execution_count": null,
      "outputs": [
        {
          "output_type": "stream",
          "name": "stdout",
          "text": [
            "**************************************************\n",
            "Hello everyone!!\n",
            "--------------------------------------------------\n"
          ]
        }
      ]
    },
    {
      "cell_type": "code",
      "source": [
        "decorated_bar = pretty(bar)"
      ],
      "metadata": {
        "id": "MBbyHGx8saKk"
      },
      "execution_count": null,
      "outputs": []
    },
    {
      "cell_type": "code",
      "source": [
        "decorated_bar()"
      ],
      "metadata": {
        "colab": {
          "base_uri": "https://localhost:8080/"
        },
        "id": "-mG1hXrssg26",
        "outputId": "84047a12-9207-4622-8a43-356030f47470"
      },
      "execution_count": null,
      "outputs": [
        {
          "output_type": "stream",
          "name": "stdout",
          "text": [
            "**************************************************\n",
            "Random stuff!!\n",
            "--------------------------------------------------\n"
          ]
        }
      ]
    },
    {
      "cell_type": "code",
      "source": [
        "#A decorator accepts a function as an argument and returns a decorated function\n",
        "def pretty(func):\n",
        "\n",
        "  def inner():\n",
        "    print(\"*\"*50)\n",
        "    func()\n",
        "    print(\"-\"*50)\n",
        "\n",
        "  return inner"
      ],
      "metadata": {
        "id": "4FWq1Gcvsiln"
      },
      "execution_count": null,
      "outputs": []
    },
    {
      "cell_type": "code",
      "source": [
        "@pretty\n",
        "def foo():\n",
        "  print(\"Hello everyone!!\")"
      ],
      "metadata": {
        "id": "LVEVtzo9tUdN"
      },
      "execution_count": null,
      "outputs": []
    },
    {
      "cell_type": "code",
      "source": [
        "foo()"
      ],
      "metadata": {
        "colab": {
          "base_uri": "https://localhost:8080/"
        },
        "id": "TWX0OiG9taW1",
        "outputId": "cb82c0df-8bcb-41c0-dc23-e68fbb15cf65"
      },
      "execution_count": null,
      "outputs": [
        {
          "output_type": "stream",
          "name": "stdout",
          "text": [
            "**************************************************\n",
            "Hello everyone!!\n",
            "--------------------------------------------------\n"
          ]
        }
      ]
    },
    {
      "cell_type": "code",
      "source": [
        "@pretty\n",
        "def aj_mtd():\n",
        "  print(\"You guys are really awwwwwwwwwwwwesome!!\")"
      ],
      "metadata": {
        "id": "QGzbmcJStbYx"
      },
      "execution_count": null,
      "outputs": []
    },
    {
      "cell_type": "code",
      "source": [
        "aj_mtd()"
      ],
      "metadata": {
        "colab": {
          "base_uri": "https://localhost:8080/"
        },
        "id": "ZABq3Igdtnl_",
        "outputId": "481fef5b-175a-4aa8-9cd1-f5490dffcc45"
      },
      "execution_count": null,
      "outputs": [
        {
          "output_type": "stream",
          "name": "stdout",
          "text": [
            "**************************************************\n",
            "You guys are really awwwwwwwwwwwwesome!!\n",
            "--------------------------------------------------\n"
          ]
        }
      ]
    },
    {
      "cell_type": "code",
      "source": [
        "@pretty\n",
        "def good_bye():\n",
        "  print(\"Thanks for attending, see in next session!!\")"
      ],
      "metadata": {
        "id": "VPpZtJ3Hto83"
      },
      "execution_count": null,
      "outputs": []
    },
    {
      "cell_type": "code",
      "source": [
        "good_bye()"
      ],
      "metadata": {
        "colab": {
          "base_uri": "https://localhost:8080/"
        },
        "id": "JrKbrGiztzFL",
        "outputId": "7c58b98a-94c5-432b-ba27-2ed22173621d"
      },
      "execution_count": null,
      "outputs": [
        {
          "output_type": "stream",
          "name": "stdout",
          "text": [
            "**************************************************\n",
            "Thanks for attending, see in next session!!\n",
            "--------------------------------------------------\n"
          ]
        }
      ]
    },
    {
      "cell_type": "code",
      "source": [],
      "metadata": {
        "id": "ZE5FVqYYtz4D"
      },
      "execution_count": null,
      "outputs": []
    }
  ]
}