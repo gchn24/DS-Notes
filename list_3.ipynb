{
  "nbformat": 4,
  "nbformat_minor": 0,
  "metadata": {
    "colab": {
      "provenance": [],
      "include_colab_link": true
    },
    "kernelspec": {
      "name": "python3",
      "display_name": "Python 3"
    },
    "language_info": {
      "name": "python"
    }
  },
  "cells": [
    {
      "cell_type": "markdown",
      "metadata": {
        "id": "view-in-github",
        "colab_type": "text"
      },
      "source": [
        "<a href=\"https://colab.research.google.com/github/gchn24/DS-Notes/blob/main/list_3.ipynb\" target=\"_parent\"><img src=\"https://colab.research.google.com/assets/colab-badge.svg\" alt=\"Open In Colab\"/></a>"
      ]
    },
    {
      "cell_type": "code",
      "execution_count": null,
      "metadata": {
        "colab": {
          "base_uri": "https://localhost:8080/"
        },
        "id": "LH6-N40d33V6",
        "outputId": "88b06f0f-504f-4fd9-8886-dd8bc4714d39"
      },
      "outputs": [
        {
          "output_type": "stream",
          "name": "stdout",
          "text": [
            "hello class\n"
          ]
        }
      ],
      "source": [
        "print(\"hello class\")"
      ]
    },
    {
      "cell_type": "code",
      "source": [
        "l = [2, 4, 5]"
      ],
      "metadata": {
        "id": "ENcQFhlj33zs"
      },
      "execution_count": null,
      "outputs": []
    },
    {
      "cell_type": "code",
      "source": [
        "for i in l:\n",
        "  print(i*i)"
      ],
      "metadata": {
        "colab": {
          "base_uri": "https://localhost:8080/"
        },
        "id": "LHaTAJST2hye",
        "outputId": "3086086e-3a54-4537-b77b-28a7334be90e"
      },
      "execution_count": null,
      "outputs": [
        {
          "output_type": "stream",
          "name": "stdout",
          "text": [
            "4\n",
            "16\n",
            "25\n"
          ]
        }
      ]
    },
    {
      "cell_type": "code",
      "source": [
        "for i in l:\n",
        "  print(i**2)"
      ],
      "metadata": {
        "colab": {
          "base_uri": "https://localhost:8080/"
        },
        "id": "ofF_RpJJ266l",
        "outputId": "d943a421-fa8d-4e7f-8545-915ba2611662"
      },
      "execution_count": null,
      "outputs": [
        {
          "output_type": "stream",
          "name": "stdout",
          "text": [
            "4\n",
            "16\n",
            "25\n"
          ]
        }
      ]
    },
    {
      "cell_type": "code",
      "source": [
        "b = []\n",
        "for i in l:\n",
        "  b.append(i*i)\n",
        "\n",
        "#try doing same using insert() - HW"
      ],
      "metadata": {
        "id": "ayW6aajl2_f6"
      },
      "execution_count": null,
      "outputs": []
    },
    {
      "cell_type": "code",
      "source": [
        "print(b)"
      ],
      "metadata": {
        "colab": {
          "base_uri": "https://localhost:8080/"
        },
        "id": "leP2ZmtG3jn8",
        "outputId": "7e001edf-f1aa-4503-aec3-d6a16739960f"
      },
      "execution_count": null,
      "outputs": [
        {
          "output_type": "stream",
          "name": "stdout",
          "text": [
            "[4, 16, 25]\n"
          ]
        }
      ]
    },
    {
      "cell_type": "code",
      "source": [
        "#taking list as input"
      ],
      "metadata": {
        "id": "3gFJQSwi3lna"
      },
      "execution_count": null,
      "outputs": []
    },
    {
      "cell_type": "code",
      "source": [
        "# N - number of \n",
        "# N space separated elements"
      ],
      "metadata": {
        "id": "lZ7Qzge44EFq"
      },
      "execution_count": null,
      "outputs": []
    },
    {
      "cell_type": "code",
      "source": [
        "n = int(input())\n",
        "l = input()"
      ],
      "metadata": {
        "colab": {
          "base_uri": "https://localhost:8080/"
        },
        "id": "0LYJcWUG4pzy",
        "outputId": "143424e0-8a2a-454b-9ad0-b04e19d89a6f"
      },
      "execution_count": null,
      "outputs": [
        {
          "name": "stdout",
          "output_type": "stream",
          "text": [
            "3\n",
            "4 6 8\n"
          ]
        }
      ]
    },
    {
      "cell_type": "code",
      "source": [
        "print(n, type(n))"
      ],
      "metadata": {
        "colab": {
          "base_uri": "https://localhost:8080/"
        },
        "id": "sdqDgY2l4tQi",
        "outputId": "2d300c9a-c398-4d70-a4db-080179daf75a"
      },
      "execution_count": null,
      "outputs": [
        {
          "output_type": "stream",
          "name": "stdout",
          "text": [
            "3 <class 'int'>\n"
          ]
        }
      ]
    },
    {
      "cell_type": "code",
      "source": [
        "print(l, type(l))"
      ],
      "metadata": {
        "colab": {
          "base_uri": "https://localhost:8080/"
        },
        "id": "zRE8IG8G465j",
        "outputId": "2453cf0d-18ed-4eaf-b81c-972d58fa9ba1"
      },
      "execution_count": null,
      "outputs": [
        {
          "output_type": "stream",
          "name": "stdout",
          "text": [
            "4 6 8 <class 'str'>\n"
          ]
        }
      ]
    },
    {
      "cell_type": "code",
      "source": [
        "lst = l.split()"
      ],
      "metadata": {
        "id": "TR3IaQSv491z"
      },
      "execution_count": null,
      "outputs": []
    },
    {
      "cell_type": "code",
      "source": [
        "print(lst)"
      ],
      "metadata": {
        "colab": {
          "base_uri": "https://localhost:8080/"
        },
        "id": "Y6_guwvl52RL",
        "outputId": "8d7792e9-9a67-41e3-9f1e-2c1c33f535d9"
      },
      "execution_count": null,
      "outputs": [
        {
          "output_type": "stream",
          "name": "stdout",
          "text": [
            "['4', '6', '8']\n"
          ]
        }
      ]
    },
    {
      "cell_type": "code",
      "source": [
        "type(lst)"
      ],
      "metadata": {
        "colab": {
          "base_uri": "https://localhost:8080/"
        },
        "id": "6vLwemXZ53uW",
        "outputId": "69152f03-d3e4-4485-f52c-75481eb6d2f3"
      },
      "execution_count": null,
      "outputs": [
        {
          "output_type": "execute_result",
          "data": {
            "text/plain": [
              "list"
            ]
          },
          "metadata": {},
          "execution_count": 13
        }
      ]
    },
    {
      "cell_type": "code",
      "source": [
        "type(lst[0])"
      ],
      "metadata": {
        "colab": {
          "base_uri": "https://localhost:8080/"
        },
        "id": "JKLfOoMS6Okn",
        "outputId": "f9204c7e-b924-4bc7-aefa-215591ea43e1"
      },
      "execution_count": null,
      "outputs": [
        {
          "output_type": "execute_result",
          "data": {
            "text/plain": [
              "str"
            ]
          },
          "metadata": {},
          "execution_count": 14
        }
      ]
    },
    {
      "cell_type": "code",
      "source": [
        "c = []\n",
        "for i in lst:\n",
        "  c.append(int(i))"
      ],
      "metadata": {
        "id": "OkMdrEZU6S7v"
      },
      "execution_count": null,
      "outputs": []
    },
    {
      "cell_type": "code",
      "source": [
        "print(lst, c)"
      ],
      "metadata": {
        "colab": {
          "base_uri": "https://localhost:8080/"
        },
        "id": "nLL99Z_L6l-1",
        "outputId": "720bc7ca-6f05-4087-c997-980736e27fb2"
      },
      "execution_count": null,
      "outputs": [
        {
          "output_type": "stream",
          "name": "stdout",
          "text": [
            "['4', '6', '8'] [4, 6, 8]\n"
          ]
        }
      ]
    },
    {
      "cell_type": "code",
      "source": [
        "print(type(c[0]), type(c))"
      ],
      "metadata": {
        "colab": {
          "base_uri": "https://localhost:8080/"
        },
        "id": "wslPFVA66nVs",
        "outputId": "0ee62175-c64a-4d0d-f9fd-b0137caf247c"
      },
      "execution_count": null,
      "outputs": [
        {
          "output_type": "stream",
          "name": "stdout",
          "text": [
            "<class 'int'> <class 'list'>\n"
          ]
        }
      ]
    },
    {
      "cell_type": "code",
      "source": [
        "#This is the final code for taking list as input"
      ],
      "metadata": {
        "id": "18nYuOSN62ec"
      },
      "execution_count": null,
      "outputs": []
    },
    {
      "cell_type": "code",
      "source": [
        "n = int(input()) #size of the list to take as input\n",
        "\n",
        "lst = input() # \"2 4 5\"\n",
        "\n",
        "l = lst.split() #['2', '4' , '5']\n",
        "\n",
        "res = []\n",
        "\n",
        "for i in l:\n",
        "  res.append(int(i))"
      ],
      "metadata": {
        "colab": {
          "base_uri": "https://localhost:8080/"
        },
        "id": "SKfPl4p6665m",
        "outputId": "91622a63-cb86-4122-8a87-4a810b431bce"
      },
      "execution_count": null,
      "outputs": [
        {
          "name": "stdout",
          "output_type": "stream",
          "text": [
            "4\n",
            "1 3 5 7\n"
          ]
        }
      ]
    },
    {
      "cell_type": "code",
      "source": [
        "print(res)"
      ],
      "metadata": {
        "colab": {
          "base_uri": "https://localhost:8080/"
        },
        "id": "q1m1u7bT7YfD",
        "outputId": "59eb537a-8023-4fb2-bf69-d46ac1072231"
      },
      "execution_count": null,
      "outputs": [
        {
          "output_type": "stream",
          "name": "stdout",
          "text": [
            "[1, 3, 5, 7]\n"
          ]
        }
      ]
    },
    {
      "cell_type": "code",
      "source": [
        "'''\n",
        "Q: Write a program, that takes list as input and creates another list having the qube of the numbers entered in the list\n",
        "\n",
        "\n",
        "'''\n",
        "\n",
        "'''\n",
        "Input: \"2 4 5\"\n",
        "output: [8, 64, 125]\n",
        "'''\n"
      ],
      "metadata": {
        "colab": {
          "base_uri": "https://localhost:8080/",
          "height": 53
        },
        "id": "9_kUZQer7b8I",
        "outputId": "205c6d19-dd76-4ce1-cccd-a6257e41df53"
      },
      "execution_count": null,
      "outputs": [
        {
          "output_type": "execute_result",
          "data": {
            "text/plain": [
              "'\\nQ: Write a program, that takes list as input and creates another list having the qube of the numbers entered in the list\\n\\n\\n'"
            ],
            "application/vnd.google.colaboratory.intrinsic+json": {
              "type": "string"
            }
          },
          "metadata": {},
          "execution_count": 24
        }
      ]
    },
    {
      "cell_type": "code",
      "source": [
        "lst = input()\n",
        "\n",
        "l = lst.split()\n",
        "\n",
        "print(l)"
      ],
      "metadata": {
        "colab": {
          "base_uri": "https://localhost:8080/"
        },
        "id": "tevv5d0P8DGX",
        "outputId": "2e58ac5b-1190-42d6-b355-667e4c4f60c5"
      },
      "execution_count": null,
      "outputs": [
        {
          "output_type": "stream",
          "name": "stdout",
          "text": [
            "2 4 5\n",
            "['2', '4', '5']\n"
          ]
        }
      ]
    },
    {
      "cell_type": "code",
      "source": [
        "lst = input()\n",
        "\n",
        "#more about split() in string class\n",
        "l = lst.split()\n",
        "\n",
        "print(l)\n",
        "\n",
        "res = []\n",
        "\n",
        "for i in l:\n",
        "  k = int(i)\n",
        "  res.append(k**3)\n",
        "\n",
        "\n",
        "print(res)"
      ],
      "metadata": {
        "colab": {
          "base_uri": "https://localhost:8080/"
        },
        "id": "-Ikwh4nu82GG",
        "outputId": "2af93b5e-3ecd-46f8-f79e-9e462d6b104b"
      },
      "execution_count": null,
      "outputs": [
        {
          "output_type": "stream",
          "name": "stdout",
          "text": [
            "2 4 5\n",
            "['2', '4', '5']\n",
            "[8, 64, 125]\n"
          ]
        }
      ]
    },
    {
      "cell_type": "code",
      "source": [
        "#updating a list\n",
        "\n",
        "l = [2,5,3,3,8]\n",
        "l[0] = 21\n",
        "print(l)"
      ],
      "metadata": {
        "colab": {
          "base_uri": "https://localhost:8080/"
        },
        "id": "24UCem-v9CYP",
        "outputId": "13a3111b-a6b1-4c78-c307-103027d7edb6"
      },
      "execution_count": null,
      "outputs": [
        {
          "output_type": "stream",
          "name": "stdout",
          "text": [
            "[21, 5, 3, 3, 8]\n"
          ]
        }
      ]
    },
    {
      "cell_type": "code",
      "source": [
        "l = [2,5,3,3,8]\n",
        "l[2] = 5\n",
        "print(l)"
      ],
      "metadata": {
        "colab": {
          "base_uri": "https://localhost:8080/"
        },
        "id": "1M0FNFHC-FyO",
        "outputId": "1133b67b-f158-4ef6-9aa7-ebc7ac51d445"
      },
      "execution_count": null,
      "outputs": [
        {
          "output_type": "stream",
          "name": "stdout",
          "text": [
            "[2, 5, 5, 3, 8]\n"
          ]
        }
      ]
    },
    {
      "cell_type": "code",
      "source": [
        "'''\n",
        "Q2: - this ability to modify itself is called Mutability in Python\n",
        "'''\n",
        "a = [2, 5, 9]\n",
        "\n",
        "a[2] = a[2] + 1\n",
        "\n",
        "print(a)\n",
        "\n"
      ],
      "metadata": {
        "colab": {
          "base_uri": "https://localhost:8080/"
        },
        "id": "BTD864ns-TyT",
        "outputId": "108d4f2f-fe77-4d9b-a65c-dfbe72fe8168"
      },
      "execution_count": null,
      "outputs": [
        {
          "output_type": "stream",
          "name": "stdout",
          "text": [
            "[2, 5, 10]\n"
          ]
        }
      ]
    },
    {
      "cell_type": "code",
      "source": [
        "'''\n",
        "Q3\n",
        "'''\n",
        "\n",
        "a = [3, 5, 9]\n",
        "a[1] = a[1] + 1\n",
        "a[2] = a[2] + 2\n",
        "print(a)"
      ],
      "metadata": {
        "colab": {
          "base_uri": "https://localhost:8080/"
        },
        "id": "xVfJJ3r8-kWB",
        "outputId": "9e5adf93-8a8f-4a2a-ea8b-2f503b7b6ac5"
      },
      "execution_count": null,
      "outputs": [
        {
          "output_type": "stream",
          "name": "stdout",
          "text": [
            "[3, 6, 11]\n"
          ]
        }
      ]
    },
    {
      "cell_type": "code",
      "source": [
        "'''\n",
        "Q4\n",
        "'''\n",
        "\n",
        "a = [1, 6, 8]\n",
        "a[1] = a[0]\n",
        "print(a)"
      ],
      "metadata": {
        "colab": {
          "base_uri": "https://localhost:8080/"
        },
        "id": "YIDi6M9D_SRf",
        "outputId": "a7820326-022a-4d27-9174-e74d56c87151"
      },
      "execution_count": null,
      "outputs": [
        {
          "output_type": "stream",
          "name": "stdout",
          "text": [
            "[1, 1, 8]\n"
          ]
        }
      ]
    },
    {
      "cell_type": "code",
      "source": [
        "'''\n",
        "Q5:\n",
        "'''\n",
        "\n",
        "a = [3, 6, 7]\n",
        "a[1] = a[2]\n",
        "a[2] = a[0]\n",
        "\n",
        "print(a)"
      ],
      "metadata": {
        "colab": {
          "base_uri": "https://localhost:8080/"
        },
        "id": "6MBGXvi4_szN",
        "outputId": "d9b85b50-ce72-41e2-8a2e-d035bb58dea9"
      },
      "execution_count": null,
      "outputs": [
        {
          "output_type": "stream",
          "name": "stdout",
          "text": [
            "[3, 7, 3]\n"
          ]
        }
      ]
    },
    {
      "cell_type": "code",
      "source": [
        "#Multiple Assignments\n"
      ],
      "metadata": {
        "id": "fBrM4CroAUVO"
      },
      "execution_count": null,
      "outputs": []
    },
    {
      "cell_type": "code",
      "source": [
        "a = 3\n",
        "b = 4\n",
        "print(a,b)"
      ],
      "metadata": {
        "colab": {
          "base_uri": "https://localhost:8080/"
        },
        "id": "M7g2xg7lCtOK",
        "outputId": "d54055df-a557-4143-d018-dbf68f4723cc"
      },
      "execution_count": null,
      "outputs": [
        {
          "output_type": "stream",
          "name": "stdout",
          "text": [
            "3 4\n"
          ]
        }
      ]
    },
    {
      "cell_type": "code",
      "source": [
        "a, b, c = 3 ,4, 5\n",
        "print(a,b, c)"
      ],
      "metadata": {
        "colab": {
          "base_uri": "https://localhost:8080/"
        },
        "id": "fppOD8VwCuvE",
        "outputId": "7c808d4d-c197-4cc8-adab-8477fd6681dc"
      },
      "execution_count": null,
      "outputs": [
        {
          "output_type": "stream",
          "name": "stdout",
          "text": [
            "3 4 5\n"
          ]
        }
      ]
    },
    {
      "cell_type": "code",
      "source": [
        "#swap - using python"
      ],
      "metadata": {
        "id": "g9uIxXCCELws"
      },
      "execution_count": null,
      "outputs": []
    },
    {
      "cell_type": "code",
      "source": [
        "a = 3\n",
        "b = 4\n",
        "\n",
        "a = b\n",
        "b = a\n",
        "#issue- a got updated to b and we lost the original value of a\n",
        "print(a,b)"
      ],
      "metadata": {
        "colab": {
          "base_uri": "https://localhost:8080/"
        },
        "id": "4UYQG338EroG",
        "outputId": "7d2161bb-fde2-4c06-f00b-9395c419f566"
      },
      "execution_count": null,
      "outputs": [
        {
          "output_type": "stream",
          "name": "stdout",
          "text": [
            "4 4\n"
          ]
        }
      ]
    },
    {
      "cell_type": "code",
      "source": [
        "a = 3\n",
        "b = 4\n",
        "print(\"before swapping a,b =\", a,\" \", b)\n",
        "c = a\n",
        "a = b\n",
        "b = c\n",
        "\n",
        "print(\"After swapping a,b =\", a,\" \", b)\n",
        "\n"
      ],
      "metadata": {
        "colab": {
          "base_uri": "https://localhost:8080/"
        },
        "id": "TV1btSUyE5vF",
        "outputId": "ffed38f1-635a-47c2-9e03-3b01e3bcbe87"
      },
      "execution_count": null,
      "outputs": [
        {
          "output_type": "stream",
          "name": "stdout",
          "text": [
            "before swapping a,b = 3   4\n",
            "After swapping a,b = 4   3\n"
          ]
        }
      ]
    },
    {
      "cell_type": "code",
      "source": [
        "a = 3\n",
        "b = 4\n",
        "\n",
        "#swapping\n",
        "a, b = b, a\n",
        "\n",
        "print(a,b)\n"
      ],
      "metadata": {
        "colab": {
          "base_uri": "https://localhost:8080/"
        },
        "id": "AV6WC2zfFP1y",
        "outputId": "e096d73c-1c75-481f-e2af-2d0082428b51"
      },
      "execution_count": null,
      "outputs": [
        {
          "output_type": "stream",
          "name": "stdout",
          "text": [
            "4 3\n"
          ]
        }
      ]
    },
    {
      "cell_type": "code",
      "source": [
        "a = [2, 4, 6, 8, 10]\n",
        "\n",
        "#swap 2nd and 4th element\n",
        "\n",
        "a[1] , a[3] = a[3], a[1]\n",
        "\n",
        "print(a)"
      ],
      "metadata": {
        "colab": {
          "base_uri": "https://localhost:8080/"
        },
        "id": "XsOqqWgZFo8G",
        "outputId": "02ded0b8-b74f-4efe-9d04-5600570d5874"
      },
      "execution_count": null,
      "outputs": [
        {
          "output_type": "stream",
          "name": "stdout",
          "text": [
            "[2, 8, 6, 4, 10]\n"
          ]
        }
      ]
    },
    {
      "cell_type": "code",
      "source": [
        "a = [2, 4, 6, 8, 10]\n",
        "\n",
        "#swap 2nd and 4th element\n",
        "\n",
        "a[3] , a[1] = a[1], a[3]\n",
        "\n",
        "print(a)"
      ],
      "metadata": {
        "colab": {
          "base_uri": "https://localhost:8080/"
        },
        "id": "e5NlvTd-GUTi",
        "outputId": "e31bb7bc-9cd6-46a0-eaf7-68ab24adf567"
      },
      "execution_count": null,
      "outputs": [
        {
          "output_type": "stream",
          "name": "stdout",
          "text": [
            "[2, 8, 6, 4, 10]\n"
          ]
        }
      ]
    },
    {
      "cell_type": "code",
      "source": [
        "'''\n",
        "Q5 - this consists of most of the concepts covered - \n",
        "1. everyone to post on DM\n",
        "2- Take your time- make sure you attempt it at your best ability\n",
        "\n",
        "Tell me output after every line - better learning : )\n",
        "'''\n",
        "\n",
        "l = [1, 5, 2, 3]\n",
        "\n",
        "l.append(7)\n",
        "\n",
        "l.insert(0,5)\n",
        "\n",
        "l[1] = l[2]\n",
        "\n",
        "l[2], l[0] = l[0], l[2]\n",
        "\n",
        "print(l)\n",
        "\n"
      ],
      "metadata": {
        "id": "1ZcREIh9Ge5w"
      },
      "execution_count": null,
      "outputs": []
    },
    {
      "cell_type": "code",
      "source": [
        "\n",
        "l = [1, 5, 2, 3]\n",
        "\n",
        "l.append(7)\n",
        "\n",
        "print(l)"
      ],
      "metadata": {
        "colab": {
          "base_uri": "https://localhost:8080/"
        },
        "id": "WtIGDYYJHwh3",
        "outputId": "b848b25b-6c60-47c3-bb71-afd69da08a1b"
      },
      "execution_count": null,
      "outputs": [
        {
          "output_type": "stream",
          "name": "stdout",
          "text": [
            "[1, 5, 2, 3, 7]\n"
          ]
        }
      ]
    },
    {
      "cell_type": "code",
      "source": [
        "l.insert(0,5)\n",
        "print(l)"
      ],
      "metadata": {
        "colab": {
          "base_uri": "https://localhost:8080/"
        },
        "id": "b15eJ2EVH3Yv",
        "outputId": "4a0adb57-8bdd-4db4-9793-50b87f7d0508"
      },
      "execution_count": null,
      "outputs": [
        {
          "output_type": "stream",
          "name": "stdout",
          "text": [
            "[5, 1, 5, 2, 3, 7]\n"
          ]
        }
      ]
    },
    {
      "cell_type": "code",
      "source": [
        "l[1] = l[2]\n",
        "print(l)"
      ],
      "metadata": {
        "colab": {
          "base_uri": "https://localhost:8080/"
        },
        "id": "qGWG24e-IBLr",
        "outputId": "4620b55e-707e-4d4d-a2f4-26c4f1412e2a"
      },
      "execution_count": null,
      "outputs": [
        {
          "output_type": "stream",
          "name": "stdout",
          "text": [
            "[5, 5, 5, 2, 3, 7]\n"
          ]
        }
      ]
    },
    {
      "cell_type": "code",
      "source": [
        "#swapping 1st and 3rd element\n",
        "l[2], l[0] = l[0], l[2]\n",
        "\n",
        "print(l)"
      ],
      "metadata": {
        "colab": {
          "base_uri": "https://localhost:8080/"
        },
        "id": "xzVDpudBIG2i",
        "outputId": "a8f75bf7-da28-4f0c-b6fd-95a42490edf5"
      },
      "execution_count": null,
      "outputs": [
        {
          "output_type": "stream",
          "name": "stdout",
          "text": [
            "[5, 5, 5, 2, 3, 7]\n"
          ]
        }
      ]
    },
    {
      "cell_type": "code",
      "source": [
        "l = [2,3,4]\n",
        "l.insert(2,6)"
      ],
      "metadata": {
        "id": "woJkKDZnIokh"
      },
      "execution_count": null,
      "outputs": []
    },
    {
      "cell_type": "code",
      "source": [
        "#Removing the data\n",
        "# 1- pop()\n",
        "# 2- remove()"
      ],
      "metadata": {
        "id": "f_jNsF8WIP4I"
      },
      "execution_count": null,
      "outputs": []
    },
    {
      "cell_type": "code",
      "source": [
        "a = [2, 4, 6, 3, 1]"
      ],
      "metadata": {
        "id": "D9SUTiUaJXkJ"
      },
      "execution_count": null,
      "outputs": []
    },
    {
      "cell_type": "code",
      "source": [
        "#pop() - by default - pops or removes the last element of the list and returns the removed element"
      ],
      "metadata": {
        "id": "4P6pTqOhJeFH"
      },
      "execution_count": null,
      "outputs": []
    },
    {
      "cell_type": "code",
      "source": [
        "x = a.pop()\n",
        "\n",
        "print(x, a)"
      ],
      "metadata": {
        "colab": {
          "base_uri": "https://localhost:8080/"
        },
        "id": "6N0dXWO6Jj2I",
        "outputId": "5d708213-f85f-4ce0-a099-0c1c4accddda"
      },
      "execution_count": null,
      "outputs": [
        {
          "output_type": "stream",
          "name": "stdout",
          "text": [
            "1 [2, 4, 6, 3]\n"
          ]
        }
      ]
    },
    {
      "cell_type": "code",
      "source": [
        "#how to pop element at a specific index"
      ],
      "metadata": {
        "id": "JVVWtElHJysk"
      },
      "execution_count": null,
      "outputs": []
    },
    {
      "cell_type": "code",
      "source": [
        "x = a.pop(0)"
      ],
      "metadata": {
        "id": "fvvoKSScKKZc"
      },
      "execution_count": null,
      "outputs": []
    },
    {
      "cell_type": "code",
      "source": [
        "print(x)\n",
        "print(a)"
      ],
      "metadata": {
        "colab": {
          "base_uri": "https://localhost:8080/"
        },
        "id": "GcWorbLxKTHd",
        "outputId": "d318cc08-2464-418d-f926-f9d5f20b78fe"
      },
      "execution_count": null,
      "outputs": [
        {
          "output_type": "stream",
          "name": "stdout",
          "text": [
            "2\n",
            "[4, 6, 3]\n"
          ]
        }
      ]
    },
    {
      "cell_type": "code",
      "source": [
        "#pop(i) - removes and returns the element present at the ith index"
      ],
      "metadata": {
        "id": "jM8KVBwHKX67"
      },
      "execution_count": null,
      "outputs": []
    },
    {
      "cell_type": "code",
      "source": [
        "x = a.pop(7)"
      ],
      "metadata": {
        "colab": {
          "base_uri": "https://localhost:8080/",
          "height": 170
        },
        "id": "YMX9x6A5Knj3",
        "outputId": "88cf54db-aafe-463d-f3bb-1eaaad54e611"
      },
      "execution_count": null,
      "outputs": [
        {
          "output_type": "error",
          "ename": "IndexError",
          "evalue": "ignored",
          "traceback": [
            "\u001b[0;31m---------------------------------------------------------------------------\u001b[0m",
            "\u001b[0;31mIndexError\u001b[0m                                Traceback (most recent call last)",
            "\u001b[0;32m<ipython-input-72-94f656e6f97d>\u001b[0m in \u001b[0;36m<module>\u001b[0;34m\u001b[0m\n\u001b[0;32m----> 1\u001b[0;31m \u001b[0mx\u001b[0m \u001b[0;34m=\u001b[0m \u001b[0ma\u001b[0m\u001b[0;34m.\u001b[0m\u001b[0mpop\u001b[0m\u001b[0;34m(\u001b[0m\u001b[0;36m7\u001b[0m\u001b[0;34m)\u001b[0m\u001b[0;34m\u001b[0m\u001b[0;34m\u001b[0m\u001b[0m\n\u001b[0m",
            "\u001b[0;31mIndexError\u001b[0m: pop index out of range"
          ]
        }
      ]
    },
    {
      "cell_type": "code",
      "source": [
        "'''\n",
        "Q6:\n",
        "'''\n",
        "\n",
        "ll = [1, 2, 3, 3, 5, 6, 7, 5]\n",
        "ll.pop(5)\n",
        "print(ll)"
      ],
      "metadata": {
        "colab": {
          "base_uri": "https://localhost:8080/"
        },
        "id": "1qoLJqSXKp8A",
        "outputId": "d6c5d1cb-7d3e-4792-9de5-efad1037ba87"
      },
      "execution_count": null,
      "outputs": [
        {
          "output_type": "stream",
          "name": "stdout",
          "text": [
            "[1, 2, 3, 3, 5, 7, 5]\n"
          ]
        }
      ]
    },
    {
      "cell_type": "code",
      "source": [
        "#remove: removes an element based on the element provided \n",
        "#diff from pop - as pop() uses index whereas remove uses element\n",
        "\n",
        "# remove(x) : removes the first occurance of the element x - if it is present\n",
        "\n",
        "#remove mehtod doesn't return the removed value\n"
      ],
      "metadata": {
        "id": "kdvW-p0wLaWn"
      },
      "execution_count": null,
      "outputs": []
    },
    {
      "cell_type": "code",
      "source": [
        "ll = [1, 2, 3, 3, 5, 6, 7, 5]\n",
        "ll.remove(2)\n",
        "print(ll)"
      ],
      "metadata": {
        "colab": {
          "base_uri": "https://localhost:8080/"
        },
        "id": "biA-7WU1Ltqy",
        "outputId": "11e158fb-701b-4473-e5b2-252c5e895b6d"
      },
      "execution_count": null,
      "outputs": [
        {
          "output_type": "stream",
          "name": "stdout",
          "text": [
            "[1, 3, 3, 5, 6, 7, 5]\n"
          ]
        }
      ]
    },
    {
      "cell_type": "code",
      "source": [
        "ll = [1, 2, 3, 3, 5, 6, 7, 5]\n",
        "ll.remove(3)\n",
        "print(ll)"
      ],
      "metadata": {
        "colab": {
          "base_uri": "https://localhost:8080/"
        },
        "id": "iw-1FYzcL-TX",
        "outputId": "74e70b23-28a4-4d9d-bd6a-419c6715edc4"
      },
      "execution_count": null,
      "outputs": [
        {
          "output_type": "stream",
          "name": "stdout",
          "text": [
            "[1, 2, 3, 5, 6, 7, 5]\n"
          ]
        }
      ]
    },
    {
      "cell_type": "code",
      "source": [
        "ll = [1, 2, 3, 3, 5, 6, 7, 5]\n",
        "ll.remove(3)\n",
        "ll.remove(5)\n",
        "print(ll)"
      ],
      "metadata": {
        "colab": {
          "base_uri": "https://localhost:8080/"
        },
        "id": "p7hN2hs2MLi-",
        "outputId": "088802b7-f214-4d71-a61b-c75c2d37dccb"
      },
      "execution_count": null,
      "outputs": [
        {
          "output_type": "stream",
          "name": "stdout",
          "text": [
            "[1, 2, 3, 6, 7, 5]\n"
          ]
        }
      ]
    },
    {
      "cell_type": "code",
      "source": [
        "lst = [1, 2, 3, 3, 5, 6, 7, 5]\n",
        "x = lst.remove(3)\n",
        "\n",
        "print(x)"
      ],
      "metadata": {
        "colab": {
          "base_uri": "https://localhost:8080/"
        },
        "id": "JU-juSaBMXbt",
        "outputId": "43072c5d-2d94-4bb7-ce24-c4a1bccc6149"
      },
      "execution_count": null,
      "outputs": [
        {
          "output_type": "stream",
          "name": "stdout",
          "text": [
            "None\n"
          ]
        }
      ]
    },
    {
      "cell_type": "code",
      "source": [
        "print(ll)"
      ],
      "metadata": {
        "colab": {
          "base_uri": "https://localhost:8080/"
        },
        "id": "nJEMBhTCMqbw",
        "outputId": "8bf0db04-4f3f-4a80-810a-c9a15da54dc3"
      },
      "execution_count": null,
      "outputs": [
        {
          "output_type": "stream",
          "name": "stdout",
          "text": [
            "[1, 2, 3, 5, 6, 7, 5]\n"
          ]
        }
      ]
    },
    {
      "cell_type": "code",
      "source": [
        "#Linear search\n",
        "\n",
        "# Given a list of integers, print the index of the first occurance of an element x\n",
        "#will discuss at begining of thu class - till then everyone - just attempt it\n",
        "#will cover another extension of this in next class- print every index of occurance of that element x\n",
        "\n",
        "eg: a = [1,3, 4, 2, 5, 2]\n",
        "x = 2\n",
        "Ans = 3"
      ],
      "metadata": {
        "id": "yQCNxeQnMtrv"
      },
      "execution_count": null,
      "outputs": []
    },
    {
      "cell_type": "code",
      "source": [
        "'''\n",
        "Q5:\n",
        "'''\n",
        "\n",
        "a = [3, 6, 7]\n",
        "a[1] = a[2]\n",
        "a[2] = a[0]\n",
        "a[0] = a[1]\n",
        "\n",
        "\n",
        "print(a)"
      ],
      "metadata": {
        "colab": {
          "base_uri": "https://localhost:8080/"
        },
        "id": "hUO5ueB0OBDx",
        "outputId": "9b4d798d-384b-4c73-97a9-5bf8fcbaa79b"
      },
      "execution_count": null,
      "outputs": [
        {
          "output_type": "stream",
          "name": "stdout",
          "text": [
            "[7, 7, 3]\n"
          ]
        }
      ]
    },
    {
      "cell_type": "code",
      "source": [
        "lst = [1,3,5]\n",
        "\n",
        "for i in lst:\n",
        "  print(i)"
      ],
      "metadata": {
        "colab": {
          "base_uri": "https://localhost:8080/"
        },
        "id": "sdjXvA57Rzti",
        "outputId": "48c14552-a8a8-4921-ee92-72161e9c9a15"
      },
      "execution_count": null,
      "outputs": [
        {
          "output_type": "stream",
          "name": "stdout",
          "text": [
            "1\n",
            "3\n",
            "5\n"
          ]
        }
      ]
    },
    {
      "cell_type": "code",
      "source": [
        "lst = [1,3,5]\n",
        "\n",
        "n = len(lst)\n",
        "\n",
        "for i in range(n):\n",
        "  print(lst[i])"
      ],
      "metadata": {
        "colab": {
          "base_uri": "https://localhost:8080/"
        },
        "id": "34Z2OEMHSwrt",
        "outputId": "72dd7ce4-906b-4ebe-ae13-ca408808c9ed"
      },
      "execution_count": null,
      "outputs": [
        {
          "output_type": "stream",
          "name": "stdout",
          "text": [
            "1\n",
            "3\n",
            "5\n"
          ]
        }
      ]
    },
    {
      "cell_type": "code",
      "source": [
        "lst = [1, 2, 3, 3, 5, 6, 7, 5]\n",
        "lst.remove(7)\n",
        "\n",
        "print(lst)"
      ],
      "metadata": {
        "colab": {
          "base_uri": "https://localhost:8080/"
        },
        "id": "hucT14wYS8pa",
        "outputId": "fbebfa13-500f-4037-917c-d1547e928f85"
      },
      "execution_count": null,
      "outputs": [
        {
          "output_type": "stream",
          "name": "stdout",
          "text": [
            "[1, 2, 3, 3, 5, 6, 5]\n"
          ]
        }
      ]
    },
    {
      "cell_type": "code",
      "source": [
        "print(x)"
      ],
      "metadata": {
        "colab": {
          "base_uri": "https://localhost:8080/"
        },
        "id": "OKEBIw-WTs0k",
        "outputId": "e451cbca-ad33-42ce-b59c-b09c86a68a9a"
      },
      "execution_count": null,
      "outputs": [
        {
          "output_type": "stream",
          "name": "stdout",
          "text": [
            "None\n"
          ]
        }
      ]
    },
    {
      "cell_type": "code",
      "source": [],
      "metadata": {
        "id": "rQgolZLlT_e4"
      },
      "execution_count": null,
      "outputs": []
    }
  ]
}