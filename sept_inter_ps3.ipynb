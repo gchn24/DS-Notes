{
  "nbformat": 4,
  "nbformat_minor": 0,
  "metadata": {
    "colab": {
      "provenance": [],
      "include_colab_link": true
    },
    "kernelspec": {
      "name": "python3",
      "display_name": "Python 3"
    },
    "language_info": {
      "name": "python"
    }
  },
  "cells": [
    {
      "cell_type": "markdown",
      "metadata": {
        "id": "view-in-github",
        "colab_type": "text"
      },
      "source": [
        "<a href=\"https://colab.research.google.com/github/gchn24/DS-Notes/blob/main/sept_inter_ps3.ipynb\" target=\"_parent\"><img src=\"https://colab.research.google.com/assets/colab-badge.svg\" alt=\"Open In Colab\"/></a>"
      ]
    },
    {
      "cell_type": "code",
      "execution_count": null,
      "metadata": {
        "id": "XHpPgAqa5Tjq"
      },
      "outputs": [],
      "source": [
        "class fruits:\n",
        "    def __init__(self, price):\n",
        "        self.price = price\n",
        "\n",
        "obj=fruits(50)\n",
        "obj.quantity=10\n",
        "obj.bags=2\n",
        "\n",
        "# print(obj.quantity+len(obj.__dict__))"
      ]
    },
    {
      "cell_type": "code",
      "source": [
        "print(obj.__dict__)"
      ],
      "metadata": {
        "colab": {
          "base_uri": "https://localhost:8080/"
        },
        "id": "NcCl-PFXByv-",
        "outputId": "c2ce2063-04a8-49b6-830d-409006e420ff"
      },
      "execution_count": null,
      "outputs": [
        {
          "output_type": "stream",
          "name": "stdout",
          "text": [
            "{'price': 50, 'quantity': 10, 'bags': 2}\n"
          ]
        }
      ]
    },
    {
      "cell_type": "code",
      "source": [
        "len(obj.__dict__)"
      ],
      "metadata": {
        "colab": {
          "base_uri": "https://localhost:8080/"
        },
        "id": "D-9JvcH1B1aP",
        "outputId": "837b138f-4daa-45d0-bd70-ab1990524f8d"
      },
      "execution_count": null,
      "outputs": [
        {
          "output_type": "execute_result",
          "data": {
            "text/plain": [
              "3"
            ]
          },
          "metadata": {},
          "execution_count": 3
        }
      ]
    },
    {
      "cell_type": "code",
      "source": [
        "print(obj.quantity + len(obj.__dict__))"
      ],
      "metadata": {
        "colab": {
          "base_uri": "https://localhost:8080/"
        },
        "id": "7aGcK1ZKCE0c",
        "outputId": "a61c9e60-a090-4fe7-d4cd-9d10a8bc9dbe"
      },
      "execution_count": null,
      "outputs": [
        {
          "output_type": "stream",
          "name": "stdout",
          "text": [
            "13\n"
          ]
        }
      ]
    },
    {
      "cell_type": "code",
      "source": [
        "#oops + functional\n",
        "\n",
        "class solution:\n",
        "  def initial(self,sets):\n",
        "    return self.final(sets)\n",
        " \n",
        "  def final(self, sets):\n",
        "    return list(map(lambda x: ((x**3)%2==0,x**3),sets))\n",
        "\n",
        "print(solution().initial([4,5,6]))"
      ],
      "metadata": {
        "id": "H-fVlv4FCJXl"
      },
      "execution_count": null,
      "outputs": []
    },
    {
      "cell_type": "code",
      "source": [
        "#oops + functional\n",
        "\n",
        "class solution:\n",
        "  def initial(self,sets):\n",
        "    return self.final(sets)\n",
        " \n",
        "  def final(self, sets):\n",
        "    return list(map(lambda x: ((x**3)%2==0,x*2+3-2*x+5),sets))\n",
        "\n",
        "print(solution().initial([4,5,6]))"
      ],
      "metadata": {
        "id": "FCXsMDMnFgSl"
      },
      "execution_count": null,
      "outputs": []
    },
    {
      "cell_type": "code",
      "source": [
        "def __init__(self, marks1,marks2,credits1, credits2): \n",
        "  if marks1 >= 90: points1 = 10 \n",
        "    self.points1 = points1 \n",
        "  elif 75 <= marks1 < 90: points1 = 9 \n",
        "    self.points1 = points1 \n",
        "  elif 60 <= marks1 < 75: points1 = 8 \n",
        "    self.points1 = points1 \n",
        "  elif 45 <= marks1 < 60: \n",
        "    points1 = 7 \n",
        "    self.points1 = points1 \n",
        "  else: points1 = 0 \n",
        "    self.points1 = points1 \n",
        "  if marks2 >= 90: points2 = 10 \n",
        "    self.points2 = points2 \n",
        "  elif 75 <= marks2 < 90: points2 = 9 \n",
        "  self.points2 = points2 \n",
        "  elif 60 <= marks2 < 75: points2= 8 \n",
        "  self.points2 = points2 \n",
        "  elif 45 <= marks2 < 60: points2 = 7 \n",
        "  self.points2 = points2 \n",
        "  else: points2 = 0 \n",
        "    self.points2 = points2 \n",
        "    self.credits1 = credits1 \n",
        "    self.credits2 = credits2"
      ],
      "metadata": {
        "id": "SJDi2R_cKgIY"
      },
      "execution_count": null,
      "outputs": []
    },
    {
      "cell_type": "code",
      "source": [
        "def grade_point_average(self): \n",
        "  gpa=0 \n",
        "  gpa = ((self.points1 * self.credits1) + (self.points2 * self.credits2)) / (self.credits1 + self.credits2) \n",
        "  return gpa"
      ],
      "metadata": {
        "id": "jJ_MWM2DKXop"
      },
      "execution_count": null,
      "outputs": []
    },
    {
      "cell_type": "code",
      "source": [
        "class Student:\n",
        "    \n",
        "    def __init__(self,roll,marks):\n",
        "        self.roll = roll\n",
        "        self.marks = marks\n",
        "    \n",
        "    def display(self):\n",
        "        print('Roll:', self.roll,'Marks:',self.marks, end=\" \")\n",
        "\n",
        "student1 = Student(34,'A')\n",
        "student1.age = 17\n",
        "print(student1.display(), 'Age:',student1.age)"
      ],
      "metadata": {
        "colab": {
          "base_uri": "https://localhost:8080/"
        },
        "id": "XiMws7RyLdfz",
        "outputId": "2f974919-8bd8-464d-c03e-813b354f7008"
      },
      "execution_count": null,
      "outputs": [
        {
          "output_type": "stream",
          "name": "stdout",
          "text": [
            "Roll: 34 Marks: A None Age: 17\n"
          ]
        }
      ]
    },
    {
      "cell_type": "code",
      "source": [
        "class football:\n",
        "    final_res= 'lose'\n",
        "    \n",
        "    def __init__(self,name,score):\n",
        "        self.name = name\n",
        "        self.score = score\n",
        "        self.final_res = 'lose'\n",
        "    \n",
        "    def calc(self, winning_score):\n",
        "        if self.score>winning_score:\n",
        "            self.final_res='win'\n",
        "\n",
        "match = football('Juventus',3)\n",
        "match.calc(2)\n",
        "print(football.final_res, match.final_res)"
      ],
      "metadata": {
        "colab": {
          "base_uri": "https://localhost:8080/"
        },
        "id": "6t2AEOEOMX6i",
        "outputId": "525980c6-1ebf-4638-9956-e4ce6dc27c1f"
      },
      "execution_count": null,
      "outputs": [
        {
          "output_type": "stream",
          "name": "stdout",
          "text": [
            "lose win\n"
          ]
        }
      ]
    },
    {
      "cell_type": "code",
      "source": [
        "class Student:\n",
        "  # Class variable\n",
        "  subject_name = 'Math for Machine Learning'\n",
        "\n",
        "  # constructor\n",
        "  def __init__(self, name, roll_no):\n",
        "    self.name = name\n",
        "    self.roll_no = roll_no\n",
        "\n",
        "# outside the class\n",
        "# create Objects\n",
        "s1 = Student('Emma', 10)\n",
        "s1.subject_name = 'Machine Learning'\n",
        "# print(s1.name, s1.roll_no, s1.subject_name)\n",
        "s2 = Student(\"AJ\", 10)\n",
        "print(s2.name, s2.roll_no, s2.subject_name)\n"
      ],
      "metadata": {
        "colab": {
          "base_uri": "https://localhost:8080/"
        },
        "id": "PldNrLq4OIWS",
        "outputId": "60f62150-0077-4e00-c20f-1af9a04e8c01"
      },
      "execution_count": null,
      "outputs": [
        {
          "output_type": "stream",
          "name": "stdout",
          "text": [
            "AJ 10 Math for Machine Learning\n"
          ]
        }
      ]
    },
    {
      "cell_type": "code",
      "source": [
        "    s1 = Student('Emma', 10), \n",
        "    No change required\n",
        "    None of the above\n",
        "    s1 = Student('Emma', 10), Student.subject_name = 'Machine Learning'\n",
        "    s1 = Student('Emma', 10), s1.subject_name = 'Machine Learning'"
      ],
      "metadata": {
        "id": "uQhOF6PSQY4T"
      },
      "execution_count": null,
      "outputs": []
    },
    {
      "cell_type": "code",
      "source": [
        " Emma 10 Machine Learning"
      ],
      "metadata": {
        "id": "elAx1msfQlK_"
      },
      "execution_count": null,
      "outputs": []
    },
    {
      "cell_type": "code",
      "source": [
        "class A:\n",
        "  pass\n",
        "class B(A):\n",
        "  pass\n",
        "class C(A):\n",
        "  pass\n",
        "class D(A):\n",
        "  pass\n",
        "class E(B):\n",
        "  pass\n",
        "class F(B):\n",
        "  pass\n",
        "class G(F):\n",
        "  pass\n",
        "class H(G):\n",
        "  pass\n",
        "class I(G):\n",
        "  pass\n",
        "class J(H,I):\n",
        "  pass\n",
        "class K(E,J):\n",
        "  pass\n",
        "class L(C):\n",
        "  pass\n",
        "class M(J,L):\n",
        "  pass\n",
        "class N(M,D):\n",
        "  pass\n",
        "class O(K,N):\n",
        "  pass"
      ],
      "metadata": {
        "id": "rYi_d1XjSdm1"
      },
      "execution_count": null,
      "outputs": []
    },
    {
      "cell_type": "code",
      "source": [
        "O.__mro__"
      ],
      "metadata": {
        "colab": {
          "base_uri": "https://localhost:8080/"
        },
        "id": "g4B7TdQbUaAX",
        "outputId": "4737a31b-b814-4c3b-c07b-d2bdad53d617"
      },
      "execution_count": null,
      "outputs": [
        {
          "output_type": "execute_result",
          "data": {
            "text/plain": [
              "(__main__.O,\n",
              " __main__.K,\n",
              " __main__.E,\n",
              " __main__.N,\n",
              " __main__.M,\n",
              " __main__.J,\n",
              " __main__.H,\n",
              " __main__.I,\n",
              " __main__.G,\n",
              " __main__.F,\n",
              " __main__.B,\n",
              " __main__.L,\n",
              " __main__.C,\n",
              " __main__.D,\n",
              " __main__.A,\n",
              " object)"
            ]
          },
          "metadata": {},
          "execution_count": 16
        }
      ]
    },
    {
      "cell_type": "code",
      "source": [],
      "metadata": {
        "id": "t0weyiL7UdDl"
      },
      "execution_count": null,
      "outputs": []
    }
  ]
}