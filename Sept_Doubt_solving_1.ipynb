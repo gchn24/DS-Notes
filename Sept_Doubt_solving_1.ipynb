{
  "nbformat": 4,
  "nbformat_minor": 0,
  "metadata": {
    "colab": {
      "provenance": [],
      "include_colab_link": true
    },
    "kernelspec": {
      "name": "python3",
      "display_name": "Python 3"
    },
    "language_info": {
      "name": "python"
    }
  },
  "cells": [
    {
      "cell_type": "markdown",
      "metadata": {
        "id": "view-in-github",
        "colab_type": "text"
      },
      "source": [
        "<a href=\"https://colab.research.google.com/github/gchn24/DS-Notes/blob/main/Sept_Doubt_solving_1.ipynb\" target=\"_parent\"><img src=\"https://colab.research.google.com/assets/colab-badge.svg\" alt=\"Open In Colab\"/></a>"
      ]
    },
    {
      "cell_type": "code",
      "execution_count": null,
      "metadata": {
        "colab": {
          "base_uri": "https://localhost:8080/"
        },
        "id": "c78ZnjeJdat8",
        "outputId": "0b569272-6cc7-41fb-d50b-5927a7f76ecb"
      },
      "outputs": [
        {
          "output_type": "stream",
          "name": "stdout",
          "text": [
            "Welcome to the session guys!!\n"
          ]
        }
      ],
      "source": [
        "print(\"Welcome to the session guys!!\")"
      ]
    },
    {
      "cell_type": "code",
      "source": [
        "a = [-2, 4, 9, 11]\n",
        "\n",
        "b = 0"
      ],
      "metadata": {
        "id": "DRqt37COdhEg"
      },
      "execution_count": null,
      "outputs": []
    },
    {
      "cell_type": "code",
      "source": [
        "f = b\n",
        "for elem in a:\n",
        "\n",
        "  #find floor - last <= elem than b\n",
        "  if elem <= b:\n",
        "    f = elem\n",
        "\n",
        "print(f)"
      ],
      "metadata": {
        "colab": {
          "base_uri": "https://localhost:8080/"
        },
        "id": "ee0zypZRn17r",
        "outputId": "551b4a85-beb6-4e48-fbac-4df32170a02d"
      },
      "execution_count": null,
      "outputs": [
        {
          "output_type": "stream",
          "name": "stdout",
          "text": [
            "-2\n"
          ]
        }
      ]
    },
    {
      "cell_type": "code",
      "source": [
        "c = b\n",
        "for elem in a:\n",
        "\n",
        "  #find ceil - first >= elem than b\n",
        "  if elem >= b:\n",
        "    c = elem\n",
        "    break\n",
        "\n",
        "print(c)"
      ],
      "metadata": {
        "colab": {
          "base_uri": "https://localhost:8080/"
        },
        "id": "gel0rewRoHRu",
        "outputId": "64da7d59-2e89-4ac0-89ca-49eef725f288"
      },
      "execution_count": null,
      "outputs": [
        {
          "output_type": "stream",
          "name": "stdout",
          "text": [
            "4\n"
          ]
        }
      ]
    },
    {
      "cell_type": "code",
      "source": [
        "a = [-8, -2, 4, 9, 11]\n",
        "b = 0\n",
        "\n",
        "for elem in a:\n",
        "\n",
        "  #find floor - last <= elem than b\n",
        "  if elem <= b:\n",
        "    f = elem\n",
        "\n",
        "  #find ceil - first >= elem than b\n",
        "  if elem >= b:\n",
        "    c = elem\n",
        "    break\n",
        "\n",
        "print(f,c)"
      ],
      "metadata": {
        "colab": {
          "base_uri": "https://localhost:8080/"
        },
        "id": "5X07KP0EosAl",
        "outputId": "4039ce31-8cb9-4f6e-d147-eb75d55e0f4d"
      },
      "execution_count": null,
      "outputs": [
        {
          "output_type": "stream",
          "name": "stdout",
          "text": [
            "-2 4\n"
          ]
        }
      ]
    },
    {
      "cell_type": "code",
      "source": [
        "a = [-8, -2, 0, 4, 9, 11]\n",
        "b = 0\n",
        "\n",
        "for elem in a:\n",
        "\n",
        "  #find floor - last <= elem than b\n",
        "  if elem <= b:\n",
        "    f = elem\n",
        "\n",
        "  #find ceil - first >= elem than b\n",
        "  if elem >= b:\n",
        "    c = elem\n",
        "    break\n",
        "\n",
        "print(f,c)"
      ],
      "metadata": {
        "colab": {
          "base_uri": "https://localhost:8080/"
        },
        "id": "zf3zDiwbo5nw",
        "outputId": "59ec528f-a0e6-489b-a9f2-51249f103a1f"
      },
      "execution_count": null,
      "outputs": [
        {
          "output_type": "stream",
          "name": "stdout",
          "text": [
            "0 0\n"
          ]
        }
      ]
    },
    {
      "cell_type": "code",
      "source": [],
      "metadata": {
        "id": "UlT0E8rFppNs"
      },
      "execution_count": null,
      "outputs": []
    },
    {
      "cell_type": "code",
      "source": [
        "class Solution:\n",
        "    # @param A : list of integers\n",
        "    # @param B : integer\n",
        "    # @return a list of integers\n",
        "    def solve(self, A, B):\n",
        "        \n",
        "        for elem in A:\n",
        "            if elem <= B:\n",
        "                floor = elem\n",
        "            \n",
        "            if elem >= B:\n",
        "                ceil = elem\n",
        "                break\n",
        "            \n",
        "        \n",
        "        c = []\n",
        "        c.append(ceil)\n",
        "        c.append(floor)\n",
        "        \n",
        "        return c\n"
      ],
      "metadata": {
        "id": "eKZpP94aqjgl"
      },
      "execution_count": null,
      "outputs": []
    },
    {
      "cell_type": "code",
      "source": [
        "date = \"12/11/2022\" #d/m/y\n",
        "\n",
        "date_list = date.split(\"/\")\n",
        "\n",
        "print(date_list)"
      ],
      "metadata": {
        "colab": {
          "base_uri": "https://localhost:8080/"
        },
        "id": "yapKcQm7uieT",
        "outputId": "2bb27516-770f-4ffd-f046-7baabdad3256"
      },
      "execution_count": null,
      "outputs": [
        {
          "output_type": "stream",
          "name": "stdout",
          "text": [
            "['12', '11', '2022']\n"
          ]
        }
      ]
    },
    {
      "cell_type": "code",
      "source": [
        "#m/d/y\n",
        "date1 = date_list[1] + \"/\" + date_list[0] + \"/\" + date_list[2]"
      ],
      "metadata": {
        "id": "9OghCp9Vur-9"
      },
      "execution_count": null,
      "outputs": []
    },
    {
      "cell_type": "code",
      "source": [
        "print(date1)"
      ],
      "metadata": {
        "colab": {
          "base_uri": "https://localhost:8080/"
        },
        "id": "TyVOOdIiu4j6",
        "outputId": "1bcb71c3-13b8-4d3f-ea81-e2313434471e"
      },
      "execution_count": null,
      "outputs": [
        {
          "output_type": "stream",
          "name": "stdout",
          "text": [
            "11/12/2022\n"
          ]
        }
      ]
    },
    {
      "cell_type": "code",
      "source": [
        "\"/\".join(date_list)"
      ],
      "metadata": {
        "colab": {
          "base_uri": "https://localhost:8080/",
          "height": 35
        },
        "id": "pj5S4pz7u5jF",
        "outputId": "7e5e1bd9-1b92-4476-9c56-60472e8845f4"
      },
      "execution_count": null,
      "outputs": [
        {
          "output_type": "execute_result",
          "data": {
            "text/plain": [
              "'12/11/2022'"
            ],
            "application/vnd.google.colaboratory.intrinsic+json": {
              "type": "string"
            }
          },
          "metadata": {},
          "execution_count": 16
        }
      ]
    },
    {
      "cell_type": "code",
      "source": [
        "#y/m/d\n",
        "#d/m/y\n",
        "\n",
        "reverse_date_list = date_list[::-1]\n",
        "print(reverse_date_list)"
      ],
      "metadata": {
        "colab": {
          "base_uri": "https://localhost:8080/"
        },
        "id": "QhrfDYPEvCrw",
        "outputId": "b4772f41-6b4d-496a-89c9-b2d17729a442"
      },
      "execution_count": null,
      "outputs": [
        {
          "output_type": "stream",
          "name": "stdout",
          "text": [
            "['2022', '11', '12']\n"
          ]
        }
      ]
    },
    {
      "cell_type": "code",
      "source": [
        "date2 = \"/\".join(reverse_date_list)\n",
        "print(date2)"
      ],
      "metadata": {
        "colab": {
          "base_uri": "https://localhost:8080/"
        },
        "id": "3QAU3PwTviWL",
        "outputId": "f2113ebc-ee80-4f60-b2bc-cd92f46b6832"
      },
      "execution_count": null,
      "outputs": [
        {
          "output_type": "stream",
          "name": "stdout",
          "text": [
            "2022/11/12\n"
          ]
        }
      ]
    },
    {
      "cell_type": "code",
      "source": [
        "A,B,C = \"aabbccbb\", 98, 100\n",
        "#strings are immutable\n",
        "for i in A: \n",
        "  if ord(i) == B: \n",
        "    A.replace(i,chr(C)) \n",
        "  \n",
        "print(A)"
      ],
      "metadata": {
        "colab": {
          "base_uri": "https://localhost:8080/"
        },
        "id": "FmvW6Ft_vqyo",
        "outputId": "5128d5e3-b94f-4901-c9d1-f300e7e21a6c"
      },
      "execution_count": null,
      "outputs": [
        {
          "output_type": "stream",
          "name": "stdout",
          "text": [
            "aabbccbb\n"
          ]
        }
      ]
    },
    {
      "cell_type": "code",
      "source": [
        "A,B,C = \"aabbccbb\", 98, 100\n",
        "\n",
        "\n",
        "print(A.replace(chr(B), chr(C)))"
      ],
      "metadata": {
        "colab": {
          "base_uri": "https://localhost:8080/"
        },
        "id": "NckdqzxtxZUJ",
        "outputId": "42d24be7-96db-4b7f-dea2-c97a69aadab3"
      },
      "execution_count": null,
      "outputs": [
        {
          "output_type": "stream",
          "name": "stdout",
          "text": [
            "aaddccdd\n"
          ]
        }
      ]
    },
    {
      "cell_type": "code",
      "source": [
        "print(A)"
      ],
      "metadata": {
        "colab": {
          "base_uri": "https://localhost:8080/"
        },
        "id": "_2R9tEQoyBVq",
        "outputId": "13d6922f-86aa-475a-f858-9ac9a0876a58"
      },
      "execution_count": null,
      "outputs": [
        {
          "output_type": "stream",
          "name": "stdout",
          "text": [
            "aabbccbb\n"
          ]
        }
      ]
    },
    {
      "cell_type": "code",
      "source": [
        "class Solution:\n",
        "    # @param A : string\n",
        "    # @param B : integer\n",
        "    # @param C : integer\n",
        "    # @return a strings\n",
        "    def solve(self, A, B, C):\n",
        "        \n",
        "        new_str = A.replace(chr(B), chr(C))\n",
        "        return new_str\n"
      ],
      "metadata": {
        "id": "_dfXRx3SyO1c"
      },
      "execution_count": null,
      "outputs": []
    },
    {
      "cell_type": "code",
      "source": [
        "n = 5\n",
        "\n",
        "for i in range(1,n+1):\n",
        "  for j in range(1,n+1):\n",
        "\n",
        "    if i == 1 or j==1 or j==n-i+1:\n",
        "      print('*', end = \"\")\n",
        "    else:\n",
        "      print(' ', end =\"\")\n",
        "    \n",
        "  print()"
      ],
      "metadata": {
        "colab": {
          "base_uri": "https://localhost:8080/"
        },
        "id": "1NW-mv_h07OJ",
        "outputId": "df402a4c-6d0d-4297-f5ac-16e895d3b11f"
      },
      "execution_count": null,
      "outputs": [
        {
          "output_type": "stream",
          "name": "stdout",
          "text": [
            "*****\n",
            "*  * \n",
            "* *  \n",
            "**   \n",
            "*    \n"
          ]
        }
      ]
    },
    {
      "cell_type": "code",
      "source": [
        "a=[[1,2,3],\n",
        "   [4,5,6],\n",
        "   [7,8,9]]\n",
        "\n",
        "\n",
        "b=[[1,2,3],\n",
        "   [4,5,6],\n",
        "   [7,8,9]]\n",
        "\n",
        "rows= len(a)\n",
        "cols = len(a[0])\n",
        "\n",
        "for i in range(rows):\n",
        "  for j in range(cols):\n",
        "\n",
        "    if a[i][j] != b[i][j]:\n",
        "      print(\"Not equal\")\n",
        "      break\n",
        "\n"
      ],
      "metadata": {
        "id": "O_Ms1T-F1H9y"
      },
      "execution_count": null,
      "outputs": []
    },
    {
      "cell_type": "code",
      "source": [
        "# def solve(self, A, B):\n",
        "# n = len(A)\n",
        "# D = []\n",
        "# for i in range(n):\n",
        "# if A[i] == B:\n",
        "# D.append(A[i])\n",
        "# D.append(A[i])\n",
        "# elif A[i] < B and A[i+1] > B:\n",
        "# D.append(A[i+1])\n",
        "# D.append(A[i])\n",
        "# return D"
      ],
      "metadata": {
        "id": "vbOQDlyr7TtH"
      },
      "execution_count": null,
      "outputs": []
    }
  ]
}