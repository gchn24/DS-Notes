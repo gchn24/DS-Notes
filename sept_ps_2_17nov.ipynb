{
  "nbformat": 4,
  "nbformat_minor": 0,
  "metadata": {
    "colab": {
      "provenance": [],
      "include_colab_link": true
    },
    "kernelspec": {
      "name": "python3",
      "display_name": "Python 3"
    },
    "language_info": {
      "name": "python"
    }
  },
  "cells": [
    {
      "cell_type": "markdown",
      "metadata": {
        "id": "view-in-github",
        "colab_type": "text"
      },
      "source": [
        "<a href=\"https://colab.research.google.com/github/gchn24/DS-Notes/blob/main/sept_ps_2_17nov.ipynb\" target=\"_parent\"><img src=\"https://colab.research.google.com/assets/colab-badge.svg\" alt=\"Open In Colab\"/></a>"
      ]
    },
    {
      "cell_type": "code",
      "execution_count": null,
      "metadata": {
        "colab": {
          "base_uri": "https://localhost:8080/"
        },
        "id": "-AoBm3GUNigA",
        "outputId": "4888fca2-61f3-4b70-811d-f5d91dfcb03d"
      },
      "outputs": [
        {
          "output_type": "stream",
          "name": "stdout",
          "text": [
            "Exec "
          ]
        }
      ],
      "source": [
        "n=8\n",
        "while n>=0:\n",
        "  n -= 2\n",
        "  if n%2==0:\n",
        "    continue\n",
        "    print(n, end=\" \")\n",
        "\n",
        "print(\"Exec\", end=\" \")"
      ]
    },
    {
      "cell_type": "code",
      "source": [
        "#vowels and consonents\n",
        "\n",
        "s = input()\n",
        "count_v = 0\n",
        "count_c = 0\n",
        "\n",
        "for c in s:\n",
        "  if c == 'a' or c == 'e' or c == 'i' or c == 'o' or c== 'u':\n",
        "    count_v += 1\n",
        "  else:\n",
        "    count_c += 1\n",
        "\n",
        "print(count_v, count_c) "
      ],
      "metadata": {
        "colab": {
          "base_uri": "https://localhost:8080/"
        },
        "id": "4rPxO2jjQGls",
        "outputId": "4284011b-cc8f-4ef3-c8d9-53a72f4db610"
      },
      "execution_count": null,
      "outputs": [
        {
          "output_type": "stream",
          "name": "stdout",
          "text": [
            "scaler\n",
            "2 4\n"
          ]
        }
      ]
    },
    {
      "cell_type": "code",
      "source": [
        "#vowels and consonents\n",
        "\n",
        "s = input()\n",
        "count_v = 0\n",
        "count_c = 0\n",
        "\n",
        "n = len(s)\n",
        "\n",
        "for c in s:\n",
        "  if c == 'a' or c == 'e' or c == 'i' or c == 'o' or c== 'u':\n",
        "    count_v += 1\n",
        "\n",
        "print(count_v, (n - count_v)) "
      ],
      "metadata": {
        "colab": {
          "base_uri": "https://localhost:8080/"
        },
        "id": "e_DUMjrmRymT",
        "outputId": "693de2e1-d0f1-4d90-8171-2c2c744d55b0"
      },
      "execution_count": null,
      "outputs": [
        {
          "output_type": "stream",
          "name": "stdout",
          "text": [
            "interviewbit\n",
            "5 7\n"
          ]
        }
      ]
    },
    {
      "cell_type": "code",
      "source": [
        "#vowels and consonents\n",
        "\n",
        "s = input()\n",
        "count_v = 0\n",
        "count_c = 0\n",
        "\n",
        "n = len(s)\n",
        "\n",
        "vowels = ['a','e','i','o','u']\n",
        "\n",
        "for c in s:\n",
        "  if c in vowels:\n",
        "    count_v += 1\n",
        "\n",
        "print(count_v, (n - count_v)) "
      ],
      "metadata": {
        "colab": {
          "base_uri": "https://localhost:8080/"
        },
        "id": "66LvQoMNSfZp",
        "outputId": "d13f35c5-2f48-4ede-ee8b-d5f3644f03f1"
      },
      "execution_count": null,
      "outputs": [
        {
          "output_type": "stream",
          "name": "stdout",
          "text": [
            "scaler\n",
            "2 4\n"
          ]
        }
      ]
    },
    {
      "cell_type": "code",
      "source": [
        "#vowels and consonents\n",
        "\n",
        "s = input()\n",
        "count_v = 0\n",
        "count_c = 0\n",
        "\n",
        "n = len(s)\n",
        "\n",
        "for c in s:\n",
        "  if c in 'aeiou':\n",
        "    count_v += 1\n",
        "\n",
        "print(count_v, (n - count_v)) "
      ],
      "metadata": {
        "id": "vqOwvlIlTKhK"
      },
      "execution_count": null,
      "outputs": []
    },
    {
      "cell_type": "code",
      "source": [
        "for c in \"aeiou\":\n",
        "  print(c)"
      ],
      "metadata": {
        "colab": {
          "base_uri": "https://localhost:8080/"
        },
        "id": "iOr6qYifUTWW",
        "outputId": "af0162da-7e86-4fb8-82b3-cb25de910285"
      },
      "execution_count": null,
      "outputs": [
        {
          "output_type": "stream",
          "name": "stdout",
          "text": [
            "a\n",
            "e\n",
            "i\n",
            "o\n",
            "u\n"
          ]
        }
      ]
    },
    {
      "cell_type": "code",
      "source": [
        "for c in ['a','e','i','o','u']:\n",
        "  print(c)"
      ],
      "metadata": {
        "colab": {
          "base_uri": "https://localhost:8080/"
        },
        "id": "V45WhTTCUWHY",
        "outputId": "9b0f0090-6019-4a2e-cdc9-dd9905438603"
      },
      "execution_count": null,
      "outputs": [
        {
          "output_type": "stream",
          "name": "stdout",
          "text": [
            "a\n",
            "e\n",
            "i\n",
            "o\n",
            "u\n"
          ]
        }
      ]
    },
    {
      "cell_type": "code",
      "source": [
        "class Solution:\n",
        "    # @param A : string\n",
        "    # @return a list of integers\n",
        "    def solve(self, A):\n",
        "        \n",
        "        s = A\n",
        "        count_v = 0\n",
        "        count_c = 0\n",
        "        \n",
        "        ans = []\n",
        "        n = len(s)\n",
        "        \n",
        "        for c in s:\n",
        "          if c in 'aeiou':\n",
        "            count_v += 1\n",
        "            \n",
        "        count_c= n - count_v\n",
        "        ans.append(count_v)\n",
        "        ans.append(count_c)\n",
        "        \n",
        "        return ans\n"
      ],
      "metadata": {
        "id": "tMP3xSmdUeKy"
      },
      "execution_count": null,
      "outputs": []
    },
    {
      "cell_type": "code",
      "source": [
        "#upper word to lower\n",
        "\n",
        "s = input()\n",
        "\n",
        "ans = \"\"\n",
        "\n",
        "for c in s:\n",
        "  ans += chr(ord(c)+32)\n",
        "\n",
        "print(ans)"
      ],
      "metadata": {
        "colab": {
          "base_uri": "https://localhost:8080/"
        },
        "id": "ynLK5WOEWTGa",
        "outputId": "c04706da-f547-4648-fc7a-ed3fb6dc834c"
      },
      "execution_count": null,
      "outputs": [
        {
          "output_type": "stream",
          "name": "stdout",
          "text": [
            "SCALER\n",
            "scaler\n"
          ]
        }
      ]
    },
    {
      "cell_type": "code",
      "source": [
        "print(ord('a') - ord('A'))"
      ],
      "metadata": {
        "colab": {
          "base_uri": "https://localhost:8080/"
        },
        "id": "_kSHA23aWs_V",
        "outputId": "bc9d3469-5d2b-4db8-9cdb-235465293e3c"
      },
      "execution_count": null,
      "outputs": [
        {
          "output_type": "stream",
          "name": "stdout",
          "text": [
            "32\n"
          ]
        }
      ]
    },
    {
      "cell_type": "code",
      "source": [
        "#upper word to lower\n",
        "\n",
        "s = input()\n",
        "\n",
        "ans = \"\"\n",
        "\n",
        "for c in s:\n",
        "  ans += chr(ord('a')+ ord(c)-ord('A'))\n",
        "\n",
        "print(ans)"
      ],
      "metadata": {
        "colab": {
          "base_uri": "https://localhost:8080/"
        },
        "id": "NE1Ah_T1XOgG",
        "outputId": "987e9de5-f736-466c-c1f3-170641252e60"
      },
      "execution_count": null,
      "outputs": [
        {
          "output_type": "stream",
          "name": "stdout",
          "text": [
            "SCALER\n",
            "scaler\n"
          ]
        }
      ]
    },
    {
      "cell_type": "code",
      "source": [
        "#upper word to lower\n",
        "\n",
        "s = input()\n",
        "\n",
        "\n",
        "for c in s:\n",
        "  print(ord(c) - ord('A'))\n"
      ],
      "metadata": {
        "colab": {
          "base_uri": "https://localhost:8080/"
        },
        "id": "Ak4uXzC7X7sx",
        "outputId": "c4aa29ea-09b7-4468-d8ee-189aee8b25b0"
      },
      "execution_count": null,
      "outputs": [
        {
          "output_type": "stream",
          "name": "stdout",
          "text": [
            "SCALER\n",
            "18\n",
            "2\n",
            "0\n",
            "11\n",
            "4\n",
            "17\n"
          ]
        }
      ]
    },
    {
      "cell_type": "code",
      "source": [
        "s = input()\n",
        "\n",
        "n = len(s)\n",
        "ans = \"\"\n",
        "\n",
        "for i in range(n-1, -1, -1):\n",
        "  ans += s[i]\n",
        "\n",
        "print(f\"The reverse of the string {s} is {ans}\")"
      ],
      "metadata": {
        "colab": {
          "base_uri": "https://localhost:8080/"
        },
        "id": "l0XK1ER4Z3F6",
        "outputId": "c502d778-3322-49e0-f200-2534726aa1fe"
      },
      "execution_count": null,
      "outputs": [
        {
          "output_type": "stream",
          "name": "stdout",
          "text": [
            "aditya\n",
            "The reverse of the string aditya is aytida\n"
          ]
        }
      ]
    },
    {
      "cell_type": "code",
      "source": [
        "s = input()\n",
        "\n",
        "n = len(s)\n",
        "ans = \"\"\n",
        "\n",
        "for i in range(n-1, -1, -1):\n",
        "  ans += s[i]\n",
        "\n",
        "print(f\"The reverse of the string {s} is {ans}\")"
      ],
      "metadata": {
        "colab": {
          "base_uri": "https://localhost:8080/"
        },
        "id": "PNW41fj1bYtt",
        "outputId": "c4d8649f-cbd8-4f32-ad0c-0f0d750598a9"
      },
      "execution_count": null,
      "outputs": [
        {
          "output_type": "stream",
          "name": "stdout",
          "text": [
            "scaler\n",
            "The reverse of the string scaler is relacs\n"
          ]
        }
      ]
    },
    {
      "cell_type": "code",
      "source": [
        "s = input()\n",
        "\n",
        "n = len(s)\n",
        "ans = \"\"\n",
        "\n",
        "for i in range(n, -1, -1):\n",
        "  ans += s[i]\n",
        "\n",
        "print(f\"The reverse of the string {s} is {ans}\")"
      ],
      "metadata": {
        "colab": {
          "base_uri": "https://localhost:8080/",
          "height": 253
        },
        "id": "sKtcVDOnbeKf",
        "outputId": "677ec513-db93-415e-9b32-09d5348cf069"
      },
      "execution_count": null,
      "outputs": [
        {
          "name": "stdout",
          "output_type": "stream",
          "text": [
            "scaler\n"
          ]
        },
        {
          "output_type": "error",
          "ename": "IndexError",
          "evalue": "ignored",
          "traceback": [
            "\u001b[0;31m---------------------------------------------------------------------------\u001b[0m",
            "\u001b[0;31mIndexError\u001b[0m                                Traceback (most recent call last)",
            "\u001b[0;32m<ipython-input-17-9ffb04bd0905>\u001b[0m in \u001b[0;36m<module>\u001b[0;34m\u001b[0m\n\u001b[1;32m      5\u001b[0m \u001b[0;34m\u001b[0m\u001b[0m\n\u001b[1;32m      6\u001b[0m \u001b[0;32mfor\u001b[0m \u001b[0mi\u001b[0m \u001b[0;32min\u001b[0m \u001b[0mrange\u001b[0m\u001b[0;34m(\u001b[0m\u001b[0mn\u001b[0m\u001b[0;34m,\u001b[0m \u001b[0;34m-\u001b[0m\u001b[0;36m1\u001b[0m\u001b[0;34m,\u001b[0m \u001b[0;34m-\u001b[0m\u001b[0;36m1\u001b[0m\u001b[0;34m)\u001b[0m\u001b[0;34m:\u001b[0m\u001b[0;34m\u001b[0m\u001b[0;34m\u001b[0m\u001b[0m\n\u001b[0;32m----> 7\u001b[0;31m   \u001b[0mans\u001b[0m \u001b[0;34m+=\u001b[0m \u001b[0ms\u001b[0m\u001b[0;34m[\u001b[0m\u001b[0mi\u001b[0m\u001b[0;34m]\u001b[0m\u001b[0;34m\u001b[0m\u001b[0;34m\u001b[0m\u001b[0m\n\u001b[0m\u001b[1;32m      8\u001b[0m \u001b[0;34m\u001b[0m\u001b[0m\n\u001b[1;32m      9\u001b[0m \u001b[0mprint\u001b[0m\u001b[0;34m(\u001b[0m\u001b[0;34mf\"The reverse of the string {s} is {ans}\"\u001b[0m\u001b[0;34m)\u001b[0m\u001b[0;34m\u001b[0m\u001b[0;34m\u001b[0m\u001b[0m\n",
            "\u001b[0;31mIndexError\u001b[0m: string index out of range"
          ]
        }
      ]
    },
    {
      "cell_type": "code",
      "source": [
        "s = input()\n",
        "\n",
        "ans = \"\"\n",
        "\n",
        "for c in s:\n",
        "  ans = c + ans\n",
        "\n",
        "print(f\"The reverse of the string {s} is {ans}\")\n",
        "\n"
      ],
      "metadata": {
        "colab": {
          "base_uri": "https://localhost:8080/"
        },
        "id": "oWO5NErYboYb",
        "outputId": "92bad744-6997-423d-abed-e4a10d56730a"
      },
      "execution_count": null,
      "outputs": [
        {
          "output_type": "stream",
          "name": "stdout",
          "text": [
            "scaler\n",
            "The reverse of the string scaler is relacs\n"
          ]
        }
      ]
    },
    {
      "cell_type": "code",
      "source": [
        "n = int(input())\n",
        "\n",
        "#loop over each row\n",
        "for i in range(1, n+1):\n",
        "\n",
        "  #starting zeros part\n",
        "  z = n-i\n",
        "  for j in range(0, z):\n",
        "    print('0', end = \" \")\n",
        "\n",
        "  #increasing part\n",
        "  inc_start = i\n",
        "  inc_end = 2*i-1\n",
        "\n",
        "  for j in range(inc_start, inc_end+1):\n",
        "    print(j, end = \" \")\n",
        "\n",
        "\n",
        "  #decreasing part\n",
        "  dec_start = inc_end-1\n",
        "  dec_end = i\n",
        "\n",
        "  for j in range(dec_start, dec_end - 1, -1):\n",
        "    print(j, end = \" \")\n",
        "\n",
        "\n",
        "  #ending zeros part\n",
        "  z = n-i\n",
        "  for j in range(0, z):\n",
        "    print('0', end = \" \")\n",
        "\n",
        "  #go to next rwo\n",
        "  print()\n",
        "\n"
      ],
      "metadata": {
        "colab": {
          "base_uri": "https://localhost:8080/"
        },
        "id": "xkuTRBracgjo",
        "outputId": "4b0b2a44-f11b-48fe-def7-395c3626b1a8"
      },
      "execution_count": null,
      "outputs": [
        {
          "output_type": "stream",
          "name": "stdout",
          "text": [
            "5\n",
            "0 0 0 0 1 0 0 0 0 \n",
            "0 0 0 2 3 2 0 0 0 \n",
            "0 0 3 4 5 4 3 0 0 \n",
            "0 4 5 6 7 6 5 4 0 \n",
            "5 6 7 8 9 8 7 6 5 \n"
          ]
        }
      ]
    },
    {
      "cell_type": "code",
      "source": [],
      "metadata": {
        "id": "LHe7NaIVl9Sm"
      },
      "execution_count": null,
      "outputs": []
    }
  ]
}