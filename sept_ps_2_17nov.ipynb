{
  "nbformat": 4,
  "nbformat_minor": 0,
  "metadata": {
    "colab": {
      "provenance": [],
      "include_colab_link": true
    },
    "kernelspec": {
      "name": "python3",
      "display_name": "Python 3"
    },
    "language_info": {
      "name": "python"
    }
  },
  "cells": [
    {
      "cell_type": "markdown",
      "metadata": {
        "id": "view-in-github",
        "colab_type": "text"
      },
      "source": [
        "<a href=\"https://colab.research.google.com/github/gchn24/DS-Notes/blob/main/sept_ps_2_17nov.ipynb\" target=\"_parent\"><img src=\"https://colab.research.google.com/assets/colab-badge.svg\" alt=\"Open In Colab\"/></a>"
      ]
    },
    {
      "cell_type": "code",
      "execution_count": null,
      "metadata": {
        "colab": {
          "base_uri": "https://localhost:8080/"
        },
        "id": "-AoBm3GUNigA",
        "outputId": "4888fca2-61f3-4b70-811d-f5d91dfcb03d"
      },
      "outputs": [
        {
          "output_type": "stream",
          "name": "stdout",
          "text": [
            "Exec "
          ]
        }
      ],
      "source": [
        "n=8\n",
        "while n>=0:\n",
        "  n -= 2\n",
        "  if n%2==0:\n",
        "    continue\n",
        "    print(n, end=\" \")\n",
        "\n",
        "print(\"Exec\", end=\" \")"
      ]
    },
    {
      "cell_type": "code",
      "source": [
        "#vowels and consonents\n",
        "\n",
        "s = input()\n",
        "count_v = 0\n",
        "count_c = 0\n",
        "\n",
        "for c in s:\n",
        "  if c == 'a' or c == 'e' or c == 'i' or c == 'o' or c== 'u':\n",
        "    count_v += 1\n",
        "  else:\n",
        "    count_c += 1\n",
        "\n",
        "print(count_v, count_c) "
      ],
      "metadata": {
        "colab": {
          "base_uri": "https://localhost:8080/"
        },
        "id": "4rPxO2jjQGls",
        "outputId": "4284011b-cc8f-4ef3-c8d9-53a72f4db610"
      },
      "execution_count": null,
      "outputs": [
        {
          "output_type": "stream",
          "name": "stdout",
          "text": [
            "scaler\n",
            "2 4\n"
          ]
        }
      ]
    },
    {
      "cell_type": "code",
      "source": [
        "#vowels and consonents\n",
        "\n",
        "s = input()\n",
        "count_v = 0\n",
        "count_c = 0\n",
        "\n",
        "n = len(s)\n",
        "\n",
        "for c in s:\n",
        "  if c == 'a' or c == 'e' or c == 'i' or c == 'o' or c== 'u':\n",
        "    count_v += 1\n",
        "\n",
        "print(count_v, (n - count_v)) "
      ],
      "metadata": {
        "colab": {
          "base_uri": "https://localhost:8080/"
        },
        "id": "e_DUMjrmRymT",
        "outputId": "693de2e1-d0f1-4d90-8171-2c2c744d55b0"
      },
      "execution_count": null,
      "outputs": [
        {
          "output_type": "stream",
          "name": "stdout",
          "text": [
            "interviewbit\n",
            "5 7\n"
          ]
        }
      ]
    },
    {
      "cell_type": "code",
      "source": [
        "#vowels and consonents\n",
        "\n",
        "s = input()\n",
        "count_v = 0\n",
        "count_c = 0\n",
        "\n",
        "n = len(s)\n",
        "\n",
        "vowels = ['a','e','i','o','u']\n",
        "\n",
        "for c in s:\n",
        "  if c in vowels:\n",
        "    count_v += 1\n",
        "\n",
        "print(count_v, (n - count_v)) "
      ],
      "metadata": {
        "colab": {
          "base_uri": "https://localhost:8080/"
        },
        "id": "66LvQoMNSfZp",
        "outputId": "d13f35c5-2f48-4ede-ee8b-d5f3644f03f1"
      },
      "execution_count": null,
      "outputs": [
        {
          "output_type": "stream",
          "name": "stdout",
          "text": [
            "scaler\n",
            "2 4\n"
          ]
        }
      ]
    },
    {
      "cell_type": "code",
      "source": [
        "#vowels and consonents\n",
        "\n",
        "s = input()\n",
        "count_v = 0\n",
        "count_c = 0\n",
        "\n",
        "n = len(s)\n",
        "\n",
        "for c in s:\n",
        "  if c in 'aeiou':\n",
        "    count_v += 1\n",
        "\n",
        "print(count_v, (n - count_v)) "
      ],
      "metadata": {
        "id": "vqOwvlIlTKhK"
      },
      "execution_count": null,
      "outputs": []
    }
  ]
}