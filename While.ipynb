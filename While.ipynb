{
  "nbformat": 4,
  "nbformat_minor": 0,
  "metadata": {
    "colab": {
      "provenance": [],
      "include_colab_link": true
    },
    "kernelspec": {
      "name": "python3",
      "display_name": "Python 3"
    },
    "language_info": {
      "name": "python"
    }
  },
  "cells": [
    {
      "cell_type": "markdown",
      "metadata": {
        "id": "view-in-github",
        "colab_type": "text"
      },
      "source": [
        "<a href=\"https://colab.research.google.com/github/gchn24/DS-Notes/blob/main/While.ipynb\" target=\"_parent\"><img src=\"https://colab.research.google.com/assets/colab-badge.svg\" alt=\"Open In Colab\"/></a>"
      ]
    },
    {
      "cell_type": "code",
      "execution_count": null,
      "metadata": {
        "colab": {
          "base_uri": "https://localhost:8080/"
        },
        "id": "ZLU8RVJ7CWxf",
        "outputId": "d66af670-c59a-4bf8-d866-48ca4b12659f"
      },
      "outputs": [
        {
          "output_type": "stream",
          "name": "stdout",
          "text": [
            "How's the josh??\n"
          ]
        }
      ],
      "source": [
        "print(\"How's the josh??\")"
      ]
    },
    {
      "cell_type": "code",
      "source": [
        "#print all the numbers from 1 to 5 - each on new line\n",
        "\n",
        "#initialization\n",
        "number = 1\n",
        "\n",
        "#condition\n",
        "while number <= 5:\n",
        "  #task/logic goes here\n",
        "  print(number)\n",
        "\n",
        "  #here we have skipped the updation step- and loop will never end - infinite loop\n"
      ],
      "metadata": {
        "id": "wJfUtvvgC3AM"
      },
      "execution_count": null,
      "outputs": []
    },
    {
      "cell_type": "code",
      "source": [
        "#print all the numbers from 1 to 5 - each on new line\n",
        "\n",
        "#initialization\n",
        "number = 0\n",
        "\n",
        "#condition\n",
        "while number <= 5:\n",
        "  #task/logic goes here\n",
        "  print(number)\n",
        "\n",
        "  #update\n",
        "  number += 1\n",
        "\n",
        "print(\"hi\")"
      ],
      "metadata": {
        "colab": {
          "base_uri": "https://localhost:8080/"
        },
        "id": "ZH93FMleKe0G",
        "outputId": "b196cdba-298a-47a5-a963-6ba139d8215f"
      },
      "execution_count": null,
      "outputs": [
        {
          "output_type": "stream",
          "name": "stdout",
          "text": [
            "0\n",
            "1\n",
            "2\n",
            "3\n",
            "4\n",
            "5\n",
            "hi\n"
          ]
        }
      ]
    },
    {
      "cell_type": "code",
      "source": [
        "#print all the numbers from 1 to 5 - each on new line\n",
        "\n",
        "#initialization\n",
        "number = 0\n",
        "\n",
        "#condition\n",
        "while number <= 5:\n",
        "  #update\n",
        "  number += 1\n",
        "\n",
        "  #task/logic goes here\n",
        "  print(number)\n",
        "\n",
        "print(\"hi\")"
      ],
      "metadata": {
        "colab": {
          "base_uri": "https://localhost:8080/"
        },
        "id": "6H5gXKQcNmCp",
        "outputId": "754a5095-a8c3-43ec-e38c-683e0e2ea11b"
      },
      "execution_count": null,
      "outputs": [
        {
          "output_type": "stream",
          "name": "stdout",
          "text": [
            "1\n",
            "2\n",
            "3\n",
            "4\n",
            "5\n",
            "6\n",
            "hi\n"
          ]
        }
      ]
    },
    {
      "cell_type": "code",
      "source": [
        "i = 2\n",
        "\n",
        "count = 0\n",
        "\n",
        "while i <= 4:\n",
        "  print(i)\n",
        "  i += 1\n",
        "  count += 1\n",
        "\n",
        "print('outside this loop')\n",
        "print(count)"
      ],
      "metadata": {
        "colab": {
          "base_uri": "https://localhost:8080/"
        },
        "id": "WVGwtYjCLlfl",
        "outputId": "6cc50893-9b99-49ae-d0c1-15dae037c7b3"
      },
      "execution_count": null,
      "outputs": [
        {
          "output_type": "stream",
          "name": "stdout",
          "text": [
            "2\n",
            "3\n",
            "4\n",
            "outside this loop\n",
            "3\n"
          ]
        }
      ]
    },
    {
      "cell_type": "code",
      "source": [
        "i = 0\n",
        "\n",
        "count = 0\n",
        "\n",
        "#updation before task\n",
        "while i <= 4:\n",
        "  \n",
        "  print(i)\n",
        "  i += 1\n",
        "  count += 1\n",
        "\n",
        "print('outside this loop')\n",
        "print(count) #how many times the loop has ran"
      ],
      "metadata": {
        "colab": {
          "base_uri": "https://localhost:8080/"
        },
        "id": "IKCcqxHLMcbk",
        "outputId": "117dff04-5d67-41ce-cd31-04207f969694"
      },
      "execution_count": null,
      "outputs": [
        {
          "output_type": "stream",
          "name": "stdout",
          "text": [
            "0\n",
            "1\n",
            "2\n",
            "3\n",
            "4\n",
            "outside this loop\n",
            "5\n"
          ]
        }
      ]
    },
    {
      "cell_type": "code",
      "source": [
        "#Question1:\n",
        " "
      ],
      "metadata": {
        "id": "jQZLaUILNZ36"
      },
      "execution_count": null,
      "outputs": []
    },
    {
      "cell_type": "markdown",
      "source": [
        "Question1: Take an input (n) from the user and print all the numbers from 1 to n in new line\n",
        "\n"
      ],
      "metadata": {
        "id": "blQCWjaiPTTH"
      }
    },
    {
      "cell_type": "code",
      "source": [
        "n = int(input())\n",
        "\n",
        "#initialization\n",
        "i = 1\n",
        "\n",
        "#condition\n",
        "while i<=n:\n",
        "\n",
        "  #task\n",
        "  print(i)\n",
        "\n",
        "  #updation\n",
        "  i = i+1 # i += 1"
      ],
      "metadata": {
        "colab": {
          "base_uri": "https://localhost:8080/"
        },
        "id": "hHaFEp3NPd1L",
        "outputId": "c0db384b-ce24-4e32-ce3c-2817cd50f334"
      },
      "execution_count": null,
      "outputs": [
        {
          "output_type": "stream",
          "name": "stdout",
          "text": [
            "5\n",
            "1\n",
            "2\n",
            "3\n",
            "4\n",
            "5\n"
          ]
        }
      ]
    },
    {
      "cell_type": "code",
      "source": [
        "n = int(input())\n",
        "\n",
        "#initialization\n",
        "i = 1\n",
        "\n",
        "#condition\n",
        "while i==n:\n",
        "  #task\n",
        "  print(i)\n",
        "  #updation\n",
        "  i = i+1 # i += 1"
      ],
      "metadata": {
        "colab": {
          "base_uri": "https://localhost:8080/"
        },
        "id": "MxeFRDCKQGA7",
        "outputId": "3abab1fd-37a4-45a1-b24c-87d13052fbd7"
      },
      "execution_count": null,
      "outputs": [
        {
          "name": "stdout",
          "output_type": "stream",
          "text": [
            "5\n"
          ]
        }
      ]
    },
    {
      "cell_type": "code",
      "source": [],
      "metadata": {
        "colab": {
          "base_uri": "https://localhost:8080/",
          "height": 134
        },
        "id": "CXieMDpaRJAf",
        "outputId": "ef603ee0-73b9-4dbc-bb3c-be58801cd4da"
      },
      "execution_count": null,
      "outputs": [
        {
          "output_type": "error",
          "ename": "SyntaxError",
          "evalue": "ignored",
          "traceback": [
            "\u001b[0;36m  File \u001b[0;32m\"<ipython-input-17-914000057545>\"\u001b[0;36m, line \u001b[0;32m1\u001b[0m\n\u001b[0;31m    Question2: Take an input (n) from the user and print all the alternate numbers from 1 to n in new line\u001b[0m\n\u001b[0m                     ^\u001b[0m\n\u001b[0;31mSyntaxError\u001b[0m\u001b[0;31m:\u001b[0m invalid syntax\n"
          ]
        }
      ]
    },
    {
      "cell_type": "markdown",
      "source": [
        "Question 2: Take an input (n) from the user and print all the alternate numbers from 1 to n in new line\n",
        "\n"
      ],
      "metadata": {
        "id": "4vM1VF_xRaJ2"
      }
    },
    {
      "cell_type": "code",
      "source": [
        "n = int(input())\n",
        "\n",
        "#initialization\n",
        "i = 1\n",
        "count = 0\n",
        "\n",
        "#condition\n",
        "while i<=n:\n",
        "  #task\n",
        "  print(i)\n",
        "  count += 1\n",
        "  \n",
        "  #updation\n",
        "  i = i+2 # i += 2\n",
        "\n",
        "print(count)"
      ],
      "metadata": {
        "colab": {
          "base_uri": "https://localhost:8080/"
        },
        "id": "sRjpPFNlRYrh",
        "outputId": "bd9d5603-7e69-4705-86f3-e88f8b5b58d3"
      },
      "execution_count": null,
      "outputs": [
        {
          "output_type": "stream",
          "name": "stdout",
          "text": [
            "7\n",
            "1\n",
            "3\n",
            "5\n",
            "7\n",
            "4\n"
          ]
        }
      ]
    },
    {
      "cell_type": "code",
      "source": [],
      "metadata": {
        "id": "lNc3l9g2RuUj"
      },
      "execution_count": null,
      "outputs": []
    },
    {
      "cell_type": "markdown",
      "source": [
        "Question 3: Take start and end values from the user and print every 3rd number from start till end in new line.\n",
        ":\n",
        "\n",
        "Ex: 1 4 7..."
      ],
      "metadata": {
        "id": "Xxupmr1nSLPk"
      }
    },
    {
      "cell_type": "code",
      "source": [
        "start = int(input())\n",
        "end = int(input())\n",
        "\n",
        "#initialization\n",
        "i = start\n",
        "\n",
        "while i <= end:\n",
        "  print(i)\n",
        "\n",
        "  i += 3"
      ],
      "metadata": {
        "colab": {
          "base_uri": "https://localhost:8080/"
        },
        "id": "lu3MfsmkScXX",
        "outputId": "03aaf223-afb8-48b4-92b4-95671a1f7726"
      },
      "execution_count": null,
      "outputs": [
        {
          "output_type": "stream",
          "name": "stdout",
          "text": [
            "5\n",
            "15\n",
            "5\n",
            "8\n",
            "11\n",
            "14\n"
          ]
        }
      ]
    },
    {
      "cell_type": "code",
      "source": [
        "start = int(input())\n",
        "end = int(input())\n",
        "\n",
        "while start <= end:\n",
        "  print(start)\n",
        "\n",
        "  start += 3"
      ],
      "metadata": {
        "colab": {
          "base_uri": "https://localhost:8080/"
        },
        "id": "1y46IkszTOJ5",
        "outputId": "6ad88d8b-2c89-4236-c5f0-99c3d47251b7"
      },
      "execution_count": null,
      "outputs": [
        {
          "output_type": "stream",
          "name": "stdout",
          "text": [
            "5\n",
            "15\n",
            "5\n",
            "8\n",
            "11\n",
            "14\n"
          ]
        }
      ]
    },
    {
      "cell_type": "code",
      "source": [],
      "metadata": {
        "id": "YAClgnScT318"
      },
      "execution_count": null,
      "outputs": []
    },
    {
      "cell_type": "markdown",
      "source": [
        "Question 4: Take start and end values from user.\n",
        "Print all the even numbers between them (including start and end)"
      ],
      "metadata": {
        "id": "wf2hZkTdUGUT"
      }
    },
    {
      "cell_type": "code",
      "source": [
        "start = int(input())\n",
        "end = int(input())\n",
        "\n",
        "while start <= end:\n",
        "  print(start)\n",
        "  start += 2\n",
        "\n",
        "#this is to print all the alternate numbers from start till end"
      ],
      "metadata": {
        "colab": {
          "base_uri": "https://localhost:8080/"
        },
        "id": "39AoGwsBUPvc",
        "outputId": "877d655f-93c9-482f-8e3f-08472d5bd3b8"
      },
      "execution_count": null,
      "outputs": [
        {
          "output_type": "stream",
          "name": "stdout",
          "text": [
            "3\n",
            "10\n",
            "3\n",
            "5\n",
            "7\n",
            "9\n"
          ]
        }
      ]
    },
    {
      "cell_type": "code",
      "source": [
        "start = int(input())\n",
        "end = int(input())\n",
        "\n",
        "i = start\n",
        "while i <= end:\n",
        "  if i % 2 == 0:\n",
        "    print(i)\n",
        "  \n",
        "  i += 1\n",
        "\n",
        "#this is to print all the alternate numbers from start till end"
      ],
      "metadata": {
        "colab": {
          "base_uri": "https://localhost:8080/"
        },
        "id": "f-11KF8qU0Hj",
        "outputId": "38706143-c63a-491a-910b-62cd3f989474"
      },
      "execution_count": null,
      "outputs": [
        {
          "output_type": "stream",
          "name": "stdout",
          "text": [
            "3\n",
            "7\n",
            "4\n",
            "6\n"
          ]
        }
      ]
    },
    {
      "cell_type": "code",
      "source": [],
      "metadata": {
        "id": "bHU9e7dnVZqo"
      },
      "execution_count": null,
      "outputs": []
    },
    {
      "cell_type": "code",
      "source": [],
      "metadata": {
        "colab": {
          "base_uri": "https://localhost:8080/",
          "height": 134
        },
        "id": "BjYRiPAnZLab",
        "outputId": "9f972963-6db6-4bcf-fe25-dd4ffe24f10d"
      },
      "execution_count": null,
      "outputs": [
        {
          "output_type": "error",
          "ename": "SyntaxError",
          "evalue": "ignored",
          "traceback": [
            "\u001b[0;36m  File \u001b[0;32m\"<ipython-input-26-5b34e5465662>\"\u001b[0;36m, line \u001b[0;32m1\u001b[0m\n\u001b[0;31m    Question 5:\u001b[0m\n\u001b[0m             ^\u001b[0m\n\u001b[0;31mSyntaxError\u001b[0m\u001b[0;31m:\u001b[0m invalid syntax\n"
          ]
        }
      ]
    },
    {
      "cell_type": "code",
      "source": [],
      "metadata": {
        "id": "tqHWzL-tZQ59"
      },
      "execution_count": null,
      "outputs": []
    },
    {
      "cell_type": "markdown",
      "source": [
        "Question 5:\n",
        "Print all the numbers from 1 to n (input) in a single line- sepearated by space"
      ],
      "metadata": {
        "id": "jteROY_IZSeM"
      }
    },
    {
      "cell_type": "code",
      "source": [
        "n = int(input())\n",
        "\n",
        "i = 1\n",
        "while i<=n:\n",
        "  print(i, end=' ')\n",
        "  i+=1"
      ],
      "metadata": {
        "colab": {
          "base_uri": "https://localhost:8080/"
        },
        "id": "BE8MSqv_Z-yZ",
        "outputId": "d0164a6f-b1a9-4c4d-e206-de30ac5f8ad4"
      },
      "execution_count": null,
      "outputs": [
        {
          "output_type": "stream",
          "name": "stdout",
          "text": [
            "7\n",
            "1 2 3 4 5 6 7 "
          ]
        }
      ]
    },
    {
      "cell_type": "code",
      "source": [
        "print(\"A\")\n",
        "print(\"B\")\n",
        "print(\"C\")\n",
        "\n",
        "# new line char = '\\n'"
      ],
      "metadata": {
        "colab": {
          "base_uri": "https://localhost:8080/"
        },
        "id": "l22xsa0jZTF0",
        "outputId": "cc252e4a-ee07-4064-f18a-cde375d42f80"
      },
      "execution_count": null,
      "outputs": [
        {
          "output_type": "stream",
          "name": "stdout",
          "text": [
            "A\n",
            "B\n",
            "C\n"
          ]
        }
      ]
    },
    {
      "cell_type": "code",
      "source": [
        "print(\"A\" , end='\\n')\n",
        "print(\"B\", end = '\\n')\n",
        "print(\"C\", end='\\n')\n",
        "\n",
        "# new line char = '\\n'"
      ],
      "metadata": {
        "colab": {
          "base_uri": "https://localhost:8080/"
        },
        "id": "VvzUvHlaZXh3",
        "outputId": "45c0ae1a-5707-476c-a363-53f0455e94aa"
      },
      "execution_count": null,
      "outputs": [
        {
          "output_type": "stream",
          "name": "stdout",
          "text": [
            "A\n",
            "B\n",
            "C\n"
          ]
        }
      ]
    },
    {
      "cell_type": "code",
      "source": [
        "print(\"A\" , end=' ')\n",
        "print(\"B\", end = ' ')\n",
        "print(\"C\", end=' ')\n",
        "\n",
        "# new line char = '\\n'"
      ],
      "metadata": {
        "colab": {
          "base_uri": "https://localhost:8080/"
        },
        "id": "LztTGrorZqx6",
        "outputId": "8dea34ca-8682-4263-fe27-6fe3b86fd7c0"
      },
      "execution_count": null,
      "outputs": [
        {
          "output_type": "stream",
          "name": "stdout",
          "text": [
            "A B C "
          ]
        }
      ]
    },
    {
      "cell_type": "code",
      "source": [
        "print(\"A\" , end='##')\n",
        "print(\"B\", end = '_')\n",
        "print(\"C\", end='!!')\n",
        "\n",
        "# new line char = '\\n'"
      ],
      "metadata": {
        "colab": {
          "base_uri": "https://localhost:8080/"
        },
        "id": "tz1PUxbKZulV",
        "outputId": "68e74aa0-96f4-406d-a091-20ce0950bd0f"
      },
      "execution_count": null,
      "outputs": [
        {
          "output_type": "stream",
          "name": "stdout",
          "text": [
            "A##B_C!!"
          ]
        }
      ]
    },
    {
      "cell_type": "code",
      "source": [],
      "metadata": {
        "id": "xEhb2BqsZ3aZ"
      },
      "execution_count": null,
      "outputs": []
    },
    {
      "cell_type": "markdown",
      "source": [
        "Question5: Given a number, print it's multiplication table till its 10th multiple"
      ],
      "metadata": {
        "id": "ke4D2fMwaTlN"
      }
    },
    {
      "cell_type": "code",
      "source": [
        "n = int(input())\n",
        "\n",
        "i=1\n",
        "while i<=10:\n",
        "  print(n*i, end = \" \")\n",
        "  i += 1"
      ],
      "metadata": {
        "colab": {
          "base_uri": "https://localhost:8080/"
        },
        "id": "qjNjII_facEA",
        "outputId": "5a9ff359-954f-4495-a027-f7cc60766286"
      },
      "execution_count": null,
      "outputs": [
        {
          "output_type": "stream",
          "name": "stdout",
          "text": [
            "5\n",
            "5 10 15 20 25 30 35 40 45 50 "
          ]
        }
      ]
    },
    {
      "cell_type": "code",
      "source": [],
      "metadata": {
        "id": "IGxPXtrHbVAP"
      },
      "execution_count": null,
      "outputs": []
    },
    {
      "cell_type": "markdown",
      "source": [
        "Question 6: \n",
        "1. Take number of test_cases (count) as input from the users.\n",
        "2. Take count number of inputs from the user\n",
        "3. Print the multiplication table for all these inputs (till 10th multiple)\n",
        "\n",
        "\n",
        "Note:\n",
        "\n",
        "count = 3\n",
        "\n",
        "test case 1: 4\n",
        "multiplicaiton table for 4\n",
        "\n",
        "\n",
        "test case 2: 5\n",
        "multiplicaiton table for 5\n",
        "\n",
        "\n",
        "test case 3: 2\n",
        "multiplicaiton table for 2\n",
        "\n",
        "\n",
        "\n",
        "here you are repeating the task of printing the multiplication table for the given number in that testcase\n",
        "\n",
        "\n",
        "Nested Loops"
      ],
      "metadata": {
        "id": "JKGinwHCbl29"
      }
    },
    {
      "cell_type": "code",
      "source": [
        "test_case = int(input())\n",
        "\n",
        "#initialization\n",
        "t = 1\n",
        "\n",
        "#condition\n",
        "while t <= test_case:\n",
        "  #take input to print the table for - task\n",
        "\n",
        "  n = int(input())\n",
        "  print(\"Table for\" , n, \" is:\")\n",
        "  \n",
        "  i=1\n",
        "  while i<=10:\n",
        "    print(n*i, end = \" \")\n",
        "    i += 1\n",
        "\n",
        "  #updation\n",
        "  t += 1"
      ],
      "metadata": {
        "colab": {
          "base_uri": "https://localhost:8080/"
        },
        "id": "6aHYCBlSc_27",
        "outputId": "ba562b5c-5067-4a45-c3af-b40ef46f820d"
      },
      "execution_count": null,
      "outputs": [
        {
          "output_type": "stream",
          "name": "stdout",
          "text": [
            "2\n",
            "3\n",
            "Table for 3  is:\n",
            "3 6 9 12 15 18 21 24 27 30 6\n",
            "Table for 6  is:\n",
            "6 12 18 24 30 36 42 48 54 60 "
          ]
        }
      ]
    },
    {
      "cell_type": "code",
      "source": [
        "test_case = int(input())\n",
        "\n",
        "#initialization\n",
        "t = 1\n",
        "\n",
        "#condition\n",
        "while t <= test_case:\n",
        "  #take input to print the table for - task\n",
        "\n",
        "  n = int(input())\n",
        " \n",
        "  i=1\n",
        "  while i<=10:\n",
        "    print(n*i, end = \" \")\n",
        "    i += 1\n",
        "\n",
        "  #updation\n",
        "  t += 1"
      ],
      "metadata": {
        "id": "noHiLGBfdvms"
      },
      "execution_count": null,
      "outputs": []
    }
  ]
}