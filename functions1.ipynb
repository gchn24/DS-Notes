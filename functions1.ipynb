{
  "nbformat": 4,
  "nbformat_minor": 0,
  "metadata": {
    "colab": {
      "provenance": [],
      "include_colab_link": true
    },
    "kernelspec": {
      "name": "python3",
      "display_name": "Python 3"
    },
    "language_info": {
      "name": "python"
    }
  },
  "cells": [
    {
      "cell_type": "markdown",
      "metadata": {
        "id": "view-in-github",
        "colab_type": "text"
      },
      "source": [
        "<a href=\"https://colab.research.google.com/github/gchn24/DS-Notes/blob/main/functions1.ipynb\" target=\"_parent\"><img src=\"https://colab.research.google.com/assets/colab-badge.svg\" alt=\"Open In Colab\"/></a>"
      ]
    },
    {
      "cell_type": "code",
      "execution_count": null,
      "metadata": {
        "colab": {
          "base_uri": "https://localhost:8080/"
        },
        "id": "jh-juS6btlcq",
        "outputId": "d847e34f-e1c1-4f2e-b266-e3486a9bfcd2"
      },
      "outputs": [
        {
          "output_type": "stream",
          "name": "stdout",
          "text": [
            "knock knock knock Aditya\n",
            "knock knock knock Aditya\n",
            "knock knock knock Aditya\n"
          ]
        }
      ],
      "source": [
        "print(\"knock knock knock Aditya\")\n",
        "print(\"knock knock knock Aditya\")\n",
        "print(\"knock knock knock Aditya\")"
      ]
    },
    {
      "cell_type": "code",
      "source": [
        "print(\"Dust all the rooms\")\n",
        "print(\"Arrange the living area\")\n",
        "print(\"dont't misbehave in from of the guests\")\n",
        "print(\"greet them when they enter\")"
      ],
      "metadata": {
        "id": "dWotl_a3wVJ_"
      },
      "execution_count": null,
      "outputs": []
    },
    {
      "cell_type": "code",
      "source": [
        "print(\"Dust all the rooms\")\n",
        "print(\"Arrange the living area\")\n",
        "print(\"dont't misbehave in from of the guests\")\n",
        "print(\"greet them when they enter\")"
      ],
      "metadata": {
        "colab": {
          "base_uri": "https://localhost:8080/"
        },
        "id": "qnc1BQ5vwwee",
        "outputId": "7bf95fb9-c861-474d-c236-c11e90f6aa07"
      },
      "execution_count": null,
      "outputs": [
        {
          "output_type": "stream",
          "name": "stdout",
          "text": [
            "Dust all the rooms\n",
            "Arrange the living area\n",
            "dont't misbehave in from of the guests\n",
            "greet them when they enter\n"
          ]
        }
      ]
    },
    {
      "cell_type": "code",
      "source": [
        "print(\"Dust all the rooms\")\n",
        "print(\"Arrange the living area\")\n",
        "print(\"dont't misbehave in from of the guests\")\n",
        "print(\"greet them when they enter\")"
      ],
      "metadata": {
        "colab": {
          "base_uri": "https://localhost:8080/"
        },
        "id": "iU73lTVvwy8A",
        "outputId": "0d979b77-399e-414c-e67b-924cc9d43b90"
      },
      "execution_count": null,
      "outputs": [
        {
          "output_type": "stream",
          "name": "stdout",
          "text": [
            "Dust all the rooms\n",
            "Arrange the living area\n",
            "dont't misbehave in from of the guests\n",
            "greet them when they enter\n"
          ]
        }
      ]
    },
    {
      "cell_type": "code",
      "source": [
        "# function --> designed to perform a dedicated fucntionlity"
      ],
      "metadata": {
        "id": "GWkVM9ECw0Dr"
      },
      "execution_count": null,
      "outputs": []
    },
    {
      "cell_type": "code",
      "source": [
        "for i in range(5):\n",
        "  print(\"Dust all the rooms\")\n",
        "  print(\"Arrange the living area\")\n",
        "  print(\"dont't misbehave in from of the guests\")\n",
        "  print(\"greet them when they enter\")"
      ],
      "metadata": {
        "colab": {
          "base_uri": "https://localhost:8080/"
        },
        "id": "1XIjas93xWrb",
        "outputId": "c073f9dc-bda3-4f24-c223-693a00ea4ef0"
      },
      "execution_count": null,
      "outputs": [
        {
          "output_type": "stream",
          "name": "stdout",
          "text": [
            "Dust all the rooms\n",
            "Arrange the living area\n",
            "dont't misbehave in from of the guests\n",
            "greet them when they enter\n",
            "Dust all the rooms\n",
            "Arrange the living area\n",
            "dont't misbehave in from of the guests\n",
            "greet them when they enter\n",
            "Dust all the rooms\n",
            "Arrange the living area\n",
            "dont't misbehave in from of the guests\n",
            "greet them when they enter\n",
            "Dust all the rooms\n",
            "Arrange the living area\n",
            "dont't misbehave in from of the guests\n",
            "greet them when they enter\n",
            "Dust all the rooms\n",
            "Arrange the living area\n",
            "dont't misbehave in from of the guests\n",
            "greet them when they enter\n"
          ]
        }
      ]
    },
    {
      "cell_type": "code",
      "source": [
        "#a function is a set of instructions that can be invoked whenever needed\n",
        "#modular code\n",
        "\n",
        "def relatives_visit():\n",
        "  print(\"Dust all the rooms\")\n",
        "  print(\"Arrange the living area\")\n",
        "  print(\"dont't misbehave in from of the guests\")\n",
        "  print(\"greet them when they enter\")\n",
        "\n",
        "print(\"Hi AJ\")"
      ],
      "metadata": {
        "id": "Ym-t-QMoxdGa"
      },
      "execution_count": null,
      "outputs": []
    },
    {
      "cell_type": "code",
      "source": [
        "relatives_visit() #calling or invoking a function"
      ],
      "metadata": {
        "colab": {
          "base_uri": "https://localhost:8080/"
        },
        "id": "KxgQqfsPx7kk",
        "outputId": "04a52d8e-7bee-4553-b62c-bce1c574b96c"
      },
      "execution_count": null,
      "outputs": [
        {
          "output_type": "stream",
          "name": "stdout",
          "text": [
            "Dust all the rooms\n",
            "Arrange the living area\n",
            "dont't misbehave in from of the guests\n",
            "greet them when they enter\n"
          ]
        }
      ]
    },
    {
      "cell_type": "code",
      "source": [
        "relatives_visit()"
      ],
      "metadata": {
        "colab": {
          "base_uri": "https://localhost:8080/"
        },
        "id": "oZyMY7aqx93S",
        "outputId": "2edb13f8-1f31-494e-9fa7-dcf2f417f3a3"
      },
      "execution_count": null,
      "outputs": [
        {
          "output_type": "stream",
          "name": "stdout",
          "text": [
            "Dust all the rooms\n",
            "Arrange the living area\n",
            "dont't misbehave in from of the guests\n",
            "greet them when they enter\n"
          ]
        }
      ]
    },
    {
      "cell_type": "code",
      "source": [
        "relatives_visit()"
      ],
      "metadata": {
        "colab": {
          "base_uri": "https://localhost:8080/"
        },
        "id": "BKb-3EtYyHgV",
        "outputId": "13d5490b-eb0e-4b65-e740-f89768003226"
      },
      "execution_count": null,
      "outputs": [
        {
          "output_type": "stream",
          "name": "stdout",
          "text": [
            "Dust all the rooms\n",
            "Arrange the living area\n",
            "dont't misbehave in from of the guests\n",
            "greet them when they enter\n"
          ]
        }
      ]
    },
    {
      "cell_type": "code",
      "source": [
        "Question: 1\n",
        "\n",
        "'''\n",
        "Write a peice of code that makes tea 5 times\n",
        "'''"
      ],
      "metadata": {
        "id": "bcM363FryIBW"
      },
      "execution_count": null,
      "outputs": []
    },
    {
      "cell_type": "code",
      "source": [
        "#defining a function\n",
        "def make_tea():\n",
        "  print(\"make tea\")"
      ],
      "metadata": {
        "id": "zKMEo1Ty0HkY"
      },
      "execution_count": null,
      "outputs": []
    },
    {
      "cell_type": "code",
      "source": [
        "for i in range(5):\n",
        "  make_tea() #calling a function"
      ],
      "metadata": {
        "colab": {
          "base_uri": "https://localhost:8080/"
        },
        "id": "njuxKW8a0SOQ",
        "outputId": "ca849557-f7eb-40b2-b79b-de4761bac411"
      },
      "execution_count": null,
      "outputs": [
        {
          "output_type": "stream",
          "name": "stdout",
          "text": [
            "make tea\n",
            "make tea\n",
            "make tea\n",
            "make tea\n",
            "make tea\n"
          ]
        }
      ]
    },
    {
      "cell_type": "code",
      "source": [
        "def sheldon_knock(name):\n",
        "  print(\"knock knock knock\", name)\n",
        "  print(\"knock knock knock\", name)\n",
        "  print(\"knock knock knock\", name)"
      ],
      "metadata": {
        "id": "GJNWl1Xs0iaI"
      },
      "execution_count": null,
      "outputs": []
    },
    {
      "cell_type": "code",
      "source": [
        "name = input()\n",
        "\n",
        "sheldon_knock(name)"
      ],
      "metadata": {
        "colab": {
          "base_uri": "https://localhost:8080/"
        },
        "id": "hhSUrc9E1EAh",
        "outputId": "597db8ba-1426-4c18-fa57-eadafbebb65c"
      },
      "execution_count": null,
      "outputs": [
        {
          "output_type": "stream",
          "name": "stdout",
          "text": [
            "penny\n",
            "knock knock knock penny\n",
            "knock knock knock penny\n",
            "knock knock knock penny\n"
          ]
        }
      ]
    },
    {
      "cell_type": "code",
      "source": [
        "print(\"knock knock knock Aditya\")\n",
        "print(\"knock knock knock Aditya\")\n",
        "print(\"knock knock knock Aditya\")"
      ],
      "metadata": {
        "id": "wEOL9hI31NFB"
      },
      "execution_count": null,
      "outputs": []
    },
    {
      "cell_type": "code",
      "source": [
        "print(\"knock knock knock Penny\")\n",
        "print(\"knock knock knock Penny\")\n",
        "print(\"knock knock knock Penny\")"
      ],
      "metadata": {
        "id": "LKX3tRZO15p-"
      },
      "execution_count": null,
      "outputs": []
    },
    {
      "cell_type": "code",
      "source": [
        "Example2:\n",
        "'''\n",
        "Take a name as an input\n",
        "Write a wishing function that prints \"Hello name!\"\n",
        "after accepting a name as argument\n",
        "'''"
      ],
      "metadata": {
        "id": "-RkJaAju2RDT"
      },
      "execution_count": null,
      "outputs": []
    },
    {
      "cell_type": "code",
      "source": [
        "def wish(name):\n",
        "  print(\"hello\", name)\n",
        "\n",
        "name = input()\n",
        "wish(name)"
      ],
      "metadata": {
        "colab": {
          "base_uri": "https://localhost:8080/"
        },
        "id": "dtHDbV9i3IjW",
        "outputId": "106009dc-8dd3-44a7-f415-6bfa99fad77e"
      },
      "execution_count": null,
      "outputs": [
        {
          "output_type": "stream",
          "name": "stdout",
          "text": [
            "aditya\n",
            "hello aditya\n"
          ]
        }
      ]
    },
    {
      "cell_type": "code",
      "source": [],
      "metadata": {
        "colab": {
          "base_uri": "https://localhost:8080/"
        },
        "id": "Jl9GAxjW3VmZ",
        "outputId": "99cef136-bfd5-4b95-e9f5-3dcb6d5ee023"
      },
      "execution_count": null,
      "outputs": [
        {
          "output_type": "stream",
          "name": "stdout",
          "text": [
            "chirag\n",
            "hello chirag\n"
          ]
        }
      ]
    },
    {
      "cell_type": "code",
      "source": [
        "#print the specifications of a car:\n",
        "'''\n",
        "color\n",
        "brand\n",
        "price\n",
        "'''"
      ],
      "metadata": {
        "id": "zRTQ5VWf3Zq7"
      },
      "execution_count": null,
      "outputs": []
    },
    {
      "cell_type": "code",
      "source": [
        "def car_specifications(color, brand, price):\n",
        "  \n",
        "  print(\"color is : \", color)\n",
        "  print(\"brand is : \", brand)\n",
        "  print(\"price is : \", price)\n",
        "\n",
        "\n",
        "car_specifications(\"red\",\"MS\", 1000000)\n",
        "car_specifications(\"white\",\"toyota\",\"1500000\")"
      ],
      "metadata": {
        "colab": {
          "base_uri": "https://localhost:8080/"
        },
        "id": "8p231mA44Viq",
        "outputId": "23147611-8d1f-4a4a-cdda-569982db6f5c"
      },
      "execution_count": null,
      "outputs": [
        {
          "output_type": "stream",
          "name": "stdout",
          "text": [
            "color is :  red\n",
            "brand is :  MS\n",
            "price is :  1000000\n",
            "color is :  white\n",
            "brand is :  toyota\n",
            "price is :  1500000\n"
          ]
        }
      ]
    },
    {
      "cell_type": "code",
      "source": [
        "car_specifications(\"red\",10000,'Suzuki')"
      ],
      "metadata": {
        "colab": {
          "base_uri": "https://localhost:8080/"
        },
        "id": "P8eNY9zV4tfT",
        "outputId": "f0189ea3-040c-4d8d-cb64-67994730b9f7"
      },
      "execution_count": null,
      "outputs": [
        {
          "output_type": "stream",
          "name": "stdout",
          "text": [
            "color is :  red\n",
            "brand is :  10000\n",
            "price is :  Suzuki\n"
          ]
        }
      ]
    },
    {
      "cell_type": "code",
      "source": [
        "car_specifications(\"red\",'MS',10000000, 3.4)"
      ],
      "metadata": {
        "colab": {
          "base_uri": "https://localhost:8080/",
          "height": 170
        },
        "id": "ufyiY8xv5xBf",
        "outputId": "790136ff-c2a5-4111-90fb-c4ae3404968f"
      },
      "execution_count": null,
      "outputs": [
        {
          "output_type": "error",
          "ename": "TypeError",
          "evalue": "ignored",
          "traceback": [
            "\u001b[0;31m---------------------------------------------------------------------------\u001b[0m",
            "\u001b[0;31mTypeError\u001b[0m                                 Traceback (most recent call last)",
            "\u001b[0;32m<ipython-input-34-d0de49c07d8a>\u001b[0m in \u001b[0;36m<module>\u001b[0;34m\u001b[0m\n\u001b[0;32m----> 1\u001b[0;31m \u001b[0mcar_specifications\u001b[0m\u001b[0;34m(\u001b[0m\u001b[0;34m\"red\"\u001b[0m\u001b[0;34m,\u001b[0m\u001b[0;34m'MS'\u001b[0m\u001b[0;34m,\u001b[0m\u001b[0;36m10000000\u001b[0m\u001b[0;34m,\u001b[0m \u001b[0;36m3.4\u001b[0m\u001b[0;34m)\u001b[0m\u001b[0;34m\u001b[0m\u001b[0;34m\u001b[0m\u001b[0m\n\u001b[0m",
            "\u001b[0;31mTypeError\u001b[0m: car_specifications() takes 3 positional arguments but 4 were given"
          ]
        }
      ]
    },
    {
      "cell_type": "code",
      "source": [
        "s = '''\n",
        "Hello everyone\n",
        "this is a new line\n",
        "this is another line\n",
        "'''\n",
        "\n",
        "print(s)"
      ],
      "metadata": {
        "colab": {
          "base_uri": "https://localhost:8080/"
        },
        "id": "4MGrLsEc6Kqu",
        "outputId": "7e5d6f0b-58dc-4424-be9a-716260a40313"
      },
      "execution_count": null,
      "outputs": [
        {
          "output_type": "stream",
          "name": "stdout",
          "text": [
            "\n",
            "Hello everyone\n",
            "this is a new line\n",
            "this is another line\n",
            "\n"
          ]
        }
      ]
    },
    {
      "cell_type": "code",
      "source": [
        "s"
      ],
      "metadata": {
        "colab": {
          "base_uri": "https://localhost:8080/",
          "height": 35
        },
        "id": "WUyHMm_89iy7",
        "outputId": "7f050fe0-752a-47fc-e9b9-50d2e00b2155"
      },
      "execution_count": null,
      "outputs": [
        {
          "output_type": "execute_result",
          "data": {
            "text/plain": [
              "'\\nHello everyone\\nthis is a new line\\nthis is another line\\n'"
            ],
            "application/vnd.google.colaboratory.intrinsic+json": {
              "type": "string"
            }
          },
          "metadata": {},
          "execution_count": 37
        }
      ]
    },
    {
      "cell_type": "code",
      "source": [
        "\n",
        "\n",
        "'''\n",
        "multi line comments\n",
        "'''"
      ],
      "metadata": {
        "colab": {
          "base_uri": "https://localhost:8080/",
          "height": 35
        },
        "id": "64OuZbha9pnp",
        "outputId": "1444dfa3-7223-4c7a-8316-d3e668acc8e8"
      },
      "execution_count": null,
      "outputs": [
        {
          "output_type": "execute_result",
          "data": {
            "text/plain": [
              "'\\ninline comments\\n'"
            ],
            "application/vnd.google.colaboratory.intrinsic+json": {
              "type": "string"
            }
          },
          "metadata": {},
          "execution_count": 39
        }
      ]
    },
    {
      "cell_type": "code",
      "source": [
        "def display(a, b):\n",
        "  '''\n",
        "  this function takes two arguments\n",
        "  a and b can be of any type\n",
        "  this function just prints both the arguments\n",
        "  '''\n",
        "  print(a,b)"
      ],
      "metadata": {
        "id": "YKpSAB4E99PC"
      },
      "execution_count": null,
      "outputs": []
    },
    {
      "cell_type": "code",
      "source": [
        "a = display(3,5.5)#call this method"
      ],
      "metadata": {
        "colab": {
          "base_uri": "https://localhost:8080/"
        },
        "id": "n569xi0l-VLr",
        "outputId": "0adf967f-9895-444f-906a-472bf25955cb"
      },
      "execution_count": null,
      "outputs": [
        {
          "output_type": "stream",
          "name": "stdout",
          "text": [
            "3 5.5\n"
          ]
        }
      ]
    },
    {
      "cell_type": "code",
      "source": [
        "print(a)"
      ],
      "metadata": {
        "colab": {
          "base_uri": "https://localhost:8080/"
        },
        "id": "H2tn13MWDT43",
        "outputId": "c8c17c46-2bbc-4bd0-b794-2160ad84ebde"
      },
      "execution_count": null,
      "outputs": [
        {
          "output_type": "stream",
          "name": "stdout",
          "text": [
            "None\n"
          ]
        }
      ]
    },
    {
      "cell_type": "code",
      "source": [
        "help(display)"
      ],
      "metadata": {
        "colab": {
          "base_uri": "https://localhost:8080/"
        },
        "id": "0VGrU9fw-Z7R",
        "outputId": "b79f35a8-22fd-4852-da2a-7a083b6ab8bb"
      },
      "execution_count": null,
      "outputs": [
        {
          "output_type": "stream",
          "name": "stdout",
          "text": [
            "Help on function display in module __main__:\n",
            "\n",
            "display(a, b)\n",
            "    this function takes two arguments\n",
            "    a and b can be of any type\n",
            "    this function just prints both the arguments\n",
            "\n"
          ]
        }
      ]
    },
    {
      "cell_type": "code",
      "source": [
        "def add(a,b):\n",
        "  '''\n",
        "  Arguments:\n",
        "  a: int or string\n",
        "  b: int or string\n",
        "\n",
        "  Note- please do not enter diff data types in one function call\n",
        "\n",
        "  output:\n",
        "  str + str --> concatenation\n",
        "  int + int --> addition\n",
        "  '''\n",
        "  res = a+b\n",
        "  print(res)"
      ],
      "metadata": {
        "id": "splefekV-nxE"
      },
      "execution_count": null,
      "outputs": []
    },
    {
      "cell_type": "code",
      "source": [
        "add(2,3)"
      ],
      "metadata": {
        "colab": {
          "base_uri": "https://localhost:8080/"
        },
        "id": "g5-nvclO_F6Y",
        "outputId": "70ed7930-8bda-449d-d398-d596c3f1ae85"
      },
      "execution_count": null,
      "outputs": [
        {
          "output_type": "stream",
          "name": "stdout",
          "text": [
            "5\n"
          ]
        }
      ]
    },
    {
      "cell_type": "code",
      "source": [
        "add(\"a\",\"b\")"
      ],
      "metadata": {
        "colab": {
          "base_uri": "https://localhost:8080/"
        },
        "id": "lGYVLrv0_KpT",
        "outputId": "f6fd98c1-5283-44db-b40c-37d03f32cfad"
      },
      "execution_count": null,
      "outputs": [
        {
          "output_type": "stream",
          "name": "stdout",
          "text": [
            "ab\n"
          ]
        }
      ]
    },
    {
      "cell_type": "code",
      "source": [
        "add(2,\"a\")"
      ],
      "metadata": {
        "colab": {
          "base_uri": "https://localhost:8080/",
          "height": 259
        },
        "id": "kk5rREti_OBF",
        "outputId": "7ea4e00d-e72d-43d9-f681-36e88bf8dcfa"
      },
      "execution_count": null,
      "outputs": [
        {
          "output_type": "error",
          "ename": "TypeError",
          "evalue": "ignored",
          "traceback": [
            "\u001b[0;31m---------------------------------------------------------------------------\u001b[0m",
            "\u001b[0;31mTypeError\u001b[0m                                 Traceback (most recent call last)",
            "\u001b[0;32m<ipython-input-47-f92a84a0a726>\u001b[0m in \u001b[0;36m<module>\u001b[0;34m\u001b[0m\n\u001b[0;32m----> 1\u001b[0;31m \u001b[0madd\u001b[0m\u001b[0;34m(\u001b[0m\u001b[0;36m2\u001b[0m\u001b[0;34m,\u001b[0m\u001b[0;34m\"a\"\u001b[0m\u001b[0;34m)\u001b[0m\u001b[0;34m\u001b[0m\u001b[0;34m\u001b[0m\u001b[0m\n\u001b[0m",
            "\u001b[0;32m<ipython-input-44-8f6b37baafd2>\u001b[0m in \u001b[0;36madd\u001b[0;34m(a, b)\u001b[0m\n\u001b[1;32m      1\u001b[0m \u001b[0;32mdef\u001b[0m \u001b[0madd\u001b[0m\u001b[0;34m(\u001b[0m\u001b[0ma\u001b[0m\u001b[0;34m,\u001b[0m\u001b[0mb\u001b[0m\u001b[0;34m)\u001b[0m\u001b[0;34m:\u001b[0m\u001b[0;34m\u001b[0m\u001b[0;34m\u001b[0m\u001b[0m\n\u001b[0;32m----> 2\u001b[0;31m   \u001b[0mres\u001b[0m \u001b[0;34m=\u001b[0m \u001b[0ma\u001b[0m\u001b[0;34m+\u001b[0m\u001b[0mb\u001b[0m\u001b[0;34m\u001b[0m\u001b[0;34m\u001b[0m\u001b[0m\n\u001b[0m\u001b[1;32m      3\u001b[0m   \u001b[0mprint\u001b[0m\u001b[0;34m(\u001b[0m\u001b[0mres\u001b[0m\u001b[0;34m)\u001b[0m\u001b[0;34m\u001b[0m\u001b[0;34m\u001b[0m\u001b[0m\n",
            "\u001b[0;31mTypeError\u001b[0m: unsupported operand type(s) for +: 'int' and 'str'"
          ]
        }
      ]
    },
    {
      "cell_type": "code",
      "source": [
        "help(add)"
      ],
      "metadata": {
        "colab": {
          "base_uri": "https://localhost:8080/"
        },
        "id": "PXebBFnN_ViZ",
        "outputId": "0d3d3104-ad5a-48db-b902-123b43c3477e"
      },
      "execution_count": null,
      "outputs": [
        {
          "output_type": "stream",
          "name": "stdout",
          "text": [
            "Help on function add in module __main__:\n",
            "\n",
            "add(a, b)\n",
            "    Arguments:\n",
            "    a: int or string\n",
            "    b: int or string\n",
            "    \n",
            "    Note- please do not enter diff data types in one function call\n",
            "    \n",
            "    output:\n",
            "    str + str --> concatenation\n",
            "    int + int --> addition\n",
            "\n"
          ]
        }
      ]
    },
    {
      "cell_type": "code",
      "source": [
        "def accept_money(amount):\n",
        "  print(2*amount)"
      ],
      "metadata": {
        "id": "yYfssoO7_93H"
      },
      "execution_count": null,
      "outputs": []
    },
    {
      "cell_type": "code",
      "source": [
        "#whatever accept_money(a) method returns, strore that into wallet\n",
        "wallet = accept_money(1000)"
      ],
      "metadata": {
        "colab": {
          "base_uri": "https://localhost:8080/"
        },
        "id": "kqU4N3SXKdqU",
        "outputId": "24b325c0-b4e9-4e4a-acdb-3b8f8b8f28f8"
      },
      "execution_count": null,
      "outputs": [
        {
          "output_type": "stream",
          "name": "stdout",
          "text": [
            "2000\n"
          ]
        }
      ]
    },
    {
      "cell_type": "code",
      "source": [
        "print(wallet)"
      ],
      "metadata": {
        "colab": {
          "base_uri": "https://localhost:8080/"
        },
        "id": "WYTltkb9Bewr",
        "outputId": "f90c0589-fd2d-4c31-d788-abb85b8341da"
      },
      "execution_count": null,
      "outputs": [
        {
          "output_type": "stream",
          "name": "stdout",
          "text": [
            "None\n"
          ]
        }
      ]
    },
    {
      "cell_type": "code",
      "source": [
        "def accept_money(amount):\n",
        "  # print(2*amount)\n",
        "  print(\"the amount received is\", amount)\n",
        "  return 2*amount\n",
        "\n"
      ],
      "metadata": {
        "colab": {
          "base_uri": "https://localhost:8080/"
        },
        "id": "1jpaZXcrBqDv",
        "outputId": "56387e6a-1430-4051-d879-5606528b817e"
      },
      "execution_count": null,
      "outputs": [
        {
          "output_type": "stream",
          "name": "stdout",
          "text": [
            "the amount received is 1000\n"
          ]
        }
      ]
    },
    {
      "cell_type": "code",
      "source": [
        "wallet = accept_money(1000)"
      ],
      "metadata": {
        "colab": {
          "base_uri": "https://localhost:8080/"
        },
        "id": "Jb0sEepCLs50",
        "outputId": "60ddbc71-c5db-4519-b48a-d5711e9cc8c0"
      },
      "execution_count": null,
      "outputs": [
        {
          "output_type": "stream",
          "name": "stdout",
          "text": [
            "the amount received is 1000\n"
          ]
        }
      ]
    },
    {
      "cell_type": "code",
      "source": [
        "print(wallet)"
      ],
      "metadata": {
        "colab": {
          "base_uri": "https://localhost:8080/"
        },
        "id": "mtUfwXs_Bt3Q",
        "outputId": "de6b4787-812a-4456-a6cd-767ce3095b35"
      },
      "execution_count": null,
      "outputs": [
        {
          "output_type": "stream",
          "name": "stdout",
          "text": [
            "2000\n"
          ]
        }
      ]
    },
    {
      "cell_type": "code",
      "source": [
        "def show(a):\n",
        "  print(a)\n",
        "  \n",
        "  #return - returns back value from where it was called and it ends the function\n",
        "  return a\n",
        "  print(2*a)\n"
      ],
      "metadata": {
        "id": "6nZutRZZCUVS"
      },
      "execution_count": null,
      "outputs": []
    },
    {
      "cell_type": "code",
      "source": [
        "b = show(4)"
      ],
      "metadata": {
        "colab": {
          "base_uri": "https://localhost:8080/"
        },
        "id": "kwq-ZPX8CpHg",
        "outputId": "afb60492-0d5d-46e0-ab37-126524105869"
      },
      "execution_count": null,
      "outputs": [
        {
          "output_type": "stream",
          "name": "stdout",
          "text": [
            "4\n"
          ]
        }
      ]
    },
    {
      "cell_type": "code",
      "source": [
        "def show():\n",
        "  print(\"before return\")\n",
        "  return 1\n",
        "  print(\"after return\")"
      ],
      "metadata": {
        "id": "HcBxDWiiEhko"
      },
      "execution_count": null,
      "outputs": []
    },
    {
      "cell_type": "code",
      "source": [
        "show()"
      ],
      "metadata": {
        "colab": {
          "base_uri": "https://localhost:8080/"
        },
        "id": "RSqsW4ipIuio",
        "outputId": "eb4e8f80-734b-4be3-eeca-e48c97b47ddd"
      },
      "execution_count": null,
      "outputs": [
        {
          "output_type": "stream",
          "name": "stdout",
          "text": [
            "before return\n"
          ]
        },
        {
          "output_type": "execute_result",
          "data": {
            "text/plain": [
              "1"
            ]
          },
          "metadata": {},
          "execution_count": 114
        }
      ]
    },
    {
      "cell_type": "code",
      "source": [
        "b = show(2)"
      ],
      "metadata": {
        "colab": {
          "base_uri": "https://localhost:8080/"
        },
        "id": "72bn7-LmE974",
        "outputId": "173fffe4-4d04-41f7-e264-50dcf41e30b0"
      },
      "execution_count": null,
      "outputs": [
        {
          "output_type": "stream",
          "name": "stdout",
          "text": [
            "before return\n"
          ]
        }
      ]
    },
    {
      "cell_type": "code",
      "source": [
        "print(b)"
      ],
      "metadata": {
        "colab": {
          "base_uri": "https://localhost:8080/"
        },
        "id": "tVbV1oUJFEQE",
        "outputId": "7dbbe2e3-3ad6-4ca6-c18b-821b94861a04"
      },
      "execution_count": null,
      "outputs": [
        {
          "output_type": "stream",
          "name": "stdout",
          "text": [
            "2\n"
          ]
        }
      ]
    },
    {
      "cell_type": "code",
      "source": [
        "print(\"aj\")\n"
      ],
      "metadata": {
        "colab": {
          "base_uri": "https://localhost:8080/"
        },
        "id": "claDkq2tFSLn",
        "outputId": "9c10e717-d695-460b-e49a-d99434a43dba"
      },
      "execution_count": null,
      "outputs": [
        {
          "output_type": "stream",
          "name": "stdout",
          "text": [
            "aj\n",
            "<class 'int'>\n"
          ]
        }
      ]
    },
    {
      "cell_type": "code",
      "source": [
        "a = type(b)\n",
        "a"
      ],
      "metadata": {
        "colab": {
          "base_uri": "https://localhost:8080/"
        },
        "id": "E9CKLgM_GvwF",
        "outputId": "fa1e1c9e-2fe7-4b52-8424-ce6c02f7658b"
      },
      "execution_count": null,
      "outputs": [
        {
          "output_type": "execute_result",
          "data": {
            "text/plain": [
              "int"
            ]
          },
          "metadata": {},
          "execution_count": 94
        }
      ]
    },
    {
      "cell_type": "code",
      "source": [
        "min(2,4,-1)"
      ],
      "metadata": {
        "colab": {
          "base_uri": "https://localhost:8080/"
        },
        "id": "jog7uqO2Gx7k",
        "outputId": "af3025bf-c7c6-4ffd-cb1a-23198dca5f7b"
      },
      "execution_count": null,
      "outputs": [
        {
          "output_type": "execute_result",
          "data": {
            "text/plain": [
              "-1"
            ]
          },
          "metadata": {},
          "execution_count": 95
        }
      ]
    },
    {
      "cell_type": "code",
      "source": [
        "a = max(2,4,5,6)"
      ],
      "metadata": {
        "id": "UBqQBcSdG7b8"
      },
      "execution_count": null,
      "outputs": []
    },
    {
      "cell_type": "code",
      "source": [
        "print(a)"
      ],
      "metadata": {
        "colab": {
          "base_uri": "https://localhost:8080/"
        },
        "id": "gK6t_togNy1s",
        "outputId": "0a72a736-0f80-4f6f-89d9-c5c006e74c8f"
      },
      "execution_count": null,
      "outputs": [
        {
          "output_type": "stream",
          "name": "stdout",
          "text": [
            "6\n"
          ]
        }
      ]
    },
    {
      "cell_type": "code",
      "source": [
        "def thanks():\n",
        "  print(\"Thank you everyone!\")"
      ],
      "metadata": {
        "id": "zC4J1i4fG_pI"
      },
      "execution_count": null,
      "outputs": []
    },
    {
      "cell_type": "code",
      "source": [
        "thanks()"
      ],
      "metadata": {
        "colab": {
          "base_uri": "https://localhost:8080/"
        },
        "id": "tTVc2oywHgYf",
        "outputId": "bc208206-9338-4705-f181-20040167c81b"
      },
      "execution_count": null,
      "outputs": [
        {
          "output_type": "stream",
          "name": "stdout",
          "text": [
            "Thank you everyone!\n"
          ]
        }
      ]
    },
    {
      "cell_type": "code",
      "source": [
        "thanks()"
      ],
      "metadata": {
        "colab": {
          "base_uri": "https://localhost:8080/"
        },
        "id": "j1pHuxS4HhYr",
        "outputId": "655528f9-340c-4954-f5ff-f4b040302b82"
      },
      "execution_count": null,
      "outputs": [
        {
          "output_type": "stream",
          "name": "stdout",
          "text": [
            "Thank you everyone!\n"
          ]
        }
      ]
    },
    {
      "cell_type": "code",
      "source": [
        "def wallet():\n",
        "  return \"aj\""
      ],
      "metadata": {
        "id": "4p4EIVF5HlGy"
      },
      "execution_count": null,
      "outputs": []
    },
    {
      "cell_type": "code",
      "source": [
        "b = wallet()"
      ],
      "metadata": {
        "id": "knvOd-S6H91N"
      },
      "execution_count": null,
      "outputs": []
    },
    {
      "cell_type": "code",
      "source": [
        "print(b)"
      ],
      "metadata": {
        "colab": {
          "base_uri": "https://localhost:8080/"
        },
        "id": "AQj9x37tH9tT",
        "outputId": "1cc10158-5a7a-43b3-ac8f-e10f085ea89d"
      },
      "execution_count": null,
      "outputs": [
        {
          "output_type": "stream",
          "name": "stdout",
          "text": [
            "aj\n"
          ]
        }
      ]
    },
    {
      "cell_type": "code",
      "source": [
        "def ask_dob(birthday):\n",
        "  print(\"Your DOB is \", birthday)\n",
        "  return ask_dob \n",
        "  \n",
        "birthday = int(input()) \n",
        "ask_dob(birthday)\n"
      ],
      "metadata": {
        "colab": {
          "base_uri": "https://localhost:8080/"
        },
        "id": "3qujXLMnIAya",
        "outputId": "9307d230-fdc1-4040-cf0a-ea29288db53d"
      },
      "execution_count": null,
      "outputs": [
        {
          "output_type": "stream",
          "name": "stdout",
          "text": [
            "44\n",
            "Your DOB is  44\n"
          ]
        },
        {
          "output_type": "execute_result",
          "data": {
            "text/plain": [
              "<function __main__.ask_dob(birthday)>"
            ]
          },
          "metadata": {},
          "execution_count": 128
        }
      ]
    },
    {
      "cell_type": "code",
      "source": [],
      "metadata": {
        "id": "qY2okKFzNTNp"
      },
      "execution_count": null,
      "outputs": []
    }
  ]
}