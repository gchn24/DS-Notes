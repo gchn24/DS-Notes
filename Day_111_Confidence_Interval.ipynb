{
  "cells": [
    {
      "cell_type": "markdown",
      "metadata": {
        "id": "view-in-github",
        "colab_type": "text"
      },
      "source": [
        "<a href=\"https://colab.research.google.com/github/gchn24/DS-Notes/blob/main/Day_111_Confidence_Interval.ipynb\" target=\"_parent\"><img src=\"https://colab.research.google.com/assets/colab-badge.svg\" alt=\"Open In Colab\"/></a>"
      ]
    },
    {
      "cell_type": "code",
      "execution_count": null,
      "id": "fe6075e5",
      "metadata": {
        "id": "fe6075e5",
        "outputId": "dba5dd9c-2f40-4220-c9f9-a4a69afbd274",
        "colab": {
          "base_uri": "https://localhost:8080/",
          "height": 17
        }
      },
      "outputs": [
        {
          "output_type": "display_data",
          "data": {
            "text/plain": [
              "<IPython.core.display.HTML object>"
            ],
            "text/html": [
              "<style>.container { width:100% !important; }</style>"
            ]
          },
          "metadata": {}
        }
      ],
      "source": [
        "import matplotlib.pyplot as plt\n",
        "import matplotlib_inline\n",
        "matplotlib_inline.backend_inline.set_matplotlib_formats('svg')\n",
        "\n",
        "\n",
        "from IPython.display import display, HTML\n",
        "display(HTML(\"<style>.container { width:100% !important; }</style>\"))"
      ]
    },
    {
      "cell_type": "code",
      "execution_count": null,
      "id": "c3020e63",
      "metadata": {
        "id": "c3020e63"
      },
      "outputs": [],
      "source": [
        "from scipy.stats import norm\n",
        "import numpy as np\n",
        "import seaborn as sns"
      ]
    },
    {
      "cell_type": "markdown",
      "id": "73c8ca4a",
      "metadata": {
        "id": "73c8ca4a"
      },
      "source": [
        "## Purchase time"
      ]
    },
    {
      "cell_type": "markdown",
      "id": "cb761813",
      "metadata": {
        "id": "cb761813"
      },
      "source": [
        "The average time taken for customers to complete a purchase is 4 minutes with a standard deviation of 1 minute. Find the probability that a randomly selected customer will complete a purchase within 6 minutes? Assume Gaussian"
      ]
    },
    {
      "cell_type": "code",
      "execution_count": null,
      "id": "330cc8c6",
      "metadata": {
        "id": "330cc8c6",
        "outputId": "ac91c058-17a8-47ab-89dc-9b59ed073f12",
        "colab": {
          "base_uri": "https://localhost:8080/"
        }
      },
      "outputs": [
        {
          "output_type": "execute_result",
          "data": {
            "text/plain": [
              "0.9772498680518208"
            ]
          },
          "metadata": {},
          "execution_count": 39
        }
      ],
      "source": [
        "norm.cdf((6-4)/1)"
      ]
    },
    {
      "cell_type": "markdown",
      "id": "7dd39ef0",
      "metadata": {
        "id": "7dd39ef0"
      },
      "source": [
        "What is the probability that the average time of the next 5 customers is less than 6 minutes?"
      ]
    },
    {
      "cell_type": "code",
      "execution_count": null,
      "id": "757fef44",
      "metadata": {
        "id": "757fef44",
        "outputId": "5f4a8d4a-673e-48c2-de28-82f5649b7429",
        "colab": {
          "base_uri": "https://localhost:8080/"
        }
      },
      "outputs": [
        {
          "output_type": "execute_result",
          "data": {
            "text/plain": [
              "0.9999961278917845"
            ]
          },
          "metadata": {},
          "execution_count": 40
        }
      ],
      "source": [
        "norm.cdf((6 - 4) / (1/np.sqrt(5)))"
      ]
    },
    {
      "cell_type": "code",
      "execution_count": null,
      "id": "1c7d74c1",
      "metadata": {
        "id": "1c7d74c1"
      },
      "outputs": [],
      "source": []
    },
    {
      "cell_type": "markdown",
      "id": "fea195b9",
      "metadata": {
        "id": "fea195b9"
      },
      "source": [
        "## Purchase amount"
      ]
    },
    {
      "cell_type": "markdown",
      "id": "ba7f8df5",
      "metadata": {
        "id": "ba7f8df5"
      },
      "source": [
        "The average order value on an e-commerce website is 50, with a standard deviation of 5. What is the probability that a randomly selected order will have a value exceeding 60?"
      ]
    },
    {
      "cell_type": "code",
      "execution_count": null,
      "id": "bdcab2c8",
      "metadata": {
        "id": "bdcab2c8",
        "outputId": "c028dbe3-00b8-4915-be67-cee47b05dc31",
        "colab": {
          "base_uri": "https://localhost:8080/"
        }
      },
      "outputs": [
        {
          "output_type": "execute_result",
          "data": {
            "text/plain": [
              "0.02275013194817921"
            ]
          },
          "metadata": {},
          "execution_count": 41
        }
      ],
      "source": [
        "1 - norm.cdf((60-50)/(5))"
      ]
    },
    {
      "cell_type": "raw",
      "id": "dd4bf2b4",
      "metadata": {
        "id": "dd4bf2b4"
      },
      "source": [
        "The average order value on an e-commerce website is $50, with a standard deviation of $5. What is the probability that the average of the next 3 orders exceeds $60?"
      ]
    },
    {
      "cell_type": "code",
      "execution_count": null,
      "id": "7292ed60",
      "metadata": {
        "id": "7292ed60",
        "outputId": "6de2d05a-c029-4500-d8d4-a8bfbe400807",
        "colab": {
          "base_uri": "https://localhost:8080/"
        }
      },
      "outputs": [
        {
          "output_type": "execute_result",
          "data": {
            "text/plain": [
              "0.00026600275256960515"
            ]
          },
          "metadata": {},
          "execution_count": 42
        }
      ],
      "source": [
        "1 - norm.cdf((60-50)/(5/np.sqrt(3)))"
      ]
    },
    {
      "cell_type": "code",
      "execution_count": null,
      "id": "657e1832",
      "metadata": {
        "id": "657e1832"
      },
      "outputs": [],
      "source": []
    },
    {
      "cell_type": "markdown",
      "id": "72ffedc8",
      "metadata": {
        "id": "72ffedc8"
      },
      "source": [
        "# Confidence Interval using CLT"
      ]
    },
    {
      "cell_type": "markdown",
      "id": "29df8d4c",
      "metadata": {
        "id": "29df8d4c"
      },
      "source": [
        "## Height example"
      ]
    },
    {
      "cell_type": "markdown",
      "id": "e49784af",
      "metadata": {
        "id": "e49784af"
      },
      "source": [
        "#### from sample\n",
        "The mean height of a sample of 100 adults was found to be 65 inches,\n",
        "with a standard deviation of 2.5 inches."
      ]
    },
    {
      "cell_type": "code",
      "execution_count": null,
      "id": "a2a39777",
      "metadata": {
        "id": "a2a39777",
        "outputId": "17073277-bbd6-43b3-95ee-2810873562b0",
        "colab": {
          "base_uri": "https://localhost:8080/"
        }
      },
      "outputs": [
        {
          "output_type": "execute_result",
          "data": {
            "text/plain": [
              "0.25"
            ]
          },
          "metadata": {},
          "execution_count": 43
        }
      ],
      "source": [
        "std_error = 2.5/np.sqrt(100)\n",
        "std_error"
      ]
    },
    {
      "cell_type": "code",
      "execution_count": null,
      "id": "ffa23562",
      "metadata": {
        "id": "ffa23562",
        "outputId": "f9a32059-4582-4272-af48-92c326157796",
        "colab": {
          "base_uri": "https://localhost:8080/"
        }
      },
      "outputs": [
        {
          "output_type": "execute_result",
          "data": {
            "text/plain": [
              "-1.9599639845400545"
            ]
          },
          "metadata": {},
          "execution_count": 44
        }
      ],
      "source": [
        "z1 = norm.ppf(0.025) # z-multiplier\n",
        "z1"
      ]
    },
    {
      "cell_type": "code",
      "execution_count": null,
      "id": "15aa6fd9",
      "metadata": {
        "id": "15aa6fd9",
        "outputId": "731d79a1-9a81-4a8a-fcdf-1f5fcbd54c92",
        "colab": {
          "base_uri": "https://localhost:8080/"
        }
      },
      "outputs": [
        {
          "output_type": "execute_result",
          "data": {
            "text/plain": [
              "1.959963984540054"
            ]
          },
          "metadata": {},
          "execution_count": 45
        }
      ],
      "source": [
        "z2 = norm.ppf(0.975)\n",
        "z2"
      ]
    },
    {
      "cell_type": "code",
      "execution_count": null,
      "id": "912f8191",
      "metadata": {
        "id": "912f8191",
        "outputId": "4cc9aabd-f4b0-4fde-fc57-4356dccaf198",
        "colab": {
          "base_uri": "https://localhost:8080/"
        }
      },
      "outputs": [
        {
          "output_type": "execute_result",
          "data": {
            "text/plain": [
              "64.51000900386498"
            ]
          },
          "metadata": {},
          "execution_count": 46
        }
      ],
      "source": [
        "x1 = 65 + z1 * std_error\n",
        "x1"
      ]
    },
    {
      "cell_type": "code",
      "execution_count": null,
      "id": "a8eb7d15",
      "metadata": {
        "id": "a8eb7d15",
        "outputId": "9d64ed5b-0423-4169-bc64-9bb77e885120",
        "colab": {
          "base_uri": "https://localhost:8080/"
        }
      },
      "outputs": [
        {
          "output_type": "execute_result",
          "data": {
            "text/plain": [
              "65.48999099613502"
            ]
          },
          "metadata": {},
          "execution_count": 47
        }
      ],
      "source": [
        "x2 = 65 + z2 * std_error\n",
        "x2"
      ]
    },
    {
      "cell_type": "markdown",
      "id": "3530d96a",
      "metadata": {
        "id": "3530d96a"
      },
      "source": [
        "The 95% confidence interval --> [64.51, 65.49]"
      ]
    },
    {
      "cell_type": "code",
      "execution_count": null,
      "id": "c5c96ebb",
      "metadata": {
        "id": "c5c96ebb",
        "outputId": "b7d38159-6b6f-4be5-cd75-0883ca281a7c",
        "colab": {
          "base_uri": "https://localhost:8080/"
        }
      },
      "outputs": [
        {
          "output_type": "execute_result",
          "data": {
            "text/plain": [
              "(65, [64.51000900386498, 65.48999099613502])"
            ]
          },
          "metadata": {},
          "execution_count": 48
        }
      ],
      "source": [
        "(65, [x1,x2])"
      ]
    },
    {
      "cell_type": "code",
      "execution_count": null,
      "id": "ea253b47",
      "metadata": {
        "id": "ea253b47"
      },
      "outputs": [],
      "source": []
    },
    {
      "cell_type": "markdown",
      "id": "61acf18f",
      "metadata": {
        "id": "61acf18f"
      },
      "source": [
        "## Recovery days"
      ]
    },
    {
      "cell_type": "markdown",
      "id": "b162384b",
      "metadata": {
        "id": "b162384b"
      },
      "source": [
        "The sample mean recovery time of 100 patients after taking a drug was seen to be 10.5 days with a standard deviation of 2 days. Find the 95% confidence interval of the true mean."
      ]
    },
    {
      "cell_type": "code",
      "execution_count": null,
      "id": "828f1aed",
      "metadata": {
        "id": "828f1aed",
        "outputId": "a900c837-15a8-4666-f61d-f356b473d09b",
        "colab": {
          "base_uri": "https://localhost:8080/"
        }
      },
      "outputs": [
        {
          "output_type": "execute_result",
          "data": {
            "text/plain": [
              "0.2"
            ]
          },
          "metadata": {},
          "execution_count": 49
        }
      ],
      "source": [
        "std_error = 2/np.sqrt(100)\n",
        "std_error"
      ]
    },
    {
      "cell_type": "code",
      "execution_count": null,
      "id": "8aac6f45",
      "metadata": {
        "id": "8aac6f45",
        "outputId": "f3d4026a-0760-4c84-f559-ea9ca79d3259",
        "colab": {
          "base_uri": "https://localhost:8080/"
        }
      },
      "outputs": [
        {
          "output_type": "execute_result",
          "data": {
            "text/plain": [
              "10.108007203091988"
            ]
          },
          "metadata": {},
          "execution_count": 50
        }
      ],
      "source": [
        "z1 = norm.ppf(0.025)\n",
        "x1 = 10.5 + z1 * std_error\n",
        "x1"
      ]
    },
    {
      "cell_type": "code",
      "execution_count": null,
      "id": "d3a7b528",
      "metadata": {
        "id": "d3a7b528",
        "outputId": "7b5eac88-28b4-407d-b848-ae97a6524b52",
        "colab": {
          "base_uri": "https://localhost:8080/"
        }
      },
      "outputs": [
        {
          "output_type": "execute_result",
          "data": {
            "text/plain": [
              "10.89199279690801"
            ]
          },
          "metadata": {},
          "execution_count": 51
        }
      ],
      "source": [
        "z2 = norm.ppf(0.975)\n",
        "x2 = 10.5 + z2 * std_error\n",
        "x2"
      ]
    },
    {
      "cell_type": "code",
      "execution_count": null,
      "id": "02cccc88",
      "metadata": {
        "id": "02cccc88",
        "outputId": "cf305394-d6c2-4c2c-bd6f-e6f4f1b8d4b1",
        "colab": {
          "base_uri": "https://localhost:8080/"
        }
      },
      "outputs": [
        {
          "output_type": "execute_result",
          "data": {
            "text/plain": [
              "[10.108007203091988, 10.89199279690801]"
            ]
          },
          "metadata": {},
          "execution_count": 52
        }
      ],
      "source": [
        "[x1, x2]"
      ]
    },
    {
      "cell_type": "code",
      "execution_count": null,
      "id": "625f7ed0",
      "metadata": {
        "id": "625f7ed0"
      },
      "outputs": [],
      "source": []
    },
    {
      "cell_type": "code",
      "execution_count": null,
      "id": "9ac63657",
      "metadata": {
        "id": "9ac63657"
      },
      "outputs": [],
      "source": []
    },
    {
      "cell_type": "markdown",
      "id": "fca1d441",
      "metadata": {
        "id": "fca1d441"
      },
      "source": [
        "# Confidence Interval using Bootstrap"
      ]
    },
    {
      "cell_type": "code",
      "execution_count": null,
      "id": "e43ec276",
      "metadata": {
        "id": "e43ec276",
        "outputId": "16523e4e-3040-4441-dc57-0d8a4ba811a8",
        "colab": {
          "base_uri": "https://localhost:8080/"
        }
      },
      "outputs": [
        {
          "output_type": "execute_result",
          "data": {
            "text/plain": [
              "35.0"
            ]
          },
          "metadata": {},
          "execution_count": 53
        }
      ],
      "source": [
        "survey_1 = [35, 36, 33, 37, 34, 35]\n",
        "np.mean(survey_1)"
      ]
    },
    {
      "cell_type": "code",
      "execution_count": null,
      "id": "54441a8e",
      "metadata": {
        "id": "54441a8e",
        "outputId": "a929385f-8a5d-444d-df61-4c57c900cd06",
        "colab": {
          "base_uri": "https://localhost:8080/"
        }
      },
      "outputs": [
        {
          "output_type": "execute_result",
          "data": {
            "text/plain": [
              "35.0"
            ]
          },
          "metadata": {},
          "execution_count": 54
        }
      ],
      "source": [
        "survey_2 = [20, 37, 17, 50, 53, 33]\n",
        "np.mean(survey_2)"
      ]
    },
    {
      "cell_type": "code",
      "execution_count": null,
      "id": "7efef98d",
      "metadata": {
        "id": "7efef98d",
        "outputId": "6c5061cf-a32b-4ee3-d293-eda082ff466d",
        "colab": {
          "base_uri": "https://localhost:8080/"
        }
      },
      "outputs": [
        {
          "output_type": "execute_result",
          "data": {
            "text/plain": [
              "array([35, 34, 33])"
            ]
          },
          "metadata": {},
          "execution_count": 55
        }
      ],
      "source": [
        "np.random.choice(survey_1, size = 3)"
      ]
    },
    {
      "cell_type": "code",
      "execution_count": null,
      "id": "efd2b152",
      "metadata": {
        "id": "efd2b152",
        "outputId": "0ce8bfdb-f170-45db-849b-184d302ccc67",
        "colab": {
          "base_uri": "https://localhost:8080/"
        }
      },
      "outputs": [
        {
          "output_type": "execute_result",
          "data": {
            "text/plain": [
              "36.0"
            ]
          },
          "metadata": {},
          "execution_count": 56
        }
      ],
      "source": [
        "n = 6\n",
        "# Sample with replacement\n",
        "bootstrapped_samples  = np.random.choice(survey_1, size = n)\n",
        "bootstrapped_samples.mean()\n"
      ]
    },
    {
      "cell_type": "code",
      "execution_count": null,
      "id": "ea0ca8fa",
      "metadata": {
        "id": "ea0ca8fa"
      },
      "outputs": [],
      "source": [
        "bootstrapped_means_survey_1 = []\n",
        "\n",
        "for reps in range(10000):\n",
        "    bootstrapped_samples = np.random.choice(survey_1, size=n)\n",
        "    bootstrapped_mean = np.mean(bootstrapped_samples)\n",
        "    bootstrapped_means_survey_1.append(bootstrapped_mean)"
      ]
    },
    {
      "cell_type": "code",
      "execution_count": null,
      "id": "9552846b",
      "metadata": {
        "id": "9552846b",
        "outputId": "854db151-ecd6-4837-8ec7-6a111247bf69",
        "colab": {
          "base_uri": "https://localhost:8080/"
        }
      },
      "outputs": [
        {
          "output_type": "execute_result",
          "data": {
            "text/plain": [
              "10000"
            ]
          },
          "metadata": {},
          "execution_count": 58
        }
      ],
      "source": [
        "len(bootstrapped_means_survey_1)"
      ]
    },
    {
      "cell_type": "code",
      "execution_count": null,
      "id": "2c8540c7",
      "metadata": {
        "id": "2c8540c7",
        "outputId": "039c11c3-c941-47a5-fd20-1e2aa984d55a",
        "colab": {
          "base_uri": "https://localhost:8080/"
        }
      },
      "outputs": [
        {
          "output_type": "execute_result",
          "data": {
            "text/plain": [
              "[35.333333333333336,\n",
              " 35.666666666666664,\n",
              " 34.333333333333336,\n",
              " 34.833333333333336,\n",
              " 35.166666666666664]"
            ]
          },
          "metadata": {},
          "execution_count": 59
        }
      ],
      "source": [
        "bootstrapped_means_survey_1[:5]"
      ]
    },
    {
      "cell_type": "code",
      "execution_count": null,
      "id": "7642dfd0",
      "metadata": {
        "id": "7642dfd0"
      },
      "outputs": [],
      "source": [
        "bootstrapped_means_survey_2 = []\n",
        "for reps in range(100000):\n",
        "    bootstrapped_samples = np.random.choice(survey_2, size=n)\n",
        "    bootstrapped_mean = np.mean(bootstrapped_samples) # Replace by any statistic (median, percentile)\n",
        "    bootstrapped_means_survey_2.append(bootstrapped_mean)"
      ]
    },
    {
      "cell_type": "code",
      "execution_count": null,
      "id": "6333e173",
      "metadata": {
        "id": "6333e173",
        "outputId": "745dceee-8d1a-4dcc-c9f7-ed8edbc333fe",
        "colab": {
          "base_uri": "https://localhost:8080/"
        }
      },
      "outputs": [
        {
          "output_type": "execute_result",
          "data": {
            "text/plain": [
              "[35, 36, 33, 37, 34, 35]"
            ]
          },
          "metadata": {},
          "execution_count": 61
        }
      ],
      "source": [
        "survey_1"
      ]
    },
    {
      "cell_type": "code",
      "execution_count": null,
      "id": "bad3c950",
      "metadata": {
        "id": "bad3c950",
        "outputId": "28c092c1-0720-4b88-f473-96daf6db5078",
        "colab": {
          "base_uri": "https://localhost:8080/"
        }
      },
      "outputs": [
        {
          "output_type": "execute_result",
          "data": {
            "text/plain": [
              "35.0"
            ]
          },
          "metadata": {},
          "execution_count": 62
        }
      ],
      "source": [
        "bootstrapped_samples  = np.random.choice(survey_1, size = n)\n",
        "bootstrapped_samples.mean()\n"
      ]
    },
    {
      "cell_type": "code",
      "execution_count": null,
      "id": "bad74968",
      "metadata": {
        "id": "bad74968",
        "outputId": "e3dda9d7-5a5c-4da5-ecbf-d14bac41cbcf",
        "colab": {
          "base_uri": "https://localhost:8080/",
          "height": 435
        }
      },
      "outputs": [
        {
          "output_type": "execute_result",
          "data": {
            "text/plain": [
              "<Axes: ylabel='Count'>"
            ]
          },
          "metadata": {},
          "execution_count": 63
        },
        {
          "output_type": "display_data",
          "data": {
            "text/plain": [
              "<Figure size 640x480 with 1 Axes>"
            ],
            "image/svg+xml": "<?xml version=\"1.0\" encoding=\"utf-8\" standalone=\"no\"?>\n<!DOCTYPE svg PUBLIC \"-//W3C//DTD SVG 1.1//EN\"\n  \"http://www.w3.org/Graphics/SVG/1.1/DTD/svg11.dtd\">\n<svg xmlns:xlink=\"http://www.w3.org/1999/xlink\" width=\"427.305235pt\" height=\"297.190125pt\" viewBox=\"0 0 427.305235 297.190125\" xmlns=\"http://www.w3.org/2000/svg\" version=\"1.1\">\n <metadata>\n  <rdf:RDF xmlns:dc=\"http://purl.org/dc/elements/1.1/\" xmlns:cc=\"http://creativecommons.org/ns#\" xmlns:rdf=\"http://www.w3.org/1999/02/22-rdf-syntax-ns#\">\n   <cc:Work>\n    <dc:type rdf:resource=\"http://purl.org/dc/dcmitype/StillImage\"/>\n    <dc:date>2023-06-12T06:05:25.277031</dc:date>\n    <dc:format>image/svg+xml</dc:format>\n    <dc:creator>\n     <cc:Agent>\n      <dc:title>Matplotlib v3.7.1, https://matplotlib.org/</dc:title>\n     </cc:Agent>\n    </dc:creator>\n   </cc:Work>\n  </rdf:RDF>\n </metadata>\n <defs>\n  <style type=\"text/css\">*{stroke-linejoin: round; stroke-linecap: butt}</style>\n </defs>\n <g id=\"figure_1\">\n  <g id=\"patch_1\">\n   <path d=\"M 0 297.190125 \nL 427.305235 297.190125 \nL 427.305235 0 \nL 0 0 \nz\n\" style=\"fill: #ffffff\"/>\n  </g>\n  <g id=\"axes_1\">\n   <g id=\"patch_2\">\n    <path d=\"M 53.328125 273.312 \nL 410.448125 273.312 \nL 410.448125 7.2 \nL 53.328125 7.2 \nz\n\" style=\"fill: #ffffff\"/>\n   </g>\n   <g id=\"patch_3\">\n    <path d=\"M 69.560852 273.312 \nL 74.971761 273.312 \nL 74.971761 273.098127 \nL 69.560852 273.098127 \nz\n\" clip-path=\"url(#p97ffbd7ff3)\" style=\"fill: #1f77b4; fill-opacity: 0.75; stroke: #000000; stroke-width: 0.541091; stroke-linejoin: miter\"/>\n   </g>\n   <g id=\"patch_4\">\n    <path d=\"M 74.971761 273.312 \nL 80.38267 273.312 \nL 80.38267 273.312 \nL 74.971761 273.312 \nz\n\" clip-path=\"url(#p97ffbd7ff3)\" style=\"fill: #1f77b4; fill-opacity: 0.75; stroke: #000000; stroke-width: 0.541091; stroke-linejoin: miter\"/>\n   </g>\n   <g id=\"patch_5\">\n    <path d=\"M 80.38267 273.312 \nL 85.79358 273.312 \nL 85.79358 272.242633 \nL 80.38267 272.242633 \nz\n\" clip-path=\"url(#p97ffbd7ff3)\" style=\"fill: #1f77b4; fill-opacity: 0.75; stroke: #000000; stroke-width: 0.541091; stroke-linejoin: miter\"/>\n   </g>\n   <g id=\"patch_6\">\n    <path d=\"M 85.79358 273.312 \nL 91.204489 273.312 \nL 91.204489 273.312 \nL 85.79358 273.312 \nz\n\" clip-path=\"url(#p97ffbd7ff3)\" style=\"fill: #1f77b4; fill-opacity: 0.75; stroke: #000000; stroke-width: 0.541091; stroke-linejoin: miter\"/>\n   </g>\n   <g id=\"patch_7\">\n    <path d=\"M 91.204489 273.312 \nL 96.615398 273.312 \nL 96.615398 273.312 \nL 91.204489 273.312 \nz\n\" clip-path=\"url(#p97ffbd7ff3)\" style=\"fill: #1f77b4; fill-opacity: 0.75; stroke: #000000; stroke-width: 0.541091; stroke-linejoin: miter\"/>\n   </g>\n   <g id=\"patch_8\">\n    <path d=\"M 96.615398 273.312 \nL 102.026307 273.312 \nL 102.026307 269.676152 \nL 96.615398 269.676152 \nz\n\" clip-path=\"url(#p97ffbd7ff3)\" style=\"fill: #1f77b4; fill-opacity: 0.75; stroke: #000000; stroke-width: 0.541091; stroke-linejoin: miter\"/>\n   </g>\n   <g id=\"patch_9\">\n    <path d=\"M 102.026307 273.312 \nL 107.437216 273.312 \nL 107.437216 273.312 \nL 102.026307 273.312 \nz\n\" clip-path=\"url(#p97ffbd7ff3)\" style=\"fill: #1f77b4; fill-opacity: 0.75; stroke: #000000; stroke-width: 0.541091; stroke-linejoin: miter\"/>\n   </g>\n   <g id=\"patch_10\">\n    <path d=\"M 107.437216 273.312 \nL 112.848125 273.312 \nL 112.848125 273.312 \nL 107.437216 273.312 \nz\n\" clip-path=\"url(#p97ffbd7ff3)\" style=\"fill: #1f77b4; fill-opacity: 0.75; stroke: #000000; stroke-width: 0.541091; stroke-linejoin: miter\"/>\n   </g>\n   <g id=\"patch_11\">\n    <path d=\"M 112.848125 273.312 \nL 118.259034 273.312 \nL 118.259034 263.473823 \nL 112.848125 263.473823 \nz\n\" clip-path=\"url(#p97ffbd7ff3)\" style=\"fill: #1f77b4; fill-opacity: 0.75; stroke: #000000; stroke-width: 0.541091; stroke-linejoin: miter\"/>\n   </g>\n   <g id=\"patch_12\">\n    <path d=\"M 118.259034 273.312 \nL 123.669943 273.312 \nL 123.669943 273.312 \nL 118.259034 273.312 \nz\n\" clip-path=\"url(#p97ffbd7ff3)\" style=\"fill: #1f77b4; fill-opacity: 0.75; stroke: #000000; stroke-width: 0.541091; stroke-linejoin: miter\"/>\n   </g>\n   <g id=\"patch_13\">\n    <path d=\"M 123.669943 273.312 \nL 129.080852 273.312 \nL 129.080852 251.924658 \nL 123.669943 251.924658 \nz\n\" clip-path=\"url(#p97ffbd7ff3)\" style=\"fill: #1f77b4; fill-opacity: 0.75; stroke: #000000; stroke-width: 0.541091; stroke-linejoin: miter\"/>\n   </g>\n   <g id=\"patch_14\">\n    <path d=\"M 129.080852 273.312 \nL 134.491761 273.312 \nL 134.491761 273.312 \nL 129.080852 273.312 \nz\n\" clip-path=\"url(#p97ffbd7ff3)\" style=\"fill: #1f77b4; fill-opacity: 0.75; stroke: #000000; stroke-width: 0.541091; stroke-linejoin: miter\"/>\n   </g>\n   <g id=\"patch_15\">\n    <path d=\"M 134.491761 273.312 \nL 139.90267 273.312 \nL 139.90267 273.312 \nL 134.491761 273.312 \nz\n\" clip-path=\"url(#p97ffbd7ff3)\" style=\"fill: #1f77b4; fill-opacity: 0.75; stroke: #000000; stroke-width: 0.541091; stroke-linejoin: miter\"/>\n   </g>\n   <g id=\"patch_16\">\n    <path d=\"M 139.90267 273.312 \nL 145.31358 273.312 \nL 145.31358 227.970835 \nL 139.90267 227.970835 \nz\n\" clip-path=\"url(#p97ffbd7ff3)\" style=\"fill: #1f77b4; fill-opacity: 0.75; stroke: #000000; stroke-width: 0.541091; stroke-linejoin: miter\"/>\n   </g>\n   <g id=\"patch_17\">\n    <path d=\"M 145.31358 273.312 \nL 150.724489 273.312 \nL 150.724489 273.312 \nL 145.31358 273.312 \nz\n\" clip-path=\"url(#p97ffbd7ff3)\" style=\"fill: #1f77b4; fill-opacity: 0.75; stroke: #000000; stroke-width: 0.541091; stroke-linejoin: miter\"/>\n   </g>\n   <g id=\"patch_18\">\n    <path d=\"M 150.724489 273.312 \nL 156.135398 273.312 \nL 156.135398 273.312 \nL 150.724489 273.312 \nz\n\" clip-path=\"url(#p97ffbd7ff3)\" style=\"fill: #1f77b4; fill-opacity: 0.75; stroke: #000000; stroke-width: 0.541091; stroke-linejoin: miter\"/>\n   </g>\n   <g id=\"patch_19\">\n    <path d=\"M 156.135398 273.312 \nL 161.546307 273.312 \nL 161.546307 183.271291 \nL 156.135398 183.271291 \nz\n\" clip-path=\"url(#p97ffbd7ff3)\" style=\"fill: #1f77b4; fill-opacity: 0.75; stroke: #000000; stroke-width: 0.541091; stroke-linejoin: miter\"/>\n   </g>\n   <g id=\"patch_20\">\n    <path d=\"M 161.546307 273.312 \nL 166.957216 273.312 \nL 166.957216 273.312 \nL 161.546307 273.312 \nz\n\" clip-path=\"url(#p97ffbd7ff3)\" style=\"fill: #1f77b4; fill-opacity: 0.75; stroke: #000000; stroke-width: 0.541091; stroke-linejoin: miter\"/>\n   </g>\n   <g id=\"patch_21\">\n    <path d=\"M 166.957216 273.312 \nL 172.368125 273.312 \nL 172.368125 273.312 \nL 166.957216 273.312 \nz\n\" clip-path=\"url(#p97ffbd7ff3)\" style=\"fill: #1f77b4; fill-opacity: 0.75; stroke: #000000; stroke-width: 0.541091; stroke-linejoin: miter\"/>\n   </g>\n   <g id=\"patch_22\">\n    <path d=\"M 172.368125 273.312 \nL 177.779034 273.312 \nL 177.779034 148.409924 \nL 172.368125 148.409924 \nz\n\" clip-path=\"url(#p97ffbd7ff3)\" style=\"fill: #1f77b4; fill-opacity: 0.75; stroke: #000000; stroke-width: 0.541091; stroke-linejoin: miter\"/>\n   </g>\n   <g id=\"patch_23\">\n    <path d=\"M 177.779034 273.312 \nL 183.189943 273.312 \nL 183.189943 273.312 \nL 177.779034 273.312 \nz\n\" clip-path=\"url(#p97ffbd7ff3)\" style=\"fill: #1f77b4; fill-opacity: 0.75; stroke: #000000; stroke-width: 0.541091; stroke-linejoin: miter\"/>\n   </g>\n   <g id=\"patch_24\">\n    <path d=\"M 183.189943 273.312 \nL 188.600852 273.312 \nL 188.600852 87.242127 \nL 183.189943 87.242127 \nz\n\" clip-path=\"url(#p97ffbd7ff3)\" style=\"fill: #1f77b4; fill-opacity: 0.75; stroke: #000000; stroke-width: 0.541091; stroke-linejoin: miter\"/>\n   </g>\n   <g id=\"patch_25\">\n    <path d=\"M 188.600852 273.312 \nL 194.011761 273.312 \nL 194.011761 273.312 \nL 188.600852 273.312 \nz\n\" clip-path=\"url(#p97ffbd7ff3)\" style=\"fill: #1f77b4; fill-opacity: 0.75; stroke: #000000; stroke-width: 0.541091; stroke-linejoin: miter\"/>\n   </g>\n   <g id=\"patch_26\">\n    <path d=\"M 194.011761 273.312 \nL 199.42267 273.312 \nL 199.42267 273.312 \nL 194.011761 273.312 \nz\n\" clip-path=\"url(#p97ffbd7ff3)\" style=\"fill: #1f77b4; fill-opacity: 0.75; stroke: #000000; stroke-width: 0.541091; stroke-linejoin: miter\"/>\n   </g>\n   <g id=\"patch_27\">\n    <path d=\"M 199.42267 273.312 \nL 204.83358 273.312 \nL 204.83358 54.30562 \nL 199.42267 54.30562 \nz\n\" clip-path=\"url(#p97ffbd7ff3)\" style=\"fill: #1f77b4; fill-opacity: 0.75; stroke: #000000; stroke-width: 0.541091; stroke-linejoin: miter\"/>\n   </g>\n   <g id=\"patch_28\">\n    <path d=\"M 204.83358 273.312 \nL 210.244489 273.312 \nL 210.244489 273.312 \nL 204.83358 273.312 \nz\n\" clip-path=\"url(#p97ffbd7ff3)\" style=\"fill: #1f77b4; fill-opacity: 0.75; stroke: #000000; stroke-width: 0.541091; stroke-linejoin: miter\"/>\n   </g>\n   <g id=\"patch_29\">\n    <path d=\"M 210.244489 273.312 \nL 215.655398 273.312 \nL 215.655398 273.312 \nL 210.244489 273.312 \nz\n\" clip-path=\"url(#p97ffbd7ff3)\" style=\"fill: #1f77b4; fill-opacity: 0.75; stroke: #000000; stroke-width: 0.541091; stroke-linejoin: miter\"/>\n   </g>\n   <g id=\"patch_30\">\n    <path d=\"M 215.655398 273.312 \nL 221.066307 273.312 \nL 221.066307 26.288203 \nL 215.655398 26.288203 \nz\n\" clip-path=\"url(#p97ffbd7ff3)\" style=\"fill: #1f77b4; fill-opacity: 0.75; stroke: #000000; stroke-width: 0.541091; stroke-linejoin: miter\"/>\n   </g>\n   <g id=\"patch_31\">\n    <path d=\"M 221.066307 273.312 \nL 226.477216 273.312 \nL 226.477216 273.312 \nL 221.066307 273.312 \nz\n\" clip-path=\"url(#p97ffbd7ff3)\" style=\"fill: #1f77b4; fill-opacity: 0.75; stroke: #000000; stroke-width: 0.541091; stroke-linejoin: miter\"/>\n   </g>\n   <g id=\"patch_32\">\n    <path d=\"M 226.477216 273.312 \nL 231.888125 273.312 \nL 231.888125 273.312 \nL 226.477216 273.312 \nz\n\" clip-path=\"url(#p97ffbd7ff3)\" style=\"fill: #1f77b4; fill-opacity: 0.75; stroke: #000000; stroke-width: 0.541091; stroke-linejoin: miter\"/>\n   </g>\n   <g id=\"patch_33\">\n    <path d=\"M 231.888125 273.312 \nL 237.299034 273.312 \nL 237.299034 19.872 \nL 231.888125 19.872 \nz\n\" clip-path=\"url(#p97ffbd7ff3)\" style=\"fill: #1f77b4; fill-opacity: 0.75; stroke: #000000; stroke-width: 0.541091; stroke-linejoin: miter\"/>\n   </g>\n   <g id=\"patch_34\">\n    <path d=\"M 237.299034 273.312 \nL 242.709943 273.312 \nL 242.709943 273.312 \nL 237.299034 273.312 \nz\n\" clip-path=\"url(#p97ffbd7ff3)\" style=\"fill: #1f77b4; fill-opacity: 0.75; stroke: #000000; stroke-width: 0.541091; stroke-linejoin: miter\"/>\n   </g>\n   <g id=\"patch_35\">\n    <path d=\"M 242.709943 273.312 \nL 248.120852 273.312 \nL 248.120852 22.866228 \nL 242.709943 22.866228 \nz\n\" clip-path=\"url(#p97ffbd7ff3)\" style=\"fill: #1f77b4; fill-opacity: 0.75; stroke: #000000; stroke-width: 0.541091; stroke-linejoin: miter\"/>\n   </g>\n   <g id=\"patch_36\">\n    <path d=\"M 248.120852 273.312 \nL 253.531761 273.312 \nL 253.531761 273.312 \nL 248.120852 273.312 \nz\n\" clip-path=\"url(#p97ffbd7ff3)\" style=\"fill: #1f77b4; fill-opacity: 0.75; stroke: #000000; stroke-width: 0.541091; stroke-linejoin: miter\"/>\n   </g>\n   <g id=\"patch_37\">\n    <path d=\"M 253.531761 273.312 \nL 258.94267 273.312 \nL 258.94267 273.312 \nL 253.531761 273.312 \nz\n\" clip-path=\"url(#p97ffbd7ff3)\" style=\"fill: #1f77b4; fill-opacity: 0.75; stroke: #000000; stroke-width: 0.541091; stroke-linejoin: miter\"/>\n   </g>\n   <g id=\"patch_38\">\n    <path d=\"M 258.94267 273.312 \nL 264.35358 273.312 \nL 264.35358 60.507949 \nL 258.94267 60.507949 \nz\n\" clip-path=\"url(#p97ffbd7ff3)\" style=\"fill: #1f77b4; fill-opacity: 0.75; stroke: #000000; stroke-width: 0.541091; stroke-linejoin: miter\"/>\n   </g>\n   <g id=\"patch_39\">\n    <path d=\"M 264.35358 273.312 \nL 269.764489 273.312 \nL 269.764489 273.312 \nL 264.35358 273.312 \nz\n\" clip-path=\"url(#p97ffbd7ff3)\" style=\"fill: #1f77b4; fill-opacity: 0.75; stroke: #000000; stroke-width: 0.541091; stroke-linejoin: miter\"/>\n   </g>\n   <g id=\"patch_40\">\n    <path d=\"M 269.764489 273.312 \nL 275.175398 273.312 \nL 275.175398 273.312 \nL 269.764489 273.312 \nz\n\" clip-path=\"url(#p97ffbd7ff3)\" style=\"fill: #1f77b4; fill-opacity: 0.75; stroke: #000000; stroke-width: 0.541091; stroke-linejoin: miter\"/>\n   </g>\n   <g id=\"patch_41\">\n    <path d=\"M 275.175398 273.312 \nL 280.586307 273.312 \nL 280.586307 94.94157 \nL 275.175398 94.94157 \nz\n\" clip-path=\"url(#p97ffbd7ff3)\" style=\"fill: #1f77b4; fill-opacity: 0.75; stroke: #000000; stroke-width: 0.541091; stroke-linejoin: miter\"/>\n   </g>\n   <g id=\"patch_42\">\n    <path d=\"M 280.586307 273.312 \nL 285.997216 273.312 \nL 285.997216 273.312 \nL 280.586307 273.312 \nz\n\" clip-path=\"url(#p97ffbd7ff3)\" style=\"fill: #1f77b4; fill-opacity: 0.75; stroke: #000000; stroke-width: 0.541091; stroke-linejoin: miter\"/>\n   </g>\n   <g id=\"patch_43\">\n    <path d=\"M 285.997216 273.312 \nL 291.408125 273.312 \nL 291.408125 146.698937 \nL 285.997216 146.698937 \nz\n\" clip-path=\"url(#p97ffbd7ff3)\" style=\"fill: #1f77b4; fill-opacity: 0.75; stroke: #000000; stroke-width: 0.541091; stroke-linejoin: miter\"/>\n   </g>\n   <g id=\"patch_44\">\n    <path d=\"M 291.408125 273.312 \nL 296.819034 273.312 \nL 296.819034 273.312 \nL 291.408125 273.312 \nz\n\" clip-path=\"url(#p97ffbd7ff3)\" style=\"fill: #1f77b4; fill-opacity: 0.75; stroke: #000000; stroke-width: 0.541091; stroke-linejoin: miter\"/>\n   </g>\n   <g id=\"patch_45\">\n    <path d=\"M 296.819034 273.312 \nL 302.229943 273.312 \nL 302.229943 273.312 \nL 296.819034 273.312 \nz\n\" clip-path=\"url(#p97ffbd7ff3)\" style=\"fill: #1f77b4; fill-opacity: 0.75; stroke: #000000; stroke-width: 0.541091; stroke-linejoin: miter\"/>\n   </g>\n   <g id=\"patch_46\">\n    <path d=\"M 302.229943 273.312 \nL 307.640852 273.312 \nL 307.640852 187.976506 \nL 302.229943 187.976506 \nz\n\" clip-path=\"url(#p97ffbd7ff3)\" style=\"fill: #1f77b4; fill-opacity: 0.75; stroke: #000000; stroke-width: 0.541091; stroke-linejoin: miter\"/>\n   </g>\n   <g id=\"patch_47\">\n    <path d=\"M 307.640852 273.312 \nL 313.051761 273.312 \nL 313.051761 273.312 \nL 307.640852 273.312 \nz\n\" clip-path=\"url(#p97ffbd7ff3)\" style=\"fill: #1f77b4; fill-opacity: 0.75; stroke: #000000; stroke-width: 0.541091; stroke-linejoin: miter\"/>\n   </g>\n   <g id=\"patch_48\">\n    <path d=\"M 313.051761 273.312 \nL 318.46267 273.312 \nL 318.46267 273.312 \nL 313.051761 273.312 \nz\n\" clip-path=\"url(#p97ffbd7ff3)\" style=\"fill: #1f77b4; fill-opacity: 0.75; stroke: #000000; stroke-width: 0.541091; stroke-linejoin: miter\"/>\n   </g>\n   <g id=\"patch_49\">\n    <path d=\"M 318.46267 273.312 \nL 323.87358 273.312 \nL 323.87358 227.970835 \nL 318.46267 227.970835 \nz\n\" clip-path=\"url(#p97ffbd7ff3)\" style=\"fill: #1f77b4; fill-opacity: 0.75; stroke: #000000; stroke-width: 0.541091; stroke-linejoin: miter\"/>\n   </g>\n   <g id=\"patch_50\">\n    <path d=\"M 323.87358 273.312 \nL 329.284489 273.312 \nL 329.284489 273.312 \nL 323.87358 273.312 \nz\n\" clip-path=\"url(#p97ffbd7ff3)\" style=\"fill: #1f77b4; fill-opacity: 0.75; stroke: #000000; stroke-width: 0.541091; stroke-linejoin: miter\"/>\n   </g>\n   <g id=\"patch_51\">\n    <path d=\"M 329.284489 273.312 \nL 334.695398 273.312 \nL 334.695398 273.312 \nL 329.284489 273.312 \nz\n\" clip-path=\"url(#p97ffbd7ff3)\" style=\"fill: #1f77b4; fill-opacity: 0.75; stroke: #000000; stroke-width: 0.541091; stroke-linejoin: miter\"/>\n   </g>\n   <g id=\"patch_52\">\n    <path d=\"M 334.695398 273.312 \nL 340.106307 273.312 \nL 340.106307 254.063392 \nL 334.695398 254.063392 \nz\n\" clip-path=\"url(#p97ffbd7ff3)\" style=\"fill: #1f77b4; fill-opacity: 0.75; stroke: #000000; stroke-width: 0.541091; stroke-linejoin: miter\"/>\n   </g>\n   <g id=\"patch_53\">\n    <path d=\"M 340.106307 273.312 \nL 345.517216 273.312 \nL 345.517216 273.312 \nL 340.106307 273.312 \nz\n\" clip-path=\"url(#p97ffbd7ff3)\" style=\"fill: #1f77b4; fill-opacity: 0.75; stroke: #000000; stroke-width: 0.541091; stroke-linejoin: miter\"/>\n   </g>\n   <g id=\"patch_54\">\n    <path d=\"M 345.517216 273.312 \nL 350.928125 273.312 \nL 350.928125 261.121215 \nL 345.517216 261.121215 \nz\n\" clip-path=\"url(#p97ffbd7ff3)\" style=\"fill: #1f77b4; fill-opacity: 0.75; stroke: #000000; stroke-width: 0.541091; stroke-linejoin: miter\"/>\n   </g>\n   <g id=\"patch_55\">\n    <path d=\"M 350.928125 273.312 \nL 356.339034 273.312 \nL 356.339034 273.312 \nL 350.928125 273.312 \nz\n\" clip-path=\"url(#p97ffbd7ff3)\" style=\"fill: #1f77b4; fill-opacity: 0.75; stroke: #000000; stroke-width: 0.541091; stroke-linejoin: miter\"/>\n   </g>\n   <g id=\"patch_56\">\n    <path d=\"M 356.339034 273.312 \nL 361.749943 273.312 \nL 361.749943 273.312 \nL 356.339034 273.312 \nz\n\" clip-path=\"url(#p97ffbd7ff3)\" style=\"fill: #1f77b4; fill-opacity: 0.75; stroke: #000000; stroke-width: 0.541091; stroke-linejoin: miter\"/>\n   </g>\n   <g id=\"patch_57\">\n    <path d=\"M 361.749943 273.312 \nL 367.160852 273.312 \nL 367.160852 268.606785 \nL 361.749943 268.606785 \nz\n\" clip-path=\"url(#p97ffbd7ff3)\" style=\"fill: #1f77b4; fill-opacity: 0.75; stroke: #000000; stroke-width: 0.541091; stroke-linejoin: miter\"/>\n   </g>\n   <g id=\"patch_58\">\n    <path d=\"M 367.160852 273.312 \nL 372.571761 273.312 \nL 372.571761 273.312 \nL 367.160852 273.312 \nz\n\" clip-path=\"url(#p97ffbd7ff3)\" style=\"fill: #1f77b4; fill-opacity: 0.75; stroke: #000000; stroke-width: 0.541091; stroke-linejoin: miter\"/>\n   </g>\n   <g id=\"patch_59\">\n    <path d=\"M 372.571761 273.312 \nL 377.98267 273.312 \nL 377.98267 273.312 \nL 372.571761 273.312 \nz\n\" clip-path=\"url(#p97ffbd7ff3)\" style=\"fill: #1f77b4; fill-opacity: 0.75; stroke: #000000; stroke-width: 0.541091; stroke-linejoin: miter\"/>\n   </g>\n   <g id=\"patch_60\">\n    <path d=\"M 377.98267 273.312 \nL 383.39358 273.312 \nL 383.39358 272.242633 \nL 377.98267 272.242633 \nz\n\" clip-path=\"url(#p97ffbd7ff3)\" style=\"fill: #1f77b4; fill-opacity: 0.75; stroke: #000000; stroke-width: 0.541091; stroke-linejoin: miter\"/>\n   </g>\n   <g id=\"patch_61\">\n    <path d=\"M 383.39358 273.312 \nL 388.804489 273.312 \nL 388.804489 273.312 \nL 383.39358 273.312 \nz\n\" clip-path=\"url(#p97ffbd7ff3)\" style=\"fill: #1f77b4; fill-opacity: 0.75; stroke: #000000; stroke-width: 0.541091; stroke-linejoin: miter\"/>\n   </g>\n   <g id=\"patch_62\">\n    <path d=\"M 388.804489 273.312 \nL 394.215398 273.312 \nL 394.215398 272.67038 \nL 388.804489 272.67038 \nz\n\" clip-path=\"url(#p97ffbd7ff3)\" style=\"fill: #1f77b4; fill-opacity: 0.75; stroke: #000000; stroke-width: 0.541091; stroke-linejoin: miter\"/>\n   </g>\n   <g id=\"matplotlib.axis_1\">\n    <g id=\"xtick_1\">\n     <g id=\"line2d_1\">\n      <defs>\n       <path id=\"m1c2b807a27\" d=\"M 0 0 \nL 0 3.5 \n\" style=\"stroke: #000000; stroke-width: 0.8\"/>\n      </defs>\n      <g>\n       <use xlink:href=\"#m1c2b807a27\" x=\"54.803827\" y=\"273.312\" style=\"stroke: #000000; stroke-width: 0.8\"/>\n      </g>\n     </g>\n     <g id=\"text_1\">\n      <!-- 33.0 -->\n      <g transform=\"translate(43.671015 287.910437) scale(0.1 -0.1)\">\n       <defs>\n        <path id=\"DejaVuSans-33\" d=\"M 2597 2516 \nQ 3050 2419 3304 2112 \nQ 3559 1806 3559 1356 \nQ 3559 666 3084 287 \nQ 2609 -91 1734 -91 \nQ 1441 -91 1130 -33 \nQ 819 25 488 141 \nL 488 750 \nQ 750 597 1062 519 \nQ 1375 441 1716 441 \nQ 2309 441 2620 675 \nQ 2931 909 2931 1356 \nQ 2931 1769 2642 2001 \nQ 2353 2234 1838 2234 \nL 1294 2234 \nL 1294 2753 \nL 1863 2753 \nQ 2328 2753 2575 2939 \nQ 2822 3125 2822 3475 \nQ 2822 3834 2567 4026 \nQ 2313 4219 1838 4219 \nQ 1578 4219 1281 4162 \nQ 984 4106 628 3988 \nL 628 4550 \nQ 988 4650 1302 4700 \nQ 1616 4750 1894 4750 \nQ 2613 4750 3031 4423 \nQ 3450 4097 3450 3541 \nQ 3450 3153 3228 2886 \nQ 3006 2619 2597 2516 \nz\n\" transform=\"scale(0.015625)\"/>\n        <path id=\"DejaVuSans-2e\" d=\"M 684 794 \nL 1344 794 \nL 1344 0 \nL 684 0 \nL 684 794 \nz\n\" transform=\"scale(0.015625)\"/>\n        <path id=\"DejaVuSans-30\" d=\"M 2034 4250 \nQ 1547 4250 1301 3770 \nQ 1056 3291 1056 2328 \nQ 1056 1369 1301 889 \nQ 1547 409 2034 409 \nQ 2525 409 2770 889 \nQ 3016 1369 3016 2328 \nQ 3016 3291 2770 3770 \nQ 2525 4250 2034 4250 \nz\nM 2034 4750 \nQ 2819 4750 3233 4129 \nQ 3647 3509 3647 2328 \nQ 3647 1150 3233 529 \nQ 2819 -91 2034 -91 \nQ 1250 -91 836 529 \nQ 422 1150 422 2328 \nQ 422 3509 836 4129 \nQ 1250 4750 2034 4750 \nz\n\" transform=\"scale(0.015625)\"/>\n       </defs>\n       <use xlink:href=\"#DejaVuSans-33\"/>\n       <use xlink:href=\"#DejaVuSans-33\" x=\"63.623047\"/>\n       <use xlink:href=\"#DejaVuSans-2e\" x=\"127.246094\"/>\n       <use xlink:href=\"#DejaVuSans-30\" x=\"159.033203\"/>\n      </g>\n     </g>\n    </g>\n    <g id=\"xtick_2\">\n     <g id=\"line2d_2\">\n      <g>\n       <use xlink:href=\"#m1c2b807a27\" x=\"99.074902\" y=\"273.312\" style=\"stroke: #000000; stroke-width: 0.8\"/>\n      </g>\n     </g>\n     <g id=\"text_2\">\n      <!-- 33.5 -->\n      <g transform=\"translate(87.942089 287.910437) scale(0.1 -0.1)\">\n       <defs>\n        <path id=\"DejaVuSans-35\" d=\"M 691 4666 \nL 3169 4666 \nL 3169 4134 \nL 1269 4134 \nL 1269 2991 \nQ 1406 3038 1543 3061 \nQ 1681 3084 1819 3084 \nQ 2600 3084 3056 2656 \nQ 3513 2228 3513 1497 \nQ 3513 744 3044 326 \nQ 2575 -91 1722 -91 \nQ 1428 -91 1123 -41 \nQ 819 9 494 109 \nL 494 744 \nQ 775 591 1075 516 \nQ 1375 441 1709 441 \nQ 2250 441 2565 725 \nQ 2881 1009 2881 1497 \nQ 2881 1984 2565 2268 \nQ 2250 2553 1709 2553 \nQ 1456 2553 1204 2497 \nQ 953 2441 691 2322 \nL 691 4666 \nz\n\" transform=\"scale(0.015625)\"/>\n       </defs>\n       <use xlink:href=\"#DejaVuSans-33\"/>\n       <use xlink:href=\"#DejaVuSans-33\" x=\"63.623047\"/>\n       <use xlink:href=\"#DejaVuSans-2e\" x=\"127.246094\"/>\n       <use xlink:href=\"#DejaVuSans-35\" x=\"159.033203\"/>\n      </g>\n     </g>\n    </g>\n    <g id=\"xtick_3\">\n     <g id=\"line2d_3\">\n      <g>\n       <use xlink:href=\"#m1c2b807a27\" x=\"143.345976\" y=\"273.312\" style=\"stroke: #000000; stroke-width: 0.8\"/>\n      </g>\n     </g>\n     <g id=\"text_3\">\n      <!-- 34.0 -->\n      <g transform=\"translate(132.213164 287.910437) scale(0.1 -0.1)\">\n       <defs>\n        <path id=\"DejaVuSans-34\" d=\"M 2419 4116 \nL 825 1625 \nL 2419 1625 \nL 2419 4116 \nz\nM 2253 4666 \nL 3047 4666 \nL 3047 1625 \nL 3713 1625 \nL 3713 1100 \nL 3047 1100 \nL 3047 0 \nL 2419 0 \nL 2419 1100 \nL 313 1100 \nL 313 1709 \nL 2253 4666 \nz\n\" transform=\"scale(0.015625)\"/>\n       </defs>\n       <use xlink:href=\"#DejaVuSans-33\"/>\n       <use xlink:href=\"#DejaVuSans-34\" x=\"63.623047\"/>\n       <use xlink:href=\"#DejaVuSans-2e\" x=\"127.246094\"/>\n       <use xlink:href=\"#DejaVuSans-30\" x=\"159.033203\"/>\n      </g>\n     </g>\n    </g>\n    <g id=\"xtick_4\">\n     <g id=\"line2d_4\">\n      <g>\n       <use xlink:href=\"#m1c2b807a27\" x=\"187.617051\" y=\"273.312\" style=\"stroke: #000000; stroke-width: 0.8\"/>\n      </g>\n     </g>\n     <g id=\"text_4\">\n      <!-- 34.5 -->\n      <g transform=\"translate(176.484238 287.910437) scale(0.1 -0.1)\">\n       <use xlink:href=\"#DejaVuSans-33\"/>\n       <use xlink:href=\"#DejaVuSans-34\" x=\"63.623047\"/>\n       <use xlink:href=\"#DejaVuSans-2e\" x=\"127.246094\"/>\n       <use xlink:href=\"#DejaVuSans-35\" x=\"159.033203\"/>\n      </g>\n     </g>\n    </g>\n    <g id=\"xtick_5\">\n     <g id=\"line2d_5\">\n      <g>\n       <use xlink:href=\"#m1c2b807a27\" x=\"231.888125\" y=\"273.312\" style=\"stroke: #000000; stroke-width: 0.8\"/>\n      </g>\n     </g>\n     <g id=\"text_5\">\n      <!-- 35.0 -->\n      <g transform=\"translate(220.755312 287.910437) scale(0.1 -0.1)\">\n       <use xlink:href=\"#DejaVuSans-33\"/>\n       <use xlink:href=\"#DejaVuSans-35\" x=\"63.623047\"/>\n       <use xlink:href=\"#DejaVuSans-2e\" x=\"127.246094\"/>\n       <use xlink:href=\"#DejaVuSans-30\" x=\"159.033203\"/>\n      </g>\n     </g>\n    </g>\n    <g id=\"xtick_6\">\n     <g id=\"line2d_6\">\n      <g>\n       <use xlink:href=\"#m1c2b807a27\" x=\"276.159199\" y=\"273.312\" style=\"stroke: #000000; stroke-width: 0.8\"/>\n      </g>\n     </g>\n     <g id=\"text_6\">\n      <!-- 35.5 -->\n      <g transform=\"translate(265.026387 287.910437) scale(0.1 -0.1)\">\n       <use xlink:href=\"#DejaVuSans-33\"/>\n       <use xlink:href=\"#DejaVuSans-35\" x=\"63.623047\"/>\n       <use xlink:href=\"#DejaVuSans-2e\" x=\"127.246094\"/>\n       <use xlink:href=\"#DejaVuSans-35\" x=\"159.033203\"/>\n      </g>\n     </g>\n    </g>\n    <g id=\"xtick_7\">\n     <g id=\"line2d_7\">\n      <g>\n       <use xlink:href=\"#m1c2b807a27\" x=\"320.430274\" y=\"273.312\" style=\"stroke: #000000; stroke-width: 0.8\"/>\n      </g>\n     </g>\n     <g id=\"text_7\">\n      <!-- 36.0 -->\n      <g transform=\"translate(309.297461 287.910437) scale(0.1 -0.1)\">\n       <defs>\n        <path id=\"DejaVuSans-36\" d=\"M 2113 2584 \nQ 1688 2584 1439 2293 \nQ 1191 2003 1191 1497 \nQ 1191 994 1439 701 \nQ 1688 409 2113 409 \nQ 2538 409 2786 701 \nQ 3034 994 3034 1497 \nQ 3034 2003 2786 2293 \nQ 2538 2584 2113 2584 \nz\nM 3366 4563 \nL 3366 3988 \nQ 3128 4100 2886 4159 \nQ 2644 4219 2406 4219 \nQ 1781 4219 1451 3797 \nQ 1122 3375 1075 2522 \nQ 1259 2794 1537 2939 \nQ 1816 3084 2150 3084 \nQ 2853 3084 3261 2657 \nQ 3669 2231 3669 1497 \nQ 3669 778 3244 343 \nQ 2819 -91 2113 -91 \nQ 1303 -91 875 529 \nQ 447 1150 447 2328 \nQ 447 3434 972 4092 \nQ 1497 4750 2381 4750 \nQ 2619 4750 2861 4703 \nQ 3103 4656 3366 4563 \nz\n\" transform=\"scale(0.015625)\"/>\n       </defs>\n       <use xlink:href=\"#DejaVuSans-33\"/>\n       <use xlink:href=\"#DejaVuSans-36\" x=\"63.623047\"/>\n       <use xlink:href=\"#DejaVuSans-2e\" x=\"127.246094\"/>\n       <use xlink:href=\"#DejaVuSans-30\" x=\"159.033203\"/>\n      </g>\n     </g>\n    </g>\n    <g id=\"xtick_8\">\n     <g id=\"line2d_8\">\n      <g>\n       <use xlink:href=\"#m1c2b807a27\" x=\"364.701348\" y=\"273.312\" style=\"stroke: #000000; stroke-width: 0.8\"/>\n      </g>\n     </g>\n     <g id=\"text_8\">\n      <!-- 36.5 -->\n      <g transform=\"translate(353.568536 287.910437) scale(0.1 -0.1)\">\n       <use xlink:href=\"#DejaVuSans-33\"/>\n       <use xlink:href=\"#DejaVuSans-36\" x=\"63.623047\"/>\n       <use xlink:href=\"#DejaVuSans-2e\" x=\"127.246094\"/>\n       <use xlink:href=\"#DejaVuSans-35\" x=\"159.033203\"/>\n      </g>\n     </g>\n    </g>\n    <g id=\"xtick_9\">\n     <g id=\"line2d_9\">\n      <g>\n       <use xlink:href=\"#m1c2b807a27\" x=\"408.972423\" y=\"273.312\" style=\"stroke: #000000; stroke-width: 0.8\"/>\n      </g>\n     </g>\n     <g id=\"text_9\">\n      <!-- 37.0 -->\n      <g transform=\"translate(397.83961 287.910437) scale(0.1 -0.1)\">\n       <defs>\n        <path id=\"DejaVuSans-37\" d=\"M 525 4666 \nL 3525 4666 \nL 3525 4397 \nL 1831 0 \nL 1172 0 \nL 2766 4134 \nL 525 4134 \nL 525 4666 \nz\n\" transform=\"scale(0.015625)\"/>\n       </defs>\n       <use xlink:href=\"#DejaVuSans-33\"/>\n       <use xlink:href=\"#DejaVuSans-37\" x=\"63.623047\"/>\n       <use xlink:href=\"#DejaVuSans-2e\" x=\"127.246094\"/>\n       <use xlink:href=\"#DejaVuSans-30\" x=\"159.033203\"/>\n      </g>\n     </g>\n    </g>\n   </g>\n   <g id=\"matplotlib.axis_2\">\n    <g id=\"ytick_1\">\n     <g id=\"line2d_10\">\n      <defs>\n       <path id=\"me18b44f0af\" d=\"M 0 0 \nL -3.5 0 \n\" style=\"stroke: #000000; stroke-width: 0.8\"/>\n      </defs>\n      <g>\n       <use xlink:href=\"#me18b44f0af\" x=\"53.328125\" y=\"273.312\" style=\"stroke: #000000; stroke-width: 0.8\"/>\n      </g>\n     </g>\n     <g id=\"text_10\">\n      <!-- 0 -->\n      <g transform=\"translate(39.965625 277.111219) scale(0.1 -0.1)\">\n       <use xlink:href=\"#DejaVuSans-30\"/>\n      </g>\n     </g>\n    </g>\n    <g id=\"ytick_2\">\n     <g id=\"line2d_11\">\n      <g>\n       <use xlink:href=\"#me18b44f0af\" x=\"53.328125\" y=\"230.537316\" style=\"stroke: #000000; stroke-width: 0.8\"/>\n      </g>\n     </g>\n     <g id=\"text_11\">\n      <!-- 200 -->\n      <g transform=\"translate(27.240625 234.336535) scale(0.1 -0.1)\">\n       <defs>\n        <path id=\"DejaVuSans-32\" d=\"M 1228 531 \nL 3431 531 \nL 3431 0 \nL 469 0 \nL 469 531 \nQ 828 903 1448 1529 \nQ 2069 2156 2228 2338 \nQ 2531 2678 2651 2914 \nQ 2772 3150 2772 3378 \nQ 2772 3750 2511 3984 \nQ 2250 4219 1831 4219 \nQ 1534 4219 1204 4116 \nQ 875 4013 500 3803 \nL 500 4441 \nQ 881 4594 1212 4672 \nQ 1544 4750 1819 4750 \nQ 2544 4750 2975 4387 \nQ 3406 4025 3406 3419 \nQ 3406 3131 3298 2873 \nQ 3191 2616 2906 2266 \nQ 2828 2175 2409 1742 \nQ 1991 1309 1228 531 \nz\n\" transform=\"scale(0.015625)\"/>\n       </defs>\n       <use xlink:href=\"#DejaVuSans-32\"/>\n       <use xlink:href=\"#DejaVuSans-30\" x=\"63.623047\"/>\n       <use xlink:href=\"#DejaVuSans-30\" x=\"127.246094\"/>\n      </g>\n     </g>\n    </g>\n    <g id=\"ytick_3\">\n     <g id=\"line2d_12\">\n      <g>\n       <use xlink:href=\"#me18b44f0af\" x=\"53.328125\" y=\"187.762633\" style=\"stroke: #000000; stroke-width: 0.8\"/>\n      </g>\n     </g>\n     <g id=\"text_12\">\n      <!-- 400 -->\n      <g transform=\"translate(27.240625 191.561852) scale(0.1 -0.1)\">\n       <use xlink:href=\"#DejaVuSans-34\"/>\n       <use xlink:href=\"#DejaVuSans-30\" x=\"63.623047\"/>\n       <use xlink:href=\"#DejaVuSans-30\" x=\"127.246094\"/>\n      </g>\n     </g>\n    </g>\n    <g id=\"ytick_4\">\n     <g id=\"line2d_13\">\n      <g>\n       <use xlink:href=\"#me18b44f0af\" x=\"53.328125\" y=\"144.987949\" style=\"stroke: #000000; stroke-width: 0.8\"/>\n      </g>\n     </g>\n     <g id=\"text_13\">\n      <!-- 600 -->\n      <g transform=\"translate(27.240625 148.787168) scale(0.1 -0.1)\">\n       <use xlink:href=\"#DejaVuSans-36\"/>\n       <use xlink:href=\"#DejaVuSans-30\" x=\"63.623047\"/>\n       <use xlink:href=\"#DejaVuSans-30\" x=\"127.246094\"/>\n      </g>\n     </g>\n    </g>\n    <g id=\"ytick_5\">\n     <g id=\"line2d_14\">\n      <g>\n       <use xlink:href=\"#me18b44f0af\" x=\"53.328125\" y=\"102.213266\" style=\"stroke: #000000; stroke-width: 0.8\"/>\n      </g>\n     </g>\n     <g id=\"text_14\">\n      <!-- 800 -->\n      <g transform=\"translate(27.240625 106.012485) scale(0.1 -0.1)\">\n       <defs>\n        <path id=\"DejaVuSans-38\" d=\"M 2034 2216 \nQ 1584 2216 1326 1975 \nQ 1069 1734 1069 1313 \nQ 1069 891 1326 650 \nQ 1584 409 2034 409 \nQ 2484 409 2743 651 \nQ 3003 894 3003 1313 \nQ 3003 1734 2745 1975 \nQ 2488 2216 2034 2216 \nz\nM 1403 2484 \nQ 997 2584 770 2862 \nQ 544 3141 544 3541 \nQ 544 4100 942 4425 \nQ 1341 4750 2034 4750 \nQ 2731 4750 3128 4425 \nQ 3525 4100 3525 3541 \nQ 3525 3141 3298 2862 \nQ 3072 2584 2669 2484 \nQ 3125 2378 3379 2068 \nQ 3634 1759 3634 1313 \nQ 3634 634 3220 271 \nQ 2806 -91 2034 -91 \nQ 1263 -91 848 271 \nQ 434 634 434 1313 \nQ 434 1759 690 2068 \nQ 947 2378 1403 2484 \nz\nM 1172 3481 \nQ 1172 3119 1398 2916 \nQ 1625 2713 2034 2713 \nQ 2441 2713 2670 2916 \nQ 2900 3119 2900 3481 \nQ 2900 3844 2670 4047 \nQ 2441 4250 2034 4250 \nQ 1625 4250 1398 4047 \nQ 1172 3844 1172 3481 \nz\n\" transform=\"scale(0.015625)\"/>\n       </defs>\n       <use xlink:href=\"#DejaVuSans-38\"/>\n       <use xlink:href=\"#DejaVuSans-30\" x=\"63.623047\"/>\n       <use xlink:href=\"#DejaVuSans-30\" x=\"127.246094\"/>\n      </g>\n     </g>\n    </g>\n    <g id=\"ytick_6\">\n     <g id=\"line2d_15\">\n      <g>\n       <use xlink:href=\"#me18b44f0af\" x=\"53.328125\" y=\"59.438582\" style=\"stroke: #000000; stroke-width: 0.8\"/>\n      </g>\n     </g>\n     <g id=\"text_15\">\n      <!-- 1000 -->\n      <g transform=\"translate(20.878125 63.237801) scale(0.1 -0.1)\">\n       <defs>\n        <path id=\"DejaVuSans-31\" d=\"M 794 531 \nL 1825 531 \nL 1825 4091 \nL 703 3866 \nL 703 4441 \nL 1819 4666 \nL 2450 4666 \nL 2450 531 \nL 3481 531 \nL 3481 0 \nL 794 0 \nL 794 531 \nz\n\" transform=\"scale(0.015625)\"/>\n       </defs>\n       <use xlink:href=\"#DejaVuSans-31\"/>\n       <use xlink:href=\"#DejaVuSans-30\" x=\"63.623047\"/>\n       <use xlink:href=\"#DejaVuSans-30\" x=\"127.246094\"/>\n       <use xlink:href=\"#DejaVuSans-30\" x=\"190.869141\"/>\n      </g>\n     </g>\n    </g>\n    <g id=\"ytick_7\">\n     <g id=\"line2d_16\">\n      <g>\n       <use xlink:href=\"#me18b44f0af\" x=\"53.328125\" y=\"16.663899\" style=\"stroke: #000000; stroke-width: 0.8\"/>\n      </g>\n     </g>\n     <g id=\"text_16\">\n      <!-- 1200 -->\n      <g transform=\"translate(20.878125 20.463117) scale(0.1 -0.1)\">\n       <use xlink:href=\"#DejaVuSans-31\"/>\n       <use xlink:href=\"#DejaVuSans-32\" x=\"63.623047\"/>\n       <use xlink:href=\"#DejaVuSans-30\" x=\"127.246094\"/>\n       <use xlink:href=\"#DejaVuSans-30\" x=\"190.869141\"/>\n      </g>\n     </g>\n    </g>\n    <g id=\"text_17\">\n     <!-- Count -->\n     <g transform=\"translate(14.798438 155.104437) rotate(-90) scale(0.1 -0.1)\">\n      <defs>\n       <path id=\"DejaVuSans-43\" d=\"M 4122 4306 \nL 4122 3641 \nQ 3803 3938 3442 4084 \nQ 3081 4231 2675 4231 \nQ 1875 4231 1450 3742 \nQ 1025 3253 1025 2328 \nQ 1025 1406 1450 917 \nQ 1875 428 2675 428 \nQ 3081 428 3442 575 \nQ 3803 722 4122 1019 \nL 4122 359 \nQ 3791 134 3420 21 \nQ 3050 -91 2638 -91 \nQ 1578 -91 968 557 \nQ 359 1206 359 2328 \nQ 359 3453 968 4101 \nQ 1578 4750 2638 4750 \nQ 3056 4750 3426 4639 \nQ 3797 4528 4122 4306 \nz\n\" transform=\"scale(0.015625)\"/>\n       <path id=\"DejaVuSans-6f\" d=\"M 1959 3097 \nQ 1497 3097 1228 2736 \nQ 959 2375 959 1747 \nQ 959 1119 1226 758 \nQ 1494 397 1959 397 \nQ 2419 397 2687 759 \nQ 2956 1122 2956 1747 \nQ 2956 2369 2687 2733 \nQ 2419 3097 1959 3097 \nz\nM 1959 3584 \nQ 2709 3584 3137 3096 \nQ 3566 2609 3566 1747 \nQ 3566 888 3137 398 \nQ 2709 -91 1959 -91 \nQ 1206 -91 779 398 \nQ 353 888 353 1747 \nQ 353 2609 779 3096 \nQ 1206 3584 1959 3584 \nz\n\" transform=\"scale(0.015625)\"/>\n       <path id=\"DejaVuSans-75\" d=\"M 544 1381 \nL 544 3500 \nL 1119 3500 \nL 1119 1403 \nQ 1119 906 1312 657 \nQ 1506 409 1894 409 \nQ 2359 409 2629 706 \nQ 2900 1003 2900 1516 \nL 2900 3500 \nL 3475 3500 \nL 3475 0 \nL 2900 0 \nL 2900 538 \nQ 2691 219 2414 64 \nQ 2138 -91 1772 -91 \nQ 1169 -91 856 284 \nQ 544 659 544 1381 \nz\nM 1991 3584 \nL 1991 3584 \nz\n\" transform=\"scale(0.015625)\"/>\n       <path id=\"DejaVuSans-6e\" d=\"M 3513 2113 \nL 3513 0 \nL 2938 0 \nL 2938 2094 \nQ 2938 2591 2744 2837 \nQ 2550 3084 2163 3084 \nQ 1697 3084 1428 2787 \nQ 1159 2491 1159 1978 \nL 1159 0 \nL 581 0 \nL 581 3500 \nL 1159 3500 \nL 1159 2956 \nQ 1366 3272 1645 3428 \nQ 1925 3584 2291 3584 \nQ 2894 3584 3203 3211 \nQ 3513 2838 3513 2113 \nz\n\" transform=\"scale(0.015625)\"/>\n       <path id=\"DejaVuSans-74\" d=\"M 1172 4494 \nL 1172 3500 \nL 2356 3500 \nL 2356 3053 \nL 1172 3053 \nL 1172 1153 \nQ 1172 725 1289 603 \nQ 1406 481 1766 481 \nL 2356 481 \nL 2356 0 \nL 1766 0 \nQ 1100 0 847 248 \nQ 594 497 594 1153 \nL 594 3053 \nL 172 3053 \nL 172 3500 \nL 594 3500 \nL 594 4494 \nL 1172 4494 \nz\n\" transform=\"scale(0.015625)\"/>\n      </defs>\n      <use xlink:href=\"#DejaVuSans-43\"/>\n      <use xlink:href=\"#DejaVuSans-6f\" x=\"69.824219\"/>\n      <use xlink:href=\"#DejaVuSans-75\" x=\"131.005859\"/>\n      <use xlink:href=\"#DejaVuSans-6e\" x=\"194.384766\"/>\n      <use xlink:href=\"#DejaVuSans-74\" x=\"257.763672\"/>\n     </g>\n    </g>\n   </g>\n   <g id=\"patch_63\">\n    <path d=\"M 53.328125 273.312 \nL 53.328125 7.2 \n\" style=\"fill: none; stroke: #000000; stroke-width: 0.8; stroke-linejoin: miter; stroke-linecap: square\"/>\n   </g>\n   <g id=\"patch_64\">\n    <path d=\"M 410.448125 273.312 \nL 410.448125 7.2 \n\" style=\"fill: none; stroke: #000000; stroke-width: 0.8; stroke-linejoin: miter; stroke-linecap: square\"/>\n   </g>\n   <g id=\"patch_65\">\n    <path d=\"M 53.328125 273.312 \nL 410.448125 273.312 \n\" style=\"fill: none; stroke: #000000; stroke-width: 0.8; stroke-linejoin: miter; stroke-linecap: square\"/>\n   </g>\n   <g id=\"patch_66\">\n    <path d=\"M 53.328125 7.2 \nL 410.448125 7.2 \n\" style=\"fill: none; stroke: #000000; stroke-width: 0.8; stroke-linejoin: miter; stroke-linecap: square\"/>\n   </g>\n  </g>\n </g>\n <defs>\n  <clipPath id=\"p97ffbd7ff3\">\n   <rect x=\"53.328125\" y=\"7.2\" width=\"357.12\" height=\"266.112\"/>\n  </clipPath>\n </defs>\n</svg>\n"
          },
          "metadata": {}
        }
      ],
      "source": [
        "\n",
        "sns.histplot(bootstrapped_means_survey_1)"
      ]
    },
    {
      "cell_type": "code",
      "execution_count": null,
      "id": "8cf7e5a6",
      "metadata": {
        "id": "8cf7e5a6",
        "outputId": "8b2b4444-39ea-4f9b-ea05-160f3bbcc921",
        "colab": {
          "base_uri": "https://localhost:8080/"
        }
      },
      "outputs": [
        {
          "output_type": "execute_result",
          "data": {
            "text/plain": [
              "[20, 37, 17, 50, 53, 33]"
            ]
          },
          "metadata": {},
          "execution_count": 64
        }
      ],
      "source": [
        "survey_2"
      ]
    },
    {
      "cell_type": "code",
      "execution_count": null,
      "id": "9fc942c1",
      "metadata": {
        "id": "9fc942c1",
        "outputId": "c9cffc07-9d03-4c2d-c9f6-66da8d85bf57",
        "colab": {
          "base_uri": "https://localhost:8080/"
        }
      },
      "outputs": [
        {
          "output_type": "execute_result",
          "data": {
            "text/plain": [
              "34.833333333333336"
            ]
          },
          "metadata": {},
          "execution_count": 65
        }
      ],
      "source": [
        "bootstrapped_samples  = np.random.choice(survey_2, size = n)\n",
        "bootstrapped_samples.mean()\n"
      ]
    },
    {
      "cell_type": "code",
      "execution_count": null,
      "id": "1948a3e2",
      "metadata": {
        "id": "1948a3e2",
        "outputId": "384e2b12-84da-4896-8265-80ace61824d2",
        "colab": {
          "base_uri": "https://localhost:8080/",
          "height": 435
        }
      },
      "outputs": [
        {
          "output_type": "execute_result",
          "data": {
            "text/plain": [
              "<Axes: ylabel='Count'>"
            ]
          },
          "metadata": {},
          "execution_count": 66
        },
        {
          "output_type": "display_data",
          "data": {
            "text/plain": [
              "<Figure size 640x480 with 1 Axes>"
            ],
            "image/svg+xml": "<?xml version=\"1.0\" encoding=\"utf-8\" standalone=\"no\"?>\n<!DOCTYPE svg PUBLIC \"-//W3C//DTD SVG 1.1//EN\"\n  \"http://www.w3.org/Graphics/SVG/1.1/DTD/svg11.dtd\">\n<svg xmlns:xlink=\"http://www.w3.org/1999/xlink\" width=\"417.648125pt\" height=\"297.190125pt\" viewBox=\"0 0 417.648125 297.190125\" xmlns=\"http://www.w3.org/2000/svg\" version=\"1.1\">\n <metadata>\n  <rdf:RDF xmlns:dc=\"http://purl.org/dc/elements/1.1/\" xmlns:cc=\"http://creativecommons.org/ns#\" xmlns:rdf=\"http://www.w3.org/1999/02/22-rdf-syntax-ns#\">\n   <cc:Work>\n    <dc:type rdf:resource=\"http://purl.org/dc/dcmitype/StillImage\"/>\n    <dc:date>2023-06-12T06:05:25.838596</dc:date>\n    <dc:format>image/svg+xml</dc:format>\n    <dc:creator>\n     <cc:Agent>\n      <dc:title>Matplotlib v3.7.1, https://matplotlib.org/</dc:title>\n     </cc:Agent>\n    </dc:creator>\n   </cc:Work>\n  </rdf:RDF>\n </metadata>\n <defs>\n  <style type=\"text/css\">*{stroke-linejoin: round; stroke-linecap: butt}</style>\n </defs>\n <g id=\"figure_1\">\n  <g id=\"patch_1\">\n   <path d=\"M 0 297.190125 \nL 417.648125 297.190125 \nL 417.648125 0 \nL 0 0 \nz\n\" style=\"fill: #ffffff\"/>\n  </g>\n  <g id=\"axes_1\">\n   <g id=\"patch_2\">\n    <path d=\"M 53.328125 273.312 \nL 410.448125 273.312 \nL 410.448125 7.2 \nL 53.328125 7.2 \nz\n\" style=\"fill: #ffffff\"/>\n   </g>\n   <g id=\"patch_3\">\n    <path d=\"M 69.560852 273.312 \nL 72.266307 273.312 \nL 72.266307 273.262798 \nL 69.560852 273.262798 \nz\n\" clip-path=\"url(#pfa985f5254)\" style=\"fill: #1f77b4; fill-opacity: 0.75; stroke: #000000; stroke-width: 0.270545; stroke-linejoin: miter\"/>\n   </g>\n   <g id=\"patch_4\">\n    <path d=\"M 72.266307 273.312 \nL 74.971761 273.312 \nL 74.971761 272.327958 \nL 72.266307 272.327958 \nz\n\" clip-path=\"url(#pfa985f5254)\" style=\"fill: #1f77b4; fill-opacity: 0.75; stroke: #000000; stroke-width: 0.270545; stroke-linejoin: miter\"/>\n   </g>\n   <g id=\"patch_5\">\n    <path d=\"M 74.971761 273.312 \nL 77.677216 273.312 \nL 77.677216 273.312 \nL 74.971761 273.312 \nz\n\" clip-path=\"url(#pfa985f5254)\" style=\"fill: #1f77b4; fill-opacity: 0.75; stroke: #000000; stroke-width: 0.270545; stroke-linejoin: miter\"/>\n   </g>\n   <g id=\"patch_6\">\n    <path d=\"M 77.677216 273.312 \nL 80.38267 273.312 \nL 80.38267 271.786735 \nL 77.677216 271.786735 \nz\n\" clip-path=\"url(#pfa985f5254)\" style=\"fill: #1f77b4; fill-opacity: 0.75; stroke: #000000; stroke-width: 0.270545; stroke-linejoin: miter\"/>\n   </g>\n   <g id=\"patch_7\">\n    <path d=\"M 80.38267 273.312 \nL 83.088125 273.312 \nL 83.088125 273.312 \nL 80.38267 273.312 \nz\n\" clip-path=\"url(#pfa985f5254)\" style=\"fill: #1f77b4; fill-opacity: 0.75; stroke: #000000; stroke-width: 0.270545; stroke-linejoin: miter\"/>\n   </g>\n   <g id=\"patch_8\">\n    <path d=\"M 83.088125 273.312 \nL 85.79358 273.312 \nL 85.79358 271.097906 \nL 83.088125 271.097906 \nz\n\" clip-path=\"url(#pfa985f5254)\" style=\"fill: #1f77b4; fill-opacity: 0.75; stroke: #000000; stroke-width: 0.270545; stroke-linejoin: miter\"/>\n   </g>\n   <g id=\"patch_9\">\n    <path d=\"M 85.79358 273.312 \nL 88.499034 273.312 \nL 88.499034 272.081948 \nL 85.79358 272.081948 \nz\n\" clip-path=\"url(#pfa985f5254)\" style=\"fill: #1f77b4; fill-opacity: 0.75; stroke: #000000; stroke-width: 0.270545; stroke-linejoin: miter\"/>\n   </g>\n   <g id=\"patch_10\">\n    <path d=\"M 88.499034 273.312 \nL 91.204489 273.312 \nL 91.204489 273.312 \nL 88.499034 273.312 \nz\n\" clip-path=\"url(#pfa985f5254)\" style=\"fill: #1f77b4; fill-opacity: 0.75; stroke: #000000; stroke-width: 0.270545; stroke-linejoin: miter\"/>\n   </g>\n   <g id=\"patch_11\">\n    <path d=\"M 91.204489 273.312 \nL 93.909943 273.312 \nL 93.909943 271.44232 \nL 91.204489 271.44232 \nz\n\" clip-path=\"url(#pfa985f5254)\" style=\"fill: #1f77b4; fill-opacity: 0.75; stroke: #000000; stroke-width: 0.270545; stroke-linejoin: miter\"/>\n   </g>\n   <g id=\"patch_12\">\n    <path d=\"M 93.909943 273.312 \nL 96.615398 273.312 \nL 96.615398 273.312 \nL 93.909943 273.312 \nz\n\" clip-path=\"url(#pfa985f5254)\" style=\"fill: #1f77b4; fill-opacity: 0.75; stroke: #000000; stroke-width: 0.270545; stroke-linejoin: miter\"/>\n   </g>\n   <g id=\"patch_13\">\n    <path d=\"M 96.615398 273.312 \nL 99.320852 273.312 \nL 99.320852 269.425034 \nL 96.615398 269.425034 \nz\n\" clip-path=\"url(#pfa985f5254)\" style=\"fill: #1f77b4; fill-opacity: 0.75; stroke: #000000; stroke-width: 0.270545; stroke-linejoin: miter\"/>\n   </g>\n   <g id=\"patch_14\">\n    <path d=\"M 99.320852 273.312 \nL 102.026307 273.312 \nL 102.026307 272.623171 \nL 99.320852 272.623171 \nz\n\" clip-path=\"url(#pfa985f5254)\" style=\"fill: #1f77b4; fill-opacity: 0.75; stroke: #000000; stroke-width: 0.270545; stroke-linejoin: miter\"/>\n   </g>\n   <g id=\"patch_15\">\n    <path d=\"M 102.026307 273.312 \nL 104.731761 273.312 \nL 104.731761 263.373176 \nL 102.026307 263.373176 \nz\n\" clip-path=\"url(#pfa985f5254)\" style=\"fill: #1f77b4; fill-opacity: 0.75; stroke: #000000; stroke-width: 0.270545; stroke-linejoin: miter\"/>\n   </g>\n   <g id=\"patch_16\">\n    <path d=\"M 104.731761 273.312 \nL 107.437216 273.312 \nL 107.437216 267.161738 \nL 104.731761 267.161738 \nz\n\" clip-path=\"url(#pfa985f5254)\" style=\"fill: #1f77b4; fill-opacity: 0.75; stroke: #000000; stroke-width: 0.270545; stroke-linejoin: miter\"/>\n   </g>\n   <g id=\"patch_17\">\n    <path d=\"M 107.437216 273.312 \nL 110.14267 273.312 \nL 110.14267 266.620515 \nL 107.437216 266.620515 \nz\n\" clip-path=\"url(#pfa985f5254)\" style=\"fill: #1f77b4; fill-opacity: 0.75; stroke: #000000; stroke-width: 0.270545; stroke-linejoin: miter\"/>\n   </g>\n   <g id=\"patch_18\">\n    <path d=\"M 110.14267 273.312 \nL 112.848125 273.312 \nL 112.848125 270.458278 \nL 110.14267 270.458278 \nz\n\" clip-path=\"url(#pfa985f5254)\" style=\"fill: #1f77b4; fill-opacity: 0.75; stroke: #000000; stroke-width: 0.270545; stroke-linejoin: miter\"/>\n   </g>\n   <g id=\"patch_19\">\n    <path d=\"M 112.848125 273.312 \nL 115.55358 273.312 \nL 115.55358 266.472909 \nL 112.848125 266.472909 \nz\n\" clip-path=\"url(#pfa985f5254)\" style=\"fill: #1f77b4; fill-opacity: 0.75; stroke: #000000; stroke-width: 0.270545; stroke-linejoin: miter\"/>\n   </g>\n   <g id=\"patch_20\">\n    <path d=\"M 115.55358 273.312 \nL 118.259034 273.312 \nL 118.259034 268.244184 \nL 115.55358 268.244184 \nz\n\" clip-path=\"url(#pfa985f5254)\" style=\"fill: #1f77b4; fill-opacity: 0.75; stroke: #000000; stroke-width: 0.270545; stroke-linejoin: miter\"/>\n   </g>\n   <g id=\"patch_21\">\n    <path d=\"M 118.259034 273.312 \nL 120.964489 273.312 \nL 120.964489 272.573969 \nL 118.259034 272.573969 \nz\n\" clip-path=\"url(#pfa985f5254)\" style=\"fill: #1f77b4; fill-opacity: 0.75; stroke: #000000; stroke-width: 0.270545; stroke-linejoin: miter\"/>\n   </g>\n   <g id=\"patch_22\">\n    <path d=\"M 120.964489 273.312 \nL 123.669943 273.312 \nL 123.669943 265.784079 \nL 120.964489 265.784079 \nz\n\" clip-path=\"url(#pfa985f5254)\" style=\"fill: #1f77b4; fill-opacity: 0.75; stroke: #000000; stroke-width: 0.270545; stroke-linejoin: miter\"/>\n   </g>\n   <g id=\"patch_23\">\n    <path d=\"M 123.669943 273.312 \nL 126.375398 273.312 \nL 126.375398 266.226898 \nL 123.669943 266.226898 \nz\n\" clip-path=\"url(#pfa985f5254)\" style=\"fill: #1f77b4; fill-opacity: 0.75; stroke: #000000; stroke-width: 0.270545; stroke-linejoin: miter\"/>\n   </g>\n   <g id=\"patch_24\">\n    <path d=\"M 126.375398 273.312 \nL 129.080852 273.312 \nL 129.080852 242.511487 \nL 126.375398 242.511487 \nz\n\" clip-path=\"url(#pfa985f5254)\" style=\"fill: #1f77b4; fill-opacity: 0.75; stroke: #000000; stroke-width: 0.270545; stroke-linejoin: miter\"/>\n   </g>\n   <g id=\"patch_25\">\n    <path d=\"M 129.080852 273.312 \nL 131.786307 273.312 \nL 131.786307 265.587271 \nL 129.080852 265.587271 \nz\n\" clip-path=\"url(#pfa985f5254)\" style=\"fill: #1f77b4; fill-opacity: 0.75; stroke: #000000; stroke-width: 0.270545; stroke-linejoin: miter\"/>\n   </g>\n   <g id=\"patch_26\">\n    <path d=\"M 131.786307 273.312 \nL 134.491761 273.312 \nL 134.491761 236.164417 \nL 131.786307 236.164417 \nz\n\" clip-path=\"url(#pfa985f5254)\" style=\"fill: #1f77b4; fill-opacity: 0.75; stroke: #000000; stroke-width: 0.270545; stroke-linejoin: miter\"/>\n   </g>\n   <g id=\"patch_27\">\n    <path d=\"M 134.491761 273.312 \nL 137.197216 273.312 \nL 137.197216 271.934341 \nL 134.491761 271.934341 \nz\n\" clip-path=\"url(#pfa985f5254)\" style=\"fill: #1f77b4; fill-opacity: 0.75; stroke: #000000; stroke-width: 0.270545; stroke-linejoin: miter\"/>\n   </g>\n   <g id=\"patch_28\">\n    <path d=\"M 137.197216 273.312 \nL 139.90267 273.312 \nL 139.90267 242.167073 \nL 137.197216 242.167073 \nz\n\" clip-path=\"url(#pfa985f5254)\" style=\"fill: #1f77b4; fill-opacity: 0.75; stroke: #000000; stroke-width: 0.270545; stroke-linejoin: miter\"/>\n   </g>\n   <g id=\"patch_29\">\n    <path d=\"M 139.90267 273.312 \nL 142.608125 273.312 \nL 142.608125 263.815995 \nL 139.90267 263.815995 \nz\n\" clip-path=\"url(#pfa985f5254)\" style=\"fill: #1f77b4; fill-opacity: 0.75; stroke: #000000; stroke-width: 0.270545; stroke-linejoin: miter\"/>\n   </g>\n   <g id=\"patch_30\">\n    <path d=\"M 142.608125 273.312 \nL 145.31358 273.312 \nL 145.31358 263.176368 \nL 142.608125 263.176368 \nz\n\" clip-path=\"url(#pfa985f5254)\" style=\"fill: #1f77b4; fill-opacity: 0.75; stroke: #000000; stroke-width: 0.270545; stroke-linejoin: miter\"/>\n   </g>\n   <g id=\"patch_31\">\n    <path d=\"M 145.31358 273.312 \nL 148.019034 273.312 \nL 148.019034 242.855902 \nL 145.31358 242.855902 \nz\n\" clip-path=\"url(#pfa985f5254)\" style=\"fill: #1f77b4; fill-opacity: 0.75; stroke: #000000; stroke-width: 0.270545; stroke-linejoin: miter\"/>\n   </g>\n   <g id=\"patch_32\">\n    <path d=\"M 148.019034 273.312 \nL 150.724489 273.312 \nL 150.724489 269.818651 \nL 148.019034 269.818651 \nz\n\" clip-path=\"url(#pfa985f5254)\" style=\"fill: #1f77b4; fill-opacity: 0.75; stroke: #000000; stroke-width: 0.270545; stroke-linejoin: miter\"/>\n   </g>\n   <g id=\"patch_33\">\n    <path d=\"M 150.724489 273.312 \nL 153.429943 273.312 \nL 153.429943 217.861237 \nL 150.724489 217.861237 \nz\n\" clip-path=\"url(#pfa985f5254)\" style=\"fill: #1f77b4; fill-opacity: 0.75; stroke: #000000; stroke-width: 0.270545; stroke-linejoin: miter\"/>\n   </g>\n   <g id=\"patch_34\">\n    <path d=\"M 153.429943 273.312 \nL 156.135398 273.312 \nL 156.135398 248.268133 \nL 153.429943 248.268133 \nz\n\" clip-path=\"url(#pfa985f5254)\" style=\"fill: #1f77b4; fill-opacity: 0.75; stroke: #000000; stroke-width: 0.270545; stroke-linejoin: miter\"/>\n   </g>\n   <g id=\"patch_35\">\n    <path d=\"M 156.135398 273.312 \nL 158.840852 273.312 \nL 158.840852 170.725628 \nL 156.135398 170.725628 \nz\n\" clip-path=\"url(#pfa985f5254)\" style=\"fill: #1f77b4; fill-opacity: 0.75; stroke: #000000; stroke-width: 0.270545; stroke-linejoin: miter\"/>\n   </g>\n   <g id=\"patch_36\">\n    <path d=\"M 158.840852 273.312 \nL 161.546307 273.312 \nL 161.546307 250.187015 \nL 158.840852 250.187015 \nz\n\" clip-path=\"url(#pfa985f5254)\" style=\"fill: #1f77b4; fill-opacity: 0.75; stroke: #000000; stroke-width: 0.270545; stroke-linejoin: miter\"/>\n   </g>\n   <g id=\"patch_37\">\n    <path d=\"M 161.546307 273.312 \nL 164.251761 273.312 \nL 164.251761 223.224266 \nL 161.546307 223.224266 \nz\n\" clip-path=\"url(#pfa985f5254)\" style=\"fill: #1f77b4; fill-opacity: 0.75; stroke: #000000; stroke-width: 0.270545; stroke-linejoin: miter\"/>\n   </g>\n   <g id=\"patch_38\">\n    <path d=\"M 164.251761 273.312 \nL 166.957216 273.312 \nL 166.957216 261.749507 \nL 164.251761 261.749507 \nz\n\" clip-path=\"url(#pfa985f5254)\" style=\"fill: #1f77b4; fill-opacity: 0.75; stroke: #000000; stroke-width: 0.270545; stroke-linejoin: miter\"/>\n   </g>\n   <g id=\"patch_39\">\n    <path d=\"M 166.957216 273.312 \nL 169.66267 273.312 \nL 169.66267 237.88649 \nL 166.957216 237.88649 \nz\n\" clip-path=\"url(#pfa985f5254)\" style=\"fill: #1f77b4; fill-opacity: 0.75; stroke: #000000; stroke-width: 0.270545; stroke-linejoin: miter\"/>\n   </g>\n   <g id=\"patch_40\">\n    <path d=\"M 169.66267 273.312 \nL 172.368125 273.312 \nL 172.368125 233.015483 \nL 169.66267 233.015483 \nz\n\" clip-path=\"url(#pfa985f5254)\" style=\"fill: #1f77b4; fill-opacity: 0.75; stroke: #000000; stroke-width: 0.270545; stroke-linejoin: miter\"/>\n   </g>\n   <g id=\"patch_41\">\n    <path d=\"M 172.368125 273.312 \nL 175.07358 273.312 \nL 175.07358 249.055366 \nL 172.368125 249.055366 \nz\n\" clip-path=\"url(#pfa985f5254)\" style=\"fill: #1f77b4; fill-opacity: 0.75; stroke: #000000; stroke-width: 0.270545; stroke-linejoin: miter\"/>\n   </g>\n   <g id=\"patch_42\">\n    <path d=\"M 175.07358 273.312 \nL 177.779034 273.312 \nL 177.779034 221.502192 \nL 175.07358 221.502192 \nz\n\" clip-path=\"url(#pfa985f5254)\" style=\"fill: #1f77b4; fill-opacity: 0.75; stroke: #000000; stroke-width: 0.270545; stroke-linejoin: miter\"/>\n   </g>\n   <g id=\"patch_43\">\n    <path d=\"M 177.779034 273.312 \nL 180.484489 273.312 \nL 180.484489 181.845302 \nL 177.779034 181.845302 \nz\n\" clip-path=\"url(#pfa985f5254)\" style=\"fill: #1f77b4; fill-opacity: 0.75; stroke: #000000; stroke-width: 0.270545; stroke-linejoin: miter\"/>\n   </g>\n   <g id=\"patch_44\">\n    <path d=\"M 180.484489 273.312 \nL 183.189943 273.312 \nL 183.189943 113.109973 \nL 180.484489 113.109973 \nz\n\" clip-path=\"url(#pfa985f5254)\" style=\"fill: #1f77b4; fill-opacity: 0.75; stroke: #000000; stroke-width: 0.270545; stroke-linejoin: miter\"/>\n   </g>\n   <g id=\"patch_45\">\n    <path d=\"M 183.189943 273.312 \nL 185.895398 273.312 \nL 185.895398 235.52479 \nL 183.189943 235.52479 \nz\n\" clip-path=\"url(#pfa985f5254)\" style=\"fill: #1f77b4; fill-opacity: 0.75; stroke: #000000; stroke-width: 0.270545; stroke-linejoin: miter\"/>\n   </g>\n   <g id=\"patch_46\">\n    <path d=\"M 185.895398 273.312 \nL 188.600852 273.312 \nL 188.600852 139.875914 \nL 185.895398 139.875914 \nz\n\" clip-path=\"url(#pfa985f5254)\" style=\"fill: #1f77b4; fill-opacity: 0.75; stroke: #000000; stroke-width: 0.270545; stroke-linejoin: miter\"/>\n   </g>\n   <g id=\"patch_47\">\n    <path d=\"M 188.600852 273.312 \nL 191.306307 273.312 \nL 191.306307 271.147108 \nL 188.600852 271.147108 \nz\n\" clip-path=\"url(#pfa985f5254)\" style=\"fill: #1f77b4; fill-opacity: 0.75; stroke: #000000; stroke-width: 0.270545; stroke-linejoin: miter\"/>\n   </g>\n   <g id=\"patch_48\">\n    <path d=\"M 191.306307 273.312 \nL 194.011761 273.312 \nL 194.011761 208.217626 \nL 191.306307 208.217626 \nz\n\" clip-path=\"url(#pfa985f5254)\" style=\"fill: #1f77b4; fill-opacity: 0.75; stroke: #000000; stroke-width: 0.270545; stroke-linejoin: miter\"/>\n   </g>\n   <g id=\"patch_49\">\n    <path d=\"M 194.011761 273.312 \nL 196.717216 273.312 \nL 196.717216 247.825314 \nL 194.011761 247.825314 \nz\n\" clip-path=\"url(#pfa985f5254)\" style=\"fill: #1f77b4; fill-opacity: 0.75; stroke: #000000; stroke-width: 0.270545; stroke-linejoin: miter\"/>\n   </g>\n   <g id=\"patch_50\">\n    <path d=\"M 196.717216 273.312 \nL 199.42267 273.312 \nL 199.42267 209.349274 \nL 196.717216 209.349274 \nz\n\" clip-path=\"url(#pfa985f5254)\" style=\"fill: #1f77b4; fill-opacity: 0.75; stroke: #000000; stroke-width: 0.270545; stroke-linejoin: miter\"/>\n   </g>\n   <g id=\"patch_51\">\n    <path d=\"M 199.42267 273.312 \nL 202.128125 273.312 \nL 202.128125 124.278849 \nL 199.42267 124.278849 \nz\n\" clip-path=\"url(#pfa985f5254)\" style=\"fill: #1f77b4; fill-opacity: 0.75; stroke: #000000; stroke-width: 0.270545; stroke-linejoin: miter\"/>\n   </g>\n   <g id=\"patch_52\">\n    <path d=\"M 202.128125 273.312 \nL 204.83358 273.312 \nL 204.83358 223.125861 \nL 202.128125 223.125861 \nz\n\" clip-path=\"url(#pfa985f5254)\" style=\"fill: #1f77b4; fill-opacity: 0.75; stroke: #000000; stroke-width: 0.270545; stroke-linejoin: miter\"/>\n   </g>\n   <g id=\"patch_53\">\n    <path d=\"M 204.83358 273.312 \nL 207.539034 273.312 \nL 207.539034 136.284161 \nL 204.83358 136.284161 \nz\n\" clip-path=\"url(#pfa985f5254)\" style=\"fill: #1f77b4; fill-opacity: 0.75; stroke: #000000; stroke-width: 0.270545; stroke-linejoin: miter\"/>\n   </g>\n   <g id=\"patch_54\">\n    <path d=\"M 207.539034 273.312 \nL 210.244489 273.312 \nL 210.244489 140.02352 \nL 207.539034 140.02352 \nz\n\" clip-path=\"url(#pfa985f5254)\" style=\"fill: #1f77b4; fill-opacity: 0.75; stroke: #000000; stroke-width: 0.270545; stroke-linejoin: miter\"/>\n   </g>\n   <g id=\"patch_55\">\n    <path d=\"M 210.244489 273.312 \nL 212.949943 273.312 \nL 212.949943 96.282856 \nL 210.244489 96.282856 \nz\n\" clip-path=\"url(#pfa985f5254)\" style=\"fill: #1f77b4; fill-opacity: 0.75; stroke: #000000; stroke-width: 0.270545; stroke-linejoin: miter\"/>\n   </g>\n   <g id=\"patch_56\">\n    <path d=\"M 212.949943 273.312 \nL 215.655398 273.312 \nL 215.655398 241.822658 \nL 212.949943 241.822658 \nz\n\" clip-path=\"url(#pfa985f5254)\" style=\"fill: #1f77b4; fill-opacity: 0.75; stroke: #000000; stroke-width: 0.270545; stroke-linejoin: miter\"/>\n   </g>\n   <g id=\"patch_57\">\n    <path d=\"M 215.655398 273.312 \nL 218.360852 273.312 \nL 218.360852 215.499536 \nL 215.655398 215.499536 \nz\n\" clip-path=\"url(#pfa985f5254)\" style=\"fill: #1f77b4; fill-opacity: 0.75; stroke: #000000; stroke-width: 0.270545; stroke-linejoin: miter\"/>\n   </g>\n   <g id=\"patch_58\">\n    <path d=\"M 218.360852 273.312 \nL 221.066307 273.312 \nL 221.066307 240.198989 \nL 218.360852 240.198989 \nz\n\" clip-path=\"url(#pfa985f5254)\" style=\"fill: #1f77b4; fill-opacity: 0.75; stroke: #000000; stroke-width: 0.270545; stroke-linejoin: miter\"/>\n   </g>\n   <g id=\"patch_59\">\n    <path d=\"M 221.066307 273.312 \nL 223.771761 273.312 \nL 223.771761 176.875891 \nL 221.066307 176.875891 \nz\n\" clip-path=\"url(#pfa985f5254)\" style=\"fill: #1f77b4; fill-opacity: 0.75; stroke: #000000; stroke-width: 0.270545; stroke-linejoin: miter\"/>\n   </g>\n   <g id=\"patch_60\">\n    <path d=\"M 223.771761 273.312 \nL 226.477216 273.312 \nL 226.477216 184.895832 \nL 223.771761 184.895832 \nz\n\" clip-path=\"url(#pfa985f5254)\" style=\"fill: #1f77b4; fill-opacity: 0.75; stroke: #000000; stroke-width: 0.270545; stroke-linejoin: miter\"/>\n   </g>\n   <g id=\"patch_61\">\n    <path d=\"M 226.477216 273.312 \nL 229.18267 273.312 \nL 229.18267 136.825384 \nL 226.477216 136.825384 \nz\n\" clip-path=\"url(#pfa985f5254)\" style=\"fill: #1f77b4; fill-opacity: 0.75; stroke: #000000; stroke-width: 0.270545; stroke-linejoin: miter\"/>\n   </g>\n   <g id=\"patch_62\">\n    <path d=\"M 229.18267 273.312 \nL 231.888125 273.312 \nL 231.888125 224.50352 \nL 229.18267 224.50352 \nz\n\" clip-path=\"url(#pfa985f5254)\" style=\"fill: #1f77b4; fill-opacity: 0.75; stroke: #000000; stroke-width: 0.270545; stroke-linejoin: miter\"/>\n   </g>\n   <g id=\"patch_63\">\n    <path d=\"M 231.888125 273.312 \nL 234.59358 273.312 \nL 234.59358 19.872 \nL 231.888125 19.872 \nz\n\" clip-path=\"url(#pfa985f5254)\" style=\"fill: #1f77b4; fill-opacity: 0.75; stroke: #000000; stroke-width: 0.270545; stroke-linejoin: miter\"/>\n   </g>\n   <g id=\"patch_64\">\n    <path d=\"M 234.59358 273.312 \nL 237.299034 273.312 \nL 237.299034 135.939746 \nL 234.59358 135.939746 \nz\n\" clip-path=\"url(#pfa985f5254)\" style=\"fill: #1f77b4; fill-opacity: 0.75; stroke: #000000; stroke-width: 0.270545; stroke-linejoin: miter\"/>\n   </g>\n   <g id=\"patch_65\">\n    <path d=\"M 237.299034 273.312 \nL 240.004489 273.312 \nL 240.004489 188.782798 \nL 237.299034 188.782798 \nz\n\" clip-path=\"url(#pfa985f5254)\" style=\"fill: #1f77b4; fill-opacity: 0.75; stroke: #000000; stroke-width: 0.270545; stroke-linejoin: miter\"/>\n   </g>\n   <g id=\"patch_66\">\n    <path d=\"M 240.004489 273.312 \nL 242.709943 273.312 \nL 242.709943 178.351953 \nL 240.004489 178.351953 \nz\n\" clip-path=\"url(#pfa985f5254)\" style=\"fill: #1f77b4; fill-opacity: 0.75; stroke: #000000; stroke-width: 0.270545; stroke-linejoin: miter\"/>\n   </g>\n   <g id=\"patch_67\">\n    <path d=\"M 242.709943 273.312 \nL 245.415398 273.312 \nL 245.415398 266.571313 \nL 242.709943 266.571313 \nz\n\" clip-path=\"url(#pfa985f5254)\" style=\"fill: #1f77b4; fill-opacity: 0.75; stroke: #000000; stroke-width: 0.270545; stroke-linejoin: miter\"/>\n   </g>\n   <g id=\"patch_68\">\n    <path d=\"M 245.415398 273.312 \nL 248.120852 273.312 \nL 248.120852 188.733596 \nL 245.415398 188.733596 \nz\n\" clip-path=\"url(#pfa985f5254)\" style=\"fill: #1f77b4; fill-opacity: 0.75; stroke: #000000; stroke-width: 0.270545; stroke-linejoin: miter\"/>\n   </g>\n   <g id=\"patch_69\">\n    <path d=\"M 248.120852 273.312 \nL 250.826307 273.312 \nL 250.826307 241.035425 \nL 248.120852 241.035425 \nz\n\" clip-path=\"url(#pfa985f5254)\" style=\"fill: #1f77b4; fill-opacity: 0.75; stroke: #000000; stroke-width: 0.270545; stroke-linejoin: miter\"/>\n   </g>\n   <g id=\"patch_70\">\n    <path d=\"M 250.826307 273.312 \nL 253.531761 273.312 \nL 253.531761 98.546153 \nL 250.826307 98.546153 \nz\n\" clip-path=\"url(#pfa985f5254)\" style=\"fill: #1f77b4; fill-opacity: 0.75; stroke: #000000; stroke-width: 0.270545; stroke-linejoin: miter\"/>\n   </g>\n   <g id=\"patch_71\">\n    <path d=\"M 253.531761 273.312 \nL 256.237216 273.312 \nL 256.237216 144.058092 \nL 253.531761 144.058092 \nz\n\" clip-path=\"url(#pfa985f5254)\" style=\"fill: #1f77b4; fill-opacity: 0.75; stroke: #000000; stroke-width: 0.270545; stroke-linejoin: miter\"/>\n   </g>\n   <g id=\"patch_72\">\n    <path d=\"M 256.237216 273.312 \nL 258.94267 273.312 \nL 258.94267 146.272186 \nL 256.237216 146.272186 \nz\n\" clip-path=\"url(#pfa985f5254)\" style=\"fill: #1f77b4; fill-opacity: 0.75; stroke: #000000; stroke-width: 0.270545; stroke-linejoin: miter\"/>\n   </g>\n   <g id=\"patch_73\">\n    <path d=\"M 258.94267 273.312 \nL 261.648125 273.312 \nL 261.648125 216.975599 \nL 258.94267 216.975599 \nz\n\" clip-path=\"url(#pfa985f5254)\" style=\"fill: #1f77b4; fill-opacity: 0.75; stroke: #000000; stroke-width: 0.270545; stroke-linejoin: miter\"/>\n   </g>\n   <g id=\"patch_74\">\n    <path d=\"M 261.648125 273.312 \nL 264.35358 273.312 \nL 264.35358 122.999595 \nL 261.648125 122.999595 \nz\n\" clip-path=\"url(#pfa985f5254)\" style=\"fill: #1f77b4; fill-opacity: 0.75; stroke: #000000; stroke-width: 0.270545; stroke-linejoin: miter\"/>\n   </g>\n   <g id=\"patch_75\">\n    <path d=\"M 264.35358 273.312 \nL 267.059034 273.312 \nL 267.059034 208.512839 \nL 264.35358 208.512839 \nz\n\" clip-path=\"url(#pfa985f5254)\" style=\"fill: #1f77b4; fill-opacity: 0.75; stroke: #000000; stroke-width: 0.270545; stroke-linejoin: miter\"/>\n   </g>\n   <g id=\"patch_76\">\n    <path d=\"M 267.059034 273.312 \nL 269.764489 273.312 \nL 269.764489 245.168401 \nL 267.059034 245.168401 \nz\n\" clip-path=\"url(#pfa985f5254)\" style=\"fill: #1f77b4; fill-opacity: 0.75; stroke: #000000; stroke-width: 0.270545; stroke-linejoin: miter\"/>\n   </g>\n   <g id=\"patch_77\">\n    <path d=\"M 269.764489 273.312 \nL 272.469943 273.312 \nL 272.469943 236.066013 \nL 269.764489 236.066013 \nz\n\" clip-path=\"url(#pfa985f5254)\" style=\"fill: #1f77b4; fill-opacity: 0.75; stroke: #000000; stroke-width: 0.270545; stroke-linejoin: miter\"/>\n   </g>\n   <g id=\"patch_78\">\n    <path d=\"M 272.469943 273.312 \nL 275.175398 273.312 \nL 275.175398 244.233561 \nL 272.469943 244.233561 \nz\n\" clip-path=\"url(#pfa985f5254)\" style=\"fill: #1f77b4; fill-opacity: 0.75; stroke: #000000; stroke-width: 0.270545; stroke-linejoin: miter\"/>\n   </g>\n   <g id=\"patch_79\">\n    <path d=\"M 275.175398 273.312 \nL 277.880852 273.312 \nL 277.880852 141.843998 \nL 275.175398 141.843998 \nz\n\" clip-path=\"url(#pfa985f5254)\" style=\"fill: #1f77b4; fill-opacity: 0.75; stroke: #000000; stroke-width: 0.270545; stroke-linejoin: miter\"/>\n   </g>\n   <g id=\"patch_80\">\n    <path d=\"M 277.880852 273.312 \nL 280.586307 273.312 \nL 280.586307 234.196333 \nL 277.880852 234.196333 \nz\n\" clip-path=\"url(#pfa985f5254)\" style=\"fill: #1f77b4; fill-opacity: 0.75; stroke: #000000; stroke-width: 0.270545; stroke-linejoin: miter\"/>\n   </g>\n   <g id=\"patch_81\">\n    <path d=\"M 280.586307 273.312 \nL 283.291761 273.312 \nL 283.291761 111.043485 \nL 280.586307 111.043485 \nz\n\" clip-path=\"url(#pfa985f5254)\" style=\"fill: #1f77b4; fill-opacity: 0.75; stroke: #000000; stroke-width: 0.270545; stroke-linejoin: miter\"/>\n   </g>\n   <g id=\"patch_82\">\n    <path d=\"M 283.291761 273.312 \nL 285.997216 273.312 \nL 285.997216 267.506153 \nL 283.291761 267.506153 \nz\n\" clip-path=\"url(#pfa985f5254)\" style=\"fill: #1f77b4; fill-opacity: 0.75; stroke: #000000; stroke-width: 0.270545; stroke-linejoin: miter\"/>\n   </g>\n   <g id=\"patch_83\">\n    <path d=\"M 285.997216 273.312 \nL 288.70267 273.312 \nL 288.70267 137.661819 \nL 285.997216 137.661819 \nz\n\" clip-path=\"url(#pfa985f5254)\" style=\"fill: #1f77b4; fill-opacity: 0.75; stroke: #000000; stroke-width: 0.270545; stroke-linejoin: miter\"/>\n   </g>\n   <g id=\"patch_84\">\n    <path d=\"M 288.70267 273.312 \nL 291.408125 273.312 \nL 291.408125 248.415739 \nL 288.70267 248.415739 \nz\n\" clip-path=\"url(#pfa985f5254)\" style=\"fill: #1f77b4; fill-opacity: 0.75; stroke: #000000; stroke-width: 0.270545; stroke-linejoin: miter\"/>\n   </g>\n   <g id=\"patch_85\">\n    <path d=\"M 291.408125 273.312 \nL 294.11358 273.312 \nL 294.11358 233.901121 \nL 291.408125 233.901121 \nz\n\" clip-path=\"url(#pfa985f5254)\" style=\"fill: #1f77b4; fill-opacity: 0.75; stroke: #000000; stroke-width: 0.270545; stroke-linejoin: miter\"/>\n   </g>\n   <g id=\"patch_86\">\n    <path d=\"M 294.11358 273.312 \nL 296.819034 273.312 \nL 296.819034 237.984895 \nL 294.11358 237.984895 \nz\n\" clip-path=\"url(#pfa985f5254)\" style=\"fill: #1f77b4; fill-opacity: 0.75; stroke: #000000; stroke-width: 0.270545; stroke-linejoin: miter\"/>\n   </g>\n   <g id=\"patch_87\">\n    <path d=\"M 296.819034 273.312 \nL 299.524489 273.312 \nL 299.524489 268.687003 \nL 296.819034 268.687003 \nz\n\" clip-path=\"url(#pfa985f5254)\" style=\"fill: #1f77b4; fill-opacity: 0.75; stroke: #000000; stroke-width: 0.270545; stroke-linejoin: miter\"/>\n   </g>\n   <g id=\"patch_88\">\n    <path d=\"M 299.524489 273.312 \nL 302.229943 273.312 \nL 302.229943 216.778791 \nL 299.524489 216.778791 \nz\n\" clip-path=\"url(#pfa985f5254)\" style=\"fill: #1f77b4; fill-opacity: 0.75; stroke: #000000; stroke-width: 0.270545; stroke-linejoin: miter\"/>\n   </g>\n   <g id=\"patch_89\">\n    <path d=\"M 302.229943 273.312 \nL 304.935398 273.312 \nL 304.935398 249.547387 \nL 302.229943 249.547387 \nz\n\" clip-path=\"url(#pfa985f5254)\" style=\"fill: #1f77b4; fill-opacity: 0.75; stroke: #000000; stroke-width: 0.270545; stroke-linejoin: miter\"/>\n   </g>\n   <g id=\"patch_90\">\n    <path d=\"M 304.935398 273.312 \nL 307.640852 273.312 \nL 307.640852 174.612594 \nL 304.935398 174.612594 \nz\n\" clip-path=\"url(#pfa985f5254)\" style=\"fill: #1f77b4; fill-opacity: 0.75; stroke: #000000; stroke-width: 0.270545; stroke-linejoin: miter\"/>\n   </g>\n   <g id=\"patch_91\">\n    <path d=\"M 307.640852 273.312 \nL 310.346307 273.312 \nL 310.346307 250.285419 \nL 307.640852 250.285419 \nz\n\" clip-path=\"url(#pfa985f5254)\" style=\"fill: #1f77b4; fill-opacity: 0.75; stroke: #000000; stroke-width: 0.270545; stroke-linejoin: miter\"/>\n   </g>\n   <g id=\"patch_92\">\n    <path d=\"M 310.346307 273.312 \nL 313.051761 273.312 \nL 313.051761 223.470276 \nL 310.346307 223.470276 \nz\n\" clip-path=\"url(#pfa985f5254)\" style=\"fill: #1f77b4; fill-opacity: 0.75; stroke: #000000; stroke-width: 0.270545; stroke-linejoin: miter\"/>\n   </g>\n   <g id=\"patch_93\">\n    <path d=\"M 313.051761 273.312 \nL 315.757216 273.312 \nL 315.757216 265.34126 \nL 313.051761 265.34126 \nz\n\" clip-path=\"url(#pfa985f5254)\" style=\"fill: #1f77b4; fill-opacity: 0.75; stroke: #000000; stroke-width: 0.270545; stroke-linejoin: miter\"/>\n   </g>\n   <g id=\"patch_94\">\n    <path d=\"M 315.757216 273.312 \nL 318.46267 273.312 \nL 318.46267 241.970264 \nL 315.757216 241.970264 \nz\n\" clip-path=\"url(#pfa985f5254)\" style=\"fill: #1f77b4; fill-opacity: 0.75; stroke: #000000; stroke-width: 0.270545; stroke-linejoin: miter\"/>\n   </g>\n   <g id=\"patch_95\">\n    <path d=\"M 318.46267 273.312 \nL 321.168125 273.312 \nL 321.168125 263.077964 \nL 318.46267 263.077964 \nz\n\" clip-path=\"url(#pfa985f5254)\" style=\"fill: #1f77b4; fill-opacity: 0.75; stroke: #000000; stroke-width: 0.270545; stroke-linejoin: miter\"/>\n   </g>\n   <g id=\"patch_96\">\n    <path d=\"M 321.168125 273.312 \nL 323.87358 273.312 \nL 323.87358 263.520783 \nL 321.168125 263.520783 \nz\n\" clip-path=\"url(#pfa985f5254)\" style=\"fill: #1f77b4; fill-opacity: 0.75; stroke: #000000; stroke-width: 0.270545; stroke-linejoin: miter\"/>\n   </g>\n   <g id=\"patch_97\">\n    <path d=\"M 323.87358 273.312 \nL 326.579034 273.312 \nL 326.579034 263.323974 \nL 323.87358 263.323974 \nz\n\" clip-path=\"url(#pfa985f5254)\" style=\"fill: #1f77b4; fill-opacity: 0.75; stroke: #000000; stroke-width: 0.270545; stroke-linejoin: miter\"/>\n   </g>\n   <g id=\"patch_98\">\n    <path d=\"M 326.579034 273.312 \nL 329.284489 273.312 \nL 329.284489 249.448983 \nL 326.579034 249.448983 \nz\n\" clip-path=\"url(#pfa985f5254)\" style=\"fill: #1f77b4; fill-opacity: 0.75; stroke: #000000; stroke-width: 0.270545; stroke-linejoin: miter\"/>\n   </g>\n   <g id=\"patch_99\">\n    <path d=\"M 329.284489 273.312 \nL 331.989943 273.312 \nL 331.989943 236.213619 \nL 329.284489 236.213619 \nz\n\" clip-path=\"url(#pfa985f5254)\" style=\"fill: #1f77b4; fill-opacity: 0.75; stroke: #000000; stroke-width: 0.270545; stroke-linejoin: miter\"/>\n   </g>\n   <g id=\"patch_100\">\n    <path d=\"M 331.989943 273.312 \nL 334.695398 273.312 \nL 334.695398 265.390462 \nL 331.989943 265.390462 \nz\n\" clip-path=\"url(#pfa985f5254)\" style=\"fill: #1f77b4; fill-opacity: 0.75; stroke: #000000; stroke-width: 0.270545; stroke-linejoin: miter\"/>\n   </g>\n   <g id=\"patch_101\">\n    <path d=\"M 334.695398 273.312 \nL 337.400852 273.312 \nL 337.400852 240.789414 \nL 334.695398 240.789414 \nz\n\" clip-path=\"url(#pfa985f5254)\" style=\"fill: #1f77b4; fill-opacity: 0.75; stroke: #000000; stroke-width: 0.270545; stroke-linejoin: miter\"/>\n   </g>\n   <g id=\"patch_102\">\n    <path d=\"M 337.400852 273.312 \nL 340.106307 273.312 \nL 340.106307 273.312 \nL 337.400852 273.312 \nz\n\" clip-path=\"url(#pfa985f5254)\" style=\"fill: #1f77b4; fill-opacity: 0.75; stroke: #000000; stroke-width: 0.270545; stroke-linejoin: miter\"/>\n   </g>\n   <g id=\"patch_103\">\n    <path d=\"M 340.106307 273.312 \nL 342.811761 273.312 \nL 342.811761 259.387807 \nL 340.106307 259.387807 \nz\n\" clip-path=\"url(#pfa985f5254)\" style=\"fill: #1f77b4; fill-opacity: 0.75; stroke: #000000; stroke-width: 0.270545; stroke-linejoin: miter\"/>\n   </g>\n   <g id=\"patch_104\">\n    <path d=\"M 342.811761 273.312 \nL 345.517216 273.312 \nL 345.517216 272.475564 \nL 342.811761 272.475564 \nz\n\" clip-path=\"url(#pfa985f5254)\" style=\"fill: #1f77b4; fill-opacity: 0.75; stroke: #000000; stroke-width: 0.270545; stroke-linejoin: miter\"/>\n   </g>\n   <g id=\"patch_105\">\n    <path d=\"M 345.517216 273.312 \nL 348.22267 273.312 \nL 348.22267 268.194982 \nL 345.517216 268.194982 \nz\n\" clip-path=\"url(#pfa985f5254)\" style=\"fill: #1f77b4; fill-opacity: 0.75; stroke: #000000; stroke-width: 0.270545; stroke-linejoin: miter\"/>\n   </g>\n   <g id=\"patch_106\">\n    <path d=\"M 348.22267 273.312 \nL 350.928125 273.312 \nL 350.928125 266.620515 \nL 348.22267 266.620515 \nz\n\" clip-path=\"url(#pfa985f5254)\" style=\"fill: #1f77b4; fill-opacity: 0.75; stroke: #000000; stroke-width: 0.270545; stroke-linejoin: miter\"/>\n   </g>\n   <g id=\"patch_107\">\n    <path d=\"M 350.928125 273.312 \nL 353.63358 273.312 \nL 353.63358 269.671045 \nL 350.928125 269.671045 \nz\n\" clip-path=\"url(#pfa985f5254)\" style=\"fill: #1f77b4; fill-opacity: 0.75; stroke: #000000; stroke-width: 0.270545; stroke-linejoin: miter\"/>\n   </g>\n   <g id=\"patch_108\">\n    <path d=\"M 353.63358 273.312 \nL 356.339034 273.312 \nL 356.339034 267.21094 \nL 353.63358 267.21094 \nz\n\" clip-path=\"url(#pfa985f5254)\" style=\"fill: #1f77b4; fill-opacity: 0.75; stroke: #000000; stroke-width: 0.270545; stroke-linejoin: miter\"/>\n   </g>\n   <g id=\"patch_109\">\n    <path d=\"M 356.339034 273.312 \nL 359.044489 273.312 \nL 359.044489 266.915727 \nL 356.339034 266.915727 \nz\n\" clip-path=\"url(#pfa985f5254)\" style=\"fill: #1f77b4; fill-opacity: 0.75; stroke: #000000; stroke-width: 0.270545; stroke-linejoin: miter\"/>\n   </g>\n   <g id=\"patch_110\">\n    <path d=\"M 359.044489 273.312 \nL 361.749943 273.312 \nL 361.749943 263.963602 \nL 359.044489 263.963602 \nz\n\" clip-path=\"url(#pfa985f5254)\" style=\"fill: #1f77b4; fill-opacity: 0.75; stroke: #000000; stroke-width: 0.270545; stroke-linejoin: miter\"/>\n   </g>\n   <g id=\"patch_111\">\n    <path d=\"M 361.749943 273.312 \nL 364.455398 273.312 \nL 364.455398 272.623171 \nL 361.749943 272.623171 \nz\n\" clip-path=\"url(#pfa985f5254)\" style=\"fill: #1f77b4; fill-opacity: 0.75; stroke: #000000; stroke-width: 0.270545; stroke-linejoin: miter\"/>\n   </g>\n   <g id=\"patch_112\">\n    <path d=\"M 364.455398 273.312 \nL 367.160852 273.312 \nL 367.160852 270.113864 \nL 364.455398 270.113864 \nz\n\" clip-path=\"url(#pfa985f5254)\" style=\"fill: #1f77b4; fill-opacity: 0.75; stroke: #000000; stroke-width: 0.270545; stroke-linejoin: miter\"/>\n   </g>\n   <g id=\"patch_113\">\n    <path d=\"M 367.160852 273.312 \nL 369.866307 273.312 \nL 369.866307 273.164394 \nL 367.160852 273.164394 \nz\n\" clip-path=\"url(#pfa985f5254)\" style=\"fill: #1f77b4; fill-opacity: 0.75; stroke: #000000; stroke-width: 0.270545; stroke-linejoin: miter\"/>\n   </g>\n   <g id=\"patch_114\">\n    <path d=\"M 369.866307 273.312 \nL 372.571761 273.312 \nL 372.571761 272.327958 \nL 369.866307 272.327958 \nz\n\" clip-path=\"url(#pfa985f5254)\" style=\"fill: #1f77b4; fill-opacity: 0.75; stroke: #000000; stroke-width: 0.270545; stroke-linejoin: miter\"/>\n   </g>\n   <g id=\"patch_115\">\n    <path d=\"M 372.571761 273.312 \nL 375.277216 273.312 \nL 375.277216 273.312 \nL 372.571761 273.312 \nz\n\" clip-path=\"url(#pfa985f5254)\" style=\"fill: #1f77b4; fill-opacity: 0.75; stroke: #000000; stroke-width: 0.270545; stroke-linejoin: miter\"/>\n   </g>\n   <g id=\"patch_116\">\n    <path d=\"M 375.277216 273.312 \nL 377.98267 273.312 \nL 377.98267 272.032745 \nL 375.277216 272.032745 \nz\n\" clip-path=\"url(#pfa985f5254)\" style=\"fill: #1f77b4; fill-opacity: 0.75; stroke: #000000; stroke-width: 0.270545; stroke-linejoin: miter\"/>\n   </g>\n   <g id=\"patch_117\">\n    <path d=\"M 377.98267 273.312 \nL 380.688125 273.312 \nL 380.688125 273.312 \nL 377.98267 273.312 \nz\n\" clip-path=\"url(#pfa985f5254)\" style=\"fill: #1f77b4; fill-opacity: 0.75; stroke: #000000; stroke-width: 0.270545; stroke-linejoin: miter\"/>\n   </g>\n   <g id=\"patch_118\">\n    <path d=\"M 380.688125 273.312 \nL 383.39358 273.312 \nL 383.39358 271.19631 \nL 380.688125 271.19631 \nz\n\" clip-path=\"url(#pfa985f5254)\" style=\"fill: #1f77b4; fill-opacity: 0.75; stroke: #000000; stroke-width: 0.270545; stroke-linejoin: miter\"/>\n   </g>\n   <g id=\"patch_119\">\n    <path d=\"M 383.39358 273.312 \nL 386.099034 273.312 \nL 386.099034 271.835937 \nL 383.39358 271.835937 \nz\n\" clip-path=\"url(#pfa985f5254)\" style=\"fill: #1f77b4; fill-opacity: 0.75; stroke: #000000; stroke-width: 0.270545; stroke-linejoin: miter\"/>\n   </g>\n   <g id=\"patch_120\">\n    <path d=\"M 386.099034 273.312 \nL 388.804489 273.312 \nL 388.804489 273.312 \nL 386.099034 273.312 \nz\n\" clip-path=\"url(#pfa985f5254)\" style=\"fill: #1f77b4; fill-opacity: 0.75; stroke: #000000; stroke-width: 0.270545; stroke-linejoin: miter\"/>\n   </g>\n   <g id=\"patch_121\">\n    <path d=\"M 388.804489 273.312 \nL 391.509943 273.312 \nL 391.509943 272.721575 \nL 388.804489 272.721575 \nz\n\" clip-path=\"url(#pfa985f5254)\" style=\"fill: #1f77b4; fill-opacity: 0.75; stroke: #000000; stroke-width: 0.270545; stroke-linejoin: miter\"/>\n   </g>\n   <g id=\"patch_122\">\n    <path d=\"M 391.509943 273.312 \nL 394.215398 273.312 \nL 394.215398 273.164394 \nL 391.509943 273.164394 \nz\n\" clip-path=\"url(#pfa985f5254)\" style=\"fill: #1f77b4; fill-opacity: 0.75; stroke: #000000; stroke-width: 0.270545; stroke-linejoin: miter\"/>\n   </g>\n   <g id=\"matplotlib.axis_1\">\n    <g id=\"xtick_1\">\n     <g id=\"line2d_1\">\n      <defs>\n       <path id=\"m42384ef63e\" d=\"M 0 0 \nL 0 3.5 \n\" style=\"stroke: #000000; stroke-width: 0.8\"/>\n      </defs>\n      <g>\n       <use xlink:href=\"#m42384ef63e\" x=\"96.615398\" y=\"273.312\" style=\"stroke: #000000; stroke-width: 0.8\"/>\n      </g>\n     </g>\n     <g id=\"text_1\">\n      <!-- 20 -->\n      <g transform=\"translate(90.252898 287.910437) scale(0.1 -0.1)\">\n       <defs>\n        <path id=\"DejaVuSans-32\" d=\"M 1228 531 \nL 3431 531 \nL 3431 0 \nL 469 0 \nL 469 531 \nQ 828 903 1448 1529 \nQ 2069 2156 2228 2338 \nQ 2531 2678 2651 2914 \nQ 2772 3150 2772 3378 \nQ 2772 3750 2511 3984 \nQ 2250 4219 1831 4219 \nQ 1534 4219 1204 4116 \nQ 875 4013 500 3803 \nL 500 4441 \nQ 881 4594 1212 4672 \nQ 1544 4750 1819 4750 \nQ 2544 4750 2975 4387 \nQ 3406 4025 3406 3419 \nQ 3406 3131 3298 2873 \nQ 3191 2616 2906 2266 \nQ 2828 2175 2409 1742 \nQ 1991 1309 1228 531 \nz\n\" transform=\"scale(0.015625)\"/>\n        <path id=\"DejaVuSans-30\" d=\"M 2034 4250 \nQ 1547 4250 1301 3770 \nQ 1056 3291 1056 2328 \nQ 1056 1369 1301 889 \nQ 1547 409 2034 409 \nQ 2525 409 2770 889 \nQ 3016 1369 3016 2328 \nQ 3016 3291 2770 3770 \nQ 2525 4250 2034 4250 \nz\nM 2034 4750 \nQ 2819 4750 3233 4129 \nQ 3647 3509 3647 2328 \nQ 3647 1150 3233 529 \nQ 2819 -91 2034 -91 \nQ 1250 -91 836 529 \nQ 422 1150 422 2328 \nQ 422 3509 836 4129 \nQ 1250 4750 2034 4750 \nz\n\" transform=\"scale(0.015625)\"/>\n       </defs>\n       <use xlink:href=\"#DejaVuSans-32\"/>\n       <use xlink:href=\"#DejaVuSans-30\" x=\"63.623047\"/>\n      </g>\n     </g>\n    </g>\n    <g id=\"xtick_2\">\n     <g id=\"line2d_2\">\n      <g>\n       <use xlink:href=\"#m42384ef63e\" x=\"141.706307\" y=\"273.312\" style=\"stroke: #000000; stroke-width: 0.8\"/>\n      </g>\n     </g>\n     <g id=\"text_2\">\n      <!-- 25 -->\n      <g transform=\"translate(135.343807 287.910437) scale(0.1 -0.1)\">\n       <defs>\n        <path id=\"DejaVuSans-35\" d=\"M 691 4666 \nL 3169 4666 \nL 3169 4134 \nL 1269 4134 \nL 1269 2991 \nQ 1406 3038 1543 3061 \nQ 1681 3084 1819 3084 \nQ 2600 3084 3056 2656 \nQ 3513 2228 3513 1497 \nQ 3513 744 3044 326 \nQ 2575 -91 1722 -91 \nQ 1428 -91 1123 -41 \nQ 819 9 494 109 \nL 494 744 \nQ 775 591 1075 516 \nQ 1375 441 1709 441 \nQ 2250 441 2565 725 \nQ 2881 1009 2881 1497 \nQ 2881 1984 2565 2268 \nQ 2250 2553 1709 2553 \nQ 1456 2553 1204 2497 \nQ 953 2441 691 2322 \nL 691 4666 \nz\n\" transform=\"scale(0.015625)\"/>\n       </defs>\n       <use xlink:href=\"#DejaVuSans-32\"/>\n       <use xlink:href=\"#DejaVuSans-35\" x=\"63.623047\"/>\n      </g>\n     </g>\n    </g>\n    <g id=\"xtick_3\">\n     <g id=\"line2d_3\">\n      <g>\n       <use xlink:href=\"#m42384ef63e\" x=\"186.797216\" y=\"273.312\" style=\"stroke: #000000; stroke-width: 0.8\"/>\n      </g>\n     </g>\n     <g id=\"text_3\">\n      <!-- 30 -->\n      <g transform=\"translate(180.434716 287.910437) scale(0.1 -0.1)\">\n       <defs>\n        <path id=\"DejaVuSans-33\" d=\"M 2597 2516 \nQ 3050 2419 3304 2112 \nQ 3559 1806 3559 1356 \nQ 3559 666 3084 287 \nQ 2609 -91 1734 -91 \nQ 1441 -91 1130 -33 \nQ 819 25 488 141 \nL 488 750 \nQ 750 597 1062 519 \nQ 1375 441 1716 441 \nQ 2309 441 2620 675 \nQ 2931 909 2931 1356 \nQ 2931 1769 2642 2001 \nQ 2353 2234 1838 2234 \nL 1294 2234 \nL 1294 2753 \nL 1863 2753 \nQ 2328 2753 2575 2939 \nQ 2822 3125 2822 3475 \nQ 2822 3834 2567 4026 \nQ 2313 4219 1838 4219 \nQ 1578 4219 1281 4162 \nQ 984 4106 628 3988 \nL 628 4550 \nQ 988 4650 1302 4700 \nQ 1616 4750 1894 4750 \nQ 2613 4750 3031 4423 \nQ 3450 4097 3450 3541 \nQ 3450 3153 3228 2886 \nQ 3006 2619 2597 2516 \nz\n\" transform=\"scale(0.015625)\"/>\n       </defs>\n       <use xlink:href=\"#DejaVuSans-33\"/>\n       <use xlink:href=\"#DejaVuSans-30\" x=\"63.623047\"/>\n      </g>\n     </g>\n    </g>\n    <g id=\"xtick_4\">\n     <g id=\"line2d_4\">\n      <g>\n       <use xlink:href=\"#m42384ef63e\" x=\"231.888125\" y=\"273.312\" style=\"stroke: #000000; stroke-width: 0.8\"/>\n      </g>\n     </g>\n     <g id=\"text_4\">\n      <!-- 35 -->\n      <g transform=\"translate(225.525625 287.910437) scale(0.1 -0.1)\">\n       <use xlink:href=\"#DejaVuSans-33\"/>\n       <use xlink:href=\"#DejaVuSans-35\" x=\"63.623047\"/>\n      </g>\n     </g>\n    </g>\n    <g id=\"xtick_5\">\n     <g id=\"line2d_5\">\n      <g>\n       <use xlink:href=\"#m42384ef63e\" x=\"276.979034\" y=\"273.312\" style=\"stroke: #000000; stroke-width: 0.8\"/>\n      </g>\n     </g>\n     <g id=\"text_5\">\n      <!-- 40 -->\n      <g transform=\"translate(270.616534 287.910437) scale(0.1 -0.1)\">\n       <defs>\n        <path id=\"DejaVuSans-34\" d=\"M 2419 4116 \nL 825 1625 \nL 2419 1625 \nL 2419 4116 \nz\nM 2253 4666 \nL 3047 4666 \nL 3047 1625 \nL 3713 1625 \nL 3713 1100 \nL 3047 1100 \nL 3047 0 \nL 2419 0 \nL 2419 1100 \nL 313 1100 \nL 313 1709 \nL 2253 4666 \nz\n\" transform=\"scale(0.015625)\"/>\n       </defs>\n       <use xlink:href=\"#DejaVuSans-34\"/>\n       <use xlink:href=\"#DejaVuSans-30\" x=\"63.623047\"/>\n      </g>\n     </g>\n    </g>\n    <g id=\"xtick_6\">\n     <g id=\"line2d_6\">\n      <g>\n       <use xlink:href=\"#m42384ef63e\" x=\"322.069943\" y=\"273.312\" style=\"stroke: #000000; stroke-width: 0.8\"/>\n      </g>\n     </g>\n     <g id=\"text_6\">\n      <!-- 45 -->\n      <g transform=\"translate(315.707443 287.910437) scale(0.1 -0.1)\">\n       <use xlink:href=\"#DejaVuSans-34\"/>\n       <use xlink:href=\"#DejaVuSans-35\" x=\"63.623047\"/>\n      </g>\n     </g>\n    </g>\n    <g id=\"xtick_7\">\n     <g id=\"line2d_7\">\n      <g>\n       <use xlink:href=\"#m42384ef63e\" x=\"367.160852\" y=\"273.312\" style=\"stroke: #000000; stroke-width: 0.8\"/>\n      </g>\n     </g>\n     <g id=\"text_7\">\n      <!-- 50 -->\n      <g transform=\"translate(360.798352 287.910437) scale(0.1 -0.1)\">\n       <use xlink:href=\"#DejaVuSans-35\"/>\n       <use xlink:href=\"#DejaVuSans-30\" x=\"63.623047\"/>\n      </g>\n     </g>\n    </g>\n   </g>\n   <g id=\"matplotlib.axis_2\">\n    <g id=\"ytick_1\">\n     <g id=\"line2d_8\">\n      <defs>\n       <path id=\"m48c587ebd0\" d=\"M 0 0 \nL -3.5 0 \n\" style=\"stroke: #000000; stroke-width: 0.8\"/>\n      </defs>\n      <g>\n       <use xlink:href=\"#m48c587ebd0\" x=\"53.328125\" y=\"273.312\" style=\"stroke: #000000; stroke-width: 0.8\"/>\n      </g>\n     </g>\n     <g id=\"text_8\">\n      <!-- 0 -->\n      <g transform=\"translate(39.965625 277.111219) scale(0.1 -0.1)\">\n       <use xlink:href=\"#DejaVuSans-30\"/>\n      </g>\n     </g>\n    </g>\n    <g id=\"ytick_2\">\n     <g id=\"line2d_9\">\n      <g>\n       <use xlink:href=\"#m48c587ebd0\" x=\"53.328125\" y=\"224.109903\" style=\"stroke: #000000; stroke-width: 0.8\"/>\n      </g>\n     </g>\n     <g id=\"text_9\">\n      <!-- 1000 -->\n      <g transform=\"translate(20.878125 227.909122) scale(0.1 -0.1)\">\n       <defs>\n        <path id=\"DejaVuSans-31\" d=\"M 794 531 \nL 1825 531 \nL 1825 4091 \nL 703 3866 \nL 703 4441 \nL 1819 4666 \nL 2450 4666 \nL 2450 531 \nL 3481 531 \nL 3481 0 \nL 794 0 \nL 794 531 \nz\n\" transform=\"scale(0.015625)\"/>\n       </defs>\n       <use xlink:href=\"#DejaVuSans-31\"/>\n       <use xlink:href=\"#DejaVuSans-30\" x=\"63.623047\"/>\n       <use xlink:href=\"#DejaVuSans-30\" x=\"127.246094\"/>\n       <use xlink:href=\"#DejaVuSans-30\" x=\"190.869141\"/>\n      </g>\n     </g>\n    </g>\n    <g id=\"ytick_3\">\n     <g id=\"line2d_10\">\n      <g>\n       <use xlink:href=\"#m48c587ebd0\" x=\"53.328125\" y=\"174.907807\" style=\"stroke: #000000; stroke-width: 0.8\"/>\n      </g>\n     </g>\n     <g id=\"text_10\">\n      <!-- 2000 -->\n      <g transform=\"translate(20.878125 178.707025) scale(0.1 -0.1)\">\n       <use xlink:href=\"#DejaVuSans-32\"/>\n       <use xlink:href=\"#DejaVuSans-30\" x=\"63.623047\"/>\n       <use xlink:href=\"#DejaVuSans-30\" x=\"127.246094\"/>\n       <use xlink:href=\"#DejaVuSans-30\" x=\"190.869141\"/>\n      </g>\n     </g>\n    </g>\n    <g id=\"ytick_4\">\n     <g id=\"line2d_11\">\n      <g>\n       <use xlink:href=\"#m48c587ebd0\" x=\"53.328125\" y=\"125.70571\" style=\"stroke: #000000; stroke-width: 0.8\"/>\n      </g>\n     </g>\n     <g id=\"text_11\">\n      <!-- 3000 -->\n      <g transform=\"translate(20.878125 129.504929) scale(0.1 -0.1)\">\n       <use xlink:href=\"#DejaVuSans-33\"/>\n       <use xlink:href=\"#DejaVuSans-30\" x=\"63.623047\"/>\n       <use xlink:href=\"#DejaVuSans-30\" x=\"127.246094\"/>\n       <use xlink:href=\"#DejaVuSans-30\" x=\"190.869141\"/>\n      </g>\n     </g>\n    </g>\n    <g id=\"ytick_5\">\n     <g id=\"line2d_12\">\n      <g>\n       <use xlink:href=\"#m48c587ebd0\" x=\"53.328125\" y=\"76.503613\" style=\"stroke: #000000; stroke-width: 0.8\"/>\n      </g>\n     </g>\n     <g id=\"text_12\">\n      <!-- 4000 -->\n      <g transform=\"translate(20.878125 80.302832) scale(0.1 -0.1)\">\n       <use xlink:href=\"#DejaVuSans-34\"/>\n       <use xlink:href=\"#DejaVuSans-30\" x=\"63.623047\"/>\n       <use xlink:href=\"#DejaVuSans-30\" x=\"127.246094\"/>\n       <use xlink:href=\"#DejaVuSans-30\" x=\"190.869141\"/>\n      </g>\n     </g>\n    </g>\n    <g id=\"ytick_6\">\n     <g id=\"line2d_13\">\n      <g>\n       <use xlink:href=\"#m48c587ebd0\" x=\"53.328125\" y=\"27.301517\" style=\"stroke: #000000; stroke-width: 0.8\"/>\n      </g>\n     </g>\n     <g id=\"text_13\">\n      <!-- 5000 -->\n      <g transform=\"translate(20.878125 31.100735) scale(0.1 -0.1)\">\n       <use xlink:href=\"#DejaVuSans-35\"/>\n       <use xlink:href=\"#DejaVuSans-30\" x=\"63.623047\"/>\n       <use xlink:href=\"#DejaVuSans-30\" x=\"127.246094\"/>\n       <use xlink:href=\"#DejaVuSans-30\" x=\"190.869141\"/>\n      </g>\n     </g>\n    </g>\n    <g id=\"text_14\">\n     <!-- Count -->\n     <g transform=\"translate(14.798438 155.104437) rotate(-90) scale(0.1 -0.1)\">\n      <defs>\n       <path id=\"DejaVuSans-43\" d=\"M 4122 4306 \nL 4122 3641 \nQ 3803 3938 3442 4084 \nQ 3081 4231 2675 4231 \nQ 1875 4231 1450 3742 \nQ 1025 3253 1025 2328 \nQ 1025 1406 1450 917 \nQ 1875 428 2675 428 \nQ 3081 428 3442 575 \nQ 3803 722 4122 1019 \nL 4122 359 \nQ 3791 134 3420 21 \nQ 3050 -91 2638 -91 \nQ 1578 -91 968 557 \nQ 359 1206 359 2328 \nQ 359 3453 968 4101 \nQ 1578 4750 2638 4750 \nQ 3056 4750 3426 4639 \nQ 3797 4528 4122 4306 \nz\n\" transform=\"scale(0.015625)\"/>\n       <path id=\"DejaVuSans-6f\" d=\"M 1959 3097 \nQ 1497 3097 1228 2736 \nQ 959 2375 959 1747 \nQ 959 1119 1226 758 \nQ 1494 397 1959 397 \nQ 2419 397 2687 759 \nQ 2956 1122 2956 1747 \nQ 2956 2369 2687 2733 \nQ 2419 3097 1959 3097 \nz\nM 1959 3584 \nQ 2709 3584 3137 3096 \nQ 3566 2609 3566 1747 \nQ 3566 888 3137 398 \nQ 2709 -91 1959 -91 \nQ 1206 -91 779 398 \nQ 353 888 353 1747 \nQ 353 2609 779 3096 \nQ 1206 3584 1959 3584 \nz\n\" transform=\"scale(0.015625)\"/>\n       <path id=\"DejaVuSans-75\" d=\"M 544 1381 \nL 544 3500 \nL 1119 3500 \nL 1119 1403 \nQ 1119 906 1312 657 \nQ 1506 409 1894 409 \nQ 2359 409 2629 706 \nQ 2900 1003 2900 1516 \nL 2900 3500 \nL 3475 3500 \nL 3475 0 \nL 2900 0 \nL 2900 538 \nQ 2691 219 2414 64 \nQ 2138 -91 1772 -91 \nQ 1169 -91 856 284 \nQ 544 659 544 1381 \nz\nM 1991 3584 \nL 1991 3584 \nz\n\" transform=\"scale(0.015625)\"/>\n       <path id=\"DejaVuSans-6e\" d=\"M 3513 2113 \nL 3513 0 \nL 2938 0 \nL 2938 2094 \nQ 2938 2591 2744 2837 \nQ 2550 3084 2163 3084 \nQ 1697 3084 1428 2787 \nQ 1159 2491 1159 1978 \nL 1159 0 \nL 581 0 \nL 581 3500 \nL 1159 3500 \nL 1159 2956 \nQ 1366 3272 1645 3428 \nQ 1925 3584 2291 3584 \nQ 2894 3584 3203 3211 \nQ 3513 2838 3513 2113 \nz\n\" transform=\"scale(0.015625)\"/>\n       <path id=\"DejaVuSans-74\" d=\"M 1172 4494 \nL 1172 3500 \nL 2356 3500 \nL 2356 3053 \nL 1172 3053 \nL 1172 1153 \nQ 1172 725 1289 603 \nQ 1406 481 1766 481 \nL 2356 481 \nL 2356 0 \nL 1766 0 \nQ 1100 0 847 248 \nQ 594 497 594 1153 \nL 594 3053 \nL 172 3053 \nL 172 3500 \nL 594 3500 \nL 594 4494 \nL 1172 4494 \nz\n\" transform=\"scale(0.015625)\"/>\n      </defs>\n      <use xlink:href=\"#DejaVuSans-43\"/>\n      <use xlink:href=\"#DejaVuSans-6f\" x=\"69.824219\"/>\n      <use xlink:href=\"#DejaVuSans-75\" x=\"131.005859\"/>\n      <use xlink:href=\"#DejaVuSans-6e\" x=\"194.384766\"/>\n      <use xlink:href=\"#DejaVuSans-74\" x=\"257.763672\"/>\n     </g>\n    </g>\n   </g>\n   <g id=\"patch_123\">\n    <path d=\"M 53.328125 273.312 \nL 53.328125 7.2 \n\" style=\"fill: none; stroke: #000000; stroke-width: 0.8; stroke-linejoin: miter; stroke-linecap: square\"/>\n   </g>\n   <g id=\"patch_124\">\n    <path d=\"M 410.448125 273.312 \nL 410.448125 7.2 \n\" style=\"fill: none; stroke: #000000; stroke-width: 0.8; stroke-linejoin: miter; stroke-linecap: square\"/>\n   </g>\n   <g id=\"patch_125\">\n    <path d=\"M 53.328125 273.312 \nL 410.448125 273.312 \n\" style=\"fill: none; stroke: #000000; stroke-width: 0.8; stroke-linejoin: miter; stroke-linecap: square\"/>\n   </g>\n   <g id=\"patch_126\">\n    <path d=\"M 53.328125 7.2 \nL 410.448125 7.2 \n\" style=\"fill: none; stroke: #000000; stroke-width: 0.8; stroke-linejoin: miter; stroke-linecap: square\"/>\n   </g>\n  </g>\n </g>\n <defs>\n  <clipPath id=\"pfa985f5254\">\n   <rect x=\"53.328125\" y=\"7.2\" width=\"357.12\" height=\"266.112\"/>\n  </clipPath>\n </defs>\n</svg>\n"
          },
          "metadata": {}
        }
      ],
      "source": [
        "sns.histplot(bootstrapped_means_survey_2)"
      ]
    },
    {
      "cell_type": "code",
      "execution_count": null,
      "id": "57be3f82",
      "metadata": {
        "id": "57be3f82",
        "outputId": "863a4599-4ba9-45b0-9b9b-4e32f667c2a2",
        "colab": {
          "base_uri": "https://localhost:8080/",
          "height": 435
        }
      },
      "outputs": [
        {
          "output_type": "execute_result",
          "data": {
            "text/plain": [
              "<Axes: ylabel='Count'>"
            ]
          },
          "metadata": {},
          "execution_count": 67
        },
        {
          "output_type": "display_data",
          "data": {
            "text/plain": [
              "<Figure size 640x480 with 1 Axes>"
            ],
            "image/svg+xml": "<?xml version=\"1.0\" encoding=\"utf-8\" standalone=\"no\"?>\n<!DOCTYPE svg PUBLIC \"-//W3C//DTD SVG 1.1//EN\"\n  \"http://www.w3.org/Graphics/SVG/1.1/DTD/svg11.dtd\">\n<svg xmlns:xlink=\"http://www.w3.org/1999/xlink\" width=\"417.648125pt\" height=\"297.190125pt\" viewBox=\"0 0 417.648125 297.190125\" xmlns=\"http://www.w3.org/2000/svg\" version=\"1.1\">\n <metadata>\n  <rdf:RDF xmlns:dc=\"http://purl.org/dc/elements/1.1/\" xmlns:cc=\"http://creativecommons.org/ns#\" xmlns:rdf=\"http://www.w3.org/1999/02/22-rdf-syntax-ns#\">\n   <cc:Work>\n    <dc:type rdf:resource=\"http://purl.org/dc/dcmitype/StillImage\"/>\n    <dc:date>2023-06-12T06:05:26.373759</dc:date>\n    <dc:format>image/svg+xml</dc:format>\n    <dc:creator>\n     <cc:Agent>\n      <dc:title>Matplotlib v3.7.1, https://matplotlib.org/</dc:title>\n     </cc:Agent>\n    </dc:creator>\n   </cc:Work>\n  </rdf:RDF>\n </metadata>\n <defs>\n  <style type=\"text/css\">*{stroke-linejoin: round; stroke-linecap: butt}</style>\n </defs>\n <g id=\"figure_1\">\n  <g id=\"patch_1\">\n   <path d=\"M 0 297.190125 \nL 417.648125 297.190125 \nL 417.648125 0 \nL 0 0 \nz\n\" style=\"fill: #ffffff\"/>\n  </g>\n  <g id=\"axes_1\">\n   <g id=\"patch_2\">\n    <path d=\"M 53.328125 273.312 \nL 410.448125 273.312 \nL 410.448125 7.2 \nL 53.328125 7.2 \nz\n\" style=\"fill: #ffffff\"/>\n   </g>\n   <g id=\"patch_3\">\n    <path d=\"M 69.560852 273.312 \nL 72.266307 273.312 \nL 72.266307 273.262798 \nL 69.560852 273.262798 \nz\n\" clip-path=\"url(#p80ae2778c5)\" style=\"fill: #1f77b4; fill-opacity: 0.75; stroke: #000000; stroke-width: 0.270545; stroke-linejoin: miter\"/>\n   </g>\n   <g id=\"patch_4\">\n    <path d=\"M 72.266307 273.312 \nL 74.971761 273.312 \nL 74.971761 272.327958 \nL 72.266307 272.327958 \nz\n\" clip-path=\"url(#p80ae2778c5)\" style=\"fill: #1f77b4; fill-opacity: 0.75; stroke: #000000; stroke-width: 0.270545; stroke-linejoin: miter\"/>\n   </g>\n   <g id=\"patch_5\">\n    <path d=\"M 74.971761 273.312 \nL 77.677216 273.312 \nL 77.677216 273.312 \nL 74.971761 273.312 \nz\n\" clip-path=\"url(#p80ae2778c5)\" style=\"fill: #1f77b4; fill-opacity: 0.75; stroke: #000000; stroke-width: 0.270545; stroke-linejoin: miter\"/>\n   </g>\n   <g id=\"patch_6\">\n    <path d=\"M 77.677216 273.312 \nL 80.38267 273.312 \nL 80.38267 271.786735 \nL 77.677216 271.786735 \nz\n\" clip-path=\"url(#p80ae2778c5)\" style=\"fill: #1f77b4; fill-opacity: 0.75; stroke: #000000; stroke-width: 0.270545; stroke-linejoin: miter\"/>\n   </g>\n   <g id=\"patch_7\">\n    <path d=\"M 80.38267 273.312 \nL 83.088125 273.312 \nL 83.088125 273.312 \nL 80.38267 273.312 \nz\n\" clip-path=\"url(#p80ae2778c5)\" style=\"fill: #1f77b4; fill-opacity: 0.75; stroke: #000000; stroke-width: 0.270545; stroke-linejoin: miter\"/>\n   </g>\n   <g id=\"patch_8\">\n    <path d=\"M 83.088125 273.312 \nL 85.79358 273.312 \nL 85.79358 271.097906 \nL 83.088125 271.097906 \nz\n\" clip-path=\"url(#p80ae2778c5)\" style=\"fill: #1f77b4; fill-opacity: 0.75; stroke: #000000; stroke-width: 0.270545; stroke-linejoin: miter\"/>\n   </g>\n   <g id=\"patch_9\">\n    <path d=\"M 85.79358 273.312 \nL 88.499034 273.312 \nL 88.499034 272.081948 \nL 85.79358 272.081948 \nz\n\" clip-path=\"url(#p80ae2778c5)\" style=\"fill: #1f77b4; fill-opacity: 0.75; stroke: #000000; stroke-width: 0.270545; stroke-linejoin: miter\"/>\n   </g>\n   <g id=\"patch_10\">\n    <path d=\"M 88.499034 273.312 \nL 91.204489 273.312 \nL 91.204489 273.312 \nL 88.499034 273.312 \nz\n\" clip-path=\"url(#p80ae2778c5)\" style=\"fill: #1f77b4; fill-opacity: 0.75; stroke: #000000; stroke-width: 0.270545; stroke-linejoin: miter\"/>\n   </g>\n   <g id=\"patch_11\">\n    <path d=\"M 91.204489 273.312 \nL 93.909943 273.312 \nL 93.909943 271.44232 \nL 91.204489 271.44232 \nz\n\" clip-path=\"url(#p80ae2778c5)\" style=\"fill: #1f77b4; fill-opacity: 0.75; stroke: #000000; stroke-width: 0.270545; stroke-linejoin: miter\"/>\n   </g>\n   <g id=\"patch_12\">\n    <path d=\"M 93.909943 273.312 \nL 96.615398 273.312 \nL 96.615398 273.312 \nL 93.909943 273.312 \nz\n\" clip-path=\"url(#p80ae2778c5)\" style=\"fill: #1f77b4; fill-opacity: 0.75; stroke: #000000; stroke-width: 0.270545; stroke-linejoin: miter\"/>\n   </g>\n   <g id=\"patch_13\">\n    <path d=\"M 96.615398 273.312 \nL 99.320852 273.312 \nL 99.320852 269.425034 \nL 96.615398 269.425034 \nz\n\" clip-path=\"url(#p80ae2778c5)\" style=\"fill: #1f77b4; fill-opacity: 0.75; stroke: #000000; stroke-width: 0.270545; stroke-linejoin: miter\"/>\n   </g>\n   <g id=\"patch_14\">\n    <path d=\"M 99.320852 273.312 \nL 102.026307 273.312 \nL 102.026307 272.623171 \nL 99.320852 272.623171 \nz\n\" clip-path=\"url(#p80ae2778c5)\" style=\"fill: #1f77b4; fill-opacity: 0.75; stroke: #000000; stroke-width: 0.270545; stroke-linejoin: miter\"/>\n   </g>\n   <g id=\"patch_15\">\n    <path d=\"M 102.026307 273.312 \nL 104.731761 273.312 \nL 104.731761 263.373176 \nL 102.026307 263.373176 \nz\n\" clip-path=\"url(#p80ae2778c5)\" style=\"fill: #1f77b4; fill-opacity: 0.75; stroke: #000000; stroke-width: 0.270545; stroke-linejoin: miter\"/>\n   </g>\n   <g id=\"patch_16\">\n    <path d=\"M 104.731761 273.312 \nL 107.437216 273.312 \nL 107.437216 267.161738 \nL 104.731761 267.161738 \nz\n\" clip-path=\"url(#p80ae2778c5)\" style=\"fill: #1f77b4; fill-opacity: 0.75; stroke: #000000; stroke-width: 0.270545; stroke-linejoin: miter\"/>\n   </g>\n   <g id=\"patch_17\">\n    <path d=\"M 107.437216 273.312 \nL 110.14267 273.312 \nL 110.14267 266.620515 \nL 107.437216 266.620515 \nz\n\" clip-path=\"url(#p80ae2778c5)\" style=\"fill: #1f77b4; fill-opacity: 0.75; stroke: #000000; stroke-width: 0.270545; stroke-linejoin: miter\"/>\n   </g>\n   <g id=\"patch_18\">\n    <path d=\"M 110.14267 273.312 \nL 112.848125 273.312 \nL 112.848125 270.458278 \nL 110.14267 270.458278 \nz\n\" clip-path=\"url(#p80ae2778c5)\" style=\"fill: #1f77b4; fill-opacity: 0.75; stroke: #000000; stroke-width: 0.270545; stroke-linejoin: miter\"/>\n   </g>\n   <g id=\"patch_19\">\n    <path d=\"M 112.848125 273.312 \nL 115.55358 273.312 \nL 115.55358 266.472909 \nL 112.848125 266.472909 \nz\n\" clip-path=\"url(#p80ae2778c5)\" style=\"fill: #1f77b4; fill-opacity: 0.75; stroke: #000000; stroke-width: 0.270545; stroke-linejoin: miter\"/>\n   </g>\n   <g id=\"patch_20\">\n    <path d=\"M 115.55358 273.312 \nL 118.259034 273.312 \nL 118.259034 268.244184 \nL 115.55358 268.244184 \nz\n\" clip-path=\"url(#p80ae2778c5)\" style=\"fill: #1f77b4; fill-opacity: 0.75; stroke: #000000; stroke-width: 0.270545; stroke-linejoin: miter\"/>\n   </g>\n   <g id=\"patch_21\">\n    <path d=\"M 118.259034 273.312 \nL 120.964489 273.312 \nL 120.964489 272.573969 \nL 118.259034 272.573969 \nz\n\" clip-path=\"url(#p80ae2778c5)\" style=\"fill: #1f77b4; fill-opacity: 0.75; stroke: #000000; stroke-width: 0.270545; stroke-linejoin: miter\"/>\n   </g>\n   <g id=\"patch_22\">\n    <path d=\"M 120.964489 273.312 \nL 123.669943 273.312 \nL 123.669943 265.784079 \nL 120.964489 265.784079 \nz\n\" clip-path=\"url(#p80ae2778c5)\" style=\"fill: #1f77b4; fill-opacity: 0.75; stroke: #000000; stroke-width: 0.270545; stroke-linejoin: miter\"/>\n   </g>\n   <g id=\"patch_23\">\n    <path d=\"M 123.669943 273.312 \nL 126.375398 273.312 \nL 126.375398 266.226898 \nL 123.669943 266.226898 \nz\n\" clip-path=\"url(#p80ae2778c5)\" style=\"fill: #1f77b4; fill-opacity: 0.75; stroke: #000000; stroke-width: 0.270545; stroke-linejoin: miter\"/>\n   </g>\n   <g id=\"patch_24\">\n    <path d=\"M 126.375398 273.312 \nL 129.080852 273.312 \nL 129.080852 242.511487 \nL 126.375398 242.511487 \nz\n\" clip-path=\"url(#p80ae2778c5)\" style=\"fill: #1f77b4; fill-opacity: 0.75; stroke: #000000; stroke-width: 0.270545; stroke-linejoin: miter\"/>\n   </g>\n   <g id=\"patch_25\">\n    <path d=\"M 129.080852 273.312 \nL 131.786307 273.312 \nL 131.786307 265.587271 \nL 129.080852 265.587271 \nz\n\" clip-path=\"url(#p80ae2778c5)\" style=\"fill: #1f77b4; fill-opacity: 0.75; stroke: #000000; stroke-width: 0.270545; stroke-linejoin: miter\"/>\n   </g>\n   <g id=\"patch_26\">\n    <path d=\"M 131.786307 273.312 \nL 134.491761 273.312 \nL 134.491761 236.164417 \nL 131.786307 236.164417 \nz\n\" clip-path=\"url(#p80ae2778c5)\" style=\"fill: #1f77b4; fill-opacity: 0.75; stroke: #000000; stroke-width: 0.270545; stroke-linejoin: miter\"/>\n   </g>\n   <g id=\"patch_27\">\n    <path d=\"M 134.491761 273.312 \nL 137.197216 273.312 \nL 137.197216 271.934341 \nL 134.491761 271.934341 \nz\n\" clip-path=\"url(#p80ae2778c5)\" style=\"fill: #1f77b4; fill-opacity: 0.75; stroke: #000000; stroke-width: 0.270545; stroke-linejoin: miter\"/>\n   </g>\n   <g id=\"patch_28\">\n    <path d=\"M 137.197216 273.312 \nL 139.90267 273.312 \nL 139.90267 242.167073 \nL 137.197216 242.167073 \nz\n\" clip-path=\"url(#p80ae2778c5)\" style=\"fill: #1f77b4; fill-opacity: 0.75; stroke: #000000; stroke-width: 0.270545; stroke-linejoin: miter\"/>\n   </g>\n   <g id=\"patch_29\">\n    <path d=\"M 139.90267 273.312 \nL 142.608125 273.312 \nL 142.608125 263.815995 \nL 139.90267 263.815995 \nz\n\" clip-path=\"url(#p80ae2778c5)\" style=\"fill: #1f77b4; fill-opacity: 0.75; stroke: #000000; stroke-width: 0.270545; stroke-linejoin: miter\"/>\n   </g>\n   <g id=\"patch_30\">\n    <path d=\"M 142.608125 273.312 \nL 145.31358 273.312 \nL 145.31358 263.176368 \nL 142.608125 263.176368 \nz\n\" clip-path=\"url(#p80ae2778c5)\" style=\"fill: #1f77b4; fill-opacity: 0.75; stroke: #000000; stroke-width: 0.270545; stroke-linejoin: miter\"/>\n   </g>\n   <g id=\"patch_31\">\n    <path d=\"M 145.31358 273.312 \nL 148.019034 273.312 \nL 148.019034 242.855902 \nL 145.31358 242.855902 \nz\n\" clip-path=\"url(#p80ae2778c5)\" style=\"fill: #1f77b4; fill-opacity: 0.75; stroke: #000000; stroke-width: 0.270545; stroke-linejoin: miter\"/>\n   </g>\n   <g id=\"patch_32\">\n    <path d=\"M 148.019034 273.312 \nL 150.724489 273.312 \nL 150.724489 269.818651 \nL 148.019034 269.818651 \nz\n\" clip-path=\"url(#p80ae2778c5)\" style=\"fill: #1f77b4; fill-opacity: 0.75; stroke: #000000; stroke-width: 0.270545; stroke-linejoin: miter\"/>\n   </g>\n   <g id=\"patch_33\">\n    <path d=\"M 150.724489 273.312 \nL 153.429943 273.312 \nL 153.429943 217.861237 \nL 150.724489 217.861237 \nz\n\" clip-path=\"url(#p80ae2778c5)\" style=\"fill: #1f77b4; fill-opacity: 0.75; stroke: #000000; stroke-width: 0.270545; stroke-linejoin: miter\"/>\n   </g>\n   <g id=\"patch_34\">\n    <path d=\"M 153.429943 273.312 \nL 156.135398 273.312 \nL 156.135398 248.268133 \nL 153.429943 248.268133 \nz\n\" clip-path=\"url(#p80ae2778c5)\" style=\"fill: #1f77b4; fill-opacity: 0.75; stroke: #000000; stroke-width: 0.270545; stroke-linejoin: miter\"/>\n   </g>\n   <g id=\"patch_35\">\n    <path d=\"M 156.135398 273.312 \nL 158.840852 273.312 \nL 158.840852 170.725628 \nL 156.135398 170.725628 \nz\n\" clip-path=\"url(#p80ae2778c5)\" style=\"fill: #1f77b4; fill-opacity: 0.75; stroke: #000000; stroke-width: 0.270545; stroke-linejoin: miter\"/>\n   </g>\n   <g id=\"patch_36\">\n    <path d=\"M 158.840852 273.312 \nL 161.546307 273.312 \nL 161.546307 250.187015 \nL 158.840852 250.187015 \nz\n\" clip-path=\"url(#p80ae2778c5)\" style=\"fill: #1f77b4; fill-opacity: 0.75; stroke: #000000; stroke-width: 0.270545; stroke-linejoin: miter\"/>\n   </g>\n   <g id=\"patch_37\">\n    <path d=\"M 161.546307 273.312 \nL 164.251761 273.312 \nL 164.251761 223.224266 \nL 161.546307 223.224266 \nz\n\" clip-path=\"url(#p80ae2778c5)\" style=\"fill: #1f77b4; fill-opacity: 0.75; stroke: #000000; stroke-width: 0.270545; stroke-linejoin: miter\"/>\n   </g>\n   <g id=\"patch_38\">\n    <path d=\"M 164.251761 273.312 \nL 166.957216 273.312 \nL 166.957216 261.749507 \nL 164.251761 261.749507 \nz\n\" clip-path=\"url(#p80ae2778c5)\" style=\"fill: #1f77b4; fill-opacity: 0.75; stroke: #000000; stroke-width: 0.270545; stroke-linejoin: miter\"/>\n   </g>\n   <g id=\"patch_39\">\n    <path d=\"M 166.957216 273.312 \nL 169.66267 273.312 \nL 169.66267 237.88649 \nL 166.957216 237.88649 \nz\n\" clip-path=\"url(#p80ae2778c5)\" style=\"fill: #1f77b4; fill-opacity: 0.75; stroke: #000000; stroke-width: 0.270545; stroke-linejoin: miter\"/>\n   </g>\n   <g id=\"patch_40\">\n    <path d=\"M 169.66267 273.312 \nL 172.368125 273.312 \nL 172.368125 233.015483 \nL 169.66267 233.015483 \nz\n\" clip-path=\"url(#p80ae2778c5)\" style=\"fill: #1f77b4; fill-opacity: 0.75; stroke: #000000; stroke-width: 0.270545; stroke-linejoin: miter\"/>\n   </g>\n   <g id=\"patch_41\">\n    <path d=\"M 172.368125 273.312 \nL 175.07358 273.312 \nL 175.07358 249.055366 \nL 172.368125 249.055366 \nz\n\" clip-path=\"url(#p80ae2778c5)\" style=\"fill: #1f77b4; fill-opacity: 0.75; stroke: #000000; stroke-width: 0.270545; stroke-linejoin: miter\"/>\n   </g>\n   <g id=\"patch_42\">\n    <path d=\"M 175.07358 273.312 \nL 177.779034 273.312 \nL 177.779034 221.502192 \nL 175.07358 221.502192 \nz\n\" clip-path=\"url(#p80ae2778c5)\" style=\"fill: #1f77b4; fill-opacity: 0.75; stroke: #000000; stroke-width: 0.270545; stroke-linejoin: miter\"/>\n   </g>\n   <g id=\"patch_43\">\n    <path d=\"M 177.779034 273.312 \nL 180.484489 273.312 \nL 180.484489 181.845302 \nL 177.779034 181.845302 \nz\n\" clip-path=\"url(#p80ae2778c5)\" style=\"fill: #1f77b4; fill-opacity: 0.75; stroke: #000000; stroke-width: 0.270545; stroke-linejoin: miter\"/>\n   </g>\n   <g id=\"patch_44\">\n    <path d=\"M 180.484489 273.312 \nL 183.189943 273.312 \nL 183.189943 113.109973 \nL 180.484489 113.109973 \nz\n\" clip-path=\"url(#p80ae2778c5)\" style=\"fill: #1f77b4; fill-opacity: 0.75; stroke: #000000; stroke-width: 0.270545; stroke-linejoin: miter\"/>\n   </g>\n   <g id=\"patch_45\">\n    <path d=\"M 183.189943 273.312 \nL 185.895398 273.312 \nL 185.895398 235.52479 \nL 183.189943 235.52479 \nz\n\" clip-path=\"url(#p80ae2778c5)\" style=\"fill: #1f77b4; fill-opacity: 0.75; stroke: #000000; stroke-width: 0.270545; stroke-linejoin: miter\"/>\n   </g>\n   <g id=\"patch_46\">\n    <path d=\"M 185.895398 273.312 \nL 188.600852 273.312 \nL 188.600852 139.875914 \nL 185.895398 139.875914 \nz\n\" clip-path=\"url(#p80ae2778c5)\" style=\"fill: #1f77b4; fill-opacity: 0.75; stroke: #000000; stroke-width: 0.270545; stroke-linejoin: miter\"/>\n   </g>\n   <g id=\"patch_47\">\n    <path d=\"M 188.600852 273.312 \nL 191.306307 273.312 \nL 191.306307 271.147108 \nL 188.600852 271.147108 \nz\n\" clip-path=\"url(#p80ae2778c5)\" style=\"fill: #1f77b4; fill-opacity: 0.75; stroke: #000000; stroke-width: 0.270545; stroke-linejoin: miter\"/>\n   </g>\n   <g id=\"patch_48\">\n    <path d=\"M 191.306307 273.312 \nL 194.011761 273.312 \nL 194.011761 208.217626 \nL 191.306307 208.217626 \nz\n\" clip-path=\"url(#p80ae2778c5)\" style=\"fill: #1f77b4; fill-opacity: 0.75; stroke: #000000; stroke-width: 0.270545; stroke-linejoin: miter\"/>\n   </g>\n   <g id=\"patch_49\">\n    <path d=\"M 194.011761 273.312 \nL 196.717216 273.312 \nL 196.717216 247.825314 \nL 194.011761 247.825314 \nz\n\" clip-path=\"url(#p80ae2778c5)\" style=\"fill: #1f77b4; fill-opacity: 0.75; stroke: #000000; stroke-width: 0.270545; stroke-linejoin: miter\"/>\n   </g>\n   <g id=\"patch_50\">\n    <path d=\"M 196.717216 273.312 \nL 199.42267 273.312 \nL 199.42267 209.349274 \nL 196.717216 209.349274 \nz\n\" clip-path=\"url(#p80ae2778c5)\" style=\"fill: #1f77b4; fill-opacity: 0.75; stroke: #000000; stroke-width: 0.270545; stroke-linejoin: miter\"/>\n   </g>\n   <g id=\"patch_51\">\n    <path d=\"M 199.42267 273.312 \nL 202.128125 273.312 \nL 202.128125 124.278849 \nL 199.42267 124.278849 \nz\n\" clip-path=\"url(#p80ae2778c5)\" style=\"fill: #1f77b4; fill-opacity: 0.75; stroke: #000000; stroke-width: 0.270545; stroke-linejoin: miter\"/>\n   </g>\n   <g id=\"patch_52\">\n    <path d=\"M 202.128125 273.312 \nL 204.83358 273.312 \nL 204.83358 223.125861 \nL 202.128125 223.125861 \nz\n\" clip-path=\"url(#p80ae2778c5)\" style=\"fill: #1f77b4; fill-opacity: 0.75; stroke: #000000; stroke-width: 0.270545; stroke-linejoin: miter\"/>\n   </g>\n   <g id=\"patch_53\">\n    <path d=\"M 204.83358 273.312 \nL 207.539034 273.312 \nL 207.539034 136.284161 \nL 204.83358 136.284161 \nz\n\" clip-path=\"url(#p80ae2778c5)\" style=\"fill: #1f77b4; fill-opacity: 0.75; stroke: #000000; stroke-width: 0.270545; stroke-linejoin: miter\"/>\n   </g>\n   <g id=\"patch_54\">\n    <path d=\"M 207.539034 273.312 \nL 210.244489 273.312 \nL 210.244489 140.02352 \nL 207.539034 140.02352 \nz\n\" clip-path=\"url(#p80ae2778c5)\" style=\"fill: #1f77b4; fill-opacity: 0.75; stroke: #000000; stroke-width: 0.270545; stroke-linejoin: miter\"/>\n   </g>\n   <g id=\"patch_55\">\n    <path d=\"M 210.244489 273.312 \nL 212.949943 273.312 \nL 212.949943 96.282856 \nL 210.244489 96.282856 \nz\n\" clip-path=\"url(#p80ae2778c5)\" style=\"fill: #1f77b4; fill-opacity: 0.75; stroke: #000000; stroke-width: 0.270545; stroke-linejoin: miter\"/>\n   </g>\n   <g id=\"patch_56\">\n    <path d=\"M 212.949943 273.312 \nL 215.655398 273.312 \nL 215.655398 241.822658 \nL 212.949943 241.822658 \nz\n\" clip-path=\"url(#p80ae2778c5)\" style=\"fill: #1f77b4; fill-opacity: 0.75; stroke: #000000; stroke-width: 0.270545; stroke-linejoin: miter\"/>\n   </g>\n   <g id=\"patch_57\">\n    <path d=\"M 215.655398 273.312 \nL 218.360852 273.312 \nL 218.360852 215.499536 \nL 215.655398 215.499536 \nz\n\" clip-path=\"url(#p80ae2778c5)\" style=\"fill: #1f77b4; fill-opacity: 0.75; stroke: #000000; stroke-width: 0.270545; stroke-linejoin: miter\"/>\n   </g>\n   <g id=\"patch_58\">\n    <path d=\"M 218.360852 273.312 \nL 221.066307 273.312 \nL 221.066307 240.198989 \nL 218.360852 240.198989 \nz\n\" clip-path=\"url(#p80ae2778c5)\" style=\"fill: #1f77b4; fill-opacity: 0.75; stroke: #000000; stroke-width: 0.270545; stroke-linejoin: miter\"/>\n   </g>\n   <g id=\"patch_59\">\n    <path d=\"M 221.066307 273.312 \nL 223.771761 273.312 \nL 223.771761 176.875891 \nL 221.066307 176.875891 \nz\n\" clip-path=\"url(#p80ae2778c5)\" style=\"fill: #1f77b4; fill-opacity: 0.75; stroke: #000000; stroke-width: 0.270545; stroke-linejoin: miter\"/>\n   </g>\n   <g id=\"patch_60\">\n    <path d=\"M 223.771761 273.312 \nL 226.477216 273.312 \nL 226.477216 184.895832 \nL 223.771761 184.895832 \nz\n\" clip-path=\"url(#p80ae2778c5)\" style=\"fill: #1f77b4; fill-opacity: 0.75; stroke: #000000; stroke-width: 0.270545; stroke-linejoin: miter\"/>\n   </g>\n   <g id=\"patch_61\">\n    <path d=\"M 226.477216 273.312 \nL 229.18267 273.312 \nL 229.18267 136.825384 \nL 226.477216 136.825384 \nz\n\" clip-path=\"url(#p80ae2778c5)\" style=\"fill: #1f77b4; fill-opacity: 0.75; stroke: #000000; stroke-width: 0.270545; stroke-linejoin: miter\"/>\n   </g>\n   <g id=\"patch_62\">\n    <path d=\"M 229.18267 273.312 \nL 231.888125 273.312 \nL 231.888125 224.50352 \nL 229.18267 224.50352 \nz\n\" clip-path=\"url(#p80ae2778c5)\" style=\"fill: #1f77b4; fill-opacity: 0.75; stroke: #000000; stroke-width: 0.270545; stroke-linejoin: miter\"/>\n   </g>\n   <g id=\"patch_63\">\n    <path d=\"M 231.888125 273.312 \nL 234.59358 273.312 \nL 234.59358 19.872 \nL 231.888125 19.872 \nz\n\" clip-path=\"url(#p80ae2778c5)\" style=\"fill: #1f77b4; fill-opacity: 0.75; stroke: #000000; stroke-width: 0.270545; stroke-linejoin: miter\"/>\n   </g>\n   <g id=\"patch_64\">\n    <path d=\"M 234.59358 273.312 \nL 237.299034 273.312 \nL 237.299034 135.939746 \nL 234.59358 135.939746 \nz\n\" clip-path=\"url(#p80ae2778c5)\" style=\"fill: #1f77b4; fill-opacity: 0.75; stroke: #000000; stroke-width: 0.270545; stroke-linejoin: miter\"/>\n   </g>\n   <g id=\"patch_65\">\n    <path d=\"M 237.299034 273.312 \nL 240.004489 273.312 \nL 240.004489 188.782798 \nL 237.299034 188.782798 \nz\n\" clip-path=\"url(#p80ae2778c5)\" style=\"fill: #1f77b4; fill-opacity: 0.75; stroke: #000000; stroke-width: 0.270545; stroke-linejoin: miter\"/>\n   </g>\n   <g id=\"patch_66\">\n    <path d=\"M 240.004489 273.312 \nL 242.709943 273.312 \nL 242.709943 178.351953 \nL 240.004489 178.351953 \nz\n\" clip-path=\"url(#p80ae2778c5)\" style=\"fill: #1f77b4; fill-opacity: 0.75; stroke: #000000; stroke-width: 0.270545; stroke-linejoin: miter\"/>\n   </g>\n   <g id=\"patch_67\">\n    <path d=\"M 242.709943 273.312 \nL 245.415398 273.312 \nL 245.415398 266.571313 \nL 242.709943 266.571313 \nz\n\" clip-path=\"url(#p80ae2778c5)\" style=\"fill: #1f77b4; fill-opacity: 0.75; stroke: #000000; stroke-width: 0.270545; stroke-linejoin: miter\"/>\n   </g>\n   <g id=\"patch_68\">\n    <path d=\"M 245.415398 273.312 \nL 248.120852 273.312 \nL 248.120852 188.733596 \nL 245.415398 188.733596 \nz\n\" clip-path=\"url(#p80ae2778c5)\" style=\"fill: #1f77b4; fill-opacity: 0.75; stroke: #000000; stroke-width: 0.270545; stroke-linejoin: miter\"/>\n   </g>\n   <g id=\"patch_69\">\n    <path d=\"M 248.120852 273.312 \nL 250.826307 273.312 \nL 250.826307 241.035425 \nL 248.120852 241.035425 \nz\n\" clip-path=\"url(#p80ae2778c5)\" style=\"fill: #1f77b4; fill-opacity: 0.75; stroke: #000000; stroke-width: 0.270545; stroke-linejoin: miter\"/>\n   </g>\n   <g id=\"patch_70\">\n    <path d=\"M 250.826307 273.312 \nL 253.531761 273.312 \nL 253.531761 98.546153 \nL 250.826307 98.546153 \nz\n\" clip-path=\"url(#p80ae2778c5)\" style=\"fill: #1f77b4; fill-opacity: 0.75; stroke: #000000; stroke-width: 0.270545; stroke-linejoin: miter\"/>\n   </g>\n   <g id=\"patch_71\">\n    <path d=\"M 253.531761 273.312 \nL 256.237216 273.312 \nL 256.237216 144.058092 \nL 253.531761 144.058092 \nz\n\" clip-path=\"url(#p80ae2778c5)\" style=\"fill: #1f77b4; fill-opacity: 0.75; stroke: #000000; stroke-width: 0.270545; stroke-linejoin: miter\"/>\n   </g>\n   <g id=\"patch_72\">\n    <path d=\"M 256.237216 273.312 \nL 258.94267 273.312 \nL 258.94267 146.272186 \nL 256.237216 146.272186 \nz\n\" clip-path=\"url(#p80ae2778c5)\" style=\"fill: #1f77b4; fill-opacity: 0.75; stroke: #000000; stroke-width: 0.270545; stroke-linejoin: miter\"/>\n   </g>\n   <g id=\"patch_73\">\n    <path d=\"M 258.94267 273.312 \nL 261.648125 273.312 \nL 261.648125 216.975599 \nL 258.94267 216.975599 \nz\n\" clip-path=\"url(#p80ae2778c5)\" style=\"fill: #1f77b4; fill-opacity: 0.75; stroke: #000000; stroke-width: 0.270545; stroke-linejoin: miter\"/>\n   </g>\n   <g id=\"patch_74\">\n    <path d=\"M 261.648125 273.312 \nL 264.35358 273.312 \nL 264.35358 122.999595 \nL 261.648125 122.999595 \nz\n\" clip-path=\"url(#p80ae2778c5)\" style=\"fill: #1f77b4; fill-opacity: 0.75; stroke: #000000; stroke-width: 0.270545; stroke-linejoin: miter\"/>\n   </g>\n   <g id=\"patch_75\">\n    <path d=\"M 264.35358 273.312 \nL 267.059034 273.312 \nL 267.059034 208.512839 \nL 264.35358 208.512839 \nz\n\" clip-path=\"url(#p80ae2778c5)\" style=\"fill: #1f77b4; fill-opacity: 0.75; stroke: #000000; stroke-width: 0.270545; stroke-linejoin: miter\"/>\n   </g>\n   <g id=\"patch_76\">\n    <path d=\"M 267.059034 273.312 \nL 269.764489 273.312 \nL 269.764489 245.168401 \nL 267.059034 245.168401 \nz\n\" clip-path=\"url(#p80ae2778c5)\" style=\"fill: #1f77b4; fill-opacity: 0.75; stroke: #000000; stroke-width: 0.270545; stroke-linejoin: miter\"/>\n   </g>\n   <g id=\"patch_77\">\n    <path d=\"M 269.764489 273.312 \nL 272.469943 273.312 \nL 272.469943 236.066013 \nL 269.764489 236.066013 \nz\n\" clip-path=\"url(#p80ae2778c5)\" style=\"fill: #1f77b4; fill-opacity: 0.75; stroke: #000000; stroke-width: 0.270545; stroke-linejoin: miter\"/>\n   </g>\n   <g id=\"patch_78\">\n    <path d=\"M 272.469943 273.312 \nL 275.175398 273.312 \nL 275.175398 244.233561 \nL 272.469943 244.233561 \nz\n\" clip-path=\"url(#p80ae2778c5)\" style=\"fill: #1f77b4; fill-opacity: 0.75; stroke: #000000; stroke-width: 0.270545; stroke-linejoin: miter\"/>\n   </g>\n   <g id=\"patch_79\">\n    <path d=\"M 275.175398 273.312 \nL 277.880852 273.312 \nL 277.880852 141.843998 \nL 275.175398 141.843998 \nz\n\" clip-path=\"url(#p80ae2778c5)\" style=\"fill: #1f77b4; fill-opacity: 0.75; stroke: #000000; stroke-width: 0.270545; stroke-linejoin: miter\"/>\n   </g>\n   <g id=\"patch_80\">\n    <path d=\"M 277.880852 273.312 \nL 280.586307 273.312 \nL 280.586307 234.196333 \nL 277.880852 234.196333 \nz\n\" clip-path=\"url(#p80ae2778c5)\" style=\"fill: #1f77b4; fill-opacity: 0.75; stroke: #000000; stroke-width: 0.270545; stroke-linejoin: miter\"/>\n   </g>\n   <g id=\"patch_81\">\n    <path d=\"M 280.586307 273.312 \nL 283.291761 273.312 \nL 283.291761 111.043485 \nL 280.586307 111.043485 \nz\n\" clip-path=\"url(#p80ae2778c5)\" style=\"fill: #1f77b4; fill-opacity: 0.75; stroke: #000000; stroke-width: 0.270545; stroke-linejoin: miter\"/>\n   </g>\n   <g id=\"patch_82\">\n    <path d=\"M 283.291761 273.312 \nL 285.997216 273.312 \nL 285.997216 267.506153 \nL 283.291761 267.506153 \nz\n\" clip-path=\"url(#p80ae2778c5)\" style=\"fill: #1f77b4; fill-opacity: 0.75; stroke: #000000; stroke-width: 0.270545; stroke-linejoin: miter\"/>\n   </g>\n   <g id=\"patch_83\">\n    <path d=\"M 285.997216 273.312 \nL 288.70267 273.312 \nL 288.70267 137.661819 \nL 285.997216 137.661819 \nz\n\" clip-path=\"url(#p80ae2778c5)\" style=\"fill: #1f77b4; fill-opacity: 0.75; stroke: #000000; stroke-width: 0.270545; stroke-linejoin: miter\"/>\n   </g>\n   <g id=\"patch_84\">\n    <path d=\"M 288.70267 273.312 \nL 291.408125 273.312 \nL 291.408125 248.415739 \nL 288.70267 248.415739 \nz\n\" clip-path=\"url(#p80ae2778c5)\" style=\"fill: #1f77b4; fill-opacity: 0.75; stroke: #000000; stroke-width: 0.270545; stroke-linejoin: miter\"/>\n   </g>\n   <g id=\"patch_85\">\n    <path d=\"M 291.408125 273.312 \nL 294.11358 273.312 \nL 294.11358 233.901121 \nL 291.408125 233.901121 \nz\n\" clip-path=\"url(#p80ae2778c5)\" style=\"fill: #1f77b4; fill-opacity: 0.75; stroke: #000000; stroke-width: 0.270545; stroke-linejoin: miter\"/>\n   </g>\n   <g id=\"patch_86\">\n    <path d=\"M 294.11358 273.312 \nL 296.819034 273.312 \nL 296.819034 237.984895 \nL 294.11358 237.984895 \nz\n\" clip-path=\"url(#p80ae2778c5)\" style=\"fill: #1f77b4; fill-opacity: 0.75; stroke: #000000; stroke-width: 0.270545; stroke-linejoin: miter\"/>\n   </g>\n   <g id=\"patch_87\">\n    <path d=\"M 296.819034 273.312 \nL 299.524489 273.312 \nL 299.524489 268.687003 \nL 296.819034 268.687003 \nz\n\" clip-path=\"url(#p80ae2778c5)\" style=\"fill: #1f77b4; fill-opacity: 0.75; stroke: #000000; stroke-width: 0.270545; stroke-linejoin: miter\"/>\n   </g>\n   <g id=\"patch_88\">\n    <path d=\"M 299.524489 273.312 \nL 302.229943 273.312 \nL 302.229943 216.778791 \nL 299.524489 216.778791 \nz\n\" clip-path=\"url(#p80ae2778c5)\" style=\"fill: #1f77b4; fill-opacity: 0.75; stroke: #000000; stroke-width: 0.270545; stroke-linejoin: miter\"/>\n   </g>\n   <g id=\"patch_89\">\n    <path d=\"M 302.229943 273.312 \nL 304.935398 273.312 \nL 304.935398 249.547387 \nL 302.229943 249.547387 \nz\n\" clip-path=\"url(#p80ae2778c5)\" style=\"fill: #1f77b4; fill-opacity: 0.75; stroke: #000000; stroke-width: 0.270545; stroke-linejoin: miter\"/>\n   </g>\n   <g id=\"patch_90\">\n    <path d=\"M 304.935398 273.312 \nL 307.640852 273.312 \nL 307.640852 174.612594 \nL 304.935398 174.612594 \nz\n\" clip-path=\"url(#p80ae2778c5)\" style=\"fill: #1f77b4; fill-opacity: 0.75; stroke: #000000; stroke-width: 0.270545; stroke-linejoin: miter\"/>\n   </g>\n   <g id=\"patch_91\">\n    <path d=\"M 307.640852 273.312 \nL 310.346307 273.312 \nL 310.346307 250.285419 \nL 307.640852 250.285419 \nz\n\" clip-path=\"url(#p80ae2778c5)\" style=\"fill: #1f77b4; fill-opacity: 0.75; stroke: #000000; stroke-width: 0.270545; stroke-linejoin: miter\"/>\n   </g>\n   <g id=\"patch_92\">\n    <path d=\"M 310.346307 273.312 \nL 313.051761 273.312 \nL 313.051761 223.470276 \nL 310.346307 223.470276 \nz\n\" clip-path=\"url(#p80ae2778c5)\" style=\"fill: #1f77b4; fill-opacity: 0.75; stroke: #000000; stroke-width: 0.270545; stroke-linejoin: miter\"/>\n   </g>\n   <g id=\"patch_93\">\n    <path d=\"M 313.051761 273.312 \nL 315.757216 273.312 \nL 315.757216 265.34126 \nL 313.051761 265.34126 \nz\n\" clip-path=\"url(#p80ae2778c5)\" style=\"fill: #1f77b4; fill-opacity: 0.75; stroke: #000000; stroke-width: 0.270545; stroke-linejoin: miter\"/>\n   </g>\n   <g id=\"patch_94\">\n    <path d=\"M 315.757216 273.312 \nL 318.46267 273.312 \nL 318.46267 241.970264 \nL 315.757216 241.970264 \nz\n\" clip-path=\"url(#p80ae2778c5)\" style=\"fill: #1f77b4; fill-opacity: 0.75; stroke: #000000; stroke-width: 0.270545; stroke-linejoin: miter\"/>\n   </g>\n   <g id=\"patch_95\">\n    <path d=\"M 318.46267 273.312 \nL 321.168125 273.312 \nL 321.168125 263.077964 \nL 318.46267 263.077964 \nz\n\" clip-path=\"url(#p80ae2778c5)\" style=\"fill: #1f77b4; fill-opacity: 0.75; stroke: #000000; stroke-width: 0.270545; stroke-linejoin: miter\"/>\n   </g>\n   <g id=\"patch_96\">\n    <path d=\"M 321.168125 273.312 \nL 323.87358 273.312 \nL 323.87358 263.520783 \nL 321.168125 263.520783 \nz\n\" clip-path=\"url(#p80ae2778c5)\" style=\"fill: #1f77b4; fill-opacity: 0.75; stroke: #000000; stroke-width: 0.270545; stroke-linejoin: miter\"/>\n   </g>\n   <g id=\"patch_97\">\n    <path d=\"M 323.87358 273.312 \nL 326.579034 273.312 \nL 326.579034 263.323974 \nL 323.87358 263.323974 \nz\n\" clip-path=\"url(#p80ae2778c5)\" style=\"fill: #1f77b4; fill-opacity: 0.75; stroke: #000000; stroke-width: 0.270545; stroke-linejoin: miter\"/>\n   </g>\n   <g id=\"patch_98\">\n    <path d=\"M 326.579034 273.312 \nL 329.284489 273.312 \nL 329.284489 249.448983 \nL 326.579034 249.448983 \nz\n\" clip-path=\"url(#p80ae2778c5)\" style=\"fill: #1f77b4; fill-opacity: 0.75; stroke: #000000; stroke-width: 0.270545; stroke-linejoin: miter\"/>\n   </g>\n   <g id=\"patch_99\">\n    <path d=\"M 329.284489 273.312 \nL 331.989943 273.312 \nL 331.989943 236.213619 \nL 329.284489 236.213619 \nz\n\" clip-path=\"url(#p80ae2778c5)\" style=\"fill: #1f77b4; fill-opacity: 0.75; stroke: #000000; stroke-width: 0.270545; stroke-linejoin: miter\"/>\n   </g>\n   <g id=\"patch_100\">\n    <path d=\"M 331.989943 273.312 \nL 334.695398 273.312 \nL 334.695398 265.390462 \nL 331.989943 265.390462 \nz\n\" clip-path=\"url(#p80ae2778c5)\" style=\"fill: #1f77b4; fill-opacity: 0.75; stroke: #000000; stroke-width: 0.270545; stroke-linejoin: miter\"/>\n   </g>\n   <g id=\"patch_101\">\n    <path d=\"M 334.695398 273.312 \nL 337.400852 273.312 \nL 337.400852 240.789414 \nL 334.695398 240.789414 \nz\n\" clip-path=\"url(#p80ae2778c5)\" style=\"fill: #1f77b4; fill-opacity: 0.75; stroke: #000000; stroke-width: 0.270545; stroke-linejoin: miter\"/>\n   </g>\n   <g id=\"patch_102\">\n    <path d=\"M 337.400852 273.312 \nL 340.106307 273.312 \nL 340.106307 273.312 \nL 337.400852 273.312 \nz\n\" clip-path=\"url(#p80ae2778c5)\" style=\"fill: #1f77b4; fill-opacity: 0.75; stroke: #000000; stroke-width: 0.270545; stroke-linejoin: miter\"/>\n   </g>\n   <g id=\"patch_103\">\n    <path d=\"M 340.106307 273.312 \nL 342.811761 273.312 \nL 342.811761 259.387807 \nL 340.106307 259.387807 \nz\n\" clip-path=\"url(#p80ae2778c5)\" style=\"fill: #1f77b4; fill-opacity: 0.75; stroke: #000000; stroke-width: 0.270545; stroke-linejoin: miter\"/>\n   </g>\n   <g id=\"patch_104\">\n    <path d=\"M 342.811761 273.312 \nL 345.517216 273.312 \nL 345.517216 272.475564 \nL 342.811761 272.475564 \nz\n\" clip-path=\"url(#p80ae2778c5)\" style=\"fill: #1f77b4; fill-opacity: 0.75; stroke: #000000; stroke-width: 0.270545; stroke-linejoin: miter\"/>\n   </g>\n   <g id=\"patch_105\">\n    <path d=\"M 345.517216 273.312 \nL 348.22267 273.312 \nL 348.22267 268.194982 \nL 345.517216 268.194982 \nz\n\" clip-path=\"url(#p80ae2778c5)\" style=\"fill: #1f77b4; fill-opacity: 0.75; stroke: #000000; stroke-width: 0.270545; stroke-linejoin: miter\"/>\n   </g>\n   <g id=\"patch_106\">\n    <path d=\"M 348.22267 273.312 \nL 350.928125 273.312 \nL 350.928125 266.620515 \nL 348.22267 266.620515 \nz\n\" clip-path=\"url(#p80ae2778c5)\" style=\"fill: #1f77b4; fill-opacity: 0.75; stroke: #000000; stroke-width: 0.270545; stroke-linejoin: miter\"/>\n   </g>\n   <g id=\"patch_107\">\n    <path d=\"M 350.928125 273.312 \nL 353.63358 273.312 \nL 353.63358 269.671045 \nL 350.928125 269.671045 \nz\n\" clip-path=\"url(#p80ae2778c5)\" style=\"fill: #1f77b4; fill-opacity: 0.75; stroke: #000000; stroke-width: 0.270545; stroke-linejoin: miter\"/>\n   </g>\n   <g id=\"patch_108\">\n    <path d=\"M 353.63358 273.312 \nL 356.339034 273.312 \nL 356.339034 267.21094 \nL 353.63358 267.21094 \nz\n\" clip-path=\"url(#p80ae2778c5)\" style=\"fill: #1f77b4; fill-opacity: 0.75; stroke: #000000; stroke-width: 0.270545; stroke-linejoin: miter\"/>\n   </g>\n   <g id=\"patch_109\">\n    <path d=\"M 356.339034 273.312 \nL 359.044489 273.312 \nL 359.044489 266.915727 \nL 356.339034 266.915727 \nz\n\" clip-path=\"url(#p80ae2778c5)\" style=\"fill: #1f77b4; fill-opacity: 0.75; stroke: #000000; stroke-width: 0.270545; stroke-linejoin: miter\"/>\n   </g>\n   <g id=\"patch_110\">\n    <path d=\"M 359.044489 273.312 \nL 361.749943 273.312 \nL 361.749943 263.963602 \nL 359.044489 263.963602 \nz\n\" clip-path=\"url(#p80ae2778c5)\" style=\"fill: #1f77b4; fill-opacity: 0.75; stroke: #000000; stroke-width: 0.270545; stroke-linejoin: miter\"/>\n   </g>\n   <g id=\"patch_111\">\n    <path d=\"M 361.749943 273.312 \nL 364.455398 273.312 \nL 364.455398 272.623171 \nL 361.749943 272.623171 \nz\n\" clip-path=\"url(#p80ae2778c5)\" style=\"fill: #1f77b4; fill-opacity: 0.75; stroke: #000000; stroke-width: 0.270545; stroke-linejoin: miter\"/>\n   </g>\n   <g id=\"patch_112\">\n    <path d=\"M 364.455398 273.312 \nL 367.160852 273.312 \nL 367.160852 270.113864 \nL 364.455398 270.113864 \nz\n\" clip-path=\"url(#p80ae2778c5)\" style=\"fill: #1f77b4; fill-opacity: 0.75; stroke: #000000; stroke-width: 0.270545; stroke-linejoin: miter\"/>\n   </g>\n   <g id=\"patch_113\">\n    <path d=\"M 367.160852 273.312 \nL 369.866307 273.312 \nL 369.866307 273.164394 \nL 367.160852 273.164394 \nz\n\" clip-path=\"url(#p80ae2778c5)\" style=\"fill: #1f77b4; fill-opacity: 0.75; stroke: #000000; stroke-width: 0.270545; stroke-linejoin: miter\"/>\n   </g>\n   <g id=\"patch_114\">\n    <path d=\"M 369.866307 273.312 \nL 372.571761 273.312 \nL 372.571761 272.327958 \nL 369.866307 272.327958 \nz\n\" clip-path=\"url(#p80ae2778c5)\" style=\"fill: #1f77b4; fill-opacity: 0.75; stroke: #000000; stroke-width: 0.270545; stroke-linejoin: miter\"/>\n   </g>\n   <g id=\"patch_115\">\n    <path d=\"M 372.571761 273.312 \nL 375.277216 273.312 \nL 375.277216 273.312 \nL 372.571761 273.312 \nz\n\" clip-path=\"url(#p80ae2778c5)\" style=\"fill: #1f77b4; fill-opacity: 0.75; stroke: #000000; stroke-width: 0.270545; stroke-linejoin: miter\"/>\n   </g>\n   <g id=\"patch_116\">\n    <path d=\"M 375.277216 273.312 \nL 377.98267 273.312 \nL 377.98267 272.032745 \nL 375.277216 272.032745 \nz\n\" clip-path=\"url(#p80ae2778c5)\" style=\"fill: #1f77b4; fill-opacity: 0.75; stroke: #000000; stroke-width: 0.270545; stroke-linejoin: miter\"/>\n   </g>\n   <g id=\"patch_117\">\n    <path d=\"M 377.98267 273.312 \nL 380.688125 273.312 \nL 380.688125 273.312 \nL 377.98267 273.312 \nz\n\" clip-path=\"url(#p80ae2778c5)\" style=\"fill: #1f77b4; fill-opacity: 0.75; stroke: #000000; stroke-width: 0.270545; stroke-linejoin: miter\"/>\n   </g>\n   <g id=\"patch_118\">\n    <path d=\"M 380.688125 273.312 \nL 383.39358 273.312 \nL 383.39358 271.19631 \nL 380.688125 271.19631 \nz\n\" clip-path=\"url(#p80ae2778c5)\" style=\"fill: #1f77b4; fill-opacity: 0.75; stroke: #000000; stroke-width: 0.270545; stroke-linejoin: miter\"/>\n   </g>\n   <g id=\"patch_119\">\n    <path d=\"M 383.39358 273.312 \nL 386.099034 273.312 \nL 386.099034 271.835937 \nL 383.39358 271.835937 \nz\n\" clip-path=\"url(#p80ae2778c5)\" style=\"fill: #1f77b4; fill-opacity: 0.75; stroke: #000000; stroke-width: 0.270545; stroke-linejoin: miter\"/>\n   </g>\n   <g id=\"patch_120\">\n    <path d=\"M 386.099034 273.312 \nL 388.804489 273.312 \nL 388.804489 273.312 \nL 386.099034 273.312 \nz\n\" clip-path=\"url(#p80ae2778c5)\" style=\"fill: #1f77b4; fill-opacity: 0.75; stroke: #000000; stroke-width: 0.270545; stroke-linejoin: miter\"/>\n   </g>\n   <g id=\"patch_121\">\n    <path d=\"M 388.804489 273.312 \nL 391.509943 273.312 \nL 391.509943 272.721575 \nL 388.804489 272.721575 \nz\n\" clip-path=\"url(#p80ae2778c5)\" style=\"fill: #1f77b4; fill-opacity: 0.75; stroke: #000000; stroke-width: 0.270545; stroke-linejoin: miter\"/>\n   </g>\n   <g id=\"patch_122\">\n    <path d=\"M 391.509943 273.312 \nL 394.215398 273.312 \nL 394.215398 273.164394 \nL 391.509943 273.164394 \nz\n\" clip-path=\"url(#p80ae2778c5)\" style=\"fill: #1f77b4; fill-opacity: 0.75; stroke: #000000; stroke-width: 0.270545; stroke-linejoin: miter\"/>\n   </g>\n   <g id=\"matplotlib.axis_1\">\n    <g id=\"xtick_1\">\n     <g id=\"line2d_1\">\n      <defs>\n       <path id=\"mf0f89ef3b7\" d=\"M 0 0 \nL 0 3.5 \n\" style=\"stroke: #000000; stroke-width: 0.8\"/>\n      </defs>\n      <g>\n       <use xlink:href=\"#mf0f89ef3b7\" x=\"96.615398\" y=\"273.312\" style=\"stroke: #000000; stroke-width: 0.8\"/>\n      </g>\n     </g>\n     <g id=\"text_1\">\n      <!-- 20 -->\n      <g transform=\"translate(90.252898 287.910437) scale(0.1 -0.1)\">\n       <defs>\n        <path id=\"DejaVuSans-32\" d=\"M 1228 531 \nL 3431 531 \nL 3431 0 \nL 469 0 \nL 469 531 \nQ 828 903 1448 1529 \nQ 2069 2156 2228 2338 \nQ 2531 2678 2651 2914 \nQ 2772 3150 2772 3378 \nQ 2772 3750 2511 3984 \nQ 2250 4219 1831 4219 \nQ 1534 4219 1204 4116 \nQ 875 4013 500 3803 \nL 500 4441 \nQ 881 4594 1212 4672 \nQ 1544 4750 1819 4750 \nQ 2544 4750 2975 4387 \nQ 3406 4025 3406 3419 \nQ 3406 3131 3298 2873 \nQ 3191 2616 2906 2266 \nQ 2828 2175 2409 1742 \nQ 1991 1309 1228 531 \nz\n\" transform=\"scale(0.015625)\"/>\n        <path id=\"DejaVuSans-30\" d=\"M 2034 4250 \nQ 1547 4250 1301 3770 \nQ 1056 3291 1056 2328 \nQ 1056 1369 1301 889 \nQ 1547 409 2034 409 \nQ 2525 409 2770 889 \nQ 3016 1369 3016 2328 \nQ 3016 3291 2770 3770 \nQ 2525 4250 2034 4250 \nz\nM 2034 4750 \nQ 2819 4750 3233 4129 \nQ 3647 3509 3647 2328 \nQ 3647 1150 3233 529 \nQ 2819 -91 2034 -91 \nQ 1250 -91 836 529 \nQ 422 1150 422 2328 \nQ 422 3509 836 4129 \nQ 1250 4750 2034 4750 \nz\n\" transform=\"scale(0.015625)\"/>\n       </defs>\n       <use xlink:href=\"#DejaVuSans-32\"/>\n       <use xlink:href=\"#DejaVuSans-30\" x=\"63.623047\"/>\n      </g>\n     </g>\n    </g>\n    <g id=\"xtick_2\">\n     <g id=\"line2d_2\">\n      <g>\n       <use xlink:href=\"#mf0f89ef3b7\" x=\"141.706307\" y=\"273.312\" style=\"stroke: #000000; stroke-width: 0.8\"/>\n      </g>\n     </g>\n     <g id=\"text_2\">\n      <!-- 25 -->\n      <g transform=\"translate(135.343807 287.910437) scale(0.1 -0.1)\">\n       <defs>\n        <path id=\"DejaVuSans-35\" d=\"M 691 4666 \nL 3169 4666 \nL 3169 4134 \nL 1269 4134 \nL 1269 2991 \nQ 1406 3038 1543 3061 \nQ 1681 3084 1819 3084 \nQ 2600 3084 3056 2656 \nQ 3513 2228 3513 1497 \nQ 3513 744 3044 326 \nQ 2575 -91 1722 -91 \nQ 1428 -91 1123 -41 \nQ 819 9 494 109 \nL 494 744 \nQ 775 591 1075 516 \nQ 1375 441 1709 441 \nQ 2250 441 2565 725 \nQ 2881 1009 2881 1497 \nQ 2881 1984 2565 2268 \nQ 2250 2553 1709 2553 \nQ 1456 2553 1204 2497 \nQ 953 2441 691 2322 \nL 691 4666 \nz\n\" transform=\"scale(0.015625)\"/>\n       </defs>\n       <use xlink:href=\"#DejaVuSans-32\"/>\n       <use xlink:href=\"#DejaVuSans-35\" x=\"63.623047\"/>\n      </g>\n     </g>\n    </g>\n    <g id=\"xtick_3\">\n     <g id=\"line2d_3\">\n      <g>\n       <use xlink:href=\"#mf0f89ef3b7\" x=\"186.797216\" y=\"273.312\" style=\"stroke: #000000; stroke-width: 0.8\"/>\n      </g>\n     </g>\n     <g id=\"text_3\">\n      <!-- 30 -->\n      <g transform=\"translate(180.434716 287.910437) scale(0.1 -0.1)\">\n       <defs>\n        <path id=\"DejaVuSans-33\" d=\"M 2597 2516 \nQ 3050 2419 3304 2112 \nQ 3559 1806 3559 1356 \nQ 3559 666 3084 287 \nQ 2609 -91 1734 -91 \nQ 1441 -91 1130 -33 \nQ 819 25 488 141 \nL 488 750 \nQ 750 597 1062 519 \nQ 1375 441 1716 441 \nQ 2309 441 2620 675 \nQ 2931 909 2931 1356 \nQ 2931 1769 2642 2001 \nQ 2353 2234 1838 2234 \nL 1294 2234 \nL 1294 2753 \nL 1863 2753 \nQ 2328 2753 2575 2939 \nQ 2822 3125 2822 3475 \nQ 2822 3834 2567 4026 \nQ 2313 4219 1838 4219 \nQ 1578 4219 1281 4162 \nQ 984 4106 628 3988 \nL 628 4550 \nQ 988 4650 1302 4700 \nQ 1616 4750 1894 4750 \nQ 2613 4750 3031 4423 \nQ 3450 4097 3450 3541 \nQ 3450 3153 3228 2886 \nQ 3006 2619 2597 2516 \nz\n\" transform=\"scale(0.015625)\"/>\n       </defs>\n       <use xlink:href=\"#DejaVuSans-33\"/>\n       <use xlink:href=\"#DejaVuSans-30\" x=\"63.623047\"/>\n      </g>\n     </g>\n    </g>\n    <g id=\"xtick_4\">\n     <g id=\"line2d_4\">\n      <g>\n       <use xlink:href=\"#mf0f89ef3b7\" x=\"231.888125\" y=\"273.312\" style=\"stroke: #000000; stroke-width: 0.8\"/>\n      </g>\n     </g>\n     <g id=\"text_4\">\n      <!-- 35 -->\n      <g transform=\"translate(225.525625 287.910437) scale(0.1 -0.1)\">\n       <use xlink:href=\"#DejaVuSans-33\"/>\n       <use xlink:href=\"#DejaVuSans-35\" x=\"63.623047\"/>\n      </g>\n     </g>\n    </g>\n    <g id=\"xtick_5\">\n     <g id=\"line2d_5\">\n      <g>\n       <use xlink:href=\"#mf0f89ef3b7\" x=\"276.979034\" y=\"273.312\" style=\"stroke: #000000; stroke-width: 0.8\"/>\n      </g>\n     </g>\n     <g id=\"text_5\">\n      <!-- 40 -->\n      <g transform=\"translate(270.616534 287.910437) scale(0.1 -0.1)\">\n       <defs>\n        <path id=\"DejaVuSans-34\" d=\"M 2419 4116 \nL 825 1625 \nL 2419 1625 \nL 2419 4116 \nz\nM 2253 4666 \nL 3047 4666 \nL 3047 1625 \nL 3713 1625 \nL 3713 1100 \nL 3047 1100 \nL 3047 0 \nL 2419 0 \nL 2419 1100 \nL 313 1100 \nL 313 1709 \nL 2253 4666 \nz\n\" transform=\"scale(0.015625)\"/>\n       </defs>\n       <use xlink:href=\"#DejaVuSans-34\"/>\n       <use xlink:href=\"#DejaVuSans-30\" x=\"63.623047\"/>\n      </g>\n     </g>\n    </g>\n    <g id=\"xtick_6\">\n     <g id=\"line2d_6\">\n      <g>\n       <use xlink:href=\"#mf0f89ef3b7\" x=\"322.069943\" y=\"273.312\" style=\"stroke: #000000; stroke-width: 0.8\"/>\n      </g>\n     </g>\n     <g id=\"text_6\">\n      <!-- 45 -->\n      <g transform=\"translate(315.707443 287.910437) scale(0.1 -0.1)\">\n       <use xlink:href=\"#DejaVuSans-34\"/>\n       <use xlink:href=\"#DejaVuSans-35\" x=\"63.623047\"/>\n      </g>\n     </g>\n    </g>\n    <g id=\"xtick_7\">\n     <g id=\"line2d_7\">\n      <g>\n       <use xlink:href=\"#mf0f89ef3b7\" x=\"367.160852\" y=\"273.312\" style=\"stroke: #000000; stroke-width: 0.8\"/>\n      </g>\n     </g>\n     <g id=\"text_7\">\n      <!-- 50 -->\n      <g transform=\"translate(360.798352 287.910437) scale(0.1 -0.1)\">\n       <use xlink:href=\"#DejaVuSans-35\"/>\n       <use xlink:href=\"#DejaVuSans-30\" x=\"63.623047\"/>\n      </g>\n     </g>\n    </g>\n   </g>\n   <g id=\"matplotlib.axis_2\">\n    <g id=\"ytick_1\">\n     <g id=\"line2d_8\">\n      <defs>\n       <path id=\"mbf2191173d\" d=\"M 0 0 \nL -3.5 0 \n\" style=\"stroke: #000000; stroke-width: 0.8\"/>\n      </defs>\n      <g>\n       <use xlink:href=\"#mbf2191173d\" x=\"53.328125\" y=\"273.312\" style=\"stroke: #000000; stroke-width: 0.8\"/>\n      </g>\n     </g>\n     <g id=\"text_8\">\n      <!-- 0 -->\n      <g transform=\"translate(39.965625 277.111219) scale(0.1 -0.1)\">\n       <use xlink:href=\"#DejaVuSans-30\"/>\n      </g>\n     </g>\n    </g>\n    <g id=\"ytick_2\">\n     <g id=\"line2d_9\">\n      <g>\n       <use xlink:href=\"#mbf2191173d\" x=\"53.328125\" y=\"224.109903\" style=\"stroke: #000000; stroke-width: 0.8\"/>\n      </g>\n     </g>\n     <g id=\"text_9\">\n      <!-- 1000 -->\n      <g transform=\"translate(20.878125 227.909122) scale(0.1 -0.1)\">\n       <defs>\n        <path id=\"DejaVuSans-31\" d=\"M 794 531 \nL 1825 531 \nL 1825 4091 \nL 703 3866 \nL 703 4441 \nL 1819 4666 \nL 2450 4666 \nL 2450 531 \nL 3481 531 \nL 3481 0 \nL 794 0 \nL 794 531 \nz\n\" transform=\"scale(0.015625)\"/>\n       </defs>\n       <use xlink:href=\"#DejaVuSans-31\"/>\n       <use xlink:href=\"#DejaVuSans-30\" x=\"63.623047\"/>\n       <use xlink:href=\"#DejaVuSans-30\" x=\"127.246094\"/>\n       <use xlink:href=\"#DejaVuSans-30\" x=\"190.869141\"/>\n      </g>\n     </g>\n    </g>\n    <g id=\"ytick_3\">\n     <g id=\"line2d_10\">\n      <g>\n       <use xlink:href=\"#mbf2191173d\" x=\"53.328125\" y=\"174.907807\" style=\"stroke: #000000; stroke-width: 0.8\"/>\n      </g>\n     </g>\n     <g id=\"text_10\">\n      <!-- 2000 -->\n      <g transform=\"translate(20.878125 178.707025) scale(0.1 -0.1)\">\n       <use xlink:href=\"#DejaVuSans-32\"/>\n       <use xlink:href=\"#DejaVuSans-30\" x=\"63.623047\"/>\n       <use xlink:href=\"#DejaVuSans-30\" x=\"127.246094\"/>\n       <use xlink:href=\"#DejaVuSans-30\" x=\"190.869141\"/>\n      </g>\n     </g>\n    </g>\n    <g id=\"ytick_4\">\n     <g id=\"line2d_11\">\n      <g>\n       <use xlink:href=\"#mbf2191173d\" x=\"53.328125\" y=\"125.70571\" style=\"stroke: #000000; stroke-width: 0.8\"/>\n      </g>\n     </g>\n     <g id=\"text_11\">\n      <!-- 3000 -->\n      <g transform=\"translate(20.878125 129.504929) scale(0.1 -0.1)\">\n       <use xlink:href=\"#DejaVuSans-33\"/>\n       <use xlink:href=\"#DejaVuSans-30\" x=\"63.623047\"/>\n       <use xlink:href=\"#DejaVuSans-30\" x=\"127.246094\"/>\n       <use xlink:href=\"#DejaVuSans-30\" x=\"190.869141\"/>\n      </g>\n     </g>\n    </g>\n    <g id=\"ytick_5\">\n     <g id=\"line2d_12\">\n      <g>\n       <use xlink:href=\"#mbf2191173d\" x=\"53.328125\" y=\"76.503613\" style=\"stroke: #000000; stroke-width: 0.8\"/>\n      </g>\n     </g>\n     <g id=\"text_12\">\n      <!-- 4000 -->\n      <g transform=\"translate(20.878125 80.302832) scale(0.1 -0.1)\">\n       <use xlink:href=\"#DejaVuSans-34\"/>\n       <use xlink:href=\"#DejaVuSans-30\" x=\"63.623047\"/>\n       <use xlink:href=\"#DejaVuSans-30\" x=\"127.246094\"/>\n       <use xlink:href=\"#DejaVuSans-30\" x=\"190.869141\"/>\n      </g>\n     </g>\n    </g>\n    <g id=\"ytick_6\">\n     <g id=\"line2d_13\">\n      <g>\n       <use xlink:href=\"#mbf2191173d\" x=\"53.328125\" y=\"27.301517\" style=\"stroke: #000000; stroke-width: 0.8\"/>\n      </g>\n     </g>\n     <g id=\"text_13\">\n      <!-- 5000 -->\n      <g transform=\"translate(20.878125 31.100735) scale(0.1 -0.1)\">\n       <use xlink:href=\"#DejaVuSans-35\"/>\n       <use xlink:href=\"#DejaVuSans-30\" x=\"63.623047\"/>\n       <use xlink:href=\"#DejaVuSans-30\" x=\"127.246094\"/>\n       <use xlink:href=\"#DejaVuSans-30\" x=\"190.869141\"/>\n      </g>\n     </g>\n    </g>\n    <g id=\"text_14\">\n     <!-- Count -->\n     <g transform=\"translate(14.798438 155.104437) rotate(-90) scale(0.1 -0.1)\">\n      <defs>\n       <path id=\"DejaVuSans-43\" d=\"M 4122 4306 \nL 4122 3641 \nQ 3803 3938 3442 4084 \nQ 3081 4231 2675 4231 \nQ 1875 4231 1450 3742 \nQ 1025 3253 1025 2328 \nQ 1025 1406 1450 917 \nQ 1875 428 2675 428 \nQ 3081 428 3442 575 \nQ 3803 722 4122 1019 \nL 4122 359 \nQ 3791 134 3420 21 \nQ 3050 -91 2638 -91 \nQ 1578 -91 968 557 \nQ 359 1206 359 2328 \nQ 359 3453 968 4101 \nQ 1578 4750 2638 4750 \nQ 3056 4750 3426 4639 \nQ 3797 4528 4122 4306 \nz\n\" transform=\"scale(0.015625)\"/>\n       <path id=\"DejaVuSans-6f\" d=\"M 1959 3097 \nQ 1497 3097 1228 2736 \nQ 959 2375 959 1747 \nQ 959 1119 1226 758 \nQ 1494 397 1959 397 \nQ 2419 397 2687 759 \nQ 2956 1122 2956 1747 \nQ 2956 2369 2687 2733 \nQ 2419 3097 1959 3097 \nz\nM 1959 3584 \nQ 2709 3584 3137 3096 \nQ 3566 2609 3566 1747 \nQ 3566 888 3137 398 \nQ 2709 -91 1959 -91 \nQ 1206 -91 779 398 \nQ 353 888 353 1747 \nQ 353 2609 779 3096 \nQ 1206 3584 1959 3584 \nz\n\" transform=\"scale(0.015625)\"/>\n       <path id=\"DejaVuSans-75\" d=\"M 544 1381 \nL 544 3500 \nL 1119 3500 \nL 1119 1403 \nQ 1119 906 1312 657 \nQ 1506 409 1894 409 \nQ 2359 409 2629 706 \nQ 2900 1003 2900 1516 \nL 2900 3500 \nL 3475 3500 \nL 3475 0 \nL 2900 0 \nL 2900 538 \nQ 2691 219 2414 64 \nQ 2138 -91 1772 -91 \nQ 1169 -91 856 284 \nQ 544 659 544 1381 \nz\nM 1991 3584 \nL 1991 3584 \nz\n\" transform=\"scale(0.015625)\"/>\n       <path id=\"DejaVuSans-6e\" d=\"M 3513 2113 \nL 3513 0 \nL 2938 0 \nL 2938 2094 \nQ 2938 2591 2744 2837 \nQ 2550 3084 2163 3084 \nQ 1697 3084 1428 2787 \nQ 1159 2491 1159 1978 \nL 1159 0 \nL 581 0 \nL 581 3500 \nL 1159 3500 \nL 1159 2956 \nQ 1366 3272 1645 3428 \nQ 1925 3584 2291 3584 \nQ 2894 3584 3203 3211 \nQ 3513 2838 3513 2113 \nz\n\" transform=\"scale(0.015625)\"/>\n       <path id=\"DejaVuSans-74\" d=\"M 1172 4494 \nL 1172 3500 \nL 2356 3500 \nL 2356 3053 \nL 1172 3053 \nL 1172 1153 \nQ 1172 725 1289 603 \nQ 1406 481 1766 481 \nL 2356 481 \nL 2356 0 \nL 1766 0 \nQ 1100 0 847 248 \nQ 594 497 594 1153 \nL 594 3053 \nL 172 3053 \nL 172 3500 \nL 594 3500 \nL 594 4494 \nL 1172 4494 \nz\n\" transform=\"scale(0.015625)\"/>\n      </defs>\n      <use xlink:href=\"#DejaVuSans-43\"/>\n      <use xlink:href=\"#DejaVuSans-6f\" x=\"69.824219\"/>\n      <use xlink:href=\"#DejaVuSans-75\" x=\"131.005859\"/>\n      <use xlink:href=\"#DejaVuSans-6e\" x=\"194.384766\"/>\n      <use xlink:href=\"#DejaVuSans-74\" x=\"257.763672\"/>\n     </g>\n    </g>\n   </g>\n   <g id=\"patch_123\">\n    <path d=\"M 53.328125 273.312 \nL 53.328125 7.2 \n\" style=\"fill: none; stroke: #000000; stroke-width: 0.8; stroke-linejoin: miter; stroke-linecap: square\"/>\n   </g>\n   <g id=\"patch_124\">\n    <path d=\"M 410.448125 273.312 \nL 410.448125 7.2 \n\" style=\"fill: none; stroke: #000000; stroke-width: 0.8; stroke-linejoin: miter; stroke-linecap: square\"/>\n   </g>\n   <g id=\"patch_125\">\n    <path d=\"M 53.328125 273.312 \nL 410.448125 273.312 \n\" style=\"fill: none; stroke: #000000; stroke-width: 0.8; stroke-linejoin: miter; stroke-linecap: square\"/>\n   </g>\n   <g id=\"patch_126\">\n    <path d=\"M 53.328125 7.2 \nL 410.448125 7.2 \n\" style=\"fill: none; stroke: #000000; stroke-width: 0.8; stroke-linejoin: miter; stroke-linecap: square\"/>\n   </g>\n  </g>\n </g>\n <defs>\n  <clipPath id=\"p80ae2778c5\">\n   <rect x=\"53.328125\" y=\"7.2\" width=\"357.12\" height=\"266.112\"/>\n  </clipPath>\n </defs>\n</svg>\n"
          },
          "metadata": {}
        }
      ],
      "source": [
        "sns.histplot(bootstrapped_means_survey_2)"
      ]
    },
    {
      "cell_type": "code",
      "execution_count": null,
      "id": "26d16979",
      "metadata": {
        "id": "26d16979"
      },
      "outputs": [],
      "source": []
    },
    {
      "cell_type": "code",
      "execution_count": null,
      "id": "5065902f",
      "metadata": {
        "id": "5065902f"
      },
      "outputs": [],
      "source": []
    },
    {
      "cell_type": "code",
      "execution_count": null,
      "id": "2658df99",
      "metadata": {
        "id": "2658df99"
      },
      "outputs": [],
      "source": []
    },
    {
      "cell_type": "code",
      "execution_count": null,
      "id": "ae0bdb4c",
      "metadata": {
        "id": "ae0bdb4c",
        "outputId": "ccd26019-72ab-49a0-996d-502671c31ced",
        "colab": {
          "base_uri": "https://localhost:8080/"
        }
      },
      "outputs": [
        {
          "output_type": "execute_result",
          "data": {
            "text/plain": [
              "[35.333333333333336,\n",
              " 35.666666666666664,\n",
              " 34.333333333333336,\n",
              " 34.833333333333336,\n",
              " 35.166666666666664,\n",
              " 34.666666666666664,\n",
              " 34.666666666666664,\n",
              " 35.166666666666664,\n",
              " 33.666666666666664,\n",
              " 34.666666666666664,\n",
              " 35.0,\n",
              " 35.0,\n",
              " 35.333333333333336,\n",
              " 34.833333333333336,\n",
              " 35.0,\n",
              " 34.833333333333336,\n",
              " 35.166666666666664,\n",
              " 35.166666666666664,\n",
              " 35.666666666666664,\n",
              " 35.0,\n",
              " 34.833333333333336,\n",
              " 35.166666666666664,\n",
              " 35.5,\n",
              " 34.666666666666664,\n",
              " 33.666666666666664,\n",
              " 34.833333333333336,\n",
              " 34.166666666666664,\n",
              " 34.0,\n",
              " 35.5,\n",
              " 34.666666666666664,\n",
              " 34.5,\n",
              " 34.833333333333336,\n",
              " 34.666666666666664,\n",
              " 34.5,\n",
              " 35.166666666666664,\n",
              " 34.666666666666664,\n",
              " 35.0,\n",
              " 34.833333333333336,\n",
              " 35.166666666666664,\n",
              " 35.333333333333336,\n",
              " 34.666666666666664,\n",
              " 34.166666666666664,\n",
              " 35.0,\n",
              " 35.333333333333336,\n",
              " 35.5,\n",
              " 34.5,\n",
              " 34.5,\n",
              " 34.5,\n",
              " 34.666666666666664,\n",
              " 34.5,\n",
              " 35.166666666666664,\n",
              " 34.666666666666664,\n",
              " 35.0,\n",
              " 34.5,\n",
              " 35.333333333333336,\n",
              " 34.0,\n",
              " 35.0,\n",
              " 35.5,\n",
              " 34.666666666666664,\n",
              " 35.166666666666664,\n",
              " 35.0,\n",
              " 34.833333333333336,\n",
              " 34.833333333333336,\n",
              " 35.333333333333336,\n",
              " 34.833333333333336,\n",
              " 34.5,\n",
              " 35.5,\n",
              " 35.166666666666664,\n",
              " 34.166666666666664,\n",
              " 35.0,\n",
              " 35.333333333333336,\n",
              " 35.166666666666664,\n",
              " 34.833333333333336,\n",
              " 35.0,\n",
              " 34.5,\n",
              " 34.666666666666664,\n",
              " 34.166666666666664,\n",
              " 35.333333333333336,\n",
              " 34.5,\n",
              " 34.5,\n",
              " 34.833333333333336,\n",
              " 34.666666666666664,\n",
              " 34.166666666666664,\n",
              " 35.5,\n",
              " 35.666666666666664,\n",
              " 35.0,\n",
              " 34.833333333333336,\n",
              " 34.333333333333336,\n",
              " 35.166666666666664,\n",
              " 34.833333333333336,\n",
              " 35.166666666666664,\n",
              " 34.666666666666664,\n",
              " 34.666666666666664,\n",
              " 34.833333333333336,\n",
              " 34.166666666666664,\n",
              " 34.166666666666664,\n",
              " 35.0,\n",
              " 34.166666666666664,\n",
              " 34.666666666666664,\n",
              " 35.166666666666664,\n",
              " 34.333333333333336,\n",
              " 34.666666666666664,\n",
              " 35.166666666666664,\n",
              " 35.166666666666664,\n",
              " 34.666666666666664,\n",
              " 34.666666666666664,\n",
              " 36.166666666666664,\n",
              " 34.333333333333336,\n",
              " 34.666666666666664,\n",
              " 35.166666666666664,\n",
              " 35.166666666666664,\n",
              " 36.0,\n",
              " 35.333333333333336,\n",
              " 34.333333333333336,\n",
              " 36.0,\n",
              " 34.0,\n",
              " 33.833333333333336,\n",
              " 35.0,\n",
              " 34.666666666666664,\n",
              " 34.5,\n",
              " 34.833333333333336,\n",
              " 35.666666666666664,\n",
              " 35.0,\n",
              " 34.5,\n",
              " 34.666666666666664,\n",
              " 34.166666666666664,\n",
              " 35.666666666666664,\n",
              " 35.833333333333336,\n",
              " 35.666666666666664,\n",
              " 35.666666666666664,\n",
              " 34.333333333333336,\n",
              " 34.5,\n",
              " 34.333333333333336,\n",
              " 35.0,\n",
              " 34.333333333333336,\n",
              " 34.833333333333336,\n",
              " 34.666666666666664,\n",
              " 34.666666666666664,\n",
              " 35.5,\n",
              " 34.5,\n",
              " 35.166666666666664,\n",
              " 34.833333333333336,\n",
              " 35.5,\n",
              " 34.333333333333336,\n",
              " 34.333333333333336,\n",
              " 36.0,\n",
              " 36.0,\n",
              " 34.0,\n",
              " 35.166666666666664,\n",
              " 35.0,\n",
              " 35.166666666666664,\n",
              " 34.666666666666664,\n",
              " 35.333333333333336,\n",
              " 35.0,\n",
              " 35.0,\n",
              " 35.0,\n",
              " 34.833333333333336,\n",
              " 34.833333333333336,\n",
              " 34.333333333333336,\n",
              " 35.333333333333336,\n",
              " 35.833333333333336,\n",
              " 34.833333333333336,\n",
              " 33.833333333333336,\n",
              " 34.333333333333336,\n",
              " 34.0,\n",
              " 35.5,\n",
              " 35.0,\n",
              " 34.833333333333336,\n",
              " 34.166666666666664,\n",
              " 35.166666666666664,\n",
              " 35.833333333333336,\n",
              " 35.166666666666664,\n",
              " 34.833333333333336,\n",
              " 36.0,\n",
              " 34.833333333333336,\n",
              " 34.666666666666664,\n",
              " 34.166666666666664,\n",
              " 34.166666666666664,\n",
              " 35.333333333333336,\n",
              " 34.0,\n",
              " 34.333333333333336,\n",
              " 35.333333333333336,\n",
              " 35.333333333333336,\n",
              " 34.333333333333336,\n",
              " 34.5,\n",
              " 34.833333333333336,\n",
              " 35.833333333333336,\n",
              " 34.666666666666664,\n",
              " 35.5,\n",
              " 35.166666666666664,\n",
              " 34.666666666666664,\n",
              " 35.666666666666664,\n",
              " 35.166666666666664,\n",
              " 36.0,\n",
              " 35.0,\n",
              " 34.5,\n",
              " 35.5,\n",
              " 35.333333333333336,\n",
              " 34.333333333333336,\n",
              " 34.0,\n",
              " 35.5,\n",
              " 35.0,\n",
              " 35.0,\n",
              " 34.5,\n",
              " 34.166666666666664,\n",
              " 35.166666666666664,\n",
              " 35.166666666666664,\n",
              " 35.5,\n",
              " 34.833333333333336,\n",
              " 35.166666666666664,\n",
              " 34.666666666666664,\n",
              " 35.0,\n",
              " 34.666666666666664,\n",
              " 34.5,\n",
              " 35.0,\n",
              " 34.666666666666664,\n",
              " 35.166666666666664,\n",
              " 35.5,\n",
              " 34.166666666666664,\n",
              " 35.0,\n",
              " 34.833333333333336,\n",
              " 35.0,\n",
              " 34.666666666666664,\n",
              " 35.5,\n",
              " 35.333333333333336,\n",
              " 34.5,\n",
              " 35.5,\n",
              " 34.666666666666664,\n",
              " 34.666666666666664,\n",
              " 34.833333333333336,\n",
              " 35.333333333333336,\n",
              " 34.833333333333336,\n",
              " 34.333333333333336,\n",
              " 35.333333333333336,\n",
              " 34.5,\n",
              " 35.0,\n",
              " 35.833333333333336,\n",
              " 35.166666666666664,\n",
              " 34.833333333333336,\n",
              " 34.5,\n",
              " 34.666666666666664,\n",
              " 33.5,\n",
              " 34.666666666666664,\n",
              " 34.666666666666664,\n",
              " 34.333333333333336,\n",
              " 34.333333333333336,\n",
              " 34.666666666666664,\n",
              " 35.333333333333336,\n",
              " 35.5,\n",
              " 34.5,\n",
              " 35.166666666666664,\n",
              " 35.0,\n",
              " 35.166666666666664,\n",
              " 34.333333333333336,\n",
              " 35.666666666666664,\n",
              " 36.166666666666664,\n",
              " 34.666666666666664,\n",
              " 35.0,\n",
              " 35.333333333333336,\n",
              " 34.0,\n",
              " 35.333333333333336,\n",
              " 35.333333333333336,\n",
              " 34.833333333333336,\n",
              " 33.5,\n",
              " 33.666666666666664,\n",
              " 35.166666666666664,\n",
              " 35.166666666666664,\n",
              " 34.833333333333336,\n",
              " 34.833333333333336,\n",
              " 34.666666666666664,\n",
              " 34.333333333333336,\n",
              " 34.666666666666664,\n",
              " 35.833333333333336,\n",
              " 35.666666666666664,\n",
              " 35.666666666666664,\n",
              " 35.5,\n",
              " 34.5,\n",
              " 35.333333333333336,\n",
              " 34.666666666666664,\n",
              " 34.5,\n",
              " 34.166666666666664,\n",
              " 34.833333333333336,\n",
              " 35.5,\n",
              " 35.166666666666664,\n",
              " 34.833333333333336,\n",
              " 35.5,\n",
              " 35.166666666666664,\n",
              " 35.333333333333336,\n",
              " 35.0,\n",
              " 34.666666666666664,\n",
              " 35.5,\n",
              " 34.666666666666664,\n",
              " 34.666666666666664,\n",
              " 35.5,\n",
              " 35.166666666666664,\n",
              " 34.333333333333336,\n",
              " 34.333333333333336,\n",
              " 34.666666666666664,\n",
              " 34.333333333333336,\n",
              " 35.5,\n",
              " 34.833333333333336,\n",
              " 34.833333333333336,\n",
              " 34.0,\n",
              " 35.666666666666664,\n",
              " 35.666666666666664,\n",
              " 35.333333333333336,\n",
              " 34.166666666666664,\n",
              " 34.833333333333336,\n",
              " 35.166666666666664,\n",
              " 35.5,\n",
              " 34.833333333333336,\n",
              " 34.5,\n",
              " 35.0,\n",
              " 35.666666666666664,\n",
              " 34.666666666666664,\n",
              " 35.166666666666664,\n",
              " 34.833333333333336,\n",
              " 36.0,\n",
              " 34.5,\n",
              " 35.0,\n",
              " 35.333333333333336,\n",
              " 35.666666666666664,\n",
              " 34.833333333333336,\n",
              " 34.833333333333336,\n",
              " 34.5,\n",
              " 34.833333333333336,\n",
              " 34.5,\n",
              " 35.333333333333336,\n",
              " 34.166666666666664,\n",
              " 34.666666666666664,\n",
              " 35.833333333333336,\n",
              " 34.666666666666664,\n",
              " 34.833333333333336,\n",
              " 34.0,\n",
              " 34.833333333333336,\n",
              " 35.166666666666664,\n",
              " 35.0,\n",
              " 34.5,\n",
              " 34.833333333333336,\n",
              " 35.166666666666664,\n",
              " 35.666666666666664,\n",
              " 35.5,\n",
              " 34.833333333333336,\n",
              " 35.333333333333336,\n",
              " 34.666666666666664,\n",
              " 34.833333333333336,\n",
              " 35.0,\n",
              " 35.166666666666664,\n",
              " 34.5,\n",
              " 34.833333333333336,\n",
              " 35.0,\n",
              " 35.166666666666664,\n",
              " 35.5,\n",
              " 35.166666666666664,\n",
              " 35.666666666666664,\n",
              " 36.166666666666664,\n",
              " 34.5,\n",
              " 35.5,\n",
              " 34.0,\n",
              " 35.333333333333336,\n",
              " 35.5,\n",
              " 35.166666666666664,\n",
              " 35.166666666666664,\n",
              " 35.833333333333336,\n",
              " 36.333333333333336,\n",
              " 34.333333333333336,\n",
              " 34.833333333333336,\n",
              " 35.833333333333336,\n",
              " 35.333333333333336,\n",
              " 35.5,\n",
              " 34.166666666666664,\n",
              " 35.333333333333336,\n",
              " 34.166666666666664,\n",
              " 34.833333333333336,\n",
              " 35.333333333333336,\n",
              " 34.833333333333336,\n",
              " 34.833333333333336,\n",
              " 35.333333333333336,\n",
              " 35.333333333333336,\n",
              " 35.166666666666664,\n",
              " 35.5,\n",
              " 35.5,\n",
              " 35.666666666666664,\n",
              " 34.666666666666664,\n",
              " 34.833333333333336,\n",
              " 35.166666666666664,\n",
              " 34.166666666666664,\n",
              " 34.166666666666664,\n",
              " 36.0,\n",
              " 34.166666666666664,\n",
              " 35.833333333333336,\n",
              " 35.333333333333336,\n",
              " 35.666666666666664,\n",
              " 35.5,\n",
              " 35.5,\n",
              " 35.666666666666664,\n",
              " 34.666666666666664,\n",
              " 35.0,\n",
              " 35.166666666666664,\n",
              " 35.166666666666664,\n",
              " 35.333333333333336,\n",
              " 35.333333333333336,\n",
              " 35.0,\n",
              " 35.166666666666664,\n",
              " 35.333333333333336,\n",
              " 34.333333333333336,\n",
              " 35.166666666666664,\n",
              " 34.5,\n",
              " 35.0,\n",
              " 34.333333333333336,\n",
              " 34.833333333333336,\n",
              " 35.833333333333336,\n",
              " 34.5,\n",
              " 36.5,\n",
              " 34.5,\n",
              " 36.333333333333336,\n",
              " 34.333333333333336,\n",
              " 34.666666666666664,\n",
              " 35.0,\n",
              " 34.833333333333336,\n",
              " 35.333333333333336,\n",
              " 34.5,\n",
              " 34.5,\n",
              " 34.833333333333336,\n",
              " 35.833333333333336,\n",
              " 35.666666666666664,\n",
              " 35.166666666666664,\n",
              " 35.333333333333336,\n",
              " 35.0,\n",
              " 35.5,\n",
              " 35.0,\n",
              " 35.166666666666664,\n",
              " 35.0,\n",
              " 35.0,\n",
              " 35.666666666666664,\n",
              " 35.0,\n",
              " 35.333333333333336,\n",
              " 34.833333333333336,\n",
              " 34.5,\n",
              " 35.5,\n",
              " 34.333333333333336,\n",
              " 35.666666666666664,\n",
              " 35.833333333333336,\n",
              " 35.333333333333336,\n",
              " 34.5,\n",
              " 35.0,\n",
              " 34.5,\n",
              " 35.0,\n",
              " 35.0,\n",
              " 34.833333333333336,\n",
              " 34.833333333333336,\n",
              " 34.333333333333336,\n",
              " 35.0,\n",
              " 35.333333333333336,\n",
              " 34.5,\n",
              " 35.0,\n",
              " 34.5,\n",
              " 35.0,\n",
              " 35.666666666666664,\n",
              " 34.833333333333336,\n",
              " 34.5,\n",
              " 34.333333333333336,\n",
              " 34.833333333333336,\n",
              " 35.5,\n",
              " 35.0,\n",
              " 36.333333333333336,\n",
              " 34.833333333333336,\n",
              " 35.333333333333336,\n",
              " 34.5,\n",
              " 35.333333333333336,\n",
              " 36.0,\n",
              " 35.0,\n",
              " 34.666666666666664,\n",
              " 35.333333333333336,\n",
              " 35.666666666666664,\n",
              " 34.5,\n",
              " 34.833333333333336,\n",
              " 34.5,\n",
              " 35.333333333333336,\n",
              " 34.833333333333336,\n",
              " 34.333333333333336,\n",
              " 35.166666666666664,\n",
              " 35.166666666666664,\n",
              " 35.833333333333336,\n",
              " 35.166666666666664,\n",
              " 34.333333333333336,\n",
              " 34.166666666666664,\n",
              " 35.666666666666664,\n",
              " 35.666666666666664,\n",
              " 35.0,\n",
              " 34.166666666666664,\n",
              " 34.0,\n",
              " 34.833333333333336,\n",
              " 35.166666666666664,\n",
              " 34.5,\n",
              " 35.333333333333336,\n",
              " 34.833333333333336,\n",
              " 35.333333333333336,\n",
              " 34.166666666666664,\n",
              " 35.166666666666664,\n",
              " 35.166666666666664,\n",
              " 35.833333333333336,\n",
              " 34.166666666666664,\n",
              " 34.0,\n",
              " 34.333333333333336,\n",
              " 35.333333333333336,\n",
              " 35.166666666666664,\n",
              " 34.833333333333336,\n",
              " 35.5,\n",
              " 35.166666666666664,\n",
              " 35.0,\n",
              " 35.833333333333336,\n",
              " 34.333333333333336,\n",
              " 34.333333333333336,\n",
              " 34.5,\n",
              " 35.166666666666664,\n",
              " 34.666666666666664,\n",
              " 35.333333333333336,\n",
              " 35.0,\n",
              " 34.5,\n",
              " 35.0,\n",
              " 35.0,\n",
              " 34.5,\n",
              " 34.666666666666664,\n",
              " 35.5,\n",
              " 35.0,\n",
              " 35.666666666666664,\n",
              " 34.833333333333336,\n",
              " 35.166666666666664,\n",
              " 35.0,\n",
              " 36.0,\n",
              " 34.166666666666664,\n",
              " 35.666666666666664,\n",
              " 34.5,\n",
              " 35.166666666666664,\n",
              " 35.5,\n",
              " 34.666666666666664,\n",
              " 35.0,\n",
              " 34.833333333333336,\n",
              " 35.5,\n",
              " 35.5,\n",
              " 34.666666666666664,\n",
              " 35.333333333333336,\n",
              " 34.833333333333336,\n",
              " 35.166666666666664,\n",
              " 35.666666666666664,\n",
              " 34.666666666666664,\n",
              " 35.0,\n",
              " 35.166666666666664,\n",
              " 35.333333333333336,\n",
              " 35.5,\n",
              " 34.833333333333336,\n",
              " 34.833333333333336,\n",
              " 34.166666666666664,\n",
              " 35.5,\n",
              " 35.666666666666664,\n",
              " 35.333333333333336,\n",
              " 34.0,\n",
              " 35.0,\n",
              " 35.0,\n",
              " 34.833333333333336,\n",
              " 35.666666666666664,\n",
              " 35.0,\n",
              " 35.333333333333336,\n",
              " 34.166666666666664,\n",
              " 35.5,\n",
              " 35.166666666666664,\n",
              " 34.5,\n",
              " 34.0,\n",
              " 35.333333333333336,\n",
              " 34.666666666666664,\n",
              " 35.0,\n",
              " 35.0,\n",
              " 35.333333333333336,\n",
              " 35.333333333333336,\n",
              " 35.5,\n",
              " 35.333333333333336,\n",
              " 35.0,\n",
              " 34.833333333333336,\n",
              " 35.333333333333336,\n",
              " 35.166666666666664,\n",
              " 35.166666666666664,\n",
              " 35.166666666666664,\n",
              " 35.833333333333336,\n",
              " 35.666666666666664,\n",
              " 35.166666666666664,\n",
              " 33.833333333333336,\n",
              " 34.666666666666664,\n",
              " 34.833333333333336,\n",
              " 35.333333333333336,\n",
              " 34.833333333333336,\n",
              " 35.166666666666664,\n",
              " 34.5,\n",
              " 34.666666666666664,\n",
              " 34.666666666666664,\n",
              " 34.166666666666664,\n",
              " 35.5,\n",
              " 35.333333333333336,\n",
              " 34.666666666666664,\n",
              " 34.5,\n",
              " 35.5,\n",
              " 34.166666666666664,\n",
              " 35.166666666666664,\n",
              " 34.5,\n",
              " 34.333333333333336,\n",
              " 34.833333333333336,\n",
              " 35.166666666666664,\n",
              " 35.166666666666664,\n",
              " 34.5,\n",
              " 34.5,\n",
              " 34.5,\n",
              " 35.333333333333336,\n",
              " 34.333333333333336,\n",
              " 34.5,\n",
              " 34.5,\n",
              " 33.666666666666664,\n",
              " 35.0,\n",
              " 35.5,\n",
              " 36.0,\n",
              " 34.5,\n",
              " 35.333333333333336,\n",
              " 34.5,\n",
              " 35.5,\n",
              " 35.0,\n",
              " 35.166666666666664,\n",
              " 34.666666666666664,\n",
              " 34.5,\n",
              " 34.166666666666664,\n",
              " 35.0,\n",
              " 35.0,\n",
              " 35.833333333333336,\n",
              " 35.0,\n",
              " 34.833333333333336,\n",
              " 34.833333333333336,\n",
              " 35.166666666666664,\n",
              " 35.0,\n",
              " 35.166666666666664,\n",
              " 34.5,\n",
              " 35.0,\n",
              " 35.833333333333336,\n",
              " 34.333333333333336,\n",
              " 34.833333333333336,\n",
              " 35.666666666666664,\n",
              " 35.333333333333336,\n",
              " 35.333333333333336,\n",
              " 34.166666666666664,\n",
              " 35.0,\n",
              " 34.833333333333336,\n",
              " 35.5,\n",
              " 35.5,\n",
              " 34.666666666666664,\n",
              " 35.0,\n",
              " 34.833333333333336,\n",
              " 35.0,\n",
              " 35.166666666666664,\n",
              " 34.666666666666664,\n",
              " 34.666666666666664,\n",
              " 34.333333333333336,\n",
              " 35.0,\n",
              " 34.5,\n",
              " 35.0,\n",
              " 35.0,\n",
              " 35.333333333333336,\n",
              " 35.333333333333336,\n",
              " 35.0,\n",
              " 35.666666666666664,\n",
              " 34.166666666666664,\n",
              " 35.5,\n",
              " 35.5,\n",
              " 34.833333333333336,\n",
              " 34.333333333333336,\n",
              " 35.333333333333336,\n",
              " 35.166666666666664,\n",
              " 35.166666666666664,\n",
              " 34.833333333333336,\n",
              " 34.5,\n",
              " 34.833333333333336,\n",
              " 34.666666666666664,\n",
              " 33.833333333333336,\n",
              " 35.5,\n",
              " 35.333333333333336,\n",
              " 34.833333333333336,\n",
              " 34.333333333333336,\n",
              " 34.5,\n",
              " 34.666666666666664,\n",
              " 35.5,\n",
              " 36.0,\n",
              " 36.166666666666664,\n",
              " 35.5,\n",
              " 34.666666666666664,\n",
              " 35.0,\n",
              " 35.833333333333336,\n",
              " 34.166666666666664,\n",
              " 35.166666666666664,\n",
              " 35.166666666666664,\n",
              " 35.666666666666664,\n",
              " 35.0,\n",
              " 34.666666666666664,\n",
              " 34.833333333333336,\n",
              " 34.0,\n",
              " 35.833333333333336,\n",
              " 35.166666666666664,\n",
              " 34.5,\n",
              " 35.166666666666664,\n",
              " 35.0,\n",
              " 35.666666666666664,\n",
              " 35.5,\n",
              " 35.666666666666664,\n",
              " 34.666666666666664,\n",
              " 35.166666666666664,\n",
              " 35.5,\n",
              " 35.0,\n",
              " 34.833333333333336,\n",
              " 34.333333333333336,\n",
              " 34.833333333333336,\n",
              " 35.666666666666664,\n",
              " 35.333333333333336,\n",
              " 34.666666666666664,\n",
              " 35.5,\n",
              " 34.666666666666664,\n",
              " 35.0,\n",
              " 34.833333333333336,\n",
              " 35.0,\n",
              " 34.833333333333336,\n",
              " 35.5,\n",
              " 35.833333333333336,\n",
              " 35.166666666666664,\n",
              " 35.0,\n",
              " 35.166666666666664,\n",
              " 35.0,\n",
              " 34.5,\n",
              " 34.666666666666664,\n",
              " 35.166666666666664,\n",
              " 34.333333333333336,\n",
              " 34.833333333333336,\n",
              " 35.666666666666664,\n",
              " 34.666666666666664,\n",
              " 34.833333333333336,\n",
              " 35.5,\n",
              " 34.833333333333336,\n",
              " 34.0,\n",
              " 35.0,\n",
              " 35.0,\n",
              " 35.0,\n",
              " 35.5,\n",
              " 34.833333333333336,\n",
              " 34.666666666666664,\n",
              " 35.833333333333336,\n",
              " 33.833333333333336,\n",
              " 35.666666666666664,\n",
              " 35.166666666666664,\n",
              " 36.0,\n",
              " 35.166666666666664,\n",
              " 35.0,\n",
              " 34.5,\n",
              " 34.333333333333336,\n",
              " 35.166666666666664,\n",
              " 35.333333333333336,\n",
              " 35.0,\n",
              " 35.166666666666664,\n",
              " 35.0,\n",
              " 34.166666666666664,\n",
              " 34.833333333333336,\n",
              " 35.333333333333336,\n",
              " 35.166666666666664,\n",
              " 34.333333333333336,\n",
              " 35.0,\n",
              " 34.333333333333336,\n",
              " 34.5,\n",
              " 34.833333333333336,\n",
              " 34.833333333333336,\n",
              " 34.666666666666664,\n",
              " 35.0,\n",
              " 35.166666666666664,\n",
              " 34.833333333333336,\n",
              " 34.166666666666664,\n",
              " 36.333333333333336,\n",
              " 34.666666666666664,\n",
              " 35.0,\n",
              " 35.166666666666664,\n",
              " 34.333333333333336,\n",
              " 34.5,\n",
              " 34.5,\n",
              " 34.5,\n",
              " 34.0,\n",
              " 34.5,\n",
              " 35.5,\n",
              " 35.333333333333336,\n",
              " 35.166666666666664,\n",
              " 34.333333333333336,\n",
              " 35.666666666666664,\n",
              " 34.5,\n",
              " 35.0,\n",
              " 34.0,\n",
              " 34.833333333333336,\n",
              " 35.833333333333336,\n",
              " 34.833333333333336,\n",
              " 35.333333333333336,\n",
              " 34.666666666666664,\n",
              " 34.166666666666664,\n",
              " 34.5,\n",
              " 36.0,\n",
              " 34.333333333333336,\n",
              " 36.333333333333336,\n",
              " 34.333333333333336,\n",
              " 34.333333333333336,\n",
              " 34.666666666666664,\n",
              " 34.666666666666664,\n",
              " 35.0,\n",
              " 34.833333333333336,\n",
              " 34.833333333333336,\n",
              " 36.333333333333336,\n",
              " 35.166666666666664,\n",
              " 35.166666666666664,\n",
              " 34.0,\n",
              " 35.333333333333336,\n",
              " 34.666666666666664,\n",
              " 35.166666666666664,\n",
              " 34.833333333333336,\n",
              " 34.666666666666664,\n",
              " 35.166666666666664,\n",
              " 35.0,\n",
              " 35.0,\n",
              " 34.833333333333336,\n",
              " 34.5,\n",
              " 34.833333333333336,\n",
              " 35.833333333333336,\n",
              " 35.0,\n",
              " 35.333333333333336,\n",
              " 34.166666666666664,\n",
              " 34.5,\n",
              " 35.166666666666664,\n",
              " 34.833333333333336,\n",
              " 36.333333333333336,\n",
              " 35.833333333333336,\n",
              " 34.833333333333336,\n",
              " 34.833333333333336,\n",
              " 34.333333333333336,\n",
              " 35.0,\n",
              " 34.0,\n",
              " 34.166666666666664,\n",
              " 35.333333333333336,\n",
              " 35.166666666666664,\n",
              " 35.833333333333336,\n",
              " 36.0,\n",
              " 34.666666666666664,\n",
              " 35.166666666666664,\n",
              " 35.5,\n",
              " 34.666666666666664,\n",
              " 34.833333333333336,\n",
              " 35.666666666666664,\n",
              " 35.833333333333336,\n",
              " 35.5,\n",
              " 34.5,\n",
              " 34.166666666666664,\n",
              " 34.5,\n",
              " 34.666666666666664,\n",
              " 35.166666666666664,\n",
              " 35.5,\n",
              " 34.833333333333336,\n",
              " 34.333333333333336,\n",
              " 34.833333333333336,\n",
              " 36.166666666666664,\n",
              " 35.833333333333336,\n",
              " 36.5,\n",
              " 35.166666666666664,\n",
              " 34.666666666666664,\n",
              " 35.333333333333336,\n",
              " 34.833333333333336,\n",
              " 34.0,\n",
              " 35.0,\n",
              " 34.666666666666664,\n",
              " 34.666666666666664,\n",
              " 35.166666666666664,\n",
              " 34.5,\n",
              " 35.0,\n",
              " 34.333333333333336,\n",
              " 35.0,\n",
              " 35.333333333333336,\n",
              " 35.833333333333336,\n",
              " 34.666666666666664,\n",
              " 35.333333333333336,\n",
              " 35.166666666666664,\n",
              " 35.666666666666664,\n",
              " 34.5,\n",
              " 35.0,\n",
              " 35.166666666666664,\n",
              " 34.166666666666664,\n",
              " 35.666666666666664,\n",
              " 35.833333333333336,\n",
              " 35.333333333333336,\n",
              " 35.666666666666664,\n",
              " 34.833333333333336,\n",
              " 35.0,\n",
              " 35.0,\n",
              " 34.166666666666664,\n",
              " 35.5,\n",
              " 34.5,\n",
              " 34.833333333333336,\n",
              " 35.333333333333336,\n",
              " 34.333333333333336,\n",
              " 34.5,\n",
              " 35.0,\n",
              " 35.666666666666664,\n",
              " 35.333333333333336,\n",
              " 35.166666666666664,\n",
              " 36.0,\n",
              " 34.5,\n",
              " 36.0,\n",
              " 35.0,\n",
              " 35.5,\n",
              " 35.666666666666664,\n",
              " 36.166666666666664,\n",
              " 35.166666666666664,\n",
              " 34.166666666666664,\n",
              " 35.833333333333336,\n",
              " 34.5,\n",
              " 34.666666666666664,\n",
              " 35.166666666666664,\n",
              " 33.666666666666664,\n",
              " 34.0,\n",
              " 34.166666666666664,\n",
              " 34.166666666666664,\n",
              " 35.5,\n",
              " 35.166666666666664,\n",
              " 35.666666666666664,\n",
              " 34.666666666666664,\n",
              " 35.833333333333336,\n",
              " 36.166666666666664,\n",
              " 35.833333333333336,\n",
              " 35.333333333333336,\n",
              " 35.5,\n",
              " 34.833333333333336,\n",
              " 34.833333333333336,\n",
              " 34.666666666666664,\n",
              " 34.166666666666664,\n",
              " 34.666666666666664,\n",
              " 35.0,\n",
              " 34.666666666666664,\n",
              " 36.0,\n",
              " 34.5,\n",
              " 35.5,\n",
              " 35.5,\n",
              " 35.666666666666664,\n",
              " 34.666666666666664,\n",
              " 34.333333333333336,\n",
              " 35.0,\n",
              " 34.5,\n",
              " 34.333333333333336,\n",
              " 34.333333333333336,\n",
              " 34.666666666666664,\n",
              " 34.833333333333336,\n",
              " 35.333333333333336,\n",
              " 35.0,\n",
              " 35.166666666666664,\n",
              " 35.5,\n",
              " 34.666666666666664,\n",
              " 34.833333333333336,\n",
              " 34.833333333333336,\n",
              " 35.0,\n",
              " 34.666666666666664,\n",
              " 35.833333333333336,\n",
              " 34.833333333333336,\n",
              " 35.666666666666664,\n",
              " 35.166666666666664,\n",
              " 34.666666666666664,\n",
              " 35.333333333333336,\n",
              " 34.833333333333336,\n",
              " 34.833333333333336,\n",
              " 35.166666666666664,\n",
              " 34.833333333333336,\n",
              " 35.0,\n",
              " 34.5,\n",
              " 35.166666666666664,\n",
              " 35.5,\n",
              " 35.833333333333336,\n",
              " 35.833333333333336,\n",
              " 34.833333333333336,\n",
              " 35.833333333333336,\n",
              " 34.666666666666664,\n",
              " 35.0,\n",
              " 34.666666666666664,\n",
              " 35.0,\n",
              " 35.166666666666664,\n",
              " 34.0,\n",
              " 34.0,\n",
              " 34.833333333333336,\n",
              " 35.333333333333336,\n",
              " 36.166666666666664,\n",
              " 34.333333333333336,\n",
              " 35.166666666666664,\n",
              " 35.166666666666664,\n",
              " 36.0,\n",
              " 34.166666666666664,\n",
              " 35.166666666666664,\n",
              " 35.166666666666664,\n",
              " 35.333333333333336,\n",
              " 34.833333333333336,\n",
              " 34.5,\n",
              " 35.0,\n",
              " ...]"
            ]
          },
          "metadata": {},
          "execution_count": 68
        }
      ],
      "source": [
        "bootstrapped_means_survey_1"
      ]
    },
    {
      "cell_type": "code",
      "execution_count": null,
      "id": "00d6ee45",
      "metadata": {
        "id": "00d6ee45",
        "outputId": "36cce4f5-89da-4b8c-eddf-748dc71e3891",
        "colab": {
          "base_uri": "https://localhost:8080/"
        }
      },
      "outputs": [
        {
          "output_type": "execute_result",
          "data": {
            "text/plain": [
              "10000"
            ]
          },
          "metadata": {},
          "execution_count": 69
        }
      ],
      "source": [
        "len(bootstrapped_means_survey_1)"
      ]
    },
    {
      "cell_type": "code",
      "execution_count": null,
      "id": "7a94ebdb",
      "metadata": {
        "id": "7a94ebdb",
        "outputId": "811adb9c-2258-43da-e9fd-d9e10661cbc4",
        "colab": {
          "base_uri": "https://localhost:8080/"
        }
      },
      "outputs": [
        {
          "output_type": "execute_result",
          "data": {
            "text/plain": [
              "35.0"
            ]
          },
          "metadata": {},
          "execution_count": 70
        }
      ],
      "source": [
        "np.percentile(bootstrapped_means_survey_1, 50)"
      ]
    },
    {
      "cell_type": "code",
      "execution_count": null,
      "id": "65b8f494",
      "metadata": {
        "id": "65b8f494",
        "outputId": "ff2498fc-899f-4a91-bfc7-f7fef09db596",
        "colab": {
          "base_uri": "https://localhost:8080/"
        }
      },
      "outputs": [
        {
          "output_type": "execute_result",
          "data": {
            "text/plain": [
              "array([34., 36.])"
            ]
          },
          "metadata": {},
          "execution_count": 71
        }
      ],
      "source": [
        "## 95 % CI\n",
        "np.percentile(bootstrapped_means_survey_1, [2.5, 97.5])"
      ]
    },
    {
      "cell_type": "code",
      "execution_count": null,
      "id": "d2996e3f",
      "metadata": {
        "id": "d2996e3f",
        "outputId": "3bf8db16-d76d-457f-9d7d-0918bb6e423a",
        "colab": {
          "base_uri": "https://localhost:8080/"
        }
      },
      "outputs": [
        {
          "output_type": "execute_result",
          "data": {
            "text/plain": [
              "array([24., 46.])"
            ]
          },
          "metadata": {},
          "execution_count": 72
        }
      ],
      "source": [
        "## 95 % CI\n",
        "np.percentile(bootstrapped_means_survey_2, [2.5, 97.5])"
      ]
    },
    {
      "cell_type": "code",
      "execution_count": null,
      "id": "02754251",
      "metadata": {
        "id": "02754251",
        "colab": {
          "base_uri": "https://localhost:8080/"
        },
        "outputId": "c0e4e1f2-68b0-4ae0-a7de-d8e3691ea177"
      },
      "outputs": [
        {
          "output_type": "execute_result",
          "data": {
            "text/plain": [
              "0.012673659338734126"
            ]
          },
          "metadata": {},
          "execution_count": 74
        }
      ],
      "source": [
        "#Q1\n",
        "\n",
        "norm.cdf((875-900)/(50/np.sqrt(20)))"
      ]
    },
    {
      "cell_type": "code",
      "execution_count": null,
      "id": "57195767",
      "metadata": {
        "id": "57195767",
        "colab": {
          "base_uri": "https://localhost:8080/"
        },
        "outputId": "ae8b25e4-e901-43db-9e94-5435e9d3e6c4"
      },
      "outputs": [
        {
          "output_type": "execute_result",
          "data": {
            "text/plain": [
              "0.9771032071594303"
            ]
          },
          "metadata": {},
          "execution_count": 76
        }
      ],
      "source": [
        "#Q2\n",
        "norm.cdf((31-28)/(7/np.sqrt(50))) - norm.cdf((26-28)/(7/np.sqrt(50)))\n"
      ]
    },
    {
      "cell_type": "code",
      "execution_count": null,
      "id": "f9105998",
      "metadata": {
        "id": "f9105998",
        "colab": {
          "base_uri": "https://localhost:8080/"
        },
        "outputId": "a8234684-c327-4591-9f94-4973f321dffa"
      },
      "outputs": [
        {
          "output_type": "execute_result",
          "data": {
            "text/plain": [
              "25.568"
            ]
          },
          "metadata": {},
          "execution_count": 78
        }
      ],
      "source": [
        "#Q3\n",
        "\n",
        "24 + 1.96*8/np.sqrt(100)"
      ]
    },
    {
      "cell_type": "code",
      "execution_count": null,
      "id": "36f1ddf0",
      "metadata": {
        "id": "36f1ddf0",
        "colab": {
          "base_uri": "https://localhost:8080/"
        },
        "outputId": "16518b0e-4429-4bcb-f0e1-7f9ce4002f39"
      },
      "outputs": [
        {
          "output_type": "execute_result",
          "data": {
            "text/plain": [
              "73.04003601545995"
            ]
          },
          "metadata": {},
          "execution_count": 82
        }
      ],
      "source": [
        "#Q5\n",
        "\n",
        "x1 = 75 + norm.ppf(0.025)* 10 / np.sqrt(100)\n",
        "x1"
      ]
    },
    {
      "cell_type": "code",
      "execution_count": null,
      "id": "c12f3fb2",
      "metadata": {
        "id": "c12f3fb2",
        "colab": {
          "base_uri": "https://localhost:8080/"
        },
        "outputId": "fd8d6b65-1bf2-4c62-a54c-11f6303bbe41"
      },
      "outputs": [
        {
          "output_type": "execute_result",
          "data": {
            "text/plain": [
              "76.95996398454005"
            ]
          },
          "metadata": {},
          "execution_count": 84
        }
      ],
      "source": [
        "x2 = 75 + norm.ppf(0.975)*10/np.sqrt(100)\n",
        "x2"
      ]
    },
    {
      "cell_type": "code",
      "execution_count": null,
      "id": "17e26cba",
      "metadata": {
        "id": "17e26cba",
        "colab": {
          "base_uri": "https://localhost:8080/"
        },
        "outputId": "d4f4ebff-6a45-46a2-c6ad-493210b97d86"
      },
      "outputs": [
        {
          "output_type": "execute_result",
          "data": {
            "text/plain": [
              "163.68411709843883"
            ]
          },
          "metadata": {},
          "execution_count": 85
        }
      ],
      "source": [
        "#Q6\n",
        "\n",
        "x1 = 165 + norm.ppf(0.05)*8/np.sqrt(100)\n",
        "x1"
      ]
    },
    {
      "cell_type": "code",
      "execution_count": null,
      "id": "cf68dff2",
      "metadata": {
        "id": "cf68dff2",
        "colab": {
          "base_uri": "https://localhost:8080/"
        },
        "outputId": "4801684b-28a4-4a98-8753-772f7808c4d2"
      },
      "outputs": [
        {
          "output_type": "execute_result",
          "data": {
            "text/plain": [
              "166.31588290156117"
            ]
          },
          "metadata": {},
          "execution_count": 86
        }
      ],
      "source": [
        "x2 = 165 + norm.ppf(0.95)*8/np.sqrt(100)\n",
        "x2"
      ]
    },
    {
      "cell_type": "code",
      "execution_count": null,
      "id": "04db7cbb",
      "metadata": {
        "id": "04db7cbb"
      },
      "outputs": [],
      "source": []
    },
    {
      "cell_type": "code",
      "execution_count": null,
      "id": "fb92be45",
      "metadata": {
        "id": "fb92be45"
      },
      "outputs": [],
      "source": []
    }
  ],
  "metadata": {
    "kernelspec": {
      "display_name": "Python 3 (ipykernel)",
      "language": "python",
      "name": "python3"
    },
    "language_info": {
      "codemirror_mode": {
        "name": "ipython",
        "version": 3
      },
      "file_extension": ".py",
      "mimetype": "text/x-python",
      "name": "python",
      "nbconvert_exporter": "python",
      "pygments_lexer": "ipython3",
      "version": "3.9.12"
    },
    "colab": {
      "provenance": [],
      "include_colab_link": true
    }
  },
  "nbformat": 4,
  "nbformat_minor": 5
}